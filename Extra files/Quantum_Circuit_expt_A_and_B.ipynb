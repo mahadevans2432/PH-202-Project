{
 "cells": [
  {
   "cell_type": "code",
   "execution_count": 1,
   "id": "incorrect-pledge",
   "metadata": {},
   "outputs": [
    {
     "name": "stdout",
     "output_type": "stream",
     "text": [
      "Succesful import\n"
     ]
    }
   ],
   "source": [
    "# Useful additional packages\n",
    "import matplotlib.pyplot as plt\n",
    "%matplotlib inline\n",
    "import numpy as np\n",
    "from math import pi\n",
    "from qiskit import *\n",
    "from qiskit import QuantumCircuit, ClassicalRegister, QuantumRegister, execute\n",
    "from qiskit.tools.visualization import circuit_drawer\n",
    "from qiskit.quantum_info import state_fidelity\n",
    "from qiskit import BasicAer\n",
    "from IPython.display import clear_output\n",
    "\n",
    "from sympy import Matrix\n",
    "from IPython.display import display, Math, Latex\n",
    "clear_output()\n",
    "\n",
    "print('Succesful import')"
   ]
  },
  {
   "cell_type": "code",
   "execution_count": 2,
   "id": "expensive-acceptance",
   "metadata": {},
   "outputs": [],
   "source": [
    "def addkeys(dictionary): #Housekeeping function, replaces all missing values with 0\n",
    "    expectedkeys = ['00','01','10','11']\n",
    "    for key in expectedkeys:\n",
    "        if key in dictionary:\n",
    "            pass\n",
    "        else:\n",
    "            dictionary[key] = 0\n",
    "    return dictionary"
   ]
  },
  {
   "cell_type": "code",
   "execution_count": 3,
   "id": "operating-function",
   "metadata": {},
   "outputs": [
    {
     "name": "stdout",
     "output_type": "stream",
     "text": [
      "{'01': 100, '00': 1000, '10': 0, '11': 0}\n"
     ]
    }
   ],
   "source": [
    "a = addkeys({'01':100,'00':1000})\n",
    "print(a)"
   ]
  },
  {
   "cell_type": "markdown",
   "id": "breathing-scheme",
   "metadata": {},
   "source": [
    "## Interpretation of Model\n",
    "<p>The first qubit (indexed by 0) refers to the polarisation DOF and the second qubit (index 1) refers to the parity DOF. We will take the $|1\\rangle$ state of polarity to mean pure V-polarisation and $|0\\rangle$ state to mean pure H-polarisation. Similarly, we take the $|0\\rangle$ and $|1\\rangle$ states of the parity qubit to mean purely even and purely odd mode, respectively.</p>\n",
    "<table>\n",
    "    <tr><td>Parity-polarisation state</td><td>Qubit configuration</td></tr>\n",
    "    <tr><td>He</td><td>00</td></tr>\n",
    "    <tr><td>Ho</td><td>01</td></tr>\n",
    "    <tr><td>Te</td><td>10</td></tr>\n",
    "    <tr><td>To</td><td>11</td></tr>\n",
    "</table>\n",
    "<p>Further, we will always use any ancilla qubits we need, to replicate the probabilistic devices (like random rotator or probabilistic PS-SLM) to be the initial qubits, the second last qubit will represent polarisation, and the last qubit represents parity.</p>"
   ]
  },
  {
   "cell_type": "code",
   "execution_count": 4,
   "id": "sound-width",
   "metadata": {},
   "outputs": [],
   "source": [
    "def SLM(phi,qc,ancilla_used = 0):\n",
    "    qc.rx(-phi,ancilla_used+1)\n",
    "    return\n",
    "#For HWP, by observing the 2x2 matrix, we see that the operator looks like Ry(theta)*sigma_Z \n",
    "def HWP(theta,qc,ancilla_used = 0):\n",
    "    qc.z(ancilla_used)\n",
    "    qc.ry(theta,ancilla_used)\n",
    "    return\n",
    "\n",
    "#for PS-SLM, we want the H-polarisation to induce an SLM action, but not V. So, if polarisation qubit is 0 (H), we want the\n",
    "#controlled gate to fire. So we first invert (NOT or X gate) the control bit, use a usual controlled gate, then invert it \n",
    "#again.\n",
    "def PSSLM(phi,qc,ancilla_used=0):\n",
    "    qc.x(ancilla_used)\n",
    "    qc.crx(-phi,ancilla_used,ancilla_used+1) #angle,control,target\n",
    "    qc.x(ancilla_used)\n",
    "    return"
   ]
  },
  {
   "cell_type": "code",
   "execution_count": 3,
   "id": "noticed-dispute",
   "metadata": {},
   "outputs": [
    {
     "data": {
      "image/png": "[encoded data removed]",
      "text/plain": [
       "<Figure size 748.652x204.68 with 1 Axes>"
      ]
     },
     "execution_count": 3,
     "metadata": {},
     "output_type": "execute_result"
    }
   ],
   "source": [
    "#Quantum Circuit Diagram\n",
    "qcA = QuantumCircuit(2,2)\n",
    "qcA.h(0)\n",
    "qcA.x(1)\n",
    "qcA.barrier() #initialisation complete, 45 degre linearly polarised even mode\n",
    "PSSLM(pi/3,qcA) #no ancilla\n",
    "qcA.barrier() #beam is coupled, now on to analysis stage\n",
    "HWP(pi/4,qcA)\n",
    "SLM(pi/6,qcA)\n",
    "qcA.barrier()#Analysis stage complete. Now, measurement stage\n",
    "qcA.measure(0,0)\n",
    "qcA.measure(1,1)\n",
    "qcA.draw()"
   ]
  },
  {
   "cell_type": "code",
   "execution_count": 47,
   "id": "immune-avenue",
   "metadata": {},
   "outputs": [],
   "source": [
    "def CA(theta_a,phi_a,phi):\n",
    "    N = 10000 #Number of shots\n",
    "    qcA=QuantumCircuit(2,2)\n",
    "    qcA.h(0)\n",
    "    qcA.x(1)\n",
    "    qcA.barrier() #initialisation complete, 45 degre linearly polarised even mode\n",
    "    PSSLM(phi,qcA) #no ancilla\n",
    "    qcA.barrier() #beam is coupled, now on to analysis stage\n",
    "    HWP(theta_a,qcA)\n",
    "    SLM(phi_a,qcA)\n",
    "    qcA.barrier()#Analysis stage complete. Now, measurement stage\n",
    "    qcA.measure(0,0)\n",
    "    qcA.measure(1,1)\n",
    "    backend = Aer.get_backend('qasm_simulator') # we choose the simulator as our backend\n",
    "    result = execute(qcA, backend, shots = N).result() # we run the simulation\n",
    "    counts = addkeys(result.get_counts()) # we get the counts and do the housekeeping\n",
    "    corr = (counts['00']+counts['11']-counts['10']-counts['01'])/N\n",
    "    #return corr,counts\n",
    "    return corr"
   ]
  },
  {
   "cell_type": "code",
   "execution_count": 12,
   "id": "copyrighted-attack",
   "metadata": {},
   "outputs": [],
   "source": [
    "def RandomRot(qc,ancillary_used=0):\n",
    "    theta = np.random.uniform(low=0,high=2*pi)\n",
    "    qc.z(ancillary_used)\n",
    "    qc.ry(theta,ancillary_used)\n",
    "    return"
   ]
  },
  {
   "cell_type": "code",
   "execution_count": 13,
   "id": "grateful-indicator",
   "metadata": {},
   "outputs": [
    {
     "data": {
      "image/png": "[encoded data removed]",
      "text/plain": [
       "<Figure size 869.052x204.68 with 1 Axes>"
      ]
     },
     "execution_count": 13,
     "metadata": {},
     "output_type": "execute_result"
    }
   ],
   "source": [
    "qcB = QuantumCircuit(2,2)\n",
    "qcB.h(0)\n",
    "qcB.x(1)\n",
    "qcB.barrier() #have generated input beam. Now on to the synthesis stage.\n",
    "RandomRot(qcB)\n",
    "PSSLM(pi/3,qcB)\n",
    "qcB.barrier() #Now, analysis stage\n",
    "HWP(pi/4,qcB)\n",
    "SLM(pi/6,qcB)\n",
    "qcB.barrier()#Analysis stage complete. Now, measurement stage\n",
    "qcB.measure(0,0)\n",
    "qcB.measure(1,1)\n",
    "qcB.draw()"
   ]
  },
  {
   "cell_type": "code",
   "execution_count": 31,
   "id": "objective-google",
   "metadata": {},
   "outputs": [],
   "source": [
    "def CB(theta_a,phi_a,phi):\n",
    "    N = 2000\n",
    "    count00 = 0\n",
    "    count01 = 0\n",
    "    count10 = 0\n",
    "    count11 = 0\n",
    "    for i in range(N):\n",
    "        qcB = QuantumCircuit(2,2)\n",
    "        qcB.h(0)\n",
    "        qcB.x(1)\n",
    "        qcB.barrier() #have generated input beam. Now on to the synthesis stage.\n",
    "        RandomRot(qcB)\n",
    "        PSSLM(phi,qcB)\n",
    "        qcB.barrier() #Now, analysis stage\n",
    "        HWP(theta_a,qcB)\n",
    "        SLM(phi_a,qcB)\n",
    "        qcB.barrier()#Analysis stage complete. Now, measurement stage\n",
    "        qcB.measure(0,0)\n",
    "        qcB.measure(1,1)\n",
    "        backend = Aer.get_backend('qasm_simulator') # we choose the simulator as our backend\n",
    "        result = execute(qcB, backend, shots = 1).result() # we run the simulation\n",
    "        counts = addkeys(result.get_counts()) # we get the counts and do the housekeeping\n",
    "        count00 += counts['00']\n",
    "        count01 += counts['01']\n",
    "        count10 += counts['10']\n",
    "        count11 += counts['11']\n",
    "    #print(count00,count01,count10,count11)\n",
    "    corr = (count00+count11-count01-count10)/N\n",
    "    return corr"
   ]
  },
  {
   "cell_type": "code",
   "execution_count": 33,
   "id": "amazing-disability",
   "metadata": {},
   "outputs": [
    {
     "data": {
      "text/plain": [
       "-0.01"
      ]
     },
     "execution_count": 33,
     "metadata": {},
     "output_type": "execute_result"
    }
   ],
   "source": [
    "CB(0,0,0)"
   ]
  },
  {
   "cell_type": "code",
   "execution_count": null,
   "id": "chronic-bonus",
   "metadata": {},
   "outputs": [],
   "source": [
    "#This cell does not work, numpy arrays are a pain for qiskit\n",
    "phi_fixed = pi/2\n",
    "points = 50\n",
    "ta_range = np.linspace(0,2*pi,points)\n",
    "pa_range = np.linspace(0,2*pi,points)\n",
    "X,Y = np.meshgrid(ta_range, pa_range)\n",
    "for i in len\n",
    "    Z = CA(ta_range,pa_range,phi_fixed)\n",
    "fig,ax=plt.subplots(1,1)\n",
    "cp = ax.contourf(X, Y, Z)\n",
    "fig.colorbar(cp) # Add a colorbar to a plot\n",
    "plt.xlim(0,2*np.pi)\n",
    "plt.ylim(0,2*np.pi)\n",
    "ax.axis('equal')"
   ]
  }
 ],
 "metadata": {
  "kernelspec": {
   "display_name": "Python 3",
   "language": "python",
   "name": "python3"
  },
  "language_info": {
   "codemirror_mode": {
    "name": "ipython",
    "version": 3
   },
   "file_extension": ".py",
   "mimetype": "text/x-python",
   "name": "python",
   "nbconvert_exporter": "python",
   "pygments_lexer": "ipython3",
   "version": "3.8.8"
  }
 },
 "nbformat": 4,
 "nbformat_minor": 5
}
