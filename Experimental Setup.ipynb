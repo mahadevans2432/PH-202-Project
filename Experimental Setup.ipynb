{
 "cells": [
  {
   "cell_type": "markdown",
   "metadata": {},
   "source": [
    "# Experimental Setup"
   ]
  },
  {
   "cell_type": "markdown",
   "metadata": {},
   "source": [
    "For the experimental setup, we are using various separate components, which we will comment on one by one before seeing how they are arranged together for the experiment in this paper. We can develop a matrix operator formalism based on how these elements affect the vector $\\mathbf{J} = [E_{He} \\ E_{Ho} \\ E_{Ve} \\ E_{Vo}]$. Suppoe we have a device that modifies the Jones vector of a beam in the following way - $\\mathbf{J_{new}} = \\mathbf{A}\\mathbf{J_{old}}$. Then, the corresponding $\\mathbf{G} = \\langle \\mathbf{J^*J^T}\\rangle$ tranforms as $\\mathbf{G_{new} = A^*G_{old}A^T}$. This is because, assuming that the effect of the device, encoded in matrix $\\mathbf{A}$  is time independent, the matrix can just move inside the time average. And as we will see below, for all the devices used in this experiment, their effect is time invariant."
   ]
  },
  {
   "cell_type": "markdown",
   "metadata": {},
   "source": [
    "# Polarisation-Only Elements"
   ]
  },
  {
   "cell_type": "markdown",
   "metadata": {},
   "source": [
    "## Waveplates\n",
    "<p>The first element we will look at is a half-wave plate. Suppose we have a half-wave plate whose axis is inclined at angle $\\theta$ to the $+x$ axis. Then, it will add a phase of $\\pi$ to the component of the amplitude along its axis, with respect to the component perpendicular to the axis. In other words, if the component of E field along the axis will be effectively multiplied by $e^{i\\pi} = (-1)$.</p> \n",
    "<p> Suppose the in-going beam is described by a polarisation-only Jones vector $J_{pol} = [E_x \\ E_y]^T$. Then the (complex) amplitude is $E_x\\hat{x} + E_y\\hat{y} = (E_{x}\\cos\\theta + E_y\\sin\\theta)\\hat{\\theta_{\\parallel}} + (E_{x}\\sin\\theta - E_y\\cos\\theta) \\hat{\\theta_{\\perp}}$. So after adding a phase multiplier factor of $e^{i\\pi} = -1$ to the $\\hat{\\theta_{\\parallel}}$ component, the new complex amplitude is $$(-E_{x}\\cos\\theta - E_y\\sin\\theta)\\hat{\\theta_{\\parallel}} +  (E_{x}\\sin\\theta - E_y\\cos\\theta) \\hat{\\theta_{\\perp}} = (\\cos\\theta \\ (-E_{x}\\cos\\theta - E_y\\sin\\theta)+ \\sin\\theta(E_{x}\\sin\\theta - E_y\\cos\\theta))\\hat{x} + (\\sin\\theta \\ (-E_{x}\\cos\\theta - E_y\\sin\\theta)- \\cos\\theta(E_{x}\\sin\\theta - E_y\\cos\\theta))\\hat{y} \\\\ = [E_x(\\sin^2\\theta-\\cos^2\\theta) - E_y(2\\sin\\theta\\cos\\theta) \\qquad{} -E_x(2\\sin\\theta\\cos\\theta)  Ey(\\cos^2\\theta -\\sin^2\\theta)] \\\\ =[-E_x\\cos(2\\theta) - E_y\\sin(2\\theta) \\qquad{} -E_x\\sin(2\\theta)+E_y\\cos(2\\theta)]$$"
   ]
  },
  {
   "cell_type": "markdown",
   "metadata": {},
   "source": [
    "We can write this more compactly in a 2x2 matrix - \n",
    "$$\\begin{pmatrix}-cos(2\\theta) & -sin(2\\theta) \\\\ -\\sin(2\\theta) & cos(2\\theta)\\end{pmatrix}\\begin{pmatrix}E_x \\\\ E_y\\end{pmatrix}_{old} = \\begin{pmatrix}E_x \\\\ E_y\\end{pmatrix}_{new}$$"
   ]
  },
  {
   "cell_type": "markdown",
   "metadata": {},
   "source": [
    "<p>When we are dealing with our 4 dimensional Jones vector, to generate the corresponding 4x4 HWP operator matrix, we\\e can propose a 4x4 operator matrix. But before we spell it out, a few changes in notation are in order, to follow the same general notation as the paper. </p>\n",
    "<ol>\n",
    "    <li>The angle of rotation is denoted as $\\frac{\\theta}{2}$ instead of $\\theta$ so that there is no ugly factor of             $2$ in the transformation matrix.</li>\n",
    "    <li>The axis, with respect to which the angle $\\frac{\\theta}{2}$ is to be measured is not specified in the paper. Two reasonable guesses are either the X axis (upwards vertical, as shown in the figure) or the horizontal axis (-y axis in the figure). In either case, we get the same matrix except with a phase factor of $e^{i\\pi} = -1$. But that does not change the intensity measurement, since we are only interested in the long time average and we are not using two different beams (so the phase is truly a global phase, and affects nothing at all). So this is a moot point for single beam operation. The exact phase also depends on what additional phase the plate adds to the slow axis, which we are not accounting for, anyway.\n",
    " \n",
    "</ol>"
   ]
  },
  {
   "cell_type": "markdown",
   "metadata": {},
   "source": [
    "Since our Jones vector is $J = J_{pol}\\otimes J_{par}$, and our HWP does not affect the parity DOF at all (in other words, acts like an identity transformation), we can write it as a tensor product - \n",
    "$$A_{HWP}\\left(\\frac{\\theta}{2}\\right) = \\begin{pmatrix}-cos(\\theta) & -sin(\\theta) \\\\ -\\sin(\\theta) & cos(\\theta)\\end{pmatrix}\\otimes\\begin{pmatrix} 1&0 \\\\ 0&1\\end{pmatrix}=\\begin{pmatrix}\n",
    "-\\cos\\theta & 0 & -\\sin\\theta & 0 \\\\ \n",
    "0 &-\\cos\\theta&0&-\\sin\\theta \\\\\n",
    "-\\sin\\theta &0 & \\cos\\theta & 0 \\\\\n",
    "0 & -\\sin\\theta &0 & \\cos\\theta\n",
    "\\end{pmatrix} $$"
   ]
  },
  {
   "cell_type": "markdown",
   "metadata": {},
   "source": [
    "To account for the global phase added, along the slow axis, we only need to multiply this matrix by a phase factor of $e^{i\\phi}$ where $\\phi$ is the slow axis phase added."
   ]
  },
  {
   "cell_type": "markdown",
   "metadata": {},
   "source": [
    "## Polarising Beam Splitter"
   ]
  },
  {
   "cell_type": "markdown",
   "metadata": {},
   "source": [
    "This is an element that separates out the H and V polarised beams from the input beam. There is no operator matrix associated with it, it simply separates out the two beams, without affecting parity at all. One point to note here - as we describe below, a mirror will add a factor of (-1) to odd modes, so the component which gets reflected will pick up that factor here as well. We can either correct this with a second reflection of that beam from a $45^\\circ$ mirror to correct it or not do anything at all about it (in the experimental setup in the paper seen as a whole, we can see that it won't matter the odd and even beams will be switched, but that is about it.)"
   ]
  },
  {
   "cell_type": "markdown",
   "metadata": {},
   "source": [
    "## Parity Sensitive Devices - Dove Prism"
   ]
  },
  {
   "cell_type": "markdown",
   "metadata": {},
   "source": [
    "<p> We know that a mirror inverts left-right. So if we put an odd beam through the mirror, it will pick up a factor of (-1) from the + and - axes being inverted (i.e. -x being mapped to x). </p>\n",
    "<p> The operator (parity only, polarisation plays no role) associated to a mirror is $$\\begin{pmatrix}-1 & 0 \\\\ 0 & 1\\end{pmatrix}\\begin{pmatrix}e \\\\ o \\end{pmatrix}_{old} = \\begin{pmatrix}e \\\\ o \\end{pmatrix}_{new}$$ An additional -1 factor is added as a global phase, because of the phase change on reflecting.</p>\n",
    "<img width=\"40%\" src='Mirror_and_Parity.png'>"
   ]
  },
  {
   "cell_type": "markdown",
   "metadata": {},
   "source": [
    "One thing about mirrors which is particularly inconvenient is that the incoming and outgoing beam does not travel in the same direction, so we cannot conveniently include a mirror in the arm of a Mach-Zehnder interferometer easily, for example. To make our life simple, we use a dove prism, which is a trapezoid shaped prism, that the light beam enters, undergoes TIR on one surface of it and exits travelling in the same direction as incoming beam. It performs the same matrix operation as a mirror, but is more convenient to use. One aspect to be careful of (that can be easily overcome) is that there is a phase change because the beam travels through the glass/ material of the prism, but that can be easily dealt with by using a compensator cell in the other arm. Aother important aspect of a Dove prism - since the wave incidence medium is denser and the transmission medium is rarer (unlike a regular mirror), there is no addition $\\pi$ phase of reflection, and the operator matrix is simply $$\\begin{pmatrix}1 & 0 \\\\ 0 & -1\\end{pmatrix}\\begin{pmatrix}e \\\\ o \\end{pmatrix}_{old} = \\begin{pmatrix}e \\\\ o \\end{pmatrix}_{new}$$\n",
    "<img width = \"50%\" src='Dove_prism.png'>"
   ]
  },
  {
   "cell_type": "markdown",
   "metadata": {},
   "source": [
    "## Mach Zehnder Interferometer\n",
    "<img src='MZI.png'><center>A schematic of a MZI, self drawn</center>\n",
    "<p> In this arrangement, the beam splitters are polarisation insensitive, so there is no polarisation discrimination. First let us consider a MZI with no dove prism (and no compensation cell). Suppose the only input beam is given from In1. Then, the left beam suffers two rarer-denser reflections and the same is the case with the right beam, as they come out from Out2. Hence, we have constructive interference at Out2. Whereas, as Out1, the left beam still has same phase (the reflection at exit beam splitter is denser-rarer, so no phase change) while the right beam has one reflection only, so the interference is destructive.</p>\n",
    "<p>With a dove prism in place, the odd mode undergoes one extra inversion in the left path, so its constructive/destructive outputs are now exactly swapped. As a result, if we send in a superposition of odd and even modes into In1, the odd mode comes out from Out1, while the even mode comes out from Out2 (just as if no prism were there). Conversely, if we send in the beam from In2, the odd mode will come out from Out2 and the even mode from Out1.</p>"
   ]
  },
  {
   "cell_type": "markdown",
   "metadata": {},
   "source": [
    "Hence we can think of two uses of this MZI arrangement - \n",
    "<ol> <li> To split a superposed beam into its odd and even components, send this beam in from one of the inputs only and the odd and even parity modes are separated.</li>\n",
    "    <li> If we have a odd parity beam and an even parity beam, we can add them (make a superposed state) by sending in the odd beam in In1, the even beam from In2, and then getting the superposed beam out, from Out1.\n",
    "       </ol>\n",
    "       In the experiment performed in the paper, the authors concern themselves only with the first use."
   ]
  },
  {
   "cell_type": "markdown",
   "metadata": {},
   "source": [
    "## SLMs and PS-SLMs\n",
    "A SLM is a spatial light modulator. In general, this term refers to any device that modifies the beam in a space dependent fashion. In the context of this experiment, the SLM they use (Hamamatsu X10468-02) is an array of liquid crystal pixels, each of whose refractive index can be controlled independently by applying a voltage, in such a way, that we add a desired phase to the light passing through each pixel, and the phase in each pixel is independent of the others."
   ]
  },
  {
   "cell_type": "markdown",
   "metadata": {},
   "source": [
    "<p>Suppose we send a beam through a SLM which adds a $x$-dependant phase $\\frac{\\phi}{2}sgn(x)$ to the electric field (global phase does not matter here, by the way. Only relative phase/ difference in phase between top and bottom half being $\\phi$ is what matters.) Then, we are effectively multiplying the old profile $E_{old}(x)$ by $e^{\\iota\\frac{\\phi}{2}sgn(x)}$, to get new profile $E_{new}(x)$. Observe that $e^{\\iota\\frac{\\phi}{2}sgn(x)} = cos(\\frac{\\phi}{2})+ \\iota sgn(x)sin(\\frac{\\phi}{2})$. So, with $E_{old}(x) = e(x)+o(x)$, we can get $E_{new}(x) = (e(x)+o(x))(cos(\\phi/2)+\\iota sgn(x)sin(\\phi/2)) = [cos(\\phi/2)e(x) + \\iota sin(\\phi/2) sgn(x)o(x)] + [cos(\\phi/2)o(x) + \\iota sin(\\phi/2) sgn(x)e(x)]$. </p>\n",
    "<p>Observe that the first term in the new expression is even while the second term is odd, which means that they are the new even and odd decomposition (which is unique). We can re-express this as $\\begin{pmatrix}cos(\\phi/2) & \\iota sin(\\phi/2) \\\\ \\iota sin(\\phi/2) & cos(\\phi/2) \\end{pmatrix}\\begin{pmatrix}e_{old} \\\\ o_{old}\\end{pmatrix} = \\begin{pmatrix}e_{new} \\\\ o_{new}\\end{pmatrix}$ to make it look more like the transformation caused by a half wave plate, but for the parity DOF. In particular, observe that if we set $\\phi = \\pi$ then the matrix shown looks like a Pauli $\\sigma_x$ matrix (times the constant $\\iota$)- it swaps the $o$ and $e$ bases."
   ]
  },
  {
   "cell_type": "markdown",
   "metadata": {},
   "source": [
    "Further, to obtain the 4x4 transformation matrix, we again do a tensor product - \n",
    "$$A_{par}\\left(\\frac{\\phi}{2}\\right) = \\begin{pmatrix}1 & 0 \\\\ 0 & 1\\end{pmatrix}\\otimes\\begin{pmatrix} \\cos(\\phi/2)&i\\sin(\\phi/2) \\\\ i\\sin(\\phi/2) &\\cos(\\phi/2)\\end{pmatrix}=\\begin{pmatrix}\n",
    "\\cos(\\phi/2)&i\\sin(\\phi/2) & 0& 0\\\\ i\\sin(\\phi/2) &\\cos(\\phi/2) &0 & 0\\\\\n",
    "0&0&\\cos(\\phi/2)&i\\sin(\\phi/2) \\\\ 0&0&i\\sin(\\phi/2) &\\cos(\\phi/2)\n",
    "\\end{pmatrix} $$\n",
    "\n",
    "Again, the rationale is that since there is no polarisation effect, that part of the first matrix is identity."
   ]
  },
  {
   "cell_type": "markdown",
   "metadata": {},
   "source": [
    "The liquid crystals can be acted on by a electric field in two directions, so that the refractive index of a single pixel itself is non-isotropic. This leads to polarisation-sensitive behaviour of the pixels. For example, if we take a SLM that adds a phase of $\\frac{\\phi}{2}sgn(x)$ only to the H-polarisation while leaving the V polarisation unchanged. In this case, we can simply modify the above operator matrix to look like $$A_{PS-SLM}\\left(\\frac{\\phi}{2}\\right) =\\begin{pmatrix}\n",
    "\\cos(\\phi/2)&i\\sin(\\phi/2) & 0& 0\\\\ i\\sin(\\phi/2) &\\cos(\\phi/2) &0 & 0\\\\\n",
    "0&0&1&0 \\\\ 0&0&0 &1\n",
    "\\end{pmatrix} $$"
   ]
  },
  {
   "cell_type": "markdown",
   "metadata": {},
   "source": [
    "## General Observations About the operator matrices\n",
    "We can see the following properties about the matrix formalism we have developed.\n",
    "<ol><li> The matrices are all unitary. $AA^\\dagger = A^\\dagger A = \\mathbb{I}$. This is expected, because if we take a completely incoherent beam in phase as well as parity, then no device will be able to change it, and the $G$ matrix for a completely incoherent mode is a scalar multiple of identity.</li>\n",
    "    <li> The matrices corresponding to a rotated HWP and to a polarisation-insensitive SLM commute. This is expected because each of these devices is expected to modify only one DOF.</li>\n",
    "    </ol>"
   ]
  },
  {
   "cell_type": "code",
   "execution_count": 11,
   "metadata": {},
   "outputs": [],
   "source": [
    "from sympy import *\n",
    "ta,pa = symbols('theta_a phi_a',real=True)"
   ]
  },
  {
   "cell_type": "code",
   "execution_count": 12,
   "metadata": {},
   "outputs": [],
   "source": [
    "A_HWP = Matrix([[-cos(ta),0,-sin(ta),0],[0,-cos(ta),0,-sin(ta)],[-sin(ta),0,cos(ta),0],\n",
    "              [0,-sin(ta),0,cos(ta)]])\n",
    "A_SLM = Matrix([[cos(pa/2),I*sin(pa/2),0,0],[I*sin(pa/2),cos(pa/2),0,0],[0,0,cos(pa/2),I*sin(pa/2)],\n",
    "             [0,0,I*sin(pa/2),cos(pa/2)]])\n",
    "A_PSSLM = Matrix([[cos(pa/2),I*sin(pa/2),0,0],[I*sin(pa/2),cos(pa/2),0,0],[0,0,1,0],\n",
    "             [0,0,0,1]]) "
   ]
  },
  {
   "cell_type": "code",
   "execution_count": 15,
   "metadata": {},
   "outputs": [
    {
     "data": {
      "text/latex": [
       "$\\displaystyle \\left[\\begin{matrix}1 & 0 & 0 & 0\\\\0 & 1 & 0 & 0\\\\0 & 0 & 1 & 0\\\\0 & 0 & 0 & 1\\end{matrix}\\right]$"
      ],
      "text/plain": [
       "Matrix([\n",
       "[1, 0, 0, 0],\n",
       "[0, 1, 0, 0],\n",
       "[0, 0, 1, 0],\n",
       "[0, 0, 0, 1]])"
      ]
     },
     "execution_count": 15,
     "metadata": {},
     "output_type": "execute_result"
    }
   ],
   "source": [
    "trigsimp(A_SLM*conjugate(A_SLM.T)) #A_SLM is unitary"
   ]
  },
  {
   "cell_type": "code",
   "execution_count": 16,
   "metadata": {},
   "outputs": [
    {
     "data": {
      "text/latex": [
       "$\\displaystyle \\left[\\begin{matrix}1 & 0 & 0 & 0\\\\0 & 1 & 0 & 0\\\\0 & 0 & 1 & 0\\\\0 & 0 & 0 & 1\\end{matrix}\\right]$"
      ],
      "text/plain": [
       "Matrix([\n",
       "[1, 0, 0, 0],\n",
       "[0, 1, 0, 0],\n",
       "[0, 0, 1, 0],\n",
       "[0, 0, 0, 1]])"
      ]
     },
     "execution_count": 16,
     "metadata": {},
     "output_type": "execute_result"
    }
   ],
   "source": [
    "trigsimp(A_PSSLM*conjugate(A_PSSLM.T)) #A_PSSLM is unitary"
   ]
  },
  {
   "cell_type": "code",
   "execution_count": 17,
   "metadata": {},
   "outputs": [
    {
     "data": {
      "text/latex": [
       "$\\displaystyle \\left[\\begin{matrix}1 & 0 & 0 & 0\\\\0 & 1 & 0 & 0\\\\0 & 0 & 1 & 0\\\\0 & 0 & 0 & 1\\end{matrix}\\right]$"
      ],
      "text/plain": [
       "Matrix([\n",
       "[1, 0, 0, 0],\n",
       "[0, 1, 0, 0],\n",
       "[0, 0, 1, 0],\n",
       "[0, 0, 0, 1]])"
      ]
     },
     "execution_count": 17,
     "metadata": {},
     "output_type": "execute_result"
    }
   ],
   "source": [
    "trigsimp(A_HWP*conjugate(A_HWP.T)) #A_HWP is unitary"
   ]
  },
  {
   "cell_type": "code",
   "execution_count": 19,
   "metadata": {},
   "outputs": [
    {
     "data": {
      "text/latex": [
       "$\\displaystyle \\left[\\begin{matrix}0 & 0 & 0 & 0\\\\0 & 0 & 0 & 0\\\\0 & 0 & 0 & 0\\\\0 & 0 & 0 & 0\\end{matrix}\\right]$"
      ],
      "text/plain": [
       "Matrix([\n",
       "[0, 0, 0, 0],\n",
       "[0, 0, 0, 0],\n",
       "[0, 0, 0, 0],\n",
       "[0, 0, 0, 0]])"
      ]
     },
     "execution_count": 19,
     "metadata": {},
     "output_type": "execute_result"
    }
   ],
   "source": [
    "trigsimp(A_HWP*A_SLM - A_SLM*A_HWP) #A_SLM and A_HWP commute"
   ]
  },
  {
   "cell_type": "markdown",
   "metadata": {},
   "source": [
    "## Proposal for a Parity-Sensitive Polarisation Modifier\n",
    "<p> In the main paper, one of the loose ends that the authors do not seem to have addressed is that polarity seems to have a special place in this qubits scheme, in the sense that controlled gates can be made only with polarity as a control qubit (no parity controlled gates/devices are proposed). Here, we wish to present the design of a parity controlled device, that can be used to implement the controlled version of any possible (ordinarily) parity-insensitive device. "
   ]
  },
  {
   "cell_type": "markdown",
   "metadata": {},
   "source": [
    "<p>The main idea is to use the second use of the MZI. Suppose you are given an input beam and you want to perform a controlled-HWP operation on that (we have already seen uncontrolled HWP earlier). Then, the idea is to split up the input beam into the odd and even components with an MZI and then recombine them with a second MZI. In this way, a parity-controlled operation can be performed. The below image shows a schematic for a parity-sensitive HWP.</p>\n",
    "<img src='Parity_sensitive_HWP.png'>\n",
    "<p> An important use of this idea will be to bring the line of thought presented in the paper to a logical conclusion - suppose we start with a purely even mode but completely unpolarised beam. Then, by coupling the parity to the polarisation, we can generate a coupled-DOF beam. To convert this beam to a completely polarised, parity-incoherent beam, we would need to implement a parity-controlled polarisation operation, which this section proposes a theoretical solution to accomplishing. One major issue still here, is that stacking two MZI's could be a challenge, in view of the difficulty of alignment."
   ]
  }
 ],
 "metadata": {
  "kernelspec": {
   "display_name": "Python 3",
   "language": "python",
   "name": "python3"
  },
  "language_info": {
   "codemirror_mode": {
    "name": "ipython",
    "version": 3
   },
   "file_extension": ".py",
   "mimetype": "text/x-python",
   "name": "python",
   "nbconvert_exporter": "python",
   "pygments_lexer": "ipython3",
   "version": "3.7.4"
  }
 },
 "nbformat": 4,
 "nbformat_minor": 4
}
