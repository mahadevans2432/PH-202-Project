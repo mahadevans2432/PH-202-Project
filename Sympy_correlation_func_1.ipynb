{
 "cells": [
  {
   "cell_type": "code",
   "execution_count": 8,
   "metadata": {},
   "outputs": [],
   "source": [
    "import numpy as np\n",
    "import matplotlib.pyplot as plt\n",
    "from numpy import linalg\n",
    "from sympy import *\n",
    "from sympy.physics.quantum.dagger import Dagger"
   ]
  },
  {
   "cell_type": "markdown",
   "metadata": {},
   "source": [
    "## 4. Experimental results and derivations\n",
    "The paper \\[topic2\\] describes three experiments A, B and C. Here we will derive the theoretical expressions they use for fitting their data using the SymPy package."
   ]
  },
  {
   "cell_type": "code",
   "execution_count": 71,
   "metadata": {},
   "outputs": [],
   "source": [
    "import numpy as np\n",
    "import matplotlib.pyplot as plt\n",
    "from matplotlib.widgets import Slider, Button, RadioButtons\n",
    "from ipywidgets import interact, interactive, fixed, interact_manual\n",
    "import ipywidgets as widgets\n",
    "from mpl_toolkits.mplot3d import axes3d\n",
    "from sympy import *\n",
    "from sympy.physics.quantum.dagger import Dagger\n",
    "import seaborn as sns\n",
    "from IPython.display import clear_output\n",
    "import warnings\n",
    "warnings.filterwarnings('ignore')"
   ]
  },
  {
   "cell_type": "code",
   "execution_count": 9,
   "metadata": {},
   "outputs": [],
   "source": [
    "t,p,ta,pa,tb,pb = symbols('theta varphi theta_a varphi_a theta_b varphi_b',real=True)\n",
    "A_HWP = Matrix([[-cos(ta/2),0,-sin(ta/2),0],[0,-cos(ta/2),0,-sin(ta/2)],[-sin(ta/2),0,cos(ta/2),0],\n",
    "              [0,-sin(ta/2),0,cos(ta/2)]])\n",
    "A_SLM = Matrix([[cos(pa/2),I*sin(pa/2),0,0],[I*sin(pa/2),cos(pa/2),0,0],[0,0,cos(pa/2),I*sin(pa/2)],\n",
    "             [0,0,I*sin(pa/2),cos(pa/2)]])\n",
    "A_PSSLM = Matrix([[cos(pa/2),I*sin(pa/2),0,0],[I*sin(pa/2),cos(pa/2),0,0],[0,0,1,0],\n",
    "             [0,0,0,1]]) \n",
    "\n",
    "def trace_G(G): #A trace function for just 4x4 G matrices\n",
    "    return simplify(G[0,0] + G[1,1] + G[2,2] + G[3,3])\n",
    "def corr_prob(G): #Returns the value I_He - I_Ho - I_Ve +I_Vo from given G matrix\n",
    "    return simplify(G[0,0] - G[1,1] - G[2,2] + G[3,3])\n",
    "\n",
    "def par_tr_G_pol(G): #returns the partial trace of G for giving G_pol\n",
    "    return simplify(Matrix([[G[0,0]+G[1,1],G[0,2]+G[1,3]],[G[2,0]+G[3,1],G[2,2]+G[3,3]]]))\n",
    "\n",
    "def par_tr_G_par(G): #returns the partial trace of G for giving G_par\n",
    "    return Matrix([[G[0,0]+G[2,2],G[0,1]+G[2,3]],[G[1,0]+G[3,2],G[1,1]+G[3,3]]])\n",
    "\n",
    "def app_coh(G): #Returns apparent degree of coherence for a 2x2 G matrix\n",
    "    return simplify(sqrt(1-4*simplify(Determinant(G))/(simplify(Trace(G))**2)))\n",
    "\n",
    "def norm_grad(B,syms):\n",
    "    c = 0\n",
    "    for i in syms:\n",
    "        c += simplify(B.diff(i)**2)\n",
    "    return simplify(c)"
   ]
  },
  {
   "cell_type": "markdown",
   "metadata": {},
   "source": [
    "### 4.1 Experiment A\n",
    "Here the field is competely coherent and we start with the Jones vector in state $\\mathbf{J} = (1/\\sqrt{2})[\\cos(\\varphi/2)\\text{ }\\iota\\sin(\\varphi/2)\\text{ 1 0}]^T$ which is reached by applying the PS-SLM on the input state of $\\mathbf{J}_{in} = (1/\\sqrt{2})[\\text{1 0 1 0}]^T$. On this we then apply the rotation of basis by $\\theta_a$ for polarization and of $\\varphi_a$ for parity and then conduct measurements of each component. Based on our previous definitions we now derive the correlation function for this experiment."
   ]
  },
  {
   "cell_type": "code",
   "execution_count": 10,
   "metadata": {},
   "outputs": [
    {
     "data": {
      "text/latex": [
       "$\\displaystyle \\left[\\begin{matrix}0.5 \\cos^{2}{\\left(\\frac{\\varphi}{2} \\right)} & 0.25 i \\sin{\\left(\\varphi \\right)} & 0.5 \\cos{\\left(\\frac{\\varphi}{2} \\right)} & 0\\\\- 0.25 i \\sin{\\left(\\varphi \\right)} & 0.5 \\sin^{2}{\\left(\\frac{\\varphi}{2} \\right)} & - 0.5 i \\sin{\\left(\\frac{\\varphi}{2} \\right)} & 0\\\\0.5 \\cos{\\left(\\frac{\\varphi}{2} \\right)} & 0.5 i \\sin{\\left(\\frac{\\varphi}{2} \\right)} & 0.5 & 0\\\\0 & 0 & 0 & 0\\end{matrix}\\right]$"
      ],
      "text/plain": [
       "Matrix([\n",
       "[0.5*cos(varphi/2)**2,   0.25*I*sin(varphi),    0.5*cos(varphi/2), 0],\n",
       "[ -0.25*I*sin(varphi), 0.5*sin(varphi/2)**2, -0.5*I*sin(varphi/2), 0],\n",
       "[   0.5*cos(varphi/2),  0.5*I*sin(varphi/2),                  0.5, 0],\n",
       "[                   0,                    0,                    0, 0]])"
      ]
     },
     "execution_count": 3,
     "metadata": {},
     "output_type": "execute_result"
    }
   ],
   "source": [
    "J = sqrt(1/2)*Matrix([cos(p/2),I*sin(p/2),1,0])\n",
    "G_A = trigsimp(conjugate(J)*J.T)\n",
    "G_A #The input beam G matrix before the transformations"
   ]
  },
  {
   "cell_type": "code",
   "execution_count": 4,
   "metadata": {},
   "outputs": [
    {
     "data": {
      "text/latex": [
       "$\\displaystyle \\left[\\begin{matrix}0.5 & 0.5 \\cos{\\left(\\frac{\\varphi}{2} \\right)}\\\\0.5 \\cos{\\left(\\frac{\\varphi}{2} \\right)} & 0.5\\end{matrix}\\right]$"
      ],
      "text/plain": [
       "Matrix([\n",
       "[              0.5, 0.5*cos(varphi/2)],\n",
       "[0.5*cos(varphi/2),               0.5]])"
      ]
     },
     "execution_count": 4,
     "metadata": {},
     "output_type": "execute_result"
    }
   ],
   "source": [
    "G_pol_A = par_tr_G_pol(G_A)\n",
    "G_pol_A"
   ]
  },
  {
   "cell_type": "code",
<<<<<<< HEAD
   "execution_count": 15,
=======
   "execution_count": 5,
>>>>>>> 240720c848b96ded3f247ada811a6e7c7eb4dad9
   "metadata": {},
   "outputs": [
    {
     "data": {
      "text/latex": [
<<<<<<< HEAD
       "$\\displaystyle \\left[\\begin{matrix}\\cos^{2}{\\left(\\frac{\\phi}{2} \\right)} & \\frac{i \\sin{\\left(\\phi \\right)}}{2} & 0 & 0\\\\- \\frac{i \\sin{\\left(\\phi \\right)}}{2} & \\sin^{2}{\\left(\\frac{\\phi}{2} \\right)} & 0 & 0\\\\0 & 0 & 1 & 0\\\\0 & 0 & 0 & 0\\end{matrix}\\right]$"
      ],
      "text/plain": [
       "Matrix([\n",
       "[cos(phi/2)**2,  I*sin(phi)/2, 0, 0],\n",
       "[-I*sin(phi)/2, sin(phi/2)**2, 0, 0],\n",
       "[            0,             0, 1, 0],\n",
       "[            0,             0, 0, 0]])"
      ]
     },
     "execution_count": 15,
=======
       "$\\displaystyle 1.0 \\left|{\\cos{\\left(\\frac{\\varphi}{2} \\right)}}\\right|$"
      ],
      "text/plain": [
       "1.0*Abs(cos(varphi/2))"
      ]
     },
     "execution_count": 5,
>>>>>>> 240720c848b96ded3f247ada811a6e7c7eb4dad9
     "metadata": {},
     "output_type": "execute_result"
    }
   ],
   "source": [
<<<<<<< HEAD
    "trigsimp(GB)"
=======
    "app_coh(G_pol_A)# Prints D_pol"
>>>>>>> 240720c848b96ded3f247ada811a6e7c7eb4dad9
   ]
  },
  {
   "cell_type": "code",
<<<<<<< HEAD
   "execution_count": 11,
=======
   "execution_count": 6,
>>>>>>> 240720c848b96ded3f247ada811a6e7c7eb4dad9
   "metadata": {},
   "outputs": [
    {
     "data": {
      "text/latex": [
<<<<<<< HEAD
       "$\\displaystyle \\left[\\begin{matrix}2 \\sin{\\left(\\frac{\\theta_{a}}{2} \\right)} \\cos{\\left(\\frac{\\phi_{a}}{2} \\right)} \\cos{\\left(\\frac{\\theta_{a}}{2} \\right)} \\cos{\\left(\\frac{\\phi + \\phi_{a}}{2} \\right)} & \\frac{i \\left(\\cos{\\left(\\frac{\\phi}{2} + \\phi_{a} - \\theta_{a} \\right)} - \\cos{\\left(\\frac{\\phi}{2} + \\phi_{a} + \\theta_{a} \\right)}\\right)}{4} & - \\frac{\\cos{\\left(\\frac{\\phi}{2} - \\theta_{a} \\right)}}{4} - \\frac{\\cos{\\left(\\frac{\\phi}{2} + \\theta_{a} \\right)}}{4} - \\frac{\\cos{\\left(\\frac{\\phi}{2} + \\phi_{a} - \\theta_{a} \\right)}}{4} - \\frac{\\cos{\\left(\\frac{\\phi}{2} + \\phi_{a} + \\theta_{a} \\right)}}{4} & \\frac{i \\left(2 \\sin{\\left(\\frac{\\phi}{2} \\right)} - \\sin{\\left(\\frac{\\phi}{2} + \\phi_{a} - \\theta_{a} \\right)} - \\sin{\\left(\\frac{\\phi}{2} + \\phi_{a} + \\theta_{a} \\right)}\\right)}{4}\\\\\\frac{i \\left(- \\cos{\\left(\\frac{\\phi}{2} + \\phi_{a} - \\theta_{a} \\right)} + \\cos{\\left(\\frac{\\phi}{2} + \\phi_{a} + \\theta_{a} \\right)}\\right)}{4} & 2 \\sin{\\left(\\frac{\\phi_{a}}{2} \\right)} \\sin{\\left(\\frac{\\theta_{a}}{2} \\right)} \\sin{\\left(\\frac{\\phi + \\phi_{a}}{2} \\right)} \\cos{\\left(\\frac{\\theta_{a}}{2} \\right)} & \\frac{i \\left(2 \\sin{\\left(\\frac{\\phi}{2} \\right)} + \\sin{\\left(\\frac{\\phi}{2} + \\phi_{a} - \\theta_{a} \\right)} + \\sin{\\left(\\frac{\\phi}{2} + \\phi_{a} + \\theta_{a} \\right)}\\right)}{4} & - \\frac{\\cos{\\left(\\frac{\\phi}{2} - \\theta_{a} \\right)}}{4} - \\frac{\\cos{\\left(\\frac{\\phi}{2} + \\theta_{a} \\right)}}{4} + \\frac{\\cos{\\left(\\frac{\\phi}{2} + \\phi_{a} - \\theta_{a} \\right)}}{4} + \\frac{\\cos{\\left(\\frac{\\phi}{2} + \\phi_{a} + \\theta_{a} \\right)}}{4}\\\\- \\frac{\\cos{\\left(\\frac{\\phi}{2} - \\theta_{a} \\right)}}{4} - \\frac{\\cos{\\left(\\frac{\\phi}{2} + \\theta_{a} \\right)}}{4} - \\frac{\\cos{\\left(\\frac{\\phi}{2} + \\phi_{a} - \\theta_{a} \\right)}}{4} - \\frac{\\cos{\\left(\\frac{\\phi}{2} + \\phi_{a} + \\theta_{a} \\right)}}{4} & - \\frac{i \\left(2 \\sin{\\left(\\frac{\\phi}{2} \\right)} + \\sin{\\left(\\frac{\\phi}{2} + \\phi_{a} - \\theta_{a} \\right)} + \\sin{\\left(\\frac{\\phi}{2} + \\phi_{a} + \\theta_{a} \\right)}\\right)}{4} & - 2 \\sin{\\left(\\frac{\\theta_{a}}{2} \\right)} \\cos{\\left(\\frac{\\phi_{a}}{2} \\right)} \\cos{\\left(\\frac{\\theta_{a}}{2} \\right)} \\cos{\\left(\\frac{\\phi + \\phi_{a}}{2} \\right)} & \\frac{i \\left(- \\cos{\\left(\\frac{\\phi}{2} + \\phi_{a} - \\theta_{a} \\right)} + \\cos{\\left(\\frac{\\phi}{2} + \\phi_{a} + \\theta_{a} \\right)}\\right)}{4}\\\\\\frac{i \\left(- 2 \\sin{\\left(\\frac{\\phi}{2} \\right)} + \\sin{\\left(\\frac{\\phi}{2} + \\phi_{a} - \\theta_{a} \\right)} + \\sin{\\left(\\frac{\\phi}{2} + \\phi_{a} + \\theta_{a} \\right)}\\right)}{4} & - \\frac{\\cos{\\left(\\frac{\\phi}{2} - \\theta_{a} \\right)}}{4} - \\frac{\\cos{\\left(\\frac{\\phi}{2} + \\theta_{a} \\right)}}{4} + \\frac{\\cos{\\left(\\frac{\\phi}{2} + \\phi_{a} - \\theta_{a} \\right)}}{4} + \\frac{\\cos{\\left(\\frac{\\phi}{2} + \\phi_{a} + \\theta_{a} \\right)}}{4} & \\frac{i \\left(\\cos{\\left(\\frac{\\phi}{2} + \\phi_{a} - \\theta_{a} \\right)} - \\cos{\\left(\\frac{\\phi}{2} + \\phi_{a} + \\theta_{a} \\right)}\\right)}{4} & - 2 \\sin{\\left(\\frac{\\phi_{a}}{2} \\right)} \\sin{\\left(\\frac{\\theta_{a}}{2} \\right)} \\sin{\\left(\\frac{\\phi + \\phi_{a}}{2} \\right)} \\cos{\\left(\\frac{\\theta_{a}}{2} \\right)}\\end{matrix}\\right]$"
      ],
      "text/plain": [
       "Matrix([\n",
       "[                                                 2*sin(theta_a/2)*cos(phi_a/2)*cos(theta_a/2)*cos((phi + phi_a)/2),                                                  I*(cos(phi/2 + phi_a - theta_a) - cos(phi/2 + phi_a + theta_a))/4, -cos(phi/2 - theta_a)/4 - cos(phi/2 + theta_a)/4 - cos(phi/2 + phi_a - theta_a)/4 - cos(phi/2 + phi_a + theta_a)/4,                                   I*(2*sin(phi/2) - sin(phi/2 + phi_a - theta_a) - sin(phi/2 + phi_a + theta_a))/4],\n",
       "[                                                I*(-cos(phi/2 + phi_a - theta_a) + cos(phi/2 + phi_a + theta_a))/4,                                                  2*sin(phi_a/2)*sin(theta_a/2)*sin((phi + phi_a)/2)*cos(theta_a/2),                                   I*(2*sin(phi/2) + sin(phi/2 + phi_a - theta_a) + sin(phi/2 + phi_a + theta_a))/4, -cos(phi/2 - theta_a)/4 - cos(phi/2 + theta_a)/4 + cos(phi/2 + phi_a - theta_a)/4 + cos(phi/2 + phi_a + theta_a)/4],\n",
       "[-cos(phi/2 - theta_a)/4 - cos(phi/2 + theta_a)/4 - cos(phi/2 + phi_a - theta_a)/4 - cos(phi/2 + phi_a + theta_a)/4,                                  -I*(2*sin(phi/2) + sin(phi/2 + phi_a - theta_a) + sin(phi/2 + phi_a + theta_a))/4,                                                 -2*sin(theta_a/2)*cos(phi_a/2)*cos(theta_a/2)*cos((phi + phi_a)/2),                                                 I*(-cos(phi/2 + phi_a - theta_a) + cos(phi/2 + phi_a + theta_a))/4],\n",
       "[                                 I*(-2*sin(phi/2) + sin(phi/2 + phi_a - theta_a) + sin(phi/2 + phi_a + theta_a))/4, -cos(phi/2 - theta_a)/4 - cos(phi/2 + theta_a)/4 + cos(phi/2 + phi_a - theta_a)/4 + cos(phi/2 + phi_a + theta_a)/4,                                                  I*(cos(phi/2 + phi_a - theta_a) - cos(phi/2 + phi_a + theta_a))/4,                                                 -2*sin(phi_a/2)*sin(theta_a/2)*sin((phi + phi_a)/2)*cos(theta_a/2)]])"
      ]
     },
     "execution_count": 11,
=======
       "$\\displaystyle \\left[\\begin{matrix}0.5 \\cos^{2}{\\left(\\frac{\\varphi}{2} \\right)} + 0.5 & 0.25 i \\sin{\\left(\\varphi \\right)}\\\\- 0.25 i \\sin{\\left(\\varphi \\right)} & 0.5 \\sin^{2}{\\left(\\frac{\\varphi}{2} \\right)}\\end{matrix}\\right]$"
      ],
      "text/plain": [
       "Matrix([\n",
       "[0.5*cos(varphi/2)**2 + 0.5,   0.25*I*sin(varphi)],\n",
       "[       -0.25*I*sin(varphi), 0.5*sin(varphi/2)**2]])"
      ]
     },
     "execution_count": 6,
     "metadata": {},
     "output_type": "execute_result"
    }
   ],
   "source": [
    "G_par_A = par_tr_G_par(G_A)\n",
    "G_par_A"
   ]
  },
  {
   "cell_type": "code",
   "execution_count": 7,
   "metadata": {},
   "outputs": [
    {
     "data": {
      "text/latex": [
       "$\\displaystyle 0.707106781186548 \\sqrt{\\cos{\\left(\\varphi \\right)} + 1}$"
      ],
      "text/plain": [
       "0.707106781186548*sqrt(cos(varphi) + 1)"
      ]
     },
     "execution_count": 7,
>>>>>>> 240720c848b96ded3f247ada811a6e7c7eb4dad9
     "metadata": {},
     "output_type": "execute_result"
    }
   ],
   "source": [
<<<<<<< HEAD
    "trigsimp(GoutA-GoutB)"
=======
    "app_coh(G_par_A)# Prints D_par"
>>>>>>> 240720c848b96ded3f247ada811a6e7c7eb4dad9
   ]
  },
  {
   "cell_type": "code",
<<<<<<< HEAD
   "execution_count": 16,
   "metadata": {},
   "outputs": [],
   "source": [
    "Gout=GoutA"
   ]
  },
  {
   "cell_type": "code",
   "execution_count": 17,
=======
   "execution_count": null,
   "metadata": {},
   "outputs": [],
   "source": []
  },
  {
   "cell_type": "code",
   "execution_count": 8,
>>>>>>> 240720c848b96ded3f247ada811a6e7c7eb4dad9
   "metadata": {},
   "outputs": [
    {
     "data": {
      "text/latex": [
<<<<<<< HEAD
       "$\\displaystyle \\sin{\\left(\\theta_{a} \\right)} \\cos{\\left(\\frac{\\phi}{2} + \\phi_{a} \\right)} - \\frac{\\cos{\\left(\\phi_{a} \\right)} \\cos{\\left(\\theta_{a} \\right)}}{2} + \\frac{\\cos{\\left(\\theta_{a} \\right)} \\cos{\\left(\\phi + \\phi_{a} \\right)}}{2}$"
      ],
      "text/plain": [
       "sin(theta_a)*cos(phi/2 + phi_a) - cos(phi_a)*cos(theta_a)/2 + cos(theta_a)*cos(phi + phi_a)/2"
      ]
     },
     "execution_count": 17,
=======
       "$\\displaystyle 1.0 \\sin{\\left(\\theta_{a} \\right)} \\cos{\\left(\\frac{\\varphi}{2} + \\varphi_{a} \\right)} - 0.5 \\cos{\\left(\\theta_{a} \\right)} \\cos{\\left(\\varphi_{a} \\right)} + 0.5 \\cos{\\left(\\theta_{a} \\right)} \\cos{\\left(\\varphi + \\varphi_{a} \\right)}$"
      ],
      "text/plain": [
       "1.0*sin(theta_a)*cos(varphi/2 + varphi_a) - 0.5*cos(theta_a)*cos(varphi_a) + 0.5*cos(theta_a)*cos(varphi + varphi_a)"
      ]
     },
     "execution_count": 8,
>>>>>>> 240720c848b96ded3f247ada811a6e7c7eb4dad9
     "metadata": {},
     "output_type": "execute_result"
    }
   ],
   "source": [
    "G_out_A = conjugate(A_SLM)*conjugate(A_HWP)*G_A*A_HWP.T*A_SLM.T #Transformed matrix\n",
    "C_ta_pa_A = trigsimp(corr_prob(G_out_A)/trace_G(G_out_A))\n",
    "C_ta_pa_A"
   ]
  },
  {
   "cell_type": "code",
<<<<<<< HEAD
   "execution_count": 18,
=======
   "execution_count": 9,
>>>>>>> 240720c848b96ded3f247ada811a6e7c7eb4dad9
   "metadata": {},
   "outputs": [
    {
     "data": {
      "text/latex": [
       "$\\displaystyle - \\left(1 - \\sin{\\left(\\frac{\\varphi}{2} \\right)}\\right) \\sin{\\left(\\theta_{a} \\right)} \\cos{\\left(\\frac{\\varphi}{2} + \\varphi_{a} \\right)} - 1.0 \\sin{\\left(\\theta_{a} \\right)} \\cos{\\left(\\frac{\\varphi}{2} + \\varphi_{a} \\right)} - \\sin{\\left(\\frac{\\varphi}{2} \\right)} \\sin{\\left(- \\theta_{a} + \\frac{\\varphi}{2} + \\varphi_{a} \\right)} + 0.5 \\cos{\\left(\\theta_{a} \\right)} \\cos{\\left(\\varphi_{a} \\right)} - 0.5 \\cos{\\left(\\theta_{a} \\right)} \\cos{\\left(\\varphi + \\varphi_{a} \\right)}$"
      ],
      "text/plain": [
       "-(1 - sin(varphi/2))*sin(theta_a)*cos(varphi/2 + varphi_a) - 1.0*sin(theta_a)*cos(varphi/2 + varphi_a) - sin(varphi/2)*sin(-theta_a + varphi/2 + varphi_a) + 0.5*cos(theta_a)*cos(varphi_a) - 0.5*cos(theta_a)*cos(varphi + varphi_a)"
      ]
     },
<<<<<<< HEAD
     "execution_count": 18,
=======
     "execution_count": 9,
>>>>>>> 240720c848b96ded3f247ada811a6e7c7eb4dad9
     "metadata": {},
     "output_type": "execute_result"
    }
   ],
   "source": [
    "expected = sin(p/2)*sin(ta-pa-p/2) - (1-sin(p/2))*cos(pa+p/2)*sin(ta)\n",
    "trigsimp(expected-C_ta_pa_A)#Not matching :("
   ]
  },
  {
   "cell_type": "code",
<<<<<<< HEAD
   "execution_count": 26,
=======
   "execution_count": 39,
>>>>>>> 240720c848b96ded3f247ada811a6e7c7eb4dad9
   "metadata": {},
   "outputs": [
    {
     "data": {
<<<<<<< HEAD
      "image/png": "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\n",
=======
      "text/plain": [
       "(0.0, 6.283185307179586, 0.0, 6.283185307179586)"
      ]
     },
     "execution_count": 39,
     "metadata": {},
     "output_type": "execute_result"
    },
    {
     "data": {
      "image/png": "iVBORw0KGgoAAAANSUhEUgAAAWIAAAD8CAYAAABNR679AAAABHNCSVQICAgIfAhkiAAAAAlwSFlzAAALEgAACxIB0t1+/AAAADh0RVh0U29mdHdhcmUAbWF0cGxvdGxpYiB2ZXJzaW9uMy4yLjAsIGh0dHA6Ly9tYXRwbG90bGliLm9yZy8GearUAAAgAElEQVR4nO2dfZBlZX3nP196GBHlRXcQxnnJoEsA14rKdsAsuwYF3BEtx1SRLCa66GrNWhVc3d2UgtZuaje1u5NKVVaqQmS7BhRLIiGjxlmdRZENRVJRMjNIRBjRERHaAYdRdNANTgZ++8c9Ha+X233P23Oe5znn96nq6nvufe45T093f+bbv/O8yMxwHMdx4nFM7A44juMMHRex4zhOZFzEjuM4kXERO47jRMZF7DiOExkXseM4TmRcxI7jOGNI2izpfkn7JV055fWTJP1vSX8r6V5Jb298TR9H7DiOM0LSHPAN4GJgEdgNvNnM7htr8wHgJDN7v6RTgPuB08zsSN3reiJ2HMf5GecC+83sgUKsNwFbJtoYcIIkAc8FfgAcbXLRVU3evBxr1qyxTZs2hTg1AN+4/9GZbZ46TrXP/9Tqau1tdbW/Klavrvc9O3HVk7XelxuHjx5X631HjlT7cdaRaj8jczXzztyT+f7V+Ytnnhb0/Hv37j1kZqc0Oce/uOA4e/wHT5dqe+89f38vMP6LtGBmC2PH64CHx44XgfMmTvNHwE7gAHAC8K/MrFwHliGIiDdt2sSePXtCnBqAC1/9P1Z8/Ucvflat8z7xC9Xl/dON1X47N61/rPI1lrj4tK/Xfm8u3ProWbXe9+Bitd/lZz1U8X9b4ITv1BPqSd/6aa33pcBtf3FV0PNL+k7Tczz+g6f55OfWlGp71sZHnjSz+ZW6NOW5yW/8vwTuBl4DvBi4VdJfmtnhUp2YQhARx6KugKEbCTvLU1fAkLaEnexYBDaMHa9nlHzHeTuwzUY32PZL+jZwFvA3dS/amxpxDhL2NDydLiVchyYSzjkND5TdwBmSTpe0GriMURlinIeACwEknQqcCTzQ5KLZJ+ImAoY8JNxXmggY6km4ahr2JDwszOyopCuAzwNzwPVmdq+kdxWvXwv8HvBRSfcwKmW838wONblu1iIeioT7mIZjpOA6JYkmeBrOEzPbBeyaeO7asccHgNe2ec0sRRxDwOA14TaIkYLB68JVafo75lSjlIglnQxsB17K6A7ivzGzL4XsWCi6lrCXJEY0FTC4hLvCJdw9ZRPx1cAtZnZpUcA+PmCfgpGjhPtQlogl4bqliDYknGNZwgUcj5kilnQi8CrgbQDFbJOs/kavK2DwJNyE3FIwDDMJu4DjUyYRvwh4DPiIpJcBe4H3mNlPxhtJ2gpsBdi4cWPb/axNjHpwWxLONQ23IWDIV8K5pGEXcDqUGUe8CjgH+LCZvQL4CfCMFYnMbMHM5s1s/pRTwo/tnMUTv6CsJZwjtz56VmspOFcJ58CPXvwsl3BilEnEi8Cimd1ZHO9giohTIkYpAtqVcE5puK0EDM0maLiEV8blmy4zRWxmj0p6WNKZZnY/oxkl9816XwyaCBjSkXAu5C5gaF/CKZYlXMDpU3bUxLuBG4sREw8wmmudFLFSMAxPwm0KGPoj4ZRw+eZFKRGb2d3ASisWRSNmCoYwEk6xLNG2fKH5OhGpSTiFNOwCzpMsZ9ZBPwWcIiEEDPFSMPQzCbuA8yZLEfdZwqmk4RQFDOlKOEYaDinfpr9jTjWyFHFd2lgros8SDiVfiC9g6E8SdgH3j8GIOHUJxyRlAUO6KXiJLtJwF6UHl3A8ei/iXATcdRoOKd8lhpCCQ0vYBTwMei1il/AzyUHAkIeEQ+ICHha9FHEuAobuJOwCbp+203BXIx9cwOnRKxG3tXB7XyTchXyhvX3jhirhLoeeuYTTpDcizikFQ1gJdyVgGF4KhvYk7AJOE0mbGa3BPgdsN7NtU9pcAHwIOBY4ZGa/2uSa2Ys4NwFDOAkPUcCQl4S7nnjhAq6GpDngGuBiRgue7Za008zuG2tzMvDHwGYze0jSC5peN1sR51aGWKJtCXcpXxhmGWKJnCTsAq7NucB+M3sAQNJNwBZ+fqGz3wQ+ZWYPAZjZwaYXzVLEnoJH5JaAwQXcBW1IeMAb5a4DHh47XgTOm2jzi8Cxkm4HTgCuNrOPNbloliJuggu4Ol6GqIcLuBsef+p4dhw+p2Trz62RtGfsiQUzWxg7nvaPOPlDtwr4p4yWBH428CVJXzazb5Tu9JQTDobcb8a5gLuhjZtxOZYhcpRwDQ6Z2UorSS4CG8aO1wMHprQ5VGwX9xNJdwAvA1zEK5G7gMHLEF0w1NEQAxFwWXYDZ0g6HfgucBmjmvA4nwH+SNIqYDWj0sX/bHLRXovYxwNXJ5UUnKOAIa9JGS7gZ2JmRyVdAXye0fC1683sXknvKl6/1sz2SboF+CrwNKMhbl9rct1eirgvAoa8JmUMWcDgEu4LZrYL2DXx3LUTx38A/EFb1+yViH1diHoMScKhFunJZW0IF3Ca9EbEoSXsq6NNZ+gChjwk7AJOm+xF3DcBd0UKEs59icou8BQ8DLIVse+UUZ/Y6wT3ScAp75bhAs6HLEUcSsKxBQxp75aRehmiDwl4idgS7utuNKmSpYjbJAX5dkFsCfdp084lQqXhJhJ2AefJYEWcooD7uHNyHwUcEpfwMBmciFMUcEiaSDi1FJySfNtOwzFLES7g+AxGxKkLuO003KcUnJKAQxArBbuA06GUiCU9CDwBPAUcnbFoRjKkLt9QxErBQxFwm2nYJexAtUT8ajM7FKwnLZKbgNtMw32QcKoCbpsYEnYBp0mvShO5CbhtYkh4aAJuKw27hJ1xyorYgC9IMuB/TSykDICkrcBWgI0bN7bXw5K4hPOVcA4CbpO6EvZSRH8pK+LzzexAsUnerZK+bmZ3jDco5LwAMD8/39kSWrkLuOvF3ieJKeGhCbgJnoL7TSkRm9mB4vNBSZ9mtMHeHSu/Kyy5C7hN6qRhF3B12ihL1EnDLuH+M1PEkp4DHGNmTxSPXwv81+A9W4G+SLiNNJyThHMVcFvkJOG+/I7lQplEfCrwaUlL7f/EzG4J2iunFC7h7miahruSsAs4T2aK2MweYLQxntMiTdNwVxIeuoDbwCXszKJXw9eGgku4W7rcDBS6l7ALOD7HxO6AE56uJXzSt37aGwk3pWoadgnHR9JmSfdL2i/pyhXa/bKkpyRd2vSanogj0KQsUTUNx5CwMyJlCbuApyNpDrgGuBhYBHZL2mlm901p9/uMdntujCfijGhje6NZ1JVwX1Nw3bJEG1sczcIlHIRzgf1m9oCZHQFuArZMafdu4JPAwTYu6om4Y7qcwFE1DTeRsNOMqmm4joT7KuDDR4+r8Hv1uTWS9ow9sTAxU3gd8PDY8SJw3vgZJK0Dfg14DfDLNbr8DFzEmRC6JOESfiZdpWGXcKccmrF65LRv3uQvx4eA95vZU8Ww3sb0XsSXnnhXqXY7Dp8TuCf1SVHCfRZwE1zC2bMIbBg7Xg8cmGgzD9xUSHgNcImko2b253Uv2ksRl5XvtPeEFHIXZYm+SHj1vodXfP3I2RtWfD0HXMJJshs4Q9LpwHeBy4DfHG9gZqcvPZb0UeCzTSQMPRNxHQFPO0dK6bhKGs5ZwrPEu1z7UEKuU5aokoZdwmliZkclXcFoNMQccL2Z3SvpXcXr14a4bvYibkO+087ZtozrpOGQoyRSkXBVAU97fwrpOOQoCZdwt5jZLmDXxHNTBWxmb2vjmtmKOISAc6ZKGk5Bwk0FPHmuNmUceiZdlTTsEh4GWYq4CwnHLlGEKknElnCbAk6FUCWJmBL2oNMtWYo4N6qWJfoo4T4KOCQu4WHhInaWJScJt1WeqFqWCHmDrgptSNgFHA8XcWByTcNtSNhT8M8IWZJwCeePizhTXMLtEzINl6VrCbuA08AX/QlIyDRclqFIuOshbCFKEi7h4eKJOEPKpuGuJZxjCl4i1JC1UHVhl3C/8EQciFBpuO6ec7MYsoSrErsk4RLuHy7iZehyDHHsksTQJRw7DXe57b1LOE1cxAEItbhPqJJEE3KXcFXKpuEUSxIu4XRxEUcm55JEKhJucqOu641BJ+mqJOESThsXcc/oqiSRioS7pO007BJ2lnART6FJfbhKWaLtNOwSrkaVNNzFHnQhcAnngYvYqURqEk5hCcxxUkvDTh6UFrGkOUlfkfTZkB2KjafhYRAiDacmYU/D+VAlEb8H2BeqI7kzBAl7Gs4Hl3BelBKxpPXA64HtYbvjpEpqEm5C39OwSzg/yibiDwHvA55eroGkrZL2SNrz2GPdDVBvk7plib6n4RQlnGMa9rpwHkjaLOl+SfslXTnl9d+S9NXi468lvazpNWeKWNIbgINmtneldma2YGbzZjZ/yinh9lpznCbETMNd4Gm4GZLmgGuA1wEvAd4s6SUTzb4N/KqZ/RLwe8BC0+uWScTnA2+U9CBwE/AaSR9veuHU8DQ8naGmYS9JDJZzgf1m9oCZHWHkvC3jDczsr83s8eLwy8D6phedufqamV0FXAUg6QLgd8zsLU0vnBIx96ari4+SqE7sWXROGI4cWVVlvZY1kvaMHS+Y2XiiXQeMp49F4LwVzvcO4P+Uvfhy+DKYDYiZhrugT2nYb9A5BYfMbH6F16d986emHkmvZiTif960U5VEbGa3A7c3vWhKeEliOn2ScC74DbokWATGf9DWAwcmG0n6JUajyF5nZt9velGfWef0nlzScF08DbfKbuAMSadLWg1cBuwcbyBpI/Ap4K1m9o02Ljro0oSn4en0KQ3nImFPw2lgZkclXQF8HpgDrjezeyW9q3j9WuA/A/8I+GNJAEdnlDtmMlgR53iDbqj0vSTRBE/D7WNmu4BdE89dO/b4ncA727zmIEsTvp5EPnS11rCnYScmgxRxXXKRcBNSLEvUwYeqOTkxOBEPoSThabgauaZhL0v0h0GJeAglib6Qa0nCceowGBGnJuFQ9GGZy9QkXAWvDTt1GISIu5JwFTwNTyfFjUBTGjPs9JPei7hLCceexpx7bbjLYWqx96Brmoa9Ptwvej2OuMsbcyFKEkNJw20IOFRJwtOw0wW9TcRNJRyqLhyqJNE0DceqD3ct4Sr4DTqnK3qXiNtIwbHrwkMhhoRj36ADv0nnPJNeJeIYEk6hJJFjbTh1CXsadrqkN4k4dQl7Gh7R1g25VCTsadhpg+xF3NYNuVQkHCsNHzl7Q9A6cZsjInKVsOMsR7YibnNERKiasDMipoRTwtOwsxxZ1ohjSziVNJw6R87eEF3CfU3DoYdm7jh8ziDWZUmFbBNxG+Qu4bZv0rVVnggxMSMlCfcZl28cBivilCScEnVlHHJWXGoSrpOGQ5Qldhw+p7UZdi7guAxSxKElXJUU0vA4S1JdSchdTUcOLeGqxC5JTNJExi7fdBiciLuQcF/qwjG3KKp7U66qhLsoSYS+Sbck1DJCdvnORtJm4GpGe9ZtN7NtE6+reP0S4P8BbzOzRn+aDErEqUm4LjlO4KhCqhJOLQ1P4pJtjqQ54BrgYmAR2C1pp5ndN9bsdcAZxcd5wIeLz7UZhIjrDk8LLeGU03As+iZhH7KWHecC+83sAQBJNwFbgHERbwE+ZmYGfFnSyZLWmtkjdS/aexG7hPOgyfjgFMsRTrKskbRn7HjBzBbGjtcB4zdHFnlm2p3WZh3gIp5GqhJuQh/LEqlLOPWSxNDREVX5HTxkZvMrnW7Kc5OpqUybSswUsaTjgDuAZxXtd5jZ7za5aGiazJTrQsKehn9GnyXsZYksWQTG71KvBw7UaFOJMjPrfgq8xsxeBrwc2CzplU0uGpIuJVyHJhLuUxr+0Yuf1WsJO9myGzhD0umSVgOXATsn2uwE/rVGvBL4UZP6MJRIxEVB+sfF4bHFR3KRrul6EXUknOukjdh0KWCIUxP2NJwnZnZU0hXA5xkNX7vezO6V9K7i9WuBXYyGru1nNHzt7U2vW6pGXAzp2Av8Y+AaM7tzSputwFaAjRs3Nu1XJWKkYC9JVKfpgj1dStjT8HAxs12MZDv+3LVjjw347TavWUrEZvYU8HJJJwOflvRSM/vaRJsFYAFgfn6+E+PESMEQR8I5lyXaWDHNJez0mUqjJszsh5JuBzYDX5vRPBhtLFvZZSliqEk4loAhroT7Upa49dGz+OA/id2LYVBm1MQpwN8XEn42cBHw+8F7FpDcJJxjGh6qhPuAr8/dPWUS8VrghqJOfAxws5l9Nmy3wtBlKQKGmYTbWrg9VwnnnIZdwPEoM2riq8ArOuhLUFzCYYktYIgv4VxxAcen1zProNnY4BQknHpZos2ti1zC3eICTodeizh3CadK2/vGxRAwtC/hXMoSLuD06KWIYwgY2pdwamk4xMadfZFwDriA06V3Iu6LhFMiNQFDehJOOQ27gNOnNyJuuk5EahJOIQ33TcAwrCTsAs6H7EUcU8DQvyQcQr5L9FXCKaVhl2+eZC3ivko4Rhrus4Ch/0nYBZw3WYo4toChP0k4ZQFDuil4iZhpOKR8u1gS1vkZWYq4Camm4CW6SMMh5QtpCBj6K+HQ6dcl3D2DEXEOKTi0hEMLGNKQcB/LEF2UHlzA8RiEiHOQcCi6kC+kIWDoTsJdpWEX8DDotYhzEnDbadgFHI4uJOwCHha9FHFbWxjlJuGu5AvtCBhcwuN0OfLBJZwWvRNxTikY2pFwlwKGYaZgCCdhF3AeSHo+8KfAJuBB4DfM7PGJNhuAjwGnAU8DC2Z29axz90bEuQkYmkt4qAKGfqRgF3B2XAncZmbbJF1ZHL9/os1R4D+a2V2STgD2SrrVzO5b6cTZizi3MgQMU8DgKXgJF3C2bAEuKB7fANzOhIjN7BHgkeLxE5L2AeuA/orYU3BYXMDt0vXsN5fwVNZI2jN2vFBsfFyGUwvRYmaPSHrBSo0lbWK0qcYzdr2fJEsRu4DD42WI9shRwG39pdkFc0cq/T4fMrP55V6U9EVG9d1JPlilT5KeC3wSeK+ZHZ7VPksRNyWnMgTkl4JdwD8jxzJEThJuGzO7aLnXJH1P0toiDa8FDi7T7lhGEr7RzD5V5rqDEnFuAoZhStgFXJ2hpeBI7AQuB7YVnz8z2UCSgOuAfWb2h2VPPAgR5yhg8EkZoQg9ISO3FOwCLs024GZJ7wAeAn4dQNILge1mdglwPvBW4B5Jdxfv+4CZ7VrpxL0WcW4TMsbJRcIu4J+nKwl7GaJ7zOz7wIVTnj8AXFI8/iug8i9VL0Wcs4BhOIvzQH9XSAuJp+D+0TsR575CWhcMIQXHEHAO60O4gNOkNyLui4B9ofZm+BrBy+MSTpeZIq47d7or+iJgSFvCKQs4dvkhdQm7gNOnTCKuNXc6NCEF3Ifywzh9lXBsAXeBS3gYzBRx3bnTIenTpp1LhErDTSScooBTk2+oNBxbwLluhJArlWrEVeZO50Lf0u8SMVPwEAQcEpfw8Cgt4llzpyVtBbYCbNy4sbUOhiIlAbedhvsk4ZQFHCINN5GwCzhfSom4zNzpYgWjBYD5+flkv6MpCTgEsUoRQxJwKGJJ2AUcnzKjJmrNnU6NVAXcZhrug4RzEXDbadglPGzKJOJac6dTIVUBt00MCQ9RwCGIIWEXcFqUGTVRa+50bIYiYMhbwkMWMNSXsKfgftGbmXVL5CTgNsoSdSXsAq5PW2WJriXsAk6X3og4JwHHJqaEcxZwm7iEnXGyF3GuAo6VhmNJuC8CbiMNu4SdSbIUca7ybROXcJ50KWEXcD5kKeLcaZqGu5KwC/jnaZqGc5Kwh51ucRFnRg4S7puAY9K1hF3AcTgmdgecsLiE06BOGnYJp4Wk50u6VdI3i8/PW6HtnKSvSPpsmXO7iDumSVmiahruUsIXn/b1Xku4SVmiCwmf8B2rLeGTvvVTl3A5rgRuM7MzgNuK4+V4D7Cv7IldxJmQuoSd6XQl4bq4gCuxBbiheHwD8KZpjSStB14PbC97Yhdxh9RNw21scTQLl/DydLUzM7iEO2CNpD1jH1srvPfUYn32pXXaX7BMuw8B72O0o1Ep/GZdD6mahutIeAgCbkrVNNyVhPsm4LknrcrXdMjM5pd7UdIXGW0LN8kHy5xc0huAg2a2V9IFZTvlIk6c0CUJl3AYXMJ5YmYXLfeapO9JWmtmj0haCxyc0ux84I2SLgGOA06U9HEze8tK13URd0SdssQQJXzpiXdVar/j8DmBejKii7KESzgbdgKXA9uKz5+ZbGBmVwFXARSJ+HdmSRgGIOLV+x4u1e7I2RsC9yQsOUu4qnwn3xtaxlVputXRStSRsAu4NbYBN0t6B/AQ8OsAkl4IbDezS+qeuJciLivfae8JIeQu0nAVUpFwEwFPnieEjOuk4ZAlCZdwXMzs+8CFU54/ADxDwmZ2O3B7mXP3atTE6n0P15Lw5Dlyo0oaTkHCl554V2sSHj9nbriEnSV6kYhzlOdKVEnDOUk4R1lWoUoabrrR5yxcwnmRtYhzEHDVskQfJZyjgLscOzyLqmnYJZwfWYo4tIBX73s4+5t348SScNcCjnnjLlQajiXhHEJOn+hVjTg1UknDVclRwm1SNQ27hJ2mZJmIh07IksTQJZwKMSTsAo6HizgQIdNwWbqWcB8EnEIadgkPDy9NZEbZNOwSTotQoyRcwv3ARRyAUGk4VF24LxJueqMuZBouS9f7zLmE08BFPIUuR0zELkn0RcIpk2pJwiWcDi7ilmm6MehyhCpJNGHIEi6bhlMtSbiE02KmiCVdL+mgpK910aEhkXNJom8SrlKWiF2ScAn3jzKJ+KPA5sD9cFqgq5JEihJObQU2CFOScAn3k5kiNrM7gB900JckaFIfrlKWaDsND1nCTQmRhkOvJVEHl3C6tFYjlrR1aR+oxx7rrk7pdEcfJRybrtKwSzhtWhOxmS2Y2byZzZ9ySriFsUPiaThPmpQlYqZhl7CzhI+aaIEhSNjTcJ64hPPARezMpK8S7nsadgnnQ5nha58AvgScKWmx2K+pd9QtS/Q9Dacu4S5GS+QoYad9JD1f0q2Svll8ft4y7U6WtEPS1yXtk/Qrs85dZtTEm81srZkda2brzey6Ol+EE48+1oWbktLC7yHwNByEK4HbzOwM4LbieBpXA7eY2VnAy4B9s07spQn6n4br0tc07CUJpyZbgBuKxzcAb5psIOlE4FXAdQBmdsTMfjjrxIMXcUo7caRUknDi4iWJJDnVzB4BKD6/YEqbFwGPAR+R9BVJ2yU9Z9aJfT3imoRIwynhaThuGq7LENOwnjxS5eteI2nP2PGCmS38w7mkLwKnTXnfB0uefxVwDvBuM7tT0tWMShj/adabBkvfSxJ+gy48KZUknFIcMrP55V40s4uWe03S9yStNbNHJK0FDk5ptggsmtmdxfEOlq8l/wODLU2kVJJwuiH2wj6hGWIa7pidwOXF48uBz0w2MLNHgYclnVk8dSFw36wTD1bEdfE0HJe+lyQ8DSfNNuBiSd8ELi6OkfRCSbvG2r0buFHSV4GXA/991okHWZrwNJwnKZUkUsPTcHjM7PuMEu7k8weAS8aO7waWLX9MY3CJ2NeTGB6ehp3UGZSIXcIrk3JZIqWSRGp4Gs6fQYm4LqG2P3LKkVpJwtOw0zaDEXFXdeEcZ9ClzBCWuHScQYg4tZJEKPpWluhKwrHxtYad3ou4KwlXwdPwbLosR3gadmLTaxF3KeGcd2ROjaYSzmkPOq8NO9BjEXc5VjhESWKoaThFCVehyzTsZYn+0LsJHW0IOFRdOFRJoi9puEsJV8HTsBOaXiXiriVchVAliTZI4UZd1xLOPQ07/aI3Io4h4RRKEn1IwylLONQNOk/DzjjZlybaqgWHlHDKaTgmMSZqhJCw4zQl60TcNwkPKQ23JeEUxgt7GnaakmUibnNEhE9fHkmxqzpxmyk4hZJEn/FVCrsj60TclDoSTiUN50gfJRzzBl0oUR45e4NLuGOyTMRtkLuEcypLtF0LTkXCdUi5LOHyjccgE3FKEk6FEDfOdhw+JysJVyWF4WptyNMTcHwGl4hDS7gqKaXhtmrFIaRe56ZcVQmHLkmESsNHzt5QeZadizctBiXiLiSce124roxDDkXrYmRE7jfnxsU6Tcou3rQpJWJJm4GrgTlgu5ltC9qrlqk7MiKkhOvSRW14SaorCbmrMcB1JRyyLpxSGp6GSzcMkp4P/CmwCXgQ+A0ze3xKu38PvBMw4B7g7Wb25ErnniliSXPANYx2LV0EdkvaaWYzt4hOgVQlnGIaniT2zhh9kbDTG64EbjOzbZKuLI7fP95A0jrg3wEvMbO/k3QzcBnw0ZVOXOZm3bnAfjN7wMyOADcBW6p/Dd2TqoSd2XQhYcepyBbghuLxDcCblmm3Cni2pFXA8cCBWSeW2cr/w0u6FNhsZu8sjt8KnGdmV0y02wpsLQ7PBO6fdfGGrAEOBb5GGVLpB3hfppFKPyCdvqTSD4AzzeyEJieQdAujr6kMxwHjZYIFM1soeZ0fmtnJY8ePm9nzprR7D/DfgL8DvmBmvzXr3GVqxNPi4TPsXXwxpb6gNpC0x8zmu7pe6v0A70vK/YB0+pJKP2DUl6bnMLPNbfQFQNIXgdOmvPTBku9/HqPkfDrwQ+DPJL3FzD6+0vvKiHgRGK/+r6dE1HYcx8kNM7toudckfU/SWjN7RNJa4OCUZhcB3zazx4r3fAr4Z8CKIi5TI94NnCHpdEmrGRWed5Z4n+M4Tp/YCVxePL4c+MyUNg8Br5R0vCQBFwL7Zp14pojN7ChwBfD54oQ3m9m9JTseks7KIDNIpR/gfZlGKv2AdPqSSj8grb7MYhtwsaRvMhpFtg1A0gsl7QIwszuBHcBdjIauHUOJr3HmzTrHcRwnLINca8JxHCclXMSO4ziRyU7EkjZLul/S/mJ2S6x+XC/poKSvxerDWF82SPoLSfsk3VuMY4zRj+Mk/Y2kvy368V9i9GOsP3OSviLps5H78aCkeyTd3cZwrYZ9OVnSDklfL35efiVSP84s/j2WPg5Lem+MvqRAVjXiYrr1Nxibbg28OcZ0a0mvAkJwwCwAAAKKSURBVH4MfMzMXtr19Sf6shZYa2Z3SToB2Au8qet/l+Iu8XPM7MeSjgX+CniPmX25y36M9ec/APPAiWb2hhh9KPrxIDBvZtEnUUi6AfhLM9tejII63sx+GLlPc8B3GU0U+07MvsQit0SczHRrM7sD+EGMa09iZo+Y2V3F4ycYjW5ZF6EfZmY/Lg6PLT6i/E8vaT3wemB7jOuniKQTgVcB1wGY2ZHYEi64EPjWUCUM+Yl4HTC+xt8iEYSTMpI2Aa8A7ox0/TlJdzMa7H5rMZwnBh8C3gc8Hen64xjwBUl7i6UAYvEi4DHgI0XJZruk50TszxKXAZ+I3YmY5CbiUtOth4qk5wKfBN5rZodj9MHMnjKzlzOagXmupM7LNpLeABw0s71dX3sZzjezc4DXAb9dlLVisAo4B/iwmb0C+AmjFcSiUZRH3gj8Wcx+xCY3Eft062UoarKfBG40s0/F7k/xJ+/tQGvrAFTgfOCNRW32JuA1klacYhoSMztQfD4IfJpRiS0Gi8Di2F8pOxiJOSavA+4ys+9F7kdUchOxT7eeQnGT7Dpgn5n9YcR+nCLp5OLxsxnNu+98l1Mzu8rM1pvZJkY/I//XzN7SdT8AJD2nuIFKUQZ4LRBlpI2ZPQo8LOnM4qkLgdjrir+ZgZclILOtkszsqKSl6dZzwPWxpltL+gRwAbBG0iLwu2Z2XYy+MEqAbwXuKeqzAB8ws10d92MtcENxF/wYRtPhow4dS4BTgU+P/q9kFfAnZnZLxP68G7ixCDIPAG+P1RFJxzMaAfVvY/UhFbIavuY4jtNHcitNOI7j9A4XseM4TmRcxI7jOJFxETuO40TGRew4jhMZF7HjOE5kXMSO4ziR+f/yRUtwgEMQjAAAAABJRU5ErkJggg==\n",
>>>>>>> 240720c848b96ded3f247ada811a6e7c7eb4dad9
      "text/plain": [
       "<Figure size 432x288 with 2 Axes>"
      ]
     },
     "metadata": {
      "needs_background": "light"
     },
     "output_type": "display_data"
    }
   ],
   "source": [
<<<<<<< HEAD
    "f = lambdify((t,p,ta,pa),Expected, \"numpy\")\n",
    "ta_range = np.linspace(0,2*np.pi,1000);\n",
    "pa_range = np.linspace(0,2*np.pi,1000);\n",
    "phi_fixed = np.pi/3;\n",
    "X, Y = np.meshgrid(ta_range, pa_range);\n",
=======
    "f = lambdify((t,p,ta,pa),trigsimp(expected), \"numpy\")\n",
    "ta_range = np.linspace(0,2*np.pi,1000)\n",
    "pa_range = np.linspace(0,2*np.pi,1000)\n",
    "phi_fixed = np.pi/2\n",
    "X, Y = np.meshgrid(ta_range, pa_range)\n",
>>>>>>> 240720c848b96ded3f247ada811a6e7c7eb4dad9
    "def ftemp(ta_val,pa_val):\n",
    "    return f(0,phi_fixed,ta_val,pa_val);\n",
    "Z = ftemp(X,Y);\n",
    "fig,ax=plt.subplots(1,1);\n",
    "cp = ax.contourf(X, Y, Z, cmap='turbo');\n",
    "fig.colorbar(cp) # Add a colorbar to a plot\n",
    "plt.xlim(0,2*np.pi);\n",
    "plt.ylim(0,2*np.pi);\n",
    "ax.axis('equal');"
   ]
  },
  {
   "cell_type": "code",
   "execution_count": null,
   "metadata": {},
   "outputs": [],
   "source": []
  },
  {
   "cell_type": "code",
   "execution_count": 11,
   "metadata": {},
   "outputs": [
    {
     "data": {
      "text/latex": [
       "$\\displaystyle \\left|{1.0 \\sin{\\left(\\theta_{a} \\right)} \\cos{\\left(\\frac{\\varphi}{2} + \\varphi_{a} \\right)} + 1.0 \\sin{\\left(\\theta_{a} \\right)} \\cos{\\left(\\frac{\\varphi}{2} + \\varphi_{b} \\right)} + 1.0 \\sin{\\left(\\theta_{b} \\right)} \\cos{\\left(\\frac{\\varphi}{2} + \\varphi_{a} \\right)} - 1.0 \\sin{\\left(\\theta_{b} \\right)} \\cos{\\left(\\frac{\\varphi}{2} + \\varphi_{b} \\right)} - 0.5 \\cos{\\left(\\theta_{a} \\right)} \\cos{\\left(\\varphi_{a} \\right)} - 0.5 \\cos{\\left(\\theta_{a} \\right)} \\cos{\\left(\\varphi_{b} \\right)} + 0.5 \\cos{\\left(\\theta_{a} \\right)} \\cos{\\left(\\varphi + \\varphi_{a} \\right)} + 0.5 \\cos{\\left(\\theta_{a} \\right)} \\cos{\\left(\\varphi + \\varphi_{b} \\right)} - 0.5 \\cos{\\left(\\theta_{b} \\right)} \\cos{\\left(\\varphi_{a} \\right)} + 0.5 \\cos{\\left(\\theta_{b} \\right)} \\cos{\\left(\\varphi_{b} \\right)} + 0.5 \\cos{\\left(\\theta_{b} \\right)} \\cos{\\left(\\varphi + \\varphi_{a} \\right)} - 0.5 \\cos{\\left(\\theta_{b} \\right)} \\cos{\\left(\\varphi + \\varphi_{b} \\right)}}\\right|$"
      ],
      "text/plain": [
       "Abs(1.0*sin(theta_a)*cos(varphi/2 + varphi_a) + 1.0*sin(theta_a)*cos(varphi/2 + varphi_b) + 1.0*sin(theta_b)*cos(varphi/2 + varphi_a) - 1.0*sin(theta_b)*cos(varphi/2 + varphi_b) - 0.5*cos(theta_a)*cos(varphi_a) - 0.5*cos(theta_a)*cos(varphi_b) + 0.5*cos(theta_a)*cos(varphi + varphi_a) + 0.5*cos(theta_a)*cos(varphi + varphi_b) - 0.5*cos(theta_b)*cos(varphi_a) + 0.5*cos(theta_b)*cos(varphi_b) + 0.5*cos(theta_b)*cos(varphi + varphi_a) - 0.5*cos(theta_b)*cos(varphi + varphi_b))"
      ]
     },
     "execution_count": 11,
     "metadata": {},
     "output_type": "execute_result"
    }
   ],
   "source": [
    "B_A = abs(simplify(C_ta_pa_A + C_ta_pa_A.xreplace({ta:tb}) + C_ta_pa_A.xreplace({pa:pb}) - C_ta_pa_A.xreplace({ta:tb,pa:pb})))\n",
    "B_A"
   ]
  },
  {
   "cell_type": "code",
<<<<<<< HEAD
   "execution_count": null,
   "metadata": {},
   "outputs": [],
   "source": [
    "a"
   ]
  },
  {
   "cell_type": "code",
   "execution_count": null,
   "metadata": {},
   "outputs": [],
   "source": [
    "trigsimp(trace(a*a) - 1)*1/3"
   ]
  },
  {
   "cell_type": "markdown",
   "metadata": {},
   "source": [
    "# BLANK"
   ]
  },
  {
   "cell_type": "markdown",
   "metadata": {},
   "source": [
    "# BLANK"
   ]
  },
  {
   "cell_type": "code",
   "execution_count": 39,
   "metadata": {},
   "outputs": [],
   "source": [
    "def multiple_formatter(denominator=2, number=np.pi, latex='\\pi'):\n",
    "    def gcd(a, b):\n",
    "        while b:\n",
    "            a, b = b, a%b\n",
    "        return a\n",
    "    def _multiple_formatter(x, pos):\n",
    "        den = denominator\n",
    "        num = int(np.rint(den*x/number))\n",
    "        com = gcd(num,den)\n",
    "        (num,den) = (int(num/com),int(den/com))\n",
    "        if den==1:\n",
    "            if num==0:\n",
    "                return r'$0$'\n",
    "            if num==1:\n",
    "                return r'$%s$'%latex\n",
    "            elif num==-1:\n",
    "                return r'$-%s$'%latex\n",
    "            else:\n",
    "                return r'$%s%s$'%(num,latex)\n",
    "        else:\n",
    "            if num==1:\n",
    "                return r'$\\frac{%s}{%s}$'%(latex,den)\n",
    "            elif num==-1:\n",
    "                return r'$\\frac{-%s}{%s}$'%(latex,den)\n",
    "            else:\n",
    "                return r'$\\frac{%s%s}{%s}$'%(num,latex,den)\n",
    "    return _multiple_formatter\n",
    "\n",
    "class Multiple:\n",
    "    def __init__(self, denominator=2, number=np.pi, latex='\\pi'):\n",
    "        self.denominator = denominator\n",
    "        self.number = number\n",
    "        self.latex = latex\n",
    "\n",
    "    def locator(self):\n",
    "        return plt.MultipleLocator(self.number / self.denominator)\n",
    "\n",
    "    def formatter(self):\n",
    "        return plt.FuncFormatter(multiple_formatter(self.denominator, self.number, self.latex))"
   ]
  },
  {
   "cell_type": "code",
   "execution_count": 78,
   "metadata": {},
   "outputs": [],
   "source": [
    "def contourplotter(function,phi,title,xlabel,ylabel):\n",
    "    f = lambdify((t,p,ta,pa),function, \"numpy\")\n",
    "    ta_range = np.linspace(0,2*np.pi,1000);\n",
    "    pa_range = np.linspace(0,2*np.pi,1000);\n",
    "    phi_fixed = phi;\n",
    "    X, Y = np.meshgrid(ta_range, pa_range);\n",
    "    def ftemp(ta_val,pa_val):\n",
    "        return f(0,phi_fixed,ta_val,pa_val);\n",
    "    Z = ftemp(X,Y);\n",
    "    fig, ax = plt.subplots(figsize=(7,5.7))\n",
    "    cp = ax.contourf(X, Y, Z ,cmap='turbo');\n",
    "    fig.colorbar(cp) # Add a colorbar to a plot\n",
    "    plt.xlim(0,2*np.pi);\n",
    "    plt.ylim(0,2*np.pi);\n",
    "    ax.axis('equal');\n",
    "\n",
    "    plt.title(title, fontsize=15)\n",
    "    plt.xlabel(xlabel, fontsize=15)\n",
    "    plt.ylabel(ylabel, fontsize=15)\n",
    "    ax=plt.gca()\n",
    "    ax.set_facecolor((0.8,1,1))\n",
    "    ax.axhline(0, color='black', lw=2)\n",
    "    ax.axvline(0, color='black', lw=2)\n",
    "    ax.xaxis.set_major_locator(plt.MultipleLocator(np.pi / 2))\n",
    "    ax.xaxis.set_minor_locator(plt.MultipleLocator(np.pi / 12))\n",
    "    ax.xaxis.set_major_formatter(plt.FuncFormatter(multiple_formatter()))\n",
    "    ax.yaxis.set_major_locator(plt.MultipleLocator(np.pi / 2))\n",
    "    ax.yaxis.set_minor_locator(plt.MultipleLocator(np.pi / 12))\n",
    "    ax.yaxis.set_major_formatter(plt.FuncFormatter(multiple_formatter()))\n",
    "    plt.xticks(fontsize =15)\n",
    "    plt.yticks(fontsize =15)\n",
    "    return"
   ]
  },
  {
   "cell_type": "code",
   "execution_count": 79,
=======
   "execution_count": 12,
>>>>>>> 240720c848b96ded3f247ada811a6e7c7eb4dad9
   "metadata": {},
   "outputs": [
    {
     "data": {
<<<<<<< HEAD
      "application/vnd.jupyter.widget-view+json": {
       "model_id": "8832e8c1cab24c9488a5b600a883b43e",
       "version_major": 2,
       "version_minor": 0
      },
      "text/plain": [
       "interactive(children=(FloatSlider(value=1.0471975511965976, continuous_update=False, description='phi', max=6.…"
      ]
     },
=======
      "text/latex": [
       "$\\displaystyle \\left(0.5 \\sin{\\left(\\theta_{a} \\right)} \\cos{\\left(\\varphi_{a} \\right)} + 0.5 \\sin{\\left(\\theta_{a} \\right)} \\cos{\\left(\\varphi_{b} \\right)} - 0.5 \\sin{\\left(\\theta_{a} \\right)} \\cos{\\left(\\varphi + \\varphi_{a} \\right)} - 0.5 \\sin{\\left(\\theta_{a} \\right)} \\cos{\\left(\\varphi + \\varphi_{b} \\right)} + 1.0 \\cos{\\left(\\theta_{a} \\right)} \\cos{\\left(\\frac{\\varphi}{2} + \\varphi_{a} \\right)} + 1.0 \\cos{\\left(\\theta_{a} \\right)} \\cos{\\left(\\frac{\\varphi}{2} + \\varphi_{b} \\right)}\\right) \\operatorname{sign}{\\left(1.0 \\sin{\\left(\\theta_{a} \\right)} \\cos{\\left(\\frac{\\varphi}{2} + \\varphi_{a} \\right)} + 1.0 \\sin{\\left(\\theta_{a} \\right)} \\cos{\\left(\\frac{\\varphi}{2} + \\varphi_{b} \\right)} + 1.0 \\sin{\\left(\\theta_{b} \\right)} \\cos{\\left(\\frac{\\varphi}{2} + \\varphi_{a} \\right)} - 1.0 \\sin{\\left(\\theta_{b} \\right)} \\cos{\\left(\\frac{\\varphi}{2} + \\varphi_{b} \\right)} - 0.5 \\cos{\\left(\\theta_{a} \\right)} \\cos{\\left(\\varphi_{a} \\right)} - 0.5 \\cos{\\left(\\theta_{a} \\right)} \\cos{\\left(\\varphi_{b} \\right)} + 0.5 \\cos{\\left(\\theta_{a} \\right)} \\cos{\\left(\\varphi + \\varphi_{a} \\right)} + 0.5 \\cos{\\left(\\theta_{a} \\right)} \\cos{\\left(\\varphi + \\varphi_{b} \\right)} - 0.5 \\cos{\\left(\\theta_{b} \\right)} \\cos{\\left(\\varphi_{a} \\right)} + 0.5 \\cos{\\left(\\theta_{b} \\right)} \\cos{\\left(\\varphi_{b} \\right)} + 0.5 \\cos{\\left(\\theta_{b} \\right)} \\cos{\\left(\\varphi + \\varphi_{a} \\right)} - 0.5 \\cos{\\left(\\theta_{b} \\right)} \\cos{\\left(\\varphi + \\varphi_{b} \\right)} \\right)}$"
      ],
      "text/plain": [
       "(0.5*sin(theta_a)*cos(varphi_a) + 0.5*sin(theta_a)*cos(varphi_b) - 0.5*sin(theta_a)*cos(varphi + varphi_a) - 0.5*sin(theta_a)*cos(varphi + varphi_b) + 1.0*cos(theta_a)*cos(varphi/2 + varphi_a) + 1.0*cos(theta_a)*cos(varphi/2 + varphi_b))*sign(1.0*sin(theta_a)*cos(varphi/2 + varphi_a) + 1.0*sin(theta_a)*cos(varphi/2 + varphi_b) + 1.0*sin(theta_b)*cos(varphi/2 + varphi_a) - 1.0*sin(theta_b)*cos(varphi/2 + varphi_b) - 0.5*cos(theta_a)*cos(varphi_a) - 0.5*cos(theta_a)*cos(varphi_b) + 0.5*cos(theta_a)*cos(varphi + varphi_a) + 0.5*cos(theta_a)*cos(varphi + varphi_b) - 0.5*cos(theta_b)*cos(varphi_a) + 0.5*cos(theta_b)*cos(varphi_b) + 0.5*cos(theta_b)*cos(varphi + varphi_a) - 0.5*cos(theta_b)*cos(varphi + varphi_b))"
      ]
     },
     "execution_count": 12,
>>>>>>> 240720c848b96ded3f247ada811a6e7c7eb4dad9
     "metadata": {},
     "output_type": "display_data"
    }
   ],
   "source": [
<<<<<<< HEAD
    "def expAContours(phi):\n",
    "    function=C_ta_pa\n",
    "    contourplotter(function,phi,'a','b','c')\n",
    "    return\n",
    "interact(expAContours, phi=widgets.FloatSlider(min=0, max=2*np.pi, step=0.01, value=np.pi/3, continuous_update=False));"
=======
    "B_A.diff(ta)"
   ]
  },
  {
   "cell_type": "code",
   "execution_count": 13,
   "metadata": {},
   "outputs": [
    {
     "data": {
      "text/latex": [
       "$\\displaystyle \\left(0.5 \\sin{\\left(\\theta_{b} \\right)} \\cos{\\left(\\varphi_{a} \\right)} - 0.5 \\sin{\\left(\\theta_{b} \\right)} \\cos{\\left(\\varphi_{b} \\right)} - 0.5 \\sin{\\left(\\theta_{b} \\right)} \\cos{\\left(\\varphi + \\varphi_{a} \\right)} + 0.5 \\sin{\\left(\\theta_{b} \\right)} \\cos{\\left(\\varphi + \\varphi_{b} \\right)} + 1.0 \\cos{\\left(\\theta_{b} \\right)} \\cos{\\left(\\frac{\\varphi}{2} + \\varphi_{a} \\right)} - 1.0 \\cos{\\left(\\theta_{b} \\right)} \\cos{\\left(\\frac{\\varphi}{2} + \\varphi_{b} \\right)}\\right) \\operatorname{sign}{\\left(1.0 \\sin{\\left(\\theta_{a} \\right)} \\cos{\\left(\\frac{\\varphi}{2} + \\varphi_{a} \\right)} + 1.0 \\sin{\\left(\\theta_{a} \\right)} \\cos{\\left(\\frac{\\varphi}{2} + \\varphi_{b} \\right)} + 1.0 \\sin{\\left(\\theta_{b} \\right)} \\cos{\\left(\\frac{\\varphi}{2} + \\varphi_{a} \\right)} - 1.0 \\sin{\\left(\\theta_{b} \\right)} \\cos{\\left(\\frac{\\varphi}{2} + \\varphi_{b} \\right)} - 0.5 \\cos{\\left(\\theta_{a} \\right)} \\cos{\\left(\\varphi_{a} \\right)} - 0.5 \\cos{\\left(\\theta_{a} \\right)} \\cos{\\left(\\varphi_{b} \\right)} + 0.5 \\cos{\\left(\\theta_{a} \\right)} \\cos{\\left(\\varphi + \\varphi_{a} \\right)} + 0.5 \\cos{\\left(\\theta_{a} \\right)} \\cos{\\left(\\varphi + \\varphi_{b} \\right)} - 0.5 \\cos{\\left(\\theta_{b} \\right)} \\cos{\\left(\\varphi_{a} \\right)} + 0.5 \\cos{\\left(\\theta_{b} \\right)} \\cos{\\left(\\varphi_{b} \\right)} + 0.5 \\cos{\\left(\\theta_{b} \\right)} \\cos{\\left(\\varphi + \\varphi_{a} \\right)} - 0.5 \\cos{\\left(\\theta_{b} \\right)} \\cos{\\left(\\varphi + \\varphi_{b} \\right)} \\right)}$"
      ],
      "text/plain": [
       "(0.5*sin(theta_b)*cos(varphi_a) - 0.5*sin(theta_b)*cos(varphi_b) - 0.5*sin(theta_b)*cos(varphi + varphi_a) + 0.5*sin(theta_b)*cos(varphi + varphi_b) + 1.0*cos(theta_b)*cos(varphi/2 + varphi_a) - 1.0*cos(theta_b)*cos(varphi/2 + varphi_b))*sign(1.0*sin(theta_a)*cos(varphi/2 + varphi_a) + 1.0*sin(theta_a)*cos(varphi/2 + varphi_b) + 1.0*sin(theta_b)*cos(varphi/2 + varphi_a) - 1.0*sin(theta_b)*cos(varphi/2 + varphi_b) - 0.5*cos(theta_a)*cos(varphi_a) - 0.5*cos(theta_a)*cos(varphi_b) + 0.5*cos(theta_a)*cos(varphi + varphi_a) + 0.5*cos(theta_a)*cos(varphi + varphi_b) - 0.5*cos(theta_b)*cos(varphi_a) + 0.5*cos(theta_b)*cos(varphi_b) + 0.5*cos(theta_b)*cos(varphi + varphi_a) - 0.5*cos(theta_b)*cos(varphi + varphi_b))"
      ]
     },
     "execution_count": 13,
     "metadata": {},
     "output_type": "execute_result"
    }
   ],
   "source": [
    "B_A.diff(tb)"
   ]
  },
  {
   "cell_type": "code",
   "execution_count": 14,
   "metadata": {},
   "outputs": [
    {
     "data": {
      "text/latex": [
       "$\\displaystyle \\left(- 1.0 \\sin{\\left(\\theta_{a} \\right)} \\sin{\\left(\\frac{\\varphi}{2} + \\varphi_{a} \\right)} - 1.0 \\sin{\\left(\\theta_{b} \\right)} \\sin{\\left(\\frac{\\varphi}{2} + \\varphi_{a} \\right)} + 0.5 \\sin{\\left(\\varphi_{a} \\right)} \\cos{\\left(\\theta_{a} \\right)} + 0.5 \\sin{\\left(\\varphi_{a} \\right)} \\cos{\\left(\\theta_{b} \\right)} - 0.5 \\sin{\\left(\\varphi + \\varphi_{a} \\right)} \\cos{\\left(\\theta_{a} \\right)} - 0.5 \\sin{\\left(\\varphi + \\varphi_{a} \\right)} \\cos{\\left(\\theta_{b} \\right)}\\right) \\operatorname{sign}{\\left(1.0 \\sin{\\left(\\theta_{a} \\right)} \\cos{\\left(\\frac{\\varphi}{2} + \\varphi_{a} \\right)} + 1.0 \\sin{\\left(\\theta_{a} \\right)} \\cos{\\left(\\frac{\\varphi}{2} + \\varphi_{b} \\right)} + 1.0 \\sin{\\left(\\theta_{b} \\right)} \\cos{\\left(\\frac{\\varphi}{2} + \\varphi_{a} \\right)} - 1.0 \\sin{\\left(\\theta_{b} \\right)} \\cos{\\left(\\frac{\\varphi}{2} + \\varphi_{b} \\right)} - 0.5 \\cos{\\left(\\theta_{a} \\right)} \\cos{\\left(\\varphi_{a} \\right)} - 0.5 \\cos{\\left(\\theta_{a} \\right)} \\cos{\\left(\\varphi_{b} \\right)} + 0.5 \\cos{\\left(\\theta_{a} \\right)} \\cos{\\left(\\varphi + \\varphi_{a} \\right)} + 0.5 \\cos{\\left(\\theta_{a} \\right)} \\cos{\\left(\\varphi + \\varphi_{b} \\right)} - 0.5 \\cos{\\left(\\theta_{b} \\right)} \\cos{\\left(\\varphi_{a} \\right)} + 0.5 \\cos{\\left(\\theta_{b} \\right)} \\cos{\\left(\\varphi_{b} \\right)} + 0.5 \\cos{\\left(\\theta_{b} \\right)} \\cos{\\left(\\varphi + \\varphi_{a} \\right)} - 0.5 \\cos{\\left(\\theta_{b} \\right)} \\cos{\\left(\\varphi + \\varphi_{b} \\right)} \\right)}$"
      ],
      "text/plain": [
       "(-1.0*sin(theta_a)*sin(varphi/2 + varphi_a) - 1.0*sin(theta_b)*sin(varphi/2 + varphi_a) + 0.5*sin(varphi_a)*cos(theta_a) + 0.5*sin(varphi_a)*cos(theta_b) - 0.5*sin(varphi + varphi_a)*cos(theta_a) - 0.5*sin(varphi + varphi_a)*cos(theta_b))*sign(1.0*sin(theta_a)*cos(varphi/2 + varphi_a) + 1.0*sin(theta_a)*cos(varphi/2 + varphi_b) + 1.0*sin(theta_b)*cos(varphi/2 + varphi_a) - 1.0*sin(theta_b)*cos(varphi/2 + varphi_b) - 0.5*cos(theta_a)*cos(varphi_a) - 0.5*cos(theta_a)*cos(varphi_b) + 0.5*cos(theta_a)*cos(varphi + varphi_a) + 0.5*cos(theta_a)*cos(varphi + varphi_b) - 0.5*cos(theta_b)*cos(varphi_a) + 0.5*cos(theta_b)*cos(varphi_b) + 0.5*cos(theta_b)*cos(varphi + varphi_a) - 0.5*cos(theta_b)*cos(varphi + varphi_b))"
      ]
     },
     "execution_count": 14,
     "metadata": {},
     "output_type": "execute_result"
    }
   ],
   "source": [
    "B_A.diff(pa)"
>>>>>>> 240720c848b96ded3f247ada811a6e7c7eb4dad9
   ]
  },
  {
   "cell_type": "code",
   "execution_count": 76,
   "metadata": {},
   "outputs": [
    {
     "data": {
<<<<<<< HEAD
      "application/vnd.jupyter.widget-view+json": {
       "model_id": "f1d70e79462b42b19939e9952017f0d9",
       "version_major": 2,
       "version_minor": 0
      },
      "text/plain": [
       "interactive(children=(FloatSlider(value=1.0471975511965976, continuous_update=False, description='phi', max=6.…"
=======
      "text/latex": [
       "$\\displaystyle \\left(- 1.0 \\sin{\\left(\\theta_{a} \\right)} \\sin{\\left(\\frac{\\varphi}{2} + \\varphi_{b} \\right)} + 1.0 \\sin{\\left(\\theta_{b} \\right)} \\sin{\\left(\\frac{\\varphi}{2} + \\varphi_{b} \\right)} + 0.5 \\sin{\\left(\\varphi_{b} \\right)} \\cos{\\left(\\theta_{a} \\right)} - 0.5 \\sin{\\left(\\varphi_{b} \\right)} \\cos{\\left(\\theta_{b} \\right)} - 0.5 \\sin{\\left(\\varphi + \\varphi_{b} \\right)} \\cos{\\left(\\theta_{a} \\right)} + 0.5 \\sin{\\left(\\varphi + \\varphi_{b} \\right)} \\cos{\\left(\\theta_{b} \\right)}\\right) \\operatorname{sign}{\\left(1.0 \\sin{\\left(\\theta_{a} \\right)} \\cos{\\left(\\frac{\\varphi}{2} + \\varphi_{a} \\right)} + 1.0 \\sin{\\left(\\theta_{a} \\right)} \\cos{\\left(\\frac{\\varphi}{2} + \\varphi_{b} \\right)} + 1.0 \\sin{\\left(\\theta_{b} \\right)} \\cos{\\left(\\frac{\\varphi}{2} + \\varphi_{a} \\right)} - 1.0 \\sin{\\left(\\theta_{b} \\right)} \\cos{\\left(\\frac{\\varphi}{2} + \\varphi_{b} \\right)} - 0.5 \\cos{\\left(\\theta_{a} \\right)} \\cos{\\left(\\varphi_{a} \\right)} - 0.5 \\cos{\\left(\\theta_{a} \\right)} \\cos{\\left(\\varphi_{b} \\right)} + 0.5 \\cos{\\left(\\theta_{a} \\right)} \\cos{\\left(\\varphi + \\varphi_{a} \\right)} + 0.5 \\cos{\\left(\\theta_{a} \\right)} \\cos{\\left(\\varphi + \\varphi_{b} \\right)} - 0.5 \\cos{\\left(\\theta_{b} \\right)} \\cos{\\left(\\varphi_{a} \\right)} + 0.5 \\cos{\\left(\\theta_{b} \\right)} \\cos{\\left(\\varphi_{b} \\right)} + 0.5 \\cos{\\left(\\theta_{b} \\right)} \\cos{\\left(\\varphi + \\varphi_{a} \\right)} - 0.5 \\cos{\\left(\\theta_{b} \\right)} \\cos{\\left(\\varphi + \\varphi_{b} \\right)} \\right)}$"
      ],
      "text/plain": [
       "(-1.0*sin(theta_a)*sin(varphi/2 + varphi_b) + 1.0*sin(theta_b)*sin(varphi/2 + varphi_b) + 0.5*sin(varphi_b)*cos(theta_a) - 0.5*sin(varphi_b)*cos(theta_b) - 0.5*sin(varphi + varphi_b)*cos(theta_a) + 0.5*sin(varphi + varphi_b)*cos(theta_b))*sign(1.0*sin(theta_a)*cos(varphi/2 + varphi_a) + 1.0*sin(theta_a)*cos(varphi/2 + varphi_b) + 1.0*sin(theta_b)*cos(varphi/2 + varphi_a) - 1.0*sin(theta_b)*cos(varphi/2 + varphi_b) - 0.5*cos(theta_a)*cos(varphi_a) - 0.5*cos(theta_a)*cos(varphi_b) + 0.5*cos(theta_a)*cos(varphi + varphi_a) + 0.5*cos(theta_a)*cos(varphi + varphi_b) - 0.5*cos(theta_b)*cos(varphi_a) + 0.5*cos(theta_b)*cos(varphi_b) + 0.5*cos(theta_b)*cos(varphi + varphi_a) - 0.5*cos(theta_b)*cos(varphi + varphi_b))"
>>>>>>> 240720c848b96ded3f247ada811a6e7c7eb4dad9
      ]
     },
     "metadata": {},
     "output_type": "display_data"
    }
   ],
   "source": [
<<<<<<< HEAD
    "def expAContours(phi):\n",
    "    function=Expected\n",
    "    contourplotter(function,phi,'a','b','c')\n",
    "    return\n",
    "interact(expAContours, phi=widgets.FloatSlider(min=0, max=2*np.pi, step=0.01, value=np.pi/3, continuous_update=False));"
=======
    "B_A.diff(pb)"
   ]
  },
  {
   "cell_type": "code",
   "execution_count": 16,
   "metadata": {},
   "outputs": [],
   "source": [
    "#Put graphs and all here"
   ]
  },
  {
   "cell_type": "markdown",
   "metadata": {},
   "source": [
    "### 4.2 Experiment B\n",
    "Here starting with the same $\\mathbf{J}_{in}$ the polarization is scrambled using a variable polarization rotator which does not affect the spatial DoF so we have $D_\\text{pol} = 0$ and $D_\\text{par} = 1$. Now this beam is sent through a PS-SLM which would couple the DoFs. We now go on to derive the correlation function for this"
   ]
  },
  {
   "cell_type": "code",
   "execution_count": 17,
   "metadata": {},
   "outputs": [
    {
     "data": {
      "text/latex": [
       "$\\displaystyle \\left[\\begin{matrix}0.5 \\cos^{2}{\\left(\\frac{\\varphi}{2} \\right)} & 0.5 i \\sin{\\left(\\frac{\\varphi}{2} \\right)} \\cos{\\left(\\frac{\\varphi}{2} \\right)} & 0 & 0\\\\- 0.5 i \\sin{\\left(\\frac{\\varphi}{2} \\right)} \\cos{\\left(\\frac{\\varphi}{2} \\right)} & 0.5 \\sin^{2}{\\left(\\frac{\\varphi}{2} \\right)} & 0 & 0\\\\0 & 0 & 0.5 & 0\\\\0 & 0 & 0 & 0\\end{matrix}\\right]$"
      ],
      "text/plain": [
       "Matrix([\n",
       "[              0.5*cos(varphi/2)**2, 0.5*I*sin(varphi/2)*cos(varphi/2),   0, 0],\n",
       "[-0.5*I*sin(varphi/2)*cos(varphi/2),              0.5*sin(varphi/2)**2,   0, 0],\n",
       "[                                 0,                                 0, 0.5, 0],\n",
       "[                                 0,                                 0,   0, 0]])"
      ]
     },
     "execution_count": 17,
     "metadata": {},
     "output_type": "execute_result"
    }
   ],
   "source": [
    "G_B = (1/2)*Matrix([[cos(p/2)**2, I*cos(p/2)*sin(p/2), 0, 0],[-I*cos(p/2)*sin(p/2), sin(p/2)**2, 0,0],\n",
    "            [0,0,1,0],[0,0,0,0]])\n",
    "G_B #The input beam G matrix before the transformations"
   ]
  },
  {
   "cell_type": "code",
   "execution_count": 18,
   "metadata": {},
   "outputs": [
    {
     "data": {
      "text/latex": [
       "$\\displaystyle \\left[\\begin{matrix}0.5 & 0\\\\0 & 0.5\\end{matrix}\\right]$"
      ],
      "text/plain": [
       "Matrix([\n",
       "[0.5,   0],\n",
       "[  0, 0.5]])"
      ]
     },
     "execution_count": 18,
     "metadata": {},
     "output_type": "execute_result"
    }
   ],
   "source": [
    "G_pol_B = par_tr_G_pol(G_B)\n",
    "G_pol_B"
   ]
  },
  {
   "cell_type": "code",
   "execution_count": 19,
   "metadata": {},
   "outputs": [
    {
     "data": {
      "text/latex": [
       "$\\displaystyle 0$"
      ],
      "text/plain": [
       "0"
      ]
     },
     "execution_count": 19,
     "metadata": {},
     "output_type": "execute_result"
    }
   ],
   "source": [
    "app_coh(G_pol_B)# Prints D_pol"
   ]
  },
  {
   "cell_type": "code",
   "execution_count": 20,
   "metadata": {},
   "outputs": [
    {
     "data": {
      "text/latex": [
       "$\\displaystyle \\left[\\begin{matrix}0.5 \\cos^{2}{\\left(\\frac{\\varphi}{2} \\right)} + 0.5 & 0.5 i \\sin{\\left(\\frac{\\varphi}{2} \\right)} \\cos{\\left(\\frac{\\varphi}{2} \\right)}\\\\- 0.5 i \\sin{\\left(\\frac{\\varphi}{2} \\right)} \\cos{\\left(\\frac{\\varphi}{2} \\right)} & 0.5 \\sin^{2}{\\left(\\frac{\\varphi}{2} \\right)}\\end{matrix}\\right]$"
      ],
      "text/plain": [
       "Matrix([\n",
       "[        0.5*cos(varphi/2)**2 + 0.5, 0.5*I*sin(varphi/2)*cos(varphi/2)],\n",
       "[-0.5*I*sin(varphi/2)*cos(varphi/2),              0.5*sin(varphi/2)**2]])"
      ]
     },
     "execution_count": 20,
     "metadata": {},
     "output_type": "execute_result"
    }
   ],
   "source": [
    "G_par_B = par_tr_G_par(G_B)\n",
    "G_par_B"
   ]
  },
  {
   "cell_type": "code",
   "execution_count": 21,
   "metadata": {},
   "outputs": [
    {
     "data": {
      "text/latex": [
       "$\\displaystyle 0.707106781186548 \\sqrt{\\cos{\\left(\\varphi \\right)} + 1}$"
      ],
      "text/plain": [
       "0.707106781186548*sqrt(cos(varphi) + 1)"
      ]
     },
     "execution_count": 21,
     "metadata": {},
     "output_type": "execute_result"
    }
   ],
   "source": [
    "app_coh(G_par_B)# Prints D_par"
   ]
  },
  {
   "cell_type": "code",
   "execution_count": 22,
   "metadata": {},
   "outputs": [
    {
     "data": {
      "text/latex": [
       "$\\displaystyle 0.5 \\left(- \\cos{\\left(\\varphi_{a} \\right)} + \\cos{\\left(\\varphi + \\varphi_{a} \\right)}\\right) \\cos{\\left(\\theta_{a} \\right)}$"
      ],
      "text/plain": [
       "0.5*(-cos(varphi_a) + cos(varphi + varphi_a))*cos(theta_a)"
      ]
     },
     "execution_count": 22,
     "metadata": {},
     "output_type": "execute_result"
    }
   ],
   "source": [
    "G_out_B = conjugate(A_SLM)*conjugate(A_HWP)*G_B*A_HWP.T*A_SLM.T #Transformed matrix\n",
    "C_ta_pa_B = trigsimp(corr_prob(G_out_B)/trace_G(G_out_B))\n",
    "C_ta_pa_B #Exactly matches expression in paper"
   ]
  },
  {
   "cell_type": "code",
   "execution_count": 23,
   "metadata": {},
   "outputs": [
    {
     "data": {
      "text/latex": [
       "$\\displaystyle \\left|{0.5 \\left(\\cos{\\left(\\varphi_{a} \\right)} - \\cos{\\left(\\varphi + \\varphi_{a} \\right)}\\right) \\cos{\\left(\\theta_{a} \\right)} + 0.5 \\left(\\cos{\\left(\\varphi_{a} \\right)} - \\cos{\\left(\\varphi + \\varphi_{a} \\right)}\\right) \\cos{\\left(\\theta_{b} \\right)} + 0.5 \\left(\\cos{\\left(\\varphi_{b} \\right)} - \\cos{\\left(\\varphi + \\varphi_{b} \\right)}\\right) \\cos{\\left(\\theta_{a} \\right)} - 0.5 \\left(\\cos{\\left(\\varphi_{b} \\right)} - \\cos{\\left(\\varphi + \\varphi_{b} \\right)}\\right) \\cos{\\left(\\theta_{b} \\right)}}\\right|$"
      ],
      "text/plain": [
       "Abs(0.5*(cos(varphi_a) - cos(varphi + varphi_a))*cos(theta_a) + 0.5*(cos(varphi_a) - cos(varphi + varphi_a))*cos(theta_b) + 0.5*(cos(varphi_b) - cos(varphi + varphi_b))*cos(theta_a) - 0.5*(cos(varphi_b) - cos(varphi + varphi_b))*cos(theta_b))"
      ]
     },
     "execution_count": 23,
     "metadata": {},
     "output_type": "execute_result"
    }
   ],
   "source": [
    "B_B = abs(simplify(C_ta_pa_B + C_ta_pa_B.xreplace({ta:tb}) + C_ta_pa_B.xreplace({pa:pb}) - C_ta_pa_B.xreplace({ta:tb,pa:pb})))\n",
    "B_B"
   ]
  },
  {
   "cell_type": "code",
   "execution_count": 24,
   "metadata": {},
   "outputs": [
    {
     "data": {
      "text/latex": [
       "$\\displaystyle - 0.5 \\left(\\cos{\\left(\\varphi_{a} \\right)} + \\cos{\\left(\\varphi_{b} \\right)} - \\cos{\\left(\\varphi + \\varphi_{a} \\right)} - \\cos{\\left(\\varphi + \\varphi_{b} \\right)}\\right) \\sin{\\left(\\theta_{a} \\right)} \\operatorname{sign}{\\left(\\left(\\cos{\\left(\\varphi_{a} \\right)} - \\cos{\\left(\\varphi + \\varphi_{a} \\right)}\\right) \\cos{\\left(\\theta_{a} \\right)} + \\left(\\cos{\\left(\\varphi_{a} \\right)} - \\cos{\\left(\\varphi + \\varphi_{a} \\right)}\\right) \\cos{\\left(\\theta_{b} \\right)} + \\left(\\cos{\\left(\\varphi_{b} \\right)} - \\cos{\\left(\\varphi + \\varphi_{b} \\right)}\\right) \\cos{\\left(\\theta_{a} \\right)} - \\left(\\cos{\\left(\\varphi_{b} \\right)} - \\cos{\\left(\\varphi + \\varphi_{b} \\right)}\\right) \\cos{\\left(\\theta_{b} \\right)} \\right)}$"
      ],
      "text/plain": [
       "-0.5*(cos(varphi_a) + cos(varphi_b) - cos(varphi + varphi_a) - cos(varphi + varphi_b))*sin(theta_a)*sign((cos(varphi_a) - cos(varphi + varphi_a))*cos(theta_a) + (cos(varphi_a) - cos(varphi + varphi_a))*cos(theta_b) + (cos(varphi_b) - cos(varphi + varphi_b))*cos(theta_a) - (cos(varphi_b) - cos(varphi + varphi_b))*cos(theta_b))"
      ]
     },
     "execution_count": 24,
     "metadata": {},
     "output_type": "execute_result"
    }
   ],
   "source": [
    "simplify(B_B.diff(ta))"
   ]
  },
  {
   "cell_type": "code",
   "execution_count": 25,
   "metadata": {},
   "outputs": [
    {
     "data": {
      "text/latex": [
       "$\\displaystyle - 0.5 \\left(\\cos{\\left(\\varphi_{a} \\right)} - \\cos{\\left(\\varphi_{b} \\right)} - \\cos{\\left(\\varphi + \\varphi_{a} \\right)} + \\cos{\\left(\\varphi + \\varphi_{b} \\right)}\\right) \\sin{\\left(\\theta_{b} \\right)} \\operatorname{sign}{\\left(\\left(\\cos{\\left(\\varphi_{a} \\right)} - \\cos{\\left(\\varphi + \\varphi_{a} \\right)}\\right) \\cos{\\left(\\theta_{a} \\right)} + \\left(\\cos{\\left(\\varphi_{a} \\right)} - \\cos{\\left(\\varphi + \\varphi_{a} \\right)}\\right) \\cos{\\left(\\theta_{b} \\right)} + \\left(\\cos{\\left(\\varphi_{b} \\right)} - \\cos{\\left(\\varphi + \\varphi_{b} \\right)}\\right) \\cos{\\left(\\theta_{a} \\right)} - \\left(\\cos{\\left(\\varphi_{b} \\right)} - \\cos{\\left(\\varphi + \\varphi_{b} \\right)}\\right) \\cos{\\left(\\theta_{b} \\right)} \\right)}$"
      ],
      "text/plain": [
       "-0.5*(cos(varphi_a) - cos(varphi_b) - cos(varphi + varphi_a) + cos(varphi + varphi_b))*sin(theta_b)*sign((cos(varphi_a) - cos(varphi + varphi_a))*cos(theta_a) + (cos(varphi_a) - cos(varphi + varphi_a))*cos(theta_b) + (cos(varphi_b) - cos(varphi + varphi_b))*cos(theta_a) - (cos(varphi_b) - cos(varphi + varphi_b))*cos(theta_b))"
      ]
     },
     "execution_count": 25,
     "metadata": {},
     "output_type": "execute_result"
    }
   ],
   "source": [
    "simplify(B_B.diff(tb))"
   ]
  },
  {
   "cell_type": "code",
   "execution_count": 26,
   "metadata": {},
   "outputs": [
    {
     "data": {
      "text/latex": [
       "$\\displaystyle - 0.5 \\left(\\sin{\\left(\\varphi_{a} \\right)} - \\sin{\\left(\\varphi + \\varphi_{a} \\right)}\\right) \\left(\\cos{\\left(\\theta_{a} \\right)} + \\cos{\\left(\\theta_{b} \\right)}\\right) \\operatorname{sign}{\\left(\\left(\\cos{\\left(\\varphi_{a} \\right)} - \\cos{\\left(\\varphi + \\varphi_{a} \\right)}\\right) \\cos{\\left(\\theta_{a} \\right)} + \\left(\\cos{\\left(\\varphi_{a} \\right)} - \\cos{\\left(\\varphi + \\varphi_{a} \\right)}\\right) \\cos{\\left(\\theta_{b} \\right)} + \\left(\\cos{\\left(\\varphi_{b} \\right)} - \\cos{\\left(\\varphi + \\varphi_{b} \\right)}\\right) \\cos{\\left(\\theta_{a} \\right)} - \\left(\\cos{\\left(\\varphi_{b} \\right)} - \\cos{\\left(\\varphi + \\varphi_{b} \\right)}\\right) \\cos{\\left(\\theta_{b} \\right)} \\right)}$"
      ],
      "text/plain": [
       "-0.5*(sin(varphi_a) - sin(varphi + varphi_a))*(cos(theta_a) + cos(theta_b))*sign((cos(varphi_a) - cos(varphi + varphi_a))*cos(theta_a) + (cos(varphi_a) - cos(varphi + varphi_a))*cos(theta_b) + (cos(varphi_b) - cos(varphi + varphi_b))*cos(theta_a) - (cos(varphi_b) - cos(varphi + varphi_b))*cos(theta_b))"
      ]
     },
     "execution_count": 26,
     "metadata": {},
     "output_type": "execute_result"
    }
   ],
   "source": [
    "simplify(B_B.diff(pa))"
   ]
  },
  {
   "cell_type": "code",
   "execution_count": 27,
   "metadata": {},
   "outputs": [
    {
     "data": {
      "text/latex": [
       "$\\displaystyle - 0.5 \\left(\\sin{\\left(\\varphi_{b} \\right)} - \\sin{\\left(\\varphi + \\varphi_{b} \\right)}\\right) \\left(\\cos{\\left(\\theta_{a} \\right)} - \\cos{\\left(\\theta_{b} \\right)}\\right) \\operatorname{sign}{\\left(\\left(\\cos{\\left(\\varphi_{a} \\right)} - \\cos{\\left(\\varphi + \\varphi_{a} \\right)}\\right) \\cos{\\left(\\theta_{a} \\right)} + \\left(\\cos{\\left(\\varphi_{a} \\right)} - \\cos{\\left(\\varphi + \\varphi_{a} \\right)}\\right) \\cos{\\left(\\theta_{b} \\right)} + \\left(\\cos{\\left(\\varphi_{b} \\right)} - \\cos{\\left(\\varphi + \\varphi_{b} \\right)}\\right) \\cos{\\left(\\theta_{a} \\right)} - \\left(\\cos{\\left(\\varphi_{b} \\right)} - \\cos{\\left(\\varphi + \\varphi_{b} \\right)}\\right) \\cos{\\left(\\theta_{b} \\right)} \\right)}$"
      ],
      "text/plain": [
       "-0.5*(sin(varphi_b) - sin(varphi + varphi_b))*(cos(theta_a) - cos(theta_b))*sign((cos(varphi_a) - cos(varphi + varphi_a))*cos(theta_a) + (cos(varphi_a) - cos(varphi + varphi_a))*cos(theta_b) + (cos(varphi_b) - cos(varphi + varphi_b))*cos(theta_a) - (cos(varphi_b) - cos(varphi + varphi_b))*cos(theta_b))"
      ]
     },
     "execution_count": 27,
     "metadata": {},
     "output_type": "execute_result"
    }
   ],
   "source": [
    "simplify(B_B.diff(pb))"
   ]
  },
  {
   "cell_type": "markdown",
   "metadata": {},
   "source": [
    "### 4.3 Experiment C\n",
    "In this experiment we again start with the same $\\mathbf{J}_{in}$ and an interaction is considered that makes it have a random coupling. It has a probability $P$ to couple polarization and parity and $1-P$ to not achieved by randomly toggling between two phase distributions of the PS-SLM, one with $\\pi/2\\text{sgn}(x)$ phase and another with zero phase where $P$ is the fraction of time that the PS-SLM displays the first phase pattern. From this we go on to derive it's correlation function."
   ]
  },
  {
   "cell_type": "code",
   "execution_count": 28,
   "metadata": {},
   "outputs": [
    {
     "data": {
      "text/latex": [
       "$\\displaystyle \\left[\\begin{matrix}\\frac{1}{2} - \\frac{P}{2} & 0 & \\frac{1}{2} - \\frac{P}{2} & 0\\\\0 & \\frac{P}{2} & - \\frac{i P}{2} & 0\\\\\\frac{1}{2} - \\frac{P}{2} & \\frac{i P}{2} & \\frac{1}{2} & 0\\\\0 & 0 & 0 & 0\\end{matrix}\\right]$"
      ],
      "text/plain": [
       "Matrix([\n",
       "[1/2 - P/2,     0, 1/2 - P/2, 0],\n",
       "[        0,   P/2,    -I*P/2, 0],\n",
       "[1/2 - P/2, I*P/2,       1/2, 0],\n",
       "[        0,     0,         0, 0]])"
      ]
     },
     "execution_count": 28,
     "metadata": {},
     "output_type": "execute_result"
    }
   ],
   "source": [
    "P = symbols('P',real=True)\n",
    "J_ent = (1/sqrt(2))*Matrix([0, I, 1, 0])#Entagled state\n",
    "J_in = (1/sqrt(2))*Matrix([1, 0, 1, 0])#Input state\n",
    "G_C = P*conjugate(J_ent)*J_ent.T + (1-P)*conjugate(J_in)*J_in.T\n",
    "G_C"
   ]
  },
  {
   "cell_type": "code",
   "execution_count": 29,
   "metadata": {},
   "outputs": [
    {
     "data": {
      "text/latex": [
       "$\\displaystyle \\left[\\begin{matrix}\\frac{1}{2} & \\frac{1}{2} - \\frac{P}{2}\\\\\\frac{1}{2} - \\frac{P}{2} & \\frac{1}{2}\\end{matrix}\\right]$"
      ],
      "text/plain": [
       "Matrix([\n",
       "[      1/2, 1/2 - P/2],\n",
       "[1/2 - P/2,       1/2]])"
      ]
     },
     "execution_count": 29,
     "metadata": {},
     "output_type": "execute_result"
    }
   ],
   "source": [
    "G_pol_C = par_tr_G_pol(G_C)\n",
    "G_pol_C"
   ]
  },
  {
   "cell_type": "code",
   "execution_count": 30,
   "metadata": {},
   "outputs": [
    {
     "data": {
      "text/latex": [
       "$\\displaystyle \\left|{P - 1}\\right|$"
      ],
      "text/plain": [
       "Abs(P - 1)"
      ]
     },
     "execution_count": 30,
     "metadata": {},
     "output_type": "execute_result"
    }
   ],
   "source": [
    "app_coh(G_pol_C)# Prints D_pol"
   ]
  },
  {
   "cell_type": "code",
   "execution_count": 31,
   "metadata": {},
   "outputs": [
    {
     "data": {
      "text/latex": [
       "$\\displaystyle \\left[\\begin{matrix}1 - \\frac{P}{2} & 0\\\\0 & \\frac{P}{2}\\end{matrix}\\right]$"
      ],
      "text/plain": [
       "Matrix([\n",
       "[1 - P/2,   0],\n",
       "[      0, P/2]])"
      ]
     },
     "execution_count": 31,
     "metadata": {},
     "output_type": "execute_result"
    }
   ],
   "source": [
    "G_par_C = par_tr_G_par(G_C)\n",
    "G_par_C"
   ]
  },
  {
   "cell_type": "code",
   "execution_count": 32,
   "metadata": {},
   "outputs": [
    {
     "data": {
      "text/latex": [
       "$\\displaystyle \\sqrt{- P \\left(2 - P\\right) + 1}$"
      ],
      "text/plain": [
       "sqrt(-P*(2 - P) + 1)"
      ]
     },
     "execution_count": 32,
     "metadata": {},
     "output_type": "execute_result"
    }
   ],
   "source": [
    "app_coh(G_par_C)# Prints D_pol"
   ]
  },
  {
   "cell_type": "code",
   "execution_count": 33,
   "metadata": {},
   "outputs": [
    {
     "data": {
      "text/latex": [
       "$\\displaystyle - \\sqrt{2} P \\sin{\\left(\\theta_{a} \\right)} \\sin{\\left(\\varphi_{a} + \\frac{\\pi}{4} \\right)} - P \\cos{\\left(\\theta_{a} \\right)} \\cos{\\left(\\varphi_{a} \\right)} + \\sin{\\left(\\theta_{a} \\right)} \\cos{\\left(\\varphi_{a} \\right)}$"
      ],
      "text/plain": [
       "-sqrt(2)*P*sin(theta_a)*sin(varphi_a + pi/4) - P*cos(theta_a)*cos(varphi_a) + sin(theta_a)*cos(varphi_a)"
      ]
     },
     "execution_count": 33,
     "metadata": {},
     "output_type": "execute_result"
    }
   ],
   "source": [
    "G_out_C = conjugate(A_SLM)*conjugate(A_HWP)*G_C*A_HWP.T*A_SLM.T #Transformed matrix\n",
    "C_ta_pa_C = trigsimp(corr_prob(G_out_C)/trace_G(G_out_C))\n",
    "C_ta_pa_C"
   ]
  },
  {
   "cell_type": "code",
   "execution_count": 34,
   "metadata": {},
   "outputs": [
    {
     "data": {
      "text/latex": [
       "$\\displaystyle 0$"
      ],
      "text/plain": [
       "0"
      ]
     },
     "execution_count": 34,
     "metadata": {},
     "output_type": "execute_result"
    }
   ],
   "source": [
    "expectedc = (1-P)*sin(ta)*cos(pa) - P*cos(ta-pa)\n",
    "trigsimp(C_ta_pa_C-expectedc)#Exactly matches"
   ]
  },
  {
   "cell_type": "code",
   "execution_count": 36,
   "metadata": {},
   "outputs": [
    {
     "data": {
      "text/latex": [
       "$\\displaystyle \\left|{\\sqrt{2} P \\sin{\\left(\\theta_{a} \\right)} \\sin{\\left(\\varphi_{a} + \\frac{\\pi}{4} \\right)} + \\sqrt{2} P \\sin{\\left(\\theta_{a} \\right)} \\sin{\\left(\\varphi_{b} + \\frac{\\pi}{4} \\right)} + \\sqrt{2} P \\sin{\\left(\\theta_{b} \\right)} \\sin{\\left(\\varphi_{a} + \\frac{\\pi}{4} \\right)} - \\sqrt{2} P \\sin{\\left(\\theta_{b} \\right)} \\sin{\\left(\\varphi_{b} + \\frac{\\pi}{4} \\right)} + P \\cos{\\left(\\theta_{a} \\right)} \\cos{\\left(\\varphi_{a} \\right)} + P \\cos{\\left(\\theta_{a} \\right)} \\cos{\\left(\\varphi_{b} \\right)} + P \\cos{\\left(\\theta_{b} \\right)} \\cos{\\left(\\varphi_{a} \\right)} - P \\cos{\\left(\\theta_{b} \\right)} \\cos{\\left(\\varphi_{b} \\right)} - \\sin{\\left(\\theta_{a} \\right)} \\cos{\\left(\\varphi_{a} \\right)} - \\sin{\\left(\\theta_{a} \\right)} \\cos{\\left(\\varphi_{b} \\right)} - \\sin{\\left(\\theta_{b} \\right)} \\cos{\\left(\\varphi_{a} \\right)} + \\sin{\\left(\\theta_{b} \\right)} \\cos{\\left(\\varphi_{b} \\right)}}\\right|$"
      ],
      "text/plain": [
       "Abs(sqrt(2)*P*sin(theta_a)*sin(varphi_a + pi/4) + sqrt(2)*P*sin(theta_a)*sin(varphi_b + pi/4) + sqrt(2)*P*sin(theta_b)*sin(varphi_a + pi/4) - sqrt(2)*P*sin(theta_b)*sin(varphi_b + pi/4) + P*cos(theta_a)*cos(varphi_a) + P*cos(theta_a)*cos(varphi_b) + P*cos(theta_b)*cos(varphi_a) - P*cos(theta_b)*cos(varphi_b) - sin(theta_a)*cos(varphi_a) - sin(theta_a)*cos(varphi_b) - sin(theta_b)*cos(varphi_a) + sin(theta_b)*cos(varphi_b))"
      ]
     },
     "execution_count": 36,
     "metadata": {},
     "output_type": "execute_result"
    }
   ],
   "source": [
    "B_C = abs(simplify(C_ta_pa_C + C_ta_pa_C.xreplace({ta:tb}) + C_ta_pa_C.xreplace({pa:pb}) - C_ta_pa_C.xreplace({ta:tb,pa:pb})))\n",
    "B_C"
>>>>>>> 240720c848b96ded3f247ada811a6e7c7eb4dad9
   ]
  }
 ],
 "metadata": {
  "kernelspec": {
   "display_name": "Python 3",
   "language": "python",
   "name": "python3"
  },
  "language_info": {
   "codemirror_mode": {
    "name": "ipython",
    "version": 3
   },
   "file_extension": ".py",
   "mimetype": "text/x-python",
   "name": "python",
   "nbconvert_exporter": "python",
   "pygments_lexer": "ipython3",
   "version": "3.8.2"
  }
 },
 "nbformat": 4,
 "nbformat_minor": 4
}
