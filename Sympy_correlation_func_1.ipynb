{
 "cells": [
  {
   "cell_type": "code",
   "execution_count": 1,
   "metadata": {},
   "outputs": [],
   "source": [
    "import numpy as np\n",
    "import matplotlib.pyplot as plt\n",
    "from numpy import linalg\n",
    "from sympy import *\n",
    "from sympy.physics.quantum.dagger import Dagger"
   ]
  },
  {
   "cell_type": "markdown",
   "metadata": {},
   "source": [
    "## 4. Experimental results and derivations\n",
    "The paper \\[topic2\\] describes three experiments A, B and C. Here we will derive the theoretical expressions they use for fitting their data using the SymPy package."
   ]
  },
  {
   "cell_type": "code",
   "execution_count": 2,
   "metadata": {},
   "outputs": [],
   "source": [
    "t,p,ta,pa,tb,pb = symbols('theta varphi theta_a varphi_a theta_b varphi_b',real=True)\n",
    "A_HWP = Matrix([[-cos(ta/2),0,-sin(ta/2),0],[0,-cos(ta/2),0,-sin(ta/2)],[-sin(ta/2),0,cos(ta/2),0],\n",
    "              [0,-sin(ta/2),0,cos(ta/2)]])\n",
    "A_SLM = Matrix([[cos(pa/2),I*sin(pa/2),0,0],[I*sin(pa/2),cos(pa/2),0,0],[0,0,cos(pa/2),I*sin(pa/2)],\n",
    "             [0,0,I*sin(pa/2),cos(pa/2)]])\n",
    "A_PSSLM = Matrix([[cos(pa/2),I*sin(pa/2),0,0],[I*sin(pa/2),cos(pa/2),0,0],[0,0,1,0],\n",
    "             [0,0,0,1]]) \n",
    "\n",
    "def trace_G(G): #A trace function for just 4x4 G matrices\n",
    "    return simplify(G[0,0] + G[1,1] + G[2,2] + G[3,3])\n",
    "def corr_prob(G): #Returns the value I_He - I_Ho - I_Ve +I_Vo from given G matrix\n",
    "    return simplify(G[0,0] - G[1,1] - G[2,2] + G[3,3])\n",
    "\n",
    "def par_tr_G_pol(G): #returns the partial trace of G for giving G_pol\n",
    "    return simplify(Matrix([[G[0,0]+G[1,1],G[0,2]+G[1,3]],[G[2,0]+G[3,1],G[2,2]+G[3,3]]]))\n",
    "\n",
    "def par_tr_G_par(G): #returns the partial trace of G for giving G_par\n",
    "    return Matrix([[G[0,0]+G[2,2],G[0,1]+G[2,3]],[G[1,0]+G[3,2],G[1,1]+G[3,3]]])\n",
    "\n",
    "def app_coh(G): #Returns apparent degree of coherence for a 2x2 G matrix\n",
    "    return simplify(sqrt(1-4*simplify(Determinant(G))/(simplify(Trace(G))**2)))\n",
    "\n",
    "def norm_grad(B,syms):\n",
    "    c = 0\n",
    "    for i in syms:\n",
    "        c += simplify(B.diff(i)**2)\n",
    "    return simplify(c)"
   ]
  },
  {
   "cell_type": "markdown",
   "metadata": {},
   "source": [
    "### 4.1 Experiment A\n",
    "Here the field is competely coherent and we start with the Jones vector in state $\\mathbf{J} = (1/\\sqrt{2})[\\cos(\\varphi/2)\\text{ }\\iota\\sin(\\varphi/2)\\text{ 1 0}]^T$ which is reached by applying the PS-SLM on the input state of $\\mathbf{J}_{in} = (1/\\sqrt{2})[\\text{1 0 1 0}]^T$. On this we then apply the rotation of basis by $\\theta_a$ for polarization and of $\\varphi_a$ for parity and then conduct measurements of each component. Based on our previous definitions we now derive the correlation function for this experiment."
   ]
  },
  {
   "cell_type": "code",
   "execution_count": 3,
   "metadata": {},
   "outputs": [
    {
     "data": {
      "text/latex": [
       "$\\displaystyle \\left[\\begin{matrix}0.5 \\cos^{2}{\\left(\\frac{\\varphi}{2} \\right)} & 0.25 i \\sin{\\left(\\varphi \\right)} & 0.5 \\cos{\\left(\\frac{\\varphi}{2} \\right)} & 0\\\\- 0.25 i \\sin{\\left(\\varphi \\right)} & 0.5 \\sin^{2}{\\left(\\frac{\\varphi}{2} \\right)} & - 0.5 i \\sin{\\left(\\frac{\\varphi}{2} \\right)} & 0\\\\0.5 \\cos{\\left(\\frac{\\varphi}{2} \\right)} & 0.5 i \\sin{\\left(\\frac{\\varphi}{2} \\right)} & 0.5 & 0\\\\0 & 0 & 0 & 0\\end{matrix}\\right]$"
      ],
      "text/plain": [
       "Matrix([\n",
       "[0.5*cos(varphi/2)**2,   0.25*I*sin(varphi),    0.5*cos(varphi/2), 0],\n",
       "[ -0.25*I*sin(varphi), 0.5*sin(varphi/2)**2, -0.5*I*sin(varphi/2), 0],\n",
       "[   0.5*cos(varphi/2),  0.5*I*sin(varphi/2),                  0.5, 0],\n",
       "[                   0,                    0,                    0, 0]])"
      ]
     },
     "execution_count": 3,
     "metadata": {},
     "output_type": "execute_result"
    }
   ],
   "source": [
    "J = sqrt(1/2)*Matrix([cos(p/2),I*sin(p/2),1,0])\n",
    "G_A = trigsimp(conjugate(J)*J.T)\n",
    "G_A #The input beam G matrix before the transformations"
   ]
  },
  {
   "cell_type": "code",
   "execution_count": 4,
   "metadata": {},
   "outputs": [
    {
     "data": {
      "text/latex": [
       "$\\displaystyle \\left[\\begin{matrix}0.5 & 0.5 \\cos{\\left(\\frac{\\varphi}{2} \\right)}\\\\0.5 \\cos{\\left(\\frac{\\varphi}{2} \\right)} & 0.5\\end{matrix}\\right]$"
      ],
      "text/plain": [
       "Matrix([\n",
       "[              0.5, 0.5*cos(varphi/2)],\n",
       "[0.5*cos(varphi/2),               0.5]])"
      ]
     },
     "execution_count": 4,
     "metadata": {},
     "output_type": "execute_result"
    }
   ],
   "source": [
    "G_pol_A = par_tr_G_pol(G_A)\n",
    "G_pol_A"
   ]
  },
  {
   "cell_type": "code",
   "execution_count": 5,
   "metadata": {},
   "outputs": [
    {
     "data": {
      "text/latex": [
       "$\\displaystyle 1.0 \\left|{\\cos{\\left(\\frac{\\varphi}{2} \\right)}}\\right|$"
      ],
      "text/plain": [
       "1.0*Abs(cos(varphi/2))"
      ]
     },
     "execution_count": 5,
     "metadata": {},
     "output_type": "execute_result"
    }
   ],
   "source": [
    "app_coh(G_pol_A)# Prints D_pol"
   ]
  },
  {
   "cell_type": "code",
   "execution_count": 6,
   "metadata": {},
   "outputs": [
    {
     "data": {
      "text/latex": [
       "$\\displaystyle \\left[\\begin{matrix}0.5 \\cos^{2}{\\left(\\frac{\\varphi}{2} \\right)} + 0.5 & 0.25 i \\sin{\\left(\\varphi \\right)}\\\\- 0.25 i \\sin{\\left(\\varphi \\right)} & 0.5 \\sin^{2}{\\left(\\frac{\\varphi}{2} \\right)}\\end{matrix}\\right]$"
      ],
      "text/plain": [
       "Matrix([\n",
       "[0.5*cos(varphi/2)**2 + 0.5,   0.25*I*sin(varphi)],\n",
       "[       -0.25*I*sin(varphi), 0.5*sin(varphi/2)**2]])"
      ]
     },
     "execution_count": 6,
     "metadata": {},
     "output_type": "execute_result"
    }
   ],
   "source": [
    "G_par_A = par_tr_G_par(G_A)\n",
    "G_par_A"
   ]
  },
  {
   "cell_type": "code",
   "execution_count": 7,
   "metadata": {},
   "outputs": [
    {
     "data": {
      "text/latex": [
       "$\\displaystyle 0.707106781186548 \\sqrt{\\cos{\\left(\\varphi \\right)} + 1}$"
      ],
      "text/plain": [
       "0.707106781186548*sqrt(cos(varphi) + 1)"
      ]
     },
     "execution_count": 7,
     "metadata": {},
     "output_type": "execute_result"
    }
   ],
   "source": [
    "app_coh(G_par_A)# Prints D_par"
   ]
  },
  {
   "cell_type": "code",
   "execution_count": null,
   "metadata": {},
   "outputs": [],
   "source": []
  },
  {
   "cell_type": "code",
   "execution_count": 8,
   "metadata": {},
   "outputs": [
    {
     "data": {
      "text/latex": [
       "$\\displaystyle 1.0 \\sin{\\left(\\theta_{a} \\right)} \\cos{\\left(\\frac{\\varphi}{2} + \\varphi_{a} \\right)} - 0.5 \\cos{\\left(\\theta_{a} \\right)} \\cos{\\left(\\varphi_{a} \\right)} + 0.5 \\cos{\\left(\\theta_{a} \\right)} \\cos{\\left(\\varphi + \\varphi_{a} \\right)}$"
      ],
      "text/plain": [
       "1.0*sin(theta_a)*cos(varphi/2 + varphi_a) - 0.5*cos(theta_a)*cos(varphi_a) + 0.5*cos(theta_a)*cos(varphi + varphi_a)"
      ]
     },
     "execution_count": 8,
     "metadata": {},
     "output_type": "execute_result"
    }
   ],
   "source": [
    "G_out_A = conjugate(A_SLM)*conjugate(A_HWP)*G_A*A_HWP.T*A_SLM.T #Transformed matrix\n",
    "C_ta_pa_A = trigsimp(corr_prob(G_out_A)/trace_G(G_out_A))\n",
    "C_ta_pa_A"
   ]
  },
  {
   "cell_type": "code",
   "execution_count": 9,
   "metadata": {},
   "outputs": [
    {
     "data": {
      "text/latex": [
       "$\\displaystyle - \\left(1 - \\sin{\\left(\\frac{\\varphi}{2} \\right)}\\right) \\sin{\\left(\\theta_{a} \\right)} \\cos{\\left(\\frac{\\varphi}{2} + \\varphi_{a} \\right)} - 1.0 \\sin{\\left(\\theta_{a} \\right)} \\cos{\\left(\\frac{\\varphi}{2} + \\varphi_{a} \\right)} - \\sin{\\left(\\frac{\\varphi}{2} \\right)} \\sin{\\left(- \\theta_{a} + \\frac{\\varphi}{2} + \\varphi_{a} \\right)} + 0.5 \\cos{\\left(\\theta_{a} \\right)} \\cos{\\left(\\varphi_{a} \\right)} - 0.5 \\cos{\\left(\\theta_{a} \\right)} \\cos{\\left(\\varphi + \\varphi_{a} \\right)}$"
      ],
      "text/plain": [
       "-(1 - sin(varphi/2))*sin(theta_a)*cos(varphi/2 + varphi_a) - 1.0*sin(theta_a)*cos(varphi/2 + varphi_a) - sin(varphi/2)*sin(-theta_a + varphi/2 + varphi_a) + 0.5*cos(theta_a)*cos(varphi_a) - 0.5*cos(theta_a)*cos(varphi + varphi_a)"
      ]
     },
     "execution_count": 9,
     "metadata": {},
     "output_type": "execute_result"
    }
   ],
   "source": [
    "expected = sin(p/2)*sin(ta-pa-p/2) - (1-sin(p/2))*cos(pa+p/2)*sin(ta)\n",
    "trigsimp(expected-C_ta_pa_A)#Not matching :("
   ]
  },
  {
   "cell_type": "code",
   "execution_count": 39,
   "metadata": {},
   "outputs": [
    {
     "data": {
      "text/plain": [
       "(0.0, 6.283185307179586, 0.0, 6.283185307179586)"
      ]
     },
     "execution_count": 39,
     "metadata": {},
     "output_type": "execute_result"
    },
    {
     "data": {
      "image/png": "[encoded data removed]",
      "text/plain": [
       "<Figure size 432x288 with 2 Axes>"
      ]
     },
     "metadata": {
      "needs_background": "light"
     },
     "output_type": "display_data"
    }
   ],
   "source": [
    "f = lambdify((t,p,ta,pa),trigsimp(expected), \"numpy\")\n",
    "ta_range = np.linspace(0,2*np.pi,1000)\n",
    "pa_range = np.linspace(0,2*np.pi,1000)\n",
    "phi_fixed = np.pi/2\n",
    "X, Y = np.meshgrid(ta_range, pa_range)\n",
    "def ftemp(ta_val,pa_val):\n",
    "    return f(0,phi_fixed,ta_val,pa_val)\n",
    "Z = ftemp(X,Y)\n",
    "fig,ax=plt.subplots(1,1)\n",
    "cp = ax.contourf(X, Y, Z)\n",
    "fig.colorbar(cp) # Add a colorbar to a plot\n",
    "plt.xlim(0,2*np.pi)\n",
    "plt.ylim(0,2*np.pi)\n",
    "ax.axis('equal')"
   ]
  },
  {
   "cell_type": "code",
   "execution_count": null,
   "metadata": {},
   "outputs": [],
   "source": []
  },
  {
   "cell_type": "code",
   "execution_count": 11,
   "metadata": {},
   "outputs": [
    {
     "data": {
      "text/latex": [
       "$\\displaystyle \\left|{1.0 \\sin{\\left(\\theta_{a} \\right)} \\cos{\\left(\\frac{\\varphi}{2} + \\varphi_{a} \\right)} + 1.0 \\sin{\\left(\\theta_{a} \\right)} \\cos{\\left(\\frac{\\varphi}{2} + \\varphi_{b} \\right)} + 1.0 \\sin{\\left(\\theta_{b} \\right)} \\cos{\\left(\\frac{\\varphi}{2} + \\varphi_{a} \\right)} - 1.0 \\sin{\\left(\\theta_{b} \\right)} \\cos{\\left(\\frac{\\varphi}{2} + \\varphi_{b} \\right)} - 0.5 \\cos{\\left(\\theta_{a} \\right)} \\cos{\\left(\\varphi_{a} \\right)} - 0.5 \\cos{\\left(\\theta_{a} \\right)} \\cos{\\left(\\varphi_{b} \\right)} + 0.5 \\cos{\\left(\\theta_{a} \\right)} \\cos{\\left(\\varphi + \\varphi_{a} \\right)} + 0.5 \\cos{\\left(\\theta_{a} \\right)} \\cos{\\left(\\varphi + \\varphi_{b} \\right)} - 0.5 \\cos{\\left(\\theta_{b} \\right)} \\cos{\\left(\\varphi_{a} \\right)} + 0.5 \\cos{\\left(\\theta_{b} \\right)} \\cos{\\left(\\varphi_{b} \\right)} + 0.5 \\cos{\\left(\\theta_{b} \\right)} \\cos{\\left(\\varphi + \\varphi_{a} \\right)} - 0.5 \\cos{\\left(\\theta_{b} \\right)} \\cos{\\left(\\varphi + \\varphi_{b} \\right)}}\\right|$"
      ],
      "text/plain": [
       "Abs(1.0*sin(theta_a)*cos(varphi/2 + varphi_a) + 1.0*sin(theta_a)*cos(varphi/2 + varphi_b) + 1.0*sin(theta_b)*cos(varphi/2 + varphi_a) - 1.0*sin(theta_b)*cos(varphi/2 + varphi_b) - 0.5*cos(theta_a)*cos(varphi_a) - 0.5*cos(theta_a)*cos(varphi_b) + 0.5*cos(theta_a)*cos(varphi + varphi_a) + 0.5*cos(theta_a)*cos(varphi + varphi_b) - 0.5*cos(theta_b)*cos(varphi_a) + 0.5*cos(theta_b)*cos(varphi_b) + 0.5*cos(theta_b)*cos(varphi + varphi_a) - 0.5*cos(theta_b)*cos(varphi + varphi_b))"
      ]
     },
     "execution_count": 11,
     "metadata": {},
     "output_type": "execute_result"
    }
   ],
   "source": [
    "B_A = abs(simplify(C_ta_pa_A + C_ta_pa_A.xreplace({ta:tb}) + C_ta_pa_A.xreplace({pa:pb}) - C_ta_pa_A.xreplace({ta:tb,pa:pb})))\n",
    "B_A"
   ]
  },
  {
   "cell_type": "code",
   "execution_count": 12,
   "metadata": {},
   "outputs": [
    {
     "data": {
      "text/latex": [
       "$\\displaystyle \\left(0.5 \\sin{\\left(\\theta_{a} \\right)} \\cos{\\left(\\varphi_{a} \\right)} + 0.5 \\sin{\\left(\\theta_{a} \\right)} \\cos{\\left(\\varphi_{b} \\right)} - 0.5 \\sin{\\left(\\theta_{a} \\right)} \\cos{\\left(\\varphi + \\varphi_{a} \\right)} - 0.5 \\sin{\\left(\\theta_{a} \\right)} \\cos{\\left(\\varphi + \\varphi_{b} \\right)} + 1.0 \\cos{\\left(\\theta_{a} \\right)} \\cos{\\left(\\frac{\\varphi}{2} + \\varphi_{a} \\right)} + 1.0 \\cos{\\left(\\theta_{a} \\right)} \\cos{\\left(\\frac{\\varphi}{2} + \\varphi_{b} \\right)}\\right) \\operatorname{sign}{\\left(1.0 \\sin{\\left(\\theta_{a} \\right)} \\cos{\\left(\\frac{\\varphi}{2} + \\varphi_{a} \\right)} + 1.0 \\sin{\\left(\\theta_{a} \\right)} \\cos{\\left(\\frac{\\varphi}{2} + \\varphi_{b} \\right)} + 1.0 \\sin{\\left(\\theta_{b} \\right)} \\cos{\\left(\\frac{\\varphi}{2} + \\varphi_{a} \\right)} - 1.0 \\sin{\\left(\\theta_{b} \\right)} \\cos{\\left(\\frac{\\varphi}{2} + \\varphi_{b} \\right)} - 0.5 \\cos{\\left(\\theta_{a} \\right)} \\cos{\\left(\\varphi_{a} \\right)} - 0.5 \\cos{\\left(\\theta_{a} \\right)} \\cos{\\left(\\varphi_{b} \\right)} + 0.5 \\cos{\\left(\\theta_{a} \\right)} \\cos{\\left(\\varphi + \\varphi_{a} \\right)} + 0.5 \\cos{\\left(\\theta_{a} \\right)} \\cos{\\left(\\varphi + \\varphi_{b} \\right)} - 0.5 \\cos{\\left(\\theta_{b} \\right)} \\cos{\\left(\\varphi_{a} \\right)} + 0.5 \\cos{\\left(\\theta_{b} \\right)} \\cos{\\left(\\varphi_{b} \\right)} + 0.5 \\cos{\\left(\\theta_{b} \\right)} \\cos{\\left(\\varphi + \\varphi_{a} \\right)} - 0.5 \\cos{\\left(\\theta_{b} \\right)} \\cos{\\left(\\varphi + \\varphi_{b} \\right)} \\right)}$"
      ],
      "text/plain": [
       "(0.5*sin(theta_a)*cos(varphi_a) + 0.5*sin(theta_a)*cos(varphi_b) - 0.5*sin(theta_a)*cos(varphi + varphi_a) - 0.5*sin(theta_a)*cos(varphi + varphi_b) + 1.0*cos(theta_a)*cos(varphi/2 + varphi_a) + 1.0*cos(theta_a)*cos(varphi/2 + varphi_b))*sign(1.0*sin(theta_a)*cos(varphi/2 + varphi_a) + 1.0*sin(theta_a)*cos(varphi/2 + varphi_b) + 1.0*sin(theta_b)*cos(varphi/2 + varphi_a) - 1.0*sin(theta_b)*cos(varphi/2 + varphi_b) - 0.5*cos(theta_a)*cos(varphi_a) - 0.5*cos(theta_a)*cos(varphi_b) + 0.5*cos(theta_a)*cos(varphi + varphi_a) + 0.5*cos(theta_a)*cos(varphi + varphi_b) - 0.5*cos(theta_b)*cos(varphi_a) + 0.5*cos(theta_b)*cos(varphi_b) + 0.5*cos(theta_b)*cos(varphi + varphi_a) - 0.5*cos(theta_b)*cos(varphi + varphi_b))"
      ]
     },
     "execution_count": 12,
     "metadata": {},
     "output_type": "execute_result"
    }
   ],
   "source": [
    "B_A.diff(ta)"
   ]
  },
  {
   "cell_type": "code",
   "execution_count": 13,
   "metadata": {},
   "outputs": [
    {
     "data": {
      "text/latex": [
       "$\\displaystyle \\left(0.5 \\sin{\\left(\\theta_{b} \\right)} \\cos{\\left(\\varphi_{a} \\right)} - 0.5 \\sin{\\left(\\theta_{b} \\right)} \\cos{\\left(\\varphi_{b} \\right)} - 0.5 \\sin{\\left(\\theta_{b} \\right)} \\cos{\\left(\\varphi + \\varphi_{a} \\right)} + 0.5 \\sin{\\left(\\theta_{b} \\right)} \\cos{\\left(\\varphi + \\varphi_{b} \\right)} + 1.0 \\cos{\\left(\\theta_{b} \\right)} \\cos{\\left(\\frac{\\varphi}{2} + \\varphi_{a} \\right)} - 1.0 \\cos{\\left(\\theta_{b} \\right)} \\cos{\\left(\\frac{\\varphi}{2} + \\varphi_{b} \\right)}\\right) \\operatorname{sign}{\\left(1.0 \\sin{\\left(\\theta_{a} \\right)} \\cos{\\left(\\frac{\\varphi}{2} + \\varphi_{a} \\right)} + 1.0 \\sin{\\left(\\theta_{a} \\right)} \\cos{\\left(\\frac{\\varphi}{2} + \\varphi_{b} \\right)} + 1.0 \\sin{\\left(\\theta_{b} \\right)} \\cos{\\left(\\frac{\\varphi}{2} + \\varphi_{a} \\right)} - 1.0 \\sin{\\left(\\theta_{b} \\right)} \\cos{\\left(\\frac{\\varphi}{2} + \\varphi_{b} \\right)} - 0.5 \\cos{\\left(\\theta_{a} \\right)} \\cos{\\left(\\varphi_{a} \\right)} - 0.5 \\cos{\\left(\\theta_{a} \\right)} \\cos{\\left(\\varphi_{b} \\right)} + 0.5 \\cos{\\left(\\theta_{a} \\right)} \\cos{\\left(\\varphi + \\varphi_{a} \\right)} + 0.5 \\cos{\\left(\\theta_{a} \\right)} \\cos{\\left(\\varphi + \\varphi_{b} \\right)} - 0.5 \\cos{\\left(\\theta_{b} \\right)} \\cos{\\left(\\varphi_{a} \\right)} + 0.5 \\cos{\\left(\\theta_{b} \\right)} \\cos{\\left(\\varphi_{b} \\right)} + 0.5 \\cos{\\left(\\theta_{b} \\right)} \\cos{\\left(\\varphi + \\varphi_{a} \\right)} - 0.5 \\cos{\\left(\\theta_{b} \\right)} \\cos{\\left(\\varphi + \\varphi_{b} \\right)} \\right)}$"
      ],
      "text/plain": [
       "(0.5*sin(theta_b)*cos(varphi_a) - 0.5*sin(theta_b)*cos(varphi_b) - 0.5*sin(theta_b)*cos(varphi + varphi_a) + 0.5*sin(theta_b)*cos(varphi + varphi_b) + 1.0*cos(theta_b)*cos(varphi/2 + varphi_a) - 1.0*cos(theta_b)*cos(varphi/2 + varphi_b))*sign(1.0*sin(theta_a)*cos(varphi/2 + varphi_a) + 1.0*sin(theta_a)*cos(varphi/2 + varphi_b) + 1.0*sin(theta_b)*cos(varphi/2 + varphi_a) - 1.0*sin(theta_b)*cos(varphi/2 + varphi_b) - 0.5*cos(theta_a)*cos(varphi_a) - 0.5*cos(theta_a)*cos(varphi_b) + 0.5*cos(theta_a)*cos(varphi + varphi_a) + 0.5*cos(theta_a)*cos(varphi + varphi_b) - 0.5*cos(theta_b)*cos(varphi_a) + 0.5*cos(theta_b)*cos(varphi_b) + 0.5*cos(theta_b)*cos(varphi + varphi_a) - 0.5*cos(theta_b)*cos(varphi + varphi_b))"
      ]
     },
     "execution_count": 13,
     "metadata": {},
     "output_type": "execute_result"
    }
   ],
   "source": [
    "B_A.diff(tb)"
   ]
  },
  {
   "cell_type": "code",
   "execution_count": 14,
   "metadata": {},
   "outputs": [
    {
     "data": {
      "text/latex": [
       "$\\displaystyle \\left(- 1.0 \\sin{\\left(\\theta_{a} \\right)} \\sin{\\left(\\frac{\\varphi}{2} + \\varphi_{a} \\right)} - 1.0 \\sin{\\left(\\theta_{b} \\right)} \\sin{\\left(\\frac{\\varphi}{2} + \\varphi_{a} \\right)} + 0.5 \\sin{\\left(\\varphi_{a} \\right)} \\cos{\\left(\\theta_{a} \\right)} + 0.5 \\sin{\\left(\\varphi_{a} \\right)} \\cos{\\left(\\theta_{b} \\right)} - 0.5 \\sin{\\left(\\varphi + \\varphi_{a} \\right)} \\cos{\\left(\\theta_{a} \\right)} - 0.5 \\sin{\\left(\\varphi + \\varphi_{a} \\right)} \\cos{\\left(\\theta_{b} \\right)}\\right) \\operatorname{sign}{\\left(1.0 \\sin{\\left(\\theta_{a} \\right)} \\cos{\\left(\\frac{\\varphi}{2} + \\varphi_{a} \\right)} + 1.0 \\sin{\\left(\\theta_{a} \\right)} \\cos{\\left(\\frac{\\varphi}{2} + \\varphi_{b} \\right)} + 1.0 \\sin{\\left(\\theta_{b} \\right)} \\cos{\\left(\\frac{\\varphi}{2} + \\varphi_{a} \\right)} - 1.0 \\sin{\\left(\\theta_{b} \\right)} \\cos{\\left(\\frac{\\varphi}{2} + \\varphi_{b} \\right)} - 0.5 \\cos{\\left(\\theta_{a} \\right)} \\cos{\\left(\\varphi_{a} \\right)} - 0.5 \\cos{\\left(\\theta_{a} \\right)} \\cos{\\left(\\varphi_{b} \\right)} + 0.5 \\cos{\\left(\\theta_{a} \\right)} \\cos{\\left(\\varphi + \\varphi_{a} \\right)} + 0.5 \\cos{\\left(\\theta_{a} \\right)} \\cos{\\left(\\varphi + \\varphi_{b} \\right)} - 0.5 \\cos{\\left(\\theta_{b} \\right)} \\cos{\\left(\\varphi_{a} \\right)} + 0.5 \\cos{\\left(\\theta_{b} \\right)} \\cos{\\left(\\varphi_{b} \\right)} + 0.5 \\cos{\\left(\\theta_{b} \\right)} \\cos{\\left(\\varphi + \\varphi_{a} \\right)} - 0.5 \\cos{\\left(\\theta_{b} \\right)} \\cos{\\left(\\varphi + \\varphi_{b} \\right)} \\right)}$"
      ],
      "text/plain": [
       "(-1.0*sin(theta_a)*sin(varphi/2 + varphi_a) - 1.0*sin(theta_b)*sin(varphi/2 + varphi_a) + 0.5*sin(varphi_a)*cos(theta_a) + 0.5*sin(varphi_a)*cos(theta_b) - 0.5*sin(varphi + varphi_a)*cos(theta_a) - 0.5*sin(varphi + varphi_a)*cos(theta_b))*sign(1.0*sin(theta_a)*cos(varphi/2 + varphi_a) + 1.0*sin(theta_a)*cos(varphi/2 + varphi_b) + 1.0*sin(theta_b)*cos(varphi/2 + varphi_a) - 1.0*sin(theta_b)*cos(varphi/2 + varphi_b) - 0.5*cos(theta_a)*cos(varphi_a) - 0.5*cos(theta_a)*cos(varphi_b) + 0.5*cos(theta_a)*cos(varphi + varphi_a) + 0.5*cos(theta_a)*cos(varphi + varphi_b) - 0.5*cos(theta_b)*cos(varphi_a) + 0.5*cos(theta_b)*cos(varphi_b) + 0.5*cos(theta_b)*cos(varphi + varphi_a) - 0.5*cos(theta_b)*cos(varphi + varphi_b))"
      ]
     },
     "execution_count": 14,
     "metadata": {},
     "output_type": "execute_result"
    }
   ],
   "source": [
    "B_A.diff(pa)"
   ]
  },
  {
   "cell_type": "code",
   "execution_count": 15,
   "metadata": {},
   "outputs": [
    {
     "data": {
      "text/latex": [
       "$\\displaystyle \\left(- 1.0 \\sin{\\left(\\theta_{a} \\right)} \\sin{\\left(\\frac{\\varphi}{2} + \\varphi_{b} \\right)} + 1.0 \\sin{\\left(\\theta_{b} \\right)} \\sin{\\left(\\frac{\\varphi}{2} + \\varphi_{b} \\right)} + 0.5 \\sin{\\left(\\varphi_{b} \\right)} \\cos{\\left(\\theta_{a} \\right)} - 0.5 \\sin{\\left(\\varphi_{b} \\right)} \\cos{\\left(\\theta_{b} \\right)} - 0.5 \\sin{\\left(\\varphi + \\varphi_{b} \\right)} \\cos{\\left(\\theta_{a} \\right)} + 0.5 \\sin{\\left(\\varphi + \\varphi_{b} \\right)} \\cos{\\left(\\theta_{b} \\right)}\\right) \\operatorname{sign}{\\left(1.0 \\sin{\\left(\\theta_{a} \\right)} \\cos{\\left(\\frac{\\varphi}{2} + \\varphi_{a} \\right)} + 1.0 \\sin{\\left(\\theta_{a} \\right)} \\cos{\\left(\\frac{\\varphi}{2} + \\varphi_{b} \\right)} + 1.0 \\sin{\\left(\\theta_{b} \\right)} \\cos{\\left(\\frac{\\varphi}{2} + \\varphi_{a} \\right)} - 1.0 \\sin{\\left(\\theta_{b} \\right)} \\cos{\\left(\\frac{\\varphi}{2} + \\varphi_{b} \\right)} - 0.5 \\cos{\\left(\\theta_{a} \\right)} \\cos{\\left(\\varphi_{a} \\right)} - 0.5 \\cos{\\left(\\theta_{a} \\right)} \\cos{\\left(\\varphi_{b} \\right)} + 0.5 \\cos{\\left(\\theta_{a} \\right)} \\cos{\\left(\\varphi + \\varphi_{a} \\right)} + 0.5 \\cos{\\left(\\theta_{a} \\right)} \\cos{\\left(\\varphi + \\varphi_{b} \\right)} - 0.5 \\cos{\\left(\\theta_{b} \\right)} \\cos{\\left(\\varphi_{a} \\right)} + 0.5 \\cos{\\left(\\theta_{b} \\right)} \\cos{\\left(\\varphi_{b} \\right)} + 0.5 \\cos{\\left(\\theta_{b} \\right)} \\cos{\\left(\\varphi + \\varphi_{a} \\right)} - 0.5 \\cos{\\left(\\theta_{b} \\right)} \\cos{\\left(\\varphi + \\varphi_{b} \\right)} \\right)}$"
      ],
      "text/plain": [
       "(-1.0*sin(theta_a)*sin(varphi/2 + varphi_b) + 1.0*sin(theta_b)*sin(varphi/2 + varphi_b) + 0.5*sin(varphi_b)*cos(theta_a) - 0.5*sin(varphi_b)*cos(theta_b) - 0.5*sin(varphi + varphi_b)*cos(theta_a) + 0.5*sin(varphi + varphi_b)*cos(theta_b))*sign(1.0*sin(theta_a)*cos(varphi/2 + varphi_a) + 1.0*sin(theta_a)*cos(varphi/2 + varphi_b) + 1.0*sin(theta_b)*cos(varphi/2 + varphi_a) - 1.0*sin(theta_b)*cos(varphi/2 + varphi_b) - 0.5*cos(theta_a)*cos(varphi_a) - 0.5*cos(theta_a)*cos(varphi_b) + 0.5*cos(theta_a)*cos(varphi + varphi_a) + 0.5*cos(theta_a)*cos(varphi + varphi_b) - 0.5*cos(theta_b)*cos(varphi_a) + 0.5*cos(theta_b)*cos(varphi_b) + 0.5*cos(theta_b)*cos(varphi + varphi_a) - 0.5*cos(theta_b)*cos(varphi + varphi_b))"
      ]
     },
     "execution_count": 15,
     "metadata": {},
     "output_type": "execute_result"
    }
   ],
   "source": [
    "B_A.diff(pb)"
   ]
  },
  {
   "cell_type": "code",
   "execution_count": 16,
   "metadata": {},
   "outputs": [],
   "source": [
    "#Put graphs and all here"
   ]
  },
  {
   "cell_type": "markdown",
   "metadata": {},
   "source": [
    "### 4.2 Experiment B\n",
    "Here starting with the same $\\mathbf{J}_{in}$ the polarization is scrambled using a variable polarization rotator which does not affect the spatial DoF so we have $D_\\text{pol} = 0$ and $D_\\text{par} = 1$. Now this beam is sent through a PS-SLM which would couple the DoFs. We now go on to derive the correlation function for this"
   ]
  },
  {
   "cell_type": "code",
   "execution_count": 17,
   "metadata": {},
   "outputs": [
    {
     "data": {
      "text/latex": [
       "$\\displaystyle \\left[\\begin{matrix}0.5 \\cos^{2}{\\left(\\frac{\\varphi}{2} \\right)} & 0.5 i \\sin{\\left(\\frac{\\varphi}{2} \\right)} \\cos{\\left(\\frac{\\varphi}{2} \\right)} & 0 & 0\\\\- 0.5 i \\sin{\\left(\\frac{\\varphi}{2} \\right)} \\cos{\\left(\\frac{\\varphi}{2} \\right)} & 0.5 \\sin^{2}{\\left(\\frac{\\varphi}{2} \\right)} & 0 & 0\\\\0 & 0 & 0.5 & 0\\\\0 & 0 & 0 & 0\\end{matrix}\\right]$"
      ],
      "text/plain": [
       "Matrix([\n",
       "[              0.5*cos(varphi/2)**2, 0.5*I*sin(varphi/2)*cos(varphi/2),   0, 0],\n",
       "[-0.5*I*sin(varphi/2)*cos(varphi/2),              0.5*sin(varphi/2)**2,   0, 0],\n",
       "[                                 0,                                 0, 0.5, 0],\n",
       "[                                 0,                                 0,   0, 0]])"
      ]
     },
     "execution_count": 17,
     "metadata": {},
     "output_type": "execute_result"
    }
   ],
   "source": [
    "G_B = (1/2)*Matrix([[cos(p/2)**2, I*cos(p/2)*sin(p/2), 0, 0],[-I*cos(p/2)*sin(p/2), sin(p/2)**2, 0,0],\n",
    "            [0,0,1,0],[0,0,0,0]])\n",
    "G_B #The input beam G matrix before the transformations"
   ]
  },
  {
   "cell_type": "code",
   "execution_count": 18,
   "metadata": {},
   "outputs": [
    {
     "data": {
      "text/latex": [
       "$\\displaystyle \\left[\\begin{matrix}0.5 & 0\\\\0 & 0.5\\end{matrix}\\right]$"
      ],
      "text/plain": [
       "Matrix([\n",
       "[0.5,   0],\n",
       "[  0, 0.5]])"
      ]
     },
     "execution_count": 18,
     "metadata": {},
     "output_type": "execute_result"
    }
   ],
   "source": [
    "G_pol_B = par_tr_G_pol(G_B)\n",
    "G_pol_B"
   ]
  },
  {
   "cell_type": "code",
   "execution_count": 19,
   "metadata": {},
   "outputs": [
    {
     "data": {
      "text/latex": [
       "$\\displaystyle 0$"
      ],
      "text/plain": [
       "0"
      ]
     },
     "execution_count": 19,
     "metadata": {},
     "output_type": "execute_result"
    }
   ],
   "source": [
    "app_coh(G_pol_B)# Prints D_pol"
   ]
  },
  {
   "cell_type": "code",
   "execution_count": 20,
   "metadata": {},
   "outputs": [
    {
     "data": {
      "text/latex": [
       "$\\displaystyle \\left[\\begin{matrix}0.5 \\cos^{2}{\\left(\\frac{\\varphi}{2} \\right)} + 0.5 & 0.5 i \\sin{\\left(\\frac{\\varphi}{2} \\right)} \\cos{\\left(\\frac{\\varphi}{2} \\right)}\\\\- 0.5 i \\sin{\\left(\\frac{\\varphi}{2} \\right)} \\cos{\\left(\\frac{\\varphi}{2} \\right)} & 0.5 \\sin^{2}{\\left(\\frac{\\varphi}{2} \\right)}\\end{matrix}\\right]$"
      ],
      "text/plain": [
       "Matrix([\n",
       "[        0.5*cos(varphi/2)**2 + 0.5, 0.5*I*sin(varphi/2)*cos(varphi/2)],\n",
       "[-0.5*I*sin(varphi/2)*cos(varphi/2),              0.5*sin(varphi/2)**2]])"
      ]
     },
     "execution_count": 20,
     "metadata": {},
     "output_type": "execute_result"
    }
   ],
   "source": [
    "G_par_B = par_tr_G_par(G_B)\n",
    "G_par_B"
   ]
  },
  {
   "cell_type": "code",
   "execution_count": 21,
   "metadata": {},
   "outputs": [
    {
     "data": {
      "text/latex": [
       "$\\displaystyle 0.707106781186548 \\sqrt{\\cos{\\left(\\varphi \\right)} + 1}$"
      ],
      "text/plain": [
       "0.707106781186548*sqrt(cos(varphi) + 1)"
      ]
     },
     "execution_count": 21,
     "metadata": {},
     "output_type": "execute_result"
    }
   ],
   "source": [
    "app_coh(G_par_B)# Prints D_par"
   ]
  },
  {
   "cell_type": "code",
   "execution_count": 22,
   "metadata": {},
   "outputs": [
    {
     "data": {
      "text/latex": [
       "$\\displaystyle 0.5 \\left(- \\cos{\\left(\\varphi_{a} \\right)} + \\cos{\\left(\\varphi + \\varphi_{a} \\right)}\\right) \\cos{\\left(\\theta_{a} \\right)}$"
      ],
      "text/plain": [
       "0.5*(-cos(varphi_a) + cos(varphi + varphi_a))*cos(theta_a)"
      ]
     },
     "execution_count": 22,
     "metadata": {},
     "output_type": "execute_result"
    }
   ],
   "source": [
    "G_out_B = conjugate(A_SLM)*conjugate(A_HWP)*G_B*A_HWP.T*A_SLM.T #Transformed matrix\n",
    "C_ta_pa_B = trigsimp(corr_prob(G_out_B)/trace_G(G_out_B))\n",
    "C_ta_pa_B #Exactly matches expression in paper"
   ]
  },
  {
   "cell_type": "code",
   "execution_count": 23,
   "metadata": {},
   "outputs": [
    {
     "data": {
      "text/latex": [
       "$\\displaystyle \\left|{0.5 \\left(\\cos{\\left(\\varphi_{a} \\right)} - \\cos{\\left(\\varphi + \\varphi_{a} \\right)}\\right) \\cos{\\left(\\theta_{a} \\right)} + 0.5 \\left(\\cos{\\left(\\varphi_{a} \\right)} - \\cos{\\left(\\varphi + \\varphi_{a} \\right)}\\right) \\cos{\\left(\\theta_{b} \\right)} + 0.5 \\left(\\cos{\\left(\\varphi_{b} \\right)} - \\cos{\\left(\\varphi + \\varphi_{b} \\right)}\\right) \\cos{\\left(\\theta_{a} \\right)} - 0.5 \\left(\\cos{\\left(\\varphi_{b} \\right)} - \\cos{\\left(\\varphi + \\varphi_{b} \\right)}\\right) \\cos{\\left(\\theta_{b} \\right)}}\\right|$"
      ],
      "text/plain": [
       "Abs(0.5*(cos(varphi_a) - cos(varphi + varphi_a))*cos(theta_a) + 0.5*(cos(varphi_a) - cos(varphi + varphi_a))*cos(theta_b) + 0.5*(cos(varphi_b) - cos(varphi + varphi_b))*cos(theta_a) - 0.5*(cos(varphi_b) - cos(varphi + varphi_b))*cos(theta_b))"
      ]
     },
     "execution_count": 23,
     "metadata": {},
     "output_type": "execute_result"
    }
   ],
   "source": [
    "B_B = abs(simplify(C_ta_pa_B + C_ta_pa_B.xreplace({ta:tb}) + C_ta_pa_B.xreplace({pa:pb}) - C_ta_pa_B.xreplace({ta:tb,pa:pb})))\n",
    "B_B"
   ]
  },
  {
   "cell_type": "code",
   "execution_count": 24,
   "metadata": {},
   "outputs": [
    {
     "data": {
      "text/latex": [
       "$\\displaystyle - 0.5 \\left(\\cos{\\left(\\varphi_{a} \\right)} + \\cos{\\left(\\varphi_{b} \\right)} - \\cos{\\left(\\varphi + \\varphi_{a} \\right)} - \\cos{\\left(\\varphi + \\varphi_{b} \\right)}\\right) \\sin{\\left(\\theta_{a} \\right)} \\operatorname{sign}{\\left(\\left(\\cos{\\left(\\varphi_{a} \\right)} - \\cos{\\left(\\varphi + \\varphi_{a} \\right)}\\right) \\cos{\\left(\\theta_{a} \\right)} + \\left(\\cos{\\left(\\varphi_{a} \\right)} - \\cos{\\left(\\varphi + \\varphi_{a} \\right)}\\right) \\cos{\\left(\\theta_{b} \\right)} + \\left(\\cos{\\left(\\varphi_{b} \\right)} - \\cos{\\left(\\varphi + \\varphi_{b} \\right)}\\right) \\cos{\\left(\\theta_{a} \\right)} - \\left(\\cos{\\left(\\varphi_{b} \\right)} - \\cos{\\left(\\varphi + \\varphi_{b} \\right)}\\right) \\cos{\\left(\\theta_{b} \\right)} \\right)}$"
      ],
      "text/plain": [
       "-0.5*(cos(varphi_a) + cos(varphi_b) - cos(varphi + varphi_a) - cos(varphi + varphi_b))*sin(theta_a)*sign((cos(varphi_a) - cos(varphi + varphi_a))*cos(theta_a) + (cos(varphi_a) - cos(varphi + varphi_a))*cos(theta_b) + (cos(varphi_b) - cos(varphi + varphi_b))*cos(theta_a) - (cos(varphi_b) - cos(varphi + varphi_b))*cos(theta_b))"
      ]
     },
     "execution_count": 24,
     "metadata": {},
     "output_type": "execute_result"
    }
   ],
   "source": [
    "simplify(B_B.diff(ta))"
   ]
  },
  {
   "cell_type": "code",
   "execution_count": 25,
   "metadata": {},
   "outputs": [
    {
     "data": {
      "text/latex": [
       "$\\displaystyle - 0.5 \\left(\\cos{\\left(\\varphi_{a} \\right)} - \\cos{\\left(\\varphi_{b} \\right)} - \\cos{\\left(\\varphi + \\varphi_{a} \\right)} + \\cos{\\left(\\varphi + \\varphi_{b} \\right)}\\right) \\sin{\\left(\\theta_{b} \\right)} \\operatorname{sign}{\\left(\\left(\\cos{\\left(\\varphi_{a} \\right)} - \\cos{\\left(\\varphi + \\varphi_{a} \\right)}\\right) \\cos{\\left(\\theta_{a} \\right)} + \\left(\\cos{\\left(\\varphi_{a} \\right)} - \\cos{\\left(\\varphi + \\varphi_{a} \\right)}\\right) \\cos{\\left(\\theta_{b} \\right)} + \\left(\\cos{\\left(\\varphi_{b} \\right)} - \\cos{\\left(\\varphi + \\varphi_{b} \\right)}\\right) \\cos{\\left(\\theta_{a} \\right)} - \\left(\\cos{\\left(\\varphi_{b} \\right)} - \\cos{\\left(\\varphi + \\varphi_{b} \\right)}\\right) \\cos{\\left(\\theta_{b} \\right)} \\right)}$"
      ],
      "text/plain": [
       "-0.5*(cos(varphi_a) - cos(varphi_b) - cos(varphi + varphi_a) + cos(varphi + varphi_b))*sin(theta_b)*sign((cos(varphi_a) - cos(varphi + varphi_a))*cos(theta_a) + (cos(varphi_a) - cos(varphi + varphi_a))*cos(theta_b) + (cos(varphi_b) - cos(varphi + varphi_b))*cos(theta_a) - (cos(varphi_b) - cos(varphi + varphi_b))*cos(theta_b))"
      ]
     },
     "execution_count": 25,
     "metadata": {},
     "output_type": "execute_result"
    }
   ],
   "source": [
    "simplify(B_B.diff(tb))"
   ]
  },
  {
   "cell_type": "code",
   "execution_count": 26,
   "metadata": {},
   "outputs": [
    {
     "data": {
      "text/latex": [
       "$\\displaystyle - 0.5 \\left(\\sin{\\left(\\varphi_{a} \\right)} - \\sin{\\left(\\varphi + \\varphi_{a} \\right)}\\right) \\left(\\cos{\\left(\\theta_{a} \\right)} + \\cos{\\left(\\theta_{b} \\right)}\\right) \\operatorname{sign}{\\left(\\left(\\cos{\\left(\\varphi_{a} \\right)} - \\cos{\\left(\\varphi + \\varphi_{a} \\right)}\\right) \\cos{\\left(\\theta_{a} \\right)} + \\left(\\cos{\\left(\\varphi_{a} \\right)} - \\cos{\\left(\\varphi + \\varphi_{a} \\right)}\\right) \\cos{\\left(\\theta_{b} \\right)} + \\left(\\cos{\\left(\\varphi_{b} \\right)} - \\cos{\\left(\\varphi + \\varphi_{b} \\right)}\\right) \\cos{\\left(\\theta_{a} \\right)} - \\left(\\cos{\\left(\\varphi_{b} \\right)} - \\cos{\\left(\\varphi + \\varphi_{b} \\right)}\\right) \\cos{\\left(\\theta_{b} \\right)} \\right)}$"
      ],
      "text/plain": [
       "-0.5*(sin(varphi_a) - sin(varphi + varphi_a))*(cos(theta_a) + cos(theta_b))*sign((cos(varphi_a) - cos(varphi + varphi_a))*cos(theta_a) + (cos(varphi_a) - cos(varphi + varphi_a))*cos(theta_b) + (cos(varphi_b) - cos(varphi + varphi_b))*cos(theta_a) - (cos(varphi_b) - cos(varphi + varphi_b))*cos(theta_b))"
      ]
     },
     "execution_count": 26,
     "metadata": {},
     "output_type": "execute_result"
    }
   ],
   "source": [
    "simplify(B_B.diff(pa))"
   ]
  },
  {
   "cell_type": "code",
   "execution_count": 27,
   "metadata": {},
   "outputs": [
    {
     "data": {
      "text/latex": [
       "$\\displaystyle - 0.5 \\left(\\sin{\\left(\\varphi_{b} \\right)} - \\sin{\\left(\\varphi + \\varphi_{b} \\right)}\\right) \\left(\\cos{\\left(\\theta_{a} \\right)} - \\cos{\\left(\\theta_{b} \\right)}\\right) \\operatorname{sign}{\\left(\\left(\\cos{\\left(\\varphi_{a} \\right)} - \\cos{\\left(\\varphi + \\varphi_{a} \\right)}\\right) \\cos{\\left(\\theta_{a} \\right)} + \\left(\\cos{\\left(\\varphi_{a} \\right)} - \\cos{\\left(\\varphi + \\varphi_{a} \\right)}\\right) \\cos{\\left(\\theta_{b} \\right)} + \\left(\\cos{\\left(\\varphi_{b} \\right)} - \\cos{\\left(\\varphi + \\varphi_{b} \\right)}\\right) \\cos{\\left(\\theta_{a} \\right)} - \\left(\\cos{\\left(\\varphi_{b} \\right)} - \\cos{\\left(\\varphi + \\varphi_{b} \\right)}\\right) \\cos{\\left(\\theta_{b} \\right)} \\right)}$"
      ],
      "text/plain": [
       "-0.5*(sin(varphi_b) - sin(varphi + varphi_b))*(cos(theta_a) - cos(theta_b))*sign((cos(varphi_a) - cos(varphi + varphi_a))*cos(theta_a) + (cos(varphi_a) - cos(varphi + varphi_a))*cos(theta_b) + (cos(varphi_b) - cos(varphi + varphi_b))*cos(theta_a) - (cos(varphi_b) - cos(varphi + varphi_b))*cos(theta_b))"
      ]
     },
     "execution_count": 27,
     "metadata": {},
     "output_type": "execute_result"
    }
   ],
   "source": [
    "simplify(B_B.diff(pb))"
   ]
  },
  {
   "cell_type": "markdown",
   "metadata": {},
   "source": [
    "### 4.3 Experiment C\n",
    "In this experiment we again start with the same $\\mathbf{J}_{in}$ and an interaction is considered that makes it have a random coupling. It has a probability $P$ to couple polarization and parity and $1-P$ to not achieved by randomly toggling between two phase distributions of the PS-SLM, one with $\\pi/2\\text{sgn}(x)$ phase and another with zero phase where $P$ is the fraction of time that the PS-SLM displays the first phase pattern. From this we go on to derive it's correlation function."
   ]
  },
  {
   "cell_type": "code",
   "execution_count": 28,
   "metadata": {},
   "outputs": [
    {
     "data": {
      "text/latex": [
       "$\\displaystyle \\left[\\begin{matrix}\\frac{1}{2} - \\frac{P}{2} & 0 & \\frac{1}{2} - \\frac{P}{2} & 0\\\\0 & \\frac{P}{2} & - \\frac{i P}{2} & 0\\\\\\frac{1}{2} - \\frac{P}{2} & \\frac{i P}{2} & \\frac{1}{2} & 0\\\\0 & 0 & 0 & 0\\end{matrix}\\right]$"
      ],
      "text/plain": [
       "Matrix([\n",
       "[1/2 - P/2,     0, 1/2 - P/2, 0],\n",
       "[        0,   P/2,    -I*P/2, 0],\n",
       "[1/2 - P/2, I*P/2,       1/2, 0],\n",
       "[        0,     0,         0, 0]])"
      ]
     },
     "execution_count": 28,
     "metadata": {},
     "output_type": "execute_result"
    }
   ],
   "source": [
    "P = symbols('P',real=True)\n",
    "J_ent = (1/sqrt(2))*Matrix([0, I, 1, 0])#Entagled state\n",
    "J_in = (1/sqrt(2))*Matrix([1, 0, 1, 0])#Input state\n",
    "G_C = P*conjugate(J_ent)*J_ent.T + (1-P)*conjugate(J_in)*J_in.T\n",
    "G_C"
   ]
  },
  {
   "cell_type": "code",
   "execution_count": 29,
   "metadata": {},
   "outputs": [
    {
     "data": {
      "text/latex": [
       "$\\displaystyle \\left[\\begin{matrix}\\frac{1}{2} & \\frac{1}{2} - \\frac{P}{2}\\\\\\frac{1}{2} - \\frac{P}{2} & \\frac{1}{2}\\end{matrix}\\right]$"
      ],
      "text/plain": [
       "Matrix([\n",
       "[      1/2, 1/2 - P/2],\n",
       "[1/2 - P/2,       1/2]])"
      ]
     },
     "execution_count": 29,
     "metadata": {},
     "output_type": "execute_result"
    }
   ],
   "source": [
    "G_pol_C = par_tr_G_pol(G_C)\n",
    "G_pol_C"
   ]
  },
  {
   "cell_type": "code",
   "execution_count": 30,
   "metadata": {},
   "outputs": [
    {
     "data": {
      "text/latex": [
       "$\\displaystyle \\left|{P - 1}\\right|$"
      ],
      "text/plain": [
       "Abs(P - 1)"
      ]
     },
     "execution_count": 30,
     "metadata": {},
     "output_type": "execute_result"
    }
   ],
   "source": [
    "app_coh(G_pol_C)# Prints D_pol"
   ]
  },
  {
   "cell_type": "code",
   "execution_count": 31,
   "metadata": {},
   "outputs": [
    {
     "data": {
      "text/latex": [
       "$\\displaystyle \\left[\\begin{matrix}1 - \\frac{P}{2} & 0\\\\0 & \\frac{P}{2}\\end{matrix}\\right]$"
      ],
      "text/plain": [
       "Matrix([\n",
       "[1 - P/2,   0],\n",
       "[      0, P/2]])"
      ]
     },
     "execution_count": 31,
     "metadata": {},
     "output_type": "execute_result"
    }
   ],
   "source": [
    "G_par_C = par_tr_G_par(G_C)\n",
    "G_par_C"
   ]
  },
  {
   "cell_type": "code",
   "execution_count": 32,
   "metadata": {},
   "outputs": [
    {
     "data": {
      "text/latex": [
       "$\\displaystyle \\sqrt{- P \\left(2 - P\\right) + 1}$"
      ],
      "text/plain": [
       "sqrt(-P*(2 - P) + 1)"
      ]
     },
     "execution_count": 32,
     "metadata": {},
     "output_type": "execute_result"
    }
   ],
   "source": [
    "app_coh(G_par_C)# Prints D_pol"
   ]
  },
  {
   "cell_type": "code",
   "execution_count": 33,
   "metadata": {},
   "outputs": [
    {
     "data": {
      "text/latex": [
       "$\\displaystyle - \\sqrt{2} P \\sin{\\left(\\theta_{a} \\right)} \\sin{\\left(\\varphi_{a} + \\frac{\\pi}{4} \\right)} - P \\cos{\\left(\\theta_{a} \\right)} \\cos{\\left(\\varphi_{a} \\right)} + \\sin{\\left(\\theta_{a} \\right)} \\cos{\\left(\\varphi_{a} \\right)}$"
      ],
      "text/plain": [
       "-sqrt(2)*P*sin(theta_a)*sin(varphi_a + pi/4) - P*cos(theta_a)*cos(varphi_a) + sin(theta_a)*cos(varphi_a)"
      ]
     },
     "execution_count": 33,
     "metadata": {},
     "output_type": "execute_result"
    }
   ],
   "source": [
    "G_out_C = conjugate(A_SLM)*conjugate(A_HWP)*G_C*A_HWP.T*A_SLM.T #Transformed matrix\n",
    "C_ta_pa_C = trigsimp(corr_prob(G_out_C)/trace_G(G_out_C))\n",
    "C_ta_pa_C"
   ]
  },
  {
   "cell_type": "code",
   "execution_count": 34,
   "metadata": {},
   "outputs": [
    {
     "data": {
      "text/latex": [
       "$\\displaystyle 0$"
      ],
      "text/plain": [
       "0"
      ]
     },
     "execution_count": 34,
     "metadata": {},
     "output_type": "execute_result"
    }
   ],
   "source": [
    "expectedc = (1-P)*sin(ta)*cos(pa) - P*cos(ta-pa)\n",
    "trigsimp(C_ta_pa_C-expectedc)#Exactly matches"
   ]
  },
  {
   "cell_type": "code",
   "execution_count": 36,
   "metadata": {},
   "outputs": [
    {
     "data": {
      "text/latex": [
       "$\\displaystyle \\left|{\\sqrt{2} P \\sin{\\left(\\theta_{a} \\right)} \\sin{\\left(\\varphi_{a} + \\frac{\\pi}{4} \\right)} + \\sqrt{2} P \\sin{\\left(\\theta_{a} \\right)} \\sin{\\left(\\varphi_{b} + \\frac{\\pi}{4} \\right)} + \\sqrt{2} P \\sin{\\left(\\theta_{b} \\right)} \\sin{\\left(\\varphi_{a} + \\frac{\\pi}{4} \\right)} - \\sqrt{2} P \\sin{\\left(\\theta_{b} \\right)} \\sin{\\left(\\varphi_{b} + \\frac{\\pi}{4} \\right)} + P \\cos{\\left(\\theta_{a} \\right)} \\cos{\\left(\\varphi_{a} \\right)} + P \\cos{\\left(\\theta_{a} \\right)} \\cos{\\left(\\varphi_{b} \\right)} + P \\cos{\\left(\\theta_{b} \\right)} \\cos{\\left(\\varphi_{a} \\right)} - P \\cos{\\left(\\theta_{b} \\right)} \\cos{\\left(\\varphi_{b} \\right)} - \\sin{\\left(\\theta_{a} \\right)} \\cos{\\left(\\varphi_{a} \\right)} - \\sin{\\left(\\theta_{a} \\right)} \\cos{\\left(\\varphi_{b} \\right)} - \\sin{\\left(\\theta_{b} \\right)} \\cos{\\left(\\varphi_{a} \\right)} + \\sin{\\left(\\theta_{b} \\right)} \\cos{\\left(\\varphi_{b} \\right)}}\\right|$"
      ],
      "text/plain": [
       "Abs(sqrt(2)*P*sin(theta_a)*sin(varphi_a + pi/4) + sqrt(2)*P*sin(theta_a)*sin(varphi_b + pi/4) + sqrt(2)*P*sin(theta_b)*sin(varphi_a + pi/4) - sqrt(2)*P*sin(theta_b)*sin(varphi_b + pi/4) + P*cos(theta_a)*cos(varphi_a) + P*cos(theta_a)*cos(varphi_b) + P*cos(theta_b)*cos(varphi_a) - P*cos(theta_b)*cos(varphi_b) - sin(theta_a)*cos(varphi_a) - sin(theta_a)*cos(varphi_b) - sin(theta_b)*cos(varphi_a) + sin(theta_b)*cos(varphi_b))"
      ]
     },
     "execution_count": 36,
     "metadata": {},
     "output_type": "execute_result"
    }
   ],
   "source": [
    "B_C = abs(simplify(C_ta_pa_C + C_ta_pa_C.xreplace({ta:tb}) + C_ta_pa_C.xreplace({pa:pb}) - C_ta_pa_C.xreplace({ta:tb,pa:pb})))\n",
    "B_C"
   ]
  }
 ],
 "metadata": {
  "kernelspec": {
   "display_name": "Python 3",
   "language": "python",
   "name": "python3"
  },
  "language_info": {
   "codemirror_mode": {
    "name": "ipython",
    "version": 3
   },
   "file_extension": ".py",
   "mimetype": "text/x-python",
   "name": "python",
   "nbconvert_exporter": "python",
   "pygments_lexer": "ipython3",
   "version": "3.7.4"
  }
 },
 "nbformat": 4,
 "nbformat_minor": 4
}
