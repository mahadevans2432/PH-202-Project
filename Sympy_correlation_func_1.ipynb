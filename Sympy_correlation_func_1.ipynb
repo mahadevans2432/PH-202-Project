{
 "cells": [
  {
   "cell_type": "code",
   "execution_count": 8,
   "metadata": {},
   "outputs": [],
   "source": [
    "import numpy as np\n",
    "import matplotlib.pyplot as plt\n",
    "from numpy import linalg\n",
    "from sympy import *\n",
    "from sympy.physics.quantum.dagger import Dagger"
   ]
  },
  {
   "cell_type": "code",
   "execution_count": 71,
   "metadata": {},
   "outputs": [],
   "source": [
    "import numpy as np\n",
    "import matplotlib.pyplot as plt\n",
    "from matplotlib.widgets import Slider, Button, RadioButtons\n",
    "from ipywidgets import interact, interactive, fixed, interact_manual\n",
    "import ipywidgets as widgets\n",
    "from mpl_toolkits.mplot3d import axes3d\n",
    "from sympy import *\n",
    "from sympy.physics.quantum.dagger import Dagger\n",
    "import seaborn as sns\n",
    "from IPython.display import clear_output\n",
    "import warnings\n",
    "warnings.filterwarnings('ignore')"
   ]
  },
  {
   "cell_type": "code",
   "execution_count": 9,
   "metadata": {},
   "outputs": [],
   "source": [
    "def trace(M):\n",
    "    return M[0,0] + M[1,1] + M[2,2] + M[3,3]"
   ]
  },
  {
   "cell_type": "code",
   "execution_count": 10,
   "metadata": {},
   "outputs": [],
   "source": [
    "t,p,ta,pa = symbols('theta phi theta_a phi_a', real=True)"
   ]
  },
  {
   "cell_type": "code",
   "execution_count": 4,
   "metadata": {},
   "outputs": [],
   "source": [
    "GA = Matrix([[cos(p/2)**2, I*cos(p/2)*sin(p/2), cos(p/2), 0],[-I*cos(p/2)*sin(p/2), sin(p/2)**2, -I*sin(p/2),0],\n",
    "            [cos(p/2),I*sin(p/2),1,0],[0,0,0,0]])\n",
    "GB = Matrix([[cos(p/2)**2, I*cos(p/2)*sin(p/2), 0, 0],[-I*cos(p/2)*sin(p/2), sin(p/2)**2, 0,0],\n",
    "            [0,0,1,0],[0,0,0,0]])\n",
    "AP = Matrix([[cos(ta/2),0,sin(ta/2),0],[0,cos(ta/2),0,sin(ta/2)],[sin(ta/2),0,-cos(ta/2),0],\n",
    "              [0,sin(ta/2),0,-cos(ta/2)]])\n",
    "AR = Matrix([[cos(pa/2),I*sin(pa/2),0,0],[I*sin(pa/2),cos(pa/2),0,0],[0,0,cos(pa/2),I*sin(pa/2)],\n",
    "             [0,0,I*sin(pa/2),cos(pa/2)]])\n",
    "AR_PS = Matrix([[cos(pa/2),I*sin(pa/2),0,0],[I*sin(pa/2),cos(pa/2),0,0],[0,0,1,0],\n",
    "             [0,0,0,1]]) \n",
    "GoutA = conjugate(AR)*conjugate(AP)*GA*AP.T*AR.T\n",
    "GoutB = conjugate(AR)*conjugate(AP)*GB*AP.T*AR.T"
   ]
  },
  {
   "cell_type": "code",
   "execution_count": 15,
   "metadata": {},
   "outputs": [
    {
     "data": {
      "text/latex": [
       "$\\displaystyle \\left[\\begin{matrix}\\cos^{2}{\\left(\\frac{\\phi}{2} \\right)} & \\frac{i \\sin{\\left(\\phi \\right)}}{2} & 0 & 0\\\\- \\frac{i \\sin{\\left(\\phi \\right)}}{2} & \\sin^{2}{\\left(\\frac{\\phi}{2} \\right)} & 0 & 0\\\\0 & 0 & 1 & 0\\\\0 & 0 & 0 & 0\\end{matrix}\\right]$"
      ],
      "text/plain": [
       "Matrix([\n",
       "[cos(phi/2)**2,  I*sin(phi)/2, 0, 0],\n",
       "[-I*sin(phi)/2, sin(phi/2)**2, 0, 0],\n",
       "[            0,             0, 1, 0],\n",
       "[            0,             0, 0, 0]])"
      ]
     },
     "execution_count": 15,
     "metadata": {},
     "output_type": "execute_result"
    }
   ],
   "source": [
    "trigsimp(GB)"
   ]
  },
  {
   "cell_type": "code",
   "execution_count": 11,
   "metadata": {},
   "outputs": [
    {
     "data": {
      "text/latex": [
       "$\\displaystyle \\left[\\begin{matrix}2 \\sin{\\left(\\frac{\\theta_{a}}{2} \\right)} \\cos{\\left(\\frac{\\phi_{a}}{2} \\right)} \\cos{\\left(\\frac{\\theta_{a}}{2} \\right)} \\cos{\\left(\\frac{\\phi + \\phi_{a}}{2} \\right)} & \\frac{i \\left(\\cos{\\left(\\frac{\\phi}{2} + \\phi_{a} - \\theta_{a} \\right)} - \\cos{\\left(\\frac{\\phi}{2} + \\phi_{a} + \\theta_{a} \\right)}\\right)}{4} & - \\frac{\\cos{\\left(\\frac{\\phi}{2} - \\theta_{a} \\right)}}{4} - \\frac{\\cos{\\left(\\frac{\\phi}{2} + \\theta_{a} \\right)}}{4} - \\frac{\\cos{\\left(\\frac{\\phi}{2} + \\phi_{a} - \\theta_{a} \\right)}}{4} - \\frac{\\cos{\\left(\\frac{\\phi}{2} + \\phi_{a} + \\theta_{a} \\right)}}{4} & \\frac{i \\left(2 \\sin{\\left(\\frac{\\phi}{2} \\right)} - \\sin{\\left(\\frac{\\phi}{2} + \\phi_{a} - \\theta_{a} \\right)} - \\sin{\\left(\\frac{\\phi}{2} + \\phi_{a} + \\theta_{a} \\right)}\\right)}{4}\\\\\\frac{i \\left(- \\cos{\\left(\\frac{\\phi}{2} + \\phi_{a} - \\theta_{a} \\right)} + \\cos{\\left(\\frac{\\phi}{2} + \\phi_{a} + \\theta_{a} \\right)}\\right)}{4} & 2 \\sin{\\left(\\frac{\\phi_{a}}{2} \\right)} \\sin{\\left(\\frac{\\theta_{a}}{2} \\right)} \\sin{\\left(\\frac{\\phi + \\phi_{a}}{2} \\right)} \\cos{\\left(\\frac{\\theta_{a}}{2} \\right)} & \\frac{i \\left(2 \\sin{\\left(\\frac{\\phi}{2} \\right)} + \\sin{\\left(\\frac{\\phi}{2} + \\phi_{a} - \\theta_{a} \\right)} + \\sin{\\left(\\frac{\\phi}{2} + \\phi_{a} + \\theta_{a} \\right)}\\right)}{4} & - \\frac{\\cos{\\left(\\frac{\\phi}{2} - \\theta_{a} \\right)}}{4} - \\frac{\\cos{\\left(\\frac{\\phi}{2} + \\theta_{a} \\right)}}{4} + \\frac{\\cos{\\left(\\frac{\\phi}{2} + \\phi_{a} - \\theta_{a} \\right)}}{4} + \\frac{\\cos{\\left(\\frac{\\phi}{2} + \\phi_{a} + \\theta_{a} \\right)}}{4}\\\\- \\frac{\\cos{\\left(\\frac{\\phi}{2} - \\theta_{a} \\right)}}{4} - \\frac{\\cos{\\left(\\frac{\\phi}{2} + \\theta_{a} \\right)}}{4} - \\frac{\\cos{\\left(\\frac{\\phi}{2} + \\phi_{a} - \\theta_{a} \\right)}}{4} - \\frac{\\cos{\\left(\\frac{\\phi}{2} + \\phi_{a} + \\theta_{a} \\right)}}{4} & - \\frac{i \\left(2 \\sin{\\left(\\frac{\\phi}{2} \\right)} + \\sin{\\left(\\frac{\\phi}{2} + \\phi_{a} - \\theta_{a} \\right)} + \\sin{\\left(\\frac{\\phi}{2} + \\phi_{a} + \\theta_{a} \\right)}\\right)}{4} & - 2 \\sin{\\left(\\frac{\\theta_{a}}{2} \\right)} \\cos{\\left(\\frac{\\phi_{a}}{2} \\right)} \\cos{\\left(\\frac{\\theta_{a}}{2} \\right)} \\cos{\\left(\\frac{\\phi + \\phi_{a}}{2} \\right)} & \\frac{i \\left(- \\cos{\\left(\\frac{\\phi}{2} + \\phi_{a} - \\theta_{a} \\right)} + \\cos{\\left(\\frac{\\phi}{2} + \\phi_{a} + \\theta_{a} \\right)}\\right)}{4}\\\\\\frac{i \\left(- 2 \\sin{\\left(\\frac{\\phi}{2} \\right)} + \\sin{\\left(\\frac{\\phi}{2} + \\phi_{a} - \\theta_{a} \\right)} + \\sin{\\left(\\frac{\\phi}{2} + \\phi_{a} + \\theta_{a} \\right)}\\right)}{4} & - \\frac{\\cos{\\left(\\frac{\\phi}{2} - \\theta_{a} \\right)}}{4} - \\frac{\\cos{\\left(\\frac{\\phi}{2} + \\theta_{a} \\right)}}{4} + \\frac{\\cos{\\left(\\frac{\\phi}{2} + \\phi_{a} - \\theta_{a} \\right)}}{4} + \\frac{\\cos{\\left(\\frac{\\phi}{2} + \\phi_{a} + \\theta_{a} \\right)}}{4} & \\frac{i \\left(\\cos{\\left(\\frac{\\phi}{2} + \\phi_{a} - \\theta_{a} \\right)} - \\cos{\\left(\\frac{\\phi}{2} + \\phi_{a} + \\theta_{a} \\right)}\\right)}{4} & - 2 \\sin{\\left(\\frac{\\phi_{a}}{2} \\right)} \\sin{\\left(\\frac{\\theta_{a}}{2} \\right)} \\sin{\\left(\\frac{\\phi + \\phi_{a}}{2} \\right)} \\cos{\\left(\\frac{\\theta_{a}}{2} \\right)}\\end{matrix}\\right]$"
      ],
      "text/plain": [
       "Matrix([\n",
       "[                                                 2*sin(theta_a/2)*cos(phi_a/2)*cos(theta_a/2)*cos((phi + phi_a)/2),                                                  I*(cos(phi/2 + phi_a - theta_a) - cos(phi/2 + phi_a + theta_a))/4, -cos(phi/2 - theta_a)/4 - cos(phi/2 + theta_a)/4 - cos(phi/2 + phi_a - theta_a)/4 - cos(phi/2 + phi_a + theta_a)/4,                                   I*(2*sin(phi/2) - sin(phi/2 + phi_a - theta_a) - sin(phi/2 + phi_a + theta_a))/4],\n",
       "[                                                I*(-cos(phi/2 + phi_a - theta_a) + cos(phi/2 + phi_a + theta_a))/4,                                                  2*sin(phi_a/2)*sin(theta_a/2)*sin((phi + phi_a)/2)*cos(theta_a/2),                                   I*(2*sin(phi/2) + sin(phi/2 + phi_a - theta_a) + sin(phi/2 + phi_a + theta_a))/4, -cos(phi/2 - theta_a)/4 - cos(phi/2 + theta_a)/4 + cos(phi/2 + phi_a - theta_a)/4 + cos(phi/2 + phi_a + theta_a)/4],\n",
       "[-cos(phi/2 - theta_a)/4 - cos(phi/2 + theta_a)/4 - cos(phi/2 + phi_a - theta_a)/4 - cos(phi/2 + phi_a + theta_a)/4,                                  -I*(2*sin(phi/2) + sin(phi/2 + phi_a - theta_a) + sin(phi/2 + phi_a + theta_a))/4,                                                 -2*sin(theta_a/2)*cos(phi_a/2)*cos(theta_a/2)*cos((phi + phi_a)/2),                                                 I*(-cos(phi/2 + phi_a - theta_a) + cos(phi/2 + phi_a + theta_a))/4],\n",
       "[                                 I*(-2*sin(phi/2) + sin(phi/2 + phi_a - theta_a) + sin(phi/2 + phi_a + theta_a))/4, -cos(phi/2 - theta_a)/4 - cos(phi/2 + theta_a)/4 + cos(phi/2 + phi_a - theta_a)/4 + cos(phi/2 + phi_a + theta_a)/4,                                                  I*(cos(phi/2 + phi_a - theta_a) - cos(phi/2 + phi_a + theta_a))/4,                                                 -2*sin(phi_a/2)*sin(theta_a/2)*sin((phi + phi_a)/2)*cos(theta_a/2)]])"
      ]
     },
     "execution_count": 11,
     "metadata": {},
     "output_type": "execute_result"
    }
   ],
   "source": [
    "trigsimp(GoutA-GoutB)"
   ]
  },
  {
   "cell_type": "code",
   "execution_count": 16,
   "metadata": {},
   "outputs": [],
   "source": [
    "Gout=GoutA"
   ]
  },
  {
   "cell_type": "code",
   "execution_count": 17,
   "metadata": {},
   "outputs": [
    {
     "data": {
      "text/latex": [
       "$\\displaystyle \\sin{\\left(\\theta_{a} \\right)} \\cos{\\left(\\frac{\\phi}{2} + \\phi_{a} \\right)} - \\frac{\\cos{\\left(\\phi_{a} \\right)} \\cos{\\left(\\theta_{a} \\right)}}{2} + \\frac{\\cos{\\left(\\theta_{a} \\right)} \\cos{\\left(\\phi + \\phi_{a} \\right)}}{2}$"
      ],
      "text/plain": [
       "sin(theta_a)*cos(phi/2 + phi_a) - cos(phi_a)*cos(theta_a)/2 + cos(theta_a)*cos(phi + phi_a)/2"
      ]
     },
     "execution_count": 17,
     "metadata": {},
     "output_type": "execute_result"
    }
   ],
   "source": [
    "C_ta_pa = trigsimp((Gout[0,0]-Gout[1,1]-Gout[2,2]+Gout[3,3])/(Gout[0,0]+Gout[1,1]+Gout[2,2]+Gout[3,3]))\n",
    "C_ta_pa"
   ]
  },
  {
   "cell_type": "code",
   "execution_count": 18,
   "metadata": {},
   "outputs": [
    {
     "data": {
      "text/latex": [
       "$\\displaystyle \\sin{\\left(\\frac{\\phi}{2} + \\phi_{a} - \\theta_{a} \\right)} - \\sin{\\left(\\frac{\\phi}{2} + \\phi_{a} + \\theta_{a} \\right)} - \\frac{\\cos{\\left(\\phi_{a} - \\theta_{a} \\right)}}{2} + \\frac{\\cos{\\left(\\phi_{a} + \\theta_{a} \\right)}}{2} + \\frac{\\cos{\\left(\\phi + \\phi_{a} - \\theta_{a} \\right)}}{2} - \\frac{\\cos{\\left(\\phi + \\phi_{a} + \\theta_{a} \\right)}}{2}$"
      ],
      "text/plain": [
       "sin(phi/2 + phi_a - theta_a) - sin(phi/2 + phi_a + theta_a) - cos(phi_a - theta_a)/2 + cos(phi_a + theta_a)/2 + cos(phi + phi_a - theta_a)/2 - cos(phi + phi_a + theta_a)/2"
      ]
     },
     "execution_count": 18,
     "metadata": {},
     "output_type": "execute_result"
    }
   ],
   "source": [
    "Expected = sin(p/2)*sin(ta-pa-p/2) - (1-sin(p/2))*cos(pa+p/2)*sin(ta)\n",
    "trigsimp(Expected-C_ta_pa)"
   ]
  },
  {
   "cell_type": "code",
   "execution_count": 26,
   "metadata": {},
   "outputs": [
    {
     "data": {
      "image/png": "[encoded data removed]",
      "text/plain": [
       "<Figure size 432x288 with 2 Axes>"
      ]
     },
     "metadata": {
      "needs_background": "light"
     },
     "output_type": "display_data"
    }
   ],
   "source": [
    "f = lambdify((t,p,ta,pa),Expected, \"numpy\")\n",
    "ta_range = np.linspace(0,2*np.pi,1000);\n",
    "pa_range = np.linspace(0,2*np.pi,1000);\n",
    "phi_fixed = np.pi/3;\n",
    "X, Y = np.meshgrid(ta_range, pa_range);\n",
    "def ftemp(ta_val,pa_val):\n",
    "    return f(0,phi_fixed,ta_val,pa_val);\n",
    "Z = ftemp(X,Y);\n",
    "fig,ax=plt.subplots(1,1);\n",
    "cp = ax.contourf(X, Y, Z, cmap='turbo');\n",
    "fig.colorbar(cp) # Add a colorbar to a plot\n",
    "plt.xlim(0,2*np.pi);\n",
    "plt.ylim(0,2*np.pi);\n",
    "ax.axis('equal');"
   ]
  },
  {
   "cell_type": "code",
   "execution_count": null,
   "metadata": {},
   "outputs": [],
   "source": [
    "G_input = Matrix([1,0,1,0])*Matrix([1,0,1,0]).T\n",
    "a = conjugate(AR_PS)*G_input*AR_PS.T"
   ]
  },
  {
   "cell_type": "code",
   "execution_count": null,
   "metadata": {},
   "outputs": [],
   "source": [
    "a"
   ]
  },
  {
   "cell_type": "code",
   "execution_count": null,
   "metadata": {},
   "outputs": [],
   "source": [
    "trigsimp(trace(a*a) - 1)*1/3"
   ]
  },
  {
   "cell_type": "markdown",
   "metadata": {},
   "source": [
    "# BLANK"
   ]
  },
  {
   "cell_type": "markdown",
   "metadata": {},
   "source": [
    "# BLANK"
   ]
  },
  {
   "cell_type": "code",
   "execution_count": 39,
   "metadata": {},
   "outputs": [],
   "source": [
    "def multiple_formatter(denominator=2, number=np.pi, latex='\\pi'):\n",
    "    def gcd(a, b):\n",
    "        while b:\n",
    "            a, b = b, a%b\n",
    "        return a\n",
    "    def _multiple_formatter(x, pos):\n",
    "        den = denominator\n",
    "        num = int(np.rint(den*x/number))\n",
    "        com = gcd(num,den)\n",
    "        (num,den) = (int(num/com),int(den/com))\n",
    "        if den==1:\n",
    "            if num==0:\n",
    "                return r'$0$'\n",
    "            if num==1:\n",
    "                return r'$%s$'%latex\n",
    "            elif num==-1:\n",
    "                return r'$-%s$'%latex\n",
    "            else:\n",
    "                return r'$%s%s$'%(num,latex)\n",
    "        else:\n",
    "            if num==1:\n",
    "                return r'$\\frac{%s}{%s}$'%(latex,den)\n",
    "            elif num==-1:\n",
    "                return r'$\\frac{-%s}{%s}$'%(latex,den)\n",
    "            else:\n",
    "                return r'$\\frac{%s%s}{%s}$'%(num,latex,den)\n",
    "    return _multiple_formatter\n",
    "\n",
    "class Multiple:\n",
    "    def __init__(self, denominator=2, number=np.pi, latex='\\pi'):\n",
    "        self.denominator = denominator\n",
    "        self.number = number\n",
    "        self.latex = latex\n",
    "\n",
    "    def locator(self):\n",
    "        return plt.MultipleLocator(self.number / self.denominator)\n",
    "\n",
    "    def formatter(self):\n",
    "        return plt.FuncFormatter(multiple_formatter(self.denominator, self.number, self.latex))"
   ]
  },
  {
   "cell_type": "code",
   "execution_count": 78,
   "metadata": {},
   "outputs": [],
   "source": [
    "def contourplotter(function,phi,title,xlabel,ylabel):\n",
    "    f = lambdify((t,p,ta,pa),function, \"numpy\")\n",
    "    ta_range = np.linspace(0,2*np.pi,1000);\n",
    "    pa_range = np.linspace(0,2*np.pi,1000);\n",
    "    phi_fixed = phi;\n",
    "    X, Y = np.meshgrid(ta_range, pa_range);\n",
    "    def ftemp(ta_val,pa_val):\n",
    "        return f(0,phi_fixed,ta_val,pa_val);\n",
    "    Z = ftemp(X,Y);\n",
    "    fig, ax = plt.subplots(figsize=(7,5.7))\n",
    "    cp = ax.contourf(X, Y, Z ,cmap='turbo');\n",
    "    fig.colorbar(cp) # Add a colorbar to a plot\n",
    "    plt.xlim(0,2*np.pi);\n",
    "    plt.ylim(0,2*np.pi);\n",
    "    ax.axis('equal');\n",
    "\n",
    "    plt.title(title, fontsize=15)\n",
    "    plt.xlabel(xlabel, fontsize=15)\n",
    "    plt.ylabel(ylabel, fontsize=15)\n",
    "    ax=plt.gca()\n",
    "    ax.set_facecolor((0.8,1,1))\n",
    "    ax.axhline(0, color='black', lw=2)\n",
    "    ax.axvline(0, color='black', lw=2)\n",
    "    ax.xaxis.set_major_locator(plt.MultipleLocator(np.pi / 2))\n",
    "    ax.xaxis.set_minor_locator(plt.MultipleLocator(np.pi / 12))\n",
    "    ax.xaxis.set_major_formatter(plt.FuncFormatter(multiple_formatter()))\n",
    "    ax.yaxis.set_major_locator(plt.MultipleLocator(np.pi / 2))\n",
    "    ax.yaxis.set_minor_locator(plt.MultipleLocator(np.pi / 12))\n",
    "    ax.yaxis.set_major_formatter(plt.FuncFormatter(multiple_formatter()))\n",
    "    plt.xticks(fontsize =15)\n",
    "    plt.yticks(fontsize =15)\n",
    "    return"
   ]
  },
  {
   "cell_type": "code",
   "execution_count": 79,
   "metadata": {},
   "outputs": [
    {
     "data": {
      "application/vnd.jupyter.widget-view+json": {
       "model_id": "8832e8c1cab24c9488a5b600a883b43e",
       "version_major": 2,
       "version_minor": 0
      },
      "text/plain": [
       "interactive(children=(FloatSlider(value=1.0471975511965976, continuous_update=False, description='phi', max=6.…"
      ]
     },
     "metadata": {},
     "output_type": "display_data"
    }
   ],
   "source": [
    "def expAContours(phi):\n",
    "    function=C_ta_pa\n",
    "    contourplotter(function,phi,'a','b','c')\n",
    "    return\n",
    "interact(expAContours, phi=widgets.FloatSlider(min=0, max=2*np.pi, step=0.01, value=np.pi/3, continuous_update=False));"
   ]
  },
  {
   "cell_type": "code",
   "execution_count": 76,
   "metadata": {},
   "outputs": [
    {
     "data": {
      "application/vnd.jupyter.widget-view+json": {
       "model_id": "f1d70e79462b42b19939e9952017f0d9",
       "version_major": 2,
       "version_minor": 0
      },
      "text/plain": [
       "interactive(children=(FloatSlider(value=1.0471975511965976, continuous_update=False, description='phi', max=6.…"
      ]
     },
     "metadata": {},
     "output_type": "display_data"
    }
   ],
   "source": [
    "def expAContours(phi):\n",
    "    function=Expected\n",
    "    contourplotter(function,phi,'a','b','c')\n",
    "    return\n",
    "interact(expAContours, phi=widgets.FloatSlider(min=0, max=2*np.pi, step=0.01, value=np.pi/3, continuous_update=False));"
   ]
  }
 ],
 "metadata": {
  "kernelspec": {
   "display_name": "Python 3",
   "language": "python",
   "name": "python3"
  },
  "language_info": {
   "codemirror_mode": {
    "name": "ipython",
    "version": 3
   },
   "file_extension": ".py",
   "mimetype": "text/x-python",
   "name": "python",
   "nbconvert_exporter": "python",
   "pygments_lexer": "ipython3",
   "version": "3.8.2"
  }
 },
 "nbformat": 4,
 "nbformat_minor": 4
}
