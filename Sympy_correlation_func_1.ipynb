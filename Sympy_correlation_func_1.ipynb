{
 "cells": [
  {
   "cell_type": "code",
   "execution_count": 1,
   "metadata": {},
   "outputs": [],
   "source": [
    "import numpy as np\n",
    "import matplotlib.pyplot as plt\n",
    "from numpy import linalg\n",
    "from sympy import *\n",
    "from sympy.physics.quantum.dagger import Dagger"
   ]
  },
  {
   "cell_type": "code",
   "execution_count": 2,
   "metadata": {},
   "outputs": [],
   "source": [
    "def trace(M):\n",
    "    return M[0,0] + M[1,1] + M[2,2] + M[3,3]"
   ]
  },
  {
   "cell_type": "code",
   "execution_count": 3,
   "metadata": {},
   "outputs": [],
   "source": [
    "t,p,ta,pa = symbols('theta phi theta_a phi_a', real=True)"
   ]
  },
  {
   "cell_type": "code",
   "execution_count": 73,
   "metadata": {},
   "outputs": [],
   "source": [
    "GA = Matrix([[cos(p/2)**2, I*cos(p/2)*sin(p/2), cos(p/2), 0],[-I*cos(p/2)*sin(p/2), sin(p/2)**2, -I*sin(p/2),0],\n",
    "            [cos(p/2),I*sin(p/2),1,0],[0,0,0,0]])\n",
    "GB = Matrix([[cos(p/2)**2, I*cos(p/2)*sin(p/2), 0, 0],[-I*cos(p/2)*sin(p/2), sin(p/2)**2, 0,0],\n",
    "            [0,0,1,0],[0,0,0,0]])\n",
    "AP = Matrix([[cos(ta/2),0,sin(ta/2),0],[0,cos(ta/2),0,sin(ta/2)],[sin(ta/2),0,-cos(ta/2),0],\n",
    "              [0,sin(ta/2),0,-cos(ta/2)]])\n",
    "AR = Matrix([[cos(pa/2),I*sin(pa/2),0,0],[I*sin(pa/2),cos(pa/2),0,0],[0,0,cos(pa/2),I*sin(pa/2)],\n",
    "             [0,0,I*sin(pa/2),cos(pa/2)]])\n",
    "AR_PS = Matrix([[cos(pa/2),I*sin(pa/2),0,0],[I*sin(pa/2),cos(pa/2),0,0],[0,0,1,0],\n",
    "             [0,0,0,1]]) \n",
    "GoutA = conjugate(AR)*conjugate(AP)*GA*AP.T*AR.T\n",
    "GoutB = conjugate(AR)*conjugate(AP)*GB*AP.T*AR.T"
   ]
  },
  {
   "cell_type": "code",
   "execution_count": 75,
   "metadata": {},
   "outputs": [
    {
     "data": {
      "text/latex": [
       "$\\displaystyle \\left[\\begin{matrix}2 \\sin{\\left(\\frac{\\theta_{a}}{2} \\right)} \\cos{\\left(\\frac{\\phi_{a}}{2} \\right)} \\cos{\\left(\\frac{\\theta_{a}}{2} \\right)} \\cos{\\left(\\frac{\\phi + \\phi_{a}}{2} \\right)} & \\frac{i \\left(\\cos{\\left(\\frac{\\phi}{2} + \\phi_{a} - \\theta_{a} \\right)} - \\cos{\\left(\\frac{\\phi}{2} + \\phi_{a} + \\theta_{a} \\right)}\\right)}{4} & - \\frac{\\cos{\\left(\\frac{\\phi}{2} - \\theta_{a} \\right)}}{4} - \\frac{\\cos{\\left(\\frac{\\phi}{2} + \\theta_{a} \\right)}}{4} - \\frac{\\cos{\\left(\\frac{\\phi}{2} + \\phi_{a} - \\theta_{a} \\right)}}{4} - \\frac{\\cos{\\left(\\frac{\\phi}{2} + \\phi_{a} + \\theta_{a} \\right)}}{4} & \\frac{i \\left(2 \\sin{\\left(\\frac{\\phi}{2} \\right)} - \\sin{\\left(\\frac{\\phi}{2} + \\phi_{a} - \\theta_{a} \\right)} - \\sin{\\left(\\frac{\\phi}{2} + \\phi_{a} + \\theta_{a} \\right)}\\right)}{4}\\\\\\frac{i \\left(- \\cos{\\left(\\frac{\\phi}{2} + \\phi_{a} - \\theta_{a} \\right)} + \\cos{\\left(\\frac{\\phi}{2} + \\phi_{a} + \\theta_{a} \\right)}\\right)}{4} & 2 \\sin{\\left(\\frac{\\phi_{a}}{2} \\right)} \\sin{\\left(\\frac{\\theta_{a}}{2} \\right)} \\sin{\\left(\\frac{\\phi + \\phi_{a}}{2} \\right)} \\cos{\\left(\\frac{\\theta_{a}}{2} \\right)} & \\frac{i \\left(2 \\sin{\\left(\\frac{\\phi}{2} \\right)} + \\sin{\\left(\\frac{\\phi}{2} + \\phi_{a} - \\theta_{a} \\right)} + \\sin{\\left(\\frac{\\phi}{2} + \\phi_{a} + \\theta_{a} \\right)}\\right)}{4} & - \\frac{\\cos{\\left(\\frac{\\phi}{2} - \\theta_{a} \\right)}}{4} - \\frac{\\cos{\\left(\\frac{\\phi}{2} + \\theta_{a} \\right)}}{4} + \\frac{\\cos{\\left(\\frac{\\phi}{2} + \\phi_{a} - \\theta_{a} \\right)}}{4} + \\frac{\\cos{\\left(\\frac{\\phi}{2} + \\phi_{a} + \\theta_{a} \\right)}}{4}\\\\- \\frac{\\cos{\\left(\\frac{\\phi}{2} - \\theta_{a} \\right)}}{4} - \\frac{\\cos{\\left(\\frac{\\phi}{2} + \\theta_{a} \\right)}}{4} - \\frac{\\cos{\\left(\\frac{\\phi}{2} + \\phi_{a} - \\theta_{a} \\right)}}{4} - \\frac{\\cos{\\left(\\frac{\\phi}{2} + \\phi_{a} + \\theta_{a} \\right)}}{4} & - \\frac{i \\left(2 \\sin{\\left(\\frac{\\phi}{2} \\right)} + \\sin{\\left(\\frac{\\phi}{2} + \\phi_{a} - \\theta_{a} \\right)} + \\sin{\\left(\\frac{\\phi}{2} + \\phi_{a} + \\theta_{a} \\right)}\\right)}{4} & - 2 \\sin{\\left(\\frac{\\theta_{a}}{2} \\right)} \\cos{\\left(\\frac{\\phi_{a}}{2} \\right)} \\cos{\\left(\\frac{\\theta_{a}}{2} \\right)} \\cos{\\left(\\frac{\\phi + \\phi_{a}}{2} \\right)} & \\frac{i \\left(- \\cos{\\left(\\frac{\\phi}{2} + \\phi_{a} - \\theta_{a} \\right)} + \\cos{\\left(\\frac{\\phi}{2} + \\phi_{a} + \\theta_{a} \\right)}\\right)}{4}\\\\\\frac{i \\left(- 2 \\sin{\\left(\\frac{\\phi}{2} \\right)} + \\sin{\\left(\\frac{\\phi}{2} + \\phi_{a} - \\theta_{a} \\right)} + \\sin{\\left(\\frac{\\phi}{2} + \\phi_{a} + \\theta_{a} \\right)}\\right)}{4} & - \\frac{\\cos{\\left(\\frac{\\phi}{2} - \\theta_{a} \\right)}}{4} - \\frac{\\cos{\\left(\\frac{\\phi}{2} + \\theta_{a} \\right)}}{4} + \\frac{\\cos{\\left(\\frac{\\phi}{2} + \\phi_{a} - \\theta_{a} \\right)}}{4} + \\frac{\\cos{\\left(\\frac{\\phi}{2} + \\phi_{a} + \\theta_{a} \\right)}}{4} & \\frac{i \\left(\\cos{\\left(\\frac{\\phi}{2} + \\phi_{a} - \\theta_{a} \\right)} - \\cos{\\left(\\frac{\\phi}{2} + \\phi_{a} + \\theta_{a} \\right)}\\right)}{4} & - 2 \\sin{\\left(\\frac{\\phi_{a}}{2} \\right)} \\sin{\\left(\\frac{\\theta_{a}}{2} \\right)} \\sin{\\left(\\frac{\\phi + \\phi_{a}}{2} \\right)} \\cos{\\left(\\frac{\\theta_{a}}{2} \\right)}\\end{matrix}\\right]$"
      ],
      "text/plain": [
       "Matrix([\n",
       "[                                                 2*sin(theta_a/2)*cos(phi_a/2)*cos(theta_a/2)*cos((phi + phi_a)/2),                                                  I*(cos(phi/2 + phi_a - theta_a) - cos(phi/2 + phi_a + theta_a))/4, -cos(phi/2 - theta_a)/4 - cos(phi/2 + theta_a)/4 - cos(phi/2 + phi_a - theta_a)/4 - cos(phi/2 + phi_a + theta_a)/4,                                   I*(2*sin(phi/2) - sin(phi/2 + phi_a - theta_a) - sin(phi/2 + phi_a + theta_a))/4],\n",
       "[                                                I*(-cos(phi/2 + phi_a - theta_a) + cos(phi/2 + phi_a + theta_a))/4,                                                  2*sin(phi_a/2)*sin(theta_a/2)*sin((phi + phi_a)/2)*cos(theta_a/2),                                   I*(2*sin(phi/2) + sin(phi/2 + phi_a - theta_a) + sin(phi/2 + phi_a + theta_a))/4, -cos(phi/2 - theta_a)/4 - cos(phi/2 + theta_a)/4 + cos(phi/2 + phi_a - theta_a)/4 + cos(phi/2 + phi_a + theta_a)/4],\n",
       "[-cos(phi/2 - theta_a)/4 - cos(phi/2 + theta_a)/4 - cos(phi/2 + phi_a - theta_a)/4 - cos(phi/2 + phi_a + theta_a)/4,                                  -I*(2*sin(phi/2) + sin(phi/2 + phi_a - theta_a) + sin(phi/2 + phi_a + theta_a))/4,                                                 -2*sin(theta_a/2)*cos(phi_a/2)*cos(theta_a/2)*cos((phi + phi_a)/2),                                                 I*(-cos(phi/2 + phi_a - theta_a) + cos(phi/2 + phi_a + theta_a))/4],\n",
       "[                                 I*(-2*sin(phi/2) + sin(phi/2 + phi_a - theta_a) + sin(phi/2 + phi_a + theta_a))/4, -cos(phi/2 - theta_a)/4 - cos(phi/2 + theta_a)/4 + cos(phi/2 + phi_a - theta_a)/4 + cos(phi/2 + phi_a + theta_a)/4,                                                  I*(cos(phi/2 + phi_a - theta_a) - cos(phi/2 + phi_a + theta_a))/4,                                                 -2*sin(phi_a/2)*sin(theta_a/2)*sin((phi + phi_a)/2)*cos(theta_a/2)]])"
      ]
     },
     "execution_count": 75,
     "metadata": {},
     "output_type": "execute_result"
    }
   ],
   "source": [
    "trigsimp(GoutA-GoutB)"
   ]
  },
  {
   "cell_type": "code",
   "execution_count": 47,
   "metadata": {},
   "outputs": [
    {
     "data": {
      "text/latex": [
       "$\\displaystyle \\left[\\begin{matrix}\\cos^{2}{\\left(\\frac{\\phi}{2} \\right)} & i \\sin{\\left(\\frac{\\phi}{2} \\right)} \\cos{\\left(\\frac{\\phi}{2} \\right)} & \\cos{\\left(\\frac{\\phi}{2} \\right)} & 0\\\\- i \\sin{\\left(\\frac{\\phi}{2} \\right)} \\cos{\\left(\\frac{\\phi}{2} \\right)} & \\sin^{2}{\\left(\\frac{\\phi}{2} \\right)} & - i \\sin{\\left(\\frac{\\phi}{2} \\right)} & 0\\\\\\cos{\\left(\\frac{\\phi}{2} \\right)} & i \\sin{\\left(\\frac{\\phi}{2} \\right)} & 1 & 0\\\\0 & 0 & 0 & 0\\end{matrix}\\right]$"
      ],
      "text/plain": [
       "Matrix([\n",
       "[           cos(phi/2)**2, I*sin(phi/2)*cos(phi/2),    cos(phi/2), 0],\n",
       "[-I*sin(phi/2)*cos(phi/2),           sin(phi/2)**2, -I*sin(phi/2), 0],\n",
       "[              cos(phi/2),            I*sin(phi/2),             1, 0],\n",
       "[                       0,                       0,             0, 0]])"
      ]
     },
     "execution_count": 47,
     "metadata": {},
     "output_type": "execute_result"
    }
   ],
   "source": [
    "G"
   ]
  },
  {
   "cell_type": "code",
   "execution_count": 71,
   "metadata": {},
   "outputs": [
    {
     "data": {
      "text/latex": [
       "$\\displaystyle \\frac{\\left(- \\cos{\\left(\\phi_{a} \\right)} + \\cos{\\left(\\phi + \\phi_{a} \\right)}\\right) \\cos{\\left(\\theta_{a} \\right)}}{2}$"
      ],
      "text/plain": [
       "(-cos(phi_a) + cos(phi + phi_a))*cos(theta_a)/2"
      ]
     },
     "execution_count": 71,
     "metadata": {},
     "output_type": "execute_result"
    }
   ],
   "source": [
    "C_ta_pa = trigsimp((Gout[0,0]-Gout[1,1]-Gout[2,2]+Gout[3,3])/(Gout[0,0]+Gout[1,1]+Gout[2,2]+Gout[3,3]))\n",
    "C_ta_pa"
   ]
  },
  {
   "cell_type": "code",
   "execution_count": 66,
   "metadata": {},
   "outputs": [
    {
     "data": {
      "text/latex": [
       "$\\displaystyle \\sin{\\left(\\frac{\\phi}{2} + \\phi_{a} - \\theta_{a} \\right)} - \\sin{\\left(\\frac{\\phi}{2} + \\phi_{a} + \\theta_{a} \\right)} - \\frac{\\cos{\\left(\\phi_{a} - \\theta_{a} \\right)}}{2} + \\frac{\\cos{\\left(\\phi_{a} + \\theta_{a} \\right)}}{2} + \\frac{\\cos{\\left(\\phi + \\phi_{a} - \\theta_{a} \\right)}}{2} - \\frac{\\cos{\\left(\\phi + \\phi_{a} + \\theta_{a} \\right)}}{2}$"
      ],
      "text/plain": [
       "sin(phi/2 + phi_a - theta_a) - sin(phi/2 + phi_a + theta_a) - cos(phi_a - theta_a)/2 + cos(phi_a + theta_a)/2 + cos(phi + phi_a - theta_a)/2 - cos(phi + phi_a + theta_a)/2"
      ]
     },
     "execution_count": 66,
     "metadata": {},
     "output_type": "execute_result"
    }
   ],
   "source": [
    "Expected = sin(p/2)*sin(ta-pa-p/2) - (1-sin(p/2))*cos(pa+p/2)*sin(ta)\n",
    "trigsimp(Expected-C_ta_pa)"
   ]
  },
  {
   "cell_type": "code",
   "execution_count": 68,
   "metadata": {},
   "outputs": [
    {
     "data": {
      "text/plain": [
       "(0.0, 6.283185307179586, 0.0, 6.283185307179586)"
      ]
     },
     "execution_count": 68,
     "metadata": {},
     "output_type": "execute_result"
    },
    {
     "data": {
      "image/png": "[encoded data removed]",
      "text/plain": [
       "<Figure size 432x288 with 2 Axes>"
      ]
     },
     "metadata": {
      "needs_background": "light"
     },
     "output_type": "display_data"
    }
   ],
   "source": [
    "f = lambdify((t,p,ta,pa),trigsimp(C_ta_pa), \"numpy\")\n",
    "ta_range = np.linspace(0,2*np.pi,1000)\n",
    "pa_range = np.linspace(0,2*np.pi,1000)\n",
    "phi_fixed = np.pi/3\n",
    "X, Y = np.meshgrid(ta_range, pa_range)\n",
    "def ftemp(ta_val,pa_val):\n",
    "    return f(0,phi_fixed,ta_val,pa_val)\n",
    "Z = ftemp(X,Y)\n",
    "fig,ax=plt.subplots(1,1)\n",
    "cp = ax.contourf(X, Y, Z)\n",
    "fig.colorbar(cp) # Add a colorbar to a plot\n",
    "plt.xlim(0,2*np.pi)\n",
    "plt.ylim(0,2*np.pi)\n",
    "ax.axis('equal')"
   ]
  },
  {
   "cell_type": "code",
   "execution_count": 62,
   "metadata": {},
   "outputs": [],
   "source": [
    "G_input = Matrix([1,0,1,0])*Matrix([1,0,1,0]).T\n",
    "a = conjugate(AR_PS)*G_input*AR_PS.T"
   ]
  },
  {
   "cell_type": "code",
   "execution_count": 63,
   "metadata": {},
   "outputs": [
    {
     "data": {
      "text/latex": [
       "$\\displaystyle \\left[\\begin{matrix}\\cos^{2}{\\left(\\frac{\\phi_{a}}{2} \\right)} & i \\sin{\\left(\\frac{\\phi_{a}}{2} \\right)} \\cos{\\left(\\frac{\\phi_{a}}{2} \\right)} & \\cos{\\left(\\frac{\\phi_{a}}{2} \\right)} & 0\\\\- i \\sin{\\left(\\frac{\\phi_{a}}{2} \\right)} \\cos{\\left(\\frac{\\phi_{a}}{2} \\right)} & \\sin^{2}{\\left(\\frac{\\phi_{a}}{2} \\right)} & - i \\sin{\\left(\\frac{\\phi_{a}}{2} \\right)} & 0\\\\\\cos{\\left(\\frac{\\phi_{a}}{2} \\right)} & i \\sin{\\left(\\frac{\\phi_{a}}{2} \\right)} & 1 & 0\\\\0 & 0 & 0 & 0\\end{matrix}\\right]$"
      ],
      "text/plain": [
       "Matrix([\n",
       "[             cos(phi_a/2)**2, I*sin(phi_a/2)*cos(phi_a/2),    cos(phi_a/2), 0],\n",
       "[-I*sin(phi_a/2)*cos(phi_a/2),             sin(phi_a/2)**2, -I*sin(phi_a/2), 0],\n",
       "[                cos(phi_a/2),              I*sin(phi_a/2),               1, 0],\n",
       "[                           0,                           0,               0, 0]])"
      ]
     },
     "execution_count": 63,
     "metadata": {},
     "output_type": "execute_result"
    }
   ],
   "source": [
    "a"
   ]
  },
  {
   "cell_type": "code",
   "execution_count": 15,
   "metadata": {},
   "outputs": [
    {
     "data": {
      "text/latex": [
       "$\\displaystyle \\frac{\\left(1 - \\cos{\\left(\\phi_{a} \\right)}\\right)^{2}}{6} + \\frac{\\cos{\\left(\\phi_{a} \\right)}}{3} - \\frac{\\cos{\\left(2 \\phi_{a} \\right)}}{12} + \\frac{3}{4}$"
      ],
      "text/plain": [
       "(1 - cos(phi_a))**2/6 + cos(phi_a)/3 - cos(2*phi_a)/12 + 3/4"
      ]
     },
     "execution_count": 15,
     "metadata": {},
     "output_type": "execute_result"
    }
   ],
   "source": [
    "trigsimp(trace(a*a) - 1)*1/3"
   ]
  }
 ],
 "metadata": {
  "kernelspec": {
   "display_name": "Python 3",
   "language": "python",
   "name": "python3"
  },
  "language_info": {
   "codemirror_mode": {
    "name": "ipython",
    "version": 3
   },
   "file_extension": ".py",
   "mimetype": "text/x-python",
   "name": "python",
   "nbconvert_exporter": "python",
   "pygments_lexer": "ipython3",
   "version": "3.7.4"
  }
 },
 "nbformat": 4,
 "nbformat_minor": 4
}
