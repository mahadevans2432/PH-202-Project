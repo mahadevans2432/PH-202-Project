{
 "cells": [
  {
   "cell_type": "markdown",
   "metadata": {},
   "source": [
    "# BELL'S MEASURE IN CLASSICAL OPTICAL COHERENCE"
   ]
  },
  {
   "cell_type": "markdown",
   "metadata": {},
   "source": [
    "<b>Note: we have fixed some of the typos and minor changes which do appear in the 1 hour recorded video in this final notebook</b>\n",
    "\n",
    "## Team details and work distrubution\n",
    "1. Aneesh Bapat (Roll no: 190260006): Proposed $A$ matrix formalism for devices, theoretical analysis of experiments along with derivations, coding of quantum circuits and proposal for parity sensitive polarization modifying gate.\n",
    "2. Ankan Mukherjee (Roll no: 190260008): Numpy calculations for $S$, $D$, $B$ and Correlation function. Optimization of $B$. Generation of plots and countor plots for experiments A, B and C. Interactivity of plots. Calculations for 3-D plot. Definition of necessary functions in the preamble.\n",
    "3. Mahadevan Subramanian (Roll no: 190260027): Explanation of polarization and spatial parity DoFs and their analysis. Quantum circuit analogue to given experiments and also proved quantum circuit universality for this analogous system. Proof of Bell's inequalities.\n",
    "4. Priyam Dubey (Roll no: 190260034): Worked and coded plots of Correlation Functions and $B_{max}$ plots along with the 3D volume generation in $S,S_\\text{pol},S_\\text{par}$ space, interpretation of 3D Plot. Worked on interactive plots for Topic 6."
   ]
  },
  {
   "cell_type": "markdown",
   "metadata": {},
   "source": [
    "## 0. Setting up this notebook\n",
    "Kindly run the cell below to make sure you have all required dependencies"
   ]
  },
  {
   "cell_type": "markdown",
   "metadata": {},
   "source": [
    "### 0.1 Installing and Importing Packages"
   ]
  },
  {
   "cell_type": "code",
   "execution_count": 1,
   "metadata": {},
   "outputs": [
    {
     "name": "stdout",
     "output_type": "stream",
     "text": [
      "Successfully imported packages\n"
     ]
    }
   ],
   "source": [
    "from IPython.display import clear_output,display, Math, Latex\n",
    "!pip install numpy\n",
    "!pip install scipy\n",
    "!pip install matplotlib\n",
    "!pip install sympy\n",
    "!pip install seaborn\n",
    "!pip install qiskit\n",
    "clear_output()\n",
    "import numpy as np\n",
    "import matplotlib.pyplot as plt\n",
    "from matplotlib.widgets import Slider, Button, RadioButtons\n",
    "from ipywidgets import interact, interactive, fixed, interact_manual, Layout\n",
    "import ipywidgets as widgets\n",
    "from mpl_toolkits.mplot3d import axes3d\n",
    "from sympy import *\n",
    "from sympy.physics.quantum.dagger import Dagger\n",
    "from IPython.display import Javascript\n",
    "import seaborn as sns\n",
    "import scipy as sc\n",
    "import sys\n",
    "from qiskit import *\n",
    "from qiskit.compiler import transpile, assemble\n",
    "from qiskit.tools.jupyter import *\n",
    "from qiskit.visualization import *\n",
    "np.set_printoptions(threshold=sys.maxsize)\n",
    "print(\"Successfully imported packages\")"
   ]
  },
  {
   "cell_type": "markdown",
   "metadata": {},
   "source": [
    "### 0.2 Defining Functions"
   ]
  },
  {
   "cell_type": "code",
   "execution_count": 2,
   "metadata": {},
   "outputs": [],
   "source": [
    "## Function implemented to set axis ticks in multiples of pi in plots.\n",
    "## Function written by Scott Centoni at https://stackoverflow.com/a/53586826\n",
    "\n",
    "\n",
    "def multiple_formatter(denominator=2, number=np.pi, latex='\\pi'):\n",
    "    def gcd(a, b):\n",
    "        while b:\n",
    "            a, b = b, a%b\n",
    "        return a\n",
    "    def _multiple_formatter(x, pos):\n",
    "        den = denominator\n",
    "        num = int(np.rint(den*x/number))\n",
    "        com = gcd(num,den)\n",
    "        (num,den) = (int(num/com),int(den/com))\n",
    "        if den==1:\n",
    "            if num==0:\n",
    "                return r'$0$'\n",
    "            if num==1:\n",
    "                return r'$%s$'%latex\n",
    "            elif num==-1:\n",
    "                return r'$-%s$'%latex\n",
    "            else:\n",
    "                return r'$%s%s$'%(num,latex)\n",
    "        else:\n",
    "            if num==1:\n",
    "                return r'$\\frac{%s}{%s}$'%(latex,den)\n",
    "            elif num==-1:\n",
    "                return r'$\\frac{-%s}{%s}$'%(latex,den)\n",
    "            else:\n",
    "                return r'$\\frac{%s%s}{%s}$'%(num,latex,den)\n",
    "    return _multiple_formatter\n",
    "\n",
    "class Multiple:\n",
    "    def __init__(self, denominator=2, number=np.pi, latex='\\pi'):\n",
    "        self.denominator = denominator\n",
    "        self.number = number\n",
    "        self.latex = latex\n",
    "\n",
    "    def locator(self):\n",
    "        return plt.MultipleLocator(self.number / self.denominator)\n",
    "\n",
    "    def formatter(self):\n",
    "        return plt.FuncFormatter(multiple_formatter(self.denominator, self.number, self.latex))"
   ]
  },
  {
   "cell_type": "code",
   "execution_count": 3,
   "metadata": {},
   "outputs": [],
   "source": [
    "def plotter(x,y,title,xlabel,ylabel,col,label):\n",
    "    num_space,=x.shape\n",
    "    plt.plot(x,y, color=col,linewidth=3, label=label)\n",
    "    plt.title(title, fontsize=15)\n",
    "    plt.xlabel(xlabel, fontsize=15)\n",
    "    plt.ylabel(ylabel, fontsize=15)\n",
    "    plt.xlim(0,2*np.pi)\n",
    "    ax=plt.gca()\n",
    "    ax.set_facecolor('#FFFFCC')\n",
    "    ax.axhline(0, color='black', lw=2)\n",
    "    ax.axvline(0, color='black', lw=2)\n",
    "    ax.xaxis.set_major_locator(plt.MultipleLocator(np.pi / 2))\n",
    "    ax.xaxis.set_minor_locator(plt.MultipleLocator(np.pi / 12))\n",
    "    ax.xaxis.set_major_formatter(plt.FuncFormatter(multiple_formatter()))\n",
    "    plt.xticks(fontsize =15)\n",
    "    plt.yticks(fontsize =15)\n",
    "    return"
   ]
  },
  {
   "cell_type": "code",
   "execution_count": 4,
   "metadata": {},
   "outputs": [],
   "source": [
    "def plotterC(x,y,title,xlabel,ylabel,col,label):\n",
    "    num_space,=x.shape\n",
    "    plt.plot(x,y, color=col,linewidth=3, label=label)\n",
    "    plt.title(title, fontsize=15)\n",
    "    plt.xlabel(xlabel, fontsize=15)\n",
    "    plt.ylabel(ylabel, fontsize=15)\n",
    "    plt.xlim(0,1)\n",
    "    ax=plt.gca()\n",
    "    ax.set_facecolor('#FFFFCC')\n",
    "    ax.axhline(0, color='black', lw=2)\n",
    "    ax.axvline(0, color='black', lw=2)\n",
    "    plt.xticks(fontsize =15)\n",
    "    plt.yticks(fontsize =15)\n",
    "    return"
   ]
  },
  {
   "cell_type": "code",
   "execution_count": 5,
   "metadata": {},
   "outputs": [],
   "source": [
    "def contourplotter(function,phi,title,xlabel,ylabel):\n",
    "    f = lambdify((t,p,ta,pa),function, \"numpy\")\n",
    "    ta_range = np.linspace(0,2*np.pi,1000);\n",
    "    pa_range = np.linspace(0,2*np.pi,1000);\n",
    "    phi_fixed = phi;\n",
    "    X, Y = np.meshgrid(ta_range, pa_range);\n",
    "    def ftemp(ta_val,pa_val):\n",
    "        return f(0,phi_fixed,ta_val,pa_val);\n",
    "    Z = ftemp(X,Y);\n",
    "    fig, ax = plt.subplots(figsize=(7,5.7))\n",
    "    cp = ax.contourf(X, Y, Z ,cmap='turbo');\n",
    "    fig.colorbar(cp) # Add a colorbar to a plot\n",
    "    plt.xlim(0,2*np.pi);\n",
    "    plt.ylim(0,2*np.pi);\n",
    "    ax.axis('equal');\n",
    "\n",
    "    plt.title(title, fontsize=15)\n",
    "    plt.xlabel(xlabel, fontsize=15)\n",
    "    plt.ylabel(ylabel, fontsize=15)\n",
    "    ax=plt.gca()\n",
    "    ax.set_facecolor((0.8,1,1))\n",
    "    ax.axhline(0, color='black', lw=2)\n",
    "    ax.axvline(0, color='black', lw=2)\n",
    "    ax.xaxis.set_major_locator(plt.MultipleLocator(np.pi / 2))\n",
    "    ax.xaxis.set_minor_locator(plt.MultipleLocator(np.pi / 12))\n",
    "    ax.xaxis.set_major_formatter(plt.FuncFormatter(multiple_formatter()))\n",
    "    ax.yaxis.set_major_locator(plt.MultipleLocator(np.pi / 2))\n",
    "    ax.yaxis.set_minor_locator(plt.MultipleLocator(np.pi / 12))\n",
    "    ax.yaxis.set_major_formatter(plt.FuncFormatter(multiple_formatter()))\n",
    "    plt.xticks(fontsize =15)\n",
    "    plt.yticks(fontsize =15)\n",
    "    return"
   ]
  },
  {
   "cell_type": "code",
   "execution_count": 6,
   "metadata": {},
   "outputs": [],
   "source": [
    "def contourplotterC(function,P1,title,xlabel,ylabel):\n",
    "    f = lambdify((P,ta,pa),function, \"numpy\")\n",
    "    ta_range = np.linspace(0,2*np.pi,100);\n",
    "    pa_range = np.linspace(0,2*np.pi,100);\n",
    "    P_fixed = P1;\n",
    "    X, Y = np.meshgrid(ta_range, pa_range);\n",
    "    def ftemp(ta_val,pa_val):\n",
    "        return f(P1,ta_val,pa_val);\n",
    "    Z = ftemp(X,Y);\n",
    "    fig, ax = plt.subplots(figsize=(7,5.7))\n",
    "    cp = ax.contourf(X, Y, Z ,cmap='turbo');\n",
    "    fig.colorbar(cp) # Add a colorbar to a plot\n",
    "    plt.xlim(0,2*np.pi);\n",
    "    plt.ylim(0,2*np.pi);\n",
    "    ax.axis('equal');\n",
    "\n",
    "    plt.title(title, fontsize=15)\n",
    "    plt.xlabel(xlabel, fontsize=15)\n",
    "    plt.ylabel(ylabel, fontsize=15)\n",
    "    ax=plt.gca()\n",
    "    ax.set_facecolor((0.8,1,1))\n",
    "    ax.axhline(0, color='black', lw=2)\n",
    "    ax.axvline(0, color='black', lw=2)\n",
    "    ax.xaxis.set_major_locator(plt.MultipleLocator(np.pi / 2))\n",
    "    ax.xaxis.set_minor_locator(plt.MultipleLocator(np.pi / 12))\n",
    "    ax.xaxis.set_major_formatter(plt.FuncFormatter(multiple_formatter()))\n",
    "    ax.yaxis.set_major_locator(plt.MultipleLocator(np.pi / 2))\n",
    "    ax.yaxis.set_minor_locator(plt.MultipleLocator(np.pi / 12))\n",
    "    ax.yaxis.set_major_formatter(plt.FuncFormatter(multiple_formatter()))\n",
    "    plt.xticks(fontsize =15)\n",
    "    plt.yticks(fontsize =15)\n",
    "    return"
   ]
  },
  {
   "cell_type": "markdown",
   "metadata": {},
   "source": [
    "## Introduction\n",
    "Bell states or entangled states are a very common idea in the realm of quantum computing. The idea behind a bell state is that the measurement of one qubit is perfectly correlated to the measurement of the other. So while a partial measurement of only one qubit would lead the observer to believe that the state is not pure (the quantum computing equivalent of coherence in optics), the state is infact pure when a correlated measurement of the two qubits is carried out at the same time. This has interesting applications such as quantum teleportation, superdense coding and quantum cryptography. While bell states have been studied thoroughly in the field of quantum computing, there are not many studies that explore the classical analogue of bell states. In this project, we have tried to explore the this topic mainly along the ideas presented in reference [[1](#ref-1)]. \n",
    "<p> The main idea we are trying to explore is that it is possible to couple two degrees of freedom (DOFs) of a beam of light, in the context of our discussion, polarisation and parity, such that when a measurement of only one DOF is made (independent of the other), it is possible for the beam to appear partially coherent or even completely incoherent, while the the beam is infact completely coherent (in the sense that there is nothing 'random' about the beam). This hidden coupling can be made evident by actually performing a correlated bell state measurement between the two DOFs, and also allows us to distinguish true randomness (partial coherence) from entanglement. It is also possible to look at coherence as a resource that can be shared among different DOFs, for example, we can start with a completely unpolarised beam which is parity coherent, and convert it to a beam which is perfectly polarised but parity incoherent. Further, we have tried to explore the relevance of this scheme to a classical implementation of a quantum computer, which can infact be shown to be universal, but is limited in the fact that the scheme is hard to generalise to a large number of qubits. </p> "
   ]
  },
  {
   "cell_type": "markdown",
   "metadata": {},
   "source": [
    "## 1. Polarization & Spatial Parity\n",
    "\n",
    "In the paper [[1](#ref-1)] the experiments which were done were made using of an optical beam model with two binary degrees of freedom, specifically polarization and spatial parity along the $x$ direction (vertically upwards) respectively of a quasi monochromatic source, where the beam is travelling in the $z$ direction.<br>\n",
    "For the spatial parity, in one dimension the beams are of form $E(x) = E_e\\psi_e(x)+E_o\\psi_o(x)$ where $\\psi_e(x)$ is an even function and $\\psi_o(x) = \\text{sgn}(x)\\psi_e(x)$ hence is an odd function. We give this beam a vector representation called $\\mathbf{J}_\\text{par} = [E_e\\text{ } E_o]^T$. Spatial parity is manipulated using a spatial light modulator (SLM) which we describe in the experimental apparatus section. Along with the horizontal (H) and vertical components of polarization taken into account we describe the polarization-parity jones vector as $\\mathbf{J} = [E_\\text{He}\\text{ }E_\\text{Ho}\\text{ }E_\\text{Ve}\\text{ }E_\\text{Vo}]^T$.<br>\n",
    "We then describe the properties of this coherence using a $4\\times4$ matrix which is $\\mathbf{G} = \\langle\\mathbf{J}^{*}\\mathbf{J}^\\text{T}\\rangle$. Taking partial trace along $\\mathbf{G}$ would give us either $\\mathbf{G}_\\text{pol}$ or $\\mathbf{G}_\\text{par}$ on taking trace along parity or polarization respectively. We define a degree of polarization/parity using $D_{\\text{pol}}$($D_\\text{par}$) which quantifies the apparent coherence of each DoF when the other DoF is unresolved. Further an overall coherence $S$ is defined using the beam's linear entropy [[2](#ref-2)] as follows.\n",
    "The definition of linear entropy comes from the motivation of von Neumann Entropy. For a quantum mechanical system with a density matrix $\\rho$ this is defined as $S_v = \\text{Tr}(-\\rho\\ln(\\rho)) = -\\langle\\ln(\\rho)\\rangle$. The linear entropy $S_L$ is a lower approximation to $S_v$ which comes from expanding the leading term in the expansion of $-\\rho\\ln\\rho$ which becomes $\\rho-\\rho^2$ approximately when $\\rho$ is close to $I$ (using taylor expansion) and taking trace this gives us the definition $S_L = \\text{Tr}(\\rho) - \\text{Tr}(\\rho^2)$ and by definition of the density matrix we have trace of $\\rho$ equal to 1 which gives us $S_L = 1 - \\text{Tr}(\\rho^2)$. This is a non normalized quantity so this is normalized by multiplying it by $\\frac{d}{d-1}$ which here is $4/3$ since our system has four dimensions. The definition of our $\\mathbf{G}$ matrix is isomorphic to the definition of a density matrix of a two qubit system keeping the Jones vector $\\mathbf{J}$ as the state of this two qubit system. Hence we have \n",
    "\\begin{equation}\\label{eq:1.1}\\tag{1.1}S = 1-S_L = 1 - \\frac{4}{3} + \\frac{4}{3}\\text{Tr}(\\mathbf{G}^2) = \\frac{4}{3}\\left(\\text{Tr}\\{\\mathbf{G}^2\\}-\\frac{1}{4}\\right)\\end{equation}\n",
    "We know that for normalized states we have that $\\frac{1}{d}\\leq$ Tr$(\\rho^2) \\leq 1$ and equals one only for a pure state and $1/d$ for completely mixed state. We can similarly draw a parallel here to seeing that $S=1$ happens only for coherent (pure) states and is 0 when completely incoherent. An important note to make here is that applying a unitary matrix $U$ (so $U^{*}U^{T} = I$) which is not time dependent on the Jones vector would not change our value of $S$ since on acting of a unitary we would have $\\mathbf{G}' = U^{*}\\mathbf{G}U^{T}$ and so $\\mathbf{G}'^2 = U^{*}\\mathbf{G}^2U^{T}$ and this has same trace as $\\mathbf{G}^2$ since trace is invariant under unitary transforms.\n",
    "\n",
    "The paper here explores the properties of a beam where these two DoFs are infact coupled or entagled. One can start with a coherent linearly polarized beam at $45^\\circ$ with even polarity which would be $\\mathbf{J} = (1/\\sqrt{2})[\\text{1 0 1 0}]^T$ which can clearly be factored into a direct product of $\\mathbf{J}_{\\text{pol}}\\otimes\\mathbf{J}_\\text{par}$ and so $D_\\text{pol} = D_\\text{par} = 1$. However on passing this beam through a polarization sensitive SLM which introduces a phase of $\\frac{\\varphi}{2}\\text{sgn}(\\varphi)$ only to the horizontal polarity component and none to the vertical. We can think of this analoguos to a controlled $R_x(\\varphi)$ operation from the polarization qubit to parity qubit which acts when polarization is $|0\\rangle$ (called H here for polarization). This puts the state to an entagled state $\\mathbf{J} = (1/\\sqrt{2})[\\cos(\\varphi/2)\\text{ }\\iota\\sin(\\varphi/2)\\text{ 1 0}]^T$ which is no longer factorizable and shows that the apparant degree of coherence of the individual DoFs are no longer equal to 1 unless $\\varphi=0$ and infact equal zero when $\\varphi=\\pi$. However we know that this state is still coherent on an overall, the only issue is that seeing the partial trace of $\\mathbf{G}$ along the respective DoF provide an incomplete picture of the state hence leading to a conclusion that the coherence is absent. The paper proceeds to make use of the Bell's measure (see [Appendix A](#Appendix-A:-The-EPR-paradox-and-Bell's-inequalities)) to quantify this entanglement which is the cause of this apparent coherence deficit."
   ]
  },
  {
   "cell_type": "markdown",
   "metadata": {},
   "source": [
    "## 2. Experimental Apparatus\n",
    "\n",
    "For the experimental setup, we are using various separate components, which we will comment on one by one before seeing how they are arranged together for the experiment in this paper. We can develop a matrix operator formalism based on how these elements affect the vector $\\mathbf{J} = [E_{He} \\ E_{Ho} \\ E_{Ve} \\ E_{Vo}]^T$. Suppoe we have a device that modifies the Jones vector of a beam in the following way - $\\mathbf{J_{new}} = \\mathbf{A}\\mathbf{J_{old}}$. Then, the corresponding $\\mathbf{G} = \\langle \\mathbf{J^*J^T}\\rangle$ tranforms as $\\mathbf{G_{new} = A^*G_{old}A^T}$. This is because, assuming that the effect of the device, encoded in matrix $\\mathbf{A}$  is time independent, the matrix can just move inside the time average. And as we will see below, for all the devices used in this experiment, their effect is time invariant.\n",
    "\n",
    "\n",
    "## Polarisation only devices\n",
    "\n",
    "### 2.1 Waveplates\n",
    "<p>The first element we will look at is a half-wave plate. Suppose we have a half-wave plate whose axis is inclined at angle $\\theta$ to the $+x$ axis. Then, it will add a phase of $\\pi$ to the component of the amplitude along its axis, with respect to the component perpendicular to the axis. In other words, the component of E field along the axis will be effectively multiplied by $e^{i\\pi} = (-1)$.</p> \n",
    "<p> Suppose the in-going beam is described by a polarisation-only Jones vector $J_{pol} = [E_x \\ E_y]^T$. Then the (complex) amplitude is $E_x\\hat{x} + E_y\\hat{y} = (E_{x}\\cos\\theta + E_y\\sin\\theta)\\hat{\\theta_{\\parallel}} + (E_{x}\\sin\\theta - E_y\\cos\\theta) \\hat{\\theta_{\\perp}}$. So after adding a phase multiplier factor of $e^{i\\pi} = -1$ to the $\\hat{\\theta_{\\parallel}}$ component, the new complex amplitude is \\begin{align*}(-E_{x}\\cos\\theta - E_y\\sin\\theta)\\hat{\\theta_{\\parallel}} +  (E_{x}\\sin\\theta - E_y\\cos\\theta) \\hat{\\theta_{\\perp}} &= (\\cos\\theta \\ (-E_{x}\\cos\\theta - E_y\\sin\\theta)+ \\sin\\theta(E_{x}\\sin\\theta - E_y\\cos\\theta))\\hat{x} + (\\sin\\theta \\ (-E_{x}\\cos\\theta - E_y\\sin\\theta)- \\cos\\theta(E_{x}\\sin\\theta - E_y\\cos\\theta))\\hat{y} \\\\ &= [E_x(\\sin^2\\theta-\\cos^2\\theta) - E_y(2\\sin\\theta\\cos\\theta) \\qquad{} -E_x(2\\sin\\theta\\cos\\theta)  Ey(\\cos^2\\theta -\\sin^2\\theta)] \\\\ &=[-E_x\\cos(2\\theta) - E_y\\sin(2\\theta) \\qquad{} -E_x\\sin(2\\theta)+E_y\\cos(2\\theta)]\\end{align*}\n",
    "    \n",
    "We can write this more compactly in a 2x2 matrix - \n",
    "$$\\begin{pmatrix}-\\cos(2\\theta) & -\\sin(2\\theta) \\\\ -\\sin(2\\theta) & \\cos(2\\theta)\\end{pmatrix}\\begin{pmatrix}E_x \\\\ E_y\\end{pmatrix}_{old} = \\begin{pmatrix}E_x \\\\ E_y\\end{pmatrix}_{new}$$\n",
    "<p>When we are dealing with our 4 dimensional Jones vector, to generate the corresponding 4x4 HWP operator matrix, we can propose a 4x4 operator matrix. But before we spell it out, a few changes in notation are in order, to follow the same general notation as the paper. </p>\n",
    "<ol>\n",
    "    <li>The physical rotation angle used is $\\frac{\\theta}{4}$ so that the matrix entries are in terms of $\\frac{\\theta}{2}$. This corresponds to a quantum computing operator $R_y(\\theta) \\cdot Z$.</li>\n",
    "    <li>The axis, with respect to which the angle $\\frac{\\theta}{2}$ is to be measured is not specified in the paper. Two reasonable guesses are either the X axis (upwards vertical, as shown in the figure in the paper) or the horizontal axis (-y axis in the paper). In either case, we get the same matrix except with a global phase factor of $e^{i\\pi} = -1$. As we will see shortly, global phases do not affect the final calculation.</li>\n",
    "</ol>\n",
    "Since our Jones vector is $J = J_{pol}\\otimes J_{par}$, and our HWP does not affect the parity DOF at all (in other words, acts like an identity transformation), we can write it as a tensor product - \n",
    "$$A_{HWP}\\left(\\frac{\\theta}{2}\\right) = \\begin{pmatrix}-\\cos(\\theta/2) & -\\sin(\\theta/2) \\\\ -\\sin(\\theta/2) & cos(\\theta/2)\\end{pmatrix}\\otimes\\begin{pmatrix} 1&0 \\\\ 0&1\\end{pmatrix}=\\begin{pmatrix}\n",
    "-\\cos\\frac{\\theta}{2} & 0 & -\\sin\\frac{\\theta}{2} & 0 \\\\ \n",
    "0 &-\\cos\\frac{\\theta}{2}&0&-\\sin\\frac{\\theta}{2} \\\\\n",
    "-\\sin\\frac{\\theta}{2} &0 & \\cos\\frac{\\theta}{2} & 0 \\\\\n",
    "0 & -\\sin\\frac{\\theta}{2} &0 & \\cos\\frac{\\theta}{2}\n",
    "\\end{pmatrix} $$\n",
    "\n",
    "A more generic derivation that accounts for a waveplate of any arbitrary phase, and any arbitrary rotation is given in reference [[9](#ref-9)]\n",
    "\n",
    "### 2.2 Polarising Beam Splitter\n",
    "\n",
    "This is an element that separates out the H and V polarised beams from the input beam. There is no operator matrix associated with it, it simply separates out the two beams, without affecting parity at all. One point to note here - as we describe below, a mirror will add a factor of (-1) to odd modes, so the component which gets reflected will pick up that factor here as well. We can either correct this with a second reflection of that beam from a $45^\\circ$ mirror to correct it or not do anything at all about it (in the experimental setup in the paper seen as a whole, we can see that it won't matter the odd and even beams will be switched, but that is about it.)\n",
    "\n",
    "## Parity Sensitive Devices\n",
    "Most of the discussion for parity sensitive devices is largely based on reference [[10](#ref-10)].\n",
    "\n",
    "### 2.3 Dove Prism\n",
    "<p> We know that a mirror inverts left-right. So if we put an odd beam through the mirror, it will pick up a factor of (-1) from the + and - axes being inverted (i.e. -x being mapped to x). </p>\n",
    "<p> The operator (parity only, polarisation plays no role) associated to a mirror is $$\\begin{pmatrix}-1 & 0 \\\\ 0 & 1\\end{pmatrix}\\begin{pmatrix}e \\\\ o \\end{pmatrix}_{old} = \\begin{pmatrix}e \\\\ o \\end{pmatrix}_{new}$$ An additional -1 factor is added as a global phase, because of the phase change on reflecting.</p>\n",
    "<img width=\"40%\" src='https://raw.githubusercontent.com/mahadevans2432/PH-202-Project/main/Mirror_and_parity.png'>\n",
    "One thing about mirrors which is particularly inconvenient is that the incoming and outgoing beam does not travel in the same direction, so we cannot conveniently include a mirror in the arm of a Mach-Zehnder interferometer easily, for example. To make our life simple, we use a dove prism, which is a trapezoid shaped prism, that the light beam enters, undergoes TIR on one surface of it and exits travelling in the same direction as incoming beam. It performs the same matrix operation as a mirror, but is more convenient to use. One aspect to be careful of (that can be easily overcome) is that there is a phase change because the beam travels through the glass/ material of the prism, but that can be easily dealt with by using a compensator cell in the other arm. Another important aspect of a Dove prism - since the wave incidence medium is denser and the transmission medium is rarer (unlike a regular mirror), there is no addition $\\pi$ phase of reflection, and the operator matrix is simply $$\\begin{pmatrix}1 & 0 \\\\ 0 & -1\\end{pmatrix}\\begin{pmatrix}e \\\\ o \\end{pmatrix}_{old} = \\begin{pmatrix}e \\\\ o \\end{pmatrix}_{new}$$\n",
    "<img width = \"60%\" src='https://raw.githubusercontent.com/mahadevans2432/PH-202-Project/main/Dove_prism.png'>\n",
    "\n",
    "### 2.4 Mach Zehnder Interferometer\n",
    "<img width = \"60%\" src='https://raw.githubusercontent.com/mahadevans2432/PH-202-Project/main/MZI.png'><center>A schematic of a MZI, self drawn</center>\n",
    "<p> In this arrangement, the beam splitters are polarisation insensitive, so there is no polarisation discrimination. First let us consider a MZI with no dove prism (and no compensation cell). Suppose the only input beam is given from In1. Then, the left beam suffers two rarer-denser reflections and the same is the case with the right beam, as they come out from Out2. Hence, we have constructive interference at Out2. Whereas, as Out1, the left beam still has same phase (the reflection at exit beam splitter is denser-rarer, so no phase change) while the right beam has one reflection only, so the interference is destructive.</p>\n",
    "<p>With a dove prism in place, the odd mode undergoes one extra inversion in the left path, so its constructive/destructive outputs are now exactly swapped. As a result, if we send in a superposition of odd and even modes into In1, the odd mode comes out from Out1, while the even mode comes out from Out2 (just as if no prism were there). Conversely, if we send in the beam from In2, the odd mode will come out from Out2 and the even mode from Out1.</p>\n",
    "\n",
    "Hence we can think of two uses of this MZI arrangement - \n",
    "<ol> <li> To split a superposed beam into its odd and even components, send this beam in from one of the inputs only and the odd and even parity modes are separated.</li>\n",
    "    <li> If we have a odd parity beam and an even parity beam, we can add them (make a superposed state) by sending in the odd beam in In1, the even beam from In2, and then getting the superposed beam out, from Out1.\n",
    "       </ol>\n",
    "       In the experiment performed in the paper, the authors concern themselves only with the first use.\n",
    "       \n",
    "### 2.5 SLMs and PS-SLMs \n",
    "A SLM is a spatial light modulator. In general, this term refers to any device that modifies the beam in a space dependent fashion. In the context of this experiment, the SLM they use (Hamamatsu X10468-02) is an array of liquid crystal pixels, each of whose refractive index can be controlled independently by applying a voltage, in such a way, that we add a desired phase to the light passing through each pixel, and the phase in each pixel is independent of the others.\n",
    "<p>Suppose we send a beam through a SLM which adds a $x$-dependant phase $\\frac{\\phi}{2}sgn(x)$ to the electric field (global phase does not matter here, by the way. Only relative phase/ difference in phase between top and bottom half being $\\phi$ is what matters.) Then, we are effectively multiplying the old profile $E_{old}(x)$ by $e^{\\iota\\frac{\\phi}{2}sgn(x)}$, to get new profile $E_{new}(x)$. Observe that $e^{\\iota\\frac{\\phi}{2}sgn(x)} = cos(\\frac{\\phi}{2})+ \\iota sgn(x)sin(\\frac{\\phi}{2})$. So, with $E_{old}(x) = e(x)+o(x)$, we can get $E_{new}(x) = (e(x)+o(x))(cos(\\phi/2)+\\iota sgn(x)sin(\\phi/2)) = [cos(\\phi/2)e(x) + \\iota sin(\\phi/2) sgn(x)o(x)] + [cos(\\phi/2)o(x) + \\iota sin(\\phi/2) sgn(x)e(x)]$. </p>\n",
    "<p>Observe that the first term in the new expression is even while the second term is odd, which means that they are the new even and odd decomposition (which is unique). We can re-express this as $\\begin{pmatrix}cos(\\phi/2) & \\iota sin(\\phi/2) \\\\ \\iota sin(\\phi/2) & cos(\\phi/2) \\end{pmatrix}\\begin{pmatrix}e_{old} \\\\ o_{old}\\end{pmatrix} = \\begin{pmatrix}e_{new} \\\\ o_{new}\\end{pmatrix}$ to make it look more like the transformation caused by a half wave plate, but for the parity DOF. In particular, observe that if we set $\\phi = \\pi$ then the matrix shown looks like a Pauli $\\sigma_x$ matrix (times the constant $\\iota$)- it swaps the $o$ and $e$ bases.\n",
    "\n",
    "Further, to obtain the 4x4 transformation matrix, we again do a tensor product - \n",
    "$$A_{par}\\left(\\frac{\\phi}{2}\\right) = \\begin{pmatrix}1 & 0 \\\\ 0 & 1\\end{pmatrix}\\otimes\\begin{pmatrix} \\cos(\\phi/2)&i\\sin(\\phi/2) \\\\ i\\sin(\\phi/2) &\\cos(\\phi/2)\\end{pmatrix}=\\begin{pmatrix}\n",
    "\\cos(\\phi/2)&i\\sin(\\phi/2) & 0& 0\\\\ i\\sin(\\phi/2) &\\cos(\\phi/2) &0 & 0\\\\\n",
    "0&0&\\cos(\\phi/2)&i\\sin(\\phi/2) \\\\ 0&0&i\\sin(\\phi/2) &\\cos(\\phi/2)\n",
    "\\end{pmatrix} $$\n",
    "\n",
    "Again, the rationale is that since there is no polarisation effect, that part of the first matrix is identity.\n",
    "\n",
    "The liquid crystals can be acted on by a electric field in two directions, so that the refractive index of a single pixel itself is non-isotropic. This leads to polarisation-sensitive behaviour of the pixels. For example, if we take a SLM that adds a phase of $\\frac{\\phi}{2}sgn(x)$ only to the H-polarisation while leaving the V polarisation unchanged. In this case, we can simply modify the above operator matrix to look like $$A_{PS-SLM}\\left(\\frac{\\phi}{2}\\right) =\\begin{pmatrix}\n",
    "\\cos(\\phi/2)&i\\sin(\\phi/2) & 0& 0\\\\ i\\sin(\\phi/2) &\\cos(\\phi/2) &0 & 0\\\\\n",
    "0&0&1&0 \\\\ 0&0&0 &1\n",
    "\\end{pmatrix} $$"
   ]
  },
  {
   "cell_type": "markdown",
   "metadata": {},
   "source": [
    "## General Observations About the operator matrices\n",
    "We can see the following properties about the matrix formalism we have developed.\n",
    "<ol><li> The matrix (operator) for any device is unique only up to global phase. In particular, the phase will depend on the optical path length (refractive index $\\times$ physical path length) within the device, and can always be corrected by using an appropriate compensator cell. But note that all these different-phase $A$ matrices will still lead to the same value of $G_{out} = A^*G_{in}A^T$, because if $A_1 = A_2e^{\\iota \\psi}$, then $G_1 = (e^{-\\iota \\psi}A_2^*)G_{in}(e^{\\iota \\psi}A_2^T) = A_2^*G_{in}A_2^T = G_2$</li>\n",
    "    <li> The matrices are all unitary. $AA^\\dagger = A^\\dagger A = \\mathbb{I}$. This is expected, because if we take a completely incoherent beam in phase as well as parity, then no device will be able to change it, and the $G$ matrix for a completely incoherent mode is a scalar multiple of identity.</li>\n",
    "    <li> The matrices corresponding to a rotated HWP and to a polarisation-insensitive SLM commute. This is expected because each of these devices is expected to modify only one DOF.</li>\n",
    "    </ol>"
   ]
  },
  {
   "cell_type": "code",
   "execution_count": 7,
   "metadata": {},
   "outputs": [],
   "source": [
    "P,t,p,ta,pa = symbols('P theta varphi theta_a varphi_a',real=True)\n",
    "A_HWP = Matrix([[-cos(ta/2),0,-sin(ta/2),0],[0,-cos(ta/2),0,-sin(ta/2)],[-sin(ta/2),0,cos(ta/2),0],\n",
    "              [0,-sin(ta/2),0,cos(ta/2)]])\n",
    "A_SLM = Matrix([[cos(pa/2),I*sin(pa/2),0,0],[I*sin(pa/2),cos(pa/2),0,0],[0,0,cos(pa/2),I*sin(pa/2)],\n",
    "             [0,0,I*sin(pa/2),cos(pa/2)]])\n",
    "A_PSSLM = Matrix([[cos(pa/2),I*sin(pa/2),0,0],[I*sin(pa/2),cos(pa/2),0,0],[0,0,1,0],\n",
    "             [0,0,0,1]]) "
   ]
  },
  {
   "cell_type": "code",
   "execution_count": 8,
   "metadata": {},
   "outputs": [
    {
     "data": {
      "text/latex": [
       "$\\displaystyle \\left[\\begin{matrix}1 & 0 & 0 & 0\\\\0 & 1 & 0 & 0\\\\0 & 0 & 1 & 0\\\\0 & 0 & 0 & 1\\end{matrix}\\right]$"
      ],
      "text/plain": [
       "Matrix([\n",
       "[1, 0, 0, 0],\n",
       "[0, 1, 0, 0],\n",
       "[0, 0, 1, 0],\n",
       "[0, 0, 0, 1]])"
      ]
     },
     "execution_count": 8,
     "metadata": {},
     "output_type": "execute_result"
    }
   ],
   "source": [
    "trigsimp(A_SLM*conjugate(A_SLM.T)) #A_SLM is unitary"
   ]
  },
  {
   "cell_type": "code",
   "execution_count": 9,
   "metadata": {},
   "outputs": [
    {
     "data": {
      "text/latex": [
       "$\\displaystyle \\left[\\begin{matrix}1 & 0 & 0 & 0\\\\0 & 1 & 0 & 0\\\\0 & 0 & 1 & 0\\\\0 & 0 & 0 & 1\\end{matrix}\\right]$"
      ],
      "text/plain": [
       "Matrix([\n",
       "[1, 0, 0, 0],\n",
       "[0, 1, 0, 0],\n",
       "[0, 0, 1, 0],\n",
       "[0, 0, 0, 1]])"
      ]
     },
     "execution_count": 9,
     "metadata": {},
     "output_type": "execute_result"
    }
   ],
   "source": [
    "trigsimp(A_PSSLM*conjugate(A_PSSLM.T)) #A_PSSLM is unitary"
   ]
  },
  {
   "cell_type": "code",
   "execution_count": 10,
   "metadata": {},
   "outputs": [
    {
     "data": {
      "text/latex": [
       "$\\displaystyle \\left[\\begin{matrix}1 & 0 & 0 & 0\\\\0 & 1 & 0 & 0\\\\0 & 0 & 1 & 0\\\\0 & 0 & 0 & 1\\end{matrix}\\right]$"
      ],
      "text/plain": [
       "Matrix([\n",
       "[1, 0, 0, 0],\n",
       "[0, 1, 0, 0],\n",
       "[0, 0, 1, 0],\n",
       "[0, 0, 0, 1]])"
      ]
     },
     "execution_count": 10,
     "metadata": {},
     "output_type": "execute_result"
    }
   ],
   "source": [
    "trigsimp(A_HWP*conjugate(A_HWP.T)) #A_HWP is unitary"
   ]
  },
  {
   "cell_type": "code",
   "execution_count": 11,
   "metadata": {},
   "outputs": [
    {
     "data": {
      "text/latex": [
       "$\\displaystyle \\left[\\begin{matrix}0 & 0 & 0 & 0\\\\0 & 0 & 0 & 0\\\\0 & 0 & 0 & 0\\\\0 & 0 & 0 & 0\\end{matrix}\\right]$"
      ],
      "text/plain": [
       "Matrix([\n",
       "[0, 0, 0, 0],\n",
       "[0, 0, 0, 0],\n",
       "[0, 0, 0, 0],\n",
       "[0, 0, 0, 0]])"
      ]
     },
     "execution_count": 11,
     "metadata": {},
     "output_type": "execute_result"
    }
   ],
   "source": [
    "trigsimp(A_HWP*A_SLM - A_SLM*A_HWP) #A_SLM and A_HWP commute"
   ]
  },
  {
   "cell_type": "markdown",
   "metadata": {},
   "source": [
    "## Proposal for a Parity-Sensitive Polarisation Modifier\n",
    "In the main paper [[1](#ref-1)], one of the loose ends that the authors do not seem to have addressed is that polarity seems to have a special place in this qubits scheme, in the sense that controlled gates can be made only with polarity as a control qubit (no parity controlled gates/devices are proposed). Here, we wish to present the design of a parity controlled device, that can be used to implement the controlled version of any possible (ordinarily) parity-insensitive device. \n",
    "<p>The main idea is to use the second use of the MZI. Suppose you are given an input beam and you want to perform a controlled-HWP operation on that (we have already seen uncontrolled HWP earlier). Then, the idea is to split up the input beam into the odd and even components with an MZI and then recombine them with a second MZI. In this way, a parity-controlled operation can be performed. The below image shows a schematic for a parity-sensitive HWP.</p>\n",
    "<img width = \"40%\" src='https://raw.githubusercontent.com/mahadevans2432/PH-202-Project/main/parity_sensitive_HWP.png'>\n",
    "<p> An important use of this idea will be to bring the line of thought presented in the paper to a logical conclusion - suppose we start with a purely even mode but completely unpolarised beam. Then, by coupling the parity to the polarisation, we can generate a coupled-DOF beam. To convert this beam to a completely polarised, parity-incoherent beam, we would need to implement a parity-controlled polarisation operation, which this section proposes a theoretical solution to accomplishing. One major issue still here, is that stacking two MZI's could be a challenge, in view of the difficulty of alignment.This might be fixable by using waveguides </p>\n",
    "<p> Note that in the above drawn diagram, there should be an appropriate compensator cell in the upper arm which compensates for the phase added to the slow polarisation by the HWP.</p>"
   ]
  },
  {
   "cell_type": "markdown",
   "metadata": {},
   "source": [
    "## The Three Experiments\n",
    "Below, we give a brief account of the setups for the three experiments\n",
    "### Experiment A\n",
    "In experiment A, the authors of [[1](#ref-1)] use a laser source with a perfectly even amplitude function and perfectly linearly polarised in a direction $45^\\circ$ to the x - axis. Then it is passed through a PS-SLM inducing a phase $\\frac{\\phi}{2}sgn(x)$ only to the H-polarisation, but not to the V-polarisation. This is a classical bell state where polarisation and parity are coupled, and in the case where $\\phi = \\pi$ radians, both DOFs appear completely incoherent in an uncoupled measurement.\n",
    "\n",
    "### Experiment B\n",
    "In this experiment, the even mode $45^\\circ$ laser is first passed through a random rotator which makes the beam completely polarisation incoherent (unpolarised) while not affecting the parity coherence. Now, it is again passed through a PS-SLM like in experiment A. Thus, the parity DOF is coupled to the polarisation DOF, which is incoherent. With a complete coupling ($\\phi = \\pi$ radians) the parity as well as polarisation appear completely incoherent by themselves, while we expect the beam to infact be partially coherent, since it was parity coherent to begin with. This is again revealed to be true by a Bell-state measurement.\n",
    "\n",
    "### Experiment C\n",
    "In this experiment we pass the even mode $45^\\circ$ laser through a PS-SLM, but this time the PS-SLM is probabilistic, in the sense that it couples the parity to polarisation with probability $P$ and does not couple them, with a probability $1-P$ (i.e. the beam is unaffected). In this case, the PS-SLM itself contributes to the incoherence (partial) of the beam because it introduces an element of randomness. "
   ]
  },
  {
   "cell_type": "markdown",
   "metadata": {},
   "source": [
    "## 3. Polarization and Spatial Parity analysis\n",
    "### 3.1 The correlation function\n",
    "We will now proceed to define a normalized correlation function $C(\\theta_a,\\phi_a)$ which we will use for defining our bell's measure $B$. The analyzing done in the paper does so with the following experimental setup shown below (images taken from [[1](#ref-1)])\n",
    "\n",
    "<table>\n",
    "    <tr>\n",
    "        <td><img width=\"90%\"src=\"https://raw.githubusercontent.com/mahadevans2432/PH-202-Project/main/fig1b-og.png\"/><center><b>Fig: 3.1</b></center></td>\n",
    "        <td><img width=\"90%\"src=\"https://raw.githubusercontent.com/mahadevans2432/PH-202-Project/main/fig1c-og.png\"/><center><b>Fig: 3.2</b></center></td>\n",
    "    </tr>\n",
    "</table>\n",
    "\n",
    "[Section 2](#2.-Experimental-Apparatus) explains the functioning principle for each of the apparatus in the above figure. What the setup essentially does in fig: 3.1.1 is for analyzing the DoFs seperately. The polarization is analyzed in a linear basis rotated by $\\theta_a$ by action of the half wave plate and similarly the parity is analyzed by analyzing over a basis rotated by $\\varphi_a$. The measured intensities are normalized and kept as probabilities in a way that $P_H + P_V = P_o + P_e = 1$. In fig: 3.2 combined polarization-parity measurements are done by essentially using the setup of fig: 3.1 but by concatenating the different DoF analysis stages. If we call the input coherency matrix as $\\mathbf{G}_{in}$ then the resulting coherency matrix after the transformations on which measurement is being done is \n",
    "\\begin{equation}\\label{eq:3.1}\\tag{3.1}\\mathbf{G}_{out} = A_{SLM}^*A_{HWP}^*\\mathbf{G}_{in}A_{HWP}^TA_{SLM}^T\\end{equation}\n",
    "As already shown in section 1, our definition of overall coherence in eq: 1.1 is invariant under applying these unitaries on the state. The following is the definition we give to the correlation function in the equation below. Symmetric values are assignmed to the coefficeints $c_\\text{pol} = \\pm1$ ($c_\\text{par} = \\pm1$) to the dichotomic H (e) and V (o) probability outcomes. \n",
    "\\begin{equation}\\label{eq:3.2}\\tag{3.2}C(\\theta_a,\\varphi_a) = \\sum c_\\text{pol}c_\\text{par}P_\\text{pol,par} = P_\\text{He} - P_\\text{H0} - P_\\text{Ve} + P_\\text{Vo}\\end{equation}\n",
    "For the uncoupled case this can be factorized into $C(\\theta_1,\\varphi_a) = C_\\text{pol}(\\theta_a)C_\\text{par}(\\phi_a)$ and here we would have $C_\\text{pol}(\\theta_a) = P_H - P_V$ and $C_\\text{par} = P_e - P_o$. Proceeding this they use th CSHS formulation of the Bell's measure (see Appendix A) to write \n",
    "\\begin{equation}\\label{eq:3.3}\\tag{3.3}B = |C(\\theta_a,\\varphi_a) + C(\\theta_a,\\varphi_a') + C(\\theta_a',\\varphi_a) - C(\\theta_a',\\varphi_a')|\\end{equation}\n",
    "Now we have an upper bound on $B_{max}$ which is the maximum value this measure takes over these four variables and this is what the paper from this point refers to as the Bell's measure. This bound is called the Tsirelon's bound and is $B_{max}\\leq 2\\sqrt{2}$ and in the classical case (where all observables commute) it is actually bounded above by 2.\n",
    "\n",
    "We will now prove that any coherent beam has $D_\\text{pol} = D_\\text{par}$. Any coherent beam here would be isomorphic to a pure two qubit state. For pure states, if the state is $|\\psi\\rangle$, then the density matrix is $\\rho = |\\psi\\rangle\\langle\\psi|$. We can represent this in a Schmidt form where $|\\psi\\rangle = \\sum_ig_i|u_i\\rangle\\otimes|v_i\\rangle$ which can be done for any arbitrary pure state so for the 4 dimensional Jones vector here we only have two variables and so without loss of generality we can choose to write our jones vector as $\\mathbf{J} = [\\mu_1\\text{ 0 0 }\\mu_2]^T$ and for this state we would have that\n",
    "\\begin{equation}\\label{eq:3.4}\\tag{3.4}\\mathbf{G}_\\text{pol} = \\mathbf{G}_\\text{par} = \\begin{pmatrix}\\mu_1^2 & 0\\\\0 & \\mu_2^2\\end{pmatrix}\\end{equation}\n",
    "This leads to $D_\\text{pol} = D_\\text{par} = |\\mu_1^2-\\mu_2^2|$ which is essentially the difference the eigenvalues of the respective matrix. Note that the above equation would be true in the basis where we can write the Schmidt decomposition of the Jones vector but since this is a coherent state this basis can be reached by applying unitaries that do not do any coupling. Also for coherent beams the paper claims that we would have $4D_\\text{par}^2+B_{max}^2 = 4D_\\text{pol}^2+B_{max}^2 = 8$ which becomes $4D_\\text{pol}^2+B_{max}^2\\leq 8$ and $4D_\\text{par}^2+B_{max}^2\\leq 8$ for partially coherent beams hence they define a new degree of coherence reffered to as the partial degree of coherence\n",
    "\\begin{equation}S_\\text{pol} = \\dfrac{D_\\text{pol}^2}{2} + \\left(\\dfrac{B_{max}}{2\\sqrt{2}}\\right)^2\\text{, }S_\\text{par} = \\dfrac{D_\\text{par}^2}{2} + \\left(\\dfrac{B_{max}}{2\\sqrt{2}}\\right)^2\\end{equation}\n",
    "One important thing to note is that the accessible degrees of coherence written above are invariant under unitary coupling between the two DoFs when both the DoFs are coherent and trivially also invariant under non coupling unitary transforms. We can see this as a sort of sharing of coherence between apparent coherence of an individual DoF ($D_\\text{pol}$ and $D_\\text{par}$) and the coupling between them ($B_{max}$). For a fully coherent beam we will always have $S = S_\\text{pol} = S_\\text{par} = 1$ regardless of coupling between the DoFs. This also demostrates how we can make coherence essentially migrate from form of coupling to apparent coherence of individual DoFs by simply using unitary transforms.\n"
   ]
  },
  {
   "cell_type": "markdown",
   "metadata": {},
   "source": [
    "## 4. Theoretical analysis of the three experiments\n",
    "The paper [[1](#ref-1)] describes three experiments A, B and C. Here we will derive the theoretical expressions they use for fitting their data using the SymPy package."
   ]
  },
  {
   "cell_type": "code",
   "execution_count": 12,
   "metadata": {},
   "outputs": [],
   "source": [
    "def trace_G(G): #A trace function for just 4x4 G matrices\n",
    "    return simplify(G[0,0] + G[1,1] + G[2,2] + G[3,3])\n",
    "def corr_prob(G): #Returns the value I_He - I_Ho - I_Ve +I_Vo from given G matrix\n",
    "    return simplify(G[0,0] - G[1,1] - G[2,2] + G[3,3])\n",
    "\n",
    "def par_tr_G_pol(G): #returns the partial trace of G for giving G_pol\n",
    "    return simplify(Matrix([[G[0,0]+G[1,1],G[0,2]+G[1,3]],[G[2,0]+G[3,1],G[2,2]+G[3,3]]]))\n",
    "\n",
    "def par_tr_G_par(G): #returns the partial trace of G for giving G_par\n",
    "    return Matrix([[G[0,0]+G[2,2],G[0,1]+G[2,3]],[G[1,0]+G[3,2],G[1,1]+G[3,3]]])\n",
    "\n",
    "def app_coh(G): #Returns apparent degree of coherence for a 2x2 G matrix\n",
    "    return simplify(sqrt(1-4*simplify(Determinant(G))/(simplify(Trace(G))**2)))"
   ]
  },
  {
   "cell_type": "markdown",
   "metadata": {},
   "source": [
    "#### Methods for Calculating Values of $D_{pol}$, $D_{par}$, $B_{max}$, $S_{pol}$ and $S_{par}$"
   ]
  },
  {
   "cell_type": "code",
   "execution_count": 13,
   "metadata": {},
   "outputs": [],
   "source": [
    "def bmaxfinder(C_ta_pa,x):\n",
    "    tb,pb = symbols('theta_b varphi_b',real=True)\n",
    "    B = C_ta_pa + C_ta_pa.xreplace({ta:tb}) + C_ta_pa.xreplace({pa:pb}) - C_ta_pa.xreplace({ta:tb,pa:pb})\n",
    "    b = lambdify((ta,pa,tb,pb,p),B, \"numpy\")\n",
    "    bmax=[-1*(sc.optimize.minimize(lambda params: -1*abs(b(params[0],params[1],params[2],params[3],i)), [0,0,0,0], method = 'L-BFGS-B').fun) for i in x]\n",
    "    bmax=np.around(bmax,decimals=5)\n",
    "    return bmax"
   ]
  },
  {
   "cell_type": "code",
   "execution_count": 14,
   "metadata": {},
   "outputs": [],
   "source": [
    "def bmaxfinderC(C_ta_pa,x):\n",
    "    tb,pb = symbols('theta_b varphi_b',real=True)\n",
    "    B = abs(C_ta_pa + C_ta_pa.xreplace({ta:tb}) + C_ta_pa.xreplace({pa:pb}) - C_ta_pa.xreplace({ta:tb,pa:pb}))\n",
    "    b = lambdify((ta,pa,tb,pb,P),B, \"numpy\")\n",
    "    bmax=[-1*(sc.optimize.minimize(lambda params: -1*abs(b(params[0],params[1],params[2],params[3],i)), [0,0,0,0], method = 'L-BFGS-B').fun) for i in x]\n",
    "    bmax=np.around(bmax,decimals=5)\n",
    "    return bmax"
   ]
  },
  {
   "cell_type": "code",
   "execution_count": 15,
   "metadata": {},
   "outputs": [],
   "source": [
    "def dfinder(D,x):\n",
    "    d=lambdify(p,D,\"numpy\")\n",
    "    d_final=[d(i) for i in x]\n",
    "    return d_final"
   ]
  },
  {
   "cell_type": "code",
   "execution_count": 16,
   "metadata": {},
   "outputs": [],
   "source": [
    "def dfinderC(D,x):\n",
    "    d=lambdify(P,D,\"numpy\")\n",
    "    d_final=[d(i) for i in x]\n",
    "    return d_final"
   ]
  },
  {
   "cell_type": "code",
   "execution_count": 17,
   "metadata": {},
   "outputs": [],
   "source": [
    "def sfinder(d,bmax):   \n",
    "    return np.around(np.square(d)/2+np.square(bmax)/8,decimals=5)"
   ]
  },
  {
   "cell_type": "markdown",
   "metadata": {},
   "source": [
    "### 4.1 Experiment A: Coherent Beam with Coupled DOF\n",
    "Here the field is competely coherent and we start with the Jones vector in state $\\mathbf{J} = (1/\\sqrt{2})[\\cos(\\varphi/2)\\text{ }\\iota\\sin(\\varphi/2)\\text{ 1 0}]^T$ which is reached by applying the PS-SLM on the input state of $\\mathbf{J}_{in} = (1/\\sqrt{2})[\\text{1 0 1 0}]^T$. On this we then apply the rotation of basis by $\\theta_a$ for polarization and of $\\varphi_a$ for parity and then conduct measurements of each component. Based on our previous definitions we now derive the correlation function for this experiment."
   ]
  },
  {
   "cell_type": "code",
   "execution_count": 18,
   "metadata": {
    "scrolled": true
   },
   "outputs": [
    {
     "data": {
      "text/latex": [
       "$\\displaystyle \\left[\\begin{matrix}0.5 \\cos^{2}{\\left(\\frac{\\varphi}{2} \\right)} & 0.25 i \\sin{\\left(\\varphi \\right)} & 0.5 \\cos{\\left(\\frac{\\varphi}{2} \\right)} & 0\\\\- 0.25 i \\sin{\\left(\\varphi \\right)} & 0.5 \\sin^{2}{\\left(\\frac{\\varphi}{2} \\right)} & - 0.5 i \\sin{\\left(\\frac{\\varphi}{2} \\right)} & 0\\\\0.5 \\cos{\\left(\\frac{\\varphi}{2} \\right)} & 0.5 i \\sin{\\left(\\frac{\\varphi}{2} \\right)} & 0.5 & 0\\\\0 & 0 & 0 & 0\\end{matrix}\\right]$"
      ],
      "text/plain": [
       "Matrix([\n",
       "[0.5*cos(varphi/2)**2,   0.25*I*sin(varphi),    0.5*cos(varphi/2), 0],\n",
       "[ -0.25*I*sin(varphi), 0.5*sin(varphi/2)**2, -0.5*I*sin(varphi/2), 0],\n",
       "[   0.5*cos(varphi/2),  0.5*I*sin(varphi/2),                  0.5, 0],\n",
       "[                   0,                    0,                    0, 0]])"
      ]
     },
     "execution_count": 18,
     "metadata": {},
     "output_type": "execute_result"
    }
   ],
   "source": [
    "J = sqrt(1/2)*Matrix([cos(p/2),I*sin(p/2),1,0])\n",
    "G_A = trigsimp(conjugate(J)*J.T)\n",
    "G_A #The input beam G matrix before the transformations"
   ]
  },
  {
   "cell_type": "markdown",
   "metadata": {},
   "source": [
    "#### Calculation of $D_{pol}$ and $D_{par}$"
   ]
  },
  {
   "cell_type": "code",
   "execution_count": 19,
   "metadata": {},
   "outputs": [
    {
     "data": {
      "text/latex": [
       "$\\displaystyle \\left[\\begin{matrix}0.5 & 0.5 \\cos{\\left(\\frac{\\varphi}{2} \\right)}\\\\0.5 \\cos{\\left(\\frac{\\varphi}{2} \\right)} & 0.5\\end{matrix}\\right]$"
      ],
      "text/plain": [
       "Matrix([\n",
       "[              0.5, 0.5*cos(varphi/2)],\n",
       "[0.5*cos(varphi/2),               0.5]])"
      ]
     },
     "execution_count": 19,
     "metadata": {},
     "output_type": "execute_result"
    }
   ],
   "source": [
    "G_pol_A = par_tr_G_pol(G_A)\n",
    "G_pol_A"
   ]
  },
  {
   "cell_type": "code",
   "execution_count": 20,
   "metadata": {
    "scrolled": true
   },
   "outputs": [
    {
     "data": {
      "text/latex": [
       "$\\displaystyle \\left[\\begin{matrix}0.5 \\cos^{2}{\\left(\\frac{\\varphi}{2} \\right)} + 0.5 & 0.25 i \\sin{\\left(\\varphi \\right)}\\\\- 0.25 i \\sin{\\left(\\varphi \\right)} & 0.5 \\sin^{2}{\\left(\\frac{\\varphi}{2} \\right)}\\end{matrix}\\right]$"
      ],
      "text/plain": [
       "Matrix([\n",
       "[0.5*cos(varphi/2)**2 + 0.5,   0.25*I*sin(varphi)],\n",
       "[       -0.25*I*sin(varphi), 0.5*sin(varphi/2)**2]])"
      ]
     },
     "execution_count": 20,
     "metadata": {},
     "output_type": "execute_result"
    }
   ],
   "source": [
    "G_par_A = par_tr_G_par(G_A)\n",
    "G_par_A"
   ]
  },
  {
   "cell_type": "code",
   "execution_count": 21,
   "metadata": {
    "scrolled": true
   },
   "outputs": [
    {
     "data": {
      "text/latex": [
       "$\\displaystyle 1.0 \\left|{\\cos{\\left(\\frac{\\varphi}{2} \\right)}}\\right|$"
      ],
      "text/plain": [
       "1.0*Abs(cos(varphi/2))"
      ]
     },
     "execution_count": 21,
     "metadata": {},
     "output_type": "execute_result"
    }
   ],
   "source": [
    "D_pol_A=app_coh(G_pol_A)\n",
    "D_pol_A# Prints D_pol"
   ]
  },
  {
   "cell_type": "code",
   "execution_count": 22,
   "metadata": {
    "scrolled": true
   },
   "outputs": [
    {
     "data": {
      "text/latex": [
       "$\\displaystyle 0.707106781186548 \\sqrt{\\cos{\\left(\\varphi \\right)} + 1}$"
      ],
      "text/plain": [
       "0.707106781186548*sqrt(cos(varphi) + 1)"
      ]
     },
     "execution_count": 22,
     "metadata": {},
     "output_type": "execute_result"
    }
   ],
   "source": [
    "D_par_A=app_coh(G_par_A)\n",
    "D_par_A# Prints D_par"
   ]
  },
  {
   "cell_type": "markdown",
   "metadata": {},
   "source": [
    "#### Calculation of the Correlation Function and $B_{max}$"
   ]
  },
  {
   "cell_type": "code",
   "execution_count": 23,
   "metadata": {},
   "outputs": [
    {
     "data": {
      "text/latex": [
       "$\\displaystyle 1.0 \\sin{\\left(\\theta_{a} \\right)} \\cos{\\left(\\frac{\\varphi}{2} + \\varphi_{a} \\right)} - 0.5 \\cos{\\left(\\theta_{a} \\right)} \\cos{\\left(\\varphi_{a} \\right)} + 0.5 \\cos{\\left(\\theta_{a} \\right)} \\cos{\\left(\\varphi + \\varphi_{a} \\right)}$"
      ],
      "text/plain": [
       "1.0*sin(theta_a)*cos(varphi/2 + varphi_a) - 0.5*cos(theta_a)*cos(varphi_a) + 0.5*cos(theta_a)*cos(varphi + varphi_a)"
      ]
     },
     "execution_count": 23,
     "metadata": {},
     "output_type": "execute_result"
    }
   ],
   "source": [
    "G_out_A = conjugate(A_SLM)*conjugate(A_HWP)*G_A*A_HWP.T*A_SLM.T #Transformed matrix\n",
    "C_ta_pa_A = trigsimp(corr_prob(G_out_A)/trace_G(G_out_A))\n",
    "C_ta_pa_A"
   ]
  },
  {
   "cell_type": "markdown",
   "metadata": {},
   "source": [
    "As we can see from above this does not actually match the expression provided in [[1](#ref-1)]. While this initially baffled us we came to a conclusion that this expression is infact correct as per the aim of the paper. Moreover this actually reproduces the experimental results they obtained while in contrast their correlation function fails to do it as well. Also the optimized Bmax values fit with the relation which the paper claims if our correlation function is used instead of theirs.\n",
    "The optimization procedure that we chose to go ahead with is just normal numerical optimization since otherwise we would have had to make the gradient zero and run through all possible cases where the gradient vanishes which would have been a lengthy procedure."
   ]
  },
  {
   "cell_type": "markdown",
   "metadata": {},
   "source": [
    "#### GRAPHS FOR EXPERIMENT A"
   ]
  },
  {
   "cell_type": "code",
   "execution_count": 24,
   "metadata": {},
   "outputs": [
    {
     "data": {
      "application/vnd.jupyter.widget-view+json": {
       "model_id": "0e0d894e55d44af4964be47a24f49910",
       "version_major": 2,
       "version_minor": 0
      },
      "text/plain": [
       "interactive(children=(Dropdown(description='option', options=('Show All', 'D', 'B', 'S', 'Hide All'), value='S…"
      ]
     },
     "metadata": {},
     "output_type": "display_data"
    }
   ],
   "source": [
    "def expAPlots(option):\n",
    "    num_space=102\n",
    "    phi=np.linspace(0, 2*np.pi, num_space)\n",
    "    bmax=bmaxfinder(C_ta_pa_A,phi)\n",
    "    dpol=dfinder(D_pol_A,phi)\n",
    "    dpar=dfinder(D_par_A,phi)\n",
    "    spol=sfinder(dpol,bmax)\n",
    "    spar=sfinder(dpar,bmax)\n",
    "    d=dpol\n",
    "    s=spol\n",
    "    \n",
    "    if option!='Hide All':        \n",
    "    \n",
    "        if option=='B':            \n",
    "            fig, ax = plt.subplots(figsize=(7, 7))\n",
    "            plotter(phi,bmax,r'$B_{max}$',r'$\\phi$',r'$B_{max}$',(1,0,0),r'$B_{max}$')\n",
    "            plt.plot(phi,[8**(0.5)]*num_space,color='black', linestyle ='dashed')\n",
    "            plt.plot(phi,[2]*num_space,color='black', linestyle ='dashed')\n",
    "            plt.figtext(s=r'$2\\sqrt{2}$', x=0.15, y=0.77, fontsize=15)\n",
    "            plt.figtext(s=r'$2$', x=0.15, y=0.48, fontsize=15)\n",
    "            plt.ylim(1,3)\n",
    "            plt.show()\n",
    "            \n",
    "        elif option=='S':\n",
    "            fig, ax = plt.subplots(figsize=(7, 7))\n",
    "            plotter(phi,spol,r'$S_{pol}=S_{par}=1$',r'$\\phi$',r'$S_{pol}\\ \\slash\\ S_{par}$',(1,0,0),r'$s_{pol}$')\n",
    "            plotter(phi,spar,r'$S_{pol}=S_{par}=1$',r'$\\phi$',r'$S_{pol}\\ \\slash\\ S_{par}$',(0,0,1),r'$s_{par}$')\n",
    "            plt.ylim(0,1.1) \n",
    "            plt.legend()\n",
    "            plt.show()\n",
    "            \n",
    "        elif option=='D':         \n",
    "            fig, ax = plt.subplots(figsize=(7, 7))\n",
    "            plotter(phi,dpol,r'$D_{pol}\\ and\\ D_{par}$',r'$\\phi$',r'$D_{pol}\\ \\slash\\ D_{par}$',(1,0,0),r'$d_{pol}$')\n",
    "            plotter(phi,dpar,r'$D_{pol}\\ and\\ D_{par}$',r'$\\phi$',r'$D_{pol}\\ \\slash\\ D_{par}$',(0,0,1),r'$d_{par}$')\n",
    "            plt.ylim(0,1.1)\n",
    "            plt.legend()\n",
    "            plt.show()\n",
    "            \n",
    "        else:\n",
    "            fig, ax = plt.subplots(figsize=(7, 7))\n",
    "            plotter(phi,dpol,r'$D_{pol}\\ and\\ D_{par}$',r'$\\phi$',r'$D_{pol}\\ \\slash\\ D_{par}$',(1,0,0),r'$d_{pol}$')\n",
    "            plotter(phi,dpar,r'$D_{pol}\\ and\\ D_{par}$',r'$\\phi$',r'$D_{pol}\\ \\slash\\ D_{par}$',(0,0,1),r'$d_{par}$')\n",
    "            plt.ylim(0,1.1)\n",
    "            plt.legend()\n",
    "            plt.show()\n",
    "            fig, ax = plt.subplots(figsize=(7, 7))\n",
    "            plotter(phi,bmax,r'$B_{max}$',r'$\\phi$',r'$B_{max}$',(1,0,0),r'$B_{max}$')\n",
    "            plt.plot(phi,[8**(0.5)]*num_space,color='black', linestyle ='dashed')\n",
    "            plt.plot(phi,[2]*num_space,color='black', linestyle ='dashed')\n",
    "            plt.figtext(s=r'$2\\sqrt{2}$', x=0.15, y=0.77, fontsize=15)\n",
    "            plt.figtext(s=r'$2$', x=0.15, y=0.48, fontsize=15)\n",
    "            plt.ylim(1,3)\n",
    "            plt.show()\n",
    "            fig, ax = plt.subplots(figsize=(7, 7))\n",
    "            plotter(phi,spol,r'$S_{pol} and S_{par}$',r'$\\phi$',r'$S_{pol}\\ \\slash\\ S_{par}$',(1,0,0),r'$s_{pol}$')\n",
    "            plotter(phi,spar,r'$S_{pol} and S_{par}$',r'$\\phi$',r'$S_{pol}\\ \\slash\\ S_{par}$',(0,0,1),r'$s_{par}$')\n",
    "            plt.ylim(0,1.1) \n",
    "            plt.legend()\n",
    "            plt.show()\n",
    "            \n",
    "            \n",
    "        plt.show()\n",
    "    \n",
    "    else:       \n",
    "        fig, ax = plt.subplots(figsize=(0.01, 0.01))\n",
    "        plt.show()\n",
    "        clear_output()\n",
    "    return\n",
    "\n",
    "interact(expAPlots, option=['Show All', 'D', 'B', 'S', 'Hide All']);"
   ]
  },
  {
   "cell_type": "code",
   "execution_count": 25,
   "metadata": {
    "scrolled": false
   },
   "outputs": [
    {
     "data": {
      "application/vnd.jupyter.widget-view+json": {
       "model_id": "f9cb03f26acb433eb52bc979c5acddc7",
       "version_major": 2,
       "version_minor": 0
      },
      "text/plain": [
       "interactive(children=(FloatSlider(value=1.0471975511965976, continuous_update=False, description='phi', layout…"
      ]
     },
     "metadata": {},
     "output_type": "display_data"
    }
   ],
   "source": [
    "def expAContours(phi):\n",
    "    function=C_ta_pa_A\n",
    "    contourplotter(function,phi,r'$C(\\theta_a,\\phi_a)$',r'$\\theta_a$',r'$\\phi_a$')\n",
    "    return\n",
    "interact(expAContours, phi=widgets.FloatSlider(min=0, max=2*np.pi, step=0.02, value=np.pi/3, continuous_update=False, layout=Layout(width='600px')));"
   ]
  },
  {
   "cell_type": "markdown",
   "metadata": {},
   "source": [
    "As it can be seen in the above graphs, our degree of coherence $S$ and also $S_\\text{pol}$ and $S_\\text{par}$ stay at the value of 1 throughout and are invariant to any unitary transformation done on the system. As we vary the angle $\\phi$ we can see that the coupling is maximized at $\\phi=\\pi$ at which moment the apparent degrees of coherence go to zero since all of our original coherency is present in the form of coupling."
   ]
  },
  {
   "cell_type": "markdown",
   "metadata": {},
   "source": [
    "### 4.2 Experiment B:  Partially Coherent Beam with Coupled DOFs\n",
    "Here starting with the same $\\mathbf{J}_{in}$ the polarization is scrambled using a variable polarization rotator which does not affect the spatial DoF so we have $D_\\text{pol} = 0$ and $D_\\text{par} = 1$. Now this beam is sent through a PS-SLM which would couple the DoFs. We now go on to derive the correlation function for this"
   ]
  },
  {
   "cell_type": "code",
   "execution_count": 26,
   "metadata": {
    "scrolled": false
   },
   "outputs": [
    {
     "data": {
      "text/latex": [
       "$\\displaystyle \\left[\\begin{matrix}0.5 \\cos^{2}{\\left(\\frac{\\varphi}{2} \\right)} & 0.5 i \\sin{\\left(\\frac{\\varphi}{2} \\right)} \\cos{\\left(\\frac{\\varphi}{2} \\right)} & 0 & 0\\\\- 0.5 i \\sin{\\left(\\frac{\\varphi}{2} \\right)} \\cos{\\left(\\frac{\\varphi}{2} \\right)} & 0.5 \\sin^{2}{\\left(\\frac{\\varphi}{2} \\right)} & 0 & 0\\\\0 & 0 & 0.5 & 0\\\\0 & 0 & 0 & 0\\end{matrix}\\right]$"
      ],
      "text/plain": [
       "Matrix([\n",
       "[              0.5*cos(varphi/2)**2, 0.5*I*sin(varphi/2)*cos(varphi/2),   0, 0],\n",
       "[-0.5*I*sin(varphi/2)*cos(varphi/2),              0.5*sin(varphi/2)**2,   0, 0],\n",
       "[                                 0,                                 0, 0.5, 0],\n",
       "[                                 0,                                 0,   0, 0]])"
      ]
     },
     "execution_count": 26,
     "metadata": {},
     "output_type": "execute_result"
    }
   ],
   "source": [
    "G_B = (1/2)*Matrix([[cos(p/2)**2, I*cos(p/2)*sin(p/2), 0, 0],[-I*cos(p/2)*sin(p/2), sin(p/2)**2, 0,0],\n",
    "            [0,0,1,0],[0,0,0,0]])\n",
    "G_B #The input beam G matrix before the transformations"
   ]
  },
  {
   "cell_type": "markdown",
   "metadata": {},
   "source": [
    "#### Calculation of $D_{pol}$ and $D_{par}$"
   ]
  },
  {
   "cell_type": "code",
   "execution_count": 27,
   "metadata": {},
   "outputs": [
    {
     "data": {
      "text/latex": [
       "$\\displaystyle \\left[\\begin{matrix}0.5 & 0\\\\0 & 0.5\\end{matrix}\\right]$"
      ],
      "text/plain": [
       "Matrix([\n",
       "[0.5,   0],\n",
       "[  0, 0.5]])"
      ]
     },
     "execution_count": 27,
     "metadata": {},
     "output_type": "execute_result"
    }
   ],
   "source": [
    "G_pol_B = par_tr_G_pol(G_B)\n",
    "G_pol_B"
   ]
  },
  {
   "cell_type": "code",
   "execution_count": 28,
   "metadata": {
    "scrolled": true
   },
   "outputs": [
    {
     "data": {
      "text/latex": [
       "$\\displaystyle \\left[\\begin{matrix}0.5 \\cos^{2}{\\left(\\frac{\\varphi}{2} \\right)} + 0.5 & 0.5 i \\sin{\\left(\\frac{\\varphi}{2} \\right)} \\cos{\\left(\\frac{\\varphi}{2} \\right)}\\\\- 0.5 i \\sin{\\left(\\frac{\\varphi}{2} \\right)} \\cos{\\left(\\frac{\\varphi}{2} \\right)} & 0.5 \\sin^{2}{\\left(\\frac{\\varphi}{2} \\right)}\\end{matrix}\\right]$"
      ],
      "text/plain": [
       "Matrix([\n",
       "[        0.5*cos(varphi/2)**2 + 0.5, 0.5*I*sin(varphi/2)*cos(varphi/2)],\n",
       "[-0.5*I*sin(varphi/2)*cos(varphi/2),              0.5*sin(varphi/2)**2]])"
      ]
     },
     "execution_count": 28,
     "metadata": {},
     "output_type": "execute_result"
    }
   ],
   "source": [
    "G_par_B = par_tr_G_par(G_B)\n",
    "G_par_B"
   ]
  },
  {
   "cell_type": "code",
   "execution_count": 29,
   "metadata": {
    "scrolled": true
   },
   "outputs": [
    {
     "data": {
      "text/latex": [
       "$\\displaystyle 0$"
      ],
      "text/plain": [
       "0"
      ]
     },
     "execution_count": 29,
     "metadata": {},
     "output_type": "execute_result"
    }
   ],
   "source": [
    "D_pol_B=app_coh(G_pol_B)\n",
    "D_pol_B# Prints D_pol"
   ]
  },
  {
   "cell_type": "code",
   "execution_count": 30,
   "metadata": {
    "scrolled": true
   },
   "outputs": [
    {
     "data": {
      "text/latex": [
       "$\\displaystyle 0.707106781186548 \\sqrt{\\cos{\\left(\\varphi \\right)} + 1}$"
      ],
      "text/plain": [
       "0.707106781186548*sqrt(cos(varphi) + 1)"
      ]
     },
     "execution_count": 30,
     "metadata": {},
     "output_type": "execute_result"
    }
   ],
   "source": [
    "D_par_B=app_coh(G_par_B)\n",
    "D_par_B"
   ]
  },
  {
   "cell_type": "markdown",
   "metadata": {},
   "source": [
    "#### Calculation of the Correlation Function and $B_{max}$"
   ]
  },
  {
   "cell_type": "code",
   "execution_count": 31,
   "metadata": {},
   "outputs": [
    {
     "data": {
      "text/latex": [
       "$\\displaystyle 0.5 \\left(- \\cos{\\left(\\varphi_{a} \\right)} + \\cos{\\left(\\varphi + \\varphi_{a} \\right)}\\right) \\cos{\\left(\\theta_{a} \\right)}$"
      ],
      "text/plain": [
       "0.5*(-cos(varphi_a) + cos(varphi + varphi_a))*cos(theta_a)"
      ]
     },
     "execution_count": 31,
     "metadata": {},
     "output_type": "execute_result"
    }
   ],
   "source": [
    "G_out_B = conjugate(A_SLM)*conjugate(A_HWP)*G_B*A_HWP.T*A_SLM.T #Transformed matrix\n",
    "C_ta_pa_B = trigsimp(corr_prob(G_out_B)/trace_G(G_out_B))\n",
    "C_ta_pa_B"
   ]
  },
  {
   "cell_type": "markdown",
   "metadata": {},
   "source": [
    "We have now seen that our expression for the correlation function matches the exact one obtained in the reference [[1](#ref-1)]. We now go ahead to optimize our expression for B and obtain the other plots below. On a sidenote one can actually traditionally find the maxima for the $B$ expression here since it is simpler to look at. The condition where it is maximized is when $\\phi_a=\\phi_b=\\frac{\\pi-\\phi}{2}$ and $\\theta_a = \\theta_b = 0$ or $\\pi$ which can be verified by looking at the gradient."
   ]
  },
  {
   "cell_type": "markdown",
   "metadata": {},
   "source": [
    "#### GRAPHS FOR EXPERIMENT B"
   ]
  },
  {
   "cell_type": "code",
   "execution_count": 32,
   "metadata": {
    "scrolled": false
   },
   "outputs": [
    {
     "data": {
      "application/vnd.jupyter.widget-view+json": {
       "model_id": "516a77757343452c8bb146bfc8e17ee9",
       "version_major": 2,
       "version_minor": 0
      },
      "text/plain": [
       "interactive(children=(Dropdown(description='option', options=('Show All', 'D', 'B', 'S', 'Hide All'), value='S…"
      ]
     },
     "metadata": {},
     "output_type": "display_data"
    }
   ],
   "source": [
    "def expBPlots(option):\n",
    "    num_space=102\n",
    "    phi=np.linspace(0, 2*np.pi, num_space)\n",
    "    bmax=bmaxfinder(C_ta_pa_B,phi)\n",
    "    dpol=dfinder(D_pol_B,phi)\n",
    "    dpar=dfinder(D_par_B,phi)\n",
    "    spol=sfinder(dpol,bmax)\n",
    "    spar=sfinder(dpar,bmax)\n",
    "    \n",
    "    if option!='Hide All':        \n",
    "    \n",
    "        if option=='B':            \n",
    "            fig, ax = plt.subplots(figsize=(7, 7))\n",
    "            plotter(phi,bmax,r'$B_{max}$',r'$\\phi$',r'$B_{max}$',(1,0,0),r'$B_{max}$')\n",
    "            plt.plot(phi,[2]*num_space,color='black', linestyle ='dashed')\n",
    "            plt.ylim(0,2.5)\n",
    "            plt.show()\n",
    "            \n",
    "        elif option=='S':\n",
    "            fig, ax = plt.subplots(figsize=(7, 7))\n",
    "            plotter(phi,spol,r'$S_{pol}=S_{par}=1$',r'$\\phi$',r'$S_{pol}\\ \\slash\\ S_{par}$',(1,0,0),r'$s_{pol}$')\n",
    "            plotter(phi,spar,r'$S_{pol}=S_{par}=1$',r'$\\phi$',r'$S_{pol}\\ \\slash\\ S_{par}$',(0,0,1),r'$s_{par}$')\n",
    "            plt.ylim(0,1.1) \n",
    "            plt.legend()\n",
    "            plt.show()\n",
    "            \n",
    "        elif option=='D':         \n",
    "            fig, ax = plt.subplots(figsize=(7, 7))\n",
    "            plotter(phi,dpol,r'$D_{pol}\\ and\\ D_{par}$',r'$\\phi$',r'$D_{pol}\\ \\slash\\ D_{par}$',(1,0,0),r'$d_{pol}$')\n",
    "            plotter(phi,dpar,r'$D_{pol}\\ and\\ D_{par}$',r'$\\phi$',r'$D_{pol}\\ \\slash\\ D_{par}$',(0,0,1),r'$d_{par}$')\n",
    "            plt.ylim(-0.1,1.1)\n",
    "            plt.legend()\n",
    "            plt.show()\n",
    "            \n",
    "        else:\n",
    "            fig, ax = plt.subplots(figsize=(7, 7))\n",
    "            plotter(phi,dpol,r'$D_{pol}\\ and\\ D_{par}$',r'$\\phi$',r'$D_{pol}\\ \\slash\\ D_{par}$',(1,0,0),r'$d_{pol}$')\n",
    "            plotter(phi,dpar,r'$D_{pol}\\ and\\ D_{par}$',r'$\\phi$',r'$D_{pol}\\ \\slash\\ D_{par}$',(0,0,1),r'$d_{par}$')\n",
    "            plt.ylim(-0.1,1.1)\n",
    "            plt.legend()\n",
    "            plt.show()\n",
    "            fig, ax = plt.subplots(figsize=(7, 7))\n",
    "            plotter(phi,bmax,r'$B_{max}$',r'$\\phi$',r'$B_{max}$',(1,0,0),r'$B_{max}$')\n",
    "            plt.plot(phi,[2]*num_space,color='black', linestyle ='dashed')\n",
    "            plt.ylim(0,2.5)\n",
    "            plt.show()\n",
    "            fig, ax = plt.subplots(figsize=(7, 7))\n",
    "            plotter(phi,spol,r'$S_{pol} and S_{par}$',r'$\\phi$',r'$S_{pol}\\ \\slash\\ S_{par}$',(1,0,0),r'$s_{pol}$')\n",
    "            plotter(phi,spar,r'$S_{pol} and S_{par}$',r'$\\phi$',r'$S_{pol}\\ \\slash\\ S_{par}$',(0,0,1),r'$s_{par}$')\n",
    "            plt.ylim(0,1.1) \n",
    "            plt.legend()\n",
    "            plt.show()\n",
    "            \n",
    "            \n",
    "        plt.show()\n",
    "    \n",
    "    else:       \n",
    "        fig, ax = plt.subplots(figsize=(0.01, 0.01))\n",
    "        plt.show()\n",
    "        clear_output()\n",
    "    return\n",
    "\n",
    "interact(expBPlots, option=['Show All', 'D', 'B', 'S', 'Hide All']);"
   ]
  },
  {
   "cell_type": "code",
   "execution_count": 33,
   "metadata": {
    "scrolled": false
   },
   "outputs": [
    {
     "data": {
      "application/vnd.jupyter.widget-view+json": {
       "model_id": "1aea92c613d54b2097caa61b2fa42442",
       "version_major": 2,
       "version_minor": 0
      },
      "text/plain": [
       "interactive(children=(FloatSlider(value=1.0471975511965976, continuous_update=False, description='phi', layout…"
      ]
     },
     "metadata": {},
     "output_type": "display_data"
    }
   ],
   "source": [
    "def expBContours(phi):\n",
    "    function=C_ta_pa_B\n",
    "    contourplotter(function,phi,r'$C(\\theta_a,\\phi_a)$',r'$\\theta_a$',r'$\\phi_a$')\n",
    "    return\n",
    "interact(expBContours, phi=widgets.FloatSlider(min=0, max=2*np.pi, step=0.02, value=np.pi/3, continuous_update=False, layout=Layout(width='600px')));"
   ]
  },
  {
   "cell_type": "markdown",
   "metadata": {},
   "source": [
    "### 4.3 Experiment C: Beams with Random Coupling\n",
    "In this experiment we again start with the same $\\mathbf{J}_{in}$ and an interaction is considered that makes it have a random coupling. It has a probability $P$ to couple polarization and parity and $1-P$ to not achieved by randomly toggling between two phase distributions of the PS-SLM, one with $\\frac{\\pi}{2}\\times\\text{sgn}(x)$ phase and another with zero phase where $P$ is the fraction of time that the PS-SLM displays the first phase pattern. From this we go on to derive it's correlation function."
   ]
  },
  {
   "cell_type": "code",
   "execution_count": 34,
   "metadata": {},
   "outputs": [
    {
     "data": {
      "text/latex": [
       "$\\displaystyle \\left[\\begin{matrix}\\frac{1}{2} - \\frac{P}{2} & 0 & \\frac{1}{2} - \\frac{P}{2} & 0\\\\0 & \\frac{P}{2} & - \\frac{i P}{2} & 0\\\\\\frac{1}{2} - \\frac{P}{2} & \\frac{i P}{2} & \\frac{1}{2} & 0\\\\0 & 0 & 0 & 0\\end{matrix}\\right]$"
      ],
      "text/plain": [
       "Matrix([\n",
       "[1/2 - P/2,     0, 1/2 - P/2, 0],\n",
       "[        0,   P/2,    -I*P/2, 0],\n",
       "[1/2 - P/2, I*P/2,       1/2, 0],\n",
       "[        0,     0,         0, 0]])"
      ]
     },
     "execution_count": 34,
     "metadata": {},
     "output_type": "execute_result"
    }
   ],
   "source": [
    "J_ent = (1/sqrt(2))*Matrix([0, I, 1, 0])#Entagled state\n",
    "J_in = (1/sqrt(2))*Matrix([1, 0, 1, 0])#Input state\n",
    "G_C = P*conjugate(J_ent)*J_ent.T + (1-P)*conjugate(J_in)*J_in.T\n",
    "G_C"
   ]
  },
  {
   "cell_type": "markdown",
   "metadata": {},
   "source": [
    "#### Calculation of $D_{pol}$ and $D_{par}$"
   ]
  },
  {
   "cell_type": "code",
   "execution_count": 35,
   "metadata": {},
   "outputs": [
    {
     "data": {
      "text/latex": [
       "$\\displaystyle \\left[\\begin{matrix}\\frac{1}{2} & \\frac{1}{2} - \\frac{P}{2}\\\\\\frac{1}{2} - \\frac{P}{2} & \\frac{1}{2}\\end{matrix}\\right]$"
      ],
      "text/plain": [
       "Matrix([\n",
       "[      1/2, 1/2 - P/2],\n",
       "[1/2 - P/2,       1/2]])"
      ]
     },
     "execution_count": 35,
     "metadata": {},
     "output_type": "execute_result"
    }
   ],
   "source": [
    "G_pol_C = par_tr_G_pol(G_C)\n",
    "G_pol_C"
   ]
  },
  {
   "cell_type": "code",
   "execution_count": 36,
   "metadata": {
    "scrolled": true
   },
   "outputs": [
    {
     "data": {
      "text/latex": [
       "$\\displaystyle \\left[\\begin{matrix}1 - \\frac{P}{2} & 0\\\\0 & \\frac{P}{2}\\end{matrix}\\right]$"
      ],
      "text/plain": [
       "Matrix([\n",
       "[1 - P/2,   0],\n",
       "[      0, P/2]])"
      ]
     },
     "execution_count": 36,
     "metadata": {},
     "output_type": "execute_result"
    }
   ],
   "source": [
    "G_par_C = par_tr_G_par(G_C)\n",
    "G_par_C"
   ]
  },
  {
   "cell_type": "code",
   "execution_count": 37,
   "metadata": {
    "scrolled": true
   },
   "outputs": [
    {
     "data": {
      "text/latex": [
       "$\\displaystyle \\left|{P - 1}\\right|$"
      ],
      "text/plain": [
       "Abs(P - 1)"
      ]
     },
     "execution_count": 37,
     "metadata": {},
     "output_type": "execute_result"
    }
   ],
   "source": [
    "D_pol_C=app_coh(G_pol_C)\n",
    "simplify(D_pol_C)# Prints D_pol"
   ]
  },
  {
   "cell_type": "code",
   "execution_count": 38,
   "metadata": {
    "scrolled": true
   },
   "outputs": [
    {
     "data": {
      "text/latex": [
       "$\\displaystyle \\sqrt{- P \\left(2 - P\\right) + 1}$"
      ],
      "text/plain": [
       "sqrt(-P*(2 - P) + 1)"
      ]
     },
     "execution_count": 38,
     "metadata": {},
     "output_type": "execute_result"
    }
   ],
   "source": [
    "D_par_C=app_coh(G_par_C)\n",
    "D_par_C"
   ]
  },
  {
   "cell_type": "markdown",
   "metadata": {},
   "source": [
    "#### Calculation of the Correlation Function and $B_{max}$"
   ]
  },
  {
   "cell_type": "code",
   "execution_count": 39,
   "metadata": {},
   "outputs": [
    {
     "data": {
      "text/latex": [
       "$\\displaystyle - \\sqrt{2} P \\sin{\\left(\\theta_{a} \\right)} \\sin{\\left(\\varphi_{a} + \\frac{\\pi}{4} \\right)} - P \\cos{\\left(\\theta_{a} \\right)} \\cos{\\left(\\varphi_{a} \\right)} + \\sin{\\left(\\theta_{a} \\right)} \\cos{\\left(\\varphi_{a} \\right)}$"
      ],
      "text/plain": [
       "-sqrt(2)*P*sin(theta_a)*sin(varphi_a + pi/4) - P*cos(theta_a)*cos(varphi_a) + sin(theta_a)*cos(varphi_a)"
      ]
     },
     "execution_count": 39,
     "metadata": {},
     "output_type": "execute_result"
    }
   ],
   "source": [
    "G_out_C = conjugate(A_SLM)*conjugate(A_HWP)*G_C*A_HWP.T*A_SLM.T #Transformed matrix\n",
    "C_ta_pa_C = trigsimp(corr_prob(G_out_C)/trace_G(G_out_C))\n",
    "C_ta_pa_C"
   ]
  },
  {
   "cell_type": "code",
   "execution_count": 40,
   "metadata": {},
   "outputs": [
    {
     "data": {
      "text/latex": [
       "$\\displaystyle 0$"
      ],
      "text/plain": [
       "0"
      ]
     },
     "execution_count": 40,
     "metadata": {},
     "output_type": "execute_result"
    }
   ],
   "source": [
    "simplify(C_ta_pa_C - ((1-P)*sin(ta)*cos(pa) - P*cos(ta-pa)))"
   ]
  },
  {
   "cell_type": "markdown",
   "metadata": {},
   "source": [
    "As we have shown in the cell above the correlation function we have derived matches exactly with the function that the paper provides. We again use numerical methods to maximize this function since optimizing by minimization of gradient would take considerably long to do. Our results shown below match up consistently with those shown in [[1](#ref-1)]."
   ]
  },
  {
   "cell_type": "markdown",
   "metadata": {},
   "source": [
    "#### GRAPHS FOR EXPERIMENT C"
   ]
  },
  {
   "cell_type": "code",
   "execution_count": 41,
   "metadata": {
    "scrolled": false
   },
   "outputs": [
    {
     "data": {
      "application/vnd.jupyter.widget-view+json": {
       "model_id": "72a8ee20800b4d2faa9da778c230e947",
       "version_major": 2,
       "version_minor": 0
      },
      "text/plain": [
       "interactive(children=(Dropdown(description='option', options=('Show All', 'D', 'B', 'S', 'Hide All'), value='S…"
      ]
     },
     "metadata": {},
     "output_type": "display_data"
    }
   ],
   "source": [
    "def expCPlots(option):\n",
    "    num_space=102\n",
    "    P=np.linspace(0, 1, num_space)\n",
    "    bmax=bmaxfinderC(C_ta_pa_C,P)\n",
    "    dpol=dfinderC(D_pol_C,P)\n",
    "    dpar=dfinderC(D_par_C,P)\n",
    "    spol=sfinder(dpol,bmax)\n",
    "    spar=sfinder(dpar,bmax)\n",
    "    \n",
    "    if option!='Hide All':        \n",
    "    \n",
    "        if option=='B':            \n",
    "            fig, ax = plt.subplots(figsize=(7, 7))\n",
    "            plotterC(P,bmax,r'$B_{max}$',r'$P$',r'$B_{max}$',(1,0,0),r'$B_{max}$')\n",
    "            plt.plot(P,[2]*num_space,color='black', linestyle ='dashed')\n",
    "            plt.ylim(1,3)\n",
    "            plt.show()\n",
    "            \n",
    "        elif option=='S':\n",
    "            fig, ax = plt.subplots(figsize=(7, 7))\n",
    "            plotterC(P,spol,r'$S_{pol}=S_{par}=1$',r'$P$',r'$S_{pol}\\ \\slash\\ S_{par}$',(1,0,0),r'$s_{pol}$')\n",
    "            plotterC(P,spar,r'$S_{pol}=S_{par}=1$',r'$P$',r'$S_{pol}\\ \\slash\\ S_{par}$',(0,0,1),r'$s_{par}$')\n",
    "            plt.ylim(0,1.1) \n",
    "            plt.legend()\n",
    "            plt.show()\n",
    "            \n",
    "        elif option=='D':         \n",
    "            fig, ax = plt.subplots(figsize=(7, 7))\n",
    "            plotterC(P,dpol,r'$D_{pol}\\ and\\ D_{par}$',r'$P$',r'$D_{pol}\\ \\slash\\ D_{par}$',(1,0,0),r'$d_{pol}$')\n",
    "            plotterC(P,dpar,r'$D_{pol}\\ and\\ D_{par}$',r'$P$',r'$D_{pol}\\ \\slash\\ D_{par}$',(0,0,1),r'$d_{par}$')\n",
    "            plt.ylim(-0.1,1.1)\n",
    "            plt.legend()\n",
    "            plt.show()\n",
    "            \n",
    "        else:\n",
    "            fig, ax = plt.subplots(figsize=(7, 7))\n",
    "            plotterC(P,dpol,r'$D_{pol}\\ and\\ D_{par}$',r'$P$',r'$D_{pol}\\ \\slash\\ D_{par}$',(1,0,0),r'$d_{pol}$')\n",
    "            plotterC(P,dpar,r'$D_{pol}\\ and\\ D_{par}$',r'$P$',r'$D_{pol}\\ \\slash\\ D_{par}$',(0,0,1),r'$d_{par}$')\n",
    "            plt.ylim(-0.1,1.1)\n",
    "            plt.legend()\n",
    "            plt.show()\n",
    "            fig, ax = plt.subplots(figsize=(7, 7))\n",
    "            plotterC(P,bmax,r'$B_{max}$',r'$P$',r'$B_{max}$',(1,0,0),r'$B_{max}$')\n",
    "            plt.plot(P,[2]*num_space,color='black', linestyle ='dashed')\n",
    "            plt.ylim(1,3)\n",
    "            plt.show()\n",
    "            fig, ax = plt.subplots(figsize=(7, 7))\n",
    "            plotterC(P,spol,r'$S_{pol} and S_{par}$',r'$P$',r'$S_{pol}\\ \\slash\\ S_{par}$',(1,0,0),r'$s_{pol}$')\n",
    "            plotterC(P,spar,r'$S_{pol} and S_{par}$',r'$P$',r'$S_{pol}\\ \\slash\\ S_{par}$',(0,0,1),r'$s_{par}$')\n",
    "            plt.ylim(0,1.1) \n",
    "            plt.legend()\n",
    "            plt.show()\n",
    "            \n",
    "            \n",
    "        plt.show()\n",
    "    \n",
    "    else: \n",
    "        fig, ax = plt.subplots(figsize=(0.01, 0.01))\n",
    "        plt.show()\n",
    "        clear_output()\n",
    "    return\n",
    "\n",
    "interact(expCPlots, option=['Show All', 'D', 'B', 'S', 'Hide All']);"
   ]
  },
  {
   "cell_type": "code",
   "execution_count": 42,
   "metadata": {
    "scrolled": false
   },
   "outputs": [
    {
     "data": {
      "application/vnd.jupyter.widget-view+json": {
       "model_id": "9baa45057aee496dbfbcb6d6420a7cb8",
       "version_major": 2,
       "version_minor": 0
      },
      "text/plain": [
       "interactive(children=(FloatSlider(value=0.3333333333333333, continuous_update=False, description='P', layout=L…"
      ]
     },
     "metadata": {},
     "output_type": "display_data"
    }
   ],
   "source": [
    "def expCContours(P):\n",
    "    function=C_ta_pa_C\n",
    "    contourplotterC(function,P,r'$C(\\theta_a,\\phi_a)$',r'$\\theta_a$',r'$\\phi_a$')\n",
    "    return\n",
    "interact(expCContours, P=widgets.FloatSlider(min=0, max=1, step=0.01, value=1/3, continuous_update=False, layout=Layout(width='600px')));"
   ]
  },
  {
   "cell_type": "markdown",
   "metadata": {},
   "source": [
    "## 5. Reduced representation of the two Binary DoFs\n",
    "We can represent any arbitrary partially coherent beam by the three invariants $S$, $S_{pol}$, $S_{par}$. Every point in the volume generated represents different beams which can be related via unitary transformations that do not couple the two DoFs, since these ensure that $S$, $S_{pol}$, $S_{par}$ remain invariant. Points with the same $S$ comprise of a plane. All the points in this plane are related via unitary transformations which couple the two DoFs, since these would ensure $S$ remains the same but $S_{pol}$ and $S_{par}$ do not.\n",
    "A beam with higher $S$, by the definition of the measure, has higher coherency. \n",
    "\n",
    "The figure offers us two insights into how $S$, $S_{pol}$, $S_{par}$ for a beam might be related.<br>\n",
    "Firstly, beams with the same value of $S$ do not take arbitrary values of $S_{pol}$ and $S_{par}$. For a given value of $S$ for a beam, the figure uniquely gives us a concave-sided triangular area within which the values of $S_{pol}$ and $S_{par}$ must be contained for a partially coherent beam.<br>\n",
    "Secondly, for given values of $S_{pol}$ and $S_{par}$ for a partially coherent beam, we can predict the overall degree of coherence of the beam $S$ by drawing a line segment parallel to the $S$ axis contained within the figure, which gives us a narrow range within which $S$ must be for the beam. The paper suggests that the uncertainty in determining $S$ using this method is $\\sim6\\%$ on average.\n",
    "\n",
    "The overall purpose of generating the figure was to show that we cannot have all combinations of $S$, $S_{pol}$, $S_{par}$ inside the unit cube in the first octant but only the ones which satisfy Bell's Inequality, which results in the obtained figure.\n",
    "\n",
    "In our attempt to generate the figure, we have essentially constructed a Monte-Carlo simulation with $5000$ points based on the discussion in [[8](#ref-8)].<br>\n",
    "Since eigenvalues of G have to be real, positive and their sum must be 1, we first generate a diagonal matrix $D$ of the eigenvalues with the contraints applied. Now, to obtain a random G, we must first obtain a random unitary matrix $U$ and apply the following transformation on the diagonal matrix $D$.<br>\n",
    "<center>$G=UDU^{\\dagger}$</center>\n",
    "We obtain $U$ by first generating a random matrix and then QR factorizing it. Since Q is unitary, we have in essence found a random unitary matrix. The above set of operations is implemented in the function <code>randG()</code>.<br>\n",
    "\n",
    "After this, we proceed to define the function  <code>C_ta_pa()</code> which calculates the correlation function for a given matrix $G$ with the parameters $t_{1} (\\theta_{a})$ and $p_{1} (\\phi_{a})$. The Bell Measure is calculated by the function  <code>B()</code> by making calls to the function <code>C_ta_pa()</code>.<br>\n",
    "Now, the calculation of the value $S$ is straightforward from the matrix $G$ and that of $D_{pol}$ and $D_{par}$ is also relatively straightforward once the matrices $G_{pol}$ and $G_{par}$ have been constructed. But, for the calculation of $S_{pol}$ and $S_{par}$, we need to determine the value $B_{max}$ first. Since there was no way the optimization of matrices could've been tensorized, we calculate this in loop for all the G matrices and that is what constitutes the bulk of the running time of the program. We implement this in the function  <code>genS()</code> below."
   ]
  },
  {
   "cell_type": "code",
   "execution_count": 43,
   "metadata": {},
   "outputs": [],
   "source": [
    "def randG(i):\n",
    "    G=np.zeros([4,4])\n",
    "    a = np.random.dirichlet(np.ones(4)*(100**i),size=1)\n",
    "    for i in range(4):\n",
    "        G[i,i] = a[0,i]\n",
    "    U,_=np.linalg.qr(np.random.rand(4,4)+1j*np.random.rand(4,4))\n",
    "    G=(np.conjugate(U)@G@np.transpose(U)).round(4)\n",
    "    return G"
   ]
  },
  {
   "cell_type": "code",
   "execution_count": 44,
   "metadata": {},
   "outputs": [],
   "source": [
    "def C_ta_pa(G,t1,p1):\n",
    "    a_hwp_1 = [[-np.cos(t1/2),0,-np.sin(t1/2),0],[0,-np.cos(t1/2),0,-np.sin(t1/2)],[-np.sin(t1/2),0,np.cos(t1/2),0],[0,-np.sin(t1/2),0,np.cos(t1/2)]]\n",
    "    a_slm_1 = [[np.cos(p1/2),1j*np.sin(p1/2),0,0],[1j*np.sin(p1/2),np.cos(p1/2),0,0],[0,0,np.cos(p1/2),1j*np.sin(p1/2)],[0,0,1j*np.sin(p1/2),np.cos(p1/2)]]\n",
    "    G_out=np.conjugate(a_slm_1)@np.conjugate(a_hwp_1)@G@np.transpose(a_hwp_1)@np.transpose(a_slm_1)\n",
    "    return np.real((G_out[0,0]-G_out[1,1]-G_out[2,2]+G_out[3,3])/(np.trace(G))).round(8)"
   ]
  },
  {
   "cell_type": "code",
   "execution_count": 45,
   "metadata": {},
   "outputs": [],
   "source": [
    "def B(G,t1,t2,p1,p2):\n",
    "    return abs(C_ta_pa(G,t1,p1)+C_ta_pa(G,t1,p2)+C_ta_pa(G,t2,p1)-C_ta_pa(G,t2,p2))"
   ]
  },
  {
   "cell_type": "code",
   "execution_count": 46,
   "metadata": {},
   "outputs": [],
   "source": [
    "def genS(G):\n",
    "    G_pol = [[G[0,0]+G[1,1],G[0,2]+G[1,3]],[G[2,0]+G[3,1],G[2,2]+G[3,3]]]\n",
    "    G_par = [[G[0,0]+G[2,2],G[0,1]+G[2,3]],[G[1,0]+G[3,2],G[1,1]+G[3,3]]]\n",
    "    \n",
    "    D_pol=sqrt(1-4*(np.linalg.det(G_pol))/((np.trace(G_pol))**2))\n",
    "    D_par=sqrt(1-4*(np.linalg.det(G_par))/((np.trace(G_par))**2))\n",
    "    \n",
    "    bmax=-1*(sc.optimize.minimize(lambda params: -1*abs(B(G,params[0],params[1],params[2],params[3])),np.random.rand(4), method = 'Nelder-Mead').fun)\n",
    "    spol=round(np.real(complex(D_pol**2/2+bmax**2/8)),8)\n",
    "    spar=round(np.real(complex(D_par**2/2+bmax**2/8)),8)\n",
    "    s=round(np.real((4/3)*(np.trace(G@G)-(1/4))),8)\n",
    "    return spol,spar,s"
   ]
  },
  {
   "cell_type": "code",
   "execution_count": 47,
   "metadata": {},
   "outputs": [],
   "source": [
    "#NOTE: this cell takes quite long to run\n",
    "n=5000\n",
    "x=np.zeros(n)\n",
    "y=np.zeros(n)\n",
    "z=np.zeros(n)\n",
    "for i in range(n):\n",
    "    #print(i)\n",
    "    x[i],y[i],z[i]=genS(randG(i%3 - 1))\n",
    "rows = zip(x,y,z)"
   ]
  },
  {
   "cell_type": "code",
   "execution_count": 63,
   "metadata": {},
   "outputs": [
    {
     "data": {
      "application/javascript": [
       "/* Put everything inside the global mpl namespace */\n",
       "/* global mpl */\n",
       "window.mpl = {};\n",
       "\n",
       "mpl.get_websocket_type = function () {\n",
       "    if (typeof WebSocket !== 'undefined') {\n",
       "        return WebSocket;\n",
       "    } else if (typeof MozWebSocket !== 'undefined') {\n",
       "        return MozWebSocket;\n",
       "    } else {\n",
       "        alert(\n",
       "            'Your browser does not have WebSocket support. ' +\n",
       "                'Please try Chrome, Safari or Firefox ≥ 6. ' +\n",
       "                'Firefox 4 and 5 are also supported but you ' +\n",
       "                'have to enable WebSockets in about:config.'\n",
       "        );\n",
       "    }\n",
       "};\n",
       "\n",
       "mpl.figure = function (figure_id, websocket, ondownload, parent_element) {\n",
       "    this.id = figure_id;\n",
       "\n",
       "    this.ws = websocket;\n",
       "\n",
       "    this.supports_binary = this.ws.binaryType !== undefined;\n",
       "\n",
       "    if (!this.supports_binary) {\n",
       "        var warnings = document.getElementById('mpl-warnings');\n",
       "        if (warnings) {\n",
       "            warnings.style.display = 'block';\n",
       "            warnings.textContent =\n",
       "                'This browser does not support binary websocket messages. ' +\n",
       "                'Performance may be slow.';\n",
       "        }\n",
       "    }\n",
       "\n",
       "    this.imageObj = new Image();\n",
       "\n",
       "    this.context = undefined;\n",
       "    this.message = undefined;\n",
       "    this.canvas = undefined;\n",
       "    this.rubberband_canvas = undefined;\n",
       "    this.rubberband_context = undefined;\n",
       "    this.format_dropdown = undefined;\n",
       "\n",
       "    this.image_mode = 'full';\n",
       "\n",
       "    this.root = document.createElement('div');\n",
       "    this.root.setAttribute('style', 'display: inline-block');\n",
       "    this._root_extra_style(this.root);\n",
       "\n",
       "    parent_element.appendChild(this.root);\n",
       "\n",
       "    this._init_header(this);\n",
       "    this._init_canvas(this);\n",
       "    this._init_toolbar(this);\n",
       "\n",
       "    var fig = this;\n",
       "\n",
       "    this.waiting = false;\n",
       "\n",
       "    this.ws.onopen = function () {\n",
       "        fig.send_message('supports_binary', { value: fig.supports_binary });\n",
       "        fig.send_message('send_image_mode', {});\n",
       "        if (fig.ratio !== 1) {\n",
       "            fig.send_message('set_dpi_ratio', { dpi_ratio: fig.ratio });\n",
       "        }\n",
       "        fig.send_message('refresh', {});\n",
       "    };\n",
       "\n",
       "    this.imageObj.onload = function () {\n",
       "        if (fig.image_mode === 'full') {\n",
       "            // Full images could contain transparency (where diff images\n",
       "            // almost always do), so we need to clear the canvas so that\n",
       "            // there is no ghosting.\n",
       "            fig.context.clearRect(0, 0, fig.canvas.width, fig.canvas.height);\n",
       "        }\n",
       "        fig.context.drawImage(fig.imageObj, 0, 0);\n",
       "    };\n",
       "\n",
       "    this.imageObj.onunload = function () {\n",
       "        fig.ws.close();\n",
       "    };\n",
       "\n",
       "    this.ws.onmessage = this._make_on_message_function(this);\n",
       "\n",
       "    this.ondownload = ondownload;\n",
       "};\n",
       "\n",
       "mpl.figure.prototype._init_header = function () {\n",
       "    var titlebar = document.createElement('div');\n",
       "    titlebar.classList =\n",
       "        'ui-dialog-titlebar ui-widget-header ui-corner-all ui-helper-clearfix';\n",
       "    var titletext = document.createElement('div');\n",
       "    titletext.classList = 'ui-dialog-title';\n",
       "    titletext.setAttribute(\n",
       "        'style',\n",
       "        'width: 100%; text-align: center; padding: 3px;'\n",
       "    );\n",
       "    titlebar.appendChild(titletext);\n",
       "    this.root.appendChild(titlebar);\n",
       "    this.header = titletext;\n",
       "};\n",
       "\n",
       "mpl.figure.prototype._canvas_extra_style = function (_canvas_div) {};\n",
       "\n",
       "mpl.figure.prototype._root_extra_style = function (_canvas_div) {};\n",
       "\n",
       "mpl.figure.prototype._init_canvas = function () {\n",
       "    var fig = this;\n",
       "\n",
       "    var canvas_div = (this.canvas_div = document.createElement('div'));\n",
       "    canvas_div.setAttribute(\n",
       "        'style',\n",
       "        'border: 1px solid #ddd;' +\n",
       "            'box-sizing: content-box;' +\n",
       "            'clear: both;' +\n",
       "            'min-height: 1px;' +\n",
       "            'min-width: 1px;' +\n",
       "            'outline: 0;' +\n",
       "            'overflow: hidden;' +\n",
       "            'position: relative;' +\n",
       "            'resize: both;'\n",
       "    );\n",
       "\n",
       "    function on_keyboard_event_closure(name) {\n",
       "        return function (event) {\n",
       "            return fig.key_event(event, name);\n",
       "        };\n",
       "    }\n",
       "\n",
       "    canvas_div.addEventListener(\n",
       "        'keydown',\n",
       "        on_keyboard_event_closure('key_press')\n",
       "    );\n",
       "    canvas_div.addEventListener(\n",
       "        'keyup',\n",
       "        on_keyboard_event_closure('key_release')\n",
       "    );\n",
       "\n",
       "    this._canvas_extra_style(canvas_div);\n",
       "    this.root.appendChild(canvas_div);\n",
       "\n",
       "    var canvas = (this.canvas = document.createElement('canvas'));\n",
       "    canvas.classList.add('mpl-canvas');\n",
       "    canvas.setAttribute('style', 'box-sizing: content-box;');\n",
       "\n",
       "    this.context = canvas.getContext('2d');\n",
       "\n",
       "    var backingStore =\n",
       "        this.context.backingStorePixelRatio ||\n",
       "        this.context.webkitBackingStorePixelRatio ||\n",
       "        this.context.mozBackingStorePixelRatio ||\n",
       "        this.context.msBackingStorePixelRatio ||\n",
       "        this.context.oBackingStorePixelRatio ||\n",
       "        this.context.backingStorePixelRatio ||\n",
       "        1;\n",
       "\n",
       "    this.ratio = (window.devicePixelRatio || 1) / backingStore;\n",
       "\n",
       "    var rubberband_canvas = (this.rubberband_canvas = document.createElement(\n",
       "        'canvas'\n",
       "    ));\n",
       "    rubberband_canvas.setAttribute(\n",
       "        'style',\n",
       "        'box-sizing: content-box; position: absolute; left: 0; top: 0; z-index: 1;'\n",
       "    );\n",
       "\n",
       "    // Apply a ponyfill if ResizeObserver is not implemented by browser.\n",
       "    if (this.ResizeObserver === undefined) {\n",
       "        if (window.ResizeObserver !== undefined) {\n",
       "            this.ResizeObserver = window.ResizeObserver;\n",
       "        } else {\n",
       "            var obs = _JSXTOOLS_RESIZE_OBSERVER({});\n",
       "            this.ResizeObserver = obs.ResizeObserver;\n",
       "        }\n",
       "    }\n",
       "\n",
       "    this.resizeObserverInstance = new this.ResizeObserver(function (entries) {\n",
       "        var nentries = entries.length;\n",
       "        for (var i = 0; i < nentries; i++) {\n",
       "            var entry = entries[i];\n",
       "            var width, height;\n",
       "            if (entry.contentBoxSize) {\n",
       "                if (entry.contentBoxSize instanceof Array) {\n",
       "                    // Chrome 84 implements new version of spec.\n",
       "                    width = entry.contentBoxSize[0].inlineSize;\n",
       "                    height = entry.contentBoxSize[0].blockSize;\n",
       "                } else {\n",
       "                    // Firefox implements old version of spec.\n",
       "                    width = entry.contentBoxSize.inlineSize;\n",
       "                    height = entry.contentBoxSize.blockSize;\n",
       "                }\n",
       "            } else {\n",
       "                // Chrome <84 implements even older version of spec.\n",
       "                width = entry.contentRect.width;\n",
       "                height = entry.contentRect.height;\n",
       "            }\n",
       "\n",
       "            // Keep the size of the canvas and rubber band canvas in sync with\n",
       "            // the canvas container.\n",
       "            if (entry.devicePixelContentBoxSize) {\n",
       "                // Chrome 84 implements new version of spec.\n",
       "                canvas.setAttribute(\n",
       "                    'width',\n",
       "                    entry.devicePixelContentBoxSize[0].inlineSize\n",
       "                );\n",
       "                canvas.setAttribute(\n",
       "                    'height',\n",
       "                    entry.devicePixelContentBoxSize[0].blockSize\n",
       "                );\n",
       "            } else {\n",
       "                canvas.setAttribute('width', width * fig.ratio);\n",
       "                canvas.setAttribute('height', height * fig.ratio);\n",
       "            }\n",
       "            canvas.setAttribute(\n",
       "                'style',\n",
       "                'width: ' + width + 'px; height: ' + height + 'px;'\n",
       "            );\n",
       "\n",
       "            rubberband_canvas.setAttribute('width', width);\n",
       "            rubberband_canvas.setAttribute('height', height);\n",
       "\n",
       "            // And update the size in Python. We ignore the initial 0/0 size\n",
       "            // that occurs as the element is placed into the DOM, which should\n",
       "            // otherwise not happen due to the minimum size styling.\n",
       "            if (fig.ws.readyState == 1 && width != 0 && height != 0) {\n",
       "                fig.request_resize(width, height);\n",
       "            }\n",
       "        }\n",
       "    });\n",
       "    this.resizeObserverInstance.observe(canvas_div);\n",
       "\n",
       "    function on_mouse_event_closure(name) {\n",
       "        return function (event) {\n",
       "            return fig.mouse_event(event, name);\n",
       "        };\n",
       "    }\n",
       "\n",
       "    rubberband_canvas.addEventListener(\n",
       "        'mousedown',\n",
       "        on_mouse_event_closure('button_press')\n",
       "    );\n",
       "    rubberband_canvas.addEventListener(\n",
       "        'mouseup',\n",
       "        on_mouse_event_closure('button_release')\n",
       "    );\n",
       "    rubberband_canvas.addEventListener(\n",
       "        'dblclick',\n",
       "        on_mouse_event_closure('dblclick')\n",
       "    );\n",
       "    // Throttle sequential mouse events to 1 every 20ms.\n",
       "    rubberband_canvas.addEventListener(\n",
       "        'mousemove',\n",
       "        on_mouse_event_closure('motion_notify')\n",
       "    );\n",
       "\n",
       "    rubberband_canvas.addEventListener(\n",
       "        'mouseenter',\n",
       "        on_mouse_event_closure('figure_enter')\n",
       "    );\n",
       "    rubberband_canvas.addEventListener(\n",
       "        'mouseleave',\n",
       "        on_mouse_event_closure('figure_leave')\n",
       "    );\n",
       "\n",
       "    canvas_div.addEventListener('wheel', function (event) {\n",
       "        if (event.deltaY < 0) {\n",
       "            event.step = 1;\n",
       "        } else {\n",
       "            event.step = -1;\n",
       "        }\n",
       "        on_mouse_event_closure('scroll')(event);\n",
       "    });\n",
       "\n",
       "    canvas_div.appendChild(canvas);\n",
       "    canvas_div.appendChild(rubberband_canvas);\n",
       "\n",
       "    this.rubberband_context = rubberband_canvas.getContext('2d');\n",
       "    this.rubberband_context.strokeStyle = '#000000';\n",
       "\n",
       "    this._resize_canvas = function (width, height, forward) {\n",
       "        if (forward) {\n",
       "            canvas_div.style.width = width + 'px';\n",
       "            canvas_div.style.height = height + 'px';\n",
       "        }\n",
       "    };\n",
       "\n",
       "    // Disable right mouse context menu.\n",
       "    this.rubberband_canvas.addEventListener('contextmenu', function (_e) {\n",
       "        event.preventDefault();\n",
       "        return false;\n",
       "    });\n",
       "\n",
       "    function set_focus() {\n",
       "        canvas.focus();\n",
       "        canvas_div.focus();\n",
       "    }\n",
       "\n",
       "    window.setTimeout(set_focus, 100);\n",
       "};\n",
       "\n",
       "mpl.figure.prototype._init_toolbar = function () {\n",
       "    var fig = this;\n",
       "\n",
       "    var toolbar = document.createElement('div');\n",
       "    toolbar.classList = 'mpl-toolbar';\n",
       "    this.root.appendChild(toolbar);\n",
       "\n",
       "    function on_click_closure(name) {\n",
       "        return function (_event) {\n",
       "            return fig.toolbar_button_onclick(name);\n",
       "        };\n",
       "    }\n",
       "\n",
       "    function on_mouseover_closure(tooltip) {\n",
       "        return function (event) {\n",
       "            if (!event.currentTarget.disabled) {\n",
       "                return fig.toolbar_button_onmouseover(tooltip);\n",
       "            }\n",
       "        };\n",
       "    }\n",
       "\n",
       "    fig.buttons = {};\n",
       "    var buttonGroup = document.createElement('div');\n",
       "    buttonGroup.classList = 'mpl-button-group';\n",
       "    for (var toolbar_ind in mpl.toolbar_items) {\n",
       "        var name = mpl.toolbar_items[toolbar_ind][0];\n",
       "        var tooltip = mpl.toolbar_items[toolbar_ind][1];\n",
       "        var image = mpl.toolbar_items[toolbar_ind][2];\n",
       "        var method_name = mpl.toolbar_items[toolbar_ind][3];\n",
       "\n",
       "        if (!name) {\n",
       "            /* Instead of a spacer, we start a new button group. */\n",
       "            if (buttonGroup.hasChildNodes()) {\n",
       "                toolbar.appendChild(buttonGroup);\n",
       "            }\n",
       "            buttonGroup = document.createElement('div');\n",
       "            buttonGroup.classList = 'mpl-button-group';\n",
       "            continue;\n",
       "        }\n",
       "\n",
       "        var button = (fig.buttons[name] = document.createElement('button'));\n",
       "        button.classList = 'mpl-widget';\n",
       "        button.setAttribute('role', 'button');\n",
       "        button.setAttribute('aria-disabled', 'false');\n",
       "        button.addEventListener('click', on_click_closure(method_name));\n",
       "        button.addEventListener('mouseover', on_mouseover_closure(tooltip));\n",
       "\n",
       "        var icon_img = document.createElement('img');\n",
       "        icon_img.src = '_images/' + image + '.png';\n",
       "        icon_img.srcset = '_images/' + image + '_large.png 2x';\n",
       "        icon_img.alt = tooltip;\n",
       "        button.appendChild(icon_img);\n",
       "\n",
       "        buttonGroup.appendChild(button);\n",
       "    }\n",
       "\n",
       "    if (buttonGroup.hasChildNodes()) {\n",
       "        toolbar.appendChild(buttonGroup);\n",
       "    }\n",
       "\n",
       "    var fmt_picker = document.createElement('select');\n",
       "    fmt_picker.classList = 'mpl-widget';\n",
       "    toolbar.appendChild(fmt_picker);\n",
       "    this.format_dropdown = fmt_picker;\n",
       "\n",
       "    for (var ind in mpl.extensions) {\n",
       "        var fmt = mpl.extensions[ind];\n",
       "        var option = document.createElement('option');\n",
       "        option.selected = fmt === mpl.default_extension;\n",
       "        option.innerHTML = fmt;\n",
       "        fmt_picker.appendChild(option);\n",
       "    }\n",
       "\n",
       "    var status_bar = document.createElement('span');\n",
       "    status_bar.classList = 'mpl-message';\n",
       "    toolbar.appendChild(status_bar);\n",
       "    this.message = status_bar;\n",
       "};\n",
       "\n",
       "mpl.figure.prototype.request_resize = function (x_pixels, y_pixels) {\n",
       "    // Request matplotlib to resize the figure. Matplotlib will then trigger a resize in the client,\n",
       "    // which will in turn request a refresh of the image.\n",
       "    this.send_message('resize', { width: x_pixels, height: y_pixels });\n",
       "};\n",
       "\n",
       "mpl.figure.prototype.send_message = function (type, properties) {\n",
       "    properties['type'] = type;\n",
       "    properties['figure_id'] = this.id;\n",
       "    this.ws.send(JSON.stringify(properties));\n",
       "};\n",
       "\n",
       "mpl.figure.prototype.send_draw_message = function () {\n",
       "    if (!this.waiting) {\n",
       "        this.waiting = true;\n",
       "        this.ws.send(JSON.stringify({ type: 'draw', figure_id: this.id }));\n",
       "    }\n",
       "};\n",
       "\n",
       "mpl.figure.prototype.handle_save = function (fig, _msg) {\n",
       "    var format_dropdown = fig.format_dropdown;\n",
       "    var format = format_dropdown.options[format_dropdown.selectedIndex].value;\n",
       "    fig.ondownload(fig, format);\n",
       "};\n",
       "\n",
       "mpl.figure.prototype.handle_resize = function (fig, msg) {\n",
       "    var size = msg['size'];\n",
       "    if (size[0] !== fig.canvas.width || size[1] !== fig.canvas.height) {\n",
       "        fig._resize_canvas(size[0], size[1], msg['forward']);\n",
       "        fig.send_message('refresh', {});\n",
       "    }\n",
       "};\n",
       "\n",
       "mpl.figure.prototype.handle_rubberband = function (fig, msg) {\n",
       "    var x0 = msg['x0'] / fig.ratio;\n",
       "    var y0 = (fig.canvas.height - msg['y0']) / fig.ratio;\n",
       "    var x1 = msg['x1'] / fig.ratio;\n",
       "    var y1 = (fig.canvas.height - msg['y1']) / fig.ratio;\n",
       "    x0 = Math.floor(x0) + 0.5;\n",
       "    y0 = Math.floor(y0) + 0.5;\n",
       "    x1 = Math.floor(x1) + 0.5;\n",
       "    y1 = Math.floor(y1) + 0.5;\n",
       "    var min_x = Math.min(x0, x1);\n",
       "    var min_y = Math.min(y0, y1);\n",
       "    var width = Math.abs(x1 - x0);\n",
       "    var height = Math.abs(y1 - y0);\n",
       "\n",
       "    fig.rubberband_context.clearRect(\n",
       "        0,\n",
       "        0,\n",
       "        fig.canvas.width / fig.ratio,\n",
       "        fig.canvas.height / fig.ratio\n",
       "    );\n",
       "\n",
       "    fig.rubberband_context.strokeRect(min_x, min_y, width, height);\n",
       "};\n",
       "\n",
       "mpl.figure.prototype.handle_figure_label = function (fig, msg) {\n",
       "    // Updates the figure title.\n",
       "    fig.header.textContent = msg['label'];\n",
       "};\n",
       "\n",
       "mpl.figure.prototype.handle_cursor = function (fig, msg) {\n",
       "    var cursor = msg['cursor'];\n",
       "    switch (cursor) {\n",
       "        case 0:\n",
       "            cursor = 'pointer';\n",
       "            break;\n",
       "        case 1:\n",
       "            cursor = 'default';\n",
       "            break;\n",
       "        case 2:\n",
       "            cursor = 'crosshair';\n",
       "            break;\n",
       "        case 3:\n",
       "            cursor = 'move';\n",
       "            break;\n",
       "    }\n",
       "    fig.rubberband_canvas.style.cursor = cursor;\n",
       "};\n",
       "\n",
       "mpl.figure.prototype.handle_message = function (fig, msg) {\n",
       "    fig.message.textContent = msg['message'];\n",
       "};\n",
       "\n",
       "mpl.figure.prototype.handle_draw = function (fig, _msg) {\n",
       "    // Request the server to send over a new figure.\n",
       "    fig.send_draw_message();\n",
       "};\n",
       "\n",
       "mpl.figure.prototype.handle_image_mode = function (fig, msg) {\n",
       "    fig.image_mode = msg['mode'];\n",
       "};\n",
       "\n",
       "mpl.figure.prototype.handle_history_buttons = function (fig, msg) {\n",
       "    for (var key in msg) {\n",
       "        if (!(key in fig.buttons)) {\n",
       "            continue;\n",
       "        }\n",
       "        fig.buttons[key].disabled = !msg[key];\n",
       "        fig.buttons[key].setAttribute('aria-disabled', !msg[key]);\n",
       "    }\n",
       "};\n",
       "\n",
       "mpl.figure.prototype.handle_navigate_mode = function (fig, msg) {\n",
       "    if (msg['mode'] === 'PAN') {\n",
       "        fig.buttons['Pan'].classList.add('active');\n",
       "        fig.buttons['Zoom'].classList.remove('active');\n",
       "    } else if (msg['mode'] === 'ZOOM') {\n",
       "        fig.buttons['Pan'].classList.remove('active');\n",
       "        fig.buttons['Zoom'].classList.add('active');\n",
       "    } else {\n",
       "        fig.buttons['Pan'].classList.remove('active');\n",
       "        fig.buttons['Zoom'].classList.remove('active');\n",
       "    }\n",
       "};\n",
       "\n",
       "mpl.figure.prototype.updated_canvas_event = function () {\n",
       "    // Called whenever the canvas gets updated.\n",
       "    this.send_message('ack', {});\n",
       "};\n",
       "\n",
       "// A function to construct a web socket function for onmessage handling.\n",
       "// Called in the figure constructor.\n",
       "mpl.figure.prototype._make_on_message_function = function (fig) {\n",
       "    return function socket_on_message(evt) {\n",
       "        if (evt.data instanceof Blob) {\n",
       "            var img = evt.data;\n",
       "            if (img.type !== 'image/png') {\n",
       "                /* FIXME: We get \"Resource interpreted as Image but\n",
       "                 * transferred with MIME type text/plain:\" errors on\n",
       "                 * Chrome.  But how to set the MIME type?  It doesn't seem\n",
       "                 * to be part of the websocket stream */\n",
       "                img.type = 'image/png';\n",
       "            }\n",
       "\n",
       "            /* Free the memory for the previous frames */\n",
       "            if (fig.imageObj.src) {\n",
       "                (window.URL || window.webkitURL).revokeObjectURL(\n",
       "                    fig.imageObj.src\n",
       "                );\n",
       "            }\n",
       "\n",
       "            fig.imageObj.src = (window.URL || window.webkitURL).createObjectURL(\n",
       "                img\n",
       "            );\n",
       "            fig.updated_canvas_event();\n",
       "            fig.waiting = false;\n",
       "            return;\n",
       "        } else if (\n",
       "            typeof evt.data === 'string' &&\n",
       "            evt.data.slice(0, 21) === 'data:image/png;base64'\n",
       "        ) {\n",
       "            fig.imageObj.src = evt.data;\n",
       "            fig.updated_canvas_event();\n",
       "            fig.waiting = false;\n",
       "            return;\n",
       "        }\n",
       "\n",
       "        var msg = JSON.parse(evt.data);\n",
       "        var msg_type = msg['type'];\n",
       "\n",
       "        // Call the  \"handle_{type}\" callback, which takes\n",
       "        // the figure and JSON message as its only arguments.\n",
       "        try {\n",
       "            var callback = fig['handle_' + msg_type];\n",
       "        } catch (e) {\n",
       "            console.log(\n",
       "                \"No handler for the '\" + msg_type + \"' message type: \",\n",
       "                msg\n",
       "            );\n",
       "            return;\n",
       "        }\n",
       "\n",
       "        if (callback) {\n",
       "            try {\n",
       "                // console.log(\"Handling '\" + msg_type + \"' message: \", msg);\n",
       "                callback(fig, msg);\n",
       "            } catch (e) {\n",
       "                console.log(\n",
       "                    \"Exception inside the 'handler_\" + msg_type + \"' callback:\",\n",
       "                    e,\n",
       "                    e.stack,\n",
       "                    msg\n",
       "                );\n",
       "            }\n",
       "        }\n",
       "    };\n",
       "};\n",
       "\n",
       "// from http://stackoverflow.com/questions/1114465/getting-mouse-location-in-canvas\n",
       "mpl.findpos = function (e) {\n",
       "    //this section is from http://www.quirksmode.org/js/events_properties.html\n",
       "    var targ;\n",
       "    if (!e) {\n",
       "        e = window.event;\n",
       "    }\n",
       "    if (e.target) {\n",
       "        targ = e.target;\n",
       "    } else if (e.srcElement) {\n",
       "        targ = e.srcElement;\n",
       "    }\n",
       "    if (targ.nodeType === 3) {\n",
       "        // defeat Safari bug\n",
       "        targ = targ.parentNode;\n",
       "    }\n",
       "\n",
       "    // pageX,Y are the mouse positions relative to the document\n",
       "    var boundingRect = targ.getBoundingClientRect();\n",
       "    var x = e.pageX - (boundingRect.left + document.body.scrollLeft);\n",
       "    var y = e.pageY - (boundingRect.top + document.body.scrollTop);\n",
       "\n",
       "    return { x: x, y: y };\n",
       "};\n",
       "\n",
       "/*\n",
       " * return a copy of an object with only non-object keys\n",
       " * we need this to avoid circular references\n",
       " * http://stackoverflow.com/a/24161582/3208463\n",
       " */\n",
       "function simpleKeys(original) {\n",
       "    return Object.keys(original).reduce(function (obj, key) {\n",
       "        if (typeof original[key] !== 'object') {\n",
       "            obj[key] = original[key];\n",
       "        }\n",
       "        return obj;\n",
       "    }, {});\n",
       "}\n",
       "\n",
       "mpl.figure.prototype.mouse_event = function (event, name) {\n",
       "    var canvas_pos = mpl.findpos(event);\n",
       "\n",
       "    if (name === 'button_press') {\n",
       "        this.canvas.focus();\n",
       "        this.canvas_div.focus();\n",
       "    }\n",
       "\n",
       "    var x = canvas_pos.x * this.ratio;\n",
       "    var y = canvas_pos.y * this.ratio;\n",
       "\n",
       "    this.send_message(name, {\n",
       "        x: x,\n",
       "        y: y,\n",
       "        button: event.button,\n",
       "        step: event.step,\n",
       "        guiEvent: simpleKeys(event),\n",
       "    });\n",
       "\n",
       "    /* This prevents the web browser from automatically changing to\n",
       "     * the text insertion cursor when the button is pressed.  We want\n",
       "     * to control all of the cursor setting manually through the\n",
       "     * 'cursor' event from matplotlib */\n",
       "    event.preventDefault();\n",
       "    return false;\n",
       "};\n",
       "\n",
       "mpl.figure.prototype._key_event_extra = function (_event, _name) {\n",
       "    // Handle any extra behaviour associated with a key event\n",
       "};\n",
       "\n",
       "mpl.figure.prototype.key_event = function (event, name) {\n",
       "    // Prevent repeat events\n",
       "    if (name === 'key_press') {\n",
       "        if (event.key === this._key) {\n",
       "            return;\n",
       "        } else {\n",
       "            this._key = event.key;\n",
       "        }\n",
       "    }\n",
       "    if (name === 'key_release') {\n",
       "        this._key = null;\n",
       "    }\n",
       "\n",
       "    var value = '';\n",
       "    if (event.ctrlKey && event.key !== 'Control') {\n",
       "        value += 'ctrl+';\n",
       "    }\n",
       "    else if (event.altKey && event.key !== 'Alt') {\n",
       "        value += 'alt+';\n",
       "    }\n",
       "    else if (event.shiftKey && event.key !== 'Shift') {\n",
       "        value += 'shift+';\n",
       "    }\n",
       "\n",
       "    value += 'k' + event.key;\n",
       "\n",
       "    this._key_event_extra(event, name);\n",
       "\n",
       "    this.send_message(name, { key: value, guiEvent: simpleKeys(event) });\n",
       "    return false;\n",
       "};\n",
       "\n",
       "mpl.figure.prototype.toolbar_button_onclick = function (name) {\n",
       "    if (name === 'download') {\n",
       "        this.handle_save(this, null);\n",
       "    } else {\n",
       "        this.send_message('toolbar_button', { name: name });\n",
       "    }\n",
       "};\n",
       "\n",
       "mpl.figure.prototype.toolbar_button_onmouseover = function (tooltip) {\n",
       "    this.message.textContent = tooltip;\n",
       "};\n",
       "\n",
       "///////////////// REMAINING CONTENT GENERATED BY embed_js.py /////////////////\n",
       "// prettier-ignore\n",
       "var _JSXTOOLS_RESIZE_OBSERVER=function(A){var t,i=new WeakMap,n=new WeakMap,a=new WeakMap,r=new WeakMap,o=new Set;function s(e){if(!(this instanceof s))throw new TypeError(\"Constructor requires 'new' operator\");i.set(this,e)}function h(){throw new TypeError(\"Function is not a constructor\")}function c(e,t,i,n){e=0 in arguments?Number(arguments[0]):0,t=1 in arguments?Number(arguments[1]):0,i=2 in arguments?Number(arguments[2]):0,n=3 in arguments?Number(arguments[3]):0,this.right=(this.x=this.left=e)+(this.width=i),this.bottom=(this.y=this.top=t)+(this.height=n),Object.freeze(this)}function d(){t=requestAnimationFrame(d);var s=new WeakMap,p=new Set;o.forEach((function(t){r.get(t).forEach((function(i){var r=t instanceof window.SVGElement,o=a.get(t),d=r?0:parseFloat(o.paddingTop),f=r?0:parseFloat(o.paddingRight),l=r?0:parseFloat(o.paddingBottom),u=r?0:parseFloat(o.paddingLeft),g=r?0:parseFloat(o.borderTopWidth),m=r?0:parseFloat(o.borderRightWidth),w=r?0:parseFloat(o.borderBottomWidth),b=u+f,F=d+l,v=(r?0:parseFloat(o.borderLeftWidth))+m,W=g+w,y=r?0:t.offsetHeight-W-t.clientHeight,E=r?0:t.offsetWidth-v-t.clientWidth,R=b+v,z=F+W,M=r?t.width:parseFloat(o.width)-R-E,O=r?t.height:parseFloat(o.height)-z-y;if(n.has(t)){var k=n.get(t);if(k[0]===M&&k[1]===O)return}n.set(t,[M,O]);var S=Object.create(h.prototype);S.target=t,S.contentRect=new c(u,d,M,O),s.has(i)||(s.set(i,[]),p.add(i)),s.get(i).push(S)}))})),p.forEach((function(e){i.get(e).call(e,s.get(e),e)}))}return s.prototype.observe=function(i){if(i instanceof window.Element){r.has(i)||(r.set(i,new Set),o.add(i),a.set(i,window.getComputedStyle(i)));var n=r.get(i);n.has(this)||n.add(this),cancelAnimationFrame(t),t=requestAnimationFrame(d)}},s.prototype.unobserve=function(i){if(i instanceof window.Element&&r.has(i)){var n=r.get(i);n.has(this)&&(n.delete(this),n.size||(r.delete(i),o.delete(i))),n.size||r.delete(i),o.size||cancelAnimationFrame(t)}},A.DOMRectReadOnly=c,A.ResizeObserver=s,A.ResizeObserverEntry=h,A}; // eslint-disable-line\n",
       "mpl.toolbar_items = [[\"Home\", \"Reset original view\", \"fa fa-home icon-home\", \"home\"], [\"Back\", \"Back to previous view\", \"fa fa-arrow-left icon-arrow-left\", \"back\"], [\"Forward\", \"Forward to next view\", \"fa fa-arrow-right icon-arrow-right\", \"forward\"], [\"\", \"\", \"\", \"\"], [\"Pan\", \"Left button pans, Right button zooms\\nx/y fixes axis, CTRL fixes aspect\", \"fa fa-arrows icon-move\", \"pan\"], [\"Zoom\", \"Zoom to rectangle\\nx/y fixes axis, CTRL fixes aspect\", \"fa fa-square-o icon-check-empty\", \"zoom\"], [\"\", \"\", \"\", \"\"], [\"Download\", \"Download plot\", \"fa fa-floppy-o icon-save\", \"download\"]];\n",
       "\n",
       "mpl.extensions = [\"eps\", \"jpeg\", \"pgf\", \"pdf\", \"png\", \"ps\", \"raw\", \"svg\", \"tif\"];\n",
       "\n",
       "mpl.default_extension = \"png\";/* global mpl */\n",
       "\n",
       "var comm_websocket_adapter = function (comm) {\n",
       "    // Create a \"websocket\"-like object which calls the given IPython comm\n",
       "    // object with the appropriate methods. Currently this is a non binary\n",
       "    // socket, so there is still some room for performance tuning.\n",
       "    var ws = {};\n",
       "\n",
       "    ws.binaryType = comm.kernel.ws.binaryType;\n",
       "    ws.readyState = comm.kernel.ws.readyState;\n",
       "    function updateReadyState(_event) {\n",
       "        if (comm.kernel.ws) {\n",
       "            ws.readyState = comm.kernel.ws.readyState;\n",
       "        } else {\n",
       "            ws.readyState = 3; // Closed state.\n",
       "        }\n",
       "    }\n",
       "    comm.kernel.ws.addEventListener('open', updateReadyState);\n",
       "    comm.kernel.ws.addEventListener('close', updateReadyState);\n",
       "    comm.kernel.ws.addEventListener('error', updateReadyState);\n",
       "\n",
       "    ws.close = function () {\n",
       "        comm.close();\n",
       "    };\n",
       "    ws.send = function (m) {\n",
       "        //console.log('sending', m);\n",
       "        comm.send(m);\n",
       "    };\n",
       "    // Register the callback with on_msg.\n",
       "    comm.on_msg(function (msg) {\n",
       "        //console.log('receiving', msg['content']['data'], msg);\n",
       "        var data = msg['content']['data'];\n",
       "        if (data['blob'] !== undefined) {\n",
       "            data = {\n",
       "                data: new Blob(msg['buffers'], { type: data['blob'] }),\n",
       "            };\n",
       "        }\n",
       "        // Pass the mpl event to the overridden (by mpl) onmessage function.\n",
       "        ws.onmessage(data);\n",
       "    });\n",
       "    return ws;\n",
       "};\n",
       "\n",
       "mpl.mpl_figure_comm = function (comm, msg) {\n",
       "    // This is the function which gets called when the mpl process\n",
       "    // starts-up an IPython Comm through the \"matplotlib\" channel.\n",
       "\n",
       "    var id = msg.content.data.id;\n",
       "    // Get hold of the div created by the display call when the Comm\n",
       "    // socket was opened in Python.\n",
       "    var element = document.getElementById(id);\n",
       "    var ws_proxy = comm_websocket_adapter(comm);\n",
       "\n",
       "    function ondownload(figure, _format) {\n",
       "        window.open(figure.canvas.toDataURL());\n",
       "    }\n",
       "\n",
       "    var fig = new mpl.figure(id, ws_proxy, ondownload, element);\n",
       "\n",
       "    // Call onopen now - mpl needs it, as it is assuming we've passed it a real\n",
       "    // web socket which is closed, not our websocket->open comm proxy.\n",
       "    ws_proxy.onopen();\n",
       "\n",
       "    fig.parent_element = element;\n",
       "    fig.cell_info = mpl.find_output_cell(\"<div id='\" + id + \"'></div>\");\n",
       "    if (!fig.cell_info) {\n",
       "        console.error('Failed to find cell for figure', id, fig);\n",
       "        return;\n",
       "    }\n",
       "    fig.cell_info[0].output_area.element.on(\n",
       "        'cleared',\n",
       "        { fig: fig },\n",
       "        fig._remove_fig_handler\n",
       "    );\n",
       "};\n",
       "\n",
       "mpl.figure.prototype.handle_close = function (fig, msg) {\n",
       "    var width = fig.canvas.width / fig.ratio;\n",
       "    fig.cell_info[0].output_area.element.off(\n",
       "        'cleared',\n",
       "        fig._remove_fig_handler\n",
       "    );\n",
       "    fig.resizeObserverInstance.unobserve(fig.canvas_div);\n",
       "\n",
       "    // Update the output cell to use the data from the current canvas.\n",
       "    fig.push_to_output();\n",
       "    var dataURL = fig.canvas.toDataURL();\n",
       "    // Re-enable the keyboard manager in IPython - without this line, in FF,\n",
       "    // the notebook keyboard shortcuts fail.\n",
       "    IPython.keyboard_manager.enable();\n",
       "    fig.parent_element.innerHTML =\n",
       "        '<img src=\"' + dataURL + '\" width=\"' + width + '\">';\n",
       "    fig.close_ws(fig, msg);\n",
       "};\n",
       "\n",
       "mpl.figure.prototype.close_ws = function (fig, msg) {\n",
       "    fig.send_message('closing', msg);\n",
       "    // fig.ws.close()\n",
       "};\n",
       "\n",
       "mpl.figure.prototype.push_to_output = function (_remove_interactive) {\n",
       "    // Turn the data on the canvas into data in the output cell.\n",
       "    var width = this.canvas.width / this.ratio;\n",
       "    var dataURL = this.canvas.toDataURL();\n",
       "    this.cell_info[1]['text/html'] =\n",
       "        '<img src=\"' + dataURL + '\" width=\"' + width + '\">';\n",
       "};\n",
       "\n",
       "mpl.figure.prototype.updated_canvas_event = function () {\n",
       "    // Tell IPython that the notebook contents must change.\n",
       "    IPython.notebook.set_dirty(true);\n",
       "    this.send_message('ack', {});\n",
       "    var fig = this;\n",
       "    // Wait a second, then push the new image to the DOM so\n",
       "    // that it is saved nicely (might be nice to debounce this).\n",
       "    setTimeout(function () {\n",
       "        fig.push_to_output();\n",
       "    }, 1000);\n",
       "};\n",
       "\n",
       "mpl.figure.prototype._init_toolbar = function () {\n",
       "    var fig = this;\n",
       "\n",
       "    var toolbar = document.createElement('div');\n",
       "    toolbar.classList = 'btn-toolbar';\n",
       "    this.root.appendChild(toolbar);\n",
       "\n",
       "    function on_click_closure(name) {\n",
       "        return function (_event) {\n",
       "            return fig.toolbar_button_onclick(name);\n",
       "        };\n",
       "    }\n",
       "\n",
       "    function on_mouseover_closure(tooltip) {\n",
       "        return function (event) {\n",
       "            if (!event.currentTarget.disabled) {\n",
       "                return fig.toolbar_button_onmouseover(tooltip);\n",
       "            }\n",
       "        };\n",
       "    }\n",
       "\n",
       "    fig.buttons = {};\n",
       "    var buttonGroup = document.createElement('div');\n",
       "    buttonGroup.classList = 'btn-group';\n",
       "    var button;\n",
       "    for (var toolbar_ind in mpl.toolbar_items) {\n",
       "        var name = mpl.toolbar_items[toolbar_ind][0];\n",
       "        var tooltip = mpl.toolbar_items[toolbar_ind][1];\n",
       "        var image = mpl.toolbar_items[toolbar_ind][2];\n",
       "        var method_name = mpl.toolbar_items[toolbar_ind][3];\n",
       "\n",
       "        if (!name) {\n",
       "            /* Instead of a spacer, we start a new button group. */\n",
       "            if (buttonGroup.hasChildNodes()) {\n",
       "                toolbar.appendChild(buttonGroup);\n",
       "            }\n",
       "            buttonGroup = document.createElement('div');\n",
       "            buttonGroup.classList = 'btn-group';\n",
       "            continue;\n",
       "        }\n",
       "\n",
       "        button = fig.buttons[name] = document.createElement('button');\n",
       "        button.classList = 'btn btn-default';\n",
       "        button.href = '#';\n",
       "        button.title = name;\n",
       "        button.innerHTML = '<i class=\"fa ' + image + ' fa-lg\"></i>';\n",
       "        button.addEventListener('click', on_click_closure(method_name));\n",
       "        button.addEventListener('mouseover', on_mouseover_closure(tooltip));\n",
       "        buttonGroup.appendChild(button);\n",
       "    }\n",
       "\n",
       "    if (buttonGroup.hasChildNodes()) {\n",
       "        toolbar.appendChild(buttonGroup);\n",
       "    }\n",
       "\n",
       "    // Add the status bar.\n",
       "    var status_bar = document.createElement('span');\n",
       "    status_bar.classList = 'mpl-message pull-right';\n",
       "    toolbar.appendChild(status_bar);\n",
       "    this.message = status_bar;\n",
       "\n",
       "    // Add the close button to the window.\n",
       "    var buttongrp = document.createElement('div');\n",
       "    buttongrp.classList = 'btn-group inline pull-right';\n",
       "    button = document.createElement('button');\n",
       "    button.classList = 'btn btn-mini btn-primary';\n",
       "    button.href = '#';\n",
       "    button.title = 'Stop Interaction';\n",
       "    button.innerHTML = '<i class=\"fa fa-power-off icon-remove icon-large\"></i>';\n",
       "    button.addEventListener('click', function (_evt) {\n",
       "        fig.handle_close(fig, {});\n",
       "    });\n",
       "    button.addEventListener(\n",
       "        'mouseover',\n",
       "        on_mouseover_closure('Stop Interaction')\n",
       "    );\n",
       "    buttongrp.appendChild(button);\n",
       "    var titlebar = this.root.querySelector('.ui-dialog-titlebar');\n",
       "    titlebar.insertBefore(buttongrp, titlebar.firstChild);\n",
       "};\n",
       "\n",
       "mpl.figure.prototype._remove_fig_handler = function (event) {\n",
       "    var fig = event.data.fig;\n",
       "    if (event.target !== this) {\n",
       "        // Ignore bubbled events from children.\n",
       "        return;\n",
       "    }\n",
       "    fig.close_ws(fig, {});\n",
       "};\n",
       "\n",
       "mpl.figure.prototype._root_extra_style = function (el) {\n",
       "    el.style.boxSizing = 'content-box'; // override notebook setting of border-box.\n",
       "};\n",
       "\n",
       "mpl.figure.prototype._canvas_extra_style = function (el) {\n",
       "    // this is important to make the div 'focusable\n",
       "    el.setAttribute('tabindex', 0);\n",
       "    // reach out to IPython and tell the keyboard manager to turn it's self\n",
       "    // off when our div gets focus\n",
       "\n",
       "    // location in version 3\n",
       "    if (IPython.notebook.keyboard_manager) {\n",
       "        IPython.notebook.keyboard_manager.register_events(el);\n",
       "    } else {\n",
       "        // location in version 2\n",
       "        IPython.keyboard_manager.register_events(el);\n",
       "    }\n",
       "};\n",
       "\n",
       "mpl.figure.prototype._key_event_extra = function (event, _name) {\n",
       "    var manager = IPython.notebook.keyboard_manager;\n",
       "    if (!manager) {\n",
       "        manager = IPython.keyboard_manager;\n",
       "    }\n",
       "\n",
       "    // Check for shift+enter\n",
       "    if (event.shiftKey && event.which === 13) {\n",
       "        this.canvas_div.blur();\n",
       "        // select the cell after this one\n",
       "        var index = IPython.notebook.find_cell_index(this.cell_info[0]);\n",
       "        IPython.notebook.select(index + 1);\n",
       "    }\n",
       "};\n",
       "\n",
       "mpl.figure.prototype.handle_save = function (fig, _msg) {\n",
       "    fig.ondownload(fig, null);\n",
       "};\n",
       "\n",
       "mpl.find_output_cell = function (html_output) {\n",
       "    // Return the cell and output element which can be found *uniquely* in the notebook.\n",
       "    // Note - this is a bit hacky, but it is done because the \"notebook_saving.Notebook\"\n",
       "    // IPython event is triggered only after the cells have been serialised, which for\n",
       "    // our purposes (turning an active figure into a static one), is too late.\n",
       "    var cells = IPython.notebook.get_cells();\n",
       "    var ncells = cells.length;\n",
       "    for (var i = 0; i < ncells; i++) {\n",
       "        var cell = cells[i];\n",
       "        if (cell.cell_type === 'code') {\n",
       "            for (var j = 0; j < cell.output_area.outputs.length; j++) {\n",
       "                var data = cell.output_area.outputs[j];\n",
       "                if (data.data) {\n",
       "                    // IPython >= 3 moved mimebundle to data attribute of output\n",
       "                    data = data.data;\n",
       "                }\n",
       "                if (data['text/html'] === html_output) {\n",
       "                    return [cell, data, j];\n",
       "                }\n",
       "            }\n",
       "        }\n",
       "    }\n",
       "};\n",
       "\n",
       "// Register the function which deals with the matplotlib target/channel.\n",
       "// The kernel may be null if the page has been refreshed.\n",
       "if (IPython.notebook.kernel !== null) {\n",
       "    IPython.notebook.kernel.comm_manager.register_target(\n",
       "        'matplotlib',\n",
       "        mpl.mpl_figure_comm\n",
       "    );\n",
       "}\n"
      ],
      "text/plain": [
       "<IPython.core.display.Javascript object>"
      ]
     },
     "metadata": {},
     "output_type": "display_data"
    },
    {
     "data": {
      "text/html": [
       "<img src=\"data:image/png;base64,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\" width=\"640\">"
      ],
      "text/plain": [
       "<IPython.core.display.HTML object>"
      ]
     },
     "metadata": {},
     "output_type": "display_data"
    }
   ],
   "source": [
    "def Plot3dim(x,y,z):\n",
    "    \n",
    "    fig = plt.figure()\n",
    "    ax = plt.axes(projection='3d')\n",
    "    ax.plot_trisurf(x, y, z)\n",
    "    ax.axes.set_xlim3d(left=0, right=1) \n",
    "    ax.axes.set_ylim3d(bottom=0, top=1) \n",
    "    ax.axes.set_zlim3d(bottom=0, top=1)\n",
    "    ax.grid(False)\n",
    "    ax.set_title(\"PLOT OF ALLOWED ENTROPIES\")\n",
    "    ax.set_xlabel(r\"$S_{pol}$\")\n",
    "    ax.set_ylabel(r\"$S_{par}$\")\n",
    "    ax.set_zlabel(r\"$S$\")\n",
    "%matplotlib notebook\n",
    "Plot3dim(x,y,z)"
   ]
  },
  {
   "cell_type": "markdown",
   "metadata": {},
   "source": [
    "## 6. Quantum Circuits\n",
    "As one may have already noticed, the behavior of the system here can be accurately modelled using quantum systems where instead of coherence one measures the purity of a state. We make use of the IBM Qiskit libraries to build these experimental setups into their equivalent quantum circuits making use of ancillary qubits to create inherently mixed states. The main idea here is that for experiment A we would only need the two qubits each representing one DoF to model this system and reproduce the results using the appropriate operators.\n",
    "### Interpretation of the model\n",
    "<p>The first qubit (indexed by 0) refers to the polarisation DOF and the second qubit (index 1) refers to the parity DOF for experiment A. For experiment B and C we use an ancilla qubit at the zeroth index instead and these become 1 and 2 respectively. We will take the $|1\\rangle$ state of polarity to mean pure V-polarisation and $|0\\rangle$ state to mean pure H-polarisation. Similarly, we take the $|0\\rangle$ and $|1\\rangle$ states of the parity qubit to mean purely even and purely odd mode, respectively.</p>\n",
    "<table>\n",
    "    <tr><td>Parity-polarisation state</td><td>Qubit configuration</td></tr>\n",
    "    <tr><td>He</td><td>00</td></tr>\n",
    "    <tr><td>Ho</td><td>01</td></tr>\n",
    "    <tr><td>Ve</td><td>10</td></tr>\n",
    "    <tr><td>Vo</td><td>11</td></tr>\n",
    "</table>\n",
    "<p>Further, we will always use any ancilla qubits we need, to replicate the probabilistic devices (like random rotator or probabilistic PS-SLM) to be the initial qubits, the second last qubit will represent polarisation, and the last qubit represents parity.</p>\n",
    "\n",
    "For experiment B one of our state is starting in an impure form, something which cannot be reached if one were to only apply unitary transformations. Here we make use of an ancillary qubit which is coupled with the rest of the two qubits and hence is in a way storing the coherence we wished to get rid off as part of it's coupling. The main idea of this paper was that partial trace matrices do not give us the complete picture of the system which we can demonstrate very simply just by using a bell state (a pure state) and noting that it's partial traces are actually representative of impure states.\n",
    "\n",
    "The purpose of this section is to demonstrate a simulation which is based in quantum mechanics which reproduces the results of classical coherence obtained in this paper.\n",
    "\n",
    "A small point to add is that in qiskit the representation is not with zeroth qubit being MSB and last qubit being LSB but the other way round. In experiment A for example $q_0$ is the polarization qubit and $q_1$ is the parity qubit and so Ho is actually 10 and Ve is 01 and so on."
   ]
  },
  {
   "cell_type": "code",
   "execution_count": 49,
   "metadata": {},
   "outputs": [],
   "source": [
    "#Defining the operations on the circuit\n",
    "simulator = Aer.get_backend('statevector_simulator') #Using statevector simulator\n",
    "%matplotlib inline\n",
    "\n",
    "def SLM(phi,qc,ancilla_used = 0):\n",
    "    qc.rx(-phi,ancilla_used+1)\n",
    "    return\n",
    "#For HWP, by observing the 2x2 matrix, we see that the operator looks like Ry(theta)*sigma_Z \n",
    "def HWP(theta,qc,ancilla_used = 0):\n",
    "    qc.z(ancilla_used)\n",
    "    qc.ry(theta,ancilla_used)\n",
    "    return\n",
    "\n",
    "#for PS-SLM, we want the H-polarisation to induce an SLM action, but not V. So, if polarisation qubit is 0 (H), we want the\n",
    "#controlled gate to fire. So we first invert (NOT or X gate) the control bit, use a usual controlled gate, then invert it \n",
    "#again.\n",
    "def PSSLM(phi,qc,ancilla_used=0):\n",
    "    qc.x(ancilla_used)\n",
    "    qc.crx(-phi,ancilla_used,ancilla_used+1) #angle,control,target\n",
    "    qc.x(ancilla_used)\n",
    "    return\n",
    "\n",
    "def corr_circ(qc):\n",
    "    result = execute(qc, simulator).result()\n",
    "    statevector = result.get_statevector(qc)\n",
    "    corr = 0\n",
    "    if len(statevector) is 4:\n",
    "        corr = 2*(np.absolute(statevector[0]**2) + np.absolute(statevector[3]**2)) - 1\n",
    "    if len(statevector) is 8:\n",
    "        corr = (np.absolute(statevector[0]**2) + np.absolute(statevector[1]**2) + np.absolute(statevector[6]**2) + np.absolute(statevector[7]**2)) - (np.absolute(statevector[2]**2) + np.absolute(statevector[3]**2) + np.absolute(statevector[4]**2) + np.absolute(statevector[5]**2))\n",
    "    return corr"
   ]
  },
  {
   "cell_type": "markdown",
   "metadata": {},
   "source": [
    "### 6.1 Experiment A\n",
    "For this experiment we take $q_0$ as the polarization DoF and $q_1$ as the parity DoF. Based on the matrix forms of the experimental apparatus we can see that applying an HWP is analogous to a $R_y(\\theta)Z$ on $q_0$ and the SLM is $R_x(-\\phi)$ and the PSSLM is just the SLM as a controlled operation except that it activates for $q_0$ being in 0 instead of 1 so we just apply a NOT on that bit before and after the controlled gate. The measurement done in the end uses the statevector simulator of qiskit to directly calculate probabilities based on the state of the system. While running multiple shots using one of the real quantum computers one can access using IBM-Q would have been more impressive, those will come with heavy noise outputs would require additional noise and error mitigation procedures."
   ]
  },
  {
   "cell_type": "code",
   "execution_count": 50,
   "metadata": {},
   "outputs": [
    {
     "data": {
      "image/png": "[encoded data removed]",
      "text/plain": [
       "<Figure size 840.392x204.68 with 1 Axes>"
      ]
     },
     "execution_count": 50,
     "metadata": {},
     "output_type": "execute_result"
    }
   ],
   "source": [
    "#Quantum Circuit Diagram for A\n",
    "qcA = QuantumCircuit(2,2)\n",
    "qcA.h(0)\n",
    "qcA.barrier() #initialisation complete, 45 degre linearly polarised even mode\n",
    "PSSLM(np.pi/2,qcA) #no ancilla\n",
    "qcA.barrier() #beam is coupled, now on to analysis stage\n",
    "HWP(np.pi/4,qcA)\n",
    "SLM(np.pi/6,qcA)\n",
    "qcA.barrier()#Analysis stage complete. Now, measurement stage\n",
    "qcA.measure(0,0)\n",
    "qcA.measure(1,1)\n",
    "qcA.draw('mpl')#replace 'mpl' argument with 'text' if not running on your device"
   ]
  },
  {
   "cell_type": "code",
   "execution_count": 51,
   "metadata": {},
   "outputs": [],
   "source": [
    "def CA(theta_a,phi_a,phi):\n",
    "    qcA=QuantumCircuit(2,2)\n",
    "    qcA.h(0)\n",
    "    qcA.barrier() #initialisation complete, 45 degre linearly polarised even mode\n",
    "    PSSLM(phi,qcA) #no ancilla\n",
    "    qcA.barrier() #beam is coupled, now on to analysis stage\n",
    "    HWP(theta_a,qcA)\n",
    "    SLM(phi_a,qcA)\n",
    "    corr = corr_circ(qcA)\n",
    "    return corr"
   ]
  },
  {
   "cell_type": "code",
   "execution_count": 52,
   "metadata": {},
   "outputs": [
    {
     "data": {
      "application/vnd.jupyter.widget-view+json": {
       "model_id": "be8d954fbc9c4840a8b14434a6ec400a",
       "version_major": 2,
       "version_minor": 0
      },
      "text/plain": [
       "interactive(children=(FloatSlider(value=1.5707963267948966, continuous_update=False, description='phi_A', layo…"
      ]
     },
     "metadata": {},
     "output_type": "display_data"
    }
   ],
   "source": [
    "def CP_A(phi_A):\n",
    "    phi_fixed = phi_A\n",
    "    points = 50\n",
    "    ta_range = np.linspace(0,2*np.pi,points)\n",
    "    pa_range = np.linspace(0,2*np.pi,points)\n",
    "    X,Y = np.meshgrid(ta_range, pa_range)\n",
    "    Z = [[0 for i in range(50)] for j in range(50)]\n",
    "    for i in range(len(Y)):\n",
    "        for j in range(len(X)):\n",
    "            Z[i][j] = CA(ta_range[j],pa_range[i],phi_fixed)\n",
    "    fig, ax = plt.subplots(figsize=(7,5.7))\n",
    "    cp = ax.contourf(X, Y, Z ,cmap='turbo');\n",
    "    fig.colorbar(cp) # Add a colorbar to a plot\n",
    "    plt.xlim(0,2*np.pi)\n",
    "    plt.ylim(0,2*np.pi)\n",
    "    ax.axis('equal')\n",
    "    return\n",
    "interact(CP_A, phi_A=widgets.FloatSlider(min=0, max=2*np.pi, step=0.01, value=np.pi/2, continuous_update=False, layout=Layout(width='600px')));"
   ]
  },
  {
   "cell_type": "markdown",
   "metadata": {},
   "source": [
    "As we can see above we have succesfully recreated the same results using abstract qubits."
   ]
  },
  {
   "cell_type": "markdown",
   "metadata": {},
   "source": [
    "### 6.2 Experiment B\n",
    "Here in the experiment a random rotator is used to generate what would be measured as unpolarized light. As stated before the coherence of a the DoFs are analogous to a qubit being in a mixed or pure state. Since we are working with idealized qubits the state of the system will always remain pure however if one were to look into just the hilbert space of few of the qubits but not all we would have it perceived as an impure state. Here unpolarized light would have a coherency (density) matrix which is diagonal with both entries equal to 1/2. This is a completely mixed state and we can generate this by looking at the partial trace of a qubit which is paired with another qubit as the bell state $\\dfrac{|00\\rangle + |11\\rangle}{\\sqrt{2}}$. Hence we make use of $q_0$ as an ancillary qubit which is present as a bell pair with $q_1$ which is now the polarization qubit. $q_2$ is the parity qubit. As we can see since we do not measure the $q_0$ qubit we would actually see $q_1$ behave like a mixed state which is what the random rotator actually achieves. More specifically the bell state we have described has half probability for any state on the XZ plane of the bloch sphere and since the random rotator is a $R_yZ$ operation the system as a whole is essentially composed of all states on the XZ plane which would be described by observing one qubit out of this bell pair."
   ]
  },
  {
   "cell_type": "code",
   "execution_count": 53,
   "metadata": {},
   "outputs": [
    {
     "data": {
      "image/png": "[encoded data removed]",
      "text/plain": [
       "<Figure size 900.592x264.88 with 1 Axes>"
      ]
     },
     "execution_count": 53,
     "metadata": {},
     "output_type": "execute_result"
    }
   ],
   "source": [
    "#Quantum Circuit Diagram for B\n",
    "qc_B = QuantumCircuit(3,2)\n",
    "qc_B.h(0)\n",
    "qc_B.cx(0,1)\n",
    "qc_B.barrier() #initialisation complete as unpolarized light\n",
    "PSSLM(np.pi/2,qc_B,1)\n",
    "qc_B.barrier() #beam is coupled, now on to analysis stage\n",
    "HWP(np.pi/4,qc_B,1)\n",
    "SLM(np.pi/6,qc_B,1)\n",
    "qc_B.barrier()#Analysis stage complete. Now, measurement stage\n",
    "qc_B.measure(1,0)\n",
    "qc_B.measure(2,1)\n",
    "qc_B.draw('mpl')#replace 'mpl' argument with 'text' if not running on your device"
   ]
  },
  {
   "cell_type": "code",
   "execution_count": 54,
   "metadata": {},
   "outputs": [],
   "source": [
    "#Experiment C\n",
    "def CB(theta_a,phi_a,phi):\n",
    "    #Quantum Circuit Diagram for A\n",
    "    qc_B = QuantumCircuit(3)\n",
    "    qc_B.h(0)\n",
    "    qc_B.cx(0,1)\n",
    "    qc_B.barrier() #initialisation complete as unpolarized light\n",
    "    PSSLM(phi,qc_B,1)\n",
    "    qc_B.barrier() #beam is coupled, now on to analysis stage\n",
    "    HWP(theta_a,qc_B,1)\n",
    "    SLM(phi_a,qc_B,1)\n",
    "    qc_B.barrier()#Analysis stage complete.\n",
    "    return corr_circ(qc_B)"
   ]
  },
  {
   "cell_type": "code",
   "execution_count": 55,
   "metadata": {},
   "outputs": [
    {
     "data": {
      "application/vnd.jupyter.widget-view+json": {
       "model_id": "74d69e9a0cae4e92a3ae2ffaf9ea55cf",
       "version_major": 2,
       "version_minor": 0
      },
      "text/plain": [
       "interactive(children=(FloatSlider(value=3.141592653589793, continuous_update=False, description='phi_B', layou…"
      ]
     },
     "metadata": {},
     "output_type": "display_data"
    }
   ],
   "source": [
    "#This cell takes time to run\n",
    "def CP_B(phi_B):\n",
    "    phi_fixed = phi_B\n",
    "    points = 50\n",
    "    ta_range = np.linspace(0,2*np.pi,points)\n",
    "    pa_range = np.linspace(0,2*np.pi,points)\n",
    "    X,Y = np.meshgrid(ta_range, pa_range)\n",
    "    Z = [[0 for i in range(50)] for j in range(50)]\n",
    "    for i in range(len(Y)):\n",
    "        for j in range(len(X)):\n",
    "            Z[i][j] = CB(ta_range[j],pa_range[i],phi_fixed)\n",
    "    fig, ax = plt.subplots(figsize=(7,5.7))\n",
    "    cp = ax.contourf(X, Y, Z ,cmap='turbo');\n",
    "    fig.colorbar(cp) # Add a colorbar to a plot\n",
    "    plt.xlim(0,2*np.pi)\n",
    "    plt.ylim(0,2*np.pi)\n",
    "    ax.axis('equal')\n",
    "    return\n",
    "interact(CP_B, phi_B=widgets.FloatSlider(min=0, max=2*np.pi, step=0.01, value=np.pi, continuous_update=False, layout=Layout(width='600px')));"
   ]
  },
  {
   "cell_type": "markdown",
   "metadata": {},
   "source": [
    "As we can see above we have again been able to reproduce results exactly from those we obtained previously and that of the paper for the correlation function."
   ]
  },
  {
   "cell_type": "markdown",
   "metadata": {},
   "source": [
    "### 6.3 Experiment C\n",
    "In experiment C the paper randomly chooses to either couple the DoFs or not with probability of $P$ and $1-P$ respectively. To recreate this I again make use of an ancillary qubit $q_0$ similar to section [6.2](#6.2-Experiment-B). The idea is to create this in the state $\\sqrt{1-P}|0\\rangle + \\sqrt{P}|1\\rangle$ and use a controlled-Rx gate with angle $-\\pi$ with $q_0$ and $q_1$ (polarization) as control bits where polarization needs to be 0 and ancilla needs to be 1 to activate this rotation. The circuit used decomposes the two control gate using the standard procedure for decomposing two control single target qubit gates if the single control gate is available."
   ]
  },
  {
   "cell_type": "code",
   "execution_count": 56,
   "metadata": {},
   "outputs": [
    {
     "data": {
      "image/png": "[encoded data removed]",
      "text/plain": [
       "<Figure size 1081.19x264.88 with 1 Axes>"
      ]
     },
     "execution_count": 56,
     "metadata": {},
     "output_type": "execute_result"
    }
   ],
   "source": [
    "qc_C = QuantumCircuit(3,2)\n",
    "P = 0.5\n",
    "qc_C.ry(2*np.arccos(np.sqrt(1-P)),0)#Preparing the probability qubit\n",
    "qc_C.h(1)\n",
    "qc_C.barrier()\n",
    "#Do a controlled Rx(-pi) gate with two controls\n",
    "qc_C.x(1)\n",
    "qc_C.crx(-np.pi/2,1,2)\n",
    "qc_C.cx(0,1)\n",
    "qc_C.crx(np.pi/2,1,2)\n",
    "qc_C.cx(0,1)\n",
    "qc_C.crx(-np.pi/2,0,2)\n",
    "qc_C.x(1)\n",
    "qc_C.barrier()\n",
    "#Analysis stage now\n",
    "HWP(np.pi/6,qc_C,1)\n",
    "SLM(np.pi/3,qc_C,1)\n",
    "qc_C.barrier()\n",
    "qc_C.measure(1,0)\n",
    "qc_C.measure(2,1)\n",
    "qc_C.draw('mpl')#replace 'mpl' argument with 'text' if not running on your device"
   ]
  },
  {
   "cell_type": "code",
   "execution_count": 57,
   "metadata": {},
   "outputs": [],
   "source": [
    "#Experiment C\n",
    "def CC(P,theta_a,phi_a):\n",
    "    qc_C = QuantumCircuit(3)\n",
    "    qc_C.ry(2*np.arccos(np.sqrt(1-P)),0)#Preparing the probability qubit\n",
    "    qc_C.h(1)\n",
    "    qc_C.barrier()\n",
    "    #Do a controlled y gate with two controls\n",
    "    qc_C.x(1)\n",
    "    qc_C.crx(-np.pi/2,1,2)\n",
    "    qc_C.cx(0,1)\n",
    "    qc_C.crx(np.pi/2,1,2)\n",
    "    qc_C.cx(0,1)\n",
    "    qc_C.crx(-np.pi/2,0,2)\n",
    "    qc_C.x(1)\n",
    "    qc_C.barrier()\n",
    "    #Analysis stage now\n",
    "    HWP(theta_a,qc_C,1)\n",
    "    SLM(phi_a,qc_C,1)\n",
    "    return corr_circ(qc_C)"
   ]
  },
  {
   "cell_type": "code",
   "execution_count": 58,
   "metadata": {},
   "outputs": [
    {
     "data": {
      "application/vnd.jupyter.widget-view+json": {
       "model_id": "b6bbdd0291f44019a553fdc886f322cf",
       "version_major": 2,
       "version_minor": 0
      },
      "text/plain": [
       "interactive(children=(FloatSlider(value=0.5, continuous_update=False, description='P_var', layout=Layout(width…"
      ]
     },
     "metadata": {},
     "output_type": "display_data"
    }
   ],
   "source": [
    "def CP_C(P_var):\n",
    "    P_fixed = P_var\n",
    "    points = 50\n",
    "    ta_range = np.linspace(0,2*np.pi,points)\n",
    "    pa_range = np.linspace(0,2*np.pi,points)\n",
    "    X,Y = np.meshgrid(ta_range, pa_range)\n",
    "    Z = [[0 for i in range(50)] for j in range(50)]\n",
    "    for i in range(len(Y)):\n",
    "        for j in range(len(X)):\n",
    "            Z[i][j] = CC(P_fixed,ta_range[j],pa_range[i])\n",
    "    fig, ax = plt.subplots(figsize=(7,5.7))\n",
    "    cp = ax.contourf(X, Y, Z ,cmap='turbo');\n",
    "    fig.colorbar(cp) # Add a colorbar to a plot\n",
    "    plt.xlim(0,2*np.pi)\n",
    "    plt.ylim(0,2*np.pi)\n",
    "    ax.axis('equal')\n",
    "interact(CP_C, P_var=widgets.FloatSlider(min=0, max=1, step=0.01, value=0.5, continuous_update=False, layout=Layout(width='600px')));"
   ]
  },
  {
   "cell_type": "markdown",
   "metadata": {},
   "source": [
    "As we can see above this also faithfully reproduces the required results for the correlation function.\n",
    "\n",
    "### Universality using optical components\n",
    "Our main reference for this is [[3](#ref-3)]. To fully realize quantum computing (or any form of computing) one needs a physical system capable of producing the minimal set of operations which can then be extended to a set of all possible operations and sequences of operations. In classical computers the complete set is realized using the set of operations $\\{\\lnot,\\land\\}$ or $\\{\\lnot,\\lor\\}$. For quantum computers universality would imply being able to make any circuit which essentially means the set of all unitary matrices. This of course is non inclusive of measurements (which will not keep a circuit unitary) but one can prove that measurements placed in the middle of a cicuit can be taken to the very end without affecting the final measurement probabilities (since once measured any qubit is essentially decohered and cannot be part of the circuit anyway). \n",
    "\n",
    "To get the complete set of unitary matrices we can first start for the case of a single qubit. This set would essentially be the $SU(2)$ group which is isomorphic to $SO(3)$ and given that we have an $R_x(\\theta)$ gate in form of the SLM we actually just need rotation about some other axis to achieve single qubit universality for parity. The polarization qubit does have a $R_y(\\theta)Z$ qubit which can be used to get the hadamard gate $H$ with $\\theta = \\pi/2$ and in combination with a quarter wave plate with fast axis horizontal which is effectively the square root of $Z$ denoted with an $S$ (ignoring global phase) we can actually make the HWP just be a pure $R_y(\\theta)$. Additionally using $\\theta=\\pi$ we can make this into an $X$ gate ignoring global phase. The importance of this $X$ gate is that if we apply the gate sequence $X$-PSSLM-$X$ it is effectively a PSSLM which applies the operation of the SLM when the polarization is vertical which transalates exactly into a controlled $R_x(\\phi)$ operation which we will use in our analysis below. \n",
    "\n",
    "The PS-SLM is an operator which controls the parity using the polarity and is essentially a controlled Rx gate and so can be made into a CNOT gate which adds an additional phase of $\\iota$ to the horizontal polarization component. To make the CNOT of the other way we can try for the MZI configuration proposed [here](#Proposal-for-a-Parity-Sensitive-Polarisation-Modifier). The point here is that once we have these two CNOTS, we can essentially get universal unitaries by swapping the polarization (see cells below) and parity qubit in such a way that we can apply an Rx gate followed by Ry and then another Rx with the appropriate euler angles and we can attain individual qubit universalities of $U3$ gates.\n",
    "\n",
    "The exact CNOT operation where polarization is control and parity is target involves making use of a quarter wave plate which has the operator form of $e^{-\\iota\\pi/4}\\begin{pmatrix}1 & 0\\\\0 & \\iota\\end{pmatrix}$ on the polarization qubit so that we can induce a relative phase between H and V of polarization. \n",
    "\n",
    "Now for getting overall universality we just need the CNOT gates of both ways and since we already have that using the PSSLM and the MZI setup described previously we actually have a universal quantum computer of two qubits.\n",
    "\n",
    "A small note to be made is that the U3 gates have unique euler angles upto a global phase being ignored. Now we have established that global phase is useless here for a 1 qubit case but with two qubits a controlled-$U$ gate has importance on global phase of $U$. To tackle this we can simply make use of the decomposition of $U$ such that first a controlled $\\tilde{U}$ where $\\tilde{U}$ can be written as just the rotations ($R_y(\\theta_3)R_x(\\theta_2)R_y(\\theta_1)$ or $R_x(\\theta_3)R_y(\\theta_2)R_x(\\theta_1)$ depending on the qubit) ignoring the global phase and say $U=e^{\\iota\\alpha}\\tilde{U}$ we simply apply the gate equivalent to $R_z(\\alpha/2)$ to the control qubit. While applying this $z$ rotation we just introduce a relative phase of $\\alpha$ between the $|0\\rangle$ and $|1\\rangle$ of the control qubit which is equivalent to a controlled $U$ if done after the controlled $\\tilde{U}$. Note that global phase of this last gate does not concern us since that is global for both qubits unlike a controlled gate. "
   ]
  },
  {
   "cell_type": "code",
   "execution_count": 59,
   "metadata": {},
   "outputs": [
    {
     "name": "stdout",
     "output_type": "stream",
     "text": [
      "[[1.+0.000000e+00j 0.+0.000000e+00j 0.+0.000000e+00j 0.+0.000000e+00j]\n",
      " [0.+0.000000e+00j 0.+0.000000e+00j 0.+0.000000e+00j 1.-6.123234e-17j]\n",
      " [0.+0.000000e+00j 0.+0.000000e+00j 1.+0.000000e+00j 0.+0.000000e+00j]\n",
      " [0.+0.000000e+00j 1.+6.123234e-17j 0.+0.000000e+00j 0.+0.000000e+00j]]\n",
      "               ┌───┐\n",
      "q_0: ────■─────┤ S ├\n",
      "     ┌───┴────┐└───┘\n",
      "q_1: ┤ RX(pi) ├─────\n",
      "     └────────┘     \n"
     ]
    }
   ],
   "source": [
    "import qiskit.quantum_info as qi\n",
    "#CNOT\n",
    "qc_cn = QuantumCircuit(2)\n",
    "qc_cn.crx(np.pi,0,1)#PSSLM\n",
    "qc_cn.s(0)\n",
    "print((qi.Operator(qc_cn).data))\n",
    "print(qc_cn.draw())"
   ]
  },
  {
   "cell_type": "markdown",
   "metadata": {},
   "source": [
    "As we can see above as per the matrix form of the operation the circuit has done, this achieves the CNOT gate which we desire and below we show how make this into a swap gate."
   ]
  },
  {
   "cell_type": "code",
   "execution_count": 60,
   "metadata": {},
   "outputs": [
    {
     "name": "stdout",
     "output_type": "stream",
     "text": [
      "[[1.+0.000000e+00j 0.+0.000000e+00j 0.+0.000000e+00j 0.+0.000000e+00j]\n",
      " [0.+0.000000e+00j 0.+0.000000e+00j 1.-6.123234e-17j 0.+0.000000e+00j]\n",
      " [0.+0.000000e+00j 1.+6.123234e-17j 0.+0.000000e+00j 0.+0.000000e+00j]\n",
      " [0.+0.000000e+00j 0.+0.000000e+00j 0.+0.000000e+00j 1.+0.000000e+00j]]\n",
      "               ┌───┐┌───┐          ┌───┐\n",
      "q_0: ────■─────┤ S ├┤ X ├────■─────┤ S ├\n",
      "     ┌───┴────┐└───┘└─┬─┘┌───┴────┐└───┘\n",
      "q_1: ┤ RX(pi) ├───────■──┤ RX(pi) ├─────\n",
      "     └────────┘          └────────┘     \n"
     ]
    }
   ],
   "source": [
    "import qiskit.quantum_info as qi\n",
    "#Swap gate\n",
    "qc_sw = QuantumCircuit(2)\n",
    "qc_sw.crx(np.pi,0,1)#PSSLM\n",
    "qc_sw.s(0)#QWP\n",
    "qc_sw.cx(1,0)\n",
    "qc_sw.crx(np.pi,0,1)#PSSLM\n",
    "qc_sw.s(0)#QWP\n",
    "#Swapping complete\n",
    "print((qi.Operator(qc_sw).data))#See the operator as a matrix\n",
    "print(qc_sw.draw())"
   ]
  },
  {
   "cell_type": "markdown",
   "metadata": {},
   "source": [
    "As we can see above that this achieves the same unitary that a swap gate would. Since we have shown that polarization is capable of arbitray $R_x$ rotations and parity qubits are capable of arbitrary $R_y$ rotations we can follow the following sequence of steps for U3 gates on polarization as shown below. We take the euler angles for $Y-X-Y$ and first apply $R_y$ on polarization, swap with parity and apply a $R_x$ on parity after that. Finally swap again and do the final $R_y$ on the polarization qubit. We follow a similar procedure for parity U3 gates but instead use euler angles of $X-Y-X$."
   ]
  },
  {
   "cell_type": "code",
   "execution_count": 61,
   "metadata": {},
   "outputs": [
    {
     "data": {
      "image/png": "[encoded data removed]",
      "text/plain": [
       "<Figure size 1201.59x144.48 with 1 Axes>"
      ]
     },
     "execution_count": 61,
     "metadata": {},
     "output_type": "execute_result"
    }
   ],
   "source": [
    "#For doing arbitrary rotations on the polarization qubit\n",
    "qc_uq1 = QuantumCircuit(2)\n",
    "eul1 = np.pi/2\n",
    "eul2 = np.pi/3\n",
    "eul3 = np.pi\n",
    "qc_uq1.ry(eul1,0) #HWP combined with QWP\n",
    "qc_uq1.barrier()\n",
    "qc_uq1.crx(np.pi,0,1)#PSSLM\n",
    "qc_uq1.s(0)#QWP\n",
    "qc_uq1.cx(1,0)\n",
    "qc_uq1.crx(np.pi,0,1)#PSSLM\n",
    "qc_uq1.s(0)#QWP\n",
    "#Swapping complete\n",
    "qc_uq1.barrier()\n",
    "qc_uq1.rx(eul2,1) #SLM\n",
    "qc_uq1.barrier()\n",
    "qc_uq1.crx(np.pi,0,1)#PSSLM\n",
    "qc_uq1.s(0)#QWP\n",
    "qc_uq1.cx(1,0)\n",
    "qc_uq1.crx(np.pi,0,1)#PSSLM\n",
    "qc_uq1.s(0)#QWP\n",
    "#Swapping complete\n",
    "qc_uq1.barrier()\n",
    "qc_uq1.ry(eul3,0) #HWP combined with QWP\n",
    "qc_uq1.draw('mpl')#replace 'mpl' argument with 'text' if not running on your device"
   ]
  },
  {
   "cell_type": "code",
   "execution_count": 62,
   "metadata": {},
   "outputs": [
    {
     "data": {
      "image/png": "[encoded data removed]",
      "text/plain": [
       "<Figure size 1201.59x144.48 with 1 Axes>"
      ]
     },
     "execution_count": 62,
     "metadata": {},
     "output_type": "execute_result"
    }
   ],
   "source": [
    "#For doing arbitrary rotations on the parity qubit\n",
    "qc_uq2 = QuantumCircuit(2)\n",
    "eul1 = np.pi/2\n",
    "eul2 = np.pi/3\n",
    "eul3 = np.pi\n",
    "qc_uq2.rx(eul1,1) #HWP combined with QWP\n",
    "qc_uq2.barrier()\n",
    "qc_uq2.crx(np.pi,0,1)#PSSLM\n",
    "qc_uq2.s(0)#QWP\n",
    "qc_uq2.cx(1,0)\n",
    "qc_uq2.crx(np.pi,0,1)#PSSLM\n",
    "qc_uq2.s(0)#QWP\n",
    "#Swapping complete\n",
    "qc_uq2.barrier()\n",
    "qc_uq2.ry(eul2,0)\n",
    "qc_uq2.barrier()\n",
    "qc_uq2.crx(np.pi,0,1)#PSSLM\n",
    "qc_uq2.s(0)#QWP\n",
    "qc_uq2.cx(1,0)\n",
    "qc_uq2.crx(np.pi,0,1)#PSSLM\n",
    "qc_uq2.s(0)#QWP\n",
    "#Swapping complete\n",
    "qc_uq2.barrier()\n",
    "qc_uq2.rx(eul3,1) #HWP combined with QWP\n",
    "qc_uq2.draw('mpl')#replace 'mpl' argument with 'text' if not running on your device"
   ]
  },
  {
   "cell_type": "markdown",
   "metadata": {},
   "source": [
    "We must note that in the above schemes for U3 gates the other qubit over which the middle rotation is done actually unchanged due to the two swaps and there is no entaglement involved. Hence we have demonstrated a recipe for arbitrary U3 gates on both qubits and we also showed CNOT execution giving us a universal set for any unitary circuit on these two qubits."
   ]
  },
  {
   "cell_type": "markdown",
   "metadata": {},
   "source": [
    "## 7. Concluding Remarks\n",
    "The exceeding of $B_\\text{max}$ beyond the value of 2 in quantum mechanics implied that one cannot use locally deterministic hidden variable theories to explain quantum mechanics or simply put proves that quantum mechanics violates local realism. Here we have seen that $B_\\text{max}$ exceeds this classical limit and one can conclude equivalently that one cannot write the correlation function as some $C(\\theta_a,\\phi_a) = \\int d\\lambda\\rho(\\lambda)C_\\text{pol}(\\theta_a,\\lambda)C_\\text{par}(\\phi_a,\\lambda)$ where $\\lambda$ is some set of hidden variables. The proper proof of this is described in [Appendix A](#Appendix-A:-The-EPR-paradox-and-Bell's-inequalities) and the experimental results concur with this. \n",
    "\n",
    "In a way this shows that if one were to have two DoFs, there would be an uncertainty which arises due their coupling which is quantised by using the Bell's measure. These results would hold good regardless of the type of DoF used and can be extended to systems with a higher number of DoFs too. We also explored how one can link this with quantum systems and reproduced the results using a quantum computer simulation of IBM Q.\n",
    "\n",
    "More importantly one must take note of how looking at the coherency behaviors of the individual DoFs would not address the actual coherence it had since some of it would be 'shared' in form of coupling. In short the partial traces of coherency matrices offer an incomplete picture of the system quite similar to how one would deal with multi qubit systems and have the state behave mixed when only looking at the partial trace over a part of the Hilber space. We even took advantage of this incomplete picture to create mixed states in the previous section. This also demonstrates how one could effectively share coherence between two DoFs as seen in experiment B where the coherency $S_\\text{pol}$ of the polarization qubit is effectively increased at maximal entaglement with the fully coherent parity DoF. An important consequence of the swap gate we made use of in proving universality is that one can essentially \"exchange\" coherence between two DoFs which is a very interesting consequence."
   ]
  },
  {
   "cell_type": "markdown",
   "metadata": {},
   "source": [
    "## Appendix A: The EPR paradox and Bell's inequalities\n",
    "\n",
    "Before talking about the bell's measure let us first dive into why it was made and for this we must look at the EPR experiment proposed in [[4](#ref-4)]. I will discuss Bohm's variant since Bell's response was made in a way to that. Say we have prepared a electron-positron pair coming from a single source. These would be entangled in a way where if we measure the spin of one of the particles, the other particle will simultaneously collapse to the opposite spin.\n",
    "$$|{\\psi}\\rangle = \\dfrac{|{\\uparrow_e\\downarrow_p}\\rangle + |{\\downarrow_e\\uparrow_p}\\rangle}{\\sqrt{2}}$$\n",
    "So the main issue which Einstein had was that this means that measurement on one particle directly affects the other no matter how far it is. This makes it a non local effect which clearly does not make sense in a world which was believed to follow local realism. It can be proven that the two agents have no way to communicate using this pair hence showing that there actually is no faster than light comminication. While one may think choosing basis in a certain manner can change measurement probabilities and essentially have some \"information\" change, no matter how much measurements are done, since this is probabilistic the other agent cannot conclude anything from that.\n",
    "   \n",
    "\n",
    "While there have been multiple responses to this, the most important one is the one discussed in Bell's paper [[5](#ref-5)].\n",
    "First we will start by considering the EPR argument using spin particles. Consider a pair of spin one-half particles formed somehow in the singlet spin state and moving freely in opposite directions. Measurements can be made, say by Stern-Gerlach magnets, on selected components of the spins $\\vec{\\sigma_1}$ and $\\vec{\\sigma_2}$,\n",
    "If measurement of the component $\\vec{\\sigma_1}\\cdot{a}$, where $a$ is some unit vector, yields the value +1 then, according to quantum mechanics, measurement of $\\vec{\\sigma_2}\\cdot{a}$ must yield the value -1 and vice versa.\n",
    "We now define some set of parameters $\\lambda$ which is taken as continuous which give us a complete description of the state. The result $A$ of measuring $\\vec{\\sigma_1}\\cdot{a}$ is then determined by $a$ and $\\lambda$, and the result $B$ of measuring $\\vec{\\sigma_2}\\cdot{b}$ in the\n",
    "same instance is determined by $b$ and $\\lambda$.\n",
    "\\begin{equation}\\label{eq:1A}\\tag{1A}A(\\vec{a},\\lambda) = \\pm 1, B(\\vec{b},\\lambda) = \\pm 1 \\end{equation}\n",
    "We now take $\\rho(\\lambda)$ as the probability distribution of $\\lambda$ and we will now try to find the expectation value of of the product of the two components $\\vec{\\sigma_1}\\cdot{a}$ and $\\vec{\\sigma_2}\\cdot{b}$.\n",
    "\\begin{equation}\\label{eq:2A}\\tag{2A}P(\\vec{a}\\vec{b}) = \\int{d\\lambda}\\rho(\\lambda)A(\\vec{a},\\lambda)B(\\vec{b},\\lambda)\\end{equation}\n",
    "The quantum mechanical expectation value of this is the following\n",
    "\\begin{equation}\\label{eq:3A}\\tag{3A}\\langle\\vec{\\sigma_1}\\cdot{a}\\vec{\\sigma_2}\\cdot{b}\\rangle = - \\vec{a}\\cdot\\vec{b}\\end{equation}\n",
    "However it turns out that eq: \\ref{eq:2A} doesn't give us the same result as \\ref{eq:3A}. So first off we know that we have a normalized distribution.\n",
    "\\begin{equation}\\label{eq:4A}\\tag{4A}\\int{d\\lambda}\\rho(\\lambda) = 1\\end{equation}\n",
    "if we take $\\vec{a} = \\vec{b}$ the $P$ in eq: \\ref{eq:2A} can reach -1.\n",
    "\\begin{equation}\\label{eq:5A}\\tag{5A}A(\\vec{a},\\lambda) = -B(\\vec{a},\\lambda)\\end{equation}\n",
    "Knowing this we can rewrite eq: \\ref{eq:2A} into the following\n",
    "\\begin{equation}\\label{eq:6A}\\tag{6A}P(\\vec{a}\\vec{b}) = -\\int{d\\lambda}\\rho(\\lambda)A(\\vec{a},\\lambda)A(\\vec{b},\\lambda)\\end{equation}\n",
    "\\begin{equation}\\label{eq:7A}\\tag{7A}P(\\vec{a},\\vec{b}) - P(\\vec{a},\\vec{c}) = \\int{d\\lambda}\\rho(\\lambda)[1-A(\\vec{b},\\lambda)A(\\vec{c},\\lambda)]\\end{equation}\n",
    "from eq: \\ref{eq:1A} we can write this\n",
    "\\begin{equation}\\label{eq:8A}\\tag{8A}|P(\\vec{a},\\vec{b}) - P(\\vec{a},\\vec{c})| \\leq \\int{d\\lambda}\\rho(\\lambda)A(\\vec{a},\\lambda)A(\\vec{b},\\lambda)[A(\\vec{b},\\lambda)A(\\vec{c},\\lambda) - 1]\\end{equation}\n",
    "The second term on the right is just $P(\\vec{b},\\vec{c})$ so we get\n",
    "\\begin{equation}\\label{eq:9A}\\tag{9A}1 + P(\\vec{b},\\vec{c}) \\geq |P(\\vec{a},\\vec{b}) - P(\\vec{a},\\vec{c})|\\end{equation}\n",
    "Now we define a $\\overline{P}(\\vec{a},\\vec{b})$ and a $\\overline{- \\vec{a}\\cdot\\vec{b}}$ which essentially are the averages over vectors differing from a small angle from $\\vec{a}$ and $\\vec{b}$ of the quantities under the bar. Let's suppose the following holds for some $\\epsilon$\n",
    "\\begin{equation}\\label{eq:10A}\\tag{10A}|\\overline{P}(\\vec{a},\\vec{b}) + \\overline{\\vec{a}\\cdot\\vec{b}}| \\leq \\epsilon\\end{equation}\n",
    "We cannot make $\\epsilon$ arbitrarily small and this can be proven by the following steps. Let us first assume the following inequality holds for all $\\vec{a}$ and $\\vec{b}$\n",
    "\\begin{equation}\\label{eq:11A}\\tag{11A}|\\overline{\\vec{a}\\cdot\\vec{b}} - \\vec{a}\\cdot\\vec{b}| \\leq\\delta\\end{equation}\n",
    "Then using eq:\\ref{eq:11A} and eq:\\ref{eq:10A} we have\n",
    "\\begin{equation}\\label{eq:12A}\\tag{12A}|\\overline{P}(\\vec{a},\\vec{b}) + \\vec{a}\\cdot\\vec{b}| \\leq \\epsilon + \\delta\\end{equation}\n",
    "Now taking $\\vec{a} = \\vec{b}$ (hence their dot product is 1) we rewrite eq:\\ref{eq:12A} as the equation below while using the fact that $\\overline{P(\\vec{a},\\vec{b})} = \\int d\\lambda\\rho(\\lambda)\\overline{A}(\\vec{a},\\lambda)\\overline{B}(\\vec{b},\\lambda))$.\n",
    "\\begin{equation}\\label{eq:13A}\\tag{13A}\\int d\\lambda\\rho(\\lambda)[\\overline{A}(\\vec{b},\\lambda)\\overline{B}(\\vec{b},\\lambda))+1] \\leq\\epsilon+\\delta\\end{equation}\n",
    "We can extend from \\ref{eq:1A} that on averaging over a small range, $|\\overline{A}(\\vec{a},\\lambda)| \\leq 1$ and $|\\overline{B}(\\vec{b},\\lambda)| \\leq 1$. Now we can write the following\n",
    "\\begin{equation}\\label{eq:14A}\\tag{14A}\\overline{P}(\\vec{a},\\vec{b})-\\overline{P}(\\vec{b},\\vec{c}) = \\int{d\\lambda}\\rho(\\lambda)\\overline{A}(\\vec{a},\\lambda)\\overline{B}(\\vec{b},\\lambda)[\\overline{A}(\\vec{b},\\lambda)\\overline{B}(\\vec{c},\\lambda) + 1] - \\int{d\\lambda}\\rho(\\lambda)\\overline{A}(\\vec{a},\\lambda)\\overline{B}(\\vec{c},\\lambda)[\\overline{A}(\\vec{b},\\lambda)\\overline{B}(\\vec{b},\\lambda) + 1]\\end{equation}\n",
    "Using the inequalities on the averaged $A$ and $B$ we can write the following\n",
    "\\begin{equation}\\label{eq:15A}\\tag{15A}|\\overline{P}(\\vec{a},\\vec{b})-\\overline{P}(\\vec{b},\\vec{c})| \\leq \\int{d\\lambda}\\rho(\\lambda)[\\overline{A}(\\vec{b},\\lambda)\\overline{B}(\\vec{c},\\lambda) + 1] - \\int{d\\lambda}\\rho(\\lambda)[\\overline{A}(\\vec{b},\\lambda)\\overline{B}(\\vec{b},\\lambda) + 1]\\end{equation}\n",
    "\\begin{equation}\\label{eq:16A}\\tag{16A}|\\overline{P}(\\vec{a},\\vec{b})-\\overline{P}(\\vec{b},\\vec{c})| \\leq 1 + \\overline{P} + \\epsilon+\\delta\\end{equation}\n",
    "We write eq:\\ref{eq:16A} using eq:\\ref{eq:15A} and eq:\\ref{eq:13A}. Finally using eq:\\ref{eq:12A} we rewrite the above equation as\n",
    "\\begin{equation}\\label{eq:17A}\\tag{17A}|\\vec{a}\\cdot\\vec{c}-\\vec{a}\\cdot\\vec{b}|+\\vec{b}\\cdot\\vec{c}-1 \\leq 4(\\epsilon+\\delta)\\end{equation}\n",
    "Now with the constr  aint coming from eq:\\ref{eq:17A} we can handpick values of $\\vec{a},\\vec{b},\\vec{c}$ such that $\\epsilon$ cannot be made arbitrarily small (take $\\vec{a}\\cdot\\vec{b} = \\vec{c}\\cdot\\vec{b} = 1/\\sqrt{2}$ and $\\vec{a}\\cdot\\vec{c} = 0$ this would show $4(\\epsilon+\\delta)\\geq\\sqrt{2}-1$). The fact that $\\epsilon$ cannot be made arbitrarily small implies that the quantum mechanical value cannot be approximated either accurately or arbitrarily close to this form using hidden variable. So this contradiction implies that some assumptions that we have taken happen to not work together and that happen to be local determinism and hidden variables. So any hidden variable theory by nature itself is non local.\n",
    "\n",
    "To get the form of the CSHS inequalities we essentially modify the form of eq:\\ref{eq:14A} and write it as follows\n",
    "\\begin{equation}\\label{eq:18A}\\tag{18A}\\overline{P}(\\vec{a},\\vec{b})-\\overline{P}(\\vec{a},\\vec{b}') = \\int{d\\lambda}\\rho(\\lambda)\\overline{A}(\\vec{a},\\lambda)\\overline{B}(\\vec{b},\\lambda)[1\\pm\\overline{A}(\\vec{a}',\\lambda)\\overline{B}(\\vec{b}',\\lambda)] - \\int{d\\lambda}\\rho(\\lambda)\\overline{A}(\\vec{a},\\lambda)\\overline{B}(\\vec{b}',\\lambda)[1\\pm\\overline{A}(\\vec{a}',\\lambda)\\overline{B}(\\vec{b},\\lambda)]\\end{equation}\n",
    "We now apply the triangle inequality and also note that the modulus of the averaged functions $\\overline{A}$ and $\\overline{B}$ are bounded above by 1 we will get\n",
    "\\begin{equation}\\label{eq:19A}\\tag{19A}|\\overline{P}(\\vec{a},\\vec{b})-\\overline{P}(\\vec{a},\\vec{b}')| \\leq \\left|\\int{d\\lambda}\\rho(\\lambda)[1\\pm\\overline{A}(\\vec{a}',\\lambda)\\overline{B}(\\vec{b}',\\lambda)]\\right| + \\left|\\int{d\\lambda}\\rho(\\lambda)[1\\pm\\overline{A}(\\vec{a}',\\lambda)\\overline{B}(\\vec{b},\\lambda)]\\right|\\end{equation}\n",
    "We may as well remove the moduli brackets on the LHS since the quantities is non negative. Since $\\int\\rho(\\lambda)d\\lambda = 1$ and $\\overline{P(\\vec{a},\\vec{b})} = \\int d\\lambda\\rho(\\lambda)\\overline{A}(\\vec{a},\\lambda)\\overline{B}(\\vec{b},\\lambda))$ we can rewrite eq:\\ref{eq:19A} as\n",
    "\\begin{equation}\\label{eq:20A}\\tag{20A}|\\overline{P}(\\vec{a},\\vec{b})-\\overline{P}(\\vec{a},\\vec{b}')| \\leq 2 \\pm (\\overline{P}(\\vec{a}',\\vec{b}') + \\overline{P}(\\vec{a}',\\vec{b})) \\leq 2 \\pm |\\overline{P}(\\vec{a}',\\vec{b}') + \\overline{P}(\\vec{a}',\\vec{b})|\\end{equation}\n",
    "The second inequality comes from the triangle inequality. Now we can choose the minus sign and we get\n",
    "\\begin{equation}\\label{eq:21A}\\tag{21A}|\\overline{P}(\\vec{a},\\vec{b})-\\overline{P}(\\vec{a},\\vec{b}')| + |\\overline{P}(\\vec{a}',\\vec{b}') + \\overline{P}(\\vec{a}',\\vec{b})| \\leq 2\\end{equation}\n",
    "Finally we get the following equation by applying the triangle inequality on RHS of eq:\\ref{eq:21A}\n",
    "\\begin{equation}\\label{eq:22A}\\tag{22A}|\\overline{P}(\\vec{a},\\vec{b}) - \\overline{P}(\\vec{a},\\vec{b}') + \\overline{P}(\\vec{a}',\\vec{b}') + \\overline{P}(\\vec{a}',\\vec{b})| \\leq 2\\end{equation}\n",
    "The above inequality is the form of writing the CHSH inequalities [[6](#ref-6)]. The bound above is shown to be 2 which is satisfied for classical systems and is violated for quantum mechanical correlations. One can instead prove a different bound for quantum correlations as $2\\sqrt{2}$. This is reffered to as the Tsirelon's bound. To prove this we can suppose we have four hermitian operators $A_0,A_1,B_0,B_1$ where $[A_i,B_j] = 0$ but the $[A_0,A_1] \\neq 0$ and $[B_0,B_1] \\neq 0$. We define these $A$ operators as being two different spin measurements on the same electron and $B$ being the same on the positron where their results are either $+1$ or $-1$. We know that for a simple spin system $[\\sigma\\cdot\\vec{a},\\sigma\\cdot\\vec{b}] = 2\\iota\\sigma\\cdot(\\vec{a}\\times\\vec{b})$. Now we will define a new operator called $\\mathcal{B}$\n",
    "$$\\mathcal{B} = A_0B_0 + A_0B_1 + A_1B_0 - A_1B_1$$\n",
    "This operator has been defined along the lines of the bell's measure where expectation value of the modulus of this operator would be the actual bells measure for a correlation function of $C_{ij} = \\langle A_iB_j\\rangle$. We can now square this operator and it would simpify as the equation below (since $A_i^2 = B_i^2 = I$)\n",
    "$$\\mathcal{B}^2 = 4I - [A_0,A_1][B_0,B_1]$$\n",
    "Since these are spin operators we have $|[A_0,A_1][B_0,B_1]| \\leq 4I$ using the commutation relation we had defined earlier. We would infact have $\\mathcal{B}^2$ reach it's maximum if $A_0,B_0$ measures along $\\hat{x}$ and $A_1,B_1$ measures along $\\hat{y}$ which would make $\\mathcal{B}^2 = 8I$. This leads us to $\\langle \\mathcal{B}\\rangle \\leq 2\\sqrt{2}$ which is the Tsirelon's bound [[7](#ref-7)]. In this paper the $B_{max}$ values are bounded above due to Tsirelon's bound.\n"
   ]
  },
  {
   "cell_type": "markdown",
   "metadata": {},
   "source": [
    "## References\n",
    "<br>\n",
    "<div id=\"ref-1\">[1] Kagalwala, K., Di Giuseppe, G., Abouraddy, A. et al. Bell's measure in classical optical coherence. Nature Photon 7, 72–78 (2013). <a href=\"https://doi.org/10.1038/nphoton.2012.312\">https://doi.org/10.1038/nphoton.2012.312</a></div>\n",
    "<div id=\"ref-2\">[2] Aiello, A., and Woerdman, J. (2005). Physical Bounds to the Entropy-Depolarization Relation in Random Light Scattering. Phys. Rev. Lett., 94, 090406.</div>\n",
    "<div id=\"ref-3\">[3] Nielsen, M, Chuang, I. Quantum Computation and Quantum Information: 10th Anniversary Edition. Cambridge University Press; 2011.</div>\n",
    "<div id=\"ref-4\">[4] Einstein, A, Podolsky, B, Rosen, N. \"Can Quantum-Mechanical Description of Physical Reality Be Considered Complete?\". Phys. Rev. 1935; 47:777–780.</div>\n",
    "<div id=\"ref-5\">[5] Bell, J. \"On the Einstein Podolsky Rosen paradox\". Physics Physique Fizika 1964; 1:195–200.</div>\n",
    "<div id=\"ref-6\">[6] Clauser, J, Horne, M, Shimony, A, Holt, R. \"Proposed Experiment to Test Local Hidden-Variable Theories\". Phys. Rev. Lett. 1969; 23:880–884.</div>\n",
    "<div id=\"ref-7\">[7] Cirel'son, B.S. Quantum generalizations of Bell's inequality. Lett Math Phys 4, 93–100 (1980). <a href=\"https://doi.org/10.1007/BF00417500\">https://doi.org/10.1007/BF00417500</a></div>\n",
    "<div id=\"ref-8\">[8] Zyczkowski, K., Penson, K. A., Nechita, I. & Collins, C. Generating random\n",
    "density matrices. J. Math. Phys. 52, 062201 (2011).</div>\n",
    "<div id=\"ref-9\">[9] Gil, Jose & Bernabeu, Eusebio. (1987). Obtainment of the polarizing and retardation parameters of a non-depolarizing optical system from the polar decomposition of its Mueller matrix. Optik. 76. 67. </div>\n",
    "<div id=\"ref-10\">[10] Yarnall, T., Abouraddy, A. F., Saleh, B. E. A. & Teich, M. C. Synthesis and\n",
    "analysis of entangled photonic qubits in spatial-parity space. Phys. Rev. Lett.\n",
    "99, 250502 (2007).</div>"
   ]
  }
 ],
 "metadata": {
  "kernelspec": {
   "display_name": "Python 3",
   "language": "python",
   "name": "python3"
  },
  "language_info": {
   "codemirror_mode": {
    "name": "ipython",
    "version": 3
   },
   "file_extension": ".py",
   "mimetype": "text/x-python",
   "name": "python",
   "nbconvert_exporter": "python",
   "pygments_lexer": "ipython3",
   "version": "3.7.4"
  }
 },
 "nbformat": 4,
 "nbformat_minor": 2
}
