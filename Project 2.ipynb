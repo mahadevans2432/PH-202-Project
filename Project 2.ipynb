{
 "cells": [
  {
   "cell_type": "markdown",
   "metadata": {},
   "source": [
    "# BELL'S MEASURE IN CLASSICAL OPTICAL COHERENCE"
   ]
  },
  {
   "cell_type": "markdown",
   "metadata": {},
   "source": [
    "<b>Note: we have fixed some of the typos and minor changes which do appear in the 1 hour recorded video in this final notebook</b>\n",
    "\n",
    "## Team details and work distrubution\n",
    "1. Aneesh Bapat (Roll no: 190260006): Proposed $A$ matrix formalism for devices, theoretical analysis of experiments along with derivations, coding of quantum circuits and proposal for parity sensitive polarization modifying gate.\n",
    "2. Ankan Mukherjee (Roll no: 190260008): Numpy calculations for $S$, $D$, $B$ and Correlation function. Optimization of $B$. Generation of plots and countor plots for experiments A, B and C. Interactivity of plots. Calculations for 3-D plot. Definition of necessary functions in the preamble.\n",
    "3. Mahadevan Subramanian (Roll no: 190260027): Explanation of polarization and spatial parity DoFs and their analysis. Quantum circuit analogue to given experiments and also proved quantum circuit universality for this analogous system. Proof of Bell's inequalities.\n",
    "4. Priyam Dubey (Roll no: 190260034): Worked and coded plots of Correlation Functions and $B_{max}$ plots along with the 3D volume generation in $S,S_\\text{pol},S_\\text{par}$ space, interpretation of 3D Plot. Worked on interactive plots for Topic 6."
   ]
  },
  {
   "cell_type": "markdown",
   "metadata": {},
   "source": [
    "## 0. Setting up this notebook\n",
    "Kindly run the cell below to make sure you have all required dependencies"
   ]
  },
  {
   "cell_type": "markdown",
   "metadata": {},
   "source": [
    "### 0.1 Installing and Importing Packages"
   ]
  },
  {
   "cell_type": "code",
   "execution_count": 1,
   "metadata": {},
   "outputs": [
    {
     "name": "stdout",
     "output_type": "stream",
     "text": [
      "Successfully imported packages\n"
     ]
    }
   ],
   "source": [
    "from IPython.display import clear_output,display, Math, Latex\n",
    "!pip install numpy\n",
    "!pip install scipy\n",
    "!pip install matplotlib\n",
    "!pip install sympy\n",
    "!pip install seaborn\n",
    "!pip install qiskit\n",
    "clear_output()\n",
    "import numpy as np\n",
    "import matplotlib.pyplot as plt\n",
    "from matplotlib.widgets import Slider, Button, RadioButtons\n",
    "from ipywidgets import interact, interactive, fixed, interact_manual, Layout\n",
    "import ipywidgets as widgets\n",
    "from mpl_toolkits.mplot3d import axes3d\n",
    "from sympy import *\n",
    "from sympy.physics.quantum.dagger import Dagger\n",
    "from IPython.display import Javascript\n",
    "import seaborn as sns\n",
    "import scipy as sc\n",
    "import sys\n",
    "from qiskit import *\n",
    "from qiskit.compiler import transpile, assemble\n",
    "from qiskit.tools.jupyter import *\n",
    "from qiskit.visualization import *\n",
    "np.set_printoptions(threshold=sys.maxsize)\n",
    "print(\"Successfully imported packages\")"
   ]
  },
  {
   "cell_type": "markdown",
   "metadata": {},
   "source": [
    "### 0.2 Defining Functions"
   ]
  },
  {
   "cell_type": "code",
   "execution_count": 2,
   "metadata": {},
   "outputs": [],
   "source": [
    "## Function implemented to set axis ticks in multiples of pi in plots.\n",
    "## Function written by Scott Centoni at https://stackoverflow.com/a/53586826\n",
    "\n",
    "\n",
    "def multiple_formatter(denominator=2, number=np.pi, latex='\\pi'):\n",
    "    def gcd(a, b):\n",
    "        while b:\n",
    "            a, b = b, a%b\n",
    "        return a\n",
    "    def _multiple_formatter(x, pos):\n",
    "        den = denominator\n",
    "        num = int(np.rint(den*x/number))\n",
    "        com = gcd(num,den)\n",
    "        (num,den) = (int(num/com),int(den/com))\n",
    "        if den==1:\n",
    "            if num==0:\n",
    "                return r'$0$'\n",
    "            if num==1:\n",
    "                return r'$%s$'%latex\n",
    "            elif num==-1:\n",
    "                return r'$-%s$'%latex\n",
    "            else:\n",
    "                return r'$%s%s$'%(num,latex)\n",
    "        else:\n",
    "            if num==1:\n",
    "                return r'$\\frac{%s}{%s}$'%(latex,den)\n",
    "            elif num==-1:\n",
    "                return r'$\\frac{-%s}{%s}$'%(latex,den)\n",
    "            else:\n",
    "                return r'$\\frac{%s%s}{%s}$'%(num,latex,den)\n",
    "    return _multiple_formatter\n",
    "\n",
    "class Multiple:\n",
    "    def __init__(self, denominator=2, number=np.pi, latex='\\pi'):\n",
    "        self.denominator = denominator\n",
    "        self.number = number\n",
    "        self.latex = latex\n",
    "\n",
    "    def locator(self):\n",
    "        return plt.MultipleLocator(self.number / self.denominator)\n",
    "\n",
    "    def formatter(self):\n",
    "        return plt.FuncFormatter(multiple_formatter(self.denominator, self.number, self.latex))"
   ]
  },
  {
   "cell_type": "code",
   "execution_count": 3,
   "metadata": {},
   "outputs": [],
   "source": [
    "def plotter(x,y,title,xlabel,ylabel,col,label):\n",
    "    num_space,=x.shape\n",
    "    plt.plot(x,y, color=col,linewidth=3, label=label)\n",
    "    plt.title(title, fontsize=15)\n",
    "    plt.xlabel(xlabel, fontsize=15)\n",
    "    plt.ylabel(ylabel, fontsize=15)\n",
    "    plt.xlim(0,2*np.pi)\n",
    "    ax=plt.gca()\n",
    "    ax.set_facecolor('#FFFFCC')\n",
    "    ax.axhline(0, color='black', lw=2)\n",
    "    ax.axvline(0, color='black', lw=2)\n",
    "    ax.xaxis.set_major_locator(plt.MultipleLocator(np.pi / 2))\n",
    "    ax.xaxis.set_minor_locator(plt.MultipleLocator(np.pi / 12))\n",
    "    ax.xaxis.set_major_formatter(plt.FuncFormatter(multiple_formatter()))\n",
    "    plt.xticks(fontsize =15)\n",
    "    plt.yticks(fontsize =15)\n",
    "    return"
   ]
  },
  {
   "cell_type": "code",
   "execution_count": 4,
   "metadata": {},
   "outputs": [],
   "source": [
    "def plotterC(x,y,title,xlabel,ylabel,col,label):\n",
    "    num_space,=x.shape\n",
    "    plt.plot(x,y, color=col,linewidth=3, label=label)\n",
    "    plt.title(title, fontsize=15)\n",
    "    plt.xlabel(xlabel, fontsize=15)\n",
    "    plt.ylabel(ylabel, fontsize=15)\n",
    "    plt.xlim(0,1)\n",
    "    ax=plt.gca()\n",
    "    ax.set_facecolor('#FFFFCC')\n",
    "    ax.axhline(0, color='black', lw=2)\n",
    "    ax.axvline(0, color='black', lw=2)\n",
    "    plt.xticks(fontsize =15)\n",
    "    plt.yticks(fontsize =15)\n",
    "    return"
   ]
  },
  {
   "cell_type": "code",
   "execution_count": 5,
   "metadata": {},
   "outputs": [],
   "source": [
    "def contourplotter(function,phi,title,xlabel,ylabel):\n",
    "    f = lambdify((t,p,ta,pa),function, \"numpy\")\n",
    "    ta_range = np.linspace(0,2*np.pi,1000);\n",
    "    pa_range = np.linspace(0,2*np.pi,1000);\n",
    "    phi_fixed = phi;\n",
    "    X, Y = np.meshgrid(ta_range, pa_range);\n",
    "    def ftemp(ta_val,pa_val):\n",
    "        return f(0,phi_fixed,ta_val,pa_val);\n",
    "    Z = ftemp(X,Y);\n",
    "    fig, ax = plt.subplots(figsize=(7,5.7))\n",
    "    cp = ax.contourf(X, Y, Z ,cmap='turbo');\n",
    "    fig.colorbar(cp) # Add a colorbar to a plot\n",
    "    plt.xlim(0,2*np.pi);\n",
    "    plt.ylim(0,2*np.pi);\n",
    "    ax.axis('equal');\n",
    "\n",
    "    plt.title(title, fontsize=15)\n",
    "    plt.xlabel(xlabel, fontsize=15)\n",
    "    plt.ylabel(ylabel, fontsize=15)\n",
    "    ax=plt.gca()\n",
    "    ax.set_facecolor((0.8,1,1))\n",
    "    ax.axhline(0, color='black', lw=2)\n",
    "    ax.axvline(0, color='black', lw=2)\n",
    "    ax.xaxis.set_major_locator(plt.MultipleLocator(np.pi / 2))\n",
    "    ax.xaxis.set_minor_locator(plt.MultipleLocator(np.pi / 12))\n",
    "    ax.xaxis.set_major_formatter(plt.FuncFormatter(multiple_formatter()))\n",
    "    ax.yaxis.set_major_locator(plt.MultipleLocator(np.pi / 2))\n",
    "    ax.yaxis.set_minor_locator(plt.MultipleLocator(np.pi / 12))\n",
    "    ax.yaxis.set_major_formatter(plt.FuncFormatter(multiple_formatter()))\n",
    "    plt.xticks(fontsize =15)\n",
    "    plt.yticks(fontsize =15)\n",
    "    return"
   ]
  },
  {
   "cell_type": "code",
   "execution_count": 6,
   "metadata": {},
   "outputs": [],
   "source": [
    "def contourplotterC(function,P1,title,xlabel,ylabel):\n",
    "    f = lambdify((P,ta,pa),function, \"numpy\")\n",
    "    ta_range = np.linspace(0,2*np.pi,100);\n",
    "    pa_range = np.linspace(0,2*np.pi,100);\n",
    "    P_fixed = P1;\n",
    "    X, Y = np.meshgrid(ta_range, pa_range);\n",
    "    def ftemp(ta_val,pa_val):\n",
    "        return f(P1,ta_val,pa_val);\n",
    "    Z = ftemp(X,Y);\n",
    "    fig, ax = plt.subplots(figsize=(7,5.7))\n",
    "    cp = ax.contourf(X, Y, Z ,cmap='turbo');\n",
    "    fig.colorbar(cp) # Add a colorbar to a plot\n",
    "    plt.xlim(0,2*np.pi);\n",
    "    plt.ylim(0,2*np.pi);\n",
    "    ax.axis('equal');\n",
    "\n",
    "    plt.title(title, fontsize=15)\n",
    "    plt.xlabel(xlabel, fontsize=15)\n",
    "    plt.ylabel(ylabel, fontsize=15)\n",
    "    ax=plt.gca()\n",
    "    ax.set_facecolor((0.8,1,1))\n",
    "    ax.axhline(0, color='black', lw=2)\n",
    "    ax.axvline(0, color='black', lw=2)\n",
    "    ax.xaxis.set_major_locator(plt.MultipleLocator(np.pi / 2))\n",
    "    ax.xaxis.set_minor_locator(plt.MultipleLocator(np.pi / 12))\n",
    "    ax.xaxis.set_major_formatter(plt.FuncFormatter(multiple_formatter()))\n",
    "    ax.yaxis.set_major_locator(plt.MultipleLocator(np.pi / 2))\n",
    "    ax.yaxis.set_minor_locator(plt.MultipleLocator(np.pi / 12))\n",
    "    ax.yaxis.set_major_formatter(plt.FuncFormatter(multiple_formatter()))\n",
    "    plt.xticks(fontsize =15)\n",
    "    plt.yticks(fontsize =15)\n",
    "    return"
   ]
  },
  {
   "cell_type": "markdown",
   "metadata": {},
   "source": [
    "## Introduction\n",
    "Bell states or entangled states are a very common idea in the realm of quantum computing. The idea behind a bell state is that the measurement of one qubit is perfectly correlated to the measurement of the other. So while a partial measurement of only one qubit would lead the observer to believe that the state is not pure (the quantum computing equivalent of coherence in optics), the state is infact pure when a correlated measurement of the two qubits is carried out at the same time. This has interesting applications such as quantum teleportation, superdense coding and quantum cryptography. While bell states have been studied thoroughly in the field of quantum computing, there are not many studies that explore the classical analogue of bell states. In this project, we have tried to explore the this topic mainly along the ideas presented in reference [[1](#ref-1)]. \n",
    "<p> The main idea we are trying to explore is that it is possible to couple two degrees of freedom (DOFs) of a beam of light, in the context of our discussion, polarisation and parity, such that when a measurement of only one DOF is made (independent of the other), it is possible for the beam to appear partially coherent or even completely incoherent, while the the beam is infact completely coherent (in the sense that there is nothing 'random' about the beam). This hidden coupling can be made evident by actually performing a correlated bell state measurement between the two DOFs, and also allows us to distinguish true randomness (partial coherence) from entanglement. It is also possible to look at coherence as a resource that can be shared among different DOFs, for example, we can start with a completely unpolarised beam which is parity coherent, and convert it to a beam which is perfectly polarised but parity incoherent. Further, we have tried to explore the relevance of this scheme to a classical implementation of a quantum computer, which can infact be shown to be universal, but is limited in the fact that the scheme is hard to generalise to a large number of qubits. </p> "
   ]
  },
  {
   "cell_type": "markdown",
   "metadata": {},
   "source": [
    "## 1. Polarization & Spatial Parity\n",
    "\n",
    "In the paper [[1](#ref-1)] the experiments which were done were made using of an optical beam model with two binary degrees of freedom, specifically polarization and spatial parity along the $x$ direction (vertically upwards) respectively of a quasi monochromatic source, where the beam is travelling in the $z$ direction.<br>\n",
    "For the spatial parity, in one dimension the beams are of form $E(x) = E_e\\psi_e(x)+E_o\\psi_o(x)$ where $\\psi_e(x)$ is an even function and $\\psi_o(x) = \\text{sgn}(x)\\psi_e(x)$ hence is an odd function. We give this beam a vector representation called $\\mathbf{J}_\\text{par} = [E_e\\text{ } E_o]^T$. Spatial parity is manipulated using a spatial light modulator (SLM) which we describe in the experimental apparatus section. Along with the horizontal (H) and vertical components of polarization taken into account we describe the polarization-parity jones vector as $\\mathbf{J} = [E_\\text{He}\\text{ }E_\\text{Ho}\\text{ }E_\\text{Ve}\\text{ }E_\\text{Vo}]^T$.<br>\n",
    "We then describe the properties of this coherence using a $4\\times4$ matrix which is $\\mathbf{G} = \\langle\\mathbf{J}^{*}\\mathbf{J}^\\text{T}\\rangle$. Taking partial trace along $\\mathbf{G}$ would give us either $\\mathbf{G}_\\text{pol}$ or $\\mathbf{G}_\\text{par}$ on taking trace along parity or polarization respectively. We define a degree of polarization/parity using $D_{\\text{pol}}$($D_\\text{par}$) which quantifies the apparent coherence of each DoF when the other DoF is unresolved. Further an overall coherence $S$ is defined using the beam's linear entropy [[2](#ref-2)] as follows.\n",
    "The definition of linear entropy comes from the motivation of von Neumann Entropy. For a quantum mechanical system with a density matrix $\\rho$ this is defined as $S_v = \\text{Tr}(-\\rho\\ln(\\rho)) = -\\langle\\ln(\\rho)\\rangle$. The linear entropy $S_L$ is a lower approximation to $S_v$ which comes from expanding the leading term in the expansion of $-\\rho\\ln\\rho$ which becomes $\\rho-\\rho^2$ approximately when $\\rho$ is close to $I$ (using taylor expansion) and taking trace this gives us the definition $S_L = \\text{Tr}(\\rho) - \\text{Tr}(\\rho^2)$ and by definition of the density matrix we have trace of $\\rho$ equal to 1 which gives us $S_L = 1 - \\text{Tr}(\\rho^2)$. This is a non normalized quantity so this is normalized by multiplying it by $\\frac{d}{d-1}$ which here is $4/3$ since our system has four dimensions. The definition of our $\\mathbf{G}$ matrix is isomorphic to the definition of a density matrix of a two qubit system keeping the Jones vector $\\mathbf{J}$ as the state of this two qubit system. Hence we have \n",
    "\\begin{equation}\\label{eq:1.1}\\tag{1.1}S = 1-S_L = 1 - \\frac{4}{3} + \\frac{4}{3}\\text{Tr}(\\mathbf{G}^2) = \\frac{4}{3}\\left(\\text{Tr}\\{\\mathbf{G}^2\\}-\\frac{1}{4}\\right)\\end{equation}\n",
    "We know that for normalized states we have that $\\frac{1}{d}\\leq$ Tr$(\\rho^2) \\leq 1$ and equals one only for a pure state and $1/d$ for completely mixed state. We can similarly draw a parallel here to seeing that $S=1$ happens only for coherent (pure) states and is 0 when completely incoherent. An important note to make here is that applying a unitary matrix $U$ (so $U^{*}U^{T} = I$) which is not time dependent on the Jones vector would not change our value of $S$ since on acting of a unitary we would have $\\mathbf{G}' = U^{*}\\mathbf{G}U^{T}$ and so $\\mathbf{G}'^2 = U^{*}\\mathbf{G}^2U^{T}$ and this has same trace as $\\mathbf{G}^2$ since trace is invariant under unitary transforms.\n",
    "\n",
    "The paper here explores the properties of a beam where these two DoFs are infact coupled or entagled. One can start with a coherent linearly polarized beam at $45^\\circ$ with even polarity which would be $\\mathbf{J} = (1/\\sqrt{2})[\\text{1 0 1 0}]^T$ which can clearly be factored into a direct product of $\\mathbf{J}_{\\text{pol}}\\otimes\\mathbf{J}_\\text{par}$ and so $D_\\text{pol} = D_\\text{par} = 1$. However on passing this beam through a polarization sensitive SLM which introduces a phase of $\\frac{\\varphi}{2}\\text{sgn}(\\varphi)$ only to the horizontal polarity component and none to the vertical. We can think of this analoguos to a controlled $R_x(\\varphi)$ operation from the polarization qubit to parity qubit which acts when polarization is $|0\\rangle$ (called H here for polarization). This puts the state to an entagled state $\\mathbf{J} = (1/\\sqrt{2})[\\cos(\\varphi/2)\\text{ }\\iota\\sin(\\varphi/2)\\text{ 1 0}]^T$ which is no longer factorizable and shows that the apparant degree of coherence of the individual DoFs are no longer equal to 1 unless $\\varphi=0$ and infact equal zero when $\\varphi=\\pi$. However we know that this state is still coherent on an overall, the only issue is that seeing the partial trace of $\\mathbf{G}$ along the respective DoF provide an incomplete picture of the state hence leading to a conclusion that the coherence is absent. The paper proceeds to make use of the Bell's measure (see [Appendix A](#Appendix-A:-The-EPR-paradox-and-Bell's-inequalities)) to quantify this entanglement which is the cause of this apparent coherence deficit."
   ]
  },
  {
   "cell_type": "markdown",
   "metadata": {},
   "source": [
    "## 2. Experimental Apparatus\n",
    "\n",
    "For the experimental setup, we are using various separate components, which we will comment on one by one before seeing how they are arranged together for the experiment in this paper. We can develop a matrix operator formalism based on how these elements affect the vector $\\mathbf{J} = [E_{He} \\ E_{Ho} \\ E_{Ve} \\ E_{Vo}]^T$. Suppoe we have a device that modifies the Jones vector of a beam in the following way - $\\mathbf{J_{new}} = \\mathbf{A}\\mathbf{J_{old}}$. Then, the corresponding $\\mathbf{G} = \\langle \\mathbf{J^*J^T}\\rangle$ tranforms as $\\mathbf{G_{new} = A^*G_{old}A^T}$. This is because, assuming that the effect of the device, encoded in matrix $\\mathbf{A}$  is time independent, the matrix can just move inside the time average. And as we will see below, for all the devices used in this experiment, their effect is time invariant.\n",
    "\n",
    "\n",
    "## Polarisation only devices\n",
    "\n",
    "### 2.1 Waveplates\n",
    "<p>The first element we will look at is a half-wave plate. Suppose we have a half-wave plate whose axis is inclined at angle $\\theta$ to the $+x$ axis. Then, it will add a phase of $\\pi$ to the component of the amplitude along its axis, with respect to the component perpendicular to the axis. In other words, the component of E field along the axis will be effectively multiplied by $e^{i\\pi} = (-1)$.</p> \n",
    "<p> Suppose the in-going beam is described by a polarisation-only Jones vector $J_{pol} = [E_x \\ E_y]^T$. Then the (complex) amplitude is $E_x\\hat{x} + E_y\\hat{y} = (E_{x}\\cos\\theta + E_y\\sin\\theta)\\hat{\\theta_{\\parallel}} + (E_{x}\\sin\\theta - E_y\\cos\\theta) \\hat{\\theta_{\\perp}}$. So after adding a phase multiplier factor of $e^{i\\pi} = -1$ to the $\\hat{\\theta_{\\parallel}}$ component, the new complex amplitude is $$(-E_{x}\\cos\\theta - E_y\\sin\\theta)\\hat{\\theta_{\\parallel}} +  (E_{x}\\sin\\theta - E_y\\cos\\theta) \\hat{\\theta_{\\perp}} = (\\cos\\theta \\ (-E_{x}\\cos\\theta - E_y\\sin\\theta)+ \\sin\\theta(E_{x}\\sin\\theta - E_y\\cos\\theta))\\hat{x} + (\\sin\\theta \\ (-E_{x}\\cos\\theta - E_y\\sin\\theta)- \\cos\\theta(E_{x}\\sin\\theta - E_y\\cos\\theta))\\hat{y} \\\\ = [E_x(\\sin^2\\theta-\\cos^2\\theta) - E_y(2\\sin\\theta\\cos\\theta) \\qquad{} -E_x(2\\sin\\theta\\cos\\theta)  Ey(\\cos^2\\theta -\\sin^2\\theta)] \\\\ =[-E_x\\cos(2\\theta) - E_y\\sin(2\\theta) \\qquad{} -E_x\\sin(2\\theta)+E_y\\cos(2\\theta)]$$\n",
    "    \n",
    "We can write this more compactly in a 2x2 matrix - \n",
    "$$\\begin{pmatrix}-\\cos(2\\theta) & -\\sin(2\\theta) \\\\ -\\sin(2\\theta) & \\cos(2\\theta)\\end{pmatrix}\\begin{pmatrix}E_x \\\\ E_y\\end{pmatrix}_{old} = \\begin{pmatrix}E_x \\\\ E_y\\end{pmatrix}_{new}$$\n",
    "<p>When we are dealing with our 4 dimensional Jones vector, to generate the corresponding 4x4 HWP operator matrix, we can propose a 4x4 operator matrix. But before we spell it out, a few changes in notation are in order, to follow the same general notation as the paper. </p>\n",
    "<ol>\n",
    "    <li>The physical rotation angle used is $\\frac{\\theta}{4}$ so that the matrix entries are in terms of $\\frac{\\theta}{2}$. This corresponds to a quantum computing operator $R_y(\\theta) \\cdot Z$.</li>\n",
    "    <li>The axis, with respect to which the angle $\\frac{\\theta}{2}$ is to be measured is not specified in the paper. Two reasonable guesses are either the X axis (upwards vertical, as shown in the figure in the paper) or the horizontal axis (-y axis in the paper). In either case, we get the same matrix except with a global phase factor of $e^{i\\pi} = -1$. As we will see shortly, global phases do not affect the final calculation.</li>\n",
    "</ol>\n",
    "Since our Jones vector is $J = J_{pol}\\otimes J_{par}$, and our HWP does not affect the parity DOF at all (in other words, acts like an identity transformation), we can write it as a tensor product - \n",
    "$$A_{HWP}\\left(\\frac{\\theta}{2}\\right) = \\begin{pmatrix}-\\cos(\\theta/2) & -\\sin(\\theta/2) \\\\ -\\sin(\\theta/2) & cos(\\theta/2)\\end{pmatrix}\\otimes\\begin{pmatrix} 1&0 \\\\ 0&1\\end{pmatrix}=\\begin{pmatrix}\n",
    "-\\cos\\frac{\\theta}{2} & 0 & -\\sin\\frac{\\theta}{2} & 0 \\\\ \n",
    "0 &-\\cos\\frac{\\theta}{2}&0&-\\sin\\frac{\\theta}{2} \\\\\n",
    "-\\sin\\frac{\\theta}{2} &0 & \\cos\\frac{\\theta}{2} & 0 \\\\\n",
    "0 & -\\sin\\frac{\\theta}{2} &0 & \\cos\\frac{\\theta}{2}\n",
    "\\end{pmatrix} $$\n",
    "\n",
    "A more generic derivation that accounts for a waveplate of any arbitrary phase, and any arbitrary rotation is given in reference [[9](#ref-9)]\n",
    "\n",
    "### 2.2 Polarising Beam Splitter\n",
    "\n",
    "This is an element that separates out the H and V polarised beams from the input beam. There is no operator matrix associated with it, it simply separates out the two beams, without affecting parity at all. One point to note here - as we describe below, a mirror will add a factor of (-1) to odd modes, so the component which gets reflected will pick up that factor here as well. We can either correct this with a second reflection of that beam from a $45^\\circ$ mirror to correct it or not do anything at all about it (in the experimental setup in the paper seen as a whole, we can see that it won't matter the odd and even beams will be switched, but that is about it.)\n",
    "\n",
    "## Parity Sensitive Devices\n",
    "Most of the discussion for parity sensitive devices is largely based on reference [[10](#ref-10)].\n",
    "\n",
    "### 2.3 Dove Prism\n",
    "<p> We know that a mirror inverts left-right. So if we put an odd beam through the mirror, it will pick up a factor of (-1) from the + and - axes being inverted (i.e. -x being mapped to x). </p>\n",
    "<p> The operator (parity only, polarisation plays no role) associated to a mirror is $$\\begin{pmatrix}-1 & 0 \\\\ 0 & 1\\end{pmatrix}\\begin{pmatrix}e \\\\ o \\end{pmatrix}_{old} = \\begin{pmatrix}e \\\\ o \\end{pmatrix}_{new}$$ An additional -1 factor is added as a global phase, because of the phase change on reflecting.</p>\n",
    "<img width=\"40%\" src='https://raw.githubusercontent.com/mahadevans2432/PH-202-Project/main/Mirror_and_parity.png'>\n",
    "One thing about mirrors which is particularly inconvenient is that the incoming and outgoing beam does not travel in the same direction, so we cannot conveniently include a mirror in the arm of a Mach-Zehnder interferometer easily, for example. To make our life simple, we use a dove prism, which is a trapezoid shaped prism, that the light beam enters, undergoes TIR on one surface of it and exits travelling in the same direction as incoming beam. It performs the same matrix operation as a mirror, but is more convenient to use. One aspect to be careful of (that can be easily overcome) is that there is a phase change because the beam travels through the glass/ material of the prism, but that can be easily dealt with by using a compensator cell in the other arm. Another important aspect of a Dove prism - since the wave incidence medium is denser and the transmission medium is rarer (unlike a regular mirror), there is no addition $\\pi$ phase of reflection, and the operator matrix is simply $$\\begin{pmatrix}1 & 0 \\\\ 0 & -1\\end{pmatrix}\\begin{pmatrix}e \\\\ o \\end{pmatrix}_{old} = \\begin{pmatrix}e \\\\ o \\end{pmatrix}_{new}$$\n",
    "<img width = \"60%\" src='https://raw.githubusercontent.com/mahadevans2432/PH-202-Project/main/Dove_prism.png'>\n",
    "\n",
    "### 2.4 Mach Zehnder Interferometer\n",
    "<img width = \"60%\" src='https://raw.githubusercontent.com/mahadevans2432/PH-202-Project/main/MZI.png'><center>A schematic of a MZI, self drawn</center>\n",
    "<p> In this arrangement, the beam splitters are polarisation insensitive, so there is no polarisation discrimination. First let us consider a MZI with no dove prism (and no compensation cell). Suppose the only input beam is given from In1. Then, the left beam suffers two rarer-denser reflections and the same is the case with the right beam, as they come out from Out2. Hence, we have constructive interference at Out2. Whereas, as Out1, the left beam still has same phase (the reflection at exit beam splitter is denser-rarer, so no phase change) while the right beam has one reflection only, so the interference is destructive.</p>\n",
    "<p>With a dove prism in place, the odd mode undergoes one extra inversion in the left path, so its constructive/destructive outputs are now exactly swapped. As a result, if we send in a superposition of odd and even modes into In1, the odd mode comes out from Out1, while the even mode comes out from Out2 (just as if no prism were there). Conversely, if we send in the beam from In2, the odd mode will come out from Out2 and the even mode from Out1.</p>\n",
    "\n",
    "Hence we can think of two uses of this MZI arrangement - \n",
    "<ol> <li> To split a superposed beam into its odd and even components, send this beam in from one of the inputs only and the odd and even parity modes are separated.</li>\n",
    "    <li> If we have a odd parity beam and an even parity beam, we can add them (make a superposed state) by sending in the odd beam in In1, the even beam from In2, and then getting the superposed beam out, from Out1.\n",
    "       </ol>\n",
    "       In the experiment performed in the paper, the authors concern themselves only with the first use.\n",
    "       \n",
    "### 2.5 SLMs and PS-SLMs \n",
    "A SLM is a spatial light modulator. In general, this term refers to any device that modifies the beam in a space dependent fashion. In the context of this experiment, the SLM they use (Hamamatsu X10468-02) is an array of liquid crystal pixels, each of whose refractive index can be controlled independently by applying a voltage, in such a way, that we add a desired phase to the light passing through each pixel, and the phase in each pixel is independent of the others.\n",
    "<p>Suppose we send a beam through a SLM which adds a $x$-dependant phase $\\frac{\\phi}{2}sgn(x)$ to the electric field (global phase does not matter here, by the way. Only relative phase/ difference in phase between top and bottom half being $\\phi$ is what matters.) Then, we are effectively multiplying the old profile $E_{old}(x)$ by $e^{\\iota\\frac{\\phi}{2}sgn(x)}$, to get new profile $E_{new}(x)$. Observe that $e^{\\iota\\frac{\\phi}{2}sgn(x)} = cos(\\frac{\\phi}{2})+ \\iota sgn(x)sin(\\frac{\\phi}{2})$. So, with $E_{old}(x) = e(x)+o(x)$, we can get $E_{new}(x) = (e(x)+o(x))(cos(\\phi/2)+\\iota sgn(x)sin(\\phi/2)) = [cos(\\phi/2)e(x) + \\iota sin(\\phi/2) sgn(x)o(x)] + [cos(\\phi/2)o(x) + \\iota sin(\\phi/2) sgn(x)e(x)]$. </p>\n",
    "<p>Observe that the first term in the new expression is even while the second term is odd, which means that they are the new even and odd decomposition (which is unique). We can re-express this as $\\begin{pmatrix}cos(\\phi/2) & \\iota sin(\\phi/2) \\\\ \\iota sin(\\phi/2) & cos(\\phi/2) \\end{pmatrix}\\begin{pmatrix}e_{old} \\\\ o_{old}\\end{pmatrix} = \\begin{pmatrix}e_{new} \\\\ o_{new}\\end{pmatrix}$ to make it look more like the transformation caused by a half wave plate, but for the parity DOF. In particular, observe that if we set $\\phi = \\pi$ then the matrix shown looks like a Pauli $\\sigma_x$ matrix (times the constant $\\iota$)- it swaps the $o$ and $e$ bases.\n",
    "\n",
    "Further, to obtain the 4x4 transformation matrix, we again do a tensor product - \n",
    "$$A_{par}\\left(\\frac{\\phi}{2}\\right) = \\begin{pmatrix}1 & 0 \\\\ 0 & 1\\end{pmatrix}\\otimes\\begin{pmatrix} \\cos(\\phi/2)&i\\sin(\\phi/2) \\\\ i\\sin(\\phi/2) &\\cos(\\phi/2)\\end{pmatrix}=\\begin{pmatrix}\n",
    "\\cos(\\phi/2)&i\\sin(\\phi/2) & 0& 0\\\\ i\\sin(\\phi/2) &\\cos(\\phi/2) &0 & 0\\\\\n",
    "0&0&\\cos(\\phi/2)&i\\sin(\\phi/2) \\\\ 0&0&i\\sin(\\phi/2) &\\cos(\\phi/2)\n",
    "\\end{pmatrix} $$\n",
    "\n",
    "Again, the rationale is that since there is no polarisation effect, that part of the first matrix is identity.\n",
    "\n",
    "The liquid crystals can be acted on by a electric field in two directions, so that the refractive index of a single pixel itself is non-isotropic. This leads to polarisation-sensitive behaviour of the pixels. For example, if we take a SLM that adds a phase of $\\frac{\\phi}{2}sgn(x)$ only to the H-polarisation while leaving the V polarisation unchanged. In this case, we can simply modify the above operator matrix to look like $$A_{PS-SLM}\\left(\\frac{\\phi}{2}\\right) =\\begin{pmatrix}\n",
    "\\cos(\\phi/2)&i\\sin(\\phi/2) & 0& 0\\\\ i\\sin(\\phi/2) &\\cos(\\phi/2) &0 & 0\\\\\n",
    "0&0&1&0 \\\\ 0&0&0 &1\n",
    "\\end{pmatrix} $$"
   ]
  },
  {
   "cell_type": "markdown",
   "metadata": {},
   "source": [
    "## General Observations About the operator matrices\n",
    "We can see the following properties about the matrix formalism we have developed.\n",
    "<ol><li> The matrix (operator) for any device is unique only up to global phase. In particular, the phase will depend on the optical path length (refractive index $\\times$ physical path length) within the device, and can always be corrected by using an appropriate compensator cell. But note that all these different-phase $A$ matrices will still lead to the same value of $G_{out} = A^*G_{in}A^T$, because if $A_1 = A_2e^{\\iota \\psi}$, then $G_1 = (e^{-\\iota \\psi}A_2^*)G_{in}(e^{\\iota \\psi}A_2^T) = A_2^*G_{in}A_2^T = G_2$</li>\n",
    "    <li> The matrices are all unitary. $AA^\\dagger = A^\\dagger A = \\mathbb{I}$. This is expected, because if we take a completely incoherent beam in phase as well as parity, then no device will be able to change it, and the $G$ matrix for a completely incoherent mode is a scalar multiple of identity.</li>\n",
    "    <li> The matrices corresponding to a rotated HWP and to a polarisation-insensitive SLM commute. This is expected because each of these devices is expected to modify only one DOF.</li>\n",
    "    </ol>"
   ]
  },
  {
   "cell_type": "code",
   "execution_count": 7,
   "metadata": {},
   "outputs": [],
   "source": [
    "P,t,p,ta,pa = symbols('P theta varphi theta_a varphi_a',real=True)\n",
    "A_HWP = Matrix([[-cos(ta/2),0,-sin(ta/2),0],[0,-cos(ta/2),0,-sin(ta/2)],[-sin(ta/2),0,cos(ta/2),0],\n",
    "              [0,-sin(ta/2),0,cos(ta/2)]])\n",
    "A_SLM = Matrix([[cos(pa/2),I*sin(pa/2),0,0],[I*sin(pa/2),cos(pa/2),0,0],[0,0,cos(pa/2),I*sin(pa/2)],\n",
    "             [0,0,I*sin(pa/2),cos(pa/2)]])\n",
    "A_PSSLM = Matrix([[cos(pa/2),I*sin(pa/2),0,0],[I*sin(pa/2),cos(pa/2),0,0],[0,0,1,0],\n",
    "             [0,0,0,1]]) "
   ]
  },
  {
   "cell_type": "code",
   "execution_count": 8,
   "metadata": {},
   "outputs": [
    {
     "data": {
      "text/latex": [
       "$\\displaystyle \\left[\\begin{matrix}1 & 0 & 0 & 0\\\\0 & 1 & 0 & 0\\\\0 & 0 & 1 & 0\\\\0 & 0 & 0 & 1\\end{matrix}\\right]$"
      ],
      "text/plain": [
       "Matrix([\n",
       "[1, 0, 0, 0],\n",
       "[0, 1, 0, 0],\n",
       "[0, 0, 1, 0],\n",
       "[0, 0, 0, 1]])"
      ]
     },
     "execution_count": 8,
     "metadata": {},
     "output_type": "execute_result"
    }
   ],
   "source": [
    "trigsimp(A_SLM*conjugate(A_SLM.T)) #A_SLM is unitary"
   ]
  },
  {
   "cell_type": "code",
   "execution_count": 9,
   "metadata": {},
   "outputs": [
    {
     "data": {
      "text/latex": [
       "$\\displaystyle \\left[\\begin{matrix}1 & 0 & 0 & 0\\\\0 & 1 & 0 & 0\\\\0 & 0 & 1 & 0\\\\0 & 0 & 0 & 1\\end{matrix}\\right]$"
      ],
      "text/plain": [
       "Matrix([\n",
       "[1, 0, 0, 0],\n",
       "[0, 1, 0, 0],\n",
       "[0, 0, 1, 0],\n",
       "[0, 0, 0, 1]])"
      ]
     },
     "execution_count": 9,
     "metadata": {},
     "output_type": "execute_result"
    }
   ],
   "source": [
    "trigsimp(A_PSSLM*conjugate(A_PSSLM.T)) #A_PSSLM is unitary"
   ]
  },
  {
   "cell_type": "code",
   "execution_count": 10,
   "metadata": {},
   "outputs": [
    {
     "data": {
      "text/latex": [
       "$\\displaystyle \\left[\\begin{matrix}1 & 0 & 0 & 0\\\\0 & 1 & 0 & 0\\\\0 & 0 & 1 & 0\\\\0 & 0 & 0 & 1\\end{matrix}\\right]$"
      ],
      "text/plain": [
       "Matrix([\n",
       "[1, 0, 0, 0],\n",
       "[0, 1, 0, 0],\n",
       "[0, 0, 1, 0],\n",
       "[0, 0, 0, 1]])"
      ]
     },
     "execution_count": 10,
     "metadata": {},
     "output_type": "execute_result"
    }
   ],
   "source": [
    "trigsimp(A_HWP*conjugate(A_HWP.T)) #A_HWP is unitary"
   ]
  },
  {
   "cell_type": "code",
   "execution_count": 11,
   "metadata": {},
   "outputs": [
    {
     "data": {
      "text/latex": [
       "$\\displaystyle \\left[\\begin{matrix}0 & 0 & 0 & 0\\\\0 & 0 & 0 & 0\\\\0 & 0 & 0 & 0\\\\0 & 0 & 0 & 0\\end{matrix}\\right]$"
      ],
      "text/plain": [
       "Matrix([\n",
       "[0, 0, 0, 0],\n",
       "[0, 0, 0, 0],\n",
       "[0, 0, 0, 0],\n",
       "[0, 0, 0, 0]])"
      ]
     },
     "execution_count": 11,
     "metadata": {},
     "output_type": "execute_result"
    }
   ],
   "source": [
    "trigsimp(A_HWP*A_SLM - A_SLM*A_HWP) #A_SLM and A_HWP commute"
   ]
  },
  {
   "cell_type": "markdown",
   "metadata": {},
   "source": [
    "## Proposal for a Parity-Sensitive Polarisation Modifier\n",
    "In the main paper [[1](#ref-1)], one of the loose ends that the authors do not seem to have addressed is that polarity seems to have a special place in this qubits scheme, in the sense that controlled gates can be made only with polarity as a control qubit (no parity controlled gates/devices are proposed). Here, we wish to present the design of a parity controlled device, that can be used to implement the controlled version of any possible (ordinarily) parity-insensitive device. \n",
    "<p>The main idea is to use the second use of the MZI. Suppose you are given an input beam and you want to perform a controlled-HWP operation on that (we have already seen uncontrolled HWP earlier). Then, the idea is to split up the input beam into the odd and even components with an MZI and then recombine them with a second MZI. In this way, a parity-controlled operation can be performed. The below image shows a schematic for a parity-sensitive HWP.</p>\n",
    "<img width = \"40%\" src='https://raw.githubusercontent.com/mahadevans2432/PH-202-Project/main/parity_sensitive_HWP.png'>\n",
    "<p> An important use of this idea will be to bring the line of thought presented in the paper to a logical conclusion - suppose we start with a purely even mode but completely unpolarised beam. Then, by coupling the parity to the polarisation, we can generate a coupled-DOF beam. To convert this beam to a completely polarised, parity-incoherent beam, we would need to implement a parity-controlled polarisation operation, which this section proposes a theoretical solution to accomplishing. One major issue still here, is that stacking two MZI's could be a challenge, in view of the difficulty of alignment.This might be fixable by using waveguides </p>\n",
    "<p> Note that in the above drawn diagram, there should be an appropriate compensator cell in the upper arm which compensates for the phase added to the slow polarisation by the HWP.</p>"
   ]
  },
  {
   "cell_type": "markdown",
   "metadata": {},
   "source": [
    "## The Three Experiments\n",
    "Below, we give a brief account of the setups for the three experiments\n",
    "### Experiment A\n",
    "In experiment A, the authors of [[1](#ref-1)] use a laser source with a perfectly even amplitude function and perfectly linearly polarised in a direction $45^\\circ$ to the x - axis. Then it is passed through a PS-SLM inducing a phase $\\frac{\\phi}{2}sgn(x)$ only to the H-polarisation, but not to the V-polarisation. This is a classical bell state where polarisation and parity are coupled, and in the case where $\\phi = \\pi$ radians, both DOFs appear completely incoherent in an uncoupled measurement.\n",
    "\n",
    "### Experiment B\n",
    "In this experiment, the even mode $45^\\circ$ laser is first passed through a random rotator which makes the beam completely polarisation incoherent (unpolarised) while not affecting the parity coherence. Now, it is again passed through a PS-SLM like in experiment A. Thus, the parity DOF is coupled to the polarisation DOF, which is incoherent. With a complete coupling ($\\phi = \\pi$ radians) the parity as well as polarisation appear completely incoherent by themselves, while we expect the beam to infact be partially coherent, since it was parity coherent to begin with. This is again revealed to be true by a Bell-state measurement.\n",
    "\n",
    "### Experiment C\n",
    "In this experiment we pass the even mode $45^\\circ$ laser through a PS-SLM, but this time the PS-SLM is probabilistic, in the sense that it couples the parity to polarisation with probability $P$ and does not couple them, with a probability $1-P$ (i.e. the beam is unaffected). In this case, the PS-SLM itself contributes to the incoherence (partial) of the beam because it introduces an element of randomness. "
   ]
  },
  {
   "cell_type": "markdown",
   "metadata": {},
   "source": [
    "## 3. Polarization and Spatial Parity analysis\n",
    "### 3.1 The correlation function\n",
    "We will now proceed to define a normalized correlation function $C(\\theta_a,\\phi_a)$ which we will use for defining our bell's measure $B$. The analyzing done in the paper does so with the following experimental setup shown below (images taken from [[1](#ref-1)])\n",
    "\n",
    "<table>\n",
    "    <tr>\n",
    "        <td><img width=\"90%\"src=\"https://raw.githubusercontent.com/mahadevans2432/PH-202-Project/main/fig1b-og.png\"/><center><b>Fig: 3.1</b></center></td>\n",
    "        <td><img width=\"90%\"src=\"https://raw.githubusercontent.com/mahadevans2432/PH-202-Project/main/fig1c-og.png\"/><center><b>Fig: 3.2</b></center></td>\n",
    "    </tr>\n",
    "</table>\n",
    "\n",
    "[Section 2](#2.-Experimental-Apparatus) explains the functioning principle for each of the apparatus in the above figure. What the setup essentially does in fig: 3.1.1 is for analyzing the DoFs seperately. The polarization is analyzed in a linear basis rotated by $\\theta_a$ by action of the half wave plate and similarly the parity is analyzed by analyzing over a basis rotated by $\\varphi_a$. The measured intensities are normalized and kept as probabilities in a way that $P_H + P_V = P_o + P_e = 1$. In fig: 3.2 combined polarization-parity measurements are done by essentially using the setup of fig: 3.1 but by concatenating the different DoF analysis stages. If we call the input coherency matrix as $\\mathbf{G}_{in}$ then the resulting coherency matrix after the transformations on which measurement is being done is \n",
    "\\begin{equation}\\label{eq:3.1}\\tag{3.1}\\mathbf{G}_{out} = A_{SLM}^*A_{HWP}^*\\mathbf{G}_{in}A_{HWP}^TA_{SLM}^T\\end{equation}\n",
    "As already shown in section 1, our definition of overall coherence in eq: 1.1 is invariant under applying these unitaries on the state. The following is the definition we give to the correlation function in the equation below. Symmetric values are assignmed to the coefficeints $c_\\text{pol} = \\pm1$ ($c_\\text{par} = \\pm1$) to the dichotomic H (e) and V (o) probability outcomes. \n",
    "\\begin{equation}\\label{eq:3.2}\\tag{3.2}C(\\theta_a,\\varphi_a) = \\sum c_\\text{pol}c_\\text{par}P_\\text{pol,par} = P_\\text{He} - P_\\text{H0} - P_\\text{Ve} + P_\\text{Vo}\\end{equation}\n",
    "For the uncoupled case this can be factorized into $C(\\theta_1,\\varphi_a) = C_\\text{pol}(\\theta_a)C_\\text{par}(\\phi_a)$ and here we would have $C_\\text{pol}(\\theta_a) = P_H - P_V$ and $C_\\text{par} = P_e - P_o$. Proceeding this they use th CSHS formulation of the Bell's measure (see Appendix A) to write \n",
    "\\begin{equation}\\label{eq:3.3}\\tag{3.3}B = |C(\\theta_a,\\varphi_a) + C(\\theta_a,\\varphi_a') + C(\\theta_a',\\varphi_a) - C(\\theta_a',\\varphi_a')|\\end{equation}\n",
    "Now we have an upper bound on $B_{max}$ which is the maximum value this measure takes over these four variables and this is what the paper from this point refers to as the Bell's measure. This bound is called the Tsirelon's bound and is $B_{max}\\leq 2\\sqrt{2}$ and in the classical case (where all observables commute) it is actually bounded above by 2.\n",
    "\n",
    "We will now prove that any coherent beam has $D_\\text{pol} = D_\\text{par}$. Any coherent beam here would be isomorphic to a pure two qubit state. For pure states, if the state is $|\\psi\\rangle$, then the density matrix is $\\rho = |\\psi\\rangle\\langle\\psi|$. We can represent this in a Schmidt form where $|\\psi\\rangle = \\sum_ig_i|u_i\\rangle\\otimes|v_i\\rangle$ which can be done for any arbitrary pure state so for the 4 dimensional Jones vector here we only have two variables and so without loss of generality we can choose to write our jones vector as $\\mathbf{J} = [\\mu_1\\text{ 0 0 }\\mu_2]^T$ and for this state we would have that\n",
    "\\begin{equation}\\label{eq:3.4}\\tag{3.4}\\mathbf{G}_\\text{pol} = \\mathbf{G}_\\text{par} = \\begin{pmatrix}\\mu_1^2 & 0\\\\0 & \\mu_2^2\\end{pmatrix}\\end{equation}\n",
    "This leads to $D_\\text{pol} = D_\\text{par} = |\\mu_1^2-\\mu_2^2|$ which is essentially the difference the eigenvalues of the respective matrix. Note that the above equation would be true in the basis where we can write the Schmidt decomposition of the Jones vector but since this is a coherent state this basis can be reached by applying unitaries that do not do any coupling. Also for coherent beams the paper claims that we would have $4D_\\text{par}^2+B_{max}^2 = 4D_\\text{pol}^2+B_{max}^2 = 8$ which becomes $4D_\\text{pol}^2+B_{max}^2\\leq 8$ and $4D_\\text{par}^2+B_{max}^2\\leq 8$ for partially coherent beams hence they define a new degree of coherence reffered to as the partial degree of coherence\n",
    "\\begin{equation}S_\\text{pol} = \\dfrac{D_\\text{pol}^2}{2} + \\left(\\dfrac{B_{max}}{2\\sqrt{2}}\\right)^2\\text{, }S_\\text{par} = \\dfrac{D_\\text{par}^2}{2} + \\left(\\dfrac{B_{max}}{2\\sqrt{2}}\\right)^2\\end{equation}\n",
    "One important thing to note is that the accessible degrees of coherence written above are invariant under unitary coupling between the two DoFs when both the DoFs are coherent and trivially also invariant under non coupling unitary transforms. We can see this as a sort of sharing of coherence between apparent coherence of an individual DoF ($D_\\text{pol}$ and $D_\\text{par}$) and the coupling between them ($B_{max}$). For a fully coherent beam we will always have $S = S_\\text{pol} = S_\\text{par} = 1$ regardless of coupling between the DoFs. This also demostrates how we can make coherence essentially migrate from form of coupling to apparent coherence of individual DoFs by simply using unitary transforms.\n"
   ]
  },
  {
   "cell_type": "markdown",
   "metadata": {},
   "source": [
    "## 4. Theoretical analysis of the three experiments\n",
    "The paper [[1](#ref-1)] describes three experiments A, B and C. Here we will derive the theoretical expressions they use for fitting their data using the SymPy package."
   ]
  },
  {
   "cell_type": "code",
   "execution_count": 12,
   "metadata": {},
   "outputs": [],
   "source": [
    "def trace_G(G): #A trace function for just 4x4 G matrices\n",
    "    return simplify(G[0,0] + G[1,1] + G[2,2] + G[3,3])\n",
    "def corr_prob(G): #Returns the value I_He - I_Ho - I_Ve +I_Vo from given G matrix\n",
    "    return simplify(G[0,0] - G[1,1] - G[2,2] + G[3,3])\n",
    "\n",
    "def par_tr_G_pol(G): #returns the partial trace of G for giving G_pol\n",
    "    return simplify(Matrix([[G[0,0]+G[1,1],G[0,2]+G[1,3]],[G[2,0]+G[3,1],G[2,2]+G[3,3]]]))\n",
    "\n",
    "def par_tr_G_par(G): #returns the partial trace of G for giving G_par\n",
    "    return Matrix([[G[0,0]+G[2,2],G[0,1]+G[2,3]],[G[1,0]+G[3,2],G[1,1]+G[3,3]]])\n",
    "\n",
    "def app_coh(G): #Returns apparent degree of coherence for a 2x2 G matrix\n",
    "    return simplify(sqrt(1-4*simplify(Determinant(G))/(simplify(Trace(G))**2)))"
   ]
  },
  {
   "cell_type": "markdown",
   "metadata": {},
   "source": [
    "#### Methods for Calculating Values of $D_{pol}$, $D_{par}$, $B_{max}$, $S_{pol}$ and $S_{par}$"
   ]
  },
  {
   "cell_type": "code",
   "execution_count": 13,
   "metadata": {},
   "outputs": [],
   "source": [
    "def bmaxfinder(C_ta_pa,x):\n",
    "    tb,pb = symbols('theta_b varphi_b',real=True)\n",
    "    B = C_ta_pa + C_ta_pa.xreplace({ta:tb}) + C_ta_pa.xreplace({pa:pb}) - C_ta_pa.xreplace({ta:tb,pa:pb})\n",
    "    b = lambdify((ta,pa,tb,pb,p),B, \"numpy\")\n",
    "    bmax=[-1*(sc.optimize.minimize(lambda params: -1*abs(b(params[0],params[1],params[2],params[3],i)), [0,0,0,0], method = 'L-BFGS-B').fun) for i in x]\n",
    "    bmax=np.around(bmax,decimals=5)\n",
    "    return bmax"
   ]
  },
  {
   "cell_type": "code",
   "execution_count": 14,
   "metadata": {},
   "outputs": [],
   "source": [
    "def bmaxfinderC(C_ta_pa,x):\n",
    "    tb,pb = symbols('theta_b varphi_b',real=True)\n",
    "    B = abs(C_ta_pa + C_ta_pa.xreplace({ta:tb}) + C_ta_pa.xreplace({pa:pb}) - C_ta_pa.xreplace({ta:tb,pa:pb}))\n",
    "    b = lambdify((ta,pa,tb,pb,P),B, \"numpy\")\n",
    "    bmax=[-1*(sc.optimize.minimize(lambda params: -1*abs(b(params[0],params[1],params[2],params[3],i)), [0,0,0,0], method = 'L-BFGS-B').fun) for i in x]\n",
    "    bmax=np.around(bmax,decimals=5)\n",
    "    return bmax"
   ]
  },
  {
   "cell_type": "code",
   "execution_count": 15,
   "metadata": {},
   "outputs": [],
   "source": [
    "def dfinder(D,x):\n",
    "    d=lambdify(p,D,\"numpy\")\n",
    "    d_final=[d(i) for i in x]\n",
    "    return d_final"
   ]
  },
  {
   "cell_type": "code",
   "execution_count": 16,
   "metadata": {},
   "outputs": [],
   "source": [
    "def dfinderC(D,x):\n",
    "    d=lambdify(P,D,\"numpy\")\n",
    "    d_final=[d(i) for i in x]\n",
    "    return d_final"
   ]
  },
  {
   "cell_type": "code",
   "execution_count": 17,
   "metadata": {},
   "outputs": [],
   "source": [
    "def sfinder(d,bmax):   \n",
    "    return np.around(np.square(d)/2+np.square(bmax)/8,decimals=5)"
   ]
  },
  {
   "cell_type": "markdown",
   "metadata": {},
   "source": [
    "### 4.1 Experiment A: Coherent Beam with Coupled DOF\n",
    "Here the field is competely coherent and we start with the Jones vector in state $\\mathbf{J} = (1/\\sqrt{2})[\\cos(\\varphi/2)\\text{ }\\iota\\sin(\\varphi/2)\\text{ 1 0}]^T$ which is reached by applying the PS-SLM on the input state of $\\mathbf{J}_{in} = (1/\\sqrt{2})[\\text{1 0 1 0}]^T$. On this we then apply the rotation of basis by $\\theta_a$ for polarization and of $\\varphi_a$ for parity and then conduct measurements of each component. Based on our previous definitions we now derive the correlation function for this experiment."
   ]
  },
  {
   "cell_type": "code",
   "execution_count": 18,
   "metadata": {
    "scrolled": true
   },
   "outputs": [
    {
     "data": {
      "text/latex": [
       "$\\displaystyle \\left[\\begin{matrix}0.5 \\cos^{2}{\\left(\\frac{\\varphi}{2} \\right)} & 0.25 i \\sin{\\left(\\varphi \\right)} & 0.5 \\cos{\\left(\\frac{\\varphi}{2} \\right)} & 0\\\\- 0.25 i \\sin{\\left(\\varphi \\right)} & 0.5 \\sin^{2}{\\left(\\frac{\\varphi}{2} \\right)} & - 0.5 i \\sin{\\left(\\frac{\\varphi}{2} \\right)} & 0\\\\0.5 \\cos{\\left(\\frac{\\varphi}{2} \\right)} & 0.5 i \\sin{\\left(\\frac{\\varphi}{2} \\right)} & 0.5 & 0\\\\0 & 0 & 0 & 0\\end{matrix}\\right]$"
      ],
      "text/plain": [
       "Matrix([\n",
       "[0.5*cos(varphi/2)**2,   0.25*I*sin(varphi),    0.5*cos(varphi/2), 0],\n",
       "[ -0.25*I*sin(varphi), 0.5*sin(varphi/2)**2, -0.5*I*sin(varphi/2), 0],\n",
       "[   0.5*cos(varphi/2),  0.5*I*sin(varphi/2),                  0.5, 0],\n",
       "[                   0,                    0,                    0, 0]])"
      ]
     },
     "execution_count": 18,
     "metadata": {},
     "output_type": "execute_result"
    }
   ],
   "source": [
    "J = sqrt(1/2)*Matrix([cos(p/2),I*sin(p/2),1,0])\n",
    "G_A = trigsimp(conjugate(J)*J.T)\n",
    "G_A #The input beam G matrix before the transformations"
   ]
  },
  {
   "cell_type": "markdown",
   "metadata": {},
   "source": [
    "#### Calculation of $D_{pol}$ and $D_{par}$"
   ]
  },
  {
   "cell_type": "code",
   "execution_count": 19,
   "metadata": {},
   "outputs": [
    {
     "data": {
      "text/latex": [
       "$\\displaystyle \\left[\\begin{matrix}0.5 & 0.5 \\cos{\\left(\\frac{\\varphi}{2} \\right)}\\\\0.5 \\cos{\\left(\\frac{\\varphi}{2} \\right)} & 0.5\\end{matrix}\\right]$"
      ],
      "text/plain": [
       "Matrix([\n",
       "[              0.5, 0.5*cos(varphi/2)],\n",
       "[0.5*cos(varphi/2),               0.5]])"
      ]
     },
     "execution_count": 19,
     "metadata": {},
     "output_type": "execute_result"
    }
   ],
   "source": [
    "G_pol_A = par_tr_G_pol(G_A)\n",
    "G_pol_A"
   ]
  },
  {
   "cell_type": "code",
   "execution_count": 20,
   "metadata": {
    "scrolled": true
   },
   "outputs": [
    {
     "data": {
      "text/latex": [
       "$\\displaystyle \\left[\\begin{matrix}0.5 \\cos^{2}{\\left(\\frac{\\varphi}{2} \\right)} + 0.5 & 0.25 i \\sin{\\left(\\varphi \\right)}\\\\- 0.25 i \\sin{\\left(\\varphi \\right)} & 0.5 \\sin^{2}{\\left(\\frac{\\varphi}{2} \\right)}\\end{matrix}\\right]$"
      ],
      "text/plain": [
       "Matrix([\n",
       "[0.5*cos(varphi/2)**2 + 0.5,   0.25*I*sin(varphi)],\n",
       "[       -0.25*I*sin(varphi), 0.5*sin(varphi/2)**2]])"
      ]
     },
     "execution_count": 20,
     "metadata": {},
     "output_type": "execute_result"
    }
   ],
   "source": [
    "G_par_A = par_tr_G_par(G_A)\n",
    "G_par_A"
   ]
  },
  {
   "cell_type": "code",
   "execution_count": 21,
   "metadata": {
    "scrolled": true
   },
   "outputs": [
    {
     "data": {
      "text/latex": [
       "$\\displaystyle 1.0 \\left|{\\cos{\\left(\\frac{\\varphi}{2} \\right)}}\\right|$"
      ],
      "text/plain": [
       "1.0*Abs(cos(varphi/2))"
      ]
     },
     "execution_count": 21,
     "metadata": {},
     "output_type": "execute_result"
    }
   ],
   "source": [
    "D_pol_A=app_coh(G_pol_A)\n",
    "D_pol_A# Prints D_pol"
   ]
  },
  {
   "cell_type": "code",
   "execution_count": 22,
   "metadata": {
    "scrolled": true
   },
   "outputs": [
    {
     "data": {
      "text/latex": [
       "$\\displaystyle 0.707106781186548 \\sqrt{\\cos{\\left(\\varphi \\right)} + 1}$"
      ],
      "text/plain": [
       "0.707106781186548*sqrt(cos(varphi) + 1)"
      ]
     },
     "execution_count": 22,
     "metadata": {},
     "output_type": "execute_result"
    }
   ],
   "source": [
    "D_par_A=app_coh(G_par_A)\n",
    "D_par_A# Prints D_par"
   ]
  },
  {
   "cell_type": "markdown",
   "metadata": {},
   "source": [
    "#### Calculation of the Correlation Function and $B_{max}$"
   ]
  },
  {
   "cell_type": "code",
   "execution_count": 23,
   "metadata": {},
   "outputs": [
    {
     "data": {
      "text/latex": [
       "$\\displaystyle 1.0 \\sin{\\left(\\theta_{a} \\right)} \\cos{\\left(\\frac{\\varphi}{2} + \\varphi_{a} \\right)} - 0.5 \\cos{\\left(\\theta_{a} \\right)} \\cos{\\left(\\varphi_{a} \\right)} + 0.5 \\cos{\\left(\\theta_{a} \\right)} \\cos{\\left(\\varphi + \\varphi_{a} \\right)}$"
      ],
      "text/plain": [
       "1.0*sin(theta_a)*cos(varphi/2 + varphi_a) - 0.5*cos(theta_a)*cos(varphi_a) + 0.5*cos(theta_a)*cos(varphi + varphi_a)"
      ]
     },
     "execution_count": 23,
     "metadata": {},
     "output_type": "execute_result"
    }
   ],
   "source": [
    "G_out_A = conjugate(A_SLM)*conjugate(A_HWP)*G_A*A_HWP.T*A_SLM.T #Transformed matrix\n",
    "C_ta_pa_A = trigsimp(corr_prob(G_out_A)/trace_G(G_out_A))\n",
    "C_ta_pa_A"
   ]
  },
  {
   "cell_type": "markdown",
   "metadata": {},
   "source": [
    "As we can see from above this does not actually match the expression provided in [[1](#ref-1)]. While this initially baffled us we came to a conclusion that this expression is infact correct as per the aim of the paper. Moreover this actually reproduces the experimental results they obtained while in contrast their correlation function fails to do it as well. Also the optimized Bmax values fit with the relation which the paper claims if our correlation function is used instead of theirs.\n",
    "The optimization procedure that we chose to go ahead with is just normal numerical optimization since otherwise we would have had to make the gradient zero and run through all possible cases where the gradient vanishes which would have been a lengthy procedure."
   ]
  },
  {
   "cell_type": "markdown",
   "metadata": {},
   "source": [
    "#### GRAPHS FOR EXPERIMENT A"
   ]
  },
  {
   "cell_type": "code",
   "execution_count": 24,
   "metadata": {},
   "outputs": [
    {
     "data": {
      "application/vnd.jupyter.widget-view+json": {
       "model_id": "da018daa8d244cb6b75d628dfd9ebf9b",
       "version_major": 2,
       "version_minor": 0
      },
      "text/plain": [
       "interactive(children=(Dropdown(description='option', options=('Show All', 'D', 'B', 'S', 'Hide All'), value='S…"
      ]
     },
     "metadata": {},
     "output_type": "display_data"
    }
   ],
   "source": [
    "def expAPlots(option):\n",
    "    num_space=102\n",
    "    phi=np.linspace(0, 2*np.pi, num_space)\n",
    "    bmax=bmaxfinder(C_ta_pa_A,phi)\n",
    "    dpol=dfinder(D_pol_A,phi)\n",
    "    dpar=dfinder(D_par_A,phi)\n",
    "    spol=sfinder(dpol,bmax)\n",
    "    spar=sfinder(dpar,bmax)\n",
    "    d=dpol\n",
    "    s=spol\n",
    "    \n",
    "    if option!='Hide All':        \n",
    "    \n",
    "        if option=='B':            \n",
    "            fig, ax = plt.subplots(figsize=(7, 7))\n",
    "            plotter(phi,bmax,r'$B_{max}$',r'$\\phi$',r'$B_{max}$',(1,0,0),r'$B_{max}$')\n",
    "            plt.plot(phi,[8**(0.5)]*num_space,color='black', linestyle ='dashed')\n",
    "            plt.plot(phi,[2]*num_space,color='black', linestyle ='dashed')\n",
    "            plt.figtext(s=r'$2\\sqrt{2}$', x=0.15, y=0.77, fontsize=15)\n",
    "            plt.figtext(s=r'$2$', x=0.15, y=0.48, fontsize=15)\n",
    "            plt.ylim(1,3)\n",
    "            plt.show()\n",
    "            \n",
    "        elif option=='S':\n",
    "            fig, ax = plt.subplots(figsize=(7, 7))\n",
    "            plotter(phi,spol,r'$S_{pol}=S_{par}=1$',r'$\\phi$',r'$S_{pol}\\ \\slash\\ S_{par}$',(1,0,0),r'$s_{pol}$')\n",
    "            plotter(phi,spar,r'$S_{pol}=S_{par}=1$',r'$\\phi$',r'$S_{pol}\\ \\slash\\ S_{par}$',(0,0,1),r'$s_{par}$')\n",
    "            plt.ylim(0,1.1) \n",
    "            plt.legend()\n",
    "            plt.show()\n",
    "            \n",
    "        elif option=='D':         \n",
    "            fig, ax = plt.subplots(figsize=(7, 7))\n",
    "            plotter(phi,dpol,r'$D_{pol}\\ and\\ D_{par}$',r'$\\phi$',r'$D_{pol}\\ \\slash\\ D_{par}$',(1,0,0),r'$d_{pol}$')\n",
    "            plotter(phi,dpar,r'$D_{pol}\\ and\\ D_{par}$',r'$\\phi$',r'$D_{pol}\\ \\slash\\ D_{par}$',(0,0,1),r'$d_{par}$')\n",
    "            plt.ylim(0,1.1)\n",
    "            plt.legend()\n",
    "            plt.show()\n",
    "            \n",
    "        else:\n",
    "            fig, ax = plt.subplots(figsize=(7, 7))\n",
    "            plotter(phi,dpol,r'$D_{pol}\\ and\\ D_{par}$',r'$\\phi$',r'$D_{pol}\\ \\slash\\ D_{par}$',(1,0,0),r'$d_{pol}$')\n",
    "            plotter(phi,dpar,r'$D_{pol}\\ and\\ D_{par}$',r'$\\phi$',r'$D_{pol}\\ \\slash\\ D_{par}$',(0,0,1),r'$d_{par}$')\n",
    "            plt.ylim(0,1.1)\n",
    "            plt.legend()\n",
    "            plt.show()\n",
    "            fig, ax = plt.subplots(figsize=(7, 7))\n",
    "            plotter(phi,bmax,r'$B_{max}$',r'$\\phi$',r'$B_{max}$',(1,0,0),r'$B_{max}$')\n",
    "            plt.plot(phi,[8**(0.5)]*num_space,color='black', linestyle ='dashed')\n",
    "            plt.plot(phi,[2]*num_space,color='black', linestyle ='dashed')\n",
    "            plt.figtext(s=r'$2\\sqrt{2}$', x=0.15, y=0.77, fontsize=15)\n",
    "            plt.figtext(s=r'$2$', x=0.15, y=0.48, fontsize=15)\n",
    "            plt.ylim(1,3)\n",
    "            plt.show()\n",
    "            fig, ax = plt.subplots(figsize=(7, 7))\n",
    "            plotter(phi,spol,r'$S_{pol} and S_{par}$',r'$\\phi$',r'$S_{pol}\\ \\slash\\ S_{par}$',(1,0,0),r'$s_{pol}$')\n",
    "            plotter(phi,spar,r'$S_{pol} and S_{par}$',r'$\\phi$',r'$S_{pol}\\ \\slash\\ S_{par}$',(0,0,1),r'$s_{par}$')\n",
    "            plt.ylim(0,1.1) \n",
    "            plt.legend()\n",
    "            plt.show()\n",
    "            \n",
    "            \n",
    "        plt.show()\n",
    "    \n",
    "    else:       \n",
    "        fig, ax = plt.subplots(figsize=(0.01, 0.01))\n",
    "        plt.show()\n",
    "        clear_output()\n",
    "    return\n",
    "\n",
    "interact(expAPlots, option=['Show All', 'D', 'B', 'S', 'Hide All']);"
   ]
  },
  {
   "cell_type": "code",
   "execution_count": 25,
   "metadata": {
    "scrolled": false
   },
   "outputs": [
    {
     "data": {
      "application/vnd.jupyter.widget-view+json": {
       "model_id": "42121c4cc8ed488897cacf48c143e013",
       "version_major": 2,
       "version_minor": 0
      },
      "text/plain": [
       "interactive(children=(FloatSlider(value=1.0471975511965976, continuous_update=False, description='phi', layout…"
      ]
     },
     "metadata": {},
     "output_type": "display_data"
    }
   ],
   "source": [
    "def expAContours(phi):\n",
    "    function=C_ta_pa_A\n",
    "    contourplotter(function,phi,r'$C(\\theta_a,\\phi_a)$',r'$\\theta_a$',r'$\\phi_a$')\n",
    "    return\n",
    "interact(expAContours, phi=widgets.FloatSlider(min=0, max=2*np.pi, step=0.02, value=np.pi/3, continuous_update=False, layout=Layout(width='600px')));"
   ]
  },
  {
   "cell_type": "markdown",
   "metadata": {},
   "source": [
    "As it can be seen in the above graphs, our degree of coherence $S$ and also $S_\\text{pol}$ and $S_\\text{par}$ stay at the value of 1 throughout and are invariant to any unitary transformation done on the system. As we vary the angle $\\phi$ we can see that the coupling is maximized at $\\phi=\\pi$ at which moment the apparent degrees of coherence go to zero since all of our original coherency is present in the form of coupling."
   ]
  },
  {
   "cell_type": "markdown",
   "metadata": {},
   "source": [
    "### 4.2 Experiment B:  Partially Coherent Beam with Coupled DOFs\n",
    "Here starting with the same $\\mathbf{J}_{in}$ the polarization is scrambled using a variable polarization rotator which does not affect the spatial DoF so we have $D_\\text{pol} = 0$ and $D_\\text{par} = 1$. Now this beam is sent through a PS-SLM which would couple the DoFs. We now go on to derive the correlation function for this"
   ]
  },
  {
   "cell_type": "code",
   "execution_count": 26,
   "metadata": {
    "scrolled": false
   },
   "outputs": [
    {
     "data": {
      "text/latex": [
       "$\\displaystyle \\left[\\begin{matrix}0.5 \\cos^{2}{\\left(\\frac{\\varphi}{2} \\right)} & 0.5 i \\sin{\\left(\\frac{\\varphi}{2} \\right)} \\cos{\\left(\\frac{\\varphi}{2} \\right)} & 0 & 0\\\\- 0.5 i \\sin{\\left(\\frac{\\varphi}{2} \\right)} \\cos{\\left(\\frac{\\varphi}{2} \\right)} & 0.5 \\sin^{2}{\\left(\\frac{\\varphi}{2} \\right)} & 0 & 0\\\\0 & 0 & 0.5 & 0\\\\0 & 0 & 0 & 0\\end{matrix}\\right]$"
      ],
      "text/plain": [
       "Matrix([\n",
       "[              0.5*cos(varphi/2)**2, 0.5*I*sin(varphi/2)*cos(varphi/2),   0, 0],\n",
       "[-0.5*I*sin(varphi/2)*cos(varphi/2),              0.5*sin(varphi/2)**2,   0, 0],\n",
       "[                                 0,                                 0, 0.5, 0],\n",
       "[                                 0,                                 0,   0, 0]])"
      ]
     },
     "execution_count": 26,
     "metadata": {},
     "output_type": "execute_result"
    }
   ],
   "source": [
    "G_B = (1/2)*Matrix([[cos(p/2)**2, I*cos(p/2)*sin(p/2), 0, 0],[-I*cos(p/2)*sin(p/2), sin(p/2)**2, 0,0],\n",
    "            [0,0,1,0],[0,0,0,0]])\n",
    "G_B #The input beam G matrix before the transformations"
   ]
  },
  {
   "cell_type": "markdown",
   "metadata": {},
   "source": [
    "#### Calculation of $D_{pol}$ and $D_{par}$"
   ]
  },
  {
   "cell_type": "code",
   "execution_count": 27,
   "metadata": {},
   "outputs": [
    {
     "data": {
      "text/latex": [
       "$\\displaystyle \\left[\\begin{matrix}0.5 & 0\\\\0 & 0.5\\end{matrix}\\right]$"
      ],
      "text/plain": [
       "Matrix([\n",
       "[0.5,   0],\n",
       "[  0, 0.5]])"
      ]
     },
     "execution_count": 27,
     "metadata": {},
     "output_type": "execute_result"
    }
   ],
   "source": [
    "G_pol_B = par_tr_G_pol(G_B)\n",
    "G_pol_B"
   ]
  },
  {
   "cell_type": "code",
   "execution_count": 28,
   "metadata": {
    "scrolled": true
   },
   "outputs": [
    {
     "data": {
      "text/latex": [
       "$\\displaystyle \\left[\\begin{matrix}0.5 \\cos^{2}{\\left(\\frac{\\varphi}{2} \\right)} + 0.5 & 0.5 i \\sin{\\left(\\frac{\\varphi}{2} \\right)} \\cos{\\left(\\frac{\\varphi}{2} \\right)}\\\\- 0.5 i \\sin{\\left(\\frac{\\varphi}{2} \\right)} \\cos{\\left(\\frac{\\varphi}{2} \\right)} & 0.5 \\sin^{2}{\\left(\\frac{\\varphi}{2} \\right)}\\end{matrix}\\right]$"
      ],
      "text/plain": [
       "Matrix([\n",
       "[        0.5*cos(varphi/2)**2 + 0.5, 0.5*I*sin(varphi/2)*cos(varphi/2)],\n",
       "[-0.5*I*sin(varphi/2)*cos(varphi/2),              0.5*sin(varphi/2)**2]])"
      ]
     },
     "execution_count": 28,
     "metadata": {},
     "output_type": "execute_result"
    }
   ],
   "source": [
    "G_par_B = par_tr_G_par(G_B)\n",
    "G_par_B"
   ]
  },
  {
   "cell_type": "code",
   "execution_count": 29,
   "metadata": {
    "scrolled": true
   },
   "outputs": [
    {
     "data": {
      "text/latex": [
       "$\\displaystyle 0$"
      ],
      "text/plain": [
       "0"
      ]
     },
     "execution_count": 29,
     "metadata": {},
     "output_type": "execute_result"
    }
   ],
   "source": [
    "D_pol_B=app_coh(G_pol_B)\n",
    "D_pol_B# Prints D_pol"
   ]
  },
  {
   "cell_type": "code",
   "execution_count": 30,
   "metadata": {
    "scrolled": true
   },
   "outputs": [
    {
     "data": {
      "text/latex": [
       "$\\displaystyle 0.707106781186548 \\sqrt{\\cos{\\left(\\varphi \\right)} + 1}$"
      ],
      "text/plain": [
       "0.707106781186548*sqrt(cos(varphi) + 1)"
      ]
     },
     "execution_count": 30,
     "metadata": {},
     "output_type": "execute_result"
    }
   ],
   "source": [
    "D_par_B=app_coh(G_par_B)\n",
    "D_par_B"
   ]
  },
  {
   "cell_type": "markdown",
   "metadata": {},
   "source": [
    "#### Calculation of the Correlation Function and $B_{max}$"
   ]
  },
  {
   "cell_type": "code",
   "execution_count": 31,
   "metadata": {},
   "outputs": [
    {
     "data": {
      "text/latex": [
       "$\\displaystyle 0.5 \\left(- \\cos{\\left(\\varphi_{a} \\right)} + \\cos{\\left(\\varphi + \\varphi_{a} \\right)}\\right) \\cos{\\left(\\theta_{a} \\right)}$"
      ],
      "text/plain": [
       "0.5*(-cos(varphi_a) + cos(varphi + varphi_a))*cos(theta_a)"
      ]
     },
     "execution_count": 31,
     "metadata": {},
     "output_type": "execute_result"
    }
   ],
   "source": [
    "G_out_B = conjugate(A_SLM)*conjugate(A_HWP)*G_B*A_HWP.T*A_SLM.T #Transformed matrix\n",
    "C_ta_pa_B = trigsimp(corr_prob(G_out_B)/trace_G(G_out_B))\n",
    "C_ta_pa_B"
   ]
  },
  {
   "cell_type": "markdown",
   "metadata": {},
   "source": [
    "We have now seen that our expression for the correlation function matches the exact one obtained in the reference [[1](#ref-1)]. We now go ahead to optimize our expression for B and obtain the other plots below. On a sidenote one can actually traditionally find the maxima for the $B$ expression here since it is simpler to look at. The condition where it is maximized is when $\\phi_a=\\phi_b=\\frac{\\pi-\\phi}{2}$ and $\\theta_a = \\theta_b = 0$ or $\\pi$ which can be verified by looking at the gradient."
   ]
  },
  {
   "cell_type": "markdown",
   "metadata": {},
   "source": [
    "#### GRAPHS FOR EXPERIMENT B"
   ]
  },
  {
   "cell_type": "code",
   "execution_count": 32,
   "metadata": {
    "scrolled": false
   },
   "outputs": [
    {
     "data": {
      "application/vnd.jupyter.widget-view+json": {
       "model_id": "1d3f9adfc6a449daa501871f607ad642",
       "version_major": 2,
       "version_minor": 0
      },
      "text/plain": [
       "interactive(children=(Dropdown(description='option', options=('Show All', 'D', 'B', 'S', 'Hide All'), value='S…"
      ]
     },
     "metadata": {},
     "output_type": "display_data"
    }
   ],
   "source": [
    "def expBPlots(option):\n",
    "    num_space=102\n",
    "    phi=np.linspace(0, 2*np.pi, num_space)\n",
    "    bmax=bmaxfinder(C_ta_pa_B,phi)\n",
    "    dpol=dfinder(D_pol_B,phi)\n",
    "    dpar=dfinder(D_par_B,phi)\n",
    "    spol=sfinder(dpol,bmax)\n",
    "    spar=sfinder(dpar,bmax)\n",
    "    \n",
    "    if option!='Hide All':        \n",
    "    \n",
    "        if option=='B':            \n",
    "            fig, ax = plt.subplots(figsize=(7, 7))\n",
    "            plotter(phi,bmax,r'$B_{max}$',r'$\\phi$',r'$B_{max}$',(1,0,0),r'$B_{max}$')\n",
    "            plt.plot(phi,[2]*num_space,color='black', linestyle ='dashed')\n",
    "            plt.ylim(0,2.5)\n",
    "            plt.show()\n",
    "            \n",
    "        elif option=='S':\n",
    "            fig, ax = plt.subplots(figsize=(7, 7))\n",
    "            plotter(phi,spol,r'$S_{pol}=S_{par}=1$',r'$\\phi$',r'$S_{pol}\\ \\slash\\ S_{par}$',(1,0,0),r'$s_{pol}$')\n",
    "            plotter(phi,spar,r'$S_{pol}=S_{par}=1$',r'$\\phi$',r'$S_{pol}\\ \\slash\\ S_{par}$',(0,0,1),r'$s_{par}$')\n",
    "            plt.ylim(0,1.1) \n",
    "            plt.legend()\n",
    "            plt.show()\n",
    "            \n",
    "        elif option=='D':         \n",
    "            fig, ax = plt.subplots(figsize=(7, 7))\n",
    "            plotter(phi,dpol,r'$D_{pol}\\ and\\ D_{par}$',r'$\\phi$',r'$D_{pol}\\ \\slash\\ D_{par}$',(1,0,0),r'$d_{pol}$')\n",
    "            plotter(phi,dpar,r'$D_{pol}\\ and\\ D_{par}$',r'$\\phi$',r'$D_{pol}\\ \\slash\\ D_{par}$',(0,0,1),r'$d_{par}$')\n",
    "            plt.ylim(-0.1,1.1)\n",
    "            plt.legend()\n",
    "            plt.show()\n",
    "            \n",
    "        else:\n",
    "            fig, ax = plt.subplots(figsize=(7, 7))\n",
    "            plotter(phi,dpol,r'$D_{pol}\\ and\\ D_{par}$',r'$\\phi$',r'$D_{pol}\\ \\slash\\ D_{par}$',(1,0,0),r'$d_{pol}$')\n",
    "            plotter(phi,dpar,r'$D_{pol}\\ and\\ D_{par}$',r'$\\phi$',r'$D_{pol}\\ \\slash\\ D_{par}$',(0,0,1),r'$d_{par}$')\n",
    "            plt.ylim(-0.1,1.1)\n",
    "            plt.legend()\n",
    "            plt.show()\n",
    "            fig, ax = plt.subplots(figsize=(7, 7))\n",
    "            plotter(phi,bmax,r'$B_{max}$',r'$\\phi$',r'$B_{max}$',(1,0,0),r'$B_{max}$')\n",
    "            plt.plot(phi,[2]*num_space,color='black', linestyle ='dashed')\n",
    "            plt.ylim(0,2.5)\n",
    "            plt.show()\n",
    "            fig, ax = plt.subplots(figsize=(7, 7))\n",
    "            plotter(phi,spol,r'$S_{pol} and S_{par}$',r'$\\phi$',r'$S_{pol}\\ \\slash\\ S_{par}$',(1,0,0),r'$s_{pol}$')\n",
    "            plotter(phi,spar,r'$S_{pol} and S_{par}$',r'$\\phi$',r'$S_{pol}\\ \\slash\\ S_{par}$',(0,0,1),r'$s_{par}$')\n",
    "            plt.ylim(0,1.1) \n",
    "            plt.legend()\n",
    "            plt.show()\n",
    "            \n",
    "            \n",
    "        plt.show()\n",
    "    \n",
    "    else:       \n",
    "        fig, ax = plt.subplots(figsize=(0.01, 0.01))\n",
    "        plt.show()\n",
    "        clear_output()\n",
    "    return\n",
    "\n",
    "interact(expBPlots, option=['Show All', 'D', 'B', 'S', 'Hide All']);"
   ]
  },
  {
   "cell_type": "code",
   "execution_count": 33,
   "metadata": {
    "scrolled": false
   },
   "outputs": [
    {
     "data": {
      "application/vnd.jupyter.widget-view+json": {
       "model_id": "3dd2db29772f489dbfabe67b0b20f58e",
       "version_major": 2,
       "version_minor": 0
      },
      "text/plain": [
       "interactive(children=(FloatSlider(value=1.0471975511965976, continuous_update=False, description='phi', layout…"
      ]
     },
     "metadata": {},
     "output_type": "display_data"
    }
   ],
   "source": [
    "def expBContours(phi):\n",
    "    function=C_ta_pa_B\n",
    "    contourplotter(function,phi,r'$C(\\theta_a,\\phi_a)$',r'$\\theta_a$',r'$\\phi_a$')\n",
    "    return\n",
    "interact(expBContours, phi=widgets.FloatSlider(min=0, max=2*np.pi, step=0.02, value=np.pi/3, continuous_update=False, layout=Layout(width='600px')));"
   ]
  },
  {
   "cell_type": "markdown",
   "metadata": {},
   "source": [
    "### 4.3 Experiment C: Beams with Random Coupling\n",
    "In this experiment we again start with the same $\\mathbf{J}_{in}$ and an interaction is considered that makes it have a random coupling. It has a probability $P$ to couple polarization and parity and $1-P$ to not achieved by randomly toggling between two phase distributions of the PS-SLM, one with $\\frac{\\pi}{2}\\times\\text{sgn}(x)$ phase and another with zero phase where $P$ is the fraction of time that the PS-SLM displays the first phase pattern. From this we go on to derive it's correlation function."
   ]
  },
  {
   "cell_type": "code",
   "execution_count": 34,
   "metadata": {},
   "outputs": [
    {
     "data": {
      "text/latex": [
       "$\\displaystyle \\left[\\begin{matrix}\\frac{1}{2} - \\frac{P}{2} & 0 & \\frac{1}{2} - \\frac{P}{2} & 0\\\\0 & \\frac{P}{2} & - \\frac{i P}{2} & 0\\\\\\frac{1}{2} - \\frac{P}{2} & \\frac{i P}{2} & \\frac{1}{2} & 0\\\\0 & 0 & 0 & 0\\end{matrix}\\right]$"
      ],
      "text/plain": [
       "Matrix([\n",
       "[1/2 - P/2,     0, 1/2 - P/2, 0],\n",
       "[        0,   P/2,    -I*P/2, 0],\n",
       "[1/2 - P/2, I*P/2,       1/2, 0],\n",
       "[        0,     0,         0, 0]])"
      ]
     },
     "execution_count": 34,
     "metadata": {},
     "output_type": "execute_result"
    }
   ],
   "source": [
    "J_ent = (1/sqrt(2))*Matrix([0, I, 1, 0])#Entagled state\n",
    "J_in = (1/sqrt(2))*Matrix([1, 0, 1, 0])#Input state\n",
    "G_C = P*conjugate(J_ent)*J_ent.T + (1-P)*conjugate(J_in)*J_in.T\n",
    "G_C"
   ]
  },
  {
   "cell_type": "markdown",
   "metadata": {},
   "source": [
    "#### Calculation of $D_{pol}$ and $D_{par}$"
   ]
  },
  {
   "cell_type": "code",
   "execution_count": 35,
   "metadata": {},
   "outputs": [
    {
     "data": {
      "text/latex": [
       "$\\displaystyle \\left[\\begin{matrix}\\frac{1}{2} & \\frac{1}{2} - \\frac{P}{2}\\\\\\frac{1}{2} - \\frac{P}{2} & \\frac{1}{2}\\end{matrix}\\right]$"
      ],
      "text/plain": [
       "Matrix([\n",
       "[      1/2, 1/2 - P/2],\n",
       "[1/2 - P/2,       1/2]])"
      ]
     },
     "execution_count": 35,
     "metadata": {},
     "output_type": "execute_result"
    }
   ],
   "source": [
    "G_pol_C = par_tr_G_pol(G_C)\n",
    "G_pol_C"
   ]
  },
  {
   "cell_type": "code",
   "execution_count": 36,
   "metadata": {
    "scrolled": true
   },
   "outputs": [
    {
     "data": {
      "text/latex": [
       "$\\displaystyle \\left[\\begin{matrix}1 - \\frac{P}{2} & 0\\\\0 & \\frac{P}{2}\\end{matrix}\\right]$"
      ],
      "text/plain": [
       "Matrix([\n",
       "[1 - P/2,   0],\n",
       "[      0, P/2]])"
      ]
     },
     "execution_count": 36,
     "metadata": {},
     "output_type": "execute_result"
    }
   ],
   "source": [
    "G_par_C = par_tr_G_par(G_C)\n",
    "G_par_C"
   ]
  },
  {
   "cell_type": "code",
   "execution_count": 37,
   "metadata": {
    "scrolled": true
   },
   "outputs": [
    {
     "data": {
      "text/latex": [
       "$\\displaystyle \\left|{P - 1}\\right|$"
      ],
      "text/plain": [
       "Abs(P - 1)"
      ]
     },
     "execution_count": 37,
     "metadata": {},
     "output_type": "execute_result"
    }
   ],
   "source": [
    "D_pol_C=app_coh(G_pol_C)\n",
    "simplify(D_pol_C)# Prints D_pol"
   ]
  },
  {
   "cell_type": "code",
   "execution_count": 38,
   "metadata": {
    "scrolled": true
   },
   "outputs": [
    {
     "data": {
      "text/latex": [
       "$\\displaystyle \\sqrt{- P \\left(2 - P\\right) + 1}$"
      ],
      "text/plain": [
       "sqrt(-P*(2 - P) + 1)"
      ]
     },
     "execution_count": 38,
     "metadata": {},
     "output_type": "execute_result"
    }
   ],
   "source": [
    "D_par_C=app_coh(G_par_C)\n",
    "D_par_C"
   ]
  },
  {
   "cell_type": "markdown",
   "metadata": {},
   "source": [
    "#### Calculation of the Correlation Function and $B_{max}$"
   ]
  },
  {
   "cell_type": "code",
   "execution_count": 39,
   "metadata": {},
   "outputs": [
    {
     "data": {
      "text/latex": [
       "$\\displaystyle - \\sqrt{2} P \\sin{\\left(\\theta_{a} \\right)} \\sin{\\left(\\varphi_{a} + \\frac{\\pi}{4} \\right)} - P \\cos{\\left(\\theta_{a} \\right)} \\cos{\\left(\\varphi_{a} \\right)} + \\sin{\\left(\\theta_{a} \\right)} \\cos{\\left(\\varphi_{a} \\right)}$"
      ],
      "text/plain": [
       "-sqrt(2)*P*sin(theta_a)*sin(varphi_a + pi/4) - P*cos(theta_a)*cos(varphi_a) + sin(theta_a)*cos(varphi_a)"
      ]
     },
     "execution_count": 39,
     "metadata": {},
     "output_type": "execute_result"
    }
   ],
   "source": [
    "G_out_C = conjugate(A_SLM)*conjugate(A_HWP)*G_C*A_HWP.T*A_SLM.T #Transformed matrix\n",
    "C_ta_pa_C = trigsimp(corr_prob(G_out_C)/trace_G(G_out_C))\n",
    "C_ta_pa_C"
   ]
  },
  {
   "cell_type": "code",
   "execution_count": 40,
   "metadata": {},
   "outputs": [
    {
     "data": {
      "text/latex": [
       "$\\displaystyle 0$"
      ],
      "text/plain": [
       "0"
      ]
     },
     "execution_count": 40,
     "metadata": {},
     "output_type": "execute_result"
    }
   ],
   "source": [
    "simplify(C_ta_pa_C - ((1-P)*sin(ta)*cos(pa) - P*cos(ta-pa)))"
   ]
  },
  {
   "cell_type": "markdown",
   "metadata": {},
   "source": [
    "As we have shown in the cell above the correlation function we have derived matches exactly with the function that the paper provides. We again use numerical methods to maximize this function since optimizing by minimization of gradient would take considerably long to do. Our results shown below match up consistently with those shown in [[1](#ref-1)]."
   ]
  },
  {
   "cell_type": "markdown",
   "metadata": {},
   "source": [
    "#### GRAPHS FOR EXPERIMENT C"
   ]
  },
  {
   "cell_type": "code",
   "execution_count": 41,
   "metadata": {
    "scrolled": false
   },
   "outputs": [
    {
     "data": {
      "application/vnd.jupyter.widget-view+json": {
       "model_id": "f586e3a84f2b4db4a2fb4e33faaac162",
       "version_major": 2,
       "version_minor": 0
      },
      "text/plain": [
       "interactive(children=(Dropdown(description='option', options=('Show All', 'D', 'B', 'S', 'Hide All'), value='S…"
      ]
     },
     "metadata": {},
     "output_type": "display_data"
    }
   ],
   "source": [
    "def expCPlots(option):\n",
    "    num_space=102\n",
    "    P=np.linspace(0, 1, num_space)\n",
    "    bmax=bmaxfinderC(C_ta_pa_C,P)\n",
    "    dpol=dfinderC(D_pol_C,P)\n",
    "    dpar=dfinderC(D_par_C,P)\n",
    "    spol=sfinder(dpol,bmax)\n",
    "    spar=sfinder(dpar,bmax)\n",
    "    \n",
    "    if option!='Hide All':        \n",
    "    \n",
    "        if option=='B':            \n",
    "            fig, ax = plt.subplots(figsize=(7, 7))\n",
    "            plotterC(P,bmax,r'$B_{max}$',r'$P$',r'$B_{max}$',(1,0,0),r'$B_{max}$')\n",
    "            plt.plot(P,[2]*num_space,color='black', linestyle ='dashed')\n",
    "            plt.ylim(1,3)\n",
    "            plt.show()\n",
    "            \n",
    "        elif option=='S':\n",
    "            fig, ax = plt.subplots(figsize=(7, 7))\n",
    "            plotterC(P,spol,r'$S_{pol}=S_{par}=1$',r'$P$',r'$S_{pol}\\ \\slash\\ S_{par}$',(1,0,0),r'$s_{pol}$')\n",
    "            plotterC(P,spar,r'$S_{pol}=S_{par}=1$',r'$P$',r'$S_{pol}\\ \\slash\\ S_{par}$',(0,0,1),r'$s_{par}$')\n",
    "            plt.ylim(0,1.1) \n",
    "            plt.legend()\n",
    "            plt.show()\n",
    "            \n",
    "        elif option=='D':         \n",
    "            fig, ax = plt.subplots(figsize=(7, 7))\n",
    "            plotterC(P,dpol,r'$D_{pol}\\ and\\ D_{par}$',r'$P$',r'$D_{pol}\\ \\slash\\ D_{par}$',(1,0,0),r'$d_{pol}$')\n",
    "            plotterC(P,dpar,r'$D_{pol}\\ and\\ D_{par}$',r'$P$',r'$D_{pol}\\ \\slash\\ D_{par}$',(0,0,1),r'$d_{par}$')\n",
    "            plt.ylim(-0.1,1.1)\n",
    "            plt.legend()\n",
    "            plt.show()\n",
    "            \n",
    "        else:\n",
    "            fig, ax = plt.subplots(figsize=(7, 7))\n",
    "            plotterC(P,dpol,r'$D_{pol}\\ and\\ D_{par}$',r'$P$',r'$D_{pol}\\ \\slash\\ D_{par}$',(1,0,0),r'$d_{pol}$')\n",
    "            plotterC(P,dpar,r'$D_{pol}\\ and\\ D_{par}$',r'$P$',r'$D_{pol}\\ \\slash\\ D_{par}$',(0,0,1),r'$d_{par}$')\n",
    "            plt.ylim(-0.1,1.1)\n",
    "            plt.legend()\n",
    "            plt.show()\n",
    "            fig, ax = plt.subplots(figsize=(7, 7))\n",
    "            plotterC(P,bmax,r'$B_{max}$',r'$P$',r'$B_{max}$',(1,0,0),r'$B_{max}$')\n",
    "            plt.plot(P,[2]*num_space,color='black', linestyle ='dashed')\n",
    "            plt.ylim(1,3)\n",
    "            plt.show()\n",
    "            fig, ax = plt.subplots(figsize=(7, 7))\n",
    "            plotterC(P,spol,r'$S_{pol} and S_{par}$',r'$P$',r'$S_{pol}\\ \\slash\\ S_{par}$',(1,0,0),r'$s_{pol}$')\n",
    "            plotterC(P,spar,r'$S_{pol} and S_{par}$',r'$P$',r'$S_{pol}\\ \\slash\\ S_{par}$',(0,0,1),r'$s_{par}$')\n",
    "            plt.ylim(0,1.1) \n",
    "            plt.legend()\n",
    "            plt.show()\n",
    "            \n",
    "            \n",
    "        plt.show()\n",
    "    \n",
    "    else: \n",
    "        fig, ax = plt.subplots(figsize=(0.01, 0.01))\n",
    "        plt.show()\n",
    "        clear_output()\n",
    "    return\n",
    "\n",
    "interact(expCPlots, option=['Show All', 'D', 'B', 'S', 'Hide All']);"
   ]
  },
  {
   "cell_type": "code",
   "execution_count": 42,
   "metadata": {
    "scrolled": false
   },
   "outputs": [
    {
     "data": {
      "application/vnd.jupyter.widget-view+json": {
       "model_id": "0b4b82316a5f4e178f3897f4f5511709",
       "version_major": 2,
       "version_minor": 0
      },
      "text/plain": [
       "interactive(children=(FloatSlider(value=0.3333333333333333, continuous_update=False, description='P', layout=L…"
      ]
     },
     "metadata": {},
     "output_type": "display_data"
    }
   ],
   "source": [
    "def expCContours(P):\n",
    "    function=C_ta_pa_C\n",
    "    contourplotterC(function,P,r'$C(\\theta_a,\\phi_a)$',r'$\\theta_a$',r'$\\phi_a$')\n",
    "    return\n",
    "interact(expCContours, P=widgets.FloatSlider(min=0, max=1, step=0.01, value=1/3, continuous_update=False, layout=Layout(width='600px')));"
   ]
  },
  {
   "cell_type": "markdown",
   "metadata": {},
   "source": [
    "## 5. Reduced representation of the two Binary DoFs\n",
    "We can represent any arbitrary partially coherent beam by the three invariants $S$, $S_{pol}$, $S_{par}$. Every point in the volume generated represents different beams which can be related via unitary transformations that do not couple the two DoFs, since these ensure that $S$, $S_{pol}$, $S_{par}$ remain invariant. Points with the same $S$ comprise of a plane. All the points in this plane are related via unitary transformations which couple the two DoFs, since these would ensure $S$ remains the same but $S_{pol}$ and $S_{par}$ do not.\n",
    "A beam with higher $S$, by the definition of the measure, has higher coherency. \n",
    "\n",
    "The figure offers us two insights into how $S$, $S_{pol}$, $S_{par}$ for a beam might be related.<br>\n",
    "Firstly, beams with the same value of $S$ do not take arbitrary values of $S_{pol}$ and $S_{par}$. For a given value of $S$ for a beam, the figure uniquely gives us a concave-sided triangular area within which the values of $S_{pol}$ and $S_{par}$ must be contained for a partially coherent beam.<br>\n",
    "Secondly, for given values of $S_{pol}$ and $S_{par}$ for a partially coherent beam, we can predict the overall degree of coherence of the beam $S$ by drawing a line segment parallel to the $S$ axis contained within the figure, which gives us a narrow range within which $S$ must be for the beam. The paper suggests that the uncertainty in determining $S$ using this method is $\\sim6\\%$ on average.\n",
    "\n",
    "The overall purpose of generating the figure was to show that we cannot have all combinations of $S$, $S_{pol}$, $S_{par}$ inside the unit cube in the first octant but only the ones which satisfy Bell's Inequality, which results in the obtained figure.\n",
    "\n",
    "In our attempt to generate the figure, we have essentially constructed a Monte-Carlo simulation with $5000$ points based on the discussion in [[8](#ref-8)].<br>\n",
    "Since eigenvalues of G have to be real, positive and their sum must be 1, we first generate a diagonal matrix $D$ of the eigenvalues with the contraints applied. Now, to obtain a random G, we must first obtain a random unitary matrix $U$ and apply the following transformation on the diagonal matrix $D$.<br>\n",
    "<center>$G=UDU^{\\dagger}$</center>\n",
    "We obtain $U$ by first generating a random matrix and then QR factorizing it. Since Q is unitary, we have in essence found a random unitary matrix. The above set of operations is implemented in the function <code>randG()</code>.<br>\n",
    "\n",
    "After this, we proceed to define the function  <code>C_ta_pa()</code> which calculates the correlation function for a given matrix $G$ with the parameters $t_{1} (\\theta_{a})$ and $p_{1} (\\phi_{a})$. The Bell Measure is calculated by the function  <code>B()</code> by making calls to the function <code>C_ta_pa()</code>.<br>\n",
    "Now, the calculation of the value $S$ is straightforward from the matrix $G$ and that of $D_{pol}$ and $D_{par}$ is also relatively straightforward once the matrices $G_{pol}$ and $G_{par}$ have been constructed. But, for the calculation of $S_{pol}$ and $S_{par}$, we need to determine the value $B_{max}$ first. Since there was no way the optimization of matrices could've been tensorized, we calculate this in loop for all the G matrices and that is what constitutes the bulk of the running time of the program. We implement this in the function  <code>genS()</code> below."
   ]
  },
  {
   "cell_type": "code",
   "execution_count": 43,
   "metadata": {},
   "outputs": [],
   "source": [
    "def randG(i):\n",
    "    G=np.zeros([4,4])\n",
    "    a = np.random.dirichlet(np.ones(4)*(100**i),size=1)\n",
    "    for i in range(4):\n",
    "        G[i,i] = a[0,i]\n",
    "    U,_=np.linalg.qr(np.random.rand(4,4)+1j*np.random.rand(4,4))\n",
    "    G=(np.conjugate(U)@G@np.transpose(U)).round(4)\n",
    "    return G"
   ]
  },
  {
   "cell_type": "code",
   "execution_count": 44,
   "metadata": {},
   "outputs": [],
   "source": [
    "def C_ta_pa(G,t1,p1):\n",
    "    a_hwp_1 = [[-np.cos(t1/2),0,-np.sin(t1/2),0],[0,-np.cos(t1/2),0,-np.sin(t1/2)],[-np.sin(t1/2),0,np.cos(t1/2),0],[0,-np.sin(t1/2),0,np.cos(t1/2)]]\n",
    "    a_slm_1 = [[np.cos(p1/2),1j*np.sin(p1/2),0,0],[1j*np.sin(p1/2),np.cos(p1/2),0,0],[0,0,np.cos(p1/2),1j*np.sin(p1/2)],[0,0,1j*np.sin(p1/2),np.cos(p1/2)]]\n",
    "    G_out=np.conjugate(a_slm_1)@np.conjugate(a_hwp_1)@G@np.transpose(a_hwp_1)@np.transpose(a_slm_1)\n",
    "    return np.real((G_out[0,0]-G_out[1,1]-G_out[2,2]+G_out[3,3])/(np.trace(G))).round(8)"
   ]
  },
  {
   "cell_type": "code",
   "execution_count": 45,
   "metadata": {},
   "outputs": [],
   "source": [
    "def B(G,t1,t2,p1,p2):\n",
    "    return abs(C_ta_pa(G,t1,p1)+C_ta_pa(G,t1,p2)+C_ta_pa(G,t2,p1)-C_ta_pa(G,t2,p2))"
   ]
  },
  {
   "cell_type": "code",
   "execution_count": 46,
   "metadata": {},
   "outputs": [],
   "source": [
    "def genS(G):\n",
    "    G_pol = [[G[0,0]+G[1,1],G[0,2]+G[1,3]],[G[2,0]+G[3,1],G[2,2]+G[3,3]]]\n",
    "    G_par = [[G[0,0]+G[2,2],G[0,1]+G[2,3]],[G[1,0]+G[3,2],G[1,1]+G[3,3]]]\n",
    "    \n",
    "    D_pol=sqrt(1-4*(np.linalg.det(G_pol))/((np.trace(G_pol))**2))\n",
    "    D_par=sqrt(1-4*(np.linalg.det(G_par))/((np.trace(G_par))**2))\n",
    "    \n",
    "    bmax=-1*(sc.optimize.minimize(lambda params: -1*abs(B(G,params[0],params[1],params[2],params[3])),np.random.rand(4), method = 'Nelder-Mead').fun)\n",
    "    spol=round(np.real(complex(D_pol**2/2+bmax**2/8)),8)\n",
    "    spar=round(np.real(complex(D_par**2/2+bmax**2/8)),8)\n",
    "    s=round(np.real((4/3)*(np.trace(G@G)-(1/4))),8)\n",
    "    return spol,spar,s"
   ]
  },
  {
   "cell_type": "code",
   "execution_count": 47,
   "metadata": {},
   "outputs": [],
   "source": [
    "#NOTE: this cell takes quite long to run\n",
    "n=5000\n",
    "x=np.zeros(n)\n",
    "y=np.zeros(n)\n",
    "z=np.zeros(n)\n",
    "for i in range(n):\n",
    "    #print(i)\n",
    "    x[i],y[i],z[i]=genS(randG(i%3 - 1))\n",
    "rows = zip(x,y,z)"
   ]
  },
  {
   "cell_type": "code",
   "execution_count": 63,
   "metadata": {},
   "outputs": [
    {
     "data": {
      "application/javascript": [
       "/* Put everything inside the global mpl namespace */\n",
       "/* global mpl */\n",
       "window.mpl = {};\n",
       "\n",
       "mpl.get_websocket_type = function () {\n",
       "    if (typeof WebSocket !== 'undefined') {\n",
       "        return WebSocket;\n",
       "    } else if (typeof MozWebSocket !== 'undefined') {\n",
       "        return MozWebSocket;\n",
       "    } else {\n",
       "        alert(\n",
       "            'Your browser does not have WebSocket support. ' +\n",
       "                'Please try Chrome, Safari or Firefox ≥ 6. ' +\n",
       "                'Firefox 4 and 5 are also supported but you ' +\n",
       "                'have to enable WebSockets in about:config.'\n",
       "        );\n",
       "    }\n",
       "};\n",
       "\n",
       "mpl.figure = function (figure_id, websocket, ondownload, parent_element) {\n",
       "    this.id = figure_id;\n",
       "\n",
       "    this.ws = websocket;\n",
       "\n",
       "    this.supports_binary = this.ws.binaryType !== undefined;\n",
       "\n",
       "    if (!this.supports_binary) {\n",
       "        var warnings = document.getElementById('mpl-warnings');\n",
       "        if (warnings) {\n",
       "            warnings.style.display = 'block';\n",
       "            warnings.textContent =\n",
       "                'This browser does not support binary websocket messages. ' +\n",
       "                'Performance may be slow.';\n",
       "        }\n",
       "    }\n",
       "\n",
       "    this.imageObj = new Image();\n",
       "\n",
       "    this.context = undefined;\n",
       "    this.message = undefined;\n",
       "    this.canvas = undefined;\n",
       "    this.rubberband_canvas = undefined;\n",
       "    this.rubberband_context = undefined;\n",
       "    this.format_dropdown = undefined;\n",
       "\n",
       "    this.image_mode = 'full';\n",
       "\n",
       "    this.root = document.createElement('div');\n",
       "    this.root.setAttribute('style', 'display: inline-block');\n",
       "    this._root_extra_style(this.root);\n",
       "\n",
       "    parent_element.appendChild(this.root);\n",
       "\n",
       "    this._init_header(this);\n",
       "    this._init_canvas(this);\n",
       "    this._init_toolbar(this);\n",
       "\n",
       "    var fig = this;\n",
       "\n",
       "    this.waiting = false;\n",
       "\n",
       "    this.ws.onopen = function () {\n",
       "        fig.send_message('supports_binary', { value: fig.supports_binary });\n",
       "        fig.send_message('send_image_mode', {});\n",
       "        if (fig.ratio !== 1) {\n",
       "            fig.send_message('set_dpi_ratio', { dpi_ratio: fig.ratio });\n",
       "        }\n",
       "        fig.send_message('refresh', {});\n",
       "    };\n",
       "\n",
       "    this.imageObj.onload = function () {\n",
       "        if (fig.image_mode === 'full') {\n",
       "            // Full images could contain transparency (where diff images\n",
       "            // almost always do), so we need to clear the canvas so that\n",
       "            // there is no ghosting.\n",
       "            fig.context.clearRect(0, 0, fig.canvas.width, fig.canvas.height);\n",
       "        }\n",
       "        fig.context.drawImage(fig.imageObj, 0, 0);\n",
       "    };\n",
       "\n",
       "    this.imageObj.onunload = function () {\n",
       "        fig.ws.close();\n",
       "    };\n",
       "\n",
       "    this.ws.onmessage = this._make_on_message_function(this);\n",
       "\n",
       "    this.ondownload = ondownload;\n",
       "};\n",
       "\n",
       "mpl.figure.prototype._init_header = function () {\n",
       "    var titlebar = document.createElement('div');\n",
       "    titlebar.classList =\n",
       "        'ui-dialog-titlebar ui-widget-header ui-corner-all ui-helper-clearfix';\n",
       "    var titletext = document.createElement('div');\n",
       "    titletext.classList = 'ui-dialog-title';\n",
       "    titletext.setAttribute(\n",
       "        'style',\n",
       "        'width: 100%; text-align: center; padding: 3px;'\n",
       "    );\n",
       "    titlebar.appendChild(titletext);\n",
       "    this.root.appendChild(titlebar);\n",
       "    this.header = titletext;\n",
       "};\n",
       "\n",
       "mpl.figure.prototype._canvas_extra_style = function (_canvas_div) {};\n",
       "\n",
       "mpl.figure.prototype._root_extra_style = function (_canvas_div) {};\n",
       "\n",
       "mpl.figure.prototype._init_canvas = function () {\n",
       "    var fig = this;\n",
       "\n",
       "    var canvas_div = (this.canvas_div = document.createElement('div'));\n",
       "    canvas_div.setAttribute(\n",
       "        'style',\n",
       "        'border: 1px solid #ddd;' +\n",
       "            'box-sizing: content-box;' +\n",
       "            'clear: both;' +\n",
       "            'min-height: 1px;' +\n",
       "            'min-width: 1px;' +\n",
       "            'outline: 0;' +\n",
       "            'overflow: hidden;' +\n",
       "            'position: relative;' +\n",
       "            'resize: both;'\n",
       "    );\n",
       "\n",
       "    function on_keyboard_event_closure(name) {\n",
       "        return function (event) {\n",
       "            return fig.key_event(event, name);\n",
       "        };\n",
       "    }\n",
       "\n",
       "    canvas_div.addEventListener(\n",
       "        'keydown',\n",
       "        on_keyboard_event_closure('key_press')\n",
       "    );\n",
       "    canvas_div.addEventListener(\n",
       "        'keyup',\n",
       "        on_keyboard_event_closure('key_release')\n",
       "    );\n",
       "\n",
       "    this._canvas_extra_style(canvas_div);\n",
       "    this.root.appendChild(canvas_div);\n",
       "\n",
       "    var canvas = (this.canvas = document.createElement('canvas'));\n",
       "    canvas.classList.add('mpl-canvas');\n",
       "    canvas.setAttribute('style', 'box-sizing: content-box;');\n",
       "\n",
       "    this.context = canvas.getContext('2d');\n",
       "\n",
       "    var backingStore =\n",
       "        this.context.backingStorePixelRatio ||\n",
       "        this.context.webkitBackingStorePixelRatio ||\n",
       "        this.context.mozBackingStorePixelRatio ||\n",
       "        this.context.msBackingStorePixelRatio ||\n",
       "        this.context.oBackingStorePixelRatio ||\n",
       "        this.context.backingStorePixelRatio ||\n",
       "        1;\n",
       "\n",
       "    this.ratio = (window.devicePixelRatio || 1) / backingStore;\n",
       "\n",
       "    var rubberband_canvas = (this.rubberband_canvas = document.createElement(\n",
       "        'canvas'\n",
       "    ));\n",
       "    rubberband_canvas.setAttribute(\n",
       "        'style',\n",
       "        'box-sizing: content-box; position: absolute; left: 0; top: 0; z-index: 1;'\n",
       "    );\n",
       "\n",
       "    // Apply a ponyfill if ResizeObserver is not implemented by browser.\n",
       "    if (this.ResizeObserver === undefined) {\n",
       "        if (window.ResizeObserver !== undefined) {\n",
       "            this.ResizeObserver = window.ResizeObserver;\n",
       "        } else {\n",
       "            var obs = _JSXTOOLS_RESIZE_OBSERVER({});\n",
       "            this.ResizeObserver = obs.ResizeObserver;\n",
       "        }\n",
       "    }\n",
       "\n",
       "    this.resizeObserverInstance = new this.ResizeObserver(function (entries) {\n",
       "        var nentries = entries.length;\n",
       "        for (var i = 0; i < nentries; i++) {\n",
       "            var entry = entries[i];\n",
       "            var width, height;\n",
       "            if (entry.contentBoxSize) {\n",
       "                if (entry.contentBoxSize instanceof Array) {\n",
       "                    // Chrome 84 implements new version of spec.\n",
       "                    width = entry.contentBoxSize[0].inlineSize;\n",
       "                    height = entry.contentBoxSize[0].blockSize;\n",
       "                } else {\n",
       "                    // Firefox implements old version of spec.\n",
       "                    width = entry.contentBoxSize.inlineSize;\n",
       "                    height = entry.contentBoxSize.blockSize;\n",
       "                }\n",
       "            } else {\n",
       "                // Chrome <84 implements even older version of spec.\n",
       "                width = entry.contentRect.width;\n",
       "                height = entry.contentRect.height;\n",
       "            }\n",
       "\n",
       "            // Keep the size of the canvas and rubber band canvas in sync with\n",
       "            // the canvas container.\n",
       "            if (entry.devicePixelContentBoxSize) {\n",
       "                // Chrome 84 implements new version of spec.\n",
       "                canvas.setAttribute(\n",
       "                    'width',\n",
       "                    entry.devicePixelContentBoxSize[0].inlineSize\n",
       "                );\n",
       "                canvas.setAttribute(\n",
       "                    'height',\n",
       "                    entry.devicePixelContentBoxSize[0].blockSize\n",
       "                );\n",
       "            } else {\n",
       "                canvas.setAttribute('width', width * fig.ratio);\n",
       "                canvas.setAttribute('height', height * fig.ratio);\n",
       "            }\n",
       "            canvas.setAttribute(\n",
       "                'style',\n",
       "                'width: ' + width + 'px; height: ' + height + 'px;'\n",
       "            );\n",
       "\n",
       "            rubberband_canvas.setAttribute('width', width);\n",
       "            rubberband_canvas.setAttribute('height', height);\n",
       "\n",
       "            // And update the size in Python. We ignore the initial 0/0 size\n",
       "            // that occurs as the element is placed into the DOM, which should\n",
       "            // otherwise not happen due to the minimum size styling.\n",
       "            if (fig.ws.readyState == 1 && width != 0 && height != 0) {\n",
       "                fig.request_resize(width, height);\n",
       "            }\n",
       "        }\n",
       "    });\n",
       "    this.resizeObserverInstance.observe(canvas_div);\n",
       "\n",
       "    function on_mouse_event_closure(name) {\n",
       "        return function (event) {\n",
       "            return fig.mouse_event(event, name);\n",
       "        };\n",
       "    }\n",
       "\n",
       "    rubberband_canvas.addEventListener(\n",
       "        'mousedown',\n",
       "        on_mouse_event_closure('button_press')\n",
       "    );\n",
       "    rubberband_canvas.addEventListener(\n",
       "        'mouseup',\n",
       "        on_mouse_event_closure('button_release')\n",
       "    );\n",
       "    rubberband_canvas.addEventListener(\n",
       "        'dblclick',\n",
       "        on_mouse_event_closure('dblclick')\n",
       "    );\n",
       "    // Throttle sequential mouse events to 1 every 20ms.\n",
       "    rubberband_canvas.addEventListener(\n",
       "        'mousemove',\n",
       "        on_mouse_event_closure('motion_notify')\n",
       "    );\n",
       "\n",
       "    rubberband_canvas.addEventListener(\n",
       "        'mouseenter',\n",
       "        on_mouse_event_closure('figure_enter')\n",
       "    );\n",
       "    rubberband_canvas.addEventListener(\n",
       "        'mouseleave',\n",
       "        on_mouse_event_closure('figure_leave')\n",
       "    );\n",
       "\n",
       "    canvas_div.addEventListener('wheel', function (event) {\n",
       "        if (event.deltaY < 0) {\n",
       "            event.step = 1;\n",
       "        } else {\n",
       "            event.step = -1;\n",
       "        }\n",
       "        on_mouse_event_closure('scroll')(event);\n",
       "    });\n",
       "\n",
       "    canvas_div.appendChild(canvas);\n",
       "    canvas_div.appendChild(rubberband_canvas);\n",
       "\n",
       "    this.rubberband_context = rubberband_canvas.getContext('2d');\n",
       "    this.rubberband_context.strokeStyle = '#000000';\n",
       "\n",
       "    this._resize_canvas = function (width, height, forward) {\n",
       "        if (forward) {\n",
       "            canvas_div.style.width = width + 'px';\n",
       "            canvas_div.style.height = height + 'px';\n",
       "        }\n",
       "    };\n",
       "\n",
       "    // Disable right mouse context menu.\n",
       "    this.rubberband_canvas.addEventListener('contextmenu', function (_e) {\n",
       "        event.preventDefault();\n",
       "        return false;\n",
       "    });\n",
       "\n",
       "    function set_focus() {\n",
       "        canvas.focus();\n",
       "        canvas_div.focus();\n",
       "    }\n",
       "\n",
       "    window.setTimeout(set_focus, 100);\n",
       "};\n",
       "\n",
       "mpl.figure.prototype._init_toolbar = function () {\n",
       "    var fig = this;\n",
       "\n",
       "    var toolbar = document.createElement('div');\n",
       "    toolbar.classList = 'mpl-toolbar';\n",
       "    this.root.appendChild(toolbar);\n",
       "\n",
       "    function on_click_closure(name) {\n",
       "        return function (_event) {\n",
       "            return fig.toolbar_button_onclick(name);\n",
       "        };\n",
       "    }\n",
       "\n",
       "    function on_mouseover_closure(tooltip) {\n",
       "        return function (event) {\n",
       "            if (!event.currentTarget.disabled) {\n",
       "                return fig.toolbar_button_onmouseover(tooltip);\n",
       "            }\n",
       "        };\n",
       "    }\n",
       "\n",
       "    fig.buttons = {};\n",
       "    var buttonGroup = document.createElement('div');\n",
       "    buttonGroup.classList = 'mpl-button-group';\n",
       "    for (var toolbar_ind in mpl.toolbar_items) {\n",
       "        var name = mpl.toolbar_items[toolbar_ind][0];\n",
       "        var tooltip = mpl.toolbar_items[toolbar_ind][1];\n",
       "        var image = mpl.toolbar_items[toolbar_ind][2];\n",
       "        var method_name = mpl.toolbar_items[toolbar_ind][3];\n",
       "\n",
       "        if (!name) {\n",
       "            /* Instead of a spacer, we start a new button group. */\n",
       "            if (buttonGroup.hasChildNodes()) {\n",
       "                toolbar.appendChild(buttonGroup);\n",
       "            }\n",
       "            buttonGroup = document.createElement('div');\n",
       "            buttonGroup.classList = 'mpl-button-group';\n",
       "            continue;\n",
       "        }\n",
       "\n",
       "        var button = (fig.buttons[name] = document.createElement('button'));\n",
       "        button.classList = 'mpl-widget';\n",
       "        button.setAttribute('role', 'button');\n",
       "        button.setAttribute('aria-disabled', 'false');\n",
       "        button.addEventListener('click', on_click_closure(method_name));\n",
       "        button.addEventListener('mouseover', on_mouseover_closure(tooltip));\n",
       "\n",
       "        var icon_img = document.createElement('img');\n",
       "        icon_img.src = '_images/' + image + '.png';\n",
       "        icon_img.srcset = '_images/' + image + '_large.png 2x';\n",
       "        icon_img.alt = tooltip;\n",
       "        button.appendChild(icon_img);\n",
       "\n",
       "        buttonGroup.appendChild(button);\n",
       "    }\n",
       "\n",
       "    if (buttonGroup.hasChildNodes()) {\n",
       "        toolbar.appendChild(buttonGroup);\n",
       "    }\n",
       "\n",
       "    var fmt_picker = document.createElement('select');\n",
       "    fmt_picker.classList = 'mpl-widget';\n",
       "    toolbar.appendChild(fmt_picker);\n",
       "    this.format_dropdown = fmt_picker;\n",
       "\n",
       "    for (var ind in mpl.extensions) {\n",
       "        var fmt = mpl.extensions[ind];\n",
       "        var option = document.createElement('option');\n",
       "        option.selected = fmt === mpl.default_extension;\n",
       "        option.innerHTML = fmt;\n",
       "        fmt_picker.appendChild(option);\n",
       "    }\n",
       "\n",
       "    var status_bar = document.createElement('span');\n",
       "    status_bar.classList = 'mpl-message';\n",
       "    toolbar.appendChild(status_bar);\n",
       "    this.message = status_bar;\n",
       "};\n",
       "\n",
       "mpl.figure.prototype.request_resize = function (x_pixels, y_pixels) {\n",
       "    // Request matplotlib to resize the figure. Matplotlib will then trigger a resize in the client,\n",
       "    // which will in turn request a refresh of the image.\n",
       "    this.send_message('resize', { width: x_pixels, height: y_pixels });\n",
       "};\n",
       "\n",
       "mpl.figure.prototype.send_message = function (type, properties) {\n",
       "    properties['type'] = type;\n",
       "    properties['figure_id'] = this.id;\n",
       "    this.ws.send(JSON.stringify(properties));\n",
       "};\n",
       "\n",
       "mpl.figure.prototype.send_draw_message = function () {\n",
       "    if (!this.waiting) {\n",
       "        this.waiting = true;\n",
       "        this.ws.send(JSON.stringify({ type: 'draw', figure_id: this.id }));\n",
       "    }\n",
       "};\n",
       "\n",
       "mpl.figure.prototype.handle_save = function (fig, _msg) {\n",
       "    var format_dropdown = fig.format_dropdown;\n",
       "    var format = format_dropdown.options[format_dropdown.selectedIndex].value;\n",
       "    fig.ondownload(fig, format);\n",
       "};\n",
       "\n",
       "mpl.figure.prototype.handle_resize = function (fig, msg) {\n",
       "    var size = msg['size'];\n",
       "    if (size[0] !== fig.canvas.width || size[1] !== fig.canvas.height) {\n",
       "        fig._resize_canvas(size[0], size[1], msg['forward']);\n",
       "        fig.send_message('refresh', {});\n",
       "    }\n",
       "};\n",
       "\n",
       "mpl.figure.prototype.handle_rubberband = function (fig, msg) {\n",
       "    var x0 = msg['x0'] / fig.ratio;\n",
       "    var y0 = (fig.canvas.height - msg['y0']) / fig.ratio;\n",
       "    var x1 = msg['x1'] / fig.ratio;\n",
       "    var y1 = (fig.canvas.height - msg['y1']) / fig.ratio;\n",
       "    x0 = Math.floor(x0) + 0.5;\n",
       "    y0 = Math.floor(y0) + 0.5;\n",
       "    x1 = Math.floor(x1) + 0.5;\n",
       "    y1 = Math.floor(y1) + 0.5;\n",
       "    var min_x = Math.min(x0, x1);\n",
       "    var min_y = Math.min(y0, y1);\n",
       "    var width = Math.abs(x1 - x0);\n",
       "    var height = Math.abs(y1 - y0);\n",
       "\n",
       "    fig.rubberband_context.clearRect(\n",
       "        0,\n",
       "        0,\n",
       "        fig.canvas.width / fig.ratio,\n",
       "        fig.canvas.height / fig.ratio\n",
       "    );\n",
       "\n",
       "    fig.rubberband_context.strokeRect(min_x, min_y, width, height);\n",
       "};\n",
       "\n",
       "mpl.figure.prototype.handle_figure_label = function (fig, msg) {\n",
       "    // Updates the figure title.\n",
       "    fig.header.textContent = msg['label'];\n",
       "};\n",
       "\n",
       "mpl.figure.prototype.handle_cursor = function (fig, msg) {\n",
       "    var cursor = msg['cursor'];\n",
       "    switch (cursor) {\n",
       "        case 0:\n",
       "            cursor = 'pointer';\n",
       "            break;\n",
       "        case 1:\n",
       "            cursor = 'default';\n",
       "            break;\n",
       "        case 2:\n",
       "            cursor = 'crosshair';\n",
       "            break;\n",
       "        case 3:\n",
       "            cursor = 'move';\n",
       "            break;\n",
       "    }\n",
       "    fig.rubberband_canvas.style.cursor = cursor;\n",
       "};\n",
       "\n",
       "mpl.figure.prototype.handle_message = function (fig, msg) {\n",
       "    fig.message.textContent = msg['message'];\n",
       "};\n",
       "\n",
       "mpl.figure.prototype.handle_draw = function (fig, _msg) {\n",
       "    // Request the server to send over a new figure.\n",
       "    fig.send_draw_message();\n",
       "};\n",
       "\n",
       "mpl.figure.prototype.handle_image_mode = function (fig, msg) {\n",
       "    fig.image_mode = msg['mode'];\n",
       "};\n",
       "\n",
       "mpl.figure.prototype.handle_history_buttons = function (fig, msg) {\n",
       "    for (var key in msg) {\n",
       "        if (!(key in fig.buttons)) {\n",
       "            continue;\n",
       "        }\n",
       "        fig.buttons[key].disabled = !msg[key];\n",
       "        fig.buttons[key].setAttribute('aria-disabled', !msg[key]);\n",
       "    }\n",
       "};\n",
       "\n",
       "mpl.figure.prototype.handle_navigate_mode = function (fig, msg) {\n",
       "    if (msg['mode'] === 'PAN') {\n",
       "        fig.buttons['Pan'].classList.add('active');\n",
       "        fig.buttons['Zoom'].classList.remove('active');\n",
       "    } else if (msg['mode'] === 'ZOOM') {\n",
       "        fig.buttons['Pan'].classList.remove('active');\n",
       "        fig.buttons['Zoom'].classList.add('active');\n",
       "    } else {\n",
       "        fig.buttons['Pan'].classList.remove('active');\n",
       "        fig.buttons['Zoom'].classList.remove('active');\n",
       "    }\n",
       "};\n",
       "\n",
       "mpl.figure.prototype.updated_canvas_event = function () {\n",
       "    // Called whenever the canvas gets updated.\n",
       "    this.send_message('ack', {});\n",
       "};\n",
       "\n",
       "// A function to construct a web socket function for onmessage handling.\n",
       "// Called in the figure constructor.\n",
       "mpl.figure.prototype._make_on_message_function = function (fig) {\n",
       "    return function socket_on_message(evt) {\n",
       "        if (evt.data instanceof Blob) {\n",
       "            var img = evt.data;\n",
       "            if (img.type !== 'image/png') {\n",
       "                /* FIXME: We get \"Resource interpreted as Image but\n",
       "                 * transferred with MIME type text/plain:\" errors on\n",
       "                 * Chrome.  But how to set the MIME type?  It doesn't seem\n",
       "                 * to be part of the websocket stream */\n",
       "                img.type = 'image/png';\n",
       "            }\n",
       "\n",
       "            /* Free the memory for the previous frames */\n",
       "            if (fig.imageObj.src) {\n",
       "                (window.URL || window.webkitURL).revokeObjectURL(\n",
       "                    fig.imageObj.src\n",
       "                );\n",
       "            }\n",
       "\n",
       "            fig.imageObj.src = (window.URL || window.webkitURL).createObjectURL(\n",
       "                img\n",
       "            );\n",
       "            fig.updated_canvas_event();\n",
       "            fig.waiting = false;\n",
       "            return;\n",
       "        } else if (\n",
       "            typeof evt.data === 'string' &&\n",
       "            evt.data.slice(0, 21) === 'data:image/png;base64'\n",
       "        ) {\n",
       "            fig.imageObj.src = evt.data;\n",
       "            fig.updated_canvas_event();\n",
       "            fig.waiting = false;\n",
       "            return;\n",
       "        }\n",
       "\n",
       "        var msg = JSON.parse(evt.data);\n",
       "        var msg_type = msg['type'];\n",
       "\n",
       "        // Call the  \"handle_{type}\" callback, which takes\n",
       "        // the figure and JSON message as its only arguments.\n",
       "        try {\n",
       "            var callback = fig['handle_' + msg_type];\n",
       "        } catch (e) {\n",
       "            console.log(\n",
       "                \"No handler for the '\" + msg_type + \"' message type: \",\n",
       "                msg\n",
       "            );\n",
       "            return;\n",
       "        }\n",
       "\n",
       "        if (callback) {\n",
       "            try {\n",
       "                // console.log(\"Handling '\" + msg_type + \"' message: \", msg);\n",
       "                callback(fig, msg);\n",
       "            } catch (e) {\n",
       "                console.log(\n",
       "                    \"Exception inside the 'handler_\" + msg_type + \"' callback:\",\n",
       "                    e,\n",
       "                    e.stack,\n",
       "                    msg\n",
       "                );\n",
       "            }\n",
       "        }\n",
       "    };\n",
       "};\n",
       "\n",
       "// from http://stackoverflow.com/questions/1114465/getting-mouse-location-in-canvas\n",
       "mpl.findpos = function (e) {\n",
       "    //this section is from http://www.quirksmode.org/js/events_properties.html\n",
       "    var targ;\n",
       "    if (!e) {\n",
       "        e = window.event;\n",
       "    }\n",
       "    if (e.target) {\n",
       "        targ = e.target;\n",
       "    } else if (e.srcElement) {\n",
       "        targ = e.srcElement;\n",
       "    }\n",
       "    if (targ.nodeType === 3) {\n",
       "        // defeat Safari bug\n",
       "        targ = targ.parentNode;\n",
       "    }\n",
       "\n",
       "    // pageX,Y are the mouse positions relative to the document\n",
       "    var boundingRect = targ.getBoundingClientRect();\n",
       "    var x = e.pageX - (boundingRect.left + document.body.scrollLeft);\n",
       "    var y = e.pageY - (boundingRect.top + document.body.scrollTop);\n",
       "\n",
       "    return { x: x, y: y };\n",
       "};\n",
       "\n",
       "/*\n",
       " * return a copy of an object with only non-object keys\n",
       " * we need this to avoid circular references\n",
       " * http://stackoverflow.com/a/24161582/3208463\n",
       " */\n",
       "function simpleKeys(original) {\n",
       "    return Object.keys(original).reduce(function (obj, key) {\n",
       "        if (typeof original[key] !== 'object') {\n",
       "            obj[key] = original[key];\n",
       "        }\n",
       "        return obj;\n",
       "    }, {});\n",
       "}\n",
       "\n",
       "mpl.figure.prototype.mouse_event = function (event, name) {\n",
       "    var canvas_pos = mpl.findpos(event);\n",
       "\n",
       "    if (name === 'button_press') {\n",
       "        this.canvas.focus();\n",
       "        this.canvas_div.focus();\n",
       "    }\n",
       "\n",
       "    var x = canvas_pos.x * this.ratio;\n",
       "    var y = canvas_pos.y * this.ratio;\n",
       "\n",
       "    this.send_message(name, {\n",
       "        x: x,\n",
       "        y: y,\n",
       "        button: event.button,\n",
       "        step: event.step,\n",
       "        guiEvent: simpleKeys(event),\n",
       "    });\n",
       "\n",
       "    /* This prevents the web browser from automatically changing to\n",
       "     * the text insertion cursor when the button is pressed.  We want\n",
       "     * to control all of the cursor setting manually through the\n",
       "     * 'cursor' event from matplotlib */\n",
       "    event.preventDefault();\n",
       "    return false;\n",
       "};\n",
       "\n",
       "mpl.figure.prototype._key_event_extra = function (_event, _name) {\n",
       "    // Handle any extra behaviour associated with a key event\n",
       "};\n",
       "\n",
       "mpl.figure.prototype.key_event = function (event, name) {\n",
       "    // Prevent repeat events\n",
       "    if (name === 'key_press') {\n",
       "        if (event.key === this._key) {\n",
       "            return;\n",
       "        } else {\n",
       "            this._key = event.key;\n",
       "        }\n",
       "    }\n",
       "    if (name === 'key_release') {\n",
       "        this._key = null;\n",
       "    }\n",
       "\n",
       "    var value = '';\n",
       "    if (event.ctrlKey && event.key !== 'Control') {\n",
       "        value += 'ctrl+';\n",
       "    }\n",
       "    else if (event.altKey && event.key !== 'Alt') {\n",
       "        value += 'alt+';\n",
       "    }\n",
       "    else if (event.shiftKey && event.key !== 'Shift') {\n",
       "        value += 'shift+';\n",
       "    }\n",
       "\n",
       "    value += 'k' + event.key;\n",
       "\n",
       "    this._key_event_extra(event, name);\n",
       "\n",
       "    this.send_message(name, { key: value, guiEvent: simpleKeys(event) });\n",
       "    return false;\n",
       "};\n",
       "\n",
       "mpl.figure.prototype.toolbar_button_onclick = function (name) {\n",
       "    if (name === 'download') {\n",
       "        this.handle_save(this, null);\n",
       "    } else {\n",
       "        this.send_message('toolbar_button', { name: name });\n",
       "    }\n",
       "};\n",
       "\n",
       "mpl.figure.prototype.toolbar_button_onmouseover = function (tooltip) {\n",
       "    this.message.textContent = tooltip;\n",
       "};\n",
       "\n",
       "///////////////// REMAINING CONTENT GENERATED BY embed_js.py /////////////////\n",
       "// prettier-ignore\n",
       "var _JSXTOOLS_RESIZE_OBSERVER=function(A){var t,i=new WeakMap,n=new WeakMap,a=new WeakMap,r=new WeakMap,o=new Set;function s(e){if(!(this instanceof s))throw new TypeError(\"Constructor requires 'new' operator\");i.set(this,e)}function h(){throw new TypeError(\"Function is not a constructor\")}function c(e,t,i,n){e=0 in arguments?Number(arguments[0]):0,t=1 in arguments?Number(arguments[1]):0,i=2 in arguments?Number(arguments[2]):0,n=3 in arguments?Number(arguments[3]):0,this.right=(this.x=this.left=e)+(this.width=i),this.bottom=(this.y=this.top=t)+(this.height=n),Object.freeze(this)}function d(){t=requestAnimationFrame(d);var s=new WeakMap,p=new Set;o.forEach((function(t){r.get(t).forEach((function(i){var r=t instanceof window.SVGElement,o=a.get(t),d=r?0:parseFloat(o.paddingTop),f=r?0:parseFloat(o.paddingRight),l=r?0:parseFloat(o.paddingBottom),u=r?0:parseFloat(o.paddingLeft),g=r?0:parseFloat(o.borderTopWidth),m=r?0:parseFloat(o.borderRightWidth),w=r?0:parseFloat(o.borderBottomWidth),b=u+f,F=d+l,v=(r?0:parseFloat(o.borderLeftWidth))+m,W=g+w,y=r?0:t.offsetHeight-W-t.clientHeight,E=r?0:t.offsetWidth-v-t.clientWidth,R=b+v,z=F+W,M=r?t.width:parseFloat(o.width)-R-E,O=r?t.height:parseFloat(o.height)-z-y;if(n.has(t)){var k=n.get(t);if(k[0]===M&&k[1]===O)return}n.set(t,[M,O]);var S=Object.create(h.prototype);S.target=t,S.contentRect=new c(u,d,M,O),s.has(i)||(s.set(i,[]),p.add(i)),s.get(i).push(S)}))})),p.forEach((function(e){i.get(e).call(e,s.get(e),e)}))}return s.prototype.observe=function(i){if(i instanceof window.Element){r.has(i)||(r.set(i,new Set),o.add(i),a.set(i,window.getComputedStyle(i)));var n=r.get(i);n.has(this)||n.add(this),cancelAnimationFrame(t),t=requestAnimationFrame(d)}},s.prototype.unobserve=function(i){if(i instanceof window.Element&&r.has(i)){var n=r.get(i);n.has(this)&&(n.delete(this),n.size||(r.delete(i),o.delete(i))),n.size||r.delete(i),o.size||cancelAnimationFrame(t)}},A.DOMRectReadOnly=c,A.ResizeObserver=s,A.ResizeObserverEntry=h,A}; // eslint-disable-line\n",
       "mpl.toolbar_items = [[\"Home\", \"Reset original view\", \"fa fa-home icon-home\", \"home\"], [\"Back\", \"Back to previous view\", \"fa fa-arrow-left icon-arrow-left\", \"back\"], [\"Forward\", \"Forward to next view\", \"fa fa-arrow-right icon-arrow-right\", \"forward\"], [\"\", \"\", \"\", \"\"], [\"Pan\", \"Left button pans, Right button zooms\\nx/y fixes axis, CTRL fixes aspect\", \"fa fa-arrows icon-move\", \"pan\"], [\"Zoom\", \"Zoom to rectangle\\nx/y fixes axis, CTRL fixes aspect\", \"fa fa-square-o icon-check-empty\", \"zoom\"], [\"\", \"\", \"\", \"\"], [\"Download\", \"Download plot\", \"fa fa-floppy-o icon-save\", \"download\"]];\n",
       "\n",
       "mpl.extensions = [\"eps\", \"jpeg\", \"pgf\", \"pdf\", \"png\", \"ps\", \"raw\", \"svg\", \"tif\"];\n",
       "\n",
       "mpl.default_extension = \"png\";/* global mpl */\n",
       "\n",
       "var comm_websocket_adapter = function (comm) {\n",
       "    // Create a \"websocket\"-like object which calls the given IPython comm\n",
       "    // object with the appropriate methods. Currently this is a non binary\n",
       "    // socket, so there is still some room for performance tuning.\n",
       "    var ws = {};\n",
       "\n",
       "    ws.binaryType = comm.kernel.ws.binaryType;\n",
       "    ws.readyState = comm.kernel.ws.readyState;\n",
       "    function updateReadyState(_event) {\n",
       "        if (comm.kernel.ws) {\n",
       "            ws.readyState = comm.kernel.ws.readyState;\n",
       "        } else {\n",
       "            ws.readyState = 3; // Closed state.\n",
       "        }\n",
       "    }\n",
       "    comm.kernel.ws.addEventListener('open', updateReadyState);\n",
       "    comm.kernel.ws.addEventListener('close', updateReadyState);\n",
       "    comm.kernel.ws.addEventListener('error', updateReadyState);\n",
       "\n",
       "    ws.close = function () {\n",
       "        comm.close();\n",
       "    };\n",
       "    ws.send = function (m) {\n",
       "        //console.log('sending', m);\n",
       "        comm.send(m);\n",
       "    };\n",
       "    // Register the callback with on_msg.\n",
       "    comm.on_msg(function (msg) {\n",
       "        //console.log('receiving', msg['content']['data'], msg);\n",
       "        var data = msg['content']['data'];\n",
       "        if (data['blob'] !== undefined) {\n",
       "            data = {\n",
       "                data: new Blob(msg['buffers'], { type: data['blob'] }),\n",
       "            };\n",
       "        }\n",
       "        // Pass the mpl event to the overridden (by mpl) onmessage function.\n",
       "        ws.onmessage(data);\n",
       "    });\n",
       "    return ws;\n",
       "};\n",
       "\n",
       "mpl.mpl_figure_comm = function (comm, msg) {\n",
       "    // This is the function which gets called when the mpl process\n",
       "    // starts-up an IPython Comm through the \"matplotlib\" channel.\n",
       "\n",
       "    var id = msg.content.data.id;\n",
       "    // Get hold of the div created by the display call when the Comm\n",
       "    // socket was opened in Python.\n",
       "    var element = document.getElementById(id);\n",
       "    var ws_proxy = comm_websocket_adapter(comm);\n",
       "\n",
       "    function ondownload(figure, _format) {\n",
       "        window.open(figure.canvas.toDataURL());\n",
       "    }\n",
       "\n",
       "    var fig = new mpl.figure(id, ws_proxy, ondownload, element);\n",
       "\n",
       "    // Call onopen now - mpl needs it, as it is assuming we've passed it a real\n",
       "    // web socket which is closed, not our websocket->open comm proxy.\n",
       "    ws_proxy.onopen();\n",
       "\n",
       "    fig.parent_element = element;\n",
       "    fig.cell_info = mpl.find_output_cell(\"<div id='\" + id + \"'></div>\");\n",
       "    if (!fig.cell_info) {\n",
       "        console.error('Failed to find cell for figure', id, fig);\n",
       "        return;\n",
       "    }\n",
       "    fig.cell_info[0].output_area.element.on(\n",
       "        'cleared',\n",
       "        { fig: fig },\n",
       "        fig._remove_fig_handler\n",
       "    );\n",
       "};\n",
       "\n",
       "mpl.figure.prototype.handle_close = function (fig, msg) {\n",
       "    var width = fig.canvas.width / fig.ratio;\n",
       "    fig.cell_info[0].output_area.element.off(\n",
       "        'cleared',\n",
       "        fig._remove_fig_handler\n",
       "    );\n",
       "    fig.resizeObserverInstance.unobserve(fig.canvas_div);\n",
       "\n",
       "    // Update the output cell to use the data from the current canvas.\n",
       "    fig.push_to_output();\n",
       "    var dataURL = fig.canvas.toDataURL();\n",
       "    // Re-enable the keyboard manager in IPython - without this line, in FF,\n",
       "    // the notebook keyboard shortcuts fail.\n",
       "    IPython.keyboard_manager.enable();\n",
       "    fig.parent_element.innerHTML =\n",
       "        '<img src=\"' + dataURL + '\" width=\"' + width + '\">';\n",
       "    fig.close_ws(fig, msg);\n",
       "};\n",
       "\n",
       "mpl.figure.prototype.close_ws = function (fig, msg) {\n",
       "    fig.send_message('closing', msg);\n",
       "    // fig.ws.close()\n",
       "};\n",
       "\n",
       "mpl.figure.prototype.push_to_output = function (_remove_interactive) {\n",
       "    // Turn the data on the canvas into data in the output cell.\n",
       "    var width = this.canvas.width / this.ratio;\n",
       "    var dataURL = this.canvas.toDataURL();\n",
       "    this.cell_info[1]['text/html'] =\n",
       "        '<img src=\"' + dataURL + '\" width=\"' + width + '\">';\n",
       "};\n",
       "\n",
       "mpl.figure.prototype.updated_canvas_event = function () {\n",
       "    // Tell IPython that the notebook contents must change.\n",
       "    IPython.notebook.set_dirty(true);\n",
       "    this.send_message('ack', {});\n",
       "    var fig = this;\n",
       "    // Wait a second, then push the new image to the DOM so\n",
       "    // that it is saved nicely (might be nice to debounce this).\n",
       "    setTimeout(function () {\n",
       "        fig.push_to_output();\n",
       "    }, 1000);\n",
       "};\n",
       "\n",
       "mpl.figure.prototype._init_toolbar = function () {\n",
       "    var fig = this;\n",
       "\n",
       "    var toolbar = document.createElement('div');\n",
       "    toolbar.classList = 'btn-toolbar';\n",
       "    this.root.appendChild(toolbar);\n",
       "\n",
       "    function on_click_closure(name) {\n",
       "        return function (_event) {\n",
       "            return fig.toolbar_button_onclick(name);\n",
       "        };\n",
       "    }\n",
       "\n",
       "    function on_mouseover_closure(tooltip) {\n",
       "        return function (event) {\n",
       "            if (!event.currentTarget.disabled) {\n",
       "                return fig.toolbar_button_onmouseover(tooltip);\n",
       "            }\n",
       "        };\n",
       "    }\n",
       "\n",
       "    fig.buttons = {};\n",
       "    var buttonGroup = document.createElement('div');\n",
       "    buttonGroup.classList = 'btn-group';\n",
       "    var button;\n",
       "    for (var toolbar_ind in mpl.toolbar_items) {\n",
       "        var name = mpl.toolbar_items[toolbar_ind][0];\n",
       "        var tooltip = mpl.toolbar_items[toolbar_ind][1];\n",
       "        var image = mpl.toolbar_items[toolbar_ind][2];\n",
       "        var method_name = mpl.toolbar_items[toolbar_ind][3];\n",
       "\n",
       "        if (!name) {\n",
       "            /* Instead of a spacer, we start a new button group. */\n",
       "            if (buttonGroup.hasChildNodes()) {\n",
       "                toolbar.appendChild(buttonGroup);\n",
       "            }\n",
       "            buttonGroup = document.createElement('div');\n",
       "            buttonGroup.classList = 'btn-group';\n",
       "            continue;\n",
       "        }\n",
       "\n",
       "        button = fig.buttons[name] = document.createElement('button');\n",
       "        button.classList = 'btn btn-default';\n",
       "        button.href = '#';\n",
       "        button.title = name;\n",
       "        button.innerHTML = '<i class=\"fa ' + image + ' fa-lg\"></i>';\n",
       "        button.addEventListener('click', on_click_closure(method_name));\n",
       "        button.addEventListener('mouseover', on_mouseover_closure(tooltip));\n",
       "        buttonGroup.appendChild(button);\n",
       "    }\n",
       "\n",
       "    if (buttonGroup.hasChildNodes()) {\n",
       "        toolbar.appendChild(buttonGroup);\n",
       "    }\n",
       "\n",
       "    // Add the status bar.\n",
       "    var status_bar = document.createElement('span');\n",
       "    status_bar.classList = 'mpl-message pull-right';\n",
       "    toolbar.appendChild(status_bar);\n",
       "    this.message = status_bar;\n",
       "\n",
       "    // Add the close button to the window.\n",
       "    var buttongrp = document.createElement('div');\n",
       "    buttongrp.classList = 'btn-group inline pull-right';\n",
       "    button = document.createElement('button');\n",
       "    button.classList = 'btn btn-mini btn-primary';\n",
       "    button.href = '#';\n",
       "    button.title = 'Stop Interaction';\n",
       "    button.innerHTML = '<i class=\"fa fa-power-off icon-remove icon-large\"></i>';\n",
       "    button.addEventListener('click', function (_evt) {\n",
       "        fig.handle_close(fig, {});\n",
       "    });\n",
       "    button.addEventListener(\n",
       "        'mouseover',\n",
       "        on_mouseover_closure('Stop Interaction')\n",
       "    );\n",
       "    buttongrp.appendChild(button);\n",
       "    var titlebar = this.root.querySelector('.ui-dialog-titlebar');\n",
       "    titlebar.insertBefore(buttongrp, titlebar.firstChild);\n",
       "};\n",
       "\n",
       "mpl.figure.prototype._remove_fig_handler = function (event) {\n",
       "    var fig = event.data.fig;\n",
       "    if (event.target !== this) {\n",
       "        // Ignore bubbled events from children.\n",
       "        return;\n",
       "    }\n",
       "    fig.close_ws(fig, {});\n",
       "};\n",
       "\n",
       "mpl.figure.prototype._root_extra_style = function (el) {\n",
       "    el.style.boxSizing = 'content-box'; // override notebook setting of border-box.\n",
       "};\n",
       "\n",
       "mpl.figure.prototype._canvas_extra_style = function (el) {\n",
       "    // this is important to make the div 'focusable\n",
       "    el.setAttribute('tabindex', 0);\n",
       "    // reach out to IPython and tell the keyboard manager to turn it's self\n",
       "    // off when our div gets focus\n",
       "\n",
       "    // location in version 3\n",
       "    if (IPython.notebook.keyboard_manager) {\n",
       "        IPython.notebook.keyboard_manager.register_events(el);\n",
       "    } else {\n",
       "        // location in version 2\n",
       "        IPython.keyboard_manager.register_events(el);\n",
       "    }\n",
       "};\n",
       "\n",
       "mpl.figure.prototype._key_event_extra = function (event, _name) {\n",
       "    var manager = IPython.notebook.keyboard_manager;\n",
       "    if (!manager) {\n",
       "        manager = IPython.keyboard_manager;\n",
       "    }\n",
       "\n",
       "    // Check for shift+enter\n",
       "    if (event.shiftKey && event.which === 13) {\n",
       "        this.canvas_div.blur();\n",
       "        // select the cell after this one\n",
       "        var index = IPython.notebook.find_cell_index(this.cell_info[0]);\n",
       "        IPython.notebook.select(index + 1);\n",
       "    }\n",
       "};\n",
       "\n",
       "mpl.figure.prototype.handle_save = function (fig, _msg) {\n",
       "    fig.ondownload(fig, null);\n",
       "};\n",
       "\n",
       "mpl.find_output_cell = function (html_output) {\n",
       "    // Return the cell and output element which can be found *uniquely* in the notebook.\n",
       "    // Note - this is a bit hacky, but it is done because the \"notebook_saving.Notebook\"\n",
       "    // IPython event is triggered only after the cells have been serialised, which for\n",
       "    // our purposes (turning an active figure into a static one), is too late.\n",
       "    var cells = IPython.notebook.get_cells();\n",
       "    var ncells = cells.length;\n",
       "    for (var i = 0; i < ncells; i++) {\n",
       "        var cell = cells[i];\n",
       "        if (cell.cell_type === 'code') {\n",
       "            for (var j = 0; j < cell.output_area.outputs.length; j++) {\n",
       "                var data = cell.output_area.outputs[j];\n",
       "                if (data.data) {\n",
       "                    // IPython >= 3 moved mimebundle to data attribute of output\n",
       "                    data = data.data;\n",
       "                }\n",
       "                if (data['text/html'] === html_output) {\n",
       "                    return [cell, data, j];\n",
       "                }\n",
       "            }\n",
       "        }\n",
       "    }\n",
       "};\n",
       "\n",
       "// Register the function which deals with the matplotlib target/channel.\n",
       "// The kernel may be null if the page has been refreshed.\n",
       "if (IPython.notebook.kernel !== null) {\n",
       "    IPython.notebook.kernel.comm_manager.register_target(\n",
       "        'matplotlib',\n",
       "        mpl.mpl_figure_comm\n",
       "    );\n",
       "}\n"
      ],
      "text/plain": [
       "<IPython.core.display.Javascript object>"
      ]
     },
     "metadata": {},
     "output_type": "display_data"
    },
    {
     "data": {
      "text/html": [
       "<img src=\"data:image/png;base64,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\" width=\"640\">"
      ],
      "text/plain": [
       "<IPython.core.display.HTML object>"
      ]
     },
     "metadata": {},
     "output_type": "display_data"
    }
   ],
   "source": [
    "def Plot3dim(x,y,z):\n",
    "    \n",
    "    fig = plt.figure()\n",
    "    ax = plt.axes(projection='3d')\n",
    "    ax.plot_trisurf(x, y, z)\n",
    "    ax.axes.set_xlim3d(left=0, right=1) \n",
    "    ax.axes.set_ylim3d(bottom=0, top=1) \n",
    "    ax.axes.set_zlim3d(bottom=0, top=1)\n",
    "    ax.grid(False)\n",
    "    ax.set_title(\"PLOT OF ALLOWED ENTROPIES\")\n",
    "    ax.set_xlabel(r\"$S_{pol}$\")\n",
    "    ax.set_ylabel(r\"$S_{par}$\")\n",
    "    ax.set_zlabel(r\"$S$\")\n",
    "%matplotlib notebook\n",
    "Plot3dim(x,y,z)"
   ]
  },
  {
   "cell_type": "markdown",
   "metadata": {},
   "source": [
    "## 6. Quantum Circuits\n",
    "As one may have already noticed, the behavior of the system here can be accurately modelled using quantum systems where instead of coherence one measures the purity of a state. We make use of the IBM Qiskit libraries to build these experimental setups into their equivalent quantum circuits making use of ancillary qubits to create inherently mixed states. The main idea here is that for experiment A we would only need the two qubits each representing one DoF to model this system and reproduce the results using the appropriate operators.\n",
    "### Interpretation of the model\n",
    "<p>The first qubit (indexed by 0) refers to the polarisation DOF and the second qubit (index 1) refers to the parity DOF for experiment A. For experiment B and C we use an ancilla qubit at the zeroth index instead and these become 1 and 2 respectively. We will take the $|1\\rangle$ state of polarity to mean pure V-polarisation and $|0\\rangle$ state to mean pure H-polarisation. Similarly, we take the $|0\\rangle$ and $|1\\rangle$ states of the parity qubit to mean purely even and purely odd mode, respectively.</p>\n",
    "<table>\n",
    "    <tr><td>Parity-polarisation state</td><td>Qubit configuration</td></tr>\n",
    "    <tr><td>He</td><td>00</td></tr>\n",
    "    <tr><td>Ho</td><td>01</td></tr>\n",
    "    <tr><td>Ve</td><td>10</td></tr>\n",
    "    <tr><td>Vo</td><td>11</td></tr>\n",
    "</table>\n",
    "<p>Further, we will always use any ancilla qubits we need, to replicate the probabilistic devices (like random rotator or probabilistic PS-SLM) to be the initial qubits, the second last qubit will represent polarisation, and the last qubit represents parity.</p>\n",
    "\n",
    "For experiment B one of our state is starting in an impure form, something which cannot be reached if one were to only apply unitary transformations. Here we make use of an ancillary qubit which is coupled with the rest of the two qubits and hence is in a way storing the coherence we wished to get rid off as part of it's coupling. The main idea of this paper was that partial trace matrices do not give us the complete picture of the system which we can demonstrate very simply just by using a bell state (a pure state) and noting that it's partial traces are actually representative of impure states.\n",
    "\n",
    "The purpose of this section is to demonstrate a simulation which is based in quantum mechanics which reproduces the results of classical coherence obtained in this paper.\n",
    "\n",
    "A small point to add is that in qiskit the representation is not with zeroth qubit being MSB and last qubit being LSB but the other way round. In experiment A for example $q_0$ is the polarization qubit and $q_1$ is the parity qubit and so Ho is actually 10 and Ve is 01 and so on."
   ]
  },
  {
   "cell_type": "code",
   "execution_count": 49,
   "metadata": {},
   "outputs": [],
   "source": [
    "#Defining the operations on the circuit\n",
    "simulator = Aer.get_backend('statevector_simulator') #Using statevector simulator\n",
    "%matplotlib inline\n",
    "\n",
    "def SLM(phi,qc,ancilla_used = 0):\n",
    "    qc.rx(-phi,ancilla_used+1)\n",
    "    return\n",
    "#For HWP, by observing the 2x2 matrix, we see that the operator looks like Ry(theta)*sigma_Z \n",
    "def HWP(theta,qc,ancilla_used = 0):\n",
    "    qc.z(ancilla_used)\n",
    "    qc.ry(theta,ancilla_used)\n",
    "    return\n",
    "\n",
    "#for PS-SLM, we want the H-polarisation to induce an SLM action, but not V. So, if polarisation qubit is 0 (H), we want the\n",
    "#controlled gate to fire. So we first invert (NOT or X gate) the control bit, use a usual controlled gate, then invert it \n",
    "#again.\n",
    "def PSSLM(phi,qc,ancilla_used=0):\n",
    "    qc.x(ancilla_used)\n",
    "    qc.crx(-phi,ancilla_used,ancilla_used+1) #angle,control,target\n",
    "    qc.x(ancilla_used)\n",
    "    return\n",
    "\n",
    "def corr_circ(qc):\n",
    "    result = execute(qc, simulator).result()\n",
    "    statevector = result.get_statevector(qc)\n",
    "    corr = 0\n",
    "    if len(statevector) is 4:\n",
    "        corr = 2*(np.absolute(statevector[0]**2) + np.absolute(statevector[3]**2)) - 1\n",
    "    if len(statevector) is 8:\n",
    "        corr = (np.absolute(statevector[0]**2) + np.absolute(statevector[1]**2) + np.absolute(statevector[6]**2) + np.absolute(statevector[7]**2)) - (np.absolute(statevector[2]**2) + np.absolute(statevector[3]**2) + np.absolute(statevector[4]**2) + np.absolute(statevector[5]**2))\n",
    "    return corr"
   ]
  },
  {
   "cell_type": "markdown",
   "metadata": {},
   "source": [
    "### 6.1 Experiment A\n",
    "For this experiment we take $q_0$ as the polarization DoF and $q_1$ as the parity DoF. Based on the matrix forms of the experimental apparatus we can see that applying an HWP is analogous to a $R_y(\\theta)Z$ on $q_0$ and the SLM is $R_x(-\\phi)$ and the PSSLM is just the SLM as a controlled operation except that it activates for $q_0$ being in 0 instead of 1 so we just apply a NOT on that bit before and after the controlled gate. The measurement done in the end uses the statevector simulator of qiskit to directly calculate probabilities based on the state of the system. While running multiple shots using one of the real quantum computers one can access using IBM-Q would have been more impressive, those will come with heavy noise outputs would require additional noise and error mitigation procedures."
   ]
  },
  {
   "cell_type": "code",
   "execution_count": 50,
   "metadata": {},
   "outputs": [
    {
     "data": {
      "image/png": "[encoded data removed]",
      "text/plain": [
       "<Figure size 840.392x204.68 with 1 Axes>"
      ]
     },
     "execution_count": 50,
     "metadata": {},
     "output_type": "execute_result"
    }
   ],
   "source": [
    "#Quantum Circuit Diagram for A\n",
    "qcA = QuantumCircuit(2,2)\n",
    "qcA.h(0)\n",
    "qcA.barrier() #initialisation complete, 45 degre linearly polarised even mode\n",
    "PSSLM(np.pi/2,qcA) #no ancilla\n",
    "qcA.barrier() #beam is coupled, now on to analysis stage\n",
    "HWP(np.pi/4,qcA)\n",
    "SLM(np.pi/6,qcA)\n",
    "qcA.barrier()#Analysis stage complete. Now, measurement stage\n",
    "qcA.measure(0,0)\n",
    "qcA.measure(1,1)\n",
    "qcA.draw('mpl')"
   ]
  },
  {
   "cell_type": "code",
   "execution_count": 51,
   "metadata": {},
   "outputs": [],
   "source": [
    "def CA(theta_a,phi_a,phi):\n",
    "    qcA=QuantumCircuit(2,2)\n",
    "    qcA.h(0)\n",
    "    qcA.barrier() #initialisation complete, 45 degre linearly polarised even mode\n",
    "    PSSLM(phi,qcA) #no ancilla\n",
    "    qcA.barrier() #beam is coupled, now on to analysis stage\n",
    "    HWP(theta_a,qcA)\n",
    "    SLM(phi_a,qcA)\n",
    "    corr = corr_circ(qcA)\n",
    "    return corr"
   ]
  },
  {
   "cell_type": "code",
   "execution_count": 52,
   "metadata": {},
   "outputs": [
    {
     "data": {
      "application/vnd.jupyter.widget-view+json": {
       "model_id": "3b84160f61834d6689e4f3456adfe335",
       "version_major": 2,
       "version_minor": 0
      },
      "text/plain": [
       "interactive(children=(FloatSlider(value=1.5707963267948966, continuous_update=False, description='phi_A', layo…"
      ]
     },
     "metadata": {},
     "output_type": "display_data"
    }
   ],
   "source": [
    "def CP_A(phi_A):\n",
    "    phi_fixed = phi_A\n",
    "    points = 50\n",
    "    ta_range = np.linspace(0,2*np.pi,points)\n",
    "    pa_range = np.linspace(0,2*np.pi,points)\n",
    "    X,Y = np.meshgrid(ta_range, pa_range)\n",
    "    Z = [[0 for i in range(50)] for j in range(50)]\n",
    "    for i in range(len(Y)):\n",
    "        for j in range(len(X)):\n",
    "            Z[i][j] = CA(ta_range[j],pa_range[i],phi_fixed)\n",
    "    fig, ax = plt.subplots(figsize=(7,5.7))\n",
    "    cp = ax.contourf(X, Y, Z ,cmap='turbo');\n",
    "    fig.colorbar(cp) # Add a colorbar to a plot\n",
    "    plt.xlim(0,2*np.pi)\n",
    "    plt.ylim(0,2*np.pi)\n",
    "    ax.axis('equal')\n",
    "    return\n",
    "interact(CP_A, phi_A=widgets.FloatSlider(min=0, max=2*np.pi, step=0.01, value=np.pi/2, continuous_update=False, layout=Layout(width='600px')));"
   ]
  },
  {
   "cell_type": "markdown",
   "metadata": {},
   "source": [
    "As we can see above we have succesfully recreated the same results using abstract qubits."
   ]
  },
  {
   "cell_type": "markdown",
   "metadata": {},
   "source": [
    "### 6.2 Experiment B\n",
    "Here in the experiment a random rotator is used to generate what would be measured as unpolarized light. As stated before the coherence of a the DoFs are analogous to a qubit being in a mixed or pure state. Since we are working with idealized qubits the state of the system will always remain pure however if one were to look into just the hilbert space of few of the qubits but not all we would have it perceived as an impure state. Here unpolarized light would have a coherency (density) matrix which is diagonal with both entries equal to 1/2. This is a completely mixed state and we can generate this by looking at the partial trace of a qubit which is paired with another qubit as the bell state $\\dfrac{|00\\rangle + |11\\rangle}{\\sqrt{2}}$. Hence we make use of $q_0$ as an ancillary qubit which is present as a bell pair with $q_1$ which is now the polarization qubit. $q_2$ is the parity qubit. As we can see since we do not measure the $q_0$ qubit we would actually see $q_1$ behave like a mixed state which is what the random rotator actually achieves. More specifically the bell state we have described has half probability for any state on the XZ plane of the bloch sphere and since the random rotator is a $R_yZ$ operation the system as a whole is essentially composed of all states on the XZ plane which would be described by observing one qubit out of this bell pair."
   ]
  },
  {
   "cell_type": "code",
   "execution_count": 53,
   "metadata": {},
   "outputs": [
    {
     "data": {
      "image/png": "[encoded data removed]",
      "text/plain": [
       "<Figure size 900.592x264.88 with 1 Axes>"
      ]
     },
     "execution_count": 53,
     "metadata": {},
     "output_type": "execute_result"
    }
   ],
   "source": [
    "#Quantum Circuit Diagram for B\n",
    "qc_B = QuantumCircuit(3,2)\n",
    "qc_B.h(0)\n",
    "qc_B.cx(0,1)\n",
    "qc_B.barrier() #initialisation complete as unpolarized light\n",
    "PSSLM(np.pi/2,qc_B,1)\n",
    "qc_B.barrier() #beam is coupled, now on to analysis stage\n",
    "HWP(np.pi/4,qc_B,1)\n",
    "SLM(np.pi/6,qc_B,1)\n",
    "qc_B.barrier()#Analysis stage complete. Now, measurement stage\n",
    "qc_B.measure(1,0)\n",
    "qc_B.measure(2,1)\n",
    "qc_B.draw('mpl')"
   ]
  },
  {
   "cell_type": "code",
   "execution_count": 54,
   "metadata": {},
   "outputs": [],
   "source": [
    "#Experiment C\n",
    "def CB(theta_a,phi_a,phi):\n",
    "    #Quantum Circuit Diagram for A\n",
    "    qc_B = QuantumCircuit(3)\n",
    "    qc_B.h(0)\n",
    "    qc_B.cx(0,1)\n",
    "    qc_B.barrier() #initialisation complete as unpolarized light\n",
    "    PSSLM(phi,qc_B,1)\n",
    "    qc_B.barrier() #beam is coupled, now on to analysis stage\n",
    "    HWP(theta_a,qc_B,1)\n",
    "    SLM(phi_a,qc_B,1)\n",
    "    qc_B.barrier()#Analysis stage complete.\n",
    "    return corr_circ(qc_B)"
   ]
  },
  {
   "cell_type": "code",
   "execution_count": 55,
   "metadata": {},
   "outputs": [
    {
     "data": {
      "application/vnd.jupyter.widget-view+json": {
       "model_id": "51dc373bb756411f8acdeb4b67280a80",
       "version_major": 2,
       "version_minor": 0
      },
      "text/plain": [
       "interactive(children=(FloatSlider(value=3.141592653589793, continuous_update=False, description='phi_B', layou…"
      ]
     },
     "metadata": {},
     "output_type": "display_data"
    }
   ],
   "source": [
    "#This cell takes time to run\n",
    "def CP_B(phi_B):\n",
    "    phi_fixed = phi_B\n",
    "    points = 50\n",
    "    ta_range = np.linspace(0,2*np.pi,points)\n",
    "    pa_range = np.linspace(0,2*np.pi,points)\n",
    "    X,Y = np.meshgrid(ta_range, pa_range)\n",
    "    Z = [[0 for i in range(50)] for j in range(50)]\n",
    "    for i in range(len(Y)):\n",
    "        for j in range(len(X)):\n",
    "            Z[i][j] = CB(ta_range[j],pa_range[i],phi_fixed)\n",
    "    fig, ax = plt.subplots(figsize=(7,5.7))\n",
    "    cp = ax.contourf(X, Y, Z ,cmap='turbo');\n",
    "    fig.colorbar(cp) # Add a colorbar to a plot\n",
    "    plt.xlim(0,2*np.pi)\n",
    "    plt.ylim(0,2*np.pi)\n",
    "    ax.axis('equal')\n",
    "    return\n",
    "interact(CP_B, phi_B=widgets.FloatSlider(min=0, max=2*np.pi, step=0.01, value=np.pi, continuous_update=False, layout=Layout(width='600px')));"
   ]
  },
  {
   "cell_type": "markdown",
   "metadata": {},
   "source": [
    "As we can see above we have again been able to reproduce results exactly from those we obtained previously and that of the paper for the correlation function."
   ]
  },
  {
   "cell_type": "markdown",
   "metadata": {},
   "source": [
    "### 6.3 Experiment C\n",
    "In experiment C the paper randomly chooses to either couple the DoFs or not with probability of $P$ and $1-P$ respectively. To recreate this I again make use of an ancillary qubit $q_0$ similar to section [6.2](#6.2-Experiment-B). The idea is to create this in the state $\\sqrt{1-P}|0\\rangle + \\sqrt{P}|1\\rangle$ and use a controlled-Rx gate with angle $-\\pi$ with $q_0$ and $q_1$ (polarization) as control bits where polarization needs to be 0 and ancilla needs to be 1 to activate this rotation. The circuit used decomposes the two control gate using the standard procedure for decomposing two control single target qubit gates if the single control gate is available."
   ]
  },
  {
   "cell_type": "code",
   "execution_count": 56,
   "metadata": {},
   "outputs": [
    {
     "data": {
      "image/png": "[encoded data removed]",
      "text/plain": [
       "<Figure size 1081.19x264.88 with 1 Axes>"
      ]
     },
     "execution_count": 56,
     "metadata": {},
     "output_type": "execute_result"
    }
   ],
   "source": [
    "qc_C = QuantumCircuit(3,2)\n",
    "P = 0.5\n",
    "qc_C.ry(2*np.arccos(np.sqrt(1-P)),0)#Preparing the probability qubit\n",
    "qc_C.h(1)\n",
    "qc_C.barrier()\n",
    "#Do a controlled Rx(-pi) gate with two controls\n",
    "qc_C.x(1)\n",
    "qc_C.crx(-np.pi/2,1,2)\n",
    "qc_C.cx(0,1)\n",
    "qc_C.crx(np.pi/2,1,2)\n",
    "qc_C.cx(0,1)\n",
    "qc_C.crx(-np.pi/2,0,2)\n",
    "qc_C.x(1)\n",
    "qc_C.barrier()\n",
    "#Analysis stage now\n",
    "HWP(np.pi/6,qc_C,1)\n",
    "SLM(np.pi/3,qc_C,1)\n",
    "qc_C.barrier()\n",
    "qc_C.measure(1,0)\n",
    "qc_C.measure(2,1)\n",
    "qc_C.draw('mpl')"
   ]
  },
  {
   "cell_type": "code",
   "execution_count": 57,
   "metadata": {},
   "outputs": [],
   "source": [
    "#Experiment C\n",
    "def CC(P,theta_a,phi_a):\n",
    "    qc_C = QuantumCircuit(3)\n",
    "    qc_C.ry(2*np.arccos(np.sqrt(1-P)),0)#Preparing the probability qubit\n",
    "    qc_C.h(1)\n",
    "    qc_C.barrier()\n",
    "    #Do a controlled y gate with two controls\n",
    "    qc_C.x(1)\n",
    "    qc_C.crx(-np.pi/2,1,2)\n",
    "    qc_C.cx(0,1)\n",
    "    qc_C.crx(np.pi/2,1,2)\n",
    "    qc_C.cx(0,1)\n",
    "    qc_C.crx(-np.pi/2,0,2)\n",
    "    qc_C.x(1)\n",
    "    qc_C.barrier()\n",
    "    #Analysis stage now\n",
    "    HWP(theta_a,qc_C,1)\n",
    "    SLM(phi_a,qc_C,1)\n",
    "    return corr_circ(qc_C)"
   ]
  },
  {
   "cell_type": "code",
   "execution_count": 58,
   "metadata": {},
   "outputs": [
    {
     "data": {
      "application/vnd.jupyter.widget-view+json": {
       "model_id": "b553b928ee9b4d42b143a35edf77c221",
       "version_major": 2,
       "version_minor": 0
      },
      "text/plain": [
       "interactive(children=(FloatSlider(value=0.5, continuous_update=False, description='P_var', layout=Layout(width…"
      ]
     },
     "metadata": {},
     "output_type": "display_data"
    }
   ],
   "source": [
    "def CP_C(P_var):\n",
    "    P_fixed = P_var\n",
    "    points = 50\n",
    "    ta_range = np.linspace(0,2*np.pi,points)\n",
    "    pa_range = np.linspace(0,2*np.pi,points)\n",
    "    X,Y = np.meshgrid(ta_range, pa_range)\n",
    "    Z = [[0 for i in range(50)] for j in range(50)]\n",
    "    for i in range(len(Y)):\n",
    "        for j in range(len(X)):\n",
    "            Z[i][j] = CC(P_fixed,ta_range[j],pa_range[i])\n",
    "    fig, ax = plt.subplots(figsize=(7,5.7))\n",
    "    cp = ax.contourf(X, Y, Z ,cmap='turbo');\n",
    "    fig.colorbar(cp) # Add a colorbar to a plot\n",
    "    plt.xlim(0,2*np.pi)\n",
    "    plt.ylim(0,2*np.pi)\n",
    "    ax.axis('equal')\n",
    "interact(CP_C, P_var=widgets.FloatSlider(min=0, max=1, step=0.01, value=0.5, continuous_update=False, layout=Layout(width='600px')));"
   ]
  },
  {
   "cell_type": "markdown",
   "metadata": {},
   "source": [
    "As we can see above this also faithfully reproduces the required results for the correlation function.\n",
    "\n",
    "### Universality using optical components\n",
    "Our main reference for this is [[3](#ref-3)]. To fully realize quantum computing (or any form of computing) one needs a physical system capable of producing the minimal set of operations which can then be extended to a set of all possible operations and sequences of operations. In classical computers the complete set is realized using the set of operations $\\{\\lnot,\\land\\}$ or $\\{\\lnot,\\lor\\}$. For quantum computers universality would imply being able to make any circuit which essentially means the set of all unitary matrices. This of course is non inclusive of measurements (which will not keep a circuit unitary) but one can prove that measurements placed in the middle of a cicuit can be taken to the very end without affecting the final measurement probabilities (since once measured any qubit is essentially decohered and cannot be part of the circuit anyway). \n",
    "\n",
    "To get the complete set of unitary matrices we can first start for the case of a single qubit. This set would essentially be the $SU(2)$ group which is isomorphic to $SO(3)$ and given that we have an $R_x(\\theta)$ gate in form of the SLM we actually just need rotation about some other axis to achieve single qubit universality for parity. The polarization qubit does have a $R_y(\\theta)Z$ qubit which can be used to get the hadamard gate $H$ with $\\theta = \\pi/2$ and in combination with a quarter wave plate with fast axis horizontal which is effectively the square root of $Z$ denoted with an $S$ (ignoring global phase) we can actually make the HWP just be a pure $R_y(\\theta)$. Additionally using $\\theta=\\pi$ we can make this into an $X$ gate ignoring global phase. The importance of this $X$ gate is that if we apply the gate sequence $X$-PSSLM-$X$ it is effectively a PSSLM which applies the operation of the SLM when the polarization is vertical which transalates exactly into a controlled $R_x(\\phi)$ operation which we will use in our analysis below. \n",
    "\n",
    "The PS-SLM is an operator which controls the parity using the polarity and is essentially a controlled Rx gate and so can be made into a CNOT gate which adds an additional phase of $\\iota$ to the horizontal polarization component. To make the CNOT of the other way we can try for the MZI configuration proposed [here](#Proposal-for-a-Parity-Sensitive-Polarisation-Modifier). The point here is that once we have these two CNOTS, we can essentially get universal unitaries by swapping the polarization (see cells below) and parity qubit in such a way that we can apply an Rx gate followed by Ry and then another Rx with the appropriate euler angles and we can attain individual qubit universalities of $U3$ gates.\n",
    "\n",
    "The exact CNOT operation where polarization is control and parity is target involves making use of a quarter wave plate which has the operator form of $e^{-\\iota\\pi/4}\\begin{pmatrix}1 & 0\\\\0 & \\iota\\end{pmatrix}$ on the polarization qubit so that we can induce a relative phase between H and V of polarization. \n",
    "\n",
    "Now for getting overall universality we just need the CNOT gates of both ways and since we already have that using the PSSLM and the MZI setup described previously we actually have a universal quantum computer of two qubits.\n",
    "\n",
    "A small note to be made is that the U3 gates have unique euler angles upto a global phase being ignored. Now we have established that global phase is useless here for a 1 qubit case but with two qubits a controlled-$U$ gate has importance on global phase of $U$. To tackle this we can simply make use of the decomposition of $U$ such that first a controlled $\\tilde{U}$ where $\\tilde{U}$ can be written as just the rotations ($R_y(\\theta_3)R_x(\\theta_2)R_y(\\theta_1)$ or $R_x(\\theta_3)R_y(\\theta_2)R_x(\\theta_1)$ depending on the qubit) ignoring the global phase and say $U=e^{\\iota\\alpha}\\tilde{U}$ we simply apply the gate equivalent to $R_z(\\alpha/2)$ to the control qubit. While applying this $z$ rotation we just introduce a relative phase of $\\alpha$ between the $|0\\rangle$ and $|1\\rangle$ of the control qubit which is equivalent to a controlled $U$ if done after the controlled $\\tilde{U}$. Note that global phase of this last gate does not concern us since that is global for both qubits unlike a controlled gate. "
   ]
  },
  {
   "cell_type": "code",
   "execution_count": 59,
   "metadata": {},
   "outputs": [
    {
     "name": "stdout",
     "output_type": "stream",
     "text": [
      "[[1.+0.000000e+00j 0.+0.000000e+00j 0.+0.000000e+00j 0.+0.000000e+00j]\n",
      " [0.+0.000000e+00j 0.+0.000000e+00j 0.+0.000000e+00j 1.-6.123234e-17j]\n",
      " [0.+0.000000e+00j 0.+0.000000e+00j 1.+0.000000e+00j 0.+0.000000e+00j]\n",
      " [0.+0.000000e+00j 1.+6.123234e-17j 0.+0.000000e+00j 0.+0.000000e+00j]]\n",
      "               ┌───┐\n",
      "q_0: ────■─────┤ S ├\n",
      "     ┌───┴────┐└───┘\n",
      "q_1: ┤ RX(pi) ├─────\n",
      "     └────────┘     \n"
     ]
    }
   ],
   "source": [
    "import qiskit.quantum_info as qi\n",
    "#CNOT\n",
    "qc_cn = QuantumCircuit(2)\n",
    "qc_cn.crx(np.pi,0,1)#PSSLM\n",
    "qc_cn.s(0)\n",
    "print((qi.Operator(qc_cn).data))\n",
    "print(qc_cn.draw())"
   ]
  },
  {
   "cell_type": "markdown",
   "metadata": {},
   "source": [
    "As we can see above as per the matrix form of the operation the circuit has done, this achieves the CNOT gate which we desire and below we show how make this into a swap gate."
   ]
  },
  {
   "cell_type": "code",
   "execution_count": 60,
   "metadata": {},
   "outputs": [
    {
     "name": "stdout",
     "output_type": "stream",
     "text": [
      "[[1.+0.000000e+00j 0.+0.000000e+00j 0.+0.000000e+00j 0.+0.000000e+00j]\n",
      " [0.+0.000000e+00j 0.+0.000000e+00j 1.-6.123234e-17j 0.+0.000000e+00j]\n",
      " [0.+0.000000e+00j 1.+6.123234e-17j 0.+0.000000e+00j 0.+0.000000e+00j]\n",
      " [0.+0.000000e+00j 0.+0.000000e+00j 0.+0.000000e+00j 1.+0.000000e+00j]]\n",
      "               ┌───┐┌───┐          ┌───┐\n",
      "q_0: ────■─────┤ S ├┤ X ├────■─────┤ S ├\n",
      "     ┌───┴────┐└───┘└─┬─┘┌───┴────┐└───┘\n",
      "q_1: ┤ RX(pi) ├───────■──┤ RX(pi) ├─────\n",
      "     └────────┘          └────────┘     \n"
     ]
    }
   ],
   "source": [
    "import qiskit.quantum_info as qi\n",
    "#Swap gate\n",
    "qc_sw = QuantumCircuit(2)\n",
    "qc_sw.crx(np.pi,0,1)#PSSLM\n",
    "qc_sw.s(0)#QWP\n",
    "qc_sw.cx(1,0)\n",
    "qc_sw.crx(np.pi,0,1)#PSSLM\n",
    "qc_sw.s(0)#QWP\n",
    "#Swapping complete\n",
    "print((qi.Operator(qc_sw).data))#See the operator as a matrix\n",
    "print(qc_sw.draw())"
   ]
  },
  {
   "cell_type": "markdown",
   "metadata": {},
   "source": [
    "As we can see above that this achieves the same unitary that a swap gate would. Since we have shown that polarization is capable of arbitray $R_x$ rotations and parity qubits are capable of arbitrary $R_y$ rotations we can follow the following sequence of steps for U3 gates on polarization as shown below. We take the euler angles for $Y-X-Y$ and first apply $R_y$ on polarization, swap with parity and apply a $R_x$ on parity after that. Finally swap again and do the final $R_y$ on the polarization qubit. We follow a similar procedure for parity U3 gates but instead use euler angles of $X-Y-X$."
   ]
  },
  {
   "cell_type": "code",
   "execution_count": 61,
   "metadata": {},
   "outputs": [
    {
     "data": {
      "image/png": "[encoded data removed]",
      "text/plain": [
       "<Figure size 1201.59x144.48 with 1 Axes>"
      ]
     },
     "execution_count": 61,
     "metadata": {},
     "output_type": "execute_result"
    }
   ],
   "source": [
    "#For doing arbitrary rotations on the polarization qubit\n",
    "qc_uq1 = QuantumCircuit(2)\n",
    "eul1 = np.pi/2\n",
    "eul2 = np.pi/3\n",
    "eul3 = np.pi\n",
    "qc_uq1.ry(eul1,0) #HWP combined with QWP\n",
    "qc_uq1.barrier()\n",
    "qc_uq1.crx(np.pi,0,1)#PSSLM\n",
    "qc_uq1.s(0)#QWP\n",
    "qc_uq1.cx(1,0)\n",
    "qc_uq1.crx(np.pi,0,1)#PSSLM\n",
    "qc_uq1.s(0)#QWP\n",
    "#Swapping complete\n",
    "qc_uq1.barrier()\n",
    "qc_uq1.rx(eul2,1) #SLM\n",
    "qc_uq1.barrier()\n",
    "qc_uq1.crx(np.pi,0,1)#PSSLM\n",
    "qc_uq1.s(0)#QWP\n",
    "qc_uq1.cx(1,0)\n",
    "qc_uq1.crx(np.pi,0,1)#PSSLM\n",
    "qc_uq1.s(0)#QWP\n",
    "#Swapping complete\n",
    "qc_uq1.barrier()\n",
    "qc_uq1.ry(eul3,0) #HWP combined with QWP\n",
    "qc_uq1.draw('mpl')"
   ]
  },
  {
   "cell_type": "code",
   "execution_count": 62,
   "metadata": {},
   "outputs": [
    {
     "data": {
      "image/png": "[encoded data removed]",
      "text/plain": [
       "<Figure size 1201.59x144.48 with 1 Axes>"
      ]
     },
     "execution_count": 62,
     "metadata": {},
     "output_type": "execute_result"
    }
   ],
   "source": [
    "#For doing arbitrary rotations on the parity qubit\n",
    "qc_uq2 = QuantumCircuit(2)\n",
    "eul1 = np.pi/2\n",
    "eul2 = np.pi/3\n",
    "eul3 = np.pi\n",
    "qc_uq2.rx(eul1,1) #HWP combined with QWP\n",
    "qc_uq2.barrier()\n",
    "qc_uq2.crx(np.pi,0,1)#PSSLM\n",
    "qc_uq2.s(0)#QWP\n",
    "qc_uq2.cx(1,0)\n",
    "qc_uq2.crx(np.pi,0,1)#PSSLM\n",
    "qc_uq2.s(0)#QWP\n",
    "#Swapping complete\n",
    "qc_uq2.barrier()\n",
    "qc_uq2.ry(eul2,0)\n",
    "qc_uq2.barrier()\n",
    "qc_uq2.crx(np.pi,0,1)#PSSLM\n",
    "qc_uq2.s(0)#QWP\n",
    "qc_uq2.cx(1,0)\n",
    "qc_uq2.crx(np.pi,0,1)#PSSLM\n",
    "qc_uq2.s(0)#QWP\n",
    "#Swapping complete\n",
    "qc_uq2.barrier()\n",
    "qc_uq2.rx(eul3,1) #HWP combined with QWP\n",
    "qc_uq2.draw('mpl')"
   ]
  },
  {
   "cell_type": "markdown",
   "metadata": {},
   "source": [
    "We must note that in the above schemes for U3 gates the other qubit over which the middle rotation is done actually unchanged due to the two swaps and there is no entaglement involved. Hence we have demonstrated a recipe for arbitrary U3 gates on both qubits and we also showed CNOT execution giving us a universal set for any unitary circuit on these two qubits."
   ]
  },
  {
   "cell_type": "markdown",
   "metadata": {},
   "source": [
    "## 7. Concluding Remarks\n",
    "The exceeding of $B_\\text{max}$ beyond the value of 2 in quantum mechanics implied that one cannot use locally deterministic hidden variable theories to explain quantum mechanics or simply put proves that quantum mechanics violates local realism. Here we have seen that $B_\\text{max}$ exceeds this classical limit and one can conclude equivalently that one cannot write the correlation function as some $C(\\theta_a,\\phi_a) = \\int d\\lambda\\rho(\\lambda)C_\\text{pol}(\\theta_a,\\lambda)C_\\text{par}(\\phi_a,\\lambda)$ where $\\lambda$ is some set of hidden variables. The proper proof of this is described in [Appendix A](#Appendix-A:-The-EPR-paradox-and-Bell's-inequalities) and the experimental results concur with this. \n",
    "\n",
    "In a way this shows that if one were to have two DoFs, there would be an uncertainty which arises due their coupling which is quantised by using the Bell's measure. These results would hold good regardless of the type of DoF used and can be extended to systems with a higher number of DoFs too. We also explored how one can link this with quantum systems and reproduced the results using a quantum computer simulation of IBM Q.\n",
    "\n",
    "More importantly one must take note of how looking at the coherency behaviors of the individual DoFs would not address the actual coherence it had since some of it would be 'shared' in form of coupling. In short the partial traces of coherency matrices offer an incomplete picture of the system quite similar to how one would deal with multi qubit systems and have the state behave mixed when only looking at the partial trace over a part of the Hilber space. We even took advantage of this incomplete picture to create mixed states in the previous section. This also demonstrates how one could effectively share coherence between two DoFs as seen in experiment B where the coherency $S_\\text{pol}$ of the polarization qubit is effectively increased at maximal entaglement with the fully coherent parity DoF. An important consequence of the swap gate we made use of in proving universality is that one can essentially \"exchange\" coherence between two DoFs which is a very interesting consequence."
   ]
  },
  {
   "cell_type": "markdown",
   "metadata": {},
   "source": [
    "## Appendix A: The EPR paradox and Bell's inequalities\n",
    "\n",
    "Before talking about the bell's measure let us first dive into why it was made and for this we must look at the EPR experiment proposed in [[4](#ref-4)]. I will discuss Bohm's variant since Bell's response was made in a way to that. Say we have prepared a electron-positron pair coming from a single source. These would be entangled in a way where if we measure the spin of one of the particles, the other particle will simultaneously collapse to the opposite spin.\n",
    "$$|{\\psi}\\rangle = \\dfrac{|{\\uparrow_e\\downarrow_p}\\rangle + |{\\downarrow_e\\uparrow_p}\\rangle}{\\sqrt{2}}$$\n",
    "So the main issue which Einstein had was that this means that measurement on one particle directly affects the other no matter how far it is. This makes it a non local effect which clearly does not make sense in a world which was believed to follow local realism. It can be proven that the two agents have no way to communicate using this pair hence showing that there actually is no faster than light comminication. While one may think choosing basis in a certain manner can change measurement probabilities and essentially have some \"information\" change, no matter how much measurements are done, since this is probabilistic the other agent cannot conclude anything from that.\n",
    "   \n",
    "\n",
    "While there have been multiple responses to this, the most important one is the one discussed in Bell's paper [[5](#ref-5)].\n",
    "First we will start by considering the EPR argument using spin particles. Consider a pair of spin one-half particles formed somehow in the singlet spin state and moving freely in opposite directions. Measurements can be made, say by Stern-Gerlach magnets, on selected components of the spins $\\vec{\\sigma_1}$ and $\\vec{\\sigma_2}$,\n",
    "If measurement of the component $\\vec{\\sigma_1}\\cdot{a}$, where $a$ is some unit vector, yields the value +1 then, according to quantum mechanics, measurement of $\\vec{\\sigma_2}\\cdot{a}$ must yield the value -1 and vice versa.\n",
    "We now define some set of parameters $\\lambda$ which is taken as continuous which give us a complete description of the state. The result $A$ of measuring $\\vec{\\sigma_1}\\cdot{a}$ is then determined by $a$ and $\\lambda$, and the result $B$ of measuring $\\vec{\\sigma_2}\\cdot{b}$ in the\n",
    "same instance is determined by $b$ and $\\lambda$.\n",
    "\\begin{equation}\\label{eq:1A}\\tag{1A}A(\\vec{a},\\lambda) = \\pm 1, B(\\vec{b},\\lambda) = \\pm 1 \\end{equation}\n",
    "We now take $\\rho(\\lambda)$ as the probability distribution of $\\lambda$ and we will now try to find the expectation value of of the product of the two components $\\vec{\\sigma_1}\\cdot{a}$ and $\\vec{\\sigma_2}\\cdot{b}$.\n",
    "\\begin{equation}\\label{eq:2A}\\tag{2A}P(\\vec{a}\\vec{b}) = \\int{d\\lambda}\\rho(\\lambda)A(\\vec{a},\\lambda)B(\\vec{b},\\lambda)\\end{equation}\n",
    "The quantum mechanical expectation value of this is the following\n",
    "\\begin{equation}\\label{eq:3A}\\tag{3A}\\langle\\vec{\\sigma_1}\\cdot{a}\\vec{\\sigma_2}\\cdot{b}\\rangle = - \\vec{a}\\cdot\\vec{b}\\end{equation}\n",
    "However it turns out that eq: \\ref{eq:2A} doesn't give us the same result as \\ref{eq:3A}. So first off we know that we have a normalized distribution.\n",
    "\\begin{equation}\\label{eq:4A}\\tag{4A}\\int{d\\lambda}\\rho(\\lambda) = 1\\end{equation}\n",
    "if we take $\\vec{a} = \\vec{b}$ the $P$ in eq: \\ref{eq:2A} can reach -1.\n",
    "\\begin{equation}\\label{eq:5A}\\tag{5A}A(\\vec{a},\\lambda) = -B(\\vec{a},\\lambda)\\end{equation}\n",
    "Knowing this we can rewrite eq: \\ref{eq:2A} into the following\n",
    "\\begin{equation}\\label{eq:6A}\\tag{6A}P(\\vec{a}\\vec{b}) = -\\int{d\\lambda}\\rho(\\lambda)A(\\vec{a},\\lambda)A(\\vec{b},\\lambda)\\end{equation}\n",
    "\\begin{equation}\\label{eq:7A}\\tag{7A}P(\\vec{a},\\vec{b}) - P(\\vec{a},\\vec{c}) = \\int{d\\lambda}\\rho(\\lambda)[1-A(\\vec{b},\\lambda)A(\\vec{c},\\lambda)]\\end{equation}\n",
    "from eq: \\ref{eq:1A} we can write this\n",
    "\\begin{equation}\\label{eq:8A}\\tag{8A}|P(\\vec{a},\\vec{b}) - P(\\vec{a},\\vec{c})| \\leq \\int{d\\lambda}\\rho(\\lambda)A(\\vec{a},\\lambda)A(\\vec{b},\\lambda)[A(\\vec{b},\\lambda)A(\\vec{c},\\lambda) - 1]\\end{equation}\n",
    "The second term on the right is just $P(\\vec{b},\\vec{c})$ so we get\n",
    "\\begin{equation}\\label{eq:9A}\\tag{9A}1 + P(\\vec{b},\\vec{c}) \\geq |P(\\vec{a},\\vec{b}) - P(\\vec{a},\\vec{c})|\\end{equation}\n",
    "Now we define a $\\overline{P}(\\vec{a},\\vec{b})$ and a $\\overline{- \\vec{a}\\cdot\\vec{b}}$ which essentially are the averages over vectors differing from a small angle from $\\vec{a}$ and $\\vec{b}$ of the quantities under the bar. Let's suppose the following holds for some $\\epsilon$\n",
    "\\begin{equation}\\label{eq:10A}\\tag{10A}|\\overline{P}(\\vec{a},\\vec{b}) + \\overline{\\vec{a}\\cdot\\vec{b}}| \\leq \\epsilon\\end{equation}\n",
    "We cannot make $\\epsilon$ arbitrarily small and this can be proven by the following steps. Let us first assume the following inequality holds for all $\\vec{a}$ and $\\vec{b}$\n",
    "\\begin{equation}\\label{eq:11A}\\tag{11A}|\\overline{\\vec{a}\\cdot\\vec{b}} - \\vec{a}\\cdot\\vec{b}| \\leq\\delta\\end{equation}\n",
    "Then using eq:\\ref{eq:11A} and eq:\\ref{eq:10A} we have\n",
    "\\begin{equation}\\label{eq:12A}\\tag{12A}|\\overline{P}(\\vec{a},\\vec{b}) + \\vec{a}\\cdot\\vec{b}| \\leq \\epsilon + \\delta\\end{equation}\n",
    "Now taking $\\vec{a} = \\vec{b}$ (hence their dot product is 1) we rewrite eq:\\ref{eq:12A} as the equation below while using the fact that $\\overline{P(\\vec{a},\\vec{b})} = \\int d\\lambda\\rho(\\lambda)\\overline{A}(\\vec{a},\\lambda)\\overline{B}(\\vec{b},\\lambda))$.\n",
    "\\begin{equation}\\label{eq:13A}\\tag{13A}\\int d\\lambda\\rho(\\lambda)[\\overline{A}(\\vec{b},\\lambda)\\overline{B}(\\vec{b},\\lambda))+1] \\leq\\epsilon+\\delta\\end{equation}\n",
    "We can extend from \\ref{eq:1A} that on averaging over a small range, $|\\overline{A}(\\vec{a},\\lambda)| \\leq 1$ and $|\\overline{B}(\\vec{b},\\lambda)| \\leq 1$. Now we can write the following\n",
    "\\begin{equation}\\label{eq:14A}\\tag{14A}\\overline{P}(\\vec{a},\\vec{b})-\\overline{P}(\\vec{b},\\vec{c}) = \\int{d\\lambda}\\rho(\\lambda)\\overline{A}(\\vec{a},\\lambda)\\overline{B}(\\vec{b},\\lambda)[\\overline{A}(\\vec{b},\\lambda)\\overline{B}(\\vec{c},\\lambda) + 1] - \\int{d\\lambda}\\rho(\\lambda)\\overline{A}(\\vec{a},\\lambda)\\overline{B}(\\vec{c},\\lambda)[\\overline{A}(\\vec{b},\\lambda)\\overline{B}(\\vec{b},\\lambda) + 1]\\end{equation}\n",
    "Using the inequalities on the averaged $A$ and $B$ we can write the following\n",
    "\\begin{equation}\\label{eq:15A}\\tag{15A}|\\overline{P}(\\vec{a},\\vec{b})-\\overline{P}(\\vec{b},\\vec{c})| \\leq \\int{d\\lambda}\\rho(\\lambda)[\\overline{A}(\\vec{b},\\lambda)\\overline{B}(\\vec{c},\\lambda) + 1] - \\int{d\\lambda}\\rho(\\lambda)[\\overline{A}(\\vec{b},\\lambda)\\overline{B}(\\vec{b},\\lambda) + 1]\\end{equation}\n",
    "\\begin{equation}\\label{eq:16A}\\tag{16A}|\\overline{P}(\\vec{a},\\vec{b})-\\overline{P}(\\vec{b},\\vec{c})| \\leq 1 + \\overline{P} + \\epsilon+\\delta\\end{equation}\n",
    "We write eq:\\ref{eq:16A} using eq:\\ref{eq:15A} and eq:\\ref{eq:13A}. Finally using eq:\\ref{eq:12A} we rewrite the above equation as\n",
    "\\begin{equation}\\label{eq:17A}\\tag{17A}|\\vec{a}\\cdot\\vec{c}-\\vec{a}\\cdot\\vec{b}|+\\vec{b}\\cdot\\vec{c}-1 \\leq 4(\\epsilon+\\delta)\\end{equation}\n",
    "Now with the constr  aint coming from eq:\\ref{eq:17A} we can handpick values of $\\vec{a},\\vec{b},\\vec{c}$ such that $\\epsilon$ cannot be made arbitrarily small (take $\\vec{a}\\cdot\\vec{b} = \\vec{c}\\cdot\\vec{b} = 1/\\sqrt{2}$ and $\\vec{a}\\cdot\\vec{c} = 0$ this would show $4(\\epsilon+\\delta)\\geq\\sqrt{2}-1$). The fact that $\\epsilon$ cannot be made arbitrarily small implies that the quantum mechanical value cannot be approximated either accurately or arbitrarily close to this form using hidden variable. So this contradiction implies that some assumptions that we have taken happen to not work together and that happen to be local determinism and hidden variables. So any hidden variable theory by nature itself is non local.\n",
    "\n",
    "To get the form of the CSHS inequalities we essentially modify the form of eq:\\ref{eq:14A} and write it as follows\n",
    "\\begin{equation}\\label{eq:18A}\\tag{18A}\\overline{P}(\\vec{a},\\vec{b})-\\overline{P}(\\vec{a},\\vec{b}') = \\int{d\\lambda}\\rho(\\lambda)\\overline{A}(\\vec{a},\\lambda)\\overline{B}(\\vec{b},\\lambda)[1\\pm\\overline{A}(\\vec{a}',\\lambda)\\overline{B}(\\vec{b}',\\lambda)] - \\int{d\\lambda}\\rho(\\lambda)\\overline{A}(\\vec{a},\\lambda)\\overline{B}(\\vec{b}',\\lambda)[1\\pm\\overline{A}(\\vec{a}',\\lambda)\\overline{B}(\\vec{b},\\lambda)]\\end{equation}\n",
    "We now apply the triangle inequality and also note that the modulus of the averaged functions $\\overline{A}$ and $\\overline{B}$ are bounded above by 1 we will get\n",
    "\\begin{equation}\\label{eq:19A}\\tag{19A}|\\overline{P}(\\vec{a},\\vec{b})-\\overline{P}(\\vec{a},\\vec{b}')| \\leq \\left|\\int{d\\lambda}\\rho(\\lambda)[1\\pm\\overline{A}(\\vec{a}',\\lambda)\\overline{B}(\\vec{b}',\\lambda)]\\right| + \\left|\\int{d\\lambda}\\rho(\\lambda)[1\\pm\\overline{A}(\\vec{a}',\\lambda)\\overline{B}(\\vec{b},\\lambda)]\\right|\\end{equation}\n",
    "We may as well remove the moduli brackets on the LHS since the quantities is non negative. Since $\\int\\rho(\\lambda)d\\lambda = 1$ and $\\overline{P(\\vec{a},\\vec{b})} = \\int d\\lambda\\rho(\\lambda)\\overline{A}(\\vec{a},\\lambda)\\overline{B}(\\vec{b},\\lambda))$ we can rewrite eq:\\ref{eq:19A} as\n",
    "\\begin{equation}\\label{eq:20A}\\tag{20A}|\\overline{P}(\\vec{a},\\vec{b})-\\overline{P}(\\vec{a},\\vec{b}')| \\leq 2 \\pm (\\overline{P}(\\vec{a}',\\vec{b}') + \\overline{P}(\\vec{a}',\\vec{b})) \\leq 2 \\pm |\\overline{P}(\\vec{a}',\\vec{b}') + \\overline{P}(\\vec{a}',\\vec{b})|\\end{equation}\n",
    "The second inequality comes from the triangle inequality. Now we can choose the minus sign and we get\n",
    "\\begin{equation}\\label{eq:21A}\\tag{21A}|\\overline{P}(\\vec{a},\\vec{b})-\\overline{P}(\\vec{a},\\vec{b}')| + |\\overline{P}(\\vec{a}',\\vec{b}') + \\overline{P}(\\vec{a}',\\vec{b})| \\leq 2\\end{equation}\n",
    "Finally we get the following equation by applying the triangle inequality on RHS of eq:\\ref{eq:21A}\n",
    "\\begin{equation}\\label{eq:22A}\\tag{22A}|\\overline{P}(\\vec{a},\\vec{b}) - \\overline{P}(\\vec{a},\\vec{b}') + \\overline{P}(\\vec{a}',\\vec{b}') + \\overline{P}(\\vec{a}',\\vec{b})| \\leq 2\\end{equation}\n",
    "The above inequality is the form of writing the CHSH inequalities [[6](#ref-6)]. The bound above is shown to be 2 which is satisfied for classical systems and is violated for quantum mechanical correlations. One can instead prove a different bound for quantum correlations as $2\\sqrt{2}$. This is reffered to as the Tsirelon's bound. To prove this we can suppose we have four hermitian operators $A_0,A_1,B_0,B_1$ where $[A_i,B_j] = 0$ but the $[A_0,A_1] \\neq 0$ and $[B_0,B_1] \\neq 0$. We define these $A$ operators as being two different spin measurements on the same electron and $B$ being the same on the positron where their results are either $+1$ or $-1$. We know that for a simple spin system $[\\sigma\\cdot\\vec{a},\\sigma\\cdot\\vec{b}] = 2\\iota\\sigma\\cdot(\\vec{a}\\times\\vec{b})$. Now we will define a new operator called $\\mathcal{B}$\n",
    "$$\\mathcal{B} = A_0B_0 + A_0B_1 + A_1B_0 - A_1B_1$$\n",
    "This operator has been defined along the lines of the bell's measure where expectation value of the modulus of this operator would be the actual bells measure for a correlation function of $C_{ij} = \\langle A_iB_j\\rangle$. We can now square this operator and it would simpify as the equation below (since $A_i^2 = B_i^2 = I$)\n",
    "$$\\mathcal{B}^2 = 4I - [A_0,A_1][B_0,B_1]$$\n",
    "Since these are spin operators we have $|[A_0,A_1][B_0,B_1]| \\leq 4I$ using the commutation relation we had defined earlier. We would infact have $\\mathcal{B}^2$ reach it's maximum if $A_0,B_0$ measures along $\\hat{x}$ and $A_1,B_1$ measures along $\\hat{y}$ which would make $\\mathcal{B}^2 = 8I$. This leads us to $\\langle \\mathcal{B}\\rangle \\leq 2\\sqrt{2}$ which is the Tsirelon's bound [[7](#ref-7)]. In this paper the $B_{max}$ values are bounded above due to Tsirelon's bound.\n"
   ]
  },
  {
   "cell_type": "markdown",
   "metadata": {},
   "source": [
    "## References\n",
    "<br>\n",
    "<div id=\"ref-1\">[1] Kagalwala, K., Di Giuseppe, G., Abouraddy, A. et al. Bell's measure in classical optical coherence. Nature Photon 7, 72–78 (2013). <a href=\"https://doi.org/10.1038/nphoton.2012.312\">https://doi.org/10.1038/nphoton.2012.312</a></div>\n",
    "<div id=\"ref-2\">[2] Aiello, A., and Woerdman, J. (2005). Physical Bounds to the Entropy-Depolarization Relation in Random Light Scattering. Phys. Rev. Lett., 94, 090406.</div>\n",
    "<div id=\"ref-3\">[3] Nielsen, M, Chuang, I. Quantum Computation and Quantum Information: 10th Anniversary Edition. Cambridge University Press; 2011.</div>\n",
    "<div id=\"ref-4\">[4] Einstein, A, Podolsky, B, Rosen, N. \"Can Quantum-Mechanical Description of Physical Reality Be Considered Complete?\". Phys. Rev. 1935; 47:777–780.</div>\n",
    "<div id=\"ref-5\">[5] Bell, J. \"On the Einstein Podolsky Rosen paradox\". Physics Physique Fizika 1964; 1:195–200.</div>\n",
    "<div id=\"ref-6\">[6] Clauser, J, Horne, M, Shimony, A, Holt, R. \"Proposed Experiment to Test Local Hidden-Variable Theories\". Phys. Rev. Lett. 1969; 23:880–884.</div>\n",
    "<div id=\"ref-7\">[7] Cirel'son, B.S. Quantum generalizations of Bell's inequality. Lett Math Phys 4, 93–100 (1980). <a href=\"https://doi.org/10.1007/BF00417500\">https://doi.org/10.1007/BF00417500</a></div>\n",
    "<div id=\"ref-8\">[8] Zyczkowski, K., Penson, K. A., Nechita, I. & Collins, C. Generating random\n",
    "density matrices. J. Math. Phys. 52, 062201 (2011).</div>\n",
    "<div id=\"ref-9\">[9] Gil, Jose & Bernabeu, Eusebio. (1987). Obtainment of the polarizing and retardation parameters of a non-depolarizing optical system from the polar decomposition of its Mueller matrix. Optik. 76. 67. </div>\n",
    "<div id=\"ref-10\">[10] Yarnall, T., Abouraddy, A. F., Saleh, B. E. A. & Teich, M. C. Synthesis and\n",
    "analysis of entangled photonic qubits in spatial-parity space. Phys. Rev. Lett.\n",
    "99, 250502 (2007).</div>"
   ]
  }
 ],
 "metadata": {
  "kernelspec": {
   "display_name": "Python 3",
   "language": "python",
   "name": "python3"
  },
  "language_info": {
   "codemirror_mode": {
    "name": "ipython",
    "version": 3
   },
   "file_extension": ".py",
   "mimetype": "text/x-python",
   "name": "python",
   "nbconvert_exporter": "python",
   "pygments_lexer": "ipython3",
   "version": "3.7.4"
  }
 },
 "nbformat": 4,
 "nbformat_minor": 2
}
