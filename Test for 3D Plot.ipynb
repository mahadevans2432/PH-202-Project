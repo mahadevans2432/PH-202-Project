{
 "cells": [
  {
   "cell_type": "code",
   "execution_count": 1,
   "metadata": {},
   "outputs": [],
   "source": [
    "from IPython.display import clear_output\n",
    "clear_output()\n",
    "import numpy as np\n",
    "import matplotlib.pyplot as plt\n",
    "from matplotlib.widgets import Slider, Button, RadioButtons\n",
    "from ipywidgets import interact, interactive, fixed, interact_manual, Layout\n",
    "import ipywidgets as widgets\n",
    "from mpl_toolkits.mplot3d import axes3d\n",
    "from sympy import *\n",
    "from sympy.physics.quantum.dagger import Dagger\n",
    "from IPython.display import Javascript\n",
    "import seaborn as sns\n",
    "import scipy as sc\n",
    "import sys\n",
    "np.set_printoptions(threshold=sys.maxsize)"
   ]
  },
  {
   "cell_type": "code",
   "execution_count": 80,
   "metadata": {},
   "outputs": [],
   "source": [
    "def trace_G(G): #A trace function for just 4x4 G matrices\n",
    "    return (G[0,0] + G[1,1] + G[2,2] + G[3,3])"
   ]
  },
  {
   "cell_type": "code",
   "execution_count": 53,
   "metadata": {},
   "outputs": [],
   "source": []
  },
  {
   "cell_type": "code",
   "execution_count": 54,
   "metadata": {},
   "outputs": [],
   "source": []
  },
  {
   "cell_type": "code",
   "execution_count": 55,
   "metadata": {},
   "outputs": [],
   "source": [
    "C,B=np.around(sc.linalg.schur(A),7)"
   ]
  },
  {
   "cell_type": "code",
   "execution_count": 56,
   "metadata": {},
   "outputs": [
    {
     "data": {
      "text/plain": [
       "array([[-0.5773369-0.j       ,  0.2958531-0.j       ,\n",
       "        -0.5601713-0.j       , -0.5151322-0.j       ],\n",
       "       [-0.5617174-0.1360439j,  0.2547486-0.1240831j,\n",
       "         0.0261501+0.143854j ,  0.7474194-0.0752237j],\n",
       "       [-0.4619914+0.0082306j, -0.4586868+0.5869851j,\n",
       "         0.3725206+0.2609794j, -0.150747 +0.0440981j],\n",
       "       [-0.3400017-0.0595219j, -0.1476454-0.505404j ,\n",
       "         0.4405043-0.5137163j, -0.1827563+0.3350751j]])"
      ]
     },
     "execution_count": 56,
     "metadata": {},
     "output_type": "execute_result"
    }
   ],
   "source": [
    "B"
   ]
  },
  {
   "cell_type": "code",
   "execution_count": 57,
   "metadata": {},
   "outputs": [
    {
     "data": {
      "text/plain": [
       "array([[ 1.00000002e+00+0.00000000e+00j,  1.00659100e-08-6.15802400e-08j,\n",
       "         5.59682000e-08-1.13596300e-08j, -3.33217400e-08-3.24968005e-09j],\n",
       "       [ 1.00659100e-08+6.15802400e-08j,  1.00000001e+00+0.00000000e+00j,\n",
       "         6.11196200e-08-5.66726600e-08j, -7.55990997e-09-5.61930900e-08j],\n",
       "       [ 5.59682000e-08+1.13596300e-08j,  6.11196200e-08+5.66726600e-08j,\n",
       "         1.00000003e+00+0.00000000e+00j,  3.26333299e-08-4.53055000e-09j],\n",
       "       [-3.33217400e-08+3.24968005e-09j, -7.55990997e-09+5.61930900e-08j,\n",
       "         3.26333299e-08+4.53055000e-09j,  1.00000004e+00+0.00000000e+00j]])"
      ]
     },
     "execution_count": 57,
     "metadata": {},
     "output_type": "execute_result"
    }
   ],
   "source": [
    "B.dot(Dagger(B))"
   ]
  },
  {
   "cell_type": "code",
   "execution_count": 77,
   "metadata": {},
   "outputs": [
    {
     "data": {
      "text/plain": [
       "array([[0.57396864, 0.        , 0.        , 0.        ],\n",
       "       [0.        , 0.56161716, 0.        , 0.        ],\n",
       "       [0.        , 0.        , 0.75835984, 0.        ],\n",
       "       [0.        , 0.        , 0.        , 0.22748753]])"
      ]
     },
     "execution_count": 77,
     "metadata": {},
     "output_type": "execute_result"
    }
   ],
   "source": [
    "aux=np.diag(np.random.rand(4))\n",
    "aux"
   ]
  },
  {
   "cell_type": "code",
   "execution_count": 90,
   "metadata": {},
   "outputs": [],
   "source": [
    "def randG():\n",
    "    A=np.random.rand(4,4)+np.random.rand(4,4)*1j\n",
    "    A=A+Dagger(A)\n",
    "    C,B=np.around(sc.linalg.schur(A),7)\n",
    "    aux=np.diag(np.random.rand(4))\n",
    "    G=B.dot(aux).dot(Dagger(B))\n",
    "    G=G/trace_G(G)\n",
    "    G=np.around(G,7)    \n",
    "    return G"
   ]
  },
  {
   "cell_type": "code",
   "execution_count": 97,
   "metadata": {},
   "outputs": [
    {
     "data": {
      "text/plain": [
       "array([[ 0.2648628+0.j       , -0.0455927+0.0210877j,\n",
       "        -0.0046928+0.0712872j, -0.1294228-0.0160889j],\n",
       "       [-0.0455927-0.0210877j,  0.3044973+0.j       ,\n",
       "        -0.109162 -0.0677937j, -0.0574981+0.0742426j],\n",
       "       [-0.0046928-0.0712872j, -0.109162 +0.0677937j,\n",
       "         0.1976232+0.j       ,  0.0316973-0.0020614j],\n",
       "       [-0.1294228+0.0160889j, -0.0574981-0.0742426j,\n",
       "         0.0316973+0.0020614j,  0.2330167+0.j       ]])"
      ]
     },
     "execution_count": 97,
     "metadata": {},
     "output_type": "execute_result"
    }
   ],
   "source": [
    "randG()"
   ]
  },
  {
   "cell_type": "code",
   "execution_count": 242,
   "metadata": {
    "scrolled": true
   },
   "outputs": [
    {
     "data": {
      "text/plain": [
       "array([0.0334098+0.j, 0.2486326-0.j, 0.356149 -0.j, 0.3618086-0.j])"
      ]
     },
     "execution_count": 242,
     "metadata": {},
     "output_type": "execute_result"
    }
   ],
   "source": [
    "np.around(np.linalg.eig(randG())[0],7)"
   ]
  }
 ],
 "metadata": {
  "kernelspec": {
   "display_name": "Python 3",
   "language": "python",
   "name": "python3"
  },
  "language_info": {
   "codemirror_mode": {
    "name": "ipython",
    "version": 3
   },
   "file_extension": ".py",
   "mimetype": "text/x-python",
   "name": "python",
   "nbconvert_exporter": "python",
   "pygments_lexer": "ipython3",
   "version": "3.8.2"
  }
 },
 "nbformat": 4,
 "nbformat_minor": 4
}
