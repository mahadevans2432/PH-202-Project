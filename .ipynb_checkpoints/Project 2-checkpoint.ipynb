{
 "cells": [
  {
   "cell_type": "markdown",
   "metadata": {},
   "source": [
    "# BELL'S MEASURE IN CLASSICAL OPTICAL COHERENCE"
   ]
  },
  {
   "cell_type": "markdown",
   "metadata": {},
   "source": [
    "## Team details and work distrubution\n",
    "1. Aneesh Bapat (Roll no: 190260006): Proposed $A$ matrix formalism for devices, theoretical analysis of experiments along with derivations, coding of quantum circuits and proposal for parity sensitive polarization modifying gate.\n",
    "2. Ankan Mukherjee (Roll no: 190260008): Numpy calculations for $S$, $D$, $B$ and Correlation function. Optimization of $B$. Generation of plots and countor plots for experiments A, B and C. Interactivity of plots. Calculations for 3-D plot. Definition of necessary functions in the preamble.\n",
    "3. Mahadevan Subramanian (Roll no: 190260027): Explanation of polarization and spatial parity DoFs and their analysis. Quantum circuit analogue to given experiments and also proved quantum circuit universality for this analogous system. Proof of Bell's inequalities.\n",
    "4. Priyam Dubey (Roll no: 190260034): Worked and coded plots of Correlation Functions and $B_{max}$ plots along with the 3D volume generation in $S,S_\\text{pol},S_\\text{par}$ space, interpretation of 3D Plot. Worked on interactive plots for Topic 6."
   ]
  },
  {
   "cell_type": "markdown",
   "metadata": {},
   "source": [
    "## 0. Setting up this notebook\n",
    "Kindly run the cell below to make sure you have all required dependencies"
   ]
  },
  {
   "cell_type": "markdown",
   "metadata": {},
   "source": [
    "### 0.1 Installing and Importing Packages"
   ]
  },
  {
   "cell_type": "code",
   "execution_count": 1,
   "metadata": {},
   "outputs": [
    {
     "name": "stdout",
     "output_type": "stream",
     "text": [
      "Successfully imported packages\n"
     ]
    }
   ],
   "source": [
    "from IPython.display import clear_output,display, Math, Latex\n",
    "!pip install numpy\n",
    "!pip install scipy\n",
    "!pip install matplotlib\n",
    "!pip install sympy\n",
    "!pip install seaborn\n",
    "!pip install qiskit\n",
    "clear_output()\n",
    "import numpy as np\n",
    "import matplotlib.pyplot as plt\n",
    "from matplotlib.widgets import Slider, Button, RadioButtons\n",
    "from ipywidgets import interact, interactive, fixed, interact_manual, Layout\n",
    "import ipywidgets as widgets\n",
    "from mpl_toolkits.mplot3d import axes3d\n",
    "from sympy import *\n",
    "from sympy.physics.quantum.dagger import Dagger\n",
    "from IPython.display import Javascript\n",
    "import seaborn as sns\n",
    "import scipy as sc\n",
    "import sys\n",
    "from qiskit import *\n",
    "from qiskit.compiler import transpile, assemble\n",
    "from qiskit.tools.jupyter import *\n",
    "from qiskit.visualization import *\n",
    "import matplotlib.pyplot as plotter\n",
    "np.set_printoptions(threshold=sys.maxsize)\n",
    "print(\"Successfully imported packages\")"
   ]
  },
  {
   "cell_type": "markdown",
   "metadata": {},
   "source": [
    "### 0.2 Defining Functions"
   ]
  },
  {
   "cell_type": "code",
   "execution_count": 2,
   "metadata": {},
   "outputs": [],
   "source": [
    "## Function implemented to set axis ticks in multiples of pi in plots.\n",
    "## Function written by Scott Centoni at https://stackoverflow.com/a/53586826\n",
    "\n",
    "\n",
    "def multiple_formatter(denominator=2, number=np.pi, latex='\\pi'):\n",
    "    def gcd(a, b):\n",
    "        while b:\n",
    "            a, b = b, a%b\n",
    "        return a\n",
    "    def _multiple_formatter(x, pos):\n",
    "        den = denominator\n",
    "        num = int(np.rint(den*x/number))\n",
    "        com = gcd(num,den)\n",
    "        (num,den) = (int(num/com),int(den/com))\n",
    "        if den==1:\n",
    "            if num==0:\n",
    "                return r'$0$'\n",
    "            if num==1:\n",
    "                return r'$%s$'%latex\n",
    "            elif num==-1:\n",
    "                return r'$-%s$'%latex\n",
    "            else:\n",
    "                return r'$%s%s$'%(num,latex)\n",
    "        else:\n",
    "            if num==1:\n",
    "                return r'$\\frac{%s}{%s}$'%(latex,den)\n",
    "            elif num==-1:\n",
    "                return r'$\\frac{-%s}{%s}$'%(latex,den)\n",
    "            else:\n",
    "                return r'$\\frac{%s%s}{%s}$'%(num,latex,den)\n",
    "    return _multiple_formatter\n",
    "\n",
    "class Multiple:\n",
    "    def __init__(self, denominator=2, number=np.pi, latex='\\pi'):\n",
    "        self.denominator = denominator\n",
    "        self.number = number\n",
    "        self.latex = latex\n",
    "\n",
    "    def locator(self):\n",
    "        return plt.MultipleLocator(self.number / self.denominator)\n",
    "\n",
    "    def formatter(self):\n",
    "        return plt.FuncFormatter(multiple_formatter(self.denominator, self.number, self.latex))"
   ]
  },
  {
   "cell_type": "code",
   "execution_count": 3,
   "metadata": {},
   "outputs": [],
   "source": [
    "def plotter(x,y,title,xlabel,ylabel,col,label):\n",
    "    num_space,=x.shape\n",
    "    plt.plot(x,y, color=col,linewidth=3, label=label)\n",
    "    plt.title(title, fontsize=15)\n",
    "    plt.xlabel(xlabel, fontsize=15)\n",
    "    plt.ylabel(ylabel, fontsize=15)\n",
    "    plt.xlim(0,2*np.pi)\n",
    "    ax=plt.gca()\n",
    "    ax.set_facecolor('#FFFFCC')\n",
    "    ax.axhline(0, color='black', lw=2)\n",
    "    ax.axvline(0, color='black', lw=2)\n",
    "    ax.xaxis.set_major_locator(plt.MultipleLocator(np.pi / 2))\n",
    "    ax.xaxis.set_minor_locator(plt.MultipleLocator(np.pi / 12))\n",
    "    ax.xaxis.set_major_formatter(plt.FuncFormatter(multiple_formatter()))\n",
    "    plt.xticks(fontsize =15)\n",
    "    plt.yticks(fontsize =15)\n",
    "    return"
   ]
  },
  {
   "cell_type": "code",
   "execution_count": 4,
   "metadata": {},
   "outputs": [],
   "source": [
    "def plotterC(x,y,title,xlabel,ylabel,col,label):\n",
    "    num_space,=x.shape\n",
    "    plt.plot(x,y, color=col,linewidth=3, label=label)\n",
    "    plt.title(title, fontsize=15)\n",
    "    plt.xlabel(xlabel, fontsize=15)\n",
    "    plt.ylabel(ylabel, fontsize=15)\n",
    "    plt.xlim(0,1)\n",
    "    ax=plt.gca()\n",
    "    ax.set_facecolor('#FFFFCC')\n",
    "    ax.axhline(0, color='black', lw=2)\n",
    "    ax.axvline(0, color='black', lw=2)\n",
    "    plt.xticks(fontsize =15)\n",
    "    plt.yticks(fontsize =15)\n",
    "    return"
   ]
  },
  {
   "cell_type": "code",
   "execution_count": 5,
   "metadata": {},
   "outputs": [],
   "source": [
    "def contourplotter(function,phi,title,xlabel,ylabel):\n",
    "    f = lambdify((t,p,ta,pa),function, \"numpy\")\n",
    "    ta_range = np.linspace(0,2*np.pi,1000);\n",
    "    pa_range = np.linspace(0,2*np.pi,1000);\n",
    "    phi_fixed = phi;\n",
    "    X, Y = np.meshgrid(ta_range, pa_range);\n",
    "    def ftemp(ta_val,pa_val):\n",
    "        return f(0,phi_fixed,ta_val,pa_val);\n",
    "    Z = ftemp(X,Y);\n",
    "    fig, ax = plt.subplots(figsize=(7,5.7))\n",
    "    cp = ax.contourf(X, Y, Z ,cmap='turbo');\n",
    "    fig.colorbar(cp) # Add a colorbar to a plot\n",
    "    plt.xlim(0,2*np.pi);\n",
    "    plt.ylim(0,2*np.pi);\n",
    "    ax.axis('equal');\n",
    "\n",
    "    plt.title(title, fontsize=15)\n",
    "    plt.xlabel(xlabel, fontsize=15)\n",
    "    plt.ylabel(ylabel, fontsize=15)\n",
    "    ax=plt.gca()\n",
    "    ax.set_facecolor((0.8,1,1))\n",
    "    ax.axhline(0, color='black', lw=2)\n",
    "    ax.axvline(0, color='black', lw=2)\n",
    "    ax.xaxis.set_major_locator(plt.MultipleLocator(np.pi / 2))\n",
    "    ax.xaxis.set_minor_locator(plt.MultipleLocator(np.pi / 12))\n",
    "    ax.xaxis.set_major_formatter(plt.FuncFormatter(multiple_formatter()))\n",
    "    ax.yaxis.set_major_locator(plt.MultipleLocator(np.pi / 2))\n",
    "    ax.yaxis.set_minor_locator(plt.MultipleLocator(np.pi / 12))\n",
    "    ax.yaxis.set_major_formatter(plt.FuncFormatter(multiple_formatter()))\n",
    "    plt.xticks(fontsize =15)\n",
    "    plt.yticks(fontsize =15)\n",
    "    return"
   ]
  },
  {
   "cell_type": "code",
   "execution_count": 6,
   "metadata": {},
   "outputs": [],
   "source": [
    "def contourplotterC(function,P1,title,xlabel,ylabel):\n",
    "    f = lambdify((P,ta,pa),function, \"numpy\")\n",
    "    ta_range = np.linspace(0,2*np.pi,100);\n",
    "    pa_range = np.linspace(0,2*np.pi,100);\n",
    "    P_fixed = P1;\n",
    "    X, Y = np.meshgrid(ta_range, pa_range);\n",
    "    def ftemp(ta_val,pa_val):\n",
    "        return f(P1,ta_val,pa_val);\n",
    "    Z = ftemp(X,Y);\n",
    "    fig, ax = plt.subplots(figsize=(7,5.7))\n",
    "    cp = ax.contourf(X, Y, Z ,cmap='turbo');\n",
    "    fig.colorbar(cp) # Add a colorbar to a plot\n",
    "    plt.xlim(0,2*np.pi);\n",
    "    plt.ylim(0,2*np.pi);\n",
    "    ax.axis('equal');\n",
    "\n",
    "    plt.title(title, fontsize=15)\n",
    "    plt.xlabel(xlabel, fontsize=15)\n",
    "    plt.ylabel(ylabel, fontsize=15)\n",
    "    ax=plt.gca()\n",
    "    ax.set_facecolor((0.8,1,1))\n",
    "    ax.axhline(0, color='black', lw=2)\n",
    "    ax.axvline(0, color='black', lw=2)\n",
    "    ax.xaxis.set_major_locator(plt.MultipleLocator(np.pi / 2))\n",
    "    ax.xaxis.set_minor_locator(plt.MultipleLocator(np.pi / 12))\n",
    "    ax.xaxis.set_major_formatter(plt.FuncFormatter(multiple_formatter()))\n",
    "    ax.yaxis.set_major_locator(plt.MultipleLocator(np.pi / 2))\n",
    "    ax.yaxis.set_minor_locator(plt.MultipleLocator(np.pi / 12))\n",
    "    ax.yaxis.set_major_formatter(plt.FuncFormatter(multiple_formatter()))\n",
    "    plt.xticks(fontsize =15)\n",
    "    plt.yticks(fontsize =15)\n",
    "    return"
   ]
  },
  {
   "cell_type": "markdown",
   "metadata": {},
   "source": [
    "## Introduction\n",
    "Bell states or entangled states are a very common idea in the realm of quantum computing. The idea behind a bell state is that the measurement of one qubit is perfectly correlated to the measurement of the other. So while a partial measurement of only one qubit would lead the observer to believe that the state is not pure (the quantum computing equivalent of coherence in optics), the state is infact pure when a correlated measurement of the two qubits is carried out at the same time. This has interesting applications such as quantum teleportation, superdense coding and quantum cryptography. While bell states have been studied thoroughly in the field of quantum computing, there are not many studies that explore the classical analogue of bell states. In this project, we have tried to explore the this topic mainly along the ideas presented in reference [[1](#ref-1)]. \n",
    "<p> The main idea we are trying to explore is that it is possible to couple two degrees of freedom (DOFs) of a beam of light, in the context of our discussion, polarisation and parity, such that when a measurement of only one DOF is made (independent of the other), it is possible for the beam to appear partially coherent or even completely incoherent, while the the beam is infact completely coherent (in the sense that there is nothing 'random' about the beam). This hidden coupling can be made evident by actually performing a correlated bell state measurement between the two DOFs, and also allows us to distinguish true randomness (partial coherence) from entanglement. It is also possible to look at coherence as a resource that can be shared among different DOFs, for example, we can start with a completely unpolarised beam which is parity coherent, and convert it to a beam which is perfectly polarised but parity incoherent. Further, we have tried to explore the relevance of this scheme to a classical implementation of a quantum computer, which can infact be shown to be universal, but is limited in the fact that the scheme is hard to generalise to a large number of qubits. </p> "
   ]
  },
  {
   "cell_type": "markdown",
   "metadata": {},
   "source": [
    "## 1. Polarization & Spatial Parity\n",
    "\n",
    "In the paper [[1](#ref-1)] the experiments which were done were made using of an optical beam model with two binary degrees of freedom, specifically polarization and spatial parity along the $x$ direction (vertically upwards) respectively of a quasi monochromatic source, where the beam is travelling in the $z$ direction.<br>\n",
    "For the spatial parity, in one dimension the beams are of form $E(x) = E_e\\psi_e(x)+E_o\\psi_o(x)$ where $\\psi_e(x)$ is an even function and $\\psi_o(x) = \\text{sgn}(x)\\psi_e(x)$ hence is an odd function. We give this beam a vector representation called $\\mathbf{J}_\\text{par} = [E_e\\text{ } E_o]^T$. Spatial parity is manipulated using a spatial light modulator (SLM) which we describe in the experimental apparatus section. Along with the horizontal (H) and vertical components of polarization taken into account we describe the polarization-parity jones vector as $\\mathbf{J} = [E_\\text{He}\\text{ }E_\\text{Ho}\\text{ }E_\\text{Ve}\\text{ }E_\\text{Vo}]^T$.<br>\n",
    "We then describe the properties of this coherence using a $4\\times4$ matrix which is $\\mathbf{G} = \\langle\\mathbf{J}^{*}\\mathbf{J}^\\text{T}\\rangle$. Taking partial trace along $\\mathbf{G}$ would give us either $\\mathbf{G}_\\text{pol}$ or $\\mathbf{G}_\\text{par}$ on taking trace along parity or polarization respectively. We define a degree of polarization/parity using $D_{\\text{pol}}$($D_\\text{par}$) which quantifies the apparent coherence of each DoF when the other DoF is unresolved. Further an overall coherence $S$ is defined using the beam's linear entropy [[2](#ref-2)] as follows.\n",
    "The definition of linear entropy comes from the motivation of von Neumann Entropy. For a quantum mechanical system with a density matrix $\\rho$ this is defined as $S_v = \\text{Tr}(-\\rho\\ln(\\rho)) = -\\langle\\ln(\\rho)\\rangle$. The linear entropy $S_L$ is a lower approximation to $S_v$ which comes from expanding the leading term in the expansion of $-\\rho\\ln\\rho$ which becomes $\\rho-\\rho^2$ approximately when $\\rho$ is close to $I$ (using taylor expansion) and taking trace this gives us the definition $S_L = \\text{Tr}(\\rho) - \\text{Tr}(\\rho^2)$ and by definition of the density matrix we have trace of $\\rho$ equal to 1 which gives us $S_L = 1 - \\text{Tr}(\\rho^2)$. This is a non normalized quantity so this is normalized by multiplying it by $\\frac{d}{d-1}$ which here is $4/3$ since our system has four dimensions. The definition of our $\\mathbf{G}$ matrix is isomorphic to the definition of a density matrix of a two qubit system keeping the Jones vector $\\mathbf{J}$ as the state of this two qubit system. Hence we have \n",
    "\\begin{equation}\\label{eq:1.1}\\tag{1.1}S = 1-S_L = 1 - \\frac{4}{3} + \\frac{4}{3}\\text{Tr}(\\mathbf{G}^2) = \\frac{4}{3}\\left(\\text{Tr}\\{\\mathbf{G}^2\\}-\\frac{1}{4}\\right)\\end{equation}\n",
    "We know that for normalized states we have that $\\frac{1}{d}\\leq$ Tr$(\\rho^2) \\leq 1$ and equals one only for a pure state and $1/d$ for completely mixed state. We can similarly draw a parallel here to seeing that $S=1$ happens only for coherent (pure) states and is 0 when completely incoherent. An important note to make here is that applying a unitary matrix $U$ (so $U^{*}U^{T} = I$) which is not time dependent on the Jones vector would not change our value of $S$ since on acting of a unitary we would have $\\mathbf{G}' = U^{*}\\mathbf{G}U^{T}$ and so $\\mathbf{G}'^2 = U^{*}\\mathbf{G}^2U^{T}$ and this has same trace as $\\mathbf{G}^2$ since trace is invariant under unitary transforms.\n",
    "\n",
    "The paper here explores the properties of a beam where these two DoFs are infact coupled or entagled. One can start with a coherent linearly polarized beam at $45^\\circ$ with even polarity which would be $\\mathbf{J} = (1/\\sqrt{2})[\\text{1 0 1 0}]^T$ which can clearly be factored into a direct product of $\\mathbf{J}_{\\text{pol}}\\otimes\\mathbf{J}_\\text{par}$ and so $D_\\text{pol} = D_\\text{par} = 1$. However on passing this beam through a polarization sensitive SLM which introduces a phase of $\\frac{\\varphi}{2}\\text{sgn}(\\varphi)$ only to the horizontal polarity component and none to the vertical. We can think of this analoguos to a controlled $R_x(\\varphi)$ operation from the polarization qubit to parity qubit which acts when polarization is $|0\\rangle$ (called H here for polarization). This puts the state to an entagled state $\\mathbf{J} = (1/\\sqrt{2})[\\cos(\\varphi/2)\\text{ }\\iota\\sin(\\varphi/2)\\text{ 1 0}]^T$ which is no longer factorizable and shows that the apparant degree of coherence of the individual DoFs are no longer equal to 1 unless $\\varphi=0$ and infact equal zero when $\\varphi=\\pi$. However we know that this state is still coherent on an overall, the only issue is that seeing the partial trace of $\\mathbf{G}$ along the respective DoF provide an incomplete picture of the state hence leading to a conclusion that the coherence is absent. The paper proceeds to make use of the Bell's measure (see [Appendix A](#Appendix-A:-The-EPR-paradox-and-Bell's-inequalities)) to quantify this entanglement which is the cause of this apparent coherence deficit."
   ]
  },
  {
   "cell_type": "markdown",
   "metadata": {},
   "source": [
    "## 2. Experimental Apparatus\n",
    "\n",
    "For the experimental setup, we are using various separate components, which we will comment on one by one before seeing how they are arranged together for the experiment in this paper. We can develop a matrix operator formalism based on how these elements affect the vector $\\mathbf{J} = [E_{He} \\ E_{Ho} \\ E_{Ve} \\ E_{Vo}]^T$. Suppoe we have a device that modifies the Jones vector of a beam in the following way - $\\mathbf{J_{new}} = \\mathbf{A}\\mathbf{J_{old}}$. Then, the corresponding $\\mathbf{G} = \\langle \\mathbf{J^*J^T}\\rangle$ tranforms as $\\mathbf{G_{new} = A^*G_{old}A^T}$. This is because, assuming that the effect of the device, encoded in matrix $\\mathbf{A}$  is time independent, the matrix can just move inside the time average. And as we will see below, for all the devices used in this experiment, their effect is time invariant.\n",
    "\n",
    "\n",
    "## Polarisation only devices\n",
    "\n",
    "### 2.1 Waveplates\n",
    "<p>The first element we will look at is a half-wave plate. Suppose we have a half-wave plate whose axis is inclined at angle $\\theta$ to the $+x$ axis. Then, it will add a phase of $\\pi$ to the component of the amplitude along its axis, with respect to the component perpendicular to the axis. In other words, the component of E field along the axis will be effectively multiplied by $e^{i\\pi} = (-1)$.</p> \n",
    "<p> Suppose the in-going beam is described by a polarisation-only Jones vector $J_{pol} = [E_x \\ E_y]^T$. Then the (complex) amplitude is $E_x\\hat{x} + E_y\\hat{y} = (E_{x}\\cos\\theta + E_y\\sin\\theta)\\hat{\\theta_{\\parallel}} + (E_{x}\\sin\\theta - E_y\\cos\\theta) \\hat{\\theta_{\\perp}}$. So after adding a phase multiplier factor of $e^{i\\pi} = -1$ to the $\\hat{\\theta_{\\parallel}}$ component, the new complex amplitude is $$(-E_{x}\\cos\\theta - E_y\\sin\\theta)\\hat{\\theta_{\\parallel}} +  (E_{x}\\sin\\theta - E_y\\cos\\theta) \\hat{\\theta_{\\perp}} = (\\cos\\theta \\ (-E_{x}\\cos\\theta - E_y\\sin\\theta)+ \\sin\\theta(E_{x}\\sin\\theta - E_y\\cos\\theta))\\hat{x} + (\\sin\\theta \\ (-E_{x}\\cos\\theta - E_y\\sin\\theta)- \\cos\\theta(E_{x}\\sin\\theta - E_y\\cos\\theta))\\hat{y} \\\\ = [E_x(\\sin^2\\theta-\\cos^2\\theta) - E_y(2\\sin\\theta\\cos\\theta) \\qquad{} -E_x(2\\sin\\theta\\cos\\theta)  Ey(\\cos^2\\theta -\\sin^2\\theta)] \\\\ =[-E_x\\cos(2\\theta) - E_y\\sin(2\\theta) \\qquad{} -E_x\\sin(2\\theta)+E_y\\cos(2\\theta)]$$\n",
    "    \n",
    "We can write this more compactly in a 2x2 matrix - \n",
    "$$\\begin{pmatrix}-\\cos(2\\theta) & -\\sin(2\\theta) \\\\ -\\sin(2\\theta) & \\cos(2\\theta)\\end{pmatrix}\\begin{pmatrix}E_x \\\\ E_y\\end{pmatrix}_{old} = \\begin{pmatrix}E_x \\\\ E_y\\end{pmatrix}_{new}$$\n",
    "<p>When we are dealing with our 4 dimensional Jones vector, to generate the corresponding 4x4 HWP operator matrix, we can propose a 4x4 operator matrix. But before we spell it out, a few changes in notation are in order, to follow the same general notation as the paper. </p>\n",
    "<ol>\n",
    "    <li>The physical rotation angle used is $\\frac{\\theta}{4}$ so that the matrix entries are in terms of $\\frac{\\theta}{2}$. This corresponds to a quantum computing operator $R_y(\\theta) \\cdot Z$.</li>\n",
    "    <li>The axis, with respect to which the angle $\\frac{\\theta}{2}$ is to be measured is not specified in the paper. Two reasonable guesses are either the X axis (upwards vertical, as shown in the figure in the paper) or the horizontal axis (-y axis in the paper). In either case, we get the same matrix except with a global phase factor of $e^{i\\pi} = -1$. As we will see shortly, global phases do not affect the final calculation.</li>\n",
    "</ol>\n",
    "Since our Jones vector is $J = J_{pol}\\otimes J_{par}$, and our HWP does not affect the parity DOF at all (in other words, acts like an identity transformation), we can write it as a tensor product - \n",
    "$$A_{HWP}\\left(\\frac{\\theta}{2}\\right) = \\begin{pmatrix}-\\cos(\\theta/2) & -\\sin(\\theta/2) \\\\ -\\sin(\\theta/2) & cos(\\theta/2)\\end{pmatrix}\\otimes\\begin{pmatrix} 1&0 \\\\ 0&1\\end{pmatrix}=\\begin{pmatrix}\n",
    "-\\cos\\frac{\\theta}{2} & 0 & -\\sin\\frac{\\theta}{2} & 0 \\\\ \n",
    "0 &-\\cos\\frac{\\theta}{2}&0&-\\sin\\frac{\\theta}{2} \\\\\n",
    "-\\sin\\frac{\\theta}{2} &0 & \\cos\\frac{\\theta}{2} & 0 \\\\\n",
    "0 & -\\sin\\frac{\\theta}{2} &0 & \\cos\\frac{\\theta}{2}\n",
    "\\end{pmatrix} $$\n",
    "\n",
    "A more generic derivation that accounts for a waveplate of any arbitrary phase, and any arbitrary rotation is given in reference [[9](#ref-9)]\n",
    "\n",
    "### 2.2 Polarising Beam Splitter\n",
    "\n",
    "This is an element that separates out the H and V polarised beams from the input beam. There is no operator matrix associated with it, it simply separates out the two beams, without affecting parity at all. One point to note here - as we describe below, a mirror will add a factor of (-1) to odd modes, so the component which gets reflected will pick up that factor here as well. We can either correct this with a second reflection of that beam from a $45^\\circ$ mirror to correct it or not do anything at all about it (in the experimental setup in the paper seen as a whole, we can see that it won't matter the odd and even beams will be switched, but that is about it.)\n",
    "\n",
    "## Parity Sensitive Devices\n",
    "Most of the discussion for parity sensitive devices is largely based on reference [[10](#ref-10)].\n",
    "\n",
    "### 2.3 Dove Prism\n",
    "<p> We know that a mirror inverts left-right. So if we put an odd beam through the mirror, it will pick up a factor of (-1) from the + and - axes being inverted (i.e. -x being mapped to x). </p>\n",
    "<p> The operator (parity only, polarisation plays no role) associated to a mirror is $$\\begin{pmatrix}-1 & 0 \\\\ 0 & 1\\end{pmatrix}\\begin{pmatrix}e \\\\ o \\end{pmatrix}_{old} = \\begin{pmatrix}e \\\\ o \\end{pmatrix}_{new}$$ An additional -1 factor is added as a global phase, because of the phase change on reflecting.</p>\n",
    "<img width=\"40%\" src='Mirror_and_Parity.png'>\n",
    "One thing about mirrors which is particularly inconvenient is that the incoming and outgoing beam does not travel in the same direction, so we cannot conveniently include a mirror in the arm of a Mach-Zehnder interferometer easily, for example. To make our life simple, we use a dove prism, which is a trapezoid shaped prism, that the light beam enters, undergoes TIR on one surface of it and exits travelling in the same direction as incoming beam. It performs the same matrix operation as a mirror, but is more convenient to use. One aspect to be careful of (that can be easily overcome) is that there is a phase change because the beam travels through the glass/ material of the prism, but that can be easily dealt with by using a compensator cell in the other arm. Another important aspect of a Dove prism - since the wave incidence medium is denser and the transmission medium is rarer (unlike a regular mirror), there is no addition $\\pi$ phase of reflection, and the operator matrix is simply $$\\begin{pmatrix}1 & 0 \\\\ 0 & -1\\end{pmatrix}\\begin{pmatrix}e \\\\ o \\end{pmatrix}_{old} = \\begin{pmatrix}e \\\\ o \\end{pmatrix}_{new}$$\n",
    "<img width = \"60%\" src='Dove_prism.png'>\n",
    "\n",
    "### 2.4 Mach Zehnder Interferometer\n",
    "<img width = \"60%\" src='MZI.png'><center>A schematic of a MZI, self drawn</center>\n",
    "<p> In this arrangement, the beam splitters are polarisation insensitive, so there is no polarisation discrimination. First let us consider a MZI with no dove prism (and no compensation cell). Suppose the only input beam is given from In1. Then, the left beam suffers two rarer-denser reflections and the same is the case with the right beam, as they come out from Out2. Hence, we have constructive interference at Out2. Whereas, as Out1, the left beam still has same phase (the reflection at exit beam splitter is denser-rarer, so no phase change) while the right beam has one reflection only, so the interference is destructive.</p>\n",
    "<p>With a dove prism in place, the odd mode undergoes one extra inversion in the left path, so its constructive/destructive outputs are now exactly swapped. As a result, if we send in a superposition of odd and even modes into In1, the odd mode comes out from Out1, while the even mode comes out from Out2 (just as if no prism were there). Conversely, if we send in the beam from In2, the odd mode will come out from Out2 and the even mode from Out1.</p>\n",
    "\n",
    "Hence we can think of two uses of this MZI arrangement - \n",
    "<ol> <li> To split a superposed beam into its odd and even components, send this beam in from one of the inputs only and the odd and even parity modes are separated.</li>\n",
    "    <li> If we have a odd parity beam and an even parity beam, we can add them (make a superposed state) by sending in the odd beam in In1, the even beam from In2, and then getting the superposed beam out, from Out1.\n",
    "       </ol>\n",
    "       In the experiment performed in the paper, the authors concern themselves only with the first use.\n",
    "       \n",
    "### 2.5 SLMs and PS-SLMs \n",
    "A SLM is a spatial light modulator. In general, this term refers to any device that modifies the beam in a space dependent fashion. In the context of this experiment, the SLM they use (Hamamatsu X10468-02) is an array of liquid crystal pixels, each of whose refractive index can be controlled independently by applying a voltage, in such a way, that we add a desired phase to the light passing through each pixel, and the phase in each pixel is independent of the others.\n",
    "<p>Suppose we send a beam through a SLM which adds a $x$-dependant phase $\\frac{\\phi}{2}sgn(x)$ to the electric field (global phase does not matter here, by the way. Only relative phase/ difference in phase between top and bottom half being $\\phi$ is what matters.) Then, we are effectively multiplying the old profile $E_{old}(x)$ by $e^{\\iota\\frac{\\phi}{2}sgn(x)}$, to get new profile $E_{new}(x)$. Observe that $e^{\\iota\\frac{\\phi}{2}sgn(x)} = cos(\\frac{\\phi}{2})+ \\iota sgn(x)sin(\\frac{\\phi}{2})$. So, with $E_{old}(x) = e(x)+o(x)$, we can get $E_{new}(x) = (e(x)+o(x))(cos(\\phi/2)+\\iota sgn(x)sin(\\phi/2)) = [cos(\\phi/2)e(x) + \\iota sin(\\phi/2) sgn(x)o(x)] + [cos(\\phi/2)o(x) + \\iota sin(\\phi/2) sgn(x)e(x)]$. </p>\n",
    "<p>Observe that the first term in the new expression is even while the second term is odd, which means that they are the new even and odd decomposition (which is unique). We can re-express this as $\\begin{pmatrix}cos(\\phi/2) & \\iota sin(\\phi/2) \\\\ \\iota sin(\\phi/2) & cos(\\phi/2) \\end{pmatrix}\\begin{pmatrix}e_{old} \\\\ o_{old}\\end{pmatrix} = \\begin{pmatrix}e_{new} \\\\ o_{new}\\end{pmatrix}$ to make it look more like the transformation caused by a half wave plate, but for the parity DOF. In particular, observe that if we set $\\phi = \\pi$ then the matrix shown looks like a Pauli $\\sigma_x$ matrix (times the constant $\\iota$)- it swaps the $o$ and $e$ bases.\n",
    "\n",
    "Further, to obtain the 4x4 transformation matrix, we again do a tensor product - \n",
    "$$A_{par}\\left(\\frac{\\phi}{2}\\right) = \\begin{pmatrix}1 & 0 \\\\ 0 & 1\\end{pmatrix}\\otimes\\begin{pmatrix} \\cos(\\phi/2)&i\\sin(\\phi/2) \\\\ i\\sin(\\phi/2) &\\cos(\\phi/2)\\end{pmatrix}=\\begin{pmatrix}\n",
    "\\cos(\\phi/2)&i\\sin(\\phi/2) & 0& 0\\\\ i\\sin(\\phi/2) &\\cos(\\phi/2) &0 & 0\\\\\n",
    "0&0&\\cos(\\phi/2)&i\\sin(\\phi/2) \\\\ 0&0&i\\sin(\\phi/2) &\\cos(\\phi/2)\n",
    "\\end{pmatrix} $$\n",
    "\n",
    "Again, the rationale is that since there is no polarisation effect, that part of the first matrix is identity.\n",
    "\n",
    "The liquid crystals can be acted on by a electric field in two directions, so that the refractive index of a single pixel itself is non-isotropic. This leads to polarisation-sensitive behaviour of the pixels. For example, if we take a SLM that adds a phase of $\\frac{\\phi}{2}sgn(x)$ only to the H-polarisation while leaving the V polarisation unchanged. In this case, we can simply modify the above operator matrix to look like $$A_{PS-SLM}\\left(\\frac{\\phi}{2}\\right) =\\begin{pmatrix}\n",
    "\\cos(\\phi/2)&i\\sin(\\phi/2) & 0& 0\\\\ i\\sin(\\phi/2) &\\cos(\\phi/2) &0 & 0\\\\\n",
    "0&0&1&0 \\\\ 0&0&0 &1\n",
    "\\end{pmatrix} $$"
   ]
  },
  {
   "cell_type": "markdown",
   "metadata": {},
   "source": [
    "## General Observations About the operator matrices\n",
    "We can see the following properties about the matrix formalism we have developed.\n",
    "<ol><li> The matrix (operator) for any device is unique only up to global phase. In particular, the phase will depend on the optical path length (refractive index $\\times$ physical path length) within the device, and can always be corrected by using an appropriate compensator cell. But note that all these different-phase $A$ matrices will still lead to the same value of $G_{out} = A^*G_{in}A^T$, because if $A_1 = A_2e^{\\iota \\psi}$, then $G_1 = (e^{-\\iota \\psi}A_2^*)G_{in}(e^{\\iota \\psi}A_2^T) = A_2^*G_{in}A_2^T = G_2$</li>\n",
    "    <li> The matrices are all unitary. $AA^\\dagger = A^\\dagger A = \\mathbb{I}$. This is expected, because if we take a completely incoherent beam in phase as well as parity, then no device will be able to change it, and the $G$ matrix for a completely incoherent mode is a scalar multiple of identity.</li>\n",
    "    <li> The matrices corresponding to a rotated HWP and to a polarisation-insensitive SLM commute. This is expected because each of these devices is expected to modify only one DOF.</li>\n",
    "    </ol>"
   ]
  },
  {
   "cell_type": "code",
   "execution_count": 7,
   "metadata": {},
   "outputs": [],
   "source": [
    "P,t,p,ta,pa = symbols('P theta varphi theta_a varphi_a',real=True)\n",
    "A_HWP = Matrix([[-cos(ta/2),0,-sin(ta/2),0],[0,-cos(ta/2),0,-sin(ta/2)],[-sin(ta/2),0,cos(ta/2),0],\n",
    "              [0,-sin(ta/2),0,cos(ta/2)]])\n",
    "A_SLM = Matrix([[cos(pa/2),I*sin(pa/2),0,0],[I*sin(pa/2),cos(pa/2),0,0],[0,0,cos(pa/2),I*sin(pa/2)],\n",
    "             [0,0,I*sin(pa/2),cos(pa/2)]])\n",
    "A_PSSLM = Matrix([[cos(pa/2),I*sin(pa/2),0,0],[I*sin(pa/2),cos(pa/2),0,0],[0,0,1,0],\n",
    "             [0,0,0,1]]) "
   ]
  },
  {
   "cell_type": "code",
   "execution_count": 8,
   "metadata": {},
   "outputs": [
    {
     "data": {
      "text/latex": [
       "$\\displaystyle \\left[\\begin{matrix}1 & 0 & 0 & 0\\\\0 & 1 & 0 & 0\\\\0 & 0 & 1 & 0\\\\0 & 0 & 0 & 1\\end{matrix}\\right]$"
      ],
      "text/plain": [
       "Matrix([\n",
       "[1, 0, 0, 0],\n",
       "[0, 1, 0, 0],\n",
       "[0, 0, 1, 0],\n",
       "[0, 0, 0, 1]])"
      ]
     },
     "execution_count": 8,
     "metadata": {},
     "output_type": "execute_result"
    }
   ],
   "source": [
    "trigsimp(A_SLM*conjugate(A_SLM.T)) #A_SLM is unitary"
   ]
  },
  {
   "cell_type": "code",
   "execution_count": 9,
   "metadata": {},
   "outputs": [
    {
     "data": {
      "text/latex": [
       "$\\displaystyle \\left[\\begin{matrix}1 & 0 & 0 & 0\\\\0 & 1 & 0 & 0\\\\0 & 0 & 1 & 0\\\\0 & 0 & 0 & 1\\end{matrix}\\right]$"
      ],
      "text/plain": [
       "Matrix([\n",
       "[1, 0, 0, 0],\n",
       "[0, 1, 0, 0],\n",
       "[0, 0, 1, 0],\n",
       "[0, 0, 0, 1]])"
      ]
     },
     "execution_count": 9,
     "metadata": {},
     "output_type": "execute_result"
    }
   ],
   "source": [
    "trigsimp(A_PSSLM*conjugate(A_PSSLM.T)) #A_PSSLM is unitary"
   ]
  },
  {
   "cell_type": "code",
   "execution_count": 10,
   "metadata": {},
   "outputs": [
    {
     "data": {
      "text/latex": [
       "$\\displaystyle \\left[\\begin{matrix}1 & 0 & 0 & 0\\\\0 & 1 & 0 & 0\\\\0 & 0 & 1 & 0\\\\0 & 0 & 0 & 1\\end{matrix}\\right]$"
      ],
      "text/plain": [
       "Matrix([\n",
       "[1, 0, 0, 0],\n",
       "[0, 1, 0, 0],\n",
       "[0, 0, 1, 0],\n",
       "[0, 0, 0, 1]])"
      ]
     },
     "execution_count": 10,
     "metadata": {},
     "output_type": "execute_result"
    }
   ],
   "source": [
    "trigsimp(A_HWP*conjugate(A_HWP.T)) #A_HWP is unitary"
   ]
  },
  {
   "cell_type": "code",
   "execution_count": 11,
   "metadata": {},
   "outputs": [
    {
     "data": {
      "text/latex": [
       "$\\displaystyle \\left[\\begin{matrix}0 & 0 & 0 & 0\\\\0 & 0 & 0 & 0\\\\0 & 0 & 0 & 0\\\\0 & 0 & 0 & 0\\end{matrix}\\right]$"
      ],
      "text/plain": [
       "Matrix([\n",
       "[0, 0, 0, 0],\n",
       "[0, 0, 0, 0],\n",
       "[0, 0, 0, 0],\n",
       "[0, 0, 0, 0]])"
      ]
     },
     "execution_count": 11,
     "metadata": {},
     "output_type": "execute_result"
    }
   ],
   "source": [
    "trigsimp(A_HWP*A_SLM - A_SLM*A_HWP) #A_SLM and A_HWP commute"
   ]
  },
  {
   "cell_type": "markdown",
   "metadata": {},
   "source": [
    "## Proposal for a Parity-Sensitive Polarisation Modifier\n",
    "In the main paper [[1](#ref-1)], one of the loose ends that the authors do not seem to have addressed is that polarity seems to have a special place in this qubits scheme, in the sense that controlled gates can be made only with polarity as a control qubit (no parity controlled gates/devices are proposed). Here, we wish to present the design of a parity controlled device, that can be used to implement the controlled version of any possible (ordinarily) parity-insensitive device. \n",
    "<p>The main idea is to use the second use of the MZI. Suppose you are given an input beam and you want to perform a controlled-HWP operation on that (we have already seen uncontrolled HWP earlier). Then, the idea is to split up the input beam into the odd and even components with an MZI and then recombine them with a second MZI. In this way, a parity-controlled operation can be performed. The below image shows a schematic for a parity-sensitive HWP.</p>\n",
    "<img width = \"40%\" src='Parity_sensitive_HWP.png'>\n",
    "<p> An important use of this idea will be to bring the line of thought presented in the paper to a logical conclusion - suppose we start with a purely even mode but completely unpolarised beam. Then, by coupling the parity to the polarisation, we can generate a coupled-DOF beam. To convert this beam to a completely polarised, parity-incoherent beam, we would need to implement a parity-controlled polarisation operation, which this section proposes a theoretical solution to accomplishing. One major issue still here, is that stacking two MZI's could be a challenge, in view of the difficulty of alignment.This might be fixable by using waveguides </p>\n",
    "<p> Note that in the above drawn diagram, there should be an appropriate compensator cell in the upper arm which compensates for the phase added to the slow polarisation by the HWP.</p>"
   ]
  },
  {
   "cell_type": "markdown",
   "metadata": {},
   "source": [
    "## The Three Experiments\n",
    "Below, we give a brief account of the setups for the three experiments\n",
    "### Experiment A\n",
    "In experiment A, the authors of [[1](#ref-1)] use a laser source with a perfectly even amplitude function and perfectly linearly polarised in a direction $45^\\circ$ to the x - axis. Then it is passed through a PS-SLM inducing a phase $\\frac{\\phi}{2}sgn(x)$ only to the H-polarisation, but not to the V-polarisation. This is a classical bell state where polarisation and parity are coupled, and in the case where $\\phi = \\pi$ radians, both DOFs appear completely incoherent in an uncoupled measurement.\n",
    "\n",
    "### Experiment B\n",
    "In this experiment, the even mode $45^\\circ$ laser is first passed through a random rotator which makes the beam completely polarisation incoherent (unpolarised) while not affecting the parity coherence. Now, it is again passed through a PS-SLM like in experiment A. Thus, the parity DOF is coupled to the polarisation DOF, which is incoherent. With a complete coupling ($\\phi = \\pi$ radians) the parity as well as polarisation appear completely incoherent by themselves, while we expect the beam to infact be partially coherent, since it was parity coherent to begin with. This is again revealed to be true by a Bell-state measurement.\n",
    "\n",
    "### Experiment C\n",
    "In this experiment we pass the even mode $45^\\circ$ laser through a PS-SLM, but this time the PS-SLM is probabilistic, in the sense that it couples the parity to polarisation with probability $P$ and does not couple them, with a probability $1-P$ (i.e. the beam is unaffected). In this case, the PS-SLM itself contributes to the incoherence (partial) of the beam because it introduces an element of randomness. "
   ]
  },
  {
   "cell_type": "markdown",
   "metadata": {},
   "source": [
    "## 3. Polarization and Spatial Parity analysis\n",
    "### 3.1 The correlation function\n",
    "We will now proceed to define a normalized correlation function $C(\\theta_a,\\phi_a)$ which we will use for defining our bell's measure $B$. The analyzing done in the paper does so with the following experimental setup shown below (images taken from [[1](#ref-1)])\n",
    "\n",
    "<table>\n",
    "    <tr>\n",
    "        <td><img width=\"90%\"src=\"fig1b-og.png\"/><center><b>Fig: 3.1</b></center></td>\n",
    "        <td><img width=\"90%\"src=\"fig1c-og.png\"/><center><b>Fig: 3.2</b></center></td>\n",
    "    </tr>\n",
    "</table>\n",
    "\n",
    "[Section 2](#2.-Experimental-Apparatus) explains the functioning principle for each of the apparatus in the above figure. What the setup essentially does in fig: 3.1.1 is for analyzing the DoFs seperately. The polarization is analyzed in a linear basis rotated by $\\theta_a$ by action of the half wave plate and similarly the parity is analyzed by analyzing over a basis rotated by $\\varphi_a$. The measured intensities are normalized and kept as probabilities in a way that $P_H + P_V = P_o + P_e = 1$. In fig: 3.2 combined polarization-parity measurements are done by essentially using the setup of fig: 3.1 but by concatenating the different DoF analysis stages. If we call the input coherency matrix as $\\mathbf{G}_{in}$ then the resulting coherency matrix after the transformations on which measurement is being done is \n",
    "\\begin{equation}\\label{eq:3.1}\\tag{3.1}\\mathbf{G}_{out} = A_{SLM}^*A_{HWP}^*\\mathbf{G}_{in}A_{HWP}^TA_{SLM}^T\\end{equation}\n",
    "As already shown in section 1, our definition of overall coherence in eq: 1.1 is invariant under applying these unitaries on the state. The following is the definition we give to the correlation function in the equation below. Symmetric values are assignmed to the coefficeints $c_\\text{pol} = \\pm1$ ($c_\\text{par} = \\pm1$) to the dichotomic H (e) and V (o) probability outcomes. \n",
    "\\begin{equation}\\label{eq:3.2}\\tag{3.2}C(\\theta_a,\\varphi_a) = \\sum c_\\text{pol}c_\\text{par}P_\\text{pol,par} = P_\\text{He} - P_\\text{H0} - P_\\text{Ve} + P_\\text{Vo}\\end{equation}\n",
    "For the uncoupled case this can be factorized into $C(\\theta_1,\\varphi_a) = C_\\text{pol}(\\theta_a)C_\\text{par}(\\phi_a)$ and here we would have $C_\\text{pol}(\\theta_a) = P_H - P_V$ and $C_\\text{par} = P_e - P_o$. Proceeding this they use th CSHS formulation of the Bell's measure (see Appendix A) to write \n",
    "\\begin{equation}\\label{eq:3.3}\\tag{3.3}B = |C(\\theta_a,\\varphi_a) + C(\\theta_a,\\varphi_a') + C(\\theta_a',\\varphi_a) - C(\\theta_a',\\varphi_a')|\\end{equation}\n",
    "Now we have an upper bound on $B_{max}$ which is the maximum value this measure takes over these four variables and this is what the paper from this point refers to as the Bell's measure. This bound is called the Tsirelon's bound and is $B_{max}\\leq 2\\sqrt{2}$ and in the classical case (where all observables commute) it is actually bounded above by 2.\n",
    "\n",
    "We will now prove that any coherent beam has $D_\\text{pol} = D_\\text{par}$. Any coherent beam here would be isomorphic to a pure two qubit state. For pure states, if the state is $|\\psi\\rangle$, then the density matrix is $\\rho = |\\psi\\rangle\\langle\\psi|$. We can represent this in a Schmidt form where $|\\psi\\rangle = \\sum_ig_i|u_i\\rangle\\otimes|v_i\\rangle$ which can be done for any arbitrary pure state so for the 4 dimensional Jones vector here we only have two variables and so without loss of generality we can choose to write our jones vector as $\\mathbf{J} = [\\mu_1\\text{ 0 0 }\\mu_2]^T$ and for this state we would have that\n",
    "\\begin{equation}\\label{eq:3.4}\\tag{3.4}\\mathbf{G}_\\text{pol} = \\mathbf{G}_\\text{par} = \\begin{pmatrix}\\mu_1^2 & 0\\\\0 & \\mu_2^2\\end{pmatrix}\\end{equation}\n",
    "This leads to $D_\\text{pol} = D_\\text{par} = |\\mu_1^2-\\mu_2^2|$ which is essentially the difference the eigenvalues of the respective matrix. Note that the above equation would be true in the basis where we can write the Schmidt decomposition of the Jones vector but since this is a coherent state this basis can be reached by applying unitaries that do not do any coupling. Also for coherent beams the paper claims that we would have $4D_\\text{par}^2+B_{max}^2 = 4D_\\text{pol}^2+B_{max}^2 = 8$ which becomes $4D_\\text{pol}^2+B_{max}^2\\leq 8$ and $4D_\\text{par}^2+B_{max}^2\\leq 8$ for partially coherent beams hence they define a new degree of coherence reffered to as the partial degree of coherence\n",
    "\\begin{equation}S_\\text{pol} = \\dfrac{D_\\text{pol}^2}{2} + \\left(\\dfrac{B_{max}}{2\\sqrt{2}}\\right)^2\\text{, }S_\\text{par} = \\dfrac{D_\\text{par}^2}{2} + \\left(\\dfrac{B_{max}}{2\\sqrt{2}}\\right)^2\\end{equation}\n",
    "One important thing to note is that the accessible degrees of coherence written above are invariant under unitary coupling between the two DoFs when both the DoFs are coherent and trivially also invariant under non coupling unitary transforms. We can see this as a sort of sharing of coherence between apparent coherence of an individual DoF ($D_\\text{pol}$ and $D_\\text{par}$) and the coupling between them ($B_{max}$). For a fully coherent beam we will always have $S = S_\\text{pol} = S_\\text{par} = 1$ regardless of coupling between the DoFs. This also demostrates how we can make coherence essentially migrate from form of coupling to apparent coherence of individual DoFs by simply using unitary transforms.\n"
   ]
  },
  {
   "cell_type": "markdown",
   "metadata": {},
   "source": [
    "## 4. Theoretical analysis of the three experiments\n",
    "The paper [[1](#ref-1)] describes three experiments A, B and C. Here we will derive the theoretical expressions they use for fitting their data using the SymPy package."
   ]
  },
  {
   "cell_type": "code",
   "execution_count": 12,
   "metadata": {},
   "outputs": [],
   "source": [
    "def trace_G(G): #A trace function for just 4x4 G matrices\n",
    "    return simplify(G[0,0] + G[1,1] + G[2,2] + G[3,3])\n",
    "def corr_prob(G): #Returns the value I_He - I_Ho - I_Ve +I_Vo from given G matrix\n",
    "    return simplify(G[0,0] - G[1,1] - G[2,2] + G[3,3])\n",
    "\n",
    "def par_tr_G_pol(G): #returns the partial trace of G for giving G_pol\n",
    "    return simplify(Matrix([[G[0,0]+G[1,1],G[0,2]+G[1,3]],[G[2,0]+G[3,1],G[2,2]+G[3,3]]]))\n",
    "\n",
    "def par_tr_G_par(G): #returns the partial trace of G for giving G_par\n",
    "    return Matrix([[G[0,0]+G[2,2],G[0,1]+G[2,3]],[G[1,0]+G[3,2],G[1,1]+G[3,3]]])\n",
    "\n",
    "def app_coh(G): #Returns apparent degree of coherence for a 2x2 G matrix\n",
    "    return simplify(sqrt(1-4*simplify(Determinant(G))/(simplify(Trace(G))**2)))"
   ]
  },
  {
   "cell_type": "markdown",
   "metadata": {},
   "source": [
    "#### Methods for Calculating Values of $D_{pol}$, $D_{par}$, $B_{max}$, $S_{pol}$ and $S_{par}$"
   ]
  },
  {
   "cell_type": "code",
   "execution_count": 13,
   "metadata": {},
   "outputs": [],
   "source": [
    "def bmaxfinder(C_ta_pa,x):\n",
    "    tb,pb = symbols('theta_b varphi_b',real=True)\n",
    "    B = C_ta_pa + C_ta_pa.xreplace({ta:tb}) + C_ta_pa.xreplace({pa:pb}) - C_ta_pa.xreplace({ta:tb,pa:pb})\n",
    "    b = lambdify((ta,pa,tb,pb,p),B, \"numpy\")\n",
    "    bmax=[-1*(sc.optimize.minimize(lambda params: -1*abs(b(params[0],params[1],params[2],params[3],i)), [0,0,0,0], method = 'L-BFGS-B').fun) for i in x]\n",
    "    bmax=np.around(bmax,decimals=5)\n",
    "    return bmax"
   ]
  },
  {
   "cell_type": "code",
   "execution_count": 14,
   "metadata": {},
   "outputs": [],
   "source": [
    "def bmaxfinderC(C_ta_pa,x):\n",
    "    tb,pb = symbols('theta_b varphi_b',real=True)\n",
    "    B = abs(C_ta_pa + C_ta_pa.xreplace({ta:tb}) + C_ta_pa.xreplace({pa:pb}) - C_ta_pa.xreplace({ta:tb,pa:pb}))\n",
    "    b = lambdify((ta,pa,tb,pb,P),B, \"numpy\")\n",
    "    bmax=[-1*(sc.optimize.minimize(lambda params: -1*abs(b(params[0],params[1],params[2],params[3],i)), [0,0,0,0], method = 'L-BFGS-B').fun) for i in x]\n",
    "    bmax=np.around(bmax,decimals=5)\n",
    "    return bmax"
   ]
  },
  {
   "cell_type": "code",
   "execution_count": 15,
   "metadata": {},
   "outputs": [],
   "source": [
    "def dfinder(D,x):\n",
    "    d=lambdify(p,D,\"numpy\")\n",
    "    d_final=[d(i) for i in x]\n",
    "    return d_final"
   ]
  },
  {
   "cell_type": "code",
   "execution_count": 16,
   "metadata": {},
   "outputs": [],
   "source": [
    "def dfinderC(D,x):\n",
    "    d=lambdify(P,D,\"numpy\")\n",
    "    d_final=[d(i) for i in x]\n",
    "    return d_final"
   ]
  },
  {
   "cell_type": "code",
   "execution_count": 17,
   "metadata": {},
   "outputs": [],
   "source": [
    "def sfinder(d,bmax):   \n",
    "    return np.around(np.square(d)/2+np.square(bmax)/8,decimals=5)"
   ]
  },
  {
   "cell_type": "markdown",
   "metadata": {},
   "source": [
    "### 4.1 Experiment A: Coherent Beam with Coupled DOF\n",
    "Here the field is competely coherent and we start with the Jones vector in state $\\mathbf{J} = (1/\\sqrt{2})[\\cos(\\varphi/2)\\text{ }\\iota\\sin(\\varphi/2)\\text{ 1 0}]^T$ which is reached by applying the PS-SLM on the input state of $\\mathbf{J}_{in} = (1/\\sqrt{2})[\\text{1 0 1 0}]^T$. On this we then apply the rotation of basis by $\\theta_a$ for polarization and of $\\varphi_a$ for parity and then conduct measurements of each component. Based on our previous definitions we now derive the correlation function for this experiment."
   ]
  },
  {
   "cell_type": "code",
   "execution_count": 18,
   "metadata": {
    "scrolled": true
   },
   "outputs": [
    {
     "data": {
      "text/latex": [
       "$\\displaystyle \\left[\\begin{matrix}0.5 \\cos^{2}{\\left(\\frac{\\varphi}{2} \\right)} & 0.25 i \\sin{\\left(\\varphi \\right)} & 0.5 \\cos{\\left(\\frac{\\varphi}{2} \\right)} & 0\\\\- 0.25 i \\sin{\\left(\\varphi \\right)} & 0.5 \\sin^{2}{\\left(\\frac{\\varphi}{2} \\right)} & - 0.5 i \\sin{\\left(\\frac{\\varphi}{2} \\right)} & 0\\\\0.5 \\cos{\\left(\\frac{\\varphi}{2} \\right)} & 0.5 i \\sin{\\left(\\frac{\\varphi}{2} \\right)} & 0.5 & 0\\\\0 & 0 & 0 & 0\\end{matrix}\\right]$"
      ],
      "text/plain": [
       "Matrix([\n",
       "[0.5*cos(varphi/2)**2,   0.25*I*sin(varphi),    0.5*cos(varphi/2), 0],\n",
       "[ -0.25*I*sin(varphi), 0.5*sin(varphi/2)**2, -0.5*I*sin(varphi/2), 0],\n",
       "[   0.5*cos(varphi/2),  0.5*I*sin(varphi/2),                  0.5, 0],\n",
       "[                   0,                    0,                    0, 0]])"
      ]
     },
     "execution_count": 18,
     "metadata": {},
     "output_type": "execute_result"
    }
   ],
   "source": [
    "J = sqrt(1/2)*Matrix([cos(p/2),I*sin(p/2),1,0])\n",
    "G_A = trigsimp(conjugate(J)*J.T)\n",
    "G_A #The input beam G matrix before the transformations"
   ]
  },
  {
   "cell_type": "markdown",
   "metadata": {},
   "source": [
    "#### Calculation of $D_{pol}$ and $D_{par}$"
   ]
  },
  {
   "cell_type": "code",
   "execution_count": 19,
   "metadata": {},
   "outputs": [
    {
     "data": {
      "text/latex": [
       "$\\displaystyle \\left[\\begin{matrix}0.5 & 0.5 \\cos{\\left(\\frac{\\varphi}{2} \\right)}\\\\0.5 \\cos{\\left(\\frac{\\varphi}{2} \\right)} & 0.5\\end{matrix}\\right]$"
      ],
      "text/plain": [
       "Matrix([\n",
       "[              0.5, 0.5*cos(varphi/2)],\n",
       "[0.5*cos(varphi/2),               0.5]])"
      ]
     },
     "execution_count": 19,
     "metadata": {},
     "output_type": "execute_result"
    }
   ],
   "source": [
    "G_pol_A = par_tr_G_pol(G_A)\n",
    "G_pol_A"
   ]
  },
  {
   "cell_type": "code",
   "execution_count": 20,
   "metadata": {
    "scrolled": true
   },
   "outputs": [
    {
     "data": {
      "text/latex": [
       "$\\displaystyle \\left[\\begin{matrix}0.5 \\cos^{2}{\\left(\\frac{\\varphi}{2} \\right)} + 0.5 & 0.25 i \\sin{\\left(\\varphi \\right)}\\\\- 0.25 i \\sin{\\left(\\varphi \\right)} & 0.5 \\sin^{2}{\\left(\\frac{\\varphi}{2} \\right)}\\end{matrix}\\right]$"
      ],
      "text/plain": [
       "Matrix([\n",
       "[0.5*cos(varphi/2)**2 + 0.5,   0.25*I*sin(varphi)],\n",
       "[       -0.25*I*sin(varphi), 0.5*sin(varphi/2)**2]])"
      ]
     },
     "execution_count": 20,
     "metadata": {},
     "output_type": "execute_result"
    }
   ],
   "source": [
    "G_par_A = par_tr_G_par(G_A)\n",
    "G_par_A"
   ]
  },
  {
   "cell_type": "code",
   "execution_count": 21,
   "metadata": {
    "scrolled": true
   },
   "outputs": [
    {
     "data": {
      "text/latex": [
       "$\\displaystyle 1.0 \\left|{\\cos{\\left(\\frac{\\varphi}{2} \\right)}}\\right|$"
      ],
      "text/plain": [
       "1.0*Abs(cos(varphi/2))"
      ]
     },
     "execution_count": 21,
     "metadata": {},
     "output_type": "execute_result"
    }
   ],
   "source": [
    "D_pol_A=app_coh(G_pol_A)\n",
    "D_pol_A# Prints D_pol"
   ]
  },
  {
   "cell_type": "code",
   "execution_count": 22,
   "metadata": {
    "scrolled": true
   },
   "outputs": [
    {
     "data": {
      "text/latex": [
       "$\\displaystyle 0.707106781186548 \\sqrt{\\cos{\\left(\\varphi \\right)} + 1}$"
      ],
      "text/plain": [
       "0.707106781186548*sqrt(cos(varphi) + 1)"
      ]
     },
     "execution_count": 22,
     "metadata": {},
     "output_type": "execute_result"
    }
   ],
   "source": [
    "D_par_A=app_coh(G_par_A)\n",
    "D_par_A# Prints D_par"
   ]
  },
  {
   "cell_type": "markdown",
   "metadata": {},
   "source": [
    "#### Calculation of the Correlation Function and $B_{max}$"
   ]
  },
  {
   "cell_type": "code",
   "execution_count": 23,
   "metadata": {},
   "outputs": [
    {
     "data": {
      "text/latex": [
       "$\\displaystyle 1.0 \\sin{\\left(\\theta_{a} \\right)} \\cos{\\left(\\frac{\\varphi}{2} + \\varphi_{a} \\right)} - 0.5 \\cos{\\left(\\theta_{a} \\right)} \\cos{\\left(\\varphi_{a} \\right)} + 0.5 \\cos{\\left(\\theta_{a} \\right)} \\cos{\\left(\\varphi + \\varphi_{a} \\right)}$"
      ],
      "text/plain": [
       "1.0*sin(theta_a)*cos(varphi/2 + varphi_a) - 0.5*cos(theta_a)*cos(varphi_a) + 0.5*cos(theta_a)*cos(varphi + varphi_a)"
      ]
     },
     "execution_count": 23,
     "metadata": {},
     "output_type": "execute_result"
    }
   ],
   "source": [
    "G_out_A = conjugate(A_SLM)*conjugate(A_HWP)*G_A*A_HWP.T*A_SLM.T #Transformed matrix\n",
    "C_ta_pa_A = trigsimp(corr_prob(G_out_A)/trace_G(G_out_A))\n",
    "C_ta_pa_A"
   ]
  },
  {
   "cell_type": "markdown",
   "metadata": {},
   "source": [
    "As we can see from above this does not actually match the expression provided in [[1](#ref-1)]. While this initially baffled us we came to a conclusion that this expression is infact correct as per the aim of the paper. Moreover this actually reproduces the experimental results they obtained while in contrast their correlation function fails to do it as well. Also the optimized Bmax values fit with the relation which the paper claims if our correlation function is used instead of theirs.\n",
    "The optimization procedure that we chose to go ahead with is just normal numerical optimization since otherwise we would have had to make the gradient zero and run through all possible cases where the gradient vanishes which would have been a lengthy procedure."
   ]
  },
  {
   "cell_type": "markdown",
   "metadata": {},
   "source": [
    "#### GRAPHS FOR EXPERIMENT A"
   ]
  },
  {
   "cell_type": "code",
   "execution_count": 24,
   "metadata": {},
   "outputs": [
    {
     "data": {
      "application/vnd.jupyter.widget-view+json": {
       "model_id": "a8009c6e347d4f8a919d7bf80663fce9",
       "version_major": 2,
       "version_minor": 0
      },
      "text/plain": [
       "interactive(children=(Dropdown(description='option', options=('Show All', 'D', 'B', 'S', 'Hide All'), value='S…"
      ]
     },
     "metadata": {},
     "output_type": "display_data"
    }
   ],
   "source": [
    "def expAPlots(option):\n",
    "    num_space=102\n",
    "    phi=np.linspace(0, 2*np.pi, num_space)\n",
    "    bmax=bmaxfinder(C_ta_pa_A,phi)\n",
    "    dpol=dfinder(D_pol_A,phi)\n",
    "    dpar=dfinder(D_par_A,phi)\n",
    "    spol=sfinder(dpol,bmax)\n",
    "    spar=sfinder(dpar,bmax)\n",
    "    d=dpol\n",
    "    s=spol\n",
    "    \n",
    "    if option!='Hide All':        \n",
    "    \n",
    "        if option=='B':            \n",
    "            fig, ax = plt.subplots(figsize=(7, 7))\n",
    "            plotter(phi,bmax,r'$B_{max}$',r'$\\phi$',r'$B_{max}$',(1,0,0),r'$B_{max}$')\n",
    "            plt.plot(phi,[8**(0.5)]*num_space,color='black', linestyle ='dashed')\n",
    "            plt.plot(phi,[2]*num_space,color='black', linestyle ='dashed')\n",
    "            plt.figtext(s=r'$2\\sqrt{2}$', x=0.15, y=0.77, fontsize=15)\n",
    "            plt.figtext(s=r'$2$', x=0.15, y=0.48, fontsize=15)\n",
    "            plt.ylim(1,3)\n",
    "            plt.show()\n",
    "            \n",
    "        elif option=='S':\n",
    "            fig, ax = plt.subplots(figsize=(7, 7))\n",
    "            plotter(phi,spol,r'$S_{pol}=S_{par}=1$',r'$\\phi$',r'$S_{pol}\\ \\slash\\ S_{par}$',(1,0,0),r'$s_{pol}$')\n",
    "            plotter(phi,spar,r'$S_{pol}=S_{par}=1$',r'$\\phi$',r'$S_{pol}\\ \\slash\\ S_{par}$',(0,0,1),r'$s_{par}$')\n",
    "            plt.ylim(0,1.1) \n",
    "            plt.legend()\n",
    "            plt.show()\n",
    "            \n",
    "        elif option=='D':         \n",
    "            fig, ax = plt.subplots(figsize=(7, 7))\n",
    "            plotter(phi,dpol,r'$D_{pol}\\ and\\ D_{par}$',r'$\\phi$',r'$D_{pol}\\ \\slash\\ D_{par}$',(1,0,0),r'$d_{pol}$')\n",
    "            plotter(phi,dpar,r'$D_{pol}\\ and\\ D_{par}$',r'$\\phi$',r'$D_{pol}\\ \\slash\\ D_{par}$',(0,0,1),r'$d_{par}$')\n",
    "            plt.ylim(0,1.1)\n",
    "            plt.legend()\n",
    "            plt.show()\n",
    "            \n",
    "        else:\n",
    "            fig, ax = plt.subplots(figsize=(7, 7))\n",
    "            plotter(phi,dpol,r'$D_{pol}\\ and\\ D_{par}$',r'$\\phi$',r'$D_{pol}\\ \\slash\\ D_{par}$',(1,0,0),r'$d_{pol}$')\n",
    "            plotter(phi,dpar,r'$D_{pol}\\ and\\ D_{par}$',r'$\\phi$',r'$D_{pol}\\ \\slash\\ D_{par}$',(0,0,1),r'$d_{par}$')\n",
    "            plt.ylim(0,1.1)\n",
    "            plt.legend()\n",
    "            plt.show()\n",
    "            fig, ax = plt.subplots(figsize=(7, 7))\n",
    "            plotter(phi,bmax,r'$B_{max}$',r'$\\phi$',r'$B_{max}$',(1,0,0),r'$B_{max}$')\n",
    "            plt.plot(phi,[8**(0.5)]*num_space,color='black', linestyle ='dashed')\n",
    "            plt.plot(phi,[2]*num_space,color='black', linestyle ='dashed')\n",
    "            plt.figtext(s=r'$2\\sqrt{2}$', x=0.15, y=0.77, fontsize=15)\n",
    "            plt.figtext(s=r'$2$', x=0.15, y=0.48, fontsize=15)\n",
    "            plt.ylim(1,3)\n",
    "            plt.show()\n",
    "            fig, ax = plt.subplots(figsize=(7, 7))\n",
    "            plotter(phi,spol,r'$S_{pol} and S_{par}$',r'$\\phi$',r'$S_{pol}\\ \\slash\\ S_{par}$',(1,0,0),r'$s_{pol}$')\n",
    "            plotter(phi,spar,r'$S_{pol} and S_{par}$',r'$\\phi$',r'$S_{pol}\\ \\slash\\ S_{par}$',(0,0,1),r'$s_{par}$')\n",
    "            plt.ylim(0,1.1) \n",
    "            plt.legend()\n",
    "            plt.show()\n",
    "            \n",
    "            \n",
    "        plt.show()\n",
    "    \n",
    "    else:       \n",
    "        fig, ax = plt.subplots(figsize=(0.01, 0.01))\n",
    "        plt.show()\n",
    "        clear_output()\n",
    "    return\n",
    "\n",
    "interact(expAPlots, option=['Show All', 'D', 'B', 'S', 'Hide All']);"
   ]
  },
  {
   "cell_type": "code",
   "execution_count": 25,
   "metadata": {
    "scrolled": false
   },
   "outputs": [
    {
     "data": {
      "application/vnd.jupyter.widget-view+json": {
       "model_id": "5697c62e363f44f18b410442404d01aa",
       "version_major": 2,
       "version_minor": 0
      },
      "text/plain": [
       "interactive(children=(FloatSlider(value=1.0471975511965976, continuous_update=False, description='phi', layout…"
      ]
     },
     "metadata": {},
     "output_type": "display_data"
    }
   ],
   "source": [
    "def expAContours(phi):\n",
    "    function=C_ta_pa_A\n",
    "    contourplotter(function,phi,r'$C(\\theta_a,\\phi_a)$',r'$\\theta_a$',r'$\\phi_a$')\n",
    "    return\n",
    "interact(expAContours, phi=widgets.FloatSlider(min=0, max=2*np.pi, step=0.02, value=np.pi/3, continuous_update=False, layout=Layout(width='600px')));"
   ]
  },
  {
   "cell_type": "markdown",
   "metadata": {},
   "source": [
    "As it can be seen in the above graphs, our degree of coherence $S$ and also $S_\\text{pol}$ and $S_\\text{par}$ stay at the value of 1 throughout and are invariant to any unitary transformation done on the system. As we vary the angle $\\phi$ we can see that the coupling is maximized at $\\phi=\\pi$ at which moment the apparent degrees of coherence go to zero since all of our original coherency is present in the form of coupling."
   ]
  },
  {
   "cell_type": "markdown",
   "metadata": {},
   "source": [
    "### 4.2 Experiment B:  Partially Coherent Beam with Coupled DOFs\n",
    "Here starting with the same $\\mathbf{J}_{in}$ the polarization is scrambled using a variable polarization rotator which does not affect the spatial DoF so we have $D_\\text{pol} = 0$ and $D_\\text{par} = 1$. Now this beam is sent through a PS-SLM which would couple the DoFs. We now go on to derive the correlation function for this"
   ]
  },
  {
   "cell_type": "code",
   "execution_count": 26,
   "metadata": {
    "scrolled": false
   },
   "outputs": [
    {
     "data": {
      "text/latex": [
       "$\\displaystyle \\left[\\begin{matrix}0.5 \\cos^{2}{\\left(\\frac{\\varphi}{2} \\right)} & 0.5 i \\sin{\\left(\\frac{\\varphi}{2} \\right)} \\cos{\\left(\\frac{\\varphi}{2} \\right)} & 0 & 0\\\\- 0.5 i \\sin{\\left(\\frac{\\varphi}{2} \\right)} \\cos{\\left(\\frac{\\varphi}{2} \\right)} & 0.5 \\sin^{2}{\\left(\\frac{\\varphi}{2} \\right)} & 0 & 0\\\\0 & 0 & 0.5 & 0\\\\0 & 0 & 0 & 0\\end{matrix}\\right]$"
      ],
      "text/plain": [
       "Matrix([\n",
       "[              0.5*cos(varphi/2)**2, 0.5*I*sin(varphi/2)*cos(varphi/2),   0, 0],\n",
       "[-0.5*I*sin(varphi/2)*cos(varphi/2),              0.5*sin(varphi/2)**2,   0, 0],\n",
       "[                                 0,                                 0, 0.5, 0],\n",
       "[                                 0,                                 0,   0, 0]])"
      ]
     },
     "execution_count": 26,
     "metadata": {},
     "output_type": "execute_result"
    }
   ],
   "source": [
    "G_B = (1/2)*Matrix([[cos(p/2)**2, I*cos(p/2)*sin(p/2), 0, 0],[-I*cos(p/2)*sin(p/2), sin(p/2)**2, 0,0],\n",
    "            [0,0,1,0],[0,0,0,0]])\n",
    "G_B #The input beam G matrix before the transformations"
   ]
  },
  {
   "cell_type": "markdown",
   "metadata": {},
   "source": [
    "#### Calculation of $D_{pol}$ and $D_{par}$"
   ]
  },
  {
   "cell_type": "code",
   "execution_count": 27,
   "metadata": {},
   "outputs": [
    {
     "data": {
      "text/latex": [
       "$\\displaystyle \\left[\\begin{matrix}0.5 & 0\\\\0 & 0.5\\end{matrix}\\right]$"
      ],
      "text/plain": [
       "Matrix([\n",
       "[0.5,   0],\n",
       "[  0, 0.5]])"
      ]
     },
     "execution_count": 27,
     "metadata": {},
     "output_type": "execute_result"
    }
   ],
   "source": [
    "G_pol_B = par_tr_G_pol(G_B)\n",
    "G_pol_B"
   ]
  },
  {
   "cell_type": "code",
   "execution_count": 28,
   "metadata": {
    "scrolled": true
   },
   "outputs": [
    {
     "data": {
      "text/latex": [
       "$\\displaystyle \\left[\\begin{matrix}0.5 \\cos^{2}{\\left(\\frac{\\varphi}{2} \\right)} + 0.5 & 0.5 i \\sin{\\left(\\frac{\\varphi}{2} \\right)} \\cos{\\left(\\frac{\\varphi}{2} \\right)}\\\\- 0.5 i \\sin{\\left(\\frac{\\varphi}{2} \\right)} \\cos{\\left(\\frac{\\varphi}{2} \\right)} & 0.5 \\sin^{2}{\\left(\\frac{\\varphi}{2} \\right)}\\end{matrix}\\right]$"
      ],
      "text/plain": [
       "Matrix([\n",
       "[        0.5*cos(varphi/2)**2 + 0.5, 0.5*I*sin(varphi/2)*cos(varphi/2)],\n",
       "[-0.5*I*sin(varphi/2)*cos(varphi/2),              0.5*sin(varphi/2)**2]])"
      ]
     },
     "execution_count": 28,
     "metadata": {},
     "output_type": "execute_result"
    }
   ],
   "source": [
    "G_par_B = par_tr_G_par(G_B)\n",
    "G_par_B"
   ]
  },
  {
   "cell_type": "code",
   "execution_count": 29,
   "metadata": {
    "scrolled": true
   },
   "outputs": [
    {
     "data": {
      "text/latex": [
       "$\\displaystyle 0$"
      ],
      "text/plain": [
       "0"
      ]
     },
     "execution_count": 29,
     "metadata": {},
     "output_type": "execute_result"
    }
   ],
   "source": [
    "D_pol_B=app_coh(G_pol_B)\n",
    "D_pol_B# Prints D_pol"
   ]
  },
  {
   "cell_type": "code",
   "execution_count": 30,
   "metadata": {
    "scrolled": true
   },
   "outputs": [
    {
     "data": {
      "text/latex": [
       "$\\displaystyle 0.707106781186548 \\sqrt{\\cos{\\left(\\varphi \\right)} + 1}$"
      ],
      "text/plain": [
       "0.707106781186548*sqrt(cos(varphi) + 1)"
      ]
     },
     "execution_count": 30,
     "metadata": {},
     "output_type": "execute_result"
    }
   ],
   "source": [
    "D_par_B=app_coh(G_par_B)\n",
    "D_par_B"
   ]
  },
  {
   "cell_type": "markdown",
   "metadata": {},
   "source": [
    "#### Calculation of the Correlation Function and $B_{max}$"
   ]
  },
  {
   "cell_type": "code",
   "execution_count": 31,
   "metadata": {},
   "outputs": [
    {
     "data": {
      "text/latex": [
       "$\\displaystyle 0.5 \\left(- \\cos{\\left(\\varphi_{a} \\right)} + \\cos{\\left(\\varphi + \\varphi_{a} \\right)}\\right) \\cos{\\left(\\theta_{a} \\right)}$"
      ],
      "text/plain": [
       "0.5*(-cos(varphi_a) + cos(varphi + varphi_a))*cos(theta_a)"
      ]
     },
     "execution_count": 31,
     "metadata": {},
     "output_type": "execute_result"
    }
   ],
   "source": [
    "G_out_B = conjugate(A_SLM)*conjugate(A_HWP)*G_B*A_HWP.T*A_SLM.T #Transformed matrix\n",
    "C_ta_pa_B = trigsimp(corr_prob(G_out_B)/trace_G(G_out_B))\n",
    "C_ta_pa_B"
   ]
  },
  {
   "cell_type": "markdown",
   "metadata": {},
   "source": [
    "We have now seen that our expression for the correlation function matches the exact one obtained in the reference [[1](#ref-1)]. We now go ahead to optimize our expression for B and obtain the other plots below. On a sidenote one can actually traditionally find the maxima for the $B$ expression here since it is simpler to look at. The condition where it is maximized is when $\\phi_a=\\phi_b=\\frac{\\pi-\\phi}{2}$ and $\\theta_a = \\theta_b = 0$ or $\\pi$ which can be verified by looking at the gradient."
   ]
  },
  {
   "cell_type": "markdown",
   "metadata": {},
   "source": [
    "#### GRAPHS FOR EXPERIMENT B"
   ]
  },
  {
   "cell_type": "code",
   "execution_count": 32,
   "metadata": {
    "scrolled": false
   },
   "outputs": [
    {
     "data": {
      "application/vnd.jupyter.widget-view+json": {
       "model_id": "4c7992d96ca44d9d83f04a36523097d1",
       "version_major": 2,
       "version_minor": 0
      },
      "text/plain": [
       "interactive(children=(Dropdown(description='option', options=('Show All', 'D', 'B', 'S', 'Hide All'), value='S…"
      ]
     },
     "metadata": {},
     "output_type": "display_data"
    }
   ],
   "source": [
    "def expBPlots(option):\n",
    "    num_space=102\n",
    "    phi=np.linspace(0, 2*np.pi, num_space)\n",
    "    bmax=bmaxfinder(C_ta_pa_B,phi)\n",
    "    dpol=dfinder(D_pol_B,phi)\n",
    "    dpar=dfinder(D_par_B,phi)\n",
    "    spol=sfinder(dpol,bmax)\n",
    "    spar=sfinder(dpar,bmax)\n",
    "    \n",
    "    if option!='Hide All':        \n",
    "    \n",
    "        if option=='B':            \n",
    "            fig, ax = plt.subplots(figsize=(7, 7))\n",
    "            plotter(phi,bmax,r'$B_{max}$',r'$\\phi$',r'$B_{max}$',(1,0,0),r'$B_{max}$')\n",
    "            plt.plot(phi,[2]*num_space,color='black', linestyle ='dashed')\n",
    "            plt.ylim(0,2.5)\n",
    "            plt.show()\n",
    "            \n",
    "        elif option=='S':\n",
    "            fig, ax = plt.subplots(figsize=(7, 7))\n",
    "            plotter(phi,spol,r'$S_{pol}=S_{par}=1$',r'$\\phi$',r'$S_{pol}\\ \\slash\\ S_{par}$',(1,0,0),r'$s_{pol}$')\n",
    "            plotter(phi,spar,r'$S_{pol}=S_{par}=1$',r'$\\phi$',r'$S_{pol}\\ \\slash\\ S_{par}$',(0,0,1),r'$s_{par}$')\n",
    "            plt.ylim(0,1.1) \n",
    "            plt.legend()\n",
    "            plt.show()\n",
    "            \n",
    "        elif option=='D':         \n",
    "            fig, ax = plt.subplots(figsize=(7, 7))\n",
    "            plotter(phi,dpol,r'$D_{pol}\\ and\\ D_{par}$',r'$\\phi$',r'$D_{pol}\\ \\slash\\ D_{par}$',(1,0,0),r'$d_{pol}$')\n",
    "            plotter(phi,dpar,r'$D_{pol}\\ and\\ D_{par}$',r'$\\phi$',r'$D_{pol}\\ \\slash\\ D_{par}$',(0,0,1),r'$d_{par}$')\n",
    "            plt.ylim(-0.1,1.1)\n",
    "            plt.legend()\n",
    "            plt.show()\n",
    "            \n",
    "        else:\n",
    "            fig, ax = plt.subplots(figsize=(7, 7))\n",
    "            plotter(phi,dpol,r'$D_{pol}\\ and\\ D_{par}$',r'$\\phi$',r'$D_{pol}\\ \\slash\\ D_{par}$',(1,0,0),r'$d_{pol}$')\n",
    "            plotter(phi,dpar,r'$D_{pol}\\ and\\ D_{par}$',r'$\\phi$',r'$D_{pol}\\ \\slash\\ D_{par}$',(0,0,1),r'$d_{par}$')\n",
    "            plt.ylim(-0.1,1.1)\n",
    "            plt.legend()\n",
    "            plt.show()\n",
    "            fig, ax = plt.subplots(figsize=(7, 7))\n",
    "            plotter(phi,bmax,r'$B_{max}$',r'$\\phi$',r'$B_{max}$',(1,0,0),r'$B_{max}$')\n",
    "            plt.plot(phi,[2]*num_space,color='black', linestyle ='dashed')\n",
    "            plt.ylim(0,2.5)\n",
    "            plt.show()\n",
    "            fig, ax = plt.subplots(figsize=(7, 7))\n",
    "            plotter(phi,spol,r'$S_{pol} and S_{par}$',r'$\\phi$',r'$S_{pol}\\ \\slash\\ S_{par}$',(1,0,0),r'$s_{pol}$')\n",
    "            plotter(phi,spar,r'$S_{pol} and S_{par}$',r'$\\phi$',r'$S_{pol}\\ \\slash\\ S_{par}$',(0,0,1),r'$s_{par}$')\n",
    "            plt.ylim(0,1.1) \n",
    "            plt.legend()\n",
    "            plt.show()\n",
    "            \n",
    "            \n",
    "        plt.show()\n",
    "    \n",
    "    else:       \n",
    "        fig, ax = plt.subplots(figsize=(0.01, 0.01))\n",
    "        plt.show()\n",
    "        clear_output()\n",
    "    return\n",
    "\n",
    "interact(expBPlots, option=['Show All', 'D', 'B', 'S', 'Hide All']);"
   ]
  },
  {
   "cell_type": "code",
   "execution_count": 33,
   "metadata": {
    "scrolled": false
   },
   "outputs": [
    {
     "data": {
      "application/vnd.jupyter.widget-view+json": {
       "model_id": "93736f18f9094e899aade1fdc3d51cdb",
       "version_major": 2,
       "version_minor": 0
      },
      "text/plain": [
       "interactive(children=(FloatSlider(value=1.0471975511965976, continuous_update=False, description='phi', layout…"
      ]
     },
     "metadata": {},
     "output_type": "display_data"
    }
   ],
   "source": [
    "def expBContours(phi):\n",
    "    function=C_ta_pa_B\n",
    "    contourplotter(function,phi,r'$C(\\theta_a,\\phi_a)$',r'$\\theta_a$',r'$\\phi_a$')\n",
    "    return\n",
    "interact(expBContours, phi=widgets.FloatSlider(min=0, max=2*np.pi, step=0.02, value=np.pi/3, continuous_update=False, layout=Layout(width='600px')));"
   ]
  },
  {
   "cell_type": "markdown",
   "metadata": {},
   "source": [
    "### 4.3 Experiment C: Beams with Random Coupling\n",
    "In this experiment we again start with the same $\\mathbf{J}_{in}$ and an interaction is considered that makes it have a random coupling. It has a probability $P$ to couple polarization and parity and $1-P$ to not achieved by randomly toggling between two phase distributions of the PS-SLM, one with $\\frac{\\pi}{2}\\times\\text{sgn}(x)$ phase and another with zero phase where $P$ is the fraction of time that the PS-SLM displays the first phase pattern. From this we go on to derive it's correlation function."
   ]
  },
  {
   "cell_type": "code",
   "execution_count": 34,
   "metadata": {},
   "outputs": [
    {
     "data": {
      "text/latex": [
       "$\\displaystyle \\left[\\begin{matrix}\\frac{1}{2} - \\frac{P}{2} & 0 & \\frac{1}{2} - \\frac{P}{2} & 0\\\\0 & \\frac{P}{2} & - \\frac{i P}{2} & 0\\\\\\frac{1}{2} - \\frac{P}{2} & \\frac{i P}{2} & \\frac{1}{2} & 0\\\\0 & 0 & 0 & 0\\end{matrix}\\right]$"
      ],
      "text/plain": [
       "Matrix([\n",
       "[1/2 - P/2,     0, 1/2 - P/2, 0],\n",
       "[        0,   P/2,    -I*P/2, 0],\n",
       "[1/2 - P/2, I*P/2,       1/2, 0],\n",
       "[        0,     0,         0, 0]])"
      ]
     },
     "execution_count": 34,
     "metadata": {},
     "output_type": "execute_result"
    }
   ],
   "source": [
    "J_ent = (1/sqrt(2))*Matrix([0, I, 1, 0])#Entagled state\n",
    "J_in = (1/sqrt(2))*Matrix([1, 0, 1, 0])#Input state\n",
    "G_C = P*conjugate(J_ent)*J_ent.T + (1-P)*conjugate(J_in)*J_in.T\n",
    "G_C"
   ]
  },
  {
   "cell_type": "markdown",
   "metadata": {},
   "source": [
    "#### Calculation of $D_{pol}$ and $D_{par}$"
   ]
  },
  {
   "cell_type": "code",
   "execution_count": 35,
   "metadata": {},
   "outputs": [
    {
     "data": {
      "text/latex": [
       "$\\displaystyle \\left[\\begin{matrix}\\frac{1}{2} & \\frac{1}{2} - \\frac{P}{2}\\\\\\frac{1}{2} - \\frac{P}{2} & \\frac{1}{2}\\end{matrix}\\right]$"
      ],
      "text/plain": [
       "Matrix([\n",
       "[      1/2, 1/2 - P/2],\n",
       "[1/2 - P/2,       1/2]])"
      ]
     },
     "execution_count": 35,
     "metadata": {},
     "output_type": "execute_result"
    }
   ],
   "source": [
    "G_pol_C = par_tr_G_pol(G_C)\n",
    "G_pol_C"
   ]
  },
  {
   "cell_type": "code",
   "execution_count": 36,
   "metadata": {
    "scrolled": true
   },
   "outputs": [
    {
     "data": {
      "text/latex": [
       "$\\displaystyle \\left[\\begin{matrix}1 - \\frac{P}{2} & 0\\\\0 & \\frac{P}{2}\\end{matrix}\\right]$"
      ],
      "text/plain": [
       "Matrix([\n",
       "[1 - P/2,   0],\n",
       "[      0, P/2]])"
      ]
     },
     "execution_count": 36,
     "metadata": {},
     "output_type": "execute_result"
    }
   ],
   "source": [
    "G_par_C = par_tr_G_par(G_C)\n",
    "G_par_C"
   ]
  },
  {
   "cell_type": "code",
   "execution_count": 37,
   "metadata": {
    "scrolled": true
   },
   "outputs": [
    {
     "data": {
      "text/latex": [
       "$\\displaystyle \\left|{P - 1}\\right|$"
      ],
      "text/plain": [
       "Abs(P - 1)"
      ]
     },
     "execution_count": 37,
     "metadata": {},
     "output_type": "execute_result"
    }
   ],
   "source": [
    "D_pol_C=app_coh(G_pol_C)\n",
    "simplify(D_pol_C)# Prints D_pol"
   ]
  },
  {
   "cell_type": "code",
   "execution_count": 38,
   "metadata": {
    "scrolled": true
   },
   "outputs": [
    {
     "data": {
      "text/latex": [
       "$\\displaystyle \\sqrt{- P \\left(2 - P\\right) + 1}$"
      ],
      "text/plain": [
       "sqrt(-P*(2 - P) + 1)"
      ]
     },
     "execution_count": 38,
     "metadata": {},
     "output_type": "execute_result"
    }
   ],
   "source": [
    "D_par_C=app_coh(G_par_C)\n",
    "D_par_C"
   ]
  },
  {
   "cell_type": "markdown",
   "metadata": {},
   "source": [
    "#### Calculation of the Correlation Function and $B_{max}$"
   ]
  },
  {
   "cell_type": "code",
   "execution_count": 39,
   "metadata": {},
   "outputs": [
    {
     "data": {
      "text/latex": [
       "$\\displaystyle - \\sqrt{2} P \\sin{\\left(\\theta_{a} \\right)} \\sin{\\left(\\varphi_{a} + \\frac{\\pi}{4} \\right)} - P \\cos{\\left(\\theta_{a} \\right)} \\cos{\\left(\\varphi_{a} \\right)} + \\sin{\\left(\\theta_{a} \\right)} \\cos{\\left(\\varphi_{a} \\right)}$"
      ],
      "text/plain": [
       "-sqrt(2)*P*sin(theta_a)*sin(varphi_a + pi/4) - P*cos(theta_a)*cos(varphi_a) + sin(theta_a)*cos(varphi_a)"
      ]
     },
     "execution_count": 39,
     "metadata": {},
     "output_type": "execute_result"
    }
   ],
   "source": [
    "G_out_C = conjugate(A_SLM)*conjugate(A_HWP)*G_C*A_HWP.T*A_SLM.T #Transformed matrix\n",
    "C_ta_pa_C = trigsimp(corr_prob(G_out_C)/trace_G(G_out_C))\n",
    "C_ta_pa_C"
   ]
  },
  {
   "cell_type": "code",
   "execution_count": 40,
   "metadata": {},
   "outputs": [
    {
     "data": {
      "text/latex": [
       "$\\displaystyle 0$"
      ],
      "text/plain": [
       "0"
      ]
     },
     "execution_count": 40,
     "metadata": {},
     "output_type": "execute_result"
    }
   ],
   "source": [
    "simplify(C_ta_pa_C - ((1-P)*sin(ta)*cos(pa) - P*cos(ta-pa)))"
   ]
  },
  {
   "cell_type": "markdown",
   "metadata": {},
   "source": [
    "As we have shown in the cell above the correlation function we have derived matches exactly with the function that the paper provides. We again use numerical methods to maximize this function since optimizing by minimization of gradient would take considerably long to do. Our results shown below match up consistently with those shown in [[1](#ref-1)]."
   ]
  },
  {
   "cell_type": "markdown",
   "metadata": {},
   "source": [
    "#### GRAPHS FOR EXPERIMENT C"
   ]
  },
  {
   "cell_type": "code",
   "execution_count": 41,
   "metadata": {
    "scrolled": false
   },
   "outputs": [
    {
     "data": {
      "application/vnd.jupyter.widget-view+json": {
       "model_id": "b4c0171ebfec4b7eaf7f636bee9b0144",
       "version_major": 2,
       "version_minor": 0
      },
      "text/plain": [
       "interactive(children=(Dropdown(description='option', options=('Show All', 'D', 'B', 'S', 'Hide All'), value='S…"
      ]
     },
     "metadata": {},
     "output_type": "display_data"
    }
   ],
   "source": [
    "def expCPlots(option):\n",
    "    num_space=102\n",
    "    P=np.linspace(0, 1, num_space)\n",
    "    bmax=bmaxfinderC(C_ta_pa_C,P)\n",
    "    dpol=dfinderC(D_pol_C,P)\n",
    "    dpar=dfinderC(D_par_C,P)\n",
    "    spol=sfinder(dpol,bmax)\n",
    "    spar=sfinder(dpar,bmax)\n",
    "    \n",
    "    if option!='Hide All':        \n",
    "    \n",
    "        if option=='B':            \n",
    "            fig, ax = plt.subplots(figsize=(7, 7))\n",
    "            plotterC(P,bmax,r'$B_{max}$',r'$P$',r'$B_{max}$',(1,0,0),r'$B_{max}$')\n",
    "            plt.plot(P,[2]*num_space,color='black', linestyle ='dashed')\n",
    "            plt.ylim(1,3)\n",
    "            plt.show()\n",
    "            \n",
    "        elif option=='S':\n",
    "            fig, ax = plt.subplots(figsize=(7, 7))\n",
    "            plotterC(P,spol,r'$S_{pol}=S_{par}=1$',r'$P$',r'$S_{pol}\\ \\slash\\ S_{par}$',(1,0,0),r'$s_{pol}$')\n",
    "            plotterC(P,spar,r'$S_{pol}=S_{par}=1$',r'$P$',r'$S_{pol}\\ \\slash\\ S_{par}$',(0,0,1),r'$s_{par}$')\n",
    "            plt.ylim(0,1.1) \n",
    "            plt.legend()\n",
    "            plt.show()\n",
    "            \n",
    "        elif option=='D':         \n",
    "            fig, ax = plt.subplots(figsize=(7, 7))\n",
    "            plotterC(P,dpol,r'$D_{pol}\\ and\\ D_{par}$',r'$P$',r'$D_{pol}\\ \\slash\\ D_{par}$',(1,0,0),r'$d_{pol}$')\n",
    "            plotterC(P,dpar,r'$D_{pol}\\ and\\ D_{par}$',r'$P$',r'$D_{pol}\\ \\slash\\ D_{par}$',(0,0,1),r'$d_{par}$')\n",
    "            plt.ylim(-0.1,1.1)\n",
    "            plt.legend()\n",
    "            plt.show()\n",
    "            \n",
    "        else:\n",
    "            fig, ax = plt.subplots(figsize=(7, 7))\n",
    "            plotterC(P,dpol,r'$D_{pol}\\ and\\ D_{par}$',r'$P$',r'$D_{pol}\\ \\slash\\ D_{par}$',(1,0,0),r'$d_{pol}$')\n",
    "            plotterC(P,dpar,r'$D_{pol}\\ and\\ D_{par}$',r'$P$',r'$D_{pol}\\ \\slash\\ D_{par}$',(0,0,1),r'$d_{par}$')\n",
    "            plt.ylim(-0.1,1.1)\n",
    "            plt.legend()\n",
    "            plt.show()\n",
    "            fig, ax = plt.subplots(figsize=(7, 7))\n",
    "            plotterC(P,bmax,r'$B_{max}$',r'$P$',r'$B_{max}$',(1,0,0),r'$B_{max}$')\n",
    "            plt.plot(P,[2]*num_space,color='black', linestyle ='dashed')\n",
    "            plt.ylim(1,3)\n",
    "            plt.show()\n",
    "            fig, ax = plt.subplots(figsize=(7, 7))\n",
    "            plotterC(P,spol,r'$S_{pol} and S_{par}$',r'$P$',r'$S_{pol}\\ \\slash\\ S_{par}$',(1,0,0),r'$s_{pol}$')\n",
    "            plotterC(P,spar,r'$S_{pol} and S_{par}$',r'$P$',r'$S_{pol}\\ \\slash\\ S_{par}$',(0,0,1),r'$s_{par}$')\n",
    "            plt.ylim(0,1.1) \n",
    "            plt.legend()\n",
    "            plt.show()\n",
    "            \n",
    "            \n",
    "        plt.show()\n",
    "    \n",
    "    else: \n",
    "        fig, ax = plt.subplots(figsize=(0.01, 0.01))\n",
    "        plt.show()\n",
    "        clear_output()\n",
    "    return\n",
    "\n",
    "interact(expCPlots, option=['Show All', 'D', 'B', 'S', 'Hide All']);"
   ]
  },
  {
   "cell_type": "code",
   "execution_count": 42,
   "metadata": {
    "scrolled": false
   },
   "outputs": [
    {
     "data": {
      "application/vnd.jupyter.widget-view+json": {
       "model_id": "5179b22481a84a8f8973949d2aa01118",
       "version_major": 2,
       "version_minor": 0
      },
      "text/plain": [
       "interactive(children=(FloatSlider(value=0.3333333333333333, continuous_update=False, description='P', layout=L…"
      ]
     },
     "metadata": {},
     "output_type": "display_data"
    }
   ],
   "source": [
    "def expCContours(P):\n",
    "    function=C_ta_pa_C\n",
    "    contourplotterC(function,P,r'$C(\\theta_a,\\phi_a)$',r'$\\theta_a$',r'$\\phi_a$')\n",
    "    return\n",
    "interact(expCContours, P=widgets.FloatSlider(min=0, max=1, step=0.01, value=1/3, continuous_update=False, layout=Layout(width='600px')));"
   ]
  },
  {
   "cell_type": "markdown",
   "metadata": {},
   "source": [
    "## 5. Reduced representation of the two Binary DoFs\n",
    "We can represent any arbitrary partially coherent beam by the three invariants $S$, $S_{pol}$, $S_{par}$. Every point in the volume generated represents different beams which can be related via unitary transformations that do not couple the two DoFs, since these ensure that $S$, $S_{pol}$, $S_{par}$ remain invariant. Points with the same $S$ comprise of a plane. All the points in this plane are related via unitary transformations which couple the two DoFs, since these would ensure $S$ remains the same but $S_{pol}$ and $S_{par}$ do not.\n",
    "A beam with higher $S$, by the definition of the measure, has higher coherency. \n",
    "\n",
    "The figure offers us two insights into how $S$, $S_{pol}$, $S_{par}$ for a beam might be related.<br>\n",
    "Firstly, beams with the same value of $S$ do not take arbitrary values of $S_{pol}$ and $S_{par}$. For a given value of $S$ for a beam, the figure uniquely gives us a concave-sided triangular area within which the values of $S_{pol}$ and $S_{par}$ must be contained for a partially coherent beam.<br>\n",
    "Secondly, for given values of $S_{pol}$ and $S_{par}$ for a partially coherent beam, we can predict the overall degree of coherence of the beam $S$ by drawing a line segment parallel to the $S$ axis contained within the figure, which gives us a narrow range within which $S$ must be for the beam. The paper suggests that the uncertainty in determining $S$ using this method is $\\sim6\\%$ on average.\n",
    "\n",
    "The overall purpose of generating the figure was to show that we cannot have all combinations of $S$, $S_{pol}$, $S_{par}$ inside the unit cube in the first octant but only the ones which satisfy Bell's Inequality, which results in the obtained figure.\n",
    "\n",
    "In our attempt to generate the figure, we have essentially constructed a Monte-Carlo simulation with $5000$ points based on the discussion in [[8](#ref-8)].<br>\n",
    "Since eigenvalues of G have to be real, positive and their sum must be 1, we first generate a diagonal matrix $D$ of the eigenvalues with the contraints applied. Now, to obtain a random G, we must first obtain a random unitary matrix $U$ and apply the following transformation on the diagonal matrix $D$.<br>\n",
    "<center>$G=UDU^{\\dagger}$</center>\n",
    "We obtain $U$ by first generating a random matrix and then QR factorizing it. Since Q is unitary, we have in essence found a random unitary matrix. The above set of operations is implemented in the function <code>randG()</code>.<br>\n",
    "\n",
    "After this, we proceed to define the function  <code>C_ta_pa()</code> which calculates the correlation function for a given matrix $G$ with the parameters $t_{1} (\\theta_{a})$ and $p_{1} (\\phi_{a})$. The Bell Measure is calculated by the function  <code>B()</code> by making calls to the function <code>C_ta_pa()</code>.<br>\n",
    "Now, the calculation of the value $S$ is straightforward from the matrix $G$ and that of $D_{pol}$ and $D_{par}$ is also relatively straightforward once the matrices $G_{pol}$ and $G_{par}$ have been constructed. But, for the calculation of $S_{pol}$ and $S_{par}$, we need to determine the value $B_{max}$ first. Since there was no way the optimization of matrices could've been tensorized, we calculate this in loop for all the G matrices and that is what constitutes the bulk of the running time of the program. We implement this in the function  <code>genS()</code> below."
   ]
  },
  {
   "cell_type": "code",
   "execution_count": 43,
   "metadata": {},
   "outputs": [],
   "source": [
    "def randG(i):\n",
    "    G=np.zeros([4,4])\n",
    "    a = np.random.dirichlet(np.ones(4)*(100**i),size=1)\n",
    "    for i in range(4):\n",
    "        G[i,i] = a[0,i]\n",
    "    U,_=np.linalg.qr(np.random.rand(4,4)+1j*np.random.rand(4,4))\n",
    "    G=(np.conjugate(U)@G@np.transpose(U)).round(4)\n",
    "    return G"
   ]
  },
  {
   "cell_type": "code",
   "execution_count": 44,
   "metadata": {},
   "outputs": [],
   "source": [
    "def C_ta_pa(G,t1,p1):\n",
    "    a_hwp_1 = [[-np.cos(t1/2),0,-np.sin(t1/2),0],[0,-np.cos(t1/2),0,-np.sin(t1/2)],[-np.sin(t1/2),0,np.cos(t1/2),0],[0,-np.sin(t1/2),0,np.cos(t1/2)]]\n",
    "    a_slm_1 = [[np.cos(p1/2),1j*np.sin(p1/2),0,0],[1j*np.sin(p1/2),np.cos(p1/2),0,0],[0,0,np.cos(p1/2),1j*np.sin(p1/2)],[0,0,1j*np.sin(p1/2),np.cos(p1/2)]]\n",
    "    G_out=np.conjugate(a_slm_1)@np.conjugate(a_hwp_1)@G@np.transpose(a_hwp_1)@np.transpose(a_slm_1)\n",
    "    return np.real((G_out[0,0]-G_out[1,1]-G_out[2,2]+G_out[3,3])/(np.trace(G))).round(8)"
   ]
  },
  {
   "cell_type": "code",
   "execution_count": 45,
   "metadata": {},
   "outputs": [],
   "source": [
    "def B(G,t1,t2,p1,p2):\n",
    "    return abs(C_ta_pa(G,t1,p1)+C_ta_pa(G,t1,p2)+C_ta_pa(G,t2,p1)-C_ta_pa(G,t2,p2))"
   ]
  },
  {
   "cell_type": "code",
   "execution_count": 46,
   "metadata": {},
   "outputs": [],
   "source": [
    "def genS(G):\n",
    "    G_pol = [[G[0,0]+G[1,1],G[0,2]+G[1,3]],[G[2,0]+G[3,1],G[2,2]+G[3,3]]]\n",
    "    G_par = [[G[0,0]+G[2,2],G[0,1]+G[2,3]],[G[1,0]+G[3,2],G[1,1]+G[3,3]]]\n",
    "    \n",
    "    D_pol=sqrt(1-4*(np.linalg.det(G_pol))/((np.trace(G_pol))**2))\n",
    "    D_par=sqrt(1-4*(np.linalg.det(G_par))/((np.trace(G_par))**2))\n",
    "    \n",
    "    bmax=-1*(sc.optimize.minimize(lambda params: -1*abs(B(G,params[0],params[1],params[2],params[3])),np.random.rand(4), method = 'Nelder-Mead').fun)\n",
    "    spol=round(np.real(complex(D_pol**2/2+bmax**2/8)),8)\n",
    "    spar=round(np.real(complex(D_par**2/2+bmax**2/8)),8)\n",
    "    s=round(np.real((4/3)*(np.trace(G@G)-(1/4))),8)\n",
    "    return spol,spar,s"
   ]
  },
  {
   "cell_type": "code",
   "execution_count": 47,
   "metadata": {},
   "outputs": [],
   "source": [
    "n=5000\n",
    "x=np.zeros(n)\n",
    "y=np.zeros(n)\n",
    "z=np.zeros(n)\n",
    "for i in range(n):\n",
    "    #print(i)\n",
    "    x[i],y[i],z[i]=genS(randG(i%3 - 1))\n",
    "rows = zip(x,y,z)"
   ]
  },
  {
   "cell_type": "code",
   "execution_count": 48,
   "metadata": {},
   "outputs": [
    {
     "data": {
      "application/javascript": [
       "/* Put everything inside the global mpl namespace */\n",
       "/* global mpl */\n",
       "window.mpl = {};\n",
       "\n",
       "mpl.get_websocket_type = function () {\n",
       "    if (typeof WebSocket !== 'undefined') {\n",
       "        return WebSocket;\n",
       "    } else if (typeof MozWebSocket !== 'undefined') {\n",
       "        return MozWebSocket;\n",
       "    } else {\n",
       "        alert(\n",
       "            'Your browser does not have WebSocket support. ' +\n",
       "                'Please try Chrome, Safari or Firefox ≥ 6. ' +\n",
       "                'Firefox 4 and 5 are also supported but you ' +\n",
       "                'have to enable WebSockets in about:config.'\n",
       "        );\n",
       "    }\n",
       "};\n",
       "\n",
       "mpl.figure = function (figure_id, websocket, ondownload, parent_element) {\n",
       "    this.id = figure_id;\n",
       "\n",
       "    this.ws = websocket;\n",
       "\n",
       "    this.supports_binary = this.ws.binaryType !== undefined;\n",
       "\n",
       "    if (!this.supports_binary) {\n",
       "        var warnings = document.getElementById('mpl-warnings');\n",
       "        if (warnings) {\n",
       "            warnings.style.display = 'block';\n",
       "            warnings.textContent =\n",
       "                'This browser does not support binary websocket messages. ' +\n",
       "                'Performance may be slow.';\n",
       "        }\n",
       "    }\n",
       "\n",
       "    this.imageObj = new Image();\n",
       "\n",
       "    this.context = undefined;\n",
       "    this.message = undefined;\n",
       "    this.canvas = undefined;\n",
       "    this.rubberband_canvas = undefined;\n",
       "    this.rubberband_context = undefined;\n",
       "    this.format_dropdown = undefined;\n",
       "\n",
       "    this.image_mode = 'full';\n",
       "\n",
       "    this.root = document.createElement('div');\n",
       "    this.root.setAttribute('style', 'display: inline-block');\n",
       "    this._root_extra_style(this.root);\n",
       "\n",
       "    parent_element.appendChild(this.root);\n",
       "\n",
       "    this._init_header(this);\n",
       "    this._init_canvas(this);\n",
       "    this._init_toolbar(this);\n",
       "\n",
       "    var fig = this;\n",
       "\n",
       "    this.waiting = false;\n",
       "\n",
       "    this.ws.onopen = function () {\n",
       "        fig.send_message('supports_binary', { value: fig.supports_binary });\n",
       "        fig.send_message('send_image_mode', {});\n",
       "        if (fig.ratio !== 1) {\n",
       "            fig.send_message('set_dpi_ratio', { dpi_ratio: fig.ratio });\n",
       "        }\n",
       "        fig.send_message('refresh', {});\n",
       "    };\n",
       "\n",
       "    this.imageObj.onload = function () {\n",
       "        if (fig.image_mode === 'full') {\n",
       "            // Full images could contain transparency (where diff images\n",
       "            // almost always do), so we need to clear the canvas so that\n",
       "            // there is no ghosting.\n",
       "            fig.context.clearRect(0, 0, fig.canvas.width, fig.canvas.height);\n",
       "        }\n",
       "        fig.context.drawImage(fig.imageObj, 0, 0);\n",
       "    };\n",
       "\n",
       "    this.imageObj.onunload = function () {\n",
       "        fig.ws.close();\n",
       "    };\n",
       "\n",
       "    this.ws.onmessage = this._make_on_message_function(this);\n",
       "\n",
       "    this.ondownload = ondownload;\n",
       "};\n",
       "\n",
       "mpl.figure.prototype._init_header = function () {\n",
       "    var titlebar = document.createElement('div');\n",
       "    titlebar.classList =\n",
       "        'ui-dialog-titlebar ui-widget-header ui-corner-all ui-helper-clearfix';\n",
       "    var titletext = document.createElement('div');\n",
       "    titletext.classList = 'ui-dialog-title';\n",
       "    titletext.setAttribute(\n",
       "        'style',\n",
       "        'width: 100%; text-align: center; padding: 3px;'\n",
       "    );\n",
       "    titlebar.appendChild(titletext);\n",
       "    this.root.appendChild(titlebar);\n",
       "    this.header = titletext;\n",
       "};\n",
       "\n",
       "mpl.figure.prototype._canvas_extra_style = function (_canvas_div) {};\n",
       "\n",
       "mpl.figure.prototype._root_extra_style = function (_canvas_div) {};\n",
       "\n",
       "mpl.figure.prototype._init_canvas = function () {\n",
       "    var fig = this;\n",
       "\n",
       "    var canvas_div = (this.canvas_div = document.createElement('div'));\n",
       "    canvas_div.setAttribute(\n",
       "        'style',\n",
       "        'border: 1px solid #ddd;' +\n",
       "            'box-sizing: content-box;' +\n",
       "            'clear: both;' +\n",
       "            'min-height: 1px;' +\n",
       "            'min-width: 1px;' +\n",
       "            'outline: 0;' +\n",
       "            'overflow: hidden;' +\n",
       "            'position: relative;' +\n",
       "            'resize: both;'\n",
       "    );\n",
       "\n",
       "    function on_keyboard_event_closure(name) {\n",
       "        return function (event) {\n",
       "            return fig.key_event(event, name);\n",
       "        };\n",
       "    }\n",
       "\n",
       "    canvas_div.addEventListener(\n",
       "        'keydown',\n",
       "        on_keyboard_event_closure('key_press')\n",
       "    );\n",
       "    canvas_div.addEventListener(\n",
       "        'keyup',\n",
       "        on_keyboard_event_closure('key_release')\n",
       "    );\n",
       "\n",
       "    this._canvas_extra_style(canvas_div);\n",
       "    this.root.appendChild(canvas_div);\n",
       "\n",
       "    var canvas = (this.canvas = document.createElement('canvas'));\n",
       "    canvas.classList.add('mpl-canvas');\n",
       "    canvas.setAttribute('style', 'box-sizing: content-box;');\n",
       "\n",
       "    this.context = canvas.getContext('2d');\n",
       "\n",
       "    var backingStore =\n",
       "        this.context.backingStorePixelRatio ||\n",
       "        this.context.webkitBackingStorePixelRatio ||\n",
       "        this.context.mozBackingStorePixelRatio ||\n",
       "        this.context.msBackingStorePixelRatio ||\n",
       "        this.context.oBackingStorePixelRatio ||\n",
       "        this.context.backingStorePixelRatio ||\n",
       "        1;\n",
       "\n",
       "    this.ratio = (window.devicePixelRatio || 1) / backingStore;\n",
       "\n",
       "    var rubberband_canvas = (this.rubberband_canvas = document.createElement(\n",
       "        'canvas'\n",
       "    ));\n",
       "    rubberband_canvas.setAttribute(\n",
       "        'style',\n",
       "        'box-sizing: content-box; position: absolute; left: 0; top: 0; z-index: 1;'\n",
       "    );\n",
       "\n",
       "    // Apply a ponyfill if ResizeObserver is not implemented by browser.\n",
       "    if (this.ResizeObserver === undefined) {\n",
       "        if (window.ResizeObserver !== undefined) {\n",
       "            this.ResizeObserver = window.ResizeObserver;\n",
       "        } else {\n",
       "            var obs = _JSXTOOLS_RESIZE_OBSERVER({});\n",
       "            this.ResizeObserver = obs.ResizeObserver;\n",
       "        }\n",
       "    }\n",
       "\n",
       "    this.resizeObserverInstance = new this.ResizeObserver(function (entries) {\n",
       "        var nentries = entries.length;\n",
       "        for (var i = 0; i < nentries; i++) {\n",
       "            var entry = entries[i];\n",
       "            var width, height;\n",
       "            if (entry.contentBoxSize) {\n",
       "                if (entry.contentBoxSize instanceof Array) {\n",
       "                    // Chrome 84 implements new version of spec.\n",
       "                    width = entry.contentBoxSize[0].inlineSize;\n",
       "                    height = entry.contentBoxSize[0].blockSize;\n",
       "                } else {\n",
       "                    // Firefox implements old version of spec.\n",
       "                    width = entry.contentBoxSize.inlineSize;\n",
       "                    height = entry.contentBoxSize.blockSize;\n",
       "                }\n",
       "            } else {\n",
       "                // Chrome <84 implements even older version of spec.\n",
       "                width = entry.contentRect.width;\n",
       "                height = entry.contentRect.height;\n",
       "            }\n",
       "\n",
       "            // Keep the size of the canvas and rubber band canvas in sync with\n",
       "            // the canvas container.\n",
       "            if (entry.devicePixelContentBoxSize) {\n",
       "                // Chrome 84 implements new version of spec.\n",
       "                canvas.setAttribute(\n",
       "                    'width',\n",
       "                    entry.devicePixelContentBoxSize[0].inlineSize\n",
       "                );\n",
       "                canvas.setAttribute(\n",
       "                    'height',\n",
       "                    entry.devicePixelContentBoxSize[0].blockSize\n",
       "                );\n",
       "            } else {\n",
       "                canvas.setAttribute('width', width * fig.ratio);\n",
       "                canvas.setAttribute('height', height * fig.ratio);\n",
       "            }\n",
       "            canvas.setAttribute(\n",
       "                'style',\n",
       "                'width: ' + width + 'px; height: ' + height + 'px;'\n",
       "            );\n",
       "\n",
       "            rubberband_canvas.setAttribute('width', width);\n",
       "            rubberband_canvas.setAttribute('height', height);\n",
       "\n",
       "            // And update the size in Python. We ignore the initial 0/0 size\n",
       "            // that occurs as the element is placed into the DOM, which should\n",
       "            // otherwise not happen due to the minimum size styling.\n",
       "            if (fig.ws.readyState == 1 && width != 0 && height != 0) {\n",
       "                fig.request_resize(width, height);\n",
       "            }\n",
       "        }\n",
       "    });\n",
       "    this.resizeObserverInstance.observe(canvas_div);\n",
       "\n",
       "    function on_mouse_event_closure(name) {\n",
       "        return function (event) {\n",
       "            return fig.mouse_event(event, name);\n",
       "        };\n",
       "    }\n",
       "\n",
       "    rubberband_canvas.addEventListener(\n",
       "        'mousedown',\n",
       "        on_mouse_event_closure('button_press')\n",
       "    );\n",
       "    rubberband_canvas.addEventListener(\n",
       "        'mouseup',\n",
       "        on_mouse_event_closure('button_release')\n",
       "    );\n",
       "    rubberband_canvas.addEventListener(\n",
       "        'dblclick',\n",
       "        on_mouse_event_closure('dblclick')\n",
       "    );\n",
       "    // Throttle sequential mouse events to 1 every 20ms.\n",
       "    rubberband_canvas.addEventListener(\n",
       "        'mousemove',\n",
       "        on_mouse_event_closure('motion_notify')\n",
       "    );\n",
       "\n",
       "    rubberband_canvas.addEventListener(\n",
       "        'mouseenter',\n",
       "        on_mouse_event_closure('figure_enter')\n",
       "    );\n",
       "    rubberband_canvas.addEventListener(\n",
       "        'mouseleave',\n",
       "        on_mouse_event_closure('figure_leave')\n",
       "    );\n",
       "\n",
       "    canvas_div.addEventListener('wheel', function (event) {\n",
       "        if (event.deltaY < 0) {\n",
       "            event.step = 1;\n",
       "        } else {\n",
       "            event.step = -1;\n",
       "        }\n",
       "        on_mouse_event_closure('scroll')(event);\n",
       "    });\n",
       "\n",
       "    canvas_div.appendChild(canvas);\n",
       "    canvas_div.appendChild(rubberband_canvas);\n",
       "\n",
       "    this.rubberband_context = rubberband_canvas.getContext('2d');\n",
       "    this.rubberband_context.strokeStyle = '#000000';\n",
       "\n",
       "    this._resize_canvas = function (width, height, forward) {\n",
       "        if (forward) {\n",
       "            canvas_div.style.width = width + 'px';\n",
       "            canvas_div.style.height = height + 'px';\n",
       "        }\n",
       "    };\n",
       "\n",
       "    // Disable right mouse context menu.\n",
       "    this.rubberband_canvas.addEventListener('contextmenu', function (_e) {\n",
       "        event.preventDefault();\n",
       "        return false;\n",
       "    });\n",
       "\n",
       "    function set_focus() {\n",
       "        canvas.focus();\n",
       "        canvas_div.focus();\n",
       "    }\n",
       "\n",
       "    window.setTimeout(set_focus, 100);\n",
       "};\n",
       "\n",
       "mpl.figure.prototype._init_toolbar = function () {\n",
       "    var fig = this;\n",
       "\n",
       "    var toolbar = document.createElement('div');\n",
       "    toolbar.classList = 'mpl-toolbar';\n",
       "    this.root.appendChild(toolbar);\n",
       "\n",
       "    function on_click_closure(name) {\n",
       "        return function (_event) {\n",
       "            return fig.toolbar_button_onclick(name);\n",
       "        };\n",
       "    }\n",
       "\n",
       "    function on_mouseover_closure(tooltip) {\n",
       "        return function (event) {\n",
       "            if (!event.currentTarget.disabled) {\n",
       "                return fig.toolbar_button_onmouseover(tooltip);\n",
       "            }\n",
       "        };\n",
       "    }\n",
       "\n",
       "    fig.buttons = {};\n",
       "    var buttonGroup = document.createElement('div');\n",
       "    buttonGroup.classList = 'mpl-button-group';\n",
       "    for (var toolbar_ind in mpl.toolbar_items) {\n",
       "        var name = mpl.toolbar_items[toolbar_ind][0];\n",
       "        var tooltip = mpl.toolbar_items[toolbar_ind][1];\n",
       "        var image = mpl.toolbar_items[toolbar_ind][2];\n",
       "        var method_name = mpl.toolbar_items[toolbar_ind][3];\n",
       "\n",
       "        if (!name) {\n",
       "            /* Instead of a spacer, we start a new button group. */\n",
       "            if (buttonGroup.hasChildNodes()) {\n",
       "                toolbar.appendChild(buttonGroup);\n",
       "            }\n",
       "            buttonGroup = document.createElement('div');\n",
       "            buttonGroup.classList = 'mpl-button-group';\n",
       "            continue;\n",
       "        }\n",
       "\n",
       "        var button = (fig.buttons[name] = document.createElement('button'));\n",
       "        button.classList = 'mpl-widget';\n",
       "        button.setAttribute('role', 'button');\n",
       "        button.setAttribute('aria-disabled', 'false');\n",
       "        button.addEventListener('click', on_click_closure(method_name));\n",
       "        button.addEventListener('mouseover', on_mouseover_closure(tooltip));\n",
       "\n",
       "        var icon_img = document.createElement('img');\n",
       "        icon_img.src = '_images/' + image + '.png';\n",
       "        icon_img.srcset = '_images/' + image + '_large.png 2x';\n",
       "        icon_img.alt = tooltip;\n",
       "        button.appendChild(icon_img);\n",
       "\n",
       "        buttonGroup.appendChild(button);\n",
       "    }\n",
       "\n",
       "    if (buttonGroup.hasChildNodes()) {\n",
       "        toolbar.appendChild(buttonGroup);\n",
       "    }\n",
       "\n",
       "    var fmt_picker = document.createElement('select');\n",
       "    fmt_picker.classList = 'mpl-widget';\n",
       "    toolbar.appendChild(fmt_picker);\n",
       "    this.format_dropdown = fmt_picker;\n",
       "\n",
       "    for (var ind in mpl.extensions) {\n",
       "        var fmt = mpl.extensions[ind];\n",
       "        var option = document.createElement('option');\n",
       "        option.selected = fmt === mpl.default_extension;\n",
       "        option.innerHTML = fmt;\n",
       "        fmt_picker.appendChild(option);\n",
       "    }\n",
       "\n",
       "    var status_bar = document.createElement('span');\n",
       "    status_bar.classList = 'mpl-message';\n",
       "    toolbar.appendChild(status_bar);\n",
       "    this.message = status_bar;\n",
       "};\n",
       "\n",
       "mpl.figure.prototype.request_resize = function (x_pixels, y_pixels) {\n",
       "    // Request matplotlib to resize the figure. Matplotlib will then trigger a resize in the client,\n",
       "    // which will in turn request a refresh of the image.\n",
       "    this.send_message('resize', { width: x_pixels, height: y_pixels });\n",
       "};\n",
       "\n",
       "mpl.figure.prototype.send_message = function (type, properties) {\n",
       "    properties['type'] = type;\n",
       "    properties['figure_id'] = this.id;\n",
       "    this.ws.send(JSON.stringify(properties));\n",
       "};\n",
       "\n",
       "mpl.figure.prototype.send_draw_message = function () {\n",
       "    if (!this.waiting) {\n",
       "        this.waiting = true;\n",
       "        this.ws.send(JSON.stringify({ type: 'draw', figure_id: this.id }));\n",
       "    }\n",
       "};\n",
       "\n",
       "mpl.figure.prototype.handle_save = function (fig, _msg) {\n",
       "    var format_dropdown = fig.format_dropdown;\n",
       "    var format = format_dropdown.options[format_dropdown.selectedIndex].value;\n",
       "    fig.ondownload(fig, format);\n",
       "};\n",
       "\n",
       "mpl.figure.prototype.handle_resize = function (fig, msg) {\n",
       "    var size = msg['size'];\n",
       "    if (size[0] !== fig.canvas.width || size[1] !== fig.canvas.height) {\n",
       "        fig._resize_canvas(size[0], size[1], msg['forward']);\n",
       "        fig.send_message('refresh', {});\n",
       "    }\n",
       "};\n",
       "\n",
       "mpl.figure.prototype.handle_rubberband = function (fig, msg) {\n",
       "    var x0 = msg['x0'] / fig.ratio;\n",
       "    var y0 = (fig.canvas.height - msg['y0']) / fig.ratio;\n",
       "    var x1 = msg['x1'] / fig.ratio;\n",
       "    var y1 = (fig.canvas.height - msg['y1']) / fig.ratio;\n",
       "    x0 = Math.floor(x0) + 0.5;\n",
       "    y0 = Math.floor(y0) + 0.5;\n",
       "    x1 = Math.floor(x1) + 0.5;\n",
       "    y1 = Math.floor(y1) + 0.5;\n",
       "    var min_x = Math.min(x0, x1);\n",
       "    var min_y = Math.min(y0, y1);\n",
       "    var width = Math.abs(x1 - x0);\n",
       "    var height = Math.abs(y1 - y0);\n",
       "\n",
       "    fig.rubberband_context.clearRect(\n",
       "        0,\n",
       "        0,\n",
       "        fig.canvas.width / fig.ratio,\n",
       "        fig.canvas.height / fig.ratio\n",
       "    );\n",
       "\n",
       "    fig.rubberband_context.strokeRect(min_x, min_y, width, height);\n",
       "};\n",
       "\n",
       "mpl.figure.prototype.handle_figure_label = function (fig, msg) {\n",
       "    // Updates the figure title.\n",
       "    fig.header.textContent = msg['label'];\n",
       "};\n",
       "\n",
       "mpl.figure.prototype.handle_cursor = function (fig, msg) {\n",
       "    var cursor = msg['cursor'];\n",
       "    switch (cursor) {\n",
       "        case 0:\n",
       "            cursor = 'pointer';\n",
       "            break;\n",
       "        case 1:\n",
       "            cursor = 'default';\n",
       "            break;\n",
       "        case 2:\n",
       "            cursor = 'crosshair';\n",
       "            break;\n",
       "        case 3:\n",
       "            cursor = 'move';\n",
       "            break;\n",
       "    }\n",
       "    fig.rubberband_canvas.style.cursor = cursor;\n",
       "};\n",
       "\n",
       "mpl.figure.prototype.handle_message = function (fig, msg) {\n",
       "    fig.message.textContent = msg['message'];\n",
       "};\n",
       "\n",
       "mpl.figure.prototype.handle_draw = function (fig, _msg) {\n",
       "    // Request the server to send over a new figure.\n",
       "    fig.send_draw_message();\n",
       "};\n",
       "\n",
       "mpl.figure.prototype.handle_image_mode = function (fig, msg) {\n",
       "    fig.image_mode = msg['mode'];\n",
       "};\n",
       "\n",
       "mpl.figure.prototype.handle_history_buttons = function (fig, msg) {\n",
       "    for (var key in msg) {\n",
       "        if (!(key in fig.buttons)) {\n",
       "            continue;\n",
       "        }\n",
       "        fig.buttons[key].disabled = !msg[key];\n",
       "        fig.buttons[key].setAttribute('aria-disabled', !msg[key]);\n",
       "    }\n",
       "};\n",
       "\n",
       "mpl.figure.prototype.handle_navigate_mode = function (fig, msg) {\n",
       "    if (msg['mode'] === 'PAN') {\n",
       "        fig.buttons['Pan'].classList.add('active');\n",
       "        fig.buttons['Zoom'].classList.remove('active');\n",
       "    } else if (msg['mode'] === 'ZOOM') {\n",
       "        fig.buttons['Pan'].classList.remove('active');\n",
       "        fig.buttons['Zoom'].classList.add('active');\n",
       "    } else {\n",
       "        fig.buttons['Pan'].classList.remove('active');\n",
       "        fig.buttons['Zoom'].classList.remove('active');\n",
       "    }\n",
       "};\n",
       "\n",
       "mpl.figure.prototype.updated_canvas_event = function () {\n",
       "    // Called whenever the canvas gets updated.\n",
       "    this.send_message('ack', {});\n",
       "};\n",
       "\n",
       "// A function to construct a web socket function for onmessage handling.\n",
       "// Called in the figure constructor.\n",
       "mpl.figure.prototype._make_on_message_function = function (fig) {\n",
       "    return function socket_on_message(evt) {\n",
       "        if (evt.data instanceof Blob) {\n",
       "            var img = evt.data;\n",
       "            if (img.type !== 'image/png') {\n",
       "                /* FIXME: We get \"Resource interpreted as Image but\n",
       "                 * transferred with MIME type text/plain:\" errors on\n",
       "                 * Chrome.  But how to set the MIME type?  It doesn't seem\n",
       "                 * to be part of the websocket stream */\n",
       "                img.type = 'image/png';\n",
       "            }\n",
       "\n",
       "            /* Free the memory for the previous frames */\n",
       "            if (fig.imageObj.src) {\n",
       "                (window.URL || window.webkitURL).revokeObjectURL(\n",
       "                    fig.imageObj.src\n",
       "                );\n",
       "            }\n",
       "\n",
       "            fig.imageObj.src = (window.URL || window.webkitURL).createObjectURL(\n",
       "                img\n",
       "            );\n",
       "            fig.updated_canvas_event();\n",
       "            fig.waiting = false;\n",
       "            return;\n",
       "        } else if (\n",
       "            typeof evt.data === 'string' &&\n",
       "            evt.data.slice(0, 21) === 'data:image/png;base64'\n",
       "        ) {\n",
       "            fig.imageObj.src = evt.data;\n",
       "            fig.updated_canvas_event();\n",
       "            fig.waiting = false;\n",
       "            return;\n",
       "        }\n",
       "\n",
       "        var msg = JSON.parse(evt.data);\n",
       "        var msg_type = msg['type'];\n",
       "\n",
       "        // Call the  \"handle_{type}\" callback, which takes\n",
       "        // the figure and JSON message as its only arguments.\n",
       "        try {\n",
       "            var callback = fig['handle_' + msg_type];\n",
       "        } catch (e) {\n",
       "            console.log(\n",
       "                \"No handler for the '\" + msg_type + \"' message type: \",\n",
       "                msg\n",
       "            );\n",
       "            return;\n",
       "        }\n",
       "\n",
       "        if (callback) {\n",
       "            try {\n",
       "                // console.log(\"Handling '\" + msg_type + \"' message: \", msg);\n",
       "                callback(fig, msg);\n",
       "            } catch (e) {\n",
       "                console.log(\n",
       "                    \"Exception inside the 'handler_\" + msg_type + \"' callback:\",\n",
       "                    e,\n",
       "                    e.stack,\n",
       "                    msg\n",
       "                );\n",
       "            }\n",
       "        }\n",
       "    };\n",
       "};\n",
       "\n",
       "// from http://stackoverflow.com/questions/1114465/getting-mouse-location-in-canvas\n",
       "mpl.findpos = function (e) {\n",
       "    //this section is from http://www.quirksmode.org/js/events_properties.html\n",
       "    var targ;\n",
       "    if (!e) {\n",
       "        e = window.event;\n",
       "    }\n",
       "    if (e.target) {\n",
       "        targ = e.target;\n",
       "    } else if (e.srcElement) {\n",
       "        targ = e.srcElement;\n",
       "    }\n",
       "    if (targ.nodeType === 3) {\n",
       "        // defeat Safari bug\n",
       "        targ = targ.parentNode;\n",
       "    }\n",
       "\n",
       "    // pageX,Y are the mouse positions relative to the document\n",
       "    var boundingRect = targ.getBoundingClientRect();\n",
       "    var x = e.pageX - (boundingRect.left + document.body.scrollLeft);\n",
       "    var y = e.pageY - (boundingRect.top + document.body.scrollTop);\n",
       "\n",
       "    return { x: x, y: y };\n",
       "};\n",
       "\n",
       "/*\n",
       " * return a copy of an object with only non-object keys\n",
       " * we need this to avoid circular references\n",
       " * http://stackoverflow.com/a/24161582/3208463\n",
       " */\n",
       "function simpleKeys(original) {\n",
       "    return Object.keys(original).reduce(function (obj, key) {\n",
       "        if (typeof original[key] !== 'object') {\n",
       "            obj[key] = original[key];\n",
       "        }\n",
       "        return obj;\n",
       "    }, {});\n",
       "}\n",
       "\n",
       "mpl.figure.prototype.mouse_event = function (event, name) {\n",
       "    var canvas_pos = mpl.findpos(event);\n",
       "\n",
       "    if (name === 'button_press') {\n",
       "        this.canvas.focus();\n",
       "        this.canvas_div.focus();\n",
       "    }\n",
       "\n",
       "    var x = canvas_pos.x * this.ratio;\n",
       "    var y = canvas_pos.y * this.ratio;\n",
       "\n",
       "    this.send_message(name, {\n",
       "        x: x,\n",
       "        y: y,\n",
       "        button: event.button,\n",
       "        step: event.step,\n",
       "        guiEvent: simpleKeys(event),\n",
       "    });\n",
       "\n",
       "    /* This prevents the web browser from automatically changing to\n",
       "     * the text insertion cursor when the button is pressed.  We want\n",
       "     * to control all of the cursor setting manually through the\n",
       "     * 'cursor' event from matplotlib */\n",
       "    event.preventDefault();\n",
       "    return false;\n",
       "};\n",
       "\n",
       "mpl.figure.prototype._key_event_extra = function (_event, _name) {\n",
       "    // Handle any extra behaviour associated with a key event\n",
       "};\n",
       "\n",
       "mpl.figure.prototype.key_event = function (event, name) {\n",
       "    // Prevent repeat events\n",
       "    if (name === 'key_press') {\n",
       "        if (event.key === this._key) {\n",
       "            return;\n",
       "        } else {\n",
       "            this._key = event.key;\n",
       "        }\n",
       "    }\n",
       "    if (name === 'key_release') {\n",
       "        this._key = null;\n",
       "    }\n",
       "\n",
       "    var value = '';\n",
       "    if (event.ctrlKey && event.key !== 'Control') {\n",
       "        value += 'ctrl+';\n",
       "    }\n",
       "    else if (event.altKey && event.key !== 'Alt') {\n",
       "        value += 'alt+';\n",
       "    }\n",
       "    else if (event.shiftKey && event.key !== 'Shift') {\n",
       "        value += 'shift+';\n",
       "    }\n",
       "\n",
       "    value += 'k' + event.key;\n",
       "\n",
       "    this._key_event_extra(event, name);\n",
       "\n",
       "    this.send_message(name, { key: value, guiEvent: simpleKeys(event) });\n",
       "    return false;\n",
       "};\n",
       "\n",
       "mpl.figure.prototype.toolbar_button_onclick = function (name) {\n",
       "    if (name === 'download') {\n",
       "        this.handle_save(this, null);\n",
       "    } else {\n",
       "        this.send_message('toolbar_button', { name: name });\n",
       "    }\n",
       "};\n",
       "\n",
       "mpl.figure.prototype.toolbar_button_onmouseover = function (tooltip) {\n",
       "    this.message.textContent = tooltip;\n",
       "};\n",
       "\n",
       "///////////////// REMAINING CONTENT GENERATED BY embed_js.py /////////////////\n",
       "// prettier-ignore\n",
       "var _JSXTOOLS_RESIZE_OBSERVER=function(A){var t,i=new WeakMap,n=new WeakMap,a=new WeakMap,r=new WeakMap,o=new Set;function s(e){if(!(this instanceof s))throw new TypeError(\"Constructor requires 'new' operator\");i.set(this,e)}function h(){throw new TypeError(\"Function is not a constructor\")}function c(e,t,i,n){e=0 in arguments?Number(arguments[0]):0,t=1 in arguments?Number(arguments[1]):0,i=2 in arguments?Number(arguments[2]):0,n=3 in arguments?Number(arguments[3]):0,this.right=(this.x=this.left=e)+(this.width=i),this.bottom=(this.y=this.top=t)+(this.height=n),Object.freeze(this)}function d(){t=requestAnimationFrame(d);var s=new WeakMap,p=new Set;o.forEach((function(t){r.get(t).forEach((function(i){var r=t instanceof window.SVGElement,o=a.get(t),d=r?0:parseFloat(o.paddingTop),f=r?0:parseFloat(o.paddingRight),l=r?0:parseFloat(o.paddingBottom),u=r?0:parseFloat(o.paddingLeft),g=r?0:parseFloat(o.borderTopWidth),m=r?0:parseFloat(o.borderRightWidth),w=r?0:parseFloat(o.borderBottomWidth),b=u+f,F=d+l,v=(r?0:parseFloat(o.borderLeftWidth))+m,W=g+w,y=r?0:t.offsetHeight-W-t.clientHeight,E=r?0:t.offsetWidth-v-t.clientWidth,R=b+v,z=F+W,M=r?t.width:parseFloat(o.width)-R-E,O=r?t.height:parseFloat(o.height)-z-y;if(n.has(t)){var k=n.get(t);if(k[0]===M&&k[1]===O)return}n.set(t,[M,O]);var S=Object.create(h.prototype);S.target=t,S.contentRect=new c(u,d,M,O),s.has(i)||(s.set(i,[]),p.add(i)),s.get(i).push(S)}))})),p.forEach((function(e){i.get(e).call(e,s.get(e),e)}))}return s.prototype.observe=function(i){if(i instanceof window.Element){r.has(i)||(r.set(i,new Set),o.add(i),a.set(i,window.getComputedStyle(i)));var n=r.get(i);n.has(this)||n.add(this),cancelAnimationFrame(t),t=requestAnimationFrame(d)}},s.prototype.unobserve=function(i){if(i instanceof window.Element&&r.has(i)){var n=r.get(i);n.has(this)&&(n.delete(this),n.size||(r.delete(i),o.delete(i))),n.size||r.delete(i),o.size||cancelAnimationFrame(t)}},A.DOMRectReadOnly=c,A.ResizeObserver=s,A.ResizeObserverEntry=h,A}; // eslint-disable-line\n",
       "mpl.toolbar_items = [[\"Home\", \"Reset original view\", \"fa fa-home icon-home\", \"home\"], [\"Back\", \"Back to previous view\", \"fa fa-arrow-left icon-arrow-left\", \"back\"], [\"Forward\", \"Forward to next view\", \"fa fa-arrow-right icon-arrow-right\", \"forward\"], [\"\", \"\", \"\", \"\"], [\"Pan\", \"Left button pans, Right button zooms\\nx/y fixes axis, CTRL fixes aspect\", \"fa fa-arrows icon-move\", \"pan\"], [\"Zoom\", \"Zoom to rectangle\\nx/y fixes axis, CTRL fixes aspect\", \"fa fa-square-o icon-check-empty\", \"zoom\"], [\"\", \"\", \"\", \"\"], [\"Download\", \"Download plot\", \"fa fa-floppy-o icon-save\", \"download\"]];\n",
       "\n",
       "mpl.extensions = [\"eps\", \"jpeg\", \"pgf\", \"pdf\", \"png\", \"ps\", \"raw\", \"svg\", \"tif\"];\n",
       "\n",
       "mpl.default_extension = \"png\";/* global mpl */\n",
       "\n",
       "var comm_websocket_adapter = function (comm) {\n",
       "    // Create a \"websocket\"-like object which calls the given IPython comm\n",
       "    // object with the appropriate methods. Currently this is a non binary\n",
       "    // socket, so there is still some room for performance tuning.\n",
       "    var ws = {};\n",
       "\n",
       "    ws.binaryType = comm.kernel.ws.binaryType;\n",
       "    ws.readyState = comm.kernel.ws.readyState;\n",
       "    function updateReadyState(_event) {\n",
       "        if (comm.kernel.ws) {\n",
       "            ws.readyState = comm.kernel.ws.readyState;\n",
       "        } else {\n",
       "            ws.readyState = 3; // Closed state.\n",
       "        }\n",
       "    }\n",
       "    comm.kernel.ws.addEventListener('open', updateReadyState);\n",
       "    comm.kernel.ws.addEventListener('close', updateReadyState);\n",
       "    comm.kernel.ws.addEventListener('error', updateReadyState);\n",
       "\n",
       "    ws.close = function () {\n",
       "        comm.close();\n",
       "    };\n",
       "    ws.send = function (m) {\n",
       "        //console.log('sending', m);\n",
       "        comm.send(m);\n",
       "    };\n",
       "    // Register the callback with on_msg.\n",
       "    comm.on_msg(function (msg) {\n",
       "        //console.log('receiving', msg['content']['data'], msg);\n",
       "        var data = msg['content']['data'];\n",
       "        if (data['blob'] !== undefined) {\n",
       "            data = {\n",
       "                data: new Blob(msg['buffers'], { type: data['blob'] }),\n",
       "            };\n",
       "        }\n",
       "        // Pass the mpl event to the overridden (by mpl) onmessage function.\n",
       "        ws.onmessage(data);\n",
       "    });\n",
       "    return ws;\n",
       "};\n",
       "\n",
       "mpl.mpl_figure_comm = function (comm, msg) {\n",
       "    // This is the function which gets called when the mpl process\n",
       "    // starts-up an IPython Comm through the \"matplotlib\" channel.\n",
       "\n",
       "    var id = msg.content.data.id;\n",
       "    // Get hold of the div created by the display call when the Comm\n",
       "    // socket was opened in Python.\n",
       "    var element = document.getElementById(id);\n",
       "    var ws_proxy = comm_websocket_adapter(comm);\n",
       "\n",
       "    function ondownload(figure, _format) {\n",
       "        window.open(figure.canvas.toDataURL());\n",
       "    }\n",
       "\n",
       "    var fig = new mpl.figure(id, ws_proxy, ondownload, element);\n",
       "\n",
       "    // Call onopen now - mpl needs it, as it is assuming we've passed it a real\n",
       "    // web socket which is closed, not our websocket->open comm proxy.\n",
       "    ws_proxy.onopen();\n",
       "\n",
       "    fig.parent_element = element;\n",
       "    fig.cell_info = mpl.find_output_cell(\"<div id='\" + id + \"'></div>\");\n",
       "    if (!fig.cell_info) {\n",
       "        console.error('Failed to find cell for figure', id, fig);\n",
       "        return;\n",
       "    }\n",
       "    fig.cell_info[0].output_area.element.on(\n",
       "        'cleared',\n",
       "        { fig: fig },\n",
       "        fig._remove_fig_handler\n",
       "    );\n",
       "};\n",
       "\n",
       "mpl.figure.prototype.handle_close = function (fig, msg) {\n",
       "    var width = fig.canvas.width / fig.ratio;\n",
       "    fig.cell_info[0].output_area.element.off(\n",
       "        'cleared',\n",
       "        fig._remove_fig_handler\n",
       "    );\n",
       "    fig.resizeObserverInstance.unobserve(fig.canvas_div);\n",
       "\n",
       "    // Update the output cell to use the data from the current canvas.\n",
       "    fig.push_to_output();\n",
       "    var dataURL = fig.canvas.toDataURL();\n",
       "    // Re-enable the keyboard manager in IPython - without this line, in FF,\n",
       "    // the notebook keyboard shortcuts fail.\n",
       "    IPython.keyboard_manager.enable();\n",
       "    fig.parent_element.innerHTML =\n",
       "        '<img src=\"' + dataURL + '\" width=\"' + width + '\">';\n",
       "    fig.close_ws(fig, msg);\n",
       "};\n",
       "\n",
       "mpl.figure.prototype.close_ws = function (fig, msg) {\n",
       "    fig.send_message('closing', msg);\n",
       "    // fig.ws.close()\n",
       "};\n",
       "\n",
       "mpl.figure.prototype.push_to_output = function (_remove_interactive) {\n",
       "    // Turn the data on the canvas into data in the output cell.\n",
       "    var width = this.canvas.width / this.ratio;\n",
       "    var dataURL = this.canvas.toDataURL();\n",
       "    this.cell_info[1]['text/html'] =\n",
       "        '<img src=\"' + dataURL + '\" width=\"' + width + '\">';\n",
       "};\n",
       "\n",
       "mpl.figure.prototype.updated_canvas_event = function () {\n",
       "    // Tell IPython that the notebook contents must change.\n",
       "    IPython.notebook.set_dirty(true);\n",
       "    this.send_message('ack', {});\n",
       "    var fig = this;\n",
       "    // Wait a second, then push the new image to the DOM so\n",
       "    // that it is saved nicely (might be nice to debounce this).\n",
       "    setTimeout(function () {\n",
       "        fig.push_to_output();\n",
       "    }, 1000);\n",
       "};\n",
       "\n",
       "mpl.figure.prototype._init_toolbar = function () {\n",
       "    var fig = this;\n",
       "\n",
       "    var toolbar = document.createElement('div');\n",
       "    toolbar.classList = 'btn-toolbar';\n",
       "    this.root.appendChild(toolbar);\n",
       "\n",
       "    function on_click_closure(name) {\n",
       "        return function (_event) {\n",
       "            return fig.toolbar_button_onclick(name);\n",
       "        };\n",
       "    }\n",
       "\n",
       "    function on_mouseover_closure(tooltip) {\n",
       "        return function (event) {\n",
       "            if (!event.currentTarget.disabled) {\n",
       "                return fig.toolbar_button_onmouseover(tooltip);\n",
       "            }\n",
       "        };\n",
       "    }\n",
       "\n",
       "    fig.buttons = {};\n",
       "    var buttonGroup = document.createElement('div');\n",
       "    buttonGroup.classList = 'btn-group';\n",
       "    var button;\n",
       "    for (var toolbar_ind in mpl.toolbar_items) {\n",
       "        var name = mpl.toolbar_items[toolbar_ind][0];\n",
       "        var tooltip = mpl.toolbar_items[toolbar_ind][1];\n",
       "        var image = mpl.toolbar_items[toolbar_ind][2];\n",
       "        var method_name = mpl.toolbar_items[toolbar_ind][3];\n",
       "\n",
       "        if (!name) {\n",
       "            /* Instead of a spacer, we start a new button group. */\n",
       "            if (buttonGroup.hasChildNodes()) {\n",
       "                toolbar.appendChild(buttonGroup);\n",
       "            }\n",
       "            buttonGroup = document.createElement('div');\n",
       "            buttonGroup.classList = 'btn-group';\n",
       "            continue;\n",
       "        }\n",
       "\n",
       "        button = fig.buttons[name] = document.createElement('button');\n",
       "        button.classList = 'btn btn-default';\n",
       "        button.href = '#';\n",
       "        button.title = name;\n",
       "        button.innerHTML = '<i class=\"fa ' + image + ' fa-lg\"></i>';\n",
       "        button.addEventListener('click', on_click_closure(method_name));\n",
       "        button.addEventListener('mouseover', on_mouseover_closure(tooltip));\n",
       "        buttonGroup.appendChild(button);\n",
       "    }\n",
       "\n",
       "    if (buttonGroup.hasChildNodes()) {\n",
       "        toolbar.appendChild(buttonGroup);\n",
       "    }\n",
       "\n",
       "    // Add the status bar.\n",
       "    var status_bar = document.createElement('span');\n",
       "    status_bar.classList = 'mpl-message pull-right';\n",
       "    toolbar.appendChild(status_bar);\n",
       "    this.message = status_bar;\n",
       "\n",
       "    // Add the close button to the window.\n",
       "    var buttongrp = document.createElement('div');\n",
       "    buttongrp.classList = 'btn-group inline pull-right';\n",
       "    button = document.createElement('button');\n",
       "    button.classList = 'btn btn-mini btn-primary';\n",
       "    button.href = '#';\n",
       "    button.title = 'Stop Interaction';\n",
       "    button.innerHTML = '<i class=\"fa fa-power-off icon-remove icon-large\"></i>';\n",
       "    button.addEventListener('click', function (_evt) {\n",
       "        fig.handle_close(fig, {});\n",
       "    });\n",
       "    button.addEventListener(\n",
       "        'mouseover',\n",
       "        on_mouseover_closure('Stop Interaction')\n",
       "    );\n",
       "    buttongrp.appendChild(button);\n",
       "    var titlebar = this.root.querySelector('.ui-dialog-titlebar');\n",
       "    titlebar.insertBefore(buttongrp, titlebar.firstChild);\n",
       "};\n",
       "\n",
       "mpl.figure.prototype._remove_fig_handler = function (event) {\n",
       "    var fig = event.data.fig;\n",
       "    if (event.target !== this) {\n",
       "        // Ignore bubbled events from children.\n",
       "        return;\n",
       "    }\n",
       "    fig.close_ws(fig, {});\n",
       "};\n",
       "\n",
       "mpl.figure.prototype._root_extra_style = function (el) {\n",
       "    el.style.boxSizing = 'content-box'; // override notebook setting of border-box.\n",
       "};\n",
       "\n",
       "mpl.figure.prototype._canvas_extra_style = function (el) {\n",
       "    // this is important to make the div 'focusable\n",
       "    el.setAttribute('tabindex', 0);\n",
       "    // reach out to IPython and tell the keyboard manager to turn it's self\n",
       "    // off when our div gets focus\n",
       "\n",
       "    // location in version 3\n",
       "    if (IPython.notebook.keyboard_manager) {\n",
       "        IPython.notebook.keyboard_manager.register_events(el);\n",
       "    } else {\n",
       "        // location in version 2\n",
       "        IPython.keyboard_manager.register_events(el);\n",
       "    }\n",
       "};\n",
       "\n",
       "mpl.figure.prototype._key_event_extra = function (event, _name) {\n",
       "    var manager = IPython.notebook.keyboard_manager;\n",
       "    if (!manager) {\n",
       "        manager = IPython.keyboard_manager;\n",
       "    }\n",
       "\n",
       "    // Check for shift+enter\n",
       "    if (event.shiftKey && event.which === 13) {\n",
       "        this.canvas_div.blur();\n",
       "        // select the cell after this one\n",
       "        var index = IPython.notebook.find_cell_index(this.cell_info[0]);\n",
       "        IPython.notebook.select(index + 1);\n",
       "    }\n",
       "};\n",
       "\n",
       "mpl.figure.prototype.handle_save = function (fig, _msg) {\n",
       "    fig.ondownload(fig, null);\n",
       "};\n",
       "\n",
       "mpl.find_output_cell = function (html_output) {\n",
       "    // Return the cell and output element which can be found *uniquely* in the notebook.\n",
       "    // Note - this is a bit hacky, but it is done because the \"notebook_saving.Notebook\"\n",
       "    // IPython event is triggered only after the cells have been serialised, which for\n",
       "    // our purposes (turning an active figure into a static one), is too late.\n",
       "    var cells = IPython.notebook.get_cells();\n",
       "    var ncells = cells.length;\n",
       "    for (var i = 0; i < ncells; i++) {\n",
       "        var cell = cells[i];\n",
       "        if (cell.cell_type === 'code') {\n",
       "            for (var j = 0; j < cell.output_area.outputs.length; j++) {\n",
       "                var data = cell.output_area.outputs[j];\n",
       "                if (data.data) {\n",
       "                    // IPython >= 3 moved mimebundle to data attribute of output\n",
       "                    data = data.data;\n",
       "                }\n",
       "                if (data['text/html'] === html_output) {\n",
       "                    return [cell, data, j];\n",
       "                }\n",
       "            }\n",
       "        }\n",
       "    }\n",
       "};\n",
       "\n",
       "// Register the function which deals with the matplotlib target/channel.\n",
       "// The kernel may be null if the page has been refreshed.\n",
       "if (IPython.notebook.kernel !== null) {\n",
       "    IPython.notebook.kernel.comm_manager.register_target(\n",
       "        'matplotlib',\n",
       "        mpl.mpl_figure_comm\n",
       "    );\n",
       "}\n"
      ],
      "text/plain": [
       "<IPython.core.display.Javascript object>"
      ]
     },
     "metadata": {},
     "output_type": "display_data"
    },
    {
     "data": {
      "text/html": [
       "<img src=\"data:image/png;base64,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\" width=\"640\">"
      ],
      "text/plain": [
       "<IPython.core.display.HTML object>"
      ]
     },
     "metadata": {},
     "output_type": "display_data"
    }
   ],
   "source": [
    "def Plot3dim(x,y,z):\n",
    "    \n",
    "    fig = plt.figure()\n",
    "    ax = plt.axes(projection='3d')\n",
    "    ax.plot_trisurf(x, y, z)\n",
    "    ax.axes.set_xlim3d(left=0, right=1) \n",
    "    ax.axes.set_ylim3d(bottom=0, top=1) \n",
    "    ax.axes.set_zlim3d(bottom=0, top=1)\n",
    "    ax.grid(False)\n",
    "    ax.set_title(\"PLOT OF ALLOWED ENTROPIES\")\n",
    "    ax.set_xlabel(r\"$S_{pol}$\")\n",
    "    ax.set_ylabel(r\"$S_{par}$\")\n",
    "    ax.set_zlabel(r\"$S$\")\n",
    "%matplotlib notebook\n",
    "Plot3dim(x,y,z)\n",
    "# %matplotlib inline"
   ]
  },
  {
   "cell_type": "markdown",
   "metadata": {},
   "source": [
    "## 6. Quantum Circuits\n",
    "As one may have already noticed, the behavior of the system here can be accurately modelled using quantum systems where instead of coherence one measures the purity of a state. We make use of the IBM Qiskit libraries to build these experimental setups into their equivalent quantum circuits making use of ancillary qubits to create inherently mixed states. The main idea here is that for experiment A we would only need the two qubits each representing one DoF to model this system and reproduce the results using the appropriate operators.\n",
    "### Interpretation of the model\n",
    "<p>The first qubit (indexed by 0) refers to the polarisation DOF and the second qubit (index 1) refers to the parity DOF for experiment A. For experiment B and C we use an ancilla qubit at the zeroth index instead and these become 1 and 2 respectively. We will take the $|1\\rangle$ state of polarity to mean pure V-polarisation and $|0\\rangle$ state to mean pure H-polarisation. Similarly, we take the $|0\\rangle$ and $|1\\rangle$ states of the parity qubit to mean purely even and purely odd mode, respectively.</p>\n",
    "<table>\n",
    "    <tr><td>Parity-polarisation state</td><td>Qubit configuration</td></tr>\n",
    "    <tr><td>He</td><td>00</td></tr>\n",
    "    <tr><td>Ho</td><td>01</td></tr>\n",
    "    <tr><td>Ve</td><td>10</td></tr>\n",
    "    <tr><td>Vo</td><td>11</td></tr>\n",
    "</table>\n",
    "<p>Further, we will always use any ancilla qubits we need, to replicate the probabilistic devices (like random rotator or probabilistic PS-SLM) to be the initial qubits, the second last qubit will represent polarisation, and the last qubit represents parity.</p>\n",
    "\n",
    "For experiment B one of our state is starting in an impure form, something which cannot be reached if one were to only apply unitary transformations. Here we make use of an ancillary qubit which is coupled with the rest of the two qubits and hence is in a way storing the coherence we wished to get rid off as part of it's coupling. The main idea of this paper was that partial trace matrices do not give us the complete picture of the system which we can demonstrate very simply just by using a bell state (a pure state) and noting that it's partial traces are actually representative of impure states.\n",
    "\n",
    "The purpose of this section is to demonstrate a simulation which is based in quantum mechanics which reproduces the results of classical coherence obtained in this paper.\n",
    "\n",
    "A small point to add is that in qiskit the representation is not with zeroth qubit being MSB and last qubit being LSB but the other way round. In experiment A for example $q_0$ is the polarization qubit and $q_1$ is the parity qubit and so Ho is actually 10 and Ve is 01 and so on."
   ]
  },
  {
   "cell_type": "code",
   "execution_count": 49,
   "metadata": {},
   "outputs": [],
   "source": [
    "#Defining the operations on the circuit\n",
    "simulator = Aer.get_backend('statevector_simulator') #Using statevector simulator\n",
    "%matplotlib inline\n",
    "\n",
    "def SLM(phi,qc,ancilla_used = 0):\n",
    "    qc.rx(-phi,ancilla_used+1)\n",
    "    return\n",
    "#For HWP, by observing the 2x2 matrix, we see that the operator looks like Ry(theta)*sigma_Z \n",
    "def HWP(theta,qc,ancilla_used = 0):\n",
    "    qc.z(ancilla_used)\n",
    "    qc.ry(theta,ancilla_used)\n",
    "    return\n",
    "\n",
    "#for PS-SLM, we want the H-polarisation to induce an SLM action, but not V. So, if polarisation qubit is 0 (H), we want the\n",
    "#controlled gate to fire. So we first invert (NOT or X gate) the control bit, use a usual controlled gate, then invert it \n",
    "#again.\n",
    "def PSSLM(phi,qc,ancilla_used=0):\n",
    "    qc.x(ancilla_used)\n",
    "    qc.crx(-phi,ancilla_used,ancilla_used+1) #angle,control,target\n",
    "    qc.x(ancilla_used)\n",
    "    return\n",
    "\n",
    "def corr_circ(qc):\n",
    "    result = execute(qc, simulator).result()\n",
    "    statevector = result.get_statevector(qc)\n",
    "    corr = 0\n",
    "    if len(statevector) is 4:\n",
    "        corr = 2*(np.absolute(statevector[0]**2) + np.absolute(statevector[3]**2)) - 1\n",
    "    if len(statevector) is 8:\n",
    "        corr = (np.absolute(statevector[0]**2) + np.absolute(statevector[1]**2) + np.absolute(statevector[6]**2) + np.absolute(statevector[7]**2)) - (np.absolute(statevector[2]**2) + np.absolute(statevector[3]**2) + np.absolute(statevector[4]**2) + np.absolute(statevector[5]**2))\n",
    "    return corr"
   ]
  },
  {
   "cell_type": "markdown",
   "metadata": {},
   "source": [
    "### 6.1 Experiment A\n",
    "For this experiment we take $q_0$ as the polarization DoF and $q_1$ as the parity DoF. Based on the matrix forms of the experimental apparatus we can see that applying an HWP is analogous to a $R_y(\\theta)Z$ on $q_0$ and the SLM is $R_x(-\\phi)$ and the PSSLM is just the SLM as a controlled operation except that it activates for $q_0$ being in 0 instead of 1 so we just apply a NOT on that bit before and after the controlled gate. The measurement done in the end uses the statevector simulator of qiskit to directly calculate probabilities based on the state of the system. While running multiple shots using one of the real quantum computers one can access using IBM-Q would have been more impressive, those will come with heavy noise outputs would require additional noise and error mitigation procedures."
   ]
  },
  {
   "cell_type": "code",
   "execution_count": 50,
   "metadata": {},
   "outputs": [
    {
     "data": {
      "image/png": "[encoded data removed]",
      "text/plain": [
       "<Figure size 840.392x204.68 with 1 Axes>"
      ]
     },
     "execution_count": 50,
     "metadata": {},
     "output_type": "execute_result"
    }
   ],
   "source": [
    "#Quantum Circuit Diagram for A\n",
    "qcA = QuantumCircuit(2,2)\n",
    "qcA.h(0)\n",
    "qcA.barrier() #initialisation complete, 45 degre linearly polarised even mode\n",
    "PSSLM(np.pi/2,qcA) #no ancilla\n",
    "qcA.barrier() #beam is coupled, now on to analysis stage\n",
    "HWP(np.pi/4,qcA)\n",
    "SLM(np.pi/6,qcA)\n",
    "qcA.barrier()#Analysis stage complete. Now, measurement stage\n",
    "qcA.measure(0,0)\n",
    "qcA.measure(1,1)\n",
    "qcA.draw('mpl')"
   ]
  },
  {
   "cell_type": "code",
   "execution_count": 51,
   "metadata": {},
   "outputs": [],
   "source": [
    "def CA(theta_a,phi_a,phi):\n",
    "    qcA=QuantumCircuit(2,2)\n",
    "    qcA.h(0)\n",
    "    qcA.barrier() #initialisation complete, 45 degre linearly polarised even mode\n",
    "    PSSLM(phi,qcA) #no ancilla\n",
    "    qcA.barrier() #beam is coupled, now on to analysis stage\n",
    "    HWP(theta_a,qcA)\n",
    "    SLM(phi_a,qcA)\n",
    "    corr = corr_circ(qcA)\n",
    "    return corr"
   ]
  },
  {
   "cell_type": "code",
   "execution_count": 52,
   "metadata": {},
   "outputs": [
    {
     "data": {
      "application/vnd.jupyter.widget-view+json": {
       "model_id": "93b86c05d31c47edae2c1ab26a6ce329",
       "version_major": 2,
       "version_minor": 0
      },
      "text/plain": [
       "interactive(children=(FloatSlider(value=1.5707963267948966, continuous_update=False, description='phi_A', layo…"
      ]
     },
     "metadata": {},
     "output_type": "display_data"
    }
   ],
   "source": [
    "def CP_A(phi_A):\n",
    "    phi_fixed = phi_A\n",
    "    points = 50\n",
    "    ta_range = np.linspace(0,2*np.pi,points)\n",
    "    pa_range = np.linspace(0,2*np.pi,points)\n",
    "    X,Y = np.meshgrid(ta_range, pa_range)\n",
    "    Z = [[0 for i in range(50)] for j in range(50)]\n",
    "    for i in range(len(Y)):\n",
    "        for j in range(len(X)):\n",
    "            Z[i][j] = CA(ta_range[j],pa_range[i],phi_fixed)\n",
    "    fig, ax = plt.subplots(figsize=(7,5.7))\n",
    "    cp = ax.contourf(X, Y, Z ,cmap='turbo');\n",
    "    fig.colorbar(cp) # Add a colorbar to a plot\n",
    "    plt.xlim(0,2*np.pi)\n",
    "    plt.ylim(0,2*np.pi)\n",
    "    ax.axis('equal')\n",
    "    return\n",
    "interact(CP_A, phi_A=widgets.FloatSlider(min=0, max=2*np.pi, step=0.01, value=np.pi/2, continuous_update=False, layout=Layout(width='600px')));"
   ]
  },
  {
   "cell_type": "markdown",
   "metadata": {},
   "source": [
    "As we can see above we have succesfully recreated the same results using abstract qubits."
   ]
  },
  {
   "cell_type": "markdown",
   "metadata": {},
   "source": [
    "### 6.2 Experiment B\n",
    "Here in the experiment a random rotator is used to generate what would be measured as unpolarized light. As stated before the coherence of a the DoFs are analogous to a qubit being in a mixed or pure state. Since we are working with idealized qubits the state of the system will always remain pure however if one were to look into just the hilbert space of few of the qubits but not all we would have it perceived as an impure state. Here unpolarized light would have a coherency (density) matrix which is diagonal with both entries equal to 1/2. This is a completely mixed state and we can generate this by looking at the partial trace of a qubit which is paired with another qubit as the bell state $\\dfrac{|00\\rangle + |11\\rangle}{\\sqrt{2}}$. Hence we make use of $q_0$ as an ancillary qubit which is present as a bell pair with $q_1$ which is now the polarization qubit. $q_2$ is the parity qubit. As we can see since we do not measure the $q_0$ qubit we would actually see $q_1$ behave like a mixed state which is what the random rotator actually achieves. More specifically the bell state we have described has half probability for any state on the XZ plane of the bloch sphere and since the random rotator is a $R_yZ$ operation the system as a whole is essentially composed of all states on the XZ plane which would be described by observing one qubit out of this bell pair."
   ]
  },
  {
   "cell_type": "code",
   "execution_count": 53,
   "metadata": {},
   "outputs": [
    {
     "data": {
      "image/png": "[encoded data removed]",
      "text/plain": [
       "<Figure size 900.592x264.88 with 1 Axes>"
      ]
     },
     "execution_count": 53,
     "metadata": {},
     "output_type": "execute_result"
    }
   ],
   "source": [
    "#Quantum Circuit Diagram for B\n",
    "qc_B = QuantumCircuit(3,2)\n",
    "qc_B.h(0)\n",
    "qc_B.cx(0,1)\n",
    "qc_B.barrier() #initialisation complete as unpolarized light\n",
    "PSSLM(np.pi/2,qc_B,1)\n",
    "qc_B.barrier() #beam is coupled, now on to analysis stage\n",
    "HWP(np.pi/4,qc_B,1)\n",
    "SLM(np.pi/6,qc_B,1)\n",
    "qc_B.barrier()#Analysis stage complete. Now, measurement stage\n",
    "qc_B.measure(1,0)\n",
    "qc_B.measure(2,1)\n",
    "qc_B.draw('mpl')"
   ]
  },
  {
   "cell_type": "code",
   "execution_count": 54,
   "metadata": {},
   "outputs": [],
   "source": [
    "#Experiment C\n",
    "def CB(theta_a,phi_a,phi):\n",
    "    #Quantum Circuit Diagram for A\n",
    "    qc_B = QuantumCircuit(3)\n",
    "    qc_B.h(0)\n",
    "    qc_B.cx(0,1)\n",
    "    qc_B.barrier() #initialisation complete as unpolarized light\n",
    "    PSSLM(phi,qc_B,1)\n",
    "    qc_B.barrier() #beam is coupled, now on to analysis stage\n",
    "    HWP(theta_a,qc_B,1)\n",
    "    SLM(phi_a,qc_B,1)\n",
    "    qc_B.barrier()#Analysis stage complete.\n",
    "    return corr_circ(qc_B)"
   ]
  },
  {
   "cell_type": "code",
   "execution_count": 55,
   "metadata": {},
   "outputs": [
    {
     "data": {
      "application/vnd.jupyter.widget-view+json": {
       "model_id": "0c2325653cc645e7b78b16c93cf514cd",
       "version_major": 2,
       "version_minor": 0
      },
      "text/plain": [
       "interactive(children=(FloatSlider(value=3.141592653589793, continuous_update=False, description='phi_B', layou…"
      ]
     },
     "metadata": {},
     "output_type": "display_data"
    }
   ],
   "source": [
    "#This cell takes time to run\n",
    "def CP_B(phi_B):\n",
    "    phi_fixed = phi_B\n",
    "    points = 50\n",
    "    ta_range = np.linspace(0,2*np.pi,points)\n",
    "    pa_range = np.linspace(0,2*np.pi,points)\n",
    "    X,Y = np.meshgrid(ta_range, pa_range)\n",
    "    Z = [[0 for i in range(50)] for j in range(50)]\n",
    "    for i in range(len(Y)):\n",
    "        for j in range(len(X)):\n",
    "            Z[i][j] = CB(ta_range[j],pa_range[i],phi_fixed)\n",
    "    fig, ax = plt.subplots(figsize=(7,5.7))\n",
    "    cp = ax.contourf(X, Y, Z ,cmap='turbo');\n",
    "    fig.colorbar(cp) # Add a colorbar to a plot\n",
    "    plt.xlim(0,2*np.pi)\n",
    "    plt.ylim(0,2*np.pi)\n",
    "    ax.axis('equal')\n",
    "    return\n",
    "interact(CP_B, phi_B=widgets.FloatSlider(min=0, max=2*np.pi, step=0.01, value=np.pi, continuous_update=False, layout=Layout(width='600px')));"
   ]
  },
  {
   "cell_type": "markdown",
   "metadata": {},
   "source": [
    "As we can see above we have again been able to reproduce results exactly from those we obtained previously and that of the paper for the correlation function."
   ]
  },
  {
   "cell_type": "markdown",
   "metadata": {},
   "source": [
    "### 6.3 Experiment C\n",
    "In experiment C the paper randomly chooses to either couple the DoFs or not with probability of $P$ and $1-P$ respectively. To recreate this I again make use of an ancillary qubit $q_0$ similar to section [6.2](#6.2-Experiment-B). The idea is to create this in the state $\\sqrt{1-P}|0\\rangle + \\sqrt{P}|1\\rangle$ and use a controlled-Rx gate with angle $-\\pi$ with $q_0$ and $q_1$ (polarization) as control bits where polarization needs to be 0 and ancilla needs to be 1 to activate this rotation. The circuit used decomposes the two control gate using the standard procedure for decomposing two control single target qubit gates if the single control gate is available."
   ]
  },
  {
   "cell_type": "code",
   "execution_count": 56,
   "metadata": {},
   "outputs": [
    {
     "data": {
      "image/png": "[encoded data removed]",
      "text/plain": [
       "<Figure size 1081.19x264.88 with 1 Axes>"
      ]
     },
     "execution_count": 56,
     "metadata": {},
     "output_type": "execute_result"
    }
   ],
   "source": [
    "qc_C = QuantumCircuit(3,2)\n",
    "P = 0.5\n",
    "qc_C.ry(2*np.arccos(np.sqrt(1-P)),0)#Preparing the probability qubit\n",
    "qc_C.h(1)\n",
    "qc_C.barrier()\n",
    "#Do a controlled Rx(-pi) gate with two controls\n",
    "qc_C.x(1)\n",
    "qc_C.crx(-np.pi/2,1,2)\n",
    "qc_C.cx(0,1)\n",
    "qc_C.crx(np.pi/2,1,2)\n",
    "qc_C.cx(0,1)\n",
    "qc_C.crx(-np.pi/2,0,2)\n",
    "qc_C.x(1)\n",
    "qc_C.barrier()\n",
    "#Analysis stage now\n",
    "HWP(np.pi/6,qc_C,1)\n",
    "SLM(np.pi/3,qc_C,1)\n",
    "qc_C.barrier()\n",
    "qc_C.measure(1,0)\n",
    "qc_C.measure(2,1)\n",
    "qc_C.draw('mpl')"
   ]
  },
  {
   "cell_type": "code",
   "execution_count": 57,
   "metadata": {},
   "outputs": [],
   "source": [
    "#Experiment C\n",
    "def CC(P,theta_a,phi_a):\n",
    "    qc_C = QuantumCircuit(3)\n",
    "    qc_C.ry(2*np.arccos(np.sqrt(1-P)),0)#Preparing the probability qubit\n",
    "    qc_C.h(1)\n",
    "    qc_C.barrier()\n",
    "    #Do a controlled y gate with two controls\n",
    "    qc_C.x(1)\n",
    "    qc_C.crx(-np.pi/2,1,2)\n",
    "    qc_C.cx(0,1)\n",
    "    qc_C.crx(np.pi/2,1,2)\n",
    "    qc_C.cx(0,1)\n",
    "    qc_C.crx(-np.pi/2,0,2)\n",
    "    qc_C.x(1)\n",
    "    qc_C.barrier()\n",
    "    #Analysis stage now\n",
    "    HWP(theta_a,qc_C,1)\n",
    "    SLM(phi_a,qc_C,1)\n",
    "    return corr_circ(qc_C)"
   ]
  },
  {
   "cell_type": "code",
   "execution_count": 58,
   "metadata": {},
   "outputs": [
    {
     "data": {
      "application/vnd.jupyter.widget-view+json": {
       "model_id": "0fb27c277c884e5f96976bc86dddadad",
       "version_major": 2,
       "version_minor": 0
      },
      "text/plain": [
       "interactive(children=(FloatSlider(value=0.5, continuous_update=False, description='P_var', layout=Layout(width…"
      ]
     },
     "metadata": {},
     "output_type": "display_data"
    }
   ],
   "source": [
    "def CP_C(P_var):\n",
    "    P_fixed = P_var\n",
    "    points = 50\n",
    "    ta_range = np.linspace(0,2*np.pi,points)\n",
    "    pa_range = np.linspace(0,2*np.pi,points)\n",
    "    X,Y = np.meshgrid(ta_range, pa_range)\n",
    "    Z = [[0 for i in range(50)] for j in range(50)]\n",
    "    for i in range(len(Y)):\n",
    "        for j in range(len(X)):\n",
    "            Z[i][j] = CC(P_fixed,ta_range[j],pa_range[i])\n",
    "    fig, ax = plt.subplots(figsize=(7,5.7))\n",
    "    cp = ax.contourf(X, Y, Z ,cmap='turbo');\n",
    "    fig.colorbar(cp) # Add a colorbar to a plot\n",
    "    plt.xlim(0,2*np.pi)\n",
    "    plt.ylim(0,2*np.pi)\n",
    "    ax.axis('equal')\n",
    "interact(CP_C, P_var=widgets.FloatSlider(min=0, max=1, step=0.01, value=0.5, continuous_update=False, layout=Layout(width='600px')));"
   ]
  },
  {
   "cell_type": "markdown",
   "metadata": {},
   "source": [
    "As we can see above this also faithfully reproduces the required results for the correlation function.\n",
    "\n",
    "### Universality using optical components\n",
    "Our main reference for this is [[3](#ref-3)]. To fully realize quantum computing (or any form of computing) one needs a physical system capable of producing the minimal set of operations which can then be extended to a set of all possible operations and sequences of operations. In classical computers the complete set is realized using the set of operations $\\{\\lnot,\\land\\}$ or $\\{\\lnot,\\lor\\}$. For quantum computers universality would imply being able to make any circuit which essentially means the set of all unitary matrices. This of course is non inclusive of measurements (which will not keep a circuit unitary) but one can prove that measurements placed in the middle of a cicuit can be taken to the very end without affecting the final measurement probabilities (since once measured any qubit is essentially decohered and cannot be part of the circuit anyway). \n",
    "\n",
    "To get the complete set of unitary matrices we can first start for the case of a single qubit. This set would essentially be the $SU(2)$ group which is isomorphic to $SO(3)$ and given that we have an $R_x(\\theta)$ gate in form of the SLM we actually just need rotation about some other axis to achieve single qubit universality for parity. The polarization qubit does have a $R_y(\\theta)Z$ qubit which can be used to get the hadamard gate $H$ with $\\theta = \\pi/2$ and in combination with a quarter wave plate with fast axis horizontal which is effectively the square root of $Z$ denoted with an $S$ (ignoring global phase) we can actually make the HWP just be a pure $R_y(\\theta)$. Additionally using $\\theta=\\pi$ we can make this into an $X$ gate ignoring global phase. The importance of this $X$ gate is that if we apply the gate sequence $X$-PSSLM-$X$ it is effectively a PSSLM which applies the operation of the SLM when the polarization is vertical which transalates exactly into a controlled $R_x(\\phi)$ operation which we will use in our analysis below. \n",
    "\n",
    "The PS-SLM is an operator which controls the parity using the polarity and is essentially a controlled Rx gate and so can be made into a CNOT gate which adds an additional phase of $\\iota$ to the horizontal polarization component. To make the CNOT of the other way we can try for the MZI configuration proposed [here](#Proposal-for-a-Parity-Sensitive-Polarisation-Modifier). The point here is that once we have these two CNOTS, we can essentially get universal unitaries by swapping the polarization (see cells below) and parity qubit in such a way that we can apply an Rx gate followed by Ry and then another Rx with the appropriate euler angles and we can attain individual qubit universalities of $U3$ gates.\n",
    "\n",
    "The exact CNOT operation where polarization is control and parity is target involves making use of a quarter wave plate which has the operator form of $e^{-\\iota\\pi/4}\\begin{pmatrix}1 & 0\\\\0 & \\iota\\end{pmatrix}$ on the polarization qubit so that we can induce a relative phase between H and V of polarization. \n",
    "\n",
    "Now for getting overall universality we just need the CNOT gates of both ways and since we already have that using the PSSLM and the MZI setup described previously we actually have a universal quantum computer of two qubits.\n",
    "\n",
    "A small note to be made is that the U3 gates have unique euler angles upto a global phase being ignored. Now we have established that global phase is useless here for a 1 qubit case but with two qubits a controlled-$U$ gate has importance on global phase of $U$. To tackle this we can simply make use of the decomposition of $U$ such that first a controlled $\\tilde{U}$ where $\\tilde{U}$ can be written as just the rotations ($R_y(\\theta_3)R_x(\\theta_2)R_y(\\theta_1)$ or $R_x(\\theta_3)R_y(\\theta_2)R_x(\\theta_1)$ depending on the qubit) ignoring the global phase and say $U=e^{\\iota\\alpha}\\tilde{U}$ we simply apply the gate equivalent to $R_z(\\alpha/2)$ to the control qubit. While applying this $z$ rotation we just introduce a relative phase of $\\alpha$ between the $|0\\rangle$ and $|1\\rangle$ of the control qubit which is equivalent to a controlled $U$ if done after the controlled $\\tilde{U}$. Note that global phase of this last gate does not concern us since that is global for both qubits unlike a controlled gate. "
   ]
  },
  {
   "cell_type": "code",
   "execution_count": 59,
   "metadata": {},
   "outputs": [
    {
     "name": "stdout",
     "output_type": "stream",
     "text": [
      "[[1.+0.000000e+00j 0.+0.000000e+00j 0.+0.000000e+00j 0.+0.000000e+00j]\n",
      " [0.+0.000000e+00j 0.+0.000000e+00j 0.+0.000000e+00j 1.-6.123234e-17j]\n",
      " [0.+0.000000e+00j 0.+0.000000e+00j 1.+0.000000e+00j 0.+0.000000e+00j]\n",
      " [0.+0.000000e+00j 1.+6.123234e-17j 0.+0.000000e+00j 0.+0.000000e+00j]]\n",
      "               ┌───┐\n",
      "q_0: ────■─────┤ S ├\n",
      "     ┌───┴────┐└───┘\n",
      "q_1: ┤ RX(pi) ├─────\n",
      "     └────────┘     \n"
     ]
    }
   ],
   "source": [
    "import qiskit.quantum_info as qi\n",
    "#CNOT\n",
    "qc_cn = QuantumCircuit(2)\n",
    "qc_cn.crx(np.pi,0,1)#PSSLM\n",
    "qc_cn.s(0)\n",
    "print((qi.Operator(qc_cn).data))\n",
    "print(qc_cn.draw())"
   ]
  },
  {
   "cell_type": "markdown",
   "metadata": {},
   "source": [
    "As we can see above as per the matrix form of the operation the circuit has done, this achieves the CNOT gate which we desire and below we show how make this into a swap gate."
   ]
  },
  {
   "cell_type": "code",
   "execution_count": 60,
   "metadata": {},
   "outputs": [
    {
     "name": "stdout",
     "output_type": "stream",
     "text": [
      "[[1.+0.000000e+00j 0.+0.000000e+00j 0.+0.000000e+00j 0.+0.000000e+00j]\n",
      " [0.+0.000000e+00j 0.+0.000000e+00j 1.-6.123234e-17j 0.+0.000000e+00j]\n",
      " [0.+0.000000e+00j 1.+6.123234e-17j 0.+0.000000e+00j 0.+0.000000e+00j]\n",
      " [0.+0.000000e+00j 0.+0.000000e+00j 0.+0.000000e+00j 1.+0.000000e+00j]]\n",
      "               ┌───┐┌───┐          ┌───┐\n",
      "q_0: ────■─────┤ S ├┤ X ├────■─────┤ S ├\n",
      "     ┌───┴────┐└───┘└─┬─┘┌───┴────┐└───┘\n",
      "q_1: ┤ RX(pi) ├───────■──┤ RX(pi) ├─────\n",
      "     └────────┘          └────────┘     \n"
     ]
    }
   ],
   "source": [
    "import qiskit.quantum_info as qi\n",
    "#Swap gate\n",
    "qc_sw = QuantumCircuit(2)\n",
    "qc_sw.crx(np.pi,0,1)#PSSLM\n",
    "qc_sw.s(0)#QWP\n",
    "qc_sw.cx(1,0)\n",
    "qc_sw.crx(np.pi,0,1)#PSSLM\n",
    "qc_sw.s(0)#QWP\n",
    "#Swapping complete\n",
    "print((qi.Operator(qc_sw).data))#See the operator as a matrix\n",
    "print(qc_sw.draw())"
   ]
  },
  {
   "cell_type": "markdown",
   "metadata": {},
   "source": [
    "As we can see above that this achieves the same unitary that a swap gate would. Since we have shown that polarization is capable of arbitray $R_x$ rotations and parity qubits are capable of arbitrary $R_y$ rotations we can follow the following sequence of steps for U3 gates on polarization as shown below. We take the euler angles for $Y-X-Y$ and first apply $R_y$ on polarization, swap with parity and apply a $R_x$ on parity after that. Finally swap again and do the final $R_y$ on the polarization qubit. We follow a similar procedure for parity U3 gates but instead use euler angles of $X-Y-X$."
   ]
  },
  {
   "cell_type": "code",
   "execution_count": 61,
   "metadata": {},
   "outputs": [
    {
     "data": {
      "image/png": "[encoded data removed]",
      "text/plain": [
       "<Figure size 1201.59x144.48 with 1 Axes>"
      ]
     },
     "execution_count": 61,
     "metadata": {},
     "output_type": "execute_result"
    }
   ],
   "source": [
    "#For doing arbitrary rotations on the polarization qubit\n",
    "qc_uq1 = QuantumCircuit(2)\n",
    "eul1 = np.pi/2\n",
    "eul2 = np.pi/3\n",
    "eul3 = np.pi\n",
    "qc_uq1.ry(eul1,0) #HWP combined with QWP\n",
    "qc_uq1.barrier()\n",
    "qc_uq1.crx(np.pi,0,1)#PSSLM\n",
    "qc_uq1.s(0)#QWP\n",
    "qc_uq1.cx(1,0)\n",
    "qc_uq1.crx(np.pi,0,1)#PSSLM\n",
    "qc_uq1.s(0)#QWP\n",
    "#Swapping complete\n",
    "qc_uq1.barrier()\n",
    "qc_uq1.rx(eul2,1) #SLM\n",
    "qc_uq1.barrier()\n",
    "qc_uq1.crx(np.pi,0,1)#PSSLM\n",
    "qc_uq1.s(0)#QWP\n",
    "qc_uq1.cx(1,0)\n",
    "qc_uq1.crx(np.pi,0,1)#PSSLM\n",
    "qc_uq1.s(0)#QWP\n",
    "#Swapping complete\n",
    "qc_uq1.barrier()\n",
    "qc_uq1.ry(eul3,0) #HWP combined with QWP\n",
    "qc_uq1.draw('mpl')"
   ]
  },
  {
   "cell_type": "code",
   "execution_count": 62,
   "metadata": {},
   "outputs": [
    {
     "data": {
      "image/png": "[encoded data removed]",
      "text/plain": [
       "<Figure size 1201.59x144.48 with 1 Axes>"
      ]
     },
     "execution_count": 62,
     "metadata": {},
     "output_type": "execute_result"
    }
   ],
   "source": [
    "#For doing arbitrary rotations on the parity qubit\n",
    "qc_uq2 = QuantumCircuit(2)\n",
    "eul1 = np.pi/2\n",
    "eul2 = np.pi/3\n",
    "eul3 = np.pi\n",
    "qc_uq2.rx(eul1,1) #HWP combined with QWP\n",
    "qc_uq2.barrier()\n",
    "qc_uq2.crx(np.pi,0,1)#PSSLM\n",
    "qc_uq2.s(0)#QWP\n",
    "qc_uq2.cx(1,0)\n",
    "qc_uq2.crx(np.pi,0,1)#PSSLM\n",
    "qc_uq2.s(0)#QWP\n",
    "#Swapping complete\n",
    "qc_uq2.barrier()\n",
    "qc_uq2.ry(eul2,0)\n",
    "qc_uq2.barrier()\n",
    "qc_uq2.crx(np.pi,0,1)#PSSLM\n",
    "qc_uq2.s(0)#QWP\n",
    "qc_uq2.cx(1,0)\n",
    "qc_uq2.crx(np.pi,0,1)#PSSLM\n",
    "qc_uq2.s(0)#QWP\n",
    "#Swapping complete\n",
    "qc_uq2.barrier()\n",
    "qc_uq2.rx(eul3,1) #HWP combined with QWP\n",
    "qc_uq2.draw('mpl')"
   ]
  },
  {
   "cell_type": "markdown",
   "metadata": {},
   "source": [
    "We must note that in the above schemes for U3 gates the other qubit over which the middle rotation is done actually unchanged due to the two swaps and there is no entaglement involved. Hence we have demonstrated a recipe for arbitrary U3 gates on both qubits and we also showed CNOT execution giving us a universal set for any unitary circuit on these two qubits."
   ]
  },
  {
   "cell_type": "markdown",
   "metadata": {},
   "source": [
    "## 7. Concluding Remarks\n",
    "The exceeding of $B_\\text{max}$ beyond the value of 2 in quantum mechanics implied that one cannot use locally deterministic hidden variable theories to explain quantum mechanics or simply put proves that quantum mechanics violates local realism. Here we have seen that $B_\\text{max}$ exceeds this classical limit and one can conclude equivalently that one cannot write the correlation function as some $C(\\theta_a,\\phi_a) = \\int d\\lambda\\rho(\\lambda)C_\\text{pol}(\\theta_a,\\lambda)C_\\text{par}(\\phi_a,\\lambda)$ where $\\lambda$ is some set of hidden variables. The proper proof of this is described in [Appendix A](#Appendix-A:-The-EPR-paradox-and-Bell's-inequalities) and the experimental results concur with this. \n",
    "\n",
    "In a way this shows that if one were to have two DoFs, there would be an uncertainty which arises due their coupling which is quantised by using the Bell's measure. These results would hold good regardless of the type of DoF used and can be extended to systems with a higher number of DoFs too. We also explored how one can link this with quantum systems and reproduced the results using a quantum computer simulation of IBM Q.\n",
    "\n",
    "More importantly one must take note of how looking at the coherency behaviors of the individual DoFs would not address the actual coherence it had since some of it would be 'shared' in form of coupling. In short the partial traces of coherency matrices offer an incomplete picture of the system quite similar to how one would deal with multi qubit systems and have the state behave mixed when only looking at the partial trace over a part of the Hilber space. We even took advantage of this incomplete picture to create mixed states in the previous section. This also demonstrates how one could effectively share coherence between two DoFs as seen in experiment B where the coherency $S_\\text{pol}$ of the polarization qubit is effectively increased at maximal entaglement with the fully coherent parity DoF. An important consequence of the swap gate we made use of in proving universality is that one can essentially \"exchange\" coherence between two DoFs which is a very interesting consequence."
   ]
  },
  {
   "cell_type": "markdown",
   "metadata": {},
   "source": [
    "## Appendix A: The EPR paradox and Bell's inequalities\n",
    "\n",
    "Before talking about the bell's measure let us first dive into why it was made and for this we must look at the EPR experiment proposed in [[4](#ref-4)]. I will discuss Bohm's variant since Bell's response was made in a way to that. Say we have prepared a electron-positron pair coming from a single source. These would be entangled in a way where if we measure the spin of one of the particles, the other particle will simultaneously collapse to the opposite spin.\n",
    "$$|{\\psi}\\rangle = \\dfrac{|{\\uparrow_e\\downarrow_p}\\rangle + |{\\downarrow_e\\uparrow_p}\\rangle}{\\sqrt{2}}$$\n",
    "So the main issue which Einstein had was that this means that measurement on one particle directly affects the other no matter how far it is. This makes it a non local effect which clearly does not make sense in a world which was believed to follow local realism. It can be proven that the two agents have no way to communicate using this pair hence showing that there actually is no faster than light comminication. While one may think choosing basis in a certain manner can change measurement probabilities and essentially have some \"information\" change, no matter how much measurements are done, since this is probabilistic the other agent cannot conclude anything from that.\n",
    "   \n",
    "\n",
    "While there have been multiple responses to this, the most important one is the one discussed in Bell's paper [[5](#ref-5)].\n",
    "First we will start by considering the EPR argument using spin particles. Consider a pair of spin one-half particles formed somehow in the singlet spin state and moving freely in opposite directions. Measurements can be made, say by Stern-Gerlach magnets, on selected components of the spins $\\vec{\\sigma_1}$ and $\\vec{\\sigma_2}$,\n",
    "If measurement of the component $\\vec{\\sigma_1}\\cdot{a}$, where $a$ is some unit vector, yields the value +1 then, according to quantum mechanics, measurement of $\\vec{\\sigma_2}\\cdot{a}$ must yield the value -1 and vice versa.\n",
    "We now define some set of parameters $\\lambda$ which is taken as continuous which give us a complete description of the state. The result $A$ of measuring $\\vec{\\sigma_1}\\cdot{a}$ is then determined by $a$ and $\\lambda$, and the result $B$ of measuring $\\vec{\\sigma_2}\\cdot{b}$ in the\n",
    "same instance is determined by $b$ and $\\lambda$.\n",
    "\\begin{equation}\\label{eq:1A}\\tag{1A}A(\\vec{a},\\lambda) = \\pm 1, B(\\vec{b},\\lambda) = \\pm 1 \\end{equation}\n",
    "We now take $\\rho(\\lambda)$ as the probability distribution of $\\lambda$ and we will now try to find the expectation value of of the product of the two components $\\vec{\\sigma_1}\\cdot{a}$ and $\\vec{\\sigma_2}\\cdot{b}$.\n",
    "\\begin{equation}\\label{eq:2A}\\tag{2A}P(\\vec{a}\\vec{b}) = \\int{d\\lambda}\\rho(\\lambda)A(\\vec{a},\\lambda)B(\\vec{b},\\lambda)\\end{equation}\n",
    "The quantum mechanical expectation value of this is the following\n",
    "\\begin{equation}\\label{eq:3A}\\tag{3A}\\langle\\vec{\\sigma_1}\\cdot{a}\\vec{\\sigma_2}\\cdot{b}\\rangle = - \\vec{a}\\cdot\\vec{b}\\end{equation}\n",
    "However it turns out that eq: \\ref{eq:2A} doesn't give us the same result as \\ref{eq:3A}. So first off we know that we have a normalized distribution.\n",
    "\\begin{equation}\\label{eq:4A}\\tag{4A}\\int{d\\lambda}\\rho(\\lambda) = 1\\end{equation}\n",
    "if we take $\\vec{a} = \\vec{b}$ the $P$ in eq: \\ref{eq:2A} can reach -1.\n",
    "\\begin{equation}\\label{eq:5A}\\tag{5A}A(\\vec{a},\\lambda) = -B(\\vec{a},\\lambda)\\end{equation}\n",
    "Knowing this we can rewrite eq: \\ref{eq:2A} into the following\n",
    "\\begin{equation}\\label{eq:6A}\\tag{6A}P(\\vec{a}\\vec{b}) = -\\int{d\\lambda}\\rho(\\lambda)A(\\vec{a},\\lambda)A(\\vec{b},\\lambda)\\end{equation}\n",
    "\\begin{equation}\\label{eq:7A}\\tag{7A}P(\\vec{a},\\vec{b}) - P(\\vec{a},\\vec{c}) = \\int{d\\lambda}\\rho(\\lambda)[1-A(\\vec{b},\\lambda)A(\\vec{c},\\lambda)]\\end{equation}\n",
    "from eq: \\ref{eq:1A} we can write this\n",
    "\\begin{equation}\\label{eq:8A}\\tag{8A}|P(\\vec{a},\\vec{b}) - P(\\vec{a},\\vec{c})| \\leq \\int{d\\lambda}\\rho(\\lambda)A(\\vec{a},\\lambda)A(\\vec{b},\\lambda)[A(\\vec{b},\\lambda)A(\\vec{c},\\lambda) - 1]\\end{equation}\n",
    "The second term on the right is just $P(\\vec{b},\\vec{c})$ so we get\n",
    "\\begin{equation}\\label{eq:9A}\\tag{9A}1 + P(\\vec{b},\\vec{c}) \\geq |P(\\vec{a},\\vec{b}) - P(\\vec{a},\\vec{c})|\\end{equation}\n",
    "Now we define a $\\overline{P}(\\vec{a},\\vec{b})$ and a $\\overline{- \\vec{a}\\cdot\\vec{b}}$ which essentially are the averages over vectors differing from a small angle from $\\vec{a}$ and $\\vec{b}$ of the quantities under the bar. Let's suppose the following holds for some $\\epsilon$\n",
    "\\begin{equation}\\label{eq:10A}\\tag{10A}|\\overline{P}(\\vec{a},\\vec{b}) + \\overline{\\vec{a}\\cdot\\vec{b}}| \\leq \\epsilon\\end{equation}\n",
    "We cannot make $\\epsilon$ arbitrarily small and this can be proven by the following steps. Let us first assume the following inequality holds for all $\\vec{a}$ and $\\vec{b}$\n",
    "\\begin{equation}\\label{eq:11A}\\tag{11A}|\\overline{\\vec{a}\\cdot\\vec{b}} - \\vec{a}\\cdot\\vec{b}| \\leq\\delta\\end{equation}\n",
    "Then using eq:\\ref{eq:11A} and eq:\\ref{eq:10A} we have\n",
    "\\begin{equation}\\label{eq:12A}\\tag{12A}|\\overline{P}(\\vec{a},\\vec{b}) + \\vec{a}\\cdot\\vec{b}| \\leq \\epsilon + \\delta\\end{equation}\n",
    "Now taking $\\vec{a} = \\vec{b}$ (hence their dot product is 1) we rewrite eq:\\ref{eq:12A} as the equation below while using the fact that $\\overline{P(\\vec{a},\\vec{b})} = \\int d\\lambda\\rho(\\lambda)\\overline{A}(\\vec{a},\\lambda)\\overline{B}(\\vec{b},\\lambda))$.\n",
    "\\begin{equation}\\label{eq:13A}\\tag{13A}\\int d\\lambda\\rho(\\lambda)[\\overline{A}(\\vec{b},\\lambda)\\overline{B}(\\vec{b},\\lambda))+1] \\leq\\epsilon+\\delta\\end{equation}\n",
    "We can extend from \\ref{eq:1A} that on averaging over a small range, $|\\overline{A}(\\vec{a},\\lambda)| \\leq 1$ and $|\\overline{B}(\\vec{b},\\lambda)| \\leq 1$. Now we can write the following\n",
    "\\begin{equation}\\label{eq:14A}\\tag{14A}\\overline{P}(\\vec{a},\\vec{b})-\\overline{P}(\\vec{b},\\vec{c}) = \\int{d\\lambda}\\rho(\\lambda)\\overline{A}(\\vec{a},\\lambda)\\overline{B}(\\vec{b},\\lambda)[\\overline{A}(\\vec{b},\\lambda)\\overline{B}(\\vec{c},\\lambda) + 1] - \\int{d\\lambda}\\rho(\\lambda)\\overline{A}(\\vec{a},\\lambda)\\overline{B}(\\vec{c},\\lambda)[\\overline{A}(\\vec{b},\\lambda)\\overline{B}(\\vec{b},\\lambda) + 1]\\end{equation}\n",
    "Using the inequalities on the averaged $A$ and $B$ we can write the following\n",
    "\\begin{equation}\\label{eq:15A}\\tag{15A}|\\overline{P}(\\vec{a},\\vec{b})-\\overline{P}(\\vec{b},\\vec{c})| \\leq \\int{d\\lambda}\\rho(\\lambda)[\\overline{A}(\\vec{b},\\lambda)\\overline{B}(\\vec{c},\\lambda) + 1] - \\int{d\\lambda}\\rho(\\lambda)[\\overline{A}(\\vec{b},\\lambda)\\overline{B}(\\vec{b},\\lambda) + 1]\\end{equation}\n",
    "\\begin{equation}\\label{eq:16A}\\tag{16A}|\\overline{P}(\\vec{a},\\vec{b})-\\overline{P}(\\vec{b},\\vec{c})| \\leq 1 + \\overline{P} + \\epsilon+\\delta\\end{equation}\n",
    "We write eq:\\ref{eq:16A} using eq:\\ref{eq:15A} and eq:\\ref{eq:13A}. Finally using eq:\\ref{eq:12A} we rewrite the above equation as\n",
    "\\begin{equation}\\label{eq:17A}\\tag{17A}|\\vec{a}\\cdot\\vec{c}-\\vec{a}\\cdot\\vec{b}|+\\vec{b}\\cdot\\vec{c}-1 \\leq 4(\\epsilon+\\delta)\\end{equation}\n",
    "Now with the constr  aint coming from eq:\\ref{eq:17A} we can handpick values of $\\vec{a},\\vec{b},\\vec{c}$ such that $\\epsilon$ cannot be made arbitrarily small (take $\\vec{a}\\cdot\\vec{b} = \\vec{c}\\cdot\\vec{b} = 1/\\sqrt{2}$ and $\\vec{a}\\cdot\\vec{c} = 0$ this would show $4(\\epsilon+\\delta)\\geq\\sqrt{2}-1$). The fact that $\\epsilon$ cannot be made arbitrarily small implies that the quantum mechanical value cannot be approximated either accurately or arbitrarily close to this form using hidden variable. So this contradiction implies that some assumptions that we have taken happen to not work together and that happen to be local determinism and hidden variables. So any hidden variable theory by nature itself is non local.\n",
    "\n",
    "To get the form of the CSHS inequalities we essentially modify the form of eq:\\ref{eq:14A} and write it as follows\n",
    "\\begin{equation}\\label{eq:18A}\\tag{18A}\\overline{P}(\\vec{a},\\vec{b})-\\overline{P}(\\vec{a},\\vec{b}') = \\int{d\\lambda}\\rho(\\lambda)\\overline{A}(\\vec{a},\\lambda)\\overline{B}(\\vec{b},\\lambda)[1\\pm\\overline{A}(\\vec{a}',\\lambda)\\overline{B}(\\vec{b}',\\lambda)] - \\int{d\\lambda}\\rho(\\lambda)\\overline{A}(\\vec{a},\\lambda)\\overline{B}(\\vec{b}',\\lambda)[1\\pm\\overline{A}(\\vec{a}',\\lambda)\\overline{B}(\\vec{b},\\lambda)]\\end{equation}\n",
    "We now apply the triangle inequality and also note that the modulus of the averaged functions $\\overline{A}$ and $\\overline{B}$ are bounded above by 1 we will get\n",
    "\\begin{equation}\\label{eq:19A}\\tag{19A}|\\overline{P}(\\vec{a},\\vec{b})-\\overline{P}(\\vec{a},\\vec{b}')| \\leq \\left|\\int{d\\lambda}\\rho(\\lambda)[1\\pm\\overline{A}(\\vec{a}',\\lambda)\\overline{B}(\\vec{b}',\\lambda)]\\right| + \\left|\\int{d\\lambda}\\rho(\\lambda)[1\\pm\\overline{A}(\\vec{a}',\\lambda)\\overline{B}(\\vec{b},\\lambda)]\\right|\\end{equation}\n",
    "We may as well remove the moduli brackets on the LHS since the quantities is non negative. Since $\\int\\rho(\\lambda)d\\lambda = 1$ and $\\overline{P(\\vec{a},\\vec{b})} = \\int d\\lambda\\rho(\\lambda)\\overline{A}(\\vec{a},\\lambda)\\overline{B}(\\vec{b},\\lambda))$ we can rewrite eq:\\ref{eq:19A} as\n",
    "\\begin{equation}\\label{eq:20A}\\tag{20A}|\\overline{P}(\\vec{a},\\vec{b})-\\overline{P}(\\vec{a},\\vec{b}')| \\leq 2 \\pm (\\overline{P}(\\vec{a}',\\vec{b}') + \\overline{P}(\\vec{a}',\\vec{b})) \\leq 2 \\pm |\\overline{P}(\\vec{a}',\\vec{b}') + \\overline{P}(\\vec{a}',\\vec{b})|\\end{equation}\n",
    "The second inequality comes from the triangle inequality. Now we can choose the minus sign and we get\n",
    "\\begin{equation}\\label{eq:21A}\\tag{21A}|\\overline{P}(\\vec{a},\\vec{b})-\\overline{P}(\\vec{a},\\vec{b}')| + |\\overline{P}(\\vec{a}',\\vec{b}') + \\overline{P}(\\vec{a}',\\vec{b})| \\leq 2\\end{equation}\n",
    "Finally we get the following equation by applying the triangle inequality on RHS of eq:\\ref{eq:21A}\n",
    "\\begin{equation}\\label{eq:22A}\\tag{22A}|\\overline{P}(\\vec{a},\\vec{b}) - \\overline{P}(\\vec{a},\\vec{b}') + \\overline{P}(\\vec{a}',\\vec{b}') + \\overline{P}(\\vec{a}',\\vec{b})| \\leq 2\\end{equation}\n",
    "The above inequality is the form of writing the CHSH inequalities [[6](#ref-6)]. The bound above is shown to be 2 which is satisfied for classical systems and is violated for quantum mechanical correlations. One can instead prove a different bound for quantum correlations as $2\\sqrt{2}$. This is reffered to as the Tsirelon's bound. To prove this we can suppose we have four hermitian operators $A_0,A_1,B_0,B_1$ where $[A_i,B_j] = 0$ but the $[A_0,A_1] \\neq 0$ and $[B_0,B_1] \\neq 0$. We define these $A$ operators as being two different spin measurements on the same electron and $B$ being the same on the positron where their results are either $+1$ or $-1$. We know that for a simple spin system $[\\sigma\\cdot\\vec{a},\\sigma\\cdot\\vec{b}] = 2\\iota\\sigma\\cdot(\\vec{a}\\times\\vec{b})$. Now we will define a new operator called $\\mathcal{B}$\n",
    "$$\\mathcal{B} = A_0B_0 + A_0B_1 + A_1B_0 - A_1B_1$$\n",
    "This operator has been defined along the lines of the bell's measure where expectation value of the modulus of this operator would be the actual bells measure for a correlation function of $C_{ij} = \\langle A_iB_j\\rangle$. We can now square this operator and it would simpify as the equation below (since $A_i^2 = B_i^2 = I$)\n",
    "$$\\mathcal{B}^2 = 4I - [A_0,A_1][B_0,B_1]$$\n",
    "Since these are spin operators we have $|[A_0,A_1][B_0,B_1]| \\leq 4I$ using the commutation relation we had defined earlier. We would infact have $\\mathcal{B}^2$ reach it's maximum if $A_0,B_0$ measures along $\\hat{x}$ and $A_1,B_1$ measures along $\\hat{y}$ which would make $\\mathcal{B}^2 = 8I$. This leads us to $\\langle \\mathcal{B}\\rangle \\leq 2\\sqrt{2}$ which is the Tsirelon's bound [[7](#ref-7)]. In this paper the $B_{max}$ values are bounded above due to Tsirelon's bound.\n"
   ]
  },
  {
   "cell_type": "markdown",
   "metadata": {},
   "source": [
    "## References\n",
    "<br>\n",
    "<div id=\"ref-1\">[1] Kagalwala, K., Di Giuseppe, G., Abouraddy, A. et al. Bell's measure in classical optical coherence. Nature Photon 7, 72–78 (2013). <a href=\"https://doi.org/10.1038/nphoton.2012.312\">https://doi.org/10.1038/nphoton.2012.312</a></div>\n",
    "<div id=\"ref-2\">[2] Aiello, A., and Woerdman, J. (2005). Physical Bounds to the Entropy-Depolarization Relation in Random Light Scattering. Phys. Rev. Lett., 94, 090406.</div>\n",
    "<div id=\"ref-3\">[3] Nielsen, M, Chuang, I. Quantum Computation and Quantum Information: 10th Anniversary Edition. Cambridge University Press; 2011.</div>\n",
    "<div id=\"ref-4\">[4] Einstein, A, Podolsky, B, Rosen, N. \"Can Quantum-Mechanical Description of Physical Reality Be Considered Complete?\". Phys. Rev. 1935; 47:777–780.</div>\n",
    "<div id=\"ref-5\">[5] Bell, J. \"On the Einstein Podolsky Rosen paradox\". Physics Physique Fizika 1964; 1:195–200.</div>\n",
    "<div id=\"ref-6\">[6] Clauser, J, Horne, M, Shimony, A, Holt, R. \"Proposed Experiment to Test Local Hidden-Variable Theories\". Phys. Rev. Lett. 1969; 23:880–884.</div>\n",
    "<div id=\"ref-7\">[7] Cirel'son, B.S. Quantum generalizations of Bell's inequality. Lett Math Phys 4, 93–100 (1980). <a href=\"https://doi.org/10.1007/BF00417500\">https://doi.org/10.1007/BF00417500</a></div>\n",
    "<div id=\"ref-8\">[8] Zyczkowski, K., Penson, K. A., Nechita, I. & Collins, C. Generating random\n",
    "density matrices. J. Math. Phys. 52, 062201 (2011).</div>\n",
    "<div id=\"ref-9\">[9] Gil, Jose & Bernabeu, Eusebio. (1987). Obtainment of the polarizing and retardation parameters of a non-depolarizing optical system from the polar decomposition of its Mueller matrix. Optik. 76. 67. </div>\n",
    "<div id=\"ref-10\">[10] Yarnall, T., Abouraddy, A. F., Saleh, B. E. A. & Teich, M. C. Synthesis and\n",
    "analysis of entangled photonic qubits in spatial-parity space. Phys. Rev. Lett.\n",
    "99, 250502 (2007).</div>"
   ]
  }
 ],
 "metadata": {
  "kernelspec": {
   "display_name": "Python 3",
   "language": "python",
   "name": "python3"
  },
  "language_info": {
   "codemirror_mode": {
    "name": "ipython",
    "version": 3
   },
   "file_extension": ".py",
   "mimetype": "text/x-python",
   "name": "python",
   "nbconvert_exporter": "python",
   "pygments_lexer": "ipython3",
   "version": "3.7.4"
  }
 },
 "nbformat": 4,
 "nbformat_minor": 2
}
