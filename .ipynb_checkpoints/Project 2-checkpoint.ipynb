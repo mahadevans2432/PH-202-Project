{
 "cells": [
  {
   "cell_type": "markdown",
   "metadata": {},
   "source": [
    "# BELL'S MEASURE IN CLASSICAL OPTICAL COHERENCE"
   ]
  },
  {
   "cell_type": "markdown",
   "metadata": {},
   "source": [
    "## Team details and work distrubution\n",
    "1. Aneesh Bapat (Roll no: 190260006): Proposed $A$ matrix formalism for devices, theoretical analysis of experiments along with derivations, coding of quantum circuits and proposal for parity sensitive polarization modifying gate.\n",
    "2. Ankan Mukherjee (Roll no: 190260008): Numpy calculations for $S$, $D$, $B$ and Correlation function. Optimization of $B$. Generation of plots and countor plots for experiments A, B and C. Interactivity of plots. Calculations for 3-D plot. Definition of necessary functions in the preamble.\n",
    "3. Mahadevan Subramanian (Roll no: 190260027): Explanation of polarization and spatial parity DoFs and their analysis. Quantum circuit analogue to given experiments and also proved quantum circuit universality for this analogous system. Proof of Bell's inequalities.\n",
    "4. Priyam Dubey (Roll no: 190260034): Worked and coded plots of correlation functions and $B_{max}$ plots along with the 3d volume plot in $S,S_\\text{pol},S_\\text{par}$ space, interpretation of 3d Plot."
   ]
  },
  {
   "cell_type": "markdown",
   "metadata": {},
   "source": [
    "## 0. Setting up this notebook\n",
    "Kindly run the cell below to make sure you have all required dependencies"
   ]
  },
  {
   "cell_type": "markdown",
   "metadata": {},
   "source": [
    "### 0.1 Installing and Importing Packages"
   ]
  },
  {
   "cell_type": "code",
   "execution_count": 1,
   "metadata": {},
   "outputs": [
    {
     "name": "stdout",
     "output_type": "stream",
     "text": [
      "Successfully imported packages\n"
     ]
    }
   ],
   "source": [
    "from IPython.display import clear_output,display, Math, Latex\n",
    "!pip install numpy\n",
    "!pip install scipy\n",
    "!pip install matplotlib\n",
    "!pip install sympy\n",
    "!pip install seaborn\n",
    "!pip install qiskit\n",
    "clear_output()\n",
    "import numpy as np\n",
    "import matplotlib.pyplot as plt\n",
    "from matplotlib.widgets import Slider, Button, RadioButtons\n",
    "from ipywidgets import interact, interactive, fixed, interact_manual, Layout\n",
    "import ipywidgets as widgets\n",
    "from mpl_toolkits.mplot3d import axes3d\n",
    "from sympy import *\n",
    "from sympy.physics.quantum.dagger import Dagger\n",
    "from IPython.display import Javascript\n",
    "import seaborn as sns\n",
    "import scipy as sc\n",
    "import sys\n",
    "from qiskit import *\n",
    "from qiskit.compiler import transpile, assemble\n",
    "from qiskit.tools.jupyter import *\n",
    "from qiskit.visualization import *\n",
    "import matplotlib.pyplot as plotter\n",
    "np.set_printoptions(threshold=sys.maxsize)\n",
    "print(\"Successfully imported packages\")"
   ]
  },
  {
   "cell_type": "markdown",
   "metadata": {},
   "source": [
    "#### 0.2 Defining Functions"
   ]
  },
  {
   "cell_type": "code",
   "execution_count": 2,
   "metadata": {},
   "outputs": [],
   "source": [
    "## Function implemented to set axis ticks in multiples of pi in plots.\n",
    "## Function written by Scott Centoni at https://stackoverflow.com/a/53586826\n",
    "\n",
    "\n",
    "def multiple_formatter(denominator=2, number=np.pi, latex='\\pi'):\n",
    "    def gcd(a, b):\n",
    "        while b:\n",
    "            a, b = b, a%b\n",
    "        return a\n",
    "    def _multiple_formatter(x, pos):\n",
    "        den = denominator\n",
    "        num = int(np.rint(den*x/number))\n",
    "        com = gcd(num,den)\n",
    "        (num,den) = (int(num/com),int(den/com))\n",
    "        if den==1:\n",
    "            if num==0:\n",
    "                return r'$0$'\n",
    "            if num==1:\n",
    "                return r'$%s$'%latex\n",
    "            elif num==-1:\n",
    "                return r'$-%s$'%latex\n",
    "            else:\n",
    "                return r'$%s%s$'%(num,latex)\n",
    "        else:\n",
    "            if num==1:\n",
    "                return r'$\\frac{%s}{%s}$'%(latex,den)\n",
    "            elif num==-1:\n",
    "                return r'$\\frac{-%s}{%s}$'%(latex,den)\n",
    "            else:\n",
    "                return r'$\\frac{%s%s}{%s}$'%(num,latex,den)\n",
    "    return _multiple_formatter\n",
    "\n",
    "class Multiple:\n",
    "    def __init__(self, denominator=2, number=np.pi, latex='\\pi'):\n",
    "        self.denominator = denominator\n",
    "        self.number = number\n",
    "        self.latex = latex\n",
    "\n",
    "    def locator(self):\n",
    "        return plt.MultipleLocator(self.number / self.denominator)\n",
    "\n",
    "    def formatter(self):\n",
    "        return plt.FuncFormatter(multiple_formatter(self.denominator, self.number, self.latex))"
   ]
  },
  {
   "cell_type": "code",
   "execution_count": 3,
   "metadata": {},
   "outputs": [],
   "source": [
    "def plotter(x,y,title,xlabel,ylabel,col,label):\n",
    "    num_space,=x.shape\n",
    "    plt.plot(x,y, color=col,linewidth=3, label=label)\n",
    "    plt.title(title, fontsize=15)\n",
    "    plt.xlabel(xlabel, fontsize=15)\n",
    "    plt.ylabel(ylabel, fontsize=15)\n",
    "    plt.xlim(0,2*np.pi)\n",
    "    ax=plt.gca()\n",
    "    ax.set_facecolor('#FFFFCC')\n",
    "    ax.axhline(0, color='black', lw=2)\n",
    "    ax.axvline(0, color='black', lw=2)\n",
    "    ax.xaxis.set_major_locator(plt.MultipleLocator(np.pi / 2))\n",
    "    ax.xaxis.set_minor_locator(plt.MultipleLocator(np.pi / 12))\n",
    "    ax.xaxis.set_major_formatter(plt.FuncFormatter(multiple_formatter()))\n",
    "    plt.xticks(fontsize =15)\n",
    "    plt.yticks(fontsize =15)\n",
    "    return"
   ]
  },
  {
   "cell_type": "code",
   "execution_count": 4,
   "metadata": {},
   "outputs": [],
   "source": [
    "def plotterC(x,y,title,xlabel,ylabel,col,label):\n",
    "    num_space,=x.shape\n",
    "    plt.plot(x,y, color=col,linewidth=3, label=label)\n",
    "    plt.title(title, fontsize=15)\n",
    "    plt.xlabel(xlabel, fontsize=15)\n",
    "    plt.ylabel(ylabel, fontsize=15)\n",
    "    plt.xlim(0,1)\n",
    "    ax=plt.gca()\n",
    "    ax.set_facecolor('#FFFFCC')\n",
    "    ax.axhline(0, color='black', lw=2)\n",
    "    ax.axvline(0, color='black', lw=2)\n",
    "    plt.xticks(fontsize =15)\n",
    "    plt.yticks(fontsize =15)\n",
    "    return"
   ]
  },
  {
   "cell_type": "code",
   "execution_count": 5,
   "metadata": {},
   "outputs": [],
   "source": [
    "def contourplotter(function,phi,title,xlabel,ylabel):\n",
    "    f = lambdify((t,p,ta,pa),function, \"numpy\")\n",
    "    ta_range = np.linspace(0,2*np.pi,1000);\n",
    "    pa_range = np.linspace(0,2*np.pi,1000);\n",
    "    phi_fixed = phi;\n",
    "    X, Y = np.meshgrid(ta_range, pa_range);\n",
    "    def ftemp(ta_val,pa_val):\n",
    "        return f(0,phi_fixed,ta_val,pa_val);\n",
    "    Z = ftemp(X,Y);\n",
    "    fig, ax = plt.subplots(figsize=(7,5.7))\n",
    "    cp = ax.contourf(X, Y, Z ,cmap='turbo');\n",
    "    fig.colorbar(cp) # Add a colorbar to a plot\n",
    "    plt.xlim(0,2*np.pi);\n",
    "    plt.ylim(0,2*np.pi);\n",
    "    ax.axis('equal');\n",
    "\n",
    "    plt.title(title, fontsize=15)\n",
    "    plt.xlabel(xlabel, fontsize=15)\n",
    "    plt.ylabel(ylabel, fontsize=15)\n",
    "    ax=plt.gca()\n",
    "    ax.set_facecolor((0.8,1,1))\n",
    "    ax.axhline(0, color='black', lw=2)\n",
    "    ax.axvline(0, color='black', lw=2)\n",
    "    ax.xaxis.set_major_locator(plt.MultipleLocator(np.pi / 2))\n",
    "    ax.xaxis.set_minor_locator(plt.MultipleLocator(np.pi / 12))\n",
    "    ax.xaxis.set_major_formatter(plt.FuncFormatter(multiple_formatter()))\n",
    "    ax.yaxis.set_major_locator(plt.MultipleLocator(np.pi / 2))\n",
    "    ax.yaxis.set_minor_locator(plt.MultipleLocator(np.pi / 12))\n",
    "    ax.yaxis.set_major_formatter(plt.FuncFormatter(multiple_formatter()))\n",
    "    plt.xticks(fontsize =15)\n",
    "    plt.yticks(fontsize =15)\n",
    "    return"
   ]
  },
  {
   "cell_type": "code",
   "execution_count": 6,
   "metadata": {},
   "outputs": [],
   "source": [
    "def contourplotterC(function,P1,title,xlabel,ylabel):\n",
    "    f = lambdify((P,ta,pa),function, \"numpy\")\n",
    "    ta_range = np.linspace(0,2*np.pi,100);\n",
    "    pa_range = np.linspace(0,2*np.pi,100);\n",
    "    P_fixed = P1;\n",
    "    X, Y = np.meshgrid(ta_range, pa_range);\n",
    "    def ftemp(ta_val,pa_val):\n",
    "        return f(P1,ta_val,pa_val);\n",
    "    Z = ftemp(X,Y);\n",
    "    fig, ax = plt.subplots(figsize=(7,5.7))\n",
    "    cp = ax.contourf(X, Y, Z ,cmap='turbo');\n",
    "    fig.colorbar(cp) # Add a colorbar to a plot\n",
    "    plt.xlim(0,2*np.pi);\n",
    "    plt.ylim(0,2*np.pi);\n",
    "    ax.axis('equal');\n",
    "\n",
    "    plt.title(title, fontsize=15)\n",
    "    plt.xlabel(xlabel, fontsize=15)\n",
    "    plt.ylabel(ylabel, fontsize=15)\n",
    "    ax=plt.gca()\n",
    "    ax.set_facecolor((0.8,1,1))\n",
    "    ax.axhline(0, color='black', lw=2)\n",
    "    ax.axvline(0, color='black', lw=2)\n",
    "    ax.xaxis.set_major_locator(plt.MultipleLocator(np.pi / 2))\n",
    "    ax.xaxis.set_minor_locator(plt.MultipleLocator(np.pi / 12))\n",
    "    ax.xaxis.set_major_formatter(plt.FuncFormatter(multiple_formatter()))\n",
    "    ax.yaxis.set_major_locator(plt.MultipleLocator(np.pi / 2))\n",
    "    ax.yaxis.set_minor_locator(plt.MultipleLocator(np.pi / 12))\n",
    "    ax.yaxis.set_major_formatter(plt.FuncFormatter(multiple_formatter()))\n",
    "    plt.xticks(fontsize =15)\n",
    "    plt.yticks(fontsize =15)\n",
    "    return"
   ]
  },
  {
   "cell_type": "markdown",
   "metadata": {},
   "source": [
    "## Introduction\n",
    "Bell states or entangled states are a very common idea in the realm of quantum computing. The idea behind a bell state is that the measurement of one qubit is perfectly correlated to the measurement of the other. So while a partial measurement of only one qubit would lead the observer to believe that the state is not pure (the quantum computing equivalent of coherence in optics), the state is infact pure when a correlated measurement of the two qubits is carried out at the same time. This has interesting applications such as quantum teleportation, superdense coding and quantum cryptography. While bell states have been studied thoroughly in the field of quantum computing, there are not many studies that explore the classical analogue of bell states. In this project, we have tried to explore the this topic mainly along the ideas presented in reference [[1](#ref-1)]. \n",
    "<p> The main idea we are trying to explore is that it is possible to couple two degrees of freedom (DOFs) of a beam of light, in the context of our discussion, polarisation and parity, such that when a measurement of only one DOF is made (independent of the other), it is possible for the beam to appear partially coherent or even completely incoherent, while the the beam is infact completely coherent (in the sense that there is nothing 'random' about the beam). This hidden coupling can be made evident by actually performing a correlated bell state measurement between the two DOFs, and also allows us to distinguish true randomness (partial coherence) from entanglement. It is also possible to look at coherence as a resource that can be shared among different DOFs, for example, we can start with a completely unpolarised beam which is parity coherent, and convert it to a beam which is perfectly polarised but parity incoherent. Further, we have tried to explore the relevance of this scheme to a classical implementation of a quantum computer, which can infact be shown to be universal, but is limited in the fact that the scheme is hard to generalise to a large number of qubits. </p> "
   ]
  },
  {
   "cell_type": "markdown",
   "metadata": {},
   "source": [
    "## 1. Polarization & Spatial Parity\n",
    "\n",
    "In the paper [[1](#ref-1)] the experiments which were done were made using of an optical beam model with two binary degrees of freedom, specifically polarization and spatial parity along the $x$ direction (vertically upwards) respectively of a quasi monochromatic source, where the beam is travelling in the $z$ direction.<br>\n",
    "For the spatial parity, in one dimension the beams are of form $E(x) = E_e\\psi_e(x)+E_o\\psi_o(x)$ where $\\psi_e(x)$ is an even function and $\\psi_o(x) = \\text{sgn}(x)\\psi_e(x)$ hence is an odd function. We give this beam a vector representation called $\\mathbf{J}_\\text{par} = [E_e\\text{ } E_o]^T$. Spatial parity is manipulated using a spatial light modulator (SLM) which we describe in the experimental apparatus section. Along with the horizontal (H) and vertical components of polarization taken into account we describe the polarization-parity jones vector as $\\mathbf{J} = [E_\\text{He}\\text{ }E_\\text{Ho}\\text{ }E_\\text{Ve}\\text{ }E_\\text{Vo}]^T$.<br>\n",
    "We then describe the properties of this coherence using a $4\\times4$ matrix which is $\\mathbf{G} = \\langle\\mathbf{J}^{*}\\mathbf{J}^\\text{T}\\rangle$. Taking partial trace along $\\mathbf{G}$ would give us either $\\mathbf{G}_\\text{pol}$ or $\\mathbf{G}_\\text{par}$ on taking trace along parity or polarization respectively. We define a degree of polarization/parity using $D_{\\text{pol}}$($D_\\text{par}$) which quantifies the apparent coherence of each DoF when the other DoF is unresolved. Further an overall coherence $S$ is defined using the beam's linear entropy [[2](#ref-2)] as follows.\n",
    "The definition of linear entropy comes from the motivation of von Neumann Entropy. For a quantum mechanical system with a density matrix $\\rho$ this is defined as $S_v = \\text{Tr}(-\\rho\\ln(\\rho)) = -\\langle\\ln(\\rho)\\rangle$. The linear entropy $S_L$ is a lower approximation to $S_v$ which comes from expanding the leading term in the expansion of $\\rho\\ln\\rho$ which becomes $\\rho-\\rho^2$ approximately when $\\rho$ is close to $I$ (using taylor expansion) and taking trace this gives us the definition $S_L = \\text{Tr}(\\rho) - \\text{Tr}(\\rho^2)$ and by definition of the density matrix we have trace of $\\rho$ equal to 1 which gives us $S_L = 1 - \\text{Tr}(\\rho^2)$. This is a non normalized quantity so this is normalized by multiplying it by $\\frac{d}{d-1}$ which here is $4/3$ since our system has four dimensions. The definition of our $\\mathbf{G}$ matrix is isomorphic to the definition of a density matrix of a two qubit system keeping the Jones vector $\\mathbf{J}$ as the state of this two qubit system. Hence we have \n",
    "\\begin{equation}\\label{eq:1.1}\\tag{1.1}S = 1-S_L = 1 - \\frac{4}{3} + \\frac{4}{3}\\text{Tr}(\\mathbf{G}^2) = \\frac{4}{3}\\left(\\text{Tr}\\{\\mathbf{G}^2\\}-\\frac{1}{4}\\right)\\end{equation}\n",
    "We know that for normalized states we have that $\\frac{1}{d}\\leq$ Tr$(\\rho^2) \\leq 1$ and equals one only for a pure state and $1/d$ for completely mixed state. We can similarly draw a parallel here to seeing that $S=1$ happens only for coherent (pure) states and is 0 when completely incoherent. An important note to make here is that applying a unitary matrix $U$ (so $U^{*}U^{T} = I$) which is not time dependent on the Jones vector would not change our value of $S$ since on acting of a unitary we would have $\\mathbf{G}' = U^{*}\\mathbf{G}U^{T}$ and so $\\mathbf{G}'^2 = U^{*}\\mathbf{G}^2U^{T}$ and this has same trace as $\\mathbf{G}^2$ since trace is invariant under unitary transforms.\n",
    "\n",
    "The paper here explores the properties of a beam where these two DoFs are infact coupled or entagled. One can start with a coherent linearly polarized beam at $45^\\circ$ with even polarity which would be $\\mathbf{J} = (1/\\sqrt{2})[\\text{1 0 1 0}]^T$ which can clearly be factored into a direct product of $\\mathbf{J}_{\\text{pol}}\\otimes\\mathbf{J}_\\text{par}$ and so $D_\\text{pol} = D_\\text{par} = 1$. However on passing this beam through a polarization sensitive SLM which introduces a phase of $\\varphi/2\\sin(\\varphi)$ only to the horizontal polarity component and none to the vertical. We can think of this analoguos to a controlled $R_x(\\varphi)$ operation from the polarization qubit to parity qubit which acts when polarization is $|0\\rangle$ (called H here for polarization). This puts the state to an entagled state $\\mathbf{J} = (1/\\sqrt{2})[\\cos(\\varphi/2)\\text{ }\\iota\\sin(\\varphi/2)\\text{ 1 0}]^T$ which is no longer factorizable and shows that the apparant degree of coherence of the individual DoFs are no longer equal to 1 unless $\\varphi=0$ and infact equal zero when $\\varphi=\\pi$. However we know that this state is still coherent on an overall, the only issue is that seeing the partial trace of $\\mathbf{G}$ along the respective DoF provide an incomplete picture of the state hence leading to a conclusion that the coherence is absent. The paper proceeds to make use of the Bell's measure (see [Appendix A](#Appendix-A:-The-EPR-paradox-and-Bell's-inequalities)) to quantify this entanglement which is the cause of this apparent coherence deficit."
   ]
  },
  {
   "cell_type": "markdown",
   "metadata": {},
   "source": [
    "## 2. Experimental Apparatus\n",
    "\n",
    "For the experimental setup, we are using various separate components, which we will comment on one by one before seeing how they are arranged together for the experiment in this paper. We can develop a matrix operator formalism based on how these elements affect the vector $\\mathbf{J} = [E_{He} \\ E_{Ho} \\ E_{Ve} \\ E_{Vo}]^T$. Suppoe we have a device that modifies the Jones vector of a beam in the following way - $\\mathbf{J_{new}} = \\mathbf{A}\\mathbf{J_{old}}$. Then, the corresponding $\\mathbf{G} = \\langle \\mathbf{J^*J^T}\\rangle$ tranforms as $\\mathbf{G_{new} = A^*G_{old}A^T}$. This is because, assuming that the effect of the device, encoded in matrix $\\mathbf{A}$  is time independent, the matrix can just move inside the time average. And as we will see below, for all the devices used in this experiment, their effect is time invariant.\n",
    "\n",
    "\n",
    "## Polarisation only devices\n",
    "\n",
    "### 2.1 Waveplates\n",
    "<p>The first element we will look at is a half-wave plate. Suppose we have a half-wave plate whose axis is inclined at angle $\\theta$ to the $+x$ axis. Then, it will add a phase of $\\pi$ to the component of the amplitude along its axis, with respect to the component perpendicular to the axis. In other words, the component of E field along the axis will be effectively multiplied by $e^{i\\pi} = (-1)$.</p> \n",
    "<p> Suppose the in-going beam is described by a polarisation-only Jones vector $J_{pol} = [E_x \\ E_y]^T$. Then the (complex) amplitude is $E_x\\hat{x} + E_y\\hat{y} = (E_{x}\\cos\\theta + E_y\\sin\\theta)\\hat{\\theta_{\\parallel}} + (E_{x}\\sin\\theta - E_y\\cos\\theta) \\hat{\\theta_{\\perp}}$. So after adding a phase multiplier factor of $e^{i\\pi} = -1$ to the $\\hat{\\theta_{\\parallel}}$ component, the new complex amplitude is $$(-E_{x}\\cos\\theta - E_y\\sin\\theta)\\hat{\\theta_{\\parallel}} +  (E_{x}\\sin\\theta - E_y\\cos\\theta) \\hat{\\theta_{\\perp}} = (\\cos\\theta \\ (-E_{x}\\cos\\theta - E_y\\sin\\theta)+ \\sin\\theta(E_{x}\\sin\\theta - E_y\\cos\\theta))\\hat{x} + (\\sin\\theta \\ (-E_{x}\\cos\\theta - E_y\\sin\\theta)- \\cos\\theta(E_{x}\\sin\\theta - E_y\\cos\\theta))\\hat{y} \\\\ = [E_x(\\sin^2\\theta-\\cos^2\\theta) - E_y(2\\sin\\theta\\cos\\theta) \\qquad{} -E_x(2\\sin\\theta\\cos\\theta)  Ey(\\cos^2\\theta -\\sin^2\\theta)] \\\\ =[-E_x\\cos(2\\theta) - E_y\\sin(2\\theta) \\qquad{} -E_x\\sin(2\\theta)+E_y\\cos(2\\theta)]$$\n",
    "    \n",
    "We can write this more compactly in a 2x2 matrix - \n",
    "$$\\begin{pmatrix}-\\cos(2\\theta) & -\\sin(2\\theta) \\\\ -\\sin(2\\theta) & \\cos(2\\theta)\\end{pmatrix}\\begin{pmatrix}E_x \\\\ E_y\\end{pmatrix}_{old} = \\begin{pmatrix}E_x \\\\ E_y\\end{pmatrix}_{new}$$\n",
    "<p>When we are dealing with our 4 dimensional Jones vector, to generate the corresponding 4x4 HWP operator matrix, we can propose a 4x4 operator matrix. But before we spell it out, a few changes in notation are in order, to follow the same general notation as the paper. </p>\n",
    "<ol>\n",
    "    <li>The physical rotation angle used is $\\frac{\\theta}{4}$ so that the matrix entries are in terms of $\\frac{\\theta}{2}$. This corresponds to a quantum computing operator $R_y(\\theta) \\cdot Z$.</li>\n",
    "    <li>The axis, with respect to which the angle $\\frac{\\theta}{2}$ is to be measured is not specified in the paper. Two reasonable guesses are either the X axis (upwards vertical, as shown in the figure in the paper) or the horizontal axis (-y axis in the paper). In either case, we get the same matrix except with a global phase factor of $e^{i\\pi} = -1$. As we will see shortly, global phases do not affect the final calculation.</li>\n",
    "</ol>\n",
    "Since our Jones vector is $J = J_{pol}\\otimes J_{par}$, and our HWP does not affect the parity DOF at all (in other words, acts like an identity transformation), we can write it as a tensor product - \n",
    "$$A_{HWP}\\left(\\frac{\\theta}{2}\\right) = \\begin{pmatrix}-\\cos(\\theta/2) & -\\sin(\\theta/2) \\\\ -\\sin(\\theta/2) & cos(\\theta/2)\\end{pmatrix}\\otimes\\begin{pmatrix} 1&0 \\\\ 0&1\\end{pmatrix}=\\begin{pmatrix}\n",
    "-\\cos\\frac{\\theta}{2} & 0 & -\\sin\\frac{\\theta}{2} & 0 \\\\ \n",
    "0 &-\\cos\\frac{\\theta}{2}&0&-\\sin\\frac{\\theta}{2} \\\\\n",
    "-\\sin\\frac{\\theta}{2} &0 & \\cos\\frac{\\theta}{2} & 0 \\\\\n",
    "0 & -\\sin\\frac{\\theta}{2} &0 & \\cos\\frac{\\theta}{2}\n",
    "\\end{pmatrix} $$\n",
    "\n",
    "A more generic derivation that accounts for a waveplate of any arbitrary phase, and any arbitrary rotation is given in reference [[9](#ref-9)]\n",
    "\n",
    "### 2.2 Polarising Beam Splitter\n",
    "\n",
    "This is an element that separates out the H and V polarised beams from the input beam. There is no operator matrix associated with it, it simply separates out the two beams, without affecting parity at all. One point to note here - as we describe below, a mirror will add a factor of (-1) to odd modes, so the component which gets reflected will pick up that factor here as well. We can either correct this with a second reflection of that beam from a $45^\\circ$ mirror to correct it or not do anything at all about it (in the experimental setup in the paper seen as a whole, we can see that it won't matter the odd and even beams will be switched, but that is about it.)\n",
    "\n",
    "## Parity Sensitive Devices\n",
    "Most of the discussion for parity sensitive devices is largely based on reference [[10](#ref-10)].\n",
    "\n",
    "### 2.3 Dove Prism\n",
    "<p> We know that a mirror inverts left-right. So if we put an odd beam through the mirror, it will pick up a factor of (-1) from the + and - axes being inverted (i.e. -x being mapped to x). </p>\n",
    "<p> The operator (parity only, polarisation plays no role) associated to a mirror is $$\\begin{pmatrix}-1 & 0 \\\\ 0 & 1\\end{pmatrix}\\begin{pmatrix}e \\\\ o \\end{pmatrix}_{old} = \\begin{pmatrix}e \\\\ o \\end{pmatrix}_{new}$$ An additional -1 factor is added as a global phase, because of the phase change on reflecting.</p>\n",
    "<img width=\"40%\" src='Mirror_and_Parity.png'>\n",
    "One thing about mirrors which is particularly inconvenient is that the incoming and outgoing beam does not travel in the same direction, so we cannot conveniently include a mirror in the arm of a Mach-Zehnder interferometer easily, for example. To make our life simple, we use a dove prism, which is a trapezoid shaped prism, that the light beam enters, undergoes TIR on one surface of it and exits travelling in the same direction as incoming beam. It performs the same matrix operation as a mirror, but is more convenient to use. One aspect to be careful of (that can be easily overcome) is that there is a phase change because the beam travels through the glass/ material of the prism, but that can be easily dealt with by using a compensator cell in the other arm. Another important aspect of a Dove prism - since the wave incidence medium is denser and the transmission medium is rarer (unlike a regular mirror), there is no addition $\\pi$ phase of reflection, and the operator matrix is simply $$\\begin{pmatrix}1 & 0 \\\\ 0 & -1\\end{pmatrix}\\begin{pmatrix}e \\\\ o \\end{pmatrix}_{old} = \\begin{pmatrix}e \\\\ o \\end{pmatrix}_{new}$$\n",
    "<img width = \"60%\" src='Dove_prism.png'>\n",
    "\n",
    "### 2.4 Mach Zehnder Interferometer\n",
    "<img width = \"60%\" src='MZI.png'><center>A schematic of a MZI, self drawn</center>\n",
    "<p> In this arrangement, the beam splitters are polarisation insensitive, so there is no polarisation discrimination. First let us consider a MZI with no dove prism (and no compensation cell). Suppose the only input beam is given from In1. Then, the left beam suffers two rarer-denser reflections and the same is the case with the right beam, as they come out from Out2. Hence, we have constructive interference at Out2. Whereas, as Out1, the left beam still has same phase (the reflection at exit beam splitter is denser-rarer, so no phase change) while the right beam has one reflection only, so the interference is destructive.</p>\n",
    "<p>With a dove prism in place, the odd mode undergoes one extra inversion in the left path, so its constructive/destructive outputs are now exactly swapped. As a result, if we send in a superposition of odd and even modes into In1, the odd mode comes out from Out1, while the even mode comes out from Out2 (just as if no prism were there). Conversely, if we send in the beam from In2, the odd mode will come out from Out2 and the even mode from Out1.</p>\n",
    "\n",
    "Hence we can think of two uses of this MZI arrangement - \n",
    "<ol> <li> To split a superposed beam into its odd and even components, send this beam in from one of the inputs only and the odd and even parity modes are separated.</li>\n",
    "    <li> If we have a odd parity beam and an even parity beam, we can add them (make a superposed state) by sending in the odd beam in In1, the even beam from In2, and then getting the superposed beam out, from Out1.\n",
    "       </ol>\n",
    "       In the experiment performed in the paper, the authors concern themselves only with the first use.\n",
    "       \n",
    "### 2.5 SLMs and PS-SLMs \n",
    "A SLM is a spatial light modulator. In general, this term refers to any device that modifies the beam in a space dependent fashion. In the context of this experiment, the SLM they use (Hamamatsu X10468-02) is an array of liquid crystal pixels, each of whose refractive index can be controlled independently by applying a voltage, in such a way, that we add a desired phase to the light passing through each pixel, and the phase in each pixel is independent of the others.\n",
    "<p>Suppose we send a beam through a SLM which adds a $x$-dependant phase $\\frac{\\phi}{2}sgn(x)$ to the electric field (global phase does not matter here, by the way. Only relative phase/ difference in phase between top and bottom half being $\\phi$ is what matters.) Then, we are effectively multiplying the old profile $E_{old}(x)$ by $e^{\\iota\\frac{\\phi}{2}sgn(x)}$, to get new profile $E_{new}(x)$. Observe that $e^{\\iota\\frac{\\phi}{2}sgn(x)} = cos(\\frac{\\phi}{2})+ \\iota sgn(x)sin(\\frac{\\phi}{2})$. So, with $E_{old}(x) = e(x)+o(x)$, we can get $E_{new}(x) = (e(x)+o(x))(cos(\\phi/2)+\\iota sgn(x)sin(\\phi/2)) = [cos(\\phi/2)e(x) + \\iota sin(\\phi/2) sgn(x)o(x)] + [cos(\\phi/2)o(x) + \\iota sin(\\phi/2) sgn(x)e(x)]$. </p>\n",
    "<p>Observe that the first term in the new expression is even while the second term is odd, which means that they are the new even and odd decomposition (which is unique). We can re-express this as $\\begin{pmatrix}cos(\\phi/2) & \\iota sin(\\phi/2) \\\\ \\iota sin(\\phi/2) & cos(\\phi/2) \\end{pmatrix}\\begin{pmatrix}e_{old} \\\\ o_{old}\\end{pmatrix} = \\begin{pmatrix}e_{new} \\\\ o_{new}\\end{pmatrix}$ to make it look more like the transformation caused by a half wave plate, but for the parity DOF. In particular, observe that if we set $\\phi = \\pi$ then the matrix shown looks like a Pauli $\\sigma_x$ matrix (times the constant $\\iota$)- it swaps the $o$ and $e$ bases.\n",
    "\n",
    "Further, to obtain the 4x4 transformation matrix, we again do a tensor product - \n",
    "$$A_{par}\\left(\\frac{\\phi}{2}\\right) = \\begin{pmatrix}1 & 0 \\\\ 0 & 1\\end{pmatrix}\\otimes\\begin{pmatrix} \\cos(\\phi/2)&i\\sin(\\phi/2) \\\\ i\\sin(\\phi/2) &\\cos(\\phi/2)\\end{pmatrix}=\\begin{pmatrix}\n",
    "\\cos(\\phi/2)&i\\sin(\\phi/2) & 0& 0\\\\ i\\sin(\\phi/2) &\\cos(\\phi/2) &0 & 0\\\\\n",
    "0&0&\\cos(\\phi/2)&i\\sin(\\phi/2) \\\\ 0&0&i\\sin(\\phi/2) &\\cos(\\phi/2)\n",
    "\\end{pmatrix} $$\n",
    "\n",
    "Again, the rationale is that since there is no polarisation effect, that part of the first matrix is identity.\n",
    "\n",
    "The liquid crystals can be acted on by a electric field in two directions, so that the refractive index of a single pixel itself is non-isotropic. This leads to polarisation-sensitive behaviour of the pixels. For example, if we take a SLM that adds a phase of $\\frac{\\phi}{2}sgn(x)$ only to the H-polarisation while leaving the V polarisation unchanged. In this case, we can simply modify the above operator matrix to look like $$A_{PS-SLM}\\left(\\frac{\\phi}{2}\\right) =\\begin{pmatrix}\n",
    "\\cos(\\phi/2)&i\\sin(\\phi/2) & 0& 0\\\\ i\\sin(\\phi/2) &\\cos(\\phi/2) &0 & 0\\\\\n",
    "0&0&1&0 \\\\ 0&0&0 &1\n",
    "\\end{pmatrix} $$"
   ]
  },
  {
   "cell_type": "markdown",
   "metadata": {},
   "source": [
    "## General Observations About the operator matrices\n",
    "We can see the following properties about the matrix formalism we have developed.\n",
    "<ol><li> The matrix (operator) for any device is unique only up to global phase. In particular, the phase will depend on the optical path length (refractive index $\\times$ physical path length) within the device, and can always be corrected by using an appropriate compensator cell. But note that all these different-phase $A$ matrices will still lead to the same value of $G_{out} = A^*G_{in}A^T$, because if $A_1 = A_2e^{\\iota \\psi}$, then $G_1 = (e^{-\\iota \\psi}A_2^*)G_{in}(e^{\\iota \\psi}A_2^T) = A_2^*G_{in}A_2^T = G_2$</li>\n",
    "    <li> The matrices are all unitary. $AA^\\dagger = A^\\dagger A = \\mathbb{I}$. This is expected, because if we take a completely incoherent beam in phase as well as parity, then no device will be able to change it, and the $G$ matrix for a completely incoherent mode is a scalar multiple of identity.</li>\n",
    "    <li> The matrices corresponding to a rotated HWP and to a polarisation-insensitive SLM commute. This is expected because each of these devices is expected to modify only one DOF.</li>\n",
    "    </ol>"
   ]
  },
  {
   "cell_type": "code",
   "execution_count": 7,
   "metadata": {},
   "outputs": [],
   "source": [
    "P,t,p,ta,pa = symbols('P theta varphi theta_a varphi_a',real=True)\n",
    "A_HWP = Matrix([[-cos(ta/2),0,-sin(ta/2),0],[0,-cos(ta/2),0,-sin(ta/2)],[-sin(ta/2),0,cos(ta/2),0],\n",
    "              [0,-sin(ta/2),0,cos(ta/2)]])\n",
    "A_SLM = Matrix([[cos(pa/2),I*sin(pa/2),0,0],[I*sin(pa/2),cos(pa/2),0,0],[0,0,cos(pa/2),I*sin(pa/2)],\n",
    "             [0,0,I*sin(pa/2),cos(pa/2)]])\n",
    "A_PSSLM = Matrix([[cos(pa/2),I*sin(pa/2),0,0],[I*sin(pa/2),cos(pa/2),0,0],[0,0,1,0],\n",
    "             [0,0,0,1]]) "
   ]
  },
  {
   "cell_type": "code",
   "execution_count": 8,
   "metadata": {},
   "outputs": [
    {
     "data": {
      "text/latex": [
       "$\\displaystyle \\left[\\begin{matrix}1 & 0 & 0 & 0\\\\0 & 1 & 0 & 0\\\\0 & 0 & 1 & 0\\\\0 & 0 & 0 & 1\\end{matrix}\\right]$"
      ],
      "text/plain": [
       "Matrix([\n",
       "[1, 0, 0, 0],\n",
       "[0, 1, 0, 0],\n",
       "[0, 0, 1, 0],\n",
       "[0, 0, 0, 1]])"
      ]
     },
     "execution_count": 8,
     "metadata": {},
     "output_type": "execute_result"
    }
   ],
   "source": [
    "trigsimp(A_SLM*conjugate(A_SLM.T)) #A_SLM is unitary"
   ]
  },
  {
   "cell_type": "code",
   "execution_count": 9,
   "metadata": {},
   "outputs": [
    {
     "data": {
      "text/latex": [
       "$\\displaystyle \\left[\\begin{matrix}1 & 0 & 0 & 0\\\\0 & 1 & 0 & 0\\\\0 & 0 & 1 & 0\\\\0 & 0 & 0 & 1\\end{matrix}\\right]$"
      ],
      "text/plain": [
       "Matrix([\n",
       "[1, 0, 0, 0],\n",
       "[0, 1, 0, 0],\n",
       "[0, 0, 1, 0],\n",
       "[0, 0, 0, 1]])"
      ]
     },
     "execution_count": 9,
     "metadata": {},
     "output_type": "execute_result"
    }
   ],
   "source": [
    "trigsimp(A_PSSLM*conjugate(A_PSSLM.T)) #A_PSSLM is unitary"
   ]
  },
  {
   "cell_type": "code",
   "execution_count": 10,
   "metadata": {},
   "outputs": [
    {
     "data": {
      "text/latex": [
       "$\\displaystyle \\left[\\begin{matrix}1 & 0 & 0 & 0\\\\0 & 1 & 0 & 0\\\\0 & 0 & 1 & 0\\\\0 & 0 & 0 & 1\\end{matrix}\\right]$"
      ],
      "text/plain": [
       "Matrix([\n",
       "[1, 0, 0, 0],\n",
       "[0, 1, 0, 0],\n",
       "[0, 0, 1, 0],\n",
       "[0, 0, 0, 1]])"
      ]
     },
     "execution_count": 10,
     "metadata": {},
     "output_type": "execute_result"
    }
   ],
   "source": [
    "trigsimp(A_HWP*conjugate(A_HWP.T)) #A_HWP is unitary"
   ]
  },
  {
   "cell_type": "code",
   "execution_count": 11,
   "metadata": {},
   "outputs": [
    {
     "data": {
      "text/latex": [
       "$\\displaystyle \\left[\\begin{matrix}0 & 0 & 0 & 0\\\\0 & 0 & 0 & 0\\\\0 & 0 & 0 & 0\\\\0 & 0 & 0 & 0\\end{matrix}\\right]$"
      ],
      "text/plain": [
       "Matrix([\n",
       "[0, 0, 0, 0],\n",
       "[0, 0, 0, 0],\n",
       "[0, 0, 0, 0],\n",
       "[0, 0, 0, 0]])"
      ]
     },
     "execution_count": 11,
     "metadata": {},
     "output_type": "execute_result"
    }
   ],
   "source": [
    "trigsimp(A_HWP*A_SLM - A_SLM*A_HWP) #A_SLM and A_HWP commute"
   ]
  },
  {
   "cell_type": "markdown",
   "metadata": {},
   "source": [
    "## Proposal for a Parity-Sensitive Polarisation Modifier\n",
    "In the main paper [[1](#ref-1)], one of the loose ends that the authors do not seem to have addressed is that polarity seems to have a special place in this qubits scheme, in the sense that controlled gates can be made only with polarity as a control qubit (no parity controlled gates/devices are proposed). Here, we wish to present the design of a parity controlled device, that can be used to implement the controlled version of any possible (ordinarily) parity-insensitive device. \n",
    "<p>The main idea is to use the second use of the MZI. Suppose you are given an input beam and you want to perform a controlled-HWP operation on that (we have already seen uncontrolled HWP earlier). Then, the idea is to split up the input beam into the odd and even components with an MZI and then recombine them with a second MZI. In this way, a parity-controlled operation can be performed. The below image shows a schematic for a parity-sensitive HWP.</p>\n",
    "<img width = \"40%\" src='Parity_sensitive_HWP.png'>\n",
    "<p> An important use of this idea will be to bring the line of thought presented in the paper to a logical conclusion - suppose we start with a purely even mode but completely unpolarised beam. Then, by coupling the parity to the polarisation, we can generate a coupled-DOF beam. To convert this beam to a completely polarised, parity-incoherent beam, we would need to implement a parity-controlled polarisation operation, which this section proposes a theoretical solution to accomplishing. One major issue still here, is that stacking two MZI's could be a challenge, in view of the difficulty of alignment.This might be fixable by using waveguides </p>\n",
    "<p> Note that in the above drawn diagram, there should be an appropriate compensator cell in the upper arm which compensates for the phase added to the slow polarisation by the HWP.</p>"
   ]
  },
  {
   "cell_type": "markdown",
   "metadata": {},
   "source": [
    "## The Three Experiments\n",
    "Below, we give a brief account of the setups for the three experiments\n",
    "### Experiment A\n",
    "In experiment A, the authors of [[1](#ref-1)] use a laser source with a perfectly even amplitude function and perfectly linearly polarised in a direction $45^\\circ$ to the x - axis. Then it is passed through a PS-SLM inducing a phase $\\frac{\\phi}{2}sgn(x)$ only to the H-polarisation, but not to the V-polarisation. This is a classical bell state where polarisation and parity are coupled, and in the case where $\\phi = \\pi$ radians, both DOFs appear completely incoherent in an uncoupled measurement.\n",
    "\n",
    "### Experiment B\n",
    "In this experiment, the even mode $45^\\circ$ laser is first passed through a random rotator which makes the beam completely polarisation incoherent (unpolarised) while not affecting the parity coherence. Now, it is again passed through a PS-SLM like in experiment A. Thus, the parity DOF is coupled to the polarisation DOF, which is incoherent. With a complete coupling ($\\phi = \\pi$ radians) the parity as well as polarisation appear completely incoherent by themselves, while we expect the beam to infact be partially coherent, since it was parity coherent to begin with. This is again revealed to be true by a Bell-state measurement.\n",
    "\n",
    "### Experiment C\n",
    "In this experiment we pass the even mode $45^\\circ$ laser through a PS-SLM, but this time the PS-SLM is probabilistic, in the sense that it couples the parity to polarisation with probability $P$ and does not couple them, with a probability $1-P$ (i.e. the beam is unaffected). In this case, the PS-SLM itself contributes to the incoherence (partial) of the beam because it introduces an element of randomness. "
   ]
  },
  {
   "cell_type": "markdown",
   "metadata": {},
   "source": [
    "## 3. Polarization and Spatial Parity analysis\n",
    "### 3.1 The correlation function\n",
    "We will now proceed to define a normalized correlation function $C(\\theta_a,\\phi_a)$ which we will use for defining our bell's measure $B$. The analyzing done in the paper does so with the following experimental setup shown below (images taken from [[1](#ref-1)])\n",
    "<table>\n",
    "    <tr>\n",
    "        <td><img width=\"90%\"src=\"fig1b-og.png\"/><center><b>Fig: 3.1</b></center></td>\n",
    "        <td><img width=\"90%\"src=\"fig1c-og.png\"/><center><b>Fig: 3.2</b></center></td>\n",
    "    </tr>\n",
    "</table>\n",
    "[Section 2](#2.-Experimental-Apparatus) explains the functioning principle for each of the apparatus in the above figure. What the setup essentially does in fig: 3.1.1 is for analyzing the DoFs seperately. The polarization is analyzed in a linear basis rotated by $\\theta_a$ by action of the half wave plate and similarly the parity is analyzed by analyzing over a basis rotated by $\\varphi_a$. The measured intensities are normalized and kept as probabilities in a way that $P_H + P_V = P_o + P_e = 1$. In fig: 3.2 combined polarization-parity measurements are done by essentially using the setup of fig: 3.1 but by concatenating the different DoF analysis stages. If we call the input coherency matrix as $\\mathbf{G}_{in}$ then the resulting coherency matrix after the transformations on which measurement is being done is \n",
    "\\begin{equation}\\label{eq:3.1}\\tag{3.1}\\mathbf{G}_{out} = A_{SLM}^*A_{HWP}^*\\mathbf{G}_{in}A_{HWP}^TA_{SLM}^T\\end{equation}\n",
    "As already shown in section 1, our definition of overall coherence in eq: 1.1 is invariant under applying these unitaries on the state. The following is the definition we give to the correlation function in the equation below. Symmetric values are assignmed to the coefficeints $c_\\text{pol} = \\pm1$ ($c_\\text{par} = \\pm1$) to the dichotomic H (e) and V (o) probability outcomes. \n",
    "\\begin{equation}\\label{eq:3.2}\\tag{3.2}C(\\theta_a,\\varphi_a) = \\sum c_\\text{pol}c_\\text{par}P_\\text{pol,par} = P_\\text{He} - P_\\text{H0} - P_\\text{Ve} + P_\\text{Vo}\\end{equation}\n",
    "For the uncoupled case this can be factorized into $C(\\theta_1,\\varphi_a) = C_\\text{pol}(\\theta_a)C_\\text{par}(\\phi_a)$ and here we would have $C_\\text{pol}(\\theta_a) = P_H - P_V$ and $C_\\text{par} = P_e - P_o$. Proceeding this they use th CSHS formulation of the Bell's measure (see Appendix A) to write \n",
    "\\begin{equation}\\label{eq:3.3}\\tag{3.3}B = |C(\\theta_a,\\varphi_a) + C(\\theta_a,\\varphi_a') + C(\\theta_a',\\varphi_a) - C(\\theta_a',\\varphi_a')|\\end{equation}\n",
    "Now we have an upper bound on $B_{max}$ which is the maximum value this measure takes over these four variables and this is what the paper from this point refers to as the Bell's measure. This bound is called the Tsirelon's bound and is $B_{max}\\leq 2\\sqrt{2}$ and in the classical case (where all observables commute) it is actually bounded above by 2.\n",
    "\n",
    "We will now prove that any coherent beam has $D_\\text{pol} = D_\\text{par}$. Any coherent beam here would be isomorphic to a pure two qubit state. For pure states, if the state is $|\\psi\\rangle$, then the density matrix is $\\rho = |\\psi\\rangle\\langle\\psi|$. We can represent this in a Schmidt form where $|\\psi\\rangle = \\sum_ig_i|u_i\\rangle\\otimes|v_i\\rangle$ which can be done for any arbitrary pure state so for the 4 dimensional Jones vector here we only have two variables and so without loss of generality we can choose to write our jones vector as $\\mathbf{J} = [\\mu_1\\text{ 0 0 }\\mu_2]^T$ and for this state we would have that\n",
    "\\begin{equation}\\label{eq:3.4}\\tag{3.4}\\mathbf{G}_\\text{pol} = \\mathbf{G}_\\text{par} = \\begin{pmatrix}\\mu_1^2 & 0\\\\0 & \\mu_2^2\\end{pmatrix}\\end{equation}\n",
    "This leads to $D_\\text{pol} = D_\\text{par} = |\\mu_1^2-\\mu_2^2|$ which is essentially the difference the eigenvalues of the respective matrix. Note that the above equation would be true in the basis where we can write the Schmidt decomposition of the Jones vector but since this is a coherent state this basis can be reached by applying unitaries that do not do any coupling. Also for coherent beams the paper claims that we would have $4D_\\text{par}^2+B_{max}^2 = 4D_\\text{pol}^2+B_{max}^2 = 8$ which becomes $4D_\\text{pol}^2+B_{max}^2\\leq 8$ and $4D_\\text{par}^2+B_{max}^2\\leq 8$ for partially coherent beams hence they define a new degree of coherence reffered to as the partial degree of coherence\n",
    "\\begin{equation}S_\\text{pol} = \\dfrac{D_\\text{pol}^2}{2} + \\left(\\dfrac{B_{max}}{2\\sqrt{2}}\\right)^2\\text{, }S_\\text{par} = \\dfrac{D_\\text{par}^2}{2} + \\left(\\dfrac{B_{max}}{2\\sqrt{2}}\\right)^2\\end{equation}\n",
    "One important thing to note is that the accessible degrees of coherence written above are invariant under unitary coupling between the two DoFs. We can see this as a sort of sharing of coherence between apparent coherence of an individual DoF ($D_\\text{pol}$ and $D_\\text{par}$) and the coupling between them ($B_{max}$). For a fully coherent beam we will always have $S = S_\\text{pol} = S_\\text{par} = 1$ regardless of coupling between the DoFs. This also demostrates how we can make coherence essentially migrate from form of coupling to apparent coherence of individual DoFs by simply using unitary transforms.\n"
   ]
  },
  {
   "cell_type": "markdown",
   "metadata": {},
   "source": [
    "## 4. Theoretical analysis of the three experiments\n",
    "The paper [[1](#ref-1)] describes three experiments A, B and C. Here we will derive the theoretical expressions they use for fitting their data using the SymPy package."
   ]
  },
  {
   "cell_type": "code",
   "execution_count": 12,
   "metadata": {},
   "outputs": [],
   "source": [
    "def trace_G(G): #A trace function for just 4x4 G matrices\n",
    "    return simplify(G[0,0] + G[1,1] + G[2,2] + G[3,3])\n",
    "def corr_prob(G): #Returns the value I_He - I_Ho - I_Ve +I_Vo from given G matrix\n",
    "    return simplify(G[0,0] - G[1,1] - G[2,2] + G[3,3])\n",
    "\n",
    "def par_tr_G_pol(G): #returns the partial trace of G for giving G_pol\n",
    "    return simplify(Matrix([[G[0,0]+G[1,1],G[0,2]+G[1,3]],[G[2,0]+G[3,1],G[2,2]+G[3,3]]]))\n",
    "\n",
    "def par_tr_G_par(G): #returns the partial trace of G for giving G_par\n",
    "    return Matrix([[G[0,0]+G[2,2],G[0,1]+G[2,3]],[G[1,0]+G[3,2],G[1,1]+G[3,3]]])\n",
    "\n",
    "def app_coh(G): #Returns apparent degree of coherence for a 2x2 G matrix\n",
    "    return simplify(sqrt(1-4*simplify(Determinant(G))/(simplify(Trace(G))**2)))\n",
    "\n",
    "def norm_grad(B,syms):\n",
    "    c = 0\n",
    "    for i in syms:\n",
    "        c += simplify(B.diff(i)**2)\n",
    "    return simplify(c)"
   ]
  },
  {
   "cell_type": "markdown",
   "metadata": {},
   "source": [
    "#### Methods for Calculating Values of $D_{pol}$, $D_{par}$, $B_{max}$, $S_{pol}$ and $S_{par}$"
   ]
  },
  {
   "cell_type": "code",
   "execution_count": 13,
   "metadata": {},
   "outputs": [],
   "source": [
    "def bmaxfinder(C_ta_pa,x):\n",
    "    tb,pb = symbols('theta_b varphi_b',real=True)\n",
    "    B = C_ta_pa + C_ta_pa.xreplace({ta:tb}) + C_ta_pa.xreplace({pa:pb}) - C_ta_pa.xreplace({ta:tb,pa:pb})\n",
    "    b = lambdify((ta,pa,tb,pb,p),B, \"numpy\")\n",
    "    bmax=[-1*(sc.optimize.minimize(lambda params: -1*abs(b(params[0],params[1],params[2],params[3],i)), [0,0,0,0], method = 'L-BFGS-B').fun) for i in x]\n",
    "    bmax=np.around(bmax,decimals=5)\n",
    "    return bmax"
   ]
  },
  {
   "cell_type": "code",
   "execution_count": 14,
   "metadata": {},
   "outputs": [],
   "source": [
    "def bmaxfinderC(C_ta_pa,x):\n",
    "    tb,pb = symbols('theta_b varphi_b',real=True)\n",
    "    B = abs(C_ta_pa + C_ta_pa.xreplace({ta:tb}) + C_ta_pa.xreplace({pa:pb}) - C_ta_pa.xreplace({ta:tb,pa:pb}))\n",
    "    b = lambdify((ta,pa,tb,pb,P),B, \"numpy\")\n",
    "    bmax=[-1*(sc.optimize.minimize(lambda params: -1*abs(b(params[0],params[1],params[2],params[3],i)), [0,0,0,0], method = 'L-BFGS-B').fun) for i in x]\n",
    "    bmax=np.around(bmax,decimals=5)\n",
    "    return bmax"
   ]
  },
  {
   "cell_type": "code",
   "execution_count": 15,
   "metadata": {},
   "outputs": [],
   "source": [
    "def dfinder(D,x):\n",
    "    d=lambdify(p,D,\"numpy\")\n",
    "    d_final=[d(i) for i in x]\n",
    "    return d_final"
   ]
  },
  {
   "cell_type": "code",
   "execution_count": 16,
   "metadata": {},
   "outputs": [],
   "source": [
    "def dfinderC(D,x):\n",
    "    d=lambdify(P,D,\"numpy\")\n",
    "    d_final=[d(i) for i in x]\n",
    "    return d_final"
   ]
  },
  {
   "cell_type": "code",
   "execution_count": 17,
   "metadata": {},
   "outputs": [],
   "source": [
    "def sfinder(d,bmax):   \n",
    "    return np.around(np.square(d)/2+np.square(bmax)/8,decimals=5)"
   ]
  },
  {
   "cell_type": "markdown",
   "metadata": {},
   "source": [
    "### 4.1 Experiment A\n",
    "Here the field is competely coherent and we start with the Jones vector in state $\\mathbf{J} = (1/\\sqrt{2})[\\cos(\\varphi/2)\\text{ }\\iota\\sin(\\varphi/2)\\text{ 1 0}]^T$ which is reached by applying the PS-SLM on the input state of $\\mathbf{J}_{in} = (1/\\sqrt{2})[\\text{1 0 1 0}]^T$. On this we then apply the rotation of basis by $\\theta_a$ for polarization and of $\\varphi_a$ for parity and then conduct measurements of each component. Based on our previous definitions we now derive the correlation function for this experiment."
   ]
  },
  {
   "cell_type": "code",
   "execution_count": 18,
   "metadata": {
    "scrolled": true
   },
   "outputs": [
    {
     "data": {
      "text/latex": [
       "$\\displaystyle \\left[\\begin{matrix}0.5 \\cos^{2}{\\left(\\frac{\\varphi}{2} \\right)} & 0.25 i \\sin{\\left(\\varphi \\right)} & 0.5 \\cos{\\left(\\frac{\\varphi}{2} \\right)} & 0\\\\- 0.25 i \\sin{\\left(\\varphi \\right)} & 0.5 \\sin^{2}{\\left(\\frac{\\varphi}{2} \\right)} & - 0.5 i \\sin{\\left(\\frac{\\varphi}{2} \\right)} & 0\\\\0.5 \\cos{\\left(\\frac{\\varphi}{2} \\right)} & 0.5 i \\sin{\\left(\\frac{\\varphi}{2} \\right)} & 0.5 & 0\\\\0 & 0 & 0 & 0\\end{matrix}\\right]$"
      ],
      "text/plain": [
       "Matrix([\n",
       "[0.5*cos(varphi/2)**2,   0.25*I*sin(varphi),    0.5*cos(varphi/2), 0],\n",
       "[ -0.25*I*sin(varphi), 0.5*sin(varphi/2)**2, -0.5*I*sin(varphi/2), 0],\n",
       "[   0.5*cos(varphi/2),  0.5*I*sin(varphi/2),                  0.5, 0],\n",
       "[                   0,                    0,                    0, 0]])"
      ]
     },
     "execution_count": 18,
     "metadata": {},
     "output_type": "execute_result"
    }
   ],
   "source": [
    "J = sqrt(1/2)*Matrix([cos(p/2),I*sin(p/2),1,0])\n",
    "G_A = trigsimp(conjugate(J)*J.T)\n",
    "G_A #The input beam G matrix before the transformations"
   ]
  },
  {
   "cell_type": "markdown",
   "metadata": {},
   "source": [
    "#### Calculation of $D_{pol}$ and $D_{par}$"
   ]
  },
  {
   "cell_type": "code",
   "execution_count": 19,
   "metadata": {},
   "outputs": [
    {
     "data": {
      "text/latex": [
       "$\\displaystyle \\left[\\begin{matrix}0.5 & 0.5 \\cos{\\left(\\frac{\\varphi}{2} \\right)}\\\\0.5 \\cos{\\left(\\frac{\\varphi}{2} \\right)} & 0.5\\end{matrix}\\right]$"
      ],
      "text/plain": [
       "Matrix([\n",
       "[              0.5, 0.5*cos(varphi/2)],\n",
       "[0.5*cos(varphi/2),               0.5]])"
      ]
     },
     "execution_count": 19,
     "metadata": {},
     "output_type": "execute_result"
    }
   ],
   "source": [
    "G_pol_A = par_tr_G_pol(G_A)\n",
    "G_pol_A"
   ]
  },
  {
   "cell_type": "code",
   "execution_count": 20,
   "metadata": {
    "scrolled": true
   },
   "outputs": [
    {
     "data": {
      "text/latex": [
       "$\\displaystyle \\left[\\begin{matrix}0.5 \\cos^{2}{\\left(\\frac{\\varphi}{2} \\right)} + 0.5 & 0.25 i \\sin{\\left(\\varphi \\right)}\\\\- 0.25 i \\sin{\\left(\\varphi \\right)} & 0.5 \\sin^{2}{\\left(\\frac{\\varphi}{2} \\right)}\\end{matrix}\\right]$"
      ],
      "text/plain": [
       "Matrix([\n",
       "[0.5*cos(varphi/2)**2 + 0.5,   0.25*I*sin(varphi)],\n",
       "[       -0.25*I*sin(varphi), 0.5*sin(varphi/2)**2]])"
      ]
     },
     "execution_count": 20,
     "metadata": {},
     "output_type": "execute_result"
    }
   ],
   "source": [
    "G_par_A = par_tr_G_par(G_A)\n",
    "G_par_A"
   ]
  },
  {
   "cell_type": "code",
   "execution_count": 21,
   "metadata": {
    "scrolled": true
   },
   "outputs": [
    {
     "data": {
      "text/latex": [
       "$\\displaystyle 1.0 \\left|{\\cos{\\left(\\frac{\\varphi}{2} \\right)}}\\right|$"
      ],
      "text/plain": [
       "1.0*Abs(cos(varphi/2))"
      ]
     },
     "execution_count": 21,
     "metadata": {},
     "output_type": "execute_result"
    }
   ],
   "source": [
    "D_pol_A=app_coh(G_pol_A)\n",
    "D_pol_A# Prints D_pol"
   ]
  },
  {
   "cell_type": "code",
   "execution_count": 22,
   "metadata": {
    "scrolled": true
   },
   "outputs": [
    {
     "data": {
      "text/latex": [
       "$\\displaystyle 0.707106781186548 \\sqrt{\\cos{\\left(\\varphi \\right)} + 1}$"
      ],
      "text/plain": [
       "0.707106781186548*sqrt(cos(varphi) + 1)"
      ]
     },
     "execution_count": 22,
     "metadata": {},
     "output_type": "execute_result"
    }
   ],
   "source": [
    "D_par_A=app_coh(G_par_A)\n",
    "D_par_A# Prints D_par"
   ]
  },
  {
   "cell_type": "markdown",
   "metadata": {},
   "source": [
    "#### Calculation of the Correlation Function and $B_{max}$"
   ]
  },
  {
   "cell_type": "code",
   "execution_count": 23,
   "metadata": {},
   "outputs": [
    {
     "data": {
      "text/latex": [
       "$\\displaystyle 1.0 \\sin{\\left(\\theta_{a} \\right)} \\cos{\\left(\\frac{\\varphi}{2} + \\varphi_{a} \\right)} - 0.5 \\cos{\\left(\\theta_{a} \\right)} \\cos{\\left(\\varphi_{a} \\right)} + 0.5 \\cos{\\left(\\theta_{a} \\right)} \\cos{\\left(\\varphi + \\varphi_{a} \\right)}$"
      ],
      "text/plain": [
       "1.0*sin(theta_a)*cos(varphi/2 + varphi_a) - 0.5*cos(theta_a)*cos(varphi_a) + 0.5*cos(theta_a)*cos(varphi + varphi_a)"
      ]
     },
     "execution_count": 23,
     "metadata": {},
     "output_type": "execute_result"
    }
   ],
   "source": [
    "G_out_A = conjugate(A_SLM)*conjugate(A_HWP)*G_A*A_HWP.T*A_SLM.T #Transformed matrix\n",
    "C_ta_pa_A = trigsimp(corr_prob(G_out_A)/trace_G(G_out_A))\n",
    "C_ta_pa_A"
   ]
  },
  {
   "cell_type": "markdown",
   "metadata": {},
   "source": [
    "As we can see from above this does not actually match the expression provided in [[1](#ref-1)]. While this initially baffled us we came to a conclusion that this expression is infact correct as per the aim of the paper. Moreover this actually reproduces the experimental results they obtained while in contrast their correlation function fails to do it as well. Also the optimized Bmax values fit with the relation which the paper claims if our correlation function is used instead of theirs.\n",
    "The optimization procedure that we chose to go ahead with is just normal numerical optimization since otherwise we would have had to make the gradient zero and run through all possible cases where the gradient vanishes which would have been a lengthy procedure."
   ]
  },
  {
   "cell_type": "markdown",
   "metadata": {},
   "source": [
    "#### GRAPHS FOR EXPERIMENT A"
   ]
  },
  {
   "cell_type": "code",
   "execution_count": 24,
   "metadata": {},
   "outputs": [
    {
     "data": {
      "application/vnd.jupyter.widget-view+json": {
       "model_id": "df1b59bc7b7347e2a8133ebee56c41dc",
       "version_major": 2,
       "version_minor": 0
      },
      "text/plain": [
       "interactive(children=(Dropdown(description='option', options=('Show All', 'D', 'B', 'S', 'Hide All'), value='S…"
      ]
     },
     "metadata": {},
     "output_type": "display_data"
    }
   ],
   "source": [
    "def expAPlots(option):\n",
    "    num_space=102\n",
    "    phi=np.linspace(0, 2*np.pi, num_space)\n",
    "    bmax=bmaxfinder(C_ta_pa_A,phi)\n",
    "    dpol=dfinder(D_pol_A,phi)\n",
    "    dpar=dfinder(D_par_A,phi)\n",
    "    spol=sfinder(dpol,bmax)\n",
    "    spar=sfinder(dpar,bmax)\n",
    "    d=dpol\n",
    "    s=spol\n",
    "    \n",
    "    if option!='Hide All':        \n",
    "    \n",
    "        if option=='B':            \n",
    "            fig, ax = plt.subplots(figsize=(7, 7))\n",
    "            plotter(phi,bmax,r'$B_{max}$',r'$\\phi$',r'$B_{max}$',(1,0,0),r'$B_{max}$')\n",
    "            plt.plot(phi,[8**(0.5)]*num_space,color='black', linestyle ='dashed')\n",
    "            plt.plot(phi,[2]*num_space,color='black', linestyle ='dashed')\n",
    "            plt.figtext(s=r'$2\\sqrt{2}$', x=0.15, y=0.77, fontsize=15)\n",
    "            plt.figtext(s=r'$2$', x=0.15, y=0.48, fontsize=15)\n",
    "            plt.ylim(1,3)\n",
    "            plt.show()\n",
    "            \n",
    "        elif option=='S':\n",
    "            fig, ax = plt.subplots(figsize=(7, 7))\n",
    "            plotter(phi,spol,r'$S_{pol}=S_{par}=1$',r'$\\phi$',r'$S_{pol}\\ \\slash\\ S_{par}$',(1,0,0),r'$s_{pol}$')\n",
    "            plotter(phi,spar,r'$S_{pol}=S_{par}=1$',r'$\\phi$',r'$S_{pol}\\ \\slash\\ S_{par}$',(0,0,1),r'$s_{par}$')\n",
    "            plt.ylim(0,1.1) \n",
    "            plt.legend()\n",
    "            plt.show()\n",
    "            \n",
    "        elif option=='D':         \n",
    "            fig, ax = plt.subplots(figsize=(7, 7))\n",
    "            plotter(phi,dpol,r'$D_{pol}\\ and\\ D_{par}$',r'$\\phi$',r'$D_{pol}\\ \\slash\\ D_{par}$',(1,0,0),r'$d_{pol}$')\n",
    "            plotter(phi,dpar,r'$D_{pol}\\ and\\ D_{par}$',r'$\\phi$',r'$D_{pol}\\ \\slash\\ D_{par}$',(0,0,1),r'$d_{pol}$')\n",
    "            plt.ylim(0,1.1)\n",
    "            plt.legend()\n",
    "            plt.show()\n",
    "            \n",
    "        else:\n",
    "            fig, ax = plt.subplots(figsize=(7, 7))\n",
    "            plotter(phi,dpol,r'$D_{pol}\\ and\\ D_{par}$',r'$\\phi$',r'$D_{pol}\\ \\slash\\ D_{par}$',(1,0,0),r'$d_{pol}$')\n",
    "            plotter(phi,dpar,r'$D_{pol}\\ and\\ D_{par}$',r'$\\phi$',r'$D_{pol}\\ \\slash\\ D_{par}$',(0,0,1),r'$d_{pol}$')\n",
    "            plt.ylim(0,1.1)\n",
    "            plt.legend()\n",
    "            plt.show()\n",
    "            fig, ax = plt.subplots(figsize=(7, 7))\n",
    "            plotter(phi,bmax,r'$B_{max}$',r'$\\phi$',r'$B_{max}$',(1,0,0),r'$B_{max}$')\n",
    "            plt.plot(phi,[8**(0.5)]*num_space,color='black', linestyle ='dashed')\n",
    "            plt.plot(phi,[2]*num_space,color='black', linestyle ='dashed')\n",
    "            plt.figtext(s=r'$2\\sqrt{2}$', x=0.15, y=0.77, fontsize=15)\n",
    "            plt.figtext(s=r'$2$', x=0.15, y=0.48, fontsize=15)\n",
    "            plt.ylim(1,3)\n",
    "            plt.show()\n",
    "            fig, ax = plt.subplots(figsize=(7, 7))\n",
    "            plotter(phi,spol,r'$S_{pol}=S_{par}=1$',r'$\\phi$',r'$S_{pol}\\ \\slash\\ S_{par}$',(1,0,0),r'$s_{pol}$')\n",
    "            plotter(phi,spar,r'$S_{pol}=S_{par}=1$',r'$\\phi$',r'$S_{pol}\\ \\slash\\ S_{par}$',(0,0,1),r'$s_{par}$')\n",
    "            plt.ylim(0,1.1) \n",
    "            plt.legend()\n",
    "            plt.show()\n",
    "            \n",
    "            \n",
    "        plt.show()\n",
    "    \n",
    "    else:       \n",
    "        clear_output()\n",
    "    return\n",
    "\n",
    "interact(expAPlots, option=['Show All', 'D', 'B', 'S', 'Hide All']);"
   ]
  },
  {
   "cell_type": "code",
   "execution_count": 25,
   "metadata": {
    "scrolled": false
   },
   "outputs": [
    {
     "data": {
      "application/vnd.jupyter.widget-view+json": {
       "model_id": "c08b4df6b09b46b795e527a9dfe82a3d",
       "version_major": 2,
       "version_minor": 0
      },
      "text/plain": [
       "interactive(children=(FloatSlider(value=1.0471975511965976, continuous_update=False, description='phi', layout…"
      ]
     },
     "metadata": {},
     "output_type": "display_data"
    }
   ],
   "source": [
    "def expAContours(phi):\n",
    "    function=C_ta_pa_A\n",
    "    contourplotter(function,phi,r'$C(\\theta_a,\\phi_a)$',r'$\\theta_a$',r'$\\phi_a$')\n",
    "    return\n",
    "interact(expAContours, phi=widgets.FloatSlider(min=0, max=2*np.pi, step=0.02, value=np.pi/3, continuous_update=False, layout=Layout(width='600px')));"
   ]
  },
  {
   "cell_type": "markdown",
   "metadata": {},
   "source": [
    "As it can be seen in the above graphs, our degree of coherence $S$ and also $S_\\text{pol}$ and $S_\\text{par}$ stay at the value of 1 throughout and are invariant to any unitary transformation done on the system. As we vary the angle $\\phi$ we can see that the coupling is maximized at $\\phi=\\pi$ at which moment the apparent degrees of coherence go to zero since all of our original coherency is present in the form of coupling."
   ]
  },
  {
   "cell_type": "markdown",
   "metadata": {},
   "source": [
    "### 4.2 Experiment B\n",
    "Here starting with the same $\\mathbf{J}_{in}$ the polarization is scrambled using a variable polarization rotator which does not affect the spatial DoF so we have $D_\\text{pol} = 0$ and $D_\\text{par} = 1$. Now this beam is sent through a PS-SLM which would couple the DoFs. We now go on to derive the correlation function for this"
   ]
  },
  {
   "cell_type": "code",
   "execution_count": 26,
   "metadata": {
    "scrolled": false
   },
   "outputs": [
    {
     "data": {
      "text/latex": [
       "$\\displaystyle \\left[\\begin{matrix}0.5 \\cos^{2}{\\left(\\frac{\\varphi}{2} \\right)} & 0.5 i \\sin{\\left(\\frac{\\varphi}{2} \\right)} \\cos{\\left(\\frac{\\varphi}{2} \\right)} & 0 & 0\\\\- 0.5 i \\sin{\\left(\\frac{\\varphi}{2} \\right)} \\cos{\\left(\\frac{\\varphi}{2} \\right)} & 0.5 \\sin^{2}{\\left(\\frac{\\varphi}{2} \\right)} & 0 & 0\\\\0 & 0 & 0.5 & 0\\\\0 & 0 & 0 & 0\\end{matrix}\\right]$"
      ],
      "text/plain": [
       "Matrix([\n",
       "[              0.5*cos(varphi/2)**2, 0.5*I*sin(varphi/2)*cos(varphi/2),   0, 0],\n",
       "[-0.5*I*sin(varphi/2)*cos(varphi/2),              0.5*sin(varphi/2)**2,   0, 0],\n",
       "[                                 0,                                 0, 0.5, 0],\n",
       "[                                 0,                                 0,   0, 0]])"
      ]
     },
     "execution_count": 26,
     "metadata": {},
     "output_type": "execute_result"
    }
   ],
   "source": [
    "G_B = (1/2)*Matrix([[cos(p/2)**2, I*cos(p/2)*sin(p/2), 0, 0],[-I*cos(p/2)*sin(p/2), sin(p/2)**2, 0,0],\n",
    "            [0,0,1,0],[0,0,0,0]])\n",
    "G_B #The input beam G matrix before the transformations"
   ]
  },
  {
   "cell_type": "markdown",
   "metadata": {},
   "source": [
    "#### Calculation of $D_{pol}$ and $D_{par}$"
   ]
  },
  {
   "cell_type": "code",
   "execution_count": 27,
   "metadata": {},
   "outputs": [
    {
     "data": {
      "text/latex": [
       "$\\displaystyle \\left[\\begin{matrix}0.5 & 0\\\\0 & 0.5\\end{matrix}\\right]$"
      ],
      "text/plain": [
       "Matrix([\n",
       "[0.5,   0],\n",
       "[  0, 0.5]])"
      ]
     },
     "execution_count": 27,
     "metadata": {},
     "output_type": "execute_result"
    }
   ],
   "source": [
    "G_pol_B = par_tr_G_pol(G_B)\n",
    "G_pol_B"
   ]
  },
  {
   "cell_type": "code",
   "execution_count": 28,
   "metadata": {
    "scrolled": true
   },
   "outputs": [
    {
     "data": {
      "text/latex": [
       "$\\displaystyle \\left[\\begin{matrix}0.5 \\cos^{2}{\\left(\\frac{\\varphi}{2} \\right)} + 0.5 & 0.5 i \\sin{\\left(\\frac{\\varphi}{2} \\right)} \\cos{\\left(\\frac{\\varphi}{2} \\right)}\\\\- 0.5 i \\sin{\\left(\\frac{\\varphi}{2} \\right)} \\cos{\\left(\\frac{\\varphi}{2} \\right)} & 0.5 \\sin^{2}{\\left(\\frac{\\varphi}{2} \\right)}\\end{matrix}\\right]$"
      ],
      "text/plain": [
       "Matrix([\n",
       "[        0.5*cos(varphi/2)**2 + 0.5, 0.5*I*sin(varphi/2)*cos(varphi/2)],\n",
       "[-0.5*I*sin(varphi/2)*cos(varphi/2),              0.5*sin(varphi/2)**2]])"
      ]
     },
     "execution_count": 28,
     "metadata": {},
     "output_type": "execute_result"
    }
   ],
   "source": [
    "G_par_B = par_tr_G_par(G_B)\n",
    "G_par_B"
   ]
  },
  {
   "cell_type": "code",
   "execution_count": 29,
   "metadata": {
    "scrolled": true
   },
   "outputs": [
    {
     "data": {
      "text/latex": [
       "$\\displaystyle 0$"
      ],
      "text/plain": [
       "0"
      ]
     },
     "execution_count": 29,
     "metadata": {},
     "output_type": "execute_result"
    }
   ],
   "source": [
    "D_pol_B=app_coh(G_pol_B)\n",
    "D_pol_B# Prints D_pol"
   ]
  },
  {
   "cell_type": "code",
   "execution_count": 30,
   "metadata": {
    "scrolled": true
   },
   "outputs": [
    {
     "data": {
      "text/latex": [
       "$\\displaystyle 0.707106781186548 \\sqrt{\\cos{\\left(\\varphi \\right)} + 1}$"
      ],
      "text/plain": [
       "0.707106781186548*sqrt(cos(varphi) + 1)"
      ]
     },
     "execution_count": 30,
     "metadata": {},
     "output_type": "execute_result"
    }
   ],
   "source": [
    "D_par_B=app_coh(G_par_B)\n",
    "D_par_B"
   ]
  },
  {
   "cell_type": "markdown",
   "metadata": {},
   "source": [
    "#### Calculation of the Correlation Function and $B_{max}$"
   ]
  },
  {
   "cell_type": "code",
   "execution_count": 31,
   "metadata": {},
   "outputs": [
    {
     "data": {
      "text/latex": [
       "$\\displaystyle 0.5 \\left(- \\cos{\\left(\\varphi_{a} \\right)} + \\cos{\\left(\\varphi + \\varphi_{a} \\right)}\\right) \\cos{\\left(\\theta_{a} \\right)}$"
      ],
      "text/plain": [
       "0.5*(-cos(varphi_a) + cos(varphi + varphi_a))*cos(theta_a)"
      ]
     },
     "execution_count": 31,
     "metadata": {},
     "output_type": "execute_result"
    }
   ],
   "source": [
    "G_out_B = conjugate(A_SLM)*conjugate(A_HWP)*G_B*A_HWP.T*A_SLM.T #Transformed matrix\n",
    "C_ta_pa_B = trigsimp(corr_prob(G_out_B)/trace_G(G_out_B))\n",
    "C_ta_pa_B"
   ]
  },
  {
   "cell_type": "markdown",
   "metadata": {},
   "source": [
    "We have now seen that our expression for the correlation function matches the exact one obtained in the reference \\[topic2\\]. We now go ahead to optimize our expression for B and obtain the other plots below. On a sidenote one can actually traditionally find the maxima for the $B$ expression here since it is simpler to look at. The condition where it is maximized is when $\\phi_a=\\phi_b=(\\pi-\\phi)/2$ and $\\theta_a = \\theta_b = 0$ or $\\pi$ which can be verified by looking at the gradient."
   ]
  },
  {
   "cell_type": "markdown",
   "metadata": {},
   "source": [
    "#### GRAPHS FOR EXPERIMENT B"
   ]
  },
  {
   "cell_type": "code",
   "execution_count": 32,
   "metadata": {
    "scrolled": false
   },
   "outputs": [
    {
     "data": {
      "application/vnd.jupyter.widget-view+json": {
       "model_id": "b887cb717a8e4c18a7f8339f8527cd00",
       "version_major": 2,
       "version_minor": 0
      },
      "text/plain": [
       "interactive(children=(Dropdown(description='option', options=('Show All', 'D', 'B', 'S', 'Hide All'), value='S…"
      ]
     },
     "metadata": {},
     "output_type": "display_data"
    }
   ],
   "source": [
    "def expBPlots(option):\n",
    "    num_space=102\n",
    "    phi=np.linspace(0, 2*np.pi, num_space)\n",
    "    bmax=bmaxfinder(C_ta_pa_B,phi)\n",
    "    dpol=dfinder(D_pol_B,phi)\n",
    "    dpar=dfinder(D_par_B,phi)\n",
    "    spol=sfinder(dpol,bmax)\n",
    "    spar=sfinder(dpar,bmax)\n",
    "    \n",
    "    if option!='Hide All':        \n",
    "    \n",
    "        if option=='B':            \n",
    "            fig, ax = plt.subplots(figsize=(7, 7))\n",
    "            plotter(phi,bmax,r'$B_{max}$',r'$\\phi$',r'$B_{max}$',(1,0,0),r'$B_{max}$')\n",
    "            plt.plot(phi,[2]*num_space,color='black', linestyle ='dashed')\n",
    "            plt.ylim(0,2.5)\n",
    "            plt.show()\n",
    "            \n",
    "        elif option=='S':\n",
    "            fig, ax = plt.subplots(figsize=(7, 7))\n",
    "            plotter(phi,spol,r'$S_{pol}=S_{par}=1$',r'$\\phi$',r'$S_{pol}\\ \\slash\\ S_{par}$',(1,0,0),r'$s_{pol}$')\n",
    "            plotter(phi,spar,r'$S_{pol}=S_{par}=1$',r'$\\phi$',r'$S_{pol}\\ \\slash\\ S_{par}$',(0,0,1),r'$s_{par}$')\n",
    "            plt.ylim(0,1.1) \n",
    "            plt.legend()\n",
    "            plt.show()\n",
    "            \n",
    "        elif option=='D':         \n",
    "            fig, ax = plt.subplots(figsize=(7, 7))\n",
    "            plotter(phi,dpol,r'$D_{pol}\\ and\\ D_{par}$',r'$\\phi$',r'$D_{pol}\\ \\slash\\ D_{par}$',(1,0,0),r'$d_{pol}$')\n",
    "            plotter(phi,dpar,r'$D_{pol}\\ and\\ D_{par}$',r'$\\phi$',r'$D_{pol}\\ \\slash\\ D_{par}$',(0,0,1),r'$d_{pol}$')\n",
    "            plt.ylim(-0.1,1.1)\n",
    "            plt.legend()\n",
    "            plt.show()\n",
    "            \n",
    "        else:\n",
    "            fig, ax = plt.subplots(figsize=(7, 7))\n",
    "            plotter(phi,dpol,r'$D_{pol}\\ and\\ D_{par}$',r'$\\phi$',r'$D_{pol}\\ \\slash\\ D_{par}$',(1,0,0),r'$d_{pol}$')\n",
    "            plotter(phi,dpar,r'$D_{pol}\\ and\\ D_{par}$',r'$\\phi$',r'$D_{pol}\\ \\slash\\ D_{par}$',(0,0,1),r'$d_{pol}$')\n",
    "            plt.ylim(-0.1,1.1)\n",
    "            plt.legend()\n",
    "            plt.show()\n",
    "            fig, ax = plt.subplots(figsize=(7, 7))\n",
    "            plotter(phi,bmax,r'$B_{max}$',r'$\\phi$',r'$B_{max}$',(1,0,0),r'$B_{max}$')\n",
    "            plt.plot(phi,[2]*num_space,color='black', linestyle ='dashed')\n",
    "            plt.ylim(0,2.5)\n",
    "            plt.show()\n",
    "            fig, ax = plt.subplots(figsize=(7, 7))\n",
    "            plotter(phi,spol,r'$S_{pol}=S_{par}=1$',r'$\\phi$',r'$S_{pol}\\ \\slash\\ S_{par}$',(1,0,0),r'$s_{pol}$')\n",
    "            plotter(phi,spar,r'$S_{pol}=S_{par}=1$',r'$\\phi$',r'$S_{pol}\\ \\slash\\ S_{par}$',(0,0,1),r'$s_{par}$')\n",
    "            plt.ylim(0,1.1) \n",
    "            plt.legend()\n",
    "            plt.show()\n",
    "            \n",
    "            \n",
    "        plt.show()\n",
    "    \n",
    "    else:       \n",
    "        clear_output()\n",
    "    return\n",
    "\n",
    "interact(expBPlots, option=['Show All', 'D', 'B', 'S', 'Hide All']);"
   ]
  },
  {
   "cell_type": "code",
   "execution_count": 33,
   "metadata": {
    "scrolled": false
   },
   "outputs": [
    {
     "data": {
      "application/vnd.jupyter.widget-view+json": {
       "model_id": "211dd6e6722f488288dbd7b0cf4967a9",
       "version_major": 2,
       "version_minor": 0
      },
      "text/plain": [
       "interactive(children=(FloatSlider(value=1.0471975511965976, continuous_update=False, description='phi', layout…"
      ]
     },
     "metadata": {},
     "output_type": "display_data"
    }
   ],
   "source": [
    "def expBContours(phi):\n",
    "    function=C_ta_pa_B\n",
    "    contourplotter(function,phi,r'$C(\\theta_a,\\phi_a)$',r'$\\theta_a$',r'$\\phi_a$')\n",
    "    return\n",
    "interact(expBContours, phi=widgets.FloatSlider(min=0, max=2*np.pi, step=0.02, value=np.pi/3, continuous_update=False, layout=Layout(width='600px')));"
   ]
  },
  {
   "cell_type": "markdown",
   "metadata": {},
   "source": [
    "### 4.3 Experiment C\n",
    "In this experiment we again start with the same $\\mathbf{J}_{in}$ and an interaction is considered that makes it have a random coupling. It has a probability $P$ to couple polarization and parity and $1-P$ to not achieved by randomly toggling between two phase distributions of the PS-SLM, one with $\\pi/2\\text{sgn}(x)$ phase and another with zero phase where $P$ is the fraction of time that the PS-SLM displays the first phase pattern. From this we go on to derive it's correlation function."
   ]
  },
  {
   "cell_type": "code",
   "execution_count": 34,
   "metadata": {},
   "outputs": [
    {
     "data": {
      "text/latex": [
       "$\\displaystyle \\left[\\begin{matrix}\\frac{1}{2} - \\frac{P}{2} & 0 & \\frac{1}{2} - \\frac{P}{2} & 0\\\\0 & \\frac{P}{2} & - \\frac{i P}{2} & 0\\\\\\frac{1}{2} - \\frac{P}{2} & \\frac{i P}{2} & \\frac{1}{2} & 0\\\\0 & 0 & 0 & 0\\end{matrix}\\right]$"
      ],
      "text/plain": [
       "Matrix([\n",
       "[1/2 - P/2,     0, 1/2 - P/2, 0],\n",
       "[        0,   P/2,    -I*P/2, 0],\n",
       "[1/2 - P/2, I*P/2,       1/2, 0],\n",
       "[        0,     0,         0, 0]])"
      ]
     },
     "execution_count": 34,
     "metadata": {},
     "output_type": "execute_result"
    }
   ],
   "source": [
    "J_ent = (1/sqrt(2))*Matrix([0, I, 1, 0])#Entagled state\n",
    "J_in = (1/sqrt(2))*Matrix([1, 0, 1, 0])#Input state\n",
    "G_C = P*conjugate(J_ent)*J_ent.T + (1-P)*conjugate(J_in)*J_in.T\n",
    "G_C"
   ]
  },
  {
   "cell_type": "markdown",
   "metadata": {},
   "source": [
    "#### Calculation of $D_{pol}$ and $D_{par}$"
   ]
  },
  {
   "cell_type": "code",
   "execution_count": 35,
   "metadata": {},
   "outputs": [
    {
     "data": {
      "text/latex": [
       "$\\displaystyle \\left[\\begin{matrix}\\frac{1}{2} & \\frac{1}{2} - \\frac{P}{2}\\\\\\frac{1}{2} - \\frac{P}{2} & \\frac{1}{2}\\end{matrix}\\right]$"
      ],
      "text/plain": [
       "Matrix([\n",
       "[      1/2, 1/2 - P/2],\n",
       "[1/2 - P/2,       1/2]])"
      ]
     },
     "execution_count": 35,
     "metadata": {},
     "output_type": "execute_result"
    }
   ],
   "source": [
    "G_pol_C = par_tr_G_pol(G_C)\n",
    "G_pol_C"
   ]
  },
  {
   "cell_type": "code",
   "execution_count": 36,
   "metadata": {
    "scrolled": true
   },
   "outputs": [
    {
     "data": {
      "text/latex": [
       "$\\displaystyle \\left[\\begin{matrix}1 - \\frac{P}{2} & 0\\\\0 & \\frac{P}{2}\\end{matrix}\\right]$"
      ],
      "text/plain": [
       "Matrix([\n",
       "[1 - P/2,   0],\n",
       "[      0, P/2]])"
      ]
     },
     "execution_count": 36,
     "metadata": {},
     "output_type": "execute_result"
    }
   ],
   "source": [
    "G_par_C = par_tr_G_par(G_C)\n",
    "G_par_C"
   ]
  },
  {
   "cell_type": "code",
   "execution_count": 37,
   "metadata": {
    "scrolled": true
   },
   "outputs": [
    {
     "data": {
      "text/latex": [
       "$\\displaystyle \\left|{P - 1}\\right|$"
      ],
      "text/plain": [
       "Abs(P - 1)"
      ]
     },
     "execution_count": 37,
     "metadata": {},
     "output_type": "execute_result"
    }
   ],
   "source": [
    "D_pol_C=app_coh(G_pol_C)\n",
    "simplify(D_pol_C)# Prints D_pol"
   ]
  },
  {
   "cell_type": "code",
   "execution_count": 38,
   "metadata": {
    "scrolled": true
   },
   "outputs": [
    {
     "data": {
      "text/latex": [
       "$\\displaystyle \\sqrt{- P \\left(2 - P\\right) + 1}$"
      ],
      "text/plain": [
       "sqrt(-P*(2 - P) + 1)"
      ]
     },
     "execution_count": 38,
     "metadata": {},
     "output_type": "execute_result"
    }
   ],
   "source": [
    "D_par_C=app_coh(G_par_C)\n",
    "D_par_C"
   ]
  },
  {
   "cell_type": "markdown",
   "metadata": {},
   "source": [
    "#### Calculation of the Correlation Function and $B_{max}$"
   ]
  },
  {
   "cell_type": "code",
   "execution_count": 39,
   "metadata": {},
   "outputs": [
    {
     "data": {
      "text/latex": [
       "$\\displaystyle - \\sqrt{2} P \\sin{\\left(\\theta_{a} \\right)} \\sin{\\left(\\varphi_{a} + \\frac{\\pi}{4} \\right)} - P \\cos{\\left(\\theta_{a} \\right)} \\cos{\\left(\\varphi_{a} \\right)} + \\sin{\\left(\\theta_{a} \\right)} \\cos{\\left(\\varphi_{a} \\right)}$"
      ],
      "text/plain": [
       "-sqrt(2)*P*sin(theta_a)*sin(varphi_a + pi/4) - P*cos(theta_a)*cos(varphi_a) + sin(theta_a)*cos(varphi_a)"
      ]
     },
     "execution_count": 39,
     "metadata": {},
     "output_type": "execute_result"
    }
   ],
   "source": [
    "G_out_C = conjugate(A_SLM)*conjugate(A_HWP)*G_C*A_HWP.T*A_SLM.T #Transformed matrix\n",
    "C_ta_pa_C = trigsimp(corr_prob(G_out_C)/trace_G(G_out_C))\n",
    "C_ta_pa_C"
   ]
  },
  {
   "cell_type": "code",
   "execution_count": 40,
   "metadata": {},
   "outputs": [
    {
     "data": {
      "text/latex": [
       "$\\displaystyle 0$"
      ],
      "text/plain": [
       "0"
      ]
     },
     "execution_count": 40,
     "metadata": {},
     "output_type": "execute_result"
    }
   ],
   "source": [
    "simplify(C_ta_pa_C - ((1-P)*sin(ta)*cos(pa) - P*cos(ta-pa)))"
   ]
  },
  {
   "cell_type": "markdown",
   "metadata": {},
   "source": [
    "As we have shown in the cell above the correlation function we have derived matches exactly with the function that the paper provides. We again use numerical methods to maximize this function since optimizing by minimization of gradient would take considerably long to do. Our results shown below match up consistently with those shown in [[1](#ref-1)]."
   ]
  },
  {
   "cell_type": "markdown",
   "metadata": {},
   "source": [
    "#### GRAPHS FOR EXPERIMENT C"
   ]
  },
  {
   "cell_type": "code",
   "execution_count": 41,
   "metadata": {
    "scrolled": false
   },
   "outputs": [
    {
     "data": {
      "application/vnd.jupyter.widget-view+json": {
       "model_id": "fa383d350f284e868ec6b3c416a7e2bf",
       "version_major": 2,
       "version_minor": 0
      },
      "text/plain": [
       "interactive(children=(Dropdown(description='option', options=('Show All', 'D', 'B', 'S', 'Hide All'), value='S…"
      ]
     },
     "metadata": {},
     "output_type": "display_data"
    }
   ],
   "source": [
    "def expCPlots(option):\n",
    "    num_space=102\n",
    "    P=np.linspace(0, 1, num_space)\n",
    "    bmax=bmaxfinderC(C_ta_pa_C,P)\n",
    "    dpol=dfinderC(D_pol_C,P)\n",
    "    dpar=dfinderC(D_par_C,P)\n",
    "    spol=sfinder(dpol,bmax)\n",
    "    spar=sfinder(dpar,bmax)\n",
    "    \n",
    "    if option!='Hide All':        \n",
    "    \n",
    "        if option=='B':            \n",
    "            fig, ax = plt.subplots(figsize=(7, 7))\n",
    "            plotterC(P,bmax,r'$B_{max}$',r'$\\phi$',r'$B_{max}$',(1,0,0),r'$B_{max}$')\n",
    "            plt.plot(P,[2]*num_space,color='black', linestyle ='dashed')\n",
    "            plt.ylim(1,3)\n",
    "            plt.show()\n",
    "            \n",
    "        elif option=='S':\n",
    "            fig, ax = plt.subplots(figsize=(7, 7))\n",
    "            plotterC(P,spol,r'$S_{pol}=S_{par}=1$',r'$\\phi$',r'$S_{pol}\\ \\slash\\ S_{par}$',(1,0,0),r'$s_{pol}$')\n",
    "            plotterC(P,spar,r'$S_{pol}=S_{par}=1$',r'$\\phi$',r'$S_{pol}\\ \\slash\\ S_{par}$',(0,0,1),r'$s_{par}$')\n",
    "            plt.ylim(0,1.1) \n",
    "            plt.legend()\n",
    "            plt.show()\n",
    "            \n",
    "        elif option=='D':         \n",
    "            fig, ax = plt.subplots(figsize=(7, 7))\n",
    "            plotterC(P,dpol,r'$D_{pol}\\ and\\ D_{par}$',r'$\\phi$',r'$D_{pol}\\ \\slash\\ D_{par}$',(1,0,0),r'$d_{pol}$')\n",
    "            plotterC(P,dpar,r'$D_{pol}\\ and\\ D_{par}$',r'$\\phi$',r'$D_{pol}\\ \\slash\\ D_{par}$',(0,0,1),r'$d_{pol}$')\n",
    "            plt.ylim(-0.1,1.1)\n",
    "            plt.legend()\n",
    "            plt.show()\n",
    "            \n",
    "        else:\n",
    "            fig, ax = plt.subplots(figsize=(7, 7))\n",
    "            plotterC(P,dpol,r'$D_{pol}\\ and\\ D_{par}$',r'$\\phi$',r'$D_{pol}\\ \\slash\\ D_{par}$',(1,0,0),r'$d_{pol}$')\n",
    "            plotterC(P,dpar,r'$D_{pol}\\ and\\ D_{par}$',r'$\\phi$',r'$D_{pol}\\ \\slash\\ D_{par}$',(0,0,1),r'$d_{pol}$')\n",
    "            plt.ylim(-0.1,1.1)\n",
    "            plt.legend()\n",
    "            plt.show()\n",
    "            fig, ax = plt.subplots(figsize=(7, 7))\n",
    "            plotterC(P,bmax,r'$B_{max}$',r'$\\phi$',r'$B_{max}$',(1,0,0),r'$B_{max}$')\n",
    "            plt.plot(P,[2]*num_space,color='black', linestyle ='dashed')\n",
    "            plt.ylim(1,3)\n",
    "            plt.show()\n",
    "            fig, ax = plt.subplots(figsize=(7, 7))\n",
    "            plotterC(P,spol,r'$S_{pol}=S_{par}=1$',r'$\\phi$',r'$S_{pol}\\ \\slash\\ S_{par}$',(1,0,0),r'$s_{pol}$')\n",
    "            plotterC(P,spar,r'$S_{pol}=S_{par}=1$',r'$\\phi$',r'$S_{pol}\\ \\slash\\ S_{par}$',(0,0,1),r'$s_{par}$')\n",
    "            plt.ylim(0,1.1) \n",
    "            plt.legend()\n",
    "            plt.show()\n",
    "            \n",
    "            \n",
    "        plt.show()\n",
    "    \n",
    "    else:       \n",
    "        clear_output()\n",
    "    return\n",
    "\n",
    "interact(expCPlots, option=['Show All', 'D', 'B', 'S', 'Hide All']);"
   ]
  },
  {
   "cell_type": "code",
   "execution_count": 42,
   "metadata": {
    "scrolled": false
   },
   "outputs": [
    {
     "data": {
      "application/vnd.jupyter.widget-view+json": {
       "model_id": "ba7662914edb4aa0b2a142cc0cdaed62",
       "version_major": 2,
       "version_minor": 0
      },
      "text/plain": [
       "interactive(children=(FloatSlider(value=0.3333333333333333, continuous_update=False, description='P', layout=L…"
      ]
     },
     "metadata": {},
     "output_type": "display_data"
    }
   ],
   "source": [
    "def expCContours(P):\n",
    "    function=C_ta_pa_C\n",
    "    contourplotterC(function,P,r'$C(\\theta_a,\\phi_a)$',r'$\\theta_a$',r'$\\phi_a$')\n",
    "    return\n",
    "interact(expCContours, P=widgets.FloatSlider(min=0, max=1, step=0.01, value=1/3, continuous_update=False, layout=Layout(width='600px')));"
   ]
  },
  {
   "cell_type": "markdown",
   "metadata": {},
   "source": [
    "## 5. Reduced representation of the two Binary DoFs\n",
    "We can represent any arbitrary partially coherent beam by the three invariants $S$, $S_{pol}$, $S_{par}$. Every point in the volume generated represents different beams which can be related via unitary transformations that do not couple the two DoFs, since these ensure that $S$, $S_{pol}$, $S_{par}$ remain invariant. Points with the same $S$ comprise of a plane. All the points in this plane are related via unitary transformations which couple the two DoFs, since these would ensure $S$ remains the same but $S_{pol}$ and $S_{par}$ do not.\n",
    "A beam with higher $S$, by the definition of the measure, has higher coherency. \n",
    "\n",
    "The figure offers us two insights into how $S$, $S_{pol}$, $S_{par}$ for a beam might be related.<br>\n",
    "Firstly, beams with the same value of $S$ do not take arbitrary values of $S_{pol}$ and $S_{par}$. For a given value of $S$ for a beam, the figure uniquely gives us a concave-sided triangular area within which the values of $S_{pol}$ and $S_{par}$ must be contained for a partially coherent beam.<br>\n",
    "Secondly, for given values of $S_{pol}$ and $S_{par}$ for a partially coherent beam, we can predict the overall degree of coherence of the beam $S$ by drawing a line segment parallel to the $S$ axis contained within the figure, which gives us a narrow range within which $S$ must be for the beam. The paper suggests that the uncertainty in determining $S$ using this method is $\\sim6\\%$ on average.\n",
    "\n",
    "The overall purpose of generating the figure was to show that we cannot have all combinations of $S$, $S_{pol}$, $S_{par}$ inside the unit cube in the first octant but only the ones which satisfy Bell's Inequality, which results in the obtained figure.\n",
    "\n",
    "In our attempt to generate the figure, we have essentially constructed a Monte-Carlo simulation with $10^5$ points based on the discussion in [[8](#ref-8)].<br>\n",
    "Since eigenvalues of G have to be real, positive and their sum must be 1, we first generate a diagonal matrix $D$ of the eigenvalues with the contraints applied. Now, to obtain a random G, we must first obtain a random unitary matrix $U$ and apply the following transformation on the diagonal matrix $D$.<br>\n",
    "<center>$G=UDU^{\\dagger}$</center>\n",
    "We obtain $U$ by first generating a random matrix and then QR factorizing it. Since Q is unitary, we have in essence found a random unitary matrix. The above set of operations is implemented in the function <code>randG()</code>.<br>\n",
    "\n",
    "After this, we proceed to define the function  <code>C_ta_pa()</code> which calculates the correlation function for a given matrix $G$ with the parameters $t_{1} (\\theta_{a})$ and $p_{1} (\\phi_{a})$. The Bell Measure is calculated by the function  <code>B()</code> by making calls to the function <code>C_ta_pa()</code>.<br>\n",
    "Now, the calculation of the value $S$ is straightforward from the matrix $G$ and that of $D_{pol}$ and $D_{par}$ is also relatively straightforward once the matrices $G_{pol}$ and $G_{par}$ have been constructed. But, for the calculation of $S_{pol}$ and $S_{par}$, we need to determine the value $B_{max}$ first. Since there was no way the optimization of $10^5$ matrices could've been tensorized, we calculate this in loop for all the G matrices and that is what constitutes the bulk of the running time of the program. We implement this in the function  <code>genS()</code> below."
   ]
  },
  {
   "cell_type": "code",
   "execution_count": 69,
   "metadata": {},
   "outputs": [],
   "source": [
    "def randG(i):\n",
    "    G=np.zeros([4,4])\n",
    "    a = np.random.dirichlet(np.ones(4)*(100**i),size=1)\n",
    "    for i in range(4):\n",
    "        G[i,i] = a[0,i]\n",
    "    U,_=np.linalg.qr(np.random.rand(4,4)+1j*np.random.rand(4,4))\n",
    "    G=(np.conjugate(U)@G@np.transpose(U)).round(4)\n",
    "    return G"
   ]
  },
  {
   "cell_type": "code",
   "execution_count": 70,
   "metadata": {},
   "outputs": [],
   "source": [
    "def C_ta_pa(G,t1,p1):\n",
    "    a_hwp_1 = [[-np.cos(t1/2),0,-np.sin(t1/2),0],[0,-np.cos(t1/2),0,-np.sin(t1/2)],[-np.sin(t1/2),0,np.cos(t1/2),0],[0,-np.sin(t1/2),0,np.cos(t1/2)]]\n",
    "    a_slm_1 = [[np.cos(p1/2),1j*np.sin(p1/2),0,0],[1j*np.sin(p1/2),np.cos(p1/2),0,0],[0,0,np.cos(p1/2),1j*np.sin(p1/2)],[0,0,1j*np.sin(p1/2),np.cos(p1/2)]]\n",
    "    G_out=np.conjugate(a_slm_1)@np.conjugate(a_hwp_1)@G@np.transpose(a_hwp_1)@np.transpose(a_slm_1)\n",
    "    return np.real((G_out[0,0]-G_out[1,1]-G_out[2,2]+G_out[3,3])/(np.trace(G))).round(8)"
   ]
  },
  {
   "cell_type": "code",
   "execution_count": 71,
   "metadata": {},
   "outputs": [],
   "source": [
    "def B(G,t1,t2,p1,p2):\n",
    "    return abs(C_ta_pa(G,t1,p1)+C_ta_pa(G,t1,p2)+C_ta_pa(G,t2,p1)-C_ta_pa(G,t2,p2))"
   ]
  },
  {
   "cell_type": "code",
   "execution_count": 79,
   "metadata": {},
   "outputs": [],
   "source": [
    "def genS(G):\n",
    "    G_pol = [[G[0,0]+G[1,1],G[0,2]+G[1,3]],[G[2,0]+G[3,1],G[2,2]+G[3,3]]]\n",
    "    G_par = [[G[0,0]+G[2,2],G[0,1]+G[2,3]],[G[1,0]+G[3,2],G[1,1]+G[3,3]]]\n",
    "    \n",
    "    D_pol=sqrt(1-4*(np.linalg.det(G_pol))/((np.trace(G_pol))**2))\n",
    "    D_par=sqrt(1-4*(np.linalg.det(G_par))/((np.trace(G_par))**2))\n",
    "    \n",
    "    bmax=-1*(sc.optimize.minimize(lambda params: -1*abs(B(G,params[0],params[1],params[2],params[3])),np.random.rand(4), method = 'Nelder-Mead').fun)\n",
    "    spol=round(np.real(complex(D_pol**2/2+bmax**2/8)),8)\n",
    "    spar=round(np.real(complex(D_par**2/2+bmax**2/8)),8)\n",
    "    s=round(np.real((4/3)*(np.trace(G@G)-(1/4))),8)\n",
    "    return spol,spar,s"
   ]
  },
  {
   "cell_type": "code",
   "execution_count": 80,
   "metadata": {},
   "outputs": [],
   "source": [
    "n=5000\n",
    "x=np.zeros(n)\n",
    "y=np.zeros(n)\n",
    "z=np.zeros(n)\n",
    "for i in range(n):\n",
    "    #print(i)\n",
    "    x[i],y[i],z[i]=genS(randG(i%3 - 1))\n",
    "rows = zip(x,y,z)"
   ]
  },
  {
   "cell_type": "code",
   "execution_count": 81,
   "metadata": {},
   "outputs": [
    {
     "data": {
      "application/javascript": [
       "/* Put everything inside the global mpl namespace */\n",
       "/* global mpl */\n",
       "window.mpl = {};\n",
       "\n",
       "mpl.get_websocket_type = function () {\n",
       "    if (typeof WebSocket !== 'undefined') {\n",
       "        return WebSocket;\n",
       "    } else if (typeof MozWebSocket !== 'undefined') {\n",
       "        return MozWebSocket;\n",
       "    } else {\n",
       "        alert(\n",
       "            'Your browser does not have WebSocket support. ' +\n",
       "                'Please try Chrome, Safari or Firefox ≥ 6. ' +\n",
       "                'Firefox 4 and 5 are also supported but you ' +\n",
       "                'have to enable WebSockets in about:config.'\n",
       "        );\n",
       "    }\n",
       "};\n",
       "\n",
       "mpl.figure = function (figure_id, websocket, ondownload, parent_element) {\n",
       "    this.id = figure_id;\n",
       "\n",
       "    this.ws = websocket;\n",
       "\n",
       "    this.supports_binary = this.ws.binaryType !== undefined;\n",
       "\n",
       "    if (!this.supports_binary) {\n",
       "        var warnings = document.getElementById('mpl-warnings');\n",
       "        if (warnings) {\n",
       "            warnings.style.display = 'block';\n",
       "            warnings.textContent =\n",
       "                'This browser does not support binary websocket messages. ' +\n",
       "                'Performance may be slow.';\n",
       "        }\n",
       "    }\n",
       "\n",
       "    this.imageObj = new Image();\n",
       "\n",
       "    this.context = undefined;\n",
       "    this.message = undefined;\n",
       "    this.canvas = undefined;\n",
       "    this.rubberband_canvas = undefined;\n",
       "    this.rubberband_context = undefined;\n",
       "    this.format_dropdown = undefined;\n",
       "\n",
       "    this.image_mode = 'full';\n",
       "\n",
       "    this.root = document.createElement('div');\n",
       "    this.root.setAttribute('style', 'display: inline-block');\n",
       "    this._root_extra_style(this.root);\n",
       "\n",
       "    parent_element.appendChild(this.root);\n",
       "\n",
       "    this._init_header(this);\n",
       "    this._init_canvas(this);\n",
       "    this._init_toolbar(this);\n",
       "\n",
       "    var fig = this;\n",
       "\n",
       "    this.waiting = false;\n",
       "\n",
       "    this.ws.onopen = function () {\n",
       "        fig.send_message('supports_binary', { value: fig.supports_binary });\n",
       "        fig.send_message('send_image_mode', {});\n",
       "        if (fig.ratio !== 1) {\n",
       "            fig.send_message('set_dpi_ratio', { dpi_ratio: fig.ratio });\n",
       "        }\n",
       "        fig.send_message('refresh', {});\n",
       "    };\n",
       "\n",
       "    this.imageObj.onload = function () {\n",
       "        if (fig.image_mode === 'full') {\n",
       "            // Full images could contain transparency (where diff images\n",
       "            // almost always do), so we need to clear the canvas so that\n",
       "            // there is no ghosting.\n",
       "            fig.context.clearRect(0, 0, fig.canvas.width, fig.canvas.height);\n",
       "        }\n",
       "        fig.context.drawImage(fig.imageObj, 0, 0);\n",
       "    };\n",
       "\n",
       "    this.imageObj.onunload = function () {\n",
       "        fig.ws.close();\n",
       "    };\n",
       "\n",
       "    this.ws.onmessage = this._make_on_message_function(this);\n",
       "\n",
       "    this.ondownload = ondownload;\n",
       "};\n",
       "\n",
       "mpl.figure.prototype._init_header = function () {\n",
       "    var titlebar = document.createElement('div');\n",
       "    titlebar.classList =\n",
       "        'ui-dialog-titlebar ui-widget-header ui-corner-all ui-helper-clearfix';\n",
       "    var titletext = document.createElement('div');\n",
       "    titletext.classList = 'ui-dialog-title';\n",
       "    titletext.setAttribute(\n",
       "        'style',\n",
       "        'width: 100%; text-align: center; padding: 3px;'\n",
       "    );\n",
       "    titlebar.appendChild(titletext);\n",
       "    this.root.appendChild(titlebar);\n",
       "    this.header = titletext;\n",
       "};\n",
       "\n",
       "mpl.figure.prototype._canvas_extra_style = function (_canvas_div) {};\n",
       "\n",
       "mpl.figure.prototype._root_extra_style = function (_canvas_div) {};\n",
       "\n",
       "mpl.figure.prototype._init_canvas = function () {\n",
       "    var fig = this;\n",
       "\n",
       "    var canvas_div = (this.canvas_div = document.createElement('div'));\n",
       "    canvas_div.setAttribute(\n",
       "        'style',\n",
       "        'border: 1px solid #ddd;' +\n",
       "            'box-sizing: content-box;' +\n",
       "            'clear: both;' +\n",
       "            'min-height: 1px;' +\n",
       "            'min-width: 1px;' +\n",
       "            'outline: 0;' +\n",
       "            'overflow: hidden;' +\n",
       "            'position: relative;' +\n",
       "            'resize: both;'\n",
       "    );\n",
       "\n",
       "    function on_keyboard_event_closure(name) {\n",
       "        return function (event) {\n",
       "            return fig.key_event(event, name);\n",
       "        };\n",
       "    }\n",
       "\n",
       "    canvas_div.addEventListener(\n",
       "        'keydown',\n",
       "        on_keyboard_event_closure('key_press')\n",
       "    );\n",
       "    canvas_div.addEventListener(\n",
       "        'keyup',\n",
       "        on_keyboard_event_closure('key_release')\n",
       "    );\n",
       "\n",
       "    this._canvas_extra_style(canvas_div);\n",
       "    this.root.appendChild(canvas_div);\n",
       "\n",
       "    var canvas = (this.canvas = document.createElement('canvas'));\n",
       "    canvas.classList.add('mpl-canvas');\n",
       "    canvas.setAttribute('style', 'box-sizing: content-box;');\n",
       "\n",
       "    this.context = canvas.getContext('2d');\n",
       "\n",
       "    var backingStore =\n",
       "        this.context.backingStorePixelRatio ||\n",
       "        this.context.webkitBackingStorePixelRatio ||\n",
       "        this.context.mozBackingStorePixelRatio ||\n",
       "        this.context.msBackingStorePixelRatio ||\n",
       "        this.context.oBackingStorePixelRatio ||\n",
       "        this.context.backingStorePixelRatio ||\n",
       "        1;\n",
       "\n",
       "    this.ratio = (window.devicePixelRatio || 1) / backingStore;\n",
       "\n",
       "    var rubberband_canvas = (this.rubberband_canvas = document.createElement(\n",
       "        'canvas'\n",
       "    ));\n",
       "    rubberband_canvas.setAttribute(\n",
       "        'style',\n",
       "        'box-sizing: content-box; position: absolute; left: 0; top: 0; z-index: 1;'\n",
       "    );\n",
       "\n",
       "    // Apply a ponyfill if ResizeObserver is not implemented by browser.\n",
       "    if (this.ResizeObserver === undefined) {\n",
       "        if (window.ResizeObserver !== undefined) {\n",
       "            this.ResizeObserver = window.ResizeObserver;\n",
       "        } else {\n",
       "            var obs = _JSXTOOLS_RESIZE_OBSERVER({});\n",
       "            this.ResizeObserver = obs.ResizeObserver;\n",
       "        }\n",
       "    }\n",
       "\n",
       "    this.resizeObserverInstance = new this.ResizeObserver(function (entries) {\n",
       "        var nentries = entries.length;\n",
       "        for (var i = 0; i < nentries; i++) {\n",
       "            var entry = entries[i];\n",
       "            var width, height;\n",
       "            if (entry.contentBoxSize) {\n",
       "                if (entry.contentBoxSize instanceof Array) {\n",
       "                    // Chrome 84 implements new version of spec.\n",
       "                    width = entry.contentBoxSize[0].inlineSize;\n",
       "                    height = entry.contentBoxSize[0].blockSize;\n",
       "                } else {\n",
       "                    // Firefox implements old version of spec.\n",
       "                    width = entry.contentBoxSize.inlineSize;\n",
       "                    height = entry.contentBoxSize.blockSize;\n",
       "                }\n",
       "            } else {\n",
       "                // Chrome <84 implements even older version of spec.\n",
       "                width = entry.contentRect.width;\n",
       "                height = entry.contentRect.height;\n",
       "            }\n",
       "\n",
       "            // Keep the size of the canvas and rubber band canvas in sync with\n",
       "            // the canvas container.\n",
       "            if (entry.devicePixelContentBoxSize) {\n",
       "                // Chrome 84 implements new version of spec.\n",
       "                canvas.setAttribute(\n",
       "                    'width',\n",
       "                    entry.devicePixelContentBoxSize[0].inlineSize\n",
       "                );\n",
       "                canvas.setAttribute(\n",
       "                    'height',\n",
       "                    entry.devicePixelContentBoxSize[0].blockSize\n",
       "                );\n",
       "            } else {\n",
       "                canvas.setAttribute('width', width * fig.ratio);\n",
       "                canvas.setAttribute('height', height * fig.ratio);\n",
       "            }\n",
       "            canvas.setAttribute(\n",
       "                'style',\n",
       "                'width: ' + width + 'px; height: ' + height + 'px;'\n",
       "            );\n",
       "\n",
       "            rubberband_canvas.setAttribute('width', width);\n",
       "            rubberband_canvas.setAttribute('height', height);\n",
       "\n",
       "            // And update the size in Python. We ignore the initial 0/0 size\n",
       "            // that occurs as the element is placed into the DOM, which should\n",
       "            // otherwise not happen due to the minimum size styling.\n",
       "            if (fig.ws.readyState == 1 && width != 0 && height != 0) {\n",
       "                fig.request_resize(width, height);\n",
       "            }\n",
       "        }\n",
       "    });\n",
       "    this.resizeObserverInstance.observe(canvas_div);\n",
       "\n",
       "    function on_mouse_event_closure(name) {\n",
       "        return function (event) {\n",
       "            return fig.mouse_event(event, name);\n",
       "        };\n",
       "    }\n",
       "\n",
       "    rubberband_canvas.addEventListener(\n",
       "        'mousedown',\n",
       "        on_mouse_event_closure('button_press')\n",
       "    );\n",
       "    rubberband_canvas.addEventListener(\n",
       "        'mouseup',\n",
       "        on_mouse_event_closure('button_release')\n",
       "    );\n",
       "    rubberband_canvas.addEventListener(\n",
       "        'dblclick',\n",
       "        on_mouse_event_closure('dblclick')\n",
       "    );\n",
       "    // Throttle sequential mouse events to 1 every 20ms.\n",
       "    rubberband_canvas.addEventListener(\n",
       "        'mousemove',\n",
       "        on_mouse_event_closure('motion_notify')\n",
       "    );\n",
       "\n",
       "    rubberband_canvas.addEventListener(\n",
       "        'mouseenter',\n",
       "        on_mouse_event_closure('figure_enter')\n",
       "    );\n",
       "    rubberband_canvas.addEventListener(\n",
       "        'mouseleave',\n",
       "        on_mouse_event_closure('figure_leave')\n",
       "    );\n",
       "\n",
       "    canvas_div.addEventListener('wheel', function (event) {\n",
       "        if (event.deltaY < 0) {\n",
       "            event.step = 1;\n",
       "        } else {\n",
       "            event.step = -1;\n",
       "        }\n",
       "        on_mouse_event_closure('scroll')(event);\n",
       "    });\n",
       "\n",
       "    canvas_div.appendChild(canvas);\n",
       "    canvas_div.appendChild(rubberband_canvas);\n",
       "\n",
       "    this.rubberband_context = rubberband_canvas.getContext('2d');\n",
       "    this.rubberband_context.strokeStyle = '#000000';\n",
       "\n",
       "    this._resize_canvas = function (width, height, forward) {\n",
       "        if (forward) {\n",
       "            canvas_div.style.width = width + 'px';\n",
       "            canvas_div.style.height = height + 'px';\n",
       "        }\n",
       "    };\n",
       "\n",
       "    // Disable right mouse context menu.\n",
       "    this.rubberband_canvas.addEventListener('contextmenu', function (_e) {\n",
       "        event.preventDefault();\n",
       "        return false;\n",
       "    });\n",
       "\n",
       "    function set_focus() {\n",
       "        canvas.focus();\n",
       "        canvas_div.focus();\n",
       "    }\n",
       "\n",
       "    window.setTimeout(set_focus, 100);\n",
       "};\n",
       "\n",
       "mpl.figure.prototype._init_toolbar = function () {\n",
       "    var fig = this;\n",
       "\n",
       "    var toolbar = document.createElement('div');\n",
       "    toolbar.classList = 'mpl-toolbar';\n",
       "    this.root.appendChild(toolbar);\n",
       "\n",
       "    function on_click_closure(name) {\n",
       "        return function (_event) {\n",
       "            return fig.toolbar_button_onclick(name);\n",
       "        };\n",
       "    }\n",
       "\n",
       "    function on_mouseover_closure(tooltip) {\n",
       "        return function (event) {\n",
       "            if (!event.currentTarget.disabled) {\n",
       "                return fig.toolbar_button_onmouseover(tooltip);\n",
       "            }\n",
       "        };\n",
       "    }\n",
       "\n",
       "    fig.buttons = {};\n",
       "    var buttonGroup = document.createElement('div');\n",
       "    buttonGroup.classList = 'mpl-button-group';\n",
       "    for (var toolbar_ind in mpl.toolbar_items) {\n",
       "        var name = mpl.toolbar_items[toolbar_ind][0];\n",
       "        var tooltip = mpl.toolbar_items[toolbar_ind][1];\n",
       "        var image = mpl.toolbar_items[toolbar_ind][2];\n",
       "        var method_name = mpl.toolbar_items[toolbar_ind][3];\n",
       "\n",
       "        if (!name) {\n",
       "            /* Instead of a spacer, we start a new button group. */\n",
       "            if (buttonGroup.hasChildNodes()) {\n",
       "                toolbar.appendChild(buttonGroup);\n",
       "            }\n",
       "            buttonGroup = document.createElement('div');\n",
       "            buttonGroup.classList = 'mpl-button-group';\n",
       "            continue;\n",
       "        }\n",
       "\n",
       "        var button = (fig.buttons[name] = document.createElement('button'));\n",
       "        button.classList = 'mpl-widget';\n",
       "        button.setAttribute('role', 'button');\n",
       "        button.setAttribute('aria-disabled', 'false');\n",
       "        button.addEventListener('click', on_click_closure(method_name));\n",
       "        button.addEventListener('mouseover', on_mouseover_closure(tooltip));\n",
       "\n",
       "        var icon_img = document.createElement('img');\n",
       "        icon_img.src = '_images/' + image + '.png';\n",
       "        icon_img.srcset = '_images/' + image + '_large.png 2x';\n",
       "        icon_img.alt = tooltip;\n",
       "        button.appendChild(icon_img);\n",
       "\n",
       "        buttonGroup.appendChild(button);\n",
       "    }\n",
       "\n",
       "    if (buttonGroup.hasChildNodes()) {\n",
       "        toolbar.appendChild(buttonGroup);\n",
       "    }\n",
       "\n",
       "    var fmt_picker = document.createElement('select');\n",
       "    fmt_picker.classList = 'mpl-widget';\n",
       "    toolbar.appendChild(fmt_picker);\n",
       "    this.format_dropdown = fmt_picker;\n",
       "\n",
       "    for (var ind in mpl.extensions) {\n",
       "        var fmt = mpl.extensions[ind];\n",
       "        var option = document.createElement('option');\n",
       "        option.selected = fmt === mpl.default_extension;\n",
       "        option.innerHTML = fmt;\n",
       "        fmt_picker.appendChild(option);\n",
       "    }\n",
       "\n",
       "    var status_bar = document.createElement('span');\n",
       "    status_bar.classList = 'mpl-message';\n",
       "    toolbar.appendChild(status_bar);\n",
       "    this.message = status_bar;\n",
       "};\n",
       "\n",
       "mpl.figure.prototype.request_resize = function (x_pixels, y_pixels) {\n",
       "    // Request matplotlib to resize the figure. Matplotlib will then trigger a resize in the client,\n",
       "    // which will in turn request a refresh of the image.\n",
       "    this.send_message('resize', { width: x_pixels, height: y_pixels });\n",
       "};\n",
       "\n",
       "mpl.figure.prototype.send_message = function (type, properties) {\n",
       "    properties['type'] = type;\n",
       "    properties['figure_id'] = this.id;\n",
       "    this.ws.send(JSON.stringify(properties));\n",
       "};\n",
       "\n",
       "mpl.figure.prototype.send_draw_message = function () {\n",
       "    if (!this.waiting) {\n",
       "        this.waiting = true;\n",
       "        this.ws.send(JSON.stringify({ type: 'draw', figure_id: this.id }));\n",
       "    }\n",
       "};\n",
       "\n",
       "mpl.figure.prototype.handle_save = function (fig, _msg) {\n",
       "    var format_dropdown = fig.format_dropdown;\n",
       "    var format = format_dropdown.options[format_dropdown.selectedIndex].value;\n",
       "    fig.ondownload(fig, format);\n",
       "};\n",
       "\n",
       "mpl.figure.prototype.handle_resize = function (fig, msg) {\n",
       "    var size = msg['size'];\n",
       "    if (size[0] !== fig.canvas.width || size[1] !== fig.canvas.height) {\n",
       "        fig._resize_canvas(size[0], size[1], msg['forward']);\n",
       "        fig.send_message('refresh', {});\n",
       "    }\n",
       "};\n",
       "\n",
       "mpl.figure.prototype.handle_rubberband = function (fig, msg) {\n",
       "    var x0 = msg['x0'] / fig.ratio;\n",
       "    var y0 = (fig.canvas.height - msg['y0']) / fig.ratio;\n",
       "    var x1 = msg['x1'] / fig.ratio;\n",
       "    var y1 = (fig.canvas.height - msg['y1']) / fig.ratio;\n",
       "    x0 = Math.floor(x0) + 0.5;\n",
       "    y0 = Math.floor(y0) + 0.5;\n",
       "    x1 = Math.floor(x1) + 0.5;\n",
       "    y1 = Math.floor(y1) + 0.5;\n",
       "    var min_x = Math.min(x0, x1);\n",
       "    var min_y = Math.min(y0, y1);\n",
       "    var width = Math.abs(x1 - x0);\n",
       "    var height = Math.abs(y1 - y0);\n",
       "\n",
       "    fig.rubberband_context.clearRect(\n",
       "        0,\n",
       "        0,\n",
       "        fig.canvas.width / fig.ratio,\n",
       "        fig.canvas.height / fig.ratio\n",
       "    );\n",
       "\n",
       "    fig.rubberband_context.strokeRect(min_x, min_y, width, height);\n",
       "};\n",
       "\n",
       "mpl.figure.prototype.handle_figure_label = function (fig, msg) {\n",
       "    // Updates the figure title.\n",
       "    fig.header.textContent = msg['label'];\n",
       "};\n",
       "\n",
       "mpl.figure.prototype.handle_cursor = function (fig, msg) {\n",
       "    var cursor = msg['cursor'];\n",
       "    switch (cursor) {\n",
       "        case 0:\n",
       "            cursor = 'pointer';\n",
       "            break;\n",
       "        case 1:\n",
       "            cursor = 'default';\n",
       "            break;\n",
       "        case 2:\n",
       "            cursor = 'crosshair';\n",
       "            break;\n",
       "        case 3:\n",
       "            cursor = 'move';\n",
       "            break;\n",
       "    }\n",
       "    fig.rubberband_canvas.style.cursor = cursor;\n",
       "};\n",
       "\n",
       "mpl.figure.prototype.handle_message = function (fig, msg) {\n",
       "    fig.message.textContent = msg['message'];\n",
       "};\n",
       "\n",
       "mpl.figure.prototype.handle_draw = function (fig, _msg) {\n",
       "    // Request the server to send over a new figure.\n",
       "    fig.send_draw_message();\n",
       "};\n",
       "\n",
       "mpl.figure.prototype.handle_image_mode = function (fig, msg) {\n",
       "    fig.image_mode = msg['mode'];\n",
       "};\n",
       "\n",
       "mpl.figure.prototype.handle_history_buttons = function (fig, msg) {\n",
       "    for (var key in msg) {\n",
       "        if (!(key in fig.buttons)) {\n",
       "            continue;\n",
       "        }\n",
       "        fig.buttons[key].disabled = !msg[key];\n",
       "        fig.buttons[key].setAttribute('aria-disabled', !msg[key]);\n",
       "    }\n",
       "};\n",
       "\n",
       "mpl.figure.prototype.handle_navigate_mode = function (fig, msg) {\n",
       "    if (msg['mode'] === 'PAN') {\n",
       "        fig.buttons['Pan'].classList.add('active');\n",
       "        fig.buttons['Zoom'].classList.remove('active');\n",
       "    } else if (msg['mode'] === 'ZOOM') {\n",
       "        fig.buttons['Pan'].classList.remove('active');\n",
       "        fig.buttons['Zoom'].classList.add('active');\n",
       "    } else {\n",
       "        fig.buttons['Pan'].classList.remove('active');\n",
       "        fig.buttons['Zoom'].classList.remove('active');\n",
       "    }\n",
       "};\n",
       "\n",
       "mpl.figure.prototype.updated_canvas_event = function () {\n",
       "    // Called whenever the canvas gets updated.\n",
       "    this.send_message('ack', {});\n",
       "};\n",
       "\n",
       "// A function to construct a web socket function for onmessage handling.\n",
       "// Called in the figure constructor.\n",
       "mpl.figure.prototype._make_on_message_function = function (fig) {\n",
       "    return function socket_on_message(evt) {\n",
       "        if (evt.data instanceof Blob) {\n",
       "            var img = evt.data;\n",
       "            if (img.type !== 'image/png') {\n",
       "                /* FIXME: We get \"Resource interpreted as Image but\n",
       "                 * transferred with MIME type text/plain:\" errors on\n",
       "                 * Chrome.  But how to set the MIME type?  It doesn't seem\n",
       "                 * to be part of the websocket stream */\n",
       "                img.type = 'image/png';\n",
       "            }\n",
       "\n",
       "            /* Free the memory for the previous frames */\n",
       "            if (fig.imageObj.src) {\n",
       "                (window.URL || window.webkitURL).revokeObjectURL(\n",
       "                    fig.imageObj.src\n",
       "                );\n",
       "            }\n",
       "\n",
       "            fig.imageObj.src = (window.URL || window.webkitURL).createObjectURL(\n",
       "                img\n",
       "            );\n",
       "            fig.updated_canvas_event();\n",
       "            fig.waiting = false;\n",
       "            return;\n",
       "        } else if (\n",
       "            typeof evt.data === 'string' &&\n",
       "            evt.data.slice(0, 21) === 'data:image/png;base64'\n",
       "        ) {\n",
       "            fig.imageObj.src = evt.data;\n",
       "            fig.updated_canvas_event();\n",
       "            fig.waiting = false;\n",
       "            return;\n",
       "        }\n",
       "\n",
       "        var msg = JSON.parse(evt.data);\n",
       "        var msg_type = msg['type'];\n",
       "\n",
       "        // Call the  \"handle_{type}\" callback, which takes\n",
       "        // the figure and JSON message as its only arguments.\n",
       "        try {\n",
       "            var callback = fig['handle_' + msg_type];\n",
       "        } catch (e) {\n",
       "            console.log(\n",
       "                \"No handler for the '\" + msg_type + \"' message type: \",\n",
       "                msg\n",
       "            );\n",
       "            return;\n",
       "        }\n",
       "\n",
       "        if (callback) {\n",
       "            try {\n",
       "                // console.log(\"Handling '\" + msg_type + \"' message: \", msg);\n",
       "                callback(fig, msg);\n",
       "            } catch (e) {\n",
       "                console.log(\n",
       "                    \"Exception inside the 'handler_\" + msg_type + \"' callback:\",\n",
       "                    e,\n",
       "                    e.stack,\n",
       "                    msg\n",
       "                );\n",
       "            }\n",
       "        }\n",
       "    };\n",
       "};\n",
       "\n",
       "// from http://stackoverflow.com/questions/1114465/getting-mouse-location-in-canvas\n",
       "mpl.findpos = function (e) {\n",
       "    //this section is from http://www.quirksmode.org/js/events_properties.html\n",
       "    var targ;\n",
       "    if (!e) {\n",
       "        e = window.event;\n",
       "    }\n",
       "    if (e.target) {\n",
       "        targ = e.target;\n",
       "    } else if (e.srcElement) {\n",
       "        targ = e.srcElement;\n",
       "    }\n",
       "    if (targ.nodeType === 3) {\n",
       "        // defeat Safari bug\n",
       "        targ = targ.parentNode;\n",
       "    }\n",
       "\n",
       "    // pageX,Y are the mouse positions relative to the document\n",
       "    var boundingRect = targ.getBoundingClientRect();\n",
       "    var x = e.pageX - (boundingRect.left + document.body.scrollLeft);\n",
       "    var y = e.pageY - (boundingRect.top + document.body.scrollTop);\n",
       "\n",
       "    return { x: x, y: y };\n",
       "};\n",
       "\n",
       "/*\n",
       " * return a copy of an object with only non-object keys\n",
       " * we need this to avoid circular references\n",
       " * http://stackoverflow.com/a/24161582/3208463\n",
       " */\n",
       "function simpleKeys(original) {\n",
       "    return Object.keys(original).reduce(function (obj, key) {\n",
       "        if (typeof original[key] !== 'object') {\n",
       "            obj[key] = original[key];\n",
       "        }\n",
       "        return obj;\n",
       "    }, {});\n",
       "}\n",
       "\n",
       "mpl.figure.prototype.mouse_event = function (event, name) {\n",
       "    var canvas_pos = mpl.findpos(event);\n",
       "\n",
       "    if (name === 'button_press') {\n",
       "        this.canvas.focus();\n",
       "        this.canvas_div.focus();\n",
       "    }\n",
       "\n",
       "    var x = canvas_pos.x * this.ratio;\n",
       "    var y = canvas_pos.y * this.ratio;\n",
       "\n",
       "    this.send_message(name, {\n",
       "        x: x,\n",
       "        y: y,\n",
       "        button: event.button,\n",
       "        step: event.step,\n",
       "        guiEvent: simpleKeys(event),\n",
       "    });\n",
       "\n",
       "    /* This prevents the web browser from automatically changing to\n",
       "     * the text insertion cursor when the button is pressed.  We want\n",
       "     * to control all of the cursor setting manually through the\n",
       "     * 'cursor' event from matplotlib */\n",
       "    event.preventDefault();\n",
       "    return false;\n",
       "};\n",
       "\n",
       "mpl.figure.prototype._key_event_extra = function (_event, _name) {\n",
       "    // Handle any extra behaviour associated with a key event\n",
       "};\n",
       "\n",
       "mpl.figure.prototype.key_event = function (event, name) {\n",
       "    // Prevent repeat events\n",
       "    if (name === 'key_press') {\n",
       "        if (event.key === this._key) {\n",
       "            return;\n",
       "        } else {\n",
       "            this._key = event.key;\n",
       "        }\n",
       "    }\n",
       "    if (name === 'key_release') {\n",
       "        this._key = null;\n",
       "    }\n",
       "\n",
       "    var value = '';\n",
       "    if (event.ctrlKey && event.key !== 'Control') {\n",
       "        value += 'ctrl+';\n",
       "    }\n",
       "    else if (event.altKey && event.key !== 'Alt') {\n",
       "        value += 'alt+';\n",
       "    }\n",
       "    else if (event.shiftKey && event.key !== 'Shift') {\n",
       "        value += 'shift+';\n",
       "    }\n",
       "\n",
       "    value += 'k' + event.key;\n",
       "\n",
       "    this._key_event_extra(event, name);\n",
       "\n",
       "    this.send_message(name, { key: value, guiEvent: simpleKeys(event) });\n",
       "    return false;\n",
       "};\n",
       "\n",
       "mpl.figure.prototype.toolbar_button_onclick = function (name) {\n",
       "    if (name === 'download') {\n",
       "        this.handle_save(this, null);\n",
       "    } else {\n",
       "        this.send_message('toolbar_button', { name: name });\n",
       "    }\n",
       "};\n",
       "\n",
       "mpl.figure.prototype.toolbar_button_onmouseover = function (tooltip) {\n",
       "    this.message.textContent = tooltip;\n",
       "};\n",
       "\n",
       "///////////////// REMAINING CONTENT GENERATED BY embed_js.py /////////////////\n",
       "// prettier-ignore\n",
       "var _JSXTOOLS_RESIZE_OBSERVER=function(A){var t,i=new WeakMap,n=new WeakMap,a=new WeakMap,r=new WeakMap,o=new Set;function s(e){if(!(this instanceof s))throw new TypeError(\"Constructor requires 'new' operator\");i.set(this,e)}function h(){throw new TypeError(\"Function is not a constructor\")}function c(e,t,i,n){e=0 in arguments?Number(arguments[0]):0,t=1 in arguments?Number(arguments[1]):0,i=2 in arguments?Number(arguments[2]):0,n=3 in arguments?Number(arguments[3]):0,this.right=(this.x=this.left=e)+(this.width=i),this.bottom=(this.y=this.top=t)+(this.height=n),Object.freeze(this)}function d(){t=requestAnimationFrame(d);var s=new WeakMap,p=new Set;o.forEach((function(t){r.get(t).forEach((function(i){var r=t instanceof window.SVGElement,o=a.get(t),d=r?0:parseFloat(o.paddingTop),f=r?0:parseFloat(o.paddingRight),l=r?0:parseFloat(o.paddingBottom),u=r?0:parseFloat(o.paddingLeft),g=r?0:parseFloat(o.borderTopWidth),m=r?0:parseFloat(o.borderRightWidth),w=r?0:parseFloat(o.borderBottomWidth),b=u+f,F=d+l,v=(r?0:parseFloat(o.borderLeftWidth))+m,W=g+w,y=r?0:t.offsetHeight-W-t.clientHeight,E=r?0:t.offsetWidth-v-t.clientWidth,R=b+v,z=F+W,M=r?t.width:parseFloat(o.width)-R-E,O=r?t.height:parseFloat(o.height)-z-y;if(n.has(t)){var k=n.get(t);if(k[0]===M&&k[1]===O)return}n.set(t,[M,O]);var S=Object.create(h.prototype);S.target=t,S.contentRect=new c(u,d,M,O),s.has(i)||(s.set(i,[]),p.add(i)),s.get(i).push(S)}))})),p.forEach((function(e){i.get(e).call(e,s.get(e),e)}))}return s.prototype.observe=function(i){if(i instanceof window.Element){r.has(i)||(r.set(i,new Set),o.add(i),a.set(i,window.getComputedStyle(i)));var n=r.get(i);n.has(this)||n.add(this),cancelAnimationFrame(t),t=requestAnimationFrame(d)}},s.prototype.unobserve=function(i){if(i instanceof window.Element&&r.has(i)){var n=r.get(i);n.has(this)&&(n.delete(this),n.size||(r.delete(i),o.delete(i))),n.size||r.delete(i),o.size||cancelAnimationFrame(t)}},A.DOMRectReadOnly=c,A.ResizeObserver=s,A.ResizeObserverEntry=h,A}; // eslint-disable-line\n",
       "mpl.toolbar_items = [[\"Home\", \"Reset original view\", \"fa fa-home icon-home\", \"home\"], [\"Back\", \"Back to previous view\", \"fa fa-arrow-left icon-arrow-left\", \"back\"], [\"Forward\", \"Forward to next view\", \"fa fa-arrow-right icon-arrow-right\", \"forward\"], [\"\", \"\", \"\", \"\"], [\"Pan\", \"Left button pans, Right button zooms\\nx/y fixes axis, CTRL fixes aspect\", \"fa fa-arrows icon-move\", \"pan\"], [\"Zoom\", \"Zoom to rectangle\\nx/y fixes axis, CTRL fixes aspect\", \"fa fa-square-o icon-check-empty\", \"zoom\"], [\"\", \"\", \"\", \"\"], [\"Download\", \"Download plot\", \"fa fa-floppy-o icon-save\", \"download\"]];\n",
       "\n",
       "mpl.extensions = [\"eps\", \"jpeg\", \"pgf\", \"pdf\", \"png\", \"ps\", \"raw\", \"svg\", \"tif\"];\n",
       "\n",
       "mpl.default_extension = \"png\";/* global mpl */\n",
       "\n",
       "var comm_websocket_adapter = function (comm) {\n",
       "    // Create a \"websocket\"-like object which calls the given IPython comm\n",
       "    // object with the appropriate methods. Currently this is a non binary\n",
       "    // socket, so there is still some room for performance tuning.\n",
       "    var ws = {};\n",
       "\n",
       "    ws.binaryType = comm.kernel.ws.binaryType;\n",
       "    ws.readyState = comm.kernel.ws.readyState;\n",
       "    function updateReadyState(_event) {\n",
       "        if (comm.kernel.ws) {\n",
       "            ws.readyState = comm.kernel.ws.readyState;\n",
       "        } else {\n",
       "            ws.readyState = 3; // Closed state.\n",
       "        }\n",
       "    }\n",
       "    comm.kernel.ws.addEventListener('open', updateReadyState);\n",
       "    comm.kernel.ws.addEventListener('close', updateReadyState);\n",
       "    comm.kernel.ws.addEventListener('error', updateReadyState);\n",
       "\n",
       "    ws.close = function () {\n",
       "        comm.close();\n",
       "    };\n",
       "    ws.send = function (m) {\n",
       "        //console.log('sending', m);\n",
       "        comm.send(m);\n",
       "    };\n",
       "    // Register the callback with on_msg.\n",
       "    comm.on_msg(function (msg) {\n",
       "        //console.log('receiving', msg['content']['data'], msg);\n",
       "        var data = msg['content']['data'];\n",
       "        if (data['blob'] !== undefined) {\n",
       "            data = {\n",
       "                data: new Blob(msg['buffers'], { type: data['blob'] }),\n",
       "            };\n",
       "        }\n",
       "        // Pass the mpl event to the overridden (by mpl) onmessage function.\n",
       "        ws.onmessage(data);\n",
       "    });\n",
       "    return ws;\n",
       "};\n",
       "\n",
       "mpl.mpl_figure_comm = function (comm, msg) {\n",
       "    // This is the function which gets called when the mpl process\n",
       "    // starts-up an IPython Comm through the \"matplotlib\" channel.\n",
       "\n",
       "    var id = msg.content.data.id;\n",
       "    // Get hold of the div created by the display call when the Comm\n",
       "    // socket was opened in Python.\n",
       "    var element = document.getElementById(id);\n",
       "    var ws_proxy = comm_websocket_adapter(comm);\n",
       "\n",
       "    function ondownload(figure, _format) {\n",
       "        window.open(figure.canvas.toDataURL());\n",
       "    }\n",
       "\n",
       "    var fig = new mpl.figure(id, ws_proxy, ondownload, element);\n",
       "\n",
       "    // Call onopen now - mpl needs it, as it is assuming we've passed it a real\n",
       "    // web socket which is closed, not our websocket->open comm proxy.\n",
       "    ws_proxy.onopen();\n",
       "\n",
       "    fig.parent_element = element;\n",
       "    fig.cell_info = mpl.find_output_cell(\"<div id='\" + id + \"'></div>\");\n",
       "    if (!fig.cell_info) {\n",
       "        console.error('Failed to find cell for figure', id, fig);\n",
       "        return;\n",
       "    }\n",
       "    fig.cell_info[0].output_area.element.on(\n",
       "        'cleared',\n",
       "        { fig: fig },\n",
       "        fig._remove_fig_handler\n",
       "    );\n",
       "};\n",
       "\n",
       "mpl.figure.prototype.handle_close = function (fig, msg) {\n",
       "    var width = fig.canvas.width / fig.ratio;\n",
       "    fig.cell_info[0].output_area.element.off(\n",
       "        'cleared',\n",
       "        fig._remove_fig_handler\n",
       "    );\n",
       "    fig.resizeObserverInstance.unobserve(fig.canvas_div);\n",
       "\n",
       "    // Update the output cell to use the data from the current canvas.\n",
       "    fig.push_to_output();\n",
       "    var dataURL = fig.canvas.toDataURL();\n",
       "    // Re-enable the keyboard manager in IPython - without this line, in FF,\n",
       "    // the notebook keyboard shortcuts fail.\n",
       "    IPython.keyboard_manager.enable();\n",
       "    fig.parent_element.innerHTML =\n",
       "        '<img src=\"' + dataURL + '\" width=\"' + width + '\">';\n",
       "    fig.close_ws(fig, msg);\n",
       "};\n",
       "\n",
       "mpl.figure.prototype.close_ws = function (fig, msg) {\n",
       "    fig.send_message('closing', msg);\n",
       "    // fig.ws.close()\n",
       "};\n",
       "\n",
       "mpl.figure.prototype.push_to_output = function (_remove_interactive) {\n",
       "    // Turn the data on the canvas into data in the output cell.\n",
       "    var width = this.canvas.width / this.ratio;\n",
       "    var dataURL = this.canvas.toDataURL();\n",
       "    this.cell_info[1]['text/html'] =\n",
       "        '<img src=\"' + dataURL + '\" width=\"' + width + '\">';\n",
       "};\n",
       "\n",
       "mpl.figure.prototype.updated_canvas_event = function () {\n",
       "    // Tell IPython that the notebook contents must change.\n",
       "    IPython.notebook.set_dirty(true);\n",
       "    this.send_message('ack', {});\n",
       "    var fig = this;\n",
       "    // Wait a second, then push the new image to the DOM so\n",
       "    // that it is saved nicely (might be nice to debounce this).\n",
       "    setTimeout(function () {\n",
       "        fig.push_to_output();\n",
       "    }, 1000);\n",
       "};\n",
       "\n",
       "mpl.figure.prototype._init_toolbar = function () {\n",
       "    var fig = this;\n",
       "\n",
       "    var toolbar = document.createElement('div');\n",
       "    toolbar.classList = 'btn-toolbar';\n",
       "    this.root.appendChild(toolbar);\n",
       "\n",
       "    function on_click_closure(name) {\n",
       "        return function (_event) {\n",
       "            return fig.toolbar_button_onclick(name);\n",
       "        };\n",
       "    }\n",
       "\n",
       "    function on_mouseover_closure(tooltip) {\n",
       "        return function (event) {\n",
       "            if (!event.currentTarget.disabled) {\n",
       "                return fig.toolbar_button_onmouseover(tooltip);\n",
       "            }\n",
       "        };\n",
       "    }\n",
       "\n",
       "    fig.buttons = {};\n",
       "    var buttonGroup = document.createElement('div');\n",
       "    buttonGroup.classList = 'btn-group';\n",
       "    var button;\n",
       "    for (var toolbar_ind in mpl.toolbar_items) {\n",
       "        var name = mpl.toolbar_items[toolbar_ind][0];\n",
       "        var tooltip = mpl.toolbar_items[toolbar_ind][1];\n",
       "        var image = mpl.toolbar_items[toolbar_ind][2];\n",
       "        var method_name = mpl.toolbar_items[toolbar_ind][3];\n",
       "\n",
       "        if (!name) {\n",
       "            /* Instead of a spacer, we start a new button group. */\n",
       "            if (buttonGroup.hasChildNodes()) {\n",
       "                toolbar.appendChild(buttonGroup);\n",
       "            }\n",
       "            buttonGroup = document.createElement('div');\n",
       "            buttonGroup.classList = 'btn-group';\n",
       "            continue;\n",
       "        }\n",
       "\n",
       "        button = fig.buttons[name] = document.createElement('button');\n",
       "        button.classList = 'btn btn-default';\n",
       "        button.href = '#';\n",
       "        button.title = name;\n",
       "        button.innerHTML = '<i class=\"fa ' + image + ' fa-lg\"></i>';\n",
       "        button.addEventListener('click', on_click_closure(method_name));\n",
       "        button.addEventListener('mouseover', on_mouseover_closure(tooltip));\n",
       "        buttonGroup.appendChild(button);\n",
       "    }\n",
       "\n",
       "    if (buttonGroup.hasChildNodes()) {\n",
       "        toolbar.appendChild(buttonGroup);\n",
       "    }\n",
       "\n",
       "    // Add the status bar.\n",
       "    var status_bar = document.createElement('span');\n",
       "    status_bar.classList = 'mpl-message pull-right';\n",
       "    toolbar.appendChild(status_bar);\n",
       "    this.message = status_bar;\n",
       "\n",
       "    // Add the close button to the window.\n",
       "    var buttongrp = document.createElement('div');\n",
       "    buttongrp.classList = 'btn-group inline pull-right';\n",
       "    button = document.createElement('button');\n",
       "    button.classList = 'btn btn-mini btn-primary';\n",
       "    button.href = '#';\n",
       "    button.title = 'Stop Interaction';\n",
       "    button.innerHTML = '<i class=\"fa fa-power-off icon-remove icon-large\"></i>';\n",
       "    button.addEventListener('click', function (_evt) {\n",
       "        fig.handle_close(fig, {});\n",
       "    });\n",
       "    button.addEventListener(\n",
       "        'mouseover',\n",
       "        on_mouseover_closure('Stop Interaction')\n",
       "    );\n",
       "    buttongrp.appendChild(button);\n",
       "    var titlebar = this.root.querySelector('.ui-dialog-titlebar');\n",
       "    titlebar.insertBefore(buttongrp, titlebar.firstChild);\n",
       "};\n",
       "\n",
       "mpl.figure.prototype._remove_fig_handler = function (event) {\n",
       "    var fig = event.data.fig;\n",
       "    if (event.target !== this) {\n",
       "        // Ignore bubbled events from children.\n",
       "        return;\n",
       "    }\n",
       "    fig.close_ws(fig, {});\n",
       "};\n",
       "\n",
       "mpl.figure.prototype._root_extra_style = function (el) {\n",
       "    el.style.boxSizing = 'content-box'; // override notebook setting of border-box.\n",
       "};\n",
       "\n",
       "mpl.figure.prototype._canvas_extra_style = function (el) {\n",
       "    // this is important to make the div 'focusable\n",
       "    el.setAttribute('tabindex', 0);\n",
       "    // reach out to IPython and tell the keyboard manager to turn it's self\n",
       "    // off when our div gets focus\n",
       "\n",
       "    // location in version 3\n",
       "    if (IPython.notebook.keyboard_manager) {\n",
       "        IPython.notebook.keyboard_manager.register_events(el);\n",
       "    } else {\n",
       "        // location in version 2\n",
       "        IPython.keyboard_manager.register_events(el);\n",
       "    }\n",
       "};\n",
       "\n",
       "mpl.figure.prototype._key_event_extra = function (event, _name) {\n",
       "    var manager = IPython.notebook.keyboard_manager;\n",
       "    if (!manager) {\n",
       "        manager = IPython.keyboard_manager;\n",
       "    }\n",
       "\n",
       "    // Check for shift+enter\n",
       "    if (event.shiftKey && event.which === 13) {\n",
       "        this.canvas_div.blur();\n",
       "        // select the cell after this one\n",
       "        var index = IPython.notebook.find_cell_index(this.cell_info[0]);\n",
       "        IPython.notebook.select(index + 1);\n",
       "    }\n",
       "};\n",
       "\n",
       "mpl.figure.prototype.handle_save = function (fig, _msg) {\n",
       "    fig.ondownload(fig, null);\n",
       "};\n",
       "\n",
       "mpl.find_output_cell = function (html_output) {\n",
       "    // Return the cell and output element which can be found *uniquely* in the notebook.\n",
       "    // Note - this is a bit hacky, but it is done because the \"notebook_saving.Notebook\"\n",
       "    // IPython event is triggered only after the cells have been serialised, which for\n",
       "    // our purposes (turning an active figure into a static one), is too late.\n",
       "    var cells = IPython.notebook.get_cells();\n",
       "    var ncells = cells.length;\n",
       "    for (var i = 0; i < ncells; i++) {\n",
       "        var cell = cells[i];\n",
       "        if (cell.cell_type === 'code') {\n",
       "            for (var j = 0; j < cell.output_area.outputs.length; j++) {\n",
       "                var data = cell.output_area.outputs[j];\n",
       "                if (data.data) {\n",
       "                    // IPython >= 3 moved mimebundle to data attribute of output\n",
       "                    data = data.data;\n",
       "                }\n",
       "                if (data['text/html'] === html_output) {\n",
       "                    return [cell, data, j];\n",
       "                }\n",
       "            }\n",
       "        }\n",
       "    }\n",
       "};\n",
       "\n",
       "// Register the function which deals with the matplotlib target/channel.\n",
       "// The kernel may be null if the page has been refreshed.\n",
       "if (IPython.notebook.kernel !== null) {\n",
       "    IPython.notebook.kernel.comm_manager.register_target(\n",
       "        'matplotlib',\n",
       "        mpl.mpl_figure_comm\n",
       "    );\n",
       "}\n"
      ],
      "text/plain": [
       "<IPython.core.display.Javascript object>"
      ]
     },
     "metadata": {},
     "output_type": "display_data"
    },
    {
     "data": {
      "text/html": [
       "<img src=\"data:image/png;base64,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\" width=\"640\">"
      ],
      "text/plain": [
       "<IPython.core.display.HTML object>"
      ]
     },
     "metadata": {},
     "output_type": "display_data"
    }
   ],
   "source": [
    "\n",
    "def Plot3dim(x,y,z):\n",
    "    \n",
    "    fig = plt.figure()\n",
    "    ax = plt.axes(projection='3d')\n",
    "    ax.plot_trisurf(x, y, z)\n",
    "    ax.axes.set_xlim3d(left=0, right=1) \n",
    "    ax.axes.set_ylim3d(bottom=0, top=1) \n",
    "    ax.axes.set_zlim3d(bottom=0, top=1)\n",
    "    ax.grid(False)\n",
    "    ax.set_title(\"PLOT OF ALLOWED ENTROPIES\")\n",
    "    ax.set_xlabel(r\"$S_{pol}$\")\n",
    "    ax.set_ylabel(r\"$S_{par}$\")\n",
    "    ax.set_zlabel(r\"$S$\")\n",
    "%matplotlib notebook\n",
    "Plot3dim(x,y,z)\n",
    "# %matplotlib inline"
   ]
  },
  {
   "cell_type": "markdown",
   "metadata": {},
   "source": [
    "## 6. Quantum Circuits\n",
    "As one may have already noticed, the behavior of the system here can be accurately modelled using quantum systems where instead of coherence one measures the purity of a state. We make use of the IBM Qiskit libraries to build these experimental setups into their equivalent quantum circuits making use of ancillary qubits to create inherently mixed states. The main idea here is that for experiment A we would only need the two qubits each representing one DoF to model this system and reproduce the results using the appropriate operators.\n",
    "### Interpretation of the model\n",
    "<p>The first qubit (indexed by 0) refers to the polarisation DOF and the second qubit (index 1) refers to the parity DOF. We will take the $|1\\rangle$ state of polarity to mean pure V-polarisation and $|0\\rangle$ state to mean pure H-polarisation. Similarly, we take the $|0\\rangle$ and $|1\\rangle$ states of the parity qubit to mean purely even and purely odd mode, respectively.</p>\n",
    "<table>\n",
    "    <tr><td>Parity-polarisation state</td><td>Qubit configuration</td></tr>\n",
    "    <tr><td>He</td><td>00</td></tr>\n",
    "    <tr><td>Ho</td><td>01</td></tr>\n",
    "    <tr><td>Ve</td><td>10</td></tr>\n",
    "    <tr><td>Vo</td><td>11</td></tr>\n",
    "</table>\n",
    "<p>Further, we will always use any ancilla qubits we need, to replicate the probabilistic devices (like random rotator or probabilistic PS-SLM) to be the initial qubits, the second last qubit will represent polarisation, and the last qubit represents parity.</p>\n",
    "\n",
    "For experiment B one of our state is starting in an impure form, something which cannot be reached if one were to only apply unitary transformations. Here we make use of an ancillary qubit which is coupled with the rest of the two qubits and hence is in a way storing the coherence we wished to get rid off as part of it's coupling. The main idea of this paper was that partial trace matrices do not give us the complete picture of the system which we can demonstrate very simply just by using a bell state (a pure state) and noting that it's partial traces are actually representative of impure states.\n",
    "\n",
    "The purpose of this section is to demonstrate a simulation which is based in quantum mechanics which reproduces the results of classical coherence obtained in this paper.\n",
    "\n",
    "A small point to add is that in qiskit the representation is not with zeroth qubit being MSB and last qubit being LSB but the other way round. In experiment A for example $q_0$ is the polarization qubit and $q_1$ is the parity qubit and so Ho is actually 10 and Ve is 01 and so on."
   ]
  },
  {
   "cell_type": "code",
   "execution_count": 55,
   "metadata": {},
   "outputs": [],
   "source": [
    "#Defining the operations on the circuit\n",
    "simulator = Aer.get_backend('statevector_simulator') #Using statevector simulator\n",
    "%matplotlib inline\n",
    "\n",
    "def SLM(phi,qc,ancilla_used = 0):\n",
    "    qc.rx(-phi,ancilla_used+1)\n",
    "    return\n",
    "#For HWP, by observing the 2x2 matrix, we see that the operator looks like Ry(theta)*sigma_Z \n",
    "def HWP(theta,qc,ancilla_used = 0):\n",
    "    qc.z(ancilla_used)\n",
    "    qc.ry(theta,ancilla_used)\n",
    "    return\n",
    "\n",
    "#for PS-SLM, we want the H-polarisation to induce an SLM action, but not V. So, if polarisation qubit is 0 (H), we want the\n",
    "#controlled gate to fire. So we first invert (NOT or X gate) the control bit, use a usual controlled gate, then invert it \n",
    "#again.\n",
    "def PSSLM(phi,qc,ancilla_used=0):\n",
    "    qc.x(ancilla_used)\n",
    "    qc.crx(-phi,ancilla_used,ancilla_used+1) #angle,control,target\n",
    "    qc.x(ancilla_used)\n",
    "    return\n",
    "\n",
    "def corr_circ(qc):\n",
    "    result = execute(qc, simulator).result()\n",
    "    statevector = result.get_statevector(qc)\n",
    "    corr = 0\n",
    "    if len(statevector) is 4:\n",
    "        corr = 2*(np.absolute(statevector[0]**2) + np.absolute(statevector[3]**2)) - 1\n",
    "    if len(statevector) is 8:\n",
    "        corr = (np.absolute(statevector[0]**2) + np.absolute(statevector[1]**2) + np.absolute(statevector[6]**2) + np.absolute(statevector[7]**2)) - (np.absolute(statevector[2]**2) + np.absolute(statevector[3]**2) + np.absolute(statevector[4]**2) + np.absolute(statevector[5]**2))\n",
    "    return corr"
   ]
  },
  {
   "cell_type": "markdown",
   "metadata": {},
   "source": [
    "### 6.1 Experiment A\n",
    "For this experiment we take $q_0$ as the polarization DoF and $q_1$ as the parity DoF. Based on the matrix forms of the experimental apparatus we can see that applying an HWP is analogous to a $R_y(\\theta)Z$ on $q_0$ and the SLM is $R_x(-\\phi)$ and the PSSLM is just the SLM as a controlled operation except that it activates for $q_0$ being in 0 instead of 1 so we just apply a NOT on that bit before and after the controlled gate. The measurement done in the end uses the statevector simulator of qiskit to directly calculate probabilities based on the state of the system. While running multiple shots using one of the real quantum computers one can access using IBM-Q would have been more impressive, those will come with heavy noise outputs would require additional noise and error mitigation procedures."
   ]
  },
  {
   "cell_type": "code",
   "execution_count": 56,
   "metadata": {},
   "outputs": [
    {
     "data": {
      "image/png": "[encoded data removed]",
      "text/plain": [
       "<Figure size 840.392x204.68 with 1 Axes>"
      ]
     },
     "execution_count": 56,
     "metadata": {},
     "output_type": "execute_result"
    }
   ],
   "source": [
    "#Quantum Circuit Diagram for A\n",
    "qcA = QuantumCircuit(2,2)\n",
    "qcA.h(0)\n",
    "qcA.barrier() #initialisation complete, 45 degre linearly polarised even mode\n",
    "PSSLM(np.pi/2,qcA) #no ancilla\n",
    "qcA.barrier() #beam is coupled, now on to analysis stage\n",
    "HWP(np.pi/4,qcA)\n",
    "SLM(np.pi/6,qcA)\n",
    "qcA.barrier()#Analysis stage complete. Now, measurement stage\n",
    "qcA.measure(0,0)\n",
    "qcA.measure(1,1)\n",
    "qcA.draw('mpl')"
   ]
  },
  {
   "cell_type": "code",
   "execution_count": 57,
   "metadata": {},
   "outputs": [],
   "source": [
    "def CA(theta_a,phi_a,phi):\n",
    "    qcA=QuantumCircuit(2,2)\n",
    "    qcA.h(0)\n",
    "    qcA.barrier() #initialisation complete, 45 degre linearly polarised even mode\n",
    "    PSSLM(phi,qcA) #no ancilla\n",
    "    qcA.barrier() #beam is coupled, now on to analysis stage\n",
    "    HWP(theta_a,qcA)\n",
    "    SLM(phi_a,qcA)\n",
    "    corr = corr_circ(qcA)\n",
    "    return corr"
   ]
  },
  {
   "cell_type": "code",
   "execution_count": 58,
   "metadata": {},
   "outputs": [
    {
     "data": {
      "application/vnd.jupyter.widget-view+json": {
       "model_id": "aa5098db586448b19d3911dce82f5a22",
       "version_major": 2,
       "version_minor": 0
      },
      "text/plain": [
       "interactive(children=(FloatSlider(value=1.5707963267948966, continuous_update=False, description='phi_A', layo…"
      ]
     },
     "metadata": {},
     "output_type": "display_data"
    }
   ],
   "source": [
    "def CP_A(phi_A):\n",
    "    phi_fixed = phi_A\n",
    "    points = 50\n",
    "    ta_range = np.linspace(0,2*np.pi,points)\n",
    "    pa_range = np.linspace(0,2*np.pi,points)\n",
    "    X,Y = np.meshgrid(ta_range, pa_range)\n",
    "    Z = [[0 for i in range(50)] for j in range(50)]\n",
    "    for i in range(len(Y)):\n",
    "        for j in range(len(X)):\n",
    "            Z[i][j] = CA(ta_range[j],pa_range[i],phi_fixed)\n",
    "    fig, ax = plt.subplots(figsize=(7,5.7))\n",
    "    cp = ax.contourf(X, Y, Z ,cmap='turbo');\n",
    "    fig.colorbar(cp) # Add a colorbar to a plot\n",
    "    plt.xlim(0,2*np.pi)\n",
    "    plt.ylim(0,2*np.pi)\n",
    "    ax.axis('equal')\n",
    "    return\n",
    "interact(CP_A, phi_A=widgets.FloatSlider(min=0, max=2*np.pi, step=0.01, value=np.pi/2, continuous_update=False, layout=Layout(width='600px')));"
   ]
  },
  {
   "cell_type": "markdown",
   "metadata": {},
   "source": [
    "As we can see above we have succesfully recreated the same results using abstract qubits."
   ]
  },
  {
   "cell_type": "markdown",
   "metadata": {},
   "source": [
    "### 6.2 Experiment B\n",
    "Here in the experiment a random rotator is used to generate what would be measured as unpolarized light. As stated before the coherence of a the DoFs are analogous to a qubit being in a mixed or pure state. Since we are working with idealized qubits the state of the system will always remain pure however if one were to look into just the hilbert space of few of the qubits but not all we would have it perceived as an impure state. Here unpolarized light would have a coherency (density) matrix which is diagonal with both entries equal to 1/2. This is a completely mixed state and we can generate this by looking at the partial trace of a qubit which is paired with another qubit as the bell state $\\dfrac{|00\\rangle + |11\\rangle}{\\sqrt{2}}$. Hence we make use of $q_0$ as an ancillary qubit which is present as a bell pair with $q_1$ which is now the polarization qubit. $q_2$ is the parity qubit. As we can see since we do not measure the $q_0$ qubit we would actually see $q_1$ behave like a mixed state which is what the random rotator actually achieves. More specifically the bell state we have described has half probability for any state on the XZ plane of the bloch sphere and since the random rotator is a $R_yZ$ operation the system as a whole is essentially composed of all states on the XZ plane which would be described by observing one qubit out of this bell pair."
   ]
  },
  {
   "cell_type": "code",
   "execution_count": 59,
   "metadata": {},
   "outputs": [
    {
     "data": {
      "image/png": "[encoded data removed]",
      "text/plain": [
       "<Figure size 900.592x264.88 with 1 Axes>"
      ]
     },
     "execution_count": 59,
     "metadata": {},
     "output_type": "execute_result"
    }
   ],
   "source": [
    "#Quantum Circuit Diagram for B\n",
    "qc_B = QuantumCircuit(3,2)\n",
    "qc_B.h(0)\n",
    "qc_B.cx(0,1)\n",
    "qc_B.barrier() #initialisation complete as unpolarized light\n",
    "PSSLM(np.pi/2,qc_B,1)\n",
    "qc_B.barrier() #beam is coupled, now on to analysis stage\n",
    "HWP(np.pi/4,qc_B,1)\n",
    "SLM(np.pi/6,qc_B,1)\n",
    "qc_B.barrier()#Analysis stage complete. Now, measurement stage\n",
    "qc_B.measure(1,0)\n",
    "qc_B.measure(2,1)\n",
    "qc_B.draw('mpl')"
   ]
  },
  {
   "cell_type": "code",
   "execution_count": 60,
   "metadata": {},
   "outputs": [],
   "source": [
    "#Experiment C\n",
    "def CB(theta_a,phi_a,phi):\n",
    "    #Quantum Circuit Diagram for A\n",
    "    qc_B = QuantumCircuit(3)\n",
    "    qc_B.h(0)\n",
    "    qc_B.cx(0,1)\n",
    "    qc_B.barrier() #initialisation complete as unpolarized light\n",
    "    PSSLM(phi,qc_B,1)\n",
    "    qc_B.barrier() #beam is coupled, now on to analysis stage\n",
    "    HWP(theta_a,qc_B,1)\n",
    "    SLM(phi_a,qc_B,1)\n",
    "    qc_B.barrier()#Analysis stage complete.\n",
    "    return corr_circ(qc_B)"
   ]
  },
  {
   "cell_type": "code",
   "execution_count": 61,
   "metadata": {},
   "outputs": [
    {
     "data": {
      "application/vnd.jupyter.widget-view+json": {
       "model_id": "21b627c554434e8a9bc1d3aa2c3da8eb",
       "version_major": 2,
       "version_minor": 0
      },
      "text/plain": [
       "interactive(children=(FloatSlider(value=3.141592653589793, continuous_update=False, description='phi_B', layou…"
      ]
     },
     "metadata": {},
     "output_type": "display_data"
    }
   ],
   "source": [
    "#This cell takes time to run\n",
    "def CP_B(phi_B):\n",
    "    phi_fixed = phi_B\n",
    "    points = 50\n",
    "    ta_range = np.linspace(0,2*np.pi,points)\n",
    "    pa_range = np.linspace(0,2*np.pi,points)\n",
    "    X,Y = np.meshgrid(ta_range, pa_range)\n",
    "    Z = [[0 for i in range(50)] for j in range(50)]\n",
    "    for i in range(len(Y)):\n",
    "        for j in range(len(X)):\n",
    "            Z[i][j] = CB(ta_range[j],pa_range[i],phi_fixed)\n",
    "    fig, ax = plt.subplots(figsize=(7,5.7))\n",
    "    cp = ax.contourf(X, Y, Z ,cmap='turbo');\n",
    "    fig.colorbar(cp) # Add a colorbar to a plot\n",
    "    plt.xlim(0,2*np.pi)\n",
    "    plt.ylim(0,2*np.pi)\n",
    "    ax.axis('equal')\n",
    "    return\n",
    "interact(CP_B, phi_B=widgets.FloatSlider(min=0, max=2*np.pi, step=0.01, value=np.pi, continuous_update=False, layout=Layout(width='600px')));"
   ]
  },
  {
   "cell_type": "markdown",
   "metadata": {},
   "source": [
    "As we can see above we have again been able to reproduce results exactly from those we obtained previously and that of the paper for the correlation function."
   ]
  },
  {
   "cell_type": "markdown",
   "metadata": {},
   "source": [
    "### 6.3 Experiment C\n",
    "In experiment C the paper randomly chooses to either couple the DoFs or not with probability of $P$ and $1-P$ respectively. To recreate this I again make use of an ancillary qubit $q_0$ similar to section [6.2](#6.2-Experiment-B). The idea is to create this in the state $\\sqrt{1-P}|0\\rangle + \\sqrt{P}|1\\rangle$ and use a controlled-Rx gate with angle $-\\pi$ with $q_0$ and $q_1$ (polarization) as control bits where polarization needs to be 0 and ancilla needs to be 1 to activate this rotation. The circuit used decomposes the two control gate using the standard procedure for decomposing two control single target qubit gates if the single control gate is available."
   ]
  },
  {
   "cell_type": "code",
   "execution_count": 62,
   "metadata": {},
   "outputs": [
    {
     "data": {
      "image/png": "[encoded data removed]",
      "text/plain": [
       "<Figure size 1081.19x264.88 with 1 Axes>"
      ]
     },
     "execution_count": 62,
     "metadata": {},
     "output_type": "execute_result"
    }
   ],
   "source": [
    "qc_C = QuantumCircuit(3,2)\n",
    "P = 0.5\n",
    "qc_C.ry(2*np.arccos(np.sqrt(1-P)),0)#Preparing the probability qubit\n",
    "qc_C.h(1)\n",
    "qc_C.barrier()\n",
    "#Do a controlled Rx(-pi) gate with two controls\n",
    "qc_C.x(1)\n",
    "qc_C.crx(-np.pi/2,1,2)\n",
    "qc_C.cx(0,1)\n",
    "qc_C.crx(np.pi/2,1,2)\n",
    "qc_C.cx(0,1)\n",
    "qc_C.crx(-np.pi/2,0,2)\n",
    "qc_C.x(1)\n",
    "qc_C.barrier()\n",
    "#Analysis stage now\n",
    "HWP(np.pi/6,qc_C,1)\n",
    "SLM(np.pi/3,qc_C,1)\n",
    "qc_C.barrier()\n",
    "qc_C.measure(1,0)\n",
    "qc_C.measure(2,1)\n",
    "qc_C.draw('mpl')"
   ]
  },
  {
   "cell_type": "code",
   "execution_count": 63,
   "metadata": {},
   "outputs": [],
   "source": [
    "#Experiment C\n",
    "def CC(P,theta_a,phi_a):\n",
    "    qc_C = QuantumCircuit(3)\n",
    "    qc_C.ry(2*np.arccos(np.sqrt(1-P)),0)#Preparing the probability qubit\n",
    "    qc_C.h(1)\n",
    "    qc_C.barrier()\n",
    "    #Do a controlled y gate with two controls\n",
    "    qc_C.x(1)\n",
    "    qc_C.crx(-np.pi/2,1,2)\n",
    "    qc_C.cx(0,1)\n",
    "    qc_C.crx(np.pi/2,1,2)\n",
    "    qc_C.cx(0,1)\n",
    "    qc_C.crx(-np.pi/2,0,2)\n",
    "    qc_C.x(1)\n",
    "    qc_C.barrier()\n",
    "    #Analysis stage now\n",
    "    HWP(theta_a,qc_C,1)\n",
    "    SLM(phi_a,qc_C,1)\n",
    "    return corr_circ(qc_C)"
   ]
  },
  {
   "cell_type": "code",
   "execution_count": 64,
   "metadata": {},
   "outputs": [
    {
     "data": {
      "application/vnd.jupyter.widget-view+json": {
       "model_id": "c64d0479d85041d98f00a86bbbfc5a44",
       "version_major": 2,
       "version_minor": 0
      },
      "text/plain": [
       "interactive(children=(FloatSlider(value=0.5, continuous_update=False, description='P_var', layout=Layout(width…"
      ]
     },
     "metadata": {},
     "output_type": "display_data"
    }
   ],
   "source": [
    "def CP_C(P_var):\n",
    "    P_fixed = P_var\n",
    "    points = 50\n",
    "    ta_range = np.linspace(0,2*np.pi,points)\n",
    "    pa_range = np.linspace(0,2*np.pi,points)\n",
    "    X,Y = np.meshgrid(ta_range, pa_range)\n",
    "    Z = [[0 for i in range(50)] for j in range(50)]\n",
    "    for i in range(len(Y)):\n",
    "        for j in range(len(X)):\n",
    "            Z[i][j] = CC(P_fixed,ta_range[j],pa_range[i])\n",
    "    fig, ax = plt.subplots(figsize=(7,5.7))\n",
    "    cp = ax.contourf(X, Y, Z ,cmap='turbo');\n",
    "    fig.colorbar(cp) # Add a colorbar to a plot\n",
    "    plt.xlim(0,2*np.pi)\n",
    "    plt.ylim(0,2*np.pi)\n",
    "    ax.axis('equal')\n",
    "interact(CP_C, P_var=widgets.FloatSlider(min=0, max=1, step=0.01, value=0.5, continuous_update=False, layout=Layout(width='600px')));"
   ]
  },
  {
   "cell_type": "markdown",
   "metadata": {},
   "source": [
    "As we can see above this also faithfully reproduces the required results for the correlation function.\n",
    "\n",
    "### Universality using optical components\n",
    "Our main reference for this is [[3](#ref-3)]. To fully realize quantum computing (or any form of computing) one needs a physical system capable of producing the minimal set of operations which can then be extended to a set of all possible operations and sequences of operations. In classical computers the complete set is realized using the set of operations $\\{\\lnot,\\land\\}$ or $\\{\\lnot,\\lor\\}$. For quantum computers universality would imply being able to make any circuit which essentially means the set of all unitary matrices. This of course is non inclusive of measurements (which will not keep a circuit unitary) but one can prove that measurements placed in the middle of a cicuit can be taken to the very end without affecting the final measurement probabilities (since once measured any qubit is essentially decohered and cannot be part of the circuit anyway). \n",
    "\n",
    "To get the complete set of unitary matrices we can first start for the case of a single qubit. This set would essentially be the $SU(2)$ group which is isomorphic to $SO(3)$ and given that we have an $R_x(\\theta)$ gate in form of the SLM we actually just need rotation about some other axis to achieve single qubit universality for parity. The polarization qubit does have a $R_y(\\theta)Z$ qubit which can be used to get the hadamard gate $H$ with $\\theta = \\pi/2$ and in combination with a quarter wave plate with fast axis horizontal which is effectively the square root of $Z$ denoted with an $S$ (ignoring global phase) we can actually make the HWP just be a pure $R_y(\\theta)$. Additionally using $\\theta=\\pi$ we can make this into an $X$ gate ignoring global phase. The importance of this $X$ gate is that if we apply the gate sequence $X$-PSSLM-$X$ it is effectively a PSSLM which applies the operation of the SLM when the polarization is vertical which transalates exactly into a controlled $R_x(\\phi)$ operation which we will use in our analysis below. \n",
    "\n",
    "The PS-SLM is an operator which controls the parity using the polarity and is essentially a controlled Rx gate and so can be made into a CNOT gate which adds an additional phase of $\\iota$ to the horizontal polarization component. To make the CNOT of the other way we can try for the MZI configuration proposed [here](#Proposal-for-a-Parity-Sensitive-Polarisation-Modifier). The point here is that once we have these two CNOTS, we can essentially get universal unitaries by swapping the polarization (see cells below) and parity qubit in such a way that we can apply an Rx gate followed by Ry and then another Rx with the appropriate euler angles and we can attain individual qubit universalities of $U3$ gates.\n",
    "\n",
    "The exact CNOT operation where polarization is control and parity is target involves making use of a quarter wave plate which has the operator form of $e^{-\\iota\\pi/4}\\begin{pmatrix}1 & 0\\\\0 & \\iota\\end{pmatrix}$ on the polarization qubit so that we can induce a relative phase between H and V of polarization. \n",
    "\n",
    "Now for getting overall universality we just need the CNOT gates of both ways and since we already have that using the PSSLM and the MZI setup described previously we actually have a universal quantum computer of two qubits.\n",
    "\n",
    "A small note to be made is that the U3 gates have unique euler angles upto a global phase being ignored. Now we have established that global phase is useless here for a 1 qubit case but with two qubits a controlled-$U$ gate has importance on global phase of $U$. To tackle this we can simply make use of the decomposition of $U$ such that first a controlled $\\tilde{U}$ where $\\tilde{U}$ can be written as just the rotations ($R_y(\\theta_3)R_x(\\theta_2)R_y(\\theta_1)$ or $R_x(\\theta_3)R_y(\\theta_2)R_x(\\theta_1)$ depending on the qubit) ignoring the global phase and say $U=e^{\\iota\\alpha}\\tilde{U}$ we simply apply the gate equivalent to $R_z(\\alpha/2)$ to the control qubit. While applying this $z$ rotation we just introduce a relative phase of $\\alpha$ between the $|0\\rangle$ and $|1\\rangle$ of the control qubit which is equivalent to a controlled $U$ if done after the controlled $\\tilde{U}$. Note that global phase of this last gate does not concern us since that is global for both qubits unlike a controlled gate. "
   ]
  },
  {
   "cell_type": "code",
   "execution_count": 65,
   "metadata": {},
   "outputs": [
    {
     "name": "stdout",
     "output_type": "stream",
     "text": [
      "[[1.+0.000000e+00j 0.+0.000000e+00j 0.+0.000000e+00j 0.+0.000000e+00j]\n",
      " [0.+0.000000e+00j 0.+0.000000e+00j 0.+0.000000e+00j 1.-6.123234e-17j]\n",
      " [0.+0.000000e+00j 0.+0.000000e+00j 1.+0.000000e+00j 0.+0.000000e+00j]\n",
      " [0.+0.000000e+00j 1.+6.123234e-17j 0.+0.000000e+00j 0.+0.000000e+00j]]\n",
      "               ┌───┐\n",
      "q_0: ────■─────┤ S ├\n",
      "     ┌───┴────┐└───┘\n",
      "q_1: ┤ RX(pi) ├─────\n",
      "     └────────┘     \n"
     ]
    }
   ],
   "source": [
    "import qiskit.quantum_info as qi\n",
    "#CNOT\n",
    "qc_cn = QuantumCircuit(2)\n",
    "qc_cn.crx(np.pi,0,1)#PSSLM\n",
    "qc_cn.s(0)\n",
    "print((qi.Operator(qc_cn).data))\n",
    "print(qc_cn.draw())"
   ]
  },
  {
   "cell_type": "markdown",
   "metadata": {},
   "source": [
    "As we can see above as per the matrix form of the operation the circuit has done, this achieves the CNOT gate which we desire and below we show how make this into a swap gate."
   ]
  },
  {
   "cell_type": "code",
   "execution_count": 66,
   "metadata": {},
   "outputs": [
    {
     "name": "stdout",
     "output_type": "stream",
     "text": [
      "[[1.+0.000000e+00j 0.+0.000000e+00j 0.+0.000000e+00j 0.+0.000000e+00j]\n",
      " [0.+0.000000e+00j 0.+0.000000e+00j 1.-6.123234e-17j 0.+0.000000e+00j]\n",
      " [0.+0.000000e+00j 1.+6.123234e-17j 0.+0.000000e+00j 0.+0.000000e+00j]\n",
      " [0.+0.000000e+00j 0.+0.000000e+00j 0.+0.000000e+00j 1.+0.000000e+00j]]\n",
      "               ┌───┐┌───┐          ┌───┐\n",
      "q_0: ────■─────┤ S ├┤ X ├────■─────┤ S ├\n",
      "     ┌───┴────┐└───┘└─┬─┘┌───┴────┐└───┘\n",
      "q_1: ┤ RX(pi) ├───────■──┤ RX(pi) ├─────\n",
      "     └────────┘          └────────┘     \n"
     ]
    }
   ],
   "source": [
    "import qiskit.quantum_info as qi\n",
    "#Swap gate\n",
    "qc_sw = QuantumCircuit(2)\n",
    "qc_sw.crx(np.pi,0,1)#PSSLM\n",
    "qc_sw.s(0)#QWP\n",
    "qc_sw.cx(1,0)\n",
    "qc_sw.crx(np.pi,0,1)#PSSLM\n",
    "qc_sw.s(0)#QWP\n",
    "#Swapping complete\n",
    "print((qi.Operator(qc_sw).data))#See the operator as a matrix\n",
    "print(qc_sw.draw())"
   ]
  },
  {
   "cell_type": "markdown",
   "metadata": {},
   "source": [
    "As we can see above that this achieves the same unitary that a swap gate would. Since we have shown that polarization is capable of arbitray $R_x$ rotations and parity qubits are capable of arbitrary $R_y$ rotations we can follow the following sequence of steps for U3 gates on polarization as shown below. We take the euler angles for $Y-X-Y$ and first apply $R_y$ on polarization, swap with parity and apply a $R_x$ on parity after that. Finally swap again and do the final $R_y$ on the polarization qubit. We follow a similar procedure for parity U3 gates but instead use euler angles of $X-Y-X$."
   ]
  },
  {
   "cell_type": "code",
   "execution_count": 67,
   "metadata": {},
   "outputs": [
    {
     "data": {
      "image/png": "[encoded data removed]",
      "text/plain": [
       "<Figure size 1201.59x144.48 with 1 Axes>"
      ]
     },
     "execution_count": 67,
     "metadata": {},
     "output_type": "execute_result"
    }
   ],
   "source": [
    "#For doing arbitrary rotations on the polarization qubit\n",
    "qc_uq1 = QuantumCircuit(2)\n",
    "eul1 = np.pi/2\n",
    "eul2 = np.pi/3\n",
    "eul3 = np.pi\n",
    "qc_uq1.ry(eul1,0) #HWP combined with QWP\n",
    "qc_uq1.barrier()\n",
    "qc_uq1.crx(np.pi,0,1)#PSSLM\n",
    "qc_uq1.s(0)#QWP\n",
    "qc_uq1.cx(1,0)\n",
    "qc_uq1.crx(np.pi,0,1)#PSSLM\n",
    "qc_uq1.s(0)#QWP\n",
    "#Swapping complete\n",
    "qc_uq1.barrier()\n",
    "qc_uq1.rx(eul2,1) #SLM\n",
    "qc_uq1.barrier()\n",
    "qc_uq1.crx(np.pi,0,1)#PSSLM\n",
    "qc_uq1.s(0)#QWP\n",
    "qc_uq1.cx(1,0)\n",
    "qc_uq1.crx(np.pi,0,1)#PSSLM\n",
    "qc_uq1.s(0)#QWP\n",
    "#Swapping complete\n",
    "qc_uq1.barrier()\n",
    "qc_uq1.ry(eul3,0) #HWP combined with QWP\n",
    "qc_uq1.draw('mpl')"
   ]
  },
  {
   "cell_type": "code",
   "execution_count": 68,
   "metadata": {},
   "outputs": [
    {
     "data": {
      "image/png": "[encoded data removed]",
      "text/plain": [
       "<Figure size 1201.59x144.48 with 1 Axes>"
      ]
     },
     "execution_count": 68,
     "metadata": {},
     "output_type": "execute_result"
    }
   ],
   "source": [
    "#For doing arbitrary rotations on the parity qubit\n",
    "qc_uq2 = QuantumCircuit(2)\n",
    "eul1 = np.pi/2\n",
    "eul2 = np.pi/3\n",
    "eul3 = np.pi\n",
    "qc_uq2.rx(eul1,1) #HWP combined with QWP\n",
    "qc_uq2.barrier()\n",
    "qc_uq2.crx(np.pi,0,1)#PSSLM\n",
    "qc_uq2.s(0)#QWP\n",
    "qc_uq2.cx(1,0)\n",
    "qc_uq2.crx(np.pi,0,1)#PSSLM\n",
    "qc_uq2.s(0)#QWP\n",
    "#Swapping complete\n",
    "qc_uq2.barrier()\n",
    "qc_uq2.ry(eul2,0)\n",
    "qc_uq2.barrier()\n",
    "qc_uq2.crx(np.pi,0,1)#PSSLM\n",
    "qc_uq2.s(0)#QWP\n",
    "qc_uq2.cx(1,0)\n",
    "qc_uq2.crx(np.pi,0,1)#PSSLM\n",
    "qc_uq2.s(0)#QWP\n",
    "#Swapping complete\n",
    "qc_uq2.barrier()\n",
    "qc_uq2.rx(eul3,1) #HWP combined with QWP\n",
    "qc_uq2.draw('mpl')"
   ]
  },
  {
   "cell_type": "markdown",
   "metadata": {},
   "source": [
    "We must note that in the above schemes for U3 gates the other qubit over which the middle rotation is done actually unchanged due to the two swaps and there is no entaglement involved. Hence we have demonstrated a recipe for arbitrary U3 gates on both qubits and we also showed CNOT execution giving us a universal set for any unitary circuit on these two qubits."
   ]
  },
  {
   "cell_type": "markdown",
   "metadata": {},
   "source": [
    "## 7. Concluding Remarks\n",
    "The exceeding of $B_\\text{max}$ beyond the value of 2 in quantum mechanics implied that one cannot use locally deterministic hidden variable theories to explain quantum mechanics or simply put proves that quantum mechanics violates local realism. Here we have seen that $B_\\text{max}$ exceeds this classical limit and one can conclude equivalently that one cannot write the correlation function as some $C(\\theta_a,\\phi_a) = \\int d\\lambda\\rho(\\lambda)C_\\text{pol}(\\theta_a,\\lambda)C_\\text{par}(\\phi_a,\\lambda)$ where $\\lambda$ is some set of hidden variables. The proper proof of this is described in [Appendix A](#Appendix-A:-The-EPR-paradox-and-Bell's-inequalities) and the experimental results concur with this. \n",
    "\n",
    "In a way this shows that if one were to have two DoFs, there would be an uncertainty which arises due their coupling which is quantised by using the Bell's measure. These results would hold good regardless of the type of DoF used and can be extended to systems with a higher number of DoFs too. We also explored how one can link this with quantum systems and reproduced the results using a quantum computer simulation of IBM Q.\n",
    "\n",
    "More importantly one must take note of how looking at the coherency behaviors of the individual DoFs would not address the actual coherence it had since some of it would be 'shared' in form of coupling. In short the partial traces of coherency matrices offer an incomplete picture of the system quite similar to how one would deal with multi qubit systems and have the state behave mixed when only looking at the partial trace over a part of the Hilber space. We even took advantage of this incomplete picture to create mixed states in the previous section. This also demonstrates how one could effectively share coherence between two DoFs as seen in experiment B where the coherency $S_\\text{pol}$ of the polarization qubit is effectively increased at maximal entaglement with the fully coherent parity DoF."
   ]
  },
  {
   "cell_type": "markdown",
   "metadata": {},
   "source": [
    "## Appendix A: The EPR paradox and Bell's inequalities\n",
    "\n",
    "Before talking about the bell's measure let us first dive into why it was made and for this we must look at the EPR experiment proposed in [[4](#ref-4)]. I will discuss Bohm's variant since Bell's response was made in a way to that. Say we have prepared a electron-positron pair coming from a single source. These would be entangled in a way where if we measure the spin of one of the particles, the other particle will simultaneously collapse to the opposite spin.\n",
    "$$|{\\psi}\\rangle = \\dfrac{|{\\uparrow_e\\downarrow_p}\\rangle + |{\\downarrow_e\\uparrow_p}\\rangle}{\\sqrt{2}}$$\n",
    "So the main issue which Einstein had was that this means that measurement on one particle directly affects the other no matter how far it is. This makes it a non local effect which clearly does not make sense in a world which was believed to follow local realism. It can be proven that the two agents have no way to communicate using this pair hence showing that there actually is no faster than light comminication. While one may think choosing basis in a certain manner can change measurement probabilities and essentially have some \"information\" change, no matter how much measurements are done, since this is probabilistic the other agent cannot conclude anything from that.\n",
    "   \n",
    "\n",
    "While there have been multiple responses to this, the most important one is the one discussed in Bell's paper [[5](#ref-5)].\n",
    "First we will start by considering the EPR argument using spin particles. Consider a pair of spin one-half particles formed somehow in the singlet spin state and moving freely in opposite directions. Measurements can be made, say by Stern-Gerlach magnets, on selected components of the spins $\\vec{\\sigma_1}$ and $\\vec{\\sigma_2}$,\n",
    "If measurement of the component $\\vec{\\sigma_1}\\cdot{a}$, where $a$ is some unit vector, yields the value +1 then, according to quantum mechanics, measurement of $\\vec{\\sigma_2}\\cdot{a}$ must yield the value -1 and vice versa.\n",
    "We now define some set of parameters $\\lambda$ which is taken as continuous which give us a complete description of the state. The result $A$ of measuring $\\vec{\\sigma_1}\\cdot{a}$ is then determined by $a$ and $\\lambda$, and the result $B$ of measuring $\\vec{\\sigma_2}\\cdot{b}$ in the\n",
    "same instance is determined by $b$ and $\\lambda$.\n",
    "\\begin{equation}\\label{eq:1A}\\tag{1A}A(\\vec{a},\\lambda) = \\pm 1, B(\\vec{b},\\lambda) = \\pm 1 \\end{equation}\n",
    "We now take $\\rho(\\lambda)$ as the probability distribution of $\\lambda$ and we will now try to find the expectation value of of the product of the two components $\\vec{\\sigma_1}\\cdot{a}$ and $\\vec{\\sigma_2}\\cdot{b}$.\n",
    "\\begin{equation}\\label{eq:2A}\\tag{2A}P(\\vec{a}\\vec{b}) = \\int{d\\lambda}\\rho{\\lambda}A(\\vec{a},\\lambda)B(\\vec{b},\\lambda)\\end{equation}\n",
    "The quantum mechanical expectation value of this is the following\n",
    "\\begin{equation}\\label{eq:3A}\\tag{3A}\\langle\\vec{\\sigma_1}\\cdot{a}\\vec{\\sigma_2}\\cdot{b}\\rangle = - \\vec{a}\\cdot\\vec{b}\\end{equation}\n",
    "However it turns out that eq: \\ref{eq:2A} doesn't give us the same result as \\ref{eq:3A}. So first off we know that we have a normalized distribution.\n",
    "\\begin{equation}\\label{eq:4A}\\tag{4A}\\int{d\\lambda}\\rho(\\lambda) = 1\\end{equation}\n",
    "if we take $\\vec{a} = \\vec{b}$ the $P$ in eq: \\ref{eq:2A} can reach -1.\n",
    "\\begin{equation}\\label{eq:5A}\\tag{5A}A(\\vec{a},\\lambda) = -B(\\vec{a},\\lambda)\\end{equation}\n",
    "Knowing this we can rewrite eq: \\ref{eq:2A} into the following\n",
    "\\begin{equation}\\label{eq:6A}\\tag{6A}P(\\vec{a}\\vec{b}) = -\\int{d\\lambda}\\rho{\\lambda}A(\\vec{a},\\lambda)A(\\vec{b},\\lambda)\\end{equation}\n",
    "\\begin{equation}\\label{eq:7A}\\tag{7A}P(\\vec{a},\\vec{b}) - P(\\vec{a},\\vec{c}) = \\int{d\\lambda}\\rho{\\lambda}[1-A(\\vec{b},\\lambda)A(\\vec{c},\\lambda)]\\end{equation}\n",
    "from eq: \\ref{eq:1A} we can write this\n",
    "\\begin{equation}\\label{eq:8A}\\tag{8A}|P(\\vec{a},\\vec{b}) - P(\\vec{a},\\vec{c})| \\leq \\int{d\\lambda}\\rho{\\lambda}A(\\vec{a},\\lambda)A(\\vec{b},\\lambda)[A(\\vec{b},\\lambda)A(\\vec{c},\\lambda) - 1]\\end{equation}\n",
    "The second term on the right is just $P(\\vec{b},\\vec{c})$ so we get\n",
    "\\begin{equation}\\label{eq:9A}\\tag{9A}1 + P(\\vec{b},\\vec{c}) \\geq |P(\\vec{a},\\vec{b}) - P(\\vec{a},\\vec{c})|\\end{equation}\n",
    "Now we define a $\\overline{P}(\\vec{a},\\vec{b})$ and a $\\overline{- \\vec{a}\\cdot\\vec{b}}$ which essentially are the averages over vectors differing from a small angle from $\\vec{a}$ and $\\vec{b}$ of the quantities under the bar. Let's suppose the following holds for some $\\epsilon$\n",
    "\\begin{equation}\\label{eq:10A}\\tag{10A}|\\overline{P}(\\vec{a},\\vec{b}) + \\overline{\\vec{a}\\cdot\\vec{b}}| \\leq \\epsilon\\end{equation}\n",
    "We cannot make $\\epsilon$ arbitrarily small and this can be proven by the following steps. Let us first assume the following inequality holds for all $\\vec{a}$ and $\\vec{b}$\n",
    "\\begin{equation}\\label{eq:11A}\\tag{11A}|\\overline{\\vec{a}\\cdot\\vec{b}} - \\vec{a}\\cdot\\vec{b}| \\leq\\delta\\end{equation}\n",
    "Then using eq:\\ref{eq:11A} and eq:\\ref{eq:10A} we have\n",
    "\\begin{equation}\\label{eq:12A}\\tag{12A}|\\overline{P}(\\vec{a},\\vec{b}) + \\vec{a}\\cdot\\vec{b}| \\leq \\epsilon + \\delta\\end{equation}\n",
    "Now taking $\\vec{a} = \\vec{b}$ (hence their dot product is 1) we rewrite eq:\\ref{eq:12A} as the equation below while using the fact that $\\overline{P(\\vec{a},\\vec{b})} = \\int d\\lambda\\rho(\\lambda)\\overline{A}(\\vec{a},\\lambda)\\overline{B}(\\vec{b},\\lambda))$.\n",
    "\\begin{equation}\\label{eq:13A}\\tag{13A}\\int d\\lambda\\rho(\\lambda)[\\overline{A}(\\vec{b},\\lambda)\\overline{B}(\\vec{b},\\lambda))+1] \\leq\\epsilon+\\delta\\end{equation}\n",
    "We can extend from \\ref{eq:1A} that on averaging over a small range, $|\\overline{A}(\\vec{a},\\lambda)| \\leq 1$ and $|\\overline{B}(\\vec{b},\\lambda)| \\leq 1$. Now we can write the following\n",
    "\\begin{equation}\\label{eq:14A}\\tag{14A}\\overline{P}(\\vec{a},\\vec{b})-\\overline{P}(\\vec{b},\\vec{c}) = \\int{d\\lambda}\\rho(\\lambda)\\overline{A}(\\vec{a},\\lambda)\\overline{B}(\\vec{b},\\lambda)[\\overline{A}(\\vec{b},\\lambda)\\overline{B}(\\vec{c},\\lambda) + 1] - \\int{d\\lambda}\\rho(\\lambda)\\overline{A}(\\vec{a},\\lambda)\\overline{B}(\\vec{c},\\lambda)[\\overline{A}(\\vec{b},\\lambda)\\overline{B}(\\vec{b},\\lambda) + 1]\\end{equation}\n",
    "Using the inequalities on the averaged $A$ and $B$ we can write the following\n",
    "\\begin{equation}\\label{eq:15A}\\tag{15A}|\\overline{P}(\\vec{a},\\vec{b})-\\overline{P}(\\vec{b},\\vec{c})| \\leq \\int{d\\lambda}\\rho(\\lambda)[\\overline{A}(\\vec{b},\\lambda)\\overline{B}(\\vec{c},\\lambda) + 1] - \\int{d\\lambda}\\rho(\\lambda)[\\overline{A}(\\vec{b},\\lambda)\\overline{B}(\\vec{b},\\lambda) + 1]\\end{equation}\n",
    "\\begin{equation}\\label{eq:16A}\\tag{16A}|\\overline{P}(\\vec{a},\\vec{b})-\\overline{P}(\\vec{b},\\vec{c})| \\leq 1 + \\overline{P} + \\epsilon+\\delta\\end{equation}\n",
    "We write eq:\\ref{eq:16A} using eq:\\ref{eq:15A} and eq:\\ref{eq:13A}. Finally using eq:\\ref{eq:12A} we rewrite the above equation as\n",
    "\\begin{equation}\\label{eq:17A}\\tag{17A}|\\vec{a}\\cdot\\vec{c}-\\vec{a}\\cdot\\vec{b}|+\\vec{b}\\cdot\\vec{c}-1 \\leq 4(\\epsilon+\\delta)\\end{equation}\n",
    "Now with the constr  aint coming from eq:\\ref{eq:17A} we can handpick values of $\\vec{a},\\vec{b},\\vec{c}$ such that $\\epsilon$ cannot be made arbitrarily small (take $\\vec{a}\\cdot\\vec{b} = \\vec{c}\\cdot\\vec{b} = 1/\\sqrt{2}$ and $\\vec{a}\\cdot\\vec{c} = 0$ this would show $4(\\epsilon+\\delta)\\geq\\sqrt{2}-1$). The fact that $\\epsilon$ cannot be made arbitrarily small implies that the quantum mechanical value cannot be approximated either accurately or arbitrarily close to this form using hidden variable. So this contradiction implies that some assumptions that we have taken happen to not work together and that happen to be local determinism and hidden variables. So any hidden variable theory by nature itself is non local.\n",
    "\n",
    "To get the form of the CSHS inequalities we essentially modify the form of eq:\\ref{eq:14A} and write it as follows\n",
    "\\begin{equation}\\label{eq:18A}\\tag{18A}\\overline{P}(\\vec{a},\\vec{b})-\\overline{P}(\\vec{a},\\vec{b}') = \\int{d\\lambda}\\rho(\\lambda)\\overline{A}(\\vec{a},\\lambda)\\overline{B}(\\vec{b},\\lambda)[1\\pm\\overline{A}(\\vec{a}',\\lambda)\\overline{B}(\\vec{b}',\\lambda)] - \\int{d\\lambda}\\rho(\\lambda)\\overline{A}(\\vec{a},\\lambda)\\overline{B}(\\vec{b}',\\lambda)[1\\pm\\overline{A}(\\vec{a}',\\lambda)\\overline{B}(\\vec{b},\\lambda)]\\end{equation}\n",
    "We now apply the triangle inequality and also note that the modulus of the averaged functions $\\overline{A}$ and $\\overline{B}$ are bounded above by 1 we will get\n",
    "\\begin{equation}\\label{eq:19A}\\tag{19A}|\\overline{P}(\\vec{a},\\vec{b})-\\overline{P}(\\vec{a},\\vec{b}')| \\leq \\left|\\int{d\\lambda}\\rho(\\lambda)[1\\pm\\overline{A}(\\vec{a}',\\lambda)\\overline{B}(\\vec{b}',\\lambda)]\\right| + \\left|\\int{d\\lambda}\\rho(\\lambda)[1\\pm\\overline{A}(\\vec{a}',\\lambda)\\overline{B}(\\vec{b},\\lambda)]\\right|\\end{equation}\n",
    "We may as well remove the moduli brackets on the LHS since the quantities is non negative. Since $\\int\\rho(\\lambda)d\\lambda = 1$ and $\\overline{P(\\vec{a},\\vec{b})} = \\int d\\lambda\\rho(\\lambda)\\overline{A}(\\vec{a},\\lambda)\\overline{B}(\\vec{b},\\lambda))$ we can rewrite eq:\\ref{eq:19A} as\n",
    "\\begin{equation}\\label{eq:20A}\\tag{20A}|\\overline{P}(\\vec{a},\\vec{b})-\\overline{P}(\\vec{a},\\vec{b}')| \\leq 2 \\pm (\\overline{P}(\\vec{a}',\\vec{b}') + \\overline{P}(\\vec{a}',\\vec{b})) \\leq 2 \\pm |\\overline{P}(\\vec{a}',\\vec{b}') + \\overline{P}(\\vec{a}',\\vec{b}|\\end{equation}\n",
    "The second inequality comes from the triangle inequality. Now we can choose the minus sign and we get\n",
    "\\begin{equation}\\label{eq:21A}\\tag{21A}|\\overline{P}(\\vec{a},\\vec{b})-\\overline{P}(\\vec{a},\\vec{b}')| + |\\overline{P}(\\vec{a}',\\vec{b}') + \\overline{P}(\\vec{a}',\\vec{b}| \\leq 2\\end{equation}\n",
    "Finally we get the following equation by applying the triangle inequality on RHS of eq:\\ref{eq:21A}\n",
    "\\begin{equation}\\label{eq:22A}\\tag{22A}|\\overline{P}(\\vec{a},\\vec{b})-\\overline{P}(\\vec{a},\\vec{b}') + \\overline{P}(\\vec{a}',\\vec{b}') + \\overline{P}(\\vec{a}',\\vec{b}| \\leq 2\\end{equation}\n",
    "The above inequality is the form of writing the CHSH inequalities [[6](#ref-6)]. The bound above is shown to be 2 which is satisfied for classical systems and is violated for quantum mechanical correlations. One can instead prove a different bound for quantum correlations as $2\\sqrt{2}$. This is reffered to as the Tsirelon's bound. To prove this we can suppose we have four hermitian operators $A_0,A_1,B_0,B_1$ where $[A_i,B_j] = 0$ but the $[A_0,A_1] \\neq 0$ and $[B_0,B_1] \\neq 0$. We define these $A$ operators as being two different spin measurements on the same electron and $B$ being the same on the positron where their results are either $+1$ or $-1$. We know that for a simple spin system $[\\sigma\\cdot\\vec{a},\\sigma\\cdot\\vec{b}] = 2\\iota\\sigma\\cdot(\\vec{a}\\times\\vec{b})$. Now we will define a new operator called $\\mathcal{B}$\n",
    "$$\\mathcal{B} = A_0B_0 + A_0B_1 + A_1B_0 - A_1B_1$$\n",
    "This operator has been defined along the lines of the bell's measure where expectation value of the modulus of this operator would be the actual bells measure for a correlation function of $C_{ij} = \\langle A_iB_j\\rangle$. We can now square this operator and it would simpify as the equation below (since $A_i^2 = B_i^2 = I$)\n",
    "$$\\mathcal{B}^2 = 4I - [A_0,A_1][B_0,B_1]$$\n",
    "Since these are spin operators we have $|[A_0,A_1][B_0,B_1]| \\leq 4I$ using the commutation relation we had defined earlier. We would infact have $\\mathcal{B}^2$ reach it's maximum if $A_0,B_0$ measures along $\\hat{x}$ and $A_1,B_1$ measures along $\\hat{y}$ which would make $\\mathcal{B}^2 = 8I$. This leads us to $\\langle \\mathcal{B}\\rangle \\leq 2\\sqrt{2}$ which is the Tsirelon's bound [[7](#ref-7)]. In this paper the $B_{max}$ values are bounded above due to Tsirelon's bound.\n"
   ]
  },
  {
   "cell_type": "markdown",
   "metadata": {},
   "source": [
    "## References\n",
    "<br>\n",
    "<div id=\"ref-1\">[1] Kagalwala, K., Di Giuseppe, G., Abouraddy, A. et al. Bell's measure in classical optical coherence. Nature Photon 7, 72–78 (2013). <a href=\"https://doi.org/10.1038/nphoton.2012.312\">https://doi.org/10.1038/nphoton.2012.312</a></div>\n",
    "<div id=\"ref-2\">[2] Aiello, A., and Woerdman, J. (2005). Physical Bounds to the Entropy-Depolarization Relation in Random Light Scattering. Phys. Rev. Lett., 94, 090406.</div>\n",
    "<div id=\"ref-3\">[3] Nielsen, M, Chuang, I. Quantum Computation and Quantum Information: 10th Anniversary Edition. Cambridge University Press; 2011.</div>\n",
    "<div id=\"ref-4\">[4] Einstein, A, Podolsky, B, Rosen, N. \"Can Quantum-Mechanical Description of Physical Reality Be Considered Complete?\". Phys. Rev. 1935; 47:777–780.</div>\n",
    "<div id=\"ref-5\">[5] Bell, J. \"On the Einstein Podolsky Rosen paradox\". Physics Physique Fizika 1964; 1:195–200.</div>\n",
    "<div id=\"ref-6\">[6] Clauser, J, Horne, M, Shimony, A, Holt, R. \"Proposed Experiment to Test Local Hidden-Variable Theories\". Phys. Rev. Lett. 1969; 23:880–884.</div>\n",
    "<div id=\"ref-7\">[7] Cirel'son, B.S. Quantum generalizations of Bell's inequality. Lett Math Phys 4, 93–100 (1980). <a href=\"https://doi.org/10.1007/BF00417500\">https://doi.org/10.1007/BF00417500</a></div>\n",
    "<div id=\"ref-8\">[8] Zyczkowski, K., Penson, K. A., Nechita, I. & Collins, C. Generating random\n",
    "density matrices. J. Math. Phys. 52, 062201 (2011).</div>\n",
    "<div id=\"ref-9\">[9] Gil, Jose & Bernabeu, Eusebio. (1987). Obtainment of the polarizing and retardation parameters of a non-depolarizing optical system from the polar decomposition of its Mueller matrix. Optik. 76. 67. </div>\n",
    "<div id=\"ref-10\">[10] Yarnall, T., Abouraddy, A. F., Saleh, B. E. A. & Teich, M. C. Synthesis and\n",
    "analysis of entangled photonic qubits in spatial-parity space. Phys. Rev. Lett.\n",
    "99, 250502 (2007).</div>"
   ]
  }
 ],
 "metadata": {
  "kernelspec": {
   "display_name": "Python 3",
   "language": "python",
   "name": "python3"
  },
  "language_info": {
   "codemirror_mode": {
    "name": "ipython",
    "version": 3
   },
   "file_extension": ".py",
   "mimetype": "text/x-python",
   "name": "python",
   "nbconvert_exporter": "python",
   "pygments_lexer": "ipython3",
   "version": "3.8.2"
  }
 },
 "nbformat": 4,
 "nbformat_minor": 2
}
