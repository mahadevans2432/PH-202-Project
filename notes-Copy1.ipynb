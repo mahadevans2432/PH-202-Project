{
 "cells": [
  {
   "cell_type": "markdown",
   "metadata": {},
   "source": [
    "# BELL'S MEASURE IN CLASSICAL OPTICAL COHERENCE"
   ]
  },
  {
   "cell_type": "markdown",
   "metadata": {},
   "source": [
    "## 0. Setting up this notebook\n",
    "Kindly run the cell below to make sure you have all required dependencies"
   ]
  },
  {
   "cell_type": "markdown",
   "metadata": {},
   "source": [
    "### 0.1 Installing and Importing Packages"
   ]
  },
  {
   "cell_type": "code",
   "execution_count": 1,
   "metadata": {},
   "outputs": [
    {
     "name": "stdout",
     "output_type": "stream",
     "text": [
      "Successfully imported packages\n"
     ]
    }
   ],
   "source": [
    "from IPython.display import clear_output\n",
    "!pip3 install numpy\n",
    "!pip3 install scipy\n",
    "!pip3 install pandas\n",
    "!pip3 install matplotlib\n",
    "!pip3 install sympy\n",
    "!pip3 install seaborn\n",
    "clear_output()\n",
    "import numpy as np\n",
    "import matplotlib.pyplot as plt\n",
    "from matplotlib.widgets import Slider, Button, RadioButtons\n",
    "from ipywidgets import interact, interactive, fixed, interact_manual, Layout\n",
    "import ipywidgets as widgets\n",
    "from mpl_toolkits.mplot3d import axes3d\n",
    "from sympy import *\n",
    "from sympy.physics.quantum.dagger import Dagger\n",
    "from IPython.display import Javascript\n",
    "import seaborn as sns\n",
    "import scipy as sc\n",
    "import sys\n",
    "np.set_printoptions(threshold=sys.maxsize)\n",
    "print(\"Successfully imported packages\")"
   ]
  },
  {
   "cell_type": "markdown",
   "metadata": {},
   "source": [
    "#### 0.2 Defining Functions"
   ]
  },
  {
   "cell_type": "code",
   "execution_count": 2,
   "metadata": {},
   "outputs": [],
   "source": [
    "def multiple_formatter(denominator=2, number=np.pi, latex='\\pi'):\n",
    "    def gcd(a, b):\n",
    "        while b:\n",
    "            a, b = b, a%b\n",
    "        return a\n",
    "    def _multiple_formatter(x, pos):\n",
    "        den = denominator\n",
    "        num = int(np.rint(den*x/number))\n",
    "        com = gcd(num,den)\n",
    "        (num,den) = (int(num/com),int(den/com))\n",
    "        if den==1:\n",
    "            if num==0:\n",
    "                return r'$0$'\n",
    "            if num==1:\n",
    "                return r'$%s$'%latex\n",
    "            elif num==-1:\n",
    "                return r'$-%s$'%latex\n",
    "            else:\n",
    "                return r'$%s%s$'%(num,latex)\n",
    "        else:\n",
    "            if num==1:\n",
    "                return r'$\\frac{%s}{%s}$'%(latex,den)\n",
    "            elif num==-1:\n",
    "                return r'$\\frac{-%s}{%s}$'%(latex,den)\n",
    "            else:\n",
    "                return r'$\\frac{%s%s}{%s}$'%(num,latex,den)\n",
    "    return _multiple_formatter\n",
    "\n",
    "class Multiple:\n",
    "    def __init__(self, denominator=2, number=np.pi, latex='\\pi'):\n",
    "        self.denominator = denominator\n",
    "        self.number = number\n",
    "        self.latex = latex\n",
    "\n",
    "    def locator(self):\n",
    "        return plt.MultipleLocator(self.number / self.denominator)\n",
    "\n",
    "    def formatter(self):\n",
    "        return plt.FuncFormatter(multiple_formatter(self.denominator, self.number, self.latex))"
   ]
  },
  {
   "cell_type": "code",
   "execution_count": 3,
   "metadata": {},
   "outputs": [],
   "source": [
    "def plotter(expt,x,y,title,xlabel,ylabel,col,label):\n",
    "    num_space,=x.shape\n",
    "    plt.plot(x,y, color=col,linewidth=3, label=label)\n",
    "    plt.title(title, fontsize=15)\n",
    "    plt.xlabel(xlabel, fontsize=15)\n",
    "    plt.ylabel(ylabel, fontsize=15)\n",
    "    if expt=='A' or expt=='B':\n",
    "        plt.xlim(0,2*np.pi)\n",
    "    else:\n",
    "        plt.xlim(0,1)\n",
    "    ax=plt.gca()\n",
    "    ax.set_facecolor('#FFFFCC')\n",
    "    ax.axhline(0, color='black', lw=2)\n",
    "    ax.axvline(0, color='black', lw=2)\n",
    "    if expt=='A' or expt=='B':\n",
    "        ax.xaxis.set_major_locator(plt.MultipleLocator(np.pi / 2))\n",
    "        ax.xaxis.set_minor_locator(plt.MultipleLocator(np.pi / 12))\n",
    "        ax.xaxis.set_major_formatter(plt.FuncFormatter(multiple_formatter()))\n",
    "    plt.xticks(fontsize =15)\n",
    "    plt.yticks(fontsize =15)\n",
    "    return"
   ]
  },
  {
   "cell_type": "code",
   "execution_count": 4,
   "metadata": {},
   "outputs": [],
   "source": [
    "def contourplotter(expt,param,title,xlabel,ylabel):\n",
    "    ta_range = np.linspace(0,2*np.pi,1000);\n",
    "    pa_range = np.linspace(0,2*np.pi,1000);\n",
    "    param_fixed = param;\n",
    "    X, Y = np.meshgrid(ta_range, pa_range);\n",
    "    def ftemp(ta_val,pa_val):\n",
    "        if expt=='A':\n",
    "            return fA(0,param_fixed,ta_val,pa_val);\n",
    "        elif expt=='B':\n",
    "            return fB(0,param_fixed,ta_val,pa_val);\n",
    "        else:\n",
    "            return fC(0,param_fixed,ta_val,pa_val);\n",
    "    Z = ftemp(X,Y);\n",
    "    fig, ax = plt.subplots(figsize=(7,5.7))\n",
    "    clev = np.arange(Z.min(),Z.max(),0.05)\n",
    "    cp = ax.contourf(X, Y, Z,20 ,cmap='turbo');\n",
    "    fig.colorbar(cp) # Add a colorbar to a plot\n",
    "    plt.xlim(0,2*np.pi);\n",
    "    plt.ylim(0,2*np.pi);\n",
    "    ax.axis('equal');\n",
    "\n",
    "    plt.title(title, fontsize=15)\n",
    "    plt.xlabel(xlabel, fontsize=15)\n",
    "    plt.ylabel(ylabel, fontsize=15)\n",
    "    ax=plt.gca()\n",
    "    ax.set_facecolor((0.8,1,1))\n",
    "    ax.axhline(0, color='black', lw=2)\n",
    "    ax.axvline(0, color='black', lw=2)\n",
    "    ax.xaxis.set_major_locator(plt.MultipleLocator(np.pi / 2))\n",
    "    ax.xaxis.set_minor_locator(plt.MultipleLocator(np.pi / 12))\n",
    "    ax.xaxis.set_major_formatter(plt.FuncFormatter(multiple_formatter()))\n",
    "    ax.yaxis.set_major_locator(plt.MultipleLocator(np.pi / 2))\n",
    "    ax.yaxis.set_minor_locator(plt.MultipleLocator(np.pi / 12))\n",
    "    ax.yaxis.set_major_formatter(plt.FuncFormatter(multiple_formatter()))\n",
    "    plt.xticks(fontsize =15)\n",
    "    plt.yticks(fontsize =15)\n",
    "    return"
   ]
  },
  {
   "cell_type": "markdown",
   "metadata": {},
   "source": [
    "## Team details and work distrubution\n",
    "Fill this later"
   ]
  },
  {
   "cell_type": "markdown",
   "metadata": {},
   "source": [
    "## Introduction\n",
    "Essentially abstract and methods we have used for reproducing the results"
   ]
  },
  {
   "cell_type": "markdown",
   "metadata": {},
   "source": [
    "## 1. Polarization & Spatial Parity\n",
    "\n",
    "In the paper \\[topic 2\\] the experiments which were done were made using of an optical beam model with two binary degrees of freedom, them being polarization and spatial parity along the $x$ direction respectively of a quasi monochromatic source.<br>\n",
    "For the spatial parity, in one dimension the beams are of form $E(x) = E_e\\psi_e(x)+E_o\\psi_o(x)$ where $\\psi_e(x)$ is an even function and $\\psi_o(x) = \\text{sgn}(x)\\psi_e(x)$ hence is an odd function. We give this beam a vector representation called $\\mathbf{J}_\\text{par} = [E_e\\text{ } E_o]^T$. Spatial paritt is manipulated using a spatial light modulator (SLM) which we describe in the experimental apparatus section. Along with the horizontal (H) and vertical components of polarization taken into account we describe the polarization-parity jones vector as $\\mathbf{J} = [E_\\text{He}\\text{ }E_\\text{Ho}\\text{ }E_\\text{Ve}\\text{ }E_\\text{Vo}]^T$.<br>\n",
    "We then describe the properties of this coherence using a $4\\times4$ matrix which is $\\mathbf{G} = \\langle\\mathbf{J}^{*}\\mathbf{J}^\\text{T}\\rangle$. Taking partial trace along $\\mathbf{G}$ would give us either $\\mathbf{G}_\\text{pol}$ or $\\mathbf{G}_\\text{par}$ on taking trace along parity or polarization respectively. We define a degree of polarization/parity using $D_{\\text{pol}}$($D_\\text{par}$) which quantifies the apparent coherence of each DoF when the other DoF is unresolved. Further an overall coherence $S$ is defined using the beam's linear entropy \\[https://en.wikipedia.org/wiki/Linear_entropy\\] as follows.\n",
    "The definition of linear entropy comes from the motivation of von Neumann Entropy. For a quantum mechanical system with a density matrix $\\rho$ this is defined as $S_v = \\text{Tr}(-\\rho\\ln(\\rho)) = -\\langle\\ln(\\rho)\\rangle$. The linear entropy $S_L$ is a lower approximation to $S_v$ which comes from expanding the leading term in the expansion of $\\rho\\ln\\rho$ which becomes $\\rho-\\rho^2$ approximately when $\\rho$ is close to $I$ (using taylor expansion) and taking trace this gives us the definition $S_L = \\text{Tr}(\\rho) - \\text{Tr}(\\rho^2)$ and by definition of the density matrix we have trace of $\\rho$ equal to 1 which gives us $S_L = 1 - \\text{Tr}(\\rho^2)$. This is a non normalized quantity so this is normalized by multiplying it by $\\frac{d}{d-1}$ which here is $4/3$ since our system has four dimensions. The definition of our $\\mathbf{G}$ matrix is isomorphic to the definition of a density matrix of a two qubit system keeping the Jones vector $\\mathbf{J}$ as the state of this two qubit system. Hence we have \n",
    "\\begin{equation}\\label{eq:1.1}\\tag{1.1}S = 1-S_L = 1 - \\frac{4}{3} + \\frac{4}{3}\\text{Tr}(\\mathbf{G}^2) = \\frac{4}{3}\\left(\\text{Tr}\\{\\mathbf{G}^2\\}-\\frac{1}{4}\\right)\\end{equation}\n",
    "We know that for normalized states we have that $\\frac{1}{d}\\leq$ Tr$(\\rho^2) \\leq 1$ and equals one only for a pure state and $1/d$ for completely mixed state. We can similarly draw a parallel here to seeing that $S=1$ happens only for coherent (pure) states and is 0 when completely incoherent. An important note to make here is that applying a unitary matrix $U$ (so $U^{*}U^{T} = I$) which is not time dependent on the Jones vector would not change our value of $S$ since on acting of a unitary we would have $\\mathbf{G}' = U^{*}\\mathbf{G}U^{T}$ and so $\\mathbf{G}'^2 = U^{*}\\mathbf{G}^2U^{T}$ and this has same trace as $\\mathbf{G}^2$ since trace is invariant under unitary transforms.\n",
    "\n",
    "The paper here explores the properties of a beam where these two DoFs are infact coupled or entagled. One can start with a coherent linearly polarized beam at $45^\\circ$ with even polarity which would be $\\mathbf{J} = (1/\\sqrt{2})[\\text{1 0 1 0}]^T$ which can clearly be factored into a direct product of $\\mathbf{J}_{\\text{pol}}\\otimes\\mathbf{J}_\\text{par}$ and so $D_\\text{pol} = D_\\text{par} = 1$. However on passing this beam through a polarization sensitive SLM which introduces a phase of $\\varphi/2\\sin(\\varphi)$ only to the horizontal polarity component and none to the vertical. We can think of this analoguos to a controlled $R_x(\\varphi)$ operation from the polarization qubit to parity qubit which acts when polarization is $|0\\rangle$ (called H here for polarization). This puts the state to an entagled state $\\mathbf{J} = (1/\\sqrt{2})[\\cos(\\varphi/2)\\text{ }\\iota\\sin(\\varphi/2)\\text{ 1 0}]^T$ which is no longer factorizable and shows that the apparant degree of coherence of the individual DoFs are no longer equal to 1 unless $\\varphi=0$ and infact equal zero when $\\varphi=\\pi$. However we know that this state is still coherent on an overall, the only issue is that seeing the partial trace of $\\mathbf{G}$ along the respective DoF provide an incomplete picture of the state hence leading to a conclusion that the coherence is absent. The paper proceeds to make use of the Bell's measure (see Appendix A) to quantify this entaglement which is the cause of this apparent coherence deficit."
   ]
  },
  {
   "cell_type": "markdown",
   "metadata": {},
   "source": [
    "## 2. Experimental Apparatus\n",
    "\n",
    "For the experimental setup, we are using various separate components, which we will comment on one by one before seeing how they are arranged together for the experiment in this paper. We can develop a matrix operator formalism based on how these elements affect the vector $\\mathbf{J} = [E_{He} \\ E_{Ho} \\ E_{Ve} \\ E_{Vo}]$. Suppoe we have a device that modifies the Jones vector of a beam in the following way - $\\mathbf{J_{new}} = \\mathbf{A}\\mathbf{J_{old}}$. Then, the corresponding $\\mathbf{G} = \\langle \\mathbf{J^*J^T}\\rangle$ tranforms as $\\mathbf{G_{new} = A^*G_{old}A^T}$. This is because, assuming that the effect of the device, encoded in matrix $\\mathbf{A}$  is time independent, the matrix can just move inside the time average. And as we will see below, for all the devices used in this experiment, their effect is time invariant.\n",
    "\n",
    "## Polarisation only devices\n",
    "\n",
    "### 2.1 Waveplates\n",
    "<p>The first element we will look at is a half-wave plate. Suppose we have a half-wave plate whose axis is inclined at angle $\\theta$ to the $+x$ axis. Then, it will add a phase of $\\pi$ to the component of the amplitude along its axis, with respect to the component perpendicular to the axis. In other words, if the component of E field along the axis will be effectively multiplied by $e^{i\\pi} = (-1)$.</p> \n",
    "<p> Suppose the in-going beam is described by a polarisation-only Jones vector $J_{pol} = [E_x \\ E_y]^T$. Then the (complex) amplitude is $E_x\\hat{x} + E_y\\hat{y} = (E_{x}\\cos\\theta + E_y\\sin\\theta)\\hat{\\theta_{\\parallel}} + (E_{x}\\sin\\theta - E_y\\cos\\theta) \\hat{\\theta_{\\perp}}$. So after adding a phase multiplier factor of $e^{i\\pi} = -1$ to the $\\hat{\\theta_{\\parallel}}$ component, the new complex amplitude is $$(-E_{x}\\cos\\theta - E_y\\sin\\theta)\\hat{\\theta_{\\parallel}} +  (E_{x}\\sin\\theta - E_y\\cos\\theta) \\hat{\\theta_{\\perp}} = (\\cos\\theta \\ (-E_{x}\\cos\\theta - E_y\\sin\\theta)+ \\sin\\theta(E_{x}\\sin\\theta - E_y\\cos\\theta))\\hat{x} + (\\sin\\theta \\ (-E_{x}\\cos\\theta - E_y\\sin\\theta)- \\cos\\theta(E_{x}\\sin\\theta - E_y\\cos\\theta))\\hat{y} \\\\ = [E_x(\\sin^2\\theta-\\cos^2\\theta) - E_y(2\\sin\\theta\\cos\\theta) \\qquad{} -E_x(2\\sin\\theta\\cos\\theta)  Ey(\\cos^2\\theta -\\sin^2\\theta)] \\\\ =[-E_x\\cos(2\\theta) - E_y\\sin(2\\theta) \\qquad{} -E_x\\sin(2\\theta)+E_y\\cos(2\\theta)]$$\n",
    "    \n",
    "We can write this more compactly in a 2x2 matrix - \n",
    "$$\\begin{pmatrix}-\\cos(2\\theta) & -\\sin(2\\theta) \\\\ -\\sin(2\\theta) & \\cos(2\\theta)\\end{pmatrix}\\begin{pmatrix}E_x \\\\ E_y\\end{pmatrix}_{old} = \\begin{pmatrix}E_x \\\\ E_y\\end{pmatrix}_{new}$$\n",
    "<p>When we are dealing with our 4 dimensional Jones vector, to generate the corresponding 4x4 HWP operator matrix, we\\e can propose a 4x4 operator matrix. But before we spell it out, a few changes in notation are in order, to follow the same general notation as the paper. </p>\n",
    "<ol>\n",
    "    <li>The angle of rotation is denoted as $\\frac{\\theta}{2}$ instead of $\\theta$ so that there is no ugly factor of             $2$ in the transformation matrix.</li>\n",
    "    <li>The axis, with respect to which the angle $\\frac{\\theta}{2}$ is to be measured is not specified in the paper. Two reasonable guesses are either the X axis (upwards vertical, as shown in the figure) or the horizontal axis (-y axis in the figure). In either case, we get the same matrix except with a phase factor of $e^{i\\pi} = -1$. But that does not change the intensity measurement, since we are only interested in the long time average and we are not using two different beams (so the phase is truly a global phase, and affects nothing at all). So this is a moot point for single beam operation. The exact phase also depends on what additional phase the plate adds to the slow axis, which we are not accounting for, anyway.\n",
    " \n",
    "</ol>\n",
    "Since our Jones vector is $J = J_{pol}\\otimes J_{par}$, and our HWP does not affect the parity DOF at all (in other words, acts like an identity transformation), we can write it as a tensor product - \n",
    "$$A_{HWP}\\left(\\frac{\\theta}{2}\\right) = \\begin{pmatrix}-\\cos(\\theta) & -\\sin(\\theta) \\\\ -\\sin(\\theta) & cos(\\theta)\\end{pmatrix}\\otimes\\begin{pmatrix} 1&0 \\\\ 0&1\\end{pmatrix}=\\begin{pmatrix}\n",
    "-\\cos\\theta & 0 & -\\sin\\theta & 0 \\\\ \n",
    "0 &-\\cos\\theta&0&-\\sin\\theta \\\\\n",
    "-\\sin\\theta &0 & \\cos\\theta & 0 \\\\\n",
    "0 & -\\sin\\theta &0 & \\cos\\theta\n",
    "\\end{pmatrix} $$\n",
    "To account for the global phase added, along the slow axis, we only need to multiply this matrix by a phase factor of $e^{i\\phi}$ where $\\phi$ is the slow axis phase added.\n",
    "\n",
    "Sidenote: while the paper mentions that the angle is $\\theta/2$ in it, that actually rotates by $\\theta$ only and not by the expected $2\\theta$ that would result from writing it in the form above since the text mentions that the basis is rotated by $\\theta_a$ when the HWP of $\\theta_a/2$ is applied.\n",
    "\n",
    "### 2.2 Polarising Beam Splitter\n",
    "\n",
    "This is an element that separates out the H and V polarised beams from the input beam. There is no operator matrix associated with it, it simply separates out the two beams, without affecting parity at all. One point to note here - as we describe below, a mirror will add a factor of (-1) to odd modes, so the component which gets reflected will pick up that factor here as well. We can either correct this with a second reflection of that beam from a $45^\\circ$ mirror to correct it or not do anything at all about it (in the experimental setup in the paper seen as a whole, we can see that it won't matter the odd and even beams will be switched, but that is about it.)\n",
    "\n",
    "## Parity Sensitive Devices\n",
    "\n",
    "### 2.3 Dove Prism\n",
    "<p> We know that a mirror inverts left-right. So if we put an odd beam through the mirror, it will pick up a factor of (-1) from the + and - axes being inverted (i.e. -x being mapped to x). </p>\n",
    "<p> The operator (parity only, polarisation plays no role) associated to a mirror is $$\\begin{pmatrix}-1 & 0 \\\\ 0 & 1\\end{pmatrix}\\begin{pmatrix}e \\\\ o \\end{pmatrix}_{old} = \\begin{pmatrix}e \\\\ o \\end{pmatrix}_{new}$$ An additional -1 factor is added as a global phase, because of the phase change on reflecting.</p>\n",
    "<img width=\"40%\" src='Mirror_and_Parity.png'>\n",
    "One thing about mirrors which is particularly inconvenient is that the incoming and outgoing beam does not travel in the same direction, so we cannot conveniently include a mirror in the arm of a Mach-Zehnder interferometer easily, for example. To make our life simple, we use a dove prism, which is a trapezoid shaped prism, that the light beam enters, undergoes TIR on one surface of it and exits travelling in the same direction as incoming beam. It performs the same matrix operation as a mirror, but is more convenient to use. One aspect to be careful of (that can be easily overcome) is that there is a phase change because the beam travels through the glass/ material of the prism, but that can be easily dealt with by using a compensator cell in the other arm. Aother important aspect of a Dove prism - since the wave incidence medium is denser and the transmission medium is rarer (unlike a regular mirror), there is no addition $\\pi$ phase of reflection, and the operator matrix is simply $$\\begin{pmatrix}1 & 0 \\\\ 0 & -1\\end{pmatrix}\\begin{pmatrix}e \\\\ o \\end{pmatrix}_{old} = \\begin{pmatrix}e \\\\ o \\end{pmatrix}_{new}$$\n",
    "<img width = \"60%\" src='Dove_prism.png'>\n",
    "\n",
    "### 2.4 Mach Zehnder Interferometer\n",
    "<img width = \"60%\" src='MZI.png'><center>A schematic of a MZI, self drawn</center>\n",
    "<p> In this arrangement, the beam splitters are polarisation insensitive, so there is no polarisation discrimination. First let us consider a MZI with no dove prism (and no compensation cell). Suppose the only input beam is given from In1. Then, the left beam suffers two rarer-denser reflections and the same is the case with the right beam, as they come out from Out2. Hence, we have constructive interference at Out2. Whereas, as Out1, the left beam still has same phase (the reflection at exit beam splitter is denser-rarer, so no phase change) while the right beam has one reflection only, so the interference is destructive.</p>\n",
    "<p>With a dove prism in place, the odd mode undergoes one extra inversion in the left path, so its constructive/destructive outputs are now exactly swapped. As a result, if we send in a superposition of odd and even modes into In1, the odd mode comes out from Out1, while the even mode comes out from Out2 (just as if no prism were there). Conversely, if we send in the beam from In2, the odd mode will come out from Out2 and the even mode from Out1.</p>\n",
    "\n",
    "Hence we can think of two uses of this MZI arrangement - \n",
    "<ol> <li> To split a superposed beam into its odd and even components, send this beam in from one of the inputs only and the odd and even parity modes are separated.</li>\n",
    "    <li> If we have a odd parity beam and an even parity beam, we can add them (make a superposed state) by sending in the odd beam in In1, the even beam from In2, and then getting the superposed beam out, from Out1.\n",
    "       </ol>\n",
    "       In the experiment performed in the paper, the authors concern themselves only with the first use.\n",
    "       \n",
    "### 2.5 SLMs and PS-SLMs\n",
    "A SLM is a spatial light modulator. In general, this term refers to any device that modifies the beam in a space dependent fashion. In the context of this experiment, the SLM they use (Hamamatsu X10468-02) is an array of liquid crystal pixels, each of whose refractive index can be controlled independently by applying a voltage, in such a way, that we add a desired phase to the light passing through each pixel, and the phase in each pixel is independent of the others.\n",
    "<p>Suppose we send a beam through a SLM which adds a $x$-dependant phase $\\frac{\\phi}{2}sgn(x)$ to the electric field (global phase does not matter here, by the way. Only relative phase/ difference in phase between top and bottom half being $\\phi$ is what matters.) Then, we are effectively multiplying the old profile $E_{old}(x)$ by $e^{\\iota\\frac{\\phi}{2}sgn(x)}$, to get new profile $E_{new}(x)$. Observe that $e^{\\iota\\frac{\\phi}{2}sgn(x)} = cos(\\frac{\\phi}{2})+ \\iota sgn(x)sin(\\frac{\\phi}{2})$. So, with $E_{old}(x) = e(x)+o(x)$, we can get $E_{new}(x) = (e(x)+o(x))(cos(\\phi/2)+\\iota sgn(x)sin(\\phi/2)) = [cos(\\phi/2)e(x) + \\iota sin(\\phi/2) sgn(x)o(x)] + [cos(\\phi/2)o(x) + \\iota sin(\\phi/2) sgn(x)e(x)]$. </p>\n",
    "<p>Observe that the first term in the new expression is even while the second term is odd, which means that they are the new even and odd decomposition (which is unique). We can re-express this as $\\begin{pmatrix}cos(\\phi/2) & \\iota sin(\\phi/2) \\\\ \\iota sin(\\phi/2) & cos(\\phi/2) \\end{pmatrix}\\begin{pmatrix}e_{old} \\\\ o_{old}\\end{pmatrix} = \\begin{pmatrix}e_{new} \\\\ o_{new}\\end{pmatrix}$ to make it look more like the transformation caused by a half wave plate, but for the parity DOF. In particular, observe that if we set $\\phi = \\pi$ then the matrix shown looks like a Pauli $\\sigma_x$ matrix (times the constant $\\iota$)- it swaps the $o$ and $e$ bases.\n",
    "\n",
    "Further, to obtain the 4x4 transformation matrix, we again do a tensor product - \n",
    "$$A_{par}\\left(\\frac{\\phi}{2}\\right) = \\begin{pmatrix}1 & 0 \\\\ 0 & 1\\end{pmatrix}\\otimes\\begin{pmatrix} \\cos(\\phi/2)&i\\sin(\\phi/2) \\\\ i\\sin(\\phi/2) &\\cos(\\phi/2)\\end{pmatrix}=\\begin{pmatrix}\n",
    "\\cos(\\phi/2)&i\\sin(\\phi/2) & 0& 0\\\\ i\\sin(\\phi/2) &\\cos(\\phi/2) &0 & 0\\\\\n",
    "0&0&\\cos(\\phi/2)&i\\sin(\\phi/2) \\\\ 0&0&i\\sin(\\phi/2) &\\cos(\\phi/2)\n",
    "\\end{pmatrix} $$\n",
    "\n",
    "Again, the rationale is that since there is no polarisation effect, that part of the first matrix is identity.\n",
    "\n",
    "The liquid crystals can be acted on by a electric field in two directions, so that the refractive index of a single pixel itself is non-isotropic. This leads to polarisation-sensitive behaviour of the pixels. For example, if we take a SLM that adds a phase of $\\frac{\\phi}{2}sgn(x)$ only to the H-polarisation while leaving the V polarisation unchanged. In this case, we can simply modify the above operator matrix to look like $$A_{PS-SLM}\\left(\\frac{\\phi}{2}\\right) =\\begin{pmatrix}\n",
    "\\cos(\\phi/2)&i\\sin(\\phi/2) & 0& 0\\\\ i\\sin(\\phi/2) &\\cos(\\phi/2) &0 & 0\\\\\n",
    "0&0&1&0 \\\\ 0&0&0 &1\n",
    "\\end{pmatrix} $$"
   ]
  },
  {
   "cell_type": "markdown",
   "metadata": {},
   "source": [
    "### General Observations About the operator matrices\n",
    "We can see the following properties about the matrix formalism we have developed.\n",
    "<ol><li> The matrices are all unitary. $AA^\\dagger = A^\\dagger A = \\mathbb{I}$. This is expected, because if we take a completely incoherent beam in phase as well as parity, then no device will be able to change it, and the $G$ matrix for a completely incoherent mode is a scalar multiple of identity.</li>\n",
    "    <li> The matrices corresponding to a rotated HWP and to a polarisation-insensitive SLM commute. This is expected because each of these devices is expected to modify only one DOF.</li>\n",
    "    </ol>"
   ]
  },
  {
   "cell_type": "code",
   "execution_count": 5,
   "metadata": {},
   "outputs": [],
   "source": [
    "P,t,p,ta,pa = symbols('P theta varphi theta_a varphi_a',real=True)\n",
    "A_HWP = Matrix([[-cos(ta/2),0,-sin(ta/2),0],[0,-cos(ta/2),0,-sin(ta/2)],[-sin(ta/2),0,cos(ta/2),0],\n",
    "              [0,-sin(ta/2),0,cos(ta/2)]])\n",
    "A_SLM = Matrix([[cos(pa/2),I*sin(pa/2),0,0],[I*sin(pa/2),cos(pa/2),0,0],[0,0,cos(pa/2),I*sin(pa/2)],\n",
    "             [0,0,I*sin(pa/2),cos(pa/2)]])\n",
    "A_PSSLM = Matrix([[cos(pa/2),I*sin(pa/2),0,0],[I*sin(pa/2),cos(pa/2),0,0],[0,0,1,0],\n",
    "             [0,0,0,1]]) "
   ]
  },
  {
   "cell_type": "code",
   "execution_count": 6,
   "metadata": {},
   "outputs": [
    {
     "data": {
      "text/latex": [
       "$\\displaystyle \\left[\\begin{matrix}1 & 0 & 0 & 0\\\\0 & 1 & 0 & 0\\\\0 & 0 & 1 & 0\\\\0 & 0 & 0 & 1\\end{matrix}\\right]$"
      ],
      "text/plain": [
       "Matrix([\n",
       "[1, 0, 0, 0],\n",
       "[0, 1, 0, 0],\n",
       "[0, 0, 1, 0],\n",
       "[0, 0, 0, 1]])"
      ]
     },
     "execution_count": 6,
     "metadata": {},
     "output_type": "execute_result"
    }
   ],
   "source": [
    "trigsimp(A_SLM*conjugate(A_SLM.T)) #A_SLM is unitary"
   ]
  },
  {
   "cell_type": "code",
   "execution_count": 7,
   "metadata": {},
   "outputs": [
    {
     "data": {
      "text/latex": [
       "$\\displaystyle \\left[\\begin{matrix}1 & 0 & 0 & 0\\\\0 & 1 & 0 & 0\\\\0 & 0 & 1 & 0\\\\0 & 0 & 0 & 1\\end{matrix}\\right]$"
      ],
      "text/plain": [
       "Matrix([\n",
       "[1, 0, 0, 0],\n",
       "[0, 1, 0, 0],\n",
       "[0, 0, 1, 0],\n",
       "[0, 0, 0, 1]])"
      ]
     },
     "execution_count": 7,
     "metadata": {},
     "output_type": "execute_result"
    }
   ],
   "source": [
    "trigsimp(A_PSSLM*conjugate(A_PSSLM.T)) #A_PSSLM is unitary"
   ]
  },
  {
   "cell_type": "code",
   "execution_count": 8,
   "metadata": {},
   "outputs": [
    {
     "data": {
      "text/latex": [
       "$\\displaystyle \\left[\\begin{matrix}1 & 0 & 0 & 0\\\\0 & 1 & 0 & 0\\\\0 & 0 & 1 & 0\\\\0 & 0 & 0 & 1\\end{matrix}\\right]$"
      ],
      "text/plain": [
       "Matrix([\n",
       "[1, 0, 0, 0],\n",
       "[0, 1, 0, 0],\n",
       "[0, 0, 1, 0],\n",
       "[0, 0, 0, 1]])"
      ]
     },
     "execution_count": 8,
     "metadata": {},
     "output_type": "execute_result"
    }
   ],
   "source": [
    "trigsimp(A_HWP*conjugate(A_HWP.T)) #A_HWP is unitary"
   ]
  },
  {
   "cell_type": "code",
   "execution_count": 9,
   "metadata": {},
   "outputs": [
    {
     "data": {
      "text/latex": [
       "$\\displaystyle \\left[\\begin{matrix}0 & 0 & 0 & 0\\\\0 & 0 & 0 & 0\\\\0 & 0 & 0 & 0\\\\0 & 0 & 0 & 0\\end{matrix}\\right]$"
      ],
      "text/plain": [
       "Matrix([\n",
       "[0, 0, 0, 0],\n",
       "[0, 0, 0, 0],\n",
       "[0, 0, 0, 0],\n",
       "[0, 0, 0, 0]])"
      ]
     },
     "execution_count": 9,
     "metadata": {},
     "output_type": "execute_result"
    }
   ],
   "source": [
    "trigsimp(A_HWP*A_SLM - A_SLM*A_HWP) #A_SLM and A_HWP commute"
   ]
  },
  {
   "cell_type": "markdown",
   "metadata": {},
   "source": [
    "## Proposal for a Parity-Sensitive Polarisation Modifier\n",
    "<p> In the main paper, one of the loose ends that the authors do not seem to have addressed is that polarity seems to have a special place in this qubits scheme, in the sense that controlled gates can be made only with polarity as a control qubit (no parity controlled gates/devices are proposed). Here, we wish to present the design of a parity controlled device, that can be used to implement the controlled version of any possible (ordinarily) parity-insensitive device. \n",
    "<p>The main idea is to use the second use of the MZI. Suppose you are given an input beam and you want to perform a controlled-HWP operation on that (we have already seen uncontrolled HWP earlier). Then, the idea is to split up the input beam into the odd and even components with an MZI and then recombine them with a second MZI. In this way, a parity-controlled operation can be performed. The below image shows a schematic for a parity-sensitive HWP.</p>\n",
    "<img width = \"40%\" src='Parity_sensitive_HWP.png'>\n",
    "<p> An important use of this idea will be to bring the line of thought presented in the paper to a logical conclusion - suppose we start with a purely even mode but completely unpolarised beam. Then, by coupling the parity to the polarisation, we can generate a coupled-DOF beam. To convert this beam to a completely polarised, parity-incoherent beam, we would need to implement a parity-controlled polarisation operation, which this section proposes a theoretical solution to accomplishing. One major issue still here, is that stacking two MZI's could be a challenge, in view of the difficulty of alignment."
   ]
  },
  {
   "cell_type": "markdown",
   "metadata": {},
   "source": [
    "## 3. Polarization and Spatial Parity analysis\n",
    "### 3.1 The correlation function\n",
    "<p>We will now proceed to define a normalized correlation function $C(\\theta_a,\\phi_a)$ which we will use for defining our bell's measure $B$. The analyzing done in the paper does so with the following experimental setup shown below (images taken from [topic2])</p>\n",
    "<table>\n",
    "    <tr>\n",
    "        <td><img width=\"90%\"src=\"fig1b-og.png\"/><center><b>Fig: 3.1</b></center></td>\n",
    "        <td><img width=\"90%\"src=\"fig1c-og.png\"/><center><b>Fig: 3.2</b></center></td>\n",
    "    </tr>\n",
    "</table>\n",
    "Section 2. explains the functioning principle for each of the apparatus in the above figure. What the setup essentially does in fig: 3.1.1 is for analyzing the DoFs seperately. The polarization is analyzed in a linear basis rotated by $\\theta_a$ by action of the half wave plate and similarly the parity is analyzed by analyzing over a basis rotated by $\\varphi_a$. The measured intensities are normalized and kept as probabilities in a way that $P_H + P_V = P_o + P_e = 1$. In fig: 3.2 combined polarization-parity measurements are done by essentially using the setup of fig: 3.1 but by concatenating the different DoF analysis stages. If we call the input coherency matrix as $\\mathbf{G}_{in}$ then the resulting coherency matrix after the transformations on which measurement is being done is \n",
    "\\begin{equation}\\label{eq:3.1}\\tag{3.1}\\mathbf{G}_{out} = A_{SLM}^*A_{HWP}^*\\mathbf{G}_{in}A_{HWP}^TA_{SLM}^T\\end{equation}\n",
    "As already shown in section 1, our definition of overall coherence in eq: 1.1 is invariant under applying these unitaries on the state. The following is the definition we give to the correlation function in the equation below. Symmetric values are assignmed to the coefficeints $c_\\text{pol} = \\pm1$ ($c_\\text{par} = \\pm1$) to the dichotomic H (e) and V (o) probability outcomes. \n",
    "\\begin{equation}\\label{eq:3.2}\\tag{3.2}C(\\theta_a,\\varphi_a) = \\sum c_\\text{pol}c_\\text{par}P_\\text{pol,par} = P_\\text{He} - P_\\text{H0} - P_\\text{Ve} + P_\\text{Vo}\\end{equation}\n",
    "For the uncoupled case this can be factorized into $C(\\theta_1,\\varphi_a) = C_\\text{pol}(\\theta_a)C_\\text{par}(\\phi_a)$ and here we would have $C_\\text{pol}(\\theta_a) = P_H - P_V$ and $C_\\text{par} = P_e - P_o$. Proceeding this they use th CSHS formulation of the Bell's measure (see Appendix A) to write \n",
    "\\begin{equation}\\label{eq:3.3}\\tag{3.3}B = |C(\\theta_a,\\varphi_a) + C(\\theta_a,\\varphi_a') + C(\\theta_a',\\varphi_a) - C(\\theta_a',\\varphi_a')|\\end{equation}\n",
    "Now we have an upper bound on $B_{max}$ which is the maximum value this measure takes over these four variables and this is what the paper from this point refers to as the Bell's measure. This bound is called the Tsirelon's bound and is $B_{max}\\leq 2\\sqrt{2}$ and in the classical case (where all observables commute) it is actually bounded above by 2.\n",
    "\n",
    "We will now prove that any coherent beam has $D_\\text{pol} = D_\\text{par}$. Any coherent beam here would be isomorphic to a pure two qubit state. For pure states, if the state is $|\\psi\\rangle$, then the density matrix is $\\rho = |\\psi\\rangle\\langle\\psi|$. We can represent this in a Schmidt form where $|\\psi\\rangle = \\sum_ig_i|u_i\\rangle\\otimes|v_i\\rangle$ which can be done for any arbitrary pure state so for the 4 dimensional Jones vector here we only have two variables and so without loss of generality we can choose to write our jones vector as $\\mathbf{J} = [\\mu_1\\text{ 0 0 }\\mu_2]^T$ and for this state we would have that\n",
    "\\begin{equation}\\label{eq:3.4}\\tag{3.4}\\mathbf{G}_\\text{pol} = \\mathbf{G}_\\text{par} = \\begin{pmatrix}\\mu_1^2 & 0\\\\0 & \\mu_2^2\\end{pmatrix}\\end{equation}\n",
    "This leads to $D_\\text{pol} = D_\\text{par} = |\\mu_1^2-\\mu_2^2|$ which is essentially the difference the eigenvalues of the respective matrix. Note that the above equation would be true in the basis where we can write the Schmidt decomposition of the Jones vector but since this is a coherent state this basis can be reached by applying unitaries that do not do any coupling. Also for coherent beams the paper claims that we would have $4D_\\text{par}^2+B_{max}^2 = 4D_\\text{pol}^2+B_{max}^2 = 8$ which becomes $4D_\\text{pol}^2+B_{max}^2\\leq 8$ and $4D_\\text{par}^2+B_{max}^2\\leq 8$ for partially coherent beams hence they define a new degree of coherence reffered to as the partial degree of coherence\n",
    "\\begin{equation}S_\\text{pol} = \\dfrac{D_\\text{pol}^2}{2} + \\left(\\dfrac{B_{max}}{2\\sqrt{2}}\\right)^2\\text{, }S_\\text{par} = \\dfrac{D_\\text{par}^2}{2} + \\left(\\dfrac{B_{max}}{2\\sqrt{2}}\\right)^2\\end{equation}\n",
    "One important thing to note is that the accessible degrees of coherence written above are invariant under unitary coupling between the two DoFs. We can see this as a sort of sharing of coherence between apparent coherence of an individual DoF ($D_\\text{pol}$ and $D_\\text{par}$) and the coupling between them ($B_{max}$). For a fully coherent beam we will always have $S = S_\\text{pol} = S_\\text{par} = 1$ regardless of coupling between the DoFs. This also demostrates how we can make coherence essentially migrate from form of coupling to apparent coherence of individual DoFs by simply using unitary transforms.\n"
   ]
  },
  {
   "cell_type": "markdown",
   "metadata": {},
   "source": [
    "## 4. Experimental results and derivations\n",
    "The paper \\[topic2\\] describes three experiments A, B and C. Here we will derive the theoretical expressions they use for fitting their data using the SymPy package."
   ]
  },
  {
   "cell_type": "code",
   "execution_count": 51,
   "metadata": {},
   "outputs": [],
   "source": [
    "def trace(G): #A trace function for just 4x4 G matrices\n",
    "    return G[0,0] + G[1,1] + G[2,2] + G[3,3]\n",
    "def trace_G(G): #A trace function for just 4x4 G matrices\n",
    "    return simplify(trace(G))\n",
    "def corr_prob(G): #Returns the value I_He - I_Ho - I_Ve +I_Vo from given G matrix\n",
    "    return simplify(G[0,0] - G[1,1] - G[2,2] + G[3,3])\n",
    "\n",
    "def par_tr_G_pol(G): #returns the partial trace of G for giving G_pol\n",
    "    return simplify(Matrix([[G[0,0]+G[1,1],G[0,2]+G[1,3]],[G[2,0]+G[3,1],G[2,2]+G[3,3]]]))\n",
    "\n",
    "def par_tr_G_par(G): #returns the partial trace of G for giving G_par\n",
    "    return Matrix([[G[0,0]+G[2,2],G[0,1]+G[2,3]],[G[1,0]+G[3,2],G[1,1]+G[3,3]]])\n",
    "\n",
    "def app_coh(G): #Returns apparent degree of coherence for a 2x2 G matrix\n",
    "    return simplify(sqrt(1-4*simplify(Determinant(G))/(simplify(Trace(G))**2)))\n",
    "\n",
    "def norm_grad(B,syms):\n",
    "    c = 0\n",
    "    for i in syms:\n",
    "        c += simplify(B.diff(i)**2)\n",
    "    return simplify(c)"
   ]
  },
  {
   "cell_type": "markdown",
   "metadata": {},
   "source": [
    "#### Methods for Calculating Values of $D_{pol}$, $D_{par}$, $B_{max}$, $S_{pol}$ and $S_{par}$"
   ]
  },
  {
   "cell_type": "code",
   "execution_count": 11,
   "metadata": {},
   "outputs": [],
   "source": [
    "def bmaxfinder(C_ta_pa,x):\n",
    "    tb,pb = symbols('theta_b varphi_b',real=True)\n",
    "    B = C_ta_pa + C_ta_pa.xreplace({ta:tb}) + C_ta_pa.xreplace({pa:pb}) - C_ta_pa.xreplace({ta:tb,pa:pb})\n",
    "    b = lambdify((ta,pa,tb,pb,p),B, \"numpy\")\n",
    "    bmax=[-1*(sc.optimize.minimize(lambda params: -1*abs(b(params[0],params[1],params[2],params[3],i)), [0,0,0,0], method = 'L-BFGS-B').fun) for i in x]\n",
    "    bmax=np.around(bmax,decimals=5)\n",
    "    return bmax"
   ]
  },
  {
   "cell_type": "code",
   "execution_count": 12,
   "metadata": {},
   "outputs": [],
   "source": [
    "def bmaxfinderC(C_ta_pa,x):\n",
    "    tb,pb = symbols('theta_b varphi_b',real=True)\n",
    "    B = C_ta_pa + C_ta_pa.xreplace({ta:tb}) + C_ta_pa.xreplace({pa:pb}) - C_ta_pa.xreplace({ta:tb,pa:pb})\n",
    "    b = lambdify((ta,pa,tb,pb,P),B, \"numpy\")\n",
    "    bmax=[-1*(sc.optimize.minimize(lambda params: -1*abs(b(params[0],params[1],params[2],params[3],i)), [0,0,0,0], method = 'L-BFGS-B').fun) for i in x]\n",
    "    bmax=np.around(bmax,decimals=5)\n",
    "    return bmax"
   ]
  },
  {
   "cell_type": "code",
   "execution_count": 13,
   "metadata": {},
   "outputs": [],
   "source": [
    "def dfinder(D,x):\n",
    "    d=lambdify(p,D,\"numpy\")\n",
    "    d_final=[d(i) for i in x]\n",
    "    return d_final"
   ]
  },
  {
   "cell_type": "code",
   "execution_count": 14,
   "metadata": {},
   "outputs": [],
   "source": [
    "def dfinderC(D,x):\n",
    "    d=lambdify(P,D,\"numpy\")\n",
    "    d_final=[d(i) for i in x]\n",
    "    return d_final"
   ]
  },
  {
   "cell_type": "code",
   "execution_count": 15,
   "metadata": {},
   "outputs": [],
   "source": [
    "def sfinder(d,bmax):   \n",
    "    return np.around(np.square(d)/2+np.square(bmax)/8,decimals=5)"
   ]
  },
  {
   "cell_type": "markdown",
   "metadata": {},
   "source": [
    "### 4.1 Experiment A\n",
    "Here the field is competely coherent and we start with the Jones vector in state $\\mathbf{J} = (1/\\sqrt{2})[\\cos(\\varphi/2)\\text{ }\\iota\\sin(\\varphi/2)\\text{ 1 0}]^T$ which is reached by applying the PS-SLM on the input state of $\\mathbf{J}_{in} = (1/\\sqrt{2})[\\text{1 0 1 0}]^T$. On this we then apply the rotation of basis by $\\theta_a$ for polarization and of $\\varphi_a$ for parity and then conduct measurements of each component. Based on our previous definitions we now derive the correlation function for this experiment."
   ]
  },
  {
   "cell_type": "code",
   "execution_count": 16,
   "metadata": {
    "scrolled": false
   },
   "outputs": [
    {
     "data": {
      "text/latex": [
       "$\\displaystyle \\left[\\begin{matrix}0.5 \\cos^{2}{\\left(\\frac{\\varphi}{2} \\right)} & 0.25 i \\sin{\\left(\\varphi \\right)} & 0.5 \\cos{\\left(\\frac{\\varphi}{2} \\right)} & 0\\\\- 0.25 i \\sin{\\left(\\varphi \\right)} & 0.5 \\sin^{2}{\\left(\\frac{\\varphi}{2} \\right)} & - 0.5 i \\sin{\\left(\\frac{\\varphi}{2} \\right)} & 0\\\\0.5 \\cos{\\left(\\frac{\\varphi}{2} \\right)} & 0.5 i \\sin{\\left(\\frac{\\varphi}{2} \\right)} & 0.5 & 0\\\\0 & 0 & 0 & 0\\end{matrix}\\right]$"
      ],
      "text/plain": [
       "Matrix([\n",
       "[0.5*cos(varphi/2)**2,   0.25*I*sin(varphi),    0.5*cos(varphi/2), 0],\n",
       "[ -0.25*I*sin(varphi), 0.5*sin(varphi/2)**2, -0.5*I*sin(varphi/2), 0],\n",
       "[   0.5*cos(varphi/2),  0.5*I*sin(varphi/2),                  0.5, 0],\n",
       "[                   0,                    0,                    0, 0]])"
      ]
     },
     "execution_count": 16,
     "metadata": {},
     "output_type": "execute_result"
    }
   ],
   "source": [
    "J = sqrt(1/2)*Matrix([cos(p/2),I*sin(p/2),1,0])\n",
    "G_A = trigsimp(conjugate(J)*J.T)\n",
    "G_A #The input beam G matrix before the transformations"
   ]
  },
  {
   "cell_type": "markdown",
   "metadata": {},
   "source": [
    "#### Calculation of $D_{pol}$ and $D_{par}$"
   ]
  },
  {
   "cell_type": "code",
   "execution_count": 17,
   "metadata": {},
   "outputs": [
    {
     "data": {
      "text/latex": [
       "$\\displaystyle \\left[\\begin{matrix}0.5 & 0.5 \\cos{\\left(\\frac{\\varphi}{2} \\right)}\\\\0.5 \\cos{\\left(\\frac{\\varphi}{2} \\right)} & 0.5\\end{matrix}\\right]$"
      ],
      "text/plain": [
       "Matrix([\n",
       "[              0.5, 0.5*cos(varphi/2)],\n",
       "[0.5*cos(varphi/2),               0.5]])"
      ]
     },
     "execution_count": 17,
     "metadata": {},
     "output_type": "execute_result"
    }
   ],
   "source": [
    "G_pol_A = par_tr_G_pol(G_A)\n",
    "G_pol_A"
   ]
  },
  {
   "cell_type": "code",
   "execution_count": 18,
   "metadata": {
    "scrolled": true
   },
   "outputs": [
    {
     "data": {
      "text/latex": [
       "$\\displaystyle \\left[\\begin{matrix}0.5 \\cos^{2}{\\left(\\frac{\\varphi}{2} \\right)} + 0.5 & 0.25 i \\sin{\\left(\\varphi \\right)}\\\\- 0.25 i \\sin{\\left(\\varphi \\right)} & 0.5 \\sin^{2}{\\left(\\frac{\\varphi}{2} \\right)}\\end{matrix}\\right]$"
      ],
      "text/plain": [
       "Matrix([\n",
       "[0.5*cos(varphi/2)**2 + 0.5,   0.25*I*sin(varphi)],\n",
       "[       -0.25*I*sin(varphi), 0.5*sin(varphi/2)**2]])"
      ]
     },
     "execution_count": 18,
     "metadata": {},
     "output_type": "execute_result"
    }
   ],
   "source": [
    "G_par_A = par_tr_G_par(G_A)\n",
    "G_par_A"
   ]
  },
  {
   "cell_type": "code",
   "execution_count": 19,
   "metadata": {
    "scrolled": true
   },
   "outputs": [
    {
     "data": {
      "text/latex": [
       "$\\displaystyle 1.0 \\left|{\\cos{\\left(\\frac{\\varphi}{2} \\right)}}\\right|$"
      ],
      "text/plain": [
       "1.0*Abs(cos(varphi/2))"
      ]
     },
     "execution_count": 19,
     "metadata": {},
     "output_type": "execute_result"
    }
   ],
   "source": [
    "D_pol_A=app_coh(G_pol_A)\n",
    "D_pol_A# Prints D_pol"
   ]
  },
  {
   "cell_type": "code",
   "execution_count": 20,
   "metadata": {
    "scrolled": true
   },
   "outputs": [
    {
     "data": {
      "text/latex": [
       "$\\displaystyle 0.707106781186547 \\sqrt{\\cos{\\left(\\varphi \\right)} + 1}$"
      ],
      "text/plain": [
       "0.707106781186547*sqrt(cos(varphi) + 1)"
      ]
     },
     "execution_count": 20,
     "metadata": {},
     "output_type": "execute_result"
    }
   ],
   "source": [
    "D_par_A=app_coh(G_par_A)\n",
    "D_par_A# Prints D_par"
   ]
  },
  {
   "cell_type": "markdown",
   "metadata": {},
   "source": [
    "#### Calculation of the Correlation Function and $B_{max}$"
   ]
  },
  {
   "cell_type": "code",
   "execution_count": 21,
   "metadata": {},
   "outputs": [],
   "source": [
    "G_out_A = conjugate(A_SLM)*conjugate(A_HWP)*G_A*A_HWP.T*A_SLM.T #Transformed matrix\n",
    "C_ta_pa_A = trigsimp(corr_prob(G_out_A)/trace_G(G_out_A))\n",
    "C_ta_pa_A\n",
    "fA = lambdify((t,p,ta,pa),C_ta_pa_A, \"numpy\")"
   ]
  },
  {
   "cell_type": "markdown",
   "metadata": {},
   "source": [
    "In this setup we know that the maximally entagled state is when the apparent degrees of coherence go to zero and so $B_{max}$ attains its peak value."
   ]
  },
  {
   "cell_type": "markdown",
   "metadata": {},
   "source": [
    "#### GRAPHS FOR EXPERIMENT A"
   ]
  },
  {
   "cell_type": "code",
   "execution_count": 22,
   "metadata": {},
   "outputs": [
    {
     "data": {
      "application/vnd.jupyter.widget-view+json": {
       "model_id": "a09a89a0e04e49da97757e6ac45681c8",
       "version_major": 2,
       "version_minor": 0
      },
      "text/plain": [
       "interactive(children=(Dropdown(description='option', options=('Hide All', 'D', 'B', 'S', 'Show All'), value='H…"
      ]
     },
     "metadata": {},
     "output_type": "display_data"
    }
   ],
   "source": [
    "def expAPlots(option):\n",
    "    num_space=102\n",
    "    phi=np.linspace(0, 2*np.pi, num_space)\n",
    "    bmax=bmaxfinder(C_ta_pa_A,phi)\n",
    "    dpol=dfinder(D_pol_A,phi)\n",
    "    dpar=dfinder(D_par_A,phi)\n",
    "    spol=sfinder(dpol,bmax)\n",
    "    spar=sfinder(dpar,bmax)\n",
    "    d=dpol\n",
    "    s=spol\n",
    "    \n",
    "    if option!='Hide All':        \n",
    "    \n",
    "        if option=='B':            \n",
    "            fig, ax = plt.subplots(figsize=(7, 7))\n",
    "            plotter('A',phi,bmax,r'$B_{max}$',r'$\\phi$',r'$B_{max}$',(1,0,0),r'$B_{max}$')\n",
    "            plt.plot(phi,[8**(0.5)]*num_space,color='black', linestyle ='dashed')\n",
    "            plt.plot(phi,[2]*num_space,color='black', linestyle ='dashed')\n",
    "            plt.figtext(s=r'$2\\sqrt{2}$', x=0.15, y=0.77, fontsize=15)\n",
    "            plt.figtext(s=r'$2$', x=0.15, y=0.48, fontsize=15)\n",
    "            plt.ylim(1,3)\n",
    "            plt.show()\n",
    "            \n",
    "        elif option=='S':\n",
    "            fig, ax = plt.subplots(figsize=(7, 7))\n",
    "            plotter('A',phi,spol,r'$S_{pol}=S_{par}=1$',r'$\\phi$',r'$S_{pol}\\ \\slash\\ S_{par}$',(1,0,0),r'$s_{pol}$')\n",
    "            plotter('A',phi,spar,r'$S_{pol}=S_{par}=1$',r'$\\phi$',r'$S_{pol}\\ \\slash\\ S_{par}$',(0,0,1),r'$s_{par}$')\n",
    "            plt.ylim(0,1.1) \n",
    "            plt.legend()\n",
    "            plt.show()\n",
    "            \n",
    "        elif option=='D':         \n",
    "            fig, ax = plt.subplots(figsize=(7, 7))\n",
    "            plotter('A',phi,dpol,r'$D_{pol}\\ and\\ D_{par}$',r'$\\phi$',r'$D_{pol}\\ \\slash\\ D_{par}$',(1,0,0),r'$d_{pol}$')\n",
    "            plotter('A',phi,dpar,r'$D_{pol}\\ and\\ D_{par}$',r'$\\phi$',r'$D_{pol}\\ \\slash\\ D_{par}$',(0,0,1),r'$d_{pol}$')\n",
    "            plt.ylim(0,1.1)\n",
    "            plt.legend()\n",
    "            plt.show()\n",
    "            \n",
    "        else:\n",
    "            fig, ax = plt.subplots(figsize=(7, 7))\n",
    "            plotter('A',phi,dpol,r'$D_{pol}\\ and\\ D_{par}$',r'$\\phi$',r'$D_{pol}\\ \\slash\\ D_{par}$',(1,0,0),r'$d_{pol}$')\n",
    "            plotter('A',phi,dpar,r'$D_{pol}\\ and\\ D_{par}$',r'$\\phi$',r'$D_{pol}\\ \\slash\\ D_{par}$',(0,0,1),r'$d_{pol}$')\n",
    "            plt.ylim(0,1.1)\n",
    "            plt.legend()\n",
    "            plt.show()\n",
    "            fig, ax = plt.subplots(figsize=(7, 7))\n",
    "            plotter('A',phi,bmax,r'$B_{max}$',r'$\\phi$',r'$B_{max}$',(1,0,0),r'$B_{max}$')\n",
    "            plt.plot(phi,[8**(0.5)]*num_space,color='black', linestyle ='dashed')\n",
    "            plt.plot(phi,[2]*num_space,color='black', linestyle ='dashed')\n",
    "            plt.figtext(s=r'$2\\sqrt{2}$', x=0.15, y=0.77, fontsize=15)\n",
    "            plt.figtext(s=r'$2$', x=0.15, y=0.48, fontsize=15)\n",
    "            plt.ylim(1,3)\n",
    "            plt.show()\n",
    "            fig, ax = plt.subplots(figsize=(7, 7))\n",
    "            plotter('A',phi,spol,r'$S_{pol}=S_{par}=1$',r'$\\phi$',r'$S_{pol}\\ \\slash\\ S_{par}$',(1,0,0),r'$s_{pol}$')\n",
    "            plotter('A',phi,spar,r'$S_{pol}=S_{par}=1$',r'$\\phi$',r'$S_{pol}\\ \\slash\\ S_{par}$',(0,0,1),r'$s_{par}$')\n",
    "            plt.ylim(0,1.1) \n",
    "            plt.legend()\n",
    "            plt.show()\n",
    "            \n",
    "            \n",
    "        plt.show()\n",
    "    \n",
    "    else:       \n",
    "        fig, ax = plt.subplots(figsize=(0.01, 0.01))\n",
    "        plt.show()\n",
    "        clear_output()\n",
    "    return\n",
    "\n",
    "interact(expAPlots, option=['Hide All', 'D', 'B', 'S', 'Show All']);"
   ]
  },
  {
   "cell_type": "code",
   "execution_count": 23,
   "metadata": {
    "scrolled": false
   },
   "outputs": [
    {
     "data": {
      "application/vnd.jupyter.widget-view+json": {
       "model_id": "7c8bf2700853467499383c9d5f32199d",
       "version_major": 2,
       "version_minor": 0
      },
      "text/plain": [
       "interactive(children=(FloatSlider(value=1.0471975511965976, continuous_update=False, description='phi', layout…"
      ]
     },
     "metadata": {},
     "output_type": "display_data"
    }
   ],
   "source": [
    "def expAContours(phi):\n",
    "    function=C_ta_pa_A\n",
    "    contourplotter('A',phi,r'$C(\\theta_a,\\phi_a)$',r'$\\theta_a$',r'$\\phi_a$')\n",
    "    return\n",
    "interact(expAContours, phi=widgets.FloatSlider(min=0, max=2*np.pi, step=0.02, value=np.pi/3, continuous_update=False, layout=Layout(width='600px')));"
   ]
  },
  {
   "cell_type": "markdown",
   "metadata": {},
   "source": [
    "### 4.2 Experiment B\n",
    "Here starting with the same $\\mathbf{J}_{in}$ the polarization is scrambled using a variable polarization rotator which does not affect the spatial DoF so we have $D_\\text{pol} = 0$ and $D_\\text{par} = 1$. Now this beam is sent through a PS-SLM which would couple the DoFs. We now go on to derive the correlation function for this"
   ]
  },
  {
   "cell_type": "code",
   "execution_count": 24,
   "metadata": {
    "scrolled": false
   },
   "outputs": [
    {
     "data": {
      "text/latex": [
       "$\\displaystyle \\left[\\begin{matrix}0.5 \\cos^{2}{\\left(\\frac{\\varphi}{2} \\right)} & 0.5 i \\sin{\\left(\\frac{\\varphi}{2} \\right)} \\cos{\\left(\\frac{\\varphi}{2} \\right)} & 0 & 0\\\\- 0.5 i \\sin{\\left(\\frac{\\varphi}{2} \\right)} \\cos{\\left(\\frac{\\varphi}{2} \\right)} & 0.5 \\sin^{2}{\\left(\\frac{\\varphi}{2} \\right)} & 0 & 0\\\\0 & 0 & 0.5 & 0\\\\0 & 0 & 0 & 0\\end{matrix}\\right]$"
      ],
      "text/plain": [
       "Matrix([\n",
       "[              0.5*cos(varphi/2)**2, 0.5*I*sin(varphi/2)*cos(varphi/2),   0, 0],\n",
       "[-0.5*I*sin(varphi/2)*cos(varphi/2),              0.5*sin(varphi/2)**2,   0, 0],\n",
       "[                                 0,                                 0, 0.5, 0],\n",
       "[                                 0,                                 0,   0, 0]])"
      ]
     },
     "execution_count": 24,
     "metadata": {},
     "output_type": "execute_result"
    }
   ],
   "source": [
    "G_B = (1/2)*Matrix([[cos(p/2)**2, I*cos(p/2)*sin(p/2), 0, 0],[-I*cos(p/2)*sin(p/2), sin(p/2)**2, 0,0],\n",
    "            [0,0,1,0],[0,0,0,0]])\n",
    "G_B #The input beam G matrix before the transformations"
   ]
  },
  {
   "cell_type": "markdown",
   "metadata": {},
   "source": [
    "#### Calculation of $D_{pol}$ and $D_{par}$"
   ]
  },
  {
   "cell_type": "code",
   "execution_count": 25,
   "metadata": {
    "scrolled": true
   },
   "outputs": [
    {
     "data": {
      "text/latex": [
       "$\\displaystyle \\left[\\begin{matrix}0.5 & 0\\\\0 & 0.5\\end{matrix}\\right]$"
      ],
      "text/plain": [
       "Matrix([\n",
       "[0.5,   0],\n",
       "[  0, 0.5]])"
      ]
     },
     "execution_count": 25,
     "metadata": {},
     "output_type": "execute_result"
    }
   ],
   "source": [
    "G_pol_B = par_tr_G_pol(G_B)\n",
    "G_pol_B"
   ]
  },
  {
   "cell_type": "code",
   "execution_count": 26,
   "metadata": {
    "scrolled": true
   },
   "outputs": [
    {
     "data": {
      "text/latex": [
       "$\\displaystyle \\left[\\begin{matrix}0.5 \\cos^{2}{\\left(\\frac{\\varphi}{2} \\right)} + 0.5 & 0.5 i \\sin{\\left(\\frac{\\varphi}{2} \\right)} \\cos{\\left(\\frac{\\varphi}{2} \\right)}\\\\- 0.5 i \\sin{\\left(\\frac{\\varphi}{2} \\right)} \\cos{\\left(\\frac{\\varphi}{2} \\right)} & 0.5 \\sin^{2}{\\left(\\frac{\\varphi}{2} \\right)}\\end{matrix}\\right]$"
      ],
      "text/plain": [
       "Matrix([\n",
       "[        0.5*cos(varphi/2)**2 + 0.5, 0.5*I*sin(varphi/2)*cos(varphi/2)],\n",
       "[-0.5*I*sin(varphi/2)*cos(varphi/2),              0.5*sin(varphi/2)**2]])"
      ]
     },
     "execution_count": 26,
     "metadata": {},
     "output_type": "execute_result"
    }
   ],
   "source": [
    "G_par_B = par_tr_G_par(G_B)\n",
    "G_par_B"
   ]
  },
  {
   "cell_type": "code",
   "execution_count": 27,
   "metadata": {
    "scrolled": true
   },
   "outputs": [
    {
     "data": {
      "text/latex": [
       "$\\displaystyle 0$"
      ],
      "text/plain": [
       "0"
      ]
     },
     "execution_count": 27,
     "metadata": {},
     "output_type": "execute_result"
    }
   ],
   "source": [
    "D_pol_B=app_coh(G_pol_B)\n",
    "D_pol_B# Prints D_pol"
   ]
  },
  {
   "cell_type": "code",
   "execution_count": 28,
   "metadata": {
    "scrolled": true
   },
   "outputs": [
    {
     "data": {
      "text/latex": [
       "$\\displaystyle 0.707106781186548 \\sqrt{\\cos{\\left(\\varphi \\right)} + 1}$"
      ],
      "text/plain": [
       "0.707106781186548*sqrt(cos(varphi) + 1)"
      ]
     },
     "execution_count": 28,
     "metadata": {},
     "output_type": "execute_result"
    }
   ],
   "source": [
    "D_par_B=app_coh(G_par_B)\n",
    "D_par_B"
   ]
  },
  {
   "cell_type": "markdown",
   "metadata": {},
   "source": [
    "#### Calculation of the Correlation Function and $B_{max}$"
   ]
  },
  {
   "cell_type": "code",
   "execution_count": 29,
   "metadata": {},
   "outputs": [],
   "source": [
    "G_out_B = conjugate(A_SLM)*conjugate(A_HWP)*G_B*A_HWP.T*A_SLM.T #Transformed matrix\n",
    "C_ta_pa_B = trigsimp(corr_prob(G_out_B)/trace_G(G_out_B))\n",
    "C_ta_pa_B\n",
    "fB = lambdify((t,p,ta,pa),C_ta_pa_B, \"numpy\")"
   ]
  },
  {
   "cell_type": "markdown",
   "metadata": {},
   "source": [
    "In this setup we know that the maximally entagled state is when the apparent degrees of coherence go to zero and so $B_{max}$ attains its peak value."
   ]
  },
  {
   "cell_type": "markdown",
   "metadata": {},
   "source": [
    "#### GRAPHS FOR EXPERIMENT B"
   ]
  },
  {
   "cell_type": "code",
   "execution_count": 30,
   "metadata": {
    "scrolled": false
   },
   "outputs": [
    {
     "data": {
      "application/vnd.jupyter.widget-view+json": {
       "model_id": "8230a41b1a784ce2b108cb640b1c4ed0",
       "version_major": 2,
       "version_minor": 0
      },
      "text/plain": [
       "interactive(children=(Dropdown(description='option', options=('Hide All', 'D', 'B', 'S', 'Show All'), value='H…"
      ]
     },
     "metadata": {},
     "output_type": "display_data"
    }
   ],
   "source": [
    "def expBPlots(option):\n",
    "    num_space=102\n",
    "    phi=np.linspace(0, 2*np.pi, num_space)\n",
    "    bmax=bmaxfinder(C_ta_pa_B,phi)\n",
    "    dpol=dfinder(D_pol_B,phi)\n",
    "    dpar=dfinder(D_par_B,phi)\n",
    "    spol=sfinder(dpol,bmax)\n",
    "    spar=sfinder(dpar,bmax)\n",
    "    \n",
    "    if option!='Hide All':        \n",
    "    \n",
    "        if option=='B':            \n",
    "            fig, ax = plt.subplots(figsize=(7, 7))\n",
    "            plotter('B',phi,bmax,r'$B_{max}$',r'$\\phi$',r'$B_{max}$',(1,0,0),r'$B_{max}$')\n",
    "            plt.plot(phi,[2]*num_space,color='black', linestyle ='dashed')\n",
    "            plt.ylim(0,2.5)\n",
    "            plt.show()\n",
    "            \n",
    "        elif option=='S':\n",
    "            fig, ax = plt.subplots(figsize=(7, 7))\n",
    "            plotter('B',phi,spol,r'$S_{pol}=S_{par}=1$',r'$\\phi$',r'$S_{pol}\\ \\slash\\ S_{par}$',(1,0,0),r'$s_{pol}$')\n",
    "            plotter('B',phi,spar,r'$S_{pol}=S_{par}=1$',r'$\\phi$',r'$S_{pol}\\ \\slash\\ S_{par}$',(0,0,1),r'$s_{par}$')\n",
    "            plt.ylim(0,1.1) \n",
    "            plt.legend()\n",
    "            plt.show()\n",
    "            \n",
    "        elif option=='D':         \n",
    "            fig, ax = plt.subplots(figsize=(7, 7))\n",
    "            plotter('B',phi,dpol,r'$D_{pol}\\ and\\ D_{par}$',r'$\\phi$',r'$D_{pol}\\ \\slash\\ D_{par}$',(1,0,0),r'$d_{pol}$')\n",
    "            plotter('B',phi,dpar,r'$D_{pol}\\ and\\ D_{par}$',r'$\\phi$',r'$D_{pol}\\ \\slash\\ D_{par}$',(0,0,1),r'$d_{pol}$')\n",
    "            plt.ylim(-0.1,1.1)\n",
    "            plt.legend()\n",
    "            plt.show()\n",
    "            \n",
    "        else:\n",
    "            fig, ax = plt.subplots(figsize=(7, 7))\n",
    "            plotter('B',phi,dpol,r'$D_{pol}\\ and\\ D_{par}$',r'$\\phi$',r'$D_{pol}\\ \\slash\\ D_{par}$',(1,0,0),r'$d_{pol}$')\n",
    "            plotter('B',phi,dpar,r'$D_{pol}\\ and\\ D_{par}$',r'$\\phi$',r'$D_{pol}\\ \\slash\\ D_{par}$',(0,0,1),r'$d_{pol}$')\n",
    "            plt.ylim(-0.1,1.1)\n",
    "            plt.legend()\n",
    "            plt.show()\n",
    "            fig, ax = plt.subplots(figsize=(7, 7))\n",
    "            plotter('B',phi,bmax,r'$B_{max}$',r'$\\phi$',r'$B_{max}$',(1,0,0),r'$B_{max}$')\n",
    "            plt.plot('B',phi,[2]*num_space,color='black', linestyle ='dashed')\n",
    "            plt.ylim(0,2.5)\n",
    "            plt.show()\n",
    "            fig, ax = plt.subplots(figsize=(7, 7))\n",
    "            plotter(phi,spol,r'$S_{pol}=S_{par}=1$',r'$\\phi$',r'$S_{pol}\\ \\slash\\ S_{par}$',(1,0,0),r'$s_{pol}$')\n",
    "            plotter(phi,spar,r'$S_{pol}=S_{par}=1$',r'$\\phi$',r'$S_{pol}\\ \\slash\\ S_{par}$',(0,0,1),r'$s_{par}$')\n",
    "            plt.ylim(0,1.1) \n",
    "            plt.legend()\n",
    "            plt.show()\n",
    "            \n",
    "            \n",
    "        plt.show()\n",
    "    \n",
    "    else:       \n",
    "        fig, ax = plt.subplots(figsize=(0.01, 0.01))\n",
    "        plt.show()\n",
    "        clear_output()\n",
    "    return\n",
    "\n",
    "interact(expBPlots, option=['Hide All', 'D', 'B', 'S', 'Show All']);"
   ]
  },
  {
   "cell_type": "code",
   "execution_count": 31,
   "metadata": {
    "scrolled": false
   },
   "outputs": [
    {
     "data": {
      "application/vnd.jupyter.widget-view+json": {
       "model_id": "ec2444bad7d044fe8367d5389602a58b",
       "version_major": 2,
       "version_minor": 0
      },
      "text/plain": [
       "interactive(children=(FloatSlider(value=1.0471975511965976, continuous_update=False, description='phi', layout…"
      ]
     },
     "metadata": {},
     "output_type": "display_data"
    }
   ],
   "source": [
    "def expBContours(phi):\n",
    "    function=C_ta_pa_B\n",
    "    contourplotter('B',phi,r'$C(\\theta_a,\\phi_a)$',r'$\\theta_a$',r'$\\phi_a$')\n",
    "    return\n",
    "interact(expBContours, phi=widgets.FloatSlider(min=0, max=2*np.pi, step=0.02, value=np.pi/3, continuous_update=False, layout=Layout(width='600px')));"
   ]
  },
  {
   "cell_type": "markdown",
   "metadata": {},
   "source": [
    "### 4.3 Experiment C\n",
    "In this experiment we again start with the same $\\mathbf{J}_{in}$ and an interaction is considered that makes it have a random coupling. It has a probability $P$ to couple polarization and parity and $1-P$ to not achieved by randomly toggling between two phase distributions of the PS-SLM, one with $\\pi/2\\text{sgn}(x)$ phase and another with zero phase where $P$ is the fraction of time that the PS-SLM displays the first phase pattern. From this we go on to derive it's correlation function."
   ]
  },
  {
   "cell_type": "code",
   "execution_count": 32,
   "metadata": {},
   "outputs": [
    {
     "data": {
      "text/latex": [
       "$\\displaystyle \\left[\\begin{matrix}\\frac{1}{2} - \\frac{P}{2} & 0 & \\frac{1}{2} - \\frac{P}{2} & 0\\\\0 & \\frac{P}{2} & - \\frac{i P}{2} & 0\\\\\\frac{1}{2} - \\frac{P}{2} & \\frac{i P}{2} & \\frac{1}{2} & 0\\\\0 & 0 & 0 & 0\\end{matrix}\\right]$"
      ],
      "text/plain": [
       "Matrix([\n",
       "[1/2 - P/2,     0, 1/2 - P/2, 0],\n",
       "[        0,   P/2,    -I*P/2, 0],\n",
       "[1/2 - P/2, I*P/2,       1/2, 0],\n",
       "[        0,     0,         0, 0]])"
      ]
     },
     "execution_count": 32,
     "metadata": {},
     "output_type": "execute_result"
    }
   ],
   "source": [
    "J_ent = (1/sqrt(2))*Matrix([0, I, 1, 0])#Entagled state\n",
    "J_in = (1/sqrt(2))*Matrix([1, 0, 1, 0])#Input state\n",
    "G_C = P*conjugate(J_ent)*J_ent.T + (1-P)*conjugate(J_in)*J_in.T\n",
    "G_C"
   ]
  },
  {
   "cell_type": "markdown",
   "metadata": {},
   "source": [
    "#### Calculation of $D_{pol}$ and $D_{par}$"
   ]
  },
  {
   "cell_type": "code",
   "execution_count": 33,
   "metadata": {},
   "outputs": [
    {
     "data": {
      "text/latex": [
       "$\\displaystyle \\left[\\begin{matrix}\\frac{1}{2} & \\frac{1}{2} - \\frac{P}{2}\\\\\\frac{1}{2} - \\frac{P}{2} & \\frac{1}{2}\\end{matrix}\\right]$"
      ],
      "text/plain": [
       "Matrix([\n",
       "[      1/2, 1/2 - P/2],\n",
       "[1/2 - P/2,       1/2]])"
      ]
     },
     "execution_count": 33,
     "metadata": {},
     "output_type": "execute_result"
    }
   ],
   "source": [
    "G_pol_C = par_tr_G_pol(G_C)\n",
    "G_pol_C"
   ]
  },
  {
   "cell_type": "code",
   "execution_count": 34,
   "metadata": {
    "scrolled": true
   },
   "outputs": [
    {
     "data": {
      "text/latex": [
       "$\\displaystyle \\left[\\begin{matrix}1 - \\frac{P}{2} & 0\\\\0 & \\frac{P}{2}\\end{matrix}\\right]$"
      ],
      "text/plain": [
       "Matrix([\n",
       "[1 - P/2,   0],\n",
       "[      0, P/2]])"
      ]
     },
     "execution_count": 34,
     "metadata": {},
     "output_type": "execute_result"
    }
   ],
   "source": [
    "G_par_C = par_tr_G_par(G_C)\n",
    "G_par_C"
   ]
  },
  {
   "cell_type": "code",
   "execution_count": 35,
   "metadata": {
    "scrolled": true
   },
   "outputs": [
    {
     "data": {
      "text/latex": [
       "$\\displaystyle \\sqrt{P^{2} - 2 P + 1}$"
      ],
      "text/plain": [
       "sqrt(P**2 - 2*P + 1)"
      ]
     },
     "execution_count": 35,
     "metadata": {},
     "output_type": "execute_result"
    }
   ],
   "source": [
    "D_pol_C=app_coh(G_pol_C)\n",
    "simplify(D_pol_C)# Prints D_pol"
   ]
  },
  {
   "cell_type": "code",
   "execution_count": 36,
   "metadata": {
    "scrolled": true
   },
   "outputs": [
    {
     "data": {
      "text/latex": [
       "$\\displaystyle \\sqrt{P^{2} - 2 P + 1}$"
      ],
      "text/plain": [
       "sqrt(P**2 - 2*P + 1)"
      ]
     },
     "execution_count": 36,
     "metadata": {},
     "output_type": "execute_result"
    }
   ],
   "source": [
    "D_par_C=app_coh(G_par_C)\n",
    "D_par_C"
   ]
  },
  {
   "cell_type": "markdown",
   "metadata": {},
   "source": [
    "#### Calculation of the Correlation Function and $B_{max}$"
   ]
  },
  {
   "cell_type": "code",
   "execution_count": 37,
   "metadata": {},
   "outputs": [],
   "source": [
    "G_out_C = conjugate(A_SLM)*conjugate(A_HWP)*G_C*A_HWP.T*A_SLM.T #Transformed matrix\n",
    "C_ta_pa_C = trigsimp(corr_prob(G_out_C)/trace_G(G_out_C))\n",
    "C_ta_pa_C\n",
    "fC = lambdify((t,P,ta,pa),C_ta_pa_C, \"numpy\")"
   ]
  },
  {
   "cell_type": "markdown",
   "metadata": {},
   "source": [
    "In this setup we know that the maximally entagled state is when the apparent degrees of coherence go to zero and so $B_{max}$ attains its peak value."
   ]
  },
  {
   "cell_type": "markdown",
   "metadata": {},
   "source": [
    "#### GRAPHS FOR EXPERIMENT C"
   ]
  },
  {
   "cell_type": "code",
   "execution_count": 38,
   "metadata": {
    "scrolled": false
   },
   "outputs": [
    {
     "data": {
      "application/vnd.jupyter.widget-view+json": {
       "model_id": "8e7a8536f9614437a67389abae450cc1",
       "version_major": 2,
       "version_minor": 0
      },
      "text/plain": [
       "interactive(children=(Dropdown(description='option', options=('Hide All', 'D', 'B', 'S', 'Show All'), value='H…"
      ]
     },
     "metadata": {},
     "output_type": "display_data"
    }
   ],
   "source": [
    "def expCPlots(option):\n",
    "    num_space=102\n",
    "    P=np.linspace(0, 1, num_space)\n",
    "    bmax=bmaxfinderC(C_ta_pa_C,P)\n",
    "    dpol=dfinderC(D_pol_C,P)\n",
    "    dpar=dfinderC(D_par_C,P)\n",
    "    spol=sfinder(dpol,bmax)\n",
    "    spar=sfinder(dpar,bmax)\n",
    "    \n",
    "    plt.ioff()\n",
    "    if option!='Hide All':        \n",
    "    \n",
    "        if option=='B':            \n",
    "            fig, ax = plt.subplots(figsize=(7, 7))\n",
    "            plotter('C',P,bmax,r'$B_{max}$',r'$\\phi$',r'$B_{max}$',(1,0,0),r'$B_{max}$')\n",
    "            plt.plot(P,[8**(0.5)]*num_space,color='black', linestyle ='dashed')\n",
    "            plt.plot(P,[2]*num_space,color='black', linestyle ='dashed')\n",
    "            plt.figtext(s=r'$2\\sqrt{2}$', x=0.15, y=0.77, fontsize=15)\n",
    "            plt.figtext(s=r'$2$', x=0.15, y=0.52, fontsize=15)\n",
    "            plt.ylim(1,3)\n",
    "            plt.show()\n",
    "            \n",
    "        elif option=='S':\n",
    "            fig, ax = plt.subplots(figsize=(7, 7))\n",
    "            plotter('C',P,spol,r'$S_{pol}=S_{par}=1$',r'$\\phi$',r'$S_{pol}\\ \\slash\\ S_{par}$',(1,0,0),r'$s_{pol}$')\n",
    "            plotter('C',P,spar,r'$S_{pol}=S_{par}=1$',r'$\\phi$',r'$S_{pol}\\ \\slash\\ S_{par}$',(0,0,1),r'$s_{par}$')\n",
    "            plt.ylim(0,1.1) \n",
    "            plt.legend()\n",
    "            plt.show()\n",
    "            \n",
    "        elif option=='D':         \n",
    "            fig, ax = plt.subplots(figsize=(7, 7))\n",
    "            plotter('C',P,dpol,r'$D_{pol}\\ and\\ D_{par}$',r'$\\phi$',r'$D_{pol}\\ \\slash\\ D_{par}$',(1,0,0),r'$d_{pol}$')\n",
    "            plotter('C',P,dpar,r'$D_{pol}\\ and\\ D_{par}$',r'$\\phi$',r'$D_{pol}\\ \\slash\\ D_{par}$',(0,0,1),r'$d_{pol}$')\n",
    "            plt.ylim(-0.1,1.1)\n",
    "            plt.legend()\n",
    "            plt.show()\n",
    "            \n",
    "        else:\n",
    "            fig, ax = plt.subplots(figsize=(7, 7))\n",
    "            plotter('C',P,dpol,r'$D_{pol}\\ and\\ D_{par}$',r'$\\phi$',r'$D_{pol}\\ \\slash\\ D_{par}$',(1,0,0),r'$d_{pol}$')\n",
    "            plotter('C',P,dpar,r'$D_{pol}\\ and\\ D_{par}$',r'$\\phi$',r'$D_{pol}\\ \\slash\\ D_{par}$',(0,0,1),r'$d_{pol}$')\n",
    "            plt.ylim(-0.1,1.1)\n",
    "            plt.legend()\n",
    "            plt.show()\n",
    "            fig, ax = plt.subplots(figsize=(7, 7))\n",
    "            plotter('C',P,bmax,r'$B_{max}$',r'$\\phi$',r'$B_{max}$',(1,0,0),r'$B_{max}$')\n",
    "            plt.plot(P,[8**(0.5)]*num_space,color='black', linestyle ='dashed')\n",
    "            plt.plot(P,[2]*num_space,color='black', linestyle ='dashed')\n",
    "            plt.figtext(s=r'$2\\sqrt{2}$', x=0.15, y=0.77, fontsize=15)\n",
    "            plt.figtext(s=r'$2$', x=0.15, y=0.52, fontsize=15)\n",
    "            plt.ylim(1,3)\n",
    "            plt.show()\n",
    "            fig, ax = plt.subplots(figsize=(7, 7))\n",
    "            plotter('C',P,spol,r'$S_{pol}=S_{par}=1$',r'$\\phi$',r'$S_{pol}\\ \\slash\\ S_{par}$',(1,0,0),r'$s_{pol}$')\n",
    "            plotter('C',P,spar,r'$S_{pol}=S_{par}=1$',r'$\\phi$',r'$S_{pol}\\ \\slash\\ S_{par}$',(0,0,1),r'$s_{par}$')\n",
    "            plt.ylim(0,1.1) \n",
    "            plt.legend()\n",
    "            plt.show()\n",
    "            \n",
    "            \n",
    "        plt.show()\n",
    "    \n",
    "    else:     \n",
    "        fig, ax = plt.subplots(figsize=(0.01, 0.01))\n",
    "        plt.show()\n",
    "        clear_output()\n",
    "    return\n",
    "\n",
    "interact(expCPlots, option=['Hide All', 'D', 'B', 'S', 'Show All']);"
   ]
  },
  {
   "cell_type": "code",
   "execution_count": 39,
   "metadata": {
    "scrolled": false
   },
   "outputs": [
    {
     "data": {
      "application/vnd.jupyter.widget-view+json": {
       "model_id": "c915fbbda6934cbaa8d421383765fbbe",
       "version_major": 2,
       "version_minor": 0
      },
      "text/plain": [
       "interactive(children=(FloatSlider(value=0.3333333333333333, continuous_update=False, description='P', layout=L…"
      ]
     },
     "metadata": {},
     "output_type": "display_data"
    }
   ],
   "source": [
    "def expCContours(P):\n",
    "    function=C_ta_pa_C\n",
    "    contourplotter('C',P,r'$C(\\theta_a,\\phi_a)$',r'$\\theta_a$',r'$\\phi_a$')\n",
    "    return\n",
    "interact(expCContours, P=widgets.FloatSlider(min=0, max=1, step=0.01, value=1/3, continuous_update=False, layout=Layout(width='600px')));"
   ]
  },
  {
   "cell_type": "code",
   "execution_count": null,
   "metadata": {},
   "outputs": [],
   "source": []
  },
  {
   "cell_type": "code",
   "execution_count": null,
   "metadata": {},
   "outputs": [],
   "source": []
  },
  {
   "cell_type": "code",
   "execution_count": null,
   "metadata": {},
   "outputs": [],
   "source": []
  },
  {
   "cell_type": "markdown",
   "metadata": {},
   "source": [
    "### Test for 3D Plot"
   ]
  },
  {
   "cell_type": "code",
   "execution_count": 95,
   "metadata": {},
   "outputs": [
    {
     "data": {
      "text/latex": [
       "$\\displaystyle \\left[\\begin{matrix}0.2190054 & -0.0007637 + 0.0131017 i & -0.0271287 + 0.0201518 i & -0.077555 - 0.0532278 i\\\\-0.0007637 - 0.0131017 i & 0.2118988 & -0.0494899 - 0.0376034 i & -0.0351964 + 0.0538355 i\\\\-0.0271287 - 0.0201518 i & -0.0494899 + 0.0376034 i & 0.2558384 & -0.0283692 - 0.0084138 i\\\\-0.077555 + 0.0532278 i & -0.0351964 - 0.0538355 i & -0.0283692 + 0.0084138 i & 0.3132574\\end{matrix}\\right]$"
      ],
      "text/plain": [
       "Matrix([\n",
       "[               0.2190054, -0.0007637 + 0.0131017*I, -0.0271287 + 0.0201518*I,  -0.077555 - 0.0532278*I],\n",
       "[-0.0007637 - 0.0131017*I,                0.2118988, -0.0494899 - 0.0376034*I, -0.0351964 + 0.0538355*I],\n",
       "[-0.0271287 - 0.0201518*I, -0.0494899 + 0.0376034*I,                0.2558384, -0.0283692 - 0.0084138*I],\n",
       "[ -0.077555 + 0.0532278*I, -0.0351964 - 0.0538355*I, -0.0283692 + 0.0084138*I,                0.3132574]])"
      ]
     },
     "execution_count": 95,
     "metadata": {},
     "output_type": "execute_result"
    }
   ],
   "source": [
    "def randG():\n",
    "    A=np.random.rand(4,4)+np.random.rand(4,4)*1j\n",
    "    A=A+Dagger(A)\n",
    "    C,B=np.around(sc.linalg.schur(A),7)\n",
    "    aux=np.diag(np.random.rand(4))\n",
    "    G=B@aux@Dagger(B)\n",
    "    G=G/trace(G)\n",
    "    G=np.around(G,7)    \n",
    "    Gfinal=Matrix(G)\n",
    "    return simplify(Gfinal)\n",
    "\n",
    "randG()"
   ]
  },
  {
   "cell_type": "code",
   "execution_count": 126,
   "metadata": {
    "scrolled": false
   },
   "outputs": [
    {
     "data": {
      "text/latex": [
       "$\\displaystyle \\left[\\begin{matrix}0.2751109 & -0.1870026 + 0.0355413 i & 0.0218533 - 0.0602507 i & -0.0960214 + 0.0317682 i\\\\-0.1870026 - 0.0355413 i & 0.3714074 & -0.1523567 + 0.0657939 i & 0.0384031 - 0.0002247 i\\\\0.0218533 + 0.0602507 i & -0.1523567 - 0.0657939 i & 0.2037881 & -0.0051132 - 0.0293338 i\\\\-0.0960214 - 0.0317682 i & 0.0384031 + 0.0002247 i & -0.0051132 + 0.0293338 i & 0.1496936\\end{matrix}\\right]$"
      ],
      "text/plain": [
       "Matrix([\n",
       "[               0.2751109, -0.1870026 + 0.0355413*I,  0.0218533 - 0.0602507*I, -0.0960214 + 0.0317682*I],\n",
       "[-0.1870026 - 0.0355413*I,                0.3714074, -0.1523567 + 0.0657939*I,  0.0384031 - 0.0002247*I],\n",
       "[ 0.0218533 + 0.0602507*I, -0.1523567 - 0.0657939*I,                0.2037881, -0.0051132 - 0.0293338*I],\n",
       "[-0.0960214 - 0.0317682*I,  0.0384031 + 0.0002247*I, -0.0051132 + 0.0293338*I,                0.1496936]])"
      ]
     },
     "execution_count": 126,
     "metadata": {},
     "output_type": "execute_result"
    }
   ],
   "source": [
    "G = randG()\n",
    "G#The input beam G matrix before the transformations"
   ]
  },
  {
   "cell_type": "markdown",
   "metadata": {},
   "source": [
    "#### Calculation of $D_{pol}$ and $D_{par}$"
   ]
  },
  {
   "cell_type": "code",
   "execution_count": 99,
   "metadata": {},
   "outputs": [
    {
     "data": {
      "text/latex": [
       "$\\displaystyle \\left[\\begin{matrix}0.5597725 & -0.041054 - 0.0719056 i\\\\-0.041054 + 0.0719056 i & 0.4402276\\end{matrix}\\right]$"
      ],
      "text/plain": [
       "Matrix([\n",
       "[              0.5597725, -0.041054 - 0.0719056*I],\n",
       "[-0.041054 + 0.0719056*I,               0.4402276]])"
      ]
     },
     "execution_count": 99,
     "metadata": {},
     "output_type": "execute_result"
    }
   ],
   "source": [
    "G_pol = par_tr_G_pol(G)\n",
    "G_pol"
   ]
  },
  {
   "cell_type": "code",
   "execution_count": 100,
   "metadata": {
    "scrolled": true
   },
   "outputs": [
    {
     "data": {
      "text/latex": [
       "$\\displaystyle \\left[\\begin{matrix}0.4725924 & -0.0591781 + 0.0328198 i\\\\-0.0591781 - 0.0328198 i & 0.5274077\\end{matrix}\\right]$"
      ],
      "text/plain": [
       "Matrix([\n",
       "[               0.4725924, -0.0591781 + 0.0328198*I],\n",
       "[-0.0591781 - 0.0328198*I,                0.5274077]])"
      ]
     },
     "execution_count": 100,
     "metadata": {},
     "output_type": "execute_result"
    }
   ],
   "source": [
    "G_par = par_tr_G_par(G)\n",
    "G_par"
   ]
  },
  {
   "cell_type": "code",
   "execution_count": 101,
   "metadata": {
    "scrolled": true
   },
   "outputs": [
    {
     "data": {
      "text/latex": [
       "$\\displaystyle 0.204240935374321$"
      ],
      "text/plain": [
       "0.204240935374321"
      ]
     },
     "execution_count": 101,
     "metadata": {},
     "output_type": "execute_result"
    }
   ],
   "source": [
    "D_pol=app_coh(G_pol)\n",
    "D_pol# Prints D_pol"
   ]
  },
  {
   "cell_type": "code",
   "execution_count": 102,
   "metadata": {
    "scrolled": true
   },
   "outputs": [
    {
     "data": {
      "text/latex": [
       "$\\displaystyle 0.146018697489047$"
      ],
      "text/plain": [
       "0.146018697489047"
      ]
     },
     "execution_count": 102,
     "metadata": {},
     "output_type": "execute_result"
    }
   ],
   "source": [
    "D_par=app_coh(G_par)\n",
    "D_par# Prints D_par"
   ]
  },
  {
   "cell_type": "code",
   "execution_count": 122,
   "metadata": {},
   "outputs": [
    {
     "data": {
      "text/latex": [
       "$\\displaystyle \\left[\\begin{matrix}- 0.020527 \\sin{\\left(\\theta_{a} \\right)} - 0.01641 \\sin{\\left(\\varphi_{a} \\right)} - 0.0067208 \\sin{\\left(\\theta_{a} - \\varphi_{a} \\right)} + 0.033533 \\sin{\\left(\\theta_{a} + \\varphi_{a} \\right)} + 0.029886 \\cos{\\left(\\theta_{a} \\right)} - 0.013704 \\cos{\\left(\\varphi_{a} \\right)} + 0.022275 \\cos{\\left(\\theta_{a} - \\varphi_{a} \\right)} + 0.017832 \\cos{\\left(\\theta_{a} + \\varphi_{a} \\right)} + 0.25 & - 0.16102 i \\sin^{2}{\\left(\\frac{\\theta_{a}}{2} \\right)} \\sin^{2}{\\left(\\frac{\\varphi_{a}}{2} \\right)} - 0.16043 i \\sin^{2}{\\left(\\frac{\\theta_{a}}{2} \\right)} \\sin{\\left(\\frac{\\varphi_{a}}{2} \\right)} \\cos{\\left(\\frac{\\varphi_{a}}{2} \\right)} + \\left(0.094779 + 0.080508 i\\right) \\sin^{2}{\\left(\\frac{\\theta_{a}}{2} \\right)} + 0.017773 i \\sin{\\left(\\frac{\\theta_{a}}{2} \\right)} \\sin^{2}{\\left(\\frac{\\varphi_{a}}{2} \\right)} \\cos{\\left(\\frac{\\theta_{a}}{2} \\right)} - \\left(0.091447 + 0.0088866 i\\right) \\sin{\\left(\\frac{\\theta_{a}}{2} \\right)} \\cos{\\left(\\frac{\\theta_{a}}{2} \\right)} + 0.026812 i \\sin{\\left(\\theta_{a} \\right)} \\sin{\\left(\\varphi_{a} \\right)} + 0.047688 i \\sin^{2}{\\left(\\frac{\\varphi_{a}}{2} \\right)} + 0.052806 i \\sin{\\left(\\frac{\\varphi_{a}}{2} \\right)} \\cos{\\left(\\frac{\\varphi_{a}}{2} \\right)} - 0.076978 - 0.023844 i & 0.029886 \\sin{\\left(\\theta_{a} \\right)} + 0.030966 i \\sin{\\left(\\varphi_{a} \\right)} + 0.022275 \\sin{\\left(\\theta_{a} - \\varphi_{a} \\right)} + 0.017832 \\sin{\\left(\\theta_{a} + \\varphi_{a} \\right)} + \\left(0.020527 + 3.7253 \\cdot 10^{-9} i\\right) \\cos{\\left(\\theta_{a} \\right)} - 0.023903 i \\cos{\\left(\\varphi_{a} \\right)} + \\left(0.0067208 - 1.8626 \\cdot 10^{-9} i\\right) \\cos{\\left(\\theta_{a} - \\varphi_{a} \\right)} - \\left(0.033533 + 1.8626 \\cdot 10^{-9} i\\right) \\cos{\\left(\\theta_{a} + \\varphi_{a} \\right)} + 0.035953 i & 0.017773 i \\sin^{2}{\\left(\\frac{\\theta_{a}}{2} \\right)} \\sin^{2}{\\left(\\frac{\\varphi_{a}}{2} \\right)} + 0.10725 i \\sin^{2}{\\left(\\frac{\\theta_{a}}{2} \\right)} \\sin{\\left(\\frac{\\varphi_{a}}{2} \\right)} \\cos{\\left(\\frac{\\varphi_{a}}{2} \\right)} - \\left(0.091447 + 0.0088866 i\\right) \\sin^{2}{\\left(\\frac{\\theta_{a}}{2} \\right)} + 0.16102 i \\sin{\\left(\\frac{\\theta_{a}}{2} \\right)} \\sin^{2}{\\left(\\frac{\\varphi_{a}}{2} \\right)} \\cos{\\left(\\frac{\\theta_{a}}{2} \\right)} - \\left(0.094779 + 0.080508 i\\right) \\sin{\\left(\\frac{\\theta_{a}}{2} \\right)} \\cos{\\left(\\frac{\\theta_{a}}{2} \\right)} + 0.040107 i \\sin{\\left(\\theta_{a} \\right)} \\sin{\\left(\\varphi_{a} \\right)} - \\left(0.061931 + 0.0088866 i\\right) \\sin^{2}{\\left(\\frac{\\varphi_{a}}{2} \\right)} + \\left(0.047806 - 0.053624 i\\right) \\sin{\\left(\\frac{\\varphi_{a}}{2} \\right)} \\cos{\\left(\\frac{\\varphi_{a}}{2} \\right)} + 0.076689 - 0.051996 i\\\\0.16102 i \\sin^{2}{\\left(\\frac{\\theta_{a}}{2} \\right)} \\sin^{2}{\\left(\\frac{\\varphi_{a}}{2} \\right)} + 0.16043 i \\sin^{2}{\\left(\\frac{\\theta_{a}}{2} \\right)} \\sin{\\left(\\frac{\\varphi_{a}}{2} \\right)} \\cos{\\left(\\frac{\\varphi_{a}}{2} \\right)} + \\left(0.094779 - 0.080508 i\\right) \\sin^{2}{\\left(\\frac{\\theta_{a}}{2} \\right)} - 0.017773 i \\sin{\\left(\\frac{\\theta_{a}}{2} \\right)} \\sin^{2}{\\left(\\frac{\\varphi_{a}}{2} \\right)} \\cos{\\left(\\frac{\\theta_{a}}{2} \\right)} + \\left(-0.091447 + 0.0088866 i\\right) \\sin{\\left(\\frac{\\theta_{a}}{2} \\right)} \\cos{\\left(\\frac{\\theta_{a}}{2} \\right)} - 0.026812 i \\sin{\\left(\\theta_{a} \\right)} \\sin{\\left(\\varphi_{a} \\right)} - 0.047688 i \\sin^{2}{\\left(\\frac{\\varphi_{a}}{2} \\right)} - 0.052806 i \\sin{\\left(\\frac{\\varphi_{a}}{2} \\right)} \\cos{\\left(\\frac{\\varphi_{a}}{2} \\right)} - 0.076978 + 0.023844 i & - 0.020527 \\sin{\\left(\\theta_{a} \\right)} + 0.01641 \\sin{\\left(\\varphi_{a} \\right)} + 0.0067208 \\sin{\\left(\\theta_{a} - \\varphi_{a} \\right)} - 0.033533 \\sin{\\left(\\theta_{a} + \\varphi_{a} \\right)} + 0.029886 \\cos{\\left(\\theta_{a} \\right)} + 0.013704 \\cos{\\left(\\varphi_{a} \\right)} - 0.022275 \\cos{\\left(\\theta_{a} - \\varphi_{a} \\right)} - 0.017832 \\cos{\\left(\\theta_{a} + \\varphi_{a} \\right)} + 0.25 & - 0.020053 i \\left(\\cos{\\left(\\theta_{a} - \\varphi_{a} \\right)} - \\cos{\\left(\\theta_{a} + \\varphi_{a} \\right)}\\right) - \\left(0.014758 + 0.060883 i\\right) \\sin^{2}{\\left(\\frac{\\theta_{a}}{2} \\right)} \\sin^{2}{\\left(\\frac{\\varphi_{a}}{2} \\right)} - \\left(0.047806 + 0.053624 i\\right) \\sin^{2}{\\left(\\frac{\\theta_{a}}{2} \\right)} \\sin{\\left(\\frac{\\varphi_{a}}{2} \\right)} \\cos{\\left(\\frac{\\varphi_{a}}{2} \\right)} - \\left(0.076689 + 0.051996 i\\right) \\sin^{2}{\\left(\\frac{\\theta_{a}}{2} \\right)} \\cos^{2}{\\left(\\frac{\\varphi_{a}}{2} \\right)} - \\left(0.094779 + 0.080508 i\\right) \\sin{\\left(\\frac{\\theta_{a}}{2} \\right)} \\sin^{2}{\\left(\\frac{\\varphi_{a}}{2} \\right)} \\cos{\\left(\\frac{\\theta_{a}}{2} \\right)} - \\left(0.094779 - 0.080508 i\\right) \\sin{\\left(\\frac{\\theta_{a}}{2} \\right)} \\cos{\\left(\\frac{\\theta_{a}}{2} \\right)} \\cos^{2}{\\left(\\frac{\\varphi_{a}}{2} \\right)} + \\left(0.076689 - 0.051996 i\\right) \\sin^{2}{\\left(\\frac{\\varphi_{a}}{2} \\right)} \\cos^{2}{\\left(\\frac{\\theta_{a}}{2} \\right)} - \\left(0.047806 - 0.053624 i\\right) \\sin{\\left(\\frac{\\varphi_{a}}{2} \\right)} \\cos^{2}{\\left(\\frac{\\theta_{a}}{2} \\right)} \\cos{\\left(\\frac{\\varphi_{a}}{2} \\right)} + \\left(0.014758 - 0.060883 i\\right) \\cos^{2}{\\left(\\frac{\\theta_{a}}{2} \\right)} \\cos^{2}{\\left(\\frac{\\varphi_{a}}{2} \\right)} & 0.029886 \\sin{\\left(\\theta_{a} \\right)} - 0.030966 i \\sin{\\left(\\varphi_{a} \\right)} - 0.022275 \\sin{\\left(\\theta_{a} - \\varphi_{a} \\right)} - 0.017832 \\sin{\\left(\\theta_{a} + \\varphi_{a} \\right)} + 0.020527 \\cos{\\left(\\theta_{a} \\right)} + 0.023903 i \\cos{\\left(\\varphi_{a} \\right)} - 0.0067208 \\cos{\\left(\\theta_{a} - \\varphi_{a} \\right)} + 0.033533 \\cos{\\left(\\theta_{a} + \\varphi_{a} \\right)} + 0.035953 i\\\\\\left(-0.10725 + 1.4901 \\cdot 10^{-8} i\\right) \\sin^{2}{\\left(\\frac{\\theta_{a}}{2} \\right)} \\sin^{2}{\\left(\\frac{\\varphi_{a}}{2} \\right)} + 0.017773 \\sin^{2}{\\left(\\frac{\\theta_{a}}{2} \\right)} \\sin{\\left(\\frac{\\varphi_{a}}{2} \\right)} \\cos{\\left(\\frac{\\varphi_{a}}{2} \\right)} + 0.01257 \\sin^{2}{\\left(\\frac{\\theta_{a}}{2} \\right)} - 0.16043 \\sin{\\left(\\frac{\\theta_{a}}{2} \\right)} \\sin^{2}{\\left(\\frac{\\varphi_{a}}{2} \\right)} \\cos{\\left(\\frac{\\theta_{a}}{2} \\right)} + 0.13999 \\sin{\\left(\\frac{\\theta_{a}}{2} \\right)} \\cos{\\left(\\frac{\\theta_{a}}{2} \\right)} + 0.040254 \\sin{\\left(\\theta_{a} \\right)} \\sin{\\left(\\varphi_{a} \\right)} + \\left(0.053624 - 0.047806 i\\right) \\sin^{2}{\\left(\\frac{\\varphi_{a}}{2} \\right)} - \\left(0.0088866 + 0.061931 i\\right) \\sin{\\left(\\frac{\\varphi_{a}}{2} \\right)} \\cos{\\left(\\frac{\\varphi_{a}}{2} \\right)} - 0.0062852 - 0.01205 i & 0.020053 i \\left(\\cos{\\left(\\theta_{a} - \\varphi_{a} \\right)} - \\cos{\\left(\\theta_{a} + \\varphi_{a} \\right)}\\right) + \\left(-0.014758 + 0.060883 i\\right) \\sin^{2}{\\left(\\frac{\\theta_{a}}{2} \\right)} \\sin^{2}{\\left(\\frac{\\varphi_{a}}{2} \\right)} + \\left(-0.047806 + 0.053624 i\\right) \\sin^{2}{\\left(\\frac{\\theta_{a}}{2} \\right)} \\sin{\\left(\\frac{\\varphi_{a}}{2} \\right)} \\cos{\\left(\\frac{\\varphi_{a}}{2} \\right)} + \\left(-0.076689 + 0.051996 i\\right) \\sin^{2}{\\left(\\frac{\\theta_{a}}{2} \\right)} \\cos^{2}{\\left(\\frac{\\varphi_{a}}{2} \\right)} + \\left(-0.094779 + 0.080508 i\\right) \\sin{\\left(\\frac{\\theta_{a}}{2} \\right)} \\sin^{2}{\\left(\\frac{\\varphi_{a}}{2} \\right)} \\cos{\\left(\\frac{\\theta_{a}}{2} \\right)} - \\left(0.094779 + 0.080508 i\\right) \\sin{\\left(\\frac{\\theta_{a}}{2} \\right)} \\cos{\\left(\\frac{\\theta_{a}}{2} \\right)} \\cos^{2}{\\left(\\frac{\\varphi_{a}}{2} \\right)} + \\left(0.076689 + 0.051996 i\\right) \\sin^{2}{\\left(\\frac{\\varphi_{a}}{2} \\right)} \\cos^{2}{\\left(\\frac{\\theta_{a}}{2} \\right)} - \\left(0.047806 + 0.053624 i\\right) \\sin{\\left(\\frac{\\varphi_{a}}{2} \\right)} \\cos^{2}{\\left(\\frac{\\theta_{a}}{2} \\right)} \\cos{\\left(\\frac{\\varphi_{a}}{2} \\right)} + \\left(0.014758 + 0.060883 i\\right) \\cos^{2}{\\left(\\frac{\\theta_{a}}{2} \\right)} \\cos^{2}{\\left(\\frac{\\varphi_{a}}{2} \\right)} & 0.020527 \\sin{\\left(\\theta_{a} \\right)} - 0.01641 \\sin{\\left(\\varphi_{a} \\right)} + 0.0067208 \\sin{\\left(\\theta_{a} - \\varphi_{a} \\right)} - 0.033533 \\sin{\\left(\\theta_{a} + \\varphi_{a} \\right)} - 0.029886 \\cos{\\left(\\theta_{a} \\right)} - 0.013704 \\cos{\\left(\\varphi_{a} \\right)} - 0.022275 \\cos{\\left(\\theta_{a} - \\varphi_{a} \\right)} - 0.017832 \\cos{\\left(\\theta_{a} + \\varphi_{a} \\right)} + 0.25 & 0.16102 i \\sin^{2}{\\left(\\frac{\\theta_{a}}{2} \\right)} \\sin^{2}{\\left(\\frac{\\varphi_{a}}{2} \\right)} + 0.16043 i \\sin^{2}{\\left(\\frac{\\theta_{a}}{2} \\right)} \\sin{\\left(\\frac{\\varphi_{a}}{2} \\right)} \\cos{\\left(\\frac{\\varphi_{a}}{2} \\right)} - \\left(0.094779 + 0.080508 i\\right) \\sin^{2}{\\left(\\frac{\\theta_{a}}{2} \\right)} - 0.017773 i \\sin{\\left(\\frac{\\theta_{a}}{2} \\right)} \\sin^{2}{\\left(\\frac{\\varphi_{a}}{2} \\right)} \\cos{\\left(\\frac{\\theta_{a}}{2} \\right)} + \\left(0.091447 + 0.0088866 i\\right) \\sin{\\left(\\frac{\\theta_{a}}{2} \\right)} \\cos{\\left(\\frac{\\theta_{a}}{2} \\right)} - 0.026812 i \\sin{\\left(\\theta_{a} \\right)} \\sin{\\left(\\varphi_{a} \\right)} - 0.11333 i \\sin^{2}{\\left(\\frac{\\varphi_{a}}{2} \\right)} - 0.10762 i \\sin{\\left(\\frac{\\varphi_{a}}{2} \\right)} \\cos{\\left(\\frac{\\varphi_{a}}{2} \\right)} + 0.0178 + 0.056664 i\\\\- 0.017773 i \\sin^{2}{\\left(\\frac{\\theta_{a}}{2} \\right)} \\sin^{2}{\\left(\\frac{\\varphi_{a}}{2} \\right)} - 0.10725 i \\sin^{2}{\\left(\\frac{\\theta_{a}}{2} \\right)} \\sin{\\left(\\frac{\\varphi_{a}}{2} \\right)} \\cos{\\left(\\frac{\\varphi_{a}}{2} \\right)} + \\left(-0.091447 + 0.0088866 i\\right) \\sin^{2}{\\left(\\frac{\\theta_{a}}{2} \\right)} - 0.16102 i \\sin{\\left(\\frac{\\theta_{a}}{2} \\right)} \\sin^{2}{\\left(\\frac{\\varphi_{a}}{2} \\right)} \\cos{\\left(\\frac{\\theta_{a}}{2} \\right)} + \\left(-0.094779 + 0.080508 i\\right) \\sin{\\left(\\frac{\\theta_{a}}{2} \\right)} \\cos{\\left(\\frac{\\theta_{a}}{2} \\right)} - 0.040107 i \\sin{\\left(\\theta_{a} \\right)} \\sin{\\left(\\varphi_{a} \\right)} + \\left(-0.061931 + 0.0088866 i\\right) \\sin^{2}{\\left(\\frac{\\varphi_{a}}{2} \\right)} + \\left(0.047806 + 0.053624 i\\right) \\sin{\\left(\\frac{\\varphi_{a}}{2} \\right)} \\cos{\\left(\\frac{\\varphi_{a}}{2} \\right)} + 0.076689 + 0.051996 i & 0.029886 \\sin{\\left(\\theta_{a} \\right)} + 0.030966 i \\sin{\\left(\\varphi_{a} \\right)} - 0.022275 \\sin{\\left(\\theta_{a} - \\varphi_{a} \\right)} - 0.017832 \\sin{\\left(\\theta_{a} + \\varphi_{a} \\right)} + 0.020527 \\cos{\\left(\\theta_{a} \\right)} - 0.023903 i \\cos{\\left(\\varphi_{a} \\right)} - 0.0067208 \\cos{\\left(\\theta_{a} - \\varphi_{a} \\right)} + 0.033533 \\cos{\\left(\\theta_{a} + \\varphi_{a} \\right)} - 0.035953 i & - 0.16102 i \\sin^{2}{\\left(\\frac{\\theta_{a}}{2} \\right)} \\sin^{2}{\\left(\\frac{\\varphi_{a}}{2} \\right)} - 0.16043 i \\sin^{2}{\\left(\\frac{\\theta_{a}}{2} \\right)} \\sin{\\left(\\frac{\\varphi_{a}}{2} \\right)} \\cos{\\left(\\frac{\\varphi_{a}}{2} \\right)} + \\left(-0.094779 + 0.080508 i\\right) \\sin^{2}{\\left(\\frac{\\theta_{a}}{2} \\right)} + 0.017773 i \\sin{\\left(\\frac{\\theta_{a}}{2} \\right)} \\sin^{2}{\\left(\\frac{\\varphi_{a}}{2} \\right)} \\cos{\\left(\\frac{\\theta_{a}}{2} \\right)} + \\left(0.091447 - 0.0088866 i\\right) \\sin{\\left(\\frac{\\theta_{a}}{2} \\right)} \\cos{\\left(\\frac{\\theta_{a}}{2} \\right)} + 0.026812 i \\sin{\\left(\\theta_{a} \\right)} \\sin{\\left(\\varphi_{a} \\right)} + 0.11333 i \\sin^{2}{\\left(\\frac{\\varphi_{a}}{2} \\right)} + 0.10762 i \\sin{\\left(\\frac{\\varphi_{a}}{2} \\right)} \\cos{\\left(\\frac{\\varphi_{a}}{2} \\right)} + 0.0178 - 0.056664 i & 0.020527 \\sin{\\left(\\theta_{a} \\right)} + 0.01641 \\sin{\\left(\\varphi_{a} \\right)} - 0.0067208 \\sin{\\left(\\theta_{a} - \\varphi_{a} \\right)} + 0.033533 \\sin{\\left(\\theta_{a} + \\varphi_{a} \\right)} - 0.029886 \\cos{\\left(\\theta_{a} \\right)} + 0.013704 \\cos{\\left(\\varphi_{a} \\right)} + 0.022275 \\cos{\\left(\\theta_{a} - \\varphi_{a} \\right)} + 0.017832 \\cos{\\left(\\theta_{a} + \\varphi_{a} \\right)} + 0.25\\end{matrix}\\right]$"
      ],
      "text/plain": [
       "Matrix([\n",
       "[                                                                                                                                                                                                        -0.020527*sin(theta_a) - 0.01641*sin(varphi_a) - 0.0067208*sin(theta_a - varphi_a) + 0.033533*sin(theta_a + varphi_a) + 0.029886*cos(theta_a) - 0.013704*cos(varphi_a) + 0.022275*cos(theta_a - varphi_a) + 0.017832*cos(theta_a + varphi_a) + 0.25,                                                                                                                                                                                                                -0.16102*I*sin(theta_a/2)**2*sin(varphi_a/2)**2 - 0.16043*I*sin(theta_a/2)**2*sin(varphi_a/2)*cos(varphi_a/2) + (0.094779 + 0.080508*I)*sin(theta_a/2)**2 + 0.017773*I*sin(theta_a/2)*sin(varphi_a/2)**2*cos(theta_a/2) - (0.091447 + 0.0088866*I)*sin(theta_a/2)*cos(theta_a/2) + 0.026812*I*sin(theta_a)*sin(varphi_a) + 0.047688*I*sin(varphi_a/2)**2 + 0.052806*I*sin(varphi_a/2)*cos(varphi_a/2) - 0.076978 - 0.023844*I,                                                                                                                                                                                                                                                                                                                             0.029886*sin(theta_a) + 0.030966*I*sin(varphi_a) + 0.022275*sin(theta_a - varphi_a) + 0.017832*sin(theta_a + varphi_a) + (0.020527 + 3.7253e-9*I)*cos(theta_a) - 0.023903*I*cos(varphi_a) + (0.0067208 - 1.8626e-9*I)*cos(theta_a - varphi_a) - (0.033533 + 1.8626e-9*I)*cos(theta_a + varphi_a) + 0.035953*I, 0.017773*I*sin(theta_a/2)**2*sin(varphi_a/2)**2 + 0.10725*I*sin(theta_a/2)**2*sin(varphi_a/2)*cos(varphi_a/2) - (0.091447 + 0.0088866*I)*sin(theta_a/2)**2 + 0.16102*I*sin(theta_a/2)*sin(varphi_a/2)**2*cos(theta_a/2) - (0.094779 + 0.080508*I)*sin(theta_a/2)*cos(theta_a/2) + 0.040107*I*sin(theta_a)*sin(varphi_a) - (0.061931 + 0.0088866*I)*sin(varphi_a/2)**2 + (0.047806 - 0.053624*I)*sin(varphi_a/2)*cos(varphi_a/2) + 0.076689 - 0.051996*I],\n",
       "[                              0.16102*I*sin(theta_a/2)**2*sin(varphi_a/2)**2 + 0.16043*I*sin(theta_a/2)**2*sin(varphi_a/2)*cos(varphi_a/2) + (0.094779 - 0.080508*I)*sin(theta_a/2)**2 - 0.017773*I*sin(theta_a/2)*sin(varphi_a/2)**2*cos(theta_a/2) + (-0.091447 + 0.0088866*I)*sin(theta_a/2)*cos(theta_a/2) - 0.026812*I*sin(theta_a)*sin(varphi_a) - 0.047688*I*sin(varphi_a/2)**2 - 0.052806*I*sin(varphi_a/2)*cos(varphi_a/2) - 0.076978 + 0.023844*I,                                                                                                                                                                                                                                                                                                                                                                                          -0.020527*sin(theta_a) + 0.01641*sin(varphi_a) + 0.0067208*sin(theta_a - varphi_a) - 0.033533*sin(theta_a + varphi_a) + 0.029886*cos(theta_a) + 0.013704*cos(varphi_a) - 0.022275*cos(theta_a - varphi_a) - 0.017832*cos(theta_a + varphi_a) + 0.25, -0.020053*I*(cos(theta_a - varphi_a) - cos(theta_a + varphi_a)) - (0.014758 + 0.060883*I)*sin(theta_a/2)**2*sin(varphi_a/2)**2 - (0.047806 + 0.053624*I)*sin(theta_a/2)**2*sin(varphi_a/2)*cos(varphi_a/2) - (0.076689 + 0.051996*I)*sin(theta_a/2)**2*cos(varphi_a/2)**2 - (0.094779 + 0.080508*I)*sin(theta_a/2)*sin(varphi_a/2)**2*cos(theta_a/2) - (0.094779 - 0.080508*I)*sin(theta_a/2)*cos(theta_a/2)*cos(varphi_a/2)**2 + (0.076689 - 0.051996*I)*sin(varphi_a/2)**2*cos(theta_a/2)**2 - (0.047806 - 0.053624*I)*sin(varphi_a/2)*cos(theta_a/2)**2*cos(varphi_a/2) + (0.014758 - 0.060883*I)*cos(theta_a/2)**2*cos(varphi_a/2)**2,                                                                                                                                                                                           0.029886*sin(theta_a) - 0.030966*I*sin(varphi_a) - 0.022275*sin(theta_a - varphi_a) - 0.017832*sin(theta_a + varphi_a) + 0.020527*cos(theta_a) + 0.023903*I*cos(varphi_a) - 0.0067208*cos(theta_a - varphi_a) + 0.033533*cos(theta_a + varphi_a) + 0.035953*I],\n",
       "[                            (-0.10725 + 1.4901e-8*I)*sin(theta_a/2)**2*sin(varphi_a/2)**2 + 0.017773*sin(theta_a/2)**2*sin(varphi_a/2)*cos(varphi_a/2) + 0.01257*sin(theta_a/2)**2 - 0.16043*sin(theta_a/2)*sin(varphi_a/2)**2*cos(theta_a/2) + 0.13999*sin(theta_a/2)*cos(theta_a/2) + 0.040254*sin(theta_a)*sin(varphi_a) + (0.053624 - 0.047806*I)*sin(varphi_a/2)**2 - (0.0088866 + 0.061931*I)*sin(varphi_a/2)*cos(varphi_a/2) - 0.0062852 - 0.01205*I, 0.020053*I*(cos(theta_a - varphi_a) - cos(theta_a + varphi_a)) + (-0.014758 + 0.060883*I)*sin(theta_a/2)**2*sin(varphi_a/2)**2 + (-0.047806 + 0.053624*I)*sin(theta_a/2)**2*sin(varphi_a/2)*cos(varphi_a/2) + (-0.076689 + 0.051996*I)*sin(theta_a/2)**2*cos(varphi_a/2)**2 + (-0.094779 + 0.080508*I)*sin(theta_a/2)*sin(varphi_a/2)**2*cos(theta_a/2) - (0.094779 + 0.080508*I)*sin(theta_a/2)*cos(theta_a/2)*cos(varphi_a/2)**2 + (0.076689 + 0.051996*I)*sin(varphi_a/2)**2*cos(theta_a/2)**2 - (0.047806 + 0.053624*I)*sin(varphi_a/2)*cos(theta_a/2)**2*cos(varphi_a/2) + (0.014758 + 0.060883*I)*cos(theta_a/2)**2*cos(varphi_a/2)**2,                                                                                                                                                                                                                                                                                                                                                                                        0.020527*sin(theta_a) - 0.01641*sin(varphi_a) + 0.0067208*sin(theta_a - varphi_a) - 0.033533*sin(theta_a + varphi_a) - 0.029886*cos(theta_a) - 0.013704*cos(varphi_a) - 0.022275*cos(theta_a - varphi_a) - 0.017832*cos(theta_a + varphi_a) + 0.25,                                0.16102*I*sin(theta_a/2)**2*sin(varphi_a/2)**2 + 0.16043*I*sin(theta_a/2)**2*sin(varphi_a/2)*cos(varphi_a/2) - (0.094779 + 0.080508*I)*sin(theta_a/2)**2 - 0.017773*I*sin(theta_a/2)*sin(varphi_a/2)**2*cos(theta_a/2) + (0.091447 + 0.0088866*I)*sin(theta_a/2)*cos(theta_a/2) - 0.026812*I*sin(theta_a)*sin(varphi_a) - 0.11333*I*sin(varphi_a/2)**2 - 0.10762*I*sin(varphi_a/2)*cos(varphi_a/2) + 0.0178 + 0.056664*I],\n",
       "[-0.017773*I*sin(theta_a/2)**2*sin(varphi_a/2)**2 - 0.10725*I*sin(theta_a/2)**2*sin(varphi_a/2)*cos(varphi_a/2) + (-0.091447 + 0.0088866*I)*sin(theta_a/2)**2 - 0.16102*I*sin(theta_a/2)*sin(varphi_a/2)**2*cos(theta_a/2) + (-0.094779 + 0.080508*I)*sin(theta_a/2)*cos(theta_a/2) - 0.040107*I*sin(theta_a)*sin(varphi_a) + (-0.061931 + 0.0088866*I)*sin(varphi_a/2)**2 + (0.047806 + 0.053624*I)*sin(varphi_a/2)*cos(varphi_a/2) + 0.076689 + 0.051996*I,                                                                                                                                                                                                                                                                                                                                                                                0.029886*sin(theta_a) + 0.030966*I*sin(varphi_a) - 0.022275*sin(theta_a - varphi_a) - 0.017832*sin(theta_a + varphi_a) + 0.020527*cos(theta_a) - 0.023903*I*cos(varphi_a) - 0.0067208*cos(theta_a - varphi_a) + 0.033533*cos(theta_a + varphi_a) - 0.035953*I,                                                                                                                                                                                                                -0.16102*I*sin(theta_a/2)**2*sin(varphi_a/2)**2 - 0.16043*I*sin(theta_a/2)**2*sin(varphi_a/2)*cos(varphi_a/2) + (-0.094779 + 0.080508*I)*sin(theta_a/2)**2 + 0.017773*I*sin(theta_a/2)*sin(varphi_a/2)**2*cos(theta_a/2) + (0.091447 - 0.0088866*I)*sin(theta_a/2)*cos(theta_a/2) + 0.026812*I*sin(theta_a)*sin(varphi_a) + 0.11333*I*sin(varphi_a/2)**2 + 0.10762*I*sin(varphi_a/2)*cos(varphi_a/2) + 0.0178 - 0.056664*I,                                                                                                                                                                                                      0.020527*sin(theta_a) + 0.01641*sin(varphi_a) - 0.0067208*sin(theta_a - varphi_a) + 0.033533*sin(theta_a + varphi_a) - 0.029886*cos(theta_a) + 0.013704*cos(varphi_a) + 0.022275*cos(theta_a - varphi_a) + 0.017832*cos(theta_a + varphi_a) + 0.25]])"
      ]
     },
     "execution_count": 122,
     "metadata": {},
     "output_type": "execute_result"
    }
   ],
   "source": [
    "G_out = simplify(N(conjugate(A_SLM)*conjugate(A_HWP)*G*A_HWP.T*A_SLM.T,5))\n",
    "G_out"
   ]
  },
  {
   "cell_type": "markdown",
   "metadata": {},
   "source": [
    "#### Calculation of the Correlation Function and $B_{max}$"
   ]
  },
  {
   "cell_type": "code",
   "execution_count": 123,
   "metadata": {},
   "outputs": [
    {
     "data": {
      "text/plain": [
       "0.5039047276649853"
      ]
     },
     "execution_count": 123,
     "metadata": {},
     "output_type": "execute_result"
    }
   ],
   "source": [
    "C_ta_pa = trigsimp(corr_prob(G_out)/trace_G(G_out))\n",
    "C_ta_pa\n",
    "tb,pb = symbols('theta_b varphi_b',real=True)\n",
    "B = C_ta_pa + C_ta_pa.xreplace({ta:tb}) + C_ta_pa.xreplace({pa:pb}) - C_ta_pa.xreplace({ta:tb,pa:pb})\n",
    "b = lambdify((ta,pa,tb,pb),B, \"numpy\")\n",
    "bmax=-1*(sc.optimize.minimize(lambda params: -1*abs(b(params[0],params[1],params[2],params[3])), [0,0,0,0], method = 'L-BFGS-B').fun)\n",
    "bmax"
   ]
  },
  {
   "cell_type": "code",
   "execution_count": 136,
   "metadata": {},
   "outputs": [
    {
     "name": "stdout",
     "output_type": "stream",
     "text": [
      "0\n",
      "1\n",
      "2\n",
      "3\n",
      "4\n",
      "5\n",
      "6\n",
      "7\n",
      "8\n",
      "9\n",
      "10\n",
      "11\n",
      "12\n",
      "13\n",
      "14\n",
      "15\n",
      "16\n",
      "17\n",
      "18\n",
      "19\n"
     ]
    },
    {
     "data": {
      "text/plain": [
       "(array([0.04133321, 0.03598436, 0.01748215, 0.11970058, 0.02837418,\n",
       "        0.012332  , 0.05169691, 0.01031416, 0.05695383, 0.04410144,\n",
       "        0.09867721, 0.00850949, 0.04561861, 0.12435438, 0.0203343 ,\n",
       "        0.12279106, 0.09559852, 0.056082  , 0.04848963, 0.00831047]),\n",
       " array([0.04459241, 0.12890724, 0.00236411, 0.03220168, 0.03812974,\n",
       "        0.01358273, 0.05733499, 0.01000195, 0.02138849, 0.06551282,\n",
       "        0.04852589, 0.00355215, 0.04267625, 0.12162101, 0.01258094,\n",
       "        0.05538256, 0.08228465, 0.04389903, 0.0132578 , 0.00473311]),\n",
       " array([0.08826508, 0.17037647, 0.01752736, 0.11807526, 0.03903248,\n",
       "        0.0165322 , 0.1002702 , 0.01613777, 0.06383933, 0.06007751,\n",
       "        0.12684547, 0.01149889, 0.08200548, 0.16471263, 0.04494081,\n",
       "        0.18197227, 0.12557408, 0.07523462, 0.07145659, 0.01477598]))"
      ]
     },
     "execution_count": 136,
     "metadata": {},
     "output_type": "execute_result"
    }
   ],
   "source": [
    "def s3D():\n",
    "    n=20\n",
    "    spol=np.zeros(n)\n",
    "    spar=np.zeros(n)\n",
    "    s=np.zeros(n)\n",
    "    for i in range(n):\n",
    "        print(i)\n",
    "        G=randG()\n",
    "        G_pol = par_tr_G_pol(G)\n",
    "        G_par = par_tr_G_par(G)\n",
    "        D_pol=app_coh(G_pol)\n",
    "        D_par=app_coh(G_par)\n",
    "        G_out = simplify(N(conjugate(A_SLM)*conjugate(A_HWP)*G*A_HWP.T*A_SLM.T,5))\n",
    "        C_ta_pa = trigsimp(corr_prob(G_out)/trace_G(G_out))\n",
    "        tb,pb = symbols('theta_b varphi_b',real=True)\n",
    "        B = C_ta_pa + C_ta_pa.xreplace({ta:tb}) + C_ta_pa.xreplace({pa:pb}) - C_ta_pa.xreplace({ta:tb,pa:pb})\n",
    "        b = lambdify((ta,pa,tb,pb),B, \"numpy\")\n",
    "        bmax=-1*(sc.optimize.minimize(lambda params: -1*abs(b(params[0],params[1],params[2],params[3])), [0,0,0,0], method = 'L-BFGS-B').fun)\n",
    "        spol[i]=D_pol**2/2+bmax**2/8\n",
    "        spar[i]=D_par**2/2+bmax**2/8\n",
    "        s[i]=(4/3)*(trace_G(G*G)-(1/4))\n",
    "    return spol,spar,s\n",
    "s3D()"
   ]
  },
  {
   "cell_type": "code",
   "execution_count": 127,
   "metadata": {
    "scrolled": false
   },
   "outputs": [
    {
     "ename": "NameError",
     "evalue": "name 'X' is not defined",
     "output_type": "error",
     "traceback": [
      "\u001b[1;31m---------------------------------------------------------------------------\u001b[0m",
      "\u001b[1;31mNameError\u001b[0m                                 Traceback (most recent call last)",
      "\u001b[1;32m<ipython-input-127-d5eb5fee0580>\u001b[0m in \u001b[0;36m<module>\u001b[1;34m\u001b[0m\n\u001b[0;32m      2\u001b[0m \u001b[0max\u001b[0m \u001b[1;33m=\u001b[0m \u001b[0mplt\u001b[0m\u001b[1;33m.\u001b[0m\u001b[0maxes\u001b[0m\u001b[1;33m(\u001b[0m\u001b[0mprojection\u001b[0m\u001b[1;33m=\u001b[0m\u001b[1;34m'3d'\u001b[0m\u001b[1;33m)\u001b[0m\u001b[1;33m\u001b[0m\u001b[1;33m\u001b[0m\u001b[0m\n\u001b[0;32m      3\u001b[0m \u001b[0max\u001b[0m \u001b[1;33m=\u001b[0m \u001b[0mplt\u001b[0m\u001b[1;33m.\u001b[0m\u001b[0maxes\u001b[0m\u001b[1;33m(\u001b[0m\u001b[0mprojection\u001b[0m\u001b[1;33m=\u001b[0m\u001b[1;34m'3d'\u001b[0m\u001b[1;33m)\u001b[0m\u001b[1;33m\u001b[0m\u001b[1;33m\u001b[0m\u001b[0m\n\u001b[1;32m----> 4\u001b[1;33m ax.plot_surface(X, Y, Z, rstride=1, cstride=1,\n\u001b[0m\u001b[0;32m      5\u001b[0m                 cmap='viridis', edgecolor='none')\n\u001b[0;32m      6\u001b[0m \u001b[0max\u001b[0m\u001b[1;33m.\u001b[0m\u001b[0mset_title\u001b[0m\u001b[1;33m(\u001b[0m\u001b[1;34m'surface'\u001b[0m\u001b[1;33m)\u001b[0m\u001b[1;33m;\u001b[0m\u001b[1;33m\u001b[0m\u001b[1;33m\u001b[0m\u001b[0m\n",
      "\u001b[1;31mNameError\u001b[0m: name 'X' is not defined"
     ]
    },
    {
     "data": {
      "image/png": "[encoded data removed]",
      "text/plain": [
       "<Figure size 432x288 with 1 Axes>"
      ]
     },
     "metadata": {
      "needs_background": "light"
     },
     "output_type": "display_data"
    }
   ],
   "source": [
    "fig = plt.figure()\n",
    "ax = plt.axes(projection='3d')\n",
    "ax = plt.axes(projection='3d')\n",
    "ax.plot_surface(X, Y, Z, rstride=1, cstride=1,\n",
    "                cmap='viridis', edgecolor='none')\n",
    "ax.set_title('surface');"
   ]
  },
  {
   "cell_type": "code",
   "execution_count": null,
   "metadata": {},
   "outputs": [],
   "source": []
  },
  {
   "cell_type": "code",
   "execution_count": null,
   "metadata": {},
   "outputs": [],
   "source": []
  },
  {
   "cell_type": "markdown",
   "metadata": {},
   "source": [
    "## Appendix A: The EPR paradox and Bell's inequalities\n",
    "\n",
    "Before talking about the bell's measure let us first dive into why it was made and for this we must look at the EPR experiment proposed in \\[epr\\]. I will discuss Bohm's variant since Bell's response was made in a way to that. Say we have prepared a electron-positron pair coming from a single source. These would be entangled in a way where if we measure the spin of one of the particles, the other particle will simultaneously collapse to the opposite spin.\n",
    "$$|{\\psi}\\rangle = \\dfrac{|{\\uparrow_e\\downarrow_p}\\rangle + |{\\downarrow_e\\uparrow_p}\\rangle}{\\sqrt{2}}$$\n",
    "So the main issue which Einstein had was that this means that measurement on one particle directly affects the other no matter how far it is. This makes it a non local effect which clearly does not make sense in a world which was believed to follow local realism. It can be proven that the two agents have no way to communicate using this pair hence showing that there actually is no faster than light comminication. While one may think choosing basis in a certain manner can change measurement probabilities and essentially have some \"information\" change, no matter how much measurements are done, since this is probabilistic the other agent cannot conclude anything from that.\n",
    "   \n",
    "\n",
    "While there have been multiple responses to this, the most important one is the one discussed in Bell's paper \\[bell\\].\n",
    "First we will start by considering the EPR argument using spin particles. Consider a pair of spin one-half particles formed somehow in the singlet spin state and moving freely in opposite directions. Measurements can be made, say by Stern-Gerlach magnets, on selected components of the spins $\\vec{\\sigma_1}$ and $\\vec{\\sigma_2}$,\n",
    "If measurement of the component $\\vec{\\sigma_1}\\cdot{a}$, where $a$ is some unit vector, yields the value +1 then, according to quantum mechanics, measurement of $\\vec{\\sigma_2}\\cdot{a}$ must yield the value -1 and vice versa.\n",
    "We now define some set of parameters $\\lambda$ which is taken as continuous which give us a complete description of the state. The result $A$ of measuring $\\vec{\\sigma_1}\\cdot{a}$ is then determined by $a$ and $\\lambda$, and the result $B$ of measuring $\\vec{\\sigma_2}\\cdot{b}$ in the\n",
    "same instance is determined by $b$ and $\\lambda$.\n",
    "\\begin{equation}\\label{eq:1A}\\tag{1A}A(\\vec{a},\\lambda) = \\pm 1, B(\\vec{b},\\lambda) = \\pm 1 \\end{equation}\n",
    "We now take $\\rho(\\lambda)$ as the probability distribution of $\\lambda$ and we will now try to find the expectation value of of the product of the two components $\\vec{\\sigma_1}\\cdot{a}$ and $\\vec{\\sigma_2}\\cdot{b}$.\n",
    "\\begin{equation}\\label{eq:2A}\\tag{2A}P(\\vec{a}\\vec{b}) = \\int{d\\lambda}\\rho{\\lambda}A(\\vec{a},\\lambda)B(\\vec{b},\\lambda)\\end{equation}\n",
    "The quantum mechanical expectation value of this is the following\n",
    "\\begin{equation}\\label{eq:3A}\\tag{3A}\\langle\\vec{\\sigma_1}\\cdot{a}\\vec{\\sigma_2}\\cdot{b}\\rangle = - \\vec{a}\\cdot\\vec{b}\\end{equation}\n",
    "However it turns out that eq: \\ref{eq:2A} doesn't give us the same result as \\ref{eq:3A}. So first off we know that we have a normalized distribution.\n",
    "\\begin{equation}\\label{eq:4A}\\tag{4A}\\int{d\\lambda}\\rho(\\lambda) = 1\\end{equation}\n",
    "if we take $\\vec{a} = \\vec{b}$ the $P$ in eq: \\ref{eq:2A} can reach -1.\n",
    "\\begin{equation}\\label{eq:5A}\\tag{5A}A(\\vec{a},\\lambda) = -B(\\vec{a},\\lambda)\\end{equation}\n",
    "Knowing this we can rewrite eq: \\ref{eq:2A} into the following\n",
    "\\begin{equation}\\label{eq:6A}\\tag{6A}P(\\vec{a}\\vec{b}) = -\\int{d\\lambda}\\rho{\\lambda}A(\\vec{a},\\lambda)A(\\vec{b},\\lambda)\\end{equation}\n",
    "\\begin{equation}\\label{eq:7A}\\tag{7A}P(\\vec{a},\\vec{b}) - P(\\vec{a},\\vec{c}) = \\int{d\\lambda}\\rho{\\lambda}[1-A(\\vec{b},\\lambda)A(\\vec{c},\\lambda)]\\end{equation}\n",
    "from eq: \\ref{eq:1A} we can write this\n",
    "\\begin{equation}\\label{eq:8A}\\tag{8A}|P(\\vec{a},\\vec{b}) - P(\\vec{a},\\vec{c})| \\leq \\int{d\\lambda}\\rho{\\lambda}A(\\vec{a},\\lambda)A(\\vec{b},\\lambda)[A(\\vec{b},\\lambda)A(\\vec{c},\\lambda) - 1]\\end{equation}\n",
    "The second term on the right is just $P(\\vec{b},\\vec{c})$ so we get\n",
    "\\begin{equation}\\label{eq:9A}\\tag{9A}1 + P(\\vec{b},\\vec{c}) \\geq |P(\\vec{a},\\vec{b}) - P(\\vec{a},\\vec{c})|\\end{equation}\n",
    "Now we define a $\\overline{P}(\\vec{a},\\vec{b})$ and a $\\overline{- \\vec{a}\\cdot\\vec{b}}$ which essentially are the averages over vectors differing from a small angle from $\\vec{a}$ and $\\vec{b}$ of the quantities under the bar. Let's suppose the following holds for some $\\epsilon$\n",
    "\\begin{equation}\\label{eq:10A}\\tag{10A}|\\overline{P}(\\vec{a},\\vec{b}) + \\overline{\\vec{a}\\cdot\\vec{b}}| \\leq \\epsilon\\end{equation}\n",
    "We cannot make $\\epsilon$ arbitrarily small and this can be proven by the following steps. Let us first assume the following inequality holds for all $\\vec{a}$ and $\\vec{b}$\n",
    "\\begin{equation}\\label{eq:11A}\\tag{11A}|\\overline{\\vec{a}\\cdot\\vec{b}} - \\vec{a}\\cdot\\vec{b}| \\leq\\delta\\end{equation}\n",
    "Then using eq:\\ref{eq:11A} and eq:\\ref{eq:10A} we have\n",
    "\\begin{equation}\\label{eq:12A}\\tag{12A}|\\overline{P}(\\vec{a},\\vec{b}) + \\vec{a}\\cdot\\vec{b}| \\leq \\epsilon + \\delta\\end{equation}\n",
    "Now taking $\\vec{a} = \\vec{b}$ (hence their dot product is 1) we rewrite eq:\\ref{eq:12A} as the equation below while using the fact that $\\overline{P(\\vec{a},\\vec{b})} = \\int d\\lambda\\rho(\\lambda)\\overline{A}(\\vec{a},\\lambda)\\overline{B}(\\vec{b},\\lambda))$.\n",
    "\\begin{equation}\\label{eq:13A}\\tag{13A}\\int d\\lambda\\rho(\\lambda)[\\overline{A}(\\vec{b},\\lambda)\\overline{B}(\\vec{b},\\lambda))+1] \\leq\\epsilon+\\delta\\end{equation}\n",
    "We can extend from \\ref{eq:1A} that on averaging over a small range, $|\\overline{A}(\\vec{a},\\lambda)| \\leq 1$ and $|\\overline{B}(\\vec{b},\\lambda)| \\leq 1$. Now we can write the following\n",
    "\\begin{equation}\\label{eq:14A}\\tag{14A}\\overline{P}(\\vec{a},\\vec{b})-\\overline{P}(\\vec{b},\\vec{c}) = \\int{d\\lambda}\\rho{\\lambda}\\overline{A}(\\vec{a},\\lambda)\\overline{B}(\\vec{b},\\lambda)[\\overline{A}(\\vec{b},\\lambda)\\overline{B}(\\vec{c},\\lambda) + 1] - \\int{d\\lambda}\\rho{\\lambda}\\overline{A}(\\vec{a},\\lambda)\\overline{B}(\\vec{c},\\lambda)[\\overline{A}(\\vec{b},\\lambda)\\overline{B}(\\vec{b},\\lambda) + 1]\\end{equation}\n",
    "Using the inequalities on the averaged $A$ and $B$ we can write the following\n",
    "\\begin{equation}\\label{eq:15A}\\tag{15A}|\\overline{P}(\\vec{a},\\vec{b})-\\overline{P}(\\vec{b},\\vec{c})| \\leq \\int{d\\lambda}\\rho{\\lambda}[\\overline{A}(\\vec{b},\\lambda)\\overline{B}(\\vec{c},\\lambda) + 1] - \\int{d\\lambda}\\rho{\\lambda}[\\overline{A}(\\vec{b},\\lambda)\\overline{B}(\\vec{b},\\lambda) + 1]\\end{equation}\n",
    "\\begin{equation}\\label{eq:16A}\\tag{16A}|\\overline{P}(\\vec{a},\\vec{b})-\\overline{P}(\\vec{b},\\vec{c})| \\leq 1 + \\overline{P} + \\epsilon+\\delta\\end{equation}\n",
    "We write eq:\\ref{eq:16A} using eq:\\ref{eq:15A} and eq:\\ref{eq:13A}. Finally using eq:\\ref{eq:12A} we rewrite the above equation as\n",
    "\\begin{equation}\\label{eq:17A}\\tag{17A}|\\vec{a}\\cdot\\vec{c}-\\vec{a}\\cdot\\vec{b}|+\\vec{b}\\cdot\\vec{c}-1 \\leq 4(\\epsilon+\\delta)\\end{equation}\n",
    "Now with the constraint coming from eq:\\ref{eq:17A} we can handpick values of $\\vec{a},\\vec{b},\\vec{c}$ such that $\\epsilon$ cannot be made arbitrarily small (take $\\vec{a}\\cdot\\vec{b} = \\vec{c}\\cdot\\vec{b} = 1/\\sqrt{2}$ and $\\vec{a}\\cdot\\vec{c} = 0$ this would show $4(\\epsilon+\\delta)\\geq\\sqrt{2}-1$). The fact that $\\epsilon$ cannot be made arbitrarily small implies that the quantum mechanical value cannot be approximated either accurately or arbitrarily close to this form using hidden variable. So this contradiction implies that some assumptions that we have taken happen to not work together and that happen to be local determinism and hidden variables. So any hidden variable theory by nature itself is non local.\n",
    "\n",
    "To get the form of the CSHS inequalities we essentially modify the form of eq:\\ref{eq:14A} by applying the triangle inequality and we will get\n",
    "\\begin{equation}\\label{eq:18A}\\tag{18A}|\\overline{P}(\\vec{a},\\vec{b})-\\overline{P}(\\vec{b},\\vec{c})| \\leq \\left|\\int{d\\lambda}\\rho{\\lambda}[\\overline{A}(\\vec{b},\\lambda)\\overline{B}(\\vec{c},\\lambda) - 1]\\right| + \\left|\\int{d\\lambda}\\rho{\\lambda}[\\overline{A}(\\vec{b},\\lambda)\\overline{B}(\\vec{b},\\lambda) - 1]\\right|\\end{equation}\n",
    "This can be rewritten as the following equation below using the triangle inequality\n",
    "\\begin{equation}\\label{eq:19A}\\tag{19A}|\\overline{P}(\\vec{a},\\vec{b})-\\overline{P}(\\vec{b},\\vec{c})| +  \\left|\\int{d\\lambda}\\rho{\\lambda}[\\overline{A}(\\vec{b},\\lambda)\\overline{B}(\\vec{c},\\lambda)] + \\int{d\\lambda}\\rho{\\lambda}[\\overline{A}(\\vec{b},\\lambda)\\overline{B}(\\vec{b},\\lambda]\\right|\\leq 2 \\end{equation}\n",
    "Again using the triangle inequality and using the fact $\\overline{P(\\vec{a},\\vec{b})} = \\int d\\lambda\\rho(\\lambda)\\overline{A}(\\vec{a},\\lambda)\\overline{B}(\\vec{b},\\lambda))$ we get\n",
    "\\begin{equation}\\label{eq:20A}\\tag{20A}|\\overline{P}(\\vec{a},\\vec{b})-\\overline{P}(\\vec{b},\\vec{c})| +  \\left|\\int{d\\lambda}\\rho{\\lambda}[\\overline{A}(\\vec{b},\\lambda)\\overline{B}(\\vec{c},\\lambda)] + \\int{d\\lambda}\\rho{\\lambda}[\\overline{A}(\\vec{b},\\lambda)\\overline{B}(\\vec{b},\\lambda]\\right|\\leq 2 \\end{equation}"
   ]
  },
  {
   "cell_type": "markdown",
   "metadata": {},
   "source": [
    "## References\n",
    "(Fill later and unfortunately dont know how to incorporate BibTex here)\n",
    "\\[1\\]\n",
    "\\[2\\]\n",
    "\\[3\\]"
   ]
  }
 ],
 "metadata": {
  "kernelspec": {
   "display_name": "Python 3",
   "language": "python",
   "name": "python3"
  },
  "language_info": {
   "codemirror_mode": {
    "name": "ipython",
    "version": 3
   },
   "file_extension": ".py",
   "mimetype": "text/x-python",
   "name": "python",
   "nbconvert_exporter": "python",
   "pygments_lexer": "ipython3",
   "version": "3.8.2"
  }
 },
 "nbformat": 4,
 "nbformat_minor": 2
}
