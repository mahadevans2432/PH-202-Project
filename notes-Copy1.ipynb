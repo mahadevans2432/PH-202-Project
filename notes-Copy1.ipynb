{
 "cells": [
  {
   "cell_type": "markdown",
   "metadata": {},
   "source": [
    "# BELL'S MEASURE IN CLASSICAL OPTICAL COHERENCE"
   ]
  },
  {
   "cell_type": "markdown",
   "metadata": {},
   "source": [
    "## 0. Setting up this notebook\n",
    "Kindly run the cell below to make sure you have all required dependencies"
   ]
  },
  {
   "cell_type": "markdown",
   "metadata": {},
   "source": [
    "### 0.1 Installing and Importing Packages"
   ]
  },
  {
   "cell_type": "code",
   "execution_count": 5,
   "metadata": {},
   "outputs": [
    {
     "name": "stdout",
     "output_type": "stream",
     "text": [
      "Successfully imported packages\n"
     ]
    }
   ],
   "source": [
    "from IPython.display import clear_output\n",
    "!pip3 install numpy\n",
    "!pip3 install scipy\n",
    "!pip3 install pandas\n",
    "!pip3 install matplotlib\n",
    "!pip3 install sympy\n",
    "!pip3 install seaborn\n",
    "clear_output()\n",
    "import numpy as np\n",
    "import matplotlib.pyplot as plt\n",
    "from matplotlib.widgets import Slider, Button, RadioButtons\n",
    "from ipywidgets import interact, interactive, fixed, interact_manual, Layout\n",
    "import ipywidgets as widgets\n",
    "from mpl_toolkits.mplot3d import axes3d\n",
    "from sympy import *\n",
    "from sympy.physics.quantum.dagger import Dagger\n",
    "from IPython.display import Javascript\n",
    "import seaborn as sns\n",
    "import scipy as sc\n",
    "from scipy.stats import unitary_group\n",
    "import sys\n",
    "import timeit\n",
    "import time\n",
    "np.set_printoptions(threshold=sys.maxsize)\n",
    "print(\"Successfully imported packages\")"
   ]
  },
  {
   "cell_type": "markdown",
   "metadata": {},
   "source": [
    "#### 0.2 Defining Functions"
   ]
  },
  {
   "cell_type": "code",
   "execution_count": 6,
   "metadata": {},
   "outputs": [],
   "source": [
    "def multiple_formatter(denominator=2, number=np.pi, latex='\\pi'):\n",
    "    def gcd(a, b):\n",
    "        while b:\n",
    "            a, b = b, a%b\n",
    "        return a\n",
    "    def _multiple_formatter(x, pos):\n",
    "        den = denominator\n",
    "        num = int(np.rint(den*x/number))\n",
    "        com = gcd(num,den)\n",
    "        (num,den) = (int(num/com),int(den/com))\n",
    "        if den==1:\n",
    "            if num==0:\n",
    "                return r'$0$'\n",
    "            if num==1:\n",
    "                return r'$%s$'%latex\n",
    "            elif num==-1:\n",
    "                return r'$-%s$'%latex\n",
    "            else:\n",
    "                return r'$%s%s$'%(num,latex)\n",
    "        else:\n",
    "            if num==1:\n",
    "                return r'$\\frac{%s}{%s}$'%(latex,den)\n",
    "            elif num==-1:\n",
    "                return r'$\\frac{-%s}{%s}$'%(latex,den)\n",
    "            else:\n",
    "                return r'$\\frac{%s%s}{%s}$'%(num,latex,den)\n",
    "    return _multiple_formatter\n",
    "\n",
    "class Multiple:\n",
    "    def __init__(self, denominator=2, number=np.pi, latex='\\pi'):\n",
    "        self.denominator = denominator\n",
    "        self.number = number\n",
    "        self.latex = latex\n",
    "\n",
    "    def locator(self):\n",
    "        return plt.MultipleLocator(self.number / self.denominator)\n",
    "\n",
    "    def formatter(self):\n",
    "        return plt.FuncFormatter(multiple_formatter(self.denominator, self.number, self.latex))"
   ]
  },
  {
   "cell_type": "code",
   "execution_count": 7,
   "metadata": {},
   "outputs": [],
   "source": [
    "def plotter(expt,x,y,title,xlabel,ylabel,col,label):\n",
    "    num_space,=x.shape\n",
    "    plt.plot(x,y, color=col,linewidth=3, label=label)\n",
    "    plt.title(title, fontsize=15)\n",
    "    plt.xlabel(xlabel, fontsize=15)\n",
    "    plt.ylabel(ylabel, fontsize=15)\n",
    "    if expt=='A' or expt=='B':\n",
    "        plt.xlim(0,2*np.pi)\n",
    "    else:\n",
    "        plt.xlim(0,1)\n",
    "    ax=plt.gca()\n",
    "    ax.set_facecolor('#FFFFCC')\n",
    "    ax.axhline(0, color='black', lw=2)\n",
    "    ax.axvline(0, color='black', lw=2)\n",
    "    if expt=='A' or expt=='B':\n",
    "        ax.xaxis.set_major_locator(plt.MultipleLocator(np.pi / 2))\n",
    "        ax.xaxis.set_minor_locator(plt.MultipleLocator(np.pi / 12))\n",
    "        ax.xaxis.set_major_formatter(plt.FuncFormatter(multiple_formatter()))\n",
    "    plt.xticks(fontsize =15)\n",
    "    plt.yticks(fontsize =15)\n",
    "    return"
   ]
  },
  {
   "cell_type": "code",
   "execution_count": 8,
   "metadata": {},
   "outputs": [],
   "source": [
    "def contourplotter(expt,param,title,xlabel,ylabel):\n",
    "    ta_range = np.linspace(0,2*np.pi,1000);\n",
    "    pa_range = np.linspace(0,2*np.pi,1000);\n",
    "    param_fixed = param;\n",
    "    X, Y = np.meshgrid(ta_range, pa_range);\n",
    "    def ftemp(ta_val,pa_val):\n",
    "        if expt=='A':\n",
    "            return fA(0,param_fixed,ta_val,pa_val);\n",
    "        elif expt=='B':\n",
    "            return fB(0,param_fixed,ta_val,pa_val);\n",
    "        else:\n",
    "            return fC(0,param_fixed,ta_val,pa_val);\n",
    "    Z = ftemp(X,Y);\n",
    "    fig, ax = plt.subplots(figsize=(7,5.7))\n",
    "    clev = np.arange(Z.min(),Z.max(),0.05)\n",
    "    cp = ax.contourf(X, Y, Z,20 ,cmap='turbo');\n",
    "    fig.colorbar(cp) # Add a colorbar to a plot\n",
    "    plt.xlim(0,2*np.pi);\n",
    "    plt.ylim(0,2*np.pi);\n",
    "    ax.axis('equal');\n",
    "\n",
    "    plt.title(title, fontsize=15)\n",
    "    plt.xlabel(xlabel, fontsize=15)\n",
    "    plt.ylabel(ylabel, fontsize=15)\n",
    "    ax=plt.gca()\n",
    "    ax.set_facecolor((0.8,1,1))\n",
    "    ax.axhline(0, color='black', lw=2)\n",
    "    ax.axvline(0, color='black', lw=2)\n",
    "    ax.xaxis.set_major_locator(plt.MultipleLocator(np.pi / 2))\n",
    "    ax.xaxis.set_minor_locator(plt.MultipleLocator(np.pi / 12))\n",
    "    ax.xaxis.set_major_formatter(plt.FuncFormatter(multiple_formatter()))\n",
    "    ax.yaxis.set_major_locator(plt.MultipleLocator(np.pi / 2))\n",
    "    ax.yaxis.set_minor_locator(plt.MultipleLocator(np.pi / 12))\n",
    "    ax.yaxis.set_major_formatter(plt.FuncFormatter(multiple_formatter()))\n",
    "    plt.xticks(fontsize =15)\n",
    "    plt.yticks(fontsize =15)\n",
    "    return"
   ]
  },
  {
   "cell_type": "markdown",
   "metadata": {},
   "source": [
    "## Team details and work distrubution\n",
    "Fill this later"
   ]
  },
  {
   "cell_type": "markdown",
   "metadata": {},
   "source": [
    "## Introduction\n",
    "Essentially abstract and methods we have used for reproducing the results"
   ]
  },
  {
   "cell_type": "markdown",
   "metadata": {},
   "source": [
    "## 1. Polarization & Spatial Parity\n",
    "\n",
    "In the paper \\[topic 2\\] the experiments which were done were made using of an optical beam model with two binary degrees of freedom, them being polarization and spatial parity along the $x$ direction respectively of a quasi monochromatic source.<br>\n",
    "For the spatial parity, in one dimension the beams are of form $E(x) = E_e\\psi_e(x)+E_o\\psi_o(x)$ where $\\psi_e(x)$ is an even function and $\\psi_o(x) = \\text{sgn}(x)\\psi_e(x)$ hence is an odd function. We give this beam a vector representation called $\\mathbf{J}_\\text{par} = [E_e\\text{ } E_o]^T$. Spatial paritt is manipulated using a spatial light modulator (SLM) which we describe in the experimental apparatus section. Along with the horizontal (H) and vertical components of polarization taken into account we describe the polarization-parity jones vector as $\\mathbf{J} = [E_\\text{He}\\text{ }E_\\text{Ho}\\text{ }E_\\text{Ve}\\text{ }E_\\text{Vo}]^T$.<br>\n",
    "We then describe the properties of this coherence using a $4\\times4$ matrix which is $\\mathbf{G} = \\langle\\mathbf{J}^{*}\\mathbf{J}^\\text{T}\\rangle$. Taking partial trace along $\\mathbf{G}$ would give us either $\\mathbf{G}_\\text{pol}$ or $\\mathbf{G}_\\text{par}$ on taking trace along parity or polarization respectively. We define a degree of polarization/parity using $D_{\\text{pol}}$($D_\\text{par}$) which quantifies the apparent coherence of each DoF when the other DoF is unresolved. Further an overall coherence $S$ is defined using the beam's linear entropy \\[https://en.wikipedia.org/wiki/Linear_entropy\\] as follows.\n",
    "The definition of linear entropy comes from the motivation of von Neumann Entropy. For a quantum mechanical system with a density matrix $\\rho$ this is defined as $S_v = \\text{Tr}(-\\rho\\ln(\\rho)) = -\\langle\\ln(\\rho)\\rangle$. The linear entropy $S_L$ is a lower approximation to $S_v$ which comes from expanding the leading term in the expansion of $\\rho\\ln\\rho$ which becomes $\\rho-\\rho^2$ approximately when $\\rho$ is close to $I$ (using taylor expansion) and taking trace this gives us the definition $S_L = \\text{Tr}(\\rho) - \\text{Tr}(\\rho^2)$ and by definition of the density matrix we have trace of $\\rho$ equal to 1 which gives us $S_L = 1 - \\text{Tr}(\\rho^2)$. This is a non normalized quantity so this is normalized by multiplying it by $\\frac{d}{d-1}$ which here is $4/3$ since our system has four dimensions. The definition of our $\\mathbf{G}$ matrix is isomorphic to the definition of a density matrix of a two qubit system keeping the Jones vector $\\mathbf{J}$ as the state of this two qubit system. Hence we have \n",
    "\\begin{equation}\\label{eq:1.1}\\tag{1.1}S = 1-S_L = 1 - \\frac{4}{3} + \\frac{4}{3}\\text{Tr}(\\mathbf{G}^2) = \\frac{4}{3}\\left(\\text{Tr}\\{\\mathbf{G}^2\\}-\\frac{1}{4}\\right)\\end{equation}\n",
    "We know that for normalized states we have that $\\frac{1}{d}\\leq$ Tr$(\\rho^2) \\leq 1$ and equals one only for a pure state and $1/d$ for completely mixed state. We can similarly draw a parallel here to seeing that $S=1$ happens only for coherent (pure) states and is 0 when completely incoherent. An important note to make here is that applying a unitary matrix $U$ (so $U^{*}U^{T} = I$) which is not time dependent on the Jones vector would not change our value of $S$ since on acting of a unitary we would have $\\mathbf{G}' = U^{*}\\mathbf{G}U^{T}$ and so $\\mathbf{G}'^2 = U^{*}\\mathbf{G}^2U^{T}$ and this has same trace as $\\mathbf{G}^2$ since trace is invariant under unitary transforms.\n",
    "\n",
    "The paper here explores the properties of a beam where these two DoFs are infact coupled or entagled. One can start with a coherent linearly polarized beam at $45^\\circ$ with even polarity which would be $\\mathbf{J} = (1/\\sqrt{2})[\\text{1 0 1 0}]^T$ which can clearly be factored into a direct product of $\\mathbf{J}_{\\text{pol}}\\otimes\\mathbf{J}_\\text{par}$ and so $D_\\text{pol} = D_\\text{par} = 1$. However on passing this beam through a polarization sensitive SLM which introduces a phase of $\\varphi/2\\sin(\\varphi)$ only to the horizontal polarity component and none to the vertical. We can think of this analoguos to a controlled $R_x(\\varphi)$ operation from the polarization qubit to parity qubit which acts when polarization is $|0\\rangle$ (called H here for polarization). This puts the state to an entagled state $\\mathbf{J} = (1/\\sqrt{2})[\\cos(\\varphi/2)\\text{ }\\iota\\sin(\\varphi/2)\\text{ 1 0}]^T$ which is no longer factorizable and shows that the apparant degree of coherence of the individual DoFs are no longer equal to 1 unless $\\varphi=0$ and infact equal zero when $\\varphi=\\pi$. However we know that this state is still coherent on an overall, the only issue is that seeing the partial trace of $\\mathbf{G}$ along the respective DoF provide an incomplete picture of the state hence leading to a conclusion that the coherence is absent. The paper proceeds to make use of the Bell's measure (see Appendix A) to quantify this entaglement which is the cause of this apparent coherence deficit."
   ]
  },
  {
   "cell_type": "markdown",
   "metadata": {},
   "source": [
    "## 2. Experimental Apparatus\n",
    "\n",
    "For the experimental setup, we are using various separate components, which we will comment on one by one before seeing how they are arranged together for the experiment in this paper. We can develop a matrix operator formalism based on how these elements affect the vector $\\mathbf{J} = [E_{He} \\ E_{Ho} \\ E_{Ve} \\ E_{Vo}]$. Suppoe we have a device that modifies the Jones vector of a beam in the following way - $\\mathbf{J_{new}} = \\mathbf{A}\\mathbf{J_{old}}$. Then, the corresponding $\\mathbf{G} = \\langle \\mathbf{J^*J^T}\\rangle$ tranforms as $\\mathbf{G_{new} = A^*G_{old}A^T}$. This is because, assuming that the effect of the device, encoded in matrix $\\mathbf{A}$  is time independent, the matrix can just move inside the time average. And as we will see below, for all the devices used in this experiment, their effect is time invariant.\n",
    "\n",
    "## Polarisation only devices\n",
    "\n",
    "### 2.1 Waveplates\n",
    "<p>The first element we will look at is a half-wave plate. Suppose we have a half-wave plate whose axis is inclined at angle $\\theta$ to the $+x$ axis. Then, it will add a phase of $\\pi$ to the component of the amplitude along its axis, with respect to the component perpendicular to the axis. In other words, if the component of E field along the axis will be effectively multiplied by $e^{i\\pi} = (-1)$.</p> \n",
    "<p> Suppose the in-going beam is described by a polarisation-only Jones vector $J_{pol} = [E_x \\ E_y]^T$. Then the (complex) amplitude is $E_x\\hat{x} + E_y\\hat{y} = (E_{x}\\cos\\theta + E_y\\sin\\theta)\\hat{\\theta_{\\parallel}} + (E_{x}\\sin\\theta - E_y\\cos\\theta) \\hat{\\theta_{\\perp}}$. So after adding a phase multiplier factor of $e^{i\\pi} = -1$ to the $\\hat{\\theta_{\\parallel}}$ component, the new complex amplitude is $$(-E_{x}\\cos\\theta - E_y\\sin\\theta)\\hat{\\theta_{\\parallel}} +  (E_{x}\\sin\\theta - E_y\\cos\\theta) \\hat{\\theta_{\\perp}} = (\\cos\\theta \\ (-E_{x}\\cos\\theta - E_y\\sin\\theta)+ \\sin\\theta(E_{x}\\sin\\theta - E_y\\cos\\theta))\\hat{x} + (\\sin\\theta \\ (-E_{x}\\cos\\theta - E_y\\sin\\theta)- \\cos\\theta(E_{x}\\sin\\theta - E_y\\cos\\theta))\\hat{y} \\\\ = [E_x(\\sin^2\\theta-\\cos^2\\theta) - E_y(2\\sin\\theta\\cos\\theta) \\qquad{} -E_x(2\\sin\\theta\\cos\\theta)  Ey(\\cos^2\\theta -\\sin^2\\theta)] \\\\ =[-E_x\\cos(2\\theta) - E_y\\sin(2\\theta) \\qquad{} -E_x\\sin(2\\theta)+E_y\\cos(2\\theta)]$$\n",
    "    \n",
    "We can write this more compactly in a 2x2 matrix - \n",
    "$$\\begin{pmatrix}-\\cos(2\\theta) & -\\sin(2\\theta) \\\\ -\\sin(2\\theta) & \\cos(2\\theta)\\end{pmatrix}\\begin{pmatrix}E_x \\\\ E_y\\end{pmatrix}_{old} = \\begin{pmatrix}E_x \\\\ E_y\\end{pmatrix}_{new}$$\n",
    "<p>When we are dealing with our 4 dimensional Jones vector, to generate the corresponding 4x4 HWP operator matrix, we\\e can propose a 4x4 operator matrix. But before we spell it out, a few changes in notation are in order, to follow the same general notation as the paper. </p>\n",
    "<ol>\n",
    "    <li>The angle of rotation is denoted as $\\frac{\\theta}{2}$ instead of $\\theta$ so that there is no ugly factor of             $2$ in the transformation matrix.</li>\n",
    "    <li>The axis, with respect to which the angle $\\frac{\\theta}{2}$ is to be measured is not specified in the paper. Two reasonable guesses are either the X axis (upwards vertical, as shown in the figure) or the horizontal axis (-y axis in the figure). In either case, we get the same matrix except with a phase factor of $e^{i\\pi} = -1$. But that does not change the intensity measurement, since we are only interested in the long time average and we are not using two different beams (so the phase is truly a global phase, and affects nothing at all). So this is a moot point for single beam operation. The exact phase also depends on what additional phase the plate adds to the slow axis, which we are not accounting for, anyway.\n",
    " \n",
    "</ol>\n",
    "Since our Jones vector is $J = J_{pol}\\otimes J_{par}$, and our HWP does not affect the parity DOF at all (in other words, acts like an identity transformation), we can write it as a tensor product - \n",
    "$$A_{HWP}\\left(\\frac{\\theta}{2}\\right) = \\begin{pmatrix}-\\cos(\\theta) & -\\sin(\\theta) \\\\ -\\sin(\\theta) & cos(\\theta)\\end{pmatrix}\\otimes\\begin{pmatrix} 1&0 \\\\ 0&1\\end{pmatrix}=\\begin{pmatrix}\n",
    "-\\cos\\theta & 0 & -\\sin\\theta & 0 \\\\ \n",
    "0 &-\\cos\\theta&0&-\\sin\\theta \\\\\n",
    "-\\sin\\theta &0 & \\cos\\theta & 0 \\\\\n",
    "0 & -\\sin\\theta &0 & \\cos\\theta\n",
    "\\end{pmatrix} $$\n",
    "To account for the global phase added, along the slow axis, we only need to multiply this matrix by a phase factor of $e^{i\\phi}$ where $\\phi$ is the slow axis phase added.\n",
    "\n",
    "Sidenote: while the paper mentions that the angle is $\\theta/2$ in it, that actually rotates by $\\theta$ only and not by the expected $2\\theta$ that would result from writing it in the form above since the text mentions that the basis is rotated by $\\theta_a$ when the HWP of $\\theta_a/2$ is applied.\n",
    "\n",
    "### 2.2 Polarising Beam Splitter\n",
    "\n",
    "This is an element that separates out the H and V polarised beams from the input beam. There is no operator matrix associated with it, it simply separates out the two beams, without affecting parity at all. One point to note here - as we describe below, a mirror will add a factor of (-1) to odd modes, so the component which gets reflected will pick up that factor here as well. We can either correct this with a second reflection of that beam from a $45^\\circ$ mirror to correct it or not do anything at all about it (in the experimental setup in the paper seen as a whole, we can see that it won't matter the odd and even beams will be switched, but that is about it.)\n",
    "\n",
    "## Parity Sensitive Devices\n",
    "\n",
    "### 2.3 Dove Prism\n",
    "<p> We know that a mirror inverts left-right. So if we put an odd beam through the mirror, it will pick up a factor of (-1) from the + and - axes being inverted (i.e. -x being mapped to x). </p>\n",
    "<p> The operator (parity only, polarisation plays no role) associated to a mirror is $$\\begin{pmatrix}-1 & 0 \\\\ 0 & 1\\end{pmatrix}\\begin{pmatrix}e \\\\ o \\end{pmatrix}_{old} = \\begin{pmatrix}e \\\\ o \\end{pmatrix}_{new}$$ An additional -1 factor is added as a global phase, because of the phase change on reflecting.</p>\n",
    "<img width=\"40%\" src='Mirror_and_Parity.png'>\n",
    "One thing about mirrors which is particularly inconvenient is that the incoming and outgoing beam does not travel in the same direction, so we cannot conveniently include a mirror in the arm of a Mach-Zehnder interferometer easily, for example. To make our life simple, we use a dove prism, which is a trapezoid shaped prism, that the light beam enters, undergoes TIR on one surface of it and exits travelling in the same direction as incoming beam. It performs the same matrix operation as a mirror, but is more convenient to use. One aspect to be careful of (that can be easily overcome) is that there is a phase change because the beam travels through the glass/ material of the prism, but that can be easily dealt with by using a compensator cell in the other arm. Aother important aspect of a Dove prism - since the wave incidence medium is denser and the transmission medium is rarer (unlike a regular mirror), there is no addition $\\pi$ phase of reflection, and the operator matrix is simply $$\\begin{pmatrix}1 & 0 \\\\ 0 & -1\\end{pmatrix}\\begin{pmatrix}e \\\\ o \\end{pmatrix}_{old} = \\begin{pmatrix}e \\\\ o \\end{pmatrix}_{new}$$\n",
    "<img width = \"60%\" src='Dove_prism.png'>\n",
    "\n",
    "### 2.4 Mach Zehnder Interferometer\n",
    "<img width = \"60%\" src='MZI.png'><center>A schematic of a MZI, self drawn</center>\n",
    "<p> In this arrangement, the beam splitters are polarisation insensitive, so there is no polarisation discrimination. First let us consider a MZI with no dove prism (and no compensation cell). Suppose the only input beam is given from In1. Then, the left beam suffers two rarer-denser reflections and the same is the case with the right beam, as they come out from Out2. Hence, we have constructive interference at Out2. Whereas, as Out1, the left beam still has same phase (the reflection at exit beam splitter is denser-rarer, so no phase change) while the right beam has one reflection only, so the interference is destructive.</p>\n",
    "<p>With a dove prism in place, the odd mode undergoes one extra inversion in the left path, so its constructive/destructive outputs are now exactly swapped. As a result, if we send in a superposition of odd and even modes into In1, the odd mode comes out from Out1, while the even mode comes out from Out2 (just as if no prism were there). Conversely, if we send in the beam from In2, the odd mode will come out from Out2 and the even mode from Out1.</p>\n",
    "\n",
    "Hence we can think of two uses of this MZI arrangement - \n",
    "<ol> <li> To split a superposed beam into its odd and even components, send this beam in from one of the inputs only and the odd and even parity modes are separated.</li>\n",
    "    <li> If we have a odd parity beam and an even parity beam, we can add them (make a superposed state) by sending in the odd beam in In1, the even beam from In2, and then getting the superposed beam out, from Out1.\n",
    "       </ol>\n",
    "       In the experiment performed in the paper, the authors concern themselves only with the first use.\n",
    "       \n",
    "### 2.5 SLMs and PS-SLMs\n",
    "A SLM is a spatial light modulator. In general, this term refers to any device that modifies the beam in a space dependent fashion. In the context of this experiment, the SLM they use (Hamamatsu X10468-02) is an array of liquid crystal pixels, each of whose refractive index can be controlled independently by applying a voltage, in such a way, that we add a desired phase to the light passing through each pixel, and the phase in each pixel is independent of the others.\n",
    "<p>Suppose we send a beam through a SLM which adds a $x$-dependant phase $\\frac{\\phi}{2}sgn(x)$ to the electric field (global phase does not matter here, by the way. Only relative phase/ difference in phase between top and bottom half being $\\phi$ is what matters.) Then, we are effectively multiplying the old profile $E_{old}(x)$ by $e^{\\iota\\frac{\\phi}{2}sgn(x)}$, to get new profile $E_{new}(x)$. Observe that $e^{\\iota\\frac{\\phi}{2}sgn(x)} = cos(\\frac{\\phi}{2})+ \\iota sgn(x)sin(\\frac{\\phi}{2})$. So, with $E_{old}(x) = e(x)+o(x)$, we can get $E_{new}(x) = (e(x)+o(x))(cos(\\phi/2)+\\iota sgn(x)sin(\\phi/2)) = [cos(\\phi/2)e(x) + \\iota sin(\\phi/2) sgn(x)o(x)] + [cos(\\phi/2)o(x) + \\iota sin(\\phi/2) sgn(x)e(x)]$. </p>\n",
    "<p>Observe that the first term in the new expression is even while the second term is odd, which means that they are the new even and odd decomposition (which is unique). We can re-express this as $\\begin{pmatrix}cos(\\phi/2) & \\iota sin(\\phi/2) \\\\ \\iota sin(\\phi/2) & cos(\\phi/2) \\end{pmatrix}\\begin{pmatrix}e_{old} \\\\ o_{old}\\end{pmatrix} = \\begin{pmatrix}e_{new} \\\\ o_{new}\\end{pmatrix}$ to make it look more like the transformation caused by a half wave plate, but for the parity DOF. In particular, observe that if we set $\\phi = \\pi$ then the matrix shown looks like a Pauli $\\sigma_x$ matrix (times the constant $\\iota$)- it swaps the $o$ and $e$ bases.\n",
    "\n",
    "Further, to obtain the 4x4 transformation matrix, we again do a tensor product - \n",
    "$$A_{par}\\left(\\frac{\\phi}{2}\\right) = \\begin{pmatrix}1 & 0 \\\\ 0 & 1\\end{pmatrix}\\otimes\\begin{pmatrix} \\cos(\\phi/2)&i\\sin(\\phi/2) \\\\ i\\sin(\\phi/2) &\\cos(\\phi/2)\\end{pmatrix}=\\begin{pmatrix}\n",
    "\\cos(\\phi/2)&i\\sin(\\phi/2) & 0& 0\\\\ i\\sin(\\phi/2) &\\cos(\\phi/2) &0 & 0\\\\\n",
    "0&0&\\cos(\\phi/2)&i\\sin(\\phi/2) \\\\ 0&0&i\\sin(\\phi/2) &\\cos(\\phi/2)\n",
    "\\end{pmatrix} $$\n",
    "\n",
    "Again, the rationale is that since there is no polarisation effect, that part of the first matrix is identity.\n",
    "\n",
    "The liquid crystals can be acted on by a electric field in two directions, so that the refractive index of a single pixel itself is non-isotropic. This leads to polarisation-sensitive behaviour of the pixels. For example, if we take a SLM that adds a phase of $\\frac{\\phi}{2}sgn(x)$ only to the H-polarisation while leaving the V polarisation unchanged. In this case, we can simply modify the above operator matrix to look like $$A_{PS-SLM}\\left(\\frac{\\phi}{2}\\right) =\\begin{pmatrix}\n",
    "\\cos(\\phi/2)&i\\sin(\\phi/2) & 0& 0\\\\ i\\sin(\\phi/2) &\\cos(\\phi/2) &0 & 0\\\\\n",
    "0&0&1&0 \\\\ 0&0&0 &1\n",
    "\\end{pmatrix} $$"
   ]
  },
  {
   "cell_type": "markdown",
   "metadata": {},
   "source": [
    "### General Observations About the operator matrices\n",
    "We can see the following properties about the matrix formalism we have developed.\n",
    "<ol><li> The matrices are all unitary. $AA^\\dagger = A^\\dagger A = \\mathbb{I}$. This is expected, because if we take a completely incoherent beam in phase as well as parity, then no device will be able to change it, and the $G$ matrix for a completely incoherent mode is a scalar multiple of identity.</li>\n",
    "    <li> The matrices corresponding to a rotated HWP and to a polarisation-insensitive SLM commute. This is expected because each of these devices is expected to modify only one DOF.</li>\n",
    "    </ol>"
   ]
  },
  {
   "cell_type": "code",
   "execution_count": 9,
   "metadata": {},
   "outputs": [],
   "source": [
    "P,t,p,ta,pa = symbols('P theta varphi theta_a varphi_a',real=True)\n",
    "A_HWP = Matrix([[-cos(ta/2),0,-sin(ta/2),0],[0,-cos(ta/2),0,-sin(ta/2)],[-sin(ta/2),0,cos(ta/2),0],\n",
    "              [0,-sin(ta/2),0,cos(ta/2)]])\n",
    "A_SLM = Matrix([[cos(pa/2),I*sin(pa/2),0,0],[I*sin(pa/2),cos(pa/2),0,0],[0,0,cos(pa/2),I*sin(pa/2)],\n",
    "             [0,0,I*sin(pa/2),cos(pa/2)]])\n",
    "A_PSSLM = Matrix([[cos(pa/2),I*sin(pa/2),0,0],[I*sin(pa/2),cos(pa/2),0,0],[0,0,1,0],\n",
    "             [0,0,0,1]]) "
   ]
  },
  {
   "cell_type": "code",
   "execution_count": 10,
   "metadata": {},
   "outputs": [
    {
     "data": {
      "text/latex": [
       "$\\displaystyle \\left[\\begin{matrix}1 & 0 & 0 & 0\\\\0 & 1 & 0 & 0\\\\0 & 0 & 1 & 0\\\\0 & 0 & 0 & 1\\end{matrix}\\right]$"
      ],
      "text/plain": [
       "Matrix([\n",
       "[1, 0, 0, 0],\n",
       "[0, 1, 0, 0],\n",
       "[0, 0, 1, 0],\n",
       "[0, 0, 0, 1]])"
      ]
     },
     "execution_count": 10,
     "metadata": {},
     "output_type": "execute_result"
    }
   ],
   "source": [
    "trigsimp(A_SLM*conjugate(A_SLM.T)) #A_SLM is unitary"
   ]
  },
  {
   "cell_type": "code",
   "execution_count": 11,
   "metadata": {},
   "outputs": [
    {
     "data": {
      "text/latex": [
       "$\\displaystyle \\left[\\begin{matrix}1 & 0 & 0 & 0\\\\0 & 1 & 0 & 0\\\\0 & 0 & 1 & 0\\\\0 & 0 & 0 & 1\\end{matrix}\\right]$"
      ],
      "text/plain": [
       "Matrix([\n",
       "[1, 0, 0, 0],\n",
       "[0, 1, 0, 0],\n",
       "[0, 0, 1, 0],\n",
       "[0, 0, 0, 1]])"
      ]
     },
     "execution_count": 11,
     "metadata": {},
     "output_type": "execute_result"
    }
   ],
   "source": [
    "trigsimp(A_PSSLM*conjugate(A_PSSLM.T)) #A_PSSLM is unitary"
   ]
  },
  {
   "cell_type": "code",
   "execution_count": 12,
   "metadata": {},
   "outputs": [
    {
     "data": {
      "text/latex": [
       "$\\displaystyle \\left[\\begin{matrix}1 & 0 & 0 & 0\\\\0 & 1 & 0 & 0\\\\0 & 0 & 1 & 0\\\\0 & 0 & 0 & 1\\end{matrix}\\right]$"
      ],
      "text/plain": [
       "Matrix([\n",
       "[1, 0, 0, 0],\n",
       "[0, 1, 0, 0],\n",
       "[0, 0, 1, 0],\n",
       "[0, 0, 0, 1]])"
      ]
     },
     "execution_count": 12,
     "metadata": {},
     "output_type": "execute_result"
    }
   ],
   "source": [
    "trigsimp(A_HWP*conjugate(A_HWP.T)) #A_HWP is unitary"
   ]
  },
  {
   "cell_type": "code",
   "execution_count": 13,
   "metadata": {},
   "outputs": [
    {
     "data": {
      "text/latex": [
       "$\\displaystyle \\left[\\begin{matrix}0 & 0 & 0 & 0\\\\0 & 0 & 0 & 0\\\\0 & 0 & 0 & 0\\\\0 & 0 & 0 & 0\\end{matrix}\\right]$"
      ],
      "text/plain": [
       "Matrix([\n",
       "[0, 0, 0, 0],\n",
       "[0, 0, 0, 0],\n",
       "[0, 0, 0, 0],\n",
       "[0, 0, 0, 0]])"
      ]
     },
     "execution_count": 13,
     "metadata": {},
     "output_type": "execute_result"
    }
   ],
   "source": [
    "trigsimp(A_HWP*A_SLM - A_SLM*A_HWP) #A_SLM and A_HWP commute"
   ]
  },
  {
   "cell_type": "markdown",
   "metadata": {},
   "source": [
    "## Proposal for a Parity-Sensitive Polarisation Modifier\n",
    "<p> In the main paper, one of the loose ends that the authors do not seem to have addressed is that polarity seems to have a special place in this qubits scheme, in the sense that controlled gates can be made only with polarity as a control qubit (no parity controlled gates/devices are proposed). Here, we wish to present the design of a parity controlled device, that can be used to implement the controlled version of any possible (ordinarily) parity-insensitive device. \n",
    "<p>The main idea is to use the second use of the MZI. Suppose you are given an input beam and you want to perform a controlled-HWP operation on that (we have already seen uncontrolled HWP earlier). Then, the idea is to split up the input beam into the odd and even components with an MZI and then recombine them with a second MZI. In this way, a parity-controlled operation can be performed. The below image shows a schematic for a parity-sensitive HWP.</p>\n",
    "<img width = \"40%\" src='Parity_sensitive_HWP.png'>\n",
    "<p> An important use of this idea will be to bring the line of thought presented in the paper to a logical conclusion - suppose we start with a purely even mode but completely unpolarised beam. Then, by coupling the parity to the polarisation, we can generate a coupled-DOF beam. To convert this beam to a completely polarised, parity-incoherent beam, we would need to implement a parity-controlled polarisation operation, which this section proposes a theoretical solution to accomplishing. One major issue still here, is that stacking two MZI's could be a challenge, in view of the difficulty of alignment."
   ]
  },
  {
   "cell_type": "markdown",
   "metadata": {},
   "source": [
    "## 3. Polarization and Spatial Parity analysis\n",
    "### 3.1 The correlation function\n",
    "<p>We will now proceed to define a normalized correlation function $C(\\theta_a,\\phi_a)$ which we will use for defining our bell's measure $B$. The analyzing done in the paper does so with the following experimental setup shown below (images taken from [topic2])</p>\n",
    "<table>\n",
    "    <tr>\n",
    "        <td><img width=\"90%\"src=\"fig1b-og.png\"/><center><b>Fig: 3.1</b></center></td>\n",
    "        <td><img width=\"90%\"src=\"fig1c-og.png\"/><center><b>Fig: 3.2</b></center></td>\n",
    "    </tr>\n",
    "</table>\n",
    "Section 2. explains the functioning principle for each of the apparatus in the above figure. What the setup essentially does in fig: 3.1.1 is for analyzing the DoFs seperately. The polarization is analyzed in a linear basis rotated by $\\theta_a$ by action of the half wave plate and similarly the parity is analyzed by analyzing over a basis rotated by $\\varphi_a$. The measured intensities are normalized and kept as probabilities in a way that $P_H + P_V = P_o + P_e = 1$. In fig: 3.2 combined polarization-parity measurements are done by essentially using the setup of fig: 3.1 but by concatenating the different DoF analysis stages. If we call the input coherency matrix as $\\mathbf{G}_{in}$ then the resulting coherency matrix after the transformations on which measurement is being done is \n",
    "\\begin{equation}\\label{eq:3.1}\\tag{3.1}\\mathbf{G}_{out} = A_{SLM}^*A_{HWP}^*\\mathbf{G}_{in}A_{HWP}^TA_{SLM}^T\\end{equation}\n",
    "As already shown in section 1, our definition of overall coherence in eq: 1.1 is invariant under applying these unitaries on the state. The following is the definition we give to the correlation function in the equation below. Symmetric values are assignmed to the coefficeints $c_\\text{pol} = \\pm1$ ($c_\\text{par} = \\pm1$) to the dichotomic H (e) and V (o) probability outcomes. \n",
    "\\begin{equation}\\label{eq:3.2}\\tag{3.2}C(\\theta_a,\\varphi_a) = \\sum c_\\text{pol}c_\\text{par}P_\\text{pol,par} = P_\\text{He} - P_\\text{H0} - P_\\text{Ve} + P_\\text{Vo}\\end{equation}\n",
    "For the uncoupled case this can be factorized into $C(\\theta_1,\\varphi_a) = C_\\text{pol}(\\theta_a)C_\\text{par}(\\phi_a)$ and here we would have $C_\\text{pol}(\\theta_a) = P_H - P_V$ and $C_\\text{par} = P_e - P_o$. Proceeding this they use th CSHS formulation of the Bell's measure (see Appendix A) to write \n",
    "\\begin{equation}\\label{eq:3.3}\\tag{3.3}B = |C(\\theta_a,\\varphi_a) + C(\\theta_a,\\varphi_a') + C(\\theta_a',\\varphi_a) - C(\\theta_a',\\varphi_a')|\\end{equation}\n",
    "Now we have an upper bound on $B_{max}$ which is the maximum value this measure takes over these four variables and this is what the paper from this point refers to as the Bell's measure. This bound is called the Tsirelon's bound and is $B_{max}\\leq 2\\sqrt{2}$ and in the classical case (where all observables commute) it is actually bounded above by 2.\n",
    "\n",
    "We will now prove that any coherent beam has $D_\\text{pol} = D_\\text{par}$. Any coherent beam here would be isomorphic to a pure two qubit state. For pure states, if the state is $|\\psi\\rangle$, then the density matrix is $\\rho = |\\psi\\rangle\\langle\\psi|$. We can represent this in a Schmidt form where $|\\psi\\rangle = \\sum_ig_i|u_i\\rangle\\otimes|v_i\\rangle$ which can be done for any arbitrary pure state so for the 4 dimensional Jones vector here we only have two variables and so without loss of generality we can choose to write our jones vector as $\\mathbf{J} = [\\mu_1\\text{ 0 0 }\\mu_2]^T$ and for this state we would have that\n",
    "\\begin{equation}\\label{eq:3.4}\\tag{3.4}\\mathbf{G}_\\text{pol} = \\mathbf{G}_\\text{par} = \\begin{pmatrix}\\mu_1^2 & 0\\\\0 & \\mu_2^2\\end{pmatrix}\\end{equation}\n",
    "This leads to $D_\\text{pol} = D_\\text{par} = |\\mu_1^2-\\mu_2^2|$ which is essentially the difference the eigenvalues of the respective matrix. Note that the above equation would be true in the basis where we can write the Schmidt decomposition of the Jones vector but since this is a coherent state this basis can be reached by applying unitaries that do not do any coupling. Also for coherent beams the paper claims that we would have $4D_\\text{par}^2+B_{max}^2 = 4D_\\text{pol}^2+B_{max}^2 = 8$ which becomes $4D_\\text{pol}^2+B_{max}^2\\leq 8$ and $4D_\\text{par}^2+B_{max}^2\\leq 8$ for partially coherent beams hence they define a new degree of coherence reffered to as the partial degree of coherence\n",
    "\\begin{equation}S_\\text{pol} = \\dfrac{D_\\text{pol}^2}{2} + \\left(\\dfrac{B_{max}}{2\\sqrt{2}}\\right)^2\\text{, }S_\\text{par} = \\dfrac{D_\\text{par}^2}{2} + \\left(\\dfrac{B_{max}}{2\\sqrt{2}}\\right)^2\\end{equation}\n",
    "One important thing to note is that the accessible degrees of coherence written above are invariant under unitary coupling between the two DoFs. We can see this as a sort of sharing of coherence between apparent coherence of an individual DoF ($D_\\text{pol}$ and $D_\\text{par}$) and the coupling between them ($B_{max}$). For a fully coherent beam we will always have $S = S_\\text{pol} = S_\\text{par} = 1$ regardless of coupling between the DoFs. This also demostrates how we can make coherence essentially migrate from form of coupling to apparent coherence of individual DoFs by simply using unitary transforms.\n"
   ]
  },
  {
   "cell_type": "markdown",
   "metadata": {},
   "source": [
    "## 4. Experimental results and derivations\n",
    "The paper \\[topic2\\] describes three experiments A, B and C. Here we will derive the theoretical expressions they use for fitting their data using the SymPy package."
   ]
  },
  {
   "cell_type": "code",
   "execution_count": 14,
   "metadata": {},
   "outputs": [],
   "source": [
    "def trace_G(G): #A trace function for just 4x4 G matrices\n",
    "    return simplify(trace(G))\n",
    "def corr_prob(G): #Returns the value I_He - I_Ho - I_Ve +I_Vo from given G matrix\n",
    "    return simplify(G[0,0] - G[1,1] - G[2,2] + G[3,3])\n",
    "\n",
    "def par_tr_G_pol(G): #returns the partial trace of G for giving G_pol\n",
    "    return simplify(Matrix([[G[0,0]+G[1,1],G[0,2]+G[1,3]],[G[2,0]+G[3,1],G[2,2]+G[3,3]]]))\n",
    "\n",
    "def par_tr_G_par(G): #returns the partial trace of G for giving G_par\n",
    "    return Matrix([[G[0,0]+G[2,2],G[0,1]+G[2,3]],[G[1,0]+G[3,2],G[1,1]+G[3,3]]])\n",
    "\n",
    "def app_coh(G): #Returns apparent degree of coherence for a 2x2 G matrix\n",
    "    return simplify(sqrt(1-4*simplify(Determinant(G))/(simplify(Trace(G))**2)))\n",
    "\n",
    "def norm_grad(B,syms):\n",
    "    c = 0\n",
    "    for i in syms:\n",
    "        c += simplify(B.diff(i)**2)\n",
    "    return simplify(c)"
   ]
  },
  {
   "cell_type": "markdown",
   "metadata": {},
   "source": [
    "#### Methods for Calculating Values of $D_{pol}$, $D_{par}$, $B_{max}$, $S_{pol}$ and $S_{par}$"
   ]
  },
  {
   "cell_type": "code",
   "execution_count": 15,
   "metadata": {},
   "outputs": [],
   "source": [
    "def bmaxfinder(C_ta_pa,x):\n",
    "    tb,pb = symbols('theta_b varphi_b',real=True)\n",
    "    B = C_ta_pa + C_ta_pa.xreplace({ta:tb}) + C_ta_pa.xreplace({pa:pb}) - C_ta_pa.xreplace({ta:tb,pa:pb})\n",
    "    b = lambdify((ta,pa,tb,pb,p),B, \"numpy\")\n",
    "    bmax=[-1*(sc.optimize.minimize(lambda params: -1*abs(b(params[0],params[1],params[2],params[3],i)), [0,0,0,0], method = 'L-BFGS-B').fun) for i in x]\n",
    "    bmax=np.around(bmax,decimals=5)\n",
    "    return bmax"
   ]
  },
  {
   "cell_type": "code",
   "execution_count": 16,
   "metadata": {},
   "outputs": [],
   "source": [
    "def bmaxfinderC(C_ta_pa,x):\n",
    "    tb,pb = symbols('theta_b varphi_b',real=True)\n",
    "    B = C_ta_pa + C_ta_pa.xreplace({ta:tb}) + C_ta_pa.xreplace({pa:pb}) - C_ta_pa.xreplace({ta:tb,pa:pb})\n",
    "    b = lambdify((ta,pa,tb,pb,P),B, \"numpy\")\n",
    "    bmax=[-1*(sc.optimize.minimize(lambda params: -1*abs(b(params[0],params[1],params[2],params[3],i)), [0,0,0,0], method = 'L-BFGS-B').fun) for i in x]\n",
    "    bmax=np.around(bmax,decimals=5)\n",
    "    return bmax"
   ]
  },
  {
   "cell_type": "code",
   "execution_count": 17,
   "metadata": {},
   "outputs": [],
   "source": [
    "def dfinder(D,x):\n",
    "    d=lambdify(p,D,\"numpy\")\n",
    "    d_final=[d(i) for i in x]\n",
    "    return d_final"
   ]
  },
  {
   "cell_type": "code",
   "execution_count": 18,
   "metadata": {},
   "outputs": [],
   "source": [
    "def dfinderC(D,x):\n",
    "    d=lambdify(P,D,\"numpy\")\n",
    "    d_final=[d(i) for i in x]\n",
    "    return d_final"
   ]
  },
  {
   "cell_type": "code",
   "execution_count": 19,
   "metadata": {},
   "outputs": [],
   "source": [
    "def sfinder(d,bmax):   \n",
    "    return np.around(np.square(d)/2+np.square(bmax)/8,decimals=5)"
   ]
  },
  {
   "cell_type": "markdown",
   "metadata": {},
   "source": [
    "### 4.1 Experiment A\n",
    "Here the field is competely coherent and we start with the Jones vector in state $\\mathbf{J} = (1/\\sqrt{2})[\\cos(\\varphi/2)\\text{ }\\iota\\sin(\\varphi/2)\\text{ 1 0}]^T$ which is reached by applying the PS-SLM on the input state of $\\mathbf{J}_{in} = (1/\\sqrt{2})[\\text{1 0 1 0}]^T$. On this we then apply the rotation of basis by $\\theta_a$ for polarization and of $\\varphi_a$ for parity and then conduct measurements of each component. Based on our previous definitions we now derive the correlation function for this experiment."
   ]
  },
  {
   "cell_type": "code",
   "execution_count": 20,
   "metadata": {
    "scrolled": false
   },
   "outputs": [
    {
     "data": {
      "text/latex": [
       "$\\displaystyle \\left[\\begin{matrix}0.5 \\cos^{2}{\\left(\\frac{\\varphi}{2} \\right)} & 0.25 i \\sin{\\left(\\varphi \\right)} & 0.5 \\cos{\\left(\\frac{\\varphi}{2} \\right)} & 0\\\\- 0.25 i \\sin{\\left(\\varphi \\right)} & 0.5 \\sin^{2}{\\left(\\frac{\\varphi}{2} \\right)} & - 0.5 i \\sin{\\left(\\frac{\\varphi}{2} \\right)} & 0\\\\0.5 \\cos{\\left(\\frac{\\varphi}{2} \\right)} & 0.5 i \\sin{\\left(\\frac{\\varphi}{2} \\right)} & 0.5 & 0\\\\0 & 0 & 0 & 0\\end{matrix}\\right]$"
      ],
      "text/plain": [
       "Matrix([\n",
       "[0.5*cos(varphi/2)**2,   0.25*I*sin(varphi),    0.5*cos(varphi/2), 0],\n",
       "[ -0.25*I*sin(varphi), 0.5*sin(varphi/2)**2, -0.5*I*sin(varphi/2), 0],\n",
       "[   0.5*cos(varphi/2),  0.5*I*sin(varphi/2),                  0.5, 0],\n",
       "[                   0,                    0,                    0, 0]])"
      ]
     },
     "execution_count": 20,
     "metadata": {},
     "output_type": "execute_result"
    }
   ],
   "source": [
    "J = sqrt(1/2)*Matrix([cos(p/2),I*sin(p/2),1,0])\n",
    "G_A = trigsimp(conjugate(J)*J.T)\n",
    "G_A #The input beam G matrix before the transformations"
   ]
  },
  {
   "cell_type": "markdown",
   "metadata": {},
   "source": [
    "#### Calculation of $D_{pol}$ and $D_{par}$"
   ]
  },
  {
   "cell_type": "code",
   "execution_count": 21,
   "metadata": {},
   "outputs": [
    {
     "data": {
      "text/latex": [
       "$\\displaystyle \\left[\\begin{matrix}0.5 & 0.5 \\cos{\\left(\\frac{\\varphi}{2} \\right)}\\\\0.5 \\cos{\\left(\\frac{\\varphi}{2} \\right)} & 0.5\\end{matrix}\\right]$"
      ],
      "text/plain": [
       "Matrix([\n",
       "[              0.5, 0.5*cos(varphi/2)],\n",
       "[0.5*cos(varphi/2),               0.5]])"
      ]
     },
     "execution_count": 21,
     "metadata": {},
     "output_type": "execute_result"
    }
   ],
   "source": [
    "G_pol_A = par_tr_G_pol(G_A)\n",
    "G_pol_A"
   ]
  },
  {
   "cell_type": "code",
   "execution_count": 22,
   "metadata": {
    "scrolled": true
   },
   "outputs": [
    {
     "data": {
      "text/latex": [
       "$\\displaystyle \\left[\\begin{matrix}0.5 \\cos^{2}{\\left(\\frac{\\varphi}{2} \\right)} + 0.5 & 0.25 i \\sin{\\left(\\varphi \\right)}\\\\- 0.25 i \\sin{\\left(\\varphi \\right)} & 0.5 \\sin^{2}{\\left(\\frac{\\varphi}{2} \\right)}\\end{matrix}\\right]$"
      ],
      "text/plain": [
       "Matrix([\n",
       "[0.5*cos(varphi/2)**2 + 0.5,   0.25*I*sin(varphi)],\n",
       "[       -0.25*I*sin(varphi), 0.5*sin(varphi/2)**2]])"
      ]
     },
     "execution_count": 22,
     "metadata": {},
     "output_type": "execute_result"
    }
   ],
   "source": [
    "G_par_A = par_tr_G_par(G_A)\n",
    "G_par_A"
   ]
  },
  {
   "cell_type": "code",
   "execution_count": 23,
   "metadata": {
    "scrolled": true
   },
   "outputs": [
    {
     "data": {
      "text/latex": [
       "$\\displaystyle 1.0 \\left|{\\cos{\\left(\\frac{\\varphi}{2} \\right)}}\\right|$"
      ],
      "text/plain": [
       "1.0*Abs(cos(varphi/2))"
      ]
     },
     "execution_count": 23,
     "metadata": {},
     "output_type": "execute_result"
    }
   ],
   "source": [
    "D_pol_A=app_coh(G_pol_A)\n",
    "D_pol_A# Prints D_pol"
   ]
  },
  {
   "cell_type": "code",
   "execution_count": 24,
   "metadata": {
    "scrolled": true
   },
   "outputs": [
    {
     "data": {
      "text/latex": [
       "$\\displaystyle 0.707106781186547 \\sqrt{\\cos{\\left(\\varphi \\right)} + 1}$"
      ],
      "text/plain": [
       "0.707106781186547*sqrt(cos(varphi) + 1)"
      ]
     },
     "execution_count": 24,
     "metadata": {},
     "output_type": "execute_result"
    }
   ],
   "source": [
    "D_par_A=app_coh(G_par_A)\n",
    "D_par_A# Prints D_par"
   ]
  },
  {
   "cell_type": "markdown",
   "metadata": {},
   "source": [
    "#### Calculation of the Correlation Function and $B_{max}$"
   ]
  },
  {
   "cell_type": "code",
   "execution_count": 25,
   "metadata": {},
   "outputs": [],
   "source": [
    "G_out_A = conjugate(A_SLM)*conjugate(A_HWP)*G_A*A_HWP.T*A_SLM.T #Transformed matrix\n",
    "C_ta_pa_A = trigsimp(corr_prob(G_out_A)/trace_G(G_out_A))\n",
    "C_ta_pa_A\n",
    "fA = lambdify((t,p,ta,pa),C_ta_pa_A, \"numpy\")"
   ]
  },
  {
   "cell_type": "markdown",
   "metadata": {},
   "source": [
    "In this setup we know that the maximally entagled state is when the apparent degrees of coherence go to zero and so $B_{max}$ attains its peak value."
   ]
  },
  {
   "cell_type": "markdown",
   "metadata": {},
   "source": [
    "#### GRAPHS FOR EXPERIMENT A"
   ]
  },
  {
   "cell_type": "code",
   "execution_count": 26,
   "metadata": {},
   "outputs": [
    {
     "data": {
      "application/vnd.jupyter.widget-view+json": {
       "model_id": "a2ac1b70612d458ab9796d711b244fa0",
       "version_major": 2,
       "version_minor": 0
      },
      "text/plain": [
       "interactive(children=(Dropdown(description='option', options=('Hide All', 'D', 'B', 'S', 'Show All'), value='H…"
      ]
     },
     "metadata": {},
     "output_type": "display_data"
    }
   ],
   "source": [
    "def expAPlots(option):\n",
    "    num_space=102\n",
    "    phi=np.linspace(0, 2*np.pi, num_space)\n",
    "    bmax=bmaxfinder(C_ta_pa_A,phi)\n",
    "    dpol=dfinder(D_pol_A,phi)\n",
    "    dpar=dfinder(D_par_A,phi)\n",
    "    spol=sfinder(dpol,bmax)\n",
    "    spar=sfinder(dpar,bmax)\n",
    "    d=dpol\n",
    "    s=spol\n",
    "    \n",
    "    if option!='Hide All':        \n",
    "    \n",
    "        if option=='B':            \n",
    "            fig, ax = plt.subplots(figsize=(7, 7))\n",
    "            plotter('A',phi,bmax,r'$B_{max}$',r'$\\phi$',r'$B_{max}$',(1,0,0),r'$B_{max}$')\n",
    "            plt.plot(phi,[8**(0.5)]*num_space,color='black', linestyle ='dashed')\n",
    "            plt.plot(phi,[2]*num_space,color='black', linestyle ='dashed')\n",
    "            plt.figtext(s=r'$2\\sqrt{2}$', x=0.15, y=0.77, fontsize=15)\n",
    "            plt.figtext(s=r'$2$', x=0.15, y=0.48, fontsize=15)\n",
    "            plt.ylim(1,3)\n",
    "            plt.show()\n",
    "            \n",
    "        elif option=='S':\n",
    "            fig, ax = plt.subplots(figsize=(7, 7))\n",
    "            plotter('A',phi,spol,r'$S_{pol}=S_{par}=1$',r'$\\phi$',r'$S_{pol}\\ \\slash\\ S_{par}$',(1,0,0),r'$s_{pol}$')\n",
    "            plotter('A',phi,spar,r'$S_{pol}=S_{par}=1$',r'$\\phi$',r'$S_{pol}\\ \\slash\\ S_{par}$',(0,0,1),r'$s_{par}$')\n",
    "            plt.ylim(0,1.1) \n",
    "            plt.legend()\n",
    "            plt.show()\n",
    "            \n",
    "        elif option=='D':         \n",
    "            fig, ax = plt.subplots(figsize=(7, 7))\n",
    "            plotter('A',phi,dpol,r'$D_{pol}\\ and\\ D_{par}$',r'$\\phi$',r'$D_{pol}\\ \\slash\\ D_{par}$',(1,0,0),r'$d_{pol}$')\n",
    "            plotter('A',phi,dpar,r'$D_{pol}\\ and\\ D_{par}$',r'$\\phi$',r'$D_{pol}\\ \\slash\\ D_{par}$',(0,0,1),r'$d_{pol}$')\n",
    "            plt.ylim(0,1.1)\n",
    "            plt.legend()\n",
    "            plt.show()\n",
    "            \n",
    "        else:\n",
    "            fig, ax = plt.subplots(figsize=(7, 7))\n",
    "            plotter('A',phi,dpol,r'$D_{pol}\\ and\\ D_{par}$',r'$\\phi$',r'$D_{pol}\\ \\slash\\ D_{par}$',(1,0,0),r'$d_{pol}$')\n",
    "            plotter('A',phi,dpar,r'$D_{pol}\\ and\\ D_{par}$',r'$\\phi$',r'$D_{pol}\\ \\slash\\ D_{par}$',(0,0,1),r'$d_{pol}$')\n",
    "            plt.ylim(0,1.1)\n",
    "            plt.legend()\n",
    "            plt.show()\n",
    "            fig, ax = plt.subplots(figsize=(7, 7))\n",
    "            plotter('A',phi,bmax,r'$B_{max}$',r'$\\phi$',r'$B_{max}$',(1,0,0),r'$B_{max}$')\n",
    "            plt.plot(phi,[8**(0.5)]*num_space,color='black', linestyle ='dashed')\n",
    "            plt.plot(phi,[2]*num_space,color='black', linestyle ='dashed')\n",
    "            plt.figtext(s=r'$2\\sqrt{2}$', x=0.15, y=0.77, fontsize=15)\n",
    "            plt.figtext(s=r'$2$', x=0.15, y=0.48, fontsize=15)\n",
    "            plt.ylim(1,3)\n",
    "            plt.show()\n",
    "            fig, ax = plt.subplots(figsize=(7, 7))\n",
    "            plotter('A',phi,spol,r'$S_{pol}=S_{par}=1$',r'$\\phi$',r'$S_{pol}\\ \\slash\\ S_{par}$',(1,0,0),r'$s_{pol}$')\n",
    "            plotter('A',phi,spar,r'$S_{pol}=S_{par}=1$',r'$\\phi$',r'$S_{pol}\\ \\slash\\ S_{par}$',(0,0,1),r'$s_{par}$')\n",
    "            plt.ylim(0,1.1) \n",
    "            plt.legend()\n",
    "            plt.show()\n",
    "            \n",
    "            \n",
    "        plt.show()\n",
    "    \n",
    "    else:       \n",
    "        fig, ax = plt.subplots(figsize=(0.01, 0.01))\n",
    "        plt.show()\n",
    "        clear_output()\n",
    "    return\n",
    "\n",
    "interact(expAPlots, option=['Hide All', 'D', 'B', 'S', 'Show All']);"
   ]
  },
  {
   "cell_type": "code",
   "execution_count": 27,
   "metadata": {
    "scrolled": false
   },
   "outputs": [
    {
     "data": {
      "application/vnd.jupyter.widget-view+json": {
       "model_id": "6bfdd4d66d0647f59759d657e81ba81e",
       "version_major": 2,
       "version_minor": 0
      },
      "text/plain": [
       "interactive(children=(FloatSlider(value=1.0471975511965976, continuous_update=False, description='phi', layout…"
      ]
     },
     "metadata": {},
     "output_type": "display_data"
    }
   ],
   "source": [
    "def expAContours(phi):\n",
    "    function=C_ta_pa_A\n",
    "    contourplotter('A',phi,r'$C(\\theta_a,\\phi_a)$',r'$\\theta_a$',r'$\\phi_a$')\n",
    "    return\n",
    "interact(expAContours, phi=widgets.FloatSlider(min=0, max=2*np.pi, step=0.02, value=np.pi/3, continuous_update=False, layout=Layout(width='600px')));"
   ]
  },
  {
   "cell_type": "markdown",
   "metadata": {},
   "source": [
    "### 4.2 Experiment B\n",
    "Here starting with the same $\\mathbf{J}_{in}$ the polarization is scrambled using a variable polarization rotator which does not affect the spatial DoF so we have $D_\\text{pol} = 0$ and $D_\\text{par} = 1$. Now this beam is sent through a PS-SLM which would couple the DoFs. We now go on to derive the correlation function for this"
   ]
  },
  {
   "cell_type": "code",
   "execution_count": 28,
   "metadata": {
    "scrolled": false
   },
   "outputs": [
    {
     "data": {
      "text/latex": [
       "$\\displaystyle \\left[\\begin{matrix}0.5 \\cos^{2}{\\left(\\frac{\\varphi}{2} \\right)} & 0.5 i \\sin{\\left(\\frac{\\varphi}{2} \\right)} \\cos{\\left(\\frac{\\varphi}{2} \\right)} & 0 & 0\\\\- 0.5 i \\sin{\\left(\\frac{\\varphi}{2} \\right)} \\cos{\\left(\\frac{\\varphi}{2} \\right)} & 0.5 \\sin^{2}{\\left(\\frac{\\varphi}{2} \\right)} & 0 & 0\\\\0 & 0 & 0.5 & 0\\\\0 & 0 & 0 & 0\\end{matrix}\\right]$"
      ],
      "text/plain": [
       "Matrix([\n",
       "[              0.5*cos(varphi/2)**2, 0.5*I*sin(varphi/2)*cos(varphi/2),   0, 0],\n",
       "[-0.5*I*sin(varphi/2)*cos(varphi/2),              0.5*sin(varphi/2)**2,   0, 0],\n",
       "[                                 0,                                 0, 0.5, 0],\n",
       "[                                 0,                                 0,   0, 0]])"
      ]
     },
     "execution_count": 28,
     "metadata": {},
     "output_type": "execute_result"
    }
   ],
   "source": [
    "G_B = (1/2)*Matrix([[cos(p/2)**2, I*cos(p/2)*sin(p/2), 0, 0],[-I*cos(p/2)*sin(p/2), sin(p/2)**2, 0,0],\n",
    "            [0,0,1,0],[0,0,0,0]])\n",
    "G_B #The input beam G matrix before the transformations"
   ]
  },
  {
   "cell_type": "markdown",
   "metadata": {},
   "source": [
    "#### Calculation of $D_{pol}$ and $D_{par}$"
   ]
  },
  {
   "cell_type": "code",
   "execution_count": 29,
   "metadata": {
    "scrolled": true
   },
   "outputs": [
    {
     "data": {
      "text/latex": [
       "$\\displaystyle \\left[\\begin{matrix}0.5 & 0\\\\0 & 0.5\\end{matrix}\\right]$"
      ],
      "text/plain": [
       "Matrix([\n",
       "[0.5,   0],\n",
       "[  0, 0.5]])"
      ]
     },
     "execution_count": 29,
     "metadata": {},
     "output_type": "execute_result"
    }
   ],
   "source": [
    "G_pol_B = par_tr_G_pol(G_B)\n",
    "G_pol_B"
   ]
  },
  {
   "cell_type": "code",
   "execution_count": 30,
   "metadata": {
    "scrolled": true
   },
   "outputs": [
    {
     "data": {
      "text/latex": [
       "$\\displaystyle \\left[\\begin{matrix}0.5 \\cos^{2}{\\left(\\frac{\\varphi}{2} \\right)} + 0.5 & 0.5 i \\sin{\\left(\\frac{\\varphi}{2} \\right)} \\cos{\\left(\\frac{\\varphi}{2} \\right)}\\\\- 0.5 i \\sin{\\left(\\frac{\\varphi}{2} \\right)} \\cos{\\left(\\frac{\\varphi}{2} \\right)} & 0.5 \\sin^{2}{\\left(\\frac{\\varphi}{2} \\right)}\\end{matrix}\\right]$"
      ],
      "text/plain": [
       "Matrix([\n",
       "[        0.5*cos(varphi/2)**2 + 0.5, 0.5*I*sin(varphi/2)*cos(varphi/2)],\n",
       "[-0.5*I*sin(varphi/2)*cos(varphi/2),              0.5*sin(varphi/2)**2]])"
      ]
     },
     "execution_count": 30,
     "metadata": {},
     "output_type": "execute_result"
    }
   ],
   "source": [
    "G_par_B = par_tr_G_par(G_B)\n",
    "G_par_B"
   ]
  },
  {
   "cell_type": "code",
   "execution_count": 31,
   "metadata": {
    "scrolled": true
   },
   "outputs": [
    {
     "data": {
      "text/latex": [
       "$\\displaystyle 0$"
      ],
      "text/plain": [
       "0"
      ]
     },
     "execution_count": 31,
     "metadata": {},
     "output_type": "execute_result"
    }
   ],
   "source": [
    "D_pol_B=app_coh(G_pol_B)\n",
    "D_pol_B# Prints D_pol"
   ]
  },
  {
   "cell_type": "code",
   "execution_count": 32,
   "metadata": {
    "scrolled": true
   },
   "outputs": [
    {
     "data": {
      "text/latex": [
       "$\\displaystyle 0.707106781186548 \\sqrt{\\cos{\\left(\\varphi \\right)} + 1}$"
      ],
      "text/plain": [
       "0.707106781186548*sqrt(cos(varphi) + 1)"
      ]
     },
     "execution_count": 32,
     "metadata": {},
     "output_type": "execute_result"
    }
   ],
   "source": [
    "D_par_B=app_coh(G_par_B)\n",
    "D_par_B"
   ]
  },
  {
   "cell_type": "markdown",
   "metadata": {},
   "source": [
    "#### Calculation of the Correlation Function and $B_{max}$"
   ]
  },
  {
   "cell_type": "code",
   "execution_count": 33,
   "metadata": {},
   "outputs": [],
   "source": [
    "G_out_B = conjugate(A_SLM)*conjugate(A_HWP)*G_B*A_HWP.T*A_SLM.T #Transformed matrix\n",
    "C_ta_pa_B = trigsimp(corr_prob(G_out_B)/trace_G(G_out_B))\n",
    "C_ta_pa_B\n",
    "fB = lambdify((t,p,ta,pa),C_ta_pa_B, \"numpy\")"
   ]
  },
  {
   "cell_type": "markdown",
   "metadata": {},
   "source": [
    "In this setup we know that the maximally entagled state is when the apparent degrees of coherence go to zero and so $B_{max}$ attains its peak value."
   ]
  },
  {
   "cell_type": "markdown",
   "metadata": {},
   "source": [
    "#### GRAPHS FOR EXPERIMENT B"
   ]
  },
  {
   "cell_type": "code",
   "execution_count": 34,
   "metadata": {
    "scrolled": false
   },
   "outputs": [
    {
     "data": {
      "application/vnd.jupyter.widget-view+json": {
       "model_id": "c1854801ec2c46f89a6e71508dd573b2",
       "version_major": 2,
       "version_minor": 0
      },
      "text/plain": [
       "interactive(children=(Dropdown(description='option', options=('Hide All', 'D', 'B', 'S', 'Show All'), value='H…"
      ]
     },
     "metadata": {},
     "output_type": "display_data"
    }
   ],
   "source": [
    "def expBPlots(option):\n",
    "    num_space=102\n",
    "    phi=np.linspace(0, 2*np.pi, num_space)\n",
    "    bmax=bmaxfinder(C_ta_pa_B,phi)\n",
    "    dpol=dfinder(D_pol_B,phi)\n",
    "    dpar=dfinder(D_par_B,phi)\n",
    "    spol=sfinder(dpol,bmax)\n",
    "    spar=sfinder(dpar,bmax)\n",
    "    \n",
    "    if option!='Hide All':        \n",
    "    \n",
    "        if option=='B':            \n",
    "            fig, ax = plt.subplots(figsize=(7, 7))\n",
    "            plotter('B',phi,bmax,r'$B_{max}$',r'$\\phi$',r'$B_{max}$',(1,0,0),r'$B_{max}$')\n",
    "            plt.plot(phi,[2]*num_space,color='black', linestyle ='dashed')\n",
    "            plt.ylim(0,2.5)\n",
    "            plt.show()\n",
    "            \n",
    "        elif option=='S':\n",
    "            fig, ax = plt.subplots(figsize=(7, 7))\n",
    "            plotter('B',phi,spol,r'$S_{pol}=S_{par}=1$',r'$\\phi$',r'$S_{pol}\\ \\slash\\ S_{par}$',(1,0,0),r'$s_{pol}$')\n",
    "            plotter('B',phi,spar,r'$S_{pol}=S_{par}=1$',r'$\\phi$',r'$S_{pol}\\ \\slash\\ S_{par}$',(0,0,1),r'$s_{par}$')\n",
    "            plt.ylim(0,1.1) \n",
    "            plt.legend()\n",
    "            plt.show()\n",
    "            \n",
    "        elif option=='D':         \n",
    "            fig, ax = plt.subplots(figsize=(7, 7))\n",
    "            plotter('B',phi,dpol,r'$D_{pol}\\ and\\ D_{par}$',r'$\\phi$',r'$D_{pol}\\ \\slash\\ D_{par}$',(1,0,0),r'$d_{pol}$')\n",
    "            plotter('B',phi,dpar,r'$D_{pol}\\ and\\ D_{par}$',r'$\\phi$',r'$D_{pol}\\ \\slash\\ D_{par}$',(0,0,1),r'$d_{pol}$')\n",
    "            plt.ylim(-0.1,1.1)\n",
    "            plt.legend()\n",
    "            plt.show()\n",
    "            \n",
    "        else:\n",
    "            fig, ax = plt.subplots(figsize=(7, 7))\n",
    "            plotter('B',phi,dpol,r'$D_{pol}\\ and\\ D_{par}$',r'$\\phi$',r'$D_{pol}\\ \\slash\\ D_{par}$',(1,0,0),r'$d_{pol}$')\n",
    "            plotter('B',phi,dpar,r'$D_{pol}\\ and\\ D_{par}$',r'$\\phi$',r'$D_{pol}\\ \\slash\\ D_{par}$',(0,0,1),r'$d_{pol}$')\n",
    "            plt.ylim(-0.1,1.1)\n",
    "            plt.legend()\n",
    "            plt.show()\n",
    "            fig, ax = plt.subplots(figsize=(7, 7))\n",
    "            plotter('B',phi,bmax,r'$B_{max}$',r'$\\phi$',r'$B_{max}$',(1,0,0),r'$B_{max}$')\n",
    "            plt.plot('B',phi,[2]*num_space,color='black', linestyle ='dashed')\n",
    "            plt.ylim(0,2.5)\n",
    "            plt.show()\n",
    "            fig, ax = plt.subplots(figsize=(7, 7))\n",
    "            plotter(phi,spol,r'$S_{pol}=S_{par}=1$',r'$\\phi$',r'$S_{pol}\\ \\slash\\ S_{par}$',(1,0,0),r'$s_{pol}$')\n",
    "            plotter(phi,spar,r'$S_{pol}=S_{par}=1$',r'$\\phi$',r'$S_{pol}\\ \\slash\\ S_{par}$',(0,0,1),r'$s_{par}$')\n",
    "            plt.ylim(0,1.1) \n",
    "            plt.legend()\n",
    "            plt.show()\n",
    "            \n",
    "            \n",
    "        plt.show()\n",
    "    \n",
    "    else:       \n",
    "        fig, ax = plt.subplots(figsize=(0.01, 0.01))\n",
    "        plt.show()\n",
    "        clear_output()\n",
    "    return\n",
    "\n",
    "interact(expBPlots, option=['Hide All', 'D', 'B', 'S', 'Show All']);"
   ]
  },
  {
   "cell_type": "code",
   "execution_count": 35,
   "metadata": {
    "scrolled": false
   },
   "outputs": [
    {
     "data": {
      "application/vnd.jupyter.widget-view+json": {
       "model_id": "e85cc10701814c4f8a5f2ec1035af3d9",
       "version_major": 2,
       "version_minor": 0
      },
      "text/plain": [
       "interactive(children=(FloatSlider(value=1.0471975511965976, continuous_update=False, description='phi', layout…"
      ]
     },
     "metadata": {},
     "output_type": "display_data"
    }
   ],
   "source": [
    "def expBContours(phi):\n",
    "    function=C_ta_pa_B\n",
    "    contourplotter('B',phi,r'$C(\\theta_a,\\phi_a)$',r'$\\theta_a$',r'$\\phi_a$')\n",
    "    return\n",
    "interact(expBContours, phi=widgets.FloatSlider(min=0, max=2*np.pi, step=0.02, value=np.pi/3, continuous_update=False, layout=Layout(width='600px')));"
   ]
  },
  {
   "cell_type": "markdown",
   "metadata": {},
   "source": [
    "### 4.3 Experiment C\n",
    "In this experiment we again start with the same $\\mathbf{J}_{in}$ and an interaction is considered that makes it have a random coupling. It has a probability $P$ to couple polarization and parity and $1-P$ to not achieved by randomly toggling between two phase distributions of the PS-SLM, one with $\\pi/2\\text{sgn}(x)$ phase and another with zero phase where $P$ is the fraction of time that the PS-SLM displays the first phase pattern. From this we go on to derive it's correlation function."
   ]
  },
  {
   "cell_type": "code",
   "execution_count": 36,
   "metadata": {},
   "outputs": [
    {
     "data": {
      "text/latex": [
       "$\\displaystyle \\left[\\begin{matrix}\\frac{1}{2} - \\frac{P}{2} & 0 & \\frac{1}{2} - \\frac{P}{2} & 0\\\\0 & \\frac{P}{2} & - \\frac{i P}{2} & 0\\\\\\frac{1}{2} - \\frac{P}{2} & \\frac{i P}{2} & \\frac{1}{2} & 0\\\\0 & 0 & 0 & 0\\end{matrix}\\right]$"
      ],
      "text/plain": [
       "Matrix([\n",
       "[1/2 - P/2,     0, 1/2 - P/2, 0],\n",
       "[        0,   P/2,    -I*P/2, 0],\n",
       "[1/2 - P/2, I*P/2,       1/2, 0],\n",
       "[        0,     0,         0, 0]])"
      ]
     },
     "execution_count": 36,
     "metadata": {},
     "output_type": "execute_result"
    }
   ],
   "source": [
    "J_ent = (1/sqrt(2))*Matrix([0, I, 1, 0])#Entagled state\n",
    "J_in = (1/sqrt(2))*Matrix([1, 0, 1, 0])#Input state\n",
    "G_C = P*conjugate(J_ent)*J_ent.T + (1-P)*conjugate(J_in)*J_in.T\n",
    "G_C"
   ]
  },
  {
   "cell_type": "markdown",
   "metadata": {},
   "source": [
    "#### Calculation of $D_{pol}$ and $D_{par}$"
   ]
  },
  {
   "cell_type": "code",
   "execution_count": 37,
   "metadata": {},
   "outputs": [
    {
     "data": {
      "text/latex": [
       "$\\displaystyle \\left[\\begin{matrix}\\frac{1}{2} & \\frac{1}{2} - \\frac{P}{2}\\\\\\frac{1}{2} - \\frac{P}{2} & \\frac{1}{2}\\end{matrix}\\right]$"
      ],
      "text/plain": [
       "Matrix([\n",
       "[      1/2, 1/2 - P/2],\n",
       "[1/2 - P/2,       1/2]])"
      ]
     },
     "execution_count": 37,
     "metadata": {},
     "output_type": "execute_result"
    }
   ],
   "source": [
    "G_pol_C = par_tr_G_pol(G_C)\n",
    "G_pol_C"
   ]
  },
  {
   "cell_type": "code",
   "execution_count": 38,
   "metadata": {
    "scrolled": true
   },
   "outputs": [
    {
     "data": {
      "text/latex": [
       "$\\displaystyle \\left[\\begin{matrix}1 - \\frac{P}{2} & 0\\\\0 & \\frac{P}{2}\\end{matrix}\\right]$"
      ],
      "text/plain": [
       "Matrix([\n",
       "[1 - P/2,   0],\n",
       "[      0, P/2]])"
      ]
     },
     "execution_count": 38,
     "metadata": {},
     "output_type": "execute_result"
    }
   ],
   "source": [
    "G_par_C = par_tr_G_par(G_C)\n",
    "G_par_C"
   ]
  },
  {
   "cell_type": "code",
   "execution_count": 39,
   "metadata": {
    "scrolled": true
   },
   "outputs": [
    {
     "data": {
      "text/latex": [
       "$\\displaystyle \\sqrt{P^{2} - 2 P + 1}$"
      ],
      "text/plain": [
       "sqrt(P**2 - 2*P + 1)"
      ]
     },
     "execution_count": 39,
     "metadata": {},
     "output_type": "execute_result"
    }
   ],
   "source": [
    "D_pol_C=app_coh(G_pol_C)\n",
    "simplify(D_pol_C)# Prints D_pol"
   ]
  },
  {
   "cell_type": "code",
   "execution_count": 40,
   "metadata": {
    "scrolled": true
   },
   "outputs": [
    {
     "data": {
      "text/latex": [
       "$\\displaystyle \\sqrt{P^{2} - 2 P + 1}$"
      ],
      "text/plain": [
       "sqrt(P**2 - 2*P + 1)"
      ]
     },
     "execution_count": 40,
     "metadata": {},
     "output_type": "execute_result"
    }
   ],
   "source": [
    "D_par_C=app_coh(G_par_C)\n",
    "D_par_C"
   ]
  },
  {
   "cell_type": "markdown",
   "metadata": {},
   "source": [
    "#### Calculation of the Correlation Function and $B_{max}$"
   ]
  },
  {
   "cell_type": "code",
   "execution_count": 41,
   "metadata": {},
   "outputs": [],
   "source": [
    "G_out_C = conjugate(A_SLM)*conjugate(A_HWP)*G_C*A_HWP.T*A_SLM.T #Transformed matrix\n",
    "C_ta_pa_C = trigsimp(corr_prob(G_out_C)/trace_G(G_out_C))\n",
    "C_ta_pa_C\n",
    "fC = lambdify((t,P,ta,pa),C_ta_pa_C, \"numpy\")"
   ]
  },
  {
   "cell_type": "markdown",
   "metadata": {},
   "source": [
    "In this setup we know that the maximally entagled state is when the apparent degrees of coherence go to zero and so $B_{max}$ attains its peak value."
   ]
  },
  {
   "cell_type": "markdown",
   "metadata": {},
   "source": [
    "#### GRAPHS FOR EXPERIMENT C"
   ]
  },
  {
   "cell_type": "code",
   "execution_count": 42,
   "metadata": {
    "scrolled": false
   },
   "outputs": [
    {
     "data": {
      "application/vnd.jupyter.widget-view+json": {
       "model_id": "052d0b3570a24da48cbaecd01118d867",
       "version_major": 2,
       "version_minor": 0
      },
      "text/plain": [
       "interactive(children=(Dropdown(description='option', options=('Hide All', 'D', 'B', 'S', 'Show All'), value='H…"
      ]
     },
     "metadata": {},
     "output_type": "display_data"
    }
   ],
   "source": [
    "def expCPlots(option):\n",
    "    num_space=102\n",
    "    P=np.linspace(0, 1, num_space)\n",
    "    bmax=bmaxfinderC(C_ta_pa_C,P)\n",
    "    dpol=dfinderC(D_pol_C,P)\n",
    "    dpar=dfinderC(D_par_C,P)\n",
    "    spol=sfinder(dpol,bmax)\n",
    "    spar=sfinder(dpar,bmax)\n",
    "    \n",
    "    plt.ioff()\n",
    "    if option!='Hide All':        \n",
    "    \n",
    "        if option=='B':            \n",
    "            fig, ax = plt.subplots(figsize=(7, 7))\n",
    "            plotter('C',P,bmax,r'$B_{max}$',r'$\\phi$',r'$B_{max}$',(1,0,0),r'$B_{max}$')\n",
    "            plt.plot(P,[8**(0.5)]*num_space,color='black', linestyle ='dashed')\n",
    "            plt.plot(P,[2]*num_space,color='black', linestyle ='dashed')\n",
    "            plt.figtext(s=r'$2\\sqrt{2}$', x=0.15, y=0.77, fontsize=15)\n",
    "            plt.figtext(s=r'$2$', x=0.15, y=0.52, fontsize=15)\n",
    "            plt.ylim(1,3)\n",
    "            plt.show()\n",
    "            \n",
    "        elif option=='S':\n",
    "            fig, ax = plt.subplots(figsize=(7, 7))\n",
    "            plotter('C',P,spol,r'$S_{pol}=S_{par}=1$',r'$\\phi$',r'$S_{pol}\\ \\slash\\ S_{par}$',(1,0,0),r'$s_{pol}$')\n",
    "            plotter('C',P,spar,r'$S_{pol}=S_{par}=1$',r'$\\phi$',r'$S_{pol}\\ \\slash\\ S_{par}$',(0,0,1),r'$s_{par}$')\n",
    "            plt.ylim(0,1.1) \n",
    "            plt.legend()\n",
    "            plt.show()\n",
    "            \n",
    "        elif option=='D':         \n",
    "            fig, ax = plt.subplots(figsize=(7, 7))\n",
    "            plotter('C',P,dpol,r'$D_{pol}\\ and\\ D_{par}$',r'$\\phi$',r'$D_{pol}\\ \\slash\\ D_{par}$',(1,0,0),r'$d_{pol}$')\n",
    "            plotter('C',P,dpar,r'$D_{pol}\\ and\\ D_{par}$',r'$\\phi$',r'$D_{pol}\\ \\slash\\ D_{par}$',(0,0,1),r'$d_{pol}$')\n",
    "            plt.ylim(-0.1,1.1)\n",
    "            plt.legend()\n",
    "            plt.show()\n",
    "            \n",
    "        else:\n",
    "            fig, ax = plt.subplots(figsize=(7, 7))\n",
    "            plotter('C',P,dpol,r'$D_{pol}\\ and\\ D_{par}$',r'$\\phi$',r'$D_{pol}\\ \\slash\\ D_{par}$',(1,0,0),r'$d_{pol}$')\n",
    "            plotter('C',P,dpar,r'$D_{pol}\\ and\\ D_{par}$',r'$\\phi$',r'$D_{pol}\\ \\slash\\ D_{par}$',(0,0,1),r'$d_{pol}$')\n",
    "            plt.ylim(-0.1,1.1)\n",
    "            plt.legend()\n",
    "            plt.show()\n",
    "            fig, ax = plt.subplots(figsize=(7, 7))\n",
    "            plotter('C',P,bmax,r'$B_{max}$',r'$\\phi$',r'$B_{max}$',(1,0,0),r'$B_{max}$')\n",
    "            plt.plot(P,[8**(0.5)]*num_space,color='black', linestyle ='dashed')\n",
    "            plt.plot(P,[2]*num_space,color='black', linestyle ='dashed')\n",
    "            plt.figtext(s=r'$2\\sqrt{2}$', x=0.15, y=0.77, fontsize=15)\n",
    "            plt.figtext(s=r'$2$', x=0.15, y=0.52, fontsize=15)\n",
    "            plt.ylim(1,3)\n",
    "            plt.show()\n",
    "            fig, ax = plt.subplots(figsize=(7, 7))\n",
    "            plotter('C',P,spol,r'$S_{pol}=S_{par}=1$',r'$\\phi$',r'$S_{pol}\\ \\slash\\ S_{par}$',(1,0,0),r'$s_{pol}$')\n",
    "            plotter('C',P,spar,r'$S_{pol}=S_{par}=1$',r'$\\phi$',r'$S_{pol}\\ \\slash\\ S_{par}$',(0,0,1),r'$s_{par}$')\n",
    "            plt.ylim(0,1.1) \n",
    "            plt.legend()\n",
    "            plt.show()\n",
    "            \n",
    "            \n",
    "        plt.show()\n",
    "    \n",
    "    else:     \n",
    "        fig, ax = plt.subplots(figsize=(0.01, 0.01))\n",
    "        plt.show()\n",
    "        clear_output()\n",
    "    return\n",
    "\n",
    "interact(expCPlots, option=['Hide All', 'D', 'B', 'S', 'Show All']);"
   ]
  },
  {
   "cell_type": "code",
   "execution_count": 43,
   "metadata": {
    "scrolled": false
   },
   "outputs": [
    {
     "data": {
      "application/vnd.jupyter.widget-view+json": {
       "model_id": "a62bfbd9c6f242628fa7a21ad5eb39c8",
       "version_major": 2,
       "version_minor": 0
      },
      "text/plain": [
       "interactive(children=(FloatSlider(value=0.3333333333333333, continuous_update=False, description='P', layout=L…"
      ]
     },
     "metadata": {},
     "output_type": "display_data"
    }
   ],
   "source": [
    "def expCContours(P):\n",
    "    function=C_ta_pa_C\n",
    "    contourplotter('C',P,r'$C(\\theta_a,\\phi_a)$',r'$\\theta_a$',r'$\\phi_a$')\n",
    "    return\n",
    "interact(expCContours, P=widgets.FloatSlider(min=0, max=1, step=0.01, value=1/3, continuous_update=False, layout=Layout(width='600px')));"
   ]
  },
  {
   "cell_type": "markdown",
   "metadata": {},
   "source": [
    "### Test for 3D Plot"
   ]
  },
  {
   "cell_type": "code",
   "execution_count": 103,
   "metadata": {},
   "outputs": [],
   "source": [
    "def randG():\n",
    "    G=np.diag(np.random.rand(4))\n",
    "    G=G/np.trace(G)\n",
    "    A = np.random.rand(4,4)*2-ones(4,4)+1j*np.random.rand(4,4)*2-ones(4,4)\n",
    "    U,_=np.linalg.qr(np.random.rand(4,4)+1j*np.random.rand(4,4))\n",
    "    G=(U@G@np.conjugate(np.transpose(U))).round(4)\n",
    "    return G"
   ]
  },
  {
   "cell_type": "code",
   "execution_count": 105,
   "metadata": {},
   "outputs": [],
   "source": [
    "def C_ta_pa(G,t1,p1):\n",
    "    a_hwp_1 = [[-np.cos(t1/2),0,-np.sin(t1/2),0],[0,-np.cos(t1/2),0,-np.sin(t1/2)],[-np.sin(t1/2),0,np.cos(t1/2),0],[0,-np.sin(t1/2),0,np.cos(t1/2)]]\n",
    "    a_slm_1 = [[np.cos(p1/2),1j*np.sin(p1/2),0,0],[1j*np.sin(p1/2),np.cos(p1/2),0,0],[0,0,np.cos(p1/2),1j*np.sin(p1/2)],[0,0,1j*np.sin(p1/2),np.cos(p1/2)]]\n",
    "    G_out=np.conjugate(a_slm_1)*np.conjugate(a_hwp_1)*G*np.conjugate(a_hwp_1)*np.conjugate(a_slm_1)\n",
    "    return np.real((G_out[0,0]-G_out[1,1]-G_out[2,2]+G_out[3,3])/(np.trace(G))).round(8)"
   ]
  },
  {
   "cell_type": "code",
   "execution_count": 106,
   "metadata": {},
   "outputs": [],
   "source": [
    "def B(G,t1,t2,p1,p2):\n",
    "    return C_ta_pa(G,t1,p1)+C_ta_pa(G,t1,p2)+C_ta_pa(G,t2,p1)-C_ta_pa(G,t2,p2)"
   ]
  },
  {
   "cell_type": "code",
   "execution_count": 107,
   "metadata": {},
   "outputs": [],
   "source": [
    "def genS(G):\n",
    "    G_pol = [[G[0,0]+G[1,1],G[0,2]+G[1,3]],[G[2,0]+G[3,1],G[2,2]+G[3,3]]]\n",
    "    G_par = [[G[0,0]+G[2,2],G[0,1]+G[2,3]],[G[1,0]+G[3,2],G[1,1]+G[3,3]]]\n",
    "    \n",
    "    D_pol=sqrt(1-4*(np.linalg.det(G_pol))/((np.trace(G_pol))**2))\n",
    "    D_par=sqrt(1-4*(np.linalg.det(G_par))/((np.trace(G_par))**2))\n",
    "    \n",
    "    bmax=-1*(sc.optimize.minimize(lambda params: -1*abs(B(G,params[0],params[1],params[2],params[3])), [0,0,0,0], method = 'Nelder-Mead').fun)\n",
    "    spol=round(np.real(complex(D_pol**2/2+bmax**2/8)),8)\n",
    "    spar=round(np.real(complex(D_par**2/2+bmax**2/8)),8)\n",
    "    s=round(np.real((4/3)*(np.trace(G@G)-(1/4))),8)\n",
    "    return spol,spar,s"
   ]
  },
  {
   "cell_type": "code",
   "execution_count": 108,
   "metadata": {},
   "outputs": [],
   "source": [
    "n=10000\n",
    "x=np.zeros(n)\n",
    "y=np.zeros(n)\n",
    "z=np.zeros(n)\n",
    "for i in range(n):\n",
    "    x[i],y[i],z[i]=genS(randG())"
   ]
  },
  {
   "cell_type": "code",
   "execution_count": 113,
   "metadata": {
    "scrolled": false
   },
   "outputs": [
    {
     "data": {
      "application/javascript": [
       "/* Put everything inside the global mpl namespace */\n",
       "/* global mpl */\n",
       "window.mpl = {};\n",
       "\n",
       "mpl.get_websocket_type = function () {\n",
       "    if (typeof WebSocket !== 'undefined') {\n",
       "        return WebSocket;\n",
       "    } else if (typeof MozWebSocket !== 'undefined') {\n",
       "        return MozWebSocket;\n",
       "    } else {\n",
       "        alert(\n",
       "            'Your browser does not have WebSocket support. ' +\n",
       "                'Please try Chrome, Safari or Firefox ≥ 6. ' +\n",
       "                'Firefox 4 and 5 are also supported but you ' +\n",
       "                'have to enable WebSockets in about:config.'\n",
       "        );\n",
       "    }\n",
       "};\n",
       "\n",
       "mpl.figure = function (figure_id, websocket, ondownload, parent_element) {\n",
       "    this.id = figure_id;\n",
       "\n",
       "    this.ws = websocket;\n",
       "\n",
       "    this.supports_binary = this.ws.binaryType !== undefined;\n",
       "\n",
       "    if (!this.supports_binary) {\n",
       "        var warnings = document.getElementById('mpl-warnings');\n",
       "        if (warnings) {\n",
       "            warnings.style.display = 'block';\n",
       "            warnings.textContent =\n",
       "                'This browser does not support binary websocket messages. ' +\n",
       "                'Performance may be slow.';\n",
       "        }\n",
       "    }\n",
       "\n",
       "    this.imageObj = new Image();\n",
       "\n",
       "    this.context = undefined;\n",
       "    this.message = undefined;\n",
       "    this.canvas = undefined;\n",
       "    this.rubberband_canvas = undefined;\n",
       "    this.rubberband_context = undefined;\n",
       "    this.format_dropdown = undefined;\n",
       "\n",
       "    this.image_mode = 'full';\n",
       "\n",
       "    this.root = document.createElement('div');\n",
       "    this.root.setAttribute('style', 'display: inline-block');\n",
       "    this._root_extra_style(this.root);\n",
       "\n",
       "    parent_element.appendChild(this.root);\n",
       "\n",
       "    this._init_header(this);\n",
       "    this._init_canvas(this);\n",
       "    this._init_toolbar(this);\n",
       "\n",
       "    var fig = this;\n",
       "\n",
       "    this.waiting = false;\n",
       "\n",
       "    this.ws.onopen = function () {\n",
       "        fig.send_message('supports_binary', { value: fig.supports_binary });\n",
       "        fig.send_message('send_image_mode', {});\n",
       "        if (fig.ratio !== 1) {\n",
       "            fig.send_message('set_dpi_ratio', { dpi_ratio: fig.ratio });\n",
       "        }\n",
       "        fig.send_message('refresh', {});\n",
       "    };\n",
       "\n",
       "    this.imageObj.onload = function () {\n",
       "        if (fig.image_mode === 'full') {\n",
       "            // Full images could contain transparency (where diff images\n",
       "            // almost always do), so we need to clear the canvas so that\n",
       "            // there is no ghosting.\n",
       "            fig.context.clearRect(0, 0, fig.canvas.width, fig.canvas.height);\n",
       "        }\n",
       "        fig.context.drawImage(fig.imageObj, 0, 0);\n",
       "    };\n",
       "\n",
       "    this.imageObj.onunload = function () {\n",
       "        fig.ws.close();\n",
       "    };\n",
       "\n",
       "    this.ws.onmessage = this._make_on_message_function(this);\n",
       "\n",
       "    this.ondownload = ondownload;\n",
       "};\n",
       "\n",
       "mpl.figure.prototype._init_header = function () {\n",
       "    var titlebar = document.createElement('div');\n",
       "    titlebar.classList =\n",
       "        'ui-dialog-titlebar ui-widget-header ui-corner-all ui-helper-clearfix';\n",
       "    var titletext = document.createElement('div');\n",
       "    titletext.classList = 'ui-dialog-title';\n",
       "    titletext.setAttribute(\n",
       "        'style',\n",
       "        'width: 100%; text-align: center; padding: 3px;'\n",
       "    );\n",
       "    titlebar.appendChild(titletext);\n",
       "    this.root.appendChild(titlebar);\n",
       "    this.header = titletext;\n",
       "};\n",
       "\n",
       "mpl.figure.prototype._canvas_extra_style = function (_canvas_div) {};\n",
       "\n",
       "mpl.figure.prototype._root_extra_style = function (_canvas_div) {};\n",
       "\n",
       "mpl.figure.prototype._init_canvas = function () {\n",
       "    var fig = this;\n",
       "\n",
       "    var canvas_div = (this.canvas_div = document.createElement('div'));\n",
       "    canvas_div.setAttribute(\n",
       "        'style',\n",
       "        'border: 1px solid #ddd;' +\n",
       "            'box-sizing: content-box;' +\n",
       "            'clear: both;' +\n",
       "            'min-height: 1px;' +\n",
       "            'min-width: 1px;' +\n",
       "            'outline: 0;' +\n",
       "            'overflow: hidden;' +\n",
       "            'position: relative;' +\n",
       "            'resize: both;'\n",
       "    );\n",
       "\n",
       "    function on_keyboard_event_closure(name) {\n",
       "        return function (event) {\n",
       "            return fig.key_event(event, name);\n",
       "        };\n",
       "    }\n",
       "\n",
       "    canvas_div.addEventListener(\n",
       "        'keydown',\n",
       "        on_keyboard_event_closure('key_press')\n",
       "    );\n",
       "    canvas_div.addEventListener(\n",
       "        'keyup',\n",
       "        on_keyboard_event_closure('key_release')\n",
       "    );\n",
       "\n",
       "    this._canvas_extra_style(canvas_div);\n",
       "    this.root.appendChild(canvas_div);\n",
       "\n",
       "    var canvas = (this.canvas = document.createElement('canvas'));\n",
       "    canvas.classList.add('mpl-canvas');\n",
       "    canvas.setAttribute('style', 'box-sizing: content-box;');\n",
       "\n",
       "    this.context = canvas.getContext('2d');\n",
       "\n",
       "    var backingStore =\n",
       "        this.context.backingStorePixelRatio ||\n",
       "        this.context.webkitBackingStorePixelRatio ||\n",
       "        this.context.mozBackingStorePixelRatio ||\n",
       "        this.context.msBackingStorePixelRatio ||\n",
       "        this.context.oBackingStorePixelRatio ||\n",
       "        this.context.backingStorePixelRatio ||\n",
       "        1;\n",
       "\n",
       "    this.ratio = (window.devicePixelRatio || 1) / backingStore;\n",
       "\n",
       "    var rubberband_canvas = (this.rubberband_canvas = document.createElement(\n",
       "        'canvas'\n",
       "    ));\n",
       "    rubberband_canvas.setAttribute(\n",
       "        'style',\n",
       "        'box-sizing: content-box; position: absolute; left: 0; top: 0; z-index: 1;'\n",
       "    );\n",
       "\n",
       "    // Apply a ponyfill if ResizeObserver is not implemented by browser.\n",
       "    if (this.ResizeObserver === undefined) {\n",
       "        if (window.ResizeObserver !== undefined) {\n",
       "            this.ResizeObserver = window.ResizeObserver;\n",
       "        } else {\n",
       "            var obs = _JSXTOOLS_RESIZE_OBSERVER({});\n",
       "            this.ResizeObserver = obs.ResizeObserver;\n",
       "        }\n",
       "    }\n",
       "\n",
       "    this.resizeObserverInstance = new this.ResizeObserver(function (entries) {\n",
       "        var nentries = entries.length;\n",
       "        for (var i = 0; i < nentries; i++) {\n",
       "            var entry = entries[i];\n",
       "            var width, height;\n",
       "            if (entry.contentBoxSize) {\n",
       "                if (entry.contentBoxSize instanceof Array) {\n",
       "                    // Chrome 84 implements new version of spec.\n",
       "                    width = entry.contentBoxSize[0].inlineSize;\n",
       "                    height = entry.contentBoxSize[0].blockSize;\n",
       "                } else {\n",
       "                    // Firefox implements old version of spec.\n",
       "                    width = entry.contentBoxSize.inlineSize;\n",
       "                    height = entry.contentBoxSize.blockSize;\n",
       "                }\n",
       "            } else {\n",
       "                // Chrome <84 implements even older version of spec.\n",
       "                width = entry.contentRect.width;\n",
       "                height = entry.contentRect.height;\n",
       "            }\n",
       "\n",
       "            // Keep the size of the canvas and rubber band canvas in sync with\n",
       "            // the canvas container.\n",
       "            if (entry.devicePixelContentBoxSize) {\n",
       "                // Chrome 84 implements new version of spec.\n",
       "                canvas.setAttribute(\n",
       "                    'width',\n",
       "                    entry.devicePixelContentBoxSize[0].inlineSize\n",
       "                );\n",
       "                canvas.setAttribute(\n",
       "                    'height',\n",
       "                    entry.devicePixelContentBoxSize[0].blockSize\n",
       "                );\n",
       "            } else {\n",
       "                canvas.setAttribute('width', width * fig.ratio);\n",
       "                canvas.setAttribute('height', height * fig.ratio);\n",
       "            }\n",
       "            canvas.setAttribute(\n",
       "                'style',\n",
       "                'width: ' + width + 'px; height: ' + height + 'px;'\n",
       "            );\n",
       "\n",
       "            rubberband_canvas.setAttribute('width', width);\n",
       "            rubberband_canvas.setAttribute('height', height);\n",
       "\n",
       "            // And update the size in Python. We ignore the initial 0/0 size\n",
       "            // that occurs as the element is placed into the DOM, which should\n",
       "            // otherwise not happen due to the minimum size styling.\n",
       "            if (fig.ws.readyState == 1 && width != 0 && height != 0) {\n",
       "                fig.request_resize(width, height);\n",
       "            }\n",
       "        }\n",
       "    });\n",
       "    this.resizeObserverInstance.observe(canvas_div);\n",
       "\n",
       "    function on_mouse_event_closure(name) {\n",
       "        return function (event) {\n",
       "            return fig.mouse_event(event, name);\n",
       "        };\n",
       "    }\n",
       "\n",
       "    rubberband_canvas.addEventListener(\n",
       "        'mousedown',\n",
       "        on_mouse_event_closure('button_press')\n",
       "    );\n",
       "    rubberband_canvas.addEventListener(\n",
       "        'mouseup',\n",
       "        on_mouse_event_closure('button_release')\n",
       "    );\n",
       "    // Throttle sequential mouse events to 1 every 20ms.\n",
       "    rubberband_canvas.addEventListener(\n",
       "        'mousemove',\n",
       "        on_mouse_event_closure('motion_notify')\n",
       "    );\n",
       "\n",
       "    rubberband_canvas.addEventListener(\n",
       "        'mouseenter',\n",
       "        on_mouse_event_closure('figure_enter')\n",
       "    );\n",
       "    rubberband_canvas.addEventListener(\n",
       "        'mouseleave',\n",
       "        on_mouse_event_closure('figure_leave')\n",
       "    );\n",
       "\n",
       "    canvas_div.addEventListener('wheel', function (event) {\n",
       "        if (event.deltaY < 0) {\n",
       "            event.step = 1;\n",
       "        } else {\n",
       "            event.step = -1;\n",
       "        }\n",
       "        on_mouse_event_closure('scroll')(event);\n",
       "    });\n",
       "\n",
       "    canvas_div.appendChild(canvas);\n",
       "    canvas_div.appendChild(rubberband_canvas);\n",
       "\n",
       "    this.rubberband_context = rubberband_canvas.getContext('2d');\n",
       "    this.rubberband_context.strokeStyle = '#000000';\n",
       "\n",
       "    this._resize_canvas = function (width, height, forward) {\n",
       "        if (forward) {\n",
       "            canvas_div.style.width = width + 'px';\n",
       "            canvas_div.style.height = height + 'px';\n",
       "        }\n",
       "    };\n",
       "\n",
       "    // Disable right mouse context menu.\n",
       "    this.rubberband_canvas.addEventListener('contextmenu', function (_e) {\n",
       "        event.preventDefault();\n",
       "        return false;\n",
       "    });\n",
       "\n",
       "    function set_focus() {\n",
       "        canvas.focus();\n",
       "        canvas_div.focus();\n",
       "    }\n",
       "\n",
       "    window.setTimeout(set_focus, 100);\n",
       "};\n",
       "\n",
       "mpl.figure.prototype._init_toolbar = function () {\n",
       "    var fig = this;\n",
       "\n",
       "    var toolbar = document.createElement('div');\n",
       "    toolbar.classList = 'mpl-toolbar';\n",
       "    this.root.appendChild(toolbar);\n",
       "\n",
       "    function on_click_closure(name) {\n",
       "        return function (_event) {\n",
       "            return fig.toolbar_button_onclick(name);\n",
       "        };\n",
       "    }\n",
       "\n",
       "    function on_mouseover_closure(tooltip) {\n",
       "        return function (event) {\n",
       "            if (!event.currentTarget.disabled) {\n",
       "                return fig.toolbar_button_onmouseover(tooltip);\n",
       "            }\n",
       "        };\n",
       "    }\n",
       "\n",
       "    fig.buttons = {};\n",
       "    var buttonGroup = document.createElement('div');\n",
       "    buttonGroup.classList = 'mpl-button-group';\n",
       "    for (var toolbar_ind in mpl.toolbar_items) {\n",
       "        var name = mpl.toolbar_items[toolbar_ind][0];\n",
       "        var tooltip = mpl.toolbar_items[toolbar_ind][1];\n",
       "        var image = mpl.toolbar_items[toolbar_ind][2];\n",
       "        var method_name = mpl.toolbar_items[toolbar_ind][3];\n",
       "\n",
       "        if (!name) {\n",
       "            /* Instead of a spacer, we start a new button group. */\n",
       "            if (buttonGroup.hasChildNodes()) {\n",
       "                toolbar.appendChild(buttonGroup);\n",
       "            }\n",
       "            buttonGroup = document.createElement('div');\n",
       "            buttonGroup.classList = 'mpl-button-group';\n",
       "            continue;\n",
       "        }\n",
       "\n",
       "        var button = (fig.buttons[name] = document.createElement('button'));\n",
       "        button.classList = 'mpl-widget';\n",
       "        button.setAttribute('role', 'button');\n",
       "        button.setAttribute('aria-disabled', 'false');\n",
       "        button.addEventListener('click', on_click_closure(method_name));\n",
       "        button.addEventListener('mouseover', on_mouseover_closure(tooltip));\n",
       "\n",
       "        var icon_img = document.createElement('img');\n",
       "        icon_img.src = '_images/' + image + '.png';\n",
       "        icon_img.srcset = '_images/' + image + '_large.png 2x';\n",
       "        icon_img.alt = tooltip;\n",
       "        button.appendChild(icon_img);\n",
       "\n",
       "        buttonGroup.appendChild(button);\n",
       "    }\n",
       "\n",
       "    if (buttonGroup.hasChildNodes()) {\n",
       "        toolbar.appendChild(buttonGroup);\n",
       "    }\n",
       "\n",
       "    var fmt_picker = document.createElement('select');\n",
       "    fmt_picker.classList = 'mpl-widget';\n",
       "    toolbar.appendChild(fmt_picker);\n",
       "    this.format_dropdown = fmt_picker;\n",
       "\n",
       "    for (var ind in mpl.extensions) {\n",
       "        var fmt = mpl.extensions[ind];\n",
       "        var option = document.createElement('option');\n",
       "        option.selected = fmt === mpl.default_extension;\n",
       "        option.innerHTML = fmt;\n",
       "        fmt_picker.appendChild(option);\n",
       "    }\n",
       "\n",
       "    var status_bar = document.createElement('span');\n",
       "    status_bar.classList = 'mpl-message';\n",
       "    toolbar.appendChild(status_bar);\n",
       "    this.message = status_bar;\n",
       "};\n",
       "\n",
       "mpl.figure.prototype.request_resize = function (x_pixels, y_pixels) {\n",
       "    // Request matplotlib to resize the figure. Matplotlib will then trigger a resize in the client,\n",
       "    // which will in turn request a refresh of the image.\n",
       "    this.send_message('resize', { width: x_pixels, height: y_pixels });\n",
       "};\n",
       "\n",
       "mpl.figure.prototype.send_message = function (type, properties) {\n",
       "    properties['type'] = type;\n",
       "    properties['figure_id'] = this.id;\n",
       "    this.ws.send(JSON.stringify(properties));\n",
       "};\n",
       "\n",
       "mpl.figure.prototype.send_draw_message = function () {\n",
       "    if (!this.waiting) {\n",
       "        this.waiting = true;\n",
       "        this.ws.send(JSON.stringify({ type: 'draw', figure_id: this.id }));\n",
       "    }\n",
       "};\n",
       "\n",
       "mpl.figure.prototype.handle_save = function (fig, _msg) {\n",
       "    var format_dropdown = fig.format_dropdown;\n",
       "    var format = format_dropdown.options[format_dropdown.selectedIndex].value;\n",
       "    fig.ondownload(fig, format);\n",
       "};\n",
       "\n",
       "mpl.figure.prototype.handle_resize = function (fig, msg) {\n",
       "    var size = msg['size'];\n",
       "    if (size[0] !== fig.canvas.width || size[1] !== fig.canvas.height) {\n",
       "        fig._resize_canvas(size[0], size[1], msg['forward']);\n",
       "        fig.send_message('refresh', {});\n",
       "    }\n",
       "};\n",
       "\n",
       "mpl.figure.prototype.handle_rubberband = function (fig, msg) {\n",
       "    var x0 = msg['x0'] / fig.ratio;\n",
       "    var y0 = (fig.canvas.height - msg['y0']) / fig.ratio;\n",
       "    var x1 = msg['x1'] / fig.ratio;\n",
       "    var y1 = (fig.canvas.height - msg['y1']) / fig.ratio;\n",
       "    x0 = Math.floor(x0) + 0.5;\n",
       "    y0 = Math.floor(y0) + 0.5;\n",
       "    x1 = Math.floor(x1) + 0.5;\n",
       "    y1 = Math.floor(y1) + 0.5;\n",
       "    var min_x = Math.min(x0, x1);\n",
       "    var min_y = Math.min(y0, y1);\n",
       "    var width = Math.abs(x1 - x0);\n",
       "    var height = Math.abs(y1 - y0);\n",
       "\n",
       "    fig.rubberband_context.clearRect(\n",
       "        0,\n",
       "        0,\n",
       "        fig.canvas.width / fig.ratio,\n",
       "        fig.canvas.height / fig.ratio\n",
       "    );\n",
       "\n",
       "    fig.rubberband_context.strokeRect(min_x, min_y, width, height);\n",
       "};\n",
       "\n",
       "mpl.figure.prototype.handle_figure_label = function (fig, msg) {\n",
       "    // Updates the figure title.\n",
       "    fig.header.textContent = msg['label'];\n",
       "};\n",
       "\n",
       "mpl.figure.prototype.handle_cursor = function (fig, msg) {\n",
       "    var cursor = msg['cursor'];\n",
       "    switch (cursor) {\n",
       "        case 0:\n",
       "            cursor = 'pointer';\n",
       "            break;\n",
       "        case 1:\n",
       "            cursor = 'default';\n",
       "            break;\n",
       "        case 2:\n",
       "            cursor = 'crosshair';\n",
       "            break;\n",
       "        case 3:\n",
       "            cursor = 'move';\n",
       "            break;\n",
       "    }\n",
       "    fig.rubberband_canvas.style.cursor = cursor;\n",
       "};\n",
       "\n",
       "mpl.figure.prototype.handle_message = function (fig, msg) {\n",
       "    fig.message.textContent = msg['message'];\n",
       "};\n",
       "\n",
       "mpl.figure.prototype.handle_draw = function (fig, _msg) {\n",
       "    // Request the server to send over a new figure.\n",
       "    fig.send_draw_message();\n",
       "};\n",
       "\n",
       "mpl.figure.prototype.handle_image_mode = function (fig, msg) {\n",
       "    fig.image_mode = msg['mode'];\n",
       "};\n",
       "\n",
       "mpl.figure.prototype.handle_history_buttons = function (fig, msg) {\n",
       "    for (var key in msg) {\n",
       "        if (!(key in fig.buttons)) {\n",
       "            continue;\n",
       "        }\n",
       "        fig.buttons[key].disabled = !msg[key];\n",
       "        fig.buttons[key].setAttribute('aria-disabled', !msg[key]);\n",
       "    }\n",
       "};\n",
       "\n",
       "mpl.figure.prototype.handle_navigate_mode = function (fig, msg) {\n",
       "    if (msg['mode'] === 'PAN') {\n",
       "        fig.buttons['Pan'].classList.add('active');\n",
       "        fig.buttons['Zoom'].classList.remove('active');\n",
       "    } else if (msg['mode'] === 'ZOOM') {\n",
       "        fig.buttons['Pan'].classList.remove('active');\n",
       "        fig.buttons['Zoom'].classList.add('active');\n",
       "    } else {\n",
       "        fig.buttons['Pan'].classList.remove('active');\n",
       "        fig.buttons['Zoom'].classList.remove('active');\n",
       "    }\n",
       "};\n",
       "\n",
       "mpl.figure.prototype.updated_canvas_event = function () {\n",
       "    // Called whenever the canvas gets updated.\n",
       "    this.send_message('ack', {});\n",
       "};\n",
       "\n",
       "// A function to construct a web socket function for onmessage handling.\n",
       "// Called in the figure constructor.\n",
       "mpl.figure.prototype._make_on_message_function = function (fig) {\n",
       "    return function socket_on_message(evt) {\n",
       "        if (evt.data instanceof Blob) {\n",
       "            /* FIXME: We get \"Resource interpreted as Image but\n",
       "             * transferred with MIME type text/plain:\" errors on\n",
       "             * Chrome.  But how to set the MIME type?  It doesn't seem\n",
       "             * to be part of the websocket stream */\n",
       "            evt.data.type = 'image/png';\n",
       "\n",
       "            /* Free the memory for the previous frames */\n",
       "            if (fig.imageObj.src) {\n",
       "                (window.URL || window.webkitURL).revokeObjectURL(\n",
       "                    fig.imageObj.src\n",
       "                );\n",
       "            }\n",
       "\n",
       "            fig.imageObj.src = (window.URL || window.webkitURL).createObjectURL(\n",
       "                evt.data\n",
       "            );\n",
       "            fig.updated_canvas_event();\n",
       "            fig.waiting = false;\n",
       "            return;\n",
       "        } else if (\n",
       "            typeof evt.data === 'string' &&\n",
       "            evt.data.slice(0, 21) === 'data:image/png;base64'\n",
       "        ) {\n",
       "            fig.imageObj.src = evt.data;\n",
       "            fig.updated_canvas_event();\n",
       "            fig.waiting = false;\n",
       "            return;\n",
       "        }\n",
       "\n",
       "        var msg = JSON.parse(evt.data);\n",
       "        var msg_type = msg['type'];\n",
       "\n",
       "        // Call the  \"handle_{type}\" callback, which takes\n",
       "        // the figure and JSON message as its only arguments.\n",
       "        try {\n",
       "            var callback = fig['handle_' + msg_type];\n",
       "        } catch (e) {\n",
       "            console.log(\n",
       "                \"No handler for the '\" + msg_type + \"' message type: \",\n",
       "                msg\n",
       "            );\n",
       "            return;\n",
       "        }\n",
       "\n",
       "        if (callback) {\n",
       "            try {\n",
       "                // console.log(\"Handling '\" + msg_type + \"' message: \", msg);\n",
       "                callback(fig, msg);\n",
       "            } catch (e) {\n",
       "                console.log(\n",
       "                    \"Exception inside the 'handler_\" + msg_type + \"' callback:\",\n",
       "                    e,\n",
       "                    e.stack,\n",
       "                    msg\n",
       "                );\n",
       "            }\n",
       "        }\n",
       "    };\n",
       "};\n",
       "\n",
       "// from http://stackoverflow.com/questions/1114465/getting-mouse-location-in-canvas\n",
       "mpl.findpos = function (e) {\n",
       "    //this section is from http://www.quirksmode.org/js/events_properties.html\n",
       "    var targ;\n",
       "    if (!e) {\n",
       "        e = window.event;\n",
       "    }\n",
       "    if (e.target) {\n",
       "        targ = e.target;\n",
       "    } else if (e.srcElement) {\n",
       "        targ = e.srcElement;\n",
       "    }\n",
       "    if (targ.nodeType === 3) {\n",
       "        // defeat Safari bug\n",
       "        targ = targ.parentNode;\n",
       "    }\n",
       "\n",
       "    // pageX,Y are the mouse positions relative to the document\n",
       "    var boundingRect = targ.getBoundingClientRect();\n",
       "    var x = e.pageX - (boundingRect.left + document.body.scrollLeft);\n",
       "    var y = e.pageY - (boundingRect.top + document.body.scrollTop);\n",
       "\n",
       "    return { x: x, y: y };\n",
       "};\n",
       "\n",
       "/*\n",
       " * return a copy of an object with only non-object keys\n",
       " * we need this to avoid circular references\n",
       " * http://stackoverflow.com/a/24161582/3208463\n",
       " */\n",
       "function simpleKeys(original) {\n",
       "    return Object.keys(original).reduce(function (obj, key) {\n",
       "        if (typeof original[key] !== 'object') {\n",
       "            obj[key] = original[key];\n",
       "        }\n",
       "        return obj;\n",
       "    }, {});\n",
       "}\n",
       "\n",
       "mpl.figure.prototype.mouse_event = function (event, name) {\n",
       "    var canvas_pos = mpl.findpos(event);\n",
       "\n",
       "    if (name === 'button_press') {\n",
       "        this.canvas.focus();\n",
       "        this.canvas_div.focus();\n",
       "    }\n",
       "\n",
       "    var x = canvas_pos.x * this.ratio;\n",
       "    var y = canvas_pos.y * this.ratio;\n",
       "\n",
       "    this.send_message(name, {\n",
       "        x: x,\n",
       "        y: y,\n",
       "        button: event.button,\n",
       "        step: event.step,\n",
       "        guiEvent: simpleKeys(event),\n",
       "    });\n",
       "\n",
       "    /* This prevents the web browser from automatically changing to\n",
       "     * the text insertion cursor when the button is pressed.  We want\n",
       "     * to control all of the cursor setting manually through the\n",
       "     * 'cursor' event from matplotlib */\n",
       "    event.preventDefault();\n",
       "    return false;\n",
       "};\n",
       "\n",
       "mpl.figure.prototype._key_event_extra = function (_event, _name) {\n",
       "    // Handle any extra behaviour associated with a key event\n",
       "};\n",
       "\n",
       "mpl.figure.prototype.key_event = function (event, name) {\n",
       "    // Prevent repeat events\n",
       "    if (name === 'key_press') {\n",
       "        if (event.which === this._key) {\n",
       "            return;\n",
       "        } else {\n",
       "            this._key = event.which;\n",
       "        }\n",
       "    }\n",
       "    if (name === 'key_release') {\n",
       "        this._key = null;\n",
       "    }\n",
       "\n",
       "    var value = '';\n",
       "    if (event.ctrlKey && event.which !== 17) {\n",
       "        value += 'ctrl+';\n",
       "    }\n",
       "    if (event.altKey && event.which !== 18) {\n",
       "        value += 'alt+';\n",
       "    }\n",
       "    if (event.shiftKey && event.which !== 16) {\n",
       "        value += 'shift+';\n",
       "    }\n",
       "\n",
       "    value += 'k';\n",
       "    value += event.which.toString();\n",
       "\n",
       "    this._key_event_extra(event, name);\n",
       "\n",
       "    this.send_message(name, { key: value, guiEvent: simpleKeys(event) });\n",
       "    return false;\n",
       "};\n",
       "\n",
       "mpl.figure.prototype.toolbar_button_onclick = function (name) {\n",
       "    if (name === 'download') {\n",
       "        this.handle_save(this, null);\n",
       "    } else {\n",
       "        this.send_message('toolbar_button', { name: name });\n",
       "    }\n",
       "};\n",
       "\n",
       "mpl.figure.prototype.toolbar_button_onmouseover = function (tooltip) {\n",
       "    this.message.textContent = tooltip;\n",
       "};\n",
       "\n",
       "///////////////// REMAINING CONTENT GENERATED BY embed_js.py /////////////////\n",
       "// prettier-ignore\n",
       "var _JSXTOOLS_RESIZE_OBSERVER=function(A){var t,i=new WeakMap,n=new WeakMap,a=new WeakMap,r=new WeakMap,o=new Set;function s(e){if(!(this instanceof s))throw new TypeError(\"Constructor requires 'new' operator\");i.set(this,e)}function h(){throw new TypeError(\"Function is not a constructor\")}function c(e,t,i,n){e=0 in arguments?Number(arguments[0]):0,t=1 in arguments?Number(arguments[1]):0,i=2 in arguments?Number(arguments[2]):0,n=3 in arguments?Number(arguments[3]):0,this.right=(this.x=this.left=e)+(this.width=i),this.bottom=(this.y=this.top=t)+(this.height=n),Object.freeze(this)}function d(){t=requestAnimationFrame(d);var s=new WeakMap,p=new Set;o.forEach((function(t){r.get(t).forEach((function(i){var r=t instanceof window.SVGElement,o=a.get(t),d=r?0:parseFloat(o.paddingTop),f=r?0:parseFloat(o.paddingRight),l=r?0:parseFloat(o.paddingBottom),u=r?0:parseFloat(o.paddingLeft),g=r?0:parseFloat(o.borderTopWidth),m=r?0:parseFloat(o.borderRightWidth),w=r?0:parseFloat(o.borderBottomWidth),b=u+f,F=d+l,v=(r?0:parseFloat(o.borderLeftWidth))+m,W=g+w,y=r?0:t.offsetHeight-W-t.clientHeight,E=r?0:t.offsetWidth-v-t.clientWidth,R=b+v,z=F+W,M=r?t.width:parseFloat(o.width)-R-E,O=r?t.height:parseFloat(o.height)-z-y;if(n.has(t)){var k=n.get(t);if(k[0]===M&&k[1]===O)return}n.set(t,[M,O]);var S=Object.create(h.prototype);S.target=t,S.contentRect=new c(u,d,M,O),s.has(i)||(s.set(i,[]),p.add(i)),s.get(i).push(S)}))})),p.forEach((function(e){i.get(e).call(e,s.get(e),e)}))}return s.prototype.observe=function(i){if(i instanceof window.Element){r.has(i)||(r.set(i,new Set),o.add(i),a.set(i,window.getComputedStyle(i)));var n=r.get(i);n.has(this)||n.add(this),cancelAnimationFrame(t),t=requestAnimationFrame(d)}},s.prototype.unobserve=function(i){if(i instanceof window.Element&&r.has(i)){var n=r.get(i);n.has(this)&&(n.delete(this),n.size||(r.delete(i),o.delete(i))),n.size||r.delete(i),o.size||cancelAnimationFrame(t)}},A.DOMRectReadOnly=c,A.ResizeObserver=s,A.ResizeObserverEntry=h,A}; // eslint-disable-line\n",
       "mpl.toolbar_items = [[\"Home\", \"Reset original view\", \"fa fa-home icon-home\", \"home\"], [\"Back\", \"Back to previous view\", \"fa fa-arrow-left icon-arrow-left\", \"back\"], [\"Forward\", \"Forward to next view\", \"fa fa-arrow-right icon-arrow-right\", \"forward\"], [\"\", \"\", \"\", \"\"], [\"Pan\", \"Left button pans, Right button zooms\\nx/y fixes axis, CTRL fixes aspect\", \"fa fa-arrows icon-move\", \"pan\"], [\"Zoom\", \"Zoom to rectangle\\nx/y fixes axis, CTRL fixes aspect\", \"fa fa-square-o icon-check-empty\", \"zoom\"], [\"\", \"\", \"\", \"\"], [\"Download\", \"Download plot\", \"fa fa-floppy-o icon-save\", \"download\"]];\n",
       "\n",
       "mpl.extensions = [\"eps\", \"jpeg\", \"pdf\", \"png\", \"ps\", \"raw\", \"svg\", \"tif\"];\n",
       "\n",
       "mpl.default_extension = \"png\";/* global mpl */\n",
       "\n",
       "var comm_websocket_adapter = function (comm) {\n",
       "    // Create a \"websocket\"-like object which calls the given IPython comm\n",
       "    // object with the appropriate methods. Currently this is a non binary\n",
       "    // socket, so there is still some room for performance tuning.\n",
       "    var ws = {};\n",
       "\n",
       "    ws.close = function () {\n",
       "        comm.close();\n",
       "    };\n",
       "    ws.send = function (m) {\n",
       "        //console.log('sending', m);\n",
       "        comm.send(m);\n",
       "    };\n",
       "    // Register the callback with on_msg.\n",
       "    comm.on_msg(function (msg) {\n",
       "        //console.log('receiving', msg['content']['data'], msg);\n",
       "        // Pass the mpl event to the overridden (by mpl) onmessage function.\n",
       "        ws.onmessage(msg['content']['data']);\n",
       "    });\n",
       "    return ws;\n",
       "};\n",
       "\n",
       "mpl.mpl_figure_comm = function (comm, msg) {\n",
       "    // This is the function which gets called when the mpl process\n",
       "    // starts-up an IPython Comm through the \"matplotlib\" channel.\n",
       "\n",
       "    var id = msg.content.data.id;\n",
       "    // Get hold of the div created by the display call when the Comm\n",
       "    // socket was opened in Python.\n",
       "    var element = document.getElementById(id);\n",
       "    var ws_proxy = comm_websocket_adapter(comm);\n",
       "\n",
       "    function ondownload(figure, _format) {\n",
       "        window.open(figure.canvas.toDataURL());\n",
       "    }\n",
       "\n",
       "    var fig = new mpl.figure(id, ws_proxy, ondownload, element);\n",
       "\n",
       "    // Call onopen now - mpl needs it, as it is assuming we've passed it a real\n",
       "    // web socket which is closed, not our websocket->open comm proxy.\n",
       "    ws_proxy.onopen();\n",
       "\n",
       "    fig.parent_element = element;\n",
       "    fig.cell_info = mpl.find_output_cell(\"<div id='\" + id + \"'></div>\");\n",
       "    if (!fig.cell_info) {\n",
       "        console.error('Failed to find cell for figure', id, fig);\n",
       "        return;\n",
       "    }\n",
       "    fig.cell_info[0].output_area.element.on(\n",
       "        'cleared',\n",
       "        { fig: fig },\n",
       "        fig._remove_fig_handler\n",
       "    );\n",
       "};\n",
       "\n",
       "mpl.figure.prototype.handle_close = function (fig, msg) {\n",
       "    var width = fig.canvas.width / fig.ratio;\n",
       "    fig.cell_info[0].output_area.element.off(\n",
       "        'cleared',\n",
       "        fig._remove_fig_handler\n",
       "    );\n",
       "    fig.resizeObserverInstance.unobserve(fig.canvas_div);\n",
       "\n",
       "    // Update the output cell to use the data from the current canvas.\n",
       "    fig.push_to_output();\n",
       "    var dataURL = fig.canvas.toDataURL();\n",
       "    // Re-enable the keyboard manager in IPython - without this line, in FF,\n",
       "    // the notebook keyboard shortcuts fail.\n",
       "    IPython.keyboard_manager.enable();\n",
       "    fig.parent_element.innerHTML =\n",
       "        '<img src=\"' + dataURL + '\" width=\"' + width + '\">';\n",
       "    fig.close_ws(fig, msg);\n",
       "};\n",
       "\n",
       "mpl.figure.prototype.close_ws = function (fig, msg) {\n",
       "    fig.send_message('closing', msg);\n",
       "    // fig.ws.close()\n",
       "};\n",
       "\n",
       "mpl.figure.prototype.push_to_output = function (_remove_interactive) {\n",
       "    // Turn the data on the canvas into data in the output cell.\n",
       "    var width = this.canvas.width / this.ratio;\n",
       "    var dataURL = this.canvas.toDataURL();\n",
       "    this.cell_info[1]['text/html'] =\n",
       "        '<img src=\"' + dataURL + '\" width=\"' + width + '\">';\n",
       "};\n",
       "\n",
       "mpl.figure.prototype.updated_canvas_event = function () {\n",
       "    // Tell IPython that the notebook contents must change.\n",
       "    IPython.notebook.set_dirty(true);\n",
       "    this.send_message('ack', {});\n",
       "    var fig = this;\n",
       "    // Wait a second, then push the new image to the DOM so\n",
       "    // that it is saved nicely (might be nice to debounce this).\n",
       "    setTimeout(function () {\n",
       "        fig.push_to_output();\n",
       "    }, 1000);\n",
       "};\n",
       "\n",
       "mpl.figure.prototype._init_toolbar = function () {\n",
       "    var fig = this;\n",
       "\n",
       "    var toolbar = document.createElement('div');\n",
       "    toolbar.classList = 'btn-toolbar';\n",
       "    this.root.appendChild(toolbar);\n",
       "\n",
       "    function on_click_closure(name) {\n",
       "        return function (_event) {\n",
       "            return fig.toolbar_button_onclick(name);\n",
       "        };\n",
       "    }\n",
       "\n",
       "    function on_mouseover_closure(tooltip) {\n",
       "        return function (event) {\n",
       "            if (!event.currentTarget.disabled) {\n",
       "                return fig.toolbar_button_onmouseover(tooltip);\n",
       "            }\n",
       "        };\n",
       "    }\n",
       "\n",
       "    fig.buttons = {};\n",
       "    var buttonGroup = document.createElement('div');\n",
       "    buttonGroup.classList = 'btn-group';\n",
       "    var button;\n",
       "    for (var toolbar_ind in mpl.toolbar_items) {\n",
       "        var name = mpl.toolbar_items[toolbar_ind][0];\n",
       "        var tooltip = mpl.toolbar_items[toolbar_ind][1];\n",
       "        var image = mpl.toolbar_items[toolbar_ind][2];\n",
       "        var method_name = mpl.toolbar_items[toolbar_ind][3];\n",
       "\n",
       "        if (!name) {\n",
       "            /* Instead of a spacer, we start a new button group. */\n",
       "            if (buttonGroup.hasChildNodes()) {\n",
       "                toolbar.appendChild(buttonGroup);\n",
       "            }\n",
       "            buttonGroup = document.createElement('div');\n",
       "            buttonGroup.classList = 'btn-group';\n",
       "            continue;\n",
       "        }\n",
       "\n",
       "        button = fig.buttons[name] = document.createElement('button');\n",
       "        button.classList = 'btn btn-default';\n",
       "        button.href = '#';\n",
       "        button.title = name;\n",
       "        button.innerHTML = '<i class=\"fa ' + image + ' fa-lg\"></i>';\n",
       "        button.addEventListener('click', on_click_closure(method_name));\n",
       "        button.addEventListener('mouseover', on_mouseover_closure(tooltip));\n",
       "        buttonGroup.appendChild(button);\n",
       "    }\n",
       "\n",
       "    if (buttonGroup.hasChildNodes()) {\n",
       "        toolbar.appendChild(buttonGroup);\n",
       "    }\n",
       "\n",
       "    // Add the status bar.\n",
       "    var status_bar = document.createElement('span');\n",
       "    status_bar.classList = 'mpl-message pull-right';\n",
       "    toolbar.appendChild(status_bar);\n",
       "    this.message = status_bar;\n",
       "\n",
       "    // Add the close button to the window.\n",
       "    var buttongrp = document.createElement('div');\n",
       "    buttongrp.classList = 'btn-group inline pull-right';\n",
       "    button = document.createElement('button');\n",
       "    button.classList = 'btn btn-mini btn-primary';\n",
       "    button.href = '#';\n",
       "    button.title = 'Stop Interaction';\n",
       "    button.innerHTML = '<i class=\"fa fa-power-off icon-remove icon-large\"></i>';\n",
       "    button.addEventListener('click', function (_evt) {\n",
       "        fig.handle_close(fig, {});\n",
       "    });\n",
       "    button.addEventListener(\n",
       "        'mouseover',\n",
       "        on_mouseover_closure('Stop Interaction')\n",
       "    );\n",
       "    buttongrp.appendChild(button);\n",
       "    var titlebar = this.root.querySelector('.ui-dialog-titlebar');\n",
       "    titlebar.insertBefore(buttongrp, titlebar.firstChild);\n",
       "};\n",
       "\n",
       "mpl.figure.prototype._remove_fig_handler = function (event) {\n",
       "    var fig = event.data.fig;\n",
       "    if (event.target !== this) {\n",
       "        // Ignore bubbled events from children.\n",
       "        return;\n",
       "    }\n",
       "    fig.close_ws(fig, {});\n",
       "};\n",
       "\n",
       "mpl.figure.prototype._root_extra_style = function (el) {\n",
       "    el.style.boxSizing = 'content-box'; // override notebook setting of border-box.\n",
       "};\n",
       "\n",
       "mpl.figure.prototype._canvas_extra_style = function (el) {\n",
       "    // this is important to make the div 'focusable\n",
       "    el.setAttribute('tabindex', 0);\n",
       "    // reach out to IPython and tell the keyboard manager to turn it's self\n",
       "    // off when our div gets focus\n",
       "\n",
       "    // location in version 3\n",
       "    if (IPython.notebook.keyboard_manager) {\n",
       "        IPython.notebook.keyboard_manager.register_events(el);\n",
       "    } else {\n",
       "        // location in version 2\n",
       "        IPython.keyboard_manager.register_events(el);\n",
       "    }\n",
       "};\n",
       "\n",
       "mpl.figure.prototype._key_event_extra = function (event, _name) {\n",
       "    var manager = IPython.notebook.keyboard_manager;\n",
       "    if (!manager) {\n",
       "        manager = IPython.keyboard_manager;\n",
       "    }\n",
       "\n",
       "    // Check for shift+enter\n",
       "    if (event.shiftKey && event.which === 13) {\n",
       "        this.canvas_div.blur();\n",
       "        // select the cell after this one\n",
       "        var index = IPython.notebook.find_cell_index(this.cell_info[0]);\n",
       "        IPython.notebook.select(index + 1);\n",
       "    }\n",
       "};\n",
       "\n",
       "mpl.figure.prototype.handle_save = function (fig, _msg) {\n",
       "    fig.ondownload(fig, null);\n",
       "};\n",
       "\n",
       "mpl.find_output_cell = function (html_output) {\n",
       "    // Return the cell and output element which can be found *uniquely* in the notebook.\n",
       "    // Note - this is a bit hacky, but it is done because the \"notebook_saving.Notebook\"\n",
       "    // IPython event is triggered only after the cells have been serialised, which for\n",
       "    // our purposes (turning an active figure into a static one), is too late.\n",
       "    var cells = IPython.notebook.get_cells();\n",
       "    var ncells = cells.length;\n",
       "    for (var i = 0; i < ncells; i++) {\n",
       "        var cell = cells[i];\n",
       "        if (cell.cell_type === 'code') {\n",
       "            for (var j = 0; j < cell.output_area.outputs.length; j++) {\n",
       "                var data = cell.output_area.outputs[j];\n",
       "                if (data.data) {\n",
       "                    // IPython >= 3 moved mimebundle to data attribute of output\n",
       "                    data = data.data;\n",
       "                }\n",
       "                if (data['text/html'] === html_output) {\n",
       "                    return [cell, data, j];\n",
       "                }\n",
       "            }\n",
       "        }\n",
       "    }\n",
       "};\n",
       "\n",
       "// Register the function which deals with the matplotlib target/channel.\n",
       "// The kernel may be null if the page has been refreshed.\n",
       "if (IPython.notebook.kernel !== null) {\n",
       "    IPython.notebook.kernel.comm_manager.register_target(\n",
       "        'matplotlib',\n",
       "        mpl.mpl_figure_comm\n",
       "    );\n",
       "}\n"
      ],
      "text/plain": [
       "<IPython.core.display.Javascript object>"
      ]
     },
     "metadata": {},
     "output_type": "display_data"
    },
    {
     "data": {
      "text/html": [
       "<img src=\"data:image/png;base64,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\" width=\"639.9972268929602\">"
      ],
      "text/plain": [
       "<IPython.core.display.HTML object>"
      ]
     },
     "metadata": {},
     "output_type": "display_data"
    }
   ],
   "source": [
    "\n",
    "def Plot3dim(x,y,z):\n",
    "    \n",
    "    fig = plt.figure()\n",
    "    \n",
    "    ax = plt.axes(projection='3d')\n",
    "    ax.scatter3D(x, y, z)\n",
    "    ax.axes.set_xlim3d(left=0, right=1) \n",
    "    ax.axes.set_ylim3d(bottom=0, top=1) \n",
    "    ax.axes.set_zlim3d(bottom=0, top=1) \n",
    "    ax.set_title('surface');\n",
    "%matplotlib notebook\n",
    "Plot3dim(x,y,z)"
   ]
  },
  {
   "cell_type": "markdown",
   "metadata": {},
   "source": [
    "## Appendix A: The EPR paradox and Bell's inequalities\n",
    "\n",
    "Before talking about the bell's measure let us first dive into why it was made and for this we must look at the EPR experiment proposed in \\[epr\\]. I will discuss Bohm's variant since Bell's response was made in a way to that. Say we have prepared a electron-positron pair coming from a single source. These would be entangled in a way where if we measure the spin of one of the particles, the other particle will simultaneously collapse to the opposite spin.\n",
    "$$|{\\psi}\\rangle = \\dfrac{|{\\uparrow_e\\downarrow_p}\\rangle + |{\\downarrow_e\\uparrow_p}\\rangle}{\\sqrt{2}}$$\n",
    "So the main issue which Einstein had was that this means that measurement on one particle directly affects the other no matter how far it is. This makes it a non local effect which clearly does not make sense in a world which was believed to follow local realism. It can be proven that the two agents have no way to communicate using this pair hence showing that there actually is no faster than light comminication. While one may think choosing basis in a certain manner can change measurement probabilities and essentially have some \"information\" change, no matter how much measurements are done, since this is probabilistic the other agent cannot conclude anything from that.\n",
    "   \n",
    "\n",
    "While there have been multiple responses to this, the most important one is the one discussed in Bell's paper \\[bell\\].\n",
    "First we will start by considering the EPR argument using spin particles. Consider a pair of spin one-half particles formed somehow in the singlet spin state and moving freely in opposite directions. Measurements can be made, say by Stern-Gerlach magnets, on selected components of the spins $\\vec{\\sigma_1}$ and $\\vec{\\sigma_2}$,\n",
    "If measurement of the component $\\vec{\\sigma_1}\\cdot{a}$, where $a$ is some unit vector, yields the value +1 then, according to quantum mechanics, measurement of $\\vec{\\sigma_2}\\cdot{a}$ must yield the value -1 and vice versa.\n",
    "We now define some set of parameters $\\lambda$ which is taken as continuous which give us a complete description of the state. The result $A$ of measuring $\\vec{\\sigma_1}\\cdot{a}$ is then determined by $a$ and $\\lambda$, and the result $B$ of measuring $\\vec{\\sigma_2}\\cdot{b}$ in the\n",
    "same instance is determined by $b$ and $\\lambda$.\n",
    "\\begin{equation}\\label{eq:1A}\\tag{1A}A(\\vec{a},\\lambda) = \\pm 1, B(\\vec{b},\\lambda) = \\pm 1 \\end{equation}\n",
    "We now take $\\rho(\\lambda)$ as the probability distribution of $\\lambda$ and we will now try to find the expectation value of of the product of the two components $\\vec{\\sigma_1}\\cdot{a}$ and $\\vec{\\sigma_2}\\cdot{b}$.\n",
    "\\begin{equation}\\label{eq:2A}\\tag{2A}P(\\vec{a}\\vec{b}) = \\int{d\\lambda}\\rho{\\lambda}A(\\vec{a},\\lambda)B(\\vec{b},\\lambda)\\end{equation}\n",
    "The quantum mechanical expectation value of this is the following\n",
    "\\begin{equation}\\label{eq:3A}\\tag{3A}\\langle\\vec{\\sigma_1}\\cdot{a}\\vec{\\sigma_2}\\cdot{b}\\rangle = - \\vec{a}\\cdot\\vec{b}\\end{equation}\n",
    "However it turns out that eq: \\ref{eq:2A} doesn't give us the same result as \\ref{eq:3A}. So first off we know that we have a normalized distribution.\n",
    "\\begin{equation}\\label{eq:4A}\\tag{4A}\\int{d\\lambda}\\rho(\\lambda) = 1\\end{equation}\n",
    "if we take $\\vec{a} = \\vec{b}$ the $P$ in eq: \\ref{eq:2A} can reach -1.\n",
    "\\begin{equation}\\label{eq:5A}\\tag{5A}A(\\vec{a},\\lambda) = -B(\\vec{a},\\lambda)\\end{equation}\n",
    "Knowing this we can rewrite eq: \\ref{eq:2A} into the following\n",
    "\\begin{equation}\\label{eq:6A}\\tag{6A}P(\\vec{a}\\vec{b}) = -\\int{d\\lambda}\\rho{\\lambda}A(\\vec{a},\\lambda)A(\\vec{b},\\lambda)\\end{equation}\n",
    "\\begin{equation}\\label{eq:7A}\\tag{7A}P(\\vec{a},\\vec{b}) - P(\\vec{a},\\vec{c}) = \\int{d\\lambda}\\rho{\\lambda}[1-A(\\vec{b},\\lambda)A(\\vec{c},\\lambda)]\\end{equation}\n",
    "from eq: \\ref{eq:1A} we can write this\n",
    "\\begin{equation}\\label{eq:8A}\\tag{8A}|P(\\vec{a},\\vec{b}) - P(\\vec{a},\\vec{c})| \\leq \\int{d\\lambda}\\rho{\\lambda}A(\\vec{a},\\lambda)A(\\vec{b},\\lambda)[A(\\vec{b},\\lambda)A(\\vec{c},\\lambda) - 1]\\end{equation}\n",
    "The second term on the right is just $P(\\vec{b},\\vec{c})$ so we get\n",
    "\\begin{equation}\\label{eq:9A}\\tag{9A}1 + P(\\vec{b},\\vec{c}) \\geq |P(\\vec{a},\\vec{b}) - P(\\vec{a},\\vec{c})|\\end{equation}\n",
    "Now we define a $\\overline{P}(\\vec{a},\\vec{b})$ and a $\\overline{- \\vec{a}\\cdot\\vec{b}}$ which essentially are the averages over vectors differing from a small angle from $\\vec{a}$ and $\\vec{b}$ of the quantities under the bar. Let's suppose the following holds for some $\\epsilon$\n",
    "\\begin{equation}\\label{eq:10A}\\tag{10A}|\\overline{P}(\\vec{a},\\vec{b}) + \\overline{\\vec{a}\\cdot\\vec{b}}| \\leq \\epsilon\\end{equation}\n",
    "We cannot make $\\epsilon$ arbitrarily small and this can be proven by the following steps. Let us first assume the following inequality holds for all $\\vec{a}$ and $\\vec{b}$\n",
    "\\begin{equation}\\label{eq:11A}\\tag{11A}|\\overline{\\vec{a}\\cdot\\vec{b}} - \\vec{a}\\cdot\\vec{b}| \\leq\\delta\\end{equation}\n",
    "Then using eq:\\ref{eq:11A} and eq:\\ref{eq:10A} we have\n",
    "\\begin{equation}\\label{eq:12A}\\tag{12A}|\\overline{P}(\\vec{a},\\vec{b}) + \\vec{a}\\cdot\\vec{b}| \\leq \\epsilon + \\delta\\end{equation}\n",
    "Now taking $\\vec{a} = \\vec{b}$ (hence their dot product is 1) we rewrite eq:\\ref{eq:12A} as the equation below while using the fact that $\\overline{P(\\vec{a},\\vec{b})} = \\int d\\lambda\\rho(\\lambda)\\overline{A}(\\vec{a},\\lambda)\\overline{B}(\\vec{b},\\lambda))$.\n",
    "\\begin{equation}\\label{eq:13A}\\tag{13A}\\int d\\lambda\\rho(\\lambda)[\\overline{A}(\\vec{b},\\lambda)\\overline{B}(\\vec{b},\\lambda))+1] \\leq\\epsilon+\\delta\\end{equation}\n",
    "We can extend from \\ref{eq:1A} that on averaging over a small range, $|\\overline{A}(\\vec{a},\\lambda)| \\leq 1$ and $|\\overline{B}(\\vec{b},\\lambda)| \\leq 1$. Now we can write the following\n",
    "\\begin{equation}\\label{eq:14A}\\tag{14A}\\overline{P}(\\vec{a},\\vec{b})-\\overline{P}(\\vec{b},\\vec{c}) = \\int{d\\lambda}\\rho{\\lambda}\\overline{A}(\\vec{a},\\lambda)\\overline{B}(\\vec{b},\\lambda)[\\overline{A}(\\vec{b},\\lambda)\\overline{B}(\\vec{c},\\lambda) + 1] - \\int{d\\lambda}\\rho{\\lambda}\\overline{A}(\\vec{a},\\lambda)\\overline{B}(\\vec{c},\\lambda)[\\overline{A}(\\vec{b},\\lambda)\\overline{B}(\\vec{b},\\lambda) + 1]\\end{equation}\n",
    "Using the inequalities on the averaged $A$ and $B$ we can write the following\n",
    "\\begin{equation}\\label{eq:15A}\\tag{15A}|\\overline{P}(\\vec{a},\\vec{b})-\\overline{P}(\\vec{b},\\vec{c})| \\leq \\int{d\\lambda}\\rho{\\lambda}[\\overline{A}(\\vec{b},\\lambda)\\overline{B}(\\vec{c},\\lambda) + 1] - \\int{d\\lambda}\\rho{\\lambda}[\\overline{A}(\\vec{b},\\lambda)\\overline{B}(\\vec{b},\\lambda) + 1]\\end{equation}\n",
    "\\begin{equation}\\label{eq:16A}\\tag{16A}|\\overline{P}(\\vec{a},\\vec{b})-\\overline{P}(\\vec{b},\\vec{c})| \\leq 1 + \\overline{P} + \\epsilon+\\delta\\end{equation}\n",
    "We write eq:\\ref{eq:16A} using eq:\\ref{eq:15A} and eq:\\ref{eq:13A}. Finally using eq:\\ref{eq:12A} we rewrite the above equation as\n",
    "\\begin{equation}\\label{eq:17A}\\tag{17A}|\\vec{a}\\cdot\\vec{c}-\\vec{a}\\cdot\\vec{b}|+\\vec{b}\\cdot\\vec{c}-1 \\leq 4(\\epsilon+\\delta)\\end{equation}\n",
    "Now with the constraint coming from eq:\\ref{eq:17A} we can handpick values of $\\vec{a},\\vec{b},\\vec{c}$ such that $\\epsilon$ cannot be made arbitrarily small (take $\\vec{a}\\cdot\\vec{b} = \\vec{c}\\cdot\\vec{b} = 1/\\sqrt{2}$ and $\\vec{a}\\cdot\\vec{c} = 0$ this would show $4(\\epsilon+\\delta)\\geq\\sqrt{2}-1$). The fact that $\\epsilon$ cannot be made arbitrarily small implies that the quantum mechanical value cannot be approximated either accurately or arbitrarily close to this form using hidden variable. So this contradiction implies that some assumptions that we have taken happen to not work together and that happen to be local determinism and hidden variables. So any hidden variable theory by nature itself is non local.\n",
    "\n",
    "To get the form of the CSHS inequalities we essentially modify the form of eq:\\ref{eq:14A} by applying the triangle inequality and we will get\n",
    "\\begin{equation}\\label{eq:18A}\\tag{18A}|\\overline{P}(\\vec{a},\\vec{b})-\\overline{P}(\\vec{b},\\vec{c})| \\leq \\left|\\int{d\\lambda}\\rho{\\lambda}[\\overline{A}(\\vec{b},\\lambda)\\overline{B}(\\vec{c},\\lambda) - 1]\\right| + \\left|\\int{d\\lambda}\\rho{\\lambda}[\\overline{A}(\\vec{b},\\lambda)\\overline{B}(\\vec{b},\\lambda) - 1]\\right|\\end{equation}\n",
    "This can be rewritten as the following equation below using the triangle inequality\n",
    "\\begin{equation}\\label{eq:19A}\\tag{19A}|\\overline{P}(\\vec{a},\\vec{b})-\\overline{P}(\\vec{b},\\vec{c})| +  \\left|\\int{d\\lambda}\\rho{\\lambda}[\\overline{A}(\\vec{b},\\lambda)\\overline{B}(\\vec{c},\\lambda)] + \\int{d\\lambda}\\rho{\\lambda}[\\overline{A}(\\vec{b},\\lambda)\\overline{B}(\\vec{b},\\lambda]\\right|\\leq 2 \\end{equation}\n",
    "Again using the triangle inequality and using the fact $\\overline{P(\\vec{a},\\vec{b})} = \\int d\\lambda\\rho(\\lambda)\\overline{A}(\\vec{a},\\lambda)\\overline{B}(\\vec{b},\\lambda))$ we get\n",
    "\\begin{equation}\\label{eq:20A}\\tag{20A}|\\overline{P}(\\vec{a},\\vec{b})-\\overline{P}(\\vec{b},\\vec{c})| +  \\left|\\int{d\\lambda}\\rho{\\lambda}[\\overline{A}(\\vec{b},\\lambda)\\overline{B}(\\vec{c},\\lambda)] + \\int{d\\lambda}\\rho{\\lambda}[\\overline{A}(\\vec{b},\\lambda)\\overline{B}(\\vec{b},\\lambda]\\right|\\leq 2 \\end{equation}"
   ]
  },
  {
   "cell_type": "markdown",
   "metadata": {},
   "source": [
    "## References\n",
    "(Fill later and unfortunately dont know how to incorporate BibTex here)\n",
    "\\[1\\]\n",
    "\\[2\\]\n",
    "\\[3\\]"
   ]
  }
 ],
 "metadata": {
  "kernelspec": {
   "display_name": "Python 3",
   "language": "python",
   "name": "python3"
  },
  "language_info": {
   "codemirror_mode": {
    "name": "ipython",
    "version": 3
   },
   "file_extension": ".py",
   "mimetype": "text/x-python",
   "name": "python",
   "nbconvert_exporter": "python",
   "pygments_lexer": "ipython3",
   "version": "3.8.2"
  }
 },
 "nbformat": 4,
 "nbformat_minor": 2
}
