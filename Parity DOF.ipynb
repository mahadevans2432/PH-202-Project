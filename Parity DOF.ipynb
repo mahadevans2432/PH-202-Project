{
 "cells": [
  {
   "cell_type": "markdown",
   "metadata": {},
   "source": [
    "# Understanding the Parity DOF \n",
    "## From crossref [33] \n",
    "https://journals.aps.org/pra/pdf/10.1103/PhysRevA.86.050303?casa_token=hlba4GfVRZkAAAAA%3AnKgeaWzMs2SYg7U8TtvwWGdqORgKxL2JKWIrQmZ73EDNw1t8adlLnkru1YXP0M9Go0Dz2o5LGy8Nrg\n",
    "## and also this related paper by the same authors\n",
    "http://old.phys.huji.ac.il/~urisan/docs/PhysRevA_75_052114.pdf"
   ]
  },
  {
   "cell_type": "markdown",
   "metadata": {},
   "source": [
    "The idea is to send in a beam (travelling in x direction) with a cross-section profile given as $E(x)=e(x) + o(x)$ where where $e$ is an even function and $o$ is odd."
   ]
  },
  {
   "cell_type": "markdown",
   "metadata": {},
   "source": [
    "<p><b>Unique Representation theorem:</b> Given any function $f$ of a real variable $x$, we can write it uniquely as the sum of an odd and even function.</p>\n",
    "<p><b>Proof:</b> Note that $f(x) = \\frac{f(x)+f(-x)}{2} + \\frac{f(x)-f(-x)}{2}$ where the first term is even and the second is odd, so existence is proved. Also, for uniqueness, note that if $e_1(x)+o_1(x) = e_2(x)+o_2(x)$ for all $x$ ($e_1,e_2$ even, $o_1,o_2$ odd), then we can rewrite to get $e_1(x) - e_2(x) = o_2(x) - o_1(x)$ where the left side is an even function and the right side is an odd function, so they must both be zero everywhere, except probably at $x = 0$.</p>"
   ]
  },
  {
   "cell_type": "markdown",
   "metadata": {},
   "source": [
    "## Effect of Polarisation - insensitive SLM"
   ]
  },
  {
   "cell_type": "markdown",
   "metadata": {},
   "source": [
    "<p>Suppose we send a beam through a SLM which adds a $x$-dependant phase $\\frac{\\phi}{2}sgn(x)$ to the electric field (global phase does not matter here, by the way. Only relative phase/ difference in phase between top and bottom half being $\\phi$ is what matters.) Then, we are effectively multiplying the old profile $E_{old}(x)$ by $e^{\\iota\\frac{\\phi}{2}sgn(x)}$, to get new profile $E_{new}(x)$. Observe that $e^{\\iota\\frac{\\phi}{2}sgn(x)} = cos(\\frac{\\phi}{2})+ \\iota sgn(x)sin(\\frac{\\phi}{2})$. So, with $E_{old}(x) = e(x)+o(x)$, we can get $E_{new}(x) = (e(x)+o(x))(cos(\\phi/2)+\\iota sgn(x)sin(\\phi/2)) = [cos(\\phi/2)e(x) + \\iota sin(\\phi/2) sgn(x)o(x)] + [cos(\\phi/2)o(x) + \\iota sin(\\phi/2) sgn(x)e(x)]$</p>\n",
    "<p>Observe that the first term in the new expression is even while the second term is odd, which means that they are the new even and odd decomposition (which is unique). We can re-express this as $\\begin{pmatrix}cos(\\phi/2) & \\iota sin(\\phi/2) \\\\ \\iota sin(\\phi/2) & cos(\\phi/2) \\end{pmatrix}\\begin{pmatrix}e_{old} \\\\ o_{old}\\end{pmatrix} = \\begin{pmatrix}e_{new} \\\\ o_{new}\\end{pmatrix}$ to make it look more like the transformation caused by a half wave plate, but for the parity DOF. In particular, observe that if we set $\\phi = \\pi$ then the matrix shown looks like a Pauli $\\sigma_x$ matrix (times the constant $\\iota$)- it swaps the $o$ and $e$ bases."
   ]
  },
  {
   "cell_type": "markdown",
   "metadata": {},
   "source": [
    "## Effect of Mirror"
   ]
  },
  {
   "cell_type": "markdown",
   "metadata": {},
   "source": [
    "<img src= 'Mirror_and_Parity.png'>"
   ]
  },
  {
   "cell_type": "markdown",
   "metadata": {},
   "source": [
    "As you can see in the above image, a mirror will simply exchange the '+' and the '-' direction of x coordinate. So, it will invert (add a -sign to) only the odd parity function but leave the even component unchanged (as well as add an additional (-1) constant factor to both polarisations, as phase change on reflaction). So the corresponding 2D matrix for the transform is $\\begin{pmatrix}-1 & 0 \\\\ 0 & 1\\end{pmatrix} = -\\sigma_z$. One difficulty with using an actual mirror is that the incoming and outgoing beams travel in different directions - which is hard to put into the arm of a Mach-Zehnder interferometer. Instead, we can also use a Dove Prism (trapezoid shape prism) where the beam enters, undergoes TIR and then comes out in the same direction (thus functionally applying same operation to the beam in a more convenient fashion)."
   ]
  },
  {
   "cell_type": "markdown",
   "metadata": {},
   "source": [
    "<img src='Dove_prism.png'>"
   ]
  },
  {
   "cell_type": "markdown",
   "metadata": {},
   "source": [
    "## Calculation of $C(\\theta_a,\\phi_a)$ "
   ]
  },
  {
   "cell_type": "markdown",
   "metadata": {},
   "source": [
    "Idea: We know what each device does to the input light beam (in particular to the Jones vector). Suppose you have an operator $A$ that effectively operates on the Jones vector (equivalent to adding some device in the path of the light). We know that $G = \\langle J^\\dagger J\\rangle$. So the device will operate as $G_{new} = A^\\dagger G_{old}A$. Observe that the operator $A$ for all our devices are time independent, so no issue with time averages. Then normalise the final new $G$ in such a way that $Tr(G_{final}) = 1$. Then the required $P_{He}$ etc are the diagonal elements of the final $G$."
   ]
  },
  {
   "cell_type": "markdown",
   "metadata": {},
   "source": [
    "## To Do\n",
    "1) Check out whether the above expression is actually true/whether it works for the three sample cases we have. Can use SymPy and/or NumPy.linalg (or linalg from scipy) <br>\n",
    "2) Making the final plots -<br>\n",
    " a) Fig 2/3/4 - CHSH measure<br>\n",
    " b) Fig 5 - generate random G values and reproduce<br>\n",
    "3) Documentation/theory<br>\n",
    "4) Quiskit implementation (?!)<br>"
   ]
  }
 ],
 "metadata": {
  "kernelspec": {
   "display_name": "Python 3",
   "language": "python",
   "name": "python3"
  },
  "language_info": {
   "codemirror_mode": {
    "name": "ipython",
    "version": 3
   },
   "file_extension": ".py",
   "mimetype": "text/x-python",
   "name": "python",
   "nbconvert_exporter": "python",
   "pygments_lexer": "ipython3",
   "version": "3.7.3"
  }
 },
 "nbformat": 4,
 "nbformat_minor": 4
}
