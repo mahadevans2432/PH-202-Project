{
 "cells": [
  {
   "cell_type": "markdown",
   "metadata": {},
   "source": [
    "# BELL'S MEASURE IN CLASSICAL OPTICAL COHERENCE"
   ]
  },
  {
   "cell_type": "markdown",
   "metadata": {},
   "source": [
    "## 0. Setting up this notebook\n",
    "Kindly run the cell below to make sure you have all required dependencies"
   ]
  },
  {
   "cell_type": "markdown",
   "metadata": {},
   "source": [
    "### 0.1 Installing and Importing Packages"
   ]
  },
  {
   "cell_type": "code",
   "execution_count": 1,
   "metadata": {},
   "outputs": [
    {
     "name": "stdout",
     "output_type": "stream",
     "text": [
      "Successfully imported packages\n"
     ]
    }
   ],
   "source": [
    "from IPython.display import clear_output,display, Math, Latex\n",
    "!pip install numpy\n",
    "!pip install scipy\n",
    "!pip install matplotlib\n",
    "!pip install sympy\n",
    "!pip install seaborn\n",
    "!pip install qiskit\n",
    "clear_output()\n",
    "import numpy as np\n",
    "import matplotlib.pyplot as plt\n",
    "from matplotlib.widgets import Slider, Button, RadioButtons\n",
    "from ipywidgets import interact, interactive, fixed, interact_manual, Layout\n",
    "import ipywidgets as widgets\n",
    "from mpl_toolkits.mplot3d import axes3d\n",
    "from sympy import *\n",
    "from sympy.physics.quantum.dagger import Dagger\n",
    "from IPython.display import Javascript\n",
    "import seaborn as sns\n",
    "import scipy as sc\n",
    "import sys\n",
    "from qiskit import *\n",
    "from qiskit.compiler import transpile, assemble\n",
    "from qiskit.tools.jupyter import *\n",
    "from qiskit.visualization import *\n",
    "import matplotlib.pyplot as plotter\n",
    "np.set_printoptions(threshold=sys.maxsize)\n",
    "print(\"Successfully imported packages\")"
   ]
  },
  {
   "cell_type": "markdown",
   "metadata": {},
   "source": [
    "#### 0.2 Defining Functions"
   ]
  },
  {
   "cell_type": "code",
   "execution_count": 2,
   "metadata": {},
   "outputs": [],
   "source": [
    "## Function implemented to set axis ticks in multiples of pi in plots.\n",
    "## Function written by Scott Centoni at https://stackoverflow.com/a/53586826\n",
    "\n",
    "\n",
    "def multiple_formatter(denominator=2, number=np.pi, latex='\\pi'):\n",
    "    def gcd(a, b):\n",
    "        while b:\n",
    "            a, b = b, a%b\n",
    "        return a\n",
    "    def _multiple_formatter(x, pos):\n",
    "        den = denominator\n",
    "        num = int(np.rint(den*x/number))\n",
    "        com = gcd(num,den)\n",
    "        (num,den) = (int(num/com),int(den/com))\n",
    "        if den==1:\n",
    "            if num==0:\n",
    "                return r'$0$'\n",
    "            if num==1:\n",
    "                return r'$%s$'%latex\n",
    "            elif num==-1:\n",
    "                return r'$-%s$'%latex\n",
    "            else:\n",
    "                return r'$%s%s$'%(num,latex)\n",
    "        else:\n",
    "            if num==1:\n",
    "                return r'$\\frac{%s}{%s}$'%(latex,den)\n",
    "            elif num==-1:\n",
    "                return r'$\\frac{-%s}{%s}$'%(latex,den)\n",
    "            else:\n",
    "                return r'$\\frac{%s%s}{%s}$'%(num,latex,den)\n",
    "    return _multiple_formatter\n",
    "\n",
    "class Multiple:\n",
    "    def __init__(self, denominator=2, number=np.pi, latex='\\pi'):\n",
    "        self.denominator = denominator\n",
    "        self.number = number\n",
    "        self.latex = latex\n",
    "\n",
    "    def locator(self):\n",
    "        return plt.MultipleLocator(self.number / self.denominator)\n",
    "\n",
    "    def formatter(self):\n",
    "        return plt.FuncFormatter(multiple_formatter(self.denominator, self.number, self.latex))"
   ]
  },
  {
   "cell_type": "code",
   "execution_count": 3,
   "metadata": {},
   "outputs": [],
   "source": [
    "def plotter(x,y,title,xlabel,ylabel,col,label):\n",
    "    num_space,=x.shape\n",
    "    plt.plot(x,y, color=col,linewidth=3, label=label)\n",
    "    plt.title(title, fontsize=15)\n",
    "    plt.xlabel(xlabel, fontsize=15)\n",
    "    plt.ylabel(ylabel, fontsize=15)\n",
    "    plt.xlim(0,2*np.pi)\n",
    "    ax=plt.gca()\n",
    "    ax.set_facecolor('#FFFFCC')\n",
    "    ax.axhline(0, color='black', lw=2)\n",
    "    ax.axvline(0, color='black', lw=2)\n",
    "    ax.xaxis.set_major_locator(plt.MultipleLocator(np.pi / 2))\n",
    "    ax.xaxis.set_minor_locator(plt.MultipleLocator(np.pi / 12))\n",
    "    ax.xaxis.set_major_formatter(plt.FuncFormatter(multiple_formatter()))\n",
    "    plt.xticks(fontsize =15)\n",
    "    plt.yticks(fontsize =15)\n",
    "    return"
   ]
  },
  {
   "cell_type": "code",
   "execution_count": 4,
   "metadata": {},
   "outputs": [],
   "source": [
    "def plotterC(x,y,title,xlabel,ylabel,col,label):\n",
    "    num_space,=x.shape\n",
    "    plt.plot(x,y, color=col,linewidth=3, label=label)\n",
    "    plt.title(title, fontsize=15)\n",
    "    plt.xlabel(xlabel, fontsize=15)\n",
    "    plt.ylabel(ylabel, fontsize=15)\n",
    "    plt.xlim(0,1)\n",
    "    ax=plt.gca()\n",
    "    ax.set_facecolor('#FFFFCC')\n",
    "    ax.axhline(0, color='black', lw=2)\n",
    "    ax.axvline(0, color='black', lw=2)\n",
    "    plt.xticks(fontsize =15)\n",
    "    plt.yticks(fontsize =15)\n",
    "    return"
   ]
  },
  {
   "cell_type": "code",
   "execution_count": 5,
   "metadata": {},
   "outputs": [],
   "source": [
    "def contourplotter(function,phi,title,xlabel,ylabel):\n",
    "    f = lambdify((t,p,ta,pa),function, \"numpy\")\n",
    "    ta_range = np.linspace(0,2*np.pi,1000);\n",
    "    pa_range = np.linspace(0,2*np.pi,1000);\n",
    "    phi_fixed = phi;\n",
    "    X, Y = np.meshgrid(ta_range, pa_range);\n",
    "    def ftemp(ta_val,pa_val):\n",
    "        return f(0,phi_fixed,ta_val,pa_val);\n",
    "    Z = ftemp(X,Y);\n",
    "    fig, ax = plt.subplots(figsize=(7,5.7))\n",
    "    cp = ax.contourf(X, Y, Z ,cmap='turbo');\n",
    "    fig.colorbar(cp) # Add a colorbar to a plot\n",
    "    plt.xlim(0,2*np.pi);\n",
    "    plt.ylim(0,2*np.pi);\n",
    "    ax.axis('equal');\n",
    "\n",
    "    plt.title(title, fontsize=15)\n",
    "    plt.xlabel(xlabel, fontsize=15)\n",
    "    plt.ylabel(ylabel, fontsize=15)\n",
    "    ax=plt.gca()\n",
    "    ax.set_facecolor((0.8,1,1))\n",
    "    ax.axhline(0, color='black', lw=2)\n",
    "    ax.axvline(0, color='black', lw=2)\n",
    "    ax.xaxis.set_major_locator(plt.MultipleLocator(np.pi / 2))\n",
    "    ax.xaxis.set_minor_locator(plt.MultipleLocator(np.pi / 12))\n",
    "    ax.xaxis.set_major_formatter(plt.FuncFormatter(multiple_formatter()))\n",
    "    ax.yaxis.set_major_locator(plt.MultipleLocator(np.pi / 2))\n",
    "    ax.yaxis.set_minor_locator(plt.MultipleLocator(np.pi / 12))\n",
    "    ax.yaxis.set_major_formatter(plt.FuncFormatter(multiple_formatter()))\n",
    "    plt.xticks(fontsize =15)\n",
    "    plt.yticks(fontsize =15)\n",
    "    return"
   ]
  },
  {
   "cell_type": "code",
   "execution_count": 6,
   "metadata": {},
   "outputs": [],
   "source": [
    "def contourplotterC(function,P1,title,xlabel,ylabel):\n",
    "    f = lambdify((P,ta,pa),function, \"numpy\")\n",
    "    ta_range = np.linspace(0,2*np.pi,100);\n",
    "    pa_range = np.linspace(0,2*np.pi,100);\n",
    "    P_fixed = P1;\n",
    "    X, Y = np.meshgrid(ta_range, pa_range);\n",
    "    def ftemp(ta_val,pa_val):\n",
    "        return f(P1,ta_val,pa_val);\n",
    "    Z = ftemp(X,Y);\n",
    "    fig, ax = plt.subplots(figsize=(7,5.7))\n",
    "    cp = ax.contourf(X, Y, Z ,cmap='turbo');\n",
    "    fig.colorbar(cp) # Add a colorbar to a plot\n",
    "    plt.xlim(0,2*np.pi);\n",
    "    plt.ylim(0,2*np.pi);\n",
    "    ax.axis('equal');\n",
    "\n",
    "    plt.title(title, fontsize=15)\n",
    "    plt.xlabel(xlabel, fontsize=15)\n",
    "    plt.ylabel(ylabel, fontsize=15)\n",
    "    ax=plt.gca()\n",
    "    ax.set_facecolor((0.8,1,1))\n",
    "    ax.axhline(0, color='black', lw=2)\n",
    "    ax.axvline(0, color='black', lw=2)\n",
    "    ax.xaxis.set_major_locator(plt.MultipleLocator(np.pi / 2))\n",
    "    ax.xaxis.set_minor_locator(plt.MultipleLocator(np.pi / 12))\n",
    "    ax.xaxis.set_major_formatter(plt.FuncFormatter(multiple_formatter()))\n",
    "    ax.yaxis.set_major_locator(plt.MultipleLocator(np.pi / 2))\n",
    "    ax.yaxis.set_minor_locator(plt.MultipleLocator(np.pi / 12))\n",
    "    ax.yaxis.set_major_formatter(plt.FuncFormatter(multiple_formatter()))\n",
    "    plt.xticks(fontsize =15)\n",
    "    plt.yticks(fontsize =15)\n",
    "    return"
   ]
  },
  {
   "cell_type": "markdown",
   "metadata": {},
   "source": [
    "## Team details and work distrubution\n",
    "1. Aneesh Bapat (Roll no: 190260006)\n",
    "2. Ankan Mukherjee (Roll no: 190260008)\n",
    "3. Mahadevan Subramanian (Roll no: 190260027)\n",
    "4. Priyam Dubey (Roll no: 190260034)"
   ]
  },
  {
   "cell_type": "markdown",
   "metadata": {},
   "source": [
    "## Introduction\n",
    "Bell states or entangled states are a very common idea in the realm of quantum computing. The idea behind a bell state is that the measurement of one qubit is perfectly correlated to the measurement of the other. So while a partial measurement of only one qubit would lead the observer to believe that the state is not pure (the quantum computing equivalent of coherence in optics), the state is infact pure when a correlated measurement of the two qubits is carried out at the same time. This has interesting applications such as quantum teleportation, superdense coding and quantum cryptography. While bell states have been studied thoroughly in the field of quantum computing, there are not many studies that explore the classical analogue of bell states. In this project, we have tried to explore the this topic mainly along the ideas presented in reference [[1](#ref-1)]. \n",
    "<p> The main idea we are trying to explore is that it is possible to couple two degrees of freedom (DOFs) of a beam of light, in the context of our discussion, polarisation and parity, such that when a measurement of only one DOF is made (independent of the other), it is possible for the beam to appear partially coherent or even completely incoherent, while the the beam is infact completely coherent (in the sense that there is nothing 'random' about the beam). This hidden coupling can be made evident by actually performing a correlated bell state measurement between the two DOFs, and also allows us to distinguish true randomness (partial coherence) from entanglement. It is also possible to look at coherence as a resource that can be shared among different DOFs, for example, we can start with a completely unpolarised beam which is parity coherent, and convert it to a beam which is perfectly polarised but parity incoherent. Further, we have tried to explore the relevance of this scheme to a classical implementation of a quantum computer, which can infact be shown to be universal, but is limited in the fact that the scheme is hard to generalise to a large number of qubits. </p> "
   ]
  },
  {
   "cell_type": "markdown",
   "metadata": {},
   "source": [
    "## 1. Polarization & Spatial Parity\n",
    "\n",
    "In the paper [[1](#ref-1)] the experiments which were done were made using of an optical beam model with two binary degrees of freedom, them being polarization and spatial parity along the $x$ direction respectively of a quasi monochromatic source.<br>\n",
    "For the spatial parity, in one dimension the beams are of form $E(x) = E_e\\psi_e(x)+E_o\\psi_o(x)$ where $\\psi_e(x)$ is an even function and $\\psi_o(x) = \\text{sgn}(x)\\psi_e(x)$ hence is an odd function. We give this beam a vector representation called $\\mathbf{J}_\\text{par} = [E_e\\text{ } E_o]^T$. Spatial paritt is manipulated using a spatial light modulator (SLM) which we describe in the experimental apparatus section. Along with the horizontal (H) and vertical components of polarization taken into account we describe the polarization-parity jones vector as $\\mathbf{J} = [E_\\text{He}\\text{ }E_\\text{Ho}\\text{ }E_\\text{Ve}\\text{ }E_\\text{Vo}]^T$.<br>\n",
    "We then describe the properties of this coherence using a $4\\times4$ matrix which is $\\mathbf{G} = \\langle\\mathbf{J}^{*}\\mathbf{J}^\\text{T}\\rangle$. Taking partial trace along $\\mathbf{G}$ would give us either $\\mathbf{G}_\\text{pol}$ or $\\mathbf{G}_\\text{par}$ on taking trace along parity or polarization respectively. We define a degree of polarization/parity using $D_{\\text{pol}}$($D_\\text{par}$) which quantifies the apparent coherence of each DoF when the other DoF is unresolved. Further an overall coherence $S$ is defined using the beam's linear entropy [[2](#ref-2)] as follows.\n",
    "The definition of linear entropy comes from the motivation of von Neumann Entropy. For a quantum mechanical system with a density matrix $\\rho$ this is defined as $S_v = \\text{Tr}(-\\rho\\ln(\\rho)) = -\\langle\\ln(\\rho)\\rangle$. The linear entropy $S_L$ is a lower approximation to $S_v$ which comes from expanding the leading term in the expansion of $\\rho\\ln\\rho$ which becomes $\\rho-\\rho^2$ approximately when $\\rho$ is close to $I$ (using taylor expansion) and taking trace this gives us the definition $S_L = \\text{Tr}(\\rho) - \\text{Tr}(\\rho^2)$ and by definition of the density matrix we have trace of $\\rho$ equal to 1 which gives us $S_L = 1 - \\text{Tr}(\\rho^2)$. This is a non normalized quantity so this is normalized by multiplying it by $\\frac{d}{d-1}$ which here is $4/3$ since our system has four dimensions. The definition of our $\\mathbf{G}$ matrix is isomorphic to the definition of a density matrix of a two qubit system keeping the Jones vector $\\mathbf{J}$ as the state of this two qubit system. Hence we have \n",
    "\\begin{equation}\\label{eq:1.1}\\tag{1.1}S = 1-S_L = 1 - \\frac{4}{3} + \\frac{4}{3}\\text{Tr}(\\mathbf{G}^2) = \\frac{4}{3}\\left(\\text{Tr}\\{\\mathbf{G}^2\\}-\\frac{1}{4}\\right)\\end{equation}\n",
    "We know that for normalized states we have that $\\frac{1}{d}\\leq$ Tr$(\\rho^2) \\leq 1$ and equals one only for a pure state and $1/d$ for completely mixed state. We can similarly draw a parallel here to seeing that $S=1$ happens only for coherent (pure) states and is 0 when completely incoherent. An important note to make here is that applying a unitary matrix $U$ (so $U^{*}U^{T} = I$) which is not time dependent on the Jones vector would not change our value of $S$ since on acting of a unitary we would have $\\mathbf{G}' = U^{*}\\mathbf{G}U^{T}$ and so $\\mathbf{G}'^2 = U^{*}\\mathbf{G}^2U^{T}$ and this has same trace as $\\mathbf{G}^2$ since trace is invariant under unitary transforms.\n",
    "\n",
    "The paper here explores the properties of a beam where these two DoFs are infact coupled or entagled. One can start with a coherent linearly polarized beam at $45^\\circ$ with even polarity which would be $\\mathbf{J} = (1/\\sqrt{2})[\\text{1 0 1 0}]^T$ which can clearly be factored into a direct product of $\\mathbf{J}_{\\text{pol}}\\otimes\\mathbf{J}_\\text{par}$ and so $D_\\text{pol} = D_\\text{par} = 1$. However on passing this beam through a polarization sensitive SLM which introduces a phase of $\\varphi/2\\sin(\\varphi)$ only to the horizontal polarity component and none to the vertical. We can think of this analoguos to a controlled $R_x(\\varphi)$ operation from the polarization qubit to parity qubit which acts when polarization is $|0\\rangle$ (called H here for polarization). This puts the state to an entagled state $\\mathbf{J} = (1/\\sqrt{2})[\\cos(\\varphi/2)\\text{ }\\iota\\sin(\\varphi/2)\\text{ 1 0}]^T$ which is no longer factorizable and shows that the apparant degree of coherence of the individual DoFs are no longer equal to 1 unless $\\varphi=0$ and infact equal zero when $\\varphi=\\pi$. However we know that this state is still coherent on an overall, the only issue is that seeing the partial trace of $\\mathbf{G}$ along the respective DoF provide an incomplete picture of the state hence leading to a conclusion that the coherence is absent. The paper proceeds to make use of the Bell's measure (see [Appendix A](#Appendix-A:-The-EPR-paradox-and-Bell's-inequalities)) to quantify this entaglement which is the cause of this apparent coherence deficit."
   ]
  },
  {
   "cell_type": "markdown",
   "metadata": {},
   "source": [
    "## 2. Experimental Apparatus\n",
    "\n",
    "For the experimental setup, we are using various separate components, which we will comment on one by one before seeing how they are arranged together for the experiment in this paper. We can develop a matrix operator formalism based on how these elements affect the vector $\\mathbf{J} = [E_{He} \\ E_{Ho} \\ E_{Ve} \\ E_{Vo}]^T$. Suppoe we have a device that modifies the Jones vector of a beam in the following way - $\\mathbf{J_{new}} = \\mathbf{A}\\mathbf{J_{old}}$. Then, the corresponding $\\mathbf{G} = \\langle \\mathbf{J^*J^T}\\rangle$ tranforms as $\\mathbf{G_{new} = A^*G_{old}A^T}$. This is because, assuming that the effect of the device, encoded in matrix $\\mathbf{A}$  is time independent, the matrix can just move inside the time average. And as we will see below, for all the devices used in this experiment, their effect is time invariant.\n",
    "\n",
    "\n",
    "## Polarisation only devices\n",
    "\n",
    "### 2.1 Waveplates\n",
    "<p>The first element we will look at is a half-wave plate. Suppose we have a half-wave plate whose axis is inclined at angle $\\theta$ to the $+x$ axis. Then, it will add a phase of $\\pi$ to the component of the amplitude along its axis, with respect to the component perpendicular to the axis. In other words, the component of E field along the axis will be effectively multiplied by $e^{i\\pi} = (-1)$.</p> \n",
    "<p> Suppose the in-going beam is described by a polarisation-only Jones vector $J_{pol} = [E_x \\ E_y]^T$. Then the (complex) amplitude is $E_x\\hat{x} + E_y\\hat{y} = (E_{x}\\cos\\theta + E_y\\sin\\theta)\\hat{\\theta_{\\parallel}} + (E_{x}\\sin\\theta - E_y\\cos\\theta) \\hat{\\theta_{\\perp}}$. So after adding a phase multiplier factor of $e^{i\\pi} = -1$ to the $\\hat{\\theta_{\\parallel}}$ component, the new complex amplitude is $$(-E_{x}\\cos\\theta - E_y\\sin\\theta)\\hat{\\theta_{\\parallel}} +  (E_{x}\\sin\\theta - E_y\\cos\\theta) \\hat{\\theta_{\\perp}} = (\\cos\\theta \\ (-E_{x}\\cos\\theta - E_y\\sin\\theta)+ \\sin\\theta(E_{x}\\sin\\theta - E_y\\cos\\theta))\\hat{x} + (\\sin\\theta \\ (-E_{x}\\cos\\theta - E_y\\sin\\theta)- \\cos\\theta(E_{x}\\sin\\theta - E_y\\cos\\theta))\\hat{y} \\\\ = [E_x(\\sin^2\\theta-\\cos^2\\theta) - E_y(2\\sin\\theta\\cos\\theta) \\qquad{} -E_x(2\\sin\\theta\\cos\\theta)  Ey(\\cos^2\\theta -\\sin^2\\theta)] \\\\ =[-E_x\\cos(2\\theta) - E_y\\sin(2\\theta) \\qquad{} -E_x\\sin(2\\theta)+E_y\\cos(2\\theta)]$$\n",
    "    \n",
    "We can write this more compactly in a 2x2 matrix - \n",
    "$$\\begin{pmatrix}-\\cos(2\\theta) & -\\sin(2\\theta) \\\\ -\\sin(2\\theta) & \\cos(2\\theta)\\end{pmatrix}\\begin{pmatrix}E_x \\\\ E_y\\end{pmatrix}_{old} = \\begin{pmatrix}E_x \\\\ E_y\\end{pmatrix}_{new}$$\n",
    "<p>When we are dealing with our 4 dimensional Jones vector, to generate the corresponding 4x4 HWP operator matrix, we can propose a 4x4 operator matrix. But before we spell it out, a few changes in notation are in order, to follow the same general notation as the paper. </p>\n",
    "<ol>\n",
    "    <li>The physical rotation angle used is $\\frac{\\theta}{4}$ so that the matrix entries are in terms of $\\frac{\\theta}{2}$. This corresponds to a quantum computing operator $R_y(\\theta) \\cdot Z$.</li>\n",
    "    <li>The axis, with respect to which the angle $\\frac{\\theta}{2}$ is to be measured is not specified in the paper. Two reasonable guesses are either the X axis (upwards vertical, as shown in the figure in the paper) or the horizontal axis (-y axis in the paper). In either case, we get the same matrix except with a global phase factor of $e^{i\\pi} = -1$. As we will see shortly, global phases do not affect the final calculation.</li>\n",
    "</ol>\n",
    "Since our Jones vector is $J = J_{pol}\\otimes J_{par}$, and our HWP does not affect the parity DOF at all (in other words, acts like an identity transformation), we can write it as a tensor product - \n",
    "$$A_{HWP}\\left(\\frac{\\theta}{2}\\right) = \\begin{pmatrix}-\\cos(\\theta/2) & -\\sin(\\theta/2) \\\\ -\\sin(\\theta/2) & cos(\\theta/2)\\end{pmatrix}\\otimes\\begin{pmatrix} 1&0 \\\\ 0&1\\end{pmatrix}=\\begin{pmatrix}\n",
    "-\\cos\\frac{\\theta}{2} & 0 & -\\sin\\frac{\\theta}{2} & 0 \\\\ \n",
    "0 &-\\cos\\frac{\\theta}{2}&0&-\\sin\\frac{\\theta}{2} \\\\\n",
    "-\\sin\\frac{\\theta}{2} &0 & \\cos\\frac{\\theta}{2} & 0 \\\\\n",
    "0 & -\\sin\\frac{\\theta}{2} &0 & \\cos\\frac{\\theta}{2}\n",
    "\\end{pmatrix} $$\n",
    "\n",
    "A more generic derivation that accounts for a waveplate of any arbitrary phase, and any arbitrary rotation is given in reference [[9](#ref-9)]\n",
    "\n",
    "### 2.2 Polarising Beam Splitter\n",
    "\n",
    "This is an element that separates out the H and V polarised beams from the input beam. There is no operator matrix associated with it, it simply separates out the two beams, without affecting parity at all. One point to note here - as we describe below, a mirror will add a factor of (-1) to odd modes, so the component which gets reflected will pick up that factor here as well. We can either correct this with a second reflection of that beam from a $45^\\circ$ mirror to correct it or not do anything at all about it (in the experimental setup in the paper seen as a whole, we can see that it won't matter the odd and even beams will be switched, but that is about it.)\n",
    "\n",
    "## Parity Sensitive Devices\n",
    "Most of the discussion for parity sensitive devices is largely based on reference [[10](#ref-10)].\n",
    "\n",
    "### 2.3 Dove Prism\n",
    "<p> We know that a mirror inverts left-right. So if we put an odd beam through the mirror, it will pick up a factor of (-1) from the + and - axes being inverted (i.e. -x being mapped to x). </p>\n",
    "<p> The operator (parity only, polarisation plays no role) associated to a mirror is $$\\begin{pmatrix}-1 & 0 \\\\ 0 & 1\\end{pmatrix}\\begin{pmatrix}e \\\\ o \\end{pmatrix}_{old} = \\begin{pmatrix}e \\\\ o \\end{pmatrix}_{new}$$ An additional -1 factor is added as a global phase, because of the phase change on reflecting.</p>\n",
    "<img width=\"40%\" src='Mirror_and_Parity.png'>\n",
    "One thing about mirrors which is particularly inconvenient is that the incoming and outgoing beam does not travel in the same direction, so we cannot conveniently include a mirror in the arm of a Mach-Zehnder interferometer easily, for example. To make our life simple, we use a dove prism, which is a trapezoid shaped prism, that the light beam enters, undergoes TIR on one surface of it and exits travelling in the same direction as incoming beam. It performs the same matrix operation as a mirror, but is more convenient to use. One aspect to be careful of (that can be easily overcome) is that there is a phase change because the beam travels through the glass/ material of the prism, but that can be easily dealt with by using a compensator cell in the other arm. Aother important aspect of a Dove prism - since the wave incidence medium is denser and the transmission medium is rarer (unlike a regular mirror), there is no addition $\\pi$ phase of reflection, and the operator matrix is simply $$\\begin{pmatrix}1 & 0 \\\\ 0 & -1\\end{pmatrix}\\begin{pmatrix}e \\\\ o \\end{pmatrix}_{old} = \\begin{pmatrix}e \\\\ o \\end{pmatrix}_{new}$$\n",
    "<img width = \"60%\" src='Dove_prism.png'>\n",
    "\n",
    "### 2.4 Mach Zehnder Interferometer\n",
    "<img width = \"60%\" src='MZI.png'><center>A schematic of a MZI, self drawn</center>\n",
    "<p> In this arrangement, the beam splitters are polarisation insensitive, so there is no polarisation discrimination. First let us consider a MZI with no dove prism (and no compensation cell). Suppose the only input beam is given from In1. Then, the left beam suffers two rarer-denser reflections and the same is the case with the right beam, as they come out from Out2. Hence, we have constructive interference at Out2. Whereas, as Out1, the left beam still has same phase (the reflection at exit beam splitter is denser-rarer, so no phase change) while the right beam has one reflection only, so the interference is destructive.</p>\n",
    "<p>With a dove prism in place, the odd mode undergoes one extra inversion in the left path, so its constructive/destructive outputs are now exactly swapped. As a result, if we send in a superposition of odd and even modes into In1, the odd mode comes out from Out1, while the even mode comes out from Out2 (just as if no prism were there). Conversely, if we send in the beam from In2, the odd mode will come out from Out2 and the even mode from Out1.</p>\n",
    "\n",
    "Hence we can think of two uses of this MZI arrangement - \n",
    "<ol> <li> To split a superposed beam into its odd and even components, send this beam in from one of the inputs only and the odd and even parity modes are separated.</li>\n",
    "    <li> If we have a odd parity beam and an even parity beam, we can add them (make a superposed state) by sending in the odd beam in In1, the even beam from In2, and then getting the superposed beam out, from Out1.\n",
    "       </ol>\n",
    "       In the experiment performed in the paper, the authors concern themselves only with the first use.\n",
    "       \n",
    "### 2.5 SLMs and PS-SLMs \n",
    "A SLM is a spatial light modulator. In general, this term refers to any device that modifies the beam in a space dependent fashion. In the context of this experiment, the SLM they use (Hamamatsu X10468-02) is an array of liquid crystal pixels, each of whose refractive index can be controlled independently by applying a voltage, in such a way, that we add a desired phase to the light passing through each pixel, and the phase in each pixel is independent of the others.\n",
    "<p>Suppose we send a beam through a SLM which adds a $x$-dependant phase $\\frac{\\phi}{2}sgn(x)$ to the electric field (global phase does not matter here, by the way. Only relative phase/ difference in phase between top and bottom half being $\\phi$ is what matters.) Then, we are effectively multiplying the old profile $E_{old}(x)$ by $e^{\\iota\\frac{\\phi}{2}sgn(x)}$, to get new profile $E_{new}(x)$. Observe that $e^{\\iota\\frac{\\phi}{2}sgn(x)} = cos(\\frac{\\phi}{2})+ \\iota sgn(x)sin(\\frac{\\phi}{2})$. So, with $E_{old}(x) = e(x)+o(x)$, we can get $E_{new}(x) = (e(x)+o(x))(cos(\\phi/2)+\\iota sgn(x)sin(\\phi/2)) = [cos(\\phi/2)e(x) + \\iota sin(\\phi/2) sgn(x)o(x)] + [cos(\\phi/2)o(x) + \\iota sin(\\phi/2) sgn(x)e(x)]$. </p>\n",
    "<p>Observe that the first term in the new expression is even while the second term is odd, which means that they are the new even and odd decomposition (which is unique). We can re-express this as $\\begin{pmatrix}cos(\\phi/2) & \\iota sin(\\phi/2) \\\\ \\iota sin(\\phi/2) & cos(\\phi/2) \\end{pmatrix}\\begin{pmatrix}e_{old} \\\\ o_{old}\\end{pmatrix} = \\begin{pmatrix}e_{new} \\\\ o_{new}\\end{pmatrix}$ to make it look more like the transformation caused by a half wave plate, but for the parity DOF. In particular, observe that if we set $\\phi = \\pi$ then the matrix shown looks like a Pauli $\\sigma_x$ matrix (times the constant $\\iota$)- it swaps the $o$ and $e$ bases.\n",
    "\n",
    "Further, to obtain the 4x4 transformation matrix, we again do a tensor product - \n",
    "$$A_{par}\\left(\\frac{\\phi}{2}\\right) = \\begin{pmatrix}1 & 0 \\\\ 0 & 1\\end{pmatrix}\\otimes\\begin{pmatrix} \\cos(\\phi/2)&i\\sin(\\phi/2) \\\\ i\\sin(\\phi/2) &\\cos(\\phi/2)\\end{pmatrix}=\\begin{pmatrix}\n",
    "\\cos(\\phi/2)&i\\sin(\\phi/2) & 0& 0\\\\ i\\sin(\\phi/2) &\\cos(\\phi/2) &0 & 0\\\\\n",
    "0&0&\\cos(\\phi/2)&i\\sin(\\phi/2) \\\\ 0&0&i\\sin(\\phi/2) &\\cos(\\phi/2)\n",
    "\\end{pmatrix} $$\n",
    "\n",
    "Again, the rationale is that since there is no polarisation effect, that part of the first matrix is identity.\n",
    "\n",
    "The liquid crystals can be acted on by a electric field in two directions, so that the refractive index of a single pixel itself is non-isotropic. This leads to polarisation-sensitive behaviour of the pixels. For example, if we take a SLM that adds a phase of $\\frac{\\phi}{2}sgn(x)$ only to the H-polarisation while leaving the V polarisation unchanged. In this case, we can simply modify the above operator matrix to look like $$A_{PS-SLM}\\left(\\frac{\\phi}{2}\\right) =\\begin{pmatrix}\n",
    "\\cos(\\phi/2)&i\\sin(\\phi/2) & 0& 0\\\\ i\\sin(\\phi/2) &\\cos(\\phi/2) &0 & 0\\\\\n",
    "0&0&1&0 \\\\ 0&0&0 &1\n",
    "\\end{pmatrix} $$"
   ]
  },
  {
   "cell_type": "markdown",
   "metadata": {},
   "source": [
    "### General Observations About the operator matrices\n",
    "We can see the following properties about the matrix formalism we have developed.\n",
    "<ol><li> The matrix (operator) for any device is unique only up to global phase. In particular, the phase will depend on the optical path length (refractive index $\\times$ physical path length) within the device, and can always be corrected by using an appropriate compensator cell. But note that all these different-phase $A$ matrices will still lead to the same value of $G_{out} = A^*G_{in}A^T$, because if $A_1 = A_2e^{\\iota \\psi}$, then $G_1 = (e^{-\\iota \\psi}A_2^*)G_{in}(e^{\\iota \\psi}A_2^T) = A_2^*G_{in}A_2^T = G_2$</li>\n",
    "    <li> The matrices are all unitary. $AA^\\dagger = A^\\dagger A = \\mathbb{I}$. This is expected, because if we take a completely incoherent beam in phase as well as parity, then no device will be able to change it, and the $G$ matrix for a completely incoherent mode is a scalar multiple of identity.</li>\n",
    "    <li> The matrices corresponding to a rotated HWP and to a polarisation-insensitive SLM commute. This is expected because each of these devices is expected to modify only one DOF.</li>\n",
    "    </ol>"
   ]
  },
  {
   "cell_type": "code",
   "execution_count": 7,
   "metadata": {},
   "outputs": [],
   "source": [
    "P,t,p,ta,pa = symbols('P theta varphi theta_a varphi_a',real=True)\n",
    "A_HWP = Matrix([[-cos(ta/2),0,-sin(ta/2),0],[0,-cos(ta/2),0,-sin(ta/2)],[-sin(ta/2),0,cos(ta/2),0],\n",
    "              [0,-sin(ta/2),0,cos(ta/2)]])\n",
    "A_SLM = Matrix([[cos(pa/2),I*sin(pa/2),0,0],[I*sin(pa/2),cos(pa/2),0,0],[0,0,cos(pa/2),I*sin(pa/2)],\n",
    "             [0,0,I*sin(pa/2),cos(pa/2)]])\n",
    "A_PSSLM = Matrix([[cos(pa/2),I*sin(pa/2),0,0],[I*sin(pa/2),cos(pa/2),0,0],[0,0,1,0],\n",
    "             [0,0,0,1]]) "
   ]
  },
  {
   "cell_type": "code",
   "execution_count": 8,
   "metadata": {},
   "outputs": [
    {
     "data": {
      "text/latex": [
       "$\\displaystyle \\left[\\begin{matrix}1 & 0 & 0 & 0\\\\0 & 1 & 0 & 0\\\\0 & 0 & 1 & 0\\\\0 & 0 & 0 & 1\\end{matrix}\\right]$"
      ],
      "text/plain": [
       "Matrix([\n",
       "[1, 0, 0, 0],\n",
       "[0, 1, 0, 0],\n",
       "[0, 0, 1, 0],\n",
       "[0, 0, 0, 1]])"
      ]
     },
     "execution_count": 8,
     "metadata": {},
     "output_type": "execute_result"
    }
   ],
   "source": [
    "trigsimp(A_SLM*conjugate(A_SLM.T)) #A_SLM is unitary"
   ]
  },
  {
   "cell_type": "code",
   "execution_count": 9,
   "metadata": {},
   "outputs": [
    {
     "data": {
      "text/latex": [
       "$\\displaystyle \\left[\\begin{matrix}1 & 0 & 0 & 0\\\\0 & 1 & 0 & 0\\\\0 & 0 & 1 & 0\\\\0 & 0 & 0 & 1\\end{matrix}\\right]$"
      ],
      "text/plain": [
       "Matrix([\n",
       "[1, 0, 0, 0],\n",
       "[0, 1, 0, 0],\n",
       "[0, 0, 1, 0],\n",
       "[0, 0, 0, 1]])"
      ]
     },
     "execution_count": 9,
     "metadata": {},
     "output_type": "execute_result"
    }
   ],
   "source": [
    "trigsimp(A_PSSLM*conjugate(A_PSSLM.T)) #A_PSSLM is unitary"
   ]
  },
  {
   "cell_type": "code",
   "execution_count": 10,
   "metadata": {},
   "outputs": [
    {
     "data": {
      "text/latex": [
       "$\\displaystyle \\left[\\begin{matrix}1 & 0 & 0 & 0\\\\0 & 1 & 0 & 0\\\\0 & 0 & 1 & 0\\\\0 & 0 & 0 & 1\\end{matrix}\\right]$"
      ],
      "text/plain": [
       "Matrix([\n",
       "[1, 0, 0, 0],\n",
       "[0, 1, 0, 0],\n",
       "[0, 0, 1, 0],\n",
       "[0, 0, 0, 1]])"
      ]
     },
     "execution_count": 10,
     "metadata": {},
     "output_type": "execute_result"
    }
   ],
   "source": [
    "trigsimp(A_HWP*conjugate(A_HWP.T)) #A_HWP is unitary"
   ]
  },
  {
   "cell_type": "code",
   "execution_count": 11,
   "metadata": {},
   "outputs": [
    {
     "data": {
      "text/latex": [
       "$\\displaystyle \\left[\\begin{matrix}0 & 0 & 0 & 0\\\\0 & 0 & 0 & 0\\\\0 & 0 & 0 & 0\\\\0 & 0 & 0 & 0\\end{matrix}\\right]$"
      ],
      "text/plain": [
       "Matrix([\n",
       "[0, 0, 0, 0],\n",
       "[0, 0, 0, 0],\n",
       "[0, 0, 0, 0],\n",
       "[0, 0, 0, 0]])"
      ]
     },
     "execution_count": 11,
     "metadata": {},
     "output_type": "execute_result"
    }
   ],
   "source": [
    "trigsimp(A_HWP*A_SLM - A_SLM*A_HWP) #A_SLM and A_HWP commute"
   ]
  },
  {
   "cell_type": "markdown",
   "metadata": {},
   "source": [
    "## Proposal for a Parity-Sensitive Polarisation Modifier\n",
    "In the main paper [[1](#ref-1)], one of the loose ends that the authors do not seem to have addressed is that polarity seems to have a special place in this qubits scheme, in the sense that controlled gates can be made only with polarity as a control qubit (no parity controlled gates/devices are proposed). Here, we wish to present the design of a parity controlled device, that can be used to implement the controlled version of any possible (ordinarily) parity-insensitive device. \n",
    "<p>The main idea is to use the second use of the MZI. Suppose you are given an input beam and you want to perform a controlled-HWP operation on that (we have already seen uncontrolled HWP earlier). Then, the idea is to split up the input beam into the odd and even components with an MZI and then recombine them with a second MZI. In this way, a parity-controlled operation can be performed. The below image shows a schematic for a parity-sensitive HWP.</p>\n",
    "<img width = \"40%\" src='Parity_sensitive_HWP.png'>\n",
    "<p> An important use of this idea will be to bring the line of thought presented in the paper to a logical conclusion - suppose we start with a purely even mode but completely unpolarised beam. Then, by coupling the parity to the polarisation, we can generate a coupled-DOF beam. To convert this beam to a completely polarised, parity-incoherent beam, we would need to implement a parity-controlled polarisation operation, which this section proposes a theoretical solution to accomplishing. One major issue still here, is that stacking two MZI's could be a challenge, in view of the difficulty of alignment.This might be fixable by using waveguides </p>\n",
    "<p> Note that in the above drawn diagram, there should be an appropriate compensator cell in the upper arm which compensates for the phase added to the slow polarisation by the HWP.</p>"
   ]
  },
  {
   "cell_type": "markdown",
   "metadata": {},
   "source": [
    "## 3. Polarization and Spatial Parity analysis\n",
    "### 3.1 The correlation function\n",
    "We will now proceed to define a normalized correlation function $C(\\theta_a,\\phi_a)$ which we will use for defining our bell's measure $B$. The analyzing done in the paper does so with the following experimental setup shown below (images taken from [[1](#ref-1)])\n",
    "<table>\n",
    "    <tr>\n",
    "        <td><img width=\"90%\"src=\"fig1b-og.png\"/><center><b>Fig: 3.1</b></center></td>\n",
    "        <td><img width=\"90%\"src=\"fig1c-og.png\"/><center><b>Fig: 3.2</b></center></td>\n",
    "    </tr>\n",
    "</table>\n",
    "[Section 2](#2.-Experimental-Apparatus) explains the functioning principle for each of the apparatus in the above figure. What the setup essentially does in fig: 3.1.1 is for analyzing the DoFs seperately. The polarization is analyzed in a linear basis rotated by $\\theta_a$ by action of the half wave plate and similarly the parity is analyzed by analyzing over a basis rotated by $\\varphi_a$. The measured intensities are normalized and kept as probabilities in a way that $P_H + P_V = P_o + P_e = 1$. In fig: 3.2 combined polarization-parity measurements are done by essentially using the setup of fig: 3.1 but by concatenating the different DoF analysis stages. If we call the input coherency matrix as $\\mathbf{G}_{in}$ then the resulting coherency matrix after the transformations on which measurement is being done is \n",
    "\\begin{equation}\\label{eq:3.1}\\tag{3.1}\\mathbf{G}_{out} = A_{SLM}^*A_{HWP}^*\\mathbf{G}_{in}A_{HWP}^TA_{SLM}^T\\end{equation}\n",
    "As already shown in section 1, our definition of overall coherence in eq: 1.1 is invariant under applying these unitaries on the state. The following is the definition we give to the correlation function in the equation below. Symmetric values are assignmed to the coefficeints $c_\\text{pol} = \\pm1$ ($c_\\text{par} = \\pm1$) to the dichotomic H (e) and V (o) probability outcomes. \n",
    "\\begin{equation}\\label{eq:3.2}\\tag{3.2}C(\\theta_a,\\varphi_a) = \\sum c_\\text{pol}c_\\text{par}P_\\text{pol,par} = P_\\text{He} - P_\\text{H0} - P_\\text{Ve} + P_\\text{Vo}\\end{equation}\n",
    "For the uncoupled case this can be factorized into $C(\\theta_1,\\varphi_a) = C_\\text{pol}(\\theta_a)C_\\text{par}(\\phi_a)$ and here we would have $C_\\text{pol}(\\theta_a) = P_H - P_V$ and $C_\\text{par} = P_e - P_o$. Proceeding this they use th CSHS formulation of the Bell's measure (see Appendix A) to write \n",
    "\\begin{equation}\\label{eq:3.3}\\tag{3.3}B = |C(\\theta_a,\\varphi_a) + C(\\theta_a,\\varphi_a') + C(\\theta_a',\\varphi_a) - C(\\theta_a',\\varphi_a')|\\end{equation}\n",
    "Now we have an upper bound on $B_{max}$ which is the maximum value this measure takes over these four variables and this is what the paper from this point refers to as the Bell's measure. This bound is called the Tsirelon's bound and is $B_{max}\\leq 2\\sqrt{2}$ and in the classical case (where all observables commute) it is actually bounded above by 2.\n",
    "\n",
    "We will now prove that any coherent beam has $D_\\text{pol} = D_\\text{par}$. Any coherent beam here would be isomorphic to a pure two qubit state. For pure states, if the state is $|\\psi\\rangle$, then the density matrix is $\\rho = |\\psi\\rangle\\langle\\psi|$. We can represent this in a Schmidt form where $|\\psi\\rangle = \\sum_ig_i|u_i\\rangle\\otimes|v_i\\rangle$ which can be done for any arbitrary pure state so for the 4 dimensional Jones vector here we only have two variables and so without loss of generality we can choose to write our jones vector as $\\mathbf{J} = [\\mu_1\\text{ 0 0 }\\mu_2]^T$ and for this state we would have that\n",
    "\\begin{equation}\\label{eq:3.4}\\tag{3.4}\\mathbf{G}_\\text{pol} = \\mathbf{G}_\\text{par} = \\begin{pmatrix}\\mu_1^2 & 0\\\\0 & \\mu_2^2\\end{pmatrix}\\end{equation}\n",
    "This leads to $D_\\text{pol} = D_\\text{par} = |\\mu_1^2-\\mu_2^2|$ which is essentially the difference the eigenvalues of the respective matrix. Note that the above equation would be true in the basis where we can write the Schmidt decomposition of the Jones vector but since this is a coherent state this basis can be reached by applying unitaries that do not do any coupling. Also for coherent beams the paper claims that we would have $4D_\\text{par}^2+B_{max}^2 = 4D_\\text{pol}^2+B_{max}^2 = 8$ which becomes $4D_\\text{pol}^2+B_{max}^2\\leq 8$ and $4D_\\text{par}^2+B_{max}^2\\leq 8$ for partially coherent beams hence they define a new degree of coherence reffered to as the partial degree of coherence\n",
    "\\begin{equation}S_\\text{pol} = \\dfrac{D_\\text{pol}^2}{2} + \\left(\\dfrac{B_{max}}{2\\sqrt{2}}\\right)^2\\text{, }S_\\text{par} = \\dfrac{D_\\text{par}^2}{2} + \\left(\\dfrac{B_{max}}{2\\sqrt{2}}\\right)^2\\end{equation}\n",
    "One important thing to note is that the accessible degrees of coherence written above are invariant under unitary coupling between the two DoFs. We can see this as a sort of sharing of coherence between apparent coherence of an individual DoF ($D_\\text{pol}$ and $D_\\text{par}$) and the coupling between them ($B_{max}$). For a fully coherent beam we will always have $S = S_\\text{pol} = S_\\text{par} = 1$ regardless of coupling between the DoFs. This also demostrates how we can make coherence essentially migrate from form of coupling to apparent coherence of individual DoFs by simply using unitary transforms.\n"
   ]
  },
  {
   "cell_type": "markdown",
   "metadata": {},
   "source": [
    "## 4. Experimental results and derivations\n",
    "The paper [[1](#ref-1)] describes three experiments A, B and C. Here we will derive the theoretical expressions they use for fitting their data using the SymPy package."
   ]
  },
  {
   "cell_type": "code",
   "execution_count": 12,
   "metadata": {},
   "outputs": [],
   "source": [
    "def trace_G(G): #A trace function for just 4x4 G matrices\n",
    "    return simplify(G[0,0] + G[1,1] + G[2,2] + G[3,3])\n",
    "def corr_prob(G): #Returns the value I_He - I_Ho - I_Ve +I_Vo from given G matrix\n",
    "    return simplify(G[0,0] - G[1,1] - G[2,2] + G[3,3])\n",
    "\n",
    "def par_tr_G_pol(G): #returns the partial trace of G for giving G_pol\n",
    "    return simplify(Matrix([[G[0,0]+G[1,1],G[0,2]+G[1,3]],[G[2,0]+G[3,1],G[2,2]+G[3,3]]]))\n",
    "\n",
    "def par_tr_G_par(G): #returns the partial trace of G for giving G_par\n",
    "    return Matrix([[G[0,0]+G[2,2],G[0,1]+G[2,3]],[G[1,0]+G[3,2],G[1,1]+G[3,3]]])\n",
    "\n",
    "def app_coh(G): #Returns apparent degree of coherence for a 2x2 G matrix\n",
    "    return simplify(sqrt(1-4*simplify(Determinant(G))/(simplify(Trace(G))**2)))\n",
    "\n",
    "def norm_grad(B,syms):\n",
    "    c = 0\n",
    "    for i in syms:\n",
    "        c += simplify(B.diff(i)**2)\n",
    "    return simplify(c)"
   ]
  },
  {
   "cell_type": "markdown",
   "metadata": {},
   "source": [
    "#### Methods for Calculating Values of $D_{pol}$, $D_{par}$, $B_{max}$, $S_{pol}$ and $S_{par}$"
   ]
  },
  {
   "cell_type": "code",
   "execution_count": 13,
   "metadata": {},
   "outputs": [],
   "source": [
    "def bmaxfinder(C_ta_pa,x):\n",
    "    tb,pb = symbols('theta_b varphi_b',real=True)\n",
    "    B = C_ta_pa + C_ta_pa.xreplace({ta:tb}) + C_ta_pa.xreplace({pa:pb}) - C_ta_pa.xreplace({ta:tb,pa:pb})\n",
    "    b = lambdify((ta,pa,tb,pb,p),B, \"numpy\")\n",
    "    bmax=[-1*(sc.optimize.minimize(lambda params: -1*abs(b(params[0],params[1],params[2],params[3],i)), [0,0,0,0], method = 'L-BFGS-B').fun) for i in x]\n",
    "    bmax=np.around(bmax,decimals=5)\n",
    "    return bmax"
   ]
  },
  {
   "cell_type": "code",
   "execution_count": 14,
   "metadata": {},
   "outputs": [],
   "source": [
    "def bmaxfinderC(C_ta_pa,x):\n",
    "    tb,pb = symbols('theta_b varphi_b',real=True)\n",
    "    B = abs(C_ta_pa + C_ta_pa.xreplace({ta:tb}) + C_ta_pa.xreplace({pa:pb}) - C_ta_pa.xreplace({ta:tb,pa:pb}))\n",
    "    b = lambdify((ta,pa,tb,pb,P),B, \"numpy\")\n",
    "    bmax=[-1*(sc.optimize.minimize(lambda params: -1*abs(b(params[0],params[1],params[2],params[3],i)), [0,0,0,0], method = 'L-BFGS-B').fun) for i in x]\n",
    "    bmax=np.around(bmax,decimals=5)\n",
    "    return bmax"
   ]
  },
  {
   "cell_type": "code",
   "execution_count": 15,
   "metadata": {},
   "outputs": [],
   "source": [
    "def dfinder(D,x):\n",
    "    d=lambdify(p,D,\"numpy\")\n",
    "    d_final=[d(i) for i in x]\n",
    "    return d_final"
   ]
  },
  {
   "cell_type": "code",
   "execution_count": 16,
   "metadata": {},
   "outputs": [],
   "source": [
    "def dfinderC(D,x):\n",
    "    d=lambdify(P,D,\"numpy\")\n",
    "    d_final=[d(i) for i in x]\n",
    "    return d_final"
   ]
  },
  {
   "cell_type": "code",
   "execution_count": 17,
   "metadata": {},
   "outputs": [],
   "source": [
    "def sfinder(d,bmax):   \n",
    "    return np.around(np.square(d)/2+np.square(bmax)/8,decimals=5)"
   ]
  },
  {
   "cell_type": "markdown",
   "metadata": {},
   "source": [
    "### 4.1 Experiment A\n",
    "Here the field is competely coherent and we start with the Jones vector in state $\\mathbf{J} = (1/\\sqrt{2})[\\cos(\\varphi/2)\\text{ }\\iota\\sin(\\varphi/2)\\text{ 1 0}]^T$ which is reached by applying the PS-SLM on the input state of $\\mathbf{J}_{in} = (1/\\sqrt{2})[\\text{1 0 1 0}]^T$. On this we then apply the rotation of basis by $\\theta_a$ for polarization and of $\\varphi_a$ for parity and then conduct measurements of each component. Based on our previous definitions we now derive the correlation function for this experiment."
   ]
  },
  {
   "cell_type": "code",
   "execution_count": 18,
   "metadata": {
    "scrolled": true
   },
   "outputs": [
    {
     "data": {
      "text/latex": [
       "$\\displaystyle \\left[\\begin{matrix}0.5 \\cos^{2}{\\left(\\frac{\\varphi}{2} \\right)} & 0.25 i \\sin{\\left(\\varphi \\right)} & 0.5 \\cos{\\left(\\frac{\\varphi}{2} \\right)} & 0\\\\- 0.25 i \\sin{\\left(\\varphi \\right)} & 0.5 \\sin^{2}{\\left(\\frac{\\varphi}{2} \\right)} & - 0.5 i \\sin{\\left(\\frac{\\varphi}{2} \\right)} & 0\\\\0.5 \\cos{\\left(\\frac{\\varphi}{2} \\right)} & 0.5 i \\sin{\\left(\\frac{\\varphi}{2} \\right)} & 0.5 & 0\\\\0 & 0 & 0 & 0\\end{matrix}\\right]$"
      ],
      "text/plain": [
       "Matrix([\n",
       "[0.5*cos(varphi/2)**2,   0.25*I*sin(varphi),    0.5*cos(varphi/2), 0],\n",
       "[ -0.25*I*sin(varphi), 0.5*sin(varphi/2)**2, -0.5*I*sin(varphi/2), 0],\n",
       "[   0.5*cos(varphi/2),  0.5*I*sin(varphi/2),                  0.5, 0],\n",
       "[                   0,                    0,                    0, 0]])"
      ]
     },
     "execution_count": 18,
     "metadata": {},
     "output_type": "execute_result"
    }
   ],
   "source": [
    "J = sqrt(1/2)*Matrix([cos(p/2),I*sin(p/2),1,0])\n",
    "G_A = trigsimp(conjugate(J)*J.T)\n",
    "G_A #The input beam G matrix before the transformations"
   ]
  },
  {
   "cell_type": "markdown",
   "metadata": {},
   "source": [
    "#### Calculation of $D_{pol}$ and $D_{par}$"
   ]
  },
  {
   "cell_type": "code",
   "execution_count": 19,
   "metadata": {},
   "outputs": [
    {
     "data": {
      "text/latex": [
       "$\\displaystyle \\left[\\begin{matrix}0.5 & 0.5 \\cos{\\left(\\frac{\\varphi}{2} \\right)}\\\\0.5 \\cos{\\left(\\frac{\\varphi}{2} \\right)} & 0.5\\end{matrix}\\right]$"
      ],
      "text/plain": [
       "Matrix([\n",
       "[              0.5, 0.5*cos(varphi/2)],\n",
       "[0.5*cos(varphi/2),               0.5]])"
      ]
     },
     "execution_count": 19,
     "metadata": {},
     "output_type": "execute_result"
    }
   ],
   "source": [
    "G_pol_A = par_tr_G_pol(G_A)\n",
    "G_pol_A"
   ]
  },
  {
   "cell_type": "code",
   "execution_count": 20,
   "metadata": {
    "scrolled": true
   },
   "outputs": [
    {
     "data": {
      "text/latex": [
       "$\\displaystyle \\left[\\begin{matrix}0.5 \\cos^{2}{\\left(\\frac{\\varphi}{2} \\right)} + 0.5 & 0.25 i \\sin{\\left(\\varphi \\right)}\\\\- 0.25 i \\sin{\\left(\\varphi \\right)} & 0.5 \\sin^{2}{\\left(\\frac{\\varphi}{2} \\right)}\\end{matrix}\\right]$"
      ],
      "text/plain": [
       "Matrix([\n",
       "[0.5*cos(varphi/2)**2 + 0.5,   0.25*I*sin(varphi)],\n",
       "[       -0.25*I*sin(varphi), 0.5*sin(varphi/2)**2]])"
      ]
     },
     "execution_count": 20,
     "metadata": {},
     "output_type": "execute_result"
    }
   ],
   "source": [
    "G_par_A = par_tr_G_par(G_A)\n",
    "G_par_A"
   ]
  },
  {
   "cell_type": "code",
   "execution_count": 21,
   "metadata": {
    "scrolled": true
   },
   "outputs": [
    {
     "data": {
      "text/latex": [
       "$\\displaystyle 1.0 \\left|{\\cos{\\left(\\frac{\\varphi}{2} \\right)}}\\right|$"
      ],
      "text/plain": [
       "1.0*Abs(cos(varphi/2))"
      ]
     },
     "execution_count": 21,
     "metadata": {},
     "output_type": "execute_result"
    }
   ],
   "source": [
    "D_pol_A=app_coh(G_pol_A)\n",
    "D_pol_A# Prints D_pol"
   ]
  },
  {
   "cell_type": "code",
   "execution_count": 22,
   "metadata": {
    "scrolled": true
   },
   "outputs": [
    {
     "data": {
      "text/latex": [
       "$\\displaystyle 0.707106781186548 \\sqrt{\\cos{\\left(\\varphi \\right)} + 1}$"
      ],
      "text/plain": [
       "0.707106781186548*sqrt(cos(varphi) + 1)"
      ]
     },
     "execution_count": 22,
     "metadata": {},
     "output_type": "execute_result"
    }
   ],
   "source": [
    "D_par_A=app_coh(G_par_A)\n",
    "D_par_A# Prints D_par"
   ]
  },
  {
   "cell_type": "markdown",
   "metadata": {},
   "source": [
    "#### Calculation of the Correlation Function and $B_{max}$"
   ]
  },
  {
   "cell_type": "code",
   "execution_count": 23,
   "metadata": {},
   "outputs": [
    {
     "data": {
      "text/latex": [
       "$\\displaystyle 1.0 \\sin{\\left(\\theta_{a} \\right)} \\cos{\\left(\\frac{\\varphi}{2} + \\varphi_{a} \\right)} - 0.5 \\cos{\\left(\\theta_{a} \\right)} \\cos{\\left(\\varphi_{a} \\right)} + 0.5 \\cos{\\left(\\theta_{a} \\right)} \\cos{\\left(\\varphi + \\varphi_{a} \\right)}$"
      ],
      "text/plain": [
       "1.0*sin(theta_a)*cos(varphi/2 + varphi_a) - 0.5*cos(theta_a)*cos(varphi_a) + 0.5*cos(theta_a)*cos(varphi + varphi_a)"
      ]
     },
     "execution_count": 23,
     "metadata": {},
     "output_type": "execute_result"
    }
   ],
   "source": [
    "G_out_A = conjugate(A_SLM)*conjugate(A_HWP)*G_A*A_HWP.T*A_SLM.T #Transformed matrix\n",
    "C_ta_pa_A = trigsimp(corr_prob(G_out_A)/trace_G(G_out_A))\n",
    "C_ta_pa_A"
   ]
  },
  {
   "cell_type": "markdown",
   "metadata": {},
   "source": [
    "As we can see from above this does not actually match the expression provided in [[1](#ref-1)]. While this initially baffled us we came to a conclusion that this expression is infact correct as per the aim of the paper. Moreover this actually reproduces the experimental results they obtained while in contrast their correlation function fails to do it as well. Also the optimized Bmax values fit with the relation which the paper claims if our correlation function is used instead of theirs.\n",
    "The optimization procedure that we chose to go ahead with is just normal numerical optimization since otherwise we would have had to make the gradient zero and run through all possible cases where the gradient vanishes which would have been a lengthy procedure."
   ]
  },
  {
   "cell_type": "markdown",
   "metadata": {},
   "source": [
    "#### GRAPHS FOR EXPERIMENT A"
   ]
  },
  {
   "cell_type": "code",
   "execution_count": 24,
   "metadata": {},
   "outputs": [
    {
     "data": {
      "application/vnd.jupyter.widget-view+json": {
       "model_id": "4467a01812a44899b64a8b97ab7c7e6b",
       "version_major": 2,
       "version_minor": 0
      },
      "text/plain": [
       "interactive(children=(Dropdown(description='option', options=('Hide All', 'D', 'B', 'S', 'Show All'), value='H…"
      ]
     },
     "metadata": {},
     "output_type": "display_data"
    }
   ],
   "source": [
    "def expAPlots(option):\n",
    "    num_space=102\n",
    "    phi=np.linspace(0, 2*np.pi, num_space)\n",
    "    bmax=bmaxfinder(C_ta_pa_A,phi)\n",
    "    dpol=dfinder(D_pol_A,phi)\n",
    "    dpar=dfinder(D_par_A,phi)\n",
    "    spol=sfinder(dpol,bmax)\n",
    "    spar=sfinder(dpar,bmax)\n",
    "    d=dpol\n",
    "    s=spol\n",
    "    \n",
    "    if option!='Hide All':        \n",
    "    \n",
    "        if option=='B':            \n",
    "            fig, ax = plt.subplots(figsize=(7, 7))\n",
    "            plotter(phi,bmax,r'$B_{max}$',r'$\\phi$',r'$B_{max}$',(1,0,0),r'$B_{max}$')\n",
    "            plt.plot(phi,[8**(0.5)]*num_space,color='black', linestyle ='dashed')\n",
    "            plt.plot(phi,[2]*num_space,color='black', linestyle ='dashed')\n",
    "            plt.figtext(s=r'$2\\sqrt{2}$', x=0.15, y=0.77, fontsize=15)\n",
    "            plt.figtext(s=r'$2$', x=0.15, y=0.48, fontsize=15)\n",
    "            plt.ylim(1,3)\n",
    "            plt.show()\n",
    "            \n",
    "        elif option=='S':\n",
    "            fig, ax = plt.subplots(figsize=(7, 7))\n",
    "            plotter(phi,spol,r'$S_{pol}=S_{par}=1$',r'$\\phi$',r'$S_{pol}\\ \\slash\\ S_{par}$',(1,0,0),r'$s_{pol}$')\n",
    "            plotter(phi,spar,r'$S_{pol}=S_{par}=1$',r'$\\phi$',r'$S_{pol}\\ \\slash\\ S_{par}$',(0,0,1),r'$s_{par}$')\n",
    "            plt.ylim(0,1.1) \n",
    "            plt.legend()\n",
    "            plt.show()\n",
    "            \n",
    "        elif option=='D':         \n",
    "            fig, ax = plt.subplots(figsize=(7, 7))\n",
    "            plotter(phi,dpol,r'$D_{pol}\\ and\\ D_{par}$',r'$\\phi$',r'$D_{pol}\\ \\slash\\ D_{par}$',(1,0,0),r'$d_{pol}$')\n",
    "            plotter(phi,dpar,r'$D_{pol}\\ and\\ D_{par}$',r'$\\phi$',r'$D_{pol}\\ \\slash\\ D_{par}$',(0,0,1),r'$d_{pol}$')\n",
    "            plt.ylim(0,1.1)\n",
    "            plt.legend()\n",
    "            plt.show()\n",
    "            \n",
    "        else:\n",
    "            fig, ax = plt.subplots(figsize=(7, 7))\n",
    "            plotter(phi,dpol,r'$D_{pol}\\ and\\ D_{par}$',r'$\\phi$',r'$D_{pol}\\ \\slash\\ D_{par}$',(1,0,0),r'$d_{pol}$')\n",
    "            plotter(phi,dpar,r'$D_{pol}\\ and\\ D_{par}$',r'$\\phi$',r'$D_{pol}\\ \\slash\\ D_{par}$',(0,0,1),r'$d_{pol}$')\n",
    "            plt.ylim(0,1.1)\n",
    "            plt.legend()\n",
    "            plt.show()\n",
    "            fig, ax = plt.subplots(figsize=(7, 7))\n",
    "            plotter(phi,bmax,r'$B_{max}$',r'$\\phi$',r'$B_{max}$',(1,0,0),r'$B_{max}$')\n",
    "            plt.plot(phi,[8**(0.5)]*num_space,color='black', linestyle ='dashed')\n",
    "            plt.plot(phi,[2]*num_space,color='black', linestyle ='dashed')\n",
    "            plt.figtext(s=r'$2\\sqrt{2}$', x=0.15, y=0.77, fontsize=15)\n",
    "            plt.figtext(s=r'$2$', x=0.15, y=0.48, fontsize=15)\n",
    "            plt.ylim(1,3)\n",
    "            plt.show()\n",
    "            fig, ax = plt.subplots(figsize=(7, 7))\n",
    "            plotter(phi,spol,r'$S_{pol}=S_{par}=1$',r'$\\phi$',r'$S_{pol}\\ \\slash\\ S_{par}$',(1,0,0),r'$s_{pol}$')\n",
    "            plotter(phi,spar,r'$S_{pol}=S_{par}=1$',r'$\\phi$',r'$S_{pol}\\ \\slash\\ S_{par}$',(0,0,1),r'$s_{par}$')\n",
    "            plt.ylim(0,1.1) \n",
    "            plt.legend()\n",
    "            plt.show()\n",
    "            \n",
    "            \n",
    "        plt.show()\n",
    "    \n",
    "    else:       \n",
    "        clear_output()\n",
    "    return\n",
    "\n",
    "interact(expAPlots, option=['Hide All', 'D', 'B', 'S', 'Show All']);"
   ]
  },
  {
   "cell_type": "code",
   "execution_count": 25,
   "metadata": {
    "scrolled": false
   },
   "outputs": [
    {
     "data": {
      "application/vnd.jupyter.widget-view+json": {
       "model_id": "4d5ef99551d249eba13c7eb84d407233",
       "version_major": 2,
       "version_minor": 0
      },
      "text/plain": [
       "interactive(children=(FloatSlider(value=1.0471975511965976, continuous_update=False, description='phi', layout…"
      ]
     },
     "metadata": {},
     "output_type": "display_data"
    }
   ],
   "source": [
    "def expAContours(phi):\n",
    "    function=C_ta_pa_A\n",
    "    contourplotter(function,phi,r'$C(\\theta_a,\\phi_a)$',r'$\\theta_a$',r'$\\phi_a$')\n",
    "    return\n",
    "interact(expAContours, phi=widgets.FloatSlider(min=0, max=2*np.pi, step=0.02, value=np.pi/3, continuous_update=False, layout=Layout(width='600px')));"
   ]
  },
  {
   "cell_type": "markdown",
   "metadata": {},
   "source": [
    "As it can be seen in the above graphs, our degree of coherence $S$ and also $S_\\text{pol}$ and $S_\\text{par}$ stay at the value of 1 throughout and are invariant to any unitary transformation done on the system. As we vary the angle $\\phi$ we can see that the coupling is maximized at $\\phi=\\pi$ at which moment the apparent degrees of coherence go to zero since all of our original coherency is present in the form of coupling."
   ]
  },
  {
   "cell_type": "markdown",
   "metadata": {},
   "source": [
    "### 4.2 Experiment B\n",
    "Here starting with the same $\\mathbf{J}_{in}$ the polarization is scrambled using a variable polarization rotator which does not affect the spatial DoF so we have $D_\\text{pol} = 0$ and $D_\\text{par} = 1$. Now this beam is sent through a PS-SLM which would couple the DoFs. We now go on to derive the correlation function for this"
   ]
  },
  {
   "cell_type": "code",
   "execution_count": 26,
   "metadata": {
    "scrolled": false
   },
   "outputs": [
    {
     "data": {
      "text/latex": [
       "$\\displaystyle \\left[\\begin{matrix}0.5 \\cos^{2}{\\left(\\frac{\\varphi}{2} \\right)} & 0.5 i \\sin{\\left(\\frac{\\varphi}{2} \\right)} \\cos{\\left(\\frac{\\varphi}{2} \\right)} & 0 & 0\\\\- 0.5 i \\sin{\\left(\\frac{\\varphi}{2} \\right)} \\cos{\\left(\\frac{\\varphi}{2} \\right)} & 0.5 \\sin^{2}{\\left(\\frac{\\varphi}{2} \\right)} & 0 & 0\\\\0 & 0 & 0.5 & 0\\\\0 & 0 & 0 & 0\\end{matrix}\\right]$"
      ],
      "text/plain": [
       "Matrix([\n",
       "[              0.5*cos(varphi/2)**2, 0.5*I*sin(varphi/2)*cos(varphi/2),   0, 0],\n",
       "[-0.5*I*sin(varphi/2)*cos(varphi/2),              0.5*sin(varphi/2)**2,   0, 0],\n",
       "[                                 0,                                 0, 0.5, 0],\n",
       "[                                 0,                                 0,   0, 0]])"
      ]
     },
     "execution_count": 26,
     "metadata": {},
     "output_type": "execute_result"
    }
   ],
   "source": [
    "G_B = (1/2)*Matrix([[cos(p/2)**2, I*cos(p/2)*sin(p/2), 0, 0],[-I*cos(p/2)*sin(p/2), sin(p/2)**2, 0,0],\n",
    "            [0,0,1,0],[0,0,0,0]])\n",
    "G_B #The input beam G matrix before the transformations"
   ]
  },
  {
   "cell_type": "markdown",
   "metadata": {},
   "source": [
    "#### Calculation of $D_{pol}$ and $D_{par}$"
   ]
  },
  {
   "cell_type": "code",
   "execution_count": 27,
   "metadata": {},
   "outputs": [
    {
     "data": {
      "text/latex": [
       "$\\displaystyle \\left[\\begin{matrix}0.5 & 0\\\\0 & 0.5\\end{matrix}\\right]$"
      ],
      "text/plain": [
       "Matrix([\n",
       "[0.5,   0],\n",
       "[  0, 0.5]])"
      ]
     },
     "execution_count": 27,
     "metadata": {},
     "output_type": "execute_result"
    }
   ],
   "source": [
    "G_pol_B = par_tr_G_pol(G_B)\n",
    "G_pol_B"
   ]
  },
  {
   "cell_type": "code",
   "execution_count": 28,
   "metadata": {
    "scrolled": true
   },
   "outputs": [
    {
     "data": {
      "text/latex": [
       "$\\displaystyle \\left[\\begin{matrix}0.5 \\cos^{2}{\\left(\\frac{\\varphi}{2} \\right)} + 0.5 & 0.5 i \\sin{\\left(\\frac{\\varphi}{2} \\right)} \\cos{\\left(\\frac{\\varphi}{2} \\right)}\\\\- 0.5 i \\sin{\\left(\\frac{\\varphi}{2} \\right)} \\cos{\\left(\\frac{\\varphi}{2} \\right)} & 0.5 \\sin^{2}{\\left(\\frac{\\varphi}{2} \\right)}\\end{matrix}\\right]$"
      ],
      "text/plain": [
       "Matrix([\n",
       "[        0.5*cos(varphi/2)**2 + 0.5, 0.5*I*sin(varphi/2)*cos(varphi/2)],\n",
       "[-0.5*I*sin(varphi/2)*cos(varphi/2),              0.5*sin(varphi/2)**2]])"
      ]
     },
     "execution_count": 28,
     "metadata": {},
     "output_type": "execute_result"
    }
   ],
   "source": [
    "G_par_B = par_tr_G_par(G_B)\n",
    "G_par_B"
   ]
  },
  {
   "cell_type": "code",
   "execution_count": 29,
   "metadata": {
    "scrolled": true
   },
   "outputs": [
    {
     "data": {
      "text/latex": [
       "$\\displaystyle 0$"
      ],
      "text/plain": [
       "0"
      ]
     },
     "execution_count": 29,
     "metadata": {},
     "output_type": "execute_result"
    }
   ],
   "source": [
    "D_pol_B=app_coh(G_pol_B)\n",
    "D_pol_B# Prints D_pol"
   ]
  },
  {
   "cell_type": "code",
   "execution_count": 30,
   "metadata": {
    "scrolled": true
   },
   "outputs": [
    {
     "data": {
      "text/latex": [
       "$\\displaystyle 0.707106781186548 \\sqrt{\\cos{\\left(\\varphi \\right)} + 1}$"
      ],
      "text/plain": [
       "0.707106781186548*sqrt(cos(varphi) + 1)"
      ]
     },
     "execution_count": 30,
     "metadata": {},
     "output_type": "execute_result"
    }
   ],
   "source": [
    "D_par_B=app_coh(G_par_B)\n",
    "D_par_B"
   ]
  },
  {
   "cell_type": "markdown",
   "metadata": {},
   "source": [
    "#### Calculation of the Correlation Function and $B_{max}$"
   ]
  },
  {
   "cell_type": "code",
   "execution_count": 31,
   "metadata": {},
   "outputs": [
    {
     "data": {
      "text/latex": [
       "$\\displaystyle 0.5 \\left(- \\cos{\\left(\\varphi_{a} \\right)} + \\cos{\\left(\\varphi + \\varphi_{a} \\right)}\\right) \\cos{\\left(\\theta_{a} \\right)}$"
      ],
      "text/plain": [
       "0.5*(-cos(varphi_a) + cos(varphi + varphi_a))*cos(theta_a)"
      ]
     },
     "execution_count": 31,
     "metadata": {},
     "output_type": "execute_result"
    }
   ],
   "source": [
    "G_out_B = conjugate(A_SLM)*conjugate(A_HWP)*G_B*A_HWP.T*A_SLM.T #Transformed matrix\n",
    "C_ta_pa_B = trigsimp(corr_prob(G_out_B)/trace_G(G_out_B))\n",
    "C_ta_pa_B"
   ]
  },
  {
   "cell_type": "markdown",
   "metadata": {},
   "source": [
    "We have now seen that our expression for the correlation function matches the exact one obtained in the reference \\[topic2\\]. We now go ahead to optimize our expression for B and obtain the other plots below. On a sidenote one can actually traditionally find the maxima for the $B$ expression here since it is simpler to look at. The condition where it is maximized is when $\\phi_a=\\phi_b=(\\pi-\\phi)/2$ and $\\theta_a = \\theta_b = 0$ or $\\pi$ which can be verified by looking at the gradient."
   ]
  },
  {
   "cell_type": "markdown",
   "metadata": {},
   "source": [
    "#### GRAPHS FOR EXPERIMENT B"
   ]
  },
  {
   "cell_type": "code",
   "execution_count": 32,
   "metadata": {
    "scrolled": false
   },
   "outputs": [
    {
     "data": {
      "application/vnd.jupyter.widget-view+json": {
       "model_id": "9197646c5f094e4d91ba5c9b0ed63411",
       "version_major": 2,
       "version_minor": 0
      },
      "text/plain": [
       "interactive(children=(Dropdown(description='option', options=('Hide All', 'D', 'B', 'S', 'Show All'), value='H…"
      ]
     },
     "metadata": {},
     "output_type": "display_data"
    }
   ],
   "source": [
    "def expBPlots(option):\n",
    "    num_space=102\n",
    "    phi=np.linspace(0, 2*np.pi, num_space)\n",
    "    bmax=bmaxfinder(C_ta_pa_B,phi)\n",
    "    dpol=dfinder(D_pol_B,phi)\n",
    "    dpar=dfinder(D_par_B,phi)\n",
    "    spol=sfinder(dpol,bmax)\n",
    "    spar=sfinder(dpar,bmax)\n",
    "    \n",
    "    if option!='Hide All':        \n",
    "    \n",
    "        if option=='B':            \n",
    "            fig, ax = plt.subplots(figsize=(7, 7))\n",
    "            plotter(phi,bmax,r'$B_{max}$',r'$\\phi$',r'$B_{max}$',(1,0,0),r'$B_{max}$')\n",
    "            plt.plot(phi,[2]*num_space,color='black', linestyle ='dashed')\n",
    "            plt.ylim(0,2.5)\n",
    "            plt.show()\n",
    "            \n",
    "        elif option=='S':\n",
    "            fig, ax = plt.subplots(figsize=(7, 7))\n",
    "            plotter(phi,spol,r'$S_{pol}=S_{par}=1$',r'$\\phi$',r'$S_{pol}\\ \\slash\\ S_{par}$',(1,0,0),r'$s_{pol}$')\n",
    "            plotter(phi,spar,r'$S_{pol}=S_{par}=1$',r'$\\phi$',r'$S_{pol}\\ \\slash\\ S_{par}$',(0,0,1),r'$s_{par}$')\n",
    "            plt.ylim(0,1.1) \n",
    "            plt.legend()\n",
    "            plt.show()\n",
    "            \n",
    "        elif option=='D':         \n",
    "            fig, ax = plt.subplots(figsize=(7, 7))\n",
    "            plotter(phi,dpol,r'$D_{pol}\\ and\\ D_{par}$',r'$\\phi$',r'$D_{pol}\\ \\slash\\ D_{par}$',(1,0,0),r'$d_{pol}$')\n",
    "            plotter(phi,dpar,r'$D_{pol}\\ and\\ D_{par}$',r'$\\phi$',r'$D_{pol}\\ \\slash\\ D_{par}$',(0,0,1),r'$d_{pol}$')\n",
    "            plt.ylim(-0.1,1.1)\n",
    "            plt.legend()\n",
    "            plt.show()\n",
    "            \n",
    "        else:\n",
    "            fig, ax = plt.subplots(figsize=(7, 7))\n",
    "            plotter(phi,dpol,r'$D_{pol}\\ and\\ D_{par}$',r'$\\phi$',r'$D_{pol}\\ \\slash\\ D_{par}$',(1,0,0),r'$d_{pol}$')\n",
    "            plotter(phi,dpar,r'$D_{pol}\\ and\\ D_{par}$',r'$\\phi$',r'$D_{pol}\\ \\slash\\ D_{par}$',(0,0,1),r'$d_{pol}$')\n",
    "            plt.ylim(-0.1,1.1)\n",
    "            plt.legend()\n",
    "            plt.show()\n",
    "            fig, ax = plt.subplots(figsize=(7, 7))\n",
    "            plotter(phi,bmax,r'$B_{max}$',r'$\\phi$',r'$B_{max}$',(1,0,0),r'$B_{max}$')\n",
    "            plt.plot(phi,[2]*num_space,color='black', linestyle ='dashed')\n",
    "            plt.ylim(0,2.5)\n",
    "            plt.show()\n",
    "            fig, ax = plt.subplots(figsize=(7, 7))\n",
    "            plotter(phi,spol,r'$S_{pol}=S_{par}=1$',r'$\\phi$',r'$S_{pol}\\ \\slash\\ S_{par}$',(1,0,0),r'$s_{pol}$')\n",
    "            plotter(phi,spar,r'$S_{pol}=S_{par}=1$',r'$\\phi$',r'$S_{pol}\\ \\slash\\ S_{par}$',(0,0,1),r'$s_{par}$')\n",
    "            plt.ylim(0,1.1) \n",
    "            plt.legend()\n",
    "            plt.show()\n",
    "            \n",
    "            \n",
    "        plt.show()\n",
    "    \n",
    "    else:       \n",
    "        clear_output()\n",
    "    return\n",
    "\n",
    "interact(expBPlots, option=['Hide All', 'D', 'B', 'S', 'Show All']);"
   ]
  },
  {
   "cell_type": "code",
   "execution_count": 33,
   "metadata": {
    "scrolled": false
   },
   "outputs": [
    {
     "data": {
      "application/vnd.jupyter.widget-view+json": {
       "model_id": "6521a4cbd46a4724972731a3c627c6ec",
       "version_major": 2,
       "version_minor": 0
      },
      "text/plain": [
       "interactive(children=(FloatSlider(value=1.0471975511965976, continuous_update=False, description='phi', layout…"
      ]
     },
     "metadata": {},
     "output_type": "display_data"
    }
   ],
   "source": [
    "def expBContours(phi):\n",
    "    function=C_ta_pa_B\n",
    "    contourplotter(function,phi,r'$C(\\theta_a,\\phi_a)$',r'$\\theta_a$',r'$\\phi_a$')\n",
    "    return\n",
    "interact(expBContours, phi=widgets.FloatSlider(min=0, max=2*np.pi, step=0.02, value=np.pi/3, continuous_update=False, layout=Layout(width='600px')));"
   ]
  },
  {
   "cell_type": "markdown",
   "metadata": {},
   "source": [
    "### 4.3 Experiment C\n",
    "In this experiment we again start with the same $\\mathbf{J}_{in}$ and an interaction is considered that makes it have a random coupling. It has a probability $P$ to couple polarization and parity and $1-P$ to not achieved by randomly toggling between two phase distributions of the PS-SLM, one with $\\pi/2\\text{sgn}(x)$ phase and another with zero phase where $P$ is the fraction of time that the PS-SLM displays the first phase pattern. From this we go on to derive it's correlation function."
   ]
  },
  {
   "cell_type": "code",
   "execution_count": 34,
   "metadata": {},
   "outputs": [
    {
     "data": {
      "text/latex": [
       "$\\displaystyle \\left[\\begin{matrix}\\frac{1}{2} - \\frac{P}{2} & 0 & \\frac{1}{2} - \\frac{P}{2} & 0\\\\0 & \\frac{P}{2} & - \\frac{i P}{2} & 0\\\\\\frac{1}{2} - \\frac{P}{2} & \\frac{i P}{2} & \\frac{1}{2} & 0\\\\0 & 0 & 0 & 0\\end{matrix}\\right]$"
      ],
      "text/plain": [
       "Matrix([\n",
       "[1/2 - P/2,     0, 1/2 - P/2, 0],\n",
       "[        0,   P/2,    -I*P/2, 0],\n",
       "[1/2 - P/2, I*P/2,       1/2, 0],\n",
       "[        0,     0,         0, 0]])"
      ]
     },
     "execution_count": 34,
     "metadata": {},
     "output_type": "execute_result"
    }
   ],
   "source": [
    "J_ent = (1/sqrt(2))*Matrix([0, I, 1, 0])#Entagled state\n",
    "J_in = (1/sqrt(2))*Matrix([1, 0, 1, 0])#Input state\n",
    "G_C = P*conjugate(J_ent)*J_ent.T + (1-P)*conjugate(J_in)*J_in.T\n",
    "G_C"
   ]
  },
  {
   "cell_type": "markdown",
   "metadata": {},
   "source": [
    "#### Calculation of $D_{pol}$ and $D_{par}$"
   ]
  },
  {
   "cell_type": "code",
   "execution_count": 35,
   "metadata": {},
   "outputs": [
    {
     "data": {
      "text/latex": [
       "$\\displaystyle \\left[\\begin{matrix}\\frac{1}{2} & \\frac{1}{2} - \\frac{P}{2}\\\\\\frac{1}{2} - \\frac{P}{2} & \\frac{1}{2}\\end{matrix}\\right]$"
      ],
      "text/plain": [
       "Matrix([\n",
       "[      1/2, 1/2 - P/2],\n",
       "[1/2 - P/2,       1/2]])"
      ]
     },
     "execution_count": 35,
     "metadata": {},
     "output_type": "execute_result"
    }
   ],
   "source": [
    "G_pol_C = par_tr_G_pol(G_C)\n",
    "G_pol_C"
   ]
  },
  {
   "cell_type": "code",
   "execution_count": 36,
   "metadata": {
    "scrolled": true
   },
   "outputs": [
    {
     "data": {
      "text/latex": [
       "$\\displaystyle \\left[\\begin{matrix}1 - \\frac{P}{2} & 0\\\\0 & \\frac{P}{2}\\end{matrix}\\right]$"
      ],
      "text/plain": [
       "Matrix([\n",
       "[1 - P/2,   0],\n",
       "[      0, P/2]])"
      ]
     },
     "execution_count": 36,
     "metadata": {},
     "output_type": "execute_result"
    }
   ],
   "source": [
    "G_par_C = par_tr_G_par(G_C)\n",
    "G_par_C"
   ]
  },
  {
   "cell_type": "code",
   "execution_count": 37,
   "metadata": {
    "scrolled": true
   },
   "outputs": [
    {
     "data": {
      "text/latex": [
       "$\\displaystyle \\left|{P - 1}\\right|$"
      ],
      "text/plain": [
       "Abs(P - 1)"
      ]
     },
     "execution_count": 37,
     "metadata": {},
     "output_type": "execute_result"
    }
   ],
   "source": [
    "D_pol_C=app_coh(G_pol_C)\n",
    "simplify(D_pol_C)# Prints D_pol"
   ]
  },
  {
   "cell_type": "code",
   "execution_count": 38,
   "metadata": {
    "scrolled": true
   },
   "outputs": [
    {
     "data": {
      "text/latex": [
       "$\\displaystyle \\sqrt{- P \\left(2 - P\\right) + 1}$"
      ],
      "text/plain": [
       "sqrt(-P*(2 - P) + 1)"
      ]
     },
     "execution_count": 38,
     "metadata": {},
     "output_type": "execute_result"
    }
   ],
   "source": [
    "D_par_C=app_coh(G_par_C)\n",
    "D_par_C"
   ]
  },
  {
   "cell_type": "markdown",
   "metadata": {},
   "source": [
    "#### Calculation of the Correlation Function and $B_{max}$"
   ]
  },
  {
   "cell_type": "code",
   "execution_count": 39,
   "metadata": {},
   "outputs": [
    {
     "data": {
      "text/latex": [
       "$\\displaystyle - \\sqrt{2} P \\sin{\\left(\\theta_{a} \\right)} \\sin{\\left(\\varphi_{a} + \\frac{\\pi}{4} \\right)} - P \\cos{\\left(\\theta_{a} \\right)} \\cos{\\left(\\varphi_{a} \\right)} + \\sin{\\left(\\theta_{a} \\right)} \\cos{\\left(\\varphi_{a} \\right)}$"
      ],
      "text/plain": [
       "-sqrt(2)*P*sin(theta_a)*sin(varphi_a + pi/4) - P*cos(theta_a)*cos(varphi_a) + sin(theta_a)*cos(varphi_a)"
      ]
     },
     "execution_count": 39,
     "metadata": {},
     "output_type": "execute_result"
    }
   ],
   "source": [
    "G_out_C = conjugate(A_SLM)*conjugate(A_HWP)*G_C*A_HWP.T*A_SLM.T #Transformed matrix\n",
    "C_ta_pa_C = trigsimp(corr_prob(G_out_C)/trace_G(G_out_C))\n",
    "C_ta_pa_C"
   ]
  },
  {
   "cell_type": "code",
   "execution_count": 40,
   "metadata": {},
   "outputs": [
    {
     "data": {
      "text/latex": [
       "$\\displaystyle 0$"
      ],
      "text/plain": [
       "0"
      ]
     },
     "execution_count": 40,
     "metadata": {},
     "output_type": "execute_result"
    }
   ],
   "source": [
    "simplify(C_ta_pa_C - ((1-P)*sin(ta)*cos(pa) - P*cos(ta-pa)))"
   ]
  },
  {
   "cell_type": "markdown",
   "metadata": {},
   "source": [
    "As we have shown in the cell above the correlation function we have derived matches exactly with the function that the paper provides. We again use numerical methods to maximize this function since optimizing by minimization of gradient would take considerably long to do. Our results shown below match up consistently with those shown in [[1](#ref-1)]."
   ]
  },
  {
   "cell_type": "markdown",
   "metadata": {},
   "source": [
    "#### GRAPHS FOR EXPERIMENT C"
   ]
  },
  {
   "cell_type": "code",
   "execution_count": 41,
   "metadata": {
    "scrolled": false
   },
   "outputs": [
    {
     "data": {
      "application/vnd.jupyter.widget-view+json": {
       "model_id": "115ba6773389419aae919faf45d08aff",
       "version_major": 2,
       "version_minor": 0
      },
      "text/plain": [
       "interactive(children=(Dropdown(description='option', options=('Hide All', 'D', 'B', 'S', 'Show All'), value='H…"
      ]
     },
     "metadata": {},
     "output_type": "display_data"
    }
   ],
   "source": [
    "def expCPlots(option):\n",
    "    num_space=102\n",
    "    P=np.linspace(0, 1, num_space)\n",
    "    bmax=bmaxfinderC(C_ta_pa_C,P)\n",
    "    dpol=dfinderC(D_pol_C,P)\n",
    "    dpar=dfinderC(D_par_C,P)\n",
    "    spol=sfinder(dpol,bmax)\n",
    "    spar=sfinder(dpar,bmax)\n",
    "    \n",
    "    if option!='Hide All':        \n",
    "    \n",
    "        if option=='B':            \n",
    "            fig, ax = plt.subplots(figsize=(7, 7))\n",
    "            plotterC(P,bmax,r'$B_{max}$',r'$\\phi$',r'$B_{max}$',(1,0,0),r'$B_{max}$')\n",
    "            plt.plot(P,[2]*num_space,color='black', linestyle ='dashed')\n",
    "            plt.ylim(1,3)\n",
    "            plt.show()\n",
    "            \n",
    "        elif option=='S':\n",
    "            fig, ax = plt.subplots(figsize=(7, 7))\n",
    "            plotterC(P,spol,r'$S_{pol}=S_{par}=1$',r'$\\phi$',r'$S_{pol}\\ \\slash\\ S_{par}$',(1,0,0),r'$s_{pol}$')\n",
    "            plotterC(P,spar,r'$S_{pol}=S_{par}=1$',r'$\\phi$',r'$S_{pol}\\ \\slash\\ S_{par}$',(0,0,1),r'$s_{par}$')\n",
    "            plt.ylim(0,1.1) \n",
    "            plt.legend()\n",
    "            plt.show()\n",
    "            \n",
    "        elif option=='D':         \n",
    "            fig, ax = plt.subplots(figsize=(7, 7))\n",
    "            plotterC(P,dpol,r'$D_{pol}\\ and\\ D_{par}$',r'$\\phi$',r'$D_{pol}\\ \\slash\\ D_{par}$',(1,0,0),r'$d_{pol}$')\n",
    "            plotterC(P,dpar,r'$D_{pol}\\ and\\ D_{par}$',r'$\\phi$',r'$D_{pol}\\ \\slash\\ D_{par}$',(0,0,1),r'$d_{pol}$')\n",
    "            plt.ylim(-0.1,1.1)\n",
    "            plt.legend()\n",
    "            plt.show()\n",
    "            \n",
    "        else:\n",
    "            fig, ax = plt.subplots(figsize=(7, 7))\n",
    "            plotterC(P,dpol,r'$D_{pol}\\ and\\ D_{par}$',r'$\\phi$',r'$D_{pol}\\ \\slash\\ D_{par}$',(1,0,0),r'$d_{pol}$')\n",
    "            plotterC(P,dpar,r'$D_{pol}\\ and\\ D_{par}$',r'$\\phi$',r'$D_{pol}\\ \\slash\\ D_{par}$',(0,0,1),r'$d_{pol}$')\n",
    "            plt.ylim(-0.1,1.1)\n",
    "            plt.legend()\n",
    "            plt.show()\n",
    "            fig, ax = plt.subplots(figsize=(7, 7))\n",
    "            plotterC(P,bmax,r'$B_{max}$',r'$\\phi$',r'$B_{max}$',(1,0,0),r'$B_{max}$')\n",
    "            plt.plot(P,[2]*num_space,color='black', linestyle ='dashed')\n",
    "            plt.ylim(1,3)\n",
    "            plt.show()\n",
    "            fig, ax = plt.subplots(figsize=(7, 7))\n",
    "            plotterC(P,spol,r'$S_{pol}=S_{par}=1$',r'$\\phi$',r'$S_{pol}\\ \\slash\\ S_{par}$',(1,0,0),r'$s_{pol}$')\n",
    "            plotterC(P,spar,r'$S_{pol}=S_{par}=1$',r'$\\phi$',r'$S_{pol}\\ \\slash\\ S_{par}$',(0,0,1),r'$s_{par}$')\n",
    "            plt.ylim(0,1.1) \n",
    "            plt.legend()\n",
    "            plt.show()\n",
    "            \n",
    "            \n",
    "        plt.show()\n",
    "    \n",
    "    else:       \n",
    "        clear_output()\n",
    "    return\n",
    "\n",
    "interact(expCPlots, option=['Hide All', 'D', 'B', 'S', 'Show All']);"
   ]
  },
  {
   "cell_type": "code",
   "execution_count": 42,
   "metadata": {
    "scrolled": false
   },
   "outputs": [
    {
     "data": {
      "application/vnd.jupyter.widget-view+json": {
       "model_id": "2abac786ef0547d1a32bc5adca16ab97",
       "version_major": 2,
       "version_minor": 0
      },
      "text/plain": [
       "interactive(children=(FloatSlider(value=0.3333333333333333, continuous_update=False, description='P', layout=L…"
      ]
     },
     "metadata": {},
     "output_type": "display_data"
    }
   ],
   "source": [
    "def expCContours(P):\n",
    "    function=C_ta_pa_C\n",
    "    contourplotterC(function,P,r'$C(\\theta_a,\\phi_a)$',r'$\\theta_a$',r'$\\phi_a$')\n",
    "    return\n",
    "interact(expCContours, P=widgets.FloatSlider(min=0, max=1, step=0.01, value=1/3, continuous_update=False, layout=Layout(width='600px')));"
   ]
  },
  {
   "cell_type": "markdown",
   "metadata": {},
   "source": [
    "## 5. Reduced representation of the two Binary DoFs\n",
    "We can represent any arbitrary partially coherent beam by the three invariants $S$, $S_{pol}$, $S_{par}$. Every point in the volume generated represents different beams which can be related via unitary transformations that do not couple the two DoFs, since these ensure that $S$, $S_{pol}$, $S_{par}$ remain invariant. Points with the same $S$ comprise of a plane. All the points in this plane are related via unitary transformations which couple the two DoFs, since these would ensure $S$ remains the same but $S_{pol}$ and $S_{par}$ do not.\n",
    "A beam with higher $S$, by the definition of the measure, has higher coherency. \n",
    "\n",
    "The figure offers us two insights into how $S$, $S_{pol}$, $S_{par}$ for a beam might be related.<br>\n",
    "Firstly, beams with the same value of $S$ do not take arbitrary values of $S_{pol}$ and $S_{par}$. For a given value of $S$ for a beam, the figure uniquely gives us a concave-sided triangular area within which the values of $S_{pol}$ and $S_{par}$ must be contained for a partially coherent beam.<br>\n",
    "Secondly, for given values of $S_{pol}$ and $S_{par}$ for a partially coherent beam, we can predict the overall degree of coherence of the beam $S$ by drawing a line segment parallel to the $S$ axis contained within the figure, which gives us a narrow range within which $S$ must be for the beam. The paper suggests that the uncertainty in determining $S$ using this method is $\\sim6\\%$ on average.\n",
    "\n",
    "The overall purpose of generating the figure was to show that we cannot have all combinations of $S$, $S_{pol}$, $S_{par}$ inside the unit cube in the first octant but only the ones which satisfy Bell's Inequality, which results in the obtained figure.\n",
    "\n",
    "In our attempt to generate the figure, we have essentially ran a Monte-Carlo simulation with $10^5$ points.<br>\n",
    "Since eigenvalues of G have to be real, positive and their sum must be 1, we first generate a diagonal matrix $D$ of the eigenvalues with the contraints applied. Now, to obtain a random G, we must first obtain a random unitary matrix $U$ and apply the following transformation on the diagonal matrix $D$.<br>\n",
    "<center>$G=UDU^{\\dagger}$</center>\n",
    "We obtain $U$ by first generating a random Hermitian matrix and then QR factorizing it. Since Q is unitary, we have in essence found a random unitary matrix. The above set of operations is implemented in the function $\\texttt{randG()}$.<br>\n",
    "\n",
    "After this, we proceed to define the function $\\texttt{C_ta_pa()}$ which calculates the correlation function for a given matrix $G$ with the parameters $t_{1} (\\theta_{a})$ and $p_{1} (\\phi_{a})$. The Bell Measure is calculated by the function $\\texttt{B()}$ by making calls to the function $\\texttt{C_ta_pa()}$.<br>\n",
    "Now, the calculation of the value $S$ is straightforward from the matrix $G$ and that of $D_{pol}$ and $D_{par}$ is also relatively straightforward once the matrices $G_{pol}$ and $G_{par}$ have been constructed. But, for the calculation of $S_{pol}$ and $S_{par}$, we need to determine the value $B_{max}$ first. Since there was no way the optimization of $10^5$ matrices could've been tensorized, we calculate this in loop for all the G matrices and that is what constitutes the bulk of the running time of the program. We implement this in the function $\\texttt{genS()}$ below."
   ]
  },
  {
   "cell_type": "code",
   "execution_count": 43,
   "metadata": {},
   "outputs": [],
   "source": [
    "def randG():\n",
    "    G=np.zeros([4,4])\n",
    "    G[0,0]=np.random.uniform(0,1)\n",
    "    G[1,1]=np.random.uniform(0,1-np.trace(G))\n",
    "    G[2,2]=np.random.uniform(0,1-np.trace(G))\n",
    "    G[3,3]=1-np.trace(G)\n",
    "    #G=G/np.trace(G)\n",
    "    A = np.random.rand(4,4)*2-ones(4,4)+1j*np.random.rand(4,4)*2-ones(4,4)\n",
    "    U,_=np.linalg.qr(np.random.rand(4,4)+1j*np.random.rand(4,4))\n",
    "    G=(U@G@np.conjugate(np.transpose(U))).round(4)\n",
    "    return G"
   ]
  },
  {
   "cell_type": "code",
   "execution_count": 44,
   "metadata": {},
   "outputs": [],
   "source": [
    "def C_ta_pa(G,t1,p1):\n",
    "    a_hwp_1 = [[-np.cos(t1/2),0,-np.sin(t1/2),0],[0,-np.cos(t1/2),0,-np.sin(t1/2)],[-np.sin(t1/2),0,np.cos(t1/2),0],[0,-np.sin(t1/2),0,np.cos(t1/2)]]\n",
    "    a_slm_1 = [[np.cos(p1/2),1j*np.sin(p1/2),0,0],[1j*np.sin(p1/2),np.cos(p1/2),0,0],[0,0,np.cos(p1/2),1j*np.sin(p1/2)],[0,0,1j*np.sin(p1/2),np.cos(p1/2)]]\n",
    "    G_out=np.conjugate(a_slm_1)*np.conjugate(a_hwp_1)*G*np.conjugate(a_hwp_1)*np.conjugate(a_slm_1)\n",
    "    return np.real((G_out[0,0]-G_out[1,1]-G_out[2,2]+G_out[3,3])/(np.trace(G))).round(8)"
   ]
  },
  {
   "cell_type": "code",
   "execution_count": 45,
   "metadata": {},
   "outputs": [],
   "source": [
    "def B(G,t1,t2,p1,p2):\n",
    "    return abs(C_ta_pa(G,t1,p1)+C_ta_pa(G,t1,p2)+C_ta_pa(G,t2,p1)-C_ta_pa(G,t2,p2))"
   ]
  },
  {
   "cell_type": "code",
   "execution_count": 46,
   "metadata": {},
   "outputs": [],
   "source": [
    "def genS(G):\n",
    "    G_pol = [[G[0,0]+G[1,1],G[0,2]+G[1,3]],[G[2,0]+G[3,1],G[2,2]+G[3,3]]]\n",
    "    G_par = [[G[0,0]+G[2,2],G[0,1]+G[2,3]],[G[1,0]+G[3,2],G[1,1]+G[3,3]]]\n",
    "    \n",
    "    D_pol=sqrt(1-4*(np.linalg.det(G_pol))/((np.trace(G_pol))**2))\n",
    "    D_par=sqrt(1-4*(np.linalg.det(G_par))/((np.trace(G_par))**2))\n",
    "    \n",
    "    bmax=-1*(sc.optimize.minimize(lambda params: -1*abs(B(G,params[0],params[1],params[2],params[3])), [0,0,0,0], method = 'Nelder-Mead').fun)\n",
    "    spol=round(np.real(complex(D_pol**2/2+bmax**2/8)),8)\n",
    "    spar=round(np.real(complex(D_par**2/2+bmax**2/8)),8)\n",
    "    s=round(np.real((4/3)*(np.trace(G@G)-(1/4))),8)\n",
    "    return spol,spar,s"
   ]
  },
  {
   "cell_type": "code",
   "execution_count": 69,
   "metadata": {},
   "outputs": [],
   "source": [
    "n=10000\n",
    "x=np.zeros(n)\n",
    "y=np.zeros(n)\n",
    "z=np.zeros(n)\n",
    "for i in range(n):\n",
    "    #print(i)\n",
    "    x[i],y[i],z[i]=genS(randG())\n",
    "rows = zip(x,y,z)"
   ]
  },
  {
   "cell_type": "code",
   "execution_count": 70,
   "metadata": {},
   "outputs": [
    {
     "data": {
      "application/javascript": [
       "/* Put everything inside the global mpl namespace */\n",
       "/* global mpl */\n",
       "window.mpl = {};\n",
       "\n",
       "mpl.get_websocket_type = function () {\n",
       "    if (typeof WebSocket !== 'undefined') {\n",
       "        return WebSocket;\n",
       "    } else if (typeof MozWebSocket !== 'undefined') {\n",
       "        return MozWebSocket;\n",
       "    } else {\n",
       "        alert(\n",
       "            'Your browser does not have WebSocket support. ' +\n",
       "                'Please try Chrome, Safari or Firefox ≥ 6. ' +\n",
       "                'Firefox 4 and 5 are also supported but you ' +\n",
       "                'have to enable WebSockets in about:config.'\n",
       "        );\n",
       "    }\n",
       "};\n",
       "\n",
       "mpl.figure = function (figure_id, websocket, ondownload, parent_element) {\n",
       "    this.id = figure_id;\n",
       "\n",
       "    this.ws = websocket;\n",
       "\n",
       "    this.supports_binary = this.ws.binaryType !== undefined;\n",
       "\n",
       "    if (!this.supports_binary) {\n",
       "        var warnings = document.getElementById('mpl-warnings');\n",
       "        if (warnings) {\n",
       "            warnings.style.display = 'block';\n",
       "            warnings.textContent =\n",
       "                'This browser does not support binary websocket messages. ' +\n",
       "                'Performance may be slow.';\n",
       "        }\n",
       "    }\n",
       "\n",
       "    this.imageObj = new Image();\n",
       "\n",
       "    this.context = undefined;\n",
       "    this.message = undefined;\n",
       "    this.canvas = undefined;\n",
       "    this.rubberband_canvas = undefined;\n",
       "    this.rubberband_context = undefined;\n",
       "    this.format_dropdown = undefined;\n",
       "\n",
       "    this.image_mode = 'full';\n",
       "\n",
       "    this.root = document.createElement('div');\n",
       "    this.root.setAttribute('style', 'display: inline-block');\n",
       "    this._root_extra_style(this.root);\n",
       "\n",
       "    parent_element.appendChild(this.root);\n",
       "\n",
       "    this._init_header(this);\n",
       "    this._init_canvas(this);\n",
       "    this._init_toolbar(this);\n",
       "\n",
       "    var fig = this;\n",
       "\n",
       "    this.waiting = false;\n",
       "\n",
       "    this.ws.onopen = function () {\n",
       "        fig.send_message('supports_binary', { value: fig.supports_binary });\n",
       "        fig.send_message('send_image_mode', {});\n",
       "        if (fig.ratio !== 1) {\n",
       "            fig.send_message('set_dpi_ratio', { dpi_ratio: fig.ratio });\n",
       "        }\n",
       "        fig.send_message('refresh', {});\n",
       "    };\n",
       "\n",
       "    this.imageObj.onload = function () {\n",
       "        if (fig.image_mode === 'full') {\n",
       "            // Full images could contain transparency (where diff images\n",
       "            // almost always do), so we need to clear the canvas so that\n",
       "            // there is no ghosting.\n",
       "            fig.context.clearRect(0, 0, fig.canvas.width, fig.canvas.height);\n",
       "        }\n",
       "        fig.context.drawImage(fig.imageObj, 0, 0);\n",
       "    };\n",
       "\n",
       "    this.imageObj.onunload = function () {\n",
       "        fig.ws.close();\n",
       "    };\n",
       "\n",
       "    this.ws.onmessage = this._make_on_message_function(this);\n",
       "\n",
       "    this.ondownload = ondownload;\n",
       "};\n",
       "\n",
       "mpl.figure.prototype._init_header = function () {\n",
       "    var titlebar = document.createElement('div');\n",
       "    titlebar.classList =\n",
       "        'ui-dialog-titlebar ui-widget-header ui-corner-all ui-helper-clearfix';\n",
       "    var titletext = document.createElement('div');\n",
       "    titletext.classList = 'ui-dialog-title';\n",
       "    titletext.setAttribute(\n",
       "        'style',\n",
       "        'width: 100%; text-align: center; padding: 3px;'\n",
       "    );\n",
       "    titlebar.appendChild(titletext);\n",
       "    this.root.appendChild(titlebar);\n",
       "    this.header = titletext;\n",
       "};\n",
       "\n",
       "mpl.figure.prototype._canvas_extra_style = function (_canvas_div) {};\n",
       "\n",
       "mpl.figure.prototype._root_extra_style = function (_canvas_div) {};\n",
       "\n",
       "mpl.figure.prototype._init_canvas = function () {\n",
       "    var fig = this;\n",
       "\n",
       "    var canvas_div = (this.canvas_div = document.createElement('div'));\n",
       "    canvas_div.setAttribute(\n",
       "        'style',\n",
       "        'border: 1px solid #ddd;' +\n",
       "            'box-sizing: content-box;' +\n",
       "            'clear: both;' +\n",
       "            'min-height: 1px;' +\n",
       "            'min-width: 1px;' +\n",
       "            'outline: 0;' +\n",
       "            'overflow: hidden;' +\n",
       "            'position: relative;' +\n",
       "            'resize: both;'\n",
       "    );\n",
       "\n",
       "    function on_keyboard_event_closure(name) {\n",
       "        return function (event) {\n",
       "            return fig.key_event(event, name);\n",
       "        };\n",
       "    }\n",
       "\n",
       "    canvas_div.addEventListener(\n",
       "        'keydown',\n",
       "        on_keyboard_event_closure('key_press')\n",
       "    );\n",
       "    canvas_div.addEventListener(\n",
       "        'keyup',\n",
       "        on_keyboard_event_closure('key_release')\n",
       "    );\n",
       "\n",
       "    this._canvas_extra_style(canvas_div);\n",
       "    this.root.appendChild(canvas_div);\n",
       "\n",
       "    var canvas = (this.canvas = document.createElement('canvas'));\n",
       "    canvas.classList.add('mpl-canvas');\n",
       "    canvas.setAttribute('style', 'box-sizing: content-box;');\n",
       "\n",
       "    this.context = canvas.getContext('2d');\n",
       "\n",
       "    var backingStore =\n",
       "        this.context.backingStorePixelRatio ||\n",
       "        this.context.webkitBackingStorePixelRatio ||\n",
       "        this.context.mozBackingStorePixelRatio ||\n",
       "        this.context.msBackingStorePixelRatio ||\n",
       "        this.context.oBackingStorePixelRatio ||\n",
       "        this.context.backingStorePixelRatio ||\n",
       "        1;\n",
       "\n",
       "    this.ratio = (window.devicePixelRatio || 1) / backingStore;\n",
       "\n",
       "    var rubberband_canvas = (this.rubberband_canvas = document.createElement(\n",
       "        'canvas'\n",
       "    ));\n",
       "    rubberband_canvas.setAttribute(\n",
       "        'style',\n",
       "        'box-sizing: content-box; position: absolute; left: 0; top: 0; z-index: 1;'\n",
       "    );\n",
       "\n",
       "    // Apply a ponyfill if ResizeObserver is not implemented by browser.\n",
       "    if (this.ResizeObserver === undefined) {\n",
       "        if (window.ResizeObserver !== undefined) {\n",
       "            this.ResizeObserver = window.ResizeObserver;\n",
       "        } else {\n",
       "            var obs = _JSXTOOLS_RESIZE_OBSERVER({});\n",
       "            this.ResizeObserver = obs.ResizeObserver;\n",
       "        }\n",
       "    }\n",
       "\n",
       "    this.resizeObserverInstance = new this.ResizeObserver(function (entries) {\n",
       "        var nentries = entries.length;\n",
       "        for (var i = 0; i < nentries; i++) {\n",
       "            var entry = entries[i];\n",
       "            var width, height;\n",
       "            if (entry.contentBoxSize) {\n",
       "                if (entry.contentBoxSize instanceof Array) {\n",
       "                    // Chrome 84 implements new version of spec.\n",
       "                    width = entry.contentBoxSize[0].inlineSize;\n",
       "                    height = entry.contentBoxSize[0].blockSize;\n",
       "                } else {\n",
       "                    // Firefox implements old version of spec.\n",
       "                    width = entry.contentBoxSize.inlineSize;\n",
       "                    height = entry.contentBoxSize.blockSize;\n",
       "                }\n",
       "            } else {\n",
       "                // Chrome <84 implements even older version of spec.\n",
       "                width = entry.contentRect.width;\n",
       "                height = entry.contentRect.height;\n",
       "            }\n",
       "\n",
       "            // Keep the size of the canvas and rubber band canvas in sync with\n",
       "            // the canvas container.\n",
       "            if (entry.devicePixelContentBoxSize) {\n",
       "                // Chrome 84 implements new version of spec.\n",
       "                canvas.setAttribute(\n",
       "                    'width',\n",
       "                    entry.devicePixelContentBoxSize[0].inlineSize\n",
       "                );\n",
       "                canvas.setAttribute(\n",
       "                    'height',\n",
       "                    entry.devicePixelContentBoxSize[0].blockSize\n",
       "                );\n",
       "            } else {\n",
       "                canvas.setAttribute('width', width * fig.ratio);\n",
       "                canvas.setAttribute('height', height * fig.ratio);\n",
       "            }\n",
       "            canvas.setAttribute(\n",
       "                'style',\n",
       "                'width: ' + width + 'px; height: ' + height + 'px;'\n",
       "            );\n",
       "\n",
       "            rubberband_canvas.setAttribute('width', width);\n",
       "            rubberband_canvas.setAttribute('height', height);\n",
       "\n",
       "            // And update the size in Python. We ignore the initial 0/0 size\n",
       "            // that occurs as the element is placed into the DOM, which should\n",
       "            // otherwise not happen due to the minimum size styling.\n",
       "            if (fig.ws.readyState == 1 && width != 0 && height != 0) {\n",
       "                fig.request_resize(width, height);\n",
       "            }\n",
       "        }\n",
       "    });\n",
       "    this.resizeObserverInstance.observe(canvas_div);\n",
       "\n",
       "    function on_mouse_event_closure(name) {\n",
       "        return function (event) {\n",
       "            return fig.mouse_event(event, name);\n",
       "        };\n",
       "    }\n",
       "\n",
       "    rubberband_canvas.addEventListener(\n",
       "        'mousedown',\n",
       "        on_mouse_event_closure('button_press')\n",
       "    );\n",
       "    rubberband_canvas.addEventListener(\n",
       "        'mouseup',\n",
       "        on_mouse_event_closure('button_release')\n",
       "    );\n",
       "    rubberband_canvas.addEventListener(\n",
       "        'dblclick',\n",
       "        on_mouse_event_closure('dblclick')\n",
       "    );\n",
       "    // Throttle sequential mouse events to 1 every 20ms.\n",
       "    rubberband_canvas.addEventListener(\n",
       "        'mousemove',\n",
       "        on_mouse_event_closure('motion_notify')\n",
       "    );\n",
       "\n",
       "    rubberband_canvas.addEventListener(\n",
       "        'mouseenter',\n",
       "        on_mouse_event_closure('figure_enter')\n",
       "    );\n",
       "    rubberband_canvas.addEventListener(\n",
       "        'mouseleave',\n",
       "        on_mouse_event_closure('figure_leave')\n",
       "    );\n",
       "\n",
       "    canvas_div.addEventListener('wheel', function (event) {\n",
       "        if (event.deltaY < 0) {\n",
       "            event.step = 1;\n",
       "        } else {\n",
       "            event.step = -1;\n",
       "        }\n",
       "        on_mouse_event_closure('scroll')(event);\n",
       "    });\n",
       "\n",
       "    canvas_div.appendChild(canvas);\n",
       "    canvas_div.appendChild(rubberband_canvas);\n",
       "\n",
       "    this.rubberband_context = rubberband_canvas.getContext('2d');\n",
       "    this.rubberband_context.strokeStyle = '#000000';\n",
       "\n",
       "    this._resize_canvas = function (width, height, forward) {\n",
       "        if (forward) {\n",
       "            canvas_div.style.width = width + 'px';\n",
       "            canvas_div.style.height = height + 'px';\n",
       "        }\n",
       "    };\n",
       "\n",
       "    // Disable right mouse context menu.\n",
       "    this.rubberband_canvas.addEventListener('contextmenu', function (_e) {\n",
       "        event.preventDefault();\n",
       "        return false;\n",
       "    });\n",
       "\n",
       "    function set_focus() {\n",
       "        canvas.focus();\n",
       "        canvas_div.focus();\n",
       "    }\n",
       "\n",
       "    window.setTimeout(set_focus, 100);\n",
       "};\n",
       "\n",
       "mpl.figure.prototype._init_toolbar = function () {\n",
       "    var fig = this;\n",
       "\n",
       "    var toolbar = document.createElement('div');\n",
       "    toolbar.classList = 'mpl-toolbar';\n",
       "    this.root.appendChild(toolbar);\n",
       "\n",
       "    function on_click_closure(name) {\n",
       "        return function (_event) {\n",
       "            return fig.toolbar_button_onclick(name);\n",
       "        };\n",
       "    }\n",
       "\n",
       "    function on_mouseover_closure(tooltip) {\n",
       "        return function (event) {\n",
       "            if (!event.currentTarget.disabled) {\n",
       "                return fig.toolbar_button_onmouseover(tooltip);\n",
       "            }\n",
       "        };\n",
       "    }\n",
       "\n",
       "    fig.buttons = {};\n",
       "    var buttonGroup = document.createElement('div');\n",
       "    buttonGroup.classList = 'mpl-button-group';\n",
       "    for (var toolbar_ind in mpl.toolbar_items) {\n",
       "        var name = mpl.toolbar_items[toolbar_ind][0];\n",
       "        var tooltip = mpl.toolbar_items[toolbar_ind][1];\n",
       "        var image = mpl.toolbar_items[toolbar_ind][2];\n",
       "        var method_name = mpl.toolbar_items[toolbar_ind][3];\n",
       "\n",
       "        if (!name) {\n",
       "            /* Instead of a spacer, we start a new button group. */\n",
       "            if (buttonGroup.hasChildNodes()) {\n",
       "                toolbar.appendChild(buttonGroup);\n",
       "            }\n",
       "            buttonGroup = document.createElement('div');\n",
       "            buttonGroup.classList = 'mpl-button-group';\n",
       "            continue;\n",
       "        }\n",
       "\n",
       "        var button = (fig.buttons[name] = document.createElement('button'));\n",
       "        button.classList = 'mpl-widget';\n",
       "        button.setAttribute('role', 'button');\n",
       "        button.setAttribute('aria-disabled', 'false');\n",
       "        button.addEventListener('click', on_click_closure(method_name));\n",
       "        button.addEventListener('mouseover', on_mouseover_closure(tooltip));\n",
       "\n",
       "        var icon_img = document.createElement('img');\n",
       "        icon_img.src = '_images/' + image + '.png';\n",
       "        icon_img.srcset = '_images/' + image + '_large.png 2x';\n",
       "        icon_img.alt = tooltip;\n",
       "        button.appendChild(icon_img);\n",
       "\n",
       "        buttonGroup.appendChild(button);\n",
       "    }\n",
       "\n",
       "    if (buttonGroup.hasChildNodes()) {\n",
       "        toolbar.appendChild(buttonGroup);\n",
       "    }\n",
       "\n",
       "    var fmt_picker = document.createElement('select');\n",
       "    fmt_picker.classList = 'mpl-widget';\n",
       "    toolbar.appendChild(fmt_picker);\n",
       "    this.format_dropdown = fmt_picker;\n",
       "\n",
       "    for (var ind in mpl.extensions) {\n",
       "        var fmt = mpl.extensions[ind];\n",
       "        var option = document.createElement('option');\n",
       "        option.selected = fmt === mpl.default_extension;\n",
       "        option.innerHTML = fmt;\n",
       "        fmt_picker.appendChild(option);\n",
       "    }\n",
       "\n",
       "    var status_bar = document.createElement('span');\n",
       "    status_bar.classList = 'mpl-message';\n",
       "    toolbar.appendChild(status_bar);\n",
       "    this.message = status_bar;\n",
       "};\n",
       "\n",
       "mpl.figure.prototype.request_resize = function (x_pixels, y_pixels) {\n",
       "    // Request matplotlib to resize the figure. Matplotlib will then trigger a resize in the client,\n",
       "    // which will in turn request a refresh of the image.\n",
       "    this.send_message('resize', { width: x_pixels, height: y_pixels });\n",
       "};\n",
       "\n",
       "mpl.figure.prototype.send_message = function (type, properties) {\n",
       "    properties['type'] = type;\n",
       "    properties['figure_id'] = this.id;\n",
       "    this.ws.send(JSON.stringify(properties));\n",
       "};\n",
       "\n",
       "mpl.figure.prototype.send_draw_message = function () {\n",
       "    if (!this.waiting) {\n",
       "        this.waiting = true;\n",
       "        this.ws.send(JSON.stringify({ type: 'draw', figure_id: this.id }));\n",
       "    }\n",
       "};\n",
       "\n",
       "mpl.figure.prototype.handle_save = function (fig, _msg) {\n",
       "    var format_dropdown = fig.format_dropdown;\n",
       "    var format = format_dropdown.options[format_dropdown.selectedIndex].value;\n",
       "    fig.ondownload(fig, format);\n",
       "};\n",
       "\n",
       "mpl.figure.prototype.handle_resize = function (fig, msg) {\n",
       "    var size = msg['size'];\n",
       "    if (size[0] !== fig.canvas.width || size[1] !== fig.canvas.height) {\n",
       "        fig._resize_canvas(size[0], size[1], msg['forward']);\n",
       "        fig.send_message('refresh', {});\n",
       "    }\n",
       "};\n",
       "\n",
       "mpl.figure.prototype.handle_rubberband = function (fig, msg) {\n",
       "    var x0 = msg['x0'] / fig.ratio;\n",
       "    var y0 = (fig.canvas.height - msg['y0']) / fig.ratio;\n",
       "    var x1 = msg['x1'] / fig.ratio;\n",
       "    var y1 = (fig.canvas.height - msg['y1']) / fig.ratio;\n",
       "    x0 = Math.floor(x0) + 0.5;\n",
       "    y0 = Math.floor(y0) + 0.5;\n",
       "    x1 = Math.floor(x1) + 0.5;\n",
       "    y1 = Math.floor(y1) + 0.5;\n",
       "    var min_x = Math.min(x0, x1);\n",
       "    var min_y = Math.min(y0, y1);\n",
       "    var width = Math.abs(x1 - x0);\n",
       "    var height = Math.abs(y1 - y0);\n",
       "\n",
       "    fig.rubberband_context.clearRect(\n",
       "        0,\n",
       "        0,\n",
       "        fig.canvas.width / fig.ratio,\n",
       "        fig.canvas.height / fig.ratio\n",
       "    );\n",
       "\n",
       "    fig.rubberband_context.strokeRect(min_x, min_y, width, height);\n",
       "};\n",
       "\n",
       "mpl.figure.prototype.handle_figure_label = function (fig, msg) {\n",
       "    // Updates the figure title.\n",
       "    fig.header.textContent = msg['label'];\n",
       "};\n",
       "\n",
       "mpl.figure.prototype.handle_cursor = function (fig, msg) {\n",
       "    var cursor = msg['cursor'];\n",
       "    switch (cursor) {\n",
       "        case 0:\n",
       "            cursor = 'pointer';\n",
       "            break;\n",
       "        case 1:\n",
       "            cursor = 'default';\n",
       "            break;\n",
       "        case 2:\n",
       "            cursor = 'crosshair';\n",
       "            break;\n",
       "        case 3:\n",
       "            cursor = 'move';\n",
       "            break;\n",
       "    }\n",
       "    fig.rubberband_canvas.style.cursor = cursor;\n",
       "};\n",
       "\n",
       "mpl.figure.prototype.handle_message = function (fig, msg) {\n",
       "    fig.message.textContent = msg['message'];\n",
       "};\n",
       "\n",
       "mpl.figure.prototype.handle_draw = function (fig, _msg) {\n",
       "    // Request the server to send over a new figure.\n",
       "    fig.send_draw_message();\n",
       "};\n",
       "\n",
       "mpl.figure.prototype.handle_image_mode = function (fig, msg) {\n",
       "    fig.image_mode = msg['mode'];\n",
       "};\n",
       "\n",
       "mpl.figure.prototype.handle_history_buttons = function (fig, msg) {\n",
       "    for (var key in msg) {\n",
       "        if (!(key in fig.buttons)) {\n",
       "            continue;\n",
       "        }\n",
       "        fig.buttons[key].disabled = !msg[key];\n",
       "        fig.buttons[key].setAttribute('aria-disabled', !msg[key]);\n",
       "    }\n",
       "};\n",
       "\n",
       "mpl.figure.prototype.handle_navigate_mode = function (fig, msg) {\n",
       "    if (msg['mode'] === 'PAN') {\n",
       "        fig.buttons['Pan'].classList.add('active');\n",
       "        fig.buttons['Zoom'].classList.remove('active');\n",
       "    } else if (msg['mode'] === 'ZOOM') {\n",
       "        fig.buttons['Pan'].classList.remove('active');\n",
       "        fig.buttons['Zoom'].classList.add('active');\n",
       "    } else {\n",
       "        fig.buttons['Pan'].classList.remove('active');\n",
       "        fig.buttons['Zoom'].classList.remove('active');\n",
       "    }\n",
       "};\n",
       "\n",
       "mpl.figure.prototype.updated_canvas_event = function () {\n",
       "    // Called whenever the canvas gets updated.\n",
       "    this.send_message('ack', {});\n",
       "};\n",
       "\n",
       "// A function to construct a web socket function for onmessage handling.\n",
       "// Called in the figure constructor.\n",
       "mpl.figure.prototype._make_on_message_function = function (fig) {\n",
       "    return function socket_on_message(evt) {\n",
       "        if (evt.data instanceof Blob) {\n",
       "            var img = evt.data;\n",
       "            if (img.type !== 'image/png') {\n",
       "                /* FIXME: We get \"Resource interpreted as Image but\n",
       "                 * transferred with MIME type text/plain:\" errors on\n",
       "                 * Chrome.  But how to set the MIME type?  It doesn't seem\n",
       "                 * to be part of the websocket stream */\n",
       "                img.type = 'image/png';\n",
       "            }\n",
       "\n",
       "            /* Free the memory for the previous frames */\n",
       "            if (fig.imageObj.src) {\n",
       "                (window.URL || window.webkitURL).revokeObjectURL(\n",
       "                    fig.imageObj.src\n",
       "                );\n",
       "            }\n",
       "\n",
       "            fig.imageObj.src = (window.URL || window.webkitURL).createObjectURL(\n",
       "                img\n",
       "            );\n",
       "            fig.updated_canvas_event();\n",
       "            fig.waiting = false;\n",
       "            return;\n",
       "        } else if (\n",
       "            typeof evt.data === 'string' &&\n",
       "            evt.data.slice(0, 21) === 'data:image/png;base64'\n",
       "        ) {\n",
       "            fig.imageObj.src = evt.data;\n",
       "            fig.updated_canvas_event();\n",
       "            fig.waiting = false;\n",
       "            return;\n",
       "        }\n",
       "\n",
       "        var msg = JSON.parse(evt.data);\n",
       "        var msg_type = msg['type'];\n",
       "\n",
       "        // Call the  \"handle_{type}\" callback, which takes\n",
       "        // the figure and JSON message as its only arguments.\n",
       "        try {\n",
       "            var callback = fig['handle_' + msg_type];\n",
       "        } catch (e) {\n",
       "            console.log(\n",
       "                \"No handler for the '\" + msg_type + \"' message type: \",\n",
       "                msg\n",
       "            );\n",
       "            return;\n",
       "        }\n",
       "\n",
       "        if (callback) {\n",
       "            try {\n",
       "                // console.log(\"Handling '\" + msg_type + \"' message: \", msg);\n",
       "                callback(fig, msg);\n",
       "            } catch (e) {\n",
       "                console.log(\n",
       "                    \"Exception inside the 'handler_\" + msg_type + \"' callback:\",\n",
       "                    e,\n",
       "                    e.stack,\n",
       "                    msg\n",
       "                );\n",
       "            }\n",
       "        }\n",
       "    };\n",
       "};\n",
       "\n",
       "// from http://stackoverflow.com/questions/1114465/getting-mouse-location-in-canvas\n",
       "mpl.findpos = function (e) {\n",
       "    //this section is from http://www.quirksmode.org/js/events_properties.html\n",
       "    var targ;\n",
       "    if (!e) {\n",
       "        e = window.event;\n",
       "    }\n",
       "    if (e.target) {\n",
       "        targ = e.target;\n",
       "    } else if (e.srcElement) {\n",
       "        targ = e.srcElement;\n",
       "    }\n",
       "    if (targ.nodeType === 3) {\n",
       "        // defeat Safari bug\n",
       "        targ = targ.parentNode;\n",
       "    }\n",
       "\n",
       "    // pageX,Y are the mouse positions relative to the document\n",
       "    var boundingRect = targ.getBoundingClientRect();\n",
       "    var x = e.pageX - (boundingRect.left + document.body.scrollLeft);\n",
       "    var y = e.pageY - (boundingRect.top + document.body.scrollTop);\n",
       "\n",
       "    return { x: x, y: y };\n",
       "};\n",
       "\n",
       "/*\n",
       " * return a copy of an object with only non-object keys\n",
       " * we need this to avoid circular references\n",
       " * http://stackoverflow.com/a/24161582/3208463\n",
       " */\n",
       "function simpleKeys(original) {\n",
       "    return Object.keys(original).reduce(function (obj, key) {\n",
       "        if (typeof original[key] !== 'object') {\n",
       "            obj[key] = original[key];\n",
       "        }\n",
       "        return obj;\n",
       "    }, {});\n",
       "}\n",
       "\n",
       "mpl.figure.prototype.mouse_event = function (event, name) {\n",
       "    var canvas_pos = mpl.findpos(event);\n",
       "\n",
       "    if (name === 'button_press') {\n",
       "        this.canvas.focus();\n",
       "        this.canvas_div.focus();\n",
       "    }\n",
       "\n",
       "    var x = canvas_pos.x * this.ratio;\n",
       "    var y = canvas_pos.y * this.ratio;\n",
       "\n",
       "    this.send_message(name, {\n",
       "        x: x,\n",
       "        y: y,\n",
       "        button: event.button,\n",
       "        step: event.step,\n",
       "        guiEvent: simpleKeys(event),\n",
       "    });\n",
       "\n",
       "    /* This prevents the web browser from automatically changing to\n",
       "     * the text insertion cursor when the button is pressed.  We want\n",
       "     * to control all of the cursor setting manually through the\n",
       "     * 'cursor' event from matplotlib */\n",
       "    event.preventDefault();\n",
       "    return false;\n",
       "};\n",
       "\n",
       "mpl.figure.prototype._key_event_extra = function (_event, _name) {\n",
       "    // Handle any extra behaviour associated with a key event\n",
       "};\n",
       "\n",
       "mpl.figure.prototype.key_event = function (event, name) {\n",
       "    // Prevent repeat events\n",
       "    if (name === 'key_press') {\n",
       "        if (event.key === this._key) {\n",
       "            return;\n",
       "        } else {\n",
       "            this._key = event.key;\n",
       "        }\n",
       "    }\n",
       "    if (name === 'key_release') {\n",
       "        this._key = null;\n",
       "    }\n",
       "\n",
       "    var value = '';\n",
       "    if (event.ctrlKey && event.key !== 'Control') {\n",
       "        value += 'ctrl+';\n",
       "    }\n",
       "    else if (event.altKey && event.key !== 'Alt') {\n",
       "        value += 'alt+';\n",
       "    }\n",
       "    else if (event.shiftKey && event.key !== 'Shift') {\n",
       "        value += 'shift+';\n",
       "    }\n",
       "\n",
       "    value += 'k' + event.key;\n",
       "\n",
       "    this._key_event_extra(event, name);\n",
       "\n",
       "    this.send_message(name, { key: value, guiEvent: simpleKeys(event) });\n",
       "    return false;\n",
       "};\n",
       "\n",
       "mpl.figure.prototype.toolbar_button_onclick = function (name) {\n",
       "    if (name === 'download') {\n",
       "        this.handle_save(this, null);\n",
       "    } else {\n",
       "        this.send_message('toolbar_button', { name: name });\n",
       "    }\n",
       "};\n",
       "\n",
       "mpl.figure.prototype.toolbar_button_onmouseover = function (tooltip) {\n",
       "    this.message.textContent = tooltip;\n",
       "};\n",
       "\n",
       "///////////////// REMAINING CONTENT GENERATED BY embed_js.py /////////////////\n",
       "// prettier-ignore\n",
       "var _JSXTOOLS_RESIZE_OBSERVER=function(A){var t,i=new WeakMap,n=new WeakMap,a=new WeakMap,r=new WeakMap,o=new Set;function s(e){if(!(this instanceof s))throw new TypeError(\"Constructor requires 'new' operator\");i.set(this,e)}function h(){throw new TypeError(\"Function is not a constructor\")}function c(e,t,i,n){e=0 in arguments?Number(arguments[0]):0,t=1 in arguments?Number(arguments[1]):0,i=2 in arguments?Number(arguments[2]):0,n=3 in arguments?Number(arguments[3]):0,this.right=(this.x=this.left=e)+(this.width=i),this.bottom=(this.y=this.top=t)+(this.height=n),Object.freeze(this)}function d(){t=requestAnimationFrame(d);var s=new WeakMap,p=new Set;o.forEach((function(t){r.get(t).forEach((function(i){var r=t instanceof window.SVGElement,o=a.get(t),d=r?0:parseFloat(o.paddingTop),f=r?0:parseFloat(o.paddingRight),l=r?0:parseFloat(o.paddingBottom),u=r?0:parseFloat(o.paddingLeft),g=r?0:parseFloat(o.borderTopWidth),m=r?0:parseFloat(o.borderRightWidth),w=r?0:parseFloat(o.borderBottomWidth),b=u+f,F=d+l,v=(r?0:parseFloat(o.borderLeftWidth))+m,W=g+w,y=r?0:t.offsetHeight-W-t.clientHeight,E=r?0:t.offsetWidth-v-t.clientWidth,R=b+v,z=F+W,M=r?t.width:parseFloat(o.width)-R-E,O=r?t.height:parseFloat(o.height)-z-y;if(n.has(t)){var k=n.get(t);if(k[0]===M&&k[1]===O)return}n.set(t,[M,O]);var S=Object.create(h.prototype);S.target=t,S.contentRect=new c(u,d,M,O),s.has(i)||(s.set(i,[]),p.add(i)),s.get(i).push(S)}))})),p.forEach((function(e){i.get(e).call(e,s.get(e),e)}))}return s.prototype.observe=function(i){if(i instanceof window.Element){r.has(i)||(r.set(i,new Set),o.add(i),a.set(i,window.getComputedStyle(i)));var n=r.get(i);n.has(this)||n.add(this),cancelAnimationFrame(t),t=requestAnimationFrame(d)}},s.prototype.unobserve=function(i){if(i instanceof window.Element&&r.has(i)){var n=r.get(i);n.has(this)&&(n.delete(this),n.size||(r.delete(i),o.delete(i))),n.size||r.delete(i),o.size||cancelAnimationFrame(t)}},A.DOMRectReadOnly=c,A.ResizeObserver=s,A.ResizeObserverEntry=h,A}; // eslint-disable-line\n",
       "mpl.toolbar_items = [[\"Home\", \"Reset original view\", \"fa fa-home icon-home\", \"home\"], [\"Back\", \"Back to previous view\", \"fa fa-arrow-left icon-arrow-left\", \"back\"], [\"Forward\", \"Forward to next view\", \"fa fa-arrow-right icon-arrow-right\", \"forward\"], [\"\", \"\", \"\", \"\"], [\"Pan\", \"Left button pans, Right button zooms\\nx/y fixes axis, CTRL fixes aspect\", \"fa fa-arrows icon-move\", \"pan\"], [\"Zoom\", \"Zoom to rectangle\\nx/y fixes axis, CTRL fixes aspect\", \"fa fa-square-o icon-check-empty\", \"zoom\"], [\"\", \"\", \"\", \"\"], [\"Download\", \"Download plot\", \"fa fa-floppy-o icon-save\", \"download\"]];\n",
       "\n",
       "mpl.extensions = [\"eps\", \"jpeg\", \"pgf\", \"pdf\", \"png\", \"ps\", \"raw\", \"svg\", \"tif\"];\n",
       "\n",
       "mpl.default_extension = \"png\";/* global mpl */\n",
       "\n",
       "var comm_websocket_adapter = function (comm) {\n",
       "    // Create a \"websocket\"-like object which calls the given IPython comm\n",
       "    // object with the appropriate methods. Currently this is a non binary\n",
       "    // socket, so there is still some room for performance tuning.\n",
       "    var ws = {};\n",
       "\n",
       "    ws.binaryType = comm.kernel.ws.binaryType;\n",
       "    ws.readyState = comm.kernel.ws.readyState;\n",
       "    function updateReadyState(_event) {\n",
       "        if (comm.kernel.ws) {\n",
       "            ws.readyState = comm.kernel.ws.readyState;\n",
       "        } else {\n",
       "            ws.readyState = 3; // Closed state.\n",
       "        }\n",
       "    }\n",
       "    comm.kernel.ws.addEventListener('open', updateReadyState);\n",
       "    comm.kernel.ws.addEventListener('close', updateReadyState);\n",
       "    comm.kernel.ws.addEventListener('error', updateReadyState);\n",
       "\n",
       "    ws.close = function () {\n",
       "        comm.close();\n",
       "    };\n",
       "    ws.send = function (m) {\n",
       "        //console.log('sending', m);\n",
       "        comm.send(m);\n",
       "    };\n",
       "    // Register the callback with on_msg.\n",
       "    comm.on_msg(function (msg) {\n",
       "        //console.log('receiving', msg['content']['data'], msg);\n",
       "        var data = msg['content']['data'];\n",
       "        if (data['blob'] !== undefined) {\n",
       "            data = {\n",
       "                data: new Blob(msg['buffers'], { type: data['blob'] }),\n",
       "            };\n",
       "        }\n",
       "        // Pass the mpl event to the overridden (by mpl) onmessage function.\n",
       "        ws.onmessage(data);\n",
       "    });\n",
       "    return ws;\n",
       "};\n",
       "\n",
       "mpl.mpl_figure_comm = function (comm, msg) {\n",
       "    // This is the function which gets called when the mpl process\n",
       "    // starts-up an IPython Comm through the \"matplotlib\" channel.\n",
       "\n",
       "    var id = msg.content.data.id;\n",
       "    // Get hold of the div created by the display call when the Comm\n",
       "    // socket was opened in Python.\n",
       "    var element = document.getElementById(id);\n",
       "    var ws_proxy = comm_websocket_adapter(comm);\n",
       "\n",
       "    function ondownload(figure, _format) {\n",
       "        window.open(figure.canvas.toDataURL());\n",
       "    }\n",
       "\n",
       "    var fig = new mpl.figure(id, ws_proxy, ondownload, element);\n",
       "\n",
       "    // Call onopen now - mpl needs it, as it is assuming we've passed it a real\n",
       "    // web socket which is closed, not our websocket->open comm proxy.\n",
       "    ws_proxy.onopen();\n",
       "\n",
       "    fig.parent_element = element;\n",
       "    fig.cell_info = mpl.find_output_cell(\"<div id='\" + id + \"'></div>\");\n",
       "    if (!fig.cell_info) {\n",
       "        console.error('Failed to find cell for figure', id, fig);\n",
       "        return;\n",
       "    }\n",
       "    fig.cell_info[0].output_area.element.on(\n",
       "        'cleared',\n",
       "        { fig: fig },\n",
       "        fig._remove_fig_handler\n",
       "    );\n",
       "};\n",
       "\n",
       "mpl.figure.prototype.handle_close = function (fig, msg) {\n",
       "    var width = fig.canvas.width / fig.ratio;\n",
       "    fig.cell_info[0].output_area.element.off(\n",
       "        'cleared',\n",
       "        fig._remove_fig_handler\n",
       "    );\n",
       "    fig.resizeObserverInstance.unobserve(fig.canvas_div);\n",
       "\n",
       "    // Update the output cell to use the data from the current canvas.\n",
       "    fig.push_to_output();\n",
       "    var dataURL = fig.canvas.toDataURL();\n",
       "    // Re-enable the keyboard manager in IPython - without this line, in FF,\n",
       "    // the notebook keyboard shortcuts fail.\n",
       "    IPython.keyboard_manager.enable();\n",
       "    fig.parent_element.innerHTML =\n",
       "        '<img src=\"' + dataURL + '\" width=\"' + width + '\">';\n",
       "    fig.close_ws(fig, msg);\n",
       "};\n",
       "\n",
       "mpl.figure.prototype.close_ws = function (fig, msg) {\n",
       "    fig.send_message('closing', msg);\n",
       "    // fig.ws.close()\n",
       "};\n",
       "\n",
       "mpl.figure.prototype.push_to_output = function (_remove_interactive) {\n",
       "    // Turn the data on the canvas into data in the output cell.\n",
       "    var width = this.canvas.width / this.ratio;\n",
       "    var dataURL = this.canvas.toDataURL();\n",
       "    this.cell_info[1]['text/html'] =\n",
       "        '<img src=\"' + dataURL + '\" width=\"' + width + '\">';\n",
       "};\n",
       "\n",
       "mpl.figure.prototype.updated_canvas_event = function () {\n",
       "    // Tell IPython that the notebook contents must change.\n",
       "    IPython.notebook.set_dirty(true);\n",
       "    this.send_message('ack', {});\n",
       "    var fig = this;\n",
       "    // Wait a second, then push the new image to the DOM so\n",
       "    // that it is saved nicely (might be nice to debounce this).\n",
       "    setTimeout(function () {\n",
       "        fig.push_to_output();\n",
       "    }, 1000);\n",
       "};\n",
       "\n",
       "mpl.figure.prototype._init_toolbar = function () {\n",
       "    var fig = this;\n",
       "\n",
       "    var toolbar = document.createElement('div');\n",
       "    toolbar.classList = 'btn-toolbar';\n",
       "    this.root.appendChild(toolbar);\n",
       "\n",
       "    function on_click_closure(name) {\n",
       "        return function (_event) {\n",
       "            return fig.toolbar_button_onclick(name);\n",
       "        };\n",
       "    }\n",
       "\n",
       "    function on_mouseover_closure(tooltip) {\n",
       "        return function (event) {\n",
       "            if (!event.currentTarget.disabled) {\n",
       "                return fig.toolbar_button_onmouseover(tooltip);\n",
       "            }\n",
       "        };\n",
       "    }\n",
       "\n",
       "    fig.buttons = {};\n",
       "    var buttonGroup = document.createElement('div');\n",
       "    buttonGroup.classList = 'btn-group';\n",
       "    var button;\n",
       "    for (var toolbar_ind in mpl.toolbar_items) {\n",
       "        var name = mpl.toolbar_items[toolbar_ind][0];\n",
       "        var tooltip = mpl.toolbar_items[toolbar_ind][1];\n",
       "        var image = mpl.toolbar_items[toolbar_ind][2];\n",
       "        var method_name = mpl.toolbar_items[toolbar_ind][3];\n",
       "\n",
       "        if (!name) {\n",
       "            /* Instead of a spacer, we start a new button group. */\n",
       "            if (buttonGroup.hasChildNodes()) {\n",
       "                toolbar.appendChild(buttonGroup);\n",
       "            }\n",
       "            buttonGroup = document.createElement('div');\n",
       "            buttonGroup.classList = 'btn-group';\n",
       "            continue;\n",
       "        }\n",
       "\n",
       "        button = fig.buttons[name] = document.createElement('button');\n",
       "        button.classList = 'btn btn-default';\n",
       "        button.href = '#';\n",
       "        button.title = name;\n",
       "        button.innerHTML = '<i class=\"fa ' + image + ' fa-lg\"></i>';\n",
       "        button.addEventListener('click', on_click_closure(method_name));\n",
       "        button.addEventListener('mouseover', on_mouseover_closure(tooltip));\n",
       "        buttonGroup.appendChild(button);\n",
       "    }\n",
       "\n",
       "    if (buttonGroup.hasChildNodes()) {\n",
       "        toolbar.appendChild(buttonGroup);\n",
       "    }\n",
       "\n",
       "    // Add the status bar.\n",
       "    var status_bar = document.createElement('span');\n",
       "    status_bar.classList = 'mpl-message pull-right';\n",
       "    toolbar.appendChild(status_bar);\n",
       "    this.message = status_bar;\n",
       "\n",
       "    // Add the close button to the window.\n",
       "    var buttongrp = document.createElement('div');\n",
       "    buttongrp.classList = 'btn-group inline pull-right';\n",
       "    button = document.createElement('button');\n",
       "    button.classList = 'btn btn-mini btn-primary';\n",
       "    button.href = '#';\n",
       "    button.title = 'Stop Interaction';\n",
       "    button.innerHTML = '<i class=\"fa fa-power-off icon-remove icon-large\"></i>';\n",
       "    button.addEventListener('click', function (_evt) {\n",
       "        fig.handle_close(fig, {});\n",
       "    });\n",
       "    button.addEventListener(\n",
       "        'mouseover',\n",
       "        on_mouseover_closure('Stop Interaction')\n",
       "    );\n",
       "    buttongrp.appendChild(button);\n",
       "    var titlebar = this.root.querySelector('.ui-dialog-titlebar');\n",
       "    titlebar.insertBefore(buttongrp, titlebar.firstChild);\n",
       "};\n",
       "\n",
       "mpl.figure.prototype._remove_fig_handler = function (event) {\n",
       "    var fig = event.data.fig;\n",
       "    if (event.target !== this) {\n",
       "        // Ignore bubbled events from children.\n",
       "        return;\n",
       "    }\n",
       "    fig.close_ws(fig, {});\n",
       "};\n",
       "\n",
       "mpl.figure.prototype._root_extra_style = function (el) {\n",
       "    el.style.boxSizing = 'content-box'; // override notebook setting of border-box.\n",
       "};\n",
       "\n",
       "mpl.figure.prototype._canvas_extra_style = function (el) {\n",
       "    // this is important to make the div 'focusable\n",
       "    el.setAttribute('tabindex', 0);\n",
       "    // reach out to IPython and tell the keyboard manager to turn it's self\n",
       "    // off when our div gets focus\n",
       "\n",
       "    // location in version 3\n",
       "    if (IPython.notebook.keyboard_manager) {\n",
       "        IPython.notebook.keyboard_manager.register_events(el);\n",
       "    } else {\n",
       "        // location in version 2\n",
       "        IPython.keyboard_manager.register_events(el);\n",
       "    }\n",
       "};\n",
       "\n",
       "mpl.figure.prototype._key_event_extra = function (event, _name) {\n",
       "    var manager = IPython.notebook.keyboard_manager;\n",
       "    if (!manager) {\n",
       "        manager = IPython.keyboard_manager;\n",
       "    }\n",
       "\n",
       "    // Check for shift+enter\n",
       "    if (event.shiftKey && event.which === 13) {\n",
       "        this.canvas_div.blur();\n",
       "        // select the cell after this one\n",
       "        var index = IPython.notebook.find_cell_index(this.cell_info[0]);\n",
       "        IPython.notebook.select(index + 1);\n",
       "    }\n",
       "};\n",
       "\n",
       "mpl.figure.prototype.handle_save = function (fig, _msg) {\n",
       "    fig.ondownload(fig, null);\n",
       "};\n",
       "\n",
       "mpl.find_output_cell = function (html_output) {\n",
       "    // Return the cell and output element which can be found *uniquely* in the notebook.\n",
       "    // Note - this is a bit hacky, but it is done because the \"notebook_saving.Notebook\"\n",
       "    // IPython event is triggered only after the cells have been serialised, which for\n",
       "    // our purposes (turning an active figure into a static one), is too late.\n",
       "    var cells = IPython.notebook.get_cells();\n",
       "    var ncells = cells.length;\n",
       "    for (var i = 0; i < ncells; i++) {\n",
       "        var cell = cells[i];\n",
       "        if (cell.cell_type === 'code') {\n",
       "            for (var j = 0; j < cell.output_area.outputs.length; j++) {\n",
       "                var data = cell.output_area.outputs[j];\n",
       "                if (data.data) {\n",
       "                    // IPython >= 3 moved mimebundle to data attribute of output\n",
       "                    data = data.data;\n",
       "                }\n",
       "                if (data['text/html'] === html_output) {\n",
       "                    return [cell, data, j];\n",
       "                }\n",
       "            }\n",
       "        }\n",
       "    }\n",
       "};\n",
       "\n",
       "// Register the function which deals with the matplotlib target/channel.\n",
       "// The kernel may be null if the page has been refreshed.\n",
       "if (IPython.notebook.kernel !== null) {\n",
       "    IPython.notebook.kernel.comm_manager.register_target(\n",
       "        'matplotlib',\n",
       "        mpl.mpl_figure_comm\n",
       "    );\n",
       "}\n"
      ],
      "text/plain": [
       "<IPython.core.display.Javascript object>"
      ]
     },
     "metadata": {},
     "output_type": "display_data"
    },
    {
     "data": {
      "text/html": [
       "<img src=\"data:image/png;base64,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\" width=\"800\">"
      ],
      "text/plain": [
       "<IPython.core.display.HTML object>"
      ]
     },
     "metadata": {},
     "output_type": "display_data"
    }
   ],
   "source": [
    "\n",
    "def Plot3dim(x,y,z):\n",
    "    \n",
    "    fig = plt.figure()\n",
    "    \n",
    "    ax = plt.axes(projection='3d')\n",
    "    ax.scatter3D(x, y, z, color=(1,0,0))\n",
    "    ax.axes.set_xlim3d(left=0, right=1) \n",
    "    ax.axes.set_ylim3d(bottom=0, top=1) \n",
    "    ax.axes.set_zlim3d(bottom=0, top=1)\n",
    "    ax.grid(False)\n",
    "    ax.set_title(\"PLOT OF ALLOWED ENTROPIES\")\n",
    "    ax.set_xlabel(r\"$S_{pol}$\")\n",
    "    ax.set_ylabel(r\"$S_{par}$\")\n",
    "    ax.set_zlabel(r\"$S$\")\n",
    "%matplotlib notebook\n",
    "Plot3dim(x,y,z)"
   ]
  },
  {
   "cell_type": "markdown",
   "metadata": {},
   "source": [
    "## 6. Quantum Circuits\n",
    "As one may have already noticed, the behavior of the system here can be accurately modelled using quantum systems where instead of coherence one measures the purity of a state. We make use of the IBM Qiskit libraries to build these experimental setups into their equivalent quantum circuits making use of ancillary qubits to create inherently mixed states. The main idea here is that for experiment A we would only need the two qubits each representing one DoF to model this system and reproduce the results using the appropriate operators.\n",
    "### Interpretation of the model\n",
    "<p>The first qubit (indexed by 0) refers to the polarisation DOF and the second qubit (index 1) refers to the parity DOF. We will take the $|1\\rangle$ state of polarity to mean pure V-polarisation and $|0\\rangle$ state to mean pure H-polarisation. Similarly, we take the $|0\\rangle$ and $|1\\rangle$ states of the parity qubit to mean purely even and purely odd mode, respectively.</p>\n",
    "<table>\n",
    "    <tr><td>Parity-polarisation state</td><td>Qubit configuration</td></tr>\n",
    "    <tr><td>He</td><td>00</td></tr>\n",
    "    <tr><td>Ho</td><td>01</td></tr>\n",
    "    <tr><td>Ve</td><td>10</td></tr>\n",
    "    <tr><td>Vo</td><td>11</td></tr>\n",
    "</table>\n",
    "<p>Further, we will always use any ancilla qubits we need, to replicate the probabilistic devices (like random rotator or probabilistic PS-SLM) to be the initial qubits, the second last qubit will represent polarisation, and the last qubit represents parity.</p>\n",
    "\n",
    "For experiment B one of our state is starting in an impure form, something which cannot be reached if one were to only apply unitary transformations. Here we make use of an ancillary qubit which is coupled with the rest of the two qubits and hence is in a way storing the coherence we wished to get rid off as part of it's coupling. The main idea of this paper was that partial trace matrices do not give us the complete picture of the system which we can demonstrate very simply just by using a bell state (a pure state) and noting that it's partial traces are actually representative of impure states.\n",
    "\n",
    "The purpose of this section is to demonstrate a simulation which is based in quantum mechanics which reproduces the results of classical coherence obtained in this paper.\n",
    "\n",
    "A small point to add is that in qiskit the representation is not with zeroth qubit being MSB and last qubit being LSB but the other way round. In experiment A for example $q_0$ is the polarization qubit and $q_1$ is the parity qubit and so Ho is actually 10 and Ve is 01 and so on."
   ]
  },
  {
   "cell_type": "code",
   "execution_count": 49,
   "metadata": {},
   "outputs": [],
   "source": [
    "#Defining the operations on the circuit\n",
    "simulator = Aer.get_backend('statevector_simulator') #Using statevector simulator\n",
    "%matplotlib inline\n",
    "\n",
    "def SLM(phi,qc,ancilla_used = 0):\n",
    "    qc.rx(-phi,ancilla_used+1)\n",
    "    return\n",
    "#For HWP, by observing the 2x2 matrix, we see that the operator looks like Ry(theta)*sigma_Z \n",
    "def HWP(theta,qc,ancilla_used = 0):\n",
    "    qc.z(ancilla_used)\n",
    "    qc.ry(theta,ancilla_used)\n",
    "    return\n",
    "\n",
    "#for PS-SLM, we want the H-polarisation to induce an SLM action, but not V. So, if polarisation qubit is 0 (H), we want the\n",
    "#controlled gate to fire. So we first invert (NOT or X gate) the control bit, use a usual controlled gate, then invert it \n",
    "#again.\n",
    "def PSSLM(phi,qc,ancilla_used=0):\n",
    "    qc.x(ancilla_used)\n",
    "    qc.crx(-phi,ancilla_used,ancilla_used+1) #angle,control,target\n",
    "    qc.x(ancilla_used)\n",
    "    return\n",
    "\n",
    "def corr_circ(qc):\n",
    "    result = execute(qc, simulator).result()\n",
    "    statevector = result.get_statevector(qc)\n",
    "    corr = 0\n",
    "    if len(statevector) is 4:\n",
    "        corr = 2*(np.absolute(statevector[0]**2) + np.absolute(statevector[3]**2)) - 1\n",
    "    if len(statevector) is 8:\n",
    "        corr = (np.absolute(statevector[0]**2) + np.absolute(statevector[1]**2) + np.absolute(statevector[6]**2) + np.absolute(statevector[7]**2)) - (np.absolute(statevector[2]**2) + np.absolute(statevector[3]**2) + np.absolute(statevector[4]**2) + np.absolute(statevector[5]**2))\n",
    "    return corr"
   ]
  },
  {
   "cell_type": "markdown",
   "metadata": {},
   "source": [
    "### 6.1 Experiment A\n",
    "For this experiment we take $q_0$ as the polarization DoF and $q_1$ as the parity DoF. Based on the matrix forms of the experimental apparatus we can see that applying an HWP is analogous to a $R_y(\\theta)Z$ on $q_0$ and the SLM is $R_x(-\\phi)$ and the PSSLM is just the SLM as a controlled operation except that it activates for $q_0$ being in 0 instead of 1 so we just apply a NOT on that bit before and after the controlled gate. The measurement done in the end uses the statevector simulator of qiskit to directly calculate probabilities based on the state of the system. While running multiple shots using one of the real quantum computers one can access using IBM-Q would have been more impressive, those will come with heavy noise outputs would require additional noise and error mitigation procedures."
   ]
  },
  {
   "cell_type": "code",
   "execution_count": 50,
   "metadata": {},
   "outputs": [
    {
     "data": {
      "image/png": "[encoded data removed]",
      "text/plain": [
       "<Figure size 840.392x204.68 with 1 Axes>"
      ]
     },
     "execution_count": 50,
     "metadata": {},
     "output_type": "execute_result"
    }
   ],
   "source": [
    "#Quantum Circuit Diagram for A\n",
    "qcA = QuantumCircuit(2,2)\n",
    "qcA.h(0)\n",
    "qcA.barrier() #initialisation complete, 45 degre linearly polarised even mode\n",
    "PSSLM(np.pi/2,qcA) #no ancilla\n",
    "qcA.barrier() #beam is coupled, now on to analysis stage\n",
    "HWP(np.pi/4,qcA)\n",
    "SLM(np.pi/6,qcA)\n",
    "qcA.barrier()#Analysis stage complete. Now, measurement stage\n",
    "qcA.measure(0,0)\n",
    "qcA.measure(1,1)\n",
    "qcA.draw('mpl')"
   ]
  },
  {
   "cell_type": "code",
   "execution_count": 51,
   "metadata": {},
   "outputs": [],
   "source": [
    "def CA(theta_a,phi_a,phi):\n",
    "    qcA=QuantumCircuit(2,2)\n",
    "    qcA.h(0)\n",
    "    qcA.barrier() #initialisation complete, 45 degre linearly polarised even mode\n",
    "    PSSLM(phi,qcA) #no ancilla\n",
    "    qcA.barrier() #beam is coupled, now on to analysis stage\n",
    "    HWP(theta_a,qcA)\n",
    "    SLM(phi_a,qcA)\n",
    "    corr = corr_circ(qcA)\n",
    "    return corr"
   ]
  },
  {
   "cell_type": "code",
   "execution_count": 52,
   "metadata": {},
   "outputs": [
    {
     "data": {
      "application/vnd.jupyter.widget-view+json": {
       "model_id": "a45749648c2b4500bb303289f058e41f",
       "version_major": 2,
       "version_minor": 0
      },
      "text/plain": [
       "interactive(children=(FloatSlider(value=1.5707963267948966, continuous_update=False, description='phi_A', layo…"
      ]
     },
     "metadata": {},
     "output_type": "display_data"
    }
   ],
   "source": [
    "def CP_A(phi_A):\n",
    "    phi_fixed = phi_A\n",
    "    points = 50\n",
    "    ta_range = np.linspace(0,2*np.pi,points)\n",
    "    pa_range = np.linspace(0,2*np.pi,points)\n",
    "    X,Y = np.meshgrid(ta_range, pa_range)\n",
    "    Z = [[0 for i in range(50)] for j in range(50)]\n",
    "    for i in range(len(Y)):\n",
    "        for j in range(len(X)):\n",
    "            Z[i][j] = CA(ta_range[j],pa_range[i],phi_fixed)\n",
    "    fig, ax = plt.subplots(figsize=(7,5.7))\n",
    "    cp = ax.contourf(X, Y, Z ,cmap='turbo');\n",
    "    fig.colorbar(cp) # Add a colorbar to a plot\n",
    "    plt.xlim(0,2*np.pi)\n",
    "    plt.ylim(0,2*np.pi)\n",
    "    ax.axis('equal')\n",
    "    return\n",
    "interact(CP_A, phi_A=widgets.FloatSlider(min=0, max=2*np.pi, step=0.01, value=np.pi/2, continuous_update=False, layout=Layout(width='600px')));"
   ]
  },
  {
   "cell_type": "markdown",
   "metadata": {},
   "source": [
    "As we can see above we have succesfully recreated the same results using abstract qubits."
   ]
  },
  {
   "cell_type": "markdown",
   "metadata": {},
   "source": [
    "### 6.2 Experiment B\n",
    "Here in the experiment a random rotator is used to generate what would be measured as unpolarized light. As stated before the coherence of a the DoFs are analogous to a qubit being in a mixed or pure state. Since we are working with idealized qubits the state of the system will always remain pure however if one were to look into just the hilbert space of few of the qubits but not all we would have it perceived as an impure state. Here unpolarized light would have a coherency (density) matrix which is diagonal with both entries equal to 1/2. This is a completely mixed state and we can generate this by looking at the partial trace of a qubit which is paired with another qubit as the bell state $\\dfrac{|00\\rangle + |11\\rangle}{\\sqrt{2}}$. Hence we make use of $q_0$ as an ancillary qubit which is present as a bell pair with $q_1$ which is now the polarization qubit. $q_2$ is the parity qubit. As we can see since we do not measure the $q_0$ qubit we would actually see $q_1$ behave like a mixed state which is what the random rotator actually achieves. More specifically the bell state I have described has half probability for any state on the XZ plane of the bloch sphere and since the random rotator is a $R_yZ$ operation the system as a whole is essentially composed of all states on the XZ plane which would be described by observing one qubit out of this bell pair."
   ]
  },
  {
   "cell_type": "code",
   "execution_count": 53,
   "metadata": {},
   "outputs": [
    {
     "data": {
      "image/png": "[encoded data removed]",
      "text/plain": [
       "<Figure size 900.592x264.88 with 1 Axes>"
      ]
     },
     "execution_count": 53,
     "metadata": {},
     "output_type": "execute_result"
    }
   ],
   "source": [
    "#Quantum Circuit Diagram for B\n",
    "qc_B = QuantumCircuit(3,2)\n",
    "qc_B.h(0)\n",
    "qc_B.cx(0,1)\n",
    "qc_B.barrier() #initialisation complete as unpolarized light\n",
    "PSSLM(np.pi/2,qc_B,1)\n",
    "qc_B.barrier() #beam is coupled, now on to analysis stage\n",
    "HWP(np.pi/4,qc_B,1)\n",
    "SLM(np.pi/6,qc_B,1)\n",
    "qc_B.barrier()#Analysis stage complete. Now, measurement stage\n",
    "qc_B.measure(1,0)\n",
    "qc_B.measure(2,1)\n",
    "qc_B.draw('mpl')"
   ]
  },
  {
   "cell_type": "code",
   "execution_count": 54,
   "metadata": {},
   "outputs": [],
   "source": [
    "#Experiment C\n",
    "def CB(theta_a,phi_a,phi):\n",
    "    #Quantum Circuit Diagram for A\n",
    "    qc_B = QuantumCircuit(3)\n",
    "    qc_B.h(0)\n",
    "    qc_B.cx(0,1)\n",
    "    qc_B.barrier() #initialisation complete as unpolarized light\n",
    "    PSSLM(phi,qc_B,1)\n",
    "    qc_B.barrier() #beam is coupled, now on to analysis stage\n",
    "    HWP(theta_a,qc_B,1)\n",
    "    SLM(phi_a,qc_B,1)\n",
    "    qc_B.barrier()#Analysis stage complete.\n",
    "    return corr_circ(qc_B)"
   ]
  },
  {
   "cell_type": "code",
   "execution_count": 55,
   "metadata": {},
   "outputs": [
    {
     "data": {
      "application/vnd.jupyter.widget-view+json": {
       "model_id": "b4b1b1a8b89c494b94ddb7d12cf2aace",
       "version_major": 2,
       "version_minor": 0
      },
      "text/plain": [
       "interactive(children=(FloatSlider(value=3.141592653589793, continuous_update=False, description='phi_B', layou…"
      ]
     },
     "metadata": {},
     "output_type": "display_data"
    }
   ],
   "source": [
    "#This cell takes time to run\n",
    "def CP_B(phi_B):\n",
    "    phi_fixed = phi_B\n",
    "    points = 50\n",
    "    ta_range = np.linspace(0,2*np.pi,points)\n",
    "    pa_range = np.linspace(0,2*np.pi,points)\n",
    "    X,Y = np.meshgrid(ta_range, pa_range)\n",
    "    Z = [[0 for i in range(50)] for j in range(50)]\n",
    "    for i in range(len(Y)):\n",
    "        for j in range(len(X)):\n",
    "            Z[i][j] = CB(ta_range[j],pa_range[i],phi_fixed)\n",
    "    fig, ax = plt.subplots(figsize=(7,5.7))\n",
    "    cp = ax.contourf(X, Y, Z ,cmap='turbo');\n",
    "    fig.colorbar(cp) # Add a colorbar to a plot\n",
    "    plt.xlim(0,2*np.pi)\n",
    "    plt.ylim(0,2*np.pi)\n",
    "    ax.axis('equal')\n",
    "    return\n",
    "interact(CP_B, phi_B=widgets.FloatSlider(min=0, max=2*np.pi, step=0.01, value=np.pi, continuous_update=False, layout=Layout(width='600px')));"
   ]
  },
  {
   "cell_type": "markdown",
   "metadata": {},
   "source": [
    "As we can see above we have again been able to reproduce results exactly from those we obtained previously and that of the paper for the correlation function."
   ]
  },
  {
   "cell_type": "markdown",
   "metadata": {},
   "source": [
    "### 6.3 Experiment C\n",
    "In experiment C the paper randomly chooses to either couple the DoFs or not with probability of $P$ and $1-P$ respectively. To recreate this I again make use of an ancillary qubit $q_0$ similar to section [6.2](#6.2-Experiment-B). The idea is to create this in the state $\\sqrt{1-P}|0\\rangle + \\sqrt{P}|1\\rangle$ and use a controlled-Rx gate with angle $-\\pi$ with $q_0$ and $q_1$ (polarization) as control bits where polarization needs to be 0 and ancilla needs to be 1 to activate this rotation. The circuit used decomposes the two control gate using the standard procedure for decomposing two control single target qubit gates if the single control gate is available."
   ]
  },
  {
   "cell_type": "code",
   "execution_count": 56,
   "metadata": {},
   "outputs": [
    {
     "data": {
      "image/png": "[encoded data removed]",
      "text/plain": [
       "<Figure size 1081.19x264.88 with 1 Axes>"
      ]
     },
     "execution_count": 56,
     "metadata": {},
     "output_type": "execute_result"
    }
   ],
   "source": [
    "qc_C = QuantumCircuit(3,2)\n",
    "P = 0.5\n",
    "qc_C.ry(2*np.arccos(np.sqrt(1-P)),0)#Preparing the probability qubit\n",
    "qc_C.h(1)\n",
    "qc_C.barrier()\n",
    "#Do a controlled Rx(-pi) gate with two controls\n",
    "qc_C.x(1)\n",
    "qc_C.crx(-np.pi/2,1,2)\n",
    "qc_C.cx(0,1)\n",
    "qc_C.crx(np.pi/2,1,2)\n",
    "qc_C.cx(0,1)\n",
    "qc_C.crx(-np.pi/2,0,2)\n",
    "qc_C.x(1)\n",
    "qc_C.barrier()\n",
    "#Analysis stage now\n",
    "HWP(np.pi/6,qc_C,1)\n",
    "SLM(np.pi/3,qc_C,1)\n",
    "qc_C.barrier()\n",
    "qc_C.measure(1,0)\n",
    "qc_C.measure(2,1)\n",
    "qc_C.draw('mpl')"
   ]
  },
  {
   "cell_type": "code",
   "execution_count": 57,
   "metadata": {},
   "outputs": [],
   "source": [
    "#Experiment C\n",
    "def CC(P,theta_a,phi_a):\n",
    "    qc_C = QuantumCircuit(3)\n",
    "    qc_C.ry(2*np.arccos(np.sqrt(1-P)),0)#Preparing the probability qubit\n",
    "    qc_C.h(1)\n",
    "    qc_C.barrier()\n",
    "    #Do a controlled y gate with two controls\n",
    "    qc_C.x(1)\n",
    "    qc_C.crx(-np.pi/2,1,2)\n",
    "    qc_C.cx(0,1)\n",
    "    qc_C.crx(np.pi/2,1,2)\n",
    "    qc_C.cx(0,1)\n",
    "    qc_C.crx(-np.pi/2,0,2)\n",
    "    qc_C.x(1)\n",
    "    qc_C.barrier()\n",
    "    #Analysis stage now\n",
    "    HWP(theta_a,qc_C,1)\n",
    "    SLM(phi_a,qc_C,1)\n",
    "    return corr_circ(qc_C)"
   ]
  },
  {
   "cell_type": "code",
   "execution_count": 58,
   "metadata": {},
   "outputs": [
    {
     "data": {
      "application/vnd.jupyter.widget-view+json": {
       "model_id": "bd7f8ace7ca4477c86758c91619ae7d7",
       "version_major": 2,
       "version_minor": 0
      },
      "text/plain": [
       "interactive(children=(FloatSlider(value=0.5, continuous_update=False, description='P_var', layout=Layout(width…"
      ]
     },
     "metadata": {},
     "output_type": "display_data"
    }
   ],
   "source": [
    "def CP_C(P_var):\n",
    "    P_fixed = P_var\n",
    "    points = 50\n",
    "    ta_range = np.linspace(0,2*np.pi,points)\n",
    "    pa_range = np.linspace(0,2*np.pi,points)\n",
    "    X,Y = np.meshgrid(ta_range, pa_range)\n",
    "    Z = [[0 for i in range(50)] for j in range(50)]\n",
    "    for i in range(len(Y)):\n",
    "        for j in range(len(X)):\n",
    "            Z[i][j] = CC(P_fixed,ta_range[j],pa_range[i])\n",
    "    fig, ax = plt.subplots(figsize=(7,5.7))\n",
    "    cp = ax.contourf(X, Y, Z ,cmap='turbo');\n",
    "    fig.colorbar(cp) # Add a colorbar to a plot\n",
    "    plt.xlim(0,2*np.pi)\n",
    "    plt.ylim(0,2*np.pi)\n",
    "    ax.axis('equal')\n",
    "interact(CP_C, P_var=widgets.FloatSlider(min=0, max=1, step=0.01, value=0.5, continuous_update=False, layout=Layout(width='600px')));"
   ]
  },
  {
   "cell_type": "markdown",
   "metadata": {},
   "source": [
    "As we can see above this also faithfully reproduces the required results for the correlation function.\n",
    "\n",
    "### Universality using optical components\n",
    "Our main reference for this is [[3](#ref-3)]. To fully realize quantum computing (or any form of computing) one needs a physical system capable of producing the minimal set of operations which can then be extended to a set of all possible operations and sequences of operations. In classical computers the complete set is realized using the set of operations $\\{\\lnot,\\land\\}$ or $\\{\\lnot,\\lor\\}$. For quantum computers universality would imply being able to make any circuit which essentially means the set of all unitary matrices. This of course is non inclusive of measurements (which will not keep a circuit unitary) but one can prove that measurements placed in the middle of a cicuit can be taken to the very end without affecting the final measurement probabilities (since once measured any qubit is essentially decohered and cannot be part of the circuit anyway). \n",
    "\n",
    "To get the complete set of unitary matrices we can first start for the case of a single qubit. This set would essentially be the $SU(2)$ group which is isomorphic to $SO(3)$ and given that we have an $R_x(\\theta)$ gate in form of the SLM we actually just need rotation about some other axis to achieve single qubit universality for parity. The polarization qubit does have a $R_y(\\theta)Z$ qubit which can be used to get the hadamard gate $H$ with $\\theta = \\pi/2$ and in combination with a quarter wave plate with fast axis horizontal which is effectively the square root of $Z$ denoted with an $S$ (ignoring global phase) we can actually make the HWP just be a pure $R_y(\\theta)$. Additionally using $\\theta=\\pi$ we can make this into an $X$ gate ignoring global phase. The importance of this $X$ gate is that if we apply the gate sequence $X$-PSSLM-$X$ it is effectively a PSSLM which applies the operation of the SLM when the polarization is vertical which transalates exactly into a controlled $R_x(\\phi)$ operation which we will use in our analysis below. \n",
    "\n",
    "The PS-SLM is an operator which controls the parity using the polarity and is essentially a controlled Rx gate and so can be made into a CNOT gate which adds an additional phase of $\\iota$ to the horizontal polarization component. To make the CNOT of the other way we can try for the MZI configuration proposed [here](#Proposal-for-a-Parity-Sensitive-Polarisation-Modifier). The point here is that once we have these two CNOTS, we can essentially get universal unitaries by swapping the polarization (see cells below) and parity qubit in such a way that we can apply an Rx gate followed by Ry and then another Rx with the appropriate euler angles and we can attain individual qubit universalities of $U3$ gates.\n",
    "\n",
    "The exact CNOT operation where polarization is control and parity is target involves making use of a quarter wave plate which has the operator form of $e^{-\\iota\\pi/4}\\begin{pmatrix}1 & 0\\\\0 & \\iota\\end{pmatrix}$ on the polarization qubit so that we can induce a relative phase between H and V of polarization. \n",
    "\n",
    "Now for getting overall universality we just need the CNOT gates of both ways and since we already have that using the PSSLM and the MZI setup described previously we actually have a universal quantum computer of two qubits."
   ]
  },
  {
   "cell_type": "code",
   "execution_count": 59,
   "metadata": {},
   "outputs": [
    {
     "name": "stdout",
     "output_type": "stream",
     "text": [
      "[[1.+0.000000e+00j 0.+0.000000e+00j 0.+0.000000e+00j 0.+0.000000e+00j]\n",
      " [0.+0.000000e+00j 0.+0.000000e+00j 0.+0.000000e+00j 1.-6.123234e-17j]\n",
      " [0.+0.000000e+00j 0.+0.000000e+00j 1.+0.000000e+00j 0.+0.000000e+00j]\n",
      " [0.+0.000000e+00j 1.+6.123234e-17j 0.+0.000000e+00j 0.+0.000000e+00j]]\n",
      "               ┌───┐\n",
      "q_0: ────■─────┤ S ├\n",
      "     ┌───┴────┐└───┘\n",
      "q_1: ┤ RX(pi) ├─────\n",
      "     └────────┘     \n"
     ]
    }
   ],
   "source": [
    "import qiskit.quantum_info as qi\n",
    "#CNOT\n",
    "qc_cn = QuantumCircuit(2)\n",
    "qc_cn.crx(np.pi,0,1)#PSSLM\n",
    "qc_cn.s(0)\n",
    "print((qi.Operator(qc_cn).data))\n",
    "print(qc_cn.draw())"
   ]
  },
  {
   "cell_type": "markdown",
   "metadata": {},
   "source": [
    "As we can see above as per the matrix form of the operation the circuit has done, this achieves the CNOT gate which we desire and below we show how make this into a swap gate."
   ]
  },
  {
   "cell_type": "code",
   "execution_count": 60,
   "metadata": {},
   "outputs": [
    {
     "name": "stdout",
     "output_type": "stream",
     "text": [
      "[[1.+0.000000e+00j 0.+0.000000e+00j 0.+0.000000e+00j 0.+0.000000e+00j]\n",
      " [0.+0.000000e+00j 0.+0.000000e+00j 1.-6.123234e-17j 0.+0.000000e+00j]\n",
      " [0.+0.000000e+00j 1.+6.123234e-17j 0.+0.000000e+00j 0.+0.000000e+00j]\n",
      " [0.+0.000000e+00j 0.+0.000000e+00j 0.+0.000000e+00j 1.+0.000000e+00j]]\n",
      "               ┌───┐┌───┐          ┌───┐\n",
      "q_0: ────■─────┤ S ├┤ X ├────■─────┤ S ├\n",
      "     ┌───┴────┐└───┘└─┬─┘┌───┴────┐└───┘\n",
      "q_1: ┤ RX(pi) ├───────■──┤ RX(pi) ├─────\n",
      "     └────────┘          └────────┘     \n"
     ]
    }
   ],
   "source": [
    "import qiskit.quantum_info as qi\n",
    "#Swap gate\n",
    "qc_sw = QuantumCircuit(2)\n",
    "qc_sw.crx(np.pi,0,1)#PSSLM\n",
    "qc_sw.s(0)#QWP\n",
    "qc_sw.cx(1,0)\n",
    "qc_sw.crx(np.pi,0,1)#PSSLM\n",
    "qc_sw.s(0)#QWP\n",
    "#Swapping complete\n",
    "print((qi.Operator(qc_sw).data))#See the operator as a matrix\n",
    "print(qc_sw.draw())"
   ]
  },
  {
   "cell_type": "markdown",
   "metadata": {},
   "source": [
    "As we can see above that this achieves the same unitary that a swap gate would. Since we have shown that polarization is capable of arbitray $R_x$ rotations and parity qubits are capable of arbitrary $R_y$ rotations we can follow the following sequence of steps for U3 gates on polarization as shown below. We take the euler angles for $Y-X-Y$ and first apply $R_y$ on polarization, swap with parity and apply a $R_x$ on parity after that. Finally swap again and do the final $R_y$ on the polarization qubit. We follow a similar procedure for parity U3 gates but instead use euler angles of $X-Y-X$."
   ]
  },
  {
   "cell_type": "code",
   "execution_count": 61,
   "metadata": {},
   "outputs": [
    {
     "data": {
      "image/png": "[encoded data removed]",
      "text/plain": [
       "<Figure size 1201.59x144.48 with 1 Axes>"
      ]
     },
     "execution_count": 61,
     "metadata": {},
     "output_type": "execute_result"
    }
   ],
   "source": [
    "#For doing arbitrary rotations on the polarization qubit\n",
    "qc_uq1 = QuantumCircuit(2)\n",
    "eul1 = np.pi/2\n",
    "eul2 = np.pi/3\n",
    "eul3 = np.pi\n",
    "qc_uq1.ry(eul1,0) #HWP combined with QWP\n",
    "qc_uq1.barrier()\n",
    "qc_uq1.crx(np.pi,0,1)#PSSLM\n",
    "qc_uq1.s(0)#QWP\n",
    "qc_uq1.cx(1,0)\n",
    "qc_uq1.crx(np.pi,0,1)#PSSLM\n",
    "qc_uq1.s(0)#QWP\n",
    "#Swapping complete\n",
    "qc_uq1.barrier()\n",
    "qc_uq1.rx(eul2,1) #SLM\n",
    "qc_uq1.barrier()\n",
    "qc_uq1.crx(np.pi,0,1)#PSSLM\n",
    "qc_uq1.s(0)#QWP\n",
    "qc_uq1.cx(1,0)\n",
    "qc_uq1.crx(np.pi,0,1)#PSSLM\n",
    "qc_uq1.s(0)#QWP\n",
    "#Swapping complete\n",
    "qc_uq1.barrier()\n",
    "qc_uq1.ry(eul3,0) #HWP combined with QWP\n",
    "qc_uq1.draw('mpl')"
   ]
  },
  {
   "cell_type": "code",
   "execution_count": 62,
   "metadata": {},
   "outputs": [
    {
     "data": {
      "image/png": "[encoded data removed]",
      "text/plain": [
       "<Figure size 1201.59x144.48 with 1 Axes>"
      ]
     },
     "execution_count": 62,
     "metadata": {},
     "output_type": "execute_result"
    }
   ],
   "source": [
    "#For doing arbitrary rotations on the parity qubit\n",
    "qc_uq2 = QuantumCircuit(2)\n",
    "eul1 = np.pi/2\n",
    "eul2 = np.pi/3\n",
    "eul3 = np.pi\n",
    "qc_uq2.rx(eul1,1) #HWP combined with QWP\n",
    "qc_uq2.barrier()\n",
    "qc_uq2.crx(np.pi,0,1)#PSSLM\n",
    "qc_uq2.s(0)#QWP\n",
    "qc_uq2.cx(1,0)\n",
    "qc_uq2.crx(np.pi,0,1)#PSSLM\n",
    "qc_uq2.s(0)#QWP\n",
    "#Swapping complete\n",
    "qc_uq2.barrier()\n",
    "qc_uq2.ry(eul2,0)\n",
    "qc_uq2.barrier()\n",
    "qc_uq2.crx(np.pi,0,1)#PSSLM\n",
    "qc_uq2.s(0)#QWP\n",
    "qc_uq2.cx(1,0)\n",
    "qc_uq2.crx(np.pi,0,1)#PSSLM\n",
    "qc_uq2.s(0)#QWP\n",
    "#Swapping complete\n",
    "qc_uq2.barrier()\n",
    "qc_uq2.rx(eul3,1) #HWP combined with QWP\n",
    "qc_uq2.draw('mpl')"
   ]
  },
  {
   "cell_type": "markdown",
   "metadata": {},
   "source": [
    "We must note that in the above schemes for U3 gates the other qubit over which the middle rotation is done actually unchanged due to the two swaps and there is no entaglement involved. Hence we have demonstrated a recipe for arbitrary U3 gates on both qubits and we also showed CNOT execution giving us a universal set for any unitary circuit on these two qubits."
   ]
  },
  {
   "cell_type": "markdown",
   "metadata": {},
   "source": [
    "## 7. Concluding Remarks\n",
    "The exceeding of $B_\\text{max}$ beyond the value of 2 in quantum mechanics implied that one cannot use locally deterministic hidden variable theories to explain quantum mechanics or simply put proves that quantum mechanics violates local realism. Here we have seen that $B_\\text{max}$ exceeds this classical limit and one can conclude equivalently that one cannot write the correlation function as some $C(\\theta_a,\\phi_a) = \\int d\\lambda\\rho(\\lambda)C_\\text{pol}(\\theta_a,\\lambda)C_\\text{par}(\\phi_a,\\lambda)$ where $\\lambda$ is some set of hidden variables. The proper proof of this is described in [Appendix A](#Appendix-A:-The-EPR-paradox-and-Bell's-inequalities) and the experimental results concur with this. \n",
    "\n",
    "In a way this shows that if one were to have two DoFs, there would be an uncertainty which arises due their coupling which is quantised by using the Bell's measure. These results would hold good regardless of the type of DoF used and can be extended to systems with a higher number of DoFs too. We also explored how one can link this with quantum systems and reproduced the results using a quantum computer simulation of IBM Q.\n",
    "\n",
    "More importantly one must take note of how looking at the coherency behaviors of the individual DoFs would not address the actual coherence it had since some of it would be 'shared' in form of coupling. In short the partial traces of coherency matrices offer an incomplete picture of the system quite similar to how one would deal with multi qubit systems and have the state behave mixed when only looking at the partial trace over a part of the Hilber space. We even took advantage of this incomplete picture to create mixed states in the previous section. This also demonstrates how one could effectively share coherence between two DoFs as seen in experiment B where the coherency $S_\\text{pol}$ of the polarization qubit is effectively increased at maximal entaglement with the fully coherent parity DoF."
   ]
  },
  {
   "cell_type": "markdown",
   "metadata": {},
   "source": [
    "## 8. Endsem Problem\n",
    "Design a fredkin gate."
   ]
  },
  {
   "cell_type": "markdown",
   "metadata": {},
   "source": [
    "## Appendix A: The EPR paradox and Bell's inequalities\n",
    "\n",
    "Before talking about the bell's measure let us first dive into why it was made and for this we must look at the EPR experiment proposed in [[4](#ref-4)]. I will discuss Bohm's variant since Bell's response was made in a way to that. Say we have prepared a electron-positron pair coming from a single source. These would be entangled in a way where if we measure the spin of one of the particles, the other particle will simultaneously collapse to the opposite spin.\n",
    "$$|{\\psi}\\rangle = \\dfrac{|{\\uparrow_e\\downarrow_p}\\rangle + |{\\downarrow_e\\uparrow_p}\\rangle}{\\sqrt{2}}$$\n",
    "So the main issue which Einstein had was that this means that measurement on one particle directly affects the other no matter how far it is. This makes it a non local effect which clearly does not make sense in a world which was believed to follow local realism. It can be proven that the two agents have no way to communicate using this pair hence showing that there actually is no faster than light comminication. While one may think choosing basis in a certain manner can change measurement probabilities and essentially have some \"information\" change, no matter how much measurements are done, since this is probabilistic the other agent cannot conclude anything from that.\n",
    "   \n",
    "\n",
    "While there have been multiple responses to this, the most important one is the one discussed in Bell's paper [[5](#ref-5)].\n",
    "First we will start by considering the EPR argument using spin particles. Consider a pair of spin one-half particles formed somehow in the singlet spin state and moving freely in opposite directions. Measurements can be made, say by Stern-Gerlach magnets, on selected components of the spins $\\vec{\\sigma_1}$ and $\\vec{\\sigma_2}$,\n",
    "If measurement of the component $\\vec{\\sigma_1}\\cdot{a}$, where $a$ is some unit vector, yields the value +1 then, according to quantum mechanics, measurement of $\\vec{\\sigma_2}\\cdot{a}$ must yield the value -1 and vice versa.\n",
    "We now define some set of parameters $\\lambda$ which is taken as continuous which give us a complete description of the state. The result $A$ of measuring $\\vec{\\sigma_1}\\cdot{a}$ is then determined by $a$ and $\\lambda$, and the result $B$ of measuring $\\vec{\\sigma_2}\\cdot{b}$ in the\n",
    "same instance is determined by $b$ and $\\lambda$.\n",
    "\\begin{equation}\\label{eq:1A}\\tag{1A}A(\\vec{a},\\lambda) = \\pm 1, B(\\vec{b},\\lambda) = \\pm 1 \\end{equation}\n",
    "We now take $\\rho(\\lambda)$ as the probability distribution of $\\lambda$ and we will now try to find the expectation value of of the product of the two components $\\vec{\\sigma_1}\\cdot{a}$ and $\\vec{\\sigma_2}\\cdot{b}$.\n",
    "\\begin{equation}\\label{eq:2A}\\tag{2A}P(\\vec{a}\\vec{b}) = \\int{d\\lambda}\\rho{\\lambda}A(\\vec{a},\\lambda)B(\\vec{b},\\lambda)\\end{equation}\n",
    "The quantum mechanical expectation value of this is the following\n",
    "\\begin{equation}\\label{eq:3A}\\tag{3A}\\langle\\vec{\\sigma_1}\\cdot{a}\\vec{\\sigma_2}\\cdot{b}\\rangle = - \\vec{a}\\cdot\\vec{b}\\end{equation}\n",
    "However it turns out that eq: \\ref{eq:2A} doesn't give us the same result as \\ref{eq:3A}. So first off we know that we have a normalized distribution.\n",
    "\\begin{equation}\\label{eq:4A}\\tag{4A}\\int{d\\lambda}\\rho(\\lambda) = 1\\end{equation}\n",
    "if we take $\\vec{a} = \\vec{b}$ the $P$ in eq: \\ref{eq:2A} can reach -1.\n",
    "\\begin{equation}\\label{eq:5A}\\tag{5A}A(\\vec{a},\\lambda) = -B(\\vec{a},\\lambda)\\end{equation}\n",
    "Knowing this we can rewrite eq: \\ref{eq:2A} into the following\n",
    "\\begin{equation}\\label{eq:6A}\\tag{6A}P(\\vec{a}\\vec{b}) = -\\int{d\\lambda}\\rho{\\lambda}A(\\vec{a},\\lambda)A(\\vec{b},\\lambda)\\end{equation}\n",
    "\\begin{equation}\\label{eq:7A}\\tag{7A}P(\\vec{a},\\vec{b}) - P(\\vec{a},\\vec{c}) = \\int{d\\lambda}\\rho{\\lambda}[1-A(\\vec{b},\\lambda)A(\\vec{c},\\lambda)]\\end{equation}\n",
    "from eq: \\ref{eq:1A} we can write this\n",
    "\\begin{equation}\\label{eq:8A}\\tag{8A}|P(\\vec{a},\\vec{b}) - P(\\vec{a},\\vec{c})| \\leq \\int{d\\lambda}\\rho{\\lambda}A(\\vec{a},\\lambda)A(\\vec{b},\\lambda)[A(\\vec{b},\\lambda)A(\\vec{c},\\lambda) - 1]\\end{equation}\n",
    "The second term on the right is just $P(\\vec{b},\\vec{c})$ so we get\n",
    "\\begin{equation}\\label{eq:9A}\\tag{9A}1 + P(\\vec{b},\\vec{c}) \\geq |P(\\vec{a},\\vec{b}) - P(\\vec{a},\\vec{c})|\\end{equation}\n",
    "Now we define a $\\overline{P}(\\vec{a},\\vec{b})$ and a $\\overline{- \\vec{a}\\cdot\\vec{b}}$ which essentially are the averages over vectors differing from a small angle from $\\vec{a}$ and $\\vec{b}$ of the quantities under the bar. Let's suppose the following holds for some $\\epsilon$\n",
    "\\begin{equation}\\label{eq:10A}\\tag{10A}|\\overline{P}(\\vec{a},\\vec{b}) + \\overline{\\vec{a}\\cdot\\vec{b}}| \\leq \\epsilon\\end{equation}\n",
    "We cannot make $\\epsilon$ arbitrarily small and this can be proven by the following steps. Let us first assume the following inequality holds for all $\\vec{a}$ and $\\vec{b}$\n",
    "\\begin{equation}\\label{eq:11A}\\tag{11A}|\\overline{\\vec{a}\\cdot\\vec{b}} - \\vec{a}\\cdot\\vec{b}| \\leq\\delta\\end{equation}\n",
    "Then using eq:\\ref{eq:11A} and eq:\\ref{eq:10A} we have\n",
    "\\begin{equation}\\label{eq:12A}\\tag{12A}|\\overline{P}(\\vec{a},\\vec{b}) + \\vec{a}\\cdot\\vec{b}| \\leq \\epsilon + \\delta\\end{equation}\n",
    "Now taking $\\vec{a} = \\vec{b}$ (hence their dot product is 1) we rewrite eq:\\ref{eq:12A} as the equation below while using the fact that $\\overline{P(\\vec{a},\\vec{b})} = \\int d\\lambda\\rho(\\lambda)\\overline{A}(\\vec{a},\\lambda)\\overline{B}(\\vec{b},\\lambda))$.\n",
    "\\begin{equation}\\label{eq:13A}\\tag{13A}\\int d\\lambda\\rho(\\lambda)[\\overline{A}(\\vec{b},\\lambda)\\overline{B}(\\vec{b},\\lambda))+1] \\leq\\epsilon+\\delta\\end{equation}\n",
    "We can extend from \\ref{eq:1A} that on averaging over a small range, $|\\overline{A}(\\vec{a},\\lambda)| \\leq 1$ and $|\\overline{B}(\\vec{b},\\lambda)| \\leq 1$. Now we can write the following\n",
    "\\begin{equation}\\label{eq:14A}\\tag{14A}\\overline{P}(\\vec{a},\\vec{b})-\\overline{P}(\\vec{b},\\vec{c}) = \\int{d\\lambda}\\rho(\\lambda)\\overline{A}(\\vec{a},\\lambda)\\overline{B}(\\vec{b},\\lambda)[\\overline{A}(\\vec{b},\\lambda)\\overline{B}(\\vec{c},\\lambda) + 1] - \\int{d\\lambda}\\rho(\\lambda)\\overline{A}(\\vec{a},\\lambda)\\overline{B}(\\vec{c},\\lambda)[\\overline{A}(\\vec{b},\\lambda)\\overline{B}(\\vec{b},\\lambda) + 1]\\end{equation}\n",
    "Using the inequalities on the averaged $A$ and $B$ we can write the following\n",
    "\\begin{equation}\\label{eq:15A}\\tag{15A}|\\overline{P}(\\vec{a},\\vec{b})-\\overline{P}(\\vec{b},\\vec{c})| \\leq \\int{d\\lambda}\\rho(\\lambda)[\\overline{A}(\\vec{b},\\lambda)\\overline{B}(\\vec{c},\\lambda) + 1] - \\int{d\\lambda}\\rho(\\lambda)[\\overline{A}(\\vec{b},\\lambda)\\overline{B}(\\vec{b},\\lambda) + 1]\\end{equation}\n",
    "\\begin{equation}\\label{eq:16A}\\tag{16A}|\\overline{P}(\\vec{a},\\vec{b})-\\overline{P}(\\vec{b},\\vec{c})| \\leq 1 + \\overline{P} + \\epsilon+\\delta\\end{equation}\n",
    "We write eq:\\ref{eq:16A} using eq:\\ref{eq:15A} and eq:\\ref{eq:13A}. Finally using eq:\\ref{eq:12A} we rewrite the above equation as\n",
    "\\begin{equation}\\label{eq:17A}\\tag{17A}|\\vec{a}\\cdot\\vec{c}-\\vec{a}\\cdot\\vec{b}|+\\vec{b}\\cdot\\vec{c}-1 \\leq 4(\\epsilon+\\delta)\\end{equation}\n",
    "Now with the constr  aint coming from eq:\\ref{eq:17A} we can handpick values of $\\vec{a},\\vec{b},\\vec{c}$ such that $\\epsilon$ cannot be made arbitrarily small (take $\\vec{a}\\cdot\\vec{b} = \\vec{c}\\cdot\\vec{b} = 1/\\sqrt{2}$ and $\\vec{a}\\cdot\\vec{c} = 0$ this would show $4(\\epsilon+\\delta)\\geq\\sqrt{2}-1$). The fact that $\\epsilon$ cannot be made arbitrarily small implies that the quantum mechanical value cannot be approximated either accurately or arbitrarily close to this form using hidden variable. So this contradiction implies that some assumptions that we have taken happen to not work together and that happen to be local determinism and hidden variables. So any hidden variable theory by nature itself is non local.\n",
    "\n",
    "To get the form of the CSHS inequalities we essentially modify the form of eq:\\ref{eq:14A} and write it as follows\n",
    "\\begin{equation}\\label{eq:18A}\\tag{18A}\\overline{P}(\\vec{a},\\vec{b})-\\overline{P}(\\vec{a},\\vec{b}') = \\int{d\\lambda}\\rho(\\lambda)\\overline{A}(\\vec{a},\\lambda)\\overline{B}(\\vec{b},\\lambda)[1\\pm\\overline{A}(\\vec{a}',\\lambda)\\overline{B}(\\vec{b}',\\lambda)] - \\int{d\\lambda}\\rho(\\lambda)\\overline{A}(\\vec{a},\\lambda)\\overline{B}(\\vec{b}',\\lambda)[1\\pm\\overline{A}(\\vec{a}',\\lambda)\\overline{B}(\\vec{b},\\lambda)]\\end{equation}\n",
    "We now apply the triangle inequality and also note that the modulus of the averaged functions $\\overline{A}$ and $\\overline{B}$ are bounded above by 1 we will get\n",
    "\\begin{equation}\\label{eq:19A}\\tag{19A}|\\overline{P}(\\vec{a},\\vec{b})-\\overline{P}(\\vec{a},\\vec{b}')| \\leq \\left|\\int{d\\lambda}\\rho(\\lambda)[1\\pm\\overline{A}(\\vec{a}',\\lambda)\\overline{B}(\\vec{b}',\\lambda)]\\right| + \\left|\\int{d\\lambda}\\rho(\\lambda)[1\\pm\\overline{A}(\\vec{a}',\\lambda)\\overline{B}(\\vec{b},\\lambda)]\\right|\\end{equation}\n",
    "We may as well remove the moduli brackets on the LHS since the quantities is non negative. Since $\\int\\rho(\\lambda)d\\lambda = 1$ and $\\overline{P(\\vec{a},\\vec{b})} = \\int d\\lambda\\rho(\\lambda)\\overline{A}(\\vec{a},\\lambda)\\overline{B}(\\vec{b},\\lambda))$ we can rewrite eq:\\ref{eq:19A} as\n",
    "\\begin{equation}\\label{eq:20A}\\tag{20A}|\\overline{P}(\\vec{a},\\vec{b})-\\overline{P}(\\vec{a},\\vec{b}')| \\leq 2 \\pm (\\overline{P}(\\vec{a}',\\vec{b}') + \\overline{P}(\\vec{a}',\\vec{b})) \\leq 2 \\pm |\\overline{P}(\\vec{a}',\\vec{b}') + \\overline{P}(\\vec{a}',\\vec{b}|\\end{equation}\n",
    "The second inequality comes from the triangle inequality. Now we can choose the minus sign and we get\n",
    "\\begin{equation}\\label{eq:21A}\\tag{21A}|\\overline{P}(\\vec{a},\\vec{b})-\\overline{P}(\\vec{a},\\vec{b}')| + |\\overline{P}(\\vec{a}',\\vec{b}') + \\overline{P}(\\vec{a}',\\vec{b}| \\leq 2\\end{equation}\n",
    "Finally we get the following equation by applying the triangle inequality on RHS of eq:\\ref{eq:21A}\n",
    "\\begin{equation}\\label{eq:22A}\\tag{22A}|\\overline{P}(\\vec{a},\\vec{b})-\\overline{P}(\\vec{a},\\vec{b}') + \\overline{P}(\\vec{a}',\\vec{b}') + \\overline{P}(\\vec{a}',\\vec{b}| \\leq 2\\end{equation}\n",
    "The above inequality is the form of writing the CHSH inequalities [[6](#ref-6)]. The bound above is shown to be 2 which is satisfied for classical systems and is violated for quantum mechanical correlations. One can instead prove a different bound for quantum correlations as $2\\sqrt{2}$. This is reffered to as the Tsirelon's bound. To prove this we can suppose we have four hermitian operators $A_0,A_1,B_0,B_1$ where $[A_i,B_j] = 0$ but the $[A_0,A_1] \\neq 0$ and $[B_0,B_1] \\neq 0$. We define these $A$ operators as being two different spin measurements on the same electron and $B$ being the same on the positron where their results are either $+1$ or $-1$. We know that for a simple spin system $[\\sigma\\cdot\\vec{a},\\sigma\\cdot\\vec{b}] = 2\\iota\\sigma\\cdot(\\vec{a}\\times\\vec{b})$. Now we will define a new operator called $\\mathcal{B}$\n",
    "$$\\mathcal{B} = A_0B_0 + A_0B_1 + A_1B_0 - A_1B_1$$\n",
    "This operator has been defined along the lines of the bell's measure where expectation value of the modulus of this operator would be the actual bells measure for a correlation function of $C_{ij} = \\langle A_iB_j\\rangle$. We can now square this operator and it would simpify as the equation below (since $A_i^2 = B_i^2 = I$)\n",
    "$$\\mathcal{B}^2 = 4I - [A_0,A_1][B_0,B_1]$$\n",
    "Since these are spin operators we have $|[A_0,A_1][B_0,B_1]| \\leq 4I$ using the commutation relation we had defined earlier. We would infact have $\\mathcal{B}^2$ reach it's maximum if $A_0,B_0$ measures along $\\hat{x}$ and $A_1,B_1$ measures along $\\hat{y}$ which would make $\\mathcal{B}^2 = 8I$. This leads us to $\\langle \\mathcal{B}\\rangle \\leq 2\\sqrt{2}$ which is the Tsirelon's bound [[7](#ref-7)]. In this paper the $B_{max}$ values are bounded above due to Tsirelon's bound.\n"
   ]
  },
  {
   "cell_type": "markdown",
   "metadata": {},
   "source": [
    "## References\n",
    "<br>\n",
    "<div id=\"ref-1\">[1] Kagalwala, K., Di Giuseppe, G., Abouraddy, A. et al. Bell's measure in classical optical coherence. Nature Photon 7, 72–78 (2013). <a href=\"https://doi.org/10.1038/nphoton.2012.312\">https://doi.org/10.1038/nphoton.2012.312</a></div>\n",
    "<div id=\"ref-2\">[2] Aiello, A., and Woerdman, J. (2005). Physical Bounds to the Entropy-Depolarization Relation in Random Light Scattering. Phys. Rev. Lett., 94, 090406.</div>\n",
    "<div id=\"ref-3\">[3] Nielsen, M, Chuang, I. Quantum Computation and Quantum Information: 10th Anniversary Edition. Cambridge University Press; 2011.</div>\n",
    "<div id=\"ref-4\">[4] Einstein, A, Podolsky, B, Rosen, N. \"Can Quantum-Mechanical Description of Physical Reality Be Considered Complete?\". Phys. Rev. 1935; 47:777–780.</div>\n",
    "<div id=\"ref-5\">[5] Bell, J. \"On the Einstein Podolsky Rosen paradox\". Physics Physique Fizika 1964; 1:195–200.</div>\n",
    "<div id=\"ref-6\">[6] Clauser, J, Horne, M, Shimony, A, Holt, R. \"Proposed Experiment to Test Local Hidden-Variable Theories\". Phys. Rev. Lett. 1969; 23:880–884.</div>\n",
    "<div id=\"ref-7\">[7] Cirel'son, B.S. Quantum generalizations of Bell's inequality. Lett Math Phys 4, 93–100 (1980). <a href=\"https://doi.org/10.1007/BF00417500\">https://doi.org/10.1007/BF00417500</a></div>\n",
    "<div id=\"ref-8\">[8] Zyczkowski, K., Penson, K. A., Nechita, I. & Collins, C. Generating random\n",
    "density matrices. J. Math. Phys. 52, 062201 (2011).</div>\n",
    "<div id=\"ref-9\">[9] Gil, Jose & Bernabeu, Eusebio. (1987). Obtainment of the polarizing and retardation parameters of a non-depolarizing optical system from the polar decomposition of its Mueller matrix. Optik. 76. 67. </div>\n",
    "<div id=\"ref-10\">[10] Yarnall, T., Abouraddy, A. F., Saleh, B. E. A. & Teich, M. C. Synthesis and\n",
    "analysis of entangled photonic qubits in spatial-parity space. Phys. Rev. Lett.\n",
    "99, 250502 (2007).</div>"
   ]
  }
 ],
 "metadata": {
  "kernelspec": {
   "display_name": "Python 3",
   "language": "python",
   "name": "python3"
  },
  "language_info": {
   "codemirror_mode": {
    "name": "ipython",
    "version": 3
   },
   "file_extension": ".py",
   "mimetype": "text/x-python",
   "name": "python",
   "nbconvert_exporter": "python",
   "pygments_lexer": "ipython3",
   "version": "3.7.4"
  }
 },
 "nbformat": 4,
 "nbformat_minor": 2
}
