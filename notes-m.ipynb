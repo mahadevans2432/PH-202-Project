{
 "cells": [
  {
   "cell_type": "markdown",
   "metadata": {},
   "source": [
    "# BELL'S MEASURE IN CLASSICAL OPTICAL COHERENCE"
   ]
  },
  {
   "cell_type": "markdown",
   "metadata": {},
   "source": [
    "## 0. Setting up this notebook\n",
    "Kindly run the cell below to make sure you have all required dependencies"
   ]
  },
  {
   "cell_type": "markdown",
   "metadata": {},
   "source": [
    "### 0.1 Installing and Importing Packages"
   ]
  },
  {
   "cell_type": "code",
   "execution_count": 1,
   "metadata": {},
   "outputs": [
    {
     "name": "stdout",
     "output_type": "stream",
     "text": [
      "Successfully imported packages\n"
     ]
    }
   ],
   "source": [
    "from IPython.display import clear_output,display, Math, Latex\n",
    "!pip install numpy\n",
    "!pip install scipy\n",
    "!pip install matplotlib\n",
    "!pip install sympy\n",
    "!pip install seaborn\n",
    "!pip install qiskit\n",
    "clear_output()\n",
    "import numpy as np\n",
    "import matplotlib.pyplot as plt\n",
    "from matplotlib.widgets import Slider, Button, RadioButtons\n",
    "from ipywidgets import interact, interactive, fixed, interact_manual, Layout\n",
    "import ipywidgets as widgets\n",
    "from mpl_toolkits.mplot3d import axes3d\n",
    "from sympy import *\n",
    "from sympy.physics.quantum.dagger import Dagger\n",
    "from IPython.display import Javascript\n",
    "import seaborn as sns\n",
    "import scipy as sc\n",
    "import sys\n",
    "from qiskit import *\n",
    "from qiskit.compiler import transpile, assemble\n",
    "from qiskit.tools.jupyter import *\n",
    "from qiskit.visualization import *\n",
    "import matplotlib.pyplot as plotter\n",
    "np.set_printoptions(threshold=sys.maxsize)\n",
    "print(\"Successfully imported packages\")"
   ]
  },
  {
   "cell_type": "markdown",
   "metadata": {},
   "source": [
    "#### 0.2 Defining Functions"
   ]
  },
  {
   "cell_type": "code",
   "execution_count": 2,
   "metadata": {},
   "outputs": [],
   "source": [
    "def multiple_formatter(denominator=2, number=np.pi, latex='\\pi'):\n",
    "    def gcd(a, b):\n",
    "        while b:\n",
    "            a, b = b, a%b\n",
    "        return a\n",
    "    def _multiple_formatter(x, pos):\n",
    "        den = denominator\n",
    "        num = int(np.rint(den*x/number))\n",
    "        com = gcd(num,den)\n",
    "        (num,den) = (int(num/com),int(den/com))\n",
    "        if den==1:\n",
    "            if num==0:\n",
    "                return r'$0$'\n",
    "            if num==1:\n",
    "                return r'$%s$'%latex\n",
    "            elif num==-1:\n",
    "                return r'$-%s$'%latex\n",
    "            else:\n",
    "                return r'$%s%s$'%(num,latex)\n",
    "        else:\n",
    "            if num==1:\n",
    "                return r'$\\frac{%s}{%s}$'%(latex,den)\n",
    "            elif num==-1:\n",
    "                return r'$\\frac{-%s}{%s}$'%(latex,den)\n",
    "            else:\n",
    "                return r'$\\frac{%s%s}{%s}$'%(num,latex,den)\n",
    "    return _multiple_formatter\n",
    "\n",
    "class Multiple:\n",
    "    def __init__(self, denominator=2, number=np.pi, latex='\\pi'):\n",
    "        self.denominator = denominator\n",
    "        self.number = number\n",
    "        self.latex = latex\n",
    "\n",
    "    def locator(self):\n",
    "        return plt.MultipleLocator(self.number / self.denominator)\n",
    "\n",
    "    def formatter(self):\n",
    "        return plt.FuncFormatter(multiple_formatter(self.denominator, self.number, self.latex))"
   ]
  },
  {
   "cell_type": "code",
   "execution_count": 3,
   "metadata": {},
   "outputs": [],
   "source": [
    "def plotter(x,y,title,xlabel,ylabel,col,label):\n",
    "    num_space,=x.shape\n",
    "    plt.plot(x,y, color=col,linewidth=3, label=label)\n",
    "    plt.title(title, fontsize=15)\n",
    "    plt.xlabel(xlabel, fontsize=15)\n",
    "    plt.ylabel(ylabel, fontsize=15)\n",
    "    plt.xlim(0,2*np.pi)\n",
    "    ax=plt.gca()\n",
    "    ax.set_facecolor('#FFFFCC')\n",
    "    ax.axhline(0, color='black', lw=2)\n",
    "    ax.axvline(0, color='black', lw=2)\n",
    "    ax.xaxis.set_major_locator(plt.MultipleLocator(np.pi / 2))\n",
    "    ax.xaxis.set_minor_locator(plt.MultipleLocator(np.pi / 12))\n",
    "    ax.xaxis.set_major_formatter(plt.FuncFormatter(multiple_formatter()))\n",
    "    plt.xticks(fontsize =15)\n",
    "    plt.yticks(fontsize =15)\n",
    "    return"
   ]
  },
  {
   "cell_type": "code",
   "execution_count": 4,
   "metadata": {},
   "outputs": [],
   "source": [
    "def plotterC(x,y,title,xlabel,ylabel,col,label):\n",
    "    num_space,=x.shape\n",
    "    plt.plot(x,y, color=col,linewidth=3, label=label)\n",
    "    plt.title(title, fontsize=15)\n",
    "    plt.xlabel(xlabel, fontsize=15)\n",
    "    plt.ylabel(ylabel, fontsize=15)\n",
    "    plt.xlim(0,1)\n",
    "    ax=plt.gca()\n",
    "    ax.set_facecolor('#FFFFCC')\n",
    "    ax.axhline(0, color='black', lw=2)\n",
    "    ax.axvline(0, color='black', lw=2)\n",
    "    plt.xticks(fontsize =15)\n",
    "    plt.yticks(fontsize =15)\n",
    "    return"
   ]
  },
  {
   "cell_type": "code",
   "execution_count": 5,
   "metadata": {},
   "outputs": [],
   "source": [
    "def contourplotter(function,phi,title,xlabel,ylabel):\n",
    "    f = lambdify((t,p,ta,pa),function, \"numpy\")\n",
    "    ta_range = np.linspace(0,2*np.pi,1000);\n",
    "    pa_range = np.linspace(0,2*np.pi,1000);\n",
    "    phi_fixed = phi;\n",
    "    X, Y = np.meshgrid(ta_range, pa_range);\n",
    "    def ftemp(ta_val,pa_val):\n",
    "        return f(0,phi_fixed,ta_val,pa_val);\n",
    "    Z = ftemp(X,Y);\n",
    "    fig, ax = plt.subplots(figsize=(7,5.7))\n",
    "    cp = ax.contourf(X, Y, Z ,cmap='turbo');\n",
    "    fig.colorbar(cp) # Add a colorbar to a plot\n",
    "    plt.xlim(0,2*np.pi);\n",
    "    plt.ylim(0,2*np.pi);\n",
    "    ax.axis('equal');\n",
    "\n",
    "    plt.title(title, fontsize=15)\n",
    "    plt.xlabel(xlabel, fontsize=15)\n",
    "    plt.ylabel(ylabel, fontsize=15)\n",
    "    ax=plt.gca()\n",
    "    ax.set_facecolor((0.8,1,1))\n",
    "    ax.axhline(0, color='black', lw=2)\n",
    "    ax.axvline(0, color='black', lw=2)\n",
    "    ax.xaxis.set_major_locator(plt.MultipleLocator(np.pi / 2))\n",
    "    ax.xaxis.set_minor_locator(plt.MultipleLocator(np.pi / 12))\n",
    "    ax.xaxis.set_major_formatter(plt.FuncFormatter(multiple_formatter()))\n",
    "    ax.yaxis.set_major_locator(plt.MultipleLocator(np.pi / 2))\n",
    "    ax.yaxis.set_minor_locator(plt.MultipleLocator(np.pi / 12))\n",
    "    ax.yaxis.set_major_formatter(plt.FuncFormatter(multiple_formatter()))\n",
    "    plt.xticks(fontsize =15)\n",
    "    plt.yticks(fontsize =15)\n",
    "    return"
   ]
  },
  {
   "cell_type": "code",
   "execution_count": 6,
   "metadata": {},
   "outputs": [],
   "source": [
    "def contourplotterC(function,P1,title,xlabel,ylabel):\n",
    "    f = lambdify((P,ta,pa),function, \"numpy\")\n",
    "    ta_range = np.linspace(0,2*np.pi,100);\n",
    "    pa_range = np.linspace(0,2*np.pi,100);\n",
    "    P_fixed = P1;\n",
    "    X, Y = np.meshgrid(ta_range, pa_range);\n",
    "    def ftemp(ta_val,pa_val):\n",
    "        return f(P1,ta_val,pa_val);\n",
    "    Z = ftemp(X,Y);\n",
    "    fig, ax = plt.subplots(figsize=(7,5.7))\n",
    "    cp = ax.contourf(X, Y, Z ,cmap='turbo');\n",
    "    fig.colorbar(cp) # Add a colorbar to a plot\n",
    "    plt.xlim(0,2*np.pi);\n",
    "    plt.ylim(0,2*np.pi);\n",
    "    ax.axis('equal');\n",
    "\n",
    "    plt.title(title, fontsize=15)\n",
    "    plt.xlabel(xlabel, fontsize=15)\n",
    "    plt.ylabel(ylabel, fontsize=15)\n",
    "    ax=plt.gca()\n",
    "    ax.set_facecolor((0.8,1,1))\n",
    "    ax.axhline(0, color='black', lw=2)\n",
    "    ax.axvline(0, color='black', lw=2)\n",
    "    ax.xaxis.set_major_locator(plt.MultipleLocator(np.pi / 2))\n",
    "    ax.xaxis.set_minor_locator(plt.MultipleLocator(np.pi / 12))\n",
    "    ax.xaxis.set_major_formatter(plt.FuncFormatter(multiple_formatter()))\n",
    "    ax.yaxis.set_major_locator(plt.MultipleLocator(np.pi / 2))\n",
    "    ax.yaxis.set_minor_locator(plt.MultipleLocator(np.pi / 12))\n",
    "    ax.yaxis.set_major_formatter(plt.FuncFormatter(multiple_formatter()))\n",
    "    plt.xticks(fontsize =15)\n",
    "    plt.yticks(fontsize =15)\n",
    "    return"
   ]
  },
  {
   "cell_type": "markdown",
   "metadata": {},
   "source": [
    "## Team details and work distrubution\n",
    "1. Aneesh Bapat (Roll no: 1902600xx)\n",
    "2. Ankan Mukherjee (Roll no: 1902600xx)\n",
    "3. Mahadevan Subramanian (Roll no: 190260027)\n",
    "4. Priyam Dubey (Roll no: 1902600xx)"
   ]
  },
  {
   "cell_type": "markdown",
   "metadata": {},
   "source": [
    "## Introduction\n",
    "Essentially abstract and methods we have used for reproducing the results"
   ]
  },
  {
   "cell_type": "markdown",
   "metadata": {},
   "source": [
    "## 1. Polarization & Spatial Parity\n",
    "\n",
    "In the paper \\[topic 2\\] the experiments which were done were made using of an optical beam model with two binary degrees of freedom, them being polarization and spatial parity along the $x$ direction respectively of a quasi monochromatic source.<br>\n",
    "For the spatial parity, in one dimension the beams are of form $E(x) = E_e\\psi_e(x)+E_o\\psi_o(x)$ where $\\psi_e(x)$ is an even function and $\\psi_o(x) = \\text{sgn}(x)\\psi_e(x)$ hence is an odd function. We give this beam a vector representation called $\\mathbf{J}_\\text{par} = [E_e\\text{ } E_o]^T$. Spatial paritt is manipulated using a spatial light modulator (SLM) which we describe in the experimental apparatus section. Along with the horizontal (H) and vertical components of polarization taken into account we describe the polarization-parity jones vector as $\\mathbf{J} = [E_\\text{He}\\text{ }E_\\text{Ho}\\text{ }E_\\text{Ve}\\text{ }E_\\text{Vo}]^T$.<br>\n",
    "We then describe the properties of this coherence using a $4\\times4$ matrix which is $\\mathbf{G} = \\langle\\mathbf{J}^{*}\\mathbf{J}^\\text{T}\\rangle$. Taking partial trace along $\\mathbf{G}$ would give us either $\\mathbf{G}_\\text{pol}$ or $\\mathbf{G}_\\text{par}$ on taking trace along parity or polarization respectively. We define a degree of polarization/parity using $D_{\\text{pol}}$($D_\\text{par}$) which quantifies the apparent coherence of each DoF when the other DoF is unresolved. Further an overall coherence $S$ is defined using the beam's linear entropy \\[https://en.wikipedia.org/wiki/Linear_entropy\\] as follows.\n",
    "The definition of linear entropy comes from the motivation of von Neumann Entropy. For a quantum mechanical system with a density matrix $\\rho$ this is defined as $S_v = \\text{Tr}(-\\rho\\ln(\\rho)) = -\\langle\\ln(\\rho)\\rangle$. The linear entropy $S_L$ is a lower approximation to $S_v$ which comes from expanding the leading term in the expansion of $\\rho\\ln\\rho$ which becomes $\\rho-\\rho^2$ approximately when $\\rho$ is close to $I$ (using taylor expansion) and taking trace this gives us the definition $S_L = \\text{Tr}(\\rho) - \\text{Tr}(\\rho^2)$ and by definition of the density matrix we have trace of $\\rho$ equal to 1 which gives us $S_L = 1 - \\text{Tr}(\\rho^2)$. This is a non normalized quantity so this is normalized by multiplying it by $\\frac{d}{d-1}$ which here is $4/3$ since our system has four dimensions. The definition of our $\\mathbf{G}$ matrix is isomorphic to the definition of a density matrix of a two qubit system keeping the Jones vector $\\mathbf{J}$ as the state of this two qubit system. Hence we have \n",
    "\\begin{equation}\\label{eq:1.1}\\tag{1.1}S = 1-S_L = 1 - \\frac{4}{3} + \\frac{4}{3}\\text{Tr}(\\mathbf{G}^2) = \\frac{4}{3}\\left(\\text{Tr}\\{\\mathbf{G}^2\\}-\\frac{1}{4}\\right)\\end{equation}\n",
    "We know that for normalized states we have that $\\frac{1}{d}\\leq$ Tr$(\\rho^2) \\leq 1$ and equals one only for a pure state and $1/d$ for completely mixed state. We can similarly draw a parallel here to seeing that $S=1$ happens only for coherent (pure) states and is 0 when completely incoherent. An important note to make here is that applying a unitary matrix $U$ (so $U^{*}U^{T} = I$) which is not time dependent on the Jones vector would not change our value of $S$ since on acting of a unitary we would have $\\mathbf{G}' = U^{*}\\mathbf{G}U^{T}$ and so $\\mathbf{G}'^2 = U^{*}\\mathbf{G}^2U^{T}$ and this has same trace as $\\mathbf{G}^2$ since trace is invariant under unitary transforms.\n",
    "\n",
    "The paper here explores the properties of a beam where these two DoFs are infact coupled or entagled. One can start with a coherent linearly polarized beam at $45^\\circ$ with even polarity which would be $\\mathbf{J} = (1/\\sqrt{2})[\\text{1 0 1 0}]^T$ which can clearly be factored into a direct product of $\\mathbf{J}_{\\text{pol}}\\otimes\\mathbf{J}_\\text{par}$ and so $D_\\text{pol} = D_\\text{par} = 1$. However on passing this beam through a polarization sensitive SLM which introduces a phase of $\\varphi/2\\sin(\\varphi)$ only to the horizontal polarity component and none to the vertical. We can think of this analoguos to a controlled $R_x(\\varphi)$ operation from the polarization qubit to parity qubit which acts when polarization is $|0\\rangle$ (called H here for polarization). This puts the state to an entagled state $\\mathbf{J} = (1/\\sqrt{2})[\\cos(\\varphi/2)\\text{ }\\iota\\sin(\\varphi/2)\\text{ 1 0}]^T$ which is no longer factorizable and shows that the apparant degree of coherence of the individual DoFs are no longer equal to 1 unless $\\varphi=0$ and infact equal zero when $\\varphi=\\pi$. However we know that this state is still coherent on an overall, the only issue is that seeing the partial trace of $\\mathbf{G}$ along the respective DoF provide an incomplete picture of the state hence leading to a conclusion that the coherence is absent. The paper proceeds to make use of the Bell's measure (see Appendix A) to quantify this entaglement which is the cause of this apparent coherence deficit."
   ]
  },
  {
   "cell_type": "markdown",
   "metadata": {},
   "source": [
    "## 2. Experimental Apparatus\n",
    "\n",
    "For the experimental setup, we are using various separate components, which we will comment on one by one before seeing how they are arranged together for the experiment in this paper. We can develop a matrix operator formalism based on how these elements affect the vector $\\mathbf{J} = [E_{He} \\ E_{Ho} \\ E_{Ve} \\ E_{Vo}]$. Suppoe we have a device that modifies the Jones vector of a beam in the following way - $\\mathbf{J_{new}} = \\mathbf{A}\\mathbf{J_{old}}$. Then, the corresponding $\\mathbf{G} = \\langle \\mathbf{J^*J^T}\\rangle$ tranforms as $\\mathbf{G_{new} = A^*G_{old}A^T}$. This is because, assuming that the effect of the device, encoded in matrix $\\mathbf{A}$  is time independent, the matrix can just move inside the time average. And as we will see below, for all the devices used in this experiment, their effect is time invariant.\n",
    "\n",
    "## Polarisation only devices\n",
    "\n",
    "### 2.1 Waveplates\n",
    "<p>The first element we will look at is a half-wave plate. Suppose we have a half-wave plate whose axis is inclined at angle $\\theta$ to the $+x$ axis. Then, it will add a phase of $\\pi$ to the component of the amplitude along its axis, with respect to the component perpendicular to the axis. In other words, if the component of E field along the axis will be effectively multiplied by $e^{i\\pi} = (-1)$.</p> \n",
    "<p> Suppose the in-going beam is described by a polarisation-only Jones vector $J_{pol} = [E_x \\ E_y]^T$. Then the (complex) amplitude is $E_x\\hat{x} + E_y\\hat{y} = (E_{x}\\cos\\theta + E_y\\sin\\theta)\\hat{\\theta_{\\parallel}} + (E_{x}\\sin\\theta - E_y\\cos\\theta) \\hat{\\theta_{\\perp}}$. So after adding a phase multiplier factor of $e^{i\\pi} = -1$ to the $\\hat{\\theta_{\\parallel}}$ component, the new complex amplitude is $$(-E_{x}\\cos\\theta - E_y\\sin\\theta)\\hat{\\theta_{\\parallel}} +  (E_{x}\\sin\\theta - E_y\\cos\\theta) \\hat{\\theta_{\\perp}} = (\\cos\\theta \\ (-E_{x}\\cos\\theta - E_y\\sin\\theta)+ \\sin\\theta(E_{x}\\sin\\theta - E_y\\cos\\theta))\\hat{x} + (\\sin\\theta \\ (-E_{x}\\cos\\theta - E_y\\sin\\theta)- \\cos\\theta(E_{x}\\sin\\theta - E_y\\cos\\theta))\\hat{y} \\\\ = [E_x(\\sin^2\\theta-\\cos^2\\theta) - E_y(2\\sin\\theta\\cos\\theta) \\qquad{} -E_x(2\\sin\\theta\\cos\\theta)  Ey(\\cos^2\\theta -\\sin^2\\theta)] \\\\ =[-E_x\\cos(2\\theta) - E_y\\sin(2\\theta) \\qquad{} -E_x\\sin(2\\theta)+E_y\\cos(2\\theta)]$$\n",
    "    \n",
    "We can write this more compactly in a 2x2 matrix - \n",
    "$$\\begin{pmatrix}-\\cos(2\\theta) & -\\sin(2\\theta) \\\\ -\\sin(2\\theta) & \\cos(2\\theta)\\end{pmatrix}\\begin{pmatrix}E_x \\\\ E_y\\end{pmatrix}_{old} = \\begin{pmatrix}E_x \\\\ E_y\\end{pmatrix}_{new}$$\n",
    "<p>When we are dealing with our 4 dimensional Jones vector, to generate the corresponding 4x4 HWP operator matrix, we\\e can propose a 4x4 operator matrix. But before we spell it out, a few changes in notation are in order, to follow the same general notation as the paper. </p>\n",
    "<ol>\n",
    "    <li>The angle of rotation is denoted as $\\frac{\\theta}{2}$ instead of $\\theta$ so that there is no ugly factor of             $2$ in the transformation matrix.</li>\n",
    "    <li>The axis, with respect to which the angle $\\frac{\\theta}{2}$ is to be measured is not specified in the paper. Two reasonable guesses are either the X axis (upwards vertical, as shown in the figure) or the horizontal axis (-y axis in the figure). In either case, we get the same matrix except with a phase factor of $e^{i\\pi} = -1$. But that does not change the intensity measurement, since we are only interested in the long time average and we are not using two different beams (so the phase is truly a global phase, and affects nothing at all). So this is a moot point for single beam operation. The exact phase also depends on what additional phase the plate adds to the slow axis, which we are not accounting for, anyway.\n",
    " \n",
    "</ol>\n",
    "Since our Jones vector is $J = J_{pol}\\otimes J_{par}$, and our HWP does not affect the parity DOF at all (in other words, acts like an identity transformation), we can write it as a tensor product - \n",
    "$$A_{HWP}\\left(\\frac{\\theta}{2}\\right) = \\begin{pmatrix}-\\cos(\\theta) & -\\sin(\\theta) \\\\ -\\sin(\\theta) & cos(\\theta)\\end{pmatrix}\\otimes\\begin{pmatrix} 1&0 \\\\ 0&1\\end{pmatrix}=\\begin{pmatrix}\n",
    "-\\cos\\theta & 0 & -\\sin\\theta & 0 \\\\ \n",
    "0 &-\\cos\\theta&0&-\\sin\\theta \\\\\n",
    "-\\sin\\theta &0 & \\cos\\theta & 0 \\\\\n",
    "0 & -\\sin\\theta &0 & \\cos\\theta\n",
    "\\end{pmatrix} $$\n",
    "To account for the global phase added, along the slow axis, we only need to multiply this matrix by a phase factor of $e^{i\\phi}$ where $\\phi$ is the slow axis phase added.\n",
    "\n",
    "Sidenote: while the paper mentions that the angle is $\\theta/2$ in it, that actually rotates by $\\theta$ only and not by the expected $2\\theta$ that would result from writing it in the form above since the text mentions that the basis is rotated by $\\theta_a$ when the HWP of $\\theta_a/2$ is applied.\n",
    "\n",
    "### 2.2 Polarising Beam Splitter\n",
    "\n",
    "This is an element that separates out the H and V polarised beams from the input beam. There is no operator matrix associated with it, it simply separates out the two beams, without affecting parity at all. One point to note here - as we describe below, a mirror will add a factor of (-1) to odd modes, so the component which gets reflected will pick up that factor here as well. We can either correct this with a second reflection of that beam from a $45^\\circ$ mirror to correct it or not do anything at all about it (in the experimental setup in the paper seen as a whole, we can see that it won't matter the odd and even beams will be switched, but that is about it.)\n",
    "\n",
    "## Parity Sensitive Devices\n",
    "\n",
    "### 2.3 Dove Prism\n",
    "<p> We know that a mirror inverts left-right. So if we put an odd beam through the mirror, it will pick up a factor of (-1) from the + and - axes being inverted (i.e. -x being mapped to x). </p>\n",
    "<p> The operator (parity only, polarisation plays no role) associated to a mirror is $$\\begin{pmatrix}-1 & 0 \\\\ 0 & 1\\end{pmatrix}\\begin{pmatrix}e \\\\ o \\end{pmatrix}_{old} = \\begin{pmatrix}e \\\\ o \\end{pmatrix}_{new}$$ An additional -1 factor is added as a global phase, because of the phase change on reflecting.</p>\n",
    "<img width=\"40%\" src='Mirror_and_Parity.png'>\n",
    "One thing about mirrors which is particularly inconvenient is that the incoming and outgoing beam does not travel in the same direction, so we cannot conveniently include a mirror in the arm of a Mach-Zehnder interferometer easily, for example. To make our life simple, we use a dove prism, which is a trapezoid shaped prism, that the light beam enters, undergoes TIR on one surface of it and exits travelling in the same direction as incoming beam. It performs the same matrix operation as a mirror, but is more convenient to use. One aspect to be careful of (that can be easily overcome) is that there is a phase change because the beam travels through the glass/ material of the prism, but that can be easily dealt with by using a compensator cell in the other arm. Aother important aspect of a Dove prism - since the wave incidence medium is denser and the transmission medium is rarer (unlike a regular mirror), there is no addition $\\pi$ phase of reflection, and the operator matrix is simply $$\\begin{pmatrix}1 & 0 \\\\ 0 & -1\\end{pmatrix}\\begin{pmatrix}e \\\\ o \\end{pmatrix}_{old} = \\begin{pmatrix}e \\\\ o \\end{pmatrix}_{new}$$\n",
    "<img width = \"60%\" src='Dove_prism.png'>\n",
    "\n",
    "### 2.4 Mach Zehnder Interferometer\n",
    "<img width = \"60%\" src='MZI.png'><center>A schematic of a MZI, self drawn</center>\n",
    "<p> In this arrangement, the beam splitters are polarisation insensitive, so there is no polarisation discrimination. First let us consider a MZI with no dove prism (and no compensation cell). Suppose the only input beam is given from In1. Then, the left beam suffers two rarer-denser reflections and the same is the case with the right beam, as they come out from Out2. Hence, we have constructive interference at Out2. Whereas, as Out1, the left beam still has same phase (the reflection at exit beam splitter is denser-rarer, so no phase change) while the right beam has one reflection only, so the interference is destructive.</p>\n",
    "<p>With a dove prism in place, the odd mode undergoes one extra inversion in the left path, so its constructive/destructive outputs are now exactly swapped. As a result, if we send in a superposition of odd and even modes into In1, the odd mode comes out from Out1, while the even mode comes out from Out2 (just as if no prism were there). Conversely, if we send in the beam from In2, the odd mode will come out from Out2 and the even mode from Out1.</p>\n",
    "\n",
    "Hence we can think of two uses of this MZI arrangement - \n",
    "<ol> <li> To split a superposed beam into its odd and even components, send this beam in from one of the inputs only and the odd and even parity modes are separated.</li>\n",
    "    <li> If we have a odd parity beam and an even parity beam, we can add them (make a superposed state) by sending in the odd beam in In1, the even beam from In2, and then getting the superposed beam out, from Out1.\n",
    "       </ol>\n",
    "       In the experiment performed in the paper, the authors concern themselves only with the first use.\n",
    "       \n",
    "### 2.5 SLMs and PS-SLMs\n",
    "A SLM is a spatial light modulator. In general, this term refers to any device that modifies the beam in a space dependent fashion. In the context of this experiment, the SLM they use (Hamamatsu X10468-02) is an array of liquid crystal pixels, each of whose refractive index can be controlled independently by applying a voltage, in such a way, that we add a desired phase to the light passing through each pixel, and the phase in each pixel is independent of the others.\n",
    "<p>Suppose we send a beam through a SLM which adds a $x$-dependant phase $\\frac{\\phi}{2}sgn(x)$ to the electric field (global phase does not matter here, by the way. Only relative phase/ difference in phase between top and bottom half being $\\phi$ is what matters.) Then, we are effectively multiplying the old profile $E_{old}(x)$ by $e^{\\iota\\frac{\\phi}{2}sgn(x)}$, to get new profile $E_{new}(x)$. Observe that $e^{\\iota\\frac{\\phi}{2}sgn(x)} = cos(\\frac{\\phi}{2})+ \\iota sgn(x)sin(\\frac{\\phi}{2})$. So, with $E_{old}(x) = e(x)+o(x)$, we can get $E_{new}(x) = (e(x)+o(x))(cos(\\phi/2)+\\iota sgn(x)sin(\\phi/2)) = [cos(\\phi/2)e(x) + \\iota sin(\\phi/2) sgn(x)o(x)] + [cos(\\phi/2)o(x) + \\iota sin(\\phi/2) sgn(x)e(x)]$. </p>\n",
    "<p>Observe that the first term in the new expression is even while the second term is odd, which means that they are the new even and odd decomposition (which is unique). We can re-express this as $\\begin{pmatrix}cos(\\phi/2) & \\iota sin(\\phi/2) \\\\ \\iota sin(\\phi/2) & cos(\\phi/2) \\end{pmatrix}\\begin{pmatrix}e_{old} \\\\ o_{old}\\end{pmatrix} = \\begin{pmatrix}e_{new} \\\\ o_{new}\\end{pmatrix}$ to make it look more like the transformation caused by a half wave plate, but for the parity DOF. In particular, observe that if we set $\\phi = \\pi$ then the matrix shown looks like a Pauli $\\sigma_x$ matrix (times the constant $\\iota$)- it swaps the $o$ and $e$ bases.\n",
    "\n",
    "Further, to obtain the 4x4 transformation matrix, we again do a tensor product - \n",
    "$$A_{par}\\left(\\frac{\\phi}{2}\\right) = \\begin{pmatrix}1 & 0 \\\\ 0 & 1\\end{pmatrix}\\otimes\\begin{pmatrix} \\cos(\\phi/2)&i\\sin(\\phi/2) \\\\ i\\sin(\\phi/2) &\\cos(\\phi/2)\\end{pmatrix}=\\begin{pmatrix}\n",
    "\\cos(\\phi/2)&i\\sin(\\phi/2) & 0& 0\\\\ i\\sin(\\phi/2) &\\cos(\\phi/2) &0 & 0\\\\\n",
    "0&0&\\cos(\\phi/2)&i\\sin(\\phi/2) \\\\ 0&0&i\\sin(\\phi/2) &\\cos(\\phi/2)\n",
    "\\end{pmatrix} $$\n",
    "\n",
    "Again, the rationale is that since there is no polarisation effect, that part of the first matrix is identity.\n",
    "\n",
    "The liquid crystals can be acted on by a electric field in two directions, so that the refractive index of a single pixel itself is non-isotropic. This leads to polarisation-sensitive behaviour of the pixels. For example, if we take a SLM that adds a phase of $\\frac{\\phi}{2}sgn(x)$ only to the H-polarisation while leaving the V polarisation unchanged. In this case, we can simply modify the above operator matrix to look like $$A_{PS-SLM}\\left(\\frac{\\phi}{2}\\right) =\\begin{pmatrix}\n",
    "\\cos(\\phi/2)&i\\sin(\\phi/2) & 0& 0\\\\ i\\sin(\\phi/2) &\\cos(\\phi/2) &0 & 0\\\\\n",
    "0&0&1&0 \\\\ 0&0&0 &1\n",
    "\\end{pmatrix} $$"
   ]
  },
  {
   "cell_type": "markdown",
   "metadata": {},
   "source": [
    "### General Observations About the operator matrices\n",
    "We can see the following properties about the matrix formalism we have developed.\n",
    "<ol><li> The matrices are all unitary. $AA^\\dagger = A^\\dagger A = \\mathbb{I}$. This is expected, because if we take a completely incoherent beam in phase as well as parity, then no device will be able to change it, and the $G$ matrix for a completely incoherent mode is a scalar multiple of identity.</li>\n",
    "    <li> The matrices corresponding to a rotated HWP and to a polarisation-insensitive SLM commute. This is expected because each of these devices is expected to modify only one DOF.</li>\n",
    "    </ol>"
   ]
  },
  {
   "cell_type": "code",
   "execution_count": 7,
   "metadata": {},
   "outputs": [],
   "source": [
    "P,t,p,ta,pa = symbols('P theta varphi theta_a varphi_a',real=True)\n",
    "A_HWP = Matrix([[-cos(ta/2),0,-sin(ta/2),0],[0,-cos(ta/2),0,-sin(ta/2)],[-sin(ta/2),0,cos(ta/2),0],\n",
    "              [0,-sin(ta/2),0,cos(ta/2)]])\n",
    "A_SLM = Matrix([[cos(pa/2),I*sin(pa/2),0,0],[I*sin(pa/2),cos(pa/2),0,0],[0,0,cos(pa/2),I*sin(pa/2)],\n",
    "             [0,0,I*sin(pa/2),cos(pa/2)]])\n",
    "A_PSSLM = Matrix([[cos(pa/2),I*sin(pa/2),0,0],[I*sin(pa/2),cos(pa/2),0,0],[0,0,1,0],\n",
    "             [0,0,0,1]]) "
   ]
  },
  {
   "cell_type": "code",
   "execution_count": 8,
   "metadata": {},
   "outputs": [
    {
     "data": {
      "text/latex": [
       "$\\displaystyle \\left[\\begin{matrix}1 & 0 & 0 & 0\\\\0 & 1 & 0 & 0\\\\0 & 0 & 1 & 0\\\\0 & 0 & 0 & 1\\end{matrix}\\right]$"
      ],
      "text/plain": [
       "Matrix([\n",
       "[1, 0, 0, 0],\n",
       "[0, 1, 0, 0],\n",
       "[0, 0, 1, 0],\n",
       "[0, 0, 0, 1]])"
      ]
     },
     "execution_count": 8,
     "metadata": {},
     "output_type": "execute_result"
    }
   ],
   "source": [
    "trigsimp(A_SLM*conjugate(A_SLM.T)) #A_SLM is unitary"
   ]
  },
  {
   "cell_type": "code",
   "execution_count": 9,
   "metadata": {},
   "outputs": [
    {
     "data": {
      "text/latex": [
       "$\\displaystyle \\left[\\begin{matrix}1 & 0 & 0 & 0\\\\0 & 1 & 0 & 0\\\\0 & 0 & 1 & 0\\\\0 & 0 & 0 & 1\\end{matrix}\\right]$"
      ],
      "text/plain": [
       "Matrix([\n",
       "[1, 0, 0, 0],\n",
       "[0, 1, 0, 0],\n",
       "[0, 0, 1, 0],\n",
       "[0, 0, 0, 1]])"
      ]
     },
     "execution_count": 9,
     "metadata": {},
     "output_type": "execute_result"
    }
   ],
   "source": [
    "trigsimp(A_PSSLM*conjugate(A_PSSLM.T)) #A_PSSLM is unitary"
   ]
  },
  {
   "cell_type": "code",
   "execution_count": 10,
   "metadata": {},
   "outputs": [
    {
     "data": {
      "text/latex": [
       "$\\displaystyle \\left[\\begin{matrix}1 & 0 & 0 & 0\\\\0 & 1 & 0 & 0\\\\0 & 0 & 1 & 0\\\\0 & 0 & 0 & 1\\end{matrix}\\right]$"
      ],
      "text/plain": [
       "Matrix([\n",
       "[1, 0, 0, 0],\n",
       "[0, 1, 0, 0],\n",
       "[0, 0, 1, 0],\n",
       "[0, 0, 0, 1]])"
      ]
     },
     "execution_count": 10,
     "metadata": {},
     "output_type": "execute_result"
    }
   ],
   "source": [
    "trigsimp(A_HWP*conjugate(A_HWP.T)) #A_HWP is unitary"
   ]
  },
  {
   "cell_type": "code",
   "execution_count": 11,
   "metadata": {},
   "outputs": [
    {
     "data": {
      "text/latex": [
       "$\\displaystyle \\left[\\begin{matrix}0 & 0 & 0 & 0\\\\0 & 0 & 0 & 0\\\\0 & 0 & 0 & 0\\\\0 & 0 & 0 & 0\\end{matrix}\\right]$"
      ],
      "text/plain": [
       "Matrix([\n",
       "[0, 0, 0, 0],\n",
       "[0, 0, 0, 0],\n",
       "[0, 0, 0, 0],\n",
       "[0, 0, 0, 0]])"
      ]
     },
     "execution_count": 11,
     "metadata": {},
     "output_type": "execute_result"
    }
   ],
   "source": [
    "trigsimp(A_HWP*A_SLM - A_SLM*A_HWP) #A_SLM and A_HWP commute"
   ]
  },
  {
   "cell_type": "markdown",
   "metadata": {},
   "source": [
    "## Proposal for a Parity-Sensitive Polarisation Modifier\n",
    "<p> In the main paper, one of the loose ends that the authors do not seem to have addressed is that polarity seems to have a special place in this qubits scheme, in the sense that controlled gates can be made only with polarity as a control qubit (no parity controlled gates/devices are proposed). Here, we wish to present the design of a parity controlled device, that can be used to implement the controlled version of any possible (ordinarily) parity-insensitive device. \n",
    "<p>The main idea is to use the second use of the MZI. Suppose you are given an input beam and you want to perform a controlled-HWP operation on that (we have already seen uncontrolled HWP earlier). Then, the idea is to split up the input beam into the odd and even components with an MZI and then recombine them with a second MZI. In this way, a parity-controlled operation can be performed. The below image shows a schematic for a parity-sensitive HWP.</p>\n",
    "<img width = \"40%\" src='Parity_sensitive_HWP.png'>\n",
    "<p> An important use of this idea will be to bring the line of thought presented in the paper to a logical conclusion - suppose we start with a purely even mode but completely unpolarised beam. Then, by coupling the parity to the polarisation, we can generate a coupled-DOF beam. To convert this beam to a completely polarised, parity-incoherent beam, we would need to implement a parity-controlled polarisation operation, which this section proposes a theoretical solution to accomplishing. One major issue still here, is that stacking two MZI's could be a challenge, in view of the difficulty of alignment."
   ]
  },
  {
   "cell_type": "markdown",
   "metadata": {},
   "source": [
    "## 3. Polarization and Spatial Parity analysis\n",
    "### 3.1 The correlation function\n",
    "<p>We will now proceed to define a normalized correlation function $C(\\theta_a,\\phi_a)$ which we will use for defining our bell's measure $B$. The analyzing done in the paper does so with the following experimental setup shown below (images taken from [topic2])</p>\n",
    "<table>\n",
    "    <tr>\n",
    "        <td><img width=\"90%\"src=\"fig1b-og.png\"/><center><b>Fig: 3.1</b></center></td>\n",
    "        <td><img width=\"90%\"src=\"fig1c-og.png\"/><center><b>Fig: 3.2</b></center></td>\n",
    "    </tr>\n",
    "</table>\n",
    "Section 2. explains the functioning principle for each of the apparatus in the above figure. What the setup essentially does in fig: 3.1.1 is for analyzing the DoFs seperately. The polarization is analyzed in a linear basis rotated by $\\theta_a$ by action of the half wave plate and similarly the parity is analyzed by analyzing over a basis rotated by $\\varphi_a$. The measured intensities are normalized and kept as probabilities in a way that $P_H + P_V = P_o + P_e = 1$. In fig: 3.2 combined polarization-parity measurements are done by essentially using the setup of fig: 3.1 but by concatenating the different DoF analysis stages. If we call the input coherency matrix as $\\mathbf{G}_{in}$ then the resulting coherency matrix after the transformations on which measurement is being done is \n",
    "\\begin{equation}\\label{eq:3.1}\\tag{3.1}\\mathbf{G}_{out} = A_{SLM}^*A_{HWP}^*\\mathbf{G}_{in}A_{HWP}^TA_{SLM}^T\\end{equation}\n",
    "As already shown in section 1, our definition of overall coherence in eq: 1.1 is invariant under applying these unitaries on the state. The following is the definition we give to the correlation function in the equation below. Symmetric values are assignmed to the coefficeints $c_\\text{pol} = \\pm1$ ($c_\\text{par} = \\pm1$) to the dichotomic H (e) and V (o) probability outcomes. \n",
    "\\begin{equation}\\label{eq:3.2}\\tag{3.2}C(\\theta_a,\\varphi_a) = \\sum c_\\text{pol}c_\\text{par}P_\\text{pol,par} = P_\\text{He} - P_\\text{H0} - P_\\text{Ve} + P_\\text{Vo}\\end{equation}\n",
    "For the uncoupled case this can be factorized into $C(\\theta_1,\\varphi_a) = C_\\text{pol}(\\theta_a)C_\\text{par}(\\phi_a)$ and here we would have $C_\\text{pol}(\\theta_a) = P_H - P_V$ and $C_\\text{par} = P_e - P_o$. Proceeding this they use th CSHS formulation of the Bell's measure (see Appendix A) to write \n",
    "\\begin{equation}\\label{eq:3.3}\\tag{3.3}B = |C(\\theta_a,\\varphi_a) + C(\\theta_a,\\varphi_a') + C(\\theta_a',\\varphi_a) - C(\\theta_a',\\varphi_a')|\\end{equation}\n",
    "Now we have an upper bound on $B_{max}$ which is the maximum value this measure takes over these four variables and this is what the paper from this point refers to as the Bell's measure. This bound is called the Tsirelon's bound and is $B_{max}\\leq 2\\sqrt{2}$ and in the classical case (where all observables commute) it is actually bounded above by 2.\n",
    "\n",
    "We will now prove that any coherent beam has $D_\\text{pol} = D_\\text{par}$. Any coherent beam here would be isomorphic to a pure two qubit state. For pure states, if the state is $|\\psi\\rangle$, then the density matrix is $\\rho = |\\psi\\rangle\\langle\\psi|$. We can represent this in a Schmidt form where $|\\psi\\rangle = \\sum_ig_i|u_i\\rangle\\otimes|v_i\\rangle$ which can be done for any arbitrary pure state so for the 4 dimensional Jones vector here we only have two variables and so without loss of generality we can choose to write our jones vector as $\\mathbf{J} = [\\mu_1\\text{ 0 0 }\\mu_2]^T$ and for this state we would have that\n",
    "\\begin{equation}\\label{eq:3.4}\\tag{3.4}\\mathbf{G}_\\text{pol} = \\mathbf{G}_\\text{par} = \\begin{pmatrix}\\mu_1^2 & 0\\\\0 & \\mu_2^2\\end{pmatrix}\\end{equation}\n",
    "This leads to $D_\\text{pol} = D_\\text{par} = |\\mu_1^2-\\mu_2^2|$ which is essentially the difference the eigenvalues of the respective matrix. Note that the above equation would be true in the basis where we can write the Schmidt decomposition of the Jones vector but since this is a coherent state this basis can be reached by applying unitaries that do not do any coupling. Also for coherent beams the paper claims that we would have $4D_\\text{par}^2+B_{max}^2 = 4D_\\text{pol}^2+B_{max}^2 = 8$ which becomes $4D_\\text{pol}^2+B_{max}^2\\leq 8$ and $4D_\\text{par}^2+B_{max}^2\\leq 8$ for partially coherent beams hence they define a new degree of coherence reffered to as the partial degree of coherence\n",
    "\\begin{equation}S_\\text{pol} = \\dfrac{D_\\text{pol}^2}{2} + \\left(\\dfrac{B_{max}}{2\\sqrt{2}}\\right)^2\\text{, }S_\\text{par} = \\dfrac{D_\\text{par}^2}{2} + \\left(\\dfrac{B_{max}}{2\\sqrt{2}}\\right)^2\\end{equation}\n",
    "One important thing to note is that the accessible degrees of coherence written above are invariant under unitary coupling between the two DoFs. We can see this as a sort of sharing of coherence between apparent coherence of an individual DoF ($D_\\text{pol}$ and $D_\\text{par}$) and the coupling between them ($B_{max}$). For a fully coherent beam we will always have $S = S_\\text{pol} = S_\\text{par} = 1$ regardless of coupling between the DoFs. This also demostrates how we can make coherence essentially migrate from form of coupling to apparent coherence of individual DoFs by simply using unitary transforms.\n"
   ]
  },
  {
   "cell_type": "markdown",
   "metadata": {},
   "source": [
    "## 4. Experimental results and derivations\n",
    "The paper \\[topic2\\] describes three experiments A, B and C. Here we will derive the theoretical expressions they use for fitting their data using the SymPy package."
   ]
  },
  {
   "cell_type": "code",
   "execution_count": 12,
   "metadata": {},
   "outputs": [],
   "source": [
    "def trace_G(G): #A trace function for just 4x4 G matrices\n",
    "    return simplify(G[0,0] + G[1,1] + G[2,2] + G[3,3])\n",
    "def corr_prob(G): #Returns the value I_He - I_Ho - I_Ve +I_Vo from given G matrix\n",
    "    return simplify(G[0,0] - G[1,1] - G[2,2] + G[3,3])\n",
    "\n",
    "def par_tr_G_pol(G): #returns the partial trace of G for giving G_pol\n",
    "    return simplify(Matrix([[G[0,0]+G[1,1],G[0,2]+G[1,3]],[G[2,0]+G[3,1],G[2,2]+G[3,3]]]))\n",
    "\n",
    "def par_tr_G_par(G): #returns the partial trace of G for giving G_par\n",
    "    return Matrix([[G[0,0]+G[2,2],G[0,1]+G[2,3]],[G[1,0]+G[3,2],G[1,1]+G[3,3]]])\n",
    "\n",
    "def app_coh(G): #Returns apparent degree of coherence for a 2x2 G matrix\n",
    "    return simplify(sqrt(1-4*simplify(Determinant(G))/(simplify(Trace(G))**2)))\n",
    "\n",
    "def norm_grad(B,syms):\n",
    "    c = 0\n",
    "    for i in syms:\n",
    "        c += simplify(B.diff(i)**2)\n",
    "    return simplify(c)"
   ]
  },
  {
   "cell_type": "markdown",
   "metadata": {},
   "source": [
    "#### Methods for Calculating Values of $D_{pol}$, $D_{par}$, $B_{max}$, $S_{pol}$ and $S_{par}$"
   ]
  },
  {
   "cell_type": "code",
   "execution_count": 13,
   "metadata": {},
   "outputs": [],
   "source": [
    "def bmaxfinder(C_ta_pa,x):\n",
    "    tb,pb = symbols('theta_b varphi_b',real=True)\n",
    "    B = C_ta_pa + C_ta_pa.xreplace({ta:tb}) + C_ta_pa.xreplace({pa:pb}) - C_ta_pa.xreplace({ta:tb,pa:pb})\n",
    "    b = lambdify((ta,pa,tb,pb,p),B, \"numpy\")\n",
    "    bmax=[-1*(sc.optimize.minimize(lambda params: -1*abs(b(params[0],params[1],params[2],params[3],i)), [0,0,0,0], method = 'L-BFGS-B').fun) for i in x]\n",
    "    bmax=np.around(bmax,decimals=5)\n",
    "    return bmax"
   ]
  },
  {
   "cell_type": "code",
   "execution_count": 14,
   "metadata": {},
   "outputs": [],
   "source": [
    "def bmaxfinderC(C_ta_pa,x):\n",
    "    tb,pb = symbols('theta_b varphi_b',real=True)\n",
    "    B = abs(C_ta_pa + C_ta_pa.xreplace({ta:tb}) + C_ta_pa.xreplace({pa:pb}) - C_ta_pa.xreplace({ta:tb,pa:pb}))\n",
    "    b = lambdify((ta,pa,tb,pb,P),B, \"numpy\")\n",
    "    bmax=[-1*(sc.optimize.minimize(lambda params: -1*abs(b(params[0],params[1],params[2],params[3],i)), [0,0,0,0], method = 'L-BFGS-B').fun) for i in x]\n",
    "    bmax=np.around(bmax,decimals=5)\n",
    "    return bmax"
   ]
  },
  {
   "cell_type": "code",
   "execution_count": 15,
   "metadata": {},
   "outputs": [],
   "source": [
    "def dfinder(D,x):\n",
    "    d=lambdify(p,D,\"numpy\")\n",
    "    d_final=[d(i) for i in x]\n",
    "    return d_final"
   ]
  },
  {
   "cell_type": "code",
   "execution_count": 16,
   "metadata": {},
   "outputs": [],
   "source": [
    "def dfinderC(D,x):\n",
    "    d=lambdify(P,D,\"numpy\")\n",
    "    d_final=[d(i) for i in x]\n",
    "    return d_final"
   ]
  },
  {
   "cell_type": "code",
   "execution_count": 17,
   "metadata": {},
   "outputs": [],
   "source": [
    "def sfinder(d,bmax):   \n",
    "    return np.around(np.square(d)/2+np.square(bmax)/8,decimals=5)"
   ]
  },
  {
   "cell_type": "markdown",
   "metadata": {},
   "source": [
    "### 4.1 Experiment A\n",
    "Here the field is competely coherent and we start with the Jones vector in state $\\mathbf{J} = (1/\\sqrt{2})[\\cos(\\varphi/2)\\text{ }\\iota\\sin(\\varphi/2)\\text{ 1 0}]^T$ which is reached by applying the PS-SLM on the input state of $\\mathbf{J}_{in} = (1/\\sqrt{2})[\\text{1 0 1 0}]^T$. On this we then apply the rotation of basis by $\\theta_a$ for polarization and of $\\varphi_a$ for parity and then conduct measurements of each component. Based on our previous definitions we now derive the correlation function for this experiment."
   ]
  },
  {
   "cell_type": "code",
   "execution_count": 18,
   "metadata": {
    "scrolled": true
   },
   "outputs": [
    {
     "data": {
      "text/latex": [
       "$\\displaystyle \\left[\\begin{matrix}0.5 \\cos^{2}{\\left(\\frac{\\varphi}{2} \\right)} & 0.25 i \\sin{\\left(\\varphi \\right)} & 0.5 \\cos{\\left(\\frac{\\varphi}{2} \\right)} & 0\\\\- 0.25 i \\sin{\\left(\\varphi \\right)} & 0.5 \\sin^{2}{\\left(\\frac{\\varphi}{2} \\right)} & - 0.5 i \\sin{\\left(\\frac{\\varphi}{2} \\right)} & 0\\\\0.5 \\cos{\\left(\\frac{\\varphi}{2} \\right)} & 0.5 i \\sin{\\left(\\frac{\\varphi}{2} \\right)} & 0.5 & 0\\\\0 & 0 & 0 & 0\\end{matrix}\\right]$"
      ],
      "text/plain": [
       "Matrix([\n",
       "[0.5*cos(varphi/2)**2,   0.25*I*sin(varphi),    0.5*cos(varphi/2), 0],\n",
       "[ -0.25*I*sin(varphi), 0.5*sin(varphi/2)**2, -0.5*I*sin(varphi/2), 0],\n",
       "[   0.5*cos(varphi/2),  0.5*I*sin(varphi/2),                  0.5, 0],\n",
       "[                   0,                    0,                    0, 0]])"
      ]
     },
     "execution_count": 18,
     "metadata": {},
     "output_type": "execute_result"
    }
   ],
   "source": [
    "J = sqrt(1/2)*Matrix([cos(p/2),I*sin(p/2),1,0])\n",
    "G_A = trigsimp(conjugate(J)*J.T)\n",
    "G_A #The input beam G matrix before the transformations"
   ]
  },
  {
   "cell_type": "markdown",
   "metadata": {},
   "source": [
    "#### Calculation of $D_{pol}$ and $D_{par}$"
   ]
  },
  {
   "cell_type": "code",
   "execution_count": 19,
   "metadata": {},
   "outputs": [
    {
     "data": {
      "text/latex": [
       "$\\displaystyle \\left[\\begin{matrix}0.5 & 0.5 \\cos{\\left(\\frac{\\varphi}{2} \\right)}\\\\0.5 \\cos{\\left(\\frac{\\varphi}{2} \\right)} & 0.5\\end{matrix}\\right]$"
      ],
      "text/plain": [
       "Matrix([\n",
       "[              0.5, 0.5*cos(varphi/2)],\n",
       "[0.5*cos(varphi/2),               0.5]])"
      ]
     },
     "execution_count": 19,
     "metadata": {},
     "output_type": "execute_result"
    }
   ],
   "source": [
    "G_pol_A = par_tr_G_pol(G_A)\n",
    "G_pol_A"
   ]
  },
  {
   "cell_type": "code",
   "execution_count": 20,
   "metadata": {
    "scrolled": true
   },
   "outputs": [
    {
     "data": {
      "text/latex": [
       "$\\displaystyle \\left[\\begin{matrix}0.5 \\cos^{2}{\\left(\\frac{\\varphi}{2} \\right)} + 0.5 & 0.25 i \\sin{\\left(\\varphi \\right)}\\\\- 0.25 i \\sin{\\left(\\varphi \\right)} & 0.5 \\sin^{2}{\\left(\\frac{\\varphi}{2} \\right)}\\end{matrix}\\right]$"
      ],
      "text/plain": [
       "Matrix([\n",
       "[0.5*cos(varphi/2)**2 + 0.5,   0.25*I*sin(varphi)],\n",
       "[       -0.25*I*sin(varphi), 0.5*sin(varphi/2)**2]])"
      ]
     },
     "execution_count": 20,
     "metadata": {},
     "output_type": "execute_result"
    }
   ],
   "source": [
    "G_par_A = par_tr_G_par(G_A)\n",
    "G_par_A"
   ]
  },
  {
   "cell_type": "code",
   "execution_count": 21,
   "metadata": {
    "scrolled": true
   },
   "outputs": [
    {
     "data": {
      "text/latex": [
       "$\\displaystyle 1.0 \\left|{\\cos{\\left(\\frac{\\varphi}{2} \\right)}}\\right|$"
      ],
      "text/plain": [
       "1.0*Abs(cos(varphi/2))"
      ]
     },
     "execution_count": 21,
     "metadata": {},
     "output_type": "execute_result"
    }
   ],
   "source": [
    "D_pol_A=app_coh(G_pol_A)\n",
    "D_pol_A# Prints D_pol"
   ]
  },
  {
   "cell_type": "code",
   "execution_count": 22,
   "metadata": {
    "scrolled": true
   },
   "outputs": [
    {
     "data": {
      "text/latex": [
       "$\\displaystyle 0.707106781186548 \\sqrt{\\cos{\\left(\\varphi \\right)} + 1}$"
      ],
      "text/plain": [
       "0.707106781186548*sqrt(cos(varphi) + 1)"
      ]
     },
     "execution_count": 22,
     "metadata": {},
     "output_type": "execute_result"
    }
   ],
   "source": [
    "D_par_A=app_coh(G_par_A)\n",
    "D_par_A# Prints D_par"
   ]
  },
  {
   "cell_type": "markdown",
   "metadata": {},
   "source": [
    "#### Calculation of the Correlation Function and $B_{max}$"
   ]
  },
  {
   "cell_type": "code",
   "execution_count": 23,
   "metadata": {},
   "outputs": [
    {
     "data": {
      "text/latex": [
       "$\\displaystyle 1.0 \\sin{\\left(\\theta_{a} \\right)} \\cos{\\left(\\frac{\\varphi}{2} + \\varphi_{a} \\right)} - 0.5 \\cos{\\left(\\theta_{a} \\right)} \\cos{\\left(\\varphi_{a} \\right)} + 0.5 \\cos{\\left(\\theta_{a} \\right)} \\cos{\\left(\\varphi + \\varphi_{a} \\right)}$"
      ],
      "text/plain": [
       "1.0*sin(theta_a)*cos(varphi/2 + varphi_a) - 0.5*cos(theta_a)*cos(varphi_a) + 0.5*cos(theta_a)*cos(varphi + varphi_a)"
      ]
     },
     "execution_count": 23,
     "metadata": {},
     "output_type": "execute_result"
    }
   ],
   "source": [
    "G_out_A = conjugate(A_SLM)*conjugate(A_HWP)*G_A*A_HWP.T*A_SLM.T #Transformed matrix\n",
    "C_ta_pa_A = trigsimp(corr_prob(G_out_A)/trace_G(G_out_A))\n",
    "C_ta_pa_A"
   ]
  },
  {
   "cell_type": "markdown",
   "metadata": {},
   "source": [
    "As we can see from above this does not actually match the expression provided in \\[topic2\\]. While this initially baffled us we came to a conclusion that this expression is infact correct as per the aim of the paper. Moreover this actually reproduces the experimental results they obtained while in contrast their correlation function fails to do it as well. Also the optimized Bmax values fit with the relation which the paper claims if our correlation function is used instead of theirs.\n",
    "The optimization procedure that we chose to go ahead with is just normal numerical optimization since otherwise we would have had to make the gradient zero and run through all possible cases where the gradient vanishes which would have been a lengthy procedure."
   ]
  },
  {
   "cell_type": "markdown",
   "metadata": {},
   "source": [
    "#### GRAPHS FOR EXPERIMENT A"
   ]
  },
  {
   "cell_type": "code",
   "execution_count": 24,
   "metadata": {},
   "outputs": [
    {
     "data": {
      "application/vnd.jupyter.widget-view+json": {
       "model_id": "e104743b62554c53bf0cbad7fd91ffa0",
       "version_major": 2,
       "version_minor": 0
      },
      "text/plain": [
       "interactive(children=(Dropdown(description='option', options=('Hide All', 'D', 'B', 'S', 'Show All'), value='H…"
      ]
     },
     "metadata": {},
     "output_type": "display_data"
    }
   ],
   "source": [
    "def expAPlots(option):\n",
    "    num_space=102\n",
    "    phi=np.linspace(0, 2*np.pi, num_space)\n",
    "    bmax=bmaxfinder(C_ta_pa_A,phi)\n",
    "    dpol=dfinder(D_pol_A,phi)\n",
    "    dpar=dfinder(D_par_A,phi)\n",
    "    spol=sfinder(dpol,bmax)\n",
    "    spar=sfinder(dpar,bmax)\n",
    "    d=dpol\n",
    "    s=spol\n",
    "    \n",
    "    if option!='Hide All':        \n",
    "    \n",
    "        if option=='B':            \n",
    "            fig, ax = plt.subplots(figsize=(7, 7))\n",
    "            plotter(phi,bmax,r'$B_{max}$',r'$\\phi$',r'$B_{max}$',(1,0,0),r'$B_{max}$')\n",
    "            plt.plot(phi,[8**(0.5)]*num_space,color='black', linestyle ='dashed')\n",
    "            plt.plot(phi,[2]*num_space,color='black', linestyle ='dashed')\n",
    "            plt.figtext(s=r'$2\\sqrt{2}$', x=0.15, y=0.77, fontsize=15)\n",
    "            plt.figtext(s=r'$2$', x=0.15, y=0.48, fontsize=15)\n",
    "            plt.ylim(1,3)\n",
    "            plt.show()\n",
    "            \n",
    "        elif option=='S':\n",
    "            fig, ax = plt.subplots(figsize=(7, 7))\n",
    "            plotter(phi,spol,r'$S_{pol}=S_{par}=1$',r'$\\phi$',r'$S_{pol}\\ \\slash\\ S_{par}$',(1,0,0),r'$s_{pol}$')\n",
    "            plotter(phi,spar,r'$S_{pol}=S_{par}=1$',r'$\\phi$',r'$S_{pol}\\ \\slash\\ S_{par}$',(0,0,1),r'$s_{par}$')\n",
    "            plt.ylim(0,1.1) \n",
    "            plt.legend()\n",
    "            plt.show()\n",
    "            \n",
    "        elif option=='D':         \n",
    "            fig, ax = plt.subplots(figsize=(7, 7))\n",
    "            plotter(phi,dpol,r'$D_{pol}\\ and\\ D_{par}$',r'$\\phi$',r'$D_{pol}\\ \\slash\\ D_{par}$',(1,0,0),r'$d_{pol}$')\n",
    "            plotter(phi,dpar,r'$D_{pol}\\ and\\ D_{par}$',r'$\\phi$',r'$D_{pol}\\ \\slash\\ D_{par}$',(0,0,1),r'$d_{pol}$')\n",
    "            plt.ylim(0,1.1)\n",
    "            plt.legend()\n",
    "            plt.show()\n",
    "            \n",
    "        else:\n",
    "            fig, ax = plt.subplots(figsize=(7, 7))\n",
    "            plotter(phi,dpol,r'$D_{pol}\\ and\\ D_{par}$',r'$\\phi$',r'$D_{pol}\\ \\slash\\ D_{par}$',(1,0,0),r'$d_{pol}$')\n",
    "            plotter(phi,dpar,r'$D_{pol}\\ and\\ D_{par}$',r'$\\phi$',r'$D_{pol}\\ \\slash\\ D_{par}$',(0,0,1),r'$d_{pol}$')\n",
    "            plt.ylim(0,1.1)\n",
    "            plt.legend()\n",
    "            plt.show()\n",
    "            fig, ax = plt.subplots(figsize=(7, 7))\n",
    "            plotter(phi,bmax,r'$B_{max}$',r'$\\phi$',r'$B_{max}$',(1,0,0),r'$B_{max}$')\n",
    "            plt.plot(phi,[8**(0.5)]*num_space,color='black', linestyle ='dashed')\n",
    "            plt.plot(phi,[2]*num_space,color='black', linestyle ='dashed')\n",
    "            plt.figtext(s=r'$2\\sqrt{2}$', x=0.15, y=0.77, fontsize=15)\n",
    "            plt.figtext(s=r'$2$', x=0.15, y=0.48, fontsize=15)\n",
    "            plt.ylim(1,3)\n",
    "            plt.show()\n",
    "            fig, ax = plt.subplots(figsize=(7, 7))\n",
    "            plotter(phi,spol,r'$S_{pol}=S_{par}=1$',r'$\\phi$',r'$S_{pol}\\ \\slash\\ S_{par}$',(1,0,0),r'$s_{pol}$')\n",
    "            plotter(phi,spar,r'$S_{pol}=S_{par}=1$',r'$\\phi$',r'$S_{pol}\\ \\slash\\ S_{par}$',(0,0,1),r'$s_{par}$')\n",
    "            plt.ylim(0,1.1) \n",
    "            plt.legend()\n",
    "            plt.show()\n",
    "            \n",
    "            \n",
    "        plt.show()\n",
    "    \n",
    "    else:       \n",
    "        clear_output()\n",
    "    return\n",
    "\n",
    "interact(expAPlots, option=['Hide All', 'D', 'B', 'S', 'Show All']);"
   ]
  },
  {
   "cell_type": "code",
   "execution_count": 25,
   "metadata": {
    "scrolled": false
   },
   "outputs": [
    {
     "data": {
      "application/vnd.jupyter.widget-view+json": {
       "model_id": "6825ec44afd84c89a62e1de154dbfa35",
       "version_major": 2,
       "version_minor": 0
      },
      "text/plain": [
       "interactive(children=(FloatSlider(value=1.0471975511965976, continuous_update=False, description='phi', layout…"
      ]
     },
     "metadata": {},
     "output_type": "display_data"
    }
   ],
   "source": [
    "def expAContours(phi):\n",
    "    function=C_ta_pa_A\n",
    "    contourplotter(function,phi,r'$C(\\theta_a,\\phi_a)$',r'$\\theta_a$',r'$\\phi_a$')\n",
    "    return\n",
    "interact(expAContours, phi=widgets.FloatSlider(min=0, max=2*np.pi, step=0.02, value=np.pi/3, continuous_update=False, layout=Layout(width='600px')));"
   ]
  },
  {
   "cell_type": "markdown",
   "metadata": {},
   "source": [
    "As it can be seen in the above graphs, our degree of coherence $S$ and also $S_\\text{pol}$ and $S_\\text{par}$ stay at the value of 1 throughout and are invariant to any unitary transformation done on the system. As we vary the angle $\\phi$ we can see that the coupling is maximized at $\\phi=\\pi$ at which moment the apparent degrees of coherence go to zero since all of our original coherency is present in the form of coupling."
   ]
  },
  {
   "cell_type": "markdown",
   "metadata": {},
   "source": [
    "### 4.2 Experiment B\n",
    "Here starting with the same $\\mathbf{J}_{in}$ the polarization is scrambled using a variable polarization rotator which does not affect the spatial DoF so we have $D_\\text{pol} = 0$ and $D_\\text{par} = 1$. Now this beam is sent through a PS-SLM which would couple the DoFs. We now go on to derive the correlation function for this"
   ]
  },
  {
   "cell_type": "code",
   "execution_count": 26,
   "metadata": {
    "scrolled": false
   },
   "outputs": [
    {
     "data": {
      "text/latex": [
       "$\\displaystyle \\left[\\begin{matrix}0.5 \\cos^{2}{\\left(\\frac{\\varphi}{2} \\right)} & 0.5 i \\sin{\\left(\\frac{\\varphi}{2} \\right)} \\cos{\\left(\\frac{\\varphi}{2} \\right)} & 0 & 0\\\\- 0.5 i \\sin{\\left(\\frac{\\varphi}{2} \\right)} \\cos{\\left(\\frac{\\varphi}{2} \\right)} & 0.5 \\sin^{2}{\\left(\\frac{\\varphi}{2} \\right)} & 0 & 0\\\\0 & 0 & 0.5 & 0\\\\0 & 0 & 0 & 0\\end{matrix}\\right]$"
      ],
      "text/plain": [
       "Matrix([\n",
       "[              0.5*cos(varphi/2)**2, 0.5*I*sin(varphi/2)*cos(varphi/2),   0, 0],\n",
       "[-0.5*I*sin(varphi/2)*cos(varphi/2),              0.5*sin(varphi/2)**2,   0, 0],\n",
       "[                                 0,                                 0, 0.5, 0],\n",
       "[                                 0,                                 0,   0, 0]])"
      ]
     },
     "execution_count": 26,
     "metadata": {},
     "output_type": "execute_result"
    }
   ],
   "source": [
    "G_B = (1/2)*Matrix([[cos(p/2)**2, I*cos(p/2)*sin(p/2), 0, 0],[-I*cos(p/2)*sin(p/2), sin(p/2)**2, 0,0],\n",
    "            [0,0,1,0],[0,0,0,0]])\n",
    "G_B #The input beam G matrix before the transformations"
   ]
  },
  {
   "cell_type": "markdown",
   "metadata": {},
   "source": [
    "#### Calculation of $D_{pol}$ and $D_{par}$"
   ]
  },
  {
   "cell_type": "code",
   "execution_count": 27,
   "metadata": {},
   "outputs": [
    {
     "data": {
      "text/latex": [
       "$\\displaystyle \\left[\\begin{matrix}0.5 & 0\\\\0 & 0.5\\end{matrix}\\right]$"
      ],
      "text/plain": [
       "Matrix([\n",
       "[0.5,   0],\n",
       "[  0, 0.5]])"
      ]
     },
     "execution_count": 27,
     "metadata": {},
     "output_type": "execute_result"
    }
   ],
   "source": [
    "G_pol_B = par_tr_G_pol(G_B)\n",
    "G_pol_B"
   ]
  },
  {
   "cell_type": "code",
   "execution_count": 28,
   "metadata": {
    "scrolled": true
   },
   "outputs": [
    {
     "data": {
      "text/latex": [
       "$\\displaystyle \\left[\\begin{matrix}0.5 \\cos^{2}{\\left(\\frac{\\varphi}{2} \\right)} + 0.5 & 0.5 i \\sin{\\left(\\frac{\\varphi}{2} \\right)} \\cos{\\left(\\frac{\\varphi}{2} \\right)}\\\\- 0.5 i \\sin{\\left(\\frac{\\varphi}{2} \\right)} \\cos{\\left(\\frac{\\varphi}{2} \\right)} & 0.5 \\sin^{2}{\\left(\\frac{\\varphi}{2} \\right)}\\end{matrix}\\right]$"
      ],
      "text/plain": [
       "Matrix([\n",
       "[        0.5*cos(varphi/2)**2 + 0.5, 0.5*I*sin(varphi/2)*cos(varphi/2)],\n",
       "[-0.5*I*sin(varphi/2)*cos(varphi/2),              0.5*sin(varphi/2)**2]])"
      ]
     },
     "execution_count": 28,
     "metadata": {},
     "output_type": "execute_result"
    }
   ],
   "source": [
    "G_par_B = par_tr_G_par(G_B)\n",
    "G_par_B"
   ]
  },
  {
   "cell_type": "code",
   "execution_count": 29,
   "metadata": {
    "scrolled": true
   },
   "outputs": [
    {
     "data": {
      "text/latex": [
       "$\\displaystyle 0$"
      ],
      "text/plain": [
       "0"
      ]
     },
     "execution_count": 29,
     "metadata": {},
     "output_type": "execute_result"
    }
   ],
   "source": [
    "D_pol_B=app_coh(G_pol_B)\n",
    "D_pol_B# Prints D_pol"
   ]
  },
  {
   "cell_type": "code",
   "execution_count": 30,
   "metadata": {
    "scrolled": true
   },
   "outputs": [
    {
     "data": {
      "text/latex": [
       "$\\displaystyle 0.707106781186548 \\sqrt{\\cos{\\left(\\varphi \\right)} + 1}$"
      ],
      "text/plain": [
       "0.707106781186548*sqrt(cos(varphi) + 1)"
      ]
     },
     "execution_count": 30,
     "metadata": {},
     "output_type": "execute_result"
    }
   ],
   "source": [
    "D_par_B=app_coh(G_par_B)\n",
    "D_par_B"
   ]
  },
  {
   "cell_type": "markdown",
   "metadata": {},
   "source": [
    "#### Calculation of the Correlation Function and $B_{max}$"
   ]
  },
  {
   "cell_type": "code",
   "execution_count": 31,
   "metadata": {},
   "outputs": [
    {
     "data": {
      "text/latex": [
       "$\\displaystyle 0.5 \\left(- \\cos{\\left(\\varphi_{a} \\right)} + \\cos{\\left(\\varphi + \\varphi_{a} \\right)}\\right) \\cos{\\left(\\theta_{a} \\right)}$"
      ],
      "text/plain": [
       "0.5*(-cos(varphi_a) + cos(varphi + varphi_a))*cos(theta_a)"
      ]
     },
     "execution_count": 31,
     "metadata": {},
     "output_type": "execute_result"
    }
   ],
   "source": [
    "G_out_B = conjugate(A_SLM)*conjugate(A_HWP)*G_B*A_HWP.T*A_SLM.T #Transformed matrix\n",
    "C_ta_pa_B = trigsimp(corr_prob(G_out_B)/trace_G(G_out_B))\n",
    "C_ta_pa_B"
   ]
  },
  {
   "cell_type": "markdown",
   "metadata": {},
   "source": [
    "We have now seen that our expression for the correlation function matches the exact one obtained in the reference \\[topic2\\]. We now go ahead to optimize our expression for B and obtain the other plots below. On a sidenote one can actually traditionally find the maxima for the $B$ expression here since it is simpler to look at. The condition where it is maximized is when $\\phi_a=\\phi_b=(\\pi-\\phi)/2$ and $\\theta_a = \\theta_b = 0$ or $\\pi$ which can be verified by looking at the gradient."
   ]
  },
  {
   "cell_type": "markdown",
   "metadata": {},
   "source": [
    "#### GRAPHS FOR EXPERIMENT B"
   ]
  },
  {
   "cell_type": "code",
   "execution_count": 32,
   "metadata": {
    "scrolled": false
   },
   "outputs": [
    {
     "data": {
      "application/vnd.jupyter.widget-view+json": {
       "model_id": "d7efc516c88647c3832f76f439e160d9",
       "version_major": 2,
       "version_minor": 0
      },
      "text/plain": [
       "interactive(children=(Dropdown(description='option', options=('Hide All', 'D', 'B', 'S', 'Show All'), value='H…"
      ]
     },
     "metadata": {},
     "output_type": "display_data"
    }
   ],
   "source": [
    "def expBPlots(option):\n",
    "    num_space=102\n",
    "    phi=np.linspace(0, 2*np.pi, num_space)\n",
    "    bmax=bmaxfinder(C_ta_pa_B,phi)\n",
    "    dpol=dfinder(D_pol_B,phi)\n",
    "    dpar=dfinder(D_par_B,phi)\n",
    "    spol=sfinder(dpol,bmax)\n",
    "    spar=sfinder(dpar,bmax)\n",
    "    \n",
    "    if option!='Hide All':        \n",
    "    \n",
    "        if option=='B':            \n",
    "            fig, ax = plt.subplots(figsize=(7, 7))\n",
    "            plotter(phi,bmax,r'$B_{max}$',r'$\\phi$',r'$B_{max}$',(1,0,0),r'$B_{max}$')\n",
    "            plt.plot(phi,[2]*num_space,color='black', linestyle ='dashed')\n",
    "            plt.ylim(0,2.5)\n",
    "            plt.show()\n",
    "            \n",
    "        elif option=='S':\n",
    "            fig, ax = plt.subplots(figsize=(7, 7))\n",
    "            plotter(phi,spol,r'$S_{pol}=S_{par}=1$',r'$\\phi$',r'$S_{pol}\\ \\slash\\ S_{par}$',(1,0,0),r'$s_{pol}$')\n",
    "            plotter(phi,spar,r'$S_{pol}=S_{par}=1$',r'$\\phi$',r'$S_{pol}\\ \\slash\\ S_{par}$',(0,0,1),r'$s_{par}$')\n",
    "            plt.ylim(0,1.1) \n",
    "            plt.legend()\n",
    "            plt.show()\n",
    "            \n",
    "        elif option=='D':         \n",
    "            fig, ax = plt.subplots(figsize=(7, 7))\n",
    "            plotter(phi,dpol,r'$D_{pol}\\ and\\ D_{par}$',r'$\\phi$',r'$D_{pol}\\ \\slash\\ D_{par}$',(1,0,0),r'$d_{pol}$')\n",
    "            plotter(phi,dpar,r'$D_{pol}\\ and\\ D_{par}$',r'$\\phi$',r'$D_{pol}\\ \\slash\\ D_{par}$',(0,0,1),r'$d_{pol}$')\n",
    "            plt.ylim(-0.1,1.1)\n",
    "            plt.legend()\n",
    "            plt.show()\n",
    "            \n",
    "        else:\n",
    "            fig, ax = plt.subplots(figsize=(7, 7))\n",
    "            plotter(phi,dpol,r'$D_{pol}\\ and\\ D_{par}$',r'$\\phi$',r'$D_{pol}\\ \\slash\\ D_{par}$',(1,0,0),r'$d_{pol}$')\n",
    "            plotter(phi,dpar,r'$D_{pol}\\ and\\ D_{par}$',r'$\\phi$',r'$D_{pol}\\ \\slash\\ D_{par}$',(0,0,1),r'$d_{pol}$')\n",
    "            plt.ylim(-0.1,1.1)\n",
    "            plt.legend()\n",
    "            plt.show()\n",
    "            fig, ax = plt.subplots(figsize=(7, 7))\n",
    "            plotter(phi,bmax,r'$B_{max}$',r'$\\phi$',r'$B_{max}$',(1,0,0),r'$B_{max}$')\n",
    "            plt.plot(phi,[2]*num_space,color='black', linestyle ='dashed')\n",
    "            plt.ylim(0,2.5)\n",
    "            plt.show()\n",
    "            fig, ax = plt.subplots(figsize=(7, 7))\n",
    "            plotter(phi,spol,r'$S_{pol}=S_{par}=1$',r'$\\phi$',r'$S_{pol}\\ \\slash\\ S_{par}$',(1,0,0),r'$s_{pol}$')\n",
    "            plotter(phi,spar,r'$S_{pol}=S_{par}=1$',r'$\\phi$',r'$S_{pol}\\ \\slash\\ S_{par}$',(0,0,1),r'$s_{par}$')\n",
    "            plt.ylim(0,1.1) \n",
    "            plt.legend()\n",
    "            plt.show()\n",
    "            \n",
    "            \n",
    "        plt.show()\n",
    "    \n",
    "    else:       \n",
    "        clear_output()\n",
    "    return\n",
    "\n",
    "interact(expBPlots, option=['Hide All', 'D', 'B', 'S', 'Show All']);"
   ]
  },
  {
   "cell_type": "code",
   "execution_count": 33,
   "metadata": {
    "scrolled": false
   },
   "outputs": [
    {
     "data": {
      "application/vnd.jupyter.widget-view+json": {
       "model_id": "61300da7869047029df17efb74a2c97e",
       "version_major": 2,
       "version_minor": 0
      },
      "text/plain": [
       "interactive(children=(FloatSlider(value=1.0471975511965976, continuous_update=False, description='phi', layout…"
      ]
     },
     "metadata": {},
     "output_type": "display_data"
    }
   ],
   "source": [
    "def expBContours(phi):\n",
    "    function=C_ta_pa_B\n",
    "    contourplotter(function,phi,r'$C(\\theta_a,\\phi_a)$',r'$\\theta_a$',r'$\\phi_a$')\n",
    "    return\n",
    "interact(expBContours, phi=widgets.FloatSlider(min=0, max=2*np.pi, step=0.02, value=np.pi/3, continuous_update=False, layout=Layout(width='600px')));"
   ]
  },
  {
   "cell_type": "markdown",
   "metadata": {},
   "source": [
    "### 4.3 Experiment C\n",
    "In this experiment we again start with the same $\\mathbf{J}_{in}$ and an interaction is considered that makes it have a random coupling. It has a probability $P$ to couple polarization and parity and $1-P$ to not achieved by randomly toggling between two phase distributions of the PS-SLM, one with $\\pi/2\\text{sgn}(x)$ phase and another with zero phase where $P$ is the fraction of time that the PS-SLM displays the first phase pattern. From this we go on to derive it's correlation function."
   ]
  },
  {
   "cell_type": "code",
   "execution_count": 34,
   "metadata": {},
   "outputs": [
    {
     "data": {
      "text/latex": [
       "$\\displaystyle \\left[\\begin{matrix}\\frac{1}{2} - \\frac{P}{2} & 0 & \\frac{1}{2} - \\frac{P}{2} & 0\\\\0 & \\frac{P}{2} & - \\frac{i P}{2} & 0\\\\\\frac{1}{2} - \\frac{P}{2} & \\frac{i P}{2} & \\frac{1}{2} & 0\\\\0 & 0 & 0 & 0\\end{matrix}\\right]$"
      ],
      "text/plain": [
       "Matrix([\n",
       "[1/2 - P/2,     0, 1/2 - P/2, 0],\n",
       "[        0,   P/2,    -I*P/2, 0],\n",
       "[1/2 - P/2, I*P/2,       1/2, 0],\n",
       "[        0,     0,         0, 0]])"
      ]
     },
     "execution_count": 34,
     "metadata": {},
     "output_type": "execute_result"
    }
   ],
   "source": [
    "J_ent = (1/sqrt(2))*Matrix([0, I, 1, 0])#Entagled state\n",
    "J_in = (1/sqrt(2))*Matrix([1, 0, 1, 0])#Input state\n",
    "G_C = P*conjugate(J_ent)*J_ent.T + (1-P)*conjugate(J_in)*J_in.T\n",
    "G_C"
   ]
  },
  {
   "cell_type": "markdown",
   "metadata": {},
   "source": [
    "#### Calculation of $D_{pol}$ and $D_{par}$"
   ]
  },
  {
   "cell_type": "code",
   "execution_count": 35,
   "metadata": {},
   "outputs": [
    {
     "data": {
      "text/latex": [
       "$\\displaystyle \\left[\\begin{matrix}\\frac{1}{2} & \\frac{1}{2} - \\frac{P}{2}\\\\\\frac{1}{2} - \\frac{P}{2} & \\frac{1}{2}\\end{matrix}\\right]$"
      ],
      "text/plain": [
       "Matrix([\n",
       "[      1/2, 1/2 - P/2],\n",
       "[1/2 - P/2,       1/2]])"
      ]
     },
     "execution_count": 35,
     "metadata": {},
     "output_type": "execute_result"
    }
   ],
   "source": [
    "G_pol_C = par_tr_G_pol(G_C)\n",
    "G_pol_C"
   ]
  },
  {
   "cell_type": "code",
   "execution_count": 36,
   "metadata": {
    "scrolled": true
   },
   "outputs": [
    {
     "data": {
      "text/latex": [
       "$\\displaystyle \\left[\\begin{matrix}1 - \\frac{P}{2} & 0\\\\0 & \\frac{P}{2}\\end{matrix}\\right]$"
      ],
      "text/plain": [
       "Matrix([\n",
       "[1 - P/2,   0],\n",
       "[      0, P/2]])"
      ]
     },
     "execution_count": 36,
     "metadata": {},
     "output_type": "execute_result"
    }
   ],
   "source": [
    "G_par_C = par_tr_G_par(G_C)\n",
    "G_par_C"
   ]
  },
  {
   "cell_type": "code",
   "execution_count": 37,
   "metadata": {
    "scrolled": true
   },
   "outputs": [
    {
     "data": {
      "text/latex": [
       "$\\displaystyle \\left|{P - 1}\\right|$"
      ],
      "text/plain": [
       "Abs(P - 1)"
      ]
     },
     "execution_count": 37,
     "metadata": {},
     "output_type": "execute_result"
    }
   ],
   "source": [
    "D_pol_C=app_coh(G_pol_C)\n",
    "simplify(D_pol_C)# Prints D_pol"
   ]
  },
  {
   "cell_type": "code",
   "execution_count": 38,
   "metadata": {
    "scrolled": true
   },
   "outputs": [
    {
     "data": {
      "text/latex": [
       "$\\displaystyle \\sqrt{- P \\left(2 - P\\right) + 1}$"
      ],
      "text/plain": [
       "sqrt(-P*(2 - P) + 1)"
      ]
     },
     "execution_count": 38,
     "metadata": {},
     "output_type": "execute_result"
    }
   ],
   "source": [
    "D_par_C=app_coh(G_par_C)\n",
    "D_par_C"
   ]
  },
  {
   "cell_type": "markdown",
   "metadata": {},
   "source": [
    "#### Calculation of the Correlation Function and $B_{max}$"
   ]
  },
  {
   "cell_type": "code",
   "execution_count": 39,
   "metadata": {},
   "outputs": [
    {
     "data": {
      "text/latex": [
       "$\\displaystyle - \\sqrt{2} P \\sin{\\left(\\theta_{a} \\right)} \\sin{\\left(\\varphi_{a} + \\frac{\\pi}{4} \\right)} - P \\cos{\\left(\\theta_{a} \\right)} \\cos{\\left(\\varphi_{a} \\right)} + \\sin{\\left(\\theta_{a} \\right)} \\cos{\\left(\\varphi_{a} \\right)}$"
      ],
      "text/plain": [
       "-sqrt(2)*P*sin(theta_a)*sin(varphi_a + pi/4) - P*cos(theta_a)*cos(varphi_a) + sin(theta_a)*cos(varphi_a)"
      ]
     },
     "execution_count": 39,
     "metadata": {},
     "output_type": "execute_result"
    }
   ],
   "source": [
    "G_out_C = conjugate(A_SLM)*conjugate(A_HWP)*G_C*A_HWP.T*A_SLM.T #Transformed matrix\n",
    "C_ta_pa_C = trigsimp(corr_prob(G_out_C)/trace_G(G_out_C))\n",
    "C_ta_pa_C"
   ]
  },
  {
   "cell_type": "code",
   "execution_count": 40,
   "metadata": {},
   "outputs": [
    {
     "data": {
      "text/latex": [
       "$\\displaystyle 0$"
      ],
      "text/plain": [
       "0"
      ]
     },
     "execution_count": 40,
     "metadata": {},
     "output_type": "execute_result"
    }
   ],
   "source": [
    "simplify(C_ta_pa_C - ((1-P)*sin(ta)*cos(pa) - P*cos(ta-pa)))"
   ]
  },
  {
   "cell_type": "markdown",
   "metadata": {},
   "source": [
    "As we have shown in the cell above the correlation function we have derived matches exactly with the function that the paper provides. We again use numerical methods to maximize this function since optimizing by minimization of gradient would take considerably long to do. Our results shown below match up consistently with those shown in \\[topic2\\]."
   ]
  },
  {
   "cell_type": "markdown",
   "metadata": {},
   "source": [
    "#### GRAPHS FOR EXPERIMENT C"
   ]
  },
  {
   "cell_type": "code",
   "execution_count": 41,
   "metadata": {
    "scrolled": false
   },
   "outputs": [
    {
     "data": {
      "application/vnd.jupyter.widget-view+json": {
       "model_id": "26ad9661cb24496da33ebad268515e18",
       "version_major": 2,
       "version_minor": 0
      },
      "text/plain": [
       "interactive(children=(Dropdown(description='option', options=('Hide All', 'D', 'B', 'S', 'Show All'), value='H…"
      ]
     },
     "metadata": {},
     "output_type": "display_data"
    }
   ],
   "source": [
    "def expCPlots(option):\n",
    "    num_space=102\n",
    "    P=np.linspace(0, 1, num_space)\n",
    "    bmax=bmaxfinderC(C_ta_pa_C,P)\n",
    "    dpol=dfinderC(D_pol_C,P)\n",
    "    dpar=dfinderC(D_par_C,P)\n",
    "    spol=sfinder(dpol,bmax)\n",
    "    spar=sfinder(dpar,bmax)\n",
    "    \n",
    "    if option!='Hide All':        \n",
    "    \n",
    "        if option=='B':            \n",
    "            fig, ax = plt.subplots(figsize=(7, 7))\n",
    "            plotterC(P,bmax,r'$B_{max}$',r'$\\phi$',r'$B_{max}$',(1,0,0),r'$B_{max}$')\n",
    "            plt.plot(P,[2]*num_space,color='black', linestyle ='dashed')\n",
    "            plt.ylim(1,3)\n",
    "            plt.show()\n",
    "            \n",
    "        elif option=='S':\n",
    "            fig, ax = plt.subplots(figsize=(7, 7))\n",
    "            plotterC(P,spol,r'$S_{pol}=S_{par}=1$',r'$\\phi$',r'$S_{pol}\\ \\slash\\ S_{par}$',(1,0,0),r'$s_{pol}$')\n",
    "            plotterC(P,spar,r'$S_{pol}=S_{par}=1$',r'$\\phi$',r'$S_{pol}\\ \\slash\\ S_{par}$',(0,0,1),r'$s_{par}$')\n",
    "            plt.ylim(0,1.1) \n",
    "            plt.legend()\n",
    "            plt.show()\n",
    "            \n",
    "        elif option=='D':         \n",
    "            fig, ax = plt.subplots(figsize=(7, 7))\n",
    "            plotterC(P,dpol,r'$D_{pol}\\ and\\ D_{par}$',r'$\\phi$',r'$D_{pol}\\ \\slash\\ D_{par}$',(1,0,0),r'$d_{pol}$')\n",
    "            plotterC(P,dpar,r'$D_{pol}\\ and\\ D_{par}$',r'$\\phi$',r'$D_{pol}\\ \\slash\\ D_{par}$',(0,0,1),r'$d_{pol}$')\n",
    "            plt.ylim(-0.1,1.1)\n",
    "            plt.legend()\n",
    "            plt.show()\n",
    "            \n",
    "        else:\n",
    "            fig, ax = plt.subplots(figsize=(7, 7))\n",
    "            plotterC(P,dpol,r'$D_{pol}\\ and\\ D_{par}$',r'$\\phi$',r'$D_{pol}\\ \\slash\\ D_{par}$',(1,0,0),r'$d_{pol}$')\n",
    "            plotterC(P,dpar,r'$D_{pol}\\ and\\ D_{par}$',r'$\\phi$',r'$D_{pol}\\ \\slash\\ D_{par}$',(0,0,1),r'$d_{pol}$')\n",
    "            plt.ylim(-0.1,1.1)\n",
    "            plt.legend()\n",
    "            plt.show()\n",
    "            fig, ax = plt.subplots(figsize=(7, 7))\n",
    "            plotterC(P,bmax,r'$B_{max}$',r'$\\phi$',r'$B_{max}$',(1,0,0),r'$B_{max}$')\n",
    "            plt.plot(P,[2]*num_space,color='black', linestyle ='dashed')\n",
    "            plt.ylim(1,3)\n",
    "            plt.show()\n",
    "            fig, ax = plt.subplots(figsize=(7, 7))\n",
    "            plotterC(P,spol,r'$S_{pol}=S_{par}=1$',r'$\\phi$',r'$S_{pol}\\ \\slash\\ S_{par}$',(1,0,0),r'$s_{pol}$')\n",
    "            plotterC(P,spar,r'$S_{pol}=S_{par}=1$',r'$\\phi$',r'$S_{pol}\\ \\slash\\ S_{par}$',(0,0,1),r'$s_{par}$')\n",
    "            plt.ylim(0,1.1) \n",
    "            plt.legend()\n",
    "            plt.show()\n",
    "            \n",
    "            \n",
    "        plt.show()\n",
    "    \n",
    "    else:       \n",
    "        clear_output()\n",
    "    return\n",
    "\n",
    "interact(expCPlots, option=['Hide All', 'D', 'B', 'S', 'Show All']);"
   ]
  },
  {
   "cell_type": "code",
   "execution_count": 42,
   "metadata": {
    "scrolled": false
   },
   "outputs": [
    {
     "data": {
      "application/vnd.jupyter.widget-view+json": {
       "model_id": "a373df446c694f2b90d39ded69a33378",
       "version_major": 2,
       "version_minor": 0
      },
      "text/plain": [
       "interactive(children=(FloatSlider(value=0.3333333333333333, continuous_update=False, description='P', layout=L…"
      ]
     },
     "metadata": {},
     "output_type": "display_data"
    }
   ],
   "source": [
    "def expCContours(P):\n",
    "    function=C_ta_pa_C\n",
    "    contourplotterC(function,P,r'$C(\\theta_a,\\phi_a)$',r'$\\theta_a$',r'$\\phi_a$')\n",
    "    return\n",
    "interact(expCContours, P=widgets.FloatSlider(min=0, max=1, step=0.01, value=1/3, continuous_update=False, layout=Layout(width='600px')));"
   ]
  },
  {
   "cell_type": "markdown",
   "metadata": {},
   "source": [
    "## 5. Reduced representation of the two Binary DoFs\n",
    "Write something here"
   ]
  },
  {
   "cell_type": "code",
   "execution_count": 43,
   "metadata": {},
   "outputs": [],
   "source": [
    "def randG():\n",
    "    G=np.zeros([4,4])\n",
    "    G[0,0]=np.random.uniform(0,1)\n",
    "    G[1,1]=np.random.uniform(0,1-np.trace(G))\n",
    "    G[2,2]=np.random.uniform(0,1-np.trace(G))\n",
    "    G[3,3]=1-np.trace(G)\n",
    "    #G=G/np.trace(G)\n",
    "    A = np.random.rand(4,4)*2-ones(4,4)+1j*np.random.rand(4,4)*2-ones(4,4)\n",
    "    U,_=np.linalg.qr(np.random.rand(4,4)+1j*np.random.rand(4,4))\n",
    "    G=(U@G@np.conjugate(np.transpose(U))).round(4)\n",
    "    return G"
   ]
  },
  {
   "cell_type": "code",
   "execution_count": 44,
   "metadata": {},
   "outputs": [],
   "source": [
    "def C_ta_pa(G,t1,p1):\n",
    "    a_hwp_1 = [[-np.cos(t1/2),0,-np.sin(t1/2),0],[0,-np.cos(t1/2),0,-np.sin(t1/2)],[-np.sin(t1/2),0,np.cos(t1/2),0],[0,-np.sin(t1/2),0,np.cos(t1/2)]]\n",
    "    a_slm_1 = [[np.cos(p1/2),1j*np.sin(p1/2),0,0],[1j*np.sin(p1/2),np.cos(p1/2),0,0],[0,0,np.cos(p1/2),1j*np.sin(p1/2)],[0,0,1j*np.sin(p1/2),np.cos(p1/2)]]\n",
    "    G_out=np.conjugate(a_slm_1)*np.conjugate(a_hwp_1)*G*np.conjugate(a_hwp_1)*np.conjugate(a_slm_1)\n",
    "    return np.real((G_out[0,0]-G_out[1,1]-G_out[2,2]+G_out[3,3])/(np.trace(G))).round(8)"
   ]
  },
  {
   "cell_type": "code",
   "execution_count": 45,
   "metadata": {},
   "outputs": [],
   "source": [
    "def B(G,t1,t2,p1,p2):\n",
    "    return abs(C_ta_pa(G,t1,p1)+C_ta_pa(G,t1,p2)+C_ta_pa(G,t2,p1)-C_ta_pa(G,t2,p2))"
   ]
  },
  {
   "cell_type": "code",
   "execution_count": 46,
   "metadata": {},
   "outputs": [],
   "source": [
    "def genS(G):\n",
    "    G_pol = [[G[0,0]+G[1,1],G[0,2]+G[1,3]],[G[2,0]+G[3,1],G[2,2]+G[3,3]]]\n",
    "    G_par = [[G[0,0]+G[2,2],G[0,1]+G[2,3]],[G[1,0]+G[3,2],G[1,1]+G[3,3]]]\n",
    "    \n",
    "    D_pol=sqrt(1-4*(np.linalg.det(G_pol))/((np.trace(G_pol))**2))\n",
    "    D_par=sqrt(1-4*(np.linalg.det(G_par))/((np.trace(G_par))**2))\n",
    "    \n",
    "    bmax=-1*(sc.optimize.minimize(lambda params: -1*abs(B(G,params[0],params[1],params[2],params[3])), [0,0,0,0], method = 'Nelder-Mead').fun)\n",
    "    spol=round(np.real(complex(D_pol**2/2+bmax**2/8)),8)\n",
    "    spar=round(np.real(complex(D_par**2/2+bmax**2/8)),8)\n",
    "    s=round(np.real((4/3)*(np.trace(G@G)-(1/4))),8)\n",
    "    return spol,spar,s"
   ]
  },
  {
   "cell_type": "code",
   "execution_count": null,
   "metadata": {},
   "outputs": [],
   "source": [
    "n=100000\n",
    "x=np.zeros(n)\n",
    "y=np.zeros(n)\n",
    "z=np.zeros(n)\n",
    "for i in range(n):\n",
    "    #print(i)\n",
    "    x[i],y[i],z[i]=genS(randG())\n",
    "rows = zip(x,y,z)\n",
    "import csv\n",
    "\n",
    "with open('data.csv', mode='w', newline='') as f:\n",
    "    writer = csv.writer(f)\n",
    "    for row in rows:\n",
    "        writer.writerow(row)"
   ]
  },
  {
   "cell_type": "code",
   "execution_count": 63,
   "metadata": {},
   "outputs": [
    {
     "data": {
      "application/javascript": [
       "/* Put everything inside the global mpl namespace */\n",
       "/* global mpl */\n",
       "window.mpl = {};\n",
       "\n",
       "mpl.get_websocket_type = function () {\n",
       "    if (typeof WebSocket !== 'undefined') {\n",
       "        return WebSocket;\n",
       "    } else if (typeof MozWebSocket !== 'undefined') {\n",
       "        return MozWebSocket;\n",
       "    } else {\n",
       "        alert(\n",
       "            'Your browser does not have WebSocket support. ' +\n",
       "                'Please try Chrome, Safari or Firefox ≥ 6. ' +\n",
       "                'Firefox 4 and 5 are also supported but you ' +\n",
       "                'have to enable WebSockets in about:config.'\n",
       "        );\n",
       "    }\n",
       "};\n",
       "\n",
       "mpl.figure = function (figure_id, websocket, ondownload, parent_element) {\n",
       "    this.id = figure_id;\n",
       "\n",
       "    this.ws = websocket;\n",
       "\n",
       "    this.supports_binary = this.ws.binaryType !== undefined;\n",
       "\n",
       "    if (!this.supports_binary) {\n",
       "        var warnings = document.getElementById('mpl-warnings');\n",
       "        if (warnings) {\n",
       "            warnings.style.display = 'block';\n",
       "            warnings.textContent =\n",
       "                'This browser does not support binary websocket messages. ' +\n",
       "                'Performance may be slow.';\n",
       "        }\n",
       "    }\n",
       "\n",
       "    this.imageObj = new Image();\n",
       "\n",
       "    this.context = undefined;\n",
       "    this.message = undefined;\n",
       "    this.canvas = undefined;\n",
       "    this.rubberband_canvas = undefined;\n",
       "    this.rubberband_context = undefined;\n",
       "    this.format_dropdown = undefined;\n",
       "\n",
       "    this.image_mode = 'full';\n",
       "\n",
       "    this.root = document.createElement('div');\n",
       "    this.root.setAttribute('style', 'display: inline-block');\n",
       "    this._root_extra_style(this.root);\n",
       "\n",
       "    parent_element.appendChild(this.root);\n",
       "\n",
       "    this._init_header(this);\n",
       "    this._init_canvas(this);\n",
       "    this._init_toolbar(this);\n",
       "\n",
       "    var fig = this;\n",
       "\n",
       "    this.waiting = false;\n",
       "\n",
       "    this.ws.onopen = function () {\n",
       "        fig.send_message('supports_binary', { value: fig.supports_binary });\n",
       "        fig.send_message('send_image_mode', {});\n",
       "        if (fig.ratio !== 1) {\n",
       "            fig.send_message('set_dpi_ratio', { dpi_ratio: fig.ratio });\n",
       "        }\n",
       "        fig.send_message('refresh', {});\n",
       "    };\n",
       "\n",
       "    this.imageObj.onload = function () {\n",
       "        if (fig.image_mode === 'full') {\n",
       "            // Full images could contain transparency (where diff images\n",
       "            // almost always do), so we need to clear the canvas so that\n",
       "            // there is no ghosting.\n",
       "            fig.context.clearRect(0, 0, fig.canvas.width, fig.canvas.height);\n",
       "        }\n",
       "        fig.context.drawImage(fig.imageObj, 0, 0);\n",
       "    };\n",
       "\n",
       "    this.imageObj.onunload = function () {\n",
       "        fig.ws.close();\n",
       "    };\n",
       "\n",
       "    this.ws.onmessage = this._make_on_message_function(this);\n",
       "\n",
       "    this.ondownload = ondownload;\n",
       "};\n",
       "\n",
       "mpl.figure.prototype._init_header = function () {\n",
       "    var titlebar = document.createElement('div');\n",
       "    titlebar.classList =\n",
       "        'ui-dialog-titlebar ui-widget-header ui-corner-all ui-helper-clearfix';\n",
       "    var titletext = document.createElement('div');\n",
       "    titletext.classList = 'ui-dialog-title';\n",
       "    titletext.setAttribute(\n",
       "        'style',\n",
       "        'width: 100%; text-align: center; padding: 3px;'\n",
       "    );\n",
       "    titlebar.appendChild(titletext);\n",
       "    this.root.appendChild(titlebar);\n",
       "    this.header = titletext;\n",
       "};\n",
       "\n",
       "mpl.figure.prototype._canvas_extra_style = function (_canvas_div) {};\n",
       "\n",
       "mpl.figure.prototype._root_extra_style = function (_canvas_div) {};\n",
       "\n",
       "mpl.figure.prototype._init_canvas = function () {\n",
       "    var fig = this;\n",
       "\n",
       "    var canvas_div = (this.canvas_div = document.createElement('div'));\n",
       "    canvas_div.setAttribute(\n",
       "        'style',\n",
       "        'border: 1px solid #ddd;' +\n",
       "            'box-sizing: content-box;' +\n",
       "            'clear: both;' +\n",
       "            'min-height: 1px;' +\n",
       "            'min-width: 1px;' +\n",
       "            'outline: 0;' +\n",
       "            'overflow: hidden;' +\n",
       "            'position: relative;' +\n",
       "            'resize: both;'\n",
       "    );\n",
       "\n",
       "    function on_keyboard_event_closure(name) {\n",
       "        return function (event) {\n",
       "            return fig.key_event(event, name);\n",
       "        };\n",
       "    }\n",
       "\n",
       "    canvas_div.addEventListener(\n",
       "        'keydown',\n",
       "        on_keyboard_event_closure('key_press')\n",
       "    );\n",
       "    canvas_div.addEventListener(\n",
       "        'keyup',\n",
       "        on_keyboard_event_closure('key_release')\n",
       "    );\n",
       "\n",
       "    this._canvas_extra_style(canvas_div);\n",
       "    this.root.appendChild(canvas_div);\n",
       "\n",
       "    var canvas = (this.canvas = document.createElement('canvas'));\n",
       "    canvas.classList.add('mpl-canvas');\n",
       "    canvas.setAttribute('style', 'box-sizing: content-box;');\n",
       "\n",
       "    this.context = canvas.getContext('2d');\n",
       "\n",
       "    var backingStore =\n",
       "        this.context.backingStorePixelRatio ||\n",
       "        this.context.webkitBackingStorePixelRatio ||\n",
       "        this.context.mozBackingStorePixelRatio ||\n",
       "        this.context.msBackingStorePixelRatio ||\n",
       "        this.context.oBackingStorePixelRatio ||\n",
       "        this.context.backingStorePixelRatio ||\n",
       "        1;\n",
       "\n",
       "    this.ratio = (window.devicePixelRatio || 1) / backingStore;\n",
       "\n",
       "    var rubberband_canvas = (this.rubberband_canvas = document.createElement(\n",
       "        'canvas'\n",
       "    ));\n",
       "    rubberband_canvas.setAttribute(\n",
       "        'style',\n",
       "        'box-sizing: content-box; position: absolute; left: 0; top: 0; z-index: 1;'\n",
       "    );\n",
       "\n",
       "    // Apply a ponyfill if ResizeObserver is not implemented by browser.\n",
       "    if (this.ResizeObserver === undefined) {\n",
       "        if (window.ResizeObserver !== undefined) {\n",
       "            this.ResizeObserver = window.ResizeObserver;\n",
       "        } else {\n",
       "            var obs = _JSXTOOLS_RESIZE_OBSERVER({});\n",
       "            this.ResizeObserver = obs.ResizeObserver;\n",
       "        }\n",
       "    }\n",
       "\n",
       "    this.resizeObserverInstance = new this.ResizeObserver(function (entries) {\n",
       "        var nentries = entries.length;\n",
       "        for (var i = 0; i < nentries; i++) {\n",
       "            var entry = entries[i];\n",
       "            var width, height;\n",
       "            if (entry.contentBoxSize) {\n",
       "                if (entry.contentBoxSize instanceof Array) {\n",
       "                    // Chrome 84 implements new version of spec.\n",
       "                    width = entry.contentBoxSize[0].inlineSize;\n",
       "                    height = entry.contentBoxSize[0].blockSize;\n",
       "                } else {\n",
       "                    // Firefox implements old version of spec.\n",
       "                    width = entry.contentBoxSize.inlineSize;\n",
       "                    height = entry.contentBoxSize.blockSize;\n",
       "                }\n",
       "            } else {\n",
       "                // Chrome <84 implements even older version of spec.\n",
       "                width = entry.contentRect.width;\n",
       "                height = entry.contentRect.height;\n",
       "            }\n",
       "\n",
       "            // Keep the size of the canvas and rubber band canvas in sync with\n",
       "            // the canvas container.\n",
       "            if (entry.devicePixelContentBoxSize) {\n",
       "                // Chrome 84 implements new version of spec.\n",
       "                canvas.setAttribute(\n",
       "                    'width',\n",
       "                    entry.devicePixelContentBoxSize[0].inlineSize\n",
       "                );\n",
       "                canvas.setAttribute(\n",
       "                    'height',\n",
       "                    entry.devicePixelContentBoxSize[0].blockSize\n",
       "                );\n",
       "            } else {\n",
       "                canvas.setAttribute('width', width * fig.ratio);\n",
       "                canvas.setAttribute('height', height * fig.ratio);\n",
       "            }\n",
       "            canvas.setAttribute(\n",
       "                'style',\n",
       "                'width: ' + width + 'px; height: ' + height + 'px;'\n",
       "            );\n",
       "\n",
       "            rubberband_canvas.setAttribute('width', width);\n",
       "            rubberband_canvas.setAttribute('height', height);\n",
       "\n",
       "            // And update the size in Python. We ignore the initial 0/0 size\n",
       "            // that occurs as the element is placed into the DOM, which should\n",
       "            // otherwise not happen due to the minimum size styling.\n",
       "            if (fig.ws.readyState == 1 && width != 0 && height != 0) {\n",
       "                fig.request_resize(width, height);\n",
       "            }\n",
       "        }\n",
       "    });\n",
       "    this.resizeObserverInstance.observe(canvas_div);\n",
       "\n",
       "    function on_mouse_event_closure(name) {\n",
       "        return function (event) {\n",
       "            return fig.mouse_event(event, name);\n",
       "        };\n",
       "    }\n",
       "\n",
       "    rubberband_canvas.addEventListener(\n",
       "        'mousedown',\n",
       "        on_mouse_event_closure('button_press')\n",
       "    );\n",
       "    rubberband_canvas.addEventListener(\n",
       "        'mouseup',\n",
       "        on_mouse_event_closure('button_release')\n",
       "    );\n",
       "    rubberband_canvas.addEventListener(\n",
       "        'dblclick',\n",
       "        on_mouse_event_closure('dblclick')\n",
       "    );\n",
       "    // Throttle sequential mouse events to 1 every 20ms.\n",
       "    rubberband_canvas.addEventListener(\n",
       "        'mousemove',\n",
       "        on_mouse_event_closure('motion_notify')\n",
       "    );\n",
       "\n",
       "    rubberband_canvas.addEventListener(\n",
       "        'mouseenter',\n",
       "        on_mouse_event_closure('figure_enter')\n",
       "    );\n",
       "    rubberband_canvas.addEventListener(\n",
       "        'mouseleave',\n",
       "        on_mouse_event_closure('figure_leave')\n",
       "    );\n",
       "\n",
       "    canvas_div.addEventListener('wheel', function (event) {\n",
       "        if (event.deltaY < 0) {\n",
       "            event.step = 1;\n",
       "        } else {\n",
       "            event.step = -1;\n",
       "        }\n",
       "        on_mouse_event_closure('scroll')(event);\n",
       "    });\n",
       "\n",
       "    canvas_div.appendChild(canvas);\n",
       "    canvas_div.appendChild(rubberband_canvas);\n",
       "\n",
       "    this.rubberband_context = rubberband_canvas.getContext('2d');\n",
       "    this.rubberband_context.strokeStyle = '#000000';\n",
       "\n",
       "    this._resize_canvas = function (width, height, forward) {\n",
       "        if (forward) {\n",
       "            canvas_div.style.width = width + 'px';\n",
       "            canvas_div.style.height = height + 'px';\n",
       "        }\n",
       "    };\n",
       "\n",
       "    // Disable right mouse context menu.\n",
       "    this.rubberband_canvas.addEventListener('contextmenu', function (_e) {\n",
       "        event.preventDefault();\n",
       "        return false;\n",
       "    });\n",
       "\n",
       "    function set_focus() {\n",
       "        canvas.focus();\n",
       "        canvas_div.focus();\n",
       "    }\n",
       "\n",
       "    window.setTimeout(set_focus, 100);\n",
       "};\n",
       "\n",
       "mpl.figure.prototype._init_toolbar = function () {\n",
       "    var fig = this;\n",
       "\n",
       "    var toolbar = document.createElement('div');\n",
       "    toolbar.classList = 'mpl-toolbar';\n",
       "    this.root.appendChild(toolbar);\n",
       "\n",
       "    function on_click_closure(name) {\n",
       "        return function (_event) {\n",
       "            return fig.toolbar_button_onclick(name);\n",
       "        };\n",
       "    }\n",
       "\n",
       "    function on_mouseover_closure(tooltip) {\n",
       "        return function (event) {\n",
       "            if (!event.currentTarget.disabled) {\n",
       "                return fig.toolbar_button_onmouseover(tooltip);\n",
       "            }\n",
       "        };\n",
       "    }\n",
       "\n",
       "    fig.buttons = {};\n",
       "    var buttonGroup = document.createElement('div');\n",
       "    buttonGroup.classList = 'mpl-button-group';\n",
       "    for (var toolbar_ind in mpl.toolbar_items) {\n",
       "        var name = mpl.toolbar_items[toolbar_ind][0];\n",
       "        var tooltip = mpl.toolbar_items[toolbar_ind][1];\n",
       "        var image = mpl.toolbar_items[toolbar_ind][2];\n",
       "        var method_name = mpl.toolbar_items[toolbar_ind][3];\n",
       "\n",
       "        if (!name) {\n",
       "            /* Instead of a spacer, we start a new button group. */\n",
       "            if (buttonGroup.hasChildNodes()) {\n",
       "                toolbar.appendChild(buttonGroup);\n",
       "            }\n",
       "            buttonGroup = document.createElement('div');\n",
       "            buttonGroup.classList = 'mpl-button-group';\n",
       "            continue;\n",
       "        }\n",
       "\n",
       "        var button = (fig.buttons[name] = document.createElement('button'));\n",
       "        button.classList = 'mpl-widget';\n",
       "        button.setAttribute('role', 'button');\n",
       "        button.setAttribute('aria-disabled', 'false');\n",
       "        button.addEventListener('click', on_click_closure(method_name));\n",
       "        button.addEventListener('mouseover', on_mouseover_closure(tooltip));\n",
       "\n",
       "        var icon_img = document.createElement('img');\n",
       "        icon_img.src = '_images/' + image + '.png';\n",
       "        icon_img.srcset = '_images/' + image + '_large.png 2x';\n",
       "        icon_img.alt = tooltip;\n",
       "        button.appendChild(icon_img);\n",
       "\n",
       "        buttonGroup.appendChild(button);\n",
       "    }\n",
       "\n",
       "    if (buttonGroup.hasChildNodes()) {\n",
       "        toolbar.appendChild(buttonGroup);\n",
       "    }\n",
       "\n",
       "    var fmt_picker = document.createElement('select');\n",
       "    fmt_picker.classList = 'mpl-widget';\n",
       "    toolbar.appendChild(fmt_picker);\n",
       "    this.format_dropdown = fmt_picker;\n",
       "\n",
       "    for (var ind in mpl.extensions) {\n",
       "        var fmt = mpl.extensions[ind];\n",
       "        var option = document.createElement('option');\n",
       "        option.selected = fmt === mpl.default_extension;\n",
       "        option.innerHTML = fmt;\n",
       "        fmt_picker.appendChild(option);\n",
       "    }\n",
       "\n",
       "    var status_bar = document.createElement('span');\n",
       "    status_bar.classList = 'mpl-message';\n",
       "    toolbar.appendChild(status_bar);\n",
       "    this.message = status_bar;\n",
       "};\n",
       "\n",
       "mpl.figure.prototype.request_resize = function (x_pixels, y_pixels) {\n",
       "    // Request matplotlib to resize the figure. Matplotlib will then trigger a resize in the client,\n",
       "    // which will in turn request a refresh of the image.\n",
       "    this.send_message('resize', { width: x_pixels, height: y_pixels });\n",
       "};\n",
       "\n",
       "mpl.figure.prototype.send_message = function (type, properties) {\n",
       "    properties['type'] = type;\n",
       "    properties['figure_id'] = this.id;\n",
       "    this.ws.send(JSON.stringify(properties));\n",
       "};\n",
       "\n",
       "mpl.figure.prototype.send_draw_message = function () {\n",
       "    if (!this.waiting) {\n",
       "        this.waiting = true;\n",
       "        this.ws.send(JSON.stringify({ type: 'draw', figure_id: this.id }));\n",
       "    }\n",
       "};\n",
       "\n",
       "mpl.figure.prototype.handle_save = function (fig, _msg) {\n",
       "    var format_dropdown = fig.format_dropdown;\n",
       "    var format = format_dropdown.options[format_dropdown.selectedIndex].value;\n",
       "    fig.ondownload(fig, format);\n",
       "};\n",
       "\n",
       "mpl.figure.prototype.handle_resize = function (fig, msg) {\n",
       "    var size = msg['size'];\n",
       "    if (size[0] !== fig.canvas.width || size[1] !== fig.canvas.height) {\n",
       "        fig._resize_canvas(size[0], size[1], msg['forward']);\n",
       "        fig.send_message('refresh', {});\n",
       "    }\n",
       "};\n",
       "\n",
       "mpl.figure.prototype.handle_rubberband = function (fig, msg) {\n",
       "    var x0 = msg['x0'] / fig.ratio;\n",
       "    var y0 = (fig.canvas.height - msg['y0']) / fig.ratio;\n",
       "    var x1 = msg['x1'] / fig.ratio;\n",
       "    var y1 = (fig.canvas.height - msg['y1']) / fig.ratio;\n",
       "    x0 = Math.floor(x0) + 0.5;\n",
       "    y0 = Math.floor(y0) + 0.5;\n",
       "    x1 = Math.floor(x1) + 0.5;\n",
       "    y1 = Math.floor(y1) + 0.5;\n",
       "    var min_x = Math.min(x0, x1);\n",
       "    var min_y = Math.min(y0, y1);\n",
       "    var width = Math.abs(x1 - x0);\n",
       "    var height = Math.abs(y1 - y0);\n",
       "\n",
       "    fig.rubberband_context.clearRect(\n",
       "        0,\n",
       "        0,\n",
       "        fig.canvas.width / fig.ratio,\n",
       "        fig.canvas.height / fig.ratio\n",
       "    );\n",
       "\n",
       "    fig.rubberband_context.strokeRect(min_x, min_y, width, height);\n",
       "};\n",
       "\n",
       "mpl.figure.prototype.handle_figure_label = function (fig, msg) {\n",
       "    // Updates the figure title.\n",
       "    fig.header.textContent = msg['label'];\n",
       "};\n",
       "\n",
       "mpl.figure.prototype.handle_cursor = function (fig, msg) {\n",
       "    var cursor = msg['cursor'];\n",
       "    switch (cursor) {\n",
       "        case 0:\n",
       "            cursor = 'pointer';\n",
       "            break;\n",
       "        case 1:\n",
       "            cursor = 'default';\n",
       "            break;\n",
       "        case 2:\n",
       "            cursor = 'crosshair';\n",
       "            break;\n",
       "        case 3:\n",
       "            cursor = 'move';\n",
       "            break;\n",
       "    }\n",
       "    fig.rubberband_canvas.style.cursor = cursor;\n",
       "};\n",
       "\n",
       "mpl.figure.prototype.handle_message = function (fig, msg) {\n",
       "    fig.message.textContent = msg['message'];\n",
       "};\n",
       "\n",
       "mpl.figure.prototype.handle_draw = function (fig, _msg) {\n",
       "    // Request the server to send over a new figure.\n",
       "    fig.send_draw_message();\n",
       "};\n",
       "\n",
       "mpl.figure.prototype.handle_image_mode = function (fig, msg) {\n",
       "    fig.image_mode = msg['mode'];\n",
       "};\n",
       "\n",
       "mpl.figure.prototype.handle_history_buttons = function (fig, msg) {\n",
       "    for (var key in msg) {\n",
       "        if (!(key in fig.buttons)) {\n",
       "            continue;\n",
       "        }\n",
       "        fig.buttons[key].disabled = !msg[key];\n",
       "        fig.buttons[key].setAttribute('aria-disabled', !msg[key]);\n",
       "    }\n",
       "};\n",
       "\n",
       "mpl.figure.prototype.handle_navigate_mode = function (fig, msg) {\n",
       "    if (msg['mode'] === 'PAN') {\n",
       "        fig.buttons['Pan'].classList.add('active');\n",
       "        fig.buttons['Zoom'].classList.remove('active');\n",
       "    } else if (msg['mode'] === 'ZOOM') {\n",
       "        fig.buttons['Pan'].classList.remove('active');\n",
       "        fig.buttons['Zoom'].classList.add('active');\n",
       "    } else {\n",
       "        fig.buttons['Pan'].classList.remove('active');\n",
       "        fig.buttons['Zoom'].classList.remove('active');\n",
       "    }\n",
       "};\n",
       "\n",
       "mpl.figure.prototype.updated_canvas_event = function () {\n",
       "    // Called whenever the canvas gets updated.\n",
       "    this.send_message('ack', {});\n",
       "};\n",
       "\n",
       "// A function to construct a web socket function for onmessage handling.\n",
       "// Called in the figure constructor.\n",
       "mpl.figure.prototype._make_on_message_function = function (fig) {\n",
       "    return function socket_on_message(evt) {\n",
       "        if (evt.data instanceof Blob) {\n",
       "            var img = evt.data;\n",
       "            if (img.type !== 'image/png') {\n",
       "                /* FIXME: We get \"Resource interpreted as Image but\n",
       "                 * transferred with MIME type text/plain:\" errors on\n",
       "                 * Chrome.  But how to set the MIME type?  It doesn't seem\n",
       "                 * to be part of the websocket stream */\n",
       "                img.type = 'image/png';\n",
       "            }\n",
       "\n",
       "            /* Free the memory for the previous frames */\n",
       "            if (fig.imageObj.src) {\n",
       "                (window.URL || window.webkitURL).revokeObjectURL(\n",
       "                    fig.imageObj.src\n",
       "                );\n",
       "            }\n",
       "\n",
       "            fig.imageObj.src = (window.URL || window.webkitURL).createObjectURL(\n",
       "                img\n",
       "            );\n",
       "            fig.updated_canvas_event();\n",
       "            fig.waiting = false;\n",
       "            return;\n",
       "        } else if (\n",
       "            typeof evt.data === 'string' &&\n",
       "            evt.data.slice(0, 21) === 'data:image/png;base64'\n",
       "        ) {\n",
       "            fig.imageObj.src = evt.data;\n",
       "            fig.updated_canvas_event();\n",
       "            fig.waiting = false;\n",
       "            return;\n",
       "        }\n",
       "\n",
       "        var msg = JSON.parse(evt.data);\n",
       "        var msg_type = msg['type'];\n",
       "\n",
       "        // Call the  \"handle_{type}\" callback, which takes\n",
       "        // the figure and JSON message as its only arguments.\n",
       "        try {\n",
       "            var callback = fig['handle_' + msg_type];\n",
       "        } catch (e) {\n",
       "            console.log(\n",
       "                \"No handler for the '\" + msg_type + \"' message type: \",\n",
       "                msg\n",
       "            );\n",
       "            return;\n",
       "        }\n",
       "\n",
       "        if (callback) {\n",
       "            try {\n",
       "                // console.log(\"Handling '\" + msg_type + \"' message: \", msg);\n",
       "                callback(fig, msg);\n",
       "            } catch (e) {\n",
       "                console.log(\n",
       "                    \"Exception inside the 'handler_\" + msg_type + \"' callback:\",\n",
       "                    e,\n",
       "                    e.stack,\n",
       "                    msg\n",
       "                );\n",
       "            }\n",
       "        }\n",
       "    };\n",
       "};\n",
       "\n",
       "// from http://stackoverflow.com/questions/1114465/getting-mouse-location-in-canvas\n",
       "mpl.findpos = function (e) {\n",
       "    //this section is from http://www.quirksmode.org/js/events_properties.html\n",
       "    var targ;\n",
       "    if (!e) {\n",
       "        e = window.event;\n",
       "    }\n",
       "    if (e.target) {\n",
       "        targ = e.target;\n",
       "    } else if (e.srcElement) {\n",
       "        targ = e.srcElement;\n",
       "    }\n",
       "    if (targ.nodeType === 3) {\n",
       "        // defeat Safari bug\n",
       "        targ = targ.parentNode;\n",
       "    }\n",
       "\n",
       "    // pageX,Y are the mouse positions relative to the document\n",
       "    var boundingRect = targ.getBoundingClientRect();\n",
       "    var x = e.pageX - (boundingRect.left + document.body.scrollLeft);\n",
       "    var y = e.pageY - (boundingRect.top + document.body.scrollTop);\n",
       "\n",
       "    return { x: x, y: y };\n",
       "};\n",
       "\n",
       "/*\n",
       " * return a copy of an object with only non-object keys\n",
       " * we need this to avoid circular references\n",
       " * http://stackoverflow.com/a/24161582/3208463\n",
       " */\n",
       "function simpleKeys(original) {\n",
       "    return Object.keys(original).reduce(function (obj, key) {\n",
       "        if (typeof original[key] !== 'object') {\n",
       "            obj[key] = original[key];\n",
       "        }\n",
       "        return obj;\n",
       "    }, {});\n",
       "}\n",
       "\n",
       "mpl.figure.prototype.mouse_event = function (event, name) {\n",
       "    var canvas_pos = mpl.findpos(event);\n",
       "\n",
       "    if (name === 'button_press') {\n",
       "        this.canvas.focus();\n",
       "        this.canvas_div.focus();\n",
       "    }\n",
       "\n",
       "    var x = canvas_pos.x * this.ratio;\n",
       "    var y = canvas_pos.y * this.ratio;\n",
       "\n",
       "    this.send_message(name, {\n",
       "        x: x,\n",
       "        y: y,\n",
       "        button: event.button,\n",
       "        step: event.step,\n",
       "        guiEvent: simpleKeys(event),\n",
       "    });\n",
       "\n",
       "    /* This prevents the web browser from automatically changing to\n",
       "     * the text insertion cursor when the button is pressed.  We want\n",
       "     * to control all of the cursor setting manually through the\n",
       "     * 'cursor' event from matplotlib */\n",
       "    event.preventDefault();\n",
       "    return false;\n",
       "};\n",
       "\n",
       "mpl.figure.prototype._key_event_extra = function (_event, _name) {\n",
       "    // Handle any extra behaviour associated with a key event\n",
       "};\n",
       "\n",
       "mpl.figure.prototype.key_event = function (event, name) {\n",
       "    // Prevent repeat events\n",
       "    if (name === 'key_press') {\n",
       "        if (event.key === this._key) {\n",
       "            return;\n",
       "        } else {\n",
       "            this._key = event.key;\n",
       "        }\n",
       "    }\n",
       "    if (name === 'key_release') {\n",
       "        this._key = null;\n",
       "    }\n",
       "\n",
       "    var value = '';\n",
       "    if (event.ctrlKey && event.key !== 'Control') {\n",
       "        value += 'ctrl+';\n",
       "    }\n",
       "    else if (event.altKey && event.key !== 'Alt') {\n",
       "        value += 'alt+';\n",
       "    }\n",
       "    else if (event.shiftKey && event.key !== 'Shift') {\n",
       "        value += 'shift+';\n",
       "    }\n",
       "\n",
       "    value += 'k' + event.key;\n",
       "\n",
       "    this._key_event_extra(event, name);\n",
       "\n",
       "    this.send_message(name, { key: value, guiEvent: simpleKeys(event) });\n",
       "    return false;\n",
       "};\n",
       "\n",
       "mpl.figure.prototype.toolbar_button_onclick = function (name) {\n",
       "    if (name === 'download') {\n",
       "        this.handle_save(this, null);\n",
       "    } else {\n",
       "        this.send_message('toolbar_button', { name: name });\n",
       "    }\n",
       "};\n",
       "\n",
       "mpl.figure.prototype.toolbar_button_onmouseover = function (tooltip) {\n",
       "    this.message.textContent = tooltip;\n",
       "};\n",
       "\n",
       "///////////////// REMAINING CONTENT GENERATED BY embed_js.py /////////////////\n",
       "// prettier-ignore\n",
       "var _JSXTOOLS_RESIZE_OBSERVER=function(A){var t,i=new WeakMap,n=new WeakMap,a=new WeakMap,r=new WeakMap,o=new Set;function s(e){if(!(this instanceof s))throw new TypeError(\"Constructor requires 'new' operator\");i.set(this,e)}function h(){throw new TypeError(\"Function is not a constructor\")}function c(e,t,i,n){e=0 in arguments?Number(arguments[0]):0,t=1 in arguments?Number(arguments[1]):0,i=2 in arguments?Number(arguments[2]):0,n=3 in arguments?Number(arguments[3]):0,this.right=(this.x=this.left=e)+(this.width=i),this.bottom=(this.y=this.top=t)+(this.height=n),Object.freeze(this)}function d(){t=requestAnimationFrame(d);var s=new WeakMap,p=new Set;o.forEach((function(t){r.get(t).forEach((function(i){var r=t instanceof window.SVGElement,o=a.get(t),d=r?0:parseFloat(o.paddingTop),f=r?0:parseFloat(o.paddingRight),l=r?0:parseFloat(o.paddingBottom),u=r?0:parseFloat(o.paddingLeft),g=r?0:parseFloat(o.borderTopWidth),m=r?0:parseFloat(o.borderRightWidth),w=r?0:parseFloat(o.borderBottomWidth),b=u+f,F=d+l,v=(r?0:parseFloat(o.borderLeftWidth))+m,W=g+w,y=r?0:t.offsetHeight-W-t.clientHeight,E=r?0:t.offsetWidth-v-t.clientWidth,R=b+v,z=F+W,M=r?t.width:parseFloat(o.width)-R-E,O=r?t.height:parseFloat(o.height)-z-y;if(n.has(t)){var k=n.get(t);if(k[0]===M&&k[1]===O)return}n.set(t,[M,O]);var S=Object.create(h.prototype);S.target=t,S.contentRect=new c(u,d,M,O),s.has(i)||(s.set(i,[]),p.add(i)),s.get(i).push(S)}))})),p.forEach((function(e){i.get(e).call(e,s.get(e),e)}))}return s.prototype.observe=function(i){if(i instanceof window.Element){r.has(i)||(r.set(i,new Set),o.add(i),a.set(i,window.getComputedStyle(i)));var n=r.get(i);n.has(this)||n.add(this),cancelAnimationFrame(t),t=requestAnimationFrame(d)}},s.prototype.unobserve=function(i){if(i instanceof window.Element&&r.has(i)){var n=r.get(i);n.has(this)&&(n.delete(this),n.size||(r.delete(i),o.delete(i))),n.size||r.delete(i),o.size||cancelAnimationFrame(t)}},A.DOMRectReadOnly=c,A.ResizeObserver=s,A.ResizeObserverEntry=h,A}; // eslint-disable-line\n",
       "mpl.toolbar_items = [[\"Home\", \"Reset original view\", \"fa fa-home icon-home\", \"home\"], [\"Back\", \"Back to previous view\", \"fa fa-arrow-left icon-arrow-left\", \"back\"], [\"Forward\", \"Forward to next view\", \"fa fa-arrow-right icon-arrow-right\", \"forward\"], [\"\", \"\", \"\", \"\"], [\"Pan\", \"Left button pans, Right button zooms\\nx/y fixes axis, CTRL fixes aspect\", \"fa fa-arrows icon-move\", \"pan\"], [\"Zoom\", \"Zoom to rectangle\\nx/y fixes axis, CTRL fixes aspect\", \"fa fa-square-o icon-check-empty\", \"zoom\"], [\"\", \"\", \"\", \"\"], [\"Download\", \"Download plot\", \"fa fa-floppy-o icon-save\", \"download\"]];\n",
       "\n",
       "mpl.extensions = [\"eps\", \"jpeg\", \"pgf\", \"pdf\", \"png\", \"ps\", \"raw\", \"svg\", \"tif\"];\n",
       "\n",
       "mpl.default_extension = \"png\";/* global mpl */\n",
       "\n",
       "var comm_websocket_adapter = function (comm) {\n",
       "    // Create a \"websocket\"-like object which calls the given IPython comm\n",
       "    // object with the appropriate methods. Currently this is a non binary\n",
       "    // socket, so there is still some room for performance tuning.\n",
       "    var ws = {};\n",
       "\n",
       "    ws.binaryType = comm.kernel.ws.binaryType;\n",
       "    ws.readyState = comm.kernel.ws.readyState;\n",
       "    function updateReadyState(_event) {\n",
       "        if (comm.kernel.ws) {\n",
       "            ws.readyState = comm.kernel.ws.readyState;\n",
       "        } else {\n",
       "            ws.readyState = 3; // Closed state.\n",
       "        }\n",
       "    }\n",
       "    comm.kernel.ws.addEventListener('open', updateReadyState);\n",
       "    comm.kernel.ws.addEventListener('close', updateReadyState);\n",
       "    comm.kernel.ws.addEventListener('error', updateReadyState);\n",
       "\n",
       "    ws.close = function () {\n",
       "        comm.close();\n",
       "    };\n",
       "    ws.send = function (m) {\n",
       "        //console.log('sending', m);\n",
       "        comm.send(m);\n",
       "    };\n",
       "    // Register the callback with on_msg.\n",
       "    comm.on_msg(function (msg) {\n",
       "        //console.log('receiving', msg['content']['data'], msg);\n",
       "        var data = msg['content']['data'];\n",
       "        if (data['blob'] !== undefined) {\n",
       "            data = {\n",
       "                data: new Blob(msg['buffers'], { type: data['blob'] }),\n",
       "            };\n",
       "        }\n",
       "        // Pass the mpl event to the overridden (by mpl) onmessage function.\n",
       "        ws.onmessage(data);\n",
       "    });\n",
       "    return ws;\n",
       "};\n",
       "\n",
       "mpl.mpl_figure_comm = function (comm, msg) {\n",
       "    // This is the function which gets called when the mpl process\n",
       "    // starts-up an IPython Comm through the \"matplotlib\" channel.\n",
       "\n",
       "    var id = msg.content.data.id;\n",
       "    // Get hold of the div created by the display call when the Comm\n",
       "    // socket was opened in Python.\n",
       "    var element = document.getElementById(id);\n",
       "    var ws_proxy = comm_websocket_adapter(comm);\n",
       "\n",
       "    function ondownload(figure, _format) {\n",
       "        window.open(figure.canvas.toDataURL());\n",
       "    }\n",
       "\n",
       "    var fig = new mpl.figure(id, ws_proxy, ondownload, element);\n",
       "\n",
       "    // Call onopen now - mpl needs it, as it is assuming we've passed it a real\n",
       "    // web socket which is closed, not our websocket->open comm proxy.\n",
       "    ws_proxy.onopen();\n",
       "\n",
       "    fig.parent_element = element;\n",
       "    fig.cell_info = mpl.find_output_cell(\"<div id='\" + id + \"'></div>\");\n",
       "    if (!fig.cell_info) {\n",
       "        console.error('Failed to find cell for figure', id, fig);\n",
       "        return;\n",
       "    }\n",
       "    fig.cell_info[0].output_area.element.on(\n",
       "        'cleared',\n",
       "        { fig: fig },\n",
       "        fig._remove_fig_handler\n",
       "    );\n",
       "};\n",
       "\n",
       "mpl.figure.prototype.handle_close = function (fig, msg) {\n",
       "    var width = fig.canvas.width / fig.ratio;\n",
       "    fig.cell_info[0].output_area.element.off(\n",
       "        'cleared',\n",
       "        fig._remove_fig_handler\n",
       "    );\n",
       "    fig.resizeObserverInstance.unobserve(fig.canvas_div);\n",
       "\n",
       "    // Update the output cell to use the data from the current canvas.\n",
       "    fig.push_to_output();\n",
       "    var dataURL = fig.canvas.toDataURL();\n",
       "    // Re-enable the keyboard manager in IPython - without this line, in FF,\n",
       "    // the notebook keyboard shortcuts fail.\n",
       "    IPython.keyboard_manager.enable();\n",
       "    fig.parent_element.innerHTML =\n",
       "        '<img src=\"' + dataURL + '\" width=\"' + width + '\">';\n",
       "    fig.close_ws(fig, msg);\n",
       "};\n",
       "\n",
       "mpl.figure.prototype.close_ws = function (fig, msg) {\n",
       "    fig.send_message('closing', msg);\n",
       "    // fig.ws.close()\n",
       "};\n",
       "\n",
       "mpl.figure.prototype.push_to_output = function (_remove_interactive) {\n",
       "    // Turn the data on the canvas into data in the output cell.\n",
       "    var width = this.canvas.width / this.ratio;\n",
       "    var dataURL = this.canvas.toDataURL();\n",
       "    this.cell_info[1]['text/html'] =\n",
       "        '<img src=\"' + dataURL + '\" width=\"' + width + '\">';\n",
       "};\n",
       "\n",
       "mpl.figure.prototype.updated_canvas_event = function () {\n",
       "    // Tell IPython that the notebook contents must change.\n",
       "    IPython.notebook.set_dirty(true);\n",
       "    this.send_message('ack', {});\n",
       "    var fig = this;\n",
       "    // Wait a second, then push the new image to the DOM so\n",
       "    // that it is saved nicely (might be nice to debounce this).\n",
       "    setTimeout(function () {\n",
       "        fig.push_to_output();\n",
       "    }, 1000);\n",
       "};\n",
       "\n",
       "mpl.figure.prototype._init_toolbar = function () {\n",
       "    var fig = this;\n",
       "\n",
       "    var toolbar = document.createElement('div');\n",
       "    toolbar.classList = 'btn-toolbar';\n",
       "    this.root.appendChild(toolbar);\n",
       "\n",
       "    function on_click_closure(name) {\n",
       "        return function (_event) {\n",
       "            return fig.toolbar_button_onclick(name);\n",
       "        };\n",
       "    }\n",
       "\n",
       "    function on_mouseover_closure(tooltip) {\n",
       "        return function (event) {\n",
       "            if (!event.currentTarget.disabled) {\n",
       "                return fig.toolbar_button_onmouseover(tooltip);\n",
       "            }\n",
       "        };\n",
       "    }\n",
       "\n",
       "    fig.buttons = {};\n",
       "    var buttonGroup = document.createElement('div');\n",
       "    buttonGroup.classList = 'btn-group';\n",
       "    var button;\n",
       "    for (var toolbar_ind in mpl.toolbar_items) {\n",
       "        var name = mpl.toolbar_items[toolbar_ind][0];\n",
       "        var tooltip = mpl.toolbar_items[toolbar_ind][1];\n",
       "        var image = mpl.toolbar_items[toolbar_ind][2];\n",
       "        var method_name = mpl.toolbar_items[toolbar_ind][3];\n",
       "\n",
       "        if (!name) {\n",
       "            /* Instead of a spacer, we start a new button group. */\n",
       "            if (buttonGroup.hasChildNodes()) {\n",
       "                toolbar.appendChild(buttonGroup);\n",
       "            }\n",
       "            buttonGroup = document.createElement('div');\n",
       "            buttonGroup.classList = 'btn-group';\n",
       "            continue;\n",
       "        }\n",
       "\n",
       "        button = fig.buttons[name] = document.createElement('button');\n",
       "        button.classList = 'btn btn-default';\n",
       "        button.href = '#';\n",
       "        button.title = name;\n",
       "        button.innerHTML = '<i class=\"fa ' + image + ' fa-lg\"></i>';\n",
       "        button.addEventListener('click', on_click_closure(method_name));\n",
       "        button.addEventListener('mouseover', on_mouseover_closure(tooltip));\n",
       "        buttonGroup.appendChild(button);\n",
       "    }\n",
       "\n",
       "    if (buttonGroup.hasChildNodes()) {\n",
       "        toolbar.appendChild(buttonGroup);\n",
       "    }\n",
       "\n",
       "    // Add the status bar.\n",
       "    var status_bar = document.createElement('span');\n",
       "    status_bar.classList = 'mpl-message pull-right';\n",
       "    toolbar.appendChild(status_bar);\n",
       "    this.message = status_bar;\n",
       "\n",
       "    // Add the close button to the window.\n",
       "    var buttongrp = document.createElement('div');\n",
       "    buttongrp.classList = 'btn-group inline pull-right';\n",
       "    button = document.createElement('button');\n",
       "    button.classList = 'btn btn-mini btn-primary';\n",
       "    button.href = '#';\n",
       "    button.title = 'Stop Interaction';\n",
       "    button.innerHTML = '<i class=\"fa fa-power-off icon-remove icon-large\"></i>';\n",
       "    button.addEventListener('click', function (_evt) {\n",
       "        fig.handle_close(fig, {});\n",
       "    });\n",
       "    button.addEventListener(\n",
       "        'mouseover',\n",
       "        on_mouseover_closure('Stop Interaction')\n",
       "    );\n",
       "    buttongrp.appendChild(button);\n",
       "    var titlebar = this.root.querySelector('.ui-dialog-titlebar');\n",
       "    titlebar.insertBefore(buttongrp, titlebar.firstChild);\n",
       "};\n",
       "\n",
       "mpl.figure.prototype._remove_fig_handler = function (event) {\n",
       "    var fig = event.data.fig;\n",
       "    if (event.target !== this) {\n",
       "        // Ignore bubbled events from children.\n",
       "        return;\n",
       "    }\n",
       "    fig.close_ws(fig, {});\n",
       "};\n",
       "\n",
       "mpl.figure.prototype._root_extra_style = function (el) {\n",
       "    el.style.boxSizing = 'content-box'; // override notebook setting of border-box.\n",
       "};\n",
       "\n",
       "mpl.figure.prototype._canvas_extra_style = function (el) {\n",
       "    // this is important to make the div 'focusable\n",
       "    el.setAttribute('tabindex', 0);\n",
       "    // reach out to IPython and tell the keyboard manager to turn it's self\n",
       "    // off when our div gets focus\n",
       "\n",
       "    // location in version 3\n",
       "    if (IPython.notebook.keyboard_manager) {\n",
       "        IPython.notebook.keyboard_manager.register_events(el);\n",
       "    } else {\n",
       "        // location in version 2\n",
       "        IPython.keyboard_manager.register_events(el);\n",
       "    }\n",
       "};\n",
       "\n",
       "mpl.figure.prototype._key_event_extra = function (event, _name) {\n",
       "    var manager = IPython.notebook.keyboard_manager;\n",
       "    if (!manager) {\n",
       "        manager = IPython.keyboard_manager;\n",
       "    }\n",
       "\n",
       "    // Check for shift+enter\n",
       "    if (event.shiftKey && event.which === 13) {\n",
       "        this.canvas_div.blur();\n",
       "        // select the cell after this one\n",
       "        var index = IPython.notebook.find_cell_index(this.cell_info[0]);\n",
       "        IPython.notebook.select(index + 1);\n",
       "    }\n",
       "};\n",
       "\n",
       "mpl.figure.prototype.handle_save = function (fig, _msg) {\n",
       "    fig.ondownload(fig, null);\n",
       "};\n",
       "\n",
       "mpl.find_output_cell = function (html_output) {\n",
       "    // Return the cell and output element which can be found *uniquely* in the notebook.\n",
       "    // Note - this is a bit hacky, but it is done because the \"notebook_saving.Notebook\"\n",
       "    // IPython event is triggered only after the cells have been serialised, which for\n",
       "    // our purposes (turning an active figure into a static one), is too late.\n",
       "    var cells = IPython.notebook.get_cells();\n",
       "    var ncells = cells.length;\n",
       "    for (var i = 0; i < ncells; i++) {\n",
       "        var cell = cells[i];\n",
       "        if (cell.cell_type === 'code') {\n",
       "            for (var j = 0; j < cell.output_area.outputs.length; j++) {\n",
       "                var data = cell.output_area.outputs[j];\n",
       "                if (data.data) {\n",
       "                    // IPython >= 3 moved mimebundle to data attribute of output\n",
       "                    data = data.data;\n",
       "                }\n",
       "                if (data['text/html'] === html_output) {\n",
       "                    return [cell, data, j];\n",
       "                }\n",
       "            }\n",
       "        }\n",
       "    }\n",
       "};\n",
       "\n",
       "// Register the function which deals with the matplotlib target/channel.\n",
       "// The kernel may be null if the page has been refreshed.\n",
       "if (IPython.notebook.kernel !== null) {\n",
       "    IPython.notebook.kernel.comm_manager.register_target(\n",
       "        'matplotlib',\n",
       "        mpl.mpl_figure_comm\n",
       "    );\n",
       "}\n"
      ],
      "text/plain": [
       "<IPython.core.display.Javascript object>"
      ]
     },
     "metadata": {},
     "output_type": "display_data"
    },
    {
     "data": {
      "text/html": [
       "<img src=\"data:image/png;base64,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\" width=\"640\">"
      ],
      "text/plain": [
       "<IPython.core.display.HTML object>"
      ]
     },
     "metadata": {},
     "output_type": "display_data"
    }
   ],
   "source": [
    "\n",
    "def Plot3dim(x,y,z):\n",
    "    \n",
    "    fig = plt.figure()\n",
    "    \n",
    "    ax = plt.axes(projection='3d')\n",
    "    ax.scatter3D(x, y, z, color=(1,0,0))\n",
    "    ax.axes.set_xlim3d(left=0, right=1) \n",
    "    ax.axes.set_ylim3d(bottom=0, top=1) \n",
    "    ax.axes.set_zlim3d(bottom=0, top=1)\n",
    "    ax.grid(False)\n",
    "    ax.set_title(\"PLOT OF ALLOWED ENTROPIES\")\n",
    "    ax.set_xlabel(r\"$S_{pol}$\")\n",
    "    ax.set_ylabel(r\"$S_{par}$\")\n",
    "    ax.set_zlabel(r\"$S$\")\n",
    "%matplotlib notebook\n",
    "Plot3dim(x,y,z)"
   ]
  },
  {
   "cell_type": "markdown",
   "metadata": {},
   "source": [
    "## 6. Quantum Circuits\n",
    "As one may have already noticed, the behavior of the system here can be accurately modelled using quantum systems where instead of coherence one measures the purity of a state. We make use of the IBM Qiskit libraries to build these experimental setups into their equivalent quantum circuits making use of ancillary qubits to create inherently mixed states. The main idea here is that for experiment A we would only need the two qubits each representing one DoF to model this system and reproduce the results using the appropriate operators.\n",
    "### Interpretation of the model\n",
    "<p>The first qubit (indexed by 0) refers to the polarisation DOF and the second qubit (index 1) refers to the parity DOF. We will take the $|1\\rangle$ state of polarity to mean pure V-polarisation and $|0\\rangle$ state to mean pure H-polarisation. Similarly, we take the $|0\\rangle$ and $|1\\rangle$ states of the parity qubit to mean purely even and purely odd mode, respectively.</p>\n",
    "<table>\n",
    "    <tr><td>Parity-polarisation state</td><td>Qubit configuration</td></tr>\n",
    "    <tr><td>He</td><td>00</td></tr>\n",
    "    <tr><td>Ho</td><td>01</td></tr>\n",
    "    <tr><td>Ve</td><td>10</td></tr>\n",
    "    <tr><td>Vo</td><td>11</td></tr>\n",
    "</table>\n",
    "<p>Further, we will always use any ancilla qubits we need, to replicate the probabilistic devices (like random rotator or probabilistic PS-SLM) to be the initial qubits, the second last qubit will represent polarisation, and the last qubit represents parity.</p>\n",
    "\n",
    "For experiment B one of our state is starting in an impure form, something which cannot be reached if one were to only apply unitary transformations. Here we make use of an ancillary qubit which is coupled with the rest of the two qubits and hence is in a way storing the coherence we wished to get rid off as part of it's coupling. The main idea of this paper was that partial trace matrices do not give us the complete picture of the system which we can demonstrate very simply just by using a bell state (a pure state) and noting that it's partial traces are actually representative of impure states.\n",
    "\n",
    "The purpose of this section is to demonstrate a simulation which is based in quantum mechanics which reproduces the results of classical coherence obtained in this paper.\n",
    "\n",
    "A small point to add is that in qiskit the representation is not with zeroth qubit being MSB and last qubit being LSB but the other way round. In experiment A for example $q_0$ is the polarization qubit and $q_1$ is the parity qubit and so Ho is actually 10 and Ve is 01 and so on."
   ]
  },
  {
   "cell_type": "code",
   "execution_count": 49,
   "metadata": {},
   "outputs": [],
   "source": [
    "#Defining the operations on the circuit\n",
    "simulator = Aer.get_backend('statevector_simulator') #Using statevector simulator\n",
    "%matplotlib inline\n",
    "\n",
    "def SLM(phi,qc,ancilla_used = 0):\n",
    "    qc.rx(-phi,ancilla_used+1)\n",
    "    return\n",
    "#For HWP, by observing the 2x2 matrix, we see that the operator looks like Ry(theta)*sigma_Z \n",
    "def HWP(theta,qc,ancilla_used = 0):\n",
    "    qc.z(ancilla_used)\n",
    "    qc.ry(theta,ancilla_used)\n",
    "    return\n",
    "\n",
    "#for PS-SLM, we want the H-polarisation to induce an SLM action, but not V. So, if polarisation qubit is 0 (H), we want the\n",
    "#controlled gate to fire. So we first invert (NOT or X gate) the control bit, use a usual controlled gate, then invert it \n",
    "#again.\n",
    "def PSSLM(phi,qc,ancilla_used=0):\n",
    "    qc.x(ancilla_used)\n",
    "    qc.crx(-phi,ancilla_used,ancilla_used+1) #angle,control,target\n",
    "    qc.x(ancilla_used)\n",
    "    return\n",
    "\n",
    "def corr_circ(qc):\n",
    "    result = execute(qc, simulator).result()\n",
    "    statevector = result.get_statevector(qc)\n",
    "    corr = 0\n",
    "    if len(statevector) is 4:\n",
    "        corr = 2*(np.absolute(statevector[0]**2) + np.absolute(statevector[3]**2)) - 1\n",
    "    if len(statevector) is 8:\n",
    "        corr = (np.absolute(statevector[0]**2) + np.absolute(statevector[1]**2) + np.absolute(statevector[6]**2) + np.absolute(statevector[7]**2)) - (np.absolute(statevector[2]**2) + np.absolute(statevector[3]**2) + np.absolute(statevector[4]**2) + np.absolute(statevector[5]**2))\n",
    "    return corr"
   ]
  },
  {
   "cell_type": "markdown",
   "metadata": {},
   "source": [
    "### 6.1 Experiment A\n",
    "For this experiment we take $q_0$ as the polarization DoF and $q_1$ as the parity DoF. Based on the matrix forms of the experimental apparatus we can see that applying an HWP is analogous to a $R_y(\\theta)Z$ on $q_0$ and the SLM is $R_x(-\\phi)$ and the PSSLM is just the SLM as a controlled operation except that it activates for $q_0$ being in 0 instead of 1 so we just apply a NOT on that bit before and after the controlled gate. The measurement done in the end uses the statevector simulator of qiskit to directly calculate probabilities based on the state of the system. While running multiple shots using one of the real quantum computers one can access using IBM-Q would have been more impressive, those will come with heavy noise outputs would require additional noise and error mitigation procedures."
   ]
  },
  {
   "cell_type": "code",
   "execution_count": 50,
   "metadata": {},
   "outputs": [
    {
     "data": {
      "image/png": "[encoded data removed]",
      "text/plain": [
       "<Figure size 840.392x204.68 with 1 Axes>"
      ]
     },
     "execution_count": 50,
     "metadata": {},
     "output_type": "execute_result"
    }
   ],
   "source": [
    "#Quantum Circuit Diagram for A\n",
    "qcA = QuantumCircuit(2,2)\n",
    "qcA.h(0)\n",
    "qcA.barrier() #initialisation complete, 45 degre linearly polarised even mode\n",
    "PSSLM(np.pi/2,qcA) #no ancilla\n",
    "qcA.barrier() #beam is coupled, now on to analysis stage\n",
    "HWP(np.pi/4,qcA)\n",
    "SLM(np.pi/6,qcA)\n",
    "qcA.barrier()#Analysis stage complete. Now, measurement stage\n",
    "qcA.measure(0,0)\n",
    "qcA.measure(1,1)\n",
    "qcA.draw('mpl')"
   ]
  },
  {
   "cell_type": "code",
   "execution_count": 51,
   "metadata": {},
   "outputs": [],
   "source": [
    "def CA(theta_a,phi_a,phi):\n",
    "    qcA=QuantumCircuit(2,2)\n",
    "    qcA.h(0)\n",
    "    qcA.barrier() #initialisation complete, 45 degre linearly polarised even mode\n",
    "    PSSLM(phi,qcA) #no ancilla\n",
    "    qcA.barrier() #beam is coupled, now on to analysis stage\n",
    "    HWP(theta_a,qcA)\n",
    "    SLM(phi_a,qcA)\n",
    "    corr = corr_circ(qcA)\n",
    "    return corr"
   ]
  },
  {
   "cell_type": "code",
   "execution_count": 52,
   "metadata": {},
   "outputs": [
    {
     "data": {
      "application/vnd.jupyter.widget-view+json": {
       "model_id": "b46a1c92264c448dbfe38a114e059e1b",
       "version_major": 2,
       "version_minor": 0
      },
      "text/plain": [
       "interactive(children=(FloatSlider(value=1.5707963267948966, continuous_update=False, description='phi_A', layo…"
      ]
     },
     "metadata": {},
     "output_type": "display_data"
    }
   ],
   "source": [
    "def CP_A(phi_A):\n",
    "    phi_fixed = phi_A\n",
    "    points = 50\n",
    "    ta_range = np.linspace(0,2*np.pi,points)\n",
    "    pa_range = np.linspace(0,2*np.pi,points)\n",
    "    X,Y = np.meshgrid(ta_range, pa_range)\n",
    "    Z = [[0 for i in range(50)] for j in range(50)]\n",
    "    for i in range(len(Y)):\n",
    "        for j in range(len(X)):\n",
    "            Z[i][j] = CA(ta_range[j],pa_range[i],phi_fixed)\n",
    "    fig, ax = plt.subplots(figsize=(7,5.7))\n",
    "    cp = ax.contourf(X, Y, Z ,cmap='turbo');\n",
    "    fig.colorbar(cp) # Add a colorbar to a plot\n",
    "    plt.xlim(0,2*np.pi)\n",
    "    plt.ylim(0,2*np.pi)\n",
    "    ax.axis('equal')\n",
    "    return\n",
    "interact(CP_A, phi_A=widgets.FloatSlider(min=0, max=2*np.pi, step=0.01, value=np.pi/2, continuous_update=False, layout=Layout(width='600px')));"
   ]
  },
  {
   "cell_type": "markdown",
   "metadata": {},
   "source": [
    "As we can see above we have succesfully recreated the same results using abstract qubits."
   ]
  },
  {
   "cell_type": "markdown",
   "metadata": {},
   "source": [
    "### 6.2 Experiment B\n",
    "Here in the experiment a random rotator is used to generate what would be measured as unpolarized light. As stated before the coherence of a the DoFs are analogous to a qubit being in a mixed or pure state. Since we are working with idealized qubits the state of the system will always remain pure however if one were to look into just the hilbert space of few of the qubits but not all we would have it perceived as an impure state. Here unpolarized light would have a coherency (density) matrix which is diagonal with both entries equal to 1/2. This is a completely mixed state and we can generate this by looking at the partial trace of a qubit which is paired with another qubit as the bell state $\\dfrac{|00\\rangle + |11\\rangle}{\\sqrt{2}}$. Hence we make use of $q_0$ as an ancillary qubit which is present as a bell pair with $q_1$ which is now the polarization qubit. $q_2$ is the parity qubit. As we can see since we do not measure the $q_0$ qubit we would actually see $q_1$ behave like a mixed state which is what the random rotator actually achieves. More specifically the bell state I have described has half probability for any state on the XZ plane of the bloch sphere and since the random rotator is a $R_yZ$ operation the system as a whole is essentially composed of all states on the XZ plane which would be described by observing one qubit out of this bell pair."
   ]
  },
  {
   "cell_type": "code",
   "execution_count": 53,
   "metadata": {},
   "outputs": [
    {
     "data": {
      "image/png": "[encoded data removed]",
      "text/plain": [
       "<Figure size 900.592x264.88 with 1 Axes>"
      ]
     },
     "execution_count": 53,
     "metadata": {},
     "output_type": "execute_result"
    }
   ],
   "source": [
    "#Quantum Circuit Diagram for A\n",
    "qc_B = QuantumCircuit(3,2)\n",
    "qc_B.h(0)\n",
    "qc_B.cx(0,1)\n",
    "qc_B.barrier() #initialisation complete as unpolarized light\n",
    "PSSLM(np.pi/2,qc_B,1)\n",
    "qc_B.barrier() #beam is coupled, now on to analysis stage\n",
    "HWP(np.pi/4,qc_B,1)\n",
    "SLM(np.pi/6,qc_B,1)\n",
    "qc_B.barrier()#Analysis stage complete. Now, measurement stage\n",
    "qc_B.measure(1,0)\n",
    "qc_B.measure(2,1)\n",
    "qc_B.draw('mpl')"
   ]
  },
  {
   "cell_type": "code",
   "execution_count": 54,
   "metadata": {},
   "outputs": [],
   "source": [
    "#Experiment C\n",
    "def CB(theta_a,phi_a,phi):\n",
    "    #Quantum Circuit Diagram for A\n",
    "    qc_B = QuantumCircuit(3)\n",
    "    qc_B.h(0)\n",
    "    qc_B.cx(0,1)\n",
    "    qc_B.barrier() #initialisation complete as unpolarized light\n",
    "    PSSLM(phi,qc_B,1)\n",
    "    qc_B.barrier() #beam is coupled, now on to analysis stage\n",
    "    HWP(theta_a,qc_B,1)\n",
    "    SLM(phi_a,qc_B,1)\n",
    "    qc_B.barrier()#Analysis stage complete.\n",
    "    return corr_circ(qc_B)"
   ]
  },
  {
   "cell_type": "code",
   "execution_count": 55,
   "metadata": {},
   "outputs": [
    {
     "data": {
      "application/vnd.jupyter.widget-view+json": {
       "model_id": "93328ca2f0984535a9f1ae3de0ea7655",
       "version_major": 2,
       "version_minor": 0
      },
      "text/plain": [
       "interactive(children=(FloatSlider(value=3.141592653589793, continuous_update=False, description='phi_B', layou…"
      ]
     },
     "metadata": {},
     "output_type": "display_data"
    }
   ],
   "source": [
    "#This cell takes time to run\n",
    "def CP_B(phi_B):\n",
    "    phi_fixed = phi_B\n",
    "    points = 50\n",
    "    ta_range = np.linspace(0,2*np.pi,points)\n",
    "    pa_range = np.linspace(0,2*np.pi,points)\n",
    "    X,Y = np.meshgrid(ta_range, pa_range)\n",
    "    Z = [[0 for i in range(50)] for j in range(50)]\n",
    "    for i in range(len(Y)):\n",
    "        for j in range(len(X)):\n",
    "            Z[i][j] = CB(ta_range[j],pa_range[i],phi_fixed)\n",
    "    fig, ax = plt.subplots(figsize=(7,5.7))\n",
    "    cp = ax.contourf(X, Y, Z ,cmap='turbo');\n",
    "    fig.colorbar(cp) # Add a colorbar to a plot\n",
    "    plt.xlim(0,2*np.pi)\n",
    "    plt.ylim(0,2*np.pi)\n",
    "    ax.axis('equal')\n",
    "    return\n",
    "interact(CP_B, phi_B=widgets.FloatSlider(min=0, max=2*np.pi, step=0.01, value=np.pi, continuous_update=False, layout=Layout(width='600px')));"
   ]
  },
  {
   "cell_type": "markdown",
   "metadata": {},
   "source": [
    "As we can see above we have again been able to reproduce results exactly from those we obtained previously and that of the paper for the correlation function."
   ]
  },
  {
   "cell_type": "markdown",
   "metadata": {},
   "source": [
    "### 6.3 Experiment C\n",
    "In experiment C the paper randomly chooses to either couple the DoFs or not with probability of $P$ and $1-P$ respectively. To recreate this I again make use of an ancillary qubit $q_0$ similar to section [6.2](#6.2-Experiment-B). The idea is to create this in the state $\\sqrt{1-P}|0\\rangle + \\sqrt{P}|1\\rangle$ and use a controlled-Rx gate with angle $-\\pi$ with $q_0$ and $q_1$ (polarization) as control bits where polarization needs to be 0 and ancilla needs to be 1 to activate this rotation. The circuit used decomposes the two control gate using the standard procedure for decomposing two control single target qubit gates if the single control gate is available."
   ]
  },
  {
   "cell_type": "code",
   "execution_count": 56,
   "metadata": {},
   "outputs": [
    {
     "data": {
      "image/png": "[encoded data removed]",
      "text/plain": [
       "<Figure size 1081.19x264.88 with 1 Axes>"
      ]
     },
     "execution_count": 56,
     "metadata": {},
     "output_type": "execute_result"
    }
   ],
   "source": [
    "qc_C = QuantumCircuit(3,2)\n",
    "P = 0.5\n",
    "qc_C.ry(2*np.arccos(np.sqrt(1-P)),0)#Preparing the probability qubit\n",
    "qc_C.h(1)\n",
    "qc_C.barrier()\n",
    "#Do a controlled Rx(-pi) gate with two controls\n",
    "qc_C.x(1)\n",
    "qc_C.crx(-np.pi/2,1,2)\n",
    "qc_C.cx(0,1)\n",
    "qc_C.crx(np.pi/2,1,2)\n",
    "qc_C.cx(0,1)\n",
    "qc_C.crx(-np.pi/2,0,2)\n",
    "qc_C.x(1)\n",
    "qc_C.barrier()\n",
    "#Analysis stage now\n",
    "HWP(np.pi/6,qc_C,1)\n",
    "SLM(np.pi/3,qc_C,1)\n",
    "qc_C.barrier()\n",
    "qc_C.measure(1,0)\n",
    "qc_C.measure(2,1)\n",
    "qc_C.draw('mpl')"
   ]
  },
  {
   "cell_type": "code",
   "execution_count": 57,
   "metadata": {},
   "outputs": [],
   "source": [
    "#Experiment C\n",
    "def CC(P,theta_a,phi_a):\n",
    "    qc_C = QuantumCircuit(3)\n",
    "    qc_C.ry(2*np.arccos(np.sqrt(1-P)),0)#Preparing the probability qubit\n",
    "    qc_C.h(1)\n",
    "    qc_C.barrier()\n",
    "    #Do a controlled y gate with two controls\n",
    "    qc_C.x(1)\n",
    "    qc_C.crx(-np.pi/2,1,2)\n",
    "    qc_C.cx(0,1)\n",
    "    qc_C.crx(np.pi/2,1,2)\n",
    "    qc_C.cx(0,1)\n",
    "    qc_C.crx(-np.pi/2,0,2)\n",
    "    qc_C.x(1)\n",
    "    qc_C.barrier()\n",
    "    #Analysis stage now\n",
    "    HWP(theta_a,qc_C,1)\n",
    "    SLM(phi_a,qc_C,1)\n",
    "    return corr_circ(qc_C)"
   ]
  },
  {
   "cell_type": "code",
   "execution_count": 58,
   "metadata": {},
   "outputs": [
    {
     "data": {
      "application/vnd.jupyter.widget-view+json": {
       "model_id": "64ad7f78e0e64486850e8e6c4b1ed8f2",
       "version_major": 2,
       "version_minor": 0
      },
      "text/plain": [
       "interactive(children=(FloatSlider(value=0.5, continuous_update=False, description='P_var', layout=Layout(width…"
      ]
     },
     "metadata": {},
     "output_type": "display_data"
    }
   ],
   "source": [
    "def CP_C(P_var):\n",
    "    P_fixed = P_var\n",
    "    points = 50\n",
    "    ta_range = np.linspace(0,2*np.pi,points)\n",
    "    pa_range = np.linspace(0,2*np.pi,points)\n",
    "    X,Y = np.meshgrid(ta_range, pa_range)\n",
    "    Z = [[0 for i in range(50)] for j in range(50)]\n",
    "    for i in range(len(Y)):\n",
    "        for j in range(len(X)):\n",
    "            Z[i][j] = CC(P_fixed,ta_range[j],pa_range[i])\n",
    "    fig, ax = plt.subplots(figsize=(7,5.7))\n",
    "    cp = ax.contourf(X, Y, Z ,cmap='turbo');\n",
    "    fig.colorbar(cp) # Add a colorbar to a plot\n",
    "    plt.xlim(0,2*np.pi)\n",
    "    plt.ylim(0,2*np.pi)\n",
    "    ax.axis('equal')\n",
    "interact(CP_C, P_var=widgets.FloatSlider(min=0, max=1, step=0.01, value=0.5, continuous_update=False, layout=Layout(width='600px')));"
   ]
  },
  {
   "cell_type": "markdown",
   "metadata": {},
   "source": [
    "As we can see above this also faithfully reproduces the required results for the correlation function.\n",
    "\n",
    "### Universality using optical components\n",
    "To fully realize quantum computing (or any form of computing) one needs a physical system capable of producing the minimal set of operations which can then be extended to a set of all possible operations and sequences of operations. In classical computers the complete set is realized using the set of operations $\\{\\lnot,\\land\\}$ or $\\{\\lnot,\\lor\\}$. For quantum computers universality would imply being able to make any circuit which essentially means the set of all unitary matrices. This of course is non inclusive of measurements (which will not keep a circuit unitary) but one can prove that measurements placed in the middle of a cicuit can be taken to the very end without affecting the final measurement probabilities (since once measured any qubit is essentially decohered and cannot be part of the circuit anyway). \n",
    "\n",
    "To get the complete set of unitary matrices we can first start for the case of a single qubit. This set would essentially be the $SU(2)$ group which is isomorphic to $SO(3)$ and given that we have an $R_x(\\theta)$ gate in form of the SLM we actually just need rotation about some other axis to achieve single qubit universality for parity. The polarization qubit does have a $R_y(\\theta)Z$ qubit which can be used to get the hadamard gate $H$ with $\\theta = \\pi/2$ and in combination with a quarter wave plate with fast axis horizontal we can actually make the HWP just be a pure $R_y(\\theta)$.\n",
    "\n",
    "The PS-SLM is an operator which controls the parity using the polarity and is essentially a controlled Rx gate and so can be made into a CNOT gate which adds an additional phase of $\\iota$ to the horizontal polarization component. To make the CNOT of the other way we can try for the MZI configuration proposed [here](#Proposal-for-a-Parity-Sensitive-Polarisation-Modifier). The point here is that once we have these two CNOTS, we can essentially get universal unitaries by swapping the polarization (see cell below) and parity qubit in such a way that we can apply an Rx gate followed by Ry and then another Rx with the appropriate euler angles and we can attain individual qubit universalities of $U3$ gates.\n",
    "\n",
    "The exact swapping involves making use of a quarter wave plate which has the operator form of $e^{-\\iota\\pi/4}\\begin{pmatrix}1 & 0\\\\0 & \\iota\\end{pmatrix}$ and also a new kind of SLM which does this same operation but on the parity qubit. \n",
    "\n",
    "Now for getting overall universality we just need the CNOT gates of both ways and since we already have that using the PSSLM and the MZI setup described previously we actually have a universal quantum computer of two qubits.\n",
    "\n"
   ]
  },
  {
   "cell_type": "code",
   "execution_count": 59,
   "metadata": {},
   "outputs": [
    {
     "name": "stdout",
     "output_type": "stream",
     "text": [
      "[[ 1.0000000e+00+0.00000000e+00j  0.0000000e+00+0.00000000e+00j\n",
      "   2.4492936e-16-1.49975978e-32j  0.0000000e+00+0.00000000e+00j]\n",
      " [-2.4492936e-16+0.00000000e+00j  0.0000000e+00+0.00000000e+00j\n",
      "   1.0000000e+00-6.12323400e-17j  0.0000000e+00+0.00000000e+00j]\n",
      " [ 0.0000000e+00+0.00000000e+00j  1.0000000e+00+6.12323400e-17j\n",
      "   0.0000000e+00+0.00000000e+00j  2.4492936e-16+0.00000000e+00j]\n",
      " [ 0.0000000e+00+0.00000000e+00j -2.4492936e-16-1.49975978e-32j\n",
      "   0.0000000e+00+0.00000000e+00j  1.0000000e+00+0.00000000e+00j]]\n",
      "               ┌───┐           ┌───┐┌───┐┌─────────┐\n",
      "q_0: ────■─────┤ X ├─────■─────┤ S ├┤ Z ├┤ RY(4pi) ├\n",
      "     ┌───┴────┐└─┬─┘┌────┴────┐├───┤└───┘└─────────┘\n",
      "q_1: ┤ RX(pi) ├──■──┤ RX(-pi) ├┤ S ├────────────────\n",
      "     └────────┘     └─────────┘└───┘                \n"
     ]
    }
   ],
   "source": [
    "import qiskit.quantum_info as qi\n",
    "#Swap gate\n",
    "qc_sw = QuantumCircuit(2)\n",
    "qc_sw.crx(np.pi,0,1)#PSSLM\n",
    "qc_sw.cx(1,0)\n",
    "qc_sw.crx(-np.pi,0,1)\n",
    "qc_sw.s(0)#QWP\n",
    "qc_sw.s(1)#A different kind of SLM\n",
    "qc_sw.z(0)#HWP\n",
    "qc_sw.ry(4*np.pi,0)\n",
    "#Swapping complete\n",
    "print((qi.Operator(qc_sw).data))\n",
    "print(qc_sw.draw())"
   ]
  },
  {
   "cell_type": "markdown",
   "metadata": {},
   "source": [
    "As we can see above that this achieves the same unitary that a swap gate would and so now for executing a normal CNOT with target being the parity qubit and control being the polarization qubit we essentially apply the CNOT of the other way on both sides of the swap gate and that would achieve this CNOT."
   ]
  },
  {
   "cell_type": "code",
   "execution_count": 60,
   "metadata": {},
   "outputs": [
    {
     "name": "stdout",
     "output_type": "stream",
     "text": [
      "[[ 1.0000000e+00+0.00000000e+00j  0.0000000e+00+0.00000000e+00j\n",
      "   0.0000000e+00+0.00000000e+00j  2.4492936e-16-1.49975978e-32j]\n",
      " [-2.4492936e-16+0.00000000e+00j  0.0000000e+00+0.00000000e+00j\n",
      "   0.0000000e+00+0.00000000e+00j  1.0000000e+00-6.12323400e-17j]\n",
      " [ 0.0000000e+00+0.00000000e+00j -2.4492936e-16-1.49975978e-32j\n",
      "   1.0000000e+00+0.00000000e+00j  0.0000000e+00+0.00000000e+00j]\n",
      " [ 0.0000000e+00+0.00000000e+00j  1.0000000e+00+6.12323400e-17j\n",
      "   2.4492936e-16+0.00000000e+00j  0.0000000e+00+0.00000000e+00j]]\n",
      "     ┌───┐          ┌───┐           ┌───┐┌───┐┌─────────┐┌───┐\n",
      "q_0: ┤ X ├────■─────┤ X ├─────■─────┤ S ├┤ Z ├┤ RY(4pi) ├┤ X ├\n",
      "     └─┬─┘┌───┴────┐└─┬─┘┌────┴────┐├───┤└───┘└─────────┘└─┬─┘\n",
      "q_1: ──■──┤ RX(pi) ├──■──┤ RX(-pi) ├┤ S ├──────────────────■──\n",
      "          └────────┘     └─────────┘└───┘                     \n"
     ]
    }
   ],
   "source": [
    "import qiskit.quantum_info as qi\n",
    "\n",
    "#CNOT\n",
    "qc_cn = QuantumCircuit(2)\n",
    "qc_cn.cx(1,0)\n",
    "qc_cn.crx(np.pi,0,1)#PSSLM\n",
    "qc_cn.cx(1,0)\n",
    "qc_cn.crx(-np.pi,0,1)\n",
    "qc_cn.s(0)#QWP\n",
    "qc_cn.s(1)#A different kind of SLM\n",
    "qc_cn.z(0)#HWP\n",
    "qc_cn.ry(4*np.pi,0)\n",
    "#Swapping complete\n",
    "qc_cn.cx(1,0)\n",
    "print((qi.Operator(qc_cn).data))\n",
    "print(qc_cn.draw())"
   ]
  },
  {
   "cell_type": "markdown",
   "metadata": {},
   "source": [
    "Again we can see that this achieves the CNOT gate which we desire and below we show how to conduct arbitrary rotations for either qubit while the other is actually unchanged."
   ]
  },
  {
   "cell_type": "code",
   "execution_count": 61,
   "metadata": {},
   "outputs": [
    {
     "data": {
      "text/html": [
       "<pre style=\"word-wrap: normal;white-space: pre;background: #fff0;line-height: 1.1;font-family: &quot;Courier New&quot;,Courier,monospace\">     ┌──────────┐ ░           ┌───┐           ┌───┐┌───┐┌─────────┐ ░ »\n",
       "q_0: ┤ RY(pi/2) ├─░─────■─────┤ X ├─────■─────┤ S ├┤ Z ├┤ RY(4pi) ├─░─»\n",
       "     └──────────┘ ░ ┌───┴────┐└─┬─┘┌────┴────┐├───┤└───┘└─────────┘ ░ »\n",
       "q_1: ─────────────░─┤ RX(pi) ├──■──┤ RX(-pi) ├┤ S ├─────────────────░─»\n",
       "                  ░ └────────┘     └─────────┘└───┘                 ░ »\n",
       "«                  ░           ┌───┐           ┌───┐┌───┐┌─────────┐ ░ »\n",
       "«q_0: ─────────────░─────■─────┤ X ├─────■─────┤ S ├┤ Z ├┤ RY(4pi) ├─░─»\n",
       "«     ┌──────────┐ ░ ┌───┴────┐└─┬─┘┌────┴────┐├───┤└───┘└─────────┘ ░ »\n",
       "«q_1: ┤ RX(pi/3) ├─░─┤ RX(pi) ├──■──┤ RX(-pi) ├┤ S ├─────────────────░─»\n",
       "«     └──────────┘ ░ └────────┘     └─────────┘└───┘                 ░ »\n",
       "«     ┌────────┐\n",
       "«q_0: ┤ RY(pi) ├\n",
       "«     └────────┘\n",
       "«q_1: ──────────\n",
       "«               </pre>"
      ],
      "text/plain": [
       "     ┌──────────┐ ░           ┌───┐           ┌───┐┌───┐┌─────────┐ ░ »\n",
       "q_0: ┤ RY(pi/2) ├─░─────■─────┤ X ├─────■─────┤ S ├┤ Z ├┤ RY(4pi) ├─░─»\n",
       "     └──────────┘ ░ ┌───┴────┐└─┬─┘┌────┴────┐├───┤└───┘└─────────┘ ░ »\n",
       "q_1: ─────────────░─┤ RX(pi) ├──■──┤ RX(-pi) ├┤ S ├─────────────────░─»\n",
       "                  ░ └────────┘     └─────────┘└───┘                 ░ »\n",
       "«                  ░           ┌───┐           ┌───┐┌───┐┌─────────┐ ░ »\n",
       "«q_0: ─────────────░─────■─────┤ X ├─────■─────┤ S ├┤ Z ├┤ RY(4pi) ├─░─»\n",
       "«     ┌──────────┐ ░ ┌───┴────┐└─┬─┘┌────┴────┐├───┤└───┘└─────────┘ ░ »\n",
       "«q_1: ┤ RX(pi/3) ├─░─┤ RX(pi) ├──■──┤ RX(-pi) ├┤ S ├─────────────────░─»\n",
       "«     └──────────┘ ░ └────────┘     └─────────┘└───┘                 ░ »\n",
       "«     ┌────────┐\n",
       "«q_0: ┤ RY(pi) ├\n",
       "«     └────────┘\n",
       "«q_1: ──────────\n",
       "«               "
      ]
     },
     "execution_count": 61,
     "metadata": {},
     "output_type": "execute_result"
    }
   ],
   "source": [
    "#For doing arbitrary rotations on the polarization qubit\n",
    "qc_uq1 = QuantumCircuit(2)\n",
    "eul1 = np.pi/2\n",
    "eul2 = np.pi/3\n",
    "eul3 = np.pi\n",
    "qc_uq1.ry(eul1,0) #HWP combined with QWP\n",
    "qc_uq1.barrier()\n",
    "qc_uq1.crx(np.pi,0,1)#PSSLM\n",
    "qc_uq1.cx(1,0)\n",
    "qc_uq1.crx(-np.pi,0,1)\n",
    "qc_uq1.s(0)#QWP\n",
    "qc_uq1.s(1)#A different kind of SLM\n",
    "qc_uq1.z(0)#HWP\n",
    "qc_uq1.ry(4*np.pi,0)#Swapping complete\n",
    "qc_uq1.barrier()\n",
    "qc_uq1.rx(eul2,1) #SLM\n",
    "qc_uq1.barrier()\n",
    "qc_uq1.crx(np.pi,0,1)#PSSLM\n",
    "qc_uq1.cx(1,0)\n",
    "qc_uq1.crx(-np.pi,0,1)\n",
    "qc_uq1.s(0)#QWP\n",
    "qc_uq1.s(1)#A different kind of SLM\n",
    "qc_uq1.z(0)#HWP\n",
    "qc_uq1.ry(4*np.pi,0)#Swapping complete\n",
    "qc_uq1.barrier()\n",
    "qc_uq1.ry(eul3,0) #HWP combined with QWP\n",
    "qc_uq1.draw('text')"
   ]
  },
  {
   "cell_type": "code",
   "execution_count": 62,
   "metadata": {},
   "outputs": [
    {
     "data": {
      "text/html": [
       "<pre style=\"word-wrap: normal;white-space: pre;background: #fff0;line-height: 1.1;font-family: &quot;Courier New&quot;,Courier,monospace\">                  ░           ┌───┐           ┌───┐┌───┐┌─────────┐ ░ »\n",
       "q_0: ─────────────░─────■─────┤ X ├─────■─────┤ S ├┤ Z ├┤ RY(4pi) ├─░─»\n",
       "     ┌──────────┐ ░ ┌───┴────┐└─┬─┘┌────┴────┐├───┤└───┘└─────────┘ ░ »\n",
       "q_1: ┤ RX(pi/2) ├─░─┤ RX(pi) ├──■──┤ RX(-pi) ├┤ S ├─────────────────░─»\n",
       "     └──────────┘ ░ └────────┘     └─────────┘└───┘                 ░ »\n",
       "«     ┌──────────┐ ░           ┌───┐           ┌───┐┌───┐┌─────────┐ ░ »\n",
       "«q_0: ┤ RY(pi/3) ├─░─────■─────┤ X ├─────■─────┤ S ├┤ Z ├┤ RY(4pi) ├─░─»\n",
       "«     └──────────┘ ░ ┌───┴────┐└─┬─┘┌────┴────┐├───┤└───┘└─────────┘ ░ »\n",
       "«q_1: ─────────────░─┤ RX(pi) ├──■──┤ RX(-pi) ├┤ S ├─────────────────░─»\n",
       "«                  ░ └────────┘     └─────────┘└───┘                 ░ »\n",
       "«               \n",
       "«q_0: ──────────\n",
       "«     ┌────────┐\n",
       "«q_1: ┤ RX(pi) ├\n",
       "«     └────────┘</pre>"
      ],
      "text/plain": [
       "                  ░           ┌───┐           ┌───┐┌───┐┌─────────┐ ░ »\n",
       "q_0: ─────────────░─────■─────┤ X ├─────■─────┤ S ├┤ Z ├┤ RY(4pi) ├─░─»\n",
       "     ┌──────────┐ ░ ┌───┴────┐└─┬─┘┌────┴────┐├───┤└───┘└─────────┘ ░ »\n",
       "q_1: ┤ RX(pi/2) ├─░─┤ RX(pi) ├──■──┤ RX(-pi) ├┤ S ├─────────────────░─»\n",
       "     └──────────┘ ░ └────────┘     └─────────┘└───┘                 ░ »\n",
       "«     ┌──────────┐ ░           ┌───┐           ┌───┐┌───┐┌─────────┐ ░ »\n",
       "«q_0: ┤ RY(pi/3) ├─░─────■─────┤ X ├─────■─────┤ S ├┤ Z ├┤ RY(4pi) ├─░─»\n",
       "«     └──────────┘ ░ ┌───┴────┐└─┬─┘┌────┴────┐├───┤└───┘└─────────┘ ░ »\n",
       "«q_1: ─────────────░─┤ RX(pi) ├──■──┤ RX(-pi) ├┤ S ├─────────────────░─»\n",
       "«                  ░ └────────┘     └─────────┘└───┘                 ░ »\n",
       "«               \n",
       "«q_0: ──────────\n",
       "«     ┌────────┐\n",
       "«q_1: ┤ RX(pi) ├\n",
       "«     └────────┘"
      ]
     },
     "execution_count": 62,
     "metadata": {},
     "output_type": "execute_result"
    }
   ],
   "source": [
    "#For doing arbitrary rotations on the parity qubit\n",
    "qc_uq2 = QuantumCircuit(2)\n",
    "eul1 = np.pi/2\n",
    "eul2 = np.pi/3\n",
    "eul3 = np.pi\n",
    "qc_uq2.rx(eul1,1) #HWP combined with QWP\n",
    "qc_uq2.barrier()\n",
    "qc_uq2.crx(np.pi,0,1)#PSSLM\n",
    "qc_uq2.cx(1,0)\n",
    "qc_uq2.crx(-np.pi,0,1)\n",
    "qc_uq2.s(0)#QWP\n",
    "qc_uq2.s(1)#A different kind of SLM\n",
    "qc_uq2.z(0)#HWP\n",
    "qc_uq2.ry(4*np.pi,0)#Swapping complete\n",
    "qc_uq2.barrier()\n",
    "qc_uq2.ry(eul2,0)\n",
    "qc_uq2.barrier()\n",
    "qc_uq2.crx(np.pi,0,1)#PSSLM\n",
    "qc_uq2.cx(1,0)\n",
    "qc_uq2.crx(-np.pi,0,1)\n",
    "qc_uq2.s(0)#QWP\n",
    "qc_uq2.s(1)#A different kind of SLM\n",
    "qc_uq2.z(0)#HWP\n",
    "qc_uq2.ry(4*np.pi,0)#Swapping complete\n",
    "qc_uq2.barrier()\n",
    "qc_uq2.rx(eul3,1) #HWP combined with QWP\n",
    "qc_uq2.draw('text')"
   ]
  },
  {
   "cell_type": "markdown",
   "metadata": {},
   "source": [
    "So we have been able to reach the U3 and CNOT universality as described previously."
   ]
  },
  {
   "cell_type": "markdown",
   "metadata": {},
   "source": [
    "## 7. Concluding Remarks\n",
    "The exceeding of $B_\\text{max}$ beyond the value of 2 in quantum mechanics implied that one cannot use locally deterministic hidden variable theories to explain quantum mechanics or simply put proves that quantum mechanics violates local realism. Here we have seen that $B_\\text{max}$ exceeds this classical limit and one can conclude equivalently that one cannot write the correlation function as some $C(\\theta_a,\\phi_a) = \\int d\\lambda\\rho(\\lambda)C_\\text{pol}(\\theta_a,\\lambda)C_\\text{par}(\\phi_a,\\lambda)$ where $\\lambda$ is some set of hidden variables. The proper proof of this is described in [Appendix A](#Appendix-A:-The-EPR-paradox-and-Bell's-inequalities) and the experimental results concur with this. \n",
    "\n",
    "In a way this shows that if one were to have two DoFs, there would be an uncertainty which arises due their coupling which is quantised by using the Bell's measure. These results would hold good regardless of the type of DoF used and can be extended to systems with a higher number of DoFs too. We also explored how one can link this with quantum systems and reproduced the results using a quantum computer simulation of IBM Q.\n",
    "\n",
    "More importantly one must take note of how looking at the coherency behaviors of the individual DoFs would not address the actual coherence it had since some of it would be 'shared' in form of coupling. In short the partial traces of coherency matrices offer an incomplete picture of the system quite similar to how one would deal with multi qubit systems and have the state behave mixed when only looking at the partial trace over a part of the Hilber space. We even took advantage of this incomplete picture to create mixed states in the previous section. This also demonstrates how one could effectively share coherence between two DoFs as seen in experiment B where the coherency $S_\\text{pol}$ of the polarization qubit is effectively increased at maximal entaglement with the fully coherent parity DoF."
   ]
  },
  {
   "cell_type": "markdown",
   "metadata": {},
   "source": [
    "## 8. Endsem Problem\n",
    "(Make something tough :P)"
   ]
  },
  {
   "cell_type": "markdown",
   "metadata": {},
   "source": [
    "## Appendix A: The EPR paradox and Bell's inequalities\n",
    "\n",
    "Before talking about the bell's measure let us first dive into why it was made and for this we must look at the EPR experiment proposed in \\[epr\\]. I will discuss Bohm's variant since Bell's response was made in a way to that. Say we have prepared a electron-positron pair coming from a single source. These would be entangled in a way where if we measure the spin of one of the particles, the other particle will simultaneously collapse to the opposite spin.\n",
    "$$|{\\psi}\\rangle = \\dfrac{|{\\uparrow_e\\downarrow_p}\\rangle + |{\\downarrow_e\\uparrow_p}\\rangle}{\\sqrt{2}}$$\n",
    "So the main issue which Einstein had was that this means that measurement on one particle directly affects the other no matter how far it is. This makes it a non local effect which clearly does not make sense in a world which was believed to follow local realism. It can be proven that the two agents have no way to communicate using this pair hence showing that there actually is no faster than light comminication. While one may think choosing basis in a certain manner can change measurement probabilities and essentially have some \"information\" change, no matter how much measurements are done, since this is probabilistic the other agent cannot conclude anything from that.\n",
    "   \n",
    "\n",
    "While there have been multiple responses to this, the most important one is the one discussed in Bell's paper \\[bell\\].\n",
    "First we will start by considering the EPR argument using spin particles. Consider a pair of spin one-half particles formed somehow in the singlet spin state and moving freely in opposite directions. Measurements can be made, say by Stern-Gerlach magnets, on selected components of the spins $\\vec{\\sigma_1}$ and $\\vec{\\sigma_2}$,\n",
    "If measurement of the component $\\vec{\\sigma_1}\\cdot{a}$, where $a$ is some unit vector, yields the value +1 then, according to quantum mechanics, measurement of $\\vec{\\sigma_2}\\cdot{a}$ must yield the value -1 and vice versa.\n",
    "We now define some set of parameters $\\lambda$ which is taken as continuous which give us a complete description of the state. The result $A$ of measuring $\\vec{\\sigma_1}\\cdot{a}$ is then determined by $a$ and $\\lambda$, and the result $B$ of measuring $\\vec{\\sigma_2}\\cdot{b}$ in the\n",
    "same instance is determined by $b$ and $\\lambda$.\n",
    "\\begin{equation}\\label{eq:1A}\\tag{1A}A(\\vec{a},\\lambda) = \\pm 1, B(\\vec{b},\\lambda) = \\pm 1 \\end{equation}\n",
    "We now take $\\rho(\\lambda)$ as the probability distribution of $\\lambda$ and we will now try to find the expectation value of of the product of the two components $\\vec{\\sigma_1}\\cdot{a}$ and $\\vec{\\sigma_2}\\cdot{b}$.\n",
    "\\begin{equation}\\label{eq:2A}\\tag{2A}P(\\vec{a}\\vec{b}) = \\int{d\\lambda}\\rho{\\lambda}A(\\vec{a},\\lambda)B(\\vec{b},\\lambda)\\end{equation}\n",
    "The quantum mechanical expectation value of this is the following\n",
    "\\begin{equation}\\label{eq:3A}\\tag{3A}\\langle\\vec{\\sigma_1}\\cdot{a}\\vec{\\sigma_2}\\cdot{b}\\rangle = - \\vec{a}\\cdot\\vec{b}\\end{equation}\n",
    "However it turns out that eq: \\ref{eq:2A} doesn't give us the same result as \\ref{eq:3A}. So first off we know that we have a normalized distribution.\n",
    "\\begin{equation}\\label{eq:4A}\\tag{4A}\\int{d\\lambda}\\rho(\\lambda) = 1\\end{equation}\n",
    "if we take $\\vec{a} = \\vec{b}$ the $P$ in eq: \\ref{eq:2A} can reach -1.\n",
    "\\begin{equation}\\label{eq:5A}\\tag{5A}A(\\vec{a},\\lambda) = -B(\\vec{a},\\lambda)\\end{equation}\n",
    "Knowing this we can rewrite eq: \\ref{eq:2A} into the following\n",
    "\\begin{equation}\\label{eq:6A}\\tag{6A}P(\\vec{a}\\vec{b}) = -\\int{d\\lambda}\\rho{\\lambda}A(\\vec{a},\\lambda)A(\\vec{b},\\lambda)\\end{equation}\n",
    "\\begin{equation}\\label{eq:7A}\\tag{7A}P(\\vec{a},\\vec{b}) - P(\\vec{a},\\vec{c}) = \\int{d\\lambda}\\rho{\\lambda}[1-A(\\vec{b},\\lambda)A(\\vec{c},\\lambda)]\\end{equation}\n",
    "from eq: \\ref{eq:1A} we can write this\n",
    "\\begin{equation}\\label{eq:8A}\\tag{8A}|P(\\vec{a},\\vec{b}) - P(\\vec{a},\\vec{c})| \\leq \\int{d\\lambda}\\rho{\\lambda}A(\\vec{a},\\lambda)A(\\vec{b},\\lambda)[A(\\vec{b},\\lambda)A(\\vec{c},\\lambda) - 1]\\end{equation}\n",
    "The second term on the right is just $P(\\vec{b},\\vec{c})$ so we get\n",
    "\\begin{equation}\\label{eq:9A}\\tag{9A}1 + P(\\vec{b},\\vec{c}) \\geq |P(\\vec{a},\\vec{b}) - P(\\vec{a},\\vec{c})|\\end{equation}\n",
    "Now we define a $\\overline{P}(\\vec{a},\\vec{b})$ and a $\\overline{- \\vec{a}\\cdot\\vec{b}}$ which essentially are the averages over vectors differing from a small angle from $\\vec{a}$ and $\\vec{b}$ of the quantities under the bar. Let's suppose the following holds for some $\\epsilon$\n",
    "\\begin{equation}\\label{eq:10A}\\tag{10A}|\\overline{P}(\\vec{a},\\vec{b}) + \\overline{\\vec{a}\\cdot\\vec{b}}| \\leq \\epsilon\\end{equation}\n",
    "We cannot make $\\epsilon$ arbitrarily small and this can be proven by the following steps. Let us first assume the following inequality holds for all $\\vec{a}$ and $\\vec{b}$\n",
    "\\begin{equation}\\label{eq:11A}\\tag{11A}|\\overline{\\vec{a}\\cdot\\vec{b}} - \\vec{a}\\cdot\\vec{b}| \\leq\\delta\\end{equation}\n",
    "Then using eq:\\ref{eq:11A} and eq:\\ref{eq:10A} we have\n",
    "\\begin{equation}\\label{eq:12A}\\tag{12A}|\\overline{P}(\\vec{a},\\vec{b}) + \\vec{a}\\cdot\\vec{b}| \\leq \\epsilon + \\delta\\end{equation}\n",
    "Now taking $\\vec{a} = \\vec{b}$ (hence their dot product is 1) we rewrite eq:\\ref{eq:12A} as the equation below while using the fact that $\\overline{P(\\vec{a},\\vec{b})} = \\int d\\lambda\\rho(\\lambda)\\overline{A}(\\vec{a},\\lambda)\\overline{B}(\\vec{b},\\lambda))$.\n",
    "\\begin{equation}\\label{eq:13A}\\tag{13A}\\int d\\lambda\\rho(\\lambda)[\\overline{A}(\\vec{b},\\lambda)\\overline{B}(\\vec{b},\\lambda))+1] \\leq\\epsilon+\\delta\\end{equation}\n",
    "We can extend from \\ref{eq:1A} that on averaging over a small range, $|\\overline{A}(\\vec{a},\\lambda)| \\leq 1$ and $|\\overline{B}(\\vec{b},\\lambda)| \\leq 1$. Now we can write the following\n",
    "\\begin{equation}\\label{eq:14A}\\tag{14A}\\overline{P}(\\vec{a},\\vec{b})-\\overline{P}(\\vec{b},\\vec{c}) = \\int{d\\lambda}\\rho(\\lambda)\\overline{A}(\\vec{a},\\lambda)\\overline{B}(\\vec{b},\\lambda)[\\overline{A}(\\vec{b},\\lambda)\\overline{B}(\\vec{c},\\lambda) + 1] - \\int{d\\lambda}\\rho(\\lambda)\\overline{A}(\\vec{a},\\lambda)\\overline{B}(\\vec{c},\\lambda)[\\overline{A}(\\vec{b},\\lambda)\\overline{B}(\\vec{b},\\lambda) + 1]\\end{equation}\n",
    "Using the inequalities on the averaged $A$ and $B$ we can write the following\n",
    "\\begin{equation}\\label{eq:15A}\\tag{15A}|\\overline{P}(\\vec{a},\\vec{b})-\\overline{P}(\\vec{b},\\vec{c})| \\leq \\int{d\\lambda}\\rho(\\lambda)[\\overline{A}(\\vec{b},\\lambda)\\overline{B}(\\vec{c},\\lambda) + 1] - \\int{d\\lambda}\\rho(\\lambda)[\\overline{A}(\\vec{b},\\lambda)\\overline{B}(\\vec{b},\\lambda) + 1]\\end{equation}\n",
    "\\begin{equation}\\label{eq:16A}\\tag{16A}|\\overline{P}(\\vec{a},\\vec{b})-\\overline{P}(\\vec{b},\\vec{c})| \\leq 1 + \\overline{P} + \\epsilon+\\delta\\end{equation}\n",
    "We write eq:\\ref{eq:16A} using eq:\\ref{eq:15A} and eq:\\ref{eq:13A}. Finally using eq:\\ref{eq:12A} we rewrite the above equation as\n",
    "\\begin{equation}\\label{eq:17A}\\tag{17A}|\\vec{a}\\cdot\\vec{c}-\\vec{a}\\cdot\\vec{b}|+\\vec{b}\\cdot\\vec{c}-1 \\leq 4(\\epsilon+\\delta)\\end{equation}\n",
    "Now with the constr  aint coming from eq:\\ref{eq:17A} we can handpick values of $\\vec{a},\\vec{b},\\vec{c}$ such that $\\epsilon$ cannot be made arbitrarily small (take $\\vec{a}\\cdot\\vec{b} = \\vec{c}\\cdot\\vec{b} = 1/\\sqrt{2}$ and $\\vec{a}\\cdot\\vec{c} = 0$ this would show $4(\\epsilon+\\delta)\\geq\\sqrt{2}-1$). The fact that $\\epsilon$ cannot be made arbitrarily small implies that the quantum mechanical value cannot be approximated either accurately or arbitrarily close to this form using hidden variable. So this contradiction implies that some assumptions that we have taken happen to not work together and that happen to be local determinism and hidden variables. So any hidden variable theory by nature itself is non local.\n",
    "\n",
    "To get the form of the CSHS inequalities we essentially modify the form of eq:\\ref{eq:14A} and write it as follows\n",
    "\\begin{equation}\\label{eq:18A}\\tag{18A}\\overline{P}(\\vec{a},\\vec{b})-\\overline{P}(\\vec{a},\\vec{b}') = \\int{d\\lambda}\\rho(\\lambda)\\overline{A}(\\vec{a},\\lambda)\\overline{B}(\\vec{b},\\lambda)[1\\pm\\overline{A}(\\vec{a}',\\lambda)\\overline{B}(\\vec{b}',\\lambda)] - \\int{d\\lambda}\\rho(\\lambda)\\overline{A}(\\vec{a},\\lambda)\\overline{B}(\\vec{b}',\\lambda)[1\\pm\\overline{A}(\\vec{a}',\\lambda)\\overline{B}(\\vec{b},\\lambda)]\\end{equation}\n",
    "We now apply the triangle inequality and also note that the modulus of the averaged functions $\\overline{A}$ and $\\overline{B}$ are bounded above by 1 we will get\n",
    "\\begin{equation}\\label{eq:19A}\\tag{19A}|\\overline{P}(\\vec{a},\\vec{b})-\\overline{P}(\\vec{a},\\vec{b}')| \\leq \\left|\\int{d\\lambda}\\rho(\\lambda)[1\\pm\\overline{A}(\\vec{a}',\\lambda)\\overline{B}(\\vec{b}',\\lambda)]\\right| + \\left|\\int{d\\lambda}\\rho(\\lambda)[1\\pm\\overline{A}(\\vec{a}',\\lambda)\\overline{B}(\\vec{b},\\lambda)]\\right|\\end{equation}\n",
    "We may as well remove the moduli brackets on the LHS since the quantities is non negative. Since $\\int\\rho(\\lambda)d\\lambda = 1$ and $\\overline{P(\\vec{a},\\vec{b})} = \\int d\\lambda\\rho(\\lambda)\\overline{A}(\\vec{a},\\lambda)\\overline{B}(\\vec{b},\\lambda))$ we can rewrite eq:\\ref{eq:19A} as\n",
    "\\begin{equation}\\label{eq:20A}\\tag{20A}|\\overline{P}(\\vec{a},\\vec{b})-\\overline{P}(\\vec{a},\\vec{b}')| \\leq 2 \\pm (\\overline{P}(\\vec{a}',\\vec{b}') + \\overline{P}(\\vec{a}',\\vec{b})) \\leq 2 \\pm |\\overline{P}(\\vec{a}',\\vec{b}') + \\overline{P}(\\vec{a}',\\vec{b}|\\end{equation}\n",
    "The second inequality comes from the triangle inequality. Now we can choose the minus sign and we get\n",
    "\\begin{equation}\\label{eq:21A}\\tag{21A}|\\overline{P}(\\vec{a},\\vec{b})-\\overline{P}(\\vec{a},\\vec{b}')| + |\\overline{P}(\\vec{a}',\\vec{b}') + \\overline{P}(\\vec{a}',\\vec{b}| \\leq 2\\end{equation}\n",
    "Finally we get the following equation by applying the triangle inequality on RHS of eq:\\ref{eq:21A}\n",
    "\\begin{equation}\\label{eq:22A}\\tag{22A}|\\overline{P}(\\vec{a},\\vec{b})-\\overline{P}(\\vec{a},\\vec{b}') + \\overline{P}(\\vec{a}',\\vec{b}') + \\overline{P}(\\vec{a}',\\vec{b}| \\leq 2\\end{equation}\n",
    "The above inequality is the form of writing the CHSH inequalities \\[CHSH\\]. The bound above is shown to be 2 which is satisfied for classical systems and is violated for quantum mechanical correlations. One can instead prove a different bound for quantum correlations as $2\\sqrt{2}$. This is reffered to as the Tsirelon's bound. To prove this we can suppose we have four hermitian operators $A_0,A_1,B_0,B_1$ where $[A_i,B_j] = 0$ but the $[A_0,A_1] \\neq 0$ and $[B_0,B_1] \\neq 0$. We define these $A$ operators as being two different spin measurements on the same electron and $B$ being the same on the positron where their results are either $+1$ or $-1$. We know that for a simple spin system $[\\sigma\\cdot\\vec{a},\\sigma\\cdot\\vec{b}] = 2\\iota\\sigma\\cdot(\\vec{a}\\times\\vec{b})$. Now we will define a new operator called $\\mathcal{B}$\n",
    "$$\\mathcal{B} = A_0B_0 + A_0B_1 + A_1B_0 - A_1B_1$$\n",
    "This operator has been defined along the lines of the bell's measure where expectation value of the modulus of this operator would be the actual bells measure for a correlation function of $C_{ij} = \\langle A_iB_j\\rangle$. We can now square this operator and it would simpify as the equation below (since $A_i^2 = B_i^2 = I$)\n",
    "$$\\mathcal{B}^2 = 4I - [A_0,A_1][B_0,B_1]$$\n",
    "Since these are spin operators we have $|[A_0,A_1][B_0,B_1]| \\leq 4I$ using the commutation relation we had defined earlier. We would infact have $\\mathcal{B}^2$ reach it's maximum if $A_0,B_0$ measures along $\\hat{x}$ and $A_1,B_1$ measures along $\\hat{y}$ which would make $\\mathcal{B}^2 = 8I$. This leads us to $\\langle \\mathcal{B}\\rangle \\leq 2\\sqrt{2}$ which is the Tsirelon's bound. In this paper the $B_{max}$ values are bounded above due to Tsirelon's bound.\n"
   ]
  },
  {
   "cell_type": "markdown",
   "metadata": {},
   "source": [
    "## References\n",
    "(Fill later and unfortunately dont know how to incorporate BibTex here)\n",
    "\\[1\\]\n",
    "\\[2\\]\n",
    "\\[3\\]"
   ]
  }
 ],
 "metadata": {
  "kernelspec": {
   "display_name": "Python 3",
   "language": "python",
   "name": "python3"
  },
  "language_info": {
   "codemirror_mode": {
    "name": "ipython",
    "version": 3
   },
   "file_extension": ".py",
   "mimetype": "text/x-python",
   "name": "python",
   "nbconvert_exporter": "python",
   "pygments_lexer": "ipython3",
   "version": "3.7.4"
  }
 },
 "nbformat": 4,
 "nbformat_minor": 2
}
