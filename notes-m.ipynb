{
 "cells": [
  {
   "cell_type": "markdown",
   "metadata": {},
   "source": [
    "# BELL'S MEASURE IN CLASSICAL OPTICAL COHERENCE"
   ]
  },
  {
   "cell_type": "markdown",
   "metadata": {},
   "source": [
    "## 0. Setting up this notebook\n",
    "Kindly run the cell below to make sure you have all required dependencies"
   ]
  },
  {
   "cell_type": "markdown",
   "metadata": {},
   "source": [
    "### 0.1 Installing and Importing Packages"
   ]
  },
  {
   "cell_type": "code",
   "execution_count": 1,
   "metadata": {},
   "outputs": [
    {
     "name": "stdout",
     "output_type": "stream",
     "text": [
      "Successfully imported packages\n"
     ]
    }
   ],
   "source": [
    "from IPython.display import clear_output,display, Math, Latex\n",
    "!pip install numpy\n",
    "!pip install scipy\n",
    "!pip install matplotlib\n",
    "!pip install sympy\n",
    "!pip install seaborn\n",
    "!pip install qiskit\n",
    "clear_output()\n",
    "import numpy as np\n",
    "import matplotlib.pyplot as plt\n",
    "from matplotlib.widgets import Slider, Button, RadioButtons\n",
    "from ipywidgets import interact, interactive, fixed, interact_manual, Layout\n",
    "import ipywidgets as widgets\n",
    "from mpl_toolkits.mplot3d import axes3d\n",
    "from sympy import *\n",
    "from sympy.physics.quantum.dagger import Dagger\n",
    "from IPython.display import Javascript\n",
    "import seaborn as sns\n",
    "import scipy as sc\n",
    "import sys\n",
    "from qiskit import *\n",
    "from qiskit.compiler import transpile, assemble\n",
    "from qiskit.tools.jupyter import *\n",
    "from qiskit.visualization import *\n",
    "import matplotlib.pyplot as plotter\n",
    "np.set_printoptions(threshold=sys.maxsize)\n",
    "print(\"Successfully imported packages\")"
   ]
  },
  {
   "cell_type": "markdown",
   "metadata": {},
   "source": [
    "#### 0.2 Defining Functions"
   ]
  },
  {
   "cell_type": "code",
   "execution_count": 2,
   "metadata": {},
   "outputs": [],
   "source": [
    "def multiple_formatter(denominator=2, number=np.pi, latex='\\pi'):\n",
    "    def gcd(a, b):\n",
    "        while b:\n",
    "            a, b = b, a%b\n",
    "        return a\n",
    "    def _multiple_formatter(x, pos):\n",
    "        den = denominator\n",
    "        num = int(np.rint(den*x/number))\n",
    "        com = gcd(num,den)\n",
    "        (num,den) = (int(num/com),int(den/com))\n",
    "        if den==1:\n",
    "            if num==0:\n",
    "                return r'$0$'\n",
    "            if num==1:\n",
    "                return r'$%s$'%latex\n",
    "            elif num==-1:\n",
    "                return r'$-%s$'%latex\n",
    "            else:\n",
    "                return r'$%s%s$'%(num,latex)\n",
    "        else:\n",
    "            if num==1:\n",
    "                return r'$\\frac{%s}{%s}$'%(latex,den)\n",
    "            elif num==-1:\n",
    "                return r'$\\frac{-%s}{%s}$'%(latex,den)\n",
    "            else:\n",
    "                return r'$\\frac{%s%s}{%s}$'%(num,latex,den)\n",
    "    return _multiple_formatter\n",
    "\n",
    "class Multiple:\n",
    "    def __init__(self, denominator=2, number=np.pi, latex='\\pi'):\n",
    "        self.denominator = denominator\n",
    "        self.number = number\n",
    "        self.latex = latex\n",
    "\n",
    "    def locator(self):\n",
    "        return plt.MultipleLocator(self.number / self.denominator)\n",
    "\n",
    "    def formatter(self):\n",
    "        return plt.FuncFormatter(multiple_formatter(self.denominator, self.number, self.latex))"
   ]
  },
  {
   "cell_type": "code",
   "execution_count": 3,
   "metadata": {},
   "outputs": [],
   "source": [
    "def plotter(x,y,title,xlabel,ylabel,col,label):\n",
    "    num_space,=x.shape\n",
    "    plt.plot(x,y, color=col,linewidth=3, label=label)\n",
    "    plt.title(title, fontsize=15)\n",
    "    plt.xlabel(xlabel, fontsize=15)\n",
    "    plt.ylabel(ylabel, fontsize=15)\n",
    "    plt.xlim(0,2*np.pi)\n",
    "    ax=plt.gca()\n",
    "    ax.set_facecolor('#FFFFCC')\n",
    "    ax.axhline(0, color='black', lw=2)\n",
    "    ax.axvline(0, color='black', lw=2)\n",
    "    ax.xaxis.set_major_locator(plt.MultipleLocator(np.pi / 2))\n",
    "    ax.xaxis.set_minor_locator(plt.MultipleLocator(np.pi / 12))\n",
    "    ax.xaxis.set_major_formatter(plt.FuncFormatter(multiple_formatter()))\n",
    "    plt.xticks(fontsize =15)\n",
    "    plt.yticks(fontsize =15)\n",
    "    return"
   ]
  },
  {
   "cell_type": "code",
   "execution_count": 4,
   "metadata": {},
   "outputs": [],
   "source": [
    "def plotterC(x,y,title,xlabel,ylabel,col,label):\n",
    "    num_space,=x.shape\n",
    "    plt.plot(x,y, color=col,linewidth=3, label=label)\n",
    "    plt.title(title, fontsize=15)\n",
    "    plt.xlabel(xlabel, fontsize=15)\n",
    "    plt.ylabel(ylabel, fontsize=15)\n",
    "    plt.xlim(0,1)\n",
    "    ax=plt.gca()\n",
    "    ax.set_facecolor('#FFFFCC')\n",
    "    ax.axhline(0, color='black', lw=2)\n",
    "    ax.axvline(0, color='black', lw=2)\n",
    "    plt.xticks(fontsize =15)\n",
    "    plt.yticks(fontsize =15)\n",
    "    return"
   ]
  },
  {
   "cell_type": "code",
   "execution_count": 5,
   "metadata": {},
   "outputs": [],
   "source": [
    "def contourplotter(function,phi,title,xlabel,ylabel):\n",
    "    f = lambdify((t,p,ta,pa),function, \"numpy\")\n",
    "    ta_range = np.linspace(0,2*np.pi,1000);\n",
    "    pa_range = np.linspace(0,2*np.pi,1000);\n",
    "    phi_fixed = phi;\n",
    "    X, Y = np.meshgrid(ta_range, pa_range);\n",
    "    def ftemp(ta_val,pa_val):\n",
    "        return f(0,phi_fixed,ta_val,pa_val);\n",
    "    Z = ftemp(X,Y);\n",
    "    fig, ax = plt.subplots(figsize=(7,5.7))\n",
    "    cp = ax.contourf(X, Y, Z ,cmap='turbo');\n",
    "    fig.colorbar(cp) # Add a colorbar to a plot\n",
    "    plt.xlim(0,2*np.pi);\n",
    "    plt.ylim(0,2*np.pi);\n",
    "    ax.axis('equal');\n",
    "\n",
    "    plt.title(title, fontsize=15)\n",
    "    plt.xlabel(xlabel, fontsize=15)\n",
    "    plt.ylabel(ylabel, fontsize=15)\n",
    "    ax=plt.gca()\n",
    "    ax.set_facecolor((0.8,1,1))\n",
    "    ax.axhline(0, color='black', lw=2)\n",
    "    ax.axvline(0, color='black', lw=2)\n",
    "    ax.xaxis.set_major_locator(plt.MultipleLocator(np.pi / 2))\n",
    "    ax.xaxis.set_minor_locator(plt.MultipleLocator(np.pi / 12))\n",
    "    ax.xaxis.set_major_formatter(plt.FuncFormatter(multiple_formatter()))\n",
    "    ax.yaxis.set_major_locator(plt.MultipleLocator(np.pi / 2))\n",
    "    ax.yaxis.set_minor_locator(plt.MultipleLocator(np.pi / 12))\n",
    "    ax.yaxis.set_major_formatter(plt.FuncFormatter(multiple_formatter()))\n",
    "    plt.xticks(fontsize =15)\n",
    "    plt.yticks(fontsize =15)\n",
    "    return"
   ]
  },
  {
   "cell_type": "code",
   "execution_count": 6,
   "metadata": {},
   "outputs": [],
   "source": [
    "def contourplotterC(function,P1,title,xlabel,ylabel):\n",
    "    f = lambdify((P,ta,pa),function, \"numpy\")\n",
    "    ta_range = np.linspace(0,2*np.pi,100);\n",
    "    pa_range = np.linspace(0,2*np.pi,100);\n",
    "    P_fixed = P1;\n",
    "    X, Y = np.meshgrid(ta_range, pa_range);\n",
    "    def ftemp(ta_val,pa_val):\n",
    "        return f(P1,ta_val,pa_val);\n",
    "    Z = ftemp(X,Y);\n",
    "    fig, ax = plt.subplots(figsize=(7,5.7))\n",
    "    cp = ax.contourf(X, Y, Z ,cmap='turbo');\n",
    "    fig.colorbar(cp) # Add a colorbar to a plot\n",
    "    plt.xlim(0,2*np.pi);\n",
    "    plt.ylim(0,2*np.pi);\n",
    "    ax.axis('equal');\n",
    "\n",
    "    plt.title(title, fontsize=15)\n",
    "    plt.xlabel(xlabel, fontsize=15)\n",
    "    plt.ylabel(ylabel, fontsize=15)\n",
    "    ax=plt.gca()\n",
    "    ax.set_facecolor((0.8,1,1))\n",
    "    ax.axhline(0, color='black', lw=2)\n",
    "    ax.axvline(0, color='black', lw=2)\n",
    "    ax.xaxis.set_major_locator(plt.MultipleLocator(np.pi / 2))\n",
    "    ax.xaxis.set_minor_locator(plt.MultipleLocator(np.pi / 12))\n",
    "    ax.xaxis.set_major_formatter(plt.FuncFormatter(multiple_formatter()))\n",
    "    ax.yaxis.set_major_locator(plt.MultipleLocator(np.pi / 2))\n",
    "    ax.yaxis.set_minor_locator(plt.MultipleLocator(np.pi / 12))\n",
    "    ax.yaxis.set_major_formatter(plt.FuncFormatter(multiple_formatter()))\n",
    "    plt.xticks(fontsize =15)\n",
    "    plt.yticks(fontsize =15)\n",
    "    return"
   ]
  },
  {
   "cell_type": "markdown",
   "metadata": {},
   "source": [
    "## Team details and work distrubution\n",
    "1. Aneesh Bapat (Roll no: 190260006)\n",
    "2. Ankan Mukherjee (Roll no: 190260008)\n",
    "3. Mahadevan Subramanian (Roll no: 190260027)\n",
    "4. Priyam Dubey (Roll no: 190260034)"
   ]
  },
  {
   "cell_type": "markdown",
   "metadata": {},
   "source": [
    "## Introduction\n",
    "Essentially abstract and methods we have used for reproducing the results"
   ]
  },
  {
   "cell_type": "markdown",
   "metadata": {},
   "source": [
    "## 1. Polarization & Spatial Parity\n",
    "\n",
    "In the paper [[1](#ref-1)] the experiments which were done were made using of an optical beam model with two binary degrees of freedom, them being polarization and spatial parity along the $x$ direction respectively of a quasi monochromatic source.<br>\n",
    "For the spatial parity, in one dimension the beams are of form $E(x) = E_e\\psi_e(x)+E_o\\psi_o(x)$ where $\\psi_e(x)$ is an even function and $\\psi_o(x) = \\text{sgn}(x)\\psi_e(x)$ hence is an odd function. We give this beam a vector representation called $\\mathbf{J}_\\text{par} = [E_e\\text{ } E_o]^T$. Spatial paritt is manipulated using a spatial light modulator (SLM) which we describe in the experimental apparatus section. Along with the horizontal (H) and vertical components of polarization taken into account we describe the polarization-parity jones vector as $\\mathbf{J} = [E_\\text{He}\\text{ }E_\\text{Ho}\\text{ }E_\\text{Ve}\\text{ }E_\\text{Vo}]^T$.<br>\n",
    "We then describe the properties of this coherence using a $4\\times4$ matrix which is $\\mathbf{G} = \\langle\\mathbf{J}^{*}\\mathbf{J}^\\text{T}\\rangle$. Taking partial trace along $\\mathbf{G}$ would give us either $\\mathbf{G}_\\text{pol}$ or $\\mathbf{G}_\\text{par}$ on taking trace along parity or polarization respectively. We define a degree of polarization/parity using $D_{\\text{pol}}$($D_\\text{par}$) which quantifies the apparent coherence of each DoF when the other DoF is unresolved. Further an overall coherence $S$ is defined using the beam's linear entropy [[2](#ref-2)] as follows.\n",
    "The definition of linear entropy comes from the motivation of von Neumann Entropy. For a quantum mechanical system with a density matrix $\\rho$ this is defined as $S_v = \\text{Tr}(-\\rho\\ln(\\rho)) = -\\langle\\ln(\\rho)\\rangle$. The linear entropy $S_L$ is a lower approximation to $S_v$ which comes from expanding the leading term in the expansion of $\\rho\\ln\\rho$ which becomes $\\rho-\\rho^2$ approximately when $\\rho$ is close to $I$ (using taylor expansion) and taking trace this gives us the definition $S_L = \\text{Tr}(\\rho) - \\text{Tr}(\\rho^2)$ and by definition of the density matrix we have trace of $\\rho$ equal to 1 which gives us $S_L = 1 - \\text{Tr}(\\rho^2)$. This is a non normalized quantity so this is normalized by multiplying it by $\\frac{d}{d-1}$ which here is $4/3$ since our system has four dimensions. The definition of our $\\mathbf{G}$ matrix is isomorphic to the definition of a density matrix of a two qubit system keeping the Jones vector $\\mathbf{J}$ as the state of this two qubit system. Hence we have \n",
    "\\begin{equation}\\label{eq:1.1}\\tag{1.1}S = 1-S_L = 1 - \\frac{4}{3} + \\frac{4}{3}\\text{Tr}(\\mathbf{G}^2) = \\frac{4}{3}\\left(\\text{Tr}\\{\\mathbf{G}^2\\}-\\frac{1}{4}\\right)\\end{equation}\n",
    "We know that for normalized states we have that $\\frac{1}{d}\\leq$ Tr$(\\rho^2) \\leq 1$ and equals one only for a pure state and $1/d$ for completely mixed state. We can similarly draw a parallel here to seeing that $S=1$ happens only for coherent (pure) states and is 0 when completely incoherent. An important note to make here is that applying a unitary matrix $U$ (so $U^{*}U^{T} = I$) which is not time dependent on the Jones vector would not change our value of $S$ since on acting of a unitary we would have $\\mathbf{G}' = U^{*}\\mathbf{G}U^{T}$ and so $\\mathbf{G}'^2 = U^{*}\\mathbf{G}^2U^{T}$ and this has same trace as $\\mathbf{G}^2$ since trace is invariant under unitary transforms.\n",
    "\n",
    "The paper here explores the properties of a beam where these two DoFs are infact coupled or entagled. One can start with a coherent linearly polarized beam at $45^\\circ$ with even polarity which would be $\\mathbf{J} = (1/\\sqrt{2})[\\text{1 0 1 0}]^T$ which can clearly be factored into a direct product of $\\mathbf{J}_{\\text{pol}}\\otimes\\mathbf{J}_\\text{par}$ and so $D_\\text{pol} = D_\\text{par} = 1$. However on passing this beam through a polarization sensitive SLM which introduces a phase of $\\varphi/2\\sin(\\varphi)$ only to the horizontal polarity component and none to the vertical. We can think of this analoguos to a controlled $R_x(\\varphi)$ operation from the polarization qubit to parity qubit which acts when polarization is $|0\\rangle$ (called H here for polarization). This puts the state to an entagled state $\\mathbf{J} = (1/\\sqrt{2})[\\cos(\\varphi/2)\\text{ }\\iota\\sin(\\varphi/2)\\text{ 1 0}]^T$ which is no longer factorizable and shows that the apparant degree of coherence of the individual DoFs are no longer equal to 1 unless $\\varphi=0$ and infact equal zero when $\\varphi=\\pi$. However we know that this state is still coherent on an overall, the only issue is that seeing the partial trace of $\\mathbf{G}$ along the respective DoF provide an incomplete picture of the state hence leading to a conclusion that the coherence is absent. The paper proceeds to make use of the Bell's measure (see [Appendix A](#Appendix-A:-The-EPR-paradox-and-Bell's-inequalities)) to quantify this entaglement which is the cause of this apparent coherence deficit."
   ]
  },
  {
   "cell_type": "markdown",
   "metadata": {},
   "source": [
    "## 2. Experimental Apparatus\n",
    "\n",
    "For the experimental setup, we are using various separate components, which we will comment on one by one before seeing how they are arranged together for the experiment in this paper. We can develop a matrix operator formalism based on how these elements affect the vector $\\mathbf{J} = [E_{He} \\ E_{Ho} \\ E_{Ve} \\ E_{Vo}]$. Suppoe we have a device that modifies the Jones vector of a beam in the following way - $\\mathbf{J_{new}} = \\mathbf{A}\\mathbf{J_{old}}$. Then, the corresponding $\\mathbf{G} = \\langle \\mathbf{J^*J^T}\\rangle$ tranforms as $\\mathbf{G_{new} = A^*G_{old}A^T}$. This is because, assuming that the effect of the device, encoded in matrix $\\mathbf{A}$  is time independent, the matrix can just move inside the time average. And as we will see below, for all the devices used in this experiment, their effect is time invariant.\n",
    "\n",
    "## Polarisation only devices\n",
    "\n",
    "### 2.1 Waveplates\n",
    "<p>The first element we will look at is a half-wave plate. Suppose we have a half-wave plate whose axis is inclined at angle $\\theta$ to the $+x$ axis. Then, it will add a phase of $\\pi$ to the component of the amplitude along its axis, with respect to the component perpendicular to the axis. In other words, if the component of E field along the axis will be effectively multiplied by $e^{i\\pi} = (-1)$.</p> \n",
    "<p> Suppose the in-going beam is described by a polarisation-only Jones vector $J_{pol} = [E_x \\ E_y]^T$. Then the (complex) amplitude is $E_x\\hat{x} + E_y\\hat{y} = (E_{x}\\cos\\theta + E_y\\sin\\theta)\\hat{\\theta_{\\parallel}} + (E_{x}\\sin\\theta - E_y\\cos\\theta) \\hat{\\theta_{\\perp}}$. So after adding a phase multiplier factor of $e^{i\\pi} = -1$ to the $\\hat{\\theta_{\\parallel}}$ component, the new complex amplitude is $$(-E_{x}\\cos\\theta - E_y\\sin\\theta)\\hat{\\theta_{\\parallel}} +  (E_{x}\\sin\\theta - E_y\\cos\\theta) \\hat{\\theta_{\\perp}} = (\\cos\\theta \\ (-E_{x}\\cos\\theta - E_y\\sin\\theta)+ \\sin\\theta(E_{x}\\sin\\theta - E_y\\cos\\theta))\\hat{x} + (\\sin\\theta \\ (-E_{x}\\cos\\theta - E_y\\sin\\theta)- \\cos\\theta(E_{x}\\sin\\theta - E_y\\cos\\theta))\\hat{y} \\\\ = [E_x(\\sin^2\\theta-\\cos^2\\theta) - E_y(2\\sin\\theta\\cos\\theta) \\qquad{} -E_x(2\\sin\\theta\\cos\\theta)  Ey(\\cos^2\\theta -\\sin^2\\theta)] \\\\ =[-E_x\\cos(2\\theta) - E_y\\sin(2\\theta) \\qquad{} -E_x\\sin(2\\theta)+E_y\\cos(2\\theta)]$$\n",
    "    \n",
    "We can write this more compactly in a 2x2 matrix - \n",
    "$$\\begin{pmatrix}-\\cos(2\\theta) & -\\sin(2\\theta) \\\\ -\\sin(2\\theta) & \\cos(2\\theta)\\end{pmatrix}\\begin{pmatrix}E_x \\\\ E_y\\end{pmatrix}_{old} = \\begin{pmatrix}E_x \\\\ E_y\\end{pmatrix}_{new}$$\n",
    "<p>When we are dealing with our 4 dimensional Jones vector, to generate the corresponding 4x4 HWP operator matrix, we\\e can propose a 4x4 operator matrix. But before we spell it out, a few changes in notation are in order, to follow the same general notation as the paper. </p>\n",
    "<ol>\n",
    "    <li>The angle of rotation is denoted as $\\frac{\\theta}{2}$ instead of $\\theta$ so that there is no ugly factor of             $2$ in the transformation matrix.</li>\n",
    "    <li>The axis, with respect to which the angle $\\frac{\\theta}{2}$ is to be measured is not specified in the paper. Two reasonable guesses are either the X axis (upwards vertical, as shown in the figure) or the horizontal axis (-y axis in the figure). In either case, we get the same matrix except with a phase factor of $e^{i\\pi} = -1$. But that does not change the intensity measurement, since we are only interested in the long time average and we are not using two different beams (so the phase is truly a global phase, and affects nothing at all). So this is a moot point for single beam operation. The exact phase also depends on what additional phase the plate adds to the slow axis, which we are not accounting for, anyway.\n",
    " \n",
    "</ol>\n",
    "Since our Jones vector is $J = J_{pol}\\otimes J_{par}$, and our HWP does not affect the parity DOF at all (in other words, acts like an identity transformation), we can write it as a tensor product - \n",
    "$$A_{HWP}\\left(\\frac{\\theta}{2}\\right) = \\begin{pmatrix}-\\cos(\\theta) & -\\sin(\\theta) \\\\ -\\sin(\\theta) & cos(\\theta)\\end{pmatrix}\\otimes\\begin{pmatrix} 1&0 \\\\ 0&1\\end{pmatrix}=\\begin{pmatrix}\n",
    "-\\cos\\theta & 0 & -\\sin\\theta & 0 \\\\ \n",
    "0 &-\\cos\\theta&0&-\\sin\\theta \\\\\n",
    "-\\sin\\theta &0 & \\cos\\theta & 0 \\\\\n",
    "0 & -\\sin\\theta &0 & \\cos\\theta\n",
    "\\end{pmatrix} $$\n",
    "To account for the global phase added, along the slow axis, we only need to multiply this matrix by a phase factor of $e^{i\\phi}$ where $\\phi$ is the slow axis phase added.\n",
    "\n",
    "Sidenote: while the paper mentions that the angle is $\\theta/2$ in it, that actually rotates by $\\theta$ only and not by the expected $2\\theta$ that would result from writing it in the form above since the text mentions that the basis is rotated by $\\theta_a$ when the HWP of $\\theta_a/2$ is applied.\n",
    "\n",
    "### 2.2 Polarising Beam Splitter\n",
    "\n",
    "This is an element that separates out the H and V polarised beams from the input beam. There is no operator matrix associated with it, it simply separates out the two beams, without affecting parity at all. One point to note here - as we describe below, a mirror will add a factor of (-1) to odd modes, so the component which gets reflected will pick up that factor here as well. We can either correct this with a second reflection of that beam from a $45^\\circ$ mirror to correct it or not do anything at all about it (in the experimental setup in the paper seen as a whole, we can see that it won't matter the odd and even beams will be switched, but that is about it.)\n",
    "\n",
    "## Parity Sensitive Devices\n",
    "\n",
    "### 2.3 Dove Prism\n",
    "<p> We know that a mirror inverts left-right. So if we put an odd beam through the mirror, it will pick up a factor of (-1) from the + and - axes being inverted (i.e. -x being mapped to x). </p>\n",
    "<p> The operator (parity only, polarisation plays no role) associated to a mirror is $$\\begin{pmatrix}-1 & 0 \\\\ 0 & 1\\end{pmatrix}\\begin{pmatrix}e \\\\ o \\end{pmatrix}_{old} = \\begin{pmatrix}e \\\\ o \\end{pmatrix}_{new}$$ An additional -1 factor is added as a global phase, because of the phase change on reflecting.</p>\n",
    "<img width=\"40%\" src='Mirror_and_Parity.png'>\n",
    "One thing about mirrors which is particularly inconvenient is that the incoming and outgoing beam does not travel in the same direction, so we cannot conveniently include a mirror in the arm of a Mach-Zehnder interferometer easily, for example. To make our life simple, we use a dove prism, which is a trapezoid shaped prism, that the light beam enters, undergoes TIR on one surface of it and exits travelling in the same direction as incoming beam. It performs the same matrix operation as a mirror, but is more convenient to use. One aspect to be careful of (that can be easily overcome) is that there is a phase change because the beam travels through the glass/ material of the prism, but that can be easily dealt with by using a compensator cell in the other arm. Aother important aspect of a Dove prism - since the wave incidence medium is denser and the transmission medium is rarer (unlike a regular mirror), there is no addition $\\pi$ phase of reflection, and the operator matrix is simply $$\\begin{pmatrix}1 & 0 \\\\ 0 & -1\\end{pmatrix}\\begin{pmatrix}e \\\\ o \\end{pmatrix}_{old} = \\begin{pmatrix}e \\\\ o \\end{pmatrix}_{new}$$\n",
    "<img width = \"60%\" src='Dove_prism.png'>\n",
    "\n",
    "### 2.4 Mach Zehnder Interferometer\n",
    "<img width = \"60%\" src='MZI.png'><center>A schematic of a MZI, self drawn</center>\n",
    "<p> In this arrangement, the beam splitters are polarisation insensitive, so there is no polarisation discrimination. First let us consider a MZI with no dove prism (and no compensation cell). Suppose the only input beam is given from In1. Then, the left beam suffers two rarer-denser reflections and the same is the case with the right beam, as they come out from Out2. Hence, we have constructive interference at Out2. Whereas, as Out1, the left beam still has same phase (the reflection at exit beam splitter is denser-rarer, so no phase change) while the right beam has one reflection only, so the interference is destructive.</p>\n",
    "<p>With a dove prism in place, the odd mode undergoes one extra inversion in the left path, so its constructive/destructive outputs are now exactly swapped. As a result, if we send in a superposition of odd and even modes into In1, the odd mode comes out from Out1, while the even mode comes out from Out2 (just as if no prism were there). Conversely, if we send in the beam from In2, the odd mode will come out from Out2 and the even mode from Out1.</p>\n",
    "\n",
    "Hence we can think of two uses of this MZI arrangement - \n",
    "<ol> <li> To split a superposed beam into its odd and even components, send this beam in from one of the inputs only and the odd and even parity modes are separated.</li>\n",
    "    <li> If we have a odd parity beam and an even parity beam, we can add them (make a superposed state) by sending in the odd beam in In1, the even beam from In2, and then getting the superposed beam out, from Out1.\n",
    "       </ol>\n",
    "       In the experiment performed in the paper, the authors concern themselves only with the first use.\n",
    "       \n",
    "### 2.5 SLMs and PS-SLMs\n",
    "A SLM is a spatial light modulator. In general, this term refers to any device that modifies the beam in a space dependent fashion. In the context of this experiment, the SLM they use (Hamamatsu X10468-02) is an array of liquid crystal pixels, each of whose refractive index can be controlled independently by applying a voltage, in such a way, that we add a desired phase to the light passing through each pixel, and the phase in each pixel is independent of the others.\n",
    "<p>Suppose we send a beam through a SLM which adds a $x$-dependant phase $\\frac{\\phi}{2}sgn(x)$ to the electric field (global phase does not matter here, by the way. Only relative phase/ difference in phase between top and bottom half being $\\phi$ is what matters.) Then, we are effectively multiplying the old profile $E_{old}(x)$ by $e^{\\iota\\frac{\\phi}{2}sgn(x)}$, to get new profile $E_{new}(x)$. Observe that $e^{\\iota\\frac{\\phi}{2}sgn(x)} = cos(\\frac{\\phi}{2})+ \\iota sgn(x)sin(\\frac{\\phi}{2})$. So, with $E_{old}(x) = e(x)+o(x)$, we can get $E_{new}(x) = (e(x)+o(x))(cos(\\phi/2)+\\iota sgn(x)sin(\\phi/2)) = [cos(\\phi/2)e(x) + \\iota sin(\\phi/2) sgn(x)o(x)] + [cos(\\phi/2)o(x) + \\iota sin(\\phi/2) sgn(x)e(x)]$. </p>\n",
    "<p>Observe that the first term in the new expression is even while the second term is odd, which means that they are the new even and odd decomposition (which is unique). We can re-express this as $\\begin{pmatrix}cos(\\phi/2) & \\iota sin(\\phi/2) \\\\ \\iota sin(\\phi/2) & cos(\\phi/2) \\end{pmatrix}\\begin{pmatrix}e_{old} \\\\ o_{old}\\end{pmatrix} = \\begin{pmatrix}e_{new} \\\\ o_{new}\\end{pmatrix}$ to make it look more like the transformation caused by a half wave plate, but for the parity DOF. In particular, observe that if we set $\\phi = \\pi$ then the matrix shown looks like a Pauli $\\sigma_x$ matrix (times the constant $\\iota$)- it swaps the $o$ and $e$ bases.\n",
    "\n",
    "Further, to obtain the 4x4 transformation matrix, we again do a tensor product - \n",
    "$$A_{par}\\left(\\frac{\\phi}{2}\\right) = \\begin{pmatrix}1 & 0 \\\\ 0 & 1\\end{pmatrix}\\otimes\\begin{pmatrix} \\cos(\\phi/2)&i\\sin(\\phi/2) \\\\ i\\sin(\\phi/2) &\\cos(\\phi/2)\\end{pmatrix}=\\begin{pmatrix}\n",
    "\\cos(\\phi/2)&i\\sin(\\phi/2) & 0& 0\\\\ i\\sin(\\phi/2) &\\cos(\\phi/2) &0 & 0\\\\\n",
    "0&0&\\cos(\\phi/2)&i\\sin(\\phi/2) \\\\ 0&0&i\\sin(\\phi/2) &\\cos(\\phi/2)\n",
    "\\end{pmatrix} $$\n",
    "\n",
    "Again, the rationale is that since there is no polarisation effect, that part of the first matrix is identity.\n",
    "\n",
    "The liquid crystals can be acted on by a electric field in two directions, so that the refractive index of a single pixel itself is non-isotropic. This leads to polarisation-sensitive behaviour of the pixels. For example, if we take a SLM that adds a phase of $\\frac{\\phi}{2}sgn(x)$ only to the H-polarisation while leaving the V polarisation unchanged. In this case, we can simply modify the above operator matrix to look like $$A_{PS-SLM}\\left(\\frac{\\phi}{2}\\right) =\\begin{pmatrix}\n",
    "\\cos(\\phi/2)&i\\sin(\\phi/2) & 0& 0\\\\ i\\sin(\\phi/2) &\\cos(\\phi/2) &0 & 0\\\\\n",
    "0&0&1&0 \\\\ 0&0&0 &1\n",
    "\\end{pmatrix} $$"
   ]
  },
  {
   "cell_type": "markdown",
   "metadata": {},
   "source": [
    "### General Observations About the operator matrices\n",
    "We can see the following properties about the matrix formalism we have developed.\n",
    "<ol><li> The matrices are all unitary. $AA^\\dagger = A^\\dagger A = \\mathbb{I}$. This is expected, because if we take a completely incoherent beam in phase as well as parity, then no device will be able to change it, and the $G$ matrix for a completely incoherent mode is a scalar multiple of identity.</li>\n",
    "    <li> The matrices corresponding to a rotated HWP and to a polarisation-insensitive SLM commute. This is expected because each of these devices is expected to modify only one DOF.</li>\n",
    "    </ol>"
   ]
  },
  {
   "cell_type": "code",
   "execution_count": 7,
   "metadata": {},
   "outputs": [],
   "source": [
    "P,t,p,ta,pa = symbols('P theta varphi theta_a varphi_a',real=True)\n",
    "A_HWP = Matrix([[-cos(ta/2),0,-sin(ta/2),0],[0,-cos(ta/2),0,-sin(ta/2)],[-sin(ta/2),0,cos(ta/2),0],\n",
    "              [0,-sin(ta/2),0,cos(ta/2)]])\n",
    "A_SLM = Matrix([[cos(pa/2),I*sin(pa/2),0,0],[I*sin(pa/2),cos(pa/2),0,0],[0,0,cos(pa/2),I*sin(pa/2)],\n",
    "             [0,0,I*sin(pa/2),cos(pa/2)]])\n",
    "A_PSSLM = Matrix([[cos(pa/2),I*sin(pa/2),0,0],[I*sin(pa/2),cos(pa/2),0,0],[0,0,1,0],\n",
    "             [0,0,0,1]]) "
   ]
  },
  {
   "cell_type": "code",
   "execution_count": 8,
   "metadata": {},
   "outputs": [
    {
     "data": {
      "text/latex": [
       "$\\displaystyle \\left[\\begin{matrix}1 & 0 & 0 & 0\\\\0 & 1 & 0 & 0\\\\0 & 0 & 1 & 0\\\\0 & 0 & 0 & 1\\end{matrix}\\right]$"
      ],
      "text/plain": [
       "Matrix([\n",
       "[1, 0, 0, 0],\n",
       "[0, 1, 0, 0],\n",
       "[0, 0, 1, 0],\n",
       "[0, 0, 0, 1]])"
      ]
     },
     "execution_count": 8,
     "metadata": {},
     "output_type": "execute_result"
    }
   ],
   "source": [
    "trigsimp(A_SLM*conjugate(A_SLM.T)) #A_SLM is unitary"
   ]
  },
  {
   "cell_type": "code",
   "execution_count": 9,
   "metadata": {},
   "outputs": [
    {
     "data": {
      "text/latex": [
       "$\\displaystyle \\left[\\begin{matrix}1 & 0 & 0 & 0\\\\0 & 1 & 0 & 0\\\\0 & 0 & 1 & 0\\\\0 & 0 & 0 & 1\\end{matrix}\\right]$"
      ],
      "text/plain": [
       "Matrix([\n",
       "[1, 0, 0, 0],\n",
       "[0, 1, 0, 0],\n",
       "[0, 0, 1, 0],\n",
       "[0, 0, 0, 1]])"
      ]
     },
     "execution_count": 9,
     "metadata": {},
     "output_type": "execute_result"
    }
   ],
   "source": [
    "trigsimp(A_PSSLM*conjugate(A_PSSLM.T)) #A_PSSLM is unitary"
   ]
  },
  {
   "cell_type": "code",
   "execution_count": 10,
   "metadata": {},
   "outputs": [
    {
     "data": {
      "text/latex": [
       "$\\displaystyle \\left[\\begin{matrix}1 & 0 & 0 & 0\\\\0 & 1 & 0 & 0\\\\0 & 0 & 1 & 0\\\\0 & 0 & 0 & 1\\end{matrix}\\right]$"
      ],
      "text/plain": [
       "Matrix([\n",
       "[1, 0, 0, 0],\n",
       "[0, 1, 0, 0],\n",
       "[0, 0, 1, 0],\n",
       "[0, 0, 0, 1]])"
      ]
     },
     "execution_count": 10,
     "metadata": {},
     "output_type": "execute_result"
    }
   ],
   "source": [
    "trigsimp(A_HWP*conjugate(A_HWP.T)) #A_HWP is unitary"
   ]
  },
  {
   "cell_type": "code",
   "execution_count": 11,
   "metadata": {},
   "outputs": [
    {
     "data": {
      "text/latex": [
       "$\\displaystyle \\left[\\begin{matrix}0 & 0 & 0 & 0\\\\0 & 0 & 0 & 0\\\\0 & 0 & 0 & 0\\\\0 & 0 & 0 & 0\\end{matrix}\\right]$"
      ],
      "text/plain": [
       "Matrix([\n",
       "[0, 0, 0, 0],\n",
       "[0, 0, 0, 0],\n",
       "[0, 0, 0, 0],\n",
       "[0, 0, 0, 0]])"
      ]
     },
     "execution_count": 11,
     "metadata": {},
     "output_type": "execute_result"
    }
   ],
   "source": [
    "trigsimp(A_HWP*A_SLM - A_SLM*A_HWP) #A_SLM and A_HWP commute"
   ]
  },
  {
   "cell_type": "markdown",
   "metadata": {},
   "source": [
    "## Proposal for a Parity-Sensitive Polarisation Modifier\n",
    "<p> In the main paper, one of the loose ends that the authors do not seem to have addressed is that polarity seems to have a special place in this qubits scheme, in the sense that controlled gates can be made only with polarity as a control qubit (no parity controlled gates/devices are proposed). Here, we wish to present the design of a parity controlled device, that can be used to implement the controlled version of any possible (ordinarily) parity-insensitive device. \n",
    "<p>The main idea is to use the second use of the MZI. Suppose you are given an input beam and you want to perform a controlled-HWP operation on that (we have already seen uncontrolled HWP earlier). Then, the idea is to split up the input beam into the odd and even components with an MZI and then recombine them with a second MZI. In this way, a parity-controlled operation can be performed. The below image shows a schematic for a parity-sensitive HWP.</p>\n",
    "<img width = \"40%\" src='Parity_sensitive_HWP.png'>\n",
    "<p> An important use of this idea will be to bring the line of thought presented in the paper to a logical conclusion - suppose we start with a purely even mode but completely unpolarised beam. Then, by coupling the parity to the polarisation, we can generate a coupled-DOF beam. To convert this beam to a completely polarised, parity-incoherent beam, we would need to implement a parity-controlled polarisation operation, which this section proposes a theoretical solution to accomplishing. One major issue still here, is that stacking two MZI's could be a challenge, in view of the difficulty of alignment."
   ]
  },
  {
   "cell_type": "markdown",
   "metadata": {},
   "source": [
    "## 3. Polarization and Spatial Parity analysis\n",
    "### 3.1 The correlation function\n",
    "We will now proceed to define a normalized correlation function $C(\\theta_a,\\phi_a)$ which we will use for defining our bell's measure $B$. The analyzing done in the paper does so with the following experimental setup shown below (images taken from [[1](#ref-1)])\n",
    "<table>\n",
    "    <tr>\n",
    "        <td><img width=\"90%\"src=\"fig1b-og.png\"/><center><b>Fig: 3.1</b></center></td>\n",
    "        <td><img width=\"90%\"src=\"fig1c-og.png\"/><center><b>Fig: 3.2</b></center></td>\n",
    "    </tr>\n",
    "</table>\n",
    "[Section 2](#2.-Experimental-Apparatus) explains the functioning principle for each of the apparatus in the above figure. What the setup essentially does in fig: 3.1.1 is for analyzing the DoFs seperately. The polarization is analyzed in a linear basis rotated by $\\theta_a$ by action of the half wave plate and similarly the parity is analyzed by analyzing over a basis rotated by $\\varphi_a$. The measured intensities are normalized and kept as probabilities in a way that $P_H + P_V = P_o + P_e = 1$. In fig: 3.2 combined polarization-parity measurements are done by essentially using the setup of fig: 3.1 but by concatenating the different DoF analysis stages. If we call the input coherency matrix as $\\mathbf{G}_{in}$ then the resulting coherency matrix after the transformations on which measurement is being done is \n",
    "\\begin{equation}\\label{eq:3.1}\\tag{3.1}\\mathbf{G}_{out} = A_{SLM}^*A_{HWP}^*\\mathbf{G}_{in}A_{HWP}^TA_{SLM}^T\\end{equation}\n",
    "As already shown in section 1, our definition of overall coherence in eq: 1.1 is invariant under applying these unitaries on the state. The following is the definition we give to the correlation function in the equation below. Symmetric values are assignmed to the coefficeints $c_\\text{pol} = \\pm1$ ($c_\\text{par} = \\pm1$) to the dichotomic H (e) and V (o) probability outcomes. \n",
    "\\begin{equation}\\label{eq:3.2}\\tag{3.2}C(\\theta_a,\\varphi_a) = \\sum c_\\text{pol}c_\\text{par}P_\\text{pol,par} = P_\\text{He} - P_\\text{H0} - P_\\text{Ve} + P_\\text{Vo}\\end{equation}\n",
    "For the uncoupled case this can be factorized into $C(\\theta_1,\\varphi_a) = C_\\text{pol}(\\theta_a)C_\\text{par}(\\phi_a)$ and here we would have $C_\\text{pol}(\\theta_a) = P_H - P_V$ and $C_\\text{par} = P_e - P_o$. Proceeding this they use th CSHS formulation of the Bell's measure (see Appendix A) to write \n",
    "\\begin{equation}\\label{eq:3.3}\\tag{3.3}B = |C(\\theta_a,\\varphi_a) + C(\\theta_a,\\varphi_a') + C(\\theta_a',\\varphi_a) - C(\\theta_a',\\varphi_a')|\\end{equation}\n",
    "Now we have an upper bound on $B_{max}$ which is the maximum value this measure takes over these four variables and this is what the paper from this point refers to as the Bell's measure. This bound is called the Tsirelon's bound and is $B_{max}\\leq 2\\sqrt{2}$ and in the classical case (where all observables commute) it is actually bounded above by 2.\n",
    "\n",
    "We will now prove that any coherent beam has $D_\\text{pol} = D_\\text{par}$. Any coherent beam here would be isomorphic to a pure two qubit state. For pure states, if the state is $|\\psi\\rangle$, then the density matrix is $\\rho = |\\psi\\rangle\\langle\\psi|$. We can represent this in a Schmidt form where $|\\psi\\rangle = \\sum_ig_i|u_i\\rangle\\otimes|v_i\\rangle$ which can be done for any arbitrary pure state so for the 4 dimensional Jones vector here we only have two variables and so without loss of generality we can choose to write our jones vector as $\\mathbf{J} = [\\mu_1\\text{ 0 0 }\\mu_2]^T$ and for this state we would have that\n",
    "\\begin{equation}\\label{eq:3.4}\\tag{3.4}\\mathbf{G}_\\text{pol} = \\mathbf{G}_\\text{par} = \\begin{pmatrix}\\mu_1^2 & 0\\\\0 & \\mu_2^2\\end{pmatrix}\\end{equation}\n",
    "This leads to $D_\\text{pol} = D_\\text{par} = |\\mu_1^2-\\mu_2^2|$ which is essentially the difference the eigenvalues of the respective matrix. Note that the above equation would be true in the basis where we can write the Schmidt decomposition of the Jones vector but since this is a coherent state this basis can be reached by applying unitaries that do not do any coupling. Also for coherent beams the paper claims that we would have $4D_\\text{par}^2+B_{max}^2 = 4D_\\text{pol}^2+B_{max}^2 = 8$ which becomes $4D_\\text{pol}^2+B_{max}^2\\leq 8$ and $4D_\\text{par}^2+B_{max}^2\\leq 8$ for partially coherent beams hence they define a new degree of coherence reffered to as the partial degree of coherence\n",
    "\\begin{equation}S_\\text{pol} = \\dfrac{D_\\text{pol}^2}{2} + \\left(\\dfrac{B_{max}}{2\\sqrt{2}}\\right)^2\\text{, }S_\\text{par} = \\dfrac{D_\\text{par}^2}{2} + \\left(\\dfrac{B_{max}}{2\\sqrt{2}}\\right)^2\\end{equation}\n",
    "One important thing to note is that the accessible degrees of coherence written above are invariant under unitary coupling between the two DoFs. We can see this as a sort of sharing of coherence between apparent coherence of an individual DoF ($D_\\text{pol}$ and $D_\\text{par}$) and the coupling between them ($B_{max}$). For a fully coherent beam we will always have $S = S_\\text{pol} = S_\\text{par} = 1$ regardless of coupling between the DoFs. This also demostrates how we can make coherence essentially migrate from form of coupling to apparent coherence of individual DoFs by simply using unitary transforms.\n"
   ]
  },
  {
   "cell_type": "markdown",
   "metadata": {},
   "source": [
    "## 4. Experimental results and derivations\n",
    "The paper \\[topic2\\] describes three experiments A, B and C. Here we will derive the theoretical expressions they use for fitting their data using the SymPy package."
   ]
  },
  {
   "cell_type": "code",
   "execution_count": 12,
   "metadata": {},
   "outputs": [],
   "source": [
    "def trace_G(G): #A trace function for just 4x4 G matrices\n",
    "    return simplify(G[0,0] + G[1,1] + G[2,2] + G[3,3])\n",
    "def corr_prob(G): #Returns the value I_He - I_Ho - I_Ve +I_Vo from given G matrix\n",
    "    return simplify(G[0,0] - G[1,1] - G[2,2] + G[3,3])\n",
    "\n",
    "def par_tr_G_pol(G): #returns the partial trace of G for giving G_pol\n",
    "    return simplify(Matrix([[G[0,0]+G[1,1],G[0,2]+G[1,3]],[G[2,0]+G[3,1],G[2,2]+G[3,3]]]))\n",
    "\n",
    "def par_tr_G_par(G): #returns the partial trace of G for giving G_par\n",
    "    return Matrix([[G[0,0]+G[2,2],G[0,1]+G[2,3]],[G[1,0]+G[3,2],G[1,1]+G[3,3]]])\n",
    "\n",
    "def app_coh(G): #Returns apparent degree of coherence for a 2x2 G matrix\n",
    "    return simplify(sqrt(1-4*simplify(Determinant(G))/(simplify(Trace(G))**2)))\n",
    "\n",
    "def norm_grad(B,syms):\n",
    "    c = 0\n",
    "    for i in syms:\n",
    "        c += simplify(B.diff(i)**2)\n",
    "    return simplify(c)"
   ]
  },
  {
   "cell_type": "markdown",
   "metadata": {},
   "source": [
    "#### Methods for Calculating Values of $D_{pol}$, $D_{par}$, $B_{max}$, $S_{pol}$ and $S_{par}$"
   ]
  },
  {
   "cell_type": "code",
   "execution_count": 13,
   "metadata": {},
   "outputs": [],
   "source": [
    "def bmaxfinder(C_ta_pa,x):\n",
    "    tb,pb = symbols('theta_b varphi_b',real=True)\n",
    "    B = C_ta_pa + C_ta_pa.xreplace({ta:tb}) + C_ta_pa.xreplace({pa:pb}) - C_ta_pa.xreplace({ta:tb,pa:pb})\n",
    "    b = lambdify((ta,pa,tb,pb,p),B, \"numpy\")\n",
    "    bmax=[-1*(sc.optimize.minimize(lambda params: -1*abs(b(params[0],params[1],params[2],params[3],i)), [0,0,0,0], method = 'L-BFGS-B').fun) for i in x]\n",
    "    bmax=np.around(bmax,decimals=5)\n",
    "    return bmax"
   ]
  },
  {
   "cell_type": "code",
   "execution_count": 14,
   "metadata": {},
   "outputs": [],
   "source": [
    "def bmaxfinderC(C_ta_pa,x):\n",
    "    tb,pb = symbols('theta_b varphi_b',real=True)\n",
    "    B = abs(C_ta_pa + C_ta_pa.xreplace({ta:tb}) + C_ta_pa.xreplace({pa:pb}) - C_ta_pa.xreplace({ta:tb,pa:pb}))\n",
    "    b = lambdify((ta,pa,tb,pb,P),B, \"numpy\")\n",
    "    bmax=[-1*(sc.optimize.minimize(lambda params: -1*abs(b(params[0],params[1],params[2],params[3],i)), [0,0,0,0], method = 'L-BFGS-B').fun) for i in x]\n",
    "    bmax=np.around(bmax,decimals=5)\n",
    "    return bmax"
   ]
  },
  {
   "cell_type": "code",
   "execution_count": 15,
   "metadata": {},
   "outputs": [],
   "source": [
    "def dfinder(D,x):\n",
    "    d=lambdify(p,D,\"numpy\")\n",
    "    d_final=[d(i) for i in x]\n",
    "    return d_final"
   ]
  },
  {
   "cell_type": "code",
   "execution_count": 16,
   "metadata": {},
   "outputs": [],
   "source": [
    "def dfinderC(D,x):\n",
    "    d=lambdify(P,D,\"numpy\")\n",
    "    d_final=[d(i) for i in x]\n",
    "    return d_final"
   ]
  },
  {
   "cell_type": "code",
   "execution_count": 17,
   "metadata": {},
   "outputs": [],
   "source": [
    "def sfinder(d,bmax):   \n",
    "    return np.around(np.square(d)/2+np.square(bmax)/8,decimals=5)"
   ]
  },
  {
   "cell_type": "markdown",
   "metadata": {},
   "source": [
    "### 4.1 Experiment A\n",
    "Here the field is competely coherent and we start with the Jones vector in state $\\mathbf{J} = (1/\\sqrt{2})[\\cos(\\varphi/2)\\text{ }\\iota\\sin(\\varphi/2)\\text{ 1 0}]^T$ which is reached by applying the PS-SLM on the input state of $\\mathbf{J}_{in} = (1/\\sqrt{2})[\\text{1 0 1 0}]^T$. On this we then apply the rotation of basis by $\\theta_a$ for polarization and of $\\varphi_a$ for parity and then conduct measurements of each component. Based on our previous definitions we now derive the correlation function for this experiment."
   ]
  },
  {
   "cell_type": "code",
   "execution_count": 18,
   "metadata": {
    "scrolled": true
   },
   "outputs": [
    {
     "data": {
      "text/latex": [
       "$\\displaystyle \\left[\\begin{matrix}0.5 \\cos^{2}{\\left(\\frac{\\varphi}{2} \\right)} & 0.25 i \\sin{\\left(\\varphi \\right)} & 0.5 \\cos{\\left(\\frac{\\varphi}{2} \\right)} & 0\\\\- 0.25 i \\sin{\\left(\\varphi \\right)} & 0.5 \\sin^{2}{\\left(\\frac{\\varphi}{2} \\right)} & - 0.5 i \\sin{\\left(\\frac{\\varphi}{2} \\right)} & 0\\\\0.5 \\cos{\\left(\\frac{\\varphi}{2} \\right)} & 0.5 i \\sin{\\left(\\frac{\\varphi}{2} \\right)} & 0.5 & 0\\\\0 & 0 & 0 & 0\\end{matrix}\\right]$"
      ],
      "text/plain": [
       "Matrix([\n",
       "[0.5*cos(varphi/2)**2,   0.25*I*sin(varphi),    0.5*cos(varphi/2), 0],\n",
       "[ -0.25*I*sin(varphi), 0.5*sin(varphi/2)**2, -0.5*I*sin(varphi/2), 0],\n",
       "[   0.5*cos(varphi/2),  0.5*I*sin(varphi/2),                  0.5, 0],\n",
       "[                   0,                    0,                    0, 0]])"
      ]
     },
     "execution_count": 18,
     "metadata": {},
     "output_type": "execute_result"
    }
   ],
   "source": [
    "J = sqrt(1/2)*Matrix([cos(p/2),I*sin(p/2),1,0])\n",
    "G_A = trigsimp(conjugate(J)*J.T)\n",
    "G_A #The input beam G matrix before the transformations"
   ]
  },
  {
   "cell_type": "markdown",
   "metadata": {},
   "source": [
    "#### Calculation of $D_{pol}$ and $D_{par}$"
   ]
  },
  {
   "cell_type": "code",
   "execution_count": 19,
   "metadata": {},
   "outputs": [
    {
     "data": {
      "text/latex": [
       "$\\displaystyle \\left[\\begin{matrix}0.5 & 0.5 \\cos{\\left(\\frac{\\varphi}{2} \\right)}\\\\0.5 \\cos{\\left(\\frac{\\varphi}{2} \\right)} & 0.5\\end{matrix}\\right]$"
      ],
      "text/plain": [
       "Matrix([\n",
       "[              0.5, 0.5*cos(varphi/2)],\n",
       "[0.5*cos(varphi/2),               0.5]])"
      ]
     },
     "execution_count": 19,
     "metadata": {},
     "output_type": "execute_result"
    }
   ],
   "source": [
    "G_pol_A = par_tr_G_pol(G_A)\n",
    "G_pol_A"
   ]
  },
  {
   "cell_type": "code",
   "execution_count": 20,
   "metadata": {
    "scrolled": true
   },
   "outputs": [
    {
     "data": {
      "text/latex": [
       "$\\displaystyle \\left[\\begin{matrix}0.5 \\cos^{2}{\\left(\\frac{\\varphi}{2} \\right)} + 0.5 & 0.25 i \\sin{\\left(\\varphi \\right)}\\\\- 0.25 i \\sin{\\left(\\varphi \\right)} & 0.5 \\sin^{2}{\\left(\\frac{\\varphi}{2} \\right)}\\end{matrix}\\right]$"
      ],
      "text/plain": [
       "Matrix([\n",
       "[0.5*cos(varphi/2)**2 + 0.5,   0.25*I*sin(varphi)],\n",
       "[       -0.25*I*sin(varphi), 0.5*sin(varphi/2)**2]])"
      ]
     },
     "execution_count": 20,
     "metadata": {},
     "output_type": "execute_result"
    }
   ],
   "source": [
    "G_par_A = par_tr_G_par(G_A)\n",
    "G_par_A"
   ]
  },
  {
   "cell_type": "code",
   "execution_count": 21,
   "metadata": {
    "scrolled": true
   },
   "outputs": [
    {
     "data": {
      "text/latex": [
       "$\\displaystyle 1.0 \\left|{\\cos{\\left(\\frac{\\varphi}{2} \\right)}}\\right|$"
      ],
      "text/plain": [
       "1.0*Abs(cos(varphi/2))"
      ]
     },
     "execution_count": 21,
     "metadata": {},
     "output_type": "execute_result"
    }
   ],
   "source": [
    "D_pol_A=app_coh(G_pol_A)\n",
    "D_pol_A# Prints D_pol"
   ]
  },
  {
   "cell_type": "code",
   "execution_count": 22,
   "metadata": {
    "scrolled": true
   },
   "outputs": [
    {
     "data": {
      "text/latex": [
       "$\\displaystyle 0.707106781186548 \\sqrt{\\cos{\\left(\\varphi \\right)} + 1}$"
      ],
      "text/plain": [
       "0.707106781186548*sqrt(cos(varphi) + 1)"
      ]
     },
     "execution_count": 22,
     "metadata": {},
     "output_type": "execute_result"
    }
   ],
   "source": [
    "D_par_A=app_coh(G_par_A)\n",
    "D_par_A# Prints D_par"
   ]
  },
  {
   "cell_type": "markdown",
   "metadata": {},
   "source": [
    "#### Calculation of the Correlation Function and $B_{max}$"
   ]
  },
  {
   "cell_type": "code",
   "execution_count": 23,
   "metadata": {},
   "outputs": [
    {
     "data": {
      "text/latex": [
       "$\\displaystyle 1.0 \\sin{\\left(\\theta_{a} \\right)} \\cos{\\left(\\frac{\\varphi}{2} + \\varphi_{a} \\right)} - 0.5 \\cos{\\left(\\theta_{a} \\right)} \\cos{\\left(\\varphi_{a} \\right)} + 0.5 \\cos{\\left(\\theta_{a} \\right)} \\cos{\\left(\\varphi + \\varphi_{a} \\right)}$"
      ],
      "text/plain": [
       "1.0*sin(theta_a)*cos(varphi/2 + varphi_a) - 0.5*cos(theta_a)*cos(varphi_a) + 0.5*cos(theta_a)*cos(varphi + varphi_a)"
      ]
     },
     "execution_count": 23,
     "metadata": {},
     "output_type": "execute_result"
    }
   ],
   "source": [
    "G_out_A = conjugate(A_SLM)*conjugate(A_HWP)*G_A*A_HWP.T*A_SLM.T #Transformed matrix\n",
    "C_ta_pa_A = trigsimp(corr_prob(G_out_A)/trace_G(G_out_A))\n",
    "C_ta_pa_A"
   ]
  },
  {
   "cell_type": "markdown",
   "metadata": {},
   "source": [
    "As we can see from above this does not actually match the expression provided in [[1](#ref-1)]. While this initially baffled us we came to a conclusion that this expression is infact correct as per the aim of the paper. Moreover this actually reproduces the experimental results they obtained while in contrast their correlation function fails to do it as well. Also the optimized Bmax values fit with the relation which the paper claims if our correlation function is used instead of theirs.\n",
    "The optimization procedure that we chose to go ahead with is just normal numerical optimization since otherwise we would have had to make the gradient zero and run through all possible cases where the gradient vanishes which would have been a lengthy procedure."
   ]
  },
  {
   "cell_type": "markdown",
   "metadata": {},
   "source": [
    "#### GRAPHS FOR EXPERIMENT A"
   ]
  },
  {
   "cell_type": "code",
   "execution_count": 24,
   "metadata": {},
   "outputs": [
    {
     "data": {
      "application/vnd.jupyter.widget-view+json": {
       "model_id": "4467a01812a44899b64a8b97ab7c7e6b",
       "version_major": 2,
       "version_minor": 0
      },
      "text/plain": [
       "interactive(children=(Dropdown(description='option', options=('Hide All', 'D', 'B', 'S', 'Show All'), value='H…"
      ]
     },
     "metadata": {},
     "output_type": "display_data"
    }
   ],
   "source": [
    "def expAPlots(option):\n",
    "    num_space=102\n",
    "    phi=np.linspace(0, 2*np.pi, num_space)\n",
    "    bmax=bmaxfinder(C_ta_pa_A,phi)\n",
    "    dpol=dfinder(D_pol_A,phi)\n",
    "    dpar=dfinder(D_par_A,phi)\n",
    "    spol=sfinder(dpol,bmax)\n",
    "    spar=sfinder(dpar,bmax)\n",
    "    d=dpol\n",
    "    s=spol\n",
    "    \n",
    "    if option!='Hide All':        \n",
    "    \n",
    "        if option=='B':            \n",
    "            fig, ax = plt.subplots(figsize=(7, 7))\n",
    "            plotter(phi,bmax,r'$B_{max}$',r'$\\phi$',r'$B_{max}$',(1,0,0),r'$B_{max}$')\n",
    "            plt.plot(phi,[8**(0.5)]*num_space,color='black', linestyle ='dashed')\n",
    "            plt.plot(phi,[2]*num_space,color='black', linestyle ='dashed')\n",
    "            plt.figtext(s=r'$2\\sqrt{2}$', x=0.15, y=0.77, fontsize=15)\n",
    "            plt.figtext(s=r'$2$', x=0.15, y=0.48, fontsize=15)\n",
    "            plt.ylim(1,3)\n",
    "            plt.show()\n",
    "            \n",
    "        elif option=='S':\n",
    "            fig, ax = plt.subplots(figsize=(7, 7))\n",
    "            plotter(phi,spol,r'$S_{pol}=S_{par}=1$',r'$\\phi$',r'$S_{pol}\\ \\slash\\ S_{par}$',(1,0,0),r'$s_{pol}$')\n",
    "            plotter(phi,spar,r'$S_{pol}=S_{par}=1$',r'$\\phi$',r'$S_{pol}\\ \\slash\\ S_{par}$',(0,0,1),r'$s_{par}$')\n",
    "            plt.ylim(0,1.1) \n",
    "            plt.legend()\n",
    "            plt.show()\n",
    "            \n",
    "        elif option=='D':         \n",
    "            fig, ax = plt.subplots(figsize=(7, 7))\n",
    "            plotter(phi,dpol,r'$D_{pol}\\ and\\ D_{par}$',r'$\\phi$',r'$D_{pol}\\ \\slash\\ D_{par}$',(1,0,0),r'$d_{pol}$')\n",
    "            plotter(phi,dpar,r'$D_{pol}\\ and\\ D_{par}$',r'$\\phi$',r'$D_{pol}\\ \\slash\\ D_{par}$',(0,0,1),r'$d_{pol}$')\n",
    "            plt.ylim(0,1.1)\n",
    "            plt.legend()\n",
    "            plt.show()\n",
    "            \n",
    "        else:\n",
    "            fig, ax = plt.subplots(figsize=(7, 7))\n",
    "            plotter(phi,dpol,r'$D_{pol}\\ and\\ D_{par}$',r'$\\phi$',r'$D_{pol}\\ \\slash\\ D_{par}$',(1,0,0),r'$d_{pol}$')\n",
    "            plotter(phi,dpar,r'$D_{pol}\\ and\\ D_{par}$',r'$\\phi$',r'$D_{pol}\\ \\slash\\ D_{par}$',(0,0,1),r'$d_{pol}$')\n",
    "            plt.ylim(0,1.1)\n",
    "            plt.legend()\n",
    "            plt.show()\n",
    "            fig, ax = plt.subplots(figsize=(7, 7))\n",
    "            plotter(phi,bmax,r'$B_{max}$',r'$\\phi$',r'$B_{max}$',(1,0,0),r'$B_{max}$')\n",
    "            plt.plot(phi,[8**(0.5)]*num_space,color='black', linestyle ='dashed')\n",
    "            plt.plot(phi,[2]*num_space,color='black', linestyle ='dashed')\n",
    "            plt.figtext(s=r'$2\\sqrt{2}$', x=0.15, y=0.77, fontsize=15)\n",
    "            plt.figtext(s=r'$2$', x=0.15, y=0.48, fontsize=15)\n",
    "            plt.ylim(1,3)\n",
    "            plt.show()\n",
    "            fig, ax = plt.subplots(figsize=(7, 7))\n",
    "            plotter(phi,spol,r'$S_{pol}=S_{par}=1$',r'$\\phi$',r'$S_{pol}\\ \\slash\\ S_{par}$',(1,0,0),r'$s_{pol}$')\n",
    "            plotter(phi,spar,r'$S_{pol}=S_{par}=1$',r'$\\phi$',r'$S_{pol}\\ \\slash\\ S_{par}$',(0,0,1),r'$s_{par}$')\n",
    "            plt.ylim(0,1.1) \n",
    "            plt.legend()\n",
    "            plt.show()\n",
    "            \n",
    "            \n",
    "        plt.show()\n",
    "    \n",
    "    else:       \n",
    "        clear_output()\n",
    "    return\n",
    "\n",
    "interact(expAPlots, option=['Hide All', 'D', 'B', 'S', 'Show All']);"
   ]
  },
  {
   "cell_type": "code",
   "execution_count": 25,
   "metadata": {
    "scrolled": false
   },
   "outputs": [
    {
     "data": {
      "application/vnd.jupyter.widget-view+json": {
       "model_id": "4d5ef99551d249eba13c7eb84d407233",
       "version_major": 2,
       "version_minor": 0
      },
      "text/plain": [
       "interactive(children=(FloatSlider(value=1.0471975511965976, continuous_update=False, description='phi', layout…"
      ]
     },
     "metadata": {},
     "output_type": "display_data"
    }
   ],
   "source": [
    "def expAContours(phi):\n",
    "    function=C_ta_pa_A\n",
    "    contourplotter(function,phi,r'$C(\\theta_a,\\phi_a)$',r'$\\theta_a$',r'$\\phi_a$')\n",
    "    return\n",
    "interact(expAContours, phi=widgets.FloatSlider(min=0, max=2*np.pi, step=0.02, value=np.pi/3, continuous_update=False, layout=Layout(width='600px')));"
   ]
  },
  {
   "cell_type": "markdown",
   "metadata": {},
   "source": [
    "As it can be seen in the above graphs, our degree of coherence $S$ and also $S_\\text{pol}$ and $S_\\text{par}$ stay at the value of 1 throughout and are invariant to any unitary transformation done on the system. As we vary the angle $\\phi$ we can see that the coupling is maximized at $\\phi=\\pi$ at which moment the apparent degrees of coherence go to zero since all of our original coherency is present in the form of coupling."
   ]
  },
  {
   "cell_type": "markdown",
   "metadata": {},
   "source": [
    "### 4.2 Experiment B\n",
    "Here starting with the same $\\mathbf{J}_{in}$ the polarization is scrambled using a variable polarization rotator which does not affect the spatial DoF so we have $D_\\text{pol} = 0$ and $D_\\text{par} = 1$. Now this beam is sent through a PS-SLM which would couple the DoFs. We now go on to derive the correlation function for this"
   ]
  },
  {
   "cell_type": "code",
   "execution_count": 26,
   "metadata": {
    "scrolled": false
   },
   "outputs": [
    {
     "data": {
      "text/latex": [
       "$\\displaystyle \\left[\\begin{matrix}0.5 \\cos^{2}{\\left(\\frac{\\varphi}{2} \\right)} & 0.5 i \\sin{\\left(\\frac{\\varphi}{2} \\right)} \\cos{\\left(\\frac{\\varphi}{2} \\right)} & 0 & 0\\\\- 0.5 i \\sin{\\left(\\frac{\\varphi}{2} \\right)} \\cos{\\left(\\frac{\\varphi}{2} \\right)} & 0.5 \\sin^{2}{\\left(\\frac{\\varphi}{2} \\right)} & 0 & 0\\\\0 & 0 & 0.5 & 0\\\\0 & 0 & 0 & 0\\end{matrix}\\right]$"
      ],
      "text/plain": [
       "Matrix([\n",
       "[              0.5*cos(varphi/2)**2, 0.5*I*sin(varphi/2)*cos(varphi/2),   0, 0],\n",
       "[-0.5*I*sin(varphi/2)*cos(varphi/2),              0.5*sin(varphi/2)**2,   0, 0],\n",
       "[                                 0,                                 0, 0.5, 0],\n",
       "[                                 0,                                 0,   0, 0]])"
      ]
     },
     "execution_count": 26,
     "metadata": {},
     "output_type": "execute_result"
    }
   ],
   "source": [
    "G_B = (1/2)*Matrix([[cos(p/2)**2, I*cos(p/2)*sin(p/2), 0, 0],[-I*cos(p/2)*sin(p/2), sin(p/2)**2, 0,0],\n",
    "            [0,0,1,0],[0,0,0,0]])\n",
    "G_B #The input beam G matrix before the transformations"
   ]
  },
  {
   "cell_type": "markdown",
   "metadata": {},
   "source": [
    "#### Calculation of $D_{pol}$ and $D_{par}$"
   ]
  },
  {
   "cell_type": "code",
   "execution_count": 27,
   "metadata": {},
   "outputs": [
    {
     "data": {
      "text/latex": [
       "$\\displaystyle \\left[\\begin{matrix}0.5 & 0\\\\0 & 0.5\\end{matrix}\\right]$"
      ],
      "text/plain": [
       "Matrix([\n",
       "[0.5,   0],\n",
       "[  0, 0.5]])"
      ]
     },
     "execution_count": 27,
     "metadata": {},
     "output_type": "execute_result"
    }
   ],
   "source": [
    "G_pol_B = par_tr_G_pol(G_B)\n",
    "G_pol_B"
   ]
  },
  {
   "cell_type": "code",
   "execution_count": 28,
   "metadata": {
    "scrolled": true
   },
   "outputs": [
    {
     "data": {
      "text/latex": [
       "$\\displaystyle \\left[\\begin{matrix}0.5 \\cos^{2}{\\left(\\frac{\\varphi}{2} \\right)} + 0.5 & 0.5 i \\sin{\\left(\\frac{\\varphi}{2} \\right)} \\cos{\\left(\\frac{\\varphi}{2} \\right)}\\\\- 0.5 i \\sin{\\left(\\frac{\\varphi}{2} \\right)} \\cos{\\left(\\frac{\\varphi}{2} \\right)} & 0.5 \\sin^{2}{\\left(\\frac{\\varphi}{2} \\right)}\\end{matrix}\\right]$"
      ],
      "text/plain": [
       "Matrix([\n",
       "[        0.5*cos(varphi/2)**2 + 0.5, 0.5*I*sin(varphi/2)*cos(varphi/2)],\n",
       "[-0.5*I*sin(varphi/2)*cos(varphi/2),              0.5*sin(varphi/2)**2]])"
      ]
     },
     "execution_count": 28,
     "metadata": {},
     "output_type": "execute_result"
    }
   ],
   "source": [
    "G_par_B = par_tr_G_par(G_B)\n",
    "G_par_B"
   ]
  },
  {
   "cell_type": "code",
   "execution_count": 29,
   "metadata": {
    "scrolled": true
   },
   "outputs": [
    {
     "data": {
      "text/latex": [
       "$\\displaystyle 0$"
      ],
      "text/plain": [
       "0"
      ]
     },
     "execution_count": 29,
     "metadata": {},
     "output_type": "execute_result"
    }
   ],
   "source": [
    "D_pol_B=app_coh(G_pol_B)\n",
    "D_pol_B# Prints D_pol"
   ]
  },
  {
   "cell_type": "code",
   "execution_count": 30,
   "metadata": {
    "scrolled": true
   },
   "outputs": [
    {
     "data": {
      "text/latex": [
       "$\\displaystyle 0.707106781186548 \\sqrt{\\cos{\\left(\\varphi \\right)} + 1}$"
      ],
      "text/plain": [
       "0.707106781186548*sqrt(cos(varphi) + 1)"
      ]
     },
     "execution_count": 30,
     "metadata": {},
     "output_type": "execute_result"
    }
   ],
   "source": [
    "D_par_B=app_coh(G_par_B)\n",
    "D_par_B"
   ]
  },
  {
   "cell_type": "markdown",
   "metadata": {},
   "source": [
    "#### Calculation of the Correlation Function and $B_{max}$"
   ]
  },
  {
   "cell_type": "code",
   "execution_count": 31,
   "metadata": {},
   "outputs": [
    {
     "data": {
      "text/latex": [
       "$\\displaystyle 0.5 \\left(- \\cos{\\left(\\varphi_{a} \\right)} + \\cos{\\left(\\varphi + \\varphi_{a} \\right)}\\right) \\cos{\\left(\\theta_{a} \\right)}$"
      ],
      "text/plain": [
       "0.5*(-cos(varphi_a) + cos(varphi + varphi_a))*cos(theta_a)"
      ]
     },
     "execution_count": 31,
     "metadata": {},
     "output_type": "execute_result"
    }
   ],
   "source": [
    "G_out_B = conjugate(A_SLM)*conjugate(A_HWP)*G_B*A_HWP.T*A_SLM.T #Transformed matrix\n",
    "C_ta_pa_B = trigsimp(corr_prob(G_out_B)/trace_G(G_out_B))\n",
    "C_ta_pa_B"
   ]
  },
  {
   "cell_type": "markdown",
   "metadata": {},
   "source": [
    "We have now seen that our expression for the correlation function matches the exact one obtained in the reference \\[topic2\\]. We now go ahead to optimize our expression for B and obtain the other plots below. On a sidenote one can actually traditionally find the maxima for the $B$ expression here since it is simpler to look at. The condition where it is maximized is when $\\phi_a=\\phi_b=(\\pi-\\phi)/2$ and $\\theta_a = \\theta_b = 0$ or $\\pi$ which can be verified by looking at the gradient."
   ]
  },
  {
   "cell_type": "markdown",
   "metadata": {},
   "source": [
    "#### GRAPHS FOR EXPERIMENT B"
   ]
  },
  {
   "cell_type": "code",
   "execution_count": 32,
   "metadata": {
    "scrolled": false
   },
   "outputs": [
    {
     "data": {
      "application/vnd.jupyter.widget-view+json": {
       "model_id": "9197646c5f094e4d91ba5c9b0ed63411",
       "version_major": 2,
       "version_minor": 0
      },
      "text/plain": [
       "interactive(children=(Dropdown(description='option', options=('Hide All', 'D', 'B', 'S', 'Show All'), value='H…"
      ]
     },
     "metadata": {},
     "output_type": "display_data"
    }
   ],
   "source": [
    "def expBPlots(option):\n",
    "    num_space=102\n",
    "    phi=np.linspace(0, 2*np.pi, num_space)\n",
    "    bmax=bmaxfinder(C_ta_pa_B,phi)\n",
    "    dpol=dfinder(D_pol_B,phi)\n",
    "    dpar=dfinder(D_par_B,phi)\n",
    "    spol=sfinder(dpol,bmax)\n",
    "    spar=sfinder(dpar,bmax)\n",
    "    \n",
    "    if option!='Hide All':        \n",
    "    \n",
    "        if option=='B':            \n",
    "            fig, ax = plt.subplots(figsize=(7, 7))\n",
    "            plotter(phi,bmax,r'$B_{max}$',r'$\\phi$',r'$B_{max}$',(1,0,0),r'$B_{max}$')\n",
    "            plt.plot(phi,[2]*num_space,color='black', linestyle ='dashed')\n",
    "            plt.ylim(0,2.5)\n",
    "            plt.show()\n",
    "            \n",
    "        elif option=='S':\n",
    "            fig, ax = plt.subplots(figsize=(7, 7))\n",
    "            plotter(phi,spol,r'$S_{pol}=S_{par}=1$',r'$\\phi$',r'$S_{pol}\\ \\slash\\ S_{par}$',(1,0,0),r'$s_{pol}$')\n",
    "            plotter(phi,spar,r'$S_{pol}=S_{par}=1$',r'$\\phi$',r'$S_{pol}\\ \\slash\\ S_{par}$',(0,0,1),r'$s_{par}$')\n",
    "            plt.ylim(0,1.1) \n",
    "            plt.legend()\n",
    "            plt.show()\n",
    "            \n",
    "        elif option=='D':         \n",
    "            fig, ax = plt.subplots(figsize=(7, 7))\n",
    "            plotter(phi,dpol,r'$D_{pol}\\ and\\ D_{par}$',r'$\\phi$',r'$D_{pol}\\ \\slash\\ D_{par}$',(1,0,0),r'$d_{pol}$')\n",
    "            plotter(phi,dpar,r'$D_{pol}\\ and\\ D_{par}$',r'$\\phi$',r'$D_{pol}\\ \\slash\\ D_{par}$',(0,0,1),r'$d_{pol}$')\n",
    "            plt.ylim(-0.1,1.1)\n",
    "            plt.legend()\n",
    "            plt.show()\n",
    "            \n",
    "        else:\n",
    "            fig, ax = plt.subplots(figsize=(7, 7))\n",
    "            plotter(phi,dpol,r'$D_{pol}\\ and\\ D_{par}$',r'$\\phi$',r'$D_{pol}\\ \\slash\\ D_{par}$',(1,0,0),r'$d_{pol}$')\n",
    "            plotter(phi,dpar,r'$D_{pol}\\ and\\ D_{par}$',r'$\\phi$',r'$D_{pol}\\ \\slash\\ D_{par}$',(0,0,1),r'$d_{pol}$')\n",
    "            plt.ylim(-0.1,1.1)\n",
    "            plt.legend()\n",
    "            plt.show()\n",
    "            fig, ax = plt.subplots(figsize=(7, 7))\n",
    "            plotter(phi,bmax,r'$B_{max}$',r'$\\phi$',r'$B_{max}$',(1,0,0),r'$B_{max}$')\n",
    "            plt.plot(phi,[2]*num_space,color='black', linestyle ='dashed')\n",
    "            plt.ylim(0,2.5)\n",
    "            plt.show()\n",
    "            fig, ax = plt.subplots(figsize=(7, 7))\n",
    "            plotter(phi,spol,r'$S_{pol}=S_{par}=1$',r'$\\phi$',r'$S_{pol}\\ \\slash\\ S_{par}$',(1,0,0),r'$s_{pol}$')\n",
    "            plotter(phi,spar,r'$S_{pol}=S_{par}=1$',r'$\\phi$',r'$S_{pol}\\ \\slash\\ S_{par}$',(0,0,1),r'$s_{par}$')\n",
    "            plt.ylim(0,1.1) \n",
    "            plt.legend()\n",
    "            plt.show()\n",
    "            \n",
    "            \n",
    "        plt.show()\n",
    "    \n",
    "    else:       \n",
    "        clear_output()\n",
    "    return\n",
    "\n",
    "interact(expBPlots, option=['Hide All', 'D', 'B', 'S', 'Show All']);"
   ]
  },
  {
   "cell_type": "code",
   "execution_count": 33,
   "metadata": {
    "scrolled": false
   },
   "outputs": [
    {
     "data": {
      "application/vnd.jupyter.widget-view+json": {
       "model_id": "6521a4cbd46a4724972731a3c627c6ec",
       "version_major": 2,
       "version_minor": 0
      },
      "text/plain": [
       "interactive(children=(FloatSlider(value=1.0471975511965976, continuous_update=False, description='phi', layout…"
      ]
     },
     "metadata": {},
     "output_type": "display_data"
    }
   ],
   "source": [
    "def expBContours(phi):\n",
    "    function=C_ta_pa_B\n",
    "    contourplotter(function,phi,r'$C(\\theta_a,\\phi_a)$',r'$\\theta_a$',r'$\\phi_a$')\n",
    "    return\n",
    "interact(expBContours, phi=widgets.FloatSlider(min=0, max=2*np.pi, step=0.02, value=np.pi/3, continuous_update=False, layout=Layout(width='600px')));"
   ]
  },
  {
   "cell_type": "markdown",
   "metadata": {},
   "source": [
    "### 4.3 Experiment C\n",
    "In this experiment we again start with the same $\\mathbf{J}_{in}$ and an interaction is considered that makes it have a random coupling. It has a probability $P$ to couple polarization and parity and $1-P$ to not achieved by randomly toggling between two phase distributions of the PS-SLM, one with $\\pi/2\\text{sgn}(x)$ phase and another with zero phase where $P$ is the fraction of time that the PS-SLM displays the first phase pattern. From this we go on to derive it's correlation function."
   ]
  },
  {
   "cell_type": "code",
   "execution_count": 34,
   "metadata": {},
   "outputs": [
    {
     "data": {
      "text/latex": [
       "$\\displaystyle \\left[\\begin{matrix}\\frac{1}{2} - \\frac{P}{2} & 0 & \\frac{1}{2} - \\frac{P}{2} & 0\\\\0 & \\frac{P}{2} & - \\frac{i P}{2} & 0\\\\\\frac{1}{2} - \\frac{P}{2} & \\frac{i P}{2} & \\frac{1}{2} & 0\\\\0 & 0 & 0 & 0\\end{matrix}\\right]$"
      ],
      "text/plain": [
       "Matrix([\n",
       "[1/2 - P/2,     0, 1/2 - P/2, 0],\n",
       "[        0,   P/2,    -I*P/2, 0],\n",
       "[1/2 - P/2, I*P/2,       1/2, 0],\n",
       "[        0,     0,         0, 0]])"
      ]
     },
     "execution_count": 34,
     "metadata": {},
     "output_type": "execute_result"
    }
   ],
   "source": [
    "J_ent = (1/sqrt(2))*Matrix([0, I, 1, 0])#Entagled state\n",
    "J_in = (1/sqrt(2))*Matrix([1, 0, 1, 0])#Input state\n",
    "G_C = P*conjugate(J_ent)*J_ent.T + (1-P)*conjugate(J_in)*J_in.T\n",
    "G_C"
   ]
  },
  {
   "cell_type": "markdown",
   "metadata": {},
   "source": [
    "#### Calculation of $D_{pol}$ and $D_{par}$"
   ]
  },
  {
   "cell_type": "code",
   "execution_count": 35,
   "metadata": {},
   "outputs": [
    {
     "data": {
      "text/latex": [
       "$\\displaystyle \\left[\\begin{matrix}\\frac{1}{2} & \\frac{1}{2} - \\frac{P}{2}\\\\\\frac{1}{2} - \\frac{P}{2} & \\frac{1}{2}\\end{matrix}\\right]$"
      ],
      "text/plain": [
       "Matrix([\n",
       "[      1/2, 1/2 - P/2],\n",
       "[1/2 - P/2,       1/2]])"
      ]
     },
     "execution_count": 35,
     "metadata": {},
     "output_type": "execute_result"
    }
   ],
   "source": [
    "G_pol_C = par_tr_G_pol(G_C)\n",
    "G_pol_C"
   ]
  },
  {
   "cell_type": "code",
   "execution_count": 36,
   "metadata": {
    "scrolled": true
   },
   "outputs": [
    {
     "data": {
      "text/latex": [
       "$\\displaystyle \\left[\\begin{matrix}1 - \\frac{P}{2} & 0\\\\0 & \\frac{P}{2}\\end{matrix}\\right]$"
      ],
      "text/plain": [
       "Matrix([\n",
       "[1 - P/2,   0],\n",
       "[      0, P/2]])"
      ]
     },
     "execution_count": 36,
     "metadata": {},
     "output_type": "execute_result"
    }
   ],
   "source": [
    "G_par_C = par_tr_G_par(G_C)\n",
    "G_par_C"
   ]
  },
  {
   "cell_type": "code",
   "execution_count": 37,
   "metadata": {
    "scrolled": true
   },
   "outputs": [
    {
     "data": {
      "text/latex": [
       "$\\displaystyle \\left|{P - 1}\\right|$"
      ],
      "text/plain": [
       "Abs(P - 1)"
      ]
     },
     "execution_count": 37,
     "metadata": {},
     "output_type": "execute_result"
    }
   ],
   "source": [
    "D_pol_C=app_coh(G_pol_C)\n",
    "simplify(D_pol_C)# Prints D_pol"
   ]
  },
  {
   "cell_type": "code",
   "execution_count": 38,
   "metadata": {
    "scrolled": true
   },
   "outputs": [
    {
     "data": {
      "text/latex": [
       "$\\displaystyle \\sqrt{- P \\left(2 - P\\right) + 1}$"
      ],
      "text/plain": [
       "sqrt(-P*(2 - P) + 1)"
      ]
     },
     "execution_count": 38,
     "metadata": {},
     "output_type": "execute_result"
    }
   ],
   "source": [
    "D_par_C=app_coh(G_par_C)\n",
    "D_par_C"
   ]
  },
  {
   "cell_type": "markdown",
   "metadata": {},
   "source": [
    "#### Calculation of the Correlation Function and $B_{max}$"
   ]
  },
  {
   "cell_type": "code",
   "execution_count": 39,
   "metadata": {},
   "outputs": [
    {
     "data": {
      "text/latex": [
       "$\\displaystyle - \\sqrt{2} P \\sin{\\left(\\theta_{a} \\right)} \\sin{\\left(\\varphi_{a} + \\frac{\\pi}{4} \\right)} - P \\cos{\\left(\\theta_{a} \\right)} \\cos{\\left(\\varphi_{a} \\right)} + \\sin{\\left(\\theta_{a} \\right)} \\cos{\\left(\\varphi_{a} \\right)}$"
      ],
      "text/plain": [
       "-sqrt(2)*P*sin(theta_a)*sin(varphi_a + pi/4) - P*cos(theta_a)*cos(varphi_a) + sin(theta_a)*cos(varphi_a)"
      ]
     },
     "execution_count": 39,
     "metadata": {},
     "output_type": "execute_result"
    }
   ],
   "source": [
    "G_out_C = conjugate(A_SLM)*conjugate(A_HWP)*G_C*A_HWP.T*A_SLM.T #Transformed matrix\n",
    "C_ta_pa_C = trigsimp(corr_prob(G_out_C)/trace_G(G_out_C))\n",
    "C_ta_pa_C"
   ]
  },
  {
   "cell_type": "code",
   "execution_count": 40,
   "metadata": {},
   "outputs": [
    {
     "data": {
      "text/latex": [
       "$\\displaystyle 0$"
      ],
      "text/plain": [
       "0"
      ]
     },
     "execution_count": 40,
     "metadata": {},
     "output_type": "execute_result"
    }
   ],
   "source": [
    "simplify(C_ta_pa_C - ((1-P)*sin(ta)*cos(pa) - P*cos(ta-pa)))"
   ]
  },
  {
   "cell_type": "markdown",
   "metadata": {},
   "source": [
    "As we have shown in the cell above the correlation function we have derived matches exactly with the function that the paper provides. We again use numerical methods to maximize this function since optimizing by minimization of gradient would take considerably long to do. Our results shown below match up consistently with those shown in [[1](#ref-1)]."
   ]
  },
  {
   "cell_type": "markdown",
   "metadata": {},
   "source": [
    "#### GRAPHS FOR EXPERIMENT C"
   ]
  },
  {
   "cell_type": "code",
   "execution_count": 41,
   "metadata": {
    "scrolled": false
   },
   "outputs": [
    {
     "data": {
      "application/vnd.jupyter.widget-view+json": {
       "model_id": "115ba6773389419aae919faf45d08aff",
       "version_major": 2,
       "version_minor": 0
      },
      "text/plain": [
       "interactive(children=(Dropdown(description='option', options=('Hide All', 'D', 'B', 'S', 'Show All'), value='H…"
      ]
     },
     "metadata": {},
     "output_type": "display_data"
    }
   ],
   "source": [
    "def expCPlots(option):\n",
    "    num_space=102\n",
    "    P=np.linspace(0, 1, num_space)\n",
    "    bmax=bmaxfinderC(C_ta_pa_C,P)\n",
    "    dpol=dfinderC(D_pol_C,P)\n",
    "    dpar=dfinderC(D_par_C,P)\n",
    "    spol=sfinder(dpol,bmax)\n",
    "    spar=sfinder(dpar,bmax)\n",
    "    \n",
    "    if option!='Hide All':        \n",
    "    \n",
    "        if option=='B':            \n",
    "            fig, ax = plt.subplots(figsize=(7, 7))\n",
    "            plotterC(P,bmax,r'$B_{max}$',r'$\\phi$',r'$B_{max}$',(1,0,0),r'$B_{max}$')\n",
    "            plt.plot(P,[2]*num_space,color='black', linestyle ='dashed')\n",
    "            plt.ylim(1,3)\n",
    "            plt.show()\n",
    "            \n",
    "        elif option=='S':\n",
    "            fig, ax = plt.subplots(figsize=(7, 7))\n",
    "            plotterC(P,spol,r'$S_{pol}=S_{par}=1$',r'$\\phi$',r'$S_{pol}\\ \\slash\\ S_{par}$',(1,0,0),r'$s_{pol}$')\n",
    "            plotterC(P,spar,r'$S_{pol}=S_{par}=1$',r'$\\phi$',r'$S_{pol}\\ \\slash\\ S_{par}$',(0,0,1),r'$s_{par}$')\n",
    "            plt.ylim(0,1.1) \n",
    "            plt.legend()\n",
    "            plt.show()\n",
    "            \n",
    "        elif option=='D':         \n",
    "            fig, ax = plt.subplots(figsize=(7, 7))\n",
    "            plotterC(P,dpol,r'$D_{pol}\\ and\\ D_{par}$',r'$\\phi$',r'$D_{pol}\\ \\slash\\ D_{par}$',(1,0,0),r'$d_{pol}$')\n",
    "            plotterC(P,dpar,r'$D_{pol}\\ and\\ D_{par}$',r'$\\phi$',r'$D_{pol}\\ \\slash\\ D_{par}$',(0,0,1),r'$d_{pol}$')\n",
    "            plt.ylim(-0.1,1.1)\n",
    "            plt.legend()\n",
    "            plt.show()\n",
    "            \n",
    "        else:\n",
    "            fig, ax = plt.subplots(figsize=(7, 7))\n",
    "            plotterC(P,dpol,r'$D_{pol}\\ and\\ D_{par}$',r'$\\phi$',r'$D_{pol}\\ \\slash\\ D_{par}$',(1,0,0),r'$d_{pol}$')\n",
    "            plotterC(P,dpar,r'$D_{pol}\\ and\\ D_{par}$',r'$\\phi$',r'$D_{pol}\\ \\slash\\ D_{par}$',(0,0,1),r'$d_{pol}$')\n",
    "            plt.ylim(-0.1,1.1)\n",
    "            plt.legend()\n",
    "            plt.show()\n",
    "            fig, ax = plt.subplots(figsize=(7, 7))\n",
    "            plotterC(P,bmax,r'$B_{max}$',r'$\\phi$',r'$B_{max}$',(1,0,0),r'$B_{max}$')\n",
    "            plt.plot(P,[2]*num_space,color='black', linestyle ='dashed')\n",
    "            plt.ylim(1,3)\n",
    "            plt.show()\n",
    "            fig, ax = plt.subplots(figsize=(7, 7))\n",
    "            plotterC(P,spol,r'$S_{pol}=S_{par}=1$',r'$\\phi$',r'$S_{pol}\\ \\slash\\ S_{par}$',(1,0,0),r'$s_{pol}$')\n",
    "            plotterC(P,spar,r'$S_{pol}=S_{par}=1$',r'$\\phi$',r'$S_{pol}\\ \\slash\\ S_{par}$',(0,0,1),r'$s_{par}$')\n",
    "            plt.ylim(0,1.1) \n",
    "            plt.legend()\n",
    "            plt.show()\n",
    "            \n",
    "            \n",
    "        plt.show()\n",
    "    \n",
    "    else:       \n",
    "        clear_output()\n",
    "    return\n",
    "\n",
    "interact(expCPlots, option=['Hide All', 'D', 'B', 'S', 'Show All']);"
   ]
  },
  {
   "cell_type": "code",
   "execution_count": 42,
   "metadata": {
    "scrolled": false
   },
   "outputs": [
    {
     "data": {
      "application/vnd.jupyter.widget-view+json": {
       "model_id": "2abac786ef0547d1a32bc5adca16ab97",
       "version_major": 2,
       "version_minor": 0
      },
      "text/plain": [
       "interactive(children=(FloatSlider(value=0.3333333333333333, continuous_update=False, description='P', layout=L…"
      ]
     },
     "metadata": {},
     "output_type": "display_data"
    }
   ],
   "source": [
    "def expCContours(P):\n",
    "    function=C_ta_pa_C\n",
    "    contourplotterC(function,P,r'$C(\\theta_a,\\phi_a)$',r'$\\theta_a$',r'$\\phi_a$')\n",
    "    return\n",
    "interact(expCContours, P=widgets.FloatSlider(min=0, max=1, step=0.01, value=1/3, continuous_update=False, layout=Layout(width='600px')));"
   ]
  },
  {
   "cell_type": "markdown",
   "metadata": {},
   "source": [
    "## 5. Reduced representation of the two Binary DoFs\n",
    "Write something here"
   ]
  },
  {
   "cell_type": "code",
   "execution_count": 43,
   "metadata": {},
   "outputs": [],
   "source": [
    "def randG():\n",
    "    G=np.zeros([4,4])\n",
    "    G[0,0]=np.random.uniform(0,1)\n",
    "    G[1,1]=np.random.uniform(0,1-np.trace(G))\n",
    "    G[2,2]=np.random.uniform(0,1-np.trace(G))\n",
    "    G[3,3]=1-np.trace(G)\n",
    "    #G=G/np.trace(G)\n",
    "    A = np.random.rand(4,4)*2-ones(4,4)+1j*np.random.rand(4,4)*2-ones(4,4)\n",
    "    U,_=np.linalg.qr(np.random.rand(4,4)+1j*np.random.rand(4,4))\n",
    "    G=(U@G@np.conjugate(np.transpose(U))).round(4)\n",
    "    return G"
   ]
  },
  {
   "cell_type": "code",
   "execution_count": 44,
   "metadata": {},
   "outputs": [],
   "source": [
    "def C_ta_pa(G,t1,p1):\n",
    "    a_hwp_1 = [[-np.cos(t1/2),0,-np.sin(t1/2),0],[0,-np.cos(t1/2),0,-np.sin(t1/2)],[-np.sin(t1/2),0,np.cos(t1/2),0],[0,-np.sin(t1/2),0,np.cos(t1/2)]]\n",
    "    a_slm_1 = [[np.cos(p1/2),1j*np.sin(p1/2),0,0],[1j*np.sin(p1/2),np.cos(p1/2),0,0],[0,0,np.cos(p1/2),1j*np.sin(p1/2)],[0,0,1j*np.sin(p1/2),np.cos(p1/2)]]\n",
    "    G_out=np.conjugate(a_slm_1)*np.conjugate(a_hwp_1)*G*np.conjugate(a_hwp_1)*np.conjugate(a_slm_1)\n",
    "    return np.real((G_out[0,0]-G_out[1,1]-G_out[2,2]+G_out[3,3])/(np.trace(G))).round(8)"
   ]
  },
  {
   "cell_type": "code",
   "execution_count": 45,
   "metadata": {},
   "outputs": [],
   "source": [
    "def B(G,t1,t2,p1,p2):\n",
    "    return abs(C_ta_pa(G,t1,p1)+C_ta_pa(G,t1,p2)+C_ta_pa(G,t2,p1)-C_ta_pa(G,t2,p2))"
   ]
  },
  {
   "cell_type": "code",
   "execution_count": 46,
   "metadata": {},
   "outputs": [],
   "source": [
    "def genS(G):\n",
    "    G_pol = [[G[0,0]+G[1,1],G[0,2]+G[1,3]],[G[2,0]+G[3,1],G[2,2]+G[3,3]]]\n",
    "    G_par = [[G[0,0]+G[2,2],G[0,1]+G[2,3]],[G[1,0]+G[3,2],G[1,1]+G[3,3]]]\n",
    "    \n",
    "    D_pol=sqrt(1-4*(np.linalg.det(G_pol))/((np.trace(G_pol))**2))\n",
    "    D_par=sqrt(1-4*(np.linalg.det(G_par))/((np.trace(G_par))**2))\n",
    "    \n",
    "    bmax=-1*(sc.optimize.minimize(lambda params: -1*abs(B(G,params[0],params[1],params[2],params[3])), [0,0,0,0], method = 'Nelder-Mead').fun)\n",
    "    spol=round(np.real(complex(D_pol**2/2+bmax**2/8)),8)\n",
    "    spar=round(np.real(complex(D_par**2/2+bmax**2/8)),8)\n",
    "    s=round(np.real((4/3)*(np.trace(G@G)-(1/4))),8)\n",
    "    return spol,spar,s"
   ]
  },
  {
   "cell_type": "code",
   "execution_count": null,
   "metadata": {},
   "outputs": [],
   "source": [
    "n=100000\n",
    "x=np.zeros(n)\n",
    "y=np.zeros(n)\n",
    "z=np.zeros(n)\n",
    "for i in range(n):\n",
    "    #print(i)\n",
    "    x[i],y[i],z[i]=genS(randG())\n",
    "rows = zip(x,y,z)"
   ]
  },
  {
   "cell_type": "code",
   "execution_count": 48,
   "metadata": {},
   "outputs": [
    {
     "data": {
      "application/javascript": [
       "/* Put everything inside the global mpl namespace */\n",
       "/* global mpl */\n",
       "window.mpl = {};\n",
       "\n",
       "mpl.get_websocket_type = function () {\n",
       "    if (typeof WebSocket !== 'undefined') {\n",
       "        return WebSocket;\n",
       "    } else if (typeof MozWebSocket !== 'undefined') {\n",
       "        return MozWebSocket;\n",
       "    } else {\n",
       "        alert(\n",
       "            'Your browser does not have WebSocket support. ' +\n",
       "                'Please try Chrome, Safari or Firefox ≥ 6. ' +\n",
       "                'Firefox 4 and 5 are also supported but you ' +\n",
       "                'have to enable WebSockets in about:config.'\n",
       "        );\n",
       "    }\n",
       "};\n",
       "\n",
       "mpl.figure = function (figure_id, websocket, ondownload, parent_element) {\n",
       "    this.id = figure_id;\n",
       "\n",
       "    this.ws = websocket;\n",
       "\n",
       "    this.supports_binary = this.ws.binaryType !== undefined;\n",
       "\n",
       "    if (!this.supports_binary) {\n",
       "        var warnings = document.getElementById('mpl-warnings');\n",
       "        if (warnings) {\n",
       "            warnings.style.display = 'block';\n",
       "            warnings.textContent =\n",
       "                'This browser does not support binary websocket messages. ' +\n",
       "                'Performance may be slow.';\n",
       "        }\n",
       "    }\n",
       "\n",
       "    this.imageObj = new Image();\n",
       "\n",
       "    this.context = undefined;\n",
       "    this.message = undefined;\n",
       "    this.canvas = undefined;\n",
       "    this.rubberband_canvas = undefined;\n",
       "    this.rubberband_context = undefined;\n",
       "    this.format_dropdown = undefined;\n",
       "\n",
       "    this.image_mode = 'full';\n",
       "\n",
       "    this.root = document.createElement('div');\n",
       "    this.root.setAttribute('style', 'display: inline-block');\n",
       "    this._root_extra_style(this.root);\n",
       "\n",
       "    parent_element.appendChild(this.root);\n",
       "\n",
       "    this._init_header(this);\n",
       "    this._init_canvas(this);\n",
       "    this._init_toolbar(this);\n",
       "\n",
       "    var fig = this;\n",
       "\n",
       "    this.waiting = false;\n",
       "\n",
       "    this.ws.onopen = function () {\n",
       "        fig.send_message('supports_binary', { value: fig.supports_binary });\n",
       "        fig.send_message('send_image_mode', {});\n",
       "        if (fig.ratio !== 1) {\n",
       "            fig.send_message('set_dpi_ratio', { dpi_ratio: fig.ratio });\n",
       "        }\n",
       "        fig.send_message('refresh', {});\n",
       "    };\n",
       "\n",
       "    this.imageObj.onload = function () {\n",
       "        if (fig.image_mode === 'full') {\n",
       "            // Full images could contain transparency (where diff images\n",
       "            // almost always do), so we need to clear the canvas so that\n",
       "            // there is no ghosting.\n",
       "            fig.context.clearRect(0, 0, fig.canvas.width, fig.canvas.height);\n",
       "        }\n",
       "        fig.context.drawImage(fig.imageObj, 0, 0);\n",
       "    };\n",
       "\n",
       "    this.imageObj.onunload = function () {\n",
       "        fig.ws.close();\n",
       "    };\n",
       "\n",
       "    this.ws.onmessage = this._make_on_message_function(this);\n",
       "\n",
       "    this.ondownload = ondownload;\n",
       "};\n",
       "\n",
       "mpl.figure.prototype._init_header = function () {\n",
       "    var titlebar = document.createElement('div');\n",
       "    titlebar.classList =\n",
       "        'ui-dialog-titlebar ui-widget-header ui-corner-all ui-helper-clearfix';\n",
       "    var titletext = document.createElement('div');\n",
       "    titletext.classList = 'ui-dialog-title';\n",
       "    titletext.setAttribute(\n",
       "        'style',\n",
       "        'width: 100%; text-align: center; padding: 3px;'\n",
       "    );\n",
       "    titlebar.appendChild(titletext);\n",
       "    this.root.appendChild(titlebar);\n",
       "    this.header = titletext;\n",
       "};\n",
       "\n",
       "mpl.figure.prototype._canvas_extra_style = function (_canvas_div) {};\n",
       "\n",
       "mpl.figure.prototype._root_extra_style = function (_canvas_div) {};\n",
       "\n",
       "mpl.figure.prototype._init_canvas = function () {\n",
       "    var fig = this;\n",
       "\n",
       "    var canvas_div = (this.canvas_div = document.createElement('div'));\n",
       "    canvas_div.setAttribute(\n",
       "        'style',\n",
       "        'border: 1px solid #ddd;' +\n",
       "            'box-sizing: content-box;' +\n",
       "            'clear: both;' +\n",
       "            'min-height: 1px;' +\n",
       "            'min-width: 1px;' +\n",
       "            'outline: 0;' +\n",
       "            'overflow: hidden;' +\n",
       "            'position: relative;' +\n",
       "            'resize: both;'\n",
       "    );\n",
       "\n",
       "    function on_keyboard_event_closure(name) {\n",
       "        return function (event) {\n",
       "            return fig.key_event(event, name);\n",
       "        };\n",
       "    }\n",
       "\n",
       "    canvas_div.addEventListener(\n",
       "        'keydown',\n",
       "        on_keyboard_event_closure('key_press')\n",
       "    );\n",
       "    canvas_div.addEventListener(\n",
       "        'keyup',\n",
       "        on_keyboard_event_closure('key_release')\n",
       "    );\n",
       "\n",
       "    this._canvas_extra_style(canvas_div);\n",
       "    this.root.appendChild(canvas_div);\n",
       "\n",
       "    var canvas = (this.canvas = document.createElement('canvas'));\n",
       "    canvas.classList.add('mpl-canvas');\n",
       "    canvas.setAttribute('style', 'box-sizing: content-box;');\n",
       "\n",
       "    this.context = canvas.getContext('2d');\n",
       "\n",
       "    var backingStore =\n",
       "        this.context.backingStorePixelRatio ||\n",
       "        this.context.webkitBackingStorePixelRatio ||\n",
       "        this.context.mozBackingStorePixelRatio ||\n",
       "        this.context.msBackingStorePixelRatio ||\n",
       "        this.context.oBackingStorePixelRatio ||\n",
       "        this.context.backingStorePixelRatio ||\n",
       "        1;\n",
       "\n",
       "    this.ratio = (window.devicePixelRatio || 1) / backingStore;\n",
       "\n",
       "    var rubberband_canvas = (this.rubberband_canvas = document.createElement(\n",
       "        'canvas'\n",
       "    ));\n",
       "    rubberband_canvas.setAttribute(\n",
       "        'style',\n",
       "        'box-sizing: content-box; position: absolute; left: 0; top: 0; z-index: 1;'\n",
       "    );\n",
       "\n",
       "    // Apply a ponyfill if ResizeObserver is not implemented by browser.\n",
       "    if (this.ResizeObserver === undefined) {\n",
       "        if (window.ResizeObserver !== undefined) {\n",
       "            this.ResizeObserver = window.ResizeObserver;\n",
       "        } else {\n",
       "            var obs = _JSXTOOLS_RESIZE_OBSERVER({});\n",
       "            this.ResizeObserver = obs.ResizeObserver;\n",
       "        }\n",
       "    }\n",
       "\n",
       "    this.resizeObserverInstance = new this.ResizeObserver(function (entries) {\n",
       "        var nentries = entries.length;\n",
       "        for (var i = 0; i < nentries; i++) {\n",
       "            var entry = entries[i];\n",
       "            var width, height;\n",
       "            if (entry.contentBoxSize) {\n",
       "                if (entry.contentBoxSize instanceof Array) {\n",
       "                    // Chrome 84 implements new version of spec.\n",
       "                    width = entry.contentBoxSize[0].inlineSize;\n",
       "                    height = entry.contentBoxSize[0].blockSize;\n",
       "                } else {\n",
       "                    // Firefox implements old version of spec.\n",
       "                    width = entry.contentBoxSize.inlineSize;\n",
       "                    height = entry.contentBoxSize.blockSize;\n",
       "                }\n",
       "            } else {\n",
       "                // Chrome <84 implements even older version of spec.\n",
       "                width = entry.contentRect.width;\n",
       "                height = entry.contentRect.height;\n",
       "            }\n",
       "\n",
       "            // Keep the size of the canvas and rubber band canvas in sync with\n",
       "            // the canvas container.\n",
       "            if (entry.devicePixelContentBoxSize) {\n",
       "                // Chrome 84 implements new version of spec.\n",
       "                canvas.setAttribute(\n",
       "                    'width',\n",
       "                    entry.devicePixelContentBoxSize[0].inlineSize\n",
       "                );\n",
       "                canvas.setAttribute(\n",
       "                    'height',\n",
       "                    entry.devicePixelContentBoxSize[0].blockSize\n",
       "                );\n",
       "            } else {\n",
       "                canvas.setAttribute('width', width * fig.ratio);\n",
       "                canvas.setAttribute('height', height * fig.ratio);\n",
       "            }\n",
       "            canvas.setAttribute(\n",
       "                'style',\n",
       "                'width: ' + width + 'px; height: ' + height + 'px;'\n",
       "            );\n",
       "\n",
       "            rubberband_canvas.setAttribute('width', width);\n",
       "            rubberband_canvas.setAttribute('height', height);\n",
       "\n",
       "            // And update the size in Python. We ignore the initial 0/0 size\n",
       "            // that occurs as the element is placed into the DOM, which should\n",
       "            // otherwise not happen due to the minimum size styling.\n",
       "            if (fig.ws.readyState == 1 && width != 0 && height != 0) {\n",
       "                fig.request_resize(width, height);\n",
       "            }\n",
       "        }\n",
       "    });\n",
       "    this.resizeObserverInstance.observe(canvas_div);\n",
       "\n",
       "    function on_mouse_event_closure(name) {\n",
       "        return function (event) {\n",
       "            return fig.mouse_event(event, name);\n",
       "        };\n",
       "    }\n",
       "\n",
       "    rubberband_canvas.addEventListener(\n",
       "        'mousedown',\n",
       "        on_mouse_event_closure('button_press')\n",
       "    );\n",
       "    rubberband_canvas.addEventListener(\n",
       "        'mouseup',\n",
       "        on_mouse_event_closure('button_release')\n",
       "    );\n",
       "    rubberband_canvas.addEventListener(\n",
       "        'dblclick',\n",
       "        on_mouse_event_closure('dblclick')\n",
       "    );\n",
       "    // Throttle sequential mouse events to 1 every 20ms.\n",
       "    rubberband_canvas.addEventListener(\n",
       "        'mousemove',\n",
       "        on_mouse_event_closure('motion_notify')\n",
       "    );\n",
       "\n",
       "    rubberband_canvas.addEventListener(\n",
       "        'mouseenter',\n",
       "        on_mouse_event_closure('figure_enter')\n",
       "    );\n",
       "    rubberband_canvas.addEventListener(\n",
       "        'mouseleave',\n",
       "        on_mouse_event_closure('figure_leave')\n",
       "    );\n",
       "\n",
       "    canvas_div.addEventListener('wheel', function (event) {\n",
       "        if (event.deltaY < 0) {\n",
       "            event.step = 1;\n",
       "        } else {\n",
       "            event.step = -1;\n",
       "        }\n",
       "        on_mouse_event_closure('scroll')(event);\n",
       "    });\n",
       "\n",
       "    canvas_div.appendChild(canvas);\n",
       "    canvas_div.appendChild(rubberband_canvas);\n",
       "\n",
       "    this.rubberband_context = rubberband_canvas.getContext('2d');\n",
       "    this.rubberband_context.strokeStyle = '#000000';\n",
       "\n",
       "    this._resize_canvas = function (width, height, forward) {\n",
       "        if (forward) {\n",
       "            canvas_div.style.width = width + 'px';\n",
       "            canvas_div.style.height = height + 'px';\n",
       "        }\n",
       "    };\n",
       "\n",
       "    // Disable right mouse context menu.\n",
       "    this.rubberband_canvas.addEventListener('contextmenu', function (_e) {\n",
       "        event.preventDefault();\n",
       "        return false;\n",
       "    });\n",
       "\n",
       "    function set_focus() {\n",
       "        canvas.focus();\n",
       "        canvas_div.focus();\n",
       "    }\n",
       "\n",
       "    window.setTimeout(set_focus, 100);\n",
       "};\n",
       "\n",
       "mpl.figure.prototype._init_toolbar = function () {\n",
       "    var fig = this;\n",
       "\n",
       "    var toolbar = document.createElement('div');\n",
       "    toolbar.classList = 'mpl-toolbar';\n",
       "    this.root.appendChild(toolbar);\n",
       "\n",
       "    function on_click_closure(name) {\n",
       "        return function (_event) {\n",
       "            return fig.toolbar_button_onclick(name);\n",
       "        };\n",
       "    }\n",
       "\n",
       "    function on_mouseover_closure(tooltip) {\n",
       "        return function (event) {\n",
       "            if (!event.currentTarget.disabled) {\n",
       "                return fig.toolbar_button_onmouseover(tooltip);\n",
       "            }\n",
       "        };\n",
       "    }\n",
       "\n",
       "    fig.buttons = {};\n",
       "    var buttonGroup = document.createElement('div');\n",
       "    buttonGroup.classList = 'mpl-button-group';\n",
       "    for (var toolbar_ind in mpl.toolbar_items) {\n",
       "        var name = mpl.toolbar_items[toolbar_ind][0];\n",
       "        var tooltip = mpl.toolbar_items[toolbar_ind][1];\n",
       "        var image = mpl.toolbar_items[toolbar_ind][2];\n",
       "        var method_name = mpl.toolbar_items[toolbar_ind][3];\n",
       "\n",
       "        if (!name) {\n",
       "            /* Instead of a spacer, we start a new button group. */\n",
       "            if (buttonGroup.hasChildNodes()) {\n",
       "                toolbar.appendChild(buttonGroup);\n",
       "            }\n",
       "            buttonGroup = document.createElement('div');\n",
       "            buttonGroup.classList = 'mpl-button-group';\n",
       "            continue;\n",
       "        }\n",
       "\n",
       "        var button = (fig.buttons[name] = document.createElement('button'));\n",
       "        button.classList = 'mpl-widget';\n",
       "        button.setAttribute('role', 'button');\n",
       "        button.setAttribute('aria-disabled', 'false');\n",
       "        button.addEventListener('click', on_click_closure(method_name));\n",
       "        button.addEventListener('mouseover', on_mouseover_closure(tooltip));\n",
       "\n",
       "        var icon_img = document.createElement('img');\n",
       "        icon_img.src = '_images/' + image + '.png';\n",
       "        icon_img.srcset = '_images/' + image + '_large.png 2x';\n",
       "        icon_img.alt = tooltip;\n",
       "        button.appendChild(icon_img);\n",
       "\n",
       "        buttonGroup.appendChild(button);\n",
       "    }\n",
       "\n",
       "    if (buttonGroup.hasChildNodes()) {\n",
       "        toolbar.appendChild(buttonGroup);\n",
       "    }\n",
       "\n",
       "    var fmt_picker = document.createElement('select');\n",
       "    fmt_picker.classList = 'mpl-widget';\n",
       "    toolbar.appendChild(fmt_picker);\n",
       "    this.format_dropdown = fmt_picker;\n",
       "\n",
       "    for (var ind in mpl.extensions) {\n",
       "        var fmt = mpl.extensions[ind];\n",
       "        var option = document.createElement('option');\n",
       "        option.selected = fmt === mpl.default_extension;\n",
       "        option.innerHTML = fmt;\n",
       "        fmt_picker.appendChild(option);\n",
       "    }\n",
       "\n",
       "    var status_bar = document.createElement('span');\n",
       "    status_bar.classList = 'mpl-message';\n",
       "    toolbar.appendChild(status_bar);\n",
       "    this.message = status_bar;\n",
       "};\n",
       "\n",
       "mpl.figure.prototype.request_resize = function (x_pixels, y_pixels) {\n",
       "    // Request matplotlib to resize the figure. Matplotlib will then trigger a resize in the client,\n",
       "    // which will in turn request a refresh of the image.\n",
       "    this.send_message('resize', { width: x_pixels, height: y_pixels });\n",
       "};\n",
       "\n",
       "mpl.figure.prototype.send_message = function (type, properties) {\n",
       "    properties['type'] = type;\n",
       "    properties['figure_id'] = this.id;\n",
       "    this.ws.send(JSON.stringify(properties));\n",
       "};\n",
       "\n",
       "mpl.figure.prototype.send_draw_message = function () {\n",
       "    if (!this.waiting) {\n",
       "        this.waiting = true;\n",
       "        this.ws.send(JSON.stringify({ type: 'draw', figure_id: this.id }));\n",
       "    }\n",
       "};\n",
       "\n",
       "mpl.figure.prototype.handle_save = function (fig, _msg) {\n",
       "    var format_dropdown = fig.format_dropdown;\n",
       "    var format = format_dropdown.options[format_dropdown.selectedIndex].value;\n",
       "    fig.ondownload(fig, format);\n",
       "};\n",
       "\n",
       "mpl.figure.prototype.handle_resize = function (fig, msg) {\n",
       "    var size = msg['size'];\n",
       "    if (size[0] !== fig.canvas.width || size[1] !== fig.canvas.height) {\n",
       "        fig._resize_canvas(size[0], size[1], msg['forward']);\n",
       "        fig.send_message('refresh', {});\n",
       "    }\n",
       "};\n",
       "\n",
       "mpl.figure.prototype.handle_rubberband = function (fig, msg) {\n",
       "    var x0 = msg['x0'] / fig.ratio;\n",
       "    var y0 = (fig.canvas.height - msg['y0']) / fig.ratio;\n",
       "    var x1 = msg['x1'] / fig.ratio;\n",
       "    var y1 = (fig.canvas.height - msg['y1']) / fig.ratio;\n",
       "    x0 = Math.floor(x0) + 0.5;\n",
       "    y0 = Math.floor(y0) + 0.5;\n",
       "    x1 = Math.floor(x1) + 0.5;\n",
       "    y1 = Math.floor(y1) + 0.5;\n",
       "    var min_x = Math.min(x0, x1);\n",
       "    var min_y = Math.min(y0, y1);\n",
       "    var width = Math.abs(x1 - x0);\n",
       "    var height = Math.abs(y1 - y0);\n",
       "\n",
       "    fig.rubberband_context.clearRect(\n",
       "        0,\n",
       "        0,\n",
       "        fig.canvas.width / fig.ratio,\n",
       "        fig.canvas.height / fig.ratio\n",
       "    );\n",
       "\n",
       "    fig.rubberband_context.strokeRect(min_x, min_y, width, height);\n",
       "};\n",
       "\n",
       "mpl.figure.prototype.handle_figure_label = function (fig, msg) {\n",
       "    // Updates the figure title.\n",
       "    fig.header.textContent = msg['label'];\n",
       "};\n",
       "\n",
       "mpl.figure.prototype.handle_cursor = function (fig, msg) {\n",
       "    var cursor = msg['cursor'];\n",
       "    switch (cursor) {\n",
       "        case 0:\n",
       "            cursor = 'pointer';\n",
       "            break;\n",
       "        case 1:\n",
       "            cursor = 'default';\n",
       "            break;\n",
       "        case 2:\n",
       "            cursor = 'crosshair';\n",
       "            break;\n",
       "        case 3:\n",
       "            cursor = 'move';\n",
       "            break;\n",
       "    }\n",
       "    fig.rubberband_canvas.style.cursor = cursor;\n",
       "};\n",
       "\n",
       "mpl.figure.prototype.handle_message = function (fig, msg) {\n",
       "    fig.message.textContent = msg['message'];\n",
       "};\n",
       "\n",
       "mpl.figure.prototype.handle_draw = function (fig, _msg) {\n",
       "    // Request the server to send over a new figure.\n",
       "    fig.send_draw_message();\n",
       "};\n",
       "\n",
       "mpl.figure.prototype.handle_image_mode = function (fig, msg) {\n",
       "    fig.image_mode = msg['mode'];\n",
       "};\n",
       "\n",
       "mpl.figure.prototype.handle_history_buttons = function (fig, msg) {\n",
       "    for (var key in msg) {\n",
       "        if (!(key in fig.buttons)) {\n",
       "            continue;\n",
       "        }\n",
       "        fig.buttons[key].disabled = !msg[key];\n",
       "        fig.buttons[key].setAttribute('aria-disabled', !msg[key]);\n",
       "    }\n",
       "};\n",
       "\n",
       "mpl.figure.prototype.handle_navigate_mode = function (fig, msg) {\n",
       "    if (msg['mode'] === 'PAN') {\n",
       "        fig.buttons['Pan'].classList.add('active');\n",
       "        fig.buttons['Zoom'].classList.remove('active');\n",
       "    } else if (msg['mode'] === 'ZOOM') {\n",
       "        fig.buttons['Pan'].classList.remove('active');\n",
       "        fig.buttons['Zoom'].classList.add('active');\n",
       "    } else {\n",
       "        fig.buttons['Pan'].classList.remove('active');\n",
       "        fig.buttons['Zoom'].classList.remove('active');\n",
       "    }\n",
       "};\n",
       "\n",
       "mpl.figure.prototype.updated_canvas_event = function () {\n",
       "    // Called whenever the canvas gets updated.\n",
       "    this.send_message('ack', {});\n",
       "};\n",
       "\n",
       "// A function to construct a web socket function for onmessage handling.\n",
       "// Called in the figure constructor.\n",
       "mpl.figure.prototype._make_on_message_function = function (fig) {\n",
       "    return function socket_on_message(evt) {\n",
       "        if (evt.data instanceof Blob) {\n",
       "            var img = evt.data;\n",
       "            if (img.type !== 'image/png') {\n",
       "                /* FIXME: We get \"Resource interpreted as Image but\n",
       "                 * transferred with MIME type text/plain:\" errors on\n",
       "                 * Chrome.  But how to set the MIME type?  It doesn't seem\n",
       "                 * to be part of the websocket stream */\n",
       "                img.type = 'image/png';\n",
       "            }\n",
       "\n",
       "            /* Free the memory for the previous frames */\n",
       "            if (fig.imageObj.src) {\n",
       "                (window.URL || window.webkitURL).revokeObjectURL(\n",
       "                    fig.imageObj.src\n",
       "                );\n",
       "            }\n",
       "\n",
       "            fig.imageObj.src = (window.URL || window.webkitURL).createObjectURL(\n",
       "                img\n",
       "            );\n",
       "            fig.updated_canvas_event();\n",
       "            fig.waiting = false;\n",
       "            return;\n",
       "        } else if (\n",
       "            typeof evt.data === 'string' &&\n",
       "            evt.data.slice(0, 21) === 'data:image/png;base64'\n",
       "        ) {\n",
       "            fig.imageObj.src = evt.data;\n",
       "            fig.updated_canvas_event();\n",
       "            fig.waiting = false;\n",
       "            return;\n",
       "        }\n",
       "\n",
       "        var msg = JSON.parse(evt.data);\n",
       "        var msg_type = msg['type'];\n",
       "\n",
       "        // Call the  \"handle_{type}\" callback, which takes\n",
       "        // the figure and JSON message as its only arguments.\n",
       "        try {\n",
       "            var callback = fig['handle_' + msg_type];\n",
       "        } catch (e) {\n",
       "            console.log(\n",
       "                \"No handler for the '\" + msg_type + \"' message type: \",\n",
       "                msg\n",
       "            );\n",
       "            return;\n",
       "        }\n",
       "\n",
       "        if (callback) {\n",
       "            try {\n",
       "                // console.log(\"Handling '\" + msg_type + \"' message: \", msg);\n",
       "                callback(fig, msg);\n",
       "            } catch (e) {\n",
       "                console.log(\n",
       "                    \"Exception inside the 'handler_\" + msg_type + \"' callback:\",\n",
       "                    e,\n",
       "                    e.stack,\n",
       "                    msg\n",
       "                );\n",
       "            }\n",
       "        }\n",
       "    };\n",
       "};\n",
       "\n",
       "// from http://stackoverflow.com/questions/1114465/getting-mouse-location-in-canvas\n",
       "mpl.findpos = function (e) {\n",
       "    //this section is from http://www.quirksmode.org/js/events_properties.html\n",
       "    var targ;\n",
       "    if (!e) {\n",
       "        e = window.event;\n",
       "    }\n",
       "    if (e.target) {\n",
       "        targ = e.target;\n",
       "    } else if (e.srcElement) {\n",
       "        targ = e.srcElement;\n",
       "    }\n",
       "    if (targ.nodeType === 3) {\n",
       "        // defeat Safari bug\n",
       "        targ = targ.parentNode;\n",
       "    }\n",
       "\n",
       "    // pageX,Y are the mouse positions relative to the document\n",
       "    var boundingRect = targ.getBoundingClientRect();\n",
       "    var x = e.pageX - (boundingRect.left + document.body.scrollLeft);\n",
       "    var y = e.pageY - (boundingRect.top + document.body.scrollTop);\n",
       "\n",
       "    return { x: x, y: y };\n",
       "};\n",
       "\n",
       "/*\n",
       " * return a copy of an object with only non-object keys\n",
       " * we need this to avoid circular references\n",
       " * http://stackoverflow.com/a/24161582/3208463\n",
       " */\n",
       "function simpleKeys(original) {\n",
       "    return Object.keys(original).reduce(function (obj, key) {\n",
       "        if (typeof original[key] !== 'object') {\n",
       "            obj[key] = original[key];\n",
       "        }\n",
       "        return obj;\n",
       "    }, {});\n",
       "}\n",
       "\n",
       "mpl.figure.prototype.mouse_event = function (event, name) {\n",
       "    var canvas_pos = mpl.findpos(event);\n",
       "\n",
       "    if (name === 'button_press') {\n",
       "        this.canvas.focus();\n",
       "        this.canvas_div.focus();\n",
       "    }\n",
       "\n",
       "    var x = canvas_pos.x * this.ratio;\n",
       "    var y = canvas_pos.y * this.ratio;\n",
       "\n",
       "    this.send_message(name, {\n",
       "        x: x,\n",
       "        y: y,\n",
       "        button: event.button,\n",
       "        step: event.step,\n",
       "        guiEvent: simpleKeys(event),\n",
       "    });\n",
       "\n",
       "    /* This prevents the web browser from automatically changing to\n",
       "     * the text insertion cursor when the button is pressed.  We want\n",
       "     * to control all of the cursor setting manually through the\n",
       "     * 'cursor' event from matplotlib */\n",
       "    event.preventDefault();\n",
       "    return false;\n",
       "};\n",
       "\n",
       "mpl.figure.prototype._key_event_extra = function (_event, _name) {\n",
       "    // Handle any extra behaviour associated with a key event\n",
       "};\n",
       "\n",
       "mpl.figure.prototype.key_event = function (event, name) {\n",
       "    // Prevent repeat events\n",
       "    if (name === 'key_press') {\n",
       "        if (event.key === this._key) {\n",
       "            return;\n",
       "        } else {\n",
       "            this._key = event.key;\n",
       "        }\n",
       "    }\n",
       "    if (name === 'key_release') {\n",
       "        this._key = null;\n",
       "    }\n",
       "\n",
       "    var value = '';\n",
       "    if (event.ctrlKey && event.key !== 'Control') {\n",
       "        value += 'ctrl+';\n",
       "    }\n",
       "    else if (event.altKey && event.key !== 'Alt') {\n",
       "        value += 'alt+';\n",
       "    }\n",
       "    else if (event.shiftKey && event.key !== 'Shift') {\n",
       "        value += 'shift+';\n",
       "    }\n",
       "\n",
       "    value += 'k' + event.key;\n",
       "\n",
       "    this._key_event_extra(event, name);\n",
       "\n",
       "    this.send_message(name, { key: value, guiEvent: simpleKeys(event) });\n",
       "    return false;\n",
       "};\n",
       "\n",
       "mpl.figure.prototype.toolbar_button_onclick = function (name) {\n",
       "    if (name === 'download') {\n",
       "        this.handle_save(this, null);\n",
       "    } else {\n",
       "        this.send_message('toolbar_button', { name: name });\n",
       "    }\n",
       "};\n",
       "\n",
       "mpl.figure.prototype.toolbar_button_onmouseover = function (tooltip) {\n",
       "    this.message.textContent = tooltip;\n",
       "};\n",
       "\n",
       "///////////////// REMAINING CONTENT GENERATED BY embed_js.py /////////////////\n",
       "// prettier-ignore\n",
       "var _JSXTOOLS_RESIZE_OBSERVER=function(A){var t,i=new WeakMap,n=new WeakMap,a=new WeakMap,r=new WeakMap,o=new Set;function s(e){if(!(this instanceof s))throw new TypeError(\"Constructor requires 'new' operator\");i.set(this,e)}function h(){throw new TypeError(\"Function is not a constructor\")}function c(e,t,i,n){e=0 in arguments?Number(arguments[0]):0,t=1 in arguments?Number(arguments[1]):0,i=2 in arguments?Number(arguments[2]):0,n=3 in arguments?Number(arguments[3]):0,this.right=(this.x=this.left=e)+(this.width=i),this.bottom=(this.y=this.top=t)+(this.height=n),Object.freeze(this)}function d(){t=requestAnimationFrame(d);var s=new WeakMap,p=new Set;o.forEach((function(t){r.get(t).forEach((function(i){var r=t instanceof window.SVGElement,o=a.get(t),d=r?0:parseFloat(o.paddingTop),f=r?0:parseFloat(o.paddingRight),l=r?0:parseFloat(o.paddingBottom),u=r?0:parseFloat(o.paddingLeft),g=r?0:parseFloat(o.borderTopWidth),m=r?0:parseFloat(o.borderRightWidth),w=r?0:parseFloat(o.borderBottomWidth),b=u+f,F=d+l,v=(r?0:parseFloat(o.borderLeftWidth))+m,W=g+w,y=r?0:t.offsetHeight-W-t.clientHeight,E=r?0:t.offsetWidth-v-t.clientWidth,R=b+v,z=F+W,M=r?t.width:parseFloat(o.width)-R-E,O=r?t.height:parseFloat(o.height)-z-y;if(n.has(t)){var k=n.get(t);if(k[0]===M&&k[1]===O)return}n.set(t,[M,O]);var S=Object.create(h.prototype);S.target=t,S.contentRect=new c(u,d,M,O),s.has(i)||(s.set(i,[]),p.add(i)),s.get(i).push(S)}))})),p.forEach((function(e){i.get(e).call(e,s.get(e),e)}))}return s.prototype.observe=function(i){if(i instanceof window.Element){r.has(i)||(r.set(i,new Set),o.add(i),a.set(i,window.getComputedStyle(i)));var n=r.get(i);n.has(this)||n.add(this),cancelAnimationFrame(t),t=requestAnimationFrame(d)}},s.prototype.unobserve=function(i){if(i instanceof window.Element&&r.has(i)){var n=r.get(i);n.has(this)&&(n.delete(this),n.size||(r.delete(i),o.delete(i))),n.size||r.delete(i),o.size||cancelAnimationFrame(t)}},A.DOMRectReadOnly=c,A.ResizeObserver=s,A.ResizeObserverEntry=h,A}; // eslint-disable-line\n",
       "mpl.toolbar_items = [[\"Home\", \"Reset original view\", \"fa fa-home icon-home\", \"home\"], [\"Back\", \"Back to previous view\", \"fa fa-arrow-left icon-arrow-left\", \"back\"], [\"Forward\", \"Forward to next view\", \"fa fa-arrow-right icon-arrow-right\", \"forward\"], [\"\", \"\", \"\", \"\"], [\"Pan\", \"Left button pans, Right button zooms\\nx/y fixes axis, CTRL fixes aspect\", \"fa fa-arrows icon-move\", \"pan\"], [\"Zoom\", \"Zoom to rectangle\\nx/y fixes axis, CTRL fixes aspect\", \"fa fa-square-o icon-check-empty\", \"zoom\"], [\"\", \"\", \"\", \"\"], [\"Download\", \"Download plot\", \"fa fa-floppy-o icon-save\", \"download\"]];\n",
       "\n",
       "mpl.extensions = [\"eps\", \"jpeg\", \"pgf\", \"pdf\", \"png\", \"ps\", \"raw\", \"svg\", \"tif\"];\n",
       "\n",
       "mpl.default_extension = \"png\";/* global mpl */\n",
       "\n",
       "var comm_websocket_adapter = function (comm) {\n",
       "    // Create a \"websocket\"-like object which calls the given IPython comm\n",
       "    // object with the appropriate methods. Currently this is a non binary\n",
       "    // socket, so there is still some room for performance tuning.\n",
       "    var ws = {};\n",
       "\n",
       "    ws.binaryType = comm.kernel.ws.binaryType;\n",
       "    ws.readyState = comm.kernel.ws.readyState;\n",
       "    function updateReadyState(_event) {\n",
       "        if (comm.kernel.ws) {\n",
       "            ws.readyState = comm.kernel.ws.readyState;\n",
       "        } else {\n",
       "            ws.readyState = 3; // Closed state.\n",
       "        }\n",
       "    }\n",
       "    comm.kernel.ws.addEventListener('open', updateReadyState);\n",
       "    comm.kernel.ws.addEventListener('close', updateReadyState);\n",
       "    comm.kernel.ws.addEventListener('error', updateReadyState);\n",
       "\n",
       "    ws.close = function () {\n",
       "        comm.close();\n",
       "    };\n",
       "    ws.send = function (m) {\n",
       "        //console.log('sending', m);\n",
       "        comm.send(m);\n",
       "    };\n",
       "    // Register the callback with on_msg.\n",
       "    comm.on_msg(function (msg) {\n",
       "        //console.log('receiving', msg['content']['data'], msg);\n",
       "        var data = msg['content']['data'];\n",
       "        if (data['blob'] !== undefined) {\n",
       "            data = {\n",
       "                data: new Blob(msg['buffers'], { type: data['blob'] }),\n",
       "            };\n",
       "        }\n",
       "        // Pass the mpl event to the overridden (by mpl) onmessage function.\n",
       "        ws.onmessage(data);\n",
       "    });\n",
       "    return ws;\n",
       "};\n",
       "\n",
       "mpl.mpl_figure_comm = function (comm, msg) {\n",
       "    // This is the function which gets called when the mpl process\n",
       "    // starts-up an IPython Comm through the \"matplotlib\" channel.\n",
       "\n",
       "    var id = msg.content.data.id;\n",
       "    // Get hold of the div created by the display call when the Comm\n",
       "    // socket was opened in Python.\n",
       "    var element = document.getElementById(id);\n",
       "    var ws_proxy = comm_websocket_adapter(comm);\n",
       "\n",
       "    function ondownload(figure, _format) {\n",
       "        window.open(figure.canvas.toDataURL());\n",
       "    }\n",
       "\n",
       "    var fig = new mpl.figure(id, ws_proxy, ondownload, element);\n",
       "\n",
       "    // Call onopen now - mpl needs it, as it is assuming we've passed it a real\n",
       "    // web socket which is closed, not our websocket->open comm proxy.\n",
       "    ws_proxy.onopen();\n",
       "\n",
       "    fig.parent_element = element;\n",
       "    fig.cell_info = mpl.find_output_cell(\"<div id='\" + id + \"'></div>\");\n",
       "    if (!fig.cell_info) {\n",
       "        console.error('Failed to find cell for figure', id, fig);\n",
       "        return;\n",
       "    }\n",
       "    fig.cell_info[0].output_area.element.on(\n",
       "        'cleared',\n",
       "        { fig: fig },\n",
       "        fig._remove_fig_handler\n",
       "    );\n",
       "};\n",
       "\n",
       "mpl.figure.prototype.handle_close = function (fig, msg) {\n",
       "    var width = fig.canvas.width / fig.ratio;\n",
       "    fig.cell_info[0].output_area.element.off(\n",
       "        'cleared',\n",
       "        fig._remove_fig_handler\n",
       "    );\n",
       "    fig.resizeObserverInstance.unobserve(fig.canvas_div);\n",
       "\n",
       "    // Update the output cell to use the data from the current canvas.\n",
       "    fig.push_to_output();\n",
       "    var dataURL = fig.canvas.toDataURL();\n",
       "    // Re-enable the keyboard manager in IPython - without this line, in FF,\n",
       "    // the notebook keyboard shortcuts fail.\n",
       "    IPython.keyboard_manager.enable();\n",
       "    fig.parent_element.innerHTML =\n",
       "        '<img src=\"' + dataURL + '\" width=\"' + width + '\">';\n",
       "    fig.close_ws(fig, msg);\n",
       "};\n",
       "\n",
       "mpl.figure.prototype.close_ws = function (fig, msg) {\n",
       "    fig.send_message('closing', msg);\n",
       "    // fig.ws.close()\n",
       "};\n",
       "\n",
       "mpl.figure.prototype.push_to_output = function (_remove_interactive) {\n",
       "    // Turn the data on the canvas into data in the output cell.\n",
       "    var width = this.canvas.width / this.ratio;\n",
       "    var dataURL = this.canvas.toDataURL();\n",
       "    this.cell_info[1]['text/html'] =\n",
       "        '<img src=\"' + dataURL + '\" width=\"' + width + '\">';\n",
       "};\n",
       "\n",
       "mpl.figure.prototype.updated_canvas_event = function () {\n",
       "    // Tell IPython that the notebook contents must change.\n",
       "    IPython.notebook.set_dirty(true);\n",
       "    this.send_message('ack', {});\n",
       "    var fig = this;\n",
       "    // Wait a second, then push the new image to the DOM so\n",
       "    // that it is saved nicely (might be nice to debounce this).\n",
       "    setTimeout(function () {\n",
       "        fig.push_to_output();\n",
       "    }, 1000);\n",
       "};\n",
       "\n",
       "mpl.figure.prototype._init_toolbar = function () {\n",
       "    var fig = this;\n",
       "\n",
       "    var toolbar = document.createElement('div');\n",
       "    toolbar.classList = 'btn-toolbar';\n",
       "    this.root.appendChild(toolbar);\n",
       "\n",
       "    function on_click_closure(name) {\n",
       "        return function (_event) {\n",
       "            return fig.toolbar_button_onclick(name);\n",
       "        };\n",
       "    }\n",
       "\n",
       "    function on_mouseover_closure(tooltip) {\n",
       "        return function (event) {\n",
       "            if (!event.currentTarget.disabled) {\n",
       "                return fig.toolbar_button_onmouseover(tooltip);\n",
       "            }\n",
       "        };\n",
       "    }\n",
       "\n",
       "    fig.buttons = {};\n",
       "    var buttonGroup = document.createElement('div');\n",
       "    buttonGroup.classList = 'btn-group';\n",
       "    var button;\n",
       "    for (var toolbar_ind in mpl.toolbar_items) {\n",
       "        var name = mpl.toolbar_items[toolbar_ind][0];\n",
       "        var tooltip = mpl.toolbar_items[toolbar_ind][1];\n",
       "        var image = mpl.toolbar_items[toolbar_ind][2];\n",
       "        var method_name = mpl.toolbar_items[toolbar_ind][3];\n",
       "\n",
       "        if (!name) {\n",
       "            /* Instead of a spacer, we start a new button group. */\n",
       "            if (buttonGroup.hasChildNodes()) {\n",
       "                toolbar.appendChild(buttonGroup);\n",
       "            }\n",
       "            buttonGroup = document.createElement('div');\n",
       "            buttonGroup.classList = 'btn-group';\n",
       "            continue;\n",
       "        }\n",
       "\n",
       "        button = fig.buttons[name] = document.createElement('button');\n",
       "        button.classList = 'btn btn-default';\n",
       "        button.href = '#';\n",
       "        button.title = name;\n",
       "        button.innerHTML = '<i class=\"fa ' + image + ' fa-lg\"></i>';\n",
       "        button.addEventListener('click', on_click_closure(method_name));\n",
       "        button.addEventListener('mouseover', on_mouseover_closure(tooltip));\n",
       "        buttonGroup.appendChild(button);\n",
       "    }\n",
       "\n",
       "    if (buttonGroup.hasChildNodes()) {\n",
       "        toolbar.appendChild(buttonGroup);\n",
       "    }\n",
       "\n",
       "    // Add the status bar.\n",
       "    var status_bar = document.createElement('span');\n",
       "    status_bar.classList = 'mpl-message pull-right';\n",
       "    toolbar.appendChild(status_bar);\n",
       "    this.message = status_bar;\n",
       "\n",
       "    // Add the close button to the window.\n",
       "    var buttongrp = document.createElement('div');\n",
       "    buttongrp.classList = 'btn-group inline pull-right';\n",
       "    button = document.createElement('button');\n",
       "    button.classList = 'btn btn-mini btn-primary';\n",
       "    button.href = '#';\n",
       "    button.title = 'Stop Interaction';\n",
       "    button.innerHTML = '<i class=\"fa fa-power-off icon-remove icon-large\"></i>';\n",
       "    button.addEventListener('click', function (_evt) {\n",
       "        fig.handle_close(fig, {});\n",
       "    });\n",
       "    button.addEventListener(\n",
       "        'mouseover',\n",
       "        on_mouseover_closure('Stop Interaction')\n",
       "    );\n",
       "    buttongrp.appendChild(button);\n",
       "    var titlebar = this.root.querySelector('.ui-dialog-titlebar');\n",
       "    titlebar.insertBefore(buttongrp, titlebar.firstChild);\n",
       "};\n",
       "\n",
       "mpl.figure.prototype._remove_fig_handler = function (event) {\n",
       "    var fig = event.data.fig;\n",
       "    if (event.target !== this) {\n",
       "        // Ignore bubbled events from children.\n",
       "        return;\n",
       "    }\n",
       "    fig.close_ws(fig, {});\n",
       "};\n",
       "\n",
       "mpl.figure.prototype._root_extra_style = function (el) {\n",
       "    el.style.boxSizing = 'content-box'; // override notebook setting of border-box.\n",
       "};\n",
       "\n",
       "mpl.figure.prototype._canvas_extra_style = function (el) {\n",
       "    // this is important to make the div 'focusable\n",
       "    el.setAttribute('tabindex', 0);\n",
       "    // reach out to IPython and tell the keyboard manager to turn it's self\n",
       "    // off when our div gets focus\n",
       "\n",
       "    // location in version 3\n",
       "    if (IPython.notebook.keyboard_manager) {\n",
       "        IPython.notebook.keyboard_manager.register_events(el);\n",
       "    } else {\n",
       "        // location in version 2\n",
       "        IPython.keyboard_manager.register_events(el);\n",
       "    }\n",
       "};\n",
       "\n",
       "mpl.figure.prototype._key_event_extra = function (event, _name) {\n",
       "    var manager = IPython.notebook.keyboard_manager;\n",
       "    if (!manager) {\n",
       "        manager = IPython.keyboard_manager;\n",
       "    }\n",
       "\n",
       "    // Check for shift+enter\n",
       "    if (event.shiftKey && event.which === 13) {\n",
       "        this.canvas_div.blur();\n",
       "        // select the cell after this one\n",
       "        var index = IPython.notebook.find_cell_index(this.cell_info[0]);\n",
       "        IPython.notebook.select(index + 1);\n",
       "    }\n",
       "};\n",
       "\n",
       "mpl.figure.prototype.handle_save = function (fig, _msg) {\n",
       "    fig.ondownload(fig, null);\n",
       "};\n",
       "\n",
       "mpl.find_output_cell = function (html_output) {\n",
       "    // Return the cell and output element which can be found *uniquely* in the notebook.\n",
       "    // Note - this is a bit hacky, but it is done because the \"notebook_saving.Notebook\"\n",
       "    // IPython event is triggered only after the cells have been serialised, which for\n",
       "    // our purposes (turning an active figure into a static one), is too late.\n",
       "    var cells = IPython.notebook.get_cells();\n",
       "    var ncells = cells.length;\n",
       "    for (var i = 0; i < ncells; i++) {\n",
       "        var cell = cells[i];\n",
       "        if (cell.cell_type === 'code') {\n",
       "            for (var j = 0; j < cell.output_area.outputs.length; j++) {\n",
       "                var data = cell.output_area.outputs[j];\n",
       "                if (data.data) {\n",
       "                    // IPython >= 3 moved mimebundle to data attribute of output\n",
       "                    data = data.data;\n",
       "                }\n",
       "                if (data['text/html'] === html_output) {\n",
       "                    return [cell, data, j];\n",
       "                }\n",
       "            }\n",
       "        }\n",
       "    }\n",
       "};\n",
       "\n",
       "// Register the function which deals with the matplotlib target/channel.\n",
       "// The kernel may be null if the page has been refreshed.\n",
       "if (IPython.notebook.kernel !== null) {\n",
       "    IPython.notebook.kernel.comm_manager.register_target(\n",
       "        'matplotlib',\n",
       "        mpl.mpl_figure_comm\n",
       "    );\n",
       "}\n"
      ],
      "text/plain": [
       "<IPython.core.display.Javascript object>"
      ]
     },
     "metadata": {},
     "output_type": "display_data"
    },
    {
     "data": {
      "text/html": [
       "<img src=\"data:image/png;base64,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\" width=\"640\">"
      ],
      "text/plain": [
       "<IPython.core.display.HTML object>"
      ]
     },
     "metadata": {},
     "output_type": "display_data"
    }
   ],
   "source": [
    "\n",
    "def Plot3dim(x,y,z):\n",
    "    \n",
    "    fig = plt.figure()\n",
    "    \n",
    "    ax = plt.axes(projection='3d')\n",
    "    ax.scatter3D(x, y, z, color=(1,0,0))\n",
    "    ax.axes.set_xlim3d(left=0, right=1) \n",
    "    ax.axes.set_ylim3d(bottom=0, top=1) \n",
    "    ax.axes.set_zlim3d(bottom=0, top=1)\n",
    "    ax.grid(False)\n",
    "    ax.set_title(\"PLOT OF ALLOWED ENTROPIES\")\n",
    "    ax.set_xlabel(r\"$S_{pol}$\")\n",
    "    ax.set_ylabel(r\"$S_{par}$\")\n",
    "    ax.set_zlabel(r\"$S$\")\n",
    "%matplotlib notebook\n",
    "Plot3dim(x,y,z)"
   ]
  },
  {
   "cell_type": "markdown",
   "metadata": {},
   "source": [
    "## 6. Quantum Circuits\n",
    "As one may have already noticed, the behavior of the system here can be accurately modelled using quantum systems where instead of coherence one measures the purity of a state. We make use of the IBM Qiskit libraries to build these experimental setups into their equivalent quantum circuits making use of ancillary qubits to create inherently mixed states. The main idea here is that for experiment A we would only need the two qubits each representing one DoF to model this system and reproduce the results using the appropriate operators.\n",
    "### Interpretation of the model\n",
    "<p>The first qubit (indexed by 0) refers to the polarisation DOF and the second qubit (index 1) refers to the parity DOF. We will take the $|1\\rangle$ state of polarity to mean pure V-polarisation and $|0\\rangle$ state to mean pure H-polarisation. Similarly, we take the $|0\\rangle$ and $|1\\rangle$ states of the parity qubit to mean purely even and purely odd mode, respectively.</p>\n",
    "<table>\n",
    "    <tr><td>Parity-polarisation state</td><td>Qubit configuration</td></tr>\n",
    "    <tr><td>He</td><td>00</td></tr>\n",
    "    <tr><td>Ho</td><td>01</td></tr>\n",
    "    <tr><td>Ve</td><td>10</td></tr>\n",
    "    <tr><td>Vo</td><td>11</td></tr>\n",
    "</table>\n",
    "<p>Further, we will always use any ancilla qubits we need, to replicate the probabilistic devices (like random rotator or probabilistic PS-SLM) to be the initial qubits, the second last qubit will represent polarisation, and the last qubit represents parity.</p>\n",
    "\n",
    "For experiment B one of our state is starting in an impure form, something which cannot be reached if one were to only apply unitary transformations. Here we make use of an ancillary qubit which is coupled with the rest of the two qubits and hence is in a way storing the coherence we wished to get rid off as part of it's coupling. The main idea of this paper was that partial trace matrices do not give us the complete picture of the system which we can demonstrate very simply just by using a bell state (a pure state) and noting that it's partial traces are actually representative of impure states.\n",
    "\n",
    "The purpose of this section is to demonstrate a simulation which is based in quantum mechanics which reproduces the results of classical coherence obtained in this paper.\n",
    "\n",
    "A small point to add is that in qiskit the representation is not with zeroth qubit being MSB and last qubit being LSB but the other way round. In experiment A for example $q_0$ is the polarization qubit and $q_1$ is the parity qubit and so Ho is actually 10 and Ve is 01 and so on."
   ]
  },
  {
   "cell_type": "code",
   "execution_count": 49,
   "metadata": {},
   "outputs": [],
   "source": [
    "#Defining the operations on the circuit\n",
    "simulator = Aer.get_backend('statevector_simulator') #Using statevector simulator\n",
    "%matplotlib inline\n",
    "\n",
    "def SLM(phi,qc,ancilla_used = 0):\n",
    "    qc.rx(-phi,ancilla_used+1)\n",
    "    return\n",
    "#For HWP, by observing the 2x2 matrix, we see that the operator looks like Ry(theta)*sigma_Z \n",
    "def HWP(theta,qc,ancilla_used = 0):\n",
    "    qc.z(ancilla_used)\n",
    "    qc.ry(theta,ancilla_used)\n",
    "    return\n",
    "\n",
    "#for PS-SLM, we want the H-polarisation to induce an SLM action, but not V. So, if polarisation qubit is 0 (H), we want the\n",
    "#controlled gate to fire. So we first invert (NOT or X gate) the control bit, use a usual controlled gate, then invert it \n",
    "#again.\n",
    "def PSSLM(phi,qc,ancilla_used=0):\n",
    "    qc.x(ancilla_used)\n",
    "    qc.crx(-phi,ancilla_used,ancilla_used+1) #angle,control,target\n",
    "    qc.x(ancilla_used)\n",
    "    return\n",
    "\n",
    "def corr_circ(qc):\n",
    "    result = execute(qc, simulator).result()\n",
    "    statevector = result.get_statevector(qc)\n",
    "    corr = 0\n",
    "    if len(statevector) is 4:\n",
    "        corr = 2*(np.absolute(statevector[0]**2) + np.absolute(statevector[3]**2)) - 1\n",
    "    if len(statevector) is 8:\n",
    "        corr = (np.absolute(statevector[0]**2) + np.absolute(statevector[1]**2) + np.absolute(statevector[6]**2) + np.absolute(statevector[7]**2)) - (np.absolute(statevector[2]**2) + np.absolute(statevector[3]**2) + np.absolute(statevector[4]**2) + np.absolute(statevector[5]**2))\n",
    "    return corr"
   ]
  },
  {
   "cell_type": "markdown",
   "metadata": {},
   "source": [
    "### 6.1 Experiment A\n",
    "For this experiment we take $q_0$ as the polarization DoF and $q_1$ as the parity DoF. Based on the matrix forms of the experimental apparatus we can see that applying an HWP is analogous to a $R_y(\\theta)Z$ on $q_0$ and the SLM is $R_x(-\\phi)$ and the PSSLM is just the SLM as a controlled operation except that it activates for $q_0$ being in 0 instead of 1 so we just apply a NOT on that bit before and after the controlled gate. The measurement done in the end uses the statevector simulator of qiskit to directly calculate probabilities based on the state of the system. While running multiple shots using one of the real quantum computers one can access using IBM-Q would have been more impressive, those will come with heavy noise outputs would require additional noise and error mitigation procedures."
   ]
  },
  {
   "cell_type": "code",
   "execution_count": 50,
   "metadata": {},
   "outputs": [
    {
     "data": {
      "image/png": "[encoded data removed]",
      "text/plain": [
       "<Figure size 840.392x204.68 with 1 Axes>"
      ]
     },
     "execution_count": 50,
     "metadata": {},
     "output_type": "execute_result"
    }
   ],
   "source": [
    "#Quantum Circuit Diagram for A\n",
    "qcA = QuantumCircuit(2,2)\n",
    "qcA.h(0)\n",
    "qcA.barrier() #initialisation complete, 45 degre linearly polarised even mode\n",
    "PSSLM(np.pi/2,qcA) #no ancilla\n",
    "qcA.barrier() #beam is coupled, now on to analysis stage\n",
    "HWP(np.pi/4,qcA)\n",
    "SLM(np.pi/6,qcA)\n",
    "qcA.barrier()#Analysis stage complete. Now, measurement stage\n",
    "qcA.measure(0,0)\n",
    "qcA.measure(1,1)\n",
    "qcA.draw('mpl')"
   ]
  },
  {
   "cell_type": "code",
   "execution_count": 51,
   "metadata": {},
   "outputs": [],
   "source": [
    "def CA(theta_a,phi_a,phi):\n",
    "    qcA=QuantumCircuit(2,2)\n",
    "    qcA.h(0)\n",
    "    qcA.barrier() #initialisation complete, 45 degre linearly polarised even mode\n",
    "    PSSLM(phi,qcA) #no ancilla\n",
    "    qcA.barrier() #beam is coupled, now on to analysis stage\n",
    "    HWP(theta_a,qcA)\n",
    "    SLM(phi_a,qcA)\n",
    "    corr = corr_circ(qcA)\n",
    "    return corr"
   ]
  },
  {
   "cell_type": "code",
   "execution_count": 52,
   "metadata": {},
   "outputs": [
    {
     "data": {
      "application/vnd.jupyter.widget-view+json": {
       "model_id": "a45749648c2b4500bb303289f058e41f",
       "version_major": 2,
       "version_minor": 0
      },
      "text/plain": [
       "interactive(children=(FloatSlider(value=1.5707963267948966, continuous_update=False, description='phi_A', layo…"
      ]
     },
     "metadata": {},
     "output_type": "display_data"
    }
   ],
   "source": [
    "def CP_A(phi_A):\n",
    "    phi_fixed = phi_A\n",
    "    points = 50\n",
    "    ta_range = np.linspace(0,2*np.pi,points)\n",
    "    pa_range = np.linspace(0,2*np.pi,points)\n",
    "    X,Y = np.meshgrid(ta_range, pa_range)\n",
    "    Z = [[0 for i in range(50)] for j in range(50)]\n",
    "    for i in range(len(Y)):\n",
    "        for j in range(len(X)):\n",
    "            Z[i][j] = CA(ta_range[j],pa_range[i],phi_fixed)\n",
    "    fig, ax = plt.subplots(figsize=(7,5.7))\n",
    "    cp = ax.contourf(X, Y, Z ,cmap='turbo');\n",
    "    fig.colorbar(cp) # Add a colorbar to a plot\n",
    "    plt.xlim(0,2*np.pi)\n",
    "    plt.ylim(0,2*np.pi)\n",
    "    ax.axis('equal')\n",
    "    return\n",
    "interact(CP_A, phi_A=widgets.FloatSlider(min=0, max=2*np.pi, step=0.01, value=np.pi/2, continuous_update=False, layout=Layout(width='600px')));"
   ]
  },
  {
   "cell_type": "markdown",
   "metadata": {},
   "source": [
    "As we can see above we have succesfully recreated the same results using abstract qubits."
   ]
  },
  {
   "cell_type": "markdown",
   "metadata": {},
   "source": [
    "### 6.2 Experiment B\n",
    "Here in the experiment a random rotator is used to generate what would be measured as unpolarized light. As stated before the coherence of a the DoFs are analogous to a qubit being in a mixed or pure state. Since we are working with idealized qubits the state of the system will always remain pure however if one were to look into just the hilbert space of few of the qubits but not all we would have it perceived as an impure state. Here unpolarized light would have a coherency (density) matrix which is diagonal with both entries equal to 1/2. This is a completely mixed state and we can generate this by looking at the partial trace of a qubit which is paired with another qubit as the bell state $\\dfrac{|00\\rangle + |11\\rangle}{\\sqrt{2}}$. Hence we make use of $q_0$ as an ancillary qubit which is present as a bell pair with $q_1$ which is now the polarization qubit. $q_2$ is the parity qubit. As we can see since we do not measure the $q_0$ qubit we would actually see $q_1$ behave like a mixed state which is what the random rotator actually achieves. More specifically the bell state I have described has half probability for any state on the XZ plane of the bloch sphere and since the random rotator is a $R_yZ$ operation the system as a whole is essentially composed of all states on the XZ plane which would be described by observing one qubit out of this bell pair."
   ]
  },
  {
   "cell_type": "code",
   "execution_count": 53,
   "metadata": {},
   "outputs": [
    {
     "data": {
      "image/png": "[encoded data removed]",
      "text/plain": [
       "<Figure size 900.592x264.88 with 1 Axes>"
      ]
     },
     "execution_count": 53,
     "metadata": {},
     "output_type": "execute_result"
    }
   ],
   "source": [
    "#Quantum Circuit Diagram for A\n",
    "qc_B = QuantumCircuit(3,2)\n",
    "qc_B.h(0)\n",
    "qc_B.cx(0,1)\n",
    "qc_B.barrier() #initialisation complete as unpolarized light\n",
    "PSSLM(np.pi/2,qc_B,1)\n",
    "qc_B.barrier() #beam is coupled, now on to analysis stage\n",
    "HWP(np.pi/4,qc_B,1)\n",
    "SLM(np.pi/6,qc_B,1)\n",
    "qc_B.barrier()#Analysis stage complete. Now, measurement stage\n",
    "qc_B.measure(1,0)\n",
    "qc_B.measure(2,1)\n",
    "qc_B.draw('mpl')"
   ]
  },
  {
   "cell_type": "code",
   "execution_count": 54,
   "metadata": {},
   "outputs": [],
   "source": [
    "#Experiment C\n",
    "def CB(theta_a,phi_a,phi):\n",
    "    #Quantum Circuit Diagram for A\n",
    "    qc_B = QuantumCircuit(3)\n",
    "    qc_B.h(0)\n",
    "    qc_B.cx(0,1)\n",
    "    qc_B.barrier() #initialisation complete as unpolarized light\n",
    "    PSSLM(phi,qc_B,1)\n",
    "    qc_B.barrier() #beam is coupled, now on to analysis stage\n",
    "    HWP(theta_a,qc_B,1)\n",
    "    SLM(phi_a,qc_B,1)\n",
    "    qc_B.barrier()#Analysis stage complete.\n",
    "    return corr_circ(qc_B)"
   ]
  },
  {
   "cell_type": "code",
   "execution_count": 55,
   "metadata": {},
   "outputs": [
    {
     "data": {
      "application/vnd.jupyter.widget-view+json": {
       "model_id": "b4b1b1a8b89c494b94ddb7d12cf2aace",
       "version_major": 2,
       "version_minor": 0
      },
      "text/plain": [
       "interactive(children=(FloatSlider(value=3.141592653589793, continuous_update=False, description='phi_B', layou…"
      ]
     },
     "metadata": {},
     "output_type": "display_data"
    }
   ],
   "source": [
    "#This cell takes time to run\n",
    "def CP_B(phi_B):\n",
    "    phi_fixed = phi_B\n",
    "    points = 50\n",
    "    ta_range = np.linspace(0,2*np.pi,points)\n",
    "    pa_range = np.linspace(0,2*np.pi,points)\n",
    "    X,Y = np.meshgrid(ta_range, pa_range)\n",
    "    Z = [[0 for i in range(50)] for j in range(50)]\n",
    "    for i in range(len(Y)):\n",
    "        for j in range(len(X)):\n",
    "            Z[i][j] = CB(ta_range[j],pa_range[i],phi_fixed)\n",
    "    fig, ax = plt.subplots(figsize=(7,5.7))\n",
    "    cp = ax.contourf(X, Y, Z ,cmap='turbo');\n",
    "    fig.colorbar(cp) # Add a colorbar to a plot\n",
    "    plt.xlim(0,2*np.pi)\n",
    "    plt.ylim(0,2*np.pi)\n",
    "    ax.axis('equal')\n",
    "    return\n",
    "interact(CP_B, phi_B=widgets.FloatSlider(min=0, max=2*np.pi, step=0.01, value=np.pi, continuous_update=False, layout=Layout(width='600px')));"
   ]
  },
  {
   "cell_type": "markdown",
   "metadata": {},
   "source": [
    "As we can see above we have again been able to reproduce results exactly from those we obtained previously and that of the paper for the correlation function."
   ]
  },
  {
   "cell_type": "markdown",
   "metadata": {},
   "source": [
    "### 6.3 Experiment C\n",
    "In experiment C the paper randomly chooses to either couple the DoFs or not with probability of $P$ and $1-P$ respectively. To recreate this I again make use of an ancillary qubit $q_0$ similar to section [6.2](#6.2-Experiment-B). The idea is to create this in the state $\\sqrt{1-P}|0\\rangle + \\sqrt{P}|1\\rangle$ and use a controlled-Rx gate with angle $-\\pi$ with $q_0$ and $q_1$ (polarization) as control bits where polarization needs to be 0 and ancilla needs to be 1 to activate this rotation. The circuit used decomposes the two control gate using the standard procedure for decomposing two control single target qubit gates if the single control gate is available."
   ]
  },
  {
   "cell_type": "code",
   "execution_count": 56,
   "metadata": {},
   "outputs": [
    {
     "data": {
      "image/png": "[encoded data removed]",
      "text/plain": [
       "<Figure size 1081.19x264.88 with 1 Axes>"
      ]
     },
     "execution_count": 56,
     "metadata": {},
     "output_type": "execute_result"
    }
   ],
   "source": [
    "qc_C = QuantumCircuit(3,2)\n",
    "P = 0.5\n",
    "qc_C.ry(2*np.arccos(np.sqrt(1-P)),0)#Preparing the probability qubit\n",
    "qc_C.h(1)\n",
    "qc_C.barrier()\n",
    "#Do a controlled Rx(-pi) gate with two controls\n",
    "qc_C.x(1)\n",
    "qc_C.crx(-np.pi/2,1,2)\n",
    "qc_C.cx(0,1)\n",
    "qc_C.crx(np.pi/2,1,2)\n",
    "qc_C.cx(0,1)\n",
    "qc_C.crx(-np.pi/2,0,2)\n",
    "qc_C.x(1)\n",
    "qc_C.barrier()\n",
    "#Analysis stage now\n",
    "HWP(np.pi/6,qc_C,1)\n",
    "SLM(np.pi/3,qc_C,1)\n",
    "qc_C.barrier()\n",
    "qc_C.measure(1,0)\n",
    "qc_C.measure(2,1)\n",
    "qc_C.draw('mpl')"
   ]
  },
  {
   "cell_type": "code",
   "execution_count": 57,
   "metadata": {},
   "outputs": [],
   "source": [
    "#Experiment C\n",
    "def CC(P,theta_a,phi_a):\n",
    "    qc_C = QuantumCircuit(3)\n",
    "    qc_C.ry(2*np.arccos(np.sqrt(1-P)),0)#Preparing the probability qubit\n",
    "    qc_C.h(1)\n",
    "    qc_C.barrier()\n",
    "    #Do a controlled y gate with two controls\n",
    "    qc_C.x(1)\n",
    "    qc_C.crx(-np.pi/2,1,2)\n",
    "    qc_C.cx(0,1)\n",
    "    qc_C.crx(np.pi/2,1,2)\n",
    "    qc_C.cx(0,1)\n",
    "    qc_C.crx(-np.pi/2,0,2)\n",
    "    qc_C.x(1)\n",
    "    qc_C.barrier()\n",
    "    #Analysis stage now\n",
    "    HWP(theta_a,qc_C,1)\n",
    "    SLM(phi_a,qc_C,1)\n",
    "    return corr_circ(qc_C)"
   ]
  },
  {
   "cell_type": "code",
   "execution_count": 58,
   "metadata": {},
   "outputs": [
    {
     "data": {
      "application/vnd.jupyter.widget-view+json": {
       "model_id": "bd7f8ace7ca4477c86758c91619ae7d7",
       "version_major": 2,
       "version_minor": 0
      },
      "text/plain": [
       "interactive(children=(FloatSlider(value=0.5, continuous_update=False, description='P_var', layout=Layout(width…"
      ]
     },
     "metadata": {},
     "output_type": "display_data"
    }
   ],
   "source": [
    "def CP_C(P_var):\n",
    "    P_fixed = P_var\n",
    "    points = 50\n",
    "    ta_range = np.linspace(0,2*np.pi,points)\n",
    "    pa_range = np.linspace(0,2*np.pi,points)\n",
    "    X,Y = np.meshgrid(ta_range, pa_range)\n",
    "    Z = [[0 for i in range(50)] for j in range(50)]\n",
    "    for i in range(len(Y)):\n",
    "        for j in range(len(X)):\n",
    "            Z[i][j] = CC(P_fixed,ta_range[j],pa_range[i])\n",
    "    fig, ax = plt.subplots(figsize=(7,5.7))\n",
    "    cp = ax.contourf(X, Y, Z ,cmap='turbo');\n",
    "    fig.colorbar(cp) # Add a colorbar to a plot\n",
    "    plt.xlim(0,2*np.pi)\n",
    "    plt.ylim(0,2*np.pi)\n",
    "    ax.axis('equal')\n",
    "interact(CP_C, P_var=widgets.FloatSlider(min=0, max=1, step=0.01, value=0.5, continuous_update=False, layout=Layout(width='600px')));"
   ]
  },
  {
   "cell_type": "markdown",
   "metadata": {},
   "source": [
    "As we can see above this also faithfully reproduces the required results for the correlation function.\n",
    "\n",
    "### Universality using optical components\n",
    "Our main reference for this is [[3](#ref-3)]. To fully realize quantum computing (or any form of computing) one needs a physical system capable of producing the minimal set of operations which can then be extended to a set of all possible operations and sequences of operations. In classical computers the complete set is realized using the set of operations $\\{\\lnot,\\land\\}$ or $\\{\\lnot,\\lor\\}$. For quantum computers universality would imply being able to make any circuit which essentially means the set of all unitary matrices. This of course is non inclusive of measurements (which will not keep a circuit unitary) but one can prove that measurements placed in the middle of a cicuit can be taken to the very end without affecting the final measurement probabilities (since once measured any qubit is essentially decohered and cannot be part of the circuit anyway). \n",
    "\n",
    "To get the complete set of unitary matrices we can first start for the case of a single qubit. This set would essentially be the $SU(2)$ group which is isomorphic to $SO(3)$ and given that we have an $R_x(\\theta)$ gate in form of the SLM we actually just need rotation about some other axis to achieve single qubit universality for parity. The polarization qubit does have a $R_y(\\theta)Z$ qubit which can be used to get the hadamard gate $H$ with $\\theta = \\pi/2$ and in combination with a quarter wave plate with fast axis horizontal which is effectively the square root of $Z$ denoted with an $S$ (ignoring global phase) we can actually make the HWP just be a pure $R_y(\\theta)$. Additionally using $\\theta=\\pi$ we can make this into an $X$ gate ignoring global phase. The importance of this $X$ gate is that if we apply the gate sequence $X$-PSSLM-$X$ it is effectively a PSSLM which applies the operation of the SLM when the polarization is vertical which transalates exactly into a controlled $R_x(\\phi)$ operation which we will use in our analysis below. \n",
    "\n",
    "The PS-SLM is an operator which controls the parity using the polarity and is essentially a controlled Rx gate and so can be made into a CNOT gate which adds an additional phase of $\\iota$ to the horizontal polarization component. To make the CNOT of the other way we can try for the MZI configuration proposed [here](#Proposal-for-a-Parity-Sensitive-Polarisation-Modifier). The point here is that once we have these two CNOTS, we can essentially get universal unitaries by swapping the polarization (see cells below) and parity qubit in such a way that we can apply an Rx gate followed by Ry and then another Rx with the appropriate euler angles and we can attain individual qubit universalities of $U3$ gates.\n",
    "\n",
    "The exact CNOT operation where polarization is control and parity is target involves making use of a quarter wave plate which has the operator form of $e^{-\\iota\\pi/4}\\begin{pmatrix}1 & 0\\\\0 & \\iota\\end{pmatrix}$ on the polarization qubit so that we can induce a relative phase between H and V of polarization. \n",
    "\n",
    "Now for getting overall universality we just need the CNOT gates of both ways and since we already have that using the PSSLM and the MZI setup described previously we actually have a universal quantum computer of two qubits."
   ]
  },
  {
   "cell_type": "code",
   "execution_count": 59,
   "metadata": {},
   "outputs": [
    {
     "name": "stdout",
     "output_type": "stream",
     "text": [
      "[[1.+0.000000e+00j 0.+0.000000e+00j 0.+0.000000e+00j 0.+0.000000e+00j]\n",
      " [0.+0.000000e+00j 0.+0.000000e+00j 0.+0.000000e+00j 1.-6.123234e-17j]\n",
      " [0.+0.000000e+00j 0.+0.000000e+00j 1.+0.000000e+00j 0.+0.000000e+00j]\n",
      " [0.+0.000000e+00j 1.+6.123234e-17j 0.+0.000000e+00j 0.+0.000000e+00j]]\n",
      "               ┌───┐\n",
      "q_0: ────■─────┤ S ├\n",
      "     ┌───┴────┐└───┘\n",
      "q_1: ┤ RX(pi) ├─────\n",
      "     └────────┘     \n"
     ]
    }
   ],
   "source": [
    "import qiskit.quantum_info as qi\n",
    "#CNOT\n",
    "qc_cn = QuantumCircuit(2)\n",
    "qc_cn.crx(np.pi,0,1)#PSSLM\n",
    "qc_cn.s(0)\n",
    "print((qi.Operator(qc_cn).data))\n",
    "print(qc_cn.draw())"
   ]
  },
  {
   "cell_type": "markdown",
   "metadata": {},
   "source": [
    "As we can see above as per the matrix form of the operation the circuit has done, this achieves the CNOT gate which we desire and below we show how make this into a swap gate."
   ]
  },
  {
   "cell_type": "code",
   "execution_count": 60,
   "metadata": {},
   "outputs": [
    {
     "name": "stdout",
     "output_type": "stream",
     "text": [
      "[[1.+0.000000e+00j 0.+0.000000e+00j 0.+0.000000e+00j 0.+0.000000e+00j]\n",
      " [0.+0.000000e+00j 0.+0.000000e+00j 1.-6.123234e-17j 0.+0.000000e+00j]\n",
      " [0.+0.000000e+00j 1.+6.123234e-17j 0.+0.000000e+00j 0.+0.000000e+00j]\n",
      " [0.+0.000000e+00j 0.+0.000000e+00j 0.+0.000000e+00j 1.+0.000000e+00j]]\n",
      "               ┌───┐┌───┐          ┌───┐\n",
      "q_0: ────■─────┤ S ├┤ X ├────■─────┤ S ├\n",
      "     ┌───┴────┐└───┘└─┬─┘┌───┴────┐└───┘\n",
      "q_1: ┤ RX(pi) ├───────■──┤ RX(pi) ├─────\n",
      "     └────────┘          └────────┘     \n"
     ]
    }
   ],
   "source": [
    "import qiskit.quantum_info as qi\n",
    "#Swap gate\n",
    "qc_sw = QuantumCircuit(2)\n",
    "qc_sw.crx(np.pi,0,1)#PSSLM\n",
    "qc_sw.s(0)#QWP\n",
    "qc_sw.cx(1,0)\n",
    "qc_sw.crx(np.pi,0,1)#PSSLM\n",
    "qc_sw.s(0)#QWP\n",
    "#Swapping complete\n",
    "print((qi.Operator(qc_sw).data))#See the operator as a matrix\n",
    "print(qc_sw.draw())"
   ]
  },
  {
   "cell_type": "markdown",
   "metadata": {},
   "source": [
    "As we can see above that this achieves the same unitary that a swap gate would. Since we have shown that polarization is capable of arbitray $R_x$ rotations and parity qubits are capable of arbitrary $R_y$ rotations we can follow the following sequence of steps for U3 gates on polarization as shown below. We take the euler angles for $Y-X-Y$ and first apply $R_y$ on polarization, swap with parity and apply a $R_x$ on parity after that. Finally swap again and do the final $R_y$ on the polarization qubit. We follow a similar procedure for parity U3 gates but instead use euler angles of $X-Y-X$."
   ]
  },
  {
   "cell_type": "code",
   "execution_count": 61,
   "metadata": {},
   "outputs": [
    {
     "data": {
      "image/png": "[encoded data removed]",
      "text/plain": [
       "<Figure size 1201.59x144.48 with 1 Axes>"
      ]
     },
     "execution_count": 61,
     "metadata": {},
     "output_type": "execute_result"
    }
   ],
   "source": [
    "#For doing arbitrary rotations on the polarization qubit\n",
    "qc_uq1 = QuantumCircuit(2)\n",
    "eul1 = np.pi/2\n",
    "eul2 = np.pi/3\n",
    "eul3 = np.pi\n",
    "qc_uq1.ry(eul1,0) #HWP combined with QWP\n",
    "qc_uq1.barrier()\n",
    "qc_uq1.crx(np.pi,0,1)#PSSLM\n",
    "qc_uq1.s(0)#QWP\n",
    "qc_uq1.cx(1,0)\n",
    "qc_uq1.crx(np.pi,0,1)#PSSLM\n",
    "qc_uq1.s(0)#QWP\n",
    "#Swapping complete\n",
    "qc_uq1.barrier()\n",
    "qc_uq1.rx(eul2,1) #SLM\n",
    "qc_uq1.barrier()\n",
    "qc_uq1.crx(np.pi,0,1)#PSSLM\n",
    "qc_uq1.s(0)#QWP\n",
    "qc_uq1.cx(1,0)\n",
    "qc_uq1.crx(np.pi,0,1)#PSSLM\n",
    "qc_uq1.s(0)#QWP\n",
    "#Swapping complete\n",
    "qc_uq1.barrier()\n",
    "qc_uq1.ry(eul3,0) #HWP combined with QWP\n",
    "qc_uq1.draw('mpl')"
   ]
  },
  {
   "cell_type": "code",
   "execution_count": 62,
   "metadata": {},
   "outputs": [
    {
     "data": {
      "image/png": "[encoded data removed]",
      "text/plain": [
       "<Figure size 1201.59x144.48 with 1 Axes>"
      ]
     },
     "execution_count": 62,
     "metadata": {},
     "output_type": "execute_result"
    }
   ],
   "source": [
    "#For doing arbitrary rotations on the parity qubit\n",
    "qc_uq2 = QuantumCircuit(2)\n",
    "eul1 = np.pi/2\n",
    "eul2 = np.pi/3\n",
    "eul3 = np.pi\n",
    "qc_uq2.rx(eul1,1) #HWP combined with QWP\n",
    "qc_uq2.barrier()\n",
    "qc_uq2.crx(np.pi,0,1)#PSSLM\n",
    "qc_uq2.s(0)#QWP\n",
    "qc_uq2.cx(1,0)\n",
    "qc_uq2.crx(np.pi,0,1)#PSSLM\n",
    "qc_uq2.s(0)#QWP\n",
    "#Swapping complete\n",
    "qc_uq2.barrier()\n",
    "qc_uq2.ry(eul2,0)\n",
    "qc_uq2.barrier()\n",
    "qc_uq2.crx(np.pi,0,1)#PSSLM\n",
    "qc_uq2.s(0)#QWP\n",
    "qc_uq2.cx(1,0)\n",
    "qc_uq2.crx(np.pi,0,1)#PSSLM\n",
    "qc_uq2.s(0)#QWP\n",
    "#Swapping complete\n",
    "qc_uq2.barrier()\n",
    "qc_uq2.rx(eul3,1) #HWP combined with QWP\n",
    "qc_uq2.draw('mpl')"
   ]
  },
  {
   "cell_type": "markdown",
   "metadata": {},
   "source": [
    "We must note that in the above schemes for U3 gates the other qubit over which the middle rotation is done actually unchanged due to the two swaps and there is no entaglement involved. Hence we have demonstrated a recipe for arbitrary U3 gates on both qubits and we also showed CNOT execution giving us a universal set for any unitary circuit on these two qubits."
   ]
  },
  {
   "cell_type": "markdown",
   "metadata": {},
   "source": [
    "## 7. Concluding Remarks\n",
    "The exceeding of $B_\\text{max}$ beyond the value of 2 in quantum mechanics implied that one cannot use locally deterministic hidden variable theories to explain quantum mechanics or simply put proves that quantum mechanics violates local realism. Here we have seen that $B_\\text{max}$ exceeds this classical limit and one can conclude equivalently that one cannot write the correlation function as some $C(\\theta_a,\\phi_a) = \\int d\\lambda\\rho(\\lambda)C_\\text{pol}(\\theta_a,\\lambda)C_\\text{par}(\\phi_a,\\lambda)$ where $\\lambda$ is some set of hidden variables. The proper proof of this is described in [Appendix A](#Appendix-A:-The-EPR-paradox-and-Bell's-inequalities) and the experimental results concur with this. \n",
    "\n",
    "In a way this shows that if one were to have two DoFs, there would be an uncertainty which arises due their coupling which is quantised by using the Bell's measure. These results would hold good regardless of the type of DoF used and can be extended to systems with a higher number of DoFs too. We also explored how one can link this with quantum systems and reproduced the results using a quantum computer simulation of IBM Q.\n",
    "\n",
    "More importantly one must take note of how looking at the coherency behaviors of the individual DoFs would not address the actual coherence it had since some of it would be 'shared' in form of coupling. In short the partial traces of coherency matrices offer an incomplete picture of the system quite similar to how one would deal with multi qubit systems and have the state behave mixed when only looking at the partial trace over a part of the Hilber space. We even took advantage of this incomplete picture to create mixed states in the previous section. This also demonstrates how one could effectively share coherence between two DoFs as seen in experiment B where the coherency $S_\\text{pol}$ of the polarization qubit is effectively increased at maximal entaglement with the fully coherent parity DoF."
   ]
  },
  {
   "cell_type": "markdown",
   "metadata": {},
   "source": [
    "## 8. Endsem Problem\n",
    "Design a fredkin gate."
   ]
  },
  {
   "cell_type": "markdown",
   "metadata": {},
   "source": [
    "## Appendix A: The EPR paradox and Bell's inequalities\n",
    "\n",
    "Before talking about the bell's measure let us first dive into why it was made and for this we must look at the EPR experiment proposed in [[4](#ref-4)]. I will discuss Bohm's variant since Bell's response was made in a way to that. Say we have prepared a electron-positron pair coming from a single source. These would be entangled in a way where if we measure the spin of one of the particles, the other particle will simultaneously collapse to the opposite spin.\n",
    "$$|{\\psi}\\rangle = \\dfrac{|{\\uparrow_e\\downarrow_p}\\rangle + |{\\downarrow_e\\uparrow_p}\\rangle}{\\sqrt{2}}$$\n",
    "So the main issue which Einstein had was that this means that measurement on one particle directly affects the other no matter how far it is. This makes it a non local effect which clearly does not make sense in a world which was believed to follow local realism. It can be proven that the two agents have no way to communicate using this pair hence showing that there actually is no faster than light comminication. While one may think choosing basis in a certain manner can change measurement probabilities and essentially have some \"information\" change, no matter how much measurements are done, since this is probabilistic the other agent cannot conclude anything from that.\n",
    "   \n",
    "\n",
    "While there have been multiple responses to this, the most important one is the one discussed in Bell's paper [[5](#ref-5)].\n",
    "First we will start by considering the EPR argument using spin particles. Consider a pair of spin one-half particles formed somehow in the singlet spin state and moving freely in opposite directions. Measurements can be made, say by Stern-Gerlach magnets, on selected components of the spins $\\vec{\\sigma_1}$ and $\\vec{\\sigma_2}$,\n",
    "If measurement of the component $\\vec{\\sigma_1}\\cdot{a}$, where $a$ is some unit vector, yields the value +1 then, according to quantum mechanics, measurement of $\\vec{\\sigma_2}\\cdot{a}$ must yield the value -1 and vice versa.\n",
    "We now define some set of parameters $\\lambda$ which is taken as continuous which give us a complete description of the state. The result $A$ of measuring $\\vec{\\sigma_1}\\cdot{a}$ is then determined by $a$ and $\\lambda$, and the result $B$ of measuring $\\vec{\\sigma_2}\\cdot{b}$ in the\n",
    "same instance is determined by $b$ and $\\lambda$.\n",
    "\\begin{equation}\\label{eq:1A}\\tag{1A}A(\\vec{a},\\lambda) = \\pm 1, B(\\vec{b},\\lambda) = \\pm 1 \\end{equation}\n",
    "We now take $\\rho(\\lambda)$ as the probability distribution of $\\lambda$ and we will now try to find the expectation value of of the product of the two components $\\vec{\\sigma_1}\\cdot{a}$ and $\\vec{\\sigma_2}\\cdot{b}$.\n",
    "\\begin{equation}\\label{eq:2A}\\tag{2A}P(\\vec{a}\\vec{b}) = \\int{d\\lambda}\\rho{\\lambda}A(\\vec{a},\\lambda)B(\\vec{b},\\lambda)\\end{equation}\n",
    "The quantum mechanical expectation value of this is the following\n",
    "\\begin{equation}\\label{eq:3A}\\tag{3A}\\langle\\vec{\\sigma_1}\\cdot{a}\\vec{\\sigma_2}\\cdot{b}\\rangle = - \\vec{a}\\cdot\\vec{b}\\end{equation}\n",
    "However it turns out that eq: \\ref{eq:2A} doesn't give us the same result as \\ref{eq:3A}. So first off we know that we have a normalized distribution.\n",
    "\\begin{equation}\\label{eq:4A}\\tag{4A}\\int{d\\lambda}\\rho(\\lambda) = 1\\end{equation}\n",
    "if we take $\\vec{a} = \\vec{b}$ the $P$ in eq: \\ref{eq:2A} can reach -1.\n",
    "\\begin{equation}\\label{eq:5A}\\tag{5A}A(\\vec{a},\\lambda) = -B(\\vec{a},\\lambda)\\end{equation}\n",
    "Knowing this we can rewrite eq: \\ref{eq:2A} into the following\n",
    "\\begin{equation}\\label{eq:6A}\\tag{6A}P(\\vec{a}\\vec{b}) = -\\int{d\\lambda}\\rho{\\lambda}A(\\vec{a},\\lambda)A(\\vec{b},\\lambda)\\end{equation}\n",
    "\\begin{equation}\\label{eq:7A}\\tag{7A}P(\\vec{a},\\vec{b}) - P(\\vec{a},\\vec{c}) = \\int{d\\lambda}\\rho{\\lambda}[1-A(\\vec{b},\\lambda)A(\\vec{c},\\lambda)]\\end{equation}\n",
    "from eq: \\ref{eq:1A} we can write this\n",
    "\\begin{equation}\\label{eq:8A}\\tag{8A}|P(\\vec{a},\\vec{b}) - P(\\vec{a},\\vec{c})| \\leq \\int{d\\lambda}\\rho{\\lambda}A(\\vec{a},\\lambda)A(\\vec{b},\\lambda)[A(\\vec{b},\\lambda)A(\\vec{c},\\lambda) - 1]\\end{equation}\n",
    "The second term on the right is just $P(\\vec{b},\\vec{c})$ so we get\n",
    "\\begin{equation}\\label{eq:9A}\\tag{9A}1 + P(\\vec{b},\\vec{c}) \\geq |P(\\vec{a},\\vec{b}) - P(\\vec{a},\\vec{c})|\\end{equation}\n",
    "Now we define a $\\overline{P}(\\vec{a},\\vec{b})$ and a $\\overline{- \\vec{a}\\cdot\\vec{b}}$ which essentially are the averages over vectors differing from a small angle from $\\vec{a}$ and $\\vec{b}$ of the quantities under the bar. Let's suppose the following holds for some $\\epsilon$\n",
    "\\begin{equation}\\label{eq:10A}\\tag{10A}|\\overline{P}(\\vec{a},\\vec{b}) + \\overline{\\vec{a}\\cdot\\vec{b}}| \\leq \\epsilon\\end{equation}\n",
    "We cannot make $\\epsilon$ arbitrarily small and this can be proven by the following steps. Let us first assume the following inequality holds for all $\\vec{a}$ and $\\vec{b}$\n",
    "\\begin{equation}\\label{eq:11A}\\tag{11A}|\\overline{\\vec{a}\\cdot\\vec{b}} - \\vec{a}\\cdot\\vec{b}| \\leq\\delta\\end{equation}\n",
    "Then using eq:\\ref{eq:11A} and eq:\\ref{eq:10A} we have\n",
    "\\begin{equation}\\label{eq:12A}\\tag{12A}|\\overline{P}(\\vec{a},\\vec{b}) + \\vec{a}\\cdot\\vec{b}| \\leq \\epsilon + \\delta\\end{equation}\n",
    "Now taking $\\vec{a} = \\vec{b}$ (hence their dot product is 1) we rewrite eq:\\ref{eq:12A} as the equation below while using the fact that $\\overline{P(\\vec{a},\\vec{b})} = \\int d\\lambda\\rho(\\lambda)\\overline{A}(\\vec{a},\\lambda)\\overline{B}(\\vec{b},\\lambda))$.\n",
    "\\begin{equation}\\label{eq:13A}\\tag{13A}\\int d\\lambda\\rho(\\lambda)[\\overline{A}(\\vec{b},\\lambda)\\overline{B}(\\vec{b},\\lambda))+1] \\leq\\epsilon+\\delta\\end{equation}\n",
    "We can extend from \\ref{eq:1A} that on averaging over a small range, $|\\overline{A}(\\vec{a},\\lambda)| \\leq 1$ and $|\\overline{B}(\\vec{b},\\lambda)| \\leq 1$. Now we can write the following\n",
    "\\begin{equation}\\label{eq:14A}\\tag{14A}\\overline{P}(\\vec{a},\\vec{b})-\\overline{P}(\\vec{b},\\vec{c}) = \\int{d\\lambda}\\rho(\\lambda)\\overline{A}(\\vec{a},\\lambda)\\overline{B}(\\vec{b},\\lambda)[\\overline{A}(\\vec{b},\\lambda)\\overline{B}(\\vec{c},\\lambda) + 1] - \\int{d\\lambda}\\rho(\\lambda)\\overline{A}(\\vec{a},\\lambda)\\overline{B}(\\vec{c},\\lambda)[\\overline{A}(\\vec{b},\\lambda)\\overline{B}(\\vec{b},\\lambda) + 1]\\end{equation}\n",
    "Using the inequalities on the averaged $A$ and $B$ we can write the following\n",
    "\\begin{equation}\\label{eq:15A}\\tag{15A}|\\overline{P}(\\vec{a},\\vec{b})-\\overline{P}(\\vec{b},\\vec{c})| \\leq \\int{d\\lambda}\\rho(\\lambda)[\\overline{A}(\\vec{b},\\lambda)\\overline{B}(\\vec{c},\\lambda) + 1] - \\int{d\\lambda}\\rho(\\lambda)[\\overline{A}(\\vec{b},\\lambda)\\overline{B}(\\vec{b},\\lambda) + 1]\\end{equation}\n",
    "\\begin{equation}\\label{eq:16A}\\tag{16A}|\\overline{P}(\\vec{a},\\vec{b})-\\overline{P}(\\vec{b},\\vec{c})| \\leq 1 + \\overline{P} + \\epsilon+\\delta\\end{equation}\n",
    "We write eq:\\ref{eq:16A} using eq:\\ref{eq:15A} and eq:\\ref{eq:13A}. Finally using eq:\\ref{eq:12A} we rewrite the above equation as\n",
    "\\begin{equation}\\label{eq:17A}\\tag{17A}|\\vec{a}\\cdot\\vec{c}-\\vec{a}\\cdot\\vec{b}|+\\vec{b}\\cdot\\vec{c}-1 \\leq 4(\\epsilon+\\delta)\\end{equation}\n",
    "Now with the constr  aint coming from eq:\\ref{eq:17A} we can handpick values of $\\vec{a},\\vec{b},\\vec{c}$ such that $\\epsilon$ cannot be made arbitrarily small (take $\\vec{a}\\cdot\\vec{b} = \\vec{c}\\cdot\\vec{b} = 1/\\sqrt{2}$ and $\\vec{a}\\cdot\\vec{c} = 0$ this would show $4(\\epsilon+\\delta)\\geq\\sqrt{2}-1$). The fact that $\\epsilon$ cannot be made arbitrarily small implies that the quantum mechanical value cannot be approximated either accurately or arbitrarily close to this form using hidden variable. So this contradiction implies that some assumptions that we have taken happen to not work together and that happen to be local determinism and hidden variables. So any hidden variable theory by nature itself is non local.\n",
    "\n",
    "To get the form of the CSHS inequalities we essentially modify the form of eq:\\ref{eq:14A} and write it as follows\n",
    "\\begin{equation}\\label{eq:18A}\\tag{18A}\\overline{P}(\\vec{a},\\vec{b})-\\overline{P}(\\vec{a},\\vec{b}') = \\int{d\\lambda}\\rho(\\lambda)\\overline{A}(\\vec{a},\\lambda)\\overline{B}(\\vec{b},\\lambda)[1\\pm\\overline{A}(\\vec{a}',\\lambda)\\overline{B}(\\vec{b}',\\lambda)] - \\int{d\\lambda}\\rho(\\lambda)\\overline{A}(\\vec{a},\\lambda)\\overline{B}(\\vec{b}',\\lambda)[1\\pm\\overline{A}(\\vec{a}',\\lambda)\\overline{B}(\\vec{b},\\lambda)]\\end{equation}\n",
    "We now apply the triangle inequality and also note that the modulus of the averaged functions $\\overline{A}$ and $\\overline{B}$ are bounded above by 1 we will get\n",
    "\\begin{equation}\\label{eq:19A}\\tag{19A}|\\overline{P}(\\vec{a},\\vec{b})-\\overline{P}(\\vec{a},\\vec{b}')| \\leq \\left|\\int{d\\lambda}\\rho(\\lambda)[1\\pm\\overline{A}(\\vec{a}',\\lambda)\\overline{B}(\\vec{b}',\\lambda)]\\right| + \\left|\\int{d\\lambda}\\rho(\\lambda)[1\\pm\\overline{A}(\\vec{a}',\\lambda)\\overline{B}(\\vec{b},\\lambda)]\\right|\\end{equation}\n",
    "We may as well remove the moduli brackets on the LHS since the quantities is non negative. Since $\\int\\rho(\\lambda)d\\lambda = 1$ and $\\overline{P(\\vec{a},\\vec{b})} = \\int d\\lambda\\rho(\\lambda)\\overline{A}(\\vec{a},\\lambda)\\overline{B}(\\vec{b},\\lambda))$ we can rewrite eq:\\ref{eq:19A} as\n",
    "\\begin{equation}\\label{eq:20A}\\tag{20A}|\\overline{P}(\\vec{a},\\vec{b})-\\overline{P}(\\vec{a},\\vec{b}')| \\leq 2 \\pm (\\overline{P}(\\vec{a}',\\vec{b}') + \\overline{P}(\\vec{a}',\\vec{b})) \\leq 2 \\pm |\\overline{P}(\\vec{a}',\\vec{b}') + \\overline{P}(\\vec{a}',\\vec{b}|\\end{equation}\n",
    "The second inequality comes from the triangle inequality. Now we can choose the minus sign and we get\n",
    "\\begin{equation}\\label{eq:21A}\\tag{21A}|\\overline{P}(\\vec{a},\\vec{b})-\\overline{P}(\\vec{a},\\vec{b}')| + |\\overline{P}(\\vec{a}',\\vec{b}') + \\overline{P}(\\vec{a}',\\vec{b}| \\leq 2\\end{equation}\n",
    "Finally we get the following equation by applying the triangle inequality on RHS of eq:\\ref{eq:21A}\n",
    "\\begin{equation}\\label{eq:22A}\\tag{22A}|\\overline{P}(\\vec{a},\\vec{b})-\\overline{P}(\\vec{a},\\vec{b}') + \\overline{P}(\\vec{a}',\\vec{b}') + \\overline{P}(\\vec{a}',\\vec{b}| \\leq 2\\end{equation}\n",
    "The above inequality is the form of writing the CHSH inequalities [[6](#ref-6)]. The bound above is shown to be 2 which is satisfied for classical systems and is violated for quantum mechanical correlations. One can instead prove a different bound for quantum correlations as $2\\sqrt{2}$. This is reffered to as the Tsirelon's bound. To prove this we can suppose we have four hermitian operators $A_0,A_1,B_0,B_1$ where $[A_i,B_j] = 0$ but the $[A_0,A_1] \\neq 0$ and $[B_0,B_1] \\neq 0$. We define these $A$ operators as being two different spin measurements on the same electron and $B$ being the same on the positron where their results are either $+1$ or $-1$. We know that for a simple spin system $[\\sigma\\cdot\\vec{a},\\sigma\\cdot\\vec{b}] = 2\\iota\\sigma\\cdot(\\vec{a}\\times\\vec{b})$. Now we will define a new operator called $\\mathcal{B}$\n",
    "$$\\mathcal{B} = A_0B_0 + A_0B_1 + A_1B_0 - A_1B_1$$\n",
    "This operator has been defined along the lines of the bell's measure where expectation value of the modulus of this operator would be the actual bells measure for a correlation function of $C_{ij} = \\langle A_iB_j\\rangle$. We can now square this operator and it would simpify as the equation below (since $A_i^2 = B_i^2 = I$)\n",
    "$$\\mathcal{B}^2 = 4I - [A_0,A_1][B_0,B_1]$$\n",
    "Since these are spin operators we have $|[A_0,A_1][B_0,B_1]| \\leq 4I$ using the commutation relation we had defined earlier. We would infact have $\\mathcal{B}^2$ reach it's maximum if $A_0,B_0$ measures along $\\hat{x}$ and $A_1,B_1$ measures along $\\hat{y}$ which would make $\\mathcal{B}^2 = 8I$. This leads us to $\\langle \\mathcal{B}\\rangle \\leq 2\\sqrt{2}$ which is the Tsirelon's bound [[7](#ref-7)]. In this paper the $B_{max}$ values are bounded above due to Tsirelon's bound.\n"
   ]
  },
  {
   "cell_type": "markdown",
   "metadata": {},
   "source": [
    "## References\n",
    "<br>\n",
    "<div id=\"ref-1\">[1] Kagalwala, K., Di Giuseppe, G., Abouraddy, A. et al. Bell's measure in classical optical coherence. Nature Photon 7, 72–78 (2013). <a href=\"https://doi.org/10.1038/nphoton.2012.312\">https://doi.org/10.1038/nphoton.2012.312</a></div>\n",
    "<div id=\"ref-2\">[2] Aiello, A., and Woerdman, J. (2005). Physical Bounds to the Entropy-Depolarization Relation in Random Light Scattering. Phys. Rev. Lett., 94, 090406.</div>\n",
    "<div id=\"ref-3\">[3] Nielsen, M, Chuang, I. Quantum Computation and Quantum Information: 10th Anniversary Edition. Cambridge University Press; 2011.</div>\n",
    "<div id=\"ref-4\">[4] Einstein, A, Podolsky, B, Rosen, N. \"Can Quantum-Mechanical Description of Physical Reality Be Considered Complete?\". Phys. Rev. 1935; 47:777–780.</div>\n",
    "<div id=\"ref-5\">[5] Bell, J. \"On the Einstein Podolsky Rosen paradox\". Physics Physique Fizika 1964; 1:195–200.</div>\n",
    "<div id=\"ref-6\">[6] Clauser, J, Horne, M, Shimony, A, Holt, R. \"Proposed Experiment to Test Local Hidden-Variable Theories\". Phys. Rev. Lett. 1969; 23:880–884.</div>\n",
    "<div id=\"ref-7\">[7] Cirel'son, B.S. Quantum generalizations of Bell's inequality. Lett Math Phys 4, 93–100 (1980). <a href=\"https://doi.org/10.1007/BF00417500\">https://doi.org/10.1007/BF00417500</a></div>"
   ]
  }
 ],
 "metadata": {
  "kernelspec": {
   "display_name": "Python 3",
   "language": "python",
   "name": "python3"
  },
  "language_info": {
   "codemirror_mode": {
    "name": "ipython",
    "version": 3
   },
   "file_extension": ".py",
   "mimetype": "text/x-python",
   "name": "python",
   "nbconvert_exporter": "python",
   "pygments_lexer": "ipython3",
   "version": "3.7.4"
  }
 },
 "nbformat": 4,
 "nbformat_minor": 2
}
