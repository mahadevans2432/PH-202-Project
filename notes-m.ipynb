{
 "cells": [
  {
   "cell_type": "markdown",
   "metadata": {},
   "source": [
    "# BELL'S MEASURE IN CLASSICAL OPTICAL COHERENCE"
   ]
  },
  {
   "cell_type": "markdown",
   "metadata": {},
   "source": [
    "## 0. Setting up this notebook\n",
    "Kindly run the cell below to make sure you have all required dependencies"
   ]
  },
  {
   "cell_type": "markdown",
   "metadata": {},
   "source": [
    "### 0.1 Installing and Importing Packages"
   ]
  },
  {
   "cell_type": "code",
   "execution_count": 126,
   "metadata": {},
   "outputs": [
    {
     "name": "stdout",
     "output_type": "stream",
     "text": [
      "Successfully imported packages\n"
     ]
    }
   ],
   "source": [
    "from IPython.display import clear_output,display, Math, Latex\n",
    "!pip install numpy\n",
    "!pip install scipy\n",
    "!pip install matplotlib\n",
    "!pip install sympy\n",
    "!pip install seaborn\n",
    "!pip install qiskit\n",
    "clear_output()\n",
    "import numpy as np\n",
    "import matplotlib.pyplot as plt\n",
    "from matplotlib.widgets import Slider, Button, RadioButtons\n",
    "from ipywidgets import interact, interactive, fixed, interact_manual, Layout\n",
    "import ipywidgets as widgets\n",
    "from mpl_toolkits.mplot3d import axes3d\n",
    "from sympy import *\n",
    "from sympy.physics.quantum.dagger import Dagger\n",
    "from IPython.display import Javascript\n",
    "import seaborn as sns\n",
    "import scipy as sc\n",
    "import sys\n",
    "from qiskit import *\n",
    "from qiskit.compiler import transpile, assemble\n",
    "from qiskit.tools.jupyter import *\n",
    "from qiskit.visualization import *\n",
    "import matplotlib.pyplot as plotter\n",
    "np.set_printoptions(threshold=sys.maxsize)\n",
    "print(\"Successfully imported packages\")"
   ]
  },
  {
   "cell_type": "markdown",
   "metadata": {},
   "source": [
    "#### 0.2 Defining Functions"
   ]
  },
  {
   "cell_type": "code",
   "execution_count": 2,
   "metadata": {},
   "outputs": [],
   "source": [
    "def multiple_formatter(denominator=2, number=np.pi, latex='\\pi'):\n",
    "    def gcd(a, b):\n",
    "        while b:\n",
    "            a, b = b, a%b\n",
    "        return a\n",
    "    def _multiple_formatter(x, pos):\n",
    "        den = denominator\n",
    "        num = int(np.rint(den*x/number))\n",
    "        com = gcd(num,den)\n",
    "        (num,den) = (int(num/com),int(den/com))\n",
    "        if den==1:\n",
    "            if num==0:\n",
    "                return r'$0$'\n",
    "            if num==1:\n",
    "                return r'$%s$'%latex\n",
    "            elif num==-1:\n",
    "                return r'$-%s$'%latex\n",
    "            else:\n",
    "                return r'$%s%s$'%(num,latex)\n",
    "        else:\n",
    "            if num==1:\n",
    "                return r'$\\frac{%s}{%s}$'%(latex,den)\n",
    "            elif num==-1:\n",
    "                return r'$\\frac{-%s}{%s}$'%(latex,den)\n",
    "            else:\n",
    "                return r'$\\frac{%s%s}{%s}$'%(num,latex,den)\n",
    "    return _multiple_formatter\n",
    "\n",
    "class Multiple:\n",
    "    def __init__(self, denominator=2, number=np.pi, latex='\\pi'):\n",
    "        self.denominator = denominator\n",
    "        self.number = number\n",
    "        self.latex = latex\n",
    "\n",
    "    def locator(self):\n",
    "        return plt.MultipleLocator(self.number / self.denominator)\n",
    "\n",
    "    def formatter(self):\n",
    "        return plt.FuncFormatter(multiple_formatter(self.denominator, self.number, self.latex))"
   ]
  },
  {
   "cell_type": "code",
   "execution_count": 3,
   "metadata": {},
   "outputs": [],
   "source": [
    "def plotter(x,y,title,xlabel,ylabel,col,label):\n",
    "    num_space,=x.shape\n",
    "    plt.plot(x,y, color=col,linewidth=3, label=label)\n",
    "    plt.title(title, fontsize=15)\n",
    "    plt.xlabel(xlabel, fontsize=15)\n",
    "    plt.ylabel(ylabel, fontsize=15)\n",
    "    plt.xlim(0,2*np.pi)\n",
    "    ax=plt.gca()\n",
    "    ax.set_facecolor('#FFFFCC')\n",
    "    ax.axhline(0, color='black', lw=2)\n",
    "    ax.axvline(0, color='black', lw=2)\n",
    "    ax.xaxis.set_major_locator(plt.MultipleLocator(np.pi / 2))\n",
    "    ax.xaxis.set_minor_locator(plt.MultipleLocator(np.pi / 12))\n",
    "    ax.xaxis.set_major_formatter(plt.FuncFormatter(multiple_formatter()))\n",
    "    plt.xticks(fontsize =15)\n",
    "    plt.yticks(fontsize =15)\n",
    "    return"
   ]
  },
  {
   "cell_type": "code",
   "execution_count": 4,
   "metadata": {},
   "outputs": [],
   "source": [
    "def plotterC(x,y,title,xlabel,ylabel,col,label):\n",
    "    num_space,=x.shape\n",
    "    plt.plot(x,y, color=col,linewidth=3, label=label)\n",
    "    plt.title(title, fontsize=15)\n",
    "    plt.xlabel(xlabel, fontsize=15)\n",
    "    plt.ylabel(ylabel, fontsize=15)\n",
    "    plt.xlim(0,1)\n",
    "    ax=plt.gca()\n",
    "    ax.set_facecolor('#FFFFCC')\n",
    "    ax.axhline(0, color='black', lw=2)\n",
    "    ax.axvline(0, color='black', lw=2)\n",
    "    plt.xticks(fontsize =15)\n",
    "    plt.yticks(fontsize =15)\n",
    "    return"
   ]
  },
  {
   "cell_type": "code",
   "execution_count": 5,
   "metadata": {},
   "outputs": [],
   "source": [
    "def contourplotter(function,phi,title,xlabel,ylabel):\n",
    "    f = lambdify((t,p,ta,pa),function, \"numpy\")\n",
    "    ta_range = np.linspace(0,2*np.pi,1000);\n",
    "    pa_range = np.linspace(0,2*np.pi,1000);\n",
    "    phi_fixed = phi;\n",
    "    X, Y = np.meshgrid(ta_range, pa_range);\n",
    "    def ftemp(ta_val,pa_val):\n",
    "        return f(0,phi_fixed,ta_val,pa_val);\n",
    "    Z = ftemp(X,Y);\n",
    "    fig, ax = plt.subplots(figsize=(7,5.7))\n",
    "    cp = ax.contourf(X, Y, Z ,cmap='turbo');\n",
    "    fig.colorbar(cp) # Add a colorbar to a plot\n",
    "    plt.xlim(0,2*np.pi);\n",
    "    plt.ylim(0,2*np.pi);\n",
    "    ax.axis('equal');\n",
    "\n",
    "    plt.title(title, fontsize=15)\n",
    "    plt.xlabel(xlabel, fontsize=15)\n",
    "    plt.ylabel(ylabel, fontsize=15)\n",
    "    ax=plt.gca()\n",
    "    ax.set_facecolor((0.8,1,1))\n",
    "    ax.axhline(0, color='black', lw=2)\n",
    "    ax.axvline(0, color='black', lw=2)\n",
    "    ax.xaxis.set_major_locator(plt.MultipleLocator(np.pi / 2))\n",
    "    ax.xaxis.set_minor_locator(plt.MultipleLocator(np.pi / 12))\n",
    "    ax.xaxis.set_major_formatter(plt.FuncFormatter(multiple_formatter()))\n",
    "    ax.yaxis.set_major_locator(plt.MultipleLocator(np.pi / 2))\n",
    "    ax.yaxis.set_minor_locator(plt.MultipleLocator(np.pi / 12))\n",
    "    ax.yaxis.set_major_formatter(plt.FuncFormatter(multiple_formatter()))\n",
    "    plt.xticks(fontsize =15)\n",
    "    plt.yticks(fontsize =15)\n",
    "    return"
   ]
  },
  {
   "cell_type": "code",
   "execution_count": 6,
   "metadata": {},
   "outputs": [],
   "source": [
    "def contourplotterC(function,P1,title,xlabel,ylabel):\n",
    "    f = lambdify((P,ta,pa),function, \"numpy\")\n",
    "    ta_range = np.linspace(0,2*np.pi,100);\n",
    "    pa_range = np.linspace(0,2*np.pi,100);\n",
    "    P_fixed = P1;\n",
    "    X, Y = np.meshgrid(ta_range, pa_range);\n",
    "    def ftemp(ta_val,pa_val):\n",
    "        return f(P1,ta_val,pa_val);\n",
    "    Z = ftemp(X,Y);\n",
    "    fig, ax = plt.subplots(figsize=(7,5.7))\n",
    "    cp = ax.contourf(X, Y, Z ,cmap='turbo');\n",
    "    fig.colorbar(cp) # Add a colorbar to a plot\n",
    "    plt.xlim(0,2*np.pi);\n",
    "    plt.ylim(0,2*np.pi);\n",
    "    ax.axis('equal');\n",
    "\n",
    "    plt.title(title, fontsize=15)\n",
    "    plt.xlabel(xlabel, fontsize=15)\n",
    "    plt.ylabel(ylabel, fontsize=15)\n",
    "    ax=plt.gca()\n",
    "    ax.set_facecolor((0.8,1,1))\n",
    "    ax.axhline(0, color='black', lw=2)\n",
    "    ax.axvline(0, color='black', lw=2)\n",
    "    ax.xaxis.set_major_locator(plt.MultipleLocator(np.pi / 2))\n",
    "    ax.xaxis.set_minor_locator(plt.MultipleLocator(np.pi / 12))\n",
    "    ax.xaxis.set_major_formatter(plt.FuncFormatter(multiple_formatter()))\n",
    "    ax.yaxis.set_major_locator(plt.MultipleLocator(np.pi / 2))\n",
    "    ax.yaxis.set_minor_locator(plt.MultipleLocator(np.pi / 12))\n",
    "    ax.yaxis.set_major_formatter(plt.FuncFormatter(multiple_formatter()))\n",
    "    plt.xticks(fontsize =15)\n",
    "    plt.yticks(fontsize =15)\n",
    "    return"
   ]
  },
  {
   "cell_type": "markdown",
   "metadata": {},
   "source": [
    "## Team details and work distrubution\n",
    "1. Aneesh Bapat (Roll no.)"
   ]
  },
  {
   "cell_type": "markdown",
   "metadata": {},
   "source": [
    "## Introduction\n",
    "Essentially abstract and methods we have used for reproducing the results"
   ]
  },
  {
   "cell_type": "markdown",
   "metadata": {},
   "source": [
    "## 1. Polarization & Spatial Parity\n",
    "\n",
    "In the paper \\[topic 2\\] the experiments which were done were made using of an optical beam model with two binary degrees of freedom, them being polarization and spatial parity along the $x$ direction respectively of a quasi monochromatic source.<br>\n",
    "For the spatial parity, in one dimension the beams are of form $E(x) = E_e\\psi_e(x)+E_o\\psi_o(x)$ where $\\psi_e(x)$ is an even function and $\\psi_o(x) = \\text{sgn}(x)\\psi_e(x)$ hence is an odd function. We give this beam a vector representation called $\\mathbf{J}_\\text{par} = [E_e\\text{ } E_o]^T$. Spatial paritt is manipulated using a spatial light modulator (SLM) which we describe in the experimental apparatus section. Along with the horizontal (H) and vertical components of polarization taken into account we describe the polarization-parity jones vector as $\\mathbf{J} = [E_\\text{He}\\text{ }E_\\text{Ho}\\text{ }E_\\text{Ve}\\text{ }E_\\text{Vo}]^T$.<br>\n",
    "We then describe the properties of this coherence using a $4\\times4$ matrix which is $\\mathbf{G} = \\langle\\mathbf{J}^{*}\\mathbf{J}^\\text{T}\\rangle$. Taking partial trace along $\\mathbf{G}$ would give us either $\\mathbf{G}_\\text{pol}$ or $\\mathbf{G}_\\text{par}$ on taking trace along parity or polarization respectively. We define a degree of polarization/parity using $D_{\\text{pol}}$($D_\\text{par}$) which quantifies the apparent coherence of each DoF when the other DoF is unresolved. Further an overall coherence $S$ is defined using the beam's linear entropy \\[https://en.wikipedia.org/wiki/Linear_entropy\\] as follows.\n",
    "The definition of linear entropy comes from the motivation of von Neumann Entropy. For a quantum mechanical system with a density matrix $\\rho$ this is defined as $S_v = \\text{Tr}(-\\rho\\ln(\\rho)) = -\\langle\\ln(\\rho)\\rangle$. The linear entropy $S_L$ is a lower approximation to $S_v$ which comes from expanding the leading term in the expansion of $\\rho\\ln\\rho$ which becomes $\\rho-\\rho^2$ approximately when $\\rho$ is close to $I$ (using taylor expansion) and taking trace this gives us the definition $S_L = \\text{Tr}(\\rho) - \\text{Tr}(\\rho^2)$ and by definition of the density matrix we have trace of $\\rho$ equal to 1 which gives us $S_L = 1 - \\text{Tr}(\\rho^2)$. This is a non normalized quantity so this is normalized by multiplying it by $\\frac{d}{d-1}$ which here is $4/3$ since our system has four dimensions. The definition of our $\\mathbf{G}$ matrix is isomorphic to the definition of a density matrix of a two qubit system keeping the Jones vector $\\mathbf{J}$ as the state of this two qubit system. Hence we have \n",
    "\\begin{equation}\\label{eq:1.1}\\tag{1.1}S = 1-S_L = 1 - \\frac{4}{3} + \\frac{4}{3}\\text{Tr}(\\mathbf{G}^2) = \\frac{4}{3}\\left(\\text{Tr}\\{\\mathbf{G}^2\\}-\\frac{1}{4}\\right)\\end{equation}\n",
    "We know that for normalized states we have that $\\frac{1}{d}\\leq$ Tr$(\\rho^2) \\leq 1$ and equals one only for a pure state and $1/d$ for completely mixed state. We can similarly draw a parallel here to seeing that $S=1$ happens only for coherent (pure) states and is 0 when completely incoherent. An important note to make here is that applying a unitary matrix $U$ (so $U^{*}U^{T} = I$) which is not time dependent on the Jones vector would not change our value of $S$ since on acting of a unitary we would have $\\mathbf{G}' = U^{*}\\mathbf{G}U^{T}$ and so $\\mathbf{G}'^2 = U^{*}\\mathbf{G}^2U^{T}$ and this has same trace as $\\mathbf{G}^2$ since trace is invariant under unitary transforms.\n",
    "\n",
    "The paper here explores the properties of a beam where these two DoFs are infact coupled or entagled. One can start with a coherent linearly polarized beam at $45^\\circ$ with even polarity which would be $\\mathbf{J} = (1/\\sqrt{2})[\\text{1 0 1 0}]^T$ which can clearly be factored into a direct product of $\\mathbf{J}_{\\text{pol}}\\otimes\\mathbf{J}_\\text{par}$ and so $D_\\text{pol} = D_\\text{par} = 1$. However on passing this beam through a polarization sensitive SLM which introduces a phase of $\\varphi/2\\sin(\\varphi)$ only to the horizontal polarity component and none to the vertical. We can think of this analoguos to a controlled $R_x(\\varphi)$ operation from the polarization qubit to parity qubit which acts when polarization is $|0\\rangle$ (called H here for polarization). This puts the state to an entagled state $\\mathbf{J} = (1/\\sqrt{2})[\\cos(\\varphi/2)\\text{ }\\iota\\sin(\\varphi/2)\\text{ 1 0}]^T$ which is no longer factorizable and shows that the apparant degree of coherence of the individual DoFs are no longer equal to 1 unless $\\varphi=0$ and infact equal zero when $\\varphi=\\pi$. However we know that this state is still coherent on an overall, the only issue is that seeing the partial trace of $\\mathbf{G}$ along the respective DoF provide an incomplete picture of the state hence leading to a conclusion that the coherence is absent. The paper proceeds to make use of the Bell's measure (see Appendix A) to quantify this entaglement which is the cause of this apparent coherence deficit."
   ]
  },
  {
   "cell_type": "markdown",
   "metadata": {},
   "source": [
    "## 2. Experimental Apparatus\n",
    "\n",
    "For the experimental setup, we are using various separate components, which we will comment on one by one before seeing how they are arranged together for the experiment in this paper. We can develop a matrix operator formalism based on how these elements affect the vector $\\mathbf{J} = [E_{He} \\ E_{Ho} \\ E_{Ve} \\ E_{Vo}]$. Suppoe we have a device that modifies the Jones vector of a beam in the following way - $\\mathbf{J_{new}} = \\mathbf{A}\\mathbf{J_{old}}$. Then, the corresponding $\\mathbf{G} = \\langle \\mathbf{J^*J^T}\\rangle$ tranforms as $\\mathbf{G_{new} = A^*G_{old}A^T}$. This is because, assuming that the effect of the device, encoded in matrix $\\mathbf{A}$  is time independent, the matrix can just move inside the time average. And as we will see below, for all the devices used in this experiment, their effect is time invariant.\n",
    "\n",
    "## Polarisation only devices\n",
    "\n",
    "### 2.1 Waveplates\n",
    "<p>The first element we will look at is a half-wave plate. Suppose we have a half-wave plate whose axis is inclined at angle $\\theta$ to the $+x$ axis. Then, it will add a phase of $\\pi$ to the component of the amplitude along its axis, with respect to the component perpendicular to the axis. In other words, if the component of E field along the axis will be effectively multiplied by $e^{i\\pi} = (-1)$.</p> \n",
    "<p> Suppose the in-going beam is described by a polarisation-only Jones vector $J_{pol} = [E_x \\ E_y]^T$. Then the (complex) amplitude is $E_x\\hat{x} + E_y\\hat{y} = (E_{x}\\cos\\theta + E_y\\sin\\theta)\\hat{\\theta_{\\parallel}} + (E_{x}\\sin\\theta - E_y\\cos\\theta) \\hat{\\theta_{\\perp}}$. So after adding a phase multiplier factor of $e^{i\\pi} = -1$ to the $\\hat{\\theta_{\\parallel}}$ component, the new complex amplitude is $$(-E_{x}\\cos\\theta - E_y\\sin\\theta)\\hat{\\theta_{\\parallel}} +  (E_{x}\\sin\\theta - E_y\\cos\\theta) \\hat{\\theta_{\\perp}} = (\\cos\\theta \\ (-E_{x}\\cos\\theta - E_y\\sin\\theta)+ \\sin\\theta(E_{x}\\sin\\theta - E_y\\cos\\theta))\\hat{x} + (\\sin\\theta \\ (-E_{x}\\cos\\theta - E_y\\sin\\theta)- \\cos\\theta(E_{x}\\sin\\theta - E_y\\cos\\theta))\\hat{y} \\\\ = [E_x(\\sin^2\\theta-\\cos^2\\theta) - E_y(2\\sin\\theta\\cos\\theta) \\qquad{} -E_x(2\\sin\\theta\\cos\\theta)  Ey(\\cos^2\\theta -\\sin^2\\theta)] \\\\ =[-E_x\\cos(2\\theta) - E_y\\sin(2\\theta) \\qquad{} -E_x\\sin(2\\theta)+E_y\\cos(2\\theta)]$$\n",
    "    \n",
    "We can write this more compactly in a 2x2 matrix - \n",
    "$$\\begin{pmatrix}-\\cos(2\\theta) & -\\sin(2\\theta) \\\\ -\\sin(2\\theta) & \\cos(2\\theta)\\end{pmatrix}\\begin{pmatrix}E_x \\\\ E_y\\end{pmatrix}_{old} = \\begin{pmatrix}E_x \\\\ E_y\\end{pmatrix}_{new}$$\n",
    "<p>When we are dealing with our 4 dimensional Jones vector, to generate the corresponding 4x4 HWP operator matrix, we\\e can propose a 4x4 operator matrix. But before we spell it out, a few changes in notation are in order, to follow the same general notation as the paper. </p>\n",
    "<ol>\n",
    "    <li>The angle of rotation is denoted as $\\frac{\\theta}{2}$ instead of $\\theta$ so that there is no ugly factor of             $2$ in the transformation matrix.</li>\n",
    "    <li>The axis, with respect to which the angle $\\frac{\\theta}{2}$ is to be measured is not specified in the paper. Two reasonable guesses are either the X axis (upwards vertical, as shown in the figure) or the horizontal axis (-y axis in the figure). In either case, we get the same matrix except with a phase factor of $e^{i\\pi} = -1$. But that does not change the intensity measurement, since we are only interested in the long time average and we are not using two different beams (so the phase is truly a global phase, and affects nothing at all). So this is a moot point for single beam operation. The exact phase also depends on what additional phase the plate adds to the slow axis, which we are not accounting for, anyway.\n",
    " \n",
    "</ol>\n",
    "Since our Jones vector is $J = J_{pol}\\otimes J_{par}$, and our HWP does not affect the parity DOF at all (in other words, acts like an identity transformation), we can write it as a tensor product - \n",
    "$$A_{HWP}\\left(\\frac{\\theta}{2}\\right) = \\begin{pmatrix}-\\cos(\\theta) & -\\sin(\\theta) \\\\ -\\sin(\\theta) & cos(\\theta)\\end{pmatrix}\\otimes\\begin{pmatrix} 1&0 \\\\ 0&1\\end{pmatrix}=\\begin{pmatrix}\n",
    "-\\cos\\theta & 0 & -\\sin\\theta & 0 \\\\ \n",
    "0 &-\\cos\\theta&0&-\\sin\\theta \\\\\n",
    "-\\sin\\theta &0 & \\cos\\theta & 0 \\\\\n",
    "0 & -\\sin\\theta &0 & \\cos\\theta\n",
    "\\end{pmatrix} $$\n",
    "To account for the global phase added, along the slow axis, we only need to multiply this matrix by a phase factor of $e^{i\\phi}$ where $\\phi$ is the slow axis phase added.\n",
    "\n",
    "Sidenote: while the paper mentions that the angle is $\\theta/2$ in it, that actually rotates by $\\theta$ only and not by the expected $2\\theta$ that would result from writing it in the form above since the text mentions that the basis is rotated by $\\theta_a$ when the HWP of $\\theta_a/2$ is applied.\n",
    "\n",
    "### 2.2 Polarising Beam Splitter\n",
    "\n",
    "This is an element that separates out the H and V polarised beams from the input beam. There is no operator matrix associated with it, it simply separates out the two beams, without affecting parity at all. One point to note here - as we describe below, a mirror will add a factor of (-1) to odd modes, so the component which gets reflected will pick up that factor here as well. We can either correct this with a second reflection of that beam from a $45^\\circ$ mirror to correct it or not do anything at all about it (in the experimental setup in the paper seen as a whole, we can see that it won't matter the odd and even beams will be switched, but that is about it.)\n",
    "\n",
    "## Parity Sensitive Devices\n",
    "\n",
    "### 2.3 Dove Prism\n",
    "<p> We know that a mirror inverts left-right. So if we put an odd beam through the mirror, it will pick up a factor of (-1) from the + and - axes being inverted (i.e. -x being mapped to x). </p>\n",
    "<p> The operator (parity only, polarisation plays no role) associated to a mirror is $$\\begin{pmatrix}-1 & 0 \\\\ 0 & 1\\end{pmatrix}\\begin{pmatrix}e \\\\ o \\end{pmatrix}_{old} = \\begin{pmatrix}e \\\\ o \\end{pmatrix}_{new}$$ An additional -1 factor is added as a global phase, because of the phase change on reflecting.</p>\n",
    "<img width=\"40%\" src='Mirror_and_Parity.png'>\n",
    "One thing about mirrors which is particularly inconvenient is that the incoming and outgoing beam does not travel in the same direction, so we cannot conveniently include a mirror in the arm of a Mach-Zehnder interferometer easily, for example. To make our life simple, we use a dove prism, which is a trapezoid shaped prism, that the light beam enters, undergoes TIR on one surface of it and exits travelling in the same direction as incoming beam. It performs the same matrix operation as a mirror, but is more convenient to use. One aspect to be careful of (that can be easily overcome) is that there is a phase change because the beam travels through the glass/ material of the prism, but that can be easily dealt with by using a compensator cell in the other arm. Aother important aspect of a Dove prism - since the wave incidence medium is denser and the transmission medium is rarer (unlike a regular mirror), there is no addition $\\pi$ phase of reflection, and the operator matrix is simply $$\\begin{pmatrix}1 & 0 \\\\ 0 & -1\\end{pmatrix}\\begin{pmatrix}e \\\\ o \\end{pmatrix}_{old} = \\begin{pmatrix}e \\\\ o \\end{pmatrix}_{new}$$\n",
    "<img width = \"60%\" src='Dove_prism.png'>\n",
    "\n",
    "### 2.4 Mach Zehnder Interferometer\n",
    "<img width = \"60%\" src='MZI.png'><center>A schematic of a MZI, self drawn</center>\n",
    "<p> In this arrangement, the beam splitters are polarisation insensitive, so there is no polarisation discrimination. First let us consider a MZI with no dove prism (and no compensation cell). Suppose the only input beam is given from In1. Then, the left beam suffers two rarer-denser reflections and the same is the case with the right beam, as they come out from Out2. Hence, we have constructive interference at Out2. Whereas, as Out1, the left beam still has same phase (the reflection at exit beam splitter is denser-rarer, so no phase change) while the right beam has one reflection only, so the interference is destructive.</p>\n",
    "<p>With a dove prism in place, the odd mode undergoes one extra inversion in the left path, so its constructive/destructive outputs are now exactly swapped. As a result, if we send in a superposition of odd and even modes into In1, the odd mode comes out from Out1, while the even mode comes out from Out2 (just as if no prism were there). Conversely, if we send in the beam from In2, the odd mode will come out from Out2 and the even mode from Out1.</p>\n",
    "\n",
    "Hence we can think of two uses of this MZI arrangement - \n",
    "<ol> <li> To split a superposed beam into its odd and even components, send this beam in from one of the inputs only and the odd and even parity modes are separated.</li>\n",
    "    <li> If we have a odd parity beam and an even parity beam, we can add them (make a superposed state) by sending in the odd beam in In1, the even beam from In2, and then getting the superposed beam out, from Out1.\n",
    "       </ol>\n",
    "       In the experiment performed in the paper, the authors concern themselves only with the first use.\n",
    "       \n",
    "### 2.5 SLMs and PS-SLMs\n",
    "A SLM is a spatial light modulator. In general, this term refers to any device that modifies the beam in a space dependent fashion. In the context of this experiment, the SLM they use (Hamamatsu X10468-02) is an array of liquid crystal pixels, each of whose refractive index can be controlled independently by applying a voltage, in such a way, that we add a desired phase to the light passing through each pixel, and the phase in each pixel is independent of the others.\n",
    "<p>Suppose we send a beam through a SLM which adds a $x$-dependant phase $\\frac{\\phi}{2}sgn(x)$ to the electric field (global phase does not matter here, by the way. Only relative phase/ difference in phase between top and bottom half being $\\phi$ is what matters.) Then, we are effectively multiplying the old profile $E_{old}(x)$ by $e^{\\iota\\frac{\\phi}{2}sgn(x)}$, to get new profile $E_{new}(x)$. Observe that $e^{\\iota\\frac{\\phi}{2}sgn(x)} = cos(\\frac{\\phi}{2})+ \\iota sgn(x)sin(\\frac{\\phi}{2})$. So, with $E_{old}(x) = e(x)+o(x)$, we can get $E_{new}(x) = (e(x)+o(x))(cos(\\phi/2)+\\iota sgn(x)sin(\\phi/2)) = [cos(\\phi/2)e(x) + \\iota sin(\\phi/2) sgn(x)o(x)] + [cos(\\phi/2)o(x) + \\iota sin(\\phi/2) sgn(x)e(x)]$. </p>\n",
    "<p>Observe that the first term in the new expression is even while the second term is odd, which means that they are the new even and odd decomposition (which is unique). We can re-express this as $\\begin{pmatrix}cos(\\phi/2) & \\iota sin(\\phi/2) \\\\ \\iota sin(\\phi/2) & cos(\\phi/2) \\end{pmatrix}\\begin{pmatrix}e_{old} \\\\ o_{old}\\end{pmatrix} = \\begin{pmatrix}e_{new} \\\\ o_{new}\\end{pmatrix}$ to make it look more like the transformation caused by a half wave plate, but for the parity DOF. In particular, observe that if we set $\\phi = \\pi$ then the matrix shown looks like a Pauli $\\sigma_x$ matrix (times the constant $\\iota$)- it swaps the $o$ and $e$ bases.\n",
    "\n",
    "Further, to obtain the 4x4 transformation matrix, we again do a tensor product - \n",
    "$$A_{par}\\left(\\frac{\\phi}{2}\\right) = \\begin{pmatrix}1 & 0 \\\\ 0 & 1\\end{pmatrix}\\otimes\\begin{pmatrix} \\cos(\\phi/2)&i\\sin(\\phi/2) \\\\ i\\sin(\\phi/2) &\\cos(\\phi/2)\\end{pmatrix}=\\begin{pmatrix}\n",
    "\\cos(\\phi/2)&i\\sin(\\phi/2) & 0& 0\\\\ i\\sin(\\phi/2) &\\cos(\\phi/2) &0 & 0\\\\\n",
    "0&0&\\cos(\\phi/2)&i\\sin(\\phi/2) \\\\ 0&0&i\\sin(\\phi/2) &\\cos(\\phi/2)\n",
    "\\end{pmatrix} $$\n",
    "\n",
    "Again, the rationale is that since there is no polarisation effect, that part of the first matrix is identity.\n",
    "\n",
    "The liquid crystals can be acted on by a electric field in two directions, so that the refractive index of a single pixel itself is non-isotropic. This leads to polarisation-sensitive behaviour of the pixels. For example, if we take a SLM that adds a phase of $\\frac{\\phi}{2}sgn(x)$ only to the H-polarisation while leaving the V polarisation unchanged. In this case, we can simply modify the above operator matrix to look like $$A_{PS-SLM}\\left(\\frac{\\phi}{2}\\right) =\\begin{pmatrix}\n",
    "\\cos(\\phi/2)&i\\sin(\\phi/2) & 0& 0\\\\ i\\sin(\\phi/2) &\\cos(\\phi/2) &0 & 0\\\\\n",
    "0&0&1&0 \\\\ 0&0&0 &1\n",
    "\\end{pmatrix} $$"
   ]
  },
  {
   "cell_type": "markdown",
   "metadata": {},
   "source": [
    "### General Observations About the operator matrices\n",
    "We can see the following properties about the matrix formalism we have developed.\n",
    "<ol><li> The matrices are all unitary. $AA^\\dagger = A^\\dagger A = \\mathbb{I}$. This is expected, because if we take a completely incoherent beam in phase as well as parity, then no device will be able to change it, and the $G$ matrix for a completely incoherent mode is a scalar multiple of identity.</li>\n",
    "    <li> The matrices corresponding to a rotated HWP and to a polarisation-insensitive SLM commute. This is expected because each of these devices is expected to modify only one DOF.</li>\n",
    "    </ol>"
   ]
  },
  {
   "cell_type": "code",
   "execution_count": 7,
   "metadata": {},
   "outputs": [],
   "source": [
    "P,t,p,ta,pa = symbols('P theta varphi theta_a varphi_a',real=True)\n",
    "A_HWP = Matrix([[-cos(ta/2),0,-sin(ta/2),0],[0,-cos(ta/2),0,-sin(ta/2)],[-sin(ta/2),0,cos(ta/2),0],\n",
    "              [0,-sin(ta/2),0,cos(ta/2)]])\n",
    "A_SLM = Matrix([[cos(pa/2),I*sin(pa/2),0,0],[I*sin(pa/2),cos(pa/2),0,0],[0,0,cos(pa/2),I*sin(pa/2)],\n",
    "             [0,0,I*sin(pa/2),cos(pa/2)]])\n",
    "A_PSSLM = Matrix([[cos(pa/2),I*sin(pa/2),0,0],[I*sin(pa/2),cos(pa/2),0,0],[0,0,1,0],\n",
    "             [0,0,0,1]]) "
   ]
  },
  {
   "cell_type": "code",
   "execution_count": 8,
   "metadata": {},
   "outputs": [
    {
     "data": {
      "text/latex": [
       "$\\displaystyle \\left[\\begin{matrix}1 & 0 & 0 & 0\\\\0 & 1 & 0 & 0\\\\0 & 0 & 1 & 0\\\\0 & 0 & 0 & 1\\end{matrix}\\right]$"
      ],
      "text/plain": [
       "Matrix([\n",
       "[1, 0, 0, 0],\n",
       "[0, 1, 0, 0],\n",
       "[0, 0, 1, 0],\n",
       "[0, 0, 0, 1]])"
      ]
     },
     "execution_count": 8,
     "metadata": {},
     "output_type": "execute_result"
    }
   ],
   "source": [
    "trigsimp(A_SLM*conjugate(A_SLM.T)) #A_SLM is unitary"
   ]
  },
  {
   "cell_type": "code",
   "execution_count": 9,
   "metadata": {},
   "outputs": [
    {
     "data": {
      "text/latex": [
       "$\\displaystyle \\left[\\begin{matrix}1 & 0 & 0 & 0\\\\0 & 1 & 0 & 0\\\\0 & 0 & 1 & 0\\\\0 & 0 & 0 & 1\\end{matrix}\\right]$"
      ],
      "text/plain": [
       "Matrix([\n",
       "[1, 0, 0, 0],\n",
       "[0, 1, 0, 0],\n",
       "[0, 0, 1, 0],\n",
       "[0, 0, 0, 1]])"
      ]
     },
     "execution_count": 9,
     "metadata": {},
     "output_type": "execute_result"
    }
   ],
   "source": [
    "trigsimp(A_PSSLM*conjugate(A_PSSLM.T)) #A_PSSLM is unitary"
   ]
  },
  {
   "cell_type": "code",
   "execution_count": 10,
   "metadata": {},
   "outputs": [
    {
     "data": {
      "text/latex": [
       "$\\displaystyle \\left[\\begin{matrix}1 & 0 & 0 & 0\\\\0 & 1 & 0 & 0\\\\0 & 0 & 1 & 0\\\\0 & 0 & 0 & 1\\end{matrix}\\right]$"
      ],
      "text/plain": [
       "Matrix([\n",
       "[1, 0, 0, 0],\n",
       "[0, 1, 0, 0],\n",
       "[0, 0, 1, 0],\n",
       "[0, 0, 0, 1]])"
      ]
     },
     "execution_count": 10,
     "metadata": {},
     "output_type": "execute_result"
    }
   ],
   "source": [
    "trigsimp(A_HWP*conjugate(A_HWP.T)) #A_HWP is unitary"
   ]
  },
  {
   "cell_type": "code",
   "execution_count": 11,
   "metadata": {},
   "outputs": [
    {
     "data": {
      "text/latex": [
       "$\\displaystyle \\left[\\begin{matrix}0 & 0 & 0 & 0\\\\0 & 0 & 0 & 0\\\\0 & 0 & 0 & 0\\\\0 & 0 & 0 & 0\\end{matrix}\\right]$"
      ],
      "text/plain": [
       "Matrix([\n",
       "[0, 0, 0, 0],\n",
       "[0, 0, 0, 0],\n",
       "[0, 0, 0, 0],\n",
       "[0, 0, 0, 0]])"
      ]
     },
     "execution_count": 11,
     "metadata": {},
     "output_type": "execute_result"
    }
   ],
   "source": [
    "trigsimp(A_HWP*A_SLM - A_SLM*A_HWP) #A_SLM and A_HWP commute"
   ]
  },
  {
   "cell_type": "markdown",
   "metadata": {},
   "source": [
    "## Proposal for a Parity-Sensitive Polarisation Modifier\n",
    "<p> In the main paper, one of the loose ends that the authors do not seem to have addressed is that polarity seems to have a special place in this qubits scheme, in the sense that controlled gates can be made only with polarity as a control qubit (no parity controlled gates/devices are proposed). Here, we wish to present the design of a parity controlled device, that can be used to implement the controlled version of any possible (ordinarily) parity-insensitive device. \n",
    "<p>The main idea is to use the second use of the MZI. Suppose you are given an input beam and you want to perform a controlled-HWP operation on that (we have already seen uncontrolled HWP earlier). Then, the idea is to split up the input beam into the odd and even components with an MZI and then recombine them with a second MZI. In this way, a parity-controlled operation can be performed. The below image shows a schematic for a parity-sensitive HWP.</p>\n",
    "<img width = \"40%\" src='Parity_sensitive_HWP.png'>\n",
    "<p> An important use of this idea will be to bring the line of thought presented in the paper to a logical conclusion - suppose we start with a purely even mode but completely unpolarised beam. Then, by coupling the parity to the polarisation, we can generate a coupled-DOF beam. To convert this beam to a completely polarised, parity-incoherent beam, we would need to implement a parity-controlled polarisation operation, which this section proposes a theoretical solution to accomplishing. One major issue still here, is that stacking two MZI's could be a challenge, in view of the difficulty of alignment."
   ]
  },
  {
   "cell_type": "markdown",
   "metadata": {},
   "source": [
    "## 3. Polarization and Spatial Parity analysis\n",
    "### 3.1 The correlation function\n",
    "<p>We will now proceed to define a normalized correlation function $C(\\theta_a,\\phi_a)$ which we will use for defining our bell's measure $B$. The analyzing done in the paper does so with the following experimental setup shown below (images taken from [topic2])</p>\n",
    "<table>\n",
    "    <tr>\n",
    "        <td><img width=\"90%\"src=\"fig1b-og.png\"/><center><b>Fig: 3.1</b></center></td>\n",
    "        <td><img width=\"90%\"src=\"fig1c-og.png\"/><center><b>Fig: 3.2</b></center></td>\n",
    "    </tr>\n",
    "</table>\n",
    "Section 2. explains the functioning principle for each of the apparatus in the above figure. What the setup essentially does in fig: 3.1.1 is for analyzing the DoFs seperately. The polarization is analyzed in a linear basis rotated by $\\theta_a$ by action of the half wave plate and similarly the parity is analyzed by analyzing over a basis rotated by $\\varphi_a$. The measured intensities are normalized and kept as probabilities in a way that $P_H + P_V = P_o + P_e = 1$. In fig: 3.2 combined polarization-parity measurements are done by essentially using the setup of fig: 3.1 but by concatenating the different DoF analysis stages. If we call the input coherency matrix as $\\mathbf{G}_{in}$ then the resulting coherency matrix after the transformations on which measurement is being done is \n",
    "\\begin{equation}\\label{eq:3.1}\\tag{3.1}\\mathbf{G}_{out} = A_{SLM}^*A_{HWP}^*\\mathbf{G}_{in}A_{HWP}^TA_{SLM}^T\\end{equation}\n",
    "As already shown in section 1, our definition of overall coherence in eq: 1.1 is invariant under applying these unitaries on the state. The following is the definition we give to the correlation function in the equation below. Symmetric values are assignmed to the coefficeints $c_\\text{pol} = \\pm1$ ($c_\\text{par} = \\pm1$) to the dichotomic H (e) and V (o) probability outcomes. \n",
    "\\begin{equation}\\label{eq:3.2}\\tag{3.2}C(\\theta_a,\\varphi_a) = \\sum c_\\text{pol}c_\\text{par}P_\\text{pol,par} = P_\\text{He} - P_\\text{H0} - P_\\text{Ve} + P_\\text{Vo}\\end{equation}\n",
    "For the uncoupled case this can be factorized into $C(\\theta_1,\\varphi_a) = C_\\text{pol}(\\theta_a)C_\\text{par}(\\phi_a)$ and here we would have $C_\\text{pol}(\\theta_a) = P_H - P_V$ and $C_\\text{par} = P_e - P_o$. Proceeding this they use th CSHS formulation of the Bell's measure (see Appendix A) to write \n",
    "\\begin{equation}\\label{eq:3.3}\\tag{3.3}B = |C(\\theta_a,\\varphi_a) + C(\\theta_a,\\varphi_a') + C(\\theta_a',\\varphi_a) - C(\\theta_a',\\varphi_a')|\\end{equation}\n",
    "Now we have an upper bound on $B_{max}$ which is the maximum value this measure takes over these four variables and this is what the paper from this point refers to as the Bell's measure. This bound is called the Tsirelon's bound and is $B_{max}\\leq 2\\sqrt{2}$ and in the classical case (where all observables commute) it is actually bounded above by 2.\n",
    "\n",
    "We will now prove that any coherent beam has $D_\\text{pol} = D_\\text{par}$. Any coherent beam here would be isomorphic to a pure two qubit state. For pure states, if the state is $|\\psi\\rangle$, then the density matrix is $\\rho = |\\psi\\rangle\\langle\\psi|$. We can represent this in a Schmidt form where $|\\psi\\rangle = \\sum_ig_i|u_i\\rangle\\otimes|v_i\\rangle$ which can be done for any arbitrary pure state so for the 4 dimensional Jones vector here we only have two variables and so without loss of generality we can choose to write our jones vector as $\\mathbf{J} = [\\mu_1\\text{ 0 0 }\\mu_2]^T$ and for this state we would have that\n",
    "\\begin{equation}\\label{eq:3.4}\\tag{3.4}\\mathbf{G}_\\text{pol} = \\mathbf{G}_\\text{par} = \\begin{pmatrix}\\mu_1^2 & 0\\\\0 & \\mu_2^2\\end{pmatrix}\\end{equation}\n",
    "This leads to $D_\\text{pol} = D_\\text{par} = |\\mu_1^2-\\mu_2^2|$ which is essentially the difference the eigenvalues of the respective matrix. Note that the above equation would be true in the basis where we can write the Schmidt decomposition of the Jones vector but since this is a coherent state this basis can be reached by applying unitaries that do not do any coupling. Also for coherent beams the paper claims that we would have $4D_\\text{par}^2+B_{max}^2 = 4D_\\text{pol}^2+B_{max}^2 = 8$ which becomes $4D_\\text{pol}^2+B_{max}^2\\leq 8$ and $4D_\\text{par}^2+B_{max}^2\\leq 8$ for partially coherent beams hence they define a new degree of coherence reffered to as the partial degree of coherence\n",
    "\\begin{equation}S_\\text{pol} = \\dfrac{D_\\text{pol}^2}{2} + \\left(\\dfrac{B_{max}}{2\\sqrt{2}}\\right)^2\\text{, }S_\\text{par} = \\dfrac{D_\\text{par}^2}{2} + \\left(\\dfrac{B_{max}}{2\\sqrt{2}}\\right)^2\\end{equation}\n",
    "One important thing to note is that the accessible degrees of coherence written above are invariant under unitary coupling between the two DoFs. We can see this as a sort of sharing of coherence between apparent coherence of an individual DoF ($D_\\text{pol}$ and $D_\\text{par}$) and the coupling between them ($B_{max}$). For a fully coherent beam we will always have $S = S_\\text{pol} = S_\\text{par} = 1$ regardless of coupling between the DoFs. This also demostrates how we can make coherence essentially migrate from form of coupling to apparent coherence of individual DoFs by simply using unitary transforms.\n"
   ]
  },
  {
   "cell_type": "markdown",
   "metadata": {},
   "source": [
    "## 4. Experimental results and derivations\n",
    "The paper \\[topic2\\] describes three experiments A, B and C. Here we will derive the theoretical expressions they use for fitting their data using the SymPy package."
   ]
  },
  {
   "cell_type": "code",
   "execution_count": 12,
   "metadata": {},
   "outputs": [],
   "source": [
    "def trace_G(G): #A trace function for just 4x4 G matrices\n",
    "    return simplify(G[0,0] + G[1,1] + G[2,2] + G[3,3])\n",
    "def corr_prob(G): #Returns the value I_He - I_Ho - I_Ve +I_Vo from given G matrix\n",
    "    return simplify(G[0,0] - G[1,1] - G[2,2] + G[3,3])\n",
    "\n",
    "def par_tr_G_pol(G): #returns the partial trace of G for giving G_pol\n",
    "    return simplify(Matrix([[G[0,0]+G[1,1],G[0,2]+G[1,3]],[G[2,0]+G[3,1],G[2,2]+G[3,3]]]))\n",
    "\n",
    "def par_tr_G_par(G): #returns the partial trace of G for giving G_par\n",
    "    return Matrix([[G[0,0]+G[2,2],G[0,1]+G[2,3]],[G[1,0]+G[3,2],G[1,1]+G[3,3]]])\n",
    "\n",
    "def app_coh(G): #Returns apparent degree of coherence for a 2x2 G matrix\n",
    "    return simplify(sqrt(1-4*simplify(Determinant(G))/(simplify(Trace(G))**2)))\n",
    "\n",
    "def norm_grad(B,syms):\n",
    "    c = 0\n",
    "    for i in syms:\n",
    "        c += simplify(B.diff(i)**2)\n",
    "    return simplify(c)"
   ]
  },
  {
   "cell_type": "markdown",
   "metadata": {},
   "source": [
    "#### Methods for Calculating Values of $D_{pol}$, $D_{par}$, $B_{max}$, $S_{pol}$ and $S_{par}$"
   ]
  },
  {
   "cell_type": "code",
   "execution_count": 13,
   "metadata": {},
   "outputs": [],
   "source": [
    "def bmaxfinder(C_ta_pa,x):\n",
    "    tb,pb = symbols('theta_b varphi_b',real=True)\n",
    "    B = C_ta_pa + C_ta_pa.xreplace({ta:tb}) + C_ta_pa.xreplace({pa:pb}) - C_ta_pa.xreplace({ta:tb,pa:pb})\n",
    "    b = lambdify((ta,pa,tb,pb,p),B, \"numpy\")\n",
    "    bmax=[-1*(sc.optimize.minimize(lambda params: -1*abs(b(params[0],params[1],params[2],params[3],i)), [0,0,0,0], method = 'L-BFGS-B').fun) for i in x]\n",
    "    bmax=np.around(bmax,decimals=5)\n",
    "    return bmax"
   ]
  },
  {
   "cell_type": "code",
   "execution_count": 14,
   "metadata": {},
   "outputs": [],
   "source": [
    "def bmaxfinderC(C_ta_pa,x):\n",
    "    tb,pb = symbols('theta_b varphi_b',real=True)\n",
    "    B = abs(C_ta_pa + C_ta_pa.xreplace({ta:tb}) + C_ta_pa.xreplace({pa:pb}) - C_ta_pa.xreplace({ta:tb,pa:pb}))\n",
    "    b = lambdify((ta,pa,tb,pb,P),B, \"numpy\")\n",
    "    bmax=[-1*(sc.optimize.minimize(lambda params: -1*abs(b(params[0],params[1],params[2],params[3],i)), [0,0,0,0], method = 'L-BFGS-B').fun) for i in x]\n",
    "    bmax=np.around(bmax,decimals=5)\n",
    "    return bmax"
   ]
  },
  {
   "cell_type": "code",
   "execution_count": 15,
   "metadata": {},
   "outputs": [],
   "source": [
    "def dfinder(D,x):\n",
    "    d=lambdify(p,D,\"numpy\")\n",
    "    d_final=[d(i) for i in x]\n",
    "    return d_final"
   ]
  },
  {
   "cell_type": "code",
   "execution_count": 16,
   "metadata": {},
   "outputs": [],
   "source": [
    "def dfinderC(D,x):\n",
    "    d=lambdify(P,D,\"numpy\")\n",
    "    d_final=[d(i) for i in x]\n",
    "    return d_final"
   ]
  },
  {
   "cell_type": "code",
   "execution_count": 17,
   "metadata": {},
   "outputs": [],
   "source": [
    "def sfinder(d,bmax):   \n",
    "    return np.around(np.square(d)/2+np.square(bmax)/8,decimals=5)"
   ]
  },
  {
   "cell_type": "markdown",
   "metadata": {},
   "source": [
    "### 4.1 Experiment A\n",
    "Here the field is competely coherent and we start with the Jones vector in state $\\mathbf{J} = (1/\\sqrt{2})[\\cos(\\varphi/2)\\text{ }\\iota\\sin(\\varphi/2)\\text{ 1 0}]^T$ which is reached by applying the PS-SLM on the input state of $\\mathbf{J}_{in} = (1/\\sqrt{2})[\\text{1 0 1 0}]^T$. On this we then apply the rotation of basis by $\\theta_a$ for polarization and of $\\varphi_a$ for parity and then conduct measurements of each component. Based on our previous definitions we now derive the correlation function for this experiment."
   ]
  },
  {
   "cell_type": "code",
   "execution_count": 18,
   "metadata": {
    "scrolled": true
   },
   "outputs": [
    {
     "data": {
      "text/latex": [
       "$\\displaystyle \\left[\\begin{matrix}0.5 \\cos^{2}{\\left(\\frac{\\varphi}{2} \\right)} & 0.25 i \\sin{\\left(\\varphi \\right)} & 0.5 \\cos{\\left(\\frac{\\varphi}{2} \\right)} & 0\\\\- 0.25 i \\sin{\\left(\\varphi \\right)} & 0.5 \\sin^{2}{\\left(\\frac{\\varphi}{2} \\right)} & - 0.5 i \\sin{\\left(\\frac{\\varphi}{2} \\right)} & 0\\\\0.5 \\cos{\\left(\\frac{\\varphi}{2} \\right)} & 0.5 i \\sin{\\left(\\frac{\\varphi}{2} \\right)} & 0.5 & 0\\\\0 & 0 & 0 & 0\\end{matrix}\\right]$"
      ],
      "text/plain": [
       "Matrix([\n",
       "[0.5*cos(varphi/2)**2,   0.25*I*sin(varphi),    0.5*cos(varphi/2), 0],\n",
       "[ -0.25*I*sin(varphi), 0.5*sin(varphi/2)**2, -0.5*I*sin(varphi/2), 0],\n",
       "[   0.5*cos(varphi/2),  0.5*I*sin(varphi/2),                  0.5, 0],\n",
       "[                   0,                    0,                    0, 0]])"
      ]
     },
     "execution_count": 18,
     "metadata": {},
     "output_type": "execute_result"
    }
   ],
   "source": [
    "J = sqrt(1/2)*Matrix([cos(p/2),I*sin(p/2),1,0])\n",
    "G_A = trigsimp(conjugate(J)*J.T)\n",
    "G_A #The input beam G matrix before the transformations"
   ]
  },
  {
   "cell_type": "markdown",
   "metadata": {},
   "source": [
    "#### Calculation of $D_{pol}$ and $D_{par}$"
   ]
  },
  {
   "cell_type": "code",
   "execution_count": 19,
   "metadata": {},
   "outputs": [
    {
     "data": {
      "text/latex": [
       "$\\displaystyle \\left[\\begin{matrix}0.5 & 0.5 \\cos{\\left(\\frac{\\varphi}{2} \\right)}\\\\0.5 \\cos{\\left(\\frac{\\varphi}{2} \\right)} & 0.5\\end{matrix}\\right]$"
      ],
      "text/plain": [
       "Matrix([\n",
       "[              0.5, 0.5*cos(varphi/2)],\n",
       "[0.5*cos(varphi/2),               0.5]])"
      ]
     },
     "execution_count": 19,
     "metadata": {},
     "output_type": "execute_result"
    }
   ],
   "source": [
    "G_pol_A = par_tr_G_pol(G_A)\n",
    "G_pol_A"
   ]
  },
  {
   "cell_type": "code",
   "execution_count": 20,
   "metadata": {
    "scrolled": true
   },
   "outputs": [
    {
     "data": {
      "text/latex": [
       "$\\displaystyle \\left[\\begin{matrix}0.5 \\cos^{2}{\\left(\\frac{\\varphi}{2} \\right)} + 0.5 & 0.25 i \\sin{\\left(\\varphi \\right)}\\\\- 0.25 i \\sin{\\left(\\varphi \\right)} & 0.5 \\sin^{2}{\\left(\\frac{\\varphi}{2} \\right)}\\end{matrix}\\right]$"
      ],
      "text/plain": [
       "Matrix([\n",
       "[0.5*cos(varphi/2)**2 + 0.5,   0.25*I*sin(varphi)],\n",
       "[       -0.25*I*sin(varphi), 0.5*sin(varphi/2)**2]])"
      ]
     },
     "execution_count": 20,
     "metadata": {},
     "output_type": "execute_result"
    }
   ],
   "source": [
    "G_par_A = par_tr_G_par(G_A)\n",
    "G_par_A"
   ]
  },
  {
   "cell_type": "code",
   "execution_count": 21,
   "metadata": {
    "scrolled": true
   },
   "outputs": [
    {
     "data": {
      "text/latex": [
       "$\\displaystyle 1.0 \\left|{\\cos{\\left(\\frac{\\varphi}{2} \\right)}}\\right|$"
      ],
      "text/plain": [
       "1.0*Abs(cos(varphi/2))"
      ]
     },
     "execution_count": 21,
     "metadata": {},
     "output_type": "execute_result"
    }
   ],
   "source": [
    "D_pol_A=app_coh(G_pol_A)\n",
    "D_pol_A# Prints D_pol"
   ]
  },
  {
   "cell_type": "code",
   "execution_count": 22,
   "metadata": {
    "scrolled": true
   },
   "outputs": [
    {
     "data": {
      "text/latex": [
       "$\\displaystyle 0.707106781186548 \\sqrt{\\cos{\\left(\\varphi \\right)} + 1}$"
      ],
      "text/plain": [
       "0.707106781186548*sqrt(cos(varphi) + 1)"
      ]
     },
     "execution_count": 22,
     "metadata": {},
     "output_type": "execute_result"
    }
   ],
   "source": [
    "D_par_A=app_coh(G_par_A)\n",
    "D_par_A# Prints D_par"
   ]
  },
  {
   "cell_type": "markdown",
   "metadata": {},
   "source": [
    "#### Calculation of the Correlation Function and $B_{max}$"
   ]
  },
  {
   "cell_type": "code",
   "execution_count": 23,
   "metadata": {},
   "outputs": [
    {
     "data": {
      "text/latex": [
       "$\\displaystyle 1.0 \\sin{\\left(\\theta_{a} \\right)} \\cos{\\left(\\frac{\\varphi}{2} + \\varphi_{a} \\right)} - 0.5 \\cos{\\left(\\theta_{a} \\right)} \\cos{\\left(\\varphi_{a} \\right)} + 0.5 \\cos{\\left(\\theta_{a} \\right)} \\cos{\\left(\\varphi + \\varphi_{a} \\right)}$"
      ],
      "text/plain": [
       "1.0*sin(theta_a)*cos(varphi/2 + varphi_a) - 0.5*cos(theta_a)*cos(varphi_a) + 0.5*cos(theta_a)*cos(varphi + varphi_a)"
      ]
     },
     "execution_count": 23,
     "metadata": {},
     "output_type": "execute_result"
    }
   ],
   "source": [
    "G_out_A = conjugate(A_SLM)*conjugate(A_HWP)*G_A*A_HWP.T*A_SLM.T #Transformed matrix\n",
    "C_ta_pa_A = trigsimp(corr_prob(G_out_A)/trace_G(G_out_A))\n",
    "C_ta_pa_A"
   ]
  },
  {
   "cell_type": "markdown",
   "metadata": {},
   "source": [
    "As we can see from above this does not actually match the expression provided in \\[topic2\\]. While this initially baffled us we came to a conclusion that this expression is infact correct as per the aim of the paper. Moreover this actually reproduces the experimental results they obtained while in contrast their correlation function fails to do it as well. Also the optimized Bmax values fit with the relation which the paper claims if our correlation function is used instead of theirs.\n",
    "The optimization procedure that we chose to go ahead with is just normal numerical optimization since otherwise we would have had to make the gradient zero and run through all possible cases where the gradient vanishes which would have been a lengthy procedure."
   ]
  },
  {
   "cell_type": "markdown",
   "metadata": {},
   "source": [
    "#### GRAPHS FOR EXPERIMENT A"
   ]
  },
  {
   "cell_type": "code",
   "execution_count": 24,
   "metadata": {},
   "outputs": [
    {
     "data": {
      "application/vnd.jupyter.widget-view+json": {
       "model_id": "c1be5ba7210e42fba88673f27e4002e9",
       "version_major": 2,
       "version_minor": 0
      },
      "text/plain": [
       "interactive(children=(Dropdown(description='option', options=('Hide All', 'D', 'B', 'S', 'Show All'), value='H…"
      ]
     },
     "metadata": {},
     "output_type": "display_data"
    }
   ],
   "source": [
    "def expAPlots(option):\n",
    "    num_space=102\n",
    "    phi=np.linspace(0, 2*np.pi, num_space)\n",
    "    bmax=bmaxfinder(C_ta_pa_A,phi)\n",
    "    dpol=dfinder(D_pol_A,phi)\n",
    "    dpar=dfinder(D_par_A,phi)\n",
    "    spol=sfinder(dpol,bmax)\n",
    "    spar=sfinder(dpar,bmax)\n",
    "    d=dpol\n",
    "    s=spol\n",
    "    \n",
    "    if option!='Hide All':        \n",
    "    \n",
    "        if option=='B':            \n",
    "            fig, ax = plt.subplots(figsize=(7, 7))\n",
    "            plotter(phi,bmax,r'$B_{max}$',r'$\\phi$',r'$B_{max}$',(1,0,0),r'$B_{max}$')\n",
    "            plt.plot(phi,[8**(0.5)]*num_space,color='black', linestyle ='dashed')\n",
    "            plt.plot(phi,[2]*num_space,color='black', linestyle ='dashed')\n",
    "            plt.figtext(s=r'$2\\sqrt{2}$', x=0.15, y=0.77, fontsize=15)\n",
    "            plt.figtext(s=r'$2$', x=0.15, y=0.48, fontsize=15)\n",
    "            plt.ylim(1,3)\n",
    "            plt.show()\n",
    "            \n",
    "        elif option=='S':\n",
    "            fig, ax = plt.subplots(figsize=(7, 7))\n",
    "            plotter(phi,spol,r'$S_{pol}=S_{par}=1$',r'$\\phi$',r'$S_{pol}\\ \\slash\\ S_{par}$',(1,0,0),r'$s_{pol}$')\n",
    "            plotter(phi,spar,r'$S_{pol}=S_{par}=1$',r'$\\phi$',r'$S_{pol}\\ \\slash\\ S_{par}$',(0,0,1),r'$s_{par}$')\n",
    "            plt.ylim(0,1.1) \n",
    "            plt.legend()\n",
    "            plt.show()\n",
    "            \n",
    "        elif option=='D':         \n",
    "            fig, ax = plt.subplots(figsize=(7, 7))\n",
    "            plotter(phi,dpol,r'$D_{pol}\\ and\\ D_{par}$',r'$\\phi$',r'$D_{pol}\\ \\slash\\ D_{par}$',(1,0,0),r'$d_{pol}$')\n",
    "            plotter(phi,dpar,r'$D_{pol}\\ and\\ D_{par}$',r'$\\phi$',r'$D_{pol}\\ \\slash\\ D_{par}$',(0,0,1),r'$d_{pol}$')\n",
    "            plt.ylim(0,1.1)\n",
    "            plt.legend()\n",
    "            plt.show()\n",
    "            \n",
    "        else:\n",
    "            fig, ax = plt.subplots(figsize=(7, 7))\n",
    "            plotter(phi,dpol,r'$D_{pol}\\ and\\ D_{par}$',r'$\\phi$',r'$D_{pol}\\ \\slash\\ D_{par}$',(1,0,0),r'$d_{pol}$')\n",
    "            plotter(phi,dpar,r'$D_{pol}\\ and\\ D_{par}$',r'$\\phi$',r'$D_{pol}\\ \\slash\\ D_{par}$',(0,0,1),r'$d_{pol}$')\n",
    "            plt.ylim(0,1.1)\n",
    "            plt.legend()\n",
    "            plt.show()\n",
    "            fig, ax = plt.subplots(figsize=(7, 7))\n",
    "            plotter(phi,bmax,r'$B_{max}$',r'$\\phi$',r'$B_{max}$',(1,0,0),r'$B_{max}$')\n",
    "            plt.plot(phi,[8**(0.5)]*num_space,color='black', linestyle ='dashed')\n",
    "            plt.plot(phi,[2]*num_space,color='black', linestyle ='dashed')\n",
    "            plt.figtext(s=r'$2\\sqrt{2}$', x=0.15, y=0.77, fontsize=15)\n",
    "            plt.figtext(s=r'$2$', x=0.15, y=0.48, fontsize=15)\n",
    "            plt.ylim(1,3)\n",
    "            plt.show()\n",
    "            fig, ax = plt.subplots(figsize=(7, 7))\n",
    "            plotter(phi,spol,r'$S_{pol}=S_{par}=1$',r'$\\phi$',r'$S_{pol}\\ \\slash\\ S_{par}$',(1,0,0),r'$s_{pol}$')\n",
    "            plotter(phi,spar,r'$S_{pol}=S_{par}=1$',r'$\\phi$',r'$S_{pol}\\ \\slash\\ S_{par}$',(0,0,1),r'$s_{par}$')\n",
    "            plt.ylim(0,1.1) \n",
    "            plt.legend()\n",
    "            plt.show()\n",
    "            \n",
    "            \n",
    "        plt.show()\n",
    "    \n",
    "    else:       \n",
    "        clear_output()\n",
    "    return\n",
    "\n",
    "interact(expAPlots, option=['Hide All', 'D', 'B', 'S', 'Show All']);"
   ]
  },
  {
   "cell_type": "code",
   "execution_count": 25,
   "metadata": {
    "scrolled": false
   },
   "outputs": [
    {
     "data": {
      "application/vnd.jupyter.widget-view+json": {
       "model_id": "ed61db060d58443b9738c3a1eb4fc47a",
       "version_major": 2,
       "version_minor": 0
      },
      "text/plain": [
       "interactive(children=(FloatSlider(value=1.0471975511965976, continuous_update=False, description='phi', layout…"
      ]
     },
     "metadata": {},
     "output_type": "display_data"
    }
   ],
   "source": [
    "def expAContours(phi):\n",
    "    function=C_ta_pa_A\n",
    "    contourplotter(function,phi,r'$C(\\theta_a,\\phi_a)$',r'$\\theta_a$',r'$\\phi_a$')\n",
    "    return\n",
    "interact(expAContours, phi=widgets.FloatSlider(min=0, max=2*np.pi, step=0.02, value=np.pi/3, continuous_update=False, layout=Layout(width='600px')));"
   ]
  },
  {
   "cell_type": "markdown",
   "metadata": {},
   "source": [
    "As it can be seen in the above graphs, our degree of coherence $S$ and also $S_\\text{pol}$ and $S_\\text{par}$ stay at the value of 1 throughout and are invariant to any unitary transformation done on the system. As we vary the angle $\\phi$ we can see that the coupling is maximized at $\\phi=\\pi$ at which moment the apparent degrees of coherence go to zero since all of our original coherency is present in the form of coupling."
   ]
  },
  {
   "cell_type": "markdown",
   "metadata": {},
   "source": [
    "### 4.2 Experiment B\n",
    "Here starting with the same $\\mathbf{J}_{in}$ the polarization is scrambled using a variable polarization rotator which does not affect the spatial DoF so we have $D_\\text{pol} = 0$ and $D_\\text{par} = 1$. Now this beam is sent through a PS-SLM which would couple the DoFs. We now go on to derive the correlation function for this"
   ]
  },
  {
   "cell_type": "code",
   "execution_count": 26,
   "metadata": {
    "scrolled": false
   },
   "outputs": [
    {
     "data": {
      "text/latex": [
       "$\\displaystyle \\left[\\begin{matrix}0.5 \\cos^{2}{\\left(\\frac{\\varphi}{2} \\right)} & 0.5 i \\sin{\\left(\\frac{\\varphi}{2} \\right)} \\cos{\\left(\\frac{\\varphi}{2} \\right)} & 0 & 0\\\\- 0.5 i \\sin{\\left(\\frac{\\varphi}{2} \\right)} \\cos{\\left(\\frac{\\varphi}{2} \\right)} & 0.5 \\sin^{2}{\\left(\\frac{\\varphi}{2} \\right)} & 0 & 0\\\\0 & 0 & 0.5 & 0\\\\0 & 0 & 0 & 0\\end{matrix}\\right]$"
      ],
      "text/plain": [
       "Matrix([\n",
       "[              0.5*cos(varphi/2)**2, 0.5*I*sin(varphi/2)*cos(varphi/2),   0, 0],\n",
       "[-0.5*I*sin(varphi/2)*cos(varphi/2),              0.5*sin(varphi/2)**2,   0, 0],\n",
       "[                                 0,                                 0, 0.5, 0],\n",
       "[                                 0,                                 0,   0, 0]])"
      ]
     },
     "execution_count": 26,
     "metadata": {},
     "output_type": "execute_result"
    }
   ],
   "source": [
    "G_B = (1/2)*Matrix([[cos(p/2)**2, I*cos(p/2)*sin(p/2), 0, 0],[-I*cos(p/2)*sin(p/2), sin(p/2)**2, 0,0],\n",
    "            [0,0,1,0],[0,0,0,0]])\n",
    "G_B #The input beam G matrix before the transformations"
   ]
  },
  {
   "cell_type": "markdown",
   "metadata": {},
   "source": [
    "#### Calculation of $D_{pol}$ and $D_{par}$"
   ]
  },
  {
   "cell_type": "code",
   "execution_count": 27,
   "metadata": {},
   "outputs": [
    {
     "data": {
      "text/latex": [
       "$\\displaystyle \\left[\\begin{matrix}0.5 & 0\\\\0 & 0.5\\end{matrix}\\right]$"
      ],
      "text/plain": [
       "Matrix([\n",
       "[0.5,   0],\n",
       "[  0, 0.5]])"
      ]
     },
     "execution_count": 27,
     "metadata": {},
     "output_type": "execute_result"
    }
   ],
   "source": [
    "G_pol_B = par_tr_G_pol(G_B)\n",
    "G_pol_B"
   ]
  },
  {
   "cell_type": "code",
   "execution_count": 28,
   "metadata": {
    "scrolled": true
   },
   "outputs": [
    {
     "data": {
      "text/latex": [
       "$\\displaystyle \\left[\\begin{matrix}0.5 \\cos^{2}{\\left(\\frac{\\varphi}{2} \\right)} + 0.5 & 0.5 i \\sin{\\left(\\frac{\\varphi}{2} \\right)} \\cos{\\left(\\frac{\\varphi}{2} \\right)}\\\\- 0.5 i \\sin{\\left(\\frac{\\varphi}{2} \\right)} \\cos{\\left(\\frac{\\varphi}{2} \\right)} & 0.5 \\sin^{2}{\\left(\\frac{\\varphi}{2} \\right)}\\end{matrix}\\right]$"
      ],
      "text/plain": [
       "Matrix([\n",
       "[        0.5*cos(varphi/2)**2 + 0.5, 0.5*I*sin(varphi/2)*cos(varphi/2)],\n",
       "[-0.5*I*sin(varphi/2)*cos(varphi/2),              0.5*sin(varphi/2)**2]])"
      ]
     },
     "execution_count": 28,
     "metadata": {},
     "output_type": "execute_result"
    }
   ],
   "source": [
    "G_par_B = par_tr_G_par(G_B)\n",
    "G_par_B"
   ]
  },
  {
   "cell_type": "code",
   "execution_count": 29,
   "metadata": {
    "scrolled": true
   },
   "outputs": [
    {
     "data": {
      "text/latex": [
       "$\\displaystyle 0$"
      ],
      "text/plain": [
       "0"
      ]
     },
     "execution_count": 29,
     "metadata": {},
     "output_type": "execute_result"
    }
   ],
   "source": [
    "D_pol_B=app_coh(G_pol_B)\n",
    "D_pol_B# Prints D_pol"
   ]
  },
  {
   "cell_type": "code",
   "execution_count": 30,
   "metadata": {
    "scrolled": true
   },
   "outputs": [
    {
     "data": {
      "text/latex": [
       "$\\displaystyle 0.707106781186548 \\sqrt{\\cos{\\left(\\varphi \\right)} + 1}$"
      ],
      "text/plain": [
       "0.707106781186548*sqrt(cos(varphi) + 1)"
      ]
     },
     "execution_count": 30,
     "metadata": {},
     "output_type": "execute_result"
    }
   ],
   "source": [
    "D_par_B=app_coh(G_par_B)\n",
    "D_par_B"
   ]
  },
  {
   "cell_type": "markdown",
   "metadata": {},
   "source": [
    "#### Calculation of the Correlation Function and $B_{max}$"
   ]
  },
  {
   "cell_type": "code",
   "execution_count": 31,
   "metadata": {},
   "outputs": [
    {
     "data": {
      "text/latex": [
       "$\\displaystyle 0.5 \\left(- \\cos{\\left(\\varphi_{a} \\right)} + \\cos{\\left(\\varphi + \\varphi_{a} \\right)}\\right) \\cos{\\left(\\theta_{a} \\right)}$"
      ],
      "text/plain": [
       "0.5*(-cos(varphi_a) + cos(varphi + varphi_a))*cos(theta_a)"
      ]
     },
     "execution_count": 31,
     "metadata": {},
     "output_type": "execute_result"
    }
   ],
   "source": [
    "G_out_B = conjugate(A_SLM)*conjugate(A_HWP)*G_B*A_HWP.T*A_SLM.T #Transformed matrix\n",
    "C_ta_pa_B = trigsimp(corr_prob(G_out_B)/trace_G(G_out_B))\n",
    "C_ta_pa_B"
   ]
  },
  {
   "cell_type": "markdown",
   "metadata": {},
   "source": [
    "We have now seen that our expression for the correlation function matches the exact one obtained in the reference \\[topic2\\]. We now go ahead to optimize our expression for B and obtain the other plots below. On a sidenote one can actually traditionally find the maxima for the $B$ expression here since it is simpler to look at. The condition where it is maximized is when $\\phi_a=\\phi_b=(\\pi-\\phi)/2$ and $\\theta_a = \\theta_b = 0$ or $\\pi$ which can be verified by looking at the gradient."
   ]
  },
  {
   "cell_type": "markdown",
   "metadata": {},
   "source": [
    "#### GRAPHS FOR EXPERIMENT B"
   ]
  },
  {
   "cell_type": "code",
   "execution_count": 32,
   "metadata": {
    "scrolled": false
   },
   "outputs": [
    {
     "data": {
      "application/vnd.jupyter.widget-view+json": {
       "model_id": "9220dd3dc2614973b361a2280aaada6a",
       "version_major": 2,
       "version_minor": 0
      },
      "text/plain": [
       "interactive(children=(Dropdown(description='option', options=('Hide All', 'D', 'B', 'S', 'Show All'), value='H…"
      ]
     },
     "metadata": {},
     "output_type": "display_data"
    }
   ],
   "source": [
    "def expBPlots(option):\n",
    "    num_space=102\n",
    "    phi=np.linspace(0, 2*np.pi, num_space)\n",
    "    bmax=bmaxfinder(C_ta_pa_B,phi)\n",
    "    dpol=dfinder(D_pol_B,phi)\n",
    "    dpar=dfinder(D_par_B,phi)\n",
    "    spol=sfinder(dpol,bmax)\n",
    "    spar=sfinder(dpar,bmax)\n",
    "    \n",
    "    if option!='Hide All':        \n",
    "    \n",
    "        if option=='B':            \n",
    "            fig, ax = plt.subplots(figsize=(7, 7))\n",
    "            plotter(phi,bmax,r'$B_{max}$',r'$\\phi$',r'$B_{max}$',(1,0,0),r'$B_{max}$')\n",
    "            plt.plot(phi,[2]*num_space,color='black', linestyle ='dashed')\n",
    "            plt.ylim(0,2.5)\n",
    "            plt.show()\n",
    "            \n",
    "        elif option=='S':\n",
    "            fig, ax = plt.subplots(figsize=(7, 7))\n",
    "            plotter(phi,spol,r'$S_{pol}=S_{par}=1$',r'$\\phi$',r'$S_{pol}\\ \\slash\\ S_{par}$',(1,0,0),r'$s_{pol}$')\n",
    "            plotter(phi,spar,r'$S_{pol}=S_{par}=1$',r'$\\phi$',r'$S_{pol}\\ \\slash\\ S_{par}$',(0,0,1),r'$s_{par}$')\n",
    "            plt.ylim(0,1.1) \n",
    "            plt.legend()\n",
    "            plt.show()\n",
    "            \n",
    "        elif option=='D':         \n",
    "            fig, ax = plt.subplots(figsize=(7, 7))\n",
    "            plotter(phi,dpol,r'$D_{pol}\\ and\\ D_{par}$',r'$\\phi$',r'$D_{pol}\\ \\slash\\ D_{par}$',(1,0,0),r'$d_{pol}$')\n",
    "            plotter(phi,dpar,r'$D_{pol}\\ and\\ D_{par}$',r'$\\phi$',r'$D_{pol}\\ \\slash\\ D_{par}$',(0,0,1),r'$d_{pol}$')\n",
    "            plt.ylim(-0.1,1.1)\n",
    "            plt.legend()\n",
    "            plt.show()\n",
    "            \n",
    "        else:\n",
    "            fig, ax = plt.subplots(figsize=(7, 7))\n",
    "            plotter(phi,dpol,r'$D_{pol}\\ and\\ D_{par}$',r'$\\phi$',r'$D_{pol}\\ \\slash\\ D_{par}$',(1,0,0),r'$d_{pol}$')\n",
    "            plotter(phi,dpar,r'$D_{pol}\\ and\\ D_{par}$',r'$\\phi$',r'$D_{pol}\\ \\slash\\ D_{par}$',(0,0,1),r'$d_{pol}$')\n",
    "            plt.ylim(-0.1,1.1)\n",
    "            plt.legend()\n",
    "            plt.show()\n",
    "            fig, ax = plt.subplots(figsize=(7, 7))\n",
    "            plotter(phi,bmax,r'$B_{max}$',r'$\\phi$',r'$B_{max}$',(1,0,0),r'$B_{max}$')\n",
    "            plt.plot(phi,[2]*num_space,color='black', linestyle ='dashed')\n",
    "            plt.ylim(0,2.5)\n",
    "            plt.show()\n",
    "            fig, ax = plt.subplots(figsize=(7, 7))\n",
    "            plotter(phi,spol,r'$S_{pol}=S_{par}=1$',r'$\\phi$',r'$S_{pol}\\ \\slash\\ S_{par}$',(1,0,0),r'$s_{pol}$')\n",
    "            plotter(phi,spar,r'$S_{pol}=S_{par}=1$',r'$\\phi$',r'$S_{pol}\\ \\slash\\ S_{par}$',(0,0,1),r'$s_{par}$')\n",
    "            plt.ylim(0,1.1) \n",
    "            plt.legend()\n",
    "            plt.show()\n",
    "            \n",
    "            \n",
    "        plt.show()\n",
    "    \n",
    "    else:       \n",
    "        clear_output()\n",
    "    return\n",
    "\n",
    "interact(expBPlots, option=['Hide All', 'D', 'B', 'S', 'Show All']);"
   ]
  },
  {
   "cell_type": "code",
   "execution_count": 33,
   "metadata": {
    "scrolled": false
   },
   "outputs": [
    {
     "data": {
      "application/vnd.jupyter.widget-view+json": {
       "model_id": "69f044b101984c66994d366016733fc4",
       "version_major": 2,
       "version_minor": 0
      },
      "text/plain": [
       "interactive(children=(FloatSlider(value=1.0471975511965976, continuous_update=False, description='phi', layout…"
      ]
     },
     "metadata": {},
     "output_type": "display_data"
    }
   ],
   "source": [
    "def expBContours(phi):\n",
    "    function=C_ta_pa_B\n",
    "    contourplotter(function,phi,r'$C(\\theta_a,\\phi_a)$',r'$\\theta_a$',r'$\\phi_a$')\n",
    "    return\n",
    "interact(expBContours, phi=widgets.FloatSlider(min=0, max=2*np.pi, step=0.02, value=np.pi/3, continuous_update=False, layout=Layout(width='600px')));"
   ]
  },
  {
   "cell_type": "markdown",
   "metadata": {},
   "source": [
    "### 4.3 Experiment C\n",
    "In this experiment we again start with the same $\\mathbf{J}_{in}$ and an interaction is considered that makes it have a random coupling. It has a probability $P$ to couple polarization and parity and $1-P$ to not achieved by randomly toggling between two phase distributions of the PS-SLM, one with $\\pi/2\\text{sgn}(x)$ phase and another with zero phase where $P$ is the fraction of time that the PS-SLM displays the first phase pattern. From this we go on to derive it's correlation function."
   ]
  },
  {
   "cell_type": "code",
   "execution_count": 34,
   "metadata": {},
   "outputs": [
    {
     "data": {
      "text/latex": [
       "$\\displaystyle \\left[\\begin{matrix}\\frac{1}{2} - \\frac{P}{2} & 0 & \\frac{1}{2} - \\frac{P}{2} & 0\\\\0 & \\frac{P}{2} & - \\frac{i P}{2} & 0\\\\\\frac{1}{2} - \\frac{P}{2} & \\frac{i P}{2} & \\frac{1}{2} & 0\\\\0 & 0 & 0 & 0\\end{matrix}\\right]$"
      ],
      "text/plain": [
       "Matrix([\n",
       "[1/2 - P/2,     0, 1/2 - P/2, 0],\n",
       "[        0,   P/2,    -I*P/2, 0],\n",
       "[1/2 - P/2, I*P/2,       1/2, 0],\n",
       "[        0,     0,         0, 0]])"
      ]
     },
     "execution_count": 34,
     "metadata": {},
     "output_type": "execute_result"
    }
   ],
   "source": [
    "J_ent = (1/sqrt(2))*Matrix([0, I, 1, 0])#Entagled state\n",
    "J_in = (1/sqrt(2))*Matrix([1, 0, 1, 0])#Input state\n",
    "G_C = P*conjugate(J_ent)*J_ent.T + (1-P)*conjugate(J_in)*J_in.T\n",
    "G_C"
   ]
  },
  {
   "cell_type": "markdown",
   "metadata": {},
   "source": [
    "#### Calculation of $D_{pol}$ and $D_{par}$"
   ]
  },
  {
   "cell_type": "code",
   "execution_count": 35,
   "metadata": {},
   "outputs": [
    {
     "data": {
      "text/latex": [
       "$\\displaystyle \\left[\\begin{matrix}\\frac{1}{2} & \\frac{1}{2} - \\frac{P}{2}\\\\\\frac{1}{2} - \\frac{P}{2} & \\frac{1}{2}\\end{matrix}\\right]$"
      ],
      "text/plain": [
       "Matrix([\n",
       "[      1/2, 1/2 - P/2],\n",
       "[1/2 - P/2,       1/2]])"
      ]
     },
     "execution_count": 35,
     "metadata": {},
     "output_type": "execute_result"
    }
   ],
   "source": [
    "G_pol_C = par_tr_G_pol(G_C)\n",
    "G_pol_C"
   ]
  },
  {
   "cell_type": "code",
   "execution_count": 36,
   "metadata": {
    "scrolled": true
   },
   "outputs": [
    {
     "data": {
      "text/latex": [
       "$\\displaystyle \\left[\\begin{matrix}1 - \\frac{P}{2} & 0\\\\0 & \\frac{P}{2}\\end{matrix}\\right]$"
      ],
      "text/plain": [
       "Matrix([\n",
       "[1 - P/2,   0],\n",
       "[      0, P/2]])"
      ]
     },
     "execution_count": 36,
     "metadata": {},
     "output_type": "execute_result"
    }
   ],
   "source": [
    "G_par_C = par_tr_G_par(G_C)\n",
    "G_par_C"
   ]
  },
  {
   "cell_type": "code",
   "execution_count": 37,
   "metadata": {
    "scrolled": true
   },
   "outputs": [
    {
     "data": {
      "text/latex": [
       "$\\displaystyle \\left|{P - 1}\\right|$"
      ],
      "text/plain": [
       "Abs(P - 1)"
      ]
     },
     "execution_count": 37,
     "metadata": {},
     "output_type": "execute_result"
    }
   ],
   "source": [
    "D_pol_C=app_coh(G_pol_C)\n",
    "simplify(D_pol_C)# Prints D_pol"
   ]
  },
  {
   "cell_type": "code",
   "execution_count": 38,
   "metadata": {
    "scrolled": true
   },
   "outputs": [
    {
     "data": {
      "text/latex": [
       "$\\displaystyle \\sqrt{- P \\left(2 - P\\right) + 1}$"
      ],
      "text/plain": [
       "sqrt(-P*(2 - P) + 1)"
      ]
     },
     "execution_count": 38,
     "metadata": {},
     "output_type": "execute_result"
    }
   ],
   "source": [
    "D_par_C=app_coh(G_par_C)\n",
    "D_par_C"
   ]
  },
  {
   "cell_type": "markdown",
   "metadata": {},
   "source": [
    "#### Calculation of the Correlation Function and $B_{max}$"
   ]
  },
  {
   "cell_type": "code",
   "execution_count": 39,
   "metadata": {},
   "outputs": [
    {
     "data": {
      "text/latex": [
       "$\\displaystyle - \\sqrt{2} P \\sin{\\left(\\theta_{a} \\right)} \\sin{\\left(\\varphi_{a} + \\frac{\\pi}{4} \\right)} - P \\cos{\\left(\\theta_{a} \\right)} \\cos{\\left(\\varphi_{a} \\right)} + \\sin{\\left(\\theta_{a} \\right)} \\cos{\\left(\\varphi_{a} \\right)}$"
      ],
      "text/plain": [
       "-sqrt(2)*P*sin(theta_a)*sin(varphi_a + pi/4) - P*cos(theta_a)*cos(varphi_a) + sin(theta_a)*cos(varphi_a)"
      ]
     },
     "execution_count": 39,
     "metadata": {},
     "output_type": "execute_result"
    }
   ],
   "source": [
    "G_out_C = conjugate(A_SLM)*conjugate(A_HWP)*G_C*A_HWP.T*A_SLM.T #Transformed matrix\n",
    "C_ta_pa_C = trigsimp(corr_prob(G_out_C)/trace_G(G_out_C))\n",
    "C_ta_pa_C"
   ]
  },
  {
   "cell_type": "code",
   "execution_count": 40,
   "metadata": {},
   "outputs": [
    {
     "data": {
      "text/latex": [
       "$\\displaystyle 0$"
      ],
      "text/plain": [
       "0"
      ]
     },
     "execution_count": 40,
     "metadata": {},
     "output_type": "execute_result"
    }
   ],
   "source": [
    "simplify(C_ta_pa_C - ((1-P)*sin(ta)*cos(pa) - P*cos(ta-pa)))"
   ]
  },
  {
   "cell_type": "markdown",
   "metadata": {},
   "source": [
    "As we have shown in the cell above the correlation function we have derived matches exactly with the function that the paper provides. We again use numerical methods to maximize this function since optimizing by minimization of gradient would take considerably long to do. Our results shown below match up consistently with those shown in \\[topic2\\]."
   ]
  },
  {
   "cell_type": "markdown",
   "metadata": {},
   "source": [
    "#### GRAPHS FOR EXPERIMENT C"
   ]
  },
  {
   "cell_type": "code",
   "execution_count": 41,
   "metadata": {
    "scrolled": false
   },
   "outputs": [
    {
     "data": {
      "application/vnd.jupyter.widget-view+json": {
       "model_id": "93c6b9d6bd834514868e37f89e0c2141",
       "version_major": 2,
       "version_minor": 0
      },
      "text/plain": [
       "interactive(children=(Dropdown(description='option', options=('Hide All', 'D', 'B', 'S', 'Show All'), value='H…"
      ]
     },
     "metadata": {},
     "output_type": "display_data"
    }
   ],
   "source": [
    "def expCPlots(option):\n",
    "    num_space=102\n",
    "    P=np.linspace(0, 1, num_space)\n",
    "    bmax=bmaxfinderC(C_ta_pa_C,P)\n",
    "    dpol=dfinderC(D_pol_C,P)\n",
    "    dpar=dfinderC(D_par_C,P)\n",
    "    spol=sfinder(dpol,bmax)\n",
    "    spar=sfinder(dpar,bmax)\n",
    "    \n",
    "    if option!='Hide All':        \n",
    "    \n",
    "        if option=='B':            \n",
    "            fig, ax = plt.subplots(figsize=(7, 7))\n",
    "            plotterC(P,bmax,r'$B_{max}$',r'$\\phi$',r'$B_{max}$',(1,0,0),r'$B_{max}$')\n",
    "            plt.plot(P,[2]*num_space,color='black', linestyle ='dashed')\n",
    "            plt.ylim(1,3)\n",
    "            plt.show()\n",
    "            \n",
    "        elif option=='S':\n",
    "            fig, ax = plt.subplots(figsize=(7, 7))\n",
    "            plotterC(P,spol,r'$S_{pol}=S_{par}=1$',r'$\\phi$',r'$S_{pol}\\ \\slash\\ S_{par}$',(1,0,0),r'$s_{pol}$')\n",
    "            plotterC(P,spar,r'$S_{pol}=S_{par}=1$',r'$\\phi$',r'$S_{pol}\\ \\slash\\ S_{par}$',(0,0,1),r'$s_{par}$')\n",
    "            plt.ylim(0,1.1) \n",
    "            plt.legend()\n",
    "            plt.show()\n",
    "            \n",
    "        elif option=='D':         \n",
    "            fig, ax = plt.subplots(figsize=(7, 7))\n",
    "            plotterC(P,dpol,r'$D_{pol}\\ and\\ D_{par}$',r'$\\phi$',r'$D_{pol}\\ \\slash\\ D_{par}$',(1,0,0),r'$d_{pol}$')\n",
    "            plotterC(P,dpar,r'$D_{pol}\\ and\\ D_{par}$',r'$\\phi$',r'$D_{pol}\\ \\slash\\ D_{par}$',(0,0,1),r'$d_{pol}$')\n",
    "            plt.ylim(-0.1,1.1)\n",
    "            plt.legend()\n",
    "            plt.show()\n",
    "            \n",
    "        else:\n",
    "            fig, ax = plt.subplots(figsize=(7, 7))\n",
    "            plotterC(P,dpol,r'$D_{pol}\\ and\\ D_{par}$',r'$\\phi$',r'$D_{pol}\\ \\slash\\ D_{par}$',(1,0,0),r'$d_{pol}$')\n",
    "            plotterC(P,dpar,r'$D_{pol}\\ and\\ D_{par}$',r'$\\phi$',r'$D_{pol}\\ \\slash\\ D_{par}$',(0,0,1),r'$d_{pol}$')\n",
    "            plt.ylim(-0.1,1.1)\n",
    "            plt.legend()\n",
    "            plt.show()\n",
    "            fig, ax = plt.subplots(figsize=(7, 7))\n",
    "            plotterC(P,bmax,r'$B_{max}$',r'$\\phi$',r'$B_{max}$',(1,0,0),r'$B_{max}$')\n",
    "            plt.plot(P,[2]*num_space,color='black', linestyle ='dashed')\n",
    "            plt.ylim(1,3)\n",
    "            plt.show()\n",
    "            fig, ax = plt.subplots(figsize=(7, 7))\n",
    "            plotterC(P,spol,r'$S_{pol}=S_{par}=1$',r'$\\phi$',r'$S_{pol}\\ \\slash\\ S_{par}$',(1,0,0),r'$s_{pol}$')\n",
    "            plotterC(P,spar,r'$S_{pol}=S_{par}=1$',r'$\\phi$',r'$S_{pol}\\ \\slash\\ S_{par}$',(0,0,1),r'$s_{par}$')\n",
    "            plt.ylim(0,1.1) \n",
    "            plt.legend()\n",
    "            plt.show()\n",
    "            \n",
    "            \n",
    "        plt.show()\n",
    "    \n",
    "    else:       \n",
    "        clear_output()\n",
    "    return\n",
    "\n",
    "interact(expCPlots, option=['Hide All', 'D', 'B', 'S', 'Show All']);"
   ]
  },
  {
   "cell_type": "code",
   "execution_count": 42,
   "metadata": {
    "scrolled": false
   },
   "outputs": [
    {
     "data": {
      "application/vnd.jupyter.widget-view+json": {
       "model_id": "9133058c1df64c97a45cf73f6b64aa86",
       "version_major": 2,
       "version_minor": 0
      },
      "text/plain": [
       "interactive(children=(FloatSlider(value=0.3333333333333333, continuous_update=False, description='P', layout=L…"
      ]
     },
     "metadata": {},
     "output_type": "display_data"
    }
   ],
   "source": [
    "def expCContours(P):\n",
    "    function=C_ta_pa_C\n",
    "    contourplotterC(function,P,r'$C(\\theta_a,\\phi_a)$',r'$\\theta_a$',r'$\\phi_a$')\n",
    "    return\n",
    "interact(expCContours, P=widgets.FloatSlider(min=0, max=1, step=0.01, value=1/3, continuous_update=False, layout=Layout(width='600px')));"
   ]
  },
  {
   "cell_type": "markdown",
   "metadata": {},
   "source": [
    "## 5. Reduced representation of the two Binary DoFs\n",
    "Write something here"
   ]
  },
  {
   "cell_type": "code",
   "execution_count": 135,
   "metadata": {},
   "outputs": [],
   "source": [
    "def randG():\n",
    "    G=np.zeros([4,4])\n",
    "    G[0,0]=np.random.uniform(0,1)\n",
    "    G[1,1]=np.random.uniform(0,1-np.trace(G))\n",
    "    G[2,2]=np.random.uniform(0,1-np.trace(G))\n",
    "    G[3,3]=1-np.trace(G)\n",
    "    #G=G/np.trace(G)\n",
    "    A = np.random.rand(4,4)*2-ones(4,4)+1j*np.random.rand(4,4)*2-ones(4,4)\n",
    "    U,_=np.linalg.qr(np.random.rand(4,4)+1j*np.random.rand(4,4))\n",
    "    G=(U@G@np.conjugate(np.transpose(U))).round(4)\n",
    "    return G"
   ]
  },
  {
   "cell_type": "code",
   "execution_count": 136,
   "metadata": {},
   "outputs": [],
   "source": [
    "def C_ta_pa(G,t1,p1):\n",
    "    a_hwp_1 = [[-np.cos(t1/2),0,-np.sin(t1/2),0],[0,-np.cos(t1/2),0,-np.sin(t1/2)],[-np.sin(t1/2),0,np.cos(t1/2),0],[0,-np.sin(t1/2),0,np.cos(t1/2)]]\n",
    "    a_slm_1 = [[np.cos(p1/2),1j*np.sin(p1/2),0,0],[1j*np.sin(p1/2),np.cos(p1/2),0,0],[0,0,np.cos(p1/2),1j*np.sin(p1/2)],[0,0,1j*np.sin(p1/2),np.cos(p1/2)]]\n",
    "    G_out=np.conjugate(a_slm_1)*np.conjugate(a_hwp_1)*G*np.conjugate(a_hwp_1)*np.conjugate(a_slm_1)\n",
    "    return np.real((G_out[0,0]-G_out[1,1]-G_out[2,2]+G_out[3,3])/(np.trace(G))).round(8)"
   ]
  },
  {
   "cell_type": "code",
   "execution_count": 137,
   "metadata": {},
   "outputs": [],
   "source": [
    "def B(G,t1,t2,p1,p2):\n",
    "    return abs(C_ta_pa(G,t1,p1)+C_ta_pa(G,t1,p2)+C_ta_pa(G,t2,p1)-C_ta_pa(G,t2,p2))"
   ]
  },
  {
   "cell_type": "code",
   "execution_count": 138,
   "metadata": {},
   "outputs": [],
   "source": [
    "def genS(G):\n",
    "    G_pol = [[G[0,0]+G[1,1],G[0,2]+G[1,3]],[G[2,0]+G[3,1],G[2,2]+G[3,3]]]\n",
    "    G_par = [[G[0,0]+G[2,2],G[0,1]+G[2,3]],[G[1,0]+G[3,2],G[1,1]+G[3,3]]]\n",
    "    \n",
    "    D_pol=sqrt(1-4*(np.linalg.det(G_pol))/((np.trace(G_pol))**2))\n",
    "    D_par=sqrt(1-4*(np.linalg.det(G_par))/((np.trace(G_par))**2))\n",
    "    \n",
    "    bmax=-1*(sc.optimize.minimize(lambda params: -1*abs(B(G,params[0],params[1],params[2],params[3])), [0,0,0,0], method = 'Nelder-Mead').fun)\n",
    "    spol=round(np.real(complex(D_pol**2/2+bmax**2/8)),8)\n",
    "    spar=round(np.real(complex(D_par**2/2+bmax**2/8)),8)\n",
    "    s=round(np.real((4/3)*(np.trace(G@G)-(1/4))),8)\n",
    "    return spol,spar,s"
   ]
  },
  {
   "cell_type": "code",
   "execution_count": 140,
   "metadata": {},
   "outputs": [],
   "source": [
    "n=100000\n",
    "x=np.zeros(n)\n",
    "y=np.zeros(n)\n",
    "z=np.zeros(n)\n",
    "for i in range(n):\n",
    "    #print(i)\n",
    "    x[i],y[i],z[i]=genS(randG())\n",
    "rows = zip(x,y,z)\n",
    "import csv\n",
    "\n",
    "with open('data.csv', mode='w', newline='') as f:\n",
    "    writer = csv.writer(f)\n",
    "    for row in rows:\n",
    "        writer.writerow(row)"
   ]
  },
  {
   "cell_type": "code",
   "execution_count": 141,
   "metadata": {},
   "outputs": [
    {
     "data": {
      "application/javascript": [
       "/* Put everything inside the global mpl namespace */\n",
       "/* global mpl */\n",
       "window.mpl = {};\n",
       "\n",
       "mpl.get_websocket_type = function () {\n",
       "    if (typeof WebSocket !== 'undefined') {\n",
       "        return WebSocket;\n",
       "    } else if (typeof MozWebSocket !== 'undefined') {\n",
       "        return MozWebSocket;\n",
       "    } else {\n",
       "        alert(\n",
       "            'Your browser does not have WebSocket support. ' +\n",
       "                'Please try Chrome, Safari or Firefox ≥ 6. ' +\n",
       "                'Firefox 4 and 5 are also supported but you ' +\n",
       "                'have to enable WebSockets in about:config.'\n",
       "        );\n",
       "    }\n",
       "};\n",
       "\n",
       "mpl.figure = function (figure_id, websocket, ondownload, parent_element) {\n",
       "    this.id = figure_id;\n",
       "\n",
       "    this.ws = websocket;\n",
       "\n",
       "    this.supports_binary = this.ws.binaryType !== undefined;\n",
       "\n",
       "    if (!this.supports_binary) {\n",
       "        var warnings = document.getElementById('mpl-warnings');\n",
       "        if (warnings) {\n",
       "            warnings.style.display = 'block';\n",
       "            warnings.textContent =\n",
       "                'This browser does not support binary websocket messages. ' +\n",
       "                'Performance may be slow.';\n",
       "        }\n",
       "    }\n",
       "\n",
       "    this.imageObj = new Image();\n",
       "\n",
       "    this.context = undefined;\n",
       "    this.message = undefined;\n",
       "    this.canvas = undefined;\n",
       "    this.rubberband_canvas = undefined;\n",
       "    this.rubberband_context = undefined;\n",
       "    this.format_dropdown = undefined;\n",
       "\n",
       "    this.image_mode = 'full';\n",
       "\n",
       "    this.root = document.createElement('div');\n",
       "    this.root.setAttribute('style', 'display: inline-block');\n",
       "    this._root_extra_style(this.root);\n",
       "\n",
       "    parent_element.appendChild(this.root);\n",
       "\n",
       "    this._init_header(this);\n",
       "    this._init_canvas(this);\n",
       "    this._init_toolbar(this);\n",
       "\n",
       "    var fig = this;\n",
       "\n",
       "    this.waiting = false;\n",
       "\n",
       "    this.ws.onopen = function () {\n",
       "        fig.send_message('supports_binary', { value: fig.supports_binary });\n",
       "        fig.send_message('send_image_mode', {});\n",
       "        if (fig.ratio !== 1) {\n",
       "            fig.send_message('set_dpi_ratio', { dpi_ratio: fig.ratio });\n",
       "        }\n",
       "        fig.send_message('refresh', {});\n",
       "    };\n",
       "\n",
       "    this.imageObj.onload = function () {\n",
       "        if (fig.image_mode === 'full') {\n",
       "            // Full images could contain transparency (where diff images\n",
       "            // almost always do), so we need to clear the canvas so that\n",
       "            // there is no ghosting.\n",
       "            fig.context.clearRect(0, 0, fig.canvas.width, fig.canvas.height);\n",
       "        }\n",
       "        fig.context.drawImage(fig.imageObj, 0, 0);\n",
       "    };\n",
       "\n",
       "    this.imageObj.onunload = function () {\n",
       "        fig.ws.close();\n",
       "    };\n",
       "\n",
       "    this.ws.onmessage = this._make_on_message_function(this);\n",
       "\n",
       "    this.ondownload = ondownload;\n",
       "};\n",
       "\n",
       "mpl.figure.prototype._init_header = function () {\n",
       "    var titlebar = document.createElement('div');\n",
       "    titlebar.classList =\n",
       "        'ui-dialog-titlebar ui-widget-header ui-corner-all ui-helper-clearfix';\n",
       "    var titletext = document.createElement('div');\n",
       "    titletext.classList = 'ui-dialog-title';\n",
       "    titletext.setAttribute(\n",
       "        'style',\n",
       "        'width: 100%; text-align: center; padding: 3px;'\n",
       "    );\n",
       "    titlebar.appendChild(titletext);\n",
       "    this.root.appendChild(titlebar);\n",
       "    this.header = titletext;\n",
       "};\n",
       "\n",
       "mpl.figure.prototype._canvas_extra_style = function (_canvas_div) {};\n",
       "\n",
       "mpl.figure.prototype._root_extra_style = function (_canvas_div) {};\n",
       "\n",
       "mpl.figure.prototype._init_canvas = function () {\n",
       "    var fig = this;\n",
       "\n",
       "    var canvas_div = (this.canvas_div = document.createElement('div'));\n",
       "    canvas_div.setAttribute(\n",
       "        'style',\n",
       "        'border: 1px solid #ddd;' +\n",
       "            'box-sizing: content-box;' +\n",
       "            'clear: both;' +\n",
       "            'min-height: 1px;' +\n",
       "            'min-width: 1px;' +\n",
       "            'outline: 0;' +\n",
       "            'overflow: hidden;' +\n",
       "            'position: relative;' +\n",
       "            'resize: both;'\n",
       "    );\n",
       "\n",
       "    function on_keyboard_event_closure(name) {\n",
       "        return function (event) {\n",
       "            return fig.key_event(event, name);\n",
       "        };\n",
       "    }\n",
       "\n",
       "    canvas_div.addEventListener(\n",
       "        'keydown',\n",
       "        on_keyboard_event_closure('key_press')\n",
       "    );\n",
       "    canvas_div.addEventListener(\n",
       "        'keyup',\n",
       "        on_keyboard_event_closure('key_release')\n",
       "    );\n",
       "\n",
       "    this._canvas_extra_style(canvas_div);\n",
       "    this.root.appendChild(canvas_div);\n",
       "\n",
       "    var canvas = (this.canvas = document.createElement('canvas'));\n",
       "    canvas.classList.add('mpl-canvas');\n",
       "    canvas.setAttribute('style', 'box-sizing: content-box;');\n",
       "\n",
       "    this.context = canvas.getContext('2d');\n",
       "\n",
       "    var backingStore =\n",
       "        this.context.backingStorePixelRatio ||\n",
       "        this.context.webkitBackingStorePixelRatio ||\n",
       "        this.context.mozBackingStorePixelRatio ||\n",
       "        this.context.msBackingStorePixelRatio ||\n",
       "        this.context.oBackingStorePixelRatio ||\n",
       "        this.context.backingStorePixelRatio ||\n",
       "        1;\n",
       "\n",
       "    this.ratio = (window.devicePixelRatio || 1) / backingStore;\n",
       "\n",
       "    var rubberband_canvas = (this.rubberband_canvas = document.createElement(\n",
       "        'canvas'\n",
       "    ));\n",
       "    rubberband_canvas.setAttribute(\n",
       "        'style',\n",
       "        'box-sizing: content-box; position: absolute; left: 0; top: 0; z-index: 1;'\n",
       "    );\n",
       "\n",
       "    // Apply a ponyfill if ResizeObserver is not implemented by browser.\n",
       "    if (this.ResizeObserver === undefined) {\n",
       "        if (window.ResizeObserver !== undefined) {\n",
       "            this.ResizeObserver = window.ResizeObserver;\n",
       "        } else {\n",
       "            var obs = _JSXTOOLS_RESIZE_OBSERVER({});\n",
       "            this.ResizeObserver = obs.ResizeObserver;\n",
       "        }\n",
       "    }\n",
       "\n",
       "    this.resizeObserverInstance = new this.ResizeObserver(function (entries) {\n",
       "        var nentries = entries.length;\n",
       "        for (var i = 0; i < nentries; i++) {\n",
       "            var entry = entries[i];\n",
       "            var width, height;\n",
       "            if (entry.contentBoxSize) {\n",
       "                if (entry.contentBoxSize instanceof Array) {\n",
       "                    // Chrome 84 implements new version of spec.\n",
       "                    width = entry.contentBoxSize[0].inlineSize;\n",
       "                    height = entry.contentBoxSize[0].blockSize;\n",
       "                } else {\n",
       "                    // Firefox implements old version of spec.\n",
       "                    width = entry.contentBoxSize.inlineSize;\n",
       "                    height = entry.contentBoxSize.blockSize;\n",
       "                }\n",
       "            } else {\n",
       "                // Chrome <84 implements even older version of spec.\n",
       "                width = entry.contentRect.width;\n",
       "                height = entry.contentRect.height;\n",
       "            }\n",
       "\n",
       "            // Keep the size of the canvas and rubber band canvas in sync with\n",
       "            // the canvas container.\n",
       "            if (entry.devicePixelContentBoxSize) {\n",
       "                // Chrome 84 implements new version of spec.\n",
       "                canvas.setAttribute(\n",
       "                    'width',\n",
       "                    entry.devicePixelContentBoxSize[0].inlineSize\n",
       "                );\n",
       "                canvas.setAttribute(\n",
       "                    'height',\n",
       "                    entry.devicePixelContentBoxSize[0].blockSize\n",
       "                );\n",
       "            } else {\n",
       "                canvas.setAttribute('width', width * fig.ratio);\n",
       "                canvas.setAttribute('height', height * fig.ratio);\n",
       "            }\n",
       "            canvas.setAttribute(\n",
       "                'style',\n",
       "                'width: ' + width + 'px; height: ' + height + 'px;'\n",
       "            );\n",
       "\n",
       "            rubberband_canvas.setAttribute('width', width);\n",
       "            rubberband_canvas.setAttribute('height', height);\n",
       "\n",
       "            // And update the size in Python. We ignore the initial 0/0 size\n",
       "            // that occurs as the element is placed into the DOM, which should\n",
       "            // otherwise not happen due to the minimum size styling.\n",
       "            if (fig.ws.readyState == 1 && width != 0 && height != 0) {\n",
       "                fig.request_resize(width, height);\n",
       "            }\n",
       "        }\n",
       "    });\n",
       "    this.resizeObserverInstance.observe(canvas_div);\n",
       "\n",
       "    function on_mouse_event_closure(name) {\n",
       "        return function (event) {\n",
       "            return fig.mouse_event(event, name);\n",
       "        };\n",
       "    }\n",
       "\n",
       "    rubberband_canvas.addEventListener(\n",
       "        'mousedown',\n",
       "        on_mouse_event_closure('button_press')\n",
       "    );\n",
       "    rubberband_canvas.addEventListener(\n",
       "        'mouseup',\n",
       "        on_mouse_event_closure('button_release')\n",
       "    );\n",
       "    rubberband_canvas.addEventListener(\n",
       "        'dblclick',\n",
       "        on_mouse_event_closure('dblclick')\n",
       "    );\n",
       "    // Throttle sequential mouse events to 1 every 20ms.\n",
       "    rubberband_canvas.addEventListener(\n",
       "        'mousemove',\n",
       "        on_mouse_event_closure('motion_notify')\n",
       "    );\n",
       "\n",
       "    rubberband_canvas.addEventListener(\n",
       "        'mouseenter',\n",
       "        on_mouse_event_closure('figure_enter')\n",
       "    );\n",
       "    rubberband_canvas.addEventListener(\n",
       "        'mouseleave',\n",
       "        on_mouse_event_closure('figure_leave')\n",
       "    );\n",
       "\n",
       "    canvas_div.addEventListener('wheel', function (event) {\n",
       "        if (event.deltaY < 0) {\n",
       "            event.step = 1;\n",
       "        } else {\n",
       "            event.step = -1;\n",
       "        }\n",
       "        on_mouse_event_closure('scroll')(event);\n",
       "    });\n",
       "\n",
       "    canvas_div.appendChild(canvas);\n",
       "    canvas_div.appendChild(rubberband_canvas);\n",
       "\n",
       "    this.rubberband_context = rubberband_canvas.getContext('2d');\n",
       "    this.rubberband_context.strokeStyle = '#000000';\n",
       "\n",
       "    this._resize_canvas = function (width, height, forward) {\n",
       "        if (forward) {\n",
       "            canvas_div.style.width = width + 'px';\n",
       "            canvas_div.style.height = height + 'px';\n",
       "        }\n",
       "    };\n",
       "\n",
       "    // Disable right mouse context menu.\n",
       "    this.rubberband_canvas.addEventListener('contextmenu', function (_e) {\n",
       "        event.preventDefault();\n",
       "        return false;\n",
       "    });\n",
       "\n",
       "    function set_focus() {\n",
       "        canvas.focus();\n",
       "        canvas_div.focus();\n",
       "    }\n",
       "\n",
       "    window.setTimeout(set_focus, 100);\n",
       "};\n",
       "\n",
       "mpl.figure.prototype._init_toolbar = function () {\n",
       "    var fig = this;\n",
       "\n",
       "    var toolbar = document.createElement('div');\n",
       "    toolbar.classList = 'mpl-toolbar';\n",
       "    this.root.appendChild(toolbar);\n",
       "\n",
       "    function on_click_closure(name) {\n",
       "        return function (_event) {\n",
       "            return fig.toolbar_button_onclick(name);\n",
       "        };\n",
       "    }\n",
       "\n",
       "    function on_mouseover_closure(tooltip) {\n",
       "        return function (event) {\n",
       "            if (!event.currentTarget.disabled) {\n",
       "                return fig.toolbar_button_onmouseover(tooltip);\n",
       "            }\n",
       "        };\n",
       "    }\n",
       "\n",
       "    fig.buttons = {};\n",
       "    var buttonGroup = document.createElement('div');\n",
       "    buttonGroup.classList = 'mpl-button-group';\n",
       "    for (var toolbar_ind in mpl.toolbar_items) {\n",
       "        var name = mpl.toolbar_items[toolbar_ind][0];\n",
       "        var tooltip = mpl.toolbar_items[toolbar_ind][1];\n",
       "        var image = mpl.toolbar_items[toolbar_ind][2];\n",
       "        var method_name = mpl.toolbar_items[toolbar_ind][3];\n",
       "\n",
       "        if (!name) {\n",
       "            /* Instead of a spacer, we start a new button group. */\n",
       "            if (buttonGroup.hasChildNodes()) {\n",
       "                toolbar.appendChild(buttonGroup);\n",
       "            }\n",
       "            buttonGroup = document.createElement('div');\n",
       "            buttonGroup.classList = 'mpl-button-group';\n",
       "            continue;\n",
       "        }\n",
       "\n",
       "        var button = (fig.buttons[name] = document.createElement('button'));\n",
       "        button.classList = 'mpl-widget';\n",
       "        button.setAttribute('role', 'button');\n",
       "        button.setAttribute('aria-disabled', 'false');\n",
       "        button.addEventListener('click', on_click_closure(method_name));\n",
       "        button.addEventListener('mouseover', on_mouseover_closure(tooltip));\n",
       "\n",
       "        var icon_img = document.createElement('img');\n",
       "        icon_img.src = '_images/' + image + '.png';\n",
       "        icon_img.srcset = '_images/' + image + '_large.png 2x';\n",
       "        icon_img.alt = tooltip;\n",
       "        button.appendChild(icon_img);\n",
       "\n",
       "        buttonGroup.appendChild(button);\n",
       "    }\n",
       "\n",
       "    if (buttonGroup.hasChildNodes()) {\n",
       "        toolbar.appendChild(buttonGroup);\n",
       "    }\n",
       "\n",
       "    var fmt_picker = document.createElement('select');\n",
       "    fmt_picker.classList = 'mpl-widget';\n",
       "    toolbar.appendChild(fmt_picker);\n",
       "    this.format_dropdown = fmt_picker;\n",
       "\n",
       "    for (var ind in mpl.extensions) {\n",
       "        var fmt = mpl.extensions[ind];\n",
       "        var option = document.createElement('option');\n",
       "        option.selected = fmt === mpl.default_extension;\n",
       "        option.innerHTML = fmt;\n",
       "        fmt_picker.appendChild(option);\n",
       "    }\n",
       "\n",
       "    var status_bar = document.createElement('span');\n",
       "    status_bar.classList = 'mpl-message';\n",
       "    toolbar.appendChild(status_bar);\n",
       "    this.message = status_bar;\n",
       "};\n",
       "\n",
       "mpl.figure.prototype.request_resize = function (x_pixels, y_pixels) {\n",
       "    // Request matplotlib to resize the figure. Matplotlib will then trigger a resize in the client,\n",
       "    // which will in turn request a refresh of the image.\n",
       "    this.send_message('resize', { width: x_pixels, height: y_pixels });\n",
       "};\n",
       "\n",
       "mpl.figure.prototype.send_message = function (type, properties) {\n",
       "    properties['type'] = type;\n",
       "    properties['figure_id'] = this.id;\n",
       "    this.ws.send(JSON.stringify(properties));\n",
       "};\n",
       "\n",
       "mpl.figure.prototype.send_draw_message = function () {\n",
       "    if (!this.waiting) {\n",
       "        this.waiting = true;\n",
       "        this.ws.send(JSON.stringify({ type: 'draw', figure_id: this.id }));\n",
       "    }\n",
       "};\n",
       "\n",
       "mpl.figure.prototype.handle_save = function (fig, _msg) {\n",
       "    var format_dropdown = fig.format_dropdown;\n",
       "    var format = format_dropdown.options[format_dropdown.selectedIndex].value;\n",
       "    fig.ondownload(fig, format);\n",
       "};\n",
       "\n",
       "mpl.figure.prototype.handle_resize = function (fig, msg) {\n",
       "    var size = msg['size'];\n",
       "    if (size[0] !== fig.canvas.width || size[1] !== fig.canvas.height) {\n",
       "        fig._resize_canvas(size[0], size[1], msg['forward']);\n",
       "        fig.send_message('refresh', {});\n",
       "    }\n",
       "};\n",
       "\n",
       "mpl.figure.prototype.handle_rubberband = function (fig, msg) {\n",
       "    var x0 = msg['x0'] / fig.ratio;\n",
       "    var y0 = (fig.canvas.height - msg['y0']) / fig.ratio;\n",
       "    var x1 = msg['x1'] / fig.ratio;\n",
       "    var y1 = (fig.canvas.height - msg['y1']) / fig.ratio;\n",
       "    x0 = Math.floor(x0) + 0.5;\n",
       "    y0 = Math.floor(y0) + 0.5;\n",
       "    x1 = Math.floor(x1) + 0.5;\n",
       "    y1 = Math.floor(y1) + 0.5;\n",
       "    var min_x = Math.min(x0, x1);\n",
       "    var min_y = Math.min(y0, y1);\n",
       "    var width = Math.abs(x1 - x0);\n",
       "    var height = Math.abs(y1 - y0);\n",
       "\n",
       "    fig.rubberband_context.clearRect(\n",
       "        0,\n",
       "        0,\n",
       "        fig.canvas.width / fig.ratio,\n",
       "        fig.canvas.height / fig.ratio\n",
       "    );\n",
       "\n",
       "    fig.rubberband_context.strokeRect(min_x, min_y, width, height);\n",
       "};\n",
       "\n",
       "mpl.figure.prototype.handle_figure_label = function (fig, msg) {\n",
       "    // Updates the figure title.\n",
       "    fig.header.textContent = msg['label'];\n",
       "};\n",
       "\n",
       "mpl.figure.prototype.handle_cursor = function (fig, msg) {\n",
       "    var cursor = msg['cursor'];\n",
       "    switch (cursor) {\n",
       "        case 0:\n",
       "            cursor = 'pointer';\n",
       "            break;\n",
       "        case 1:\n",
       "            cursor = 'default';\n",
       "            break;\n",
       "        case 2:\n",
       "            cursor = 'crosshair';\n",
       "            break;\n",
       "        case 3:\n",
       "            cursor = 'move';\n",
       "            break;\n",
       "    }\n",
       "    fig.rubberband_canvas.style.cursor = cursor;\n",
       "};\n",
       "\n",
       "mpl.figure.prototype.handle_message = function (fig, msg) {\n",
       "    fig.message.textContent = msg['message'];\n",
       "};\n",
       "\n",
       "mpl.figure.prototype.handle_draw = function (fig, _msg) {\n",
       "    // Request the server to send over a new figure.\n",
       "    fig.send_draw_message();\n",
       "};\n",
       "\n",
       "mpl.figure.prototype.handle_image_mode = function (fig, msg) {\n",
       "    fig.image_mode = msg['mode'];\n",
       "};\n",
       "\n",
       "mpl.figure.prototype.handle_history_buttons = function (fig, msg) {\n",
       "    for (var key in msg) {\n",
       "        if (!(key in fig.buttons)) {\n",
       "            continue;\n",
       "        }\n",
       "        fig.buttons[key].disabled = !msg[key];\n",
       "        fig.buttons[key].setAttribute('aria-disabled', !msg[key]);\n",
       "    }\n",
       "};\n",
       "\n",
       "mpl.figure.prototype.handle_navigate_mode = function (fig, msg) {\n",
       "    if (msg['mode'] === 'PAN') {\n",
       "        fig.buttons['Pan'].classList.add('active');\n",
       "        fig.buttons['Zoom'].classList.remove('active');\n",
       "    } else if (msg['mode'] === 'ZOOM') {\n",
       "        fig.buttons['Pan'].classList.remove('active');\n",
       "        fig.buttons['Zoom'].classList.add('active');\n",
       "    } else {\n",
       "        fig.buttons['Pan'].classList.remove('active');\n",
       "        fig.buttons['Zoom'].classList.remove('active');\n",
       "    }\n",
       "};\n",
       "\n",
       "mpl.figure.prototype.updated_canvas_event = function () {\n",
       "    // Called whenever the canvas gets updated.\n",
       "    this.send_message('ack', {});\n",
       "};\n",
       "\n",
       "// A function to construct a web socket function for onmessage handling.\n",
       "// Called in the figure constructor.\n",
       "mpl.figure.prototype._make_on_message_function = function (fig) {\n",
       "    return function socket_on_message(evt) {\n",
       "        if (evt.data instanceof Blob) {\n",
       "            var img = evt.data;\n",
       "            if (img.type !== 'image/png') {\n",
       "                /* FIXME: We get \"Resource interpreted as Image but\n",
       "                 * transferred with MIME type text/plain:\" errors on\n",
       "                 * Chrome.  But how to set the MIME type?  It doesn't seem\n",
       "                 * to be part of the websocket stream */\n",
       "                img.type = 'image/png';\n",
       "            }\n",
       "\n",
       "            /* Free the memory for the previous frames */\n",
       "            if (fig.imageObj.src) {\n",
       "                (window.URL || window.webkitURL).revokeObjectURL(\n",
       "                    fig.imageObj.src\n",
       "                );\n",
       "            }\n",
       "\n",
       "            fig.imageObj.src = (window.URL || window.webkitURL).createObjectURL(\n",
       "                img\n",
       "            );\n",
       "            fig.updated_canvas_event();\n",
       "            fig.waiting = false;\n",
       "            return;\n",
       "        } else if (\n",
       "            typeof evt.data === 'string' &&\n",
       "            evt.data.slice(0, 21) === 'data:image/png;base64'\n",
       "        ) {\n",
       "            fig.imageObj.src = evt.data;\n",
       "            fig.updated_canvas_event();\n",
       "            fig.waiting = false;\n",
       "            return;\n",
       "        }\n",
       "\n",
       "        var msg = JSON.parse(evt.data);\n",
       "        var msg_type = msg['type'];\n",
       "\n",
       "        // Call the  \"handle_{type}\" callback, which takes\n",
       "        // the figure and JSON message as its only arguments.\n",
       "        try {\n",
       "            var callback = fig['handle_' + msg_type];\n",
       "        } catch (e) {\n",
       "            console.log(\n",
       "                \"No handler for the '\" + msg_type + \"' message type: \",\n",
       "                msg\n",
       "            );\n",
       "            return;\n",
       "        }\n",
       "\n",
       "        if (callback) {\n",
       "            try {\n",
       "                // console.log(\"Handling '\" + msg_type + \"' message: \", msg);\n",
       "                callback(fig, msg);\n",
       "            } catch (e) {\n",
       "                console.log(\n",
       "                    \"Exception inside the 'handler_\" + msg_type + \"' callback:\",\n",
       "                    e,\n",
       "                    e.stack,\n",
       "                    msg\n",
       "                );\n",
       "            }\n",
       "        }\n",
       "    };\n",
       "};\n",
       "\n",
       "// from http://stackoverflow.com/questions/1114465/getting-mouse-location-in-canvas\n",
       "mpl.findpos = function (e) {\n",
       "    //this section is from http://www.quirksmode.org/js/events_properties.html\n",
       "    var targ;\n",
       "    if (!e) {\n",
       "        e = window.event;\n",
       "    }\n",
       "    if (e.target) {\n",
       "        targ = e.target;\n",
       "    } else if (e.srcElement) {\n",
       "        targ = e.srcElement;\n",
       "    }\n",
       "    if (targ.nodeType === 3) {\n",
       "        // defeat Safari bug\n",
       "        targ = targ.parentNode;\n",
       "    }\n",
       "\n",
       "    // pageX,Y are the mouse positions relative to the document\n",
       "    var boundingRect = targ.getBoundingClientRect();\n",
       "    var x = e.pageX - (boundingRect.left + document.body.scrollLeft);\n",
       "    var y = e.pageY - (boundingRect.top + document.body.scrollTop);\n",
       "\n",
       "    return { x: x, y: y };\n",
       "};\n",
       "\n",
       "/*\n",
       " * return a copy of an object with only non-object keys\n",
       " * we need this to avoid circular references\n",
       " * http://stackoverflow.com/a/24161582/3208463\n",
       " */\n",
       "function simpleKeys(original) {\n",
       "    return Object.keys(original).reduce(function (obj, key) {\n",
       "        if (typeof original[key] !== 'object') {\n",
       "            obj[key] = original[key];\n",
       "        }\n",
       "        return obj;\n",
       "    }, {});\n",
       "}\n",
       "\n",
       "mpl.figure.prototype.mouse_event = function (event, name) {\n",
       "    var canvas_pos = mpl.findpos(event);\n",
       "\n",
       "    if (name === 'button_press') {\n",
       "        this.canvas.focus();\n",
       "        this.canvas_div.focus();\n",
       "    }\n",
       "\n",
       "    var x = canvas_pos.x * this.ratio;\n",
       "    var y = canvas_pos.y * this.ratio;\n",
       "\n",
       "    this.send_message(name, {\n",
       "        x: x,\n",
       "        y: y,\n",
       "        button: event.button,\n",
       "        step: event.step,\n",
       "        guiEvent: simpleKeys(event),\n",
       "    });\n",
       "\n",
       "    /* This prevents the web browser from automatically changing to\n",
       "     * the text insertion cursor when the button is pressed.  We want\n",
       "     * to control all of the cursor setting manually through the\n",
       "     * 'cursor' event from matplotlib */\n",
       "    event.preventDefault();\n",
       "    return false;\n",
       "};\n",
       "\n",
       "mpl.figure.prototype._key_event_extra = function (_event, _name) {\n",
       "    // Handle any extra behaviour associated with a key event\n",
       "};\n",
       "\n",
       "mpl.figure.prototype.key_event = function (event, name) {\n",
       "    // Prevent repeat events\n",
       "    if (name === 'key_press') {\n",
       "        if (event.key === this._key) {\n",
       "            return;\n",
       "        } else {\n",
       "            this._key = event.key;\n",
       "        }\n",
       "    }\n",
       "    if (name === 'key_release') {\n",
       "        this._key = null;\n",
       "    }\n",
       "\n",
       "    var value = '';\n",
       "    if (event.ctrlKey && event.key !== 'Control') {\n",
       "        value += 'ctrl+';\n",
       "    }\n",
       "    else if (event.altKey && event.key !== 'Alt') {\n",
       "        value += 'alt+';\n",
       "    }\n",
       "    else if (event.shiftKey && event.key !== 'Shift') {\n",
       "        value += 'shift+';\n",
       "    }\n",
       "\n",
       "    value += 'k' + event.key;\n",
       "\n",
       "    this._key_event_extra(event, name);\n",
       "\n",
       "    this.send_message(name, { key: value, guiEvent: simpleKeys(event) });\n",
       "    return false;\n",
       "};\n",
       "\n",
       "mpl.figure.prototype.toolbar_button_onclick = function (name) {\n",
       "    if (name === 'download') {\n",
       "        this.handle_save(this, null);\n",
       "    } else {\n",
       "        this.send_message('toolbar_button', { name: name });\n",
       "    }\n",
       "};\n",
       "\n",
       "mpl.figure.prototype.toolbar_button_onmouseover = function (tooltip) {\n",
       "    this.message.textContent = tooltip;\n",
       "};\n",
       "\n",
       "///////////////// REMAINING CONTENT GENERATED BY embed_js.py /////////////////\n",
       "// prettier-ignore\n",
       "var _JSXTOOLS_RESIZE_OBSERVER=function(A){var t,i=new WeakMap,n=new WeakMap,a=new WeakMap,r=new WeakMap,o=new Set;function s(e){if(!(this instanceof s))throw new TypeError(\"Constructor requires 'new' operator\");i.set(this,e)}function h(){throw new TypeError(\"Function is not a constructor\")}function c(e,t,i,n){e=0 in arguments?Number(arguments[0]):0,t=1 in arguments?Number(arguments[1]):0,i=2 in arguments?Number(arguments[2]):0,n=3 in arguments?Number(arguments[3]):0,this.right=(this.x=this.left=e)+(this.width=i),this.bottom=(this.y=this.top=t)+(this.height=n),Object.freeze(this)}function d(){t=requestAnimationFrame(d);var s=new WeakMap,p=new Set;o.forEach((function(t){r.get(t).forEach((function(i){var r=t instanceof window.SVGElement,o=a.get(t),d=r?0:parseFloat(o.paddingTop),f=r?0:parseFloat(o.paddingRight),l=r?0:parseFloat(o.paddingBottom),u=r?0:parseFloat(o.paddingLeft),g=r?0:parseFloat(o.borderTopWidth),m=r?0:parseFloat(o.borderRightWidth),w=r?0:parseFloat(o.borderBottomWidth),b=u+f,F=d+l,v=(r?0:parseFloat(o.borderLeftWidth))+m,W=g+w,y=r?0:t.offsetHeight-W-t.clientHeight,E=r?0:t.offsetWidth-v-t.clientWidth,R=b+v,z=F+W,M=r?t.width:parseFloat(o.width)-R-E,O=r?t.height:parseFloat(o.height)-z-y;if(n.has(t)){var k=n.get(t);if(k[0]===M&&k[1]===O)return}n.set(t,[M,O]);var S=Object.create(h.prototype);S.target=t,S.contentRect=new c(u,d,M,O),s.has(i)||(s.set(i,[]),p.add(i)),s.get(i).push(S)}))})),p.forEach((function(e){i.get(e).call(e,s.get(e),e)}))}return s.prototype.observe=function(i){if(i instanceof window.Element){r.has(i)||(r.set(i,new Set),o.add(i),a.set(i,window.getComputedStyle(i)));var n=r.get(i);n.has(this)||n.add(this),cancelAnimationFrame(t),t=requestAnimationFrame(d)}},s.prototype.unobserve=function(i){if(i instanceof window.Element&&r.has(i)){var n=r.get(i);n.has(this)&&(n.delete(this),n.size||(r.delete(i),o.delete(i))),n.size||r.delete(i),o.size||cancelAnimationFrame(t)}},A.DOMRectReadOnly=c,A.ResizeObserver=s,A.ResizeObserverEntry=h,A}; // eslint-disable-line\n",
       "mpl.toolbar_items = [[\"Home\", \"Reset original view\", \"fa fa-home icon-home\", \"home\"], [\"Back\", \"Back to previous view\", \"fa fa-arrow-left icon-arrow-left\", \"back\"], [\"Forward\", \"Forward to next view\", \"fa fa-arrow-right icon-arrow-right\", \"forward\"], [\"\", \"\", \"\", \"\"], [\"Pan\", \"Left button pans, Right button zooms\\nx/y fixes axis, CTRL fixes aspect\", \"fa fa-arrows icon-move\", \"pan\"], [\"Zoom\", \"Zoom to rectangle\\nx/y fixes axis, CTRL fixes aspect\", \"fa fa-square-o icon-check-empty\", \"zoom\"], [\"\", \"\", \"\", \"\"], [\"Download\", \"Download plot\", \"fa fa-floppy-o icon-save\", \"download\"]];\n",
       "\n",
       "mpl.extensions = [\"eps\", \"jpeg\", \"pgf\", \"pdf\", \"png\", \"ps\", \"raw\", \"svg\", \"tif\"];\n",
       "\n",
       "mpl.default_extension = \"png\";/* global mpl */\n",
       "\n",
       "var comm_websocket_adapter = function (comm) {\n",
       "    // Create a \"websocket\"-like object which calls the given IPython comm\n",
       "    // object with the appropriate methods. Currently this is a non binary\n",
       "    // socket, so there is still some room for performance tuning.\n",
       "    var ws = {};\n",
       "\n",
       "    ws.binaryType = comm.kernel.ws.binaryType;\n",
       "    ws.readyState = comm.kernel.ws.readyState;\n",
       "    function updateReadyState(_event) {\n",
       "        if (comm.kernel.ws) {\n",
       "            ws.readyState = comm.kernel.ws.readyState;\n",
       "        } else {\n",
       "            ws.readyState = 3; // Closed state.\n",
       "        }\n",
       "    }\n",
       "    comm.kernel.ws.addEventListener('open', updateReadyState);\n",
       "    comm.kernel.ws.addEventListener('close', updateReadyState);\n",
       "    comm.kernel.ws.addEventListener('error', updateReadyState);\n",
       "\n",
       "    ws.close = function () {\n",
       "        comm.close();\n",
       "    };\n",
       "    ws.send = function (m) {\n",
       "        //console.log('sending', m);\n",
       "        comm.send(m);\n",
       "    };\n",
       "    // Register the callback with on_msg.\n",
       "    comm.on_msg(function (msg) {\n",
       "        //console.log('receiving', msg['content']['data'], msg);\n",
       "        var data = msg['content']['data'];\n",
       "        if (data['blob'] !== undefined) {\n",
       "            data = {\n",
       "                data: new Blob(msg['buffers'], { type: data['blob'] }),\n",
       "            };\n",
       "        }\n",
       "        // Pass the mpl event to the overridden (by mpl) onmessage function.\n",
       "        ws.onmessage(data);\n",
       "    });\n",
       "    return ws;\n",
       "};\n",
       "\n",
       "mpl.mpl_figure_comm = function (comm, msg) {\n",
       "    // This is the function which gets called when the mpl process\n",
       "    // starts-up an IPython Comm through the \"matplotlib\" channel.\n",
       "\n",
       "    var id = msg.content.data.id;\n",
       "    // Get hold of the div created by the display call when the Comm\n",
       "    // socket was opened in Python.\n",
       "    var element = document.getElementById(id);\n",
       "    var ws_proxy = comm_websocket_adapter(comm);\n",
       "\n",
       "    function ondownload(figure, _format) {\n",
       "        window.open(figure.canvas.toDataURL());\n",
       "    }\n",
       "\n",
       "    var fig = new mpl.figure(id, ws_proxy, ondownload, element);\n",
       "\n",
       "    // Call onopen now - mpl needs it, as it is assuming we've passed it a real\n",
       "    // web socket which is closed, not our websocket->open comm proxy.\n",
       "    ws_proxy.onopen();\n",
       "\n",
       "    fig.parent_element = element;\n",
       "    fig.cell_info = mpl.find_output_cell(\"<div id='\" + id + \"'></div>\");\n",
       "    if (!fig.cell_info) {\n",
       "        console.error('Failed to find cell for figure', id, fig);\n",
       "        return;\n",
       "    }\n",
       "    fig.cell_info[0].output_area.element.on(\n",
       "        'cleared',\n",
       "        { fig: fig },\n",
       "        fig._remove_fig_handler\n",
       "    );\n",
       "};\n",
       "\n",
       "mpl.figure.prototype.handle_close = function (fig, msg) {\n",
       "    var width = fig.canvas.width / fig.ratio;\n",
       "    fig.cell_info[0].output_area.element.off(\n",
       "        'cleared',\n",
       "        fig._remove_fig_handler\n",
       "    );\n",
       "    fig.resizeObserverInstance.unobserve(fig.canvas_div);\n",
       "\n",
       "    // Update the output cell to use the data from the current canvas.\n",
       "    fig.push_to_output();\n",
       "    var dataURL = fig.canvas.toDataURL();\n",
       "    // Re-enable the keyboard manager in IPython - without this line, in FF,\n",
       "    // the notebook keyboard shortcuts fail.\n",
       "    IPython.keyboard_manager.enable();\n",
       "    fig.parent_element.innerHTML =\n",
       "        '<img src=\"' + dataURL + '\" width=\"' + width + '\">';\n",
       "    fig.close_ws(fig, msg);\n",
       "};\n",
       "\n",
       "mpl.figure.prototype.close_ws = function (fig, msg) {\n",
       "    fig.send_message('closing', msg);\n",
       "    // fig.ws.close()\n",
       "};\n",
       "\n",
       "mpl.figure.prototype.push_to_output = function (_remove_interactive) {\n",
       "    // Turn the data on the canvas into data in the output cell.\n",
       "    var width = this.canvas.width / this.ratio;\n",
       "    var dataURL = this.canvas.toDataURL();\n",
       "    this.cell_info[1]['text/html'] =\n",
       "        '<img src=\"' + dataURL + '\" width=\"' + width + '\">';\n",
       "};\n",
       "\n",
       "mpl.figure.prototype.updated_canvas_event = function () {\n",
       "    // Tell IPython that the notebook contents must change.\n",
       "    IPython.notebook.set_dirty(true);\n",
       "    this.send_message('ack', {});\n",
       "    var fig = this;\n",
       "    // Wait a second, then push the new image to the DOM so\n",
       "    // that it is saved nicely (might be nice to debounce this).\n",
       "    setTimeout(function () {\n",
       "        fig.push_to_output();\n",
       "    }, 1000);\n",
       "};\n",
       "\n",
       "mpl.figure.prototype._init_toolbar = function () {\n",
       "    var fig = this;\n",
       "\n",
       "    var toolbar = document.createElement('div');\n",
       "    toolbar.classList = 'btn-toolbar';\n",
       "    this.root.appendChild(toolbar);\n",
       "\n",
       "    function on_click_closure(name) {\n",
       "        return function (_event) {\n",
       "            return fig.toolbar_button_onclick(name);\n",
       "        };\n",
       "    }\n",
       "\n",
       "    function on_mouseover_closure(tooltip) {\n",
       "        return function (event) {\n",
       "            if (!event.currentTarget.disabled) {\n",
       "                return fig.toolbar_button_onmouseover(tooltip);\n",
       "            }\n",
       "        };\n",
       "    }\n",
       "\n",
       "    fig.buttons = {};\n",
       "    var buttonGroup = document.createElement('div');\n",
       "    buttonGroup.classList = 'btn-group';\n",
       "    var button;\n",
       "    for (var toolbar_ind in mpl.toolbar_items) {\n",
       "        var name = mpl.toolbar_items[toolbar_ind][0];\n",
       "        var tooltip = mpl.toolbar_items[toolbar_ind][1];\n",
       "        var image = mpl.toolbar_items[toolbar_ind][2];\n",
       "        var method_name = mpl.toolbar_items[toolbar_ind][3];\n",
       "\n",
       "        if (!name) {\n",
       "            /* Instead of a spacer, we start a new button group. */\n",
       "            if (buttonGroup.hasChildNodes()) {\n",
       "                toolbar.appendChild(buttonGroup);\n",
       "            }\n",
       "            buttonGroup = document.createElement('div');\n",
       "            buttonGroup.classList = 'btn-group';\n",
       "            continue;\n",
       "        }\n",
       "\n",
       "        button = fig.buttons[name] = document.createElement('button');\n",
       "        button.classList = 'btn btn-default';\n",
       "        button.href = '#';\n",
       "        button.title = name;\n",
       "        button.innerHTML = '<i class=\"fa ' + image + ' fa-lg\"></i>';\n",
       "        button.addEventListener('click', on_click_closure(method_name));\n",
       "        button.addEventListener('mouseover', on_mouseover_closure(tooltip));\n",
       "        buttonGroup.appendChild(button);\n",
       "    }\n",
       "\n",
       "    if (buttonGroup.hasChildNodes()) {\n",
       "        toolbar.appendChild(buttonGroup);\n",
       "    }\n",
       "\n",
       "    // Add the status bar.\n",
       "    var status_bar = document.createElement('span');\n",
       "    status_bar.classList = 'mpl-message pull-right';\n",
       "    toolbar.appendChild(status_bar);\n",
       "    this.message = status_bar;\n",
       "\n",
       "    // Add the close button to the window.\n",
       "    var buttongrp = document.createElement('div');\n",
       "    buttongrp.classList = 'btn-group inline pull-right';\n",
       "    button = document.createElement('button');\n",
       "    button.classList = 'btn btn-mini btn-primary';\n",
       "    button.href = '#';\n",
       "    button.title = 'Stop Interaction';\n",
       "    button.innerHTML = '<i class=\"fa fa-power-off icon-remove icon-large\"></i>';\n",
       "    button.addEventListener('click', function (_evt) {\n",
       "        fig.handle_close(fig, {});\n",
       "    });\n",
       "    button.addEventListener(\n",
       "        'mouseover',\n",
       "        on_mouseover_closure('Stop Interaction')\n",
       "    );\n",
       "    buttongrp.appendChild(button);\n",
       "    var titlebar = this.root.querySelector('.ui-dialog-titlebar');\n",
       "    titlebar.insertBefore(buttongrp, titlebar.firstChild);\n",
       "};\n",
       "\n",
       "mpl.figure.prototype._remove_fig_handler = function (event) {\n",
       "    var fig = event.data.fig;\n",
       "    if (event.target !== this) {\n",
       "        // Ignore bubbled events from children.\n",
       "        return;\n",
       "    }\n",
       "    fig.close_ws(fig, {});\n",
       "};\n",
       "\n",
       "mpl.figure.prototype._root_extra_style = function (el) {\n",
       "    el.style.boxSizing = 'content-box'; // override notebook setting of border-box.\n",
       "};\n",
       "\n",
       "mpl.figure.prototype._canvas_extra_style = function (el) {\n",
       "    // this is important to make the div 'focusable\n",
       "    el.setAttribute('tabindex', 0);\n",
       "    // reach out to IPython and tell the keyboard manager to turn it's self\n",
       "    // off when our div gets focus\n",
       "\n",
       "    // location in version 3\n",
       "    if (IPython.notebook.keyboard_manager) {\n",
       "        IPython.notebook.keyboard_manager.register_events(el);\n",
       "    } else {\n",
       "        // location in version 2\n",
       "        IPython.keyboard_manager.register_events(el);\n",
       "    }\n",
       "};\n",
       "\n",
       "mpl.figure.prototype._key_event_extra = function (event, _name) {\n",
       "    var manager = IPython.notebook.keyboard_manager;\n",
       "    if (!manager) {\n",
       "        manager = IPython.keyboard_manager;\n",
       "    }\n",
       "\n",
       "    // Check for shift+enter\n",
       "    if (event.shiftKey && event.which === 13) {\n",
       "        this.canvas_div.blur();\n",
       "        // select the cell after this one\n",
       "        var index = IPython.notebook.find_cell_index(this.cell_info[0]);\n",
       "        IPython.notebook.select(index + 1);\n",
       "    }\n",
       "};\n",
       "\n",
       "mpl.figure.prototype.handle_save = function (fig, _msg) {\n",
       "    fig.ondownload(fig, null);\n",
       "};\n",
       "\n",
       "mpl.find_output_cell = function (html_output) {\n",
       "    // Return the cell and output element which can be found *uniquely* in the notebook.\n",
       "    // Note - this is a bit hacky, but it is done because the \"notebook_saving.Notebook\"\n",
       "    // IPython event is triggered only after the cells have been serialised, which for\n",
       "    // our purposes (turning an active figure into a static one), is too late.\n",
       "    var cells = IPython.notebook.get_cells();\n",
       "    var ncells = cells.length;\n",
       "    for (var i = 0; i < ncells; i++) {\n",
       "        var cell = cells[i];\n",
       "        if (cell.cell_type === 'code') {\n",
       "            for (var j = 0; j < cell.output_area.outputs.length; j++) {\n",
       "                var data = cell.output_area.outputs[j];\n",
       "                if (data.data) {\n",
       "                    // IPython >= 3 moved mimebundle to data attribute of output\n",
       "                    data = data.data;\n",
       "                }\n",
       "                if (data['text/html'] === html_output) {\n",
       "                    return [cell, data, j];\n",
       "                }\n",
       "            }\n",
       "        }\n",
       "    }\n",
       "};\n",
       "\n",
       "// Register the function which deals with the matplotlib target/channel.\n",
       "// The kernel may be null if the page has been refreshed.\n",
       "if (IPython.notebook.kernel !== null) {\n",
       "    IPython.notebook.kernel.comm_manager.register_target(\n",
       "        'matplotlib',\n",
       "        mpl.mpl_figure_comm\n",
       "    );\n",
       "}\n"
      ],
      "text/plain": [
       "<IPython.core.display.Javascript object>"
      ]
     },
     "metadata": {},
     "output_type": "display_data"
    },
    {
     "data": {
      "text/html": [
       "<img src=\"data:image/png;base64,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\" width=\"800\">"
      ],
      "text/plain": [
       "<IPython.core.display.HTML object>"
      ]
     },
     "metadata": {},
     "output_type": "display_data"
    }
   ],
   "source": [
    "\n",
    "def Plot3dim(x,y,z):\n",
    "    \n",
    "    fig = plt.figure()\n",
    "    \n",
    "    ax = plt.axes(projection='3d')\n",
    "    ax.scatter3D(x, y, z, color=(1,0,0))\n",
    "    ax.axes.set_xlim3d(left=0, right=1) \n",
    "    ax.axes.set_ylim3d(bottom=0, top=1) \n",
    "    ax.axes.set_zlim3d(bottom=0, top=1)\n",
    "    ax.grid(False)\n",
    "    ax.set_title(\"PLOT OF ALLOWED ENTROPIES\")\n",
    "    ax.set_xlabel(r\"$S_{pol}$\")\n",
    "    ax.set_ylabel(r\"$S_{par}$\")\n",
    "    ax.set_zlabel(r\"$S$\")\n",
    "%matplotlib notebook\n",
    "Plot3dim(x,y,z)"
   ]
  },
  {
   "cell_type": "markdown",
   "metadata": {},
   "source": [
    "## 6. Quantum Circuits\n",
    "As one may have already noticed, the behavior of the system here can be accurately modelled using quantum systems where instead of coherence one measures the purity of a state. We make use of the IBM Qiskit libraries to build these experimental setups into their equivalent quantum circuits making use of ancillary qubits to create inherently mixed states. The main idea here is that for experiment A we would only need the two qubits each representing one DoF to model this system and reproduce the results using the appropriate operators.\n",
    "### Interpretation of the model\n",
    "<p>The first qubit (indexed by 0) refers to the polarisation DOF and the second qubit (index 1) refers to the parity DOF. We will take the $|1\\rangle$ state of polarity to mean pure V-polarisation and $|0\\rangle$ state to mean pure H-polarisation. Similarly, we take the $|0\\rangle$ and $|1\\rangle$ states of the parity qubit to mean purely even and purely odd mode, respectively.</p>\n",
    "<table>\n",
    "    <tr><td>Parity-polarisation state</td><td>Qubit configuration</td></tr>\n",
    "    <tr><td>He</td><td>00</td></tr>\n",
    "    <tr><td>Ho</td><td>01</td></tr>\n",
    "    <tr><td>Ve</td><td>10</td></tr>\n",
    "    <tr><td>Vo</td><td>11</td></tr>\n",
    "</table>\n",
    "<p>Further, we will always use any ancilla qubits we need, to replicate the probabilistic devices (like random rotator or probabilistic PS-SLM) to be the initial qubits, the second last qubit will represent polarisation, and the last qubit represents parity.</p>\n",
    "\n",
    "For experiment B one of our state is starting in an impure form, something which cannot be reached if one were to only apply unitary transformations. Here we make use of an ancillary qubit which is coupled with the rest of the two qubits and hence is in a way storing the coherence we wished to get rid off as part of it's coupling. The main idea of this paper was that partial trace matrices do not give us the complete picture of the system which we can demonstrate very simply just by using a bell state (a pure state) and noting that it's partial traces are actually representative of impure states.\n",
    "\n",
    "The purpose of this section is to demonstrate a simulation which is based in quantum mechanics which reproduces the results of classical coherence obtained in this paper.\n",
    "\n",
    "A small point to add is that in qiskit the representation is not with zeroth qubit being MSB and last qubit being LSB but the other way round. In experiment A for example $q_0$ is the polarization qubit and $q_1$ is the parity qubit and so Ho is actually 10 and Ve is 01 and so on."
   ]
  },
  {
   "cell_type": "code",
   "execution_count": 43,
   "metadata": {},
   "outputs": [],
   "source": [
    "#Defining the operations on the circuit\n",
    "simulator = Aer.get_backend('statevector_simulator') #Using statevector simulator\n",
    "\n",
    "def SLM(phi,qc,ancilla_used = 0):\n",
    "    qc.rx(-phi,ancilla_used+1)\n",
    "    return\n",
    "#For HWP, by observing the 2x2 matrix, we see that the operator looks like Ry(theta)*sigma_Z \n",
    "def HWP(theta,qc,ancilla_used = 0):\n",
    "    qc.z(ancilla_used)\n",
    "    qc.ry(theta,ancilla_used)\n",
    "    return\n",
    "\n",
    "#for PS-SLM, we want the H-polarisation to induce an SLM action, but not V. So, if polarisation qubit is 0 (H), we want the\n",
    "#controlled gate to fire. So we first invert (NOT or X gate) the control bit, use a usual controlled gate, then invert it \n",
    "#again.\n",
    "def PSSLM(phi,qc,ancilla_used=0):\n",
    "    qc.x(ancilla_used)\n",
    "    qc.crx(-phi,ancilla_used,ancilla_used+1) #angle,control,target\n",
    "    qc.x(ancilla_used)\n",
    "    return\n",
    "\n",
    "def corr_circ(qc):\n",
    "    result = execute(qc, simulator).result()\n",
    "    statevector = result.get_statevector(qc)\n",
    "    corr = 0\n",
    "    if len(statevector) is 4:\n",
    "        corr = 2*(np.absolute(statevector[0]**2) + np.absolute(statevector[3]**2)) - 1\n",
    "    if len(statevector) is 8:\n",
    "        corr = (np.absolute(statevector[0]**2) + np.absolute(statevector[1]**2) + np.absolute(statevector[6]**2) + np.absolute(statevector[7]**2)) - (np.absolute(statevector[2]**2) + np.absolute(statevector[3]**2) + np.absolute(statevector[4]**2) + np.absolute(statevector[5]**2))\n",
    "    return corr"
   ]
  },
  {
   "cell_type": "markdown",
   "metadata": {},
   "source": [
    "### 6.1 Experiment A\n",
    "For this experiment we take $q_0$ as the polarization DoF and $q_1$ as the parity DoF. Based on the matrix forms of the experimental apparatus we can see that applying an HWP is analogous to a $R_y(\\theta)Z$ on $q_0$ and the SLM is $R_x(-\\phi)$ and the PSSLM is just the SLM as a controlled operation except that it activates for $q_0$ being in 0 instead of 1 so we just apply a NOT on that bit before and after the controlled gate. The measurement done in the end uses the statevector simulator of qiskit to directly calculate probabilities based on the state of the system. While running multiple shots using one of the real quantum computers one can access using IBM-Q would have been more impressive, those will come with heavy noise outputs would require additional noise and error mitigation procedures."
   ]
  },
  {
   "cell_type": "code",
   "execution_count": 44,
   "metadata": {},
   "outputs": [
    {
     "data": {
      "image/png": "[encoded data removed]",
      "text/plain": [
       "<Figure size 840.392x204.68 with 1 Axes>"
      ]
     },
     "execution_count": 44,
     "metadata": {},
     "output_type": "execute_result"
    }
   ],
   "source": [
    "#Quantum Circuit Diagram for A\n",
    "qcA = QuantumCircuit(2,2)\n",
    "qcA.h(0)\n",
    "qcA.barrier() #initialisation complete, 45 degre linearly polarised even mode\n",
    "PSSLM(np.pi/2,qcA) #no ancilla\n",
    "qcA.barrier() #beam is coupled, now on to analysis stage\n",
    "HWP(np.pi/4,qcA)\n",
    "SLM(np.pi/6,qcA)\n",
    "qcA.barrier()#Analysis stage complete. Now, measurement stage\n",
    "qcA.measure(0,0)\n",
    "qcA.measure(1,1)\n",
    "qcA.draw('mpl')"
   ]
  },
  {
   "cell_type": "code",
   "execution_count": 52,
   "metadata": {},
   "outputs": [],
   "source": [
    "def CA(theta_a,phi_a,phi):\n",
    "    qcA=QuantumCircuit(2,2)\n",
    "    qcA.h(0)\n",
    "    qcA.barrier() #initialisation complete, 45 degre linearly polarised even mode\n",
    "    PSSLM(phi,qcA) #no ancilla\n",
    "    qcA.barrier() #beam is coupled, now on to analysis stage\n",
    "    HWP(theta_a,qcA)\n",
    "    SLM(phi_a,qcA)\n",
    "    corr = corr_circ(qcA)\n",
    "    return corr"
   ]
  },
  {
   "cell_type": "code",
   "execution_count": 53,
   "metadata": {},
   "outputs": [
    {
     "data": {
      "text/plain": [
       "(0.0, 6.283185307179586, 0.0, 6.283185307179586)"
      ]
     },
     "execution_count": 53,
     "metadata": {},
     "output_type": "execute_result"
    },
    {
     "data": {
      "image/png": "[encoded data removed]",
      "text/plain": [
       "<Figure size 504x410.4 with 2 Axes>"
      ]
     },
     "metadata": {
      "needs_background": "light"
     },
     "output_type": "display_data"
    }
   ],
   "source": [
    "#This cell takes time to run\n",
    "phi_fixed = np.pi/2\n",
    "points = 50\n",
    "ta_range = np.linspace(0,2*np.pi,points)\n",
    "pa_range = np.linspace(0,2*np.pi,points)\n",
    "X,Y = np.meshgrid(ta_range, pa_range)\n",
    "Z = [[0 for i in range(50)] for j in range(50)]\n",
    "for i in range(len(Y)):\n",
    "    for j in range(len(X)):\n",
    "        Z[i][j] = CA(ta_range[j],pa_range[i],phi_fixed)\n",
    "fig, ax = plt.subplots(figsize=(7,5.7))\n",
    "cp = ax.contourf(X, Y, Z ,cmap='turbo');\n",
    "fig.colorbar(cp) # Add a colorbar to a plot\n",
    "plt.xlim(0,2*np.pi)\n",
    "plt.ylim(0,2*np.pi)\n",
    "ax.axis('equal')"
   ]
  },
  {
   "cell_type": "markdown",
   "metadata": {},
   "source": [
    "As we can see above we have succesfully recreated the same results using abstract qubits."
   ]
  },
  {
   "cell_type": "markdown",
   "metadata": {},
   "source": [
    "### 6.2 Experiment B\n",
    "Here in the experiment a random rotator is used to generate what would be measured as unpolarized light. As stated before the coherence of a the DoFs are analogous to a qubit being in a mixed or pure state. Since we are working with idealized qubits the state of the system will always remain pure however if one were to look into just the hilbert space of few of the qubits but not all we would have it perceived as an impure state. Here unpolarized light would have a coherency (density) matrix which is diagonal with both entries equal to 1/2. This is a completely mixed state and we can generate this by looking at the partial trace of a qubit which is paired with another qubit as the bell state $\\dfrac{|00\\rangle + |11\\rangle}{\\sqrt{2}}$. Hence we make use of $q_0$ as an ancillary qubit which is present as a bell pair with $q_1$ which is now the polarization qubit. $q_2$ is the parity qubit. As we can see since we do not measure the $q_0$ qubit we would actually see $q_1$ behave like a mixed state which is what the random rotator actually achieves. More specifically the bell state I have described has half probability for any state on the XZ plane of the bloch sphere and since the random rotator is a $R_yZ$ operation the system as a whole is essentially composed of all states on the XZ plane which would be described by observing one qubit out of this bell pair."
   ]
  },
  {
   "cell_type": "code",
   "execution_count": 56,
   "metadata": {},
   "outputs": [
    {
     "data": {
      "image/png": "[encoded data removed]",
      "text/plain": [
       "<Figure size 900.592x264.88 with 1 Axes>"
      ]
     },
     "execution_count": 56,
     "metadata": {},
     "output_type": "execute_result"
    }
   ],
   "source": [
    "#Quantum Circuit Diagram for A\n",
    "qc_B = QuantumCircuit(3,2)\n",
    "qc_B.h(0)\n",
    "qc_B.cx(0,1)\n",
    "qc_B.barrier() #initialisation complete as unpolarized light\n",
    "PSSLM(np.pi/2,qc_B,1)\n",
    "qc_B.barrier() #beam is coupled, now on to analysis stage\n",
    "HWP(np.pi/4,qc_B,1)\n",
    "SLM(np.pi/6,qc_B,1)\n",
    "qc_B.barrier()#Analysis stage complete. Now, measurement stage\n",
    "qc_B.measure(1,0)\n",
    "qc_B.measure(2,1)\n",
    "qc_B.draw('mpl')"
   ]
  },
  {
   "cell_type": "code",
   "execution_count": 57,
   "metadata": {},
   "outputs": [],
   "source": [
    "#Experiment C\n",
    "def CB(theta_a,phi_a,phi):\n",
    "    #Quantum Circuit Diagram for A\n",
    "    qc_B = QuantumCircuit(3)\n",
    "    qc_B.h(0)\n",
    "    qc_B.cx(0,1)\n",
    "    qc_B.barrier() #initialisation complete as unpolarized light\n",
    "    PSSLM(phi,qc_B,1)\n",
    "    qc_B.barrier() #beam is coupled, now on to analysis stage\n",
    "    HWP(theta_a,qc_B,1)\n",
    "    SLM(phi_a,qc_B,1)\n",
    "    qc_B.barrier()#Analysis stage complete.\n",
    "    return corr_circ(qc_B)"
   ]
  },
  {
   "cell_type": "code",
   "execution_count": 60,
   "metadata": {},
   "outputs": [
    {
     "data": {
      "text/plain": [
       "(0.0, 6.283185307179586, 0.0, 6.283185307179586)"
      ]
     },
     "execution_count": 60,
     "metadata": {},
     "output_type": "execute_result"
    },
    {
     "data": {
      "image/png": "[encoded data removed]",
      "text/plain": [
       "<Figure size 504x410.4 with 2 Axes>"
      ]
     },
     "metadata": {
      "needs_background": "light"
     },
     "output_type": "display_data"
    }
   ],
   "source": [
    "#This cell takes time to run\n",
    "phi_fixed = np.pi\n",
    "points = 50\n",
    "ta_range = np.linspace(0,2*np.pi,points)\n",
    "pa_range = np.linspace(0,2*np.pi,points)\n",
    "X,Y = np.meshgrid(ta_range, pa_range)\n",
    "Z = [[0 for i in range(50)] for j in range(50)]\n",
    "for i in range(len(Y)):\n",
    "    for j in range(len(X)):\n",
    "        Z[i][j] = CB(ta_range[j],pa_range[i],phi_fixed)\n",
    "fig, ax = plt.subplots(figsize=(7,5.7))\n",
    "cp = ax.contourf(X, Y, Z ,cmap='turbo');\n",
    "fig.colorbar(cp) # Add a colorbar to a plot\n",
    "plt.xlim(0,2*np.pi)\n",
    "plt.ylim(0,2*np.pi)\n",
    "ax.axis('equal')"
   ]
  },
  {
   "cell_type": "markdown",
   "metadata": {},
   "source": [
    "As we can see above we have again been able to reproduce results exactly from those we obtained previously and that of the paper for the correlation function."
   ]
  },
  {
   "cell_type": "markdown",
   "metadata": {},
   "source": [
    "### 6.3 Experiment C\n",
    "In experiment C the paper randomly chooses to either couple the DoFs or not with probability of $P$ and $1-P$ respectively. To recreate this I again make use of an ancillary qubit $q_0$ similar to section [6.2](#6.2-Experiment-B). The idea is to create this in the state $\\sqrt{1-P}|0\\rangle + \\sqrt{P}|1\\rangle$ and use a controlled-Rx gate with angle $-\\pi$ with $q_0$ and $q_1$ (polarization) as control bits where polarization needs to be 0 and ancilla needs to be 1 to activate this rotation. The circuit used decomposes the two control gate using the standard procedure for decomposing two control single target qubit gates if the single control gate is available."
   ]
  },
  {
   "cell_type": "code",
   "execution_count": 49,
   "metadata": {},
   "outputs": [
    {
     "data": {
      "image/png": "[encoded data removed]",
      "text/plain": [
       "<Figure size 1081.19x264.88 with 1 Axes>"
      ]
     },
     "execution_count": 49,
     "metadata": {},
     "output_type": "execute_result"
    }
   ],
   "source": [
    "qc_C = QuantumCircuit(3,2)\n",
    "P = 0.5\n",
    "qc_C.ry(2*np.arccos(np.sqrt(1-P)),0)#Preparing the probability qubit\n",
    "qc_C.h(1)\n",
    "qc_C.barrier()\n",
    "#Do a controlled Rx(-pi) gate with two controls\n",
    "qc_C.x(1)\n",
    "qc_C.crx(-np.pi/2,1,2)\n",
    "qc_C.cx(0,1)\n",
    "qc_C.crx(np.pi/2,1,2)\n",
    "qc_C.cx(0,1)\n",
    "qc_C.crx(-np.pi/2,0,2)\n",
    "qc_C.x(1)\n",
    "qc_C.barrier()\n",
    "#Analysis stage now\n",
    "HWP(np.pi/6,qc_C,1)\n",
    "SLM(np.pi/3,qc_C,1)\n",
    "qc_C.barrier()\n",
    "qc_C.measure(1,0)\n",
    "qc_C.measure(2,1)\n",
    "qc_C.draw('mpl')"
   ]
  },
  {
   "cell_type": "code",
   "execution_count": 50,
   "metadata": {},
   "outputs": [],
   "source": [
    "#Experiment C\n",
    "def CC(P,theta_a,phi_a):\n",
    "    qc_C = QuantumCircuit(3)\n",
    "    qc_C.ry(2*np.arccos(np.sqrt(1-P)),0)#Preparing the probability qubit\n",
    "    qc_C.h(1)\n",
    "    qc_C.barrier()\n",
    "    #Do a controlled y gate with two controls\n",
    "    qc_C.x(1)\n",
    "    qc_C.crx(-np.pi/2,1,2)\n",
    "    qc_C.cx(0,1)\n",
    "    qc_C.crx(np.pi/2,1,2)\n",
    "    qc_C.cx(0,1)\n",
    "    qc_C.crx(-np.pi/2,0,2)\n",
    "    qc_C.x(1)\n",
    "    qc_C.barrier()\n",
    "    #Analysis stage now\n",
    "    HWP(theta_a,qc_C,1)\n",
    "    SLM(phi_a,qc_C,1)\n",
    "    return corr_circ(qc_C)"
   ]
  },
  {
   "cell_type": "code",
   "execution_count": 54,
   "metadata": {},
   "outputs": [
    {
     "data": {
      "text/plain": [
       "(0.0, 6.283185307179586, 0.0, 6.283185307179586)"
      ]
     },
     "execution_count": 54,
     "metadata": {},
     "output_type": "execute_result"
    },
    {
     "data": {
      "image/png": "[encoded data removed]",
      "text/plain": [
       "<Figure size 504x410.4 with 2 Axes>"
      ]
     },
     "metadata": {
      "needs_background": "light"
     },
     "output_type": "display_data"
    }
   ],
   "source": [
    "P_fixed = 0.5\n",
    "points = 50\n",
    "ta_range = np.linspace(0,2*np.pi,points)\n",
    "pa_range = np.linspace(0,2*np.pi,points)\n",
    "X,Y = np.meshgrid(ta_range, pa_range)\n",
    "Z = [[0 for i in range(50)] for j in range(50)]\n",
    "for i in range(len(Y)):\n",
    "    for j in range(len(X)):\n",
    "        Z[i][j] = CC(P_fixed,ta_range[j],pa_range[i])\n",
    "fig, ax = plt.subplots(figsize=(7,5.7))\n",
    "cp = ax.contourf(X, Y, Z ,cmap='turbo');\n",
    "fig.colorbar(cp) # Add a colorbar to a plot\n",
    "plt.xlim(0,2*np.pi)\n",
    "plt.ylim(0,2*np.pi)\n",
    "ax.axis('equal')"
   ]
  },
  {
   "cell_type": "markdown",
   "metadata": {},
   "source": [
    "As we can see above this also faithfully reproduces the required results for the correlation function.\n",
    "\n",
    "### Universality using optical components\n",
    "To fully realize quantum computing (or any form of computing) one needs a physical system capable of producing the minimal set of operations which can then be extended to a set of all possible operations and sequences of operations. In classical computers the complete set is realized using the set of operations $\\{\\lnot,\\land\\}$ or $\\{\\lnot,\\lor\\}$. For quantum computers universality would imply being able to make any circuit which essentially means the set of all unitary matrices. This of course is non inclusive of measurements (which will not keep a circuit unitary) but one can prove that measurements placed in the middle of a cicuit can be taken to the very end without affecting the final measurement probabilities (since once measured any qubit is essentially decohered and cannot be part of the circuit anyway). \n",
    "\n",
    "To get the complete set of unitary matrices we can first start for the case of a single qubit. This set would essentially be the $SU(2)$ group which is isomorphic to $SO(3)$ and given that we have an $R_x(\\theta)$ gate in form of the SLM we actually just need rotation about some other axis to achieve single qubit universality for parity. The polarization qubit does have a $R_y(\\theta)Z$ qubit which can be used to get the hadamard gate $H$ with $\\theta = \\pi/2$ and in combination with a quarter wave plate with fast axis horizontal we can actually make the HWP just be a pure $R_y(\\theta)$.\n",
    "\n",
    "The PS-SLM is an operator which controls the parity using the polarity and is essentially a controlled Rx gate and so can be made into a CNOT gate which adds an additional phase of $\\iota$ to the horizontal polarization component. To make the CNOT of the other way we can try for the MZI configuration proposed [here](#Proposal-for-a-Parity-Sensitive-Polarisation-Modifier). The point here is that once we have these two CNOTS, we can essentially get universal unitaries by swapping the polarization (see cell below) and parity qubit in such a way that we can apply an Rx gate followed by Ry and then another Rx with the appropriate euler angles and we can attain individual qubit universalities of $U3$ gates.\n",
    "\n",
    "The exact swapping involves making use of a quarter wave plate which has the operator form of $e^{-\\iota\\pi/4}\\begin{pmatrix}1 & 0\\\\0 & \\iota\\end{pmatrix}$ and also a new kind of SLM which does this same operation but on the parity qubit. \n",
    "\n",
    "Now for getting overall universality we just need the CNOT gates of both ways and since we already have that using the PSSLM and the MZI setup described previously we actually have a universal quantum computer of two qubits.\n",
    "\n"
   ]
  },
  {
   "cell_type": "code",
   "execution_count": 129,
   "metadata": {},
   "outputs": [
    {
     "name": "stdout",
     "output_type": "stream",
     "text": [
      "[[ 1.0000000e+00+0.00000000e+00j  0.0000000e+00+0.00000000e+00j\n",
      "   2.4492936e-16-1.49975978e-32j  0.0000000e+00+0.00000000e+00j]\n",
      " [-2.4492936e-16+0.00000000e+00j  0.0000000e+00+0.00000000e+00j\n",
      "   1.0000000e+00-6.12323400e-17j  0.0000000e+00+0.00000000e+00j]\n",
      " [ 0.0000000e+00+0.00000000e+00j  1.0000000e+00+6.12323400e-17j\n",
      "   0.0000000e+00+0.00000000e+00j  2.4492936e-16+0.00000000e+00j]\n",
      " [ 0.0000000e+00+0.00000000e+00j -2.4492936e-16-1.49975978e-32j\n",
      "   0.0000000e+00+0.00000000e+00j  1.0000000e+00+0.00000000e+00j]]\n",
      "               ┌───┐           ┌───┐┌───┐┌─────────┐\n",
      "q_0: ────■─────┤ X ├─────■─────┤ S ├┤ Z ├┤ RY(4pi) ├\n",
      "     ┌───┴────┐└─┬─┘┌────┴────┐├───┤└───┘└─────────┘\n",
      "q_1: ┤ RX(pi) ├──■──┤ RX(-pi) ├┤ S ├────────────────\n",
      "     └────────┘     └─────────┘└───┘                \n"
     ]
    }
   ],
   "source": [
    "import qiskit.quantum_info as qi\n",
    "#Swap gate\n",
    "qc_sw = QuantumCircuit(2)\n",
    "qc_sw.crx(np.pi,0,1)#PSSLM\n",
    "qc_sw.cx(1,0)\n",
    "qc_sw.crx(-np.pi,0,1)\n",
    "qc_sw.s(0)#QWP\n",
    "qc_sw.s(1)#A different kind of SLM\n",
    "qc_sw.z(0)#HWP\n",
    "qc_sw.ry(4*np.pi,0)\n",
    "#Swapping complete\n",
    "print((qi.Operator(qc_sw).data))\n",
    "print(qc_sw.draw())"
   ]
  },
  {
   "cell_type": "markdown",
   "metadata": {},
   "source": [
    "As we can see above that this achieves the same unitary that a swap gate would and so now for executing a normal CNOT with target being the parity qubit and control being the polarization qubit we essentially apply the CNOT of the other way on both sides of the swap gate and that would achieve this CNOT."
   ]
  },
  {
   "cell_type": "code",
   "execution_count": 142,
   "metadata": {},
   "outputs": [
    {
     "name": "stdout",
     "output_type": "stream",
     "text": [
      "[[ 1.0000000e+00+0.00000000e+00j  0.0000000e+00+0.00000000e+00j\n",
      "   0.0000000e+00+0.00000000e+00j  2.4492936e-16-1.49975978e-32j]\n",
      " [-2.4492936e-16+0.00000000e+00j  0.0000000e+00+0.00000000e+00j\n",
      "   0.0000000e+00+0.00000000e+00j  1.0000000e+00-6.12323400e-17j]\n",
      " [ 0.0000000e+00+0.00000000e+00j -2.4492936e-16-1.49975978e-32j\n",
      "   1.0000000e+00+0.00000000e+00j  0.0000000e+00+0.00000000e+00j]\n",
      " [ 0.0000000e+00+0.00000000e+00j  1.0000000e+00+6.12323400e-17j\n",
      "   2.4492936e-16+0.00000000e+00j  0.0000000e+00+0.00000000e+00j]]\n",
      "     ┌───┐          ┌───┐           ┌───┐┌───┐┌─────────┐┌───┐\n",
      "q_0: ┤ X ├────■─────┤ X ├─────■─────┤ S ├┤ Z ├┤ RY(4pi) ├┤ X ├\n",
      "     └─┬─┘┌───┴────┐└─┬─┘┌────┴────┐├───┤└───┘└─────────┘└─┬─┘\n",
      "q_1: ──■──┤ RX(pi) ├──■──┤ RX(-pi) ├┤ S ├──────────────────■──\n",
      "          └────────┘     └─────────┘└───┘                     \n"
     ]
    }
   ],
   "source": [
    "import qiskit.quantum_info as qi\n",
    "\n",
    "#CNOT\n",
    "qc_cn = QuantumCircuit(2)\n",
    "qc_cn.cx(1,0)\n",
    "qc_cn.crx(np.pi,0,1)#PSSLM\n",
    "qc_cn.cx(1,0)\n",
    "qc_cn.crx(-np.pi,0,1)\n",
    "qc_cn.s(0)#QWP\n",
    "qc_cn.s(1)#A different kind of SLM\n",
    "qc_cn.z(0)#HWP\n",
    "qc_cn.ry(4*np.pi,0)\n",
    "#Swapping complete\n",
    "qc_cn.cx(1,0)\n",
    "print((qi.Operator(qc_cn).data))\n",
    "print(qc_cn.draw())"
   ]
  },
  {
   "cell_type": "markdown",
   "metadata": {},
   "source": [
    "Again we can see that this achieves the CNOT gate which we desire and below we show how to conduct arbitrary rotations for either qubit while the other is actually unchanged."
   ]
  },
  {
   "cell_type": "code",
   "execution_count": 143,
   "metadata": {},
   "outputs": [
    {
     "data": {
      "text/html": [
       "<pre style=\"word-wrap: normal;white-space: pre;background: #fff0;line-height: 1.1;font-family: &quot;Courier New&quot;,Courier,monospace\">     ┌──────────┐ ░           ┌───┐           ┌───┐┌───┐┌─────────┐ ░ »\n",
       "q_0: ┤ RY(pi/2) ├─░─────■─────┤ X ├─────■─────┤ S ├┤ Z ├┤ RY(4pi) ├─░─»\n",
       "     └──────────┘ ░ ┌───┴────┐└─┬─┘┌────┴────┐├───┤└───┘└─────────┘ ░ »\n",
       "q_1: ─────────────░─┤ RX(pi) ├──■──┤ RX(-pi) ├┤ S ├─────────────────░─»\n",
       "                  ░ └────────┘     └─────────┘└───┘                 ░ »\n",
       "«                  ░           ┌───┐           ┌───┐┌───┐┌─────────┐ ░ »\n",
       "«q_0: ─────────────░─────■─────┤ X ├─────■─────┤ S ├┤ Z ├┤ RY(4pi) ├─░─»\n",
       "«     ┌──────────┐ ░ ┌───┴────┐└─┬─┘┌────┴────┐├───┤└───┘└─────────┘ ░ »\n",
       "«q_1: ┤ RX(pi/3) ├─░─┤ RX(pi) ├──■──┤ RX(-pi) ├┤ S ├─────────────────░─»\n",
       "«     └──────────┘ ░ └────────┘     └─────────┘└───┘                 ░ »\n",
       "«     ┌────────┐\n",
       "«q_0: ┤ RY(pi) ├\n",
       "«     └────────┘\n",
       "«q_1: ──────────\n",
       "«               </pre>"
      ],
      "text/plain": [
       "     ┌──────────┐ ░           ┌───┐           ┌───┐┌───┐┌─────────┐ ░ »\n",
       "q_0: ┤ RY(pi/2) ├─░─────■─────┤ X ├─────■─────┤ S ├┤ Z ├┤ RY(4pi) ├─░─»\n",
       "     └──────────┘ ░ ┌───┴────┐└─┬─┘┌────┴────┐├───┤└───┘└─────────┘ ░ »\n",
       "q_1: ─────────────░─┤ RX(pi) ├──■──┤ RX(-pi) ├┤ S ├─────────────────░─»\n",
       "                  ░ └────────┘     └─────────┘└───┘                 ░ »\n",
       "«                  ░           ┌───┐           ┌───┐┌───┐┌─────────┐ ░ »\n",
       "«q_0: ─────────────░─────■─────┤ X ├─────■─────┤ S ├┤ Z ├┤ RY(4pi) ├─░─»\n",
       "«     ┌──────────┐ ░ ┌───┴────┐└─┬─┘┌────┴────┐├───┤└───┘└─────────┘ ░ »\n",
       "«q_1: ┤ RX(pi/3) ├─░─┤ RX(pi) ├──■──┤ RX(-pi) ├┤ S ├─────────────────░─»\n",
       "«     └──────────┘ ░ └────────┘     └─────────┘└───┘                 ░ »\n",
       "«     ┌────────┐\n",
       "«q_0: ┤ RY(pi) ├\n",
       "«     └────────┘\n",
       "«q_1: ──────────\n",
       "«               "
      ]
     },
     "execution_count": 143,
     "metadata": {},
     "output_type": "execute_result"
    }
   ],
   "source": [
    "#For doing arbitrary rotations on the polarization qubit\n",
    "qc_uq1 = QuantumCircuit(2)\n",
    "eul1 = np.pi/2\n",
    "eul2 = np.pi/3\n",
    "eul3 = np.pi\n",
    "qc_uq1.ry(eul1,0) #HWP combined with QWP\n",
    "qc_uq1.barrier()\n",
    "qc_uq1.crx(np.pi,0,1)#PSSLM\n",
    "qc_uq1.cx(1,0)\n",
    "qc_uq1.crx(-np.pi,0,1)\n",
    "qc_uq1.s(0)#QWP\n",
    "qc_uq1.s(1)#A different kind of SLM\n",
    "qc_uq1.z(0)#HWP\n",
    "qc_uq1.ry(4*np.pi,0)#Swapping complete\n",
    "qc_uq1.barrier()\n",
    "qc_uq1.rx(eul2,1) #SLM\n",
    "qc_uq1.barrier()\n",
    "qc_uq1.crx(np.pi,0,1)#PSSLM\n",
    "qc_uq1.cx(1,0)\n",
    "qc_uq1.crx(-np.pi,0,1)\n",
    "qc_uq1.s(0)#QWP\n",
    "qc_uq1.s(1)#A different kind of SLM\n",
    "qc_uq1.z(0)#HWP\n",
    "qc_uq1.ry(4*np.pi,0)#Swapping complete\n",
    "qc_uq1.barrier()\n",
    "qc_uq1.ry(eul3,0) #HWP combined with QWP\n",
    "qc_uq1.draw('text')"
   ]
  },
  {
   "cell_type": "code",
   "execution_count": 144,
   "metadata": {},
   "outputs": [
    {
     "data": {
      "text/html": [
       "<pre style=\"word-wrap: normal;white-space: pre;background: #fff0;line-height: 1.1;font-family: &quot;Courier New&quot;,Courier,monospace\">                  ░           ┌───┐           ┌───┐┌───┐┌─────────┐ ░ »\n",
       "q_0: ─────────────░─────■─────┤ X ├─────■─────┤ S ├┤ Z ├┤ RY(4pi) ├─░─»\n",
       "     ┌──────────┐ ░ ┌───┴────┐└─┬─┘┌────┴────┐├───┤└───┘└─────────┘ ░ »\n",
       "q_1: ┤ RX(pi/2) ├─░─┤ RX(pi) ├──■──┤ RX(-pi) ├┤ S ├─────────────────░─»\n",
       "     └──────────┘ ░ └────────┘     └─────────┘└───┘                 ░ »\n",
       "«     ┌──────────┐ ░           ┌───┐           ┌───┐┌───┐┌─────────┐ ░ »\n",
       "«q_0: ┤ RY(pi/3) ├─░─────■─────┤ X ├─────■─────┤ S ├┤ Z ├┤ RY(4pi) ├─░─»\n",
       "«     └──────────┘ ░ ┌───┴────┐└─┬─┘┌────┴────┐├───┤└───┘└─────────┘ ░ »\n",
       "«q_1: ─────────────░─┤ RX(pi) ├──■──┤ RX(-pi) ├┤ S ├─────────────────░─»\n",
       "«                  ░ └────────┘     └─────────┘└───┘                 ░ »\n",
       "«               \n",
       "«q_0: ──────────\n",
       "«     ┌────────┐\n",
       "«q_1: ┤ RX(pi) ├\n",
       "«     └────────┘</pre>"
      ],
      "text/plain": [
       "                  ░           ┌───┐           ┌───┐┌───┐┌─────────┐ ░ »\n",
       "q_0: ─────────────░─────■─────┤ X ├─────■─────┤ S ├┤ Z ├┤ RY(4pi) ├─░─»\n",
       "     ┌──────────┐ ░ ┌───┴────┐└─┬─┘┌────┴────┐├───┤└───┘└─────────┘ ░ »\n",
       "q_1: ┤ RX(pi/2) ├─░─┤ RX(pi) ├──■──┤ RX(-pi) ├┤ S ├─────────────────░─»\n",
       "     └──────────┘ ░ └────────┘     └─────────┘└───┘                 ░ »\n",
       "«     ┌──────────┐ ░           ┌───┐           ┌───┐┌───┐┌─────────┐ ░ »\n",
       "«q_0: ┤ RY(pi/3) ├─░─────■─────┤ X ├─────■─────┤ S ├┤ Z ├┤ RY(4pi) ├─░─»\n",
       "«     └──────────┘ ░ ┌───┴────┐└─┬─┘┌────┴────┐├───┤└───┘└─────────┘ ░ »\n",
       "«q_1: ─────────────░─┤ RX(pi) ├──■──┤ RX(-pi) ├┤ S ├─────────────────░─»\n",
       "«                  ░ └────────┘     └─────────┘└───┘                 ░ »\n",
       "«               \n",
       "«q_0: ──────────\n",
       "«     ┌────────┐\n",
       "«q_1: ┤ RX(pi) ├\n",
       "«     └────────┘"
      ]
     },
     "execution_count": 144,
     "metadata": {},
     "output_type": "execute_result"
    }
   ],
   "source": [
    "#For doing arbitrary rotations on the parity qubit\n",
    "qc_uq2 = QuantumCircuit(2)\n",
    "eul1 = np.pi/2\n",
    "eul2 = np.pi/3\n",
    "eul3 = np.pi\n",
    "qc_uq2.rx(eul1,1) #HWP combined with QWP\n",
    "qc_uq2.barrier()\n",
    "qc_uq2.crx(np.pi,0,1)#PSSLM\n",
    "qc_uq2.cx(1,0)\n",
    "qc_uq2.crx(-np.pi,0,1)\n",
    "qc_uq2.s(0)#QWP\n",
    "qc_uq2.s(1)#A different kind of SLM\n",
    "qc_uq2.z(0)#HWP\n",
    "qc_uq2.ry(4*np.pi,0)#Swapping complete\n",
    "qc_uq2.barrier()\n",
    "qc_uq2.ry(eul2,0)\n",
    "qc_uq2.barrier()\n",
    "qc_uq2.crx(np.pi,0,1)#PSSLM\n",
    "qc_uq2.cx(1,0)\n",
    "qc_uq2.crx(-np.pi,0,1)\n",
    "qc_uq2.s(0)#QWP\n",
    "qc_uq2.s(1)#A different kind of SLM\n",
    "qc_uq2.z(0)#HWP\n",
    "qc_uq2.ry(4*np.pi,0)#Swapping complete\n",
    "qc_uq2.barrier()\n",
    "qc_uq2.rx(eul3,1) #HWP combined with QWP\n",
    "qc_uq2.draw('text')"
   ]
  },
  {
   "cell_type": "markdown",
   "metadata": {},
   "source": [
    "So we have been able to reach the U3 and CNOT universality as described previously."
   ]
  },
  {
   "cell_type": "markdown",
   "metadata": {},
   "source": [
    "## 7. Concluding Remarks\n",
    "The exceeding of $B_\\text{max}$ beyond the value of 2 in quantum mechanics implied that one cannot use locally deterministic hidden variable theories to explain quantum mechanics or simply put proves that quantum mechanics violates local realism. Here we have seen that $B_\\text{max}$ exceeds this classical limit and one can conclude equivalently that one cannot write the correlation function as some $C(\\theta_a,\\phi_a) = \\int d\\lambda\\rho(\\lambda)C_\\text{pol}(\\theta_a,\\lambda)C_\\text{par}(\\phi_a,\\lambda)$ where $\\lambda$ is some set of hidden variables. The proper proof of this is described in [Appendix A](#Appendix-A:-The-EPR-paradox-and-Bell's-inequalities) and the experimental results concur with this. \n",
    "\n",
    "In a way this shows that if one were to have two DoFs, there would be an uncertainty which arises due their coupling which is quantised by using the Bell's measure. These results would hold good regardless of the type of DoF used and can be extended to systems with a higher number of DoFs too. We also explored how one can link this with quantum systems and reproduced the results using a quantum computer simulation of IBM Q.\n",
    "\n",
    "More importantly one must take note of how looking at the coherency behaviors of the individual DoFs would not address the actual coherence it had since some of it would be 'shared' in form of coupling. In short the partial traces of coherency matrices offer an incomplete picture of the system quite similar to how one would deal with multi qubit systems and have the state behave mixed when only looking at the partial trace over a part of the Hilber space. We even took advantage of this incomplete picture to create mixed states in the previous section. This also demonstrates how one could effectively share coherence between two DoFs as seen in experiment B where the coherency $S_\\text{pol}$ of the polarization qubit is effectively increased at maximal entaglement with the fully coherent parity DoF."
   ]
  },
  {
   "cell_type": "markdown",
   "metadata": {},
   "source": [
    "## 8. Endsem Problem\n",
    "(Make something tough :P)"
   ]
  },
  {
   "cell_type": "markdown",
   "metadata": {},
   "source": [
    "## Appendix A: The EPR paradox and Bell's inequalities\n",
    "\n",
    "Before talking about the bell's measure let us first dive into why it was made and for this we must look at the EPR experiment proposed in \\[epr\\]. I will discuss Bohm's variant since Bell's response was made in a way to that. Say we have prepared a electron-positron pair coming from a single source. These would be entangled in a way where if we measure the spin of one of the particles, the other particle will simultaneously collapse to the opposite spin.\n",
    "$$|{\\psi}\\rangle = \\dfrac{|{\\uparrow_e\\downarrow_p}\\rangle + |{\\downarrow_e\\uparrow_p}\\rangle}{\\sqrt{2}}$$\n",
    "So the main issue which Einstein had was that this means that measurement on one particle directly affects the other no matter how far it is. This makes it a non local effect which clearly does not make sense in a world which was believed to follow local realism. It can be proven that the two agents have no way to communicate using this pair hence showing that there actually is no faster than light comminication. While one may think choosing basis in a certain manner can change measurement probabilities and essentially have some \"information\" change, no matter how much measurements are done, since this is probabilistic the other agent cannot conclude anything from that.\n",
    "   \n",
    "\n",
    "While there have been multiple responses to this, the most important one is the one discussed in Bell's paper \\[bell\\].\n",
    "First we will start by considering the EPR argument using spin particles. Consider a pair of spin one-half particles formed somehow in the singlet spin state and moving freely in opposite directions. Measurements can be made, say by Stern-Gerlach magnets, on selected components of the spins $\\vec{\\sigma_1}$ and $\\vec{\\sigma_2}$,\n",
    "If measurement of the component $\\vec{\\sigma_1}\\cdot{a}$, where $a$ is some unit vector, yields the value +1 then, according to quantum mechanics, measurement of $\\vec{\\sigma_2}\\cdot{a}$ must yield the value -1 and vice versa.\n",
    "We now define some set of parameters $\\lambda$ which is taken as continuous which give us a complete description of the state. The result $A$ of measuring $\\vec{\\sigma_1}\\cdot{a}$ is then determined by $a$ and $\\lambda$, and the result $B$ of measuring $\\vec{\\sigma_2}\\cdot{b}$ in the\n",
    "same instance is determined by $b$ and $\\lambda$.\n",
    "\\begin{equation}\\label{eq:1A}\\tag{1A}A(\\vec{a},\\lambda) = \\pm 1, B(\\vec{b},\\lambda) = \\pm 1 \\end{equation}\n",
    "We now take $\\rho(\\lambda)$ as the probability distribution of $\\lambda$ and we will now try to find the expectation value of of the product of the two components $\\vec{\\sigma_1}\\cdot{a}$ and $\\vec{\\sigma_2}\\cdot{b}$.\n",
    "\\begin{equation}\\label{eq:2A}\\tag{2A}P(\\vec{a}\\vec{b}) = \\int{d\\lambda}\\rho{\\lambda}A(\\vec{a},\\lambda)B(\\vec{b},\\lambda)\\end{equation}\n",
    "The quantum mechanical expectation value of this is the following\n",
    "\\begin{equation}\\label{eq:3A}\\tag{3A}\\langle\\vec{\\sigma_1}\\cdot{a}\\vec{\\sigma_2}\\cdot{b}\\rangle = - \\vec{a}\\cdot\\vec{b}\\end{equation}\n",
    "However it turns out that eq: \\ref{eq:2A} doesn't give us the same result as \\ref{eq:3A}. So first off we know that we have a normalized distribution.\n",
    "\\begin{equation}\\label{eq:4A}\\tag{4A}\\int{d\\lambda}\\rho(\\lambda) = 1\\end{equation}\n",
    "if we take $\\vec{a} = \\vec{b}$ the $P$ in eq: \\ref{eq:2A} can reach -1.\n",
    "\\begin{equation}\\label{eq:5A}\\tag{5A}A(\\vec{a},\\lambda) = -B(\\vec{a},\\lambda)\\end{equation}\n",
    "Knowing this we can rewrite eq: \\ref{eq:2A} into the following\n",
    "\\begin{equation}\\label{eq:6A}\\tag{6A}P(\\vec{a}\\vec{b}) = -\\int{d\\lambda}\\rho{\\lambda}A(\\vec{a},\\lambda)A(\\vec{b},\\lambda)\\end{equation}\n",
    "\\begin{equation}\\label{eq:7A}\\tag{7A}P(\\vec{a},\\vec{b}) - P(\\vec{a},\\vec{c}) = \\int{d\\lambda}\\rho{\\lambda}[1-A(\\vec{b},\\lambda)A(\\vec{c},\\lambda)]\\end{equation}\n",
    "from eq: \\ref{eq:1A} we can write this\n",
    "\\begin{equation}\\label{eq:8A}\\tag{8A}|P(\\vec{a},\\vec{b}) - P(\\vec{a},\\vec{c})| \\leq \\int{d\\lambda}\\rho{\\lambda}A(\\vec{a},\\lambda)A(\\vec{b},\\lambda)[A(\\vec{b},\\lambda)A(\\vec{c},\\lambda) - 1]\\end{equation}\n",
    "The second term on the right is just $P(\\vec{b},\\vec{c})$ so we get\n",
    "\\begin{equation}\\label{eq:9A}\\tag{9A}1 + P(\\vec{b},\\vec{c}) \\geq |P(\\vec{a},\\vec{b}) - P(\\vec{a},\\vec{c})|\\end{equation}\n",
    "Now we define a $\\overline{P}(\\vec{a},\\vec{b})$ and a $\\overline{- \\vec{a}\\cdot\\vec{b}}$ which essentially are the averages over vectors differing from a small angle from $\\vec{a}$ and $\\vec{b}$ of the quantities under the bar. Let's suppose the following holds for some $\\epsilon$\n",
    "\\begin{equation}\\label{eq:10A}\\tag{10A}|\\overline{P}(\\vec{a},\\vec{b}) + \\overline{\\vec{a}\\cdot\\vec{b}}| \\leq \\epsilon\\end{equation}\n",
    "We cannot make $\\epsilon$ arbitrarily small and this can be proven by the following steps. Let us first assume the following inequality holds for all $\\vec{a}$ and $\\vec{b}$\n",
    "\\begin{equation}\\label{eq:11A}\\tag{11A}|\\overline{\\vec{a}\\cdot\\vec{b}} - \\vec{a}\\cdot\\vec{b}| \\leq\\delta\\end{equation}\n",
    "Then using eq:\\ref{eq:11A} and eq:\\ref{eq:10A} we have\n",
    "\\begin{equation}\\label{eq:12A}\\tag{12A}|\\overline{P}(\\vec{a},\\vec{b}) + \\vec{a}\\cdot\\vec{b}| \\leq \\epsilon + \\delta\\end{equation}\n",
    "Now taking $\\vec{a} = \\vec{b}$ (hence their dot product is 1) we rewrite eq:\\ref{eq:12A} as the equation below while using the fact that $\\overline{P(\\vec{a},\\vec{b})} = \\int d\\lambda\\rho(\\lambda)\\overline{A}(\\vec{a},\\lambda)\\overline{B}(\\vec{b},\\lambda))$.\n",
    "\\begin{equation}\\label{eq:13A}\\tag{13A}\\int d\\lambda\\rho(\\lambda)[\\overline{A}(\\vec{b},\\lambda)\\overline{B}(\\vec{b},\\lambda))+1] \\leq\\epsilon+\\delta\\end{equation}\n",
    "We can extend from \\ref{eq:1A} that on averaging over a small range, $|\\overline{A}(\\vec{a},\\lambda)| \\leq 1$ and $|\\overline{B}(\\vec{b},\\lambda)| \\leq 1$. Now we can write the following\n",
    "\\begin{equation}\\label{eq:14A}\\tag{14A}\\overline{P}(\\vec{a},\\vec{b})-\\overline{P}(\\vec{b},\\vec{c}) = \\int{d\\lambda}\\rho(\\lambda)\\overline{A}(\\vec{a},\\lambda)\\overline{B}(\\vec{b},\\lambda)[\\overline{A}(\\vec{b},\\lambda)\\overline{B}(\\vec{c},\\lambda) + 1] - \\int{d\\lambda}\\rho(\\lambda)\\overline{A}(\\vec{a},\\lambda)\\overline{B}(\\vec{c},\\lambda)[\\overline{A}(\\vec{b},\\lambda)\\overline{B}(\\vec{b},\\lambda) + 1]\\end{equation}\n",
    "Using the inequalities on the averaged $A$ and $B$ we can write the following\n",
    "\\begin{equation}\\label{eq:15A}\\tag{15A}|\\overline{P}(\\vec{a},\\vec{b})-\\overline{P}(\\vec{b},\\vec{c})| \\leq \\int{d\\lambda}\\rho(\\lambda)[\\overline{A}(\\vec{b},\\lambda)\\overline{B}(\\vec{c},\\lambda) + 1] - \\int{d\\lambda}\\rho(\\lambda)[\\overline{A}(\\vec{b},\\lambda)\\overline{B}(\\vec{b},\\lambda) + 1]\\end{equation}\n",
    "\\begin{equation}\\label{eq:16A}\\tag{16A}|\\overline{P}(\\vec{a},\\vec{b})-\\overline{P}(\\vec{b},\\vec{c})| \\leq 1 + \\overline{P} + \\epsilon+\\delta\\end{equation}\n",
    "We write eq:\\ref{eq:16A} using eq:\\ref{eq:15A} and eq:\\ref{eq:13A}. Finally using eq:\\ref{eq:12A} we rewrite the above equation as\n",
    "\\begin{equation}\\label{eq:17A}\\tag{17A}|\\vec{a}\\cdot\\vec{c}-\\vec{a}\\cdot\\vec{b}|+\\vec{b}\\cdot\\vec{c}-1 \\leq 4(\\epsilon+\\delta)\\end{equation}\n",
    "Now with the constr  aint coming from eq:\\ref{eq:17A} we can handpick values of $\\vec{a},\\vec{b},\\vec{c}$ such that $\\epsilon$ cannot be made arbitrarily small (take $\\vec{a}\\cdot\\vec{b} = \\vec{c}\\cdot\\vec{b} = 1/\\sqrt{2}$ and $\\vec{a}\\cdot\\vec{c} = 0$ this would show $4(\\epsilon+\\delta)\\geq\\sqrt{2}-1$). The fact that $\\epsilon$ cannot be made arbitrarily small implies that the quantum mechanical value cannot be approximated either accurately or arbitrarily close to this form using hidden variable. So this contradiction implies that some assumptions that we have taken happen to not work together and that happen to be local determinism and hidden variables. So any hidden variable theory by nature itself is non local.\n",
    "\n",
    "To get the form of the CSHS inequalities we essentially modify the form of eq:\\ref{eq:14A} and write it as follows\n",
    "\\begin{equation}\\label{eq:18A}\\tag{18A}\\overline{P}(\\vec{a},\\vec{b})-\\overline{P}(\\vec{a},\\vec{b}') = \\int{d\\lambda}\\rho(\\lambda)\\overline{A}(\\vec{a},\\lambda)\\overline{B}(\\vec{b},\\lambda)[1\\pm\\overline{A}(\\vec{a}',\\lambda)\\overline{B}(\\vec{b}',\\lambda)] - \\int{d\\lambda}\\rho(\\lambda)\\overline{A}(\\vec{a},\\lambda)\\overline{B}(\\vec{b}',\\lambda)[1\\pm\\overline{A}(\\vec{a}',\\lambda)\\overline{B}(\\vec{b},\\lambda)]\\end{equation}\n",
    "We now apply the triangle inequality and also note that the modulus of the averaged functions $\\overline{A}$ and $\\overline{B}$ are bounded above by 1 we will get\n",
    "\\begin{equation}\\label{eq:19A}\\tag{19A}|\\overline{P}(\\vec{a},\\vec{b})-\\overline{P}(\\vec{a},\\vec{b}')| \\leq \\left|\\int{d\\lambda}\\rho(\\lambda)[1\\pm\\overline{A}(\\vec{a}',\\lambda)\\overline{B}(\\vec{b}',\\lambda)]\\right| + \\left|\\int{d\\lambda}\\rho(\\lambda)[1\\pm\\overline{A}(\\vec{a}',\\lambda)\\overline{B}(\\vec{b},\\lambda)]\\right|\\end{equation}\n",
    "We may as well remove the moduli brackets on the LHS since the quantities is non negative. Since $\\int\\rho(\\lambda)d\\lambda = 1$ and $\\overline{P(\\vec{a},\\vec{b})} = \\int d\\lambda\\rho(\\lambda)\\overline{A}(\\vec{a},\\lambda)\\overline{B}(\\vec{b},\\lambda))$ we can rewrite eq:\\ref{eq:19A} as\n",
    "\\begin{equation}\\label{eq:20A}\\tag{20A}|\\overline{P}(\\vec{a},\\vec{b})-\\overline{P}(\\vec{a},\\vec{b}')| \\leq 2 \\pm (\\overline{P}(\\vec{a}',\\vec{b}') + \\overline{P}(\\vec{a}',\\vec{b})) \\leq 2 \\pm |\\overline{P}(\\vec{a}',\\vec{b}') + \\overline{P}(\\vec{a}',\\vec{b}|\\end{equation}\n",
    "The second inequality comes from the triangle inequality. Now we can choose the minus sign and we get\n",
    "\\begin{equation}\\label{eq:21A}\\tag{21A}|\\overline{P}(\\vec{a},\\vec{b})-\\overline{P}(\\vec{a},\\vec{b}')| + |\\overline{P}(\\vec{a}',\\vec{b}') + \\overline{P}(\\vec{a}',\\vec{b}| \\leq 2\\end{equation}\n",
    "Finally we get the following equation by applying the triangle inequality on RHS of eq:\\ref{eq:21A}\n",
    "\\begin{equation}\\label{eq:22A}\\tag{22A}|\\overline{P}(\\vec{a},\\vec{b})-\\overline{P}(\\vec{a},\\vec{b}') + \\overline{P}(\\vec{a}',\\vec{b}') + \\overline{P}(\\vec{a}',\\vec{b}| \\leq 2\\end{equation}\n",
    "The above inequality is the form of writing the CHSH inequalities \\[CHSH\\]. The bound above is shown to be 2 which is satisfied for classical systems and is violated for quantum mechanical correlations. One can instead prove a different bound for quantum correlations as $2\\sqrt{2}$. This is reffered to as the Tsirelon's bound. To prove this we can suppose we have four hermitian operators $A_0,A_1,B_0,B_1$ where $[A_i,B_j] = 0$ but the $[A_0,A_1] \\neq 0$ and $[B_0,B_1] \\neq 0$. We define these $A$ operators as being two different spin measurements on the same electron and $B$ being the same on the positron where their results are either $+1$ or $-1$. We know that for a simple spin system $[\\sigma\\cdot\\vec{a},\\sigma\\cdot\\vec{b}] = 2\\iota\\sigma\\cdot(\\vec{a}\\times\\vec{b})$. Now we will define a new operator called $\\mathcal{B}$\n",
    "$$\\mathcal{B} = A_0B_0 + A_0B_1 + A_1B_0 - A_1B_1$$\n",
    "This operator has been defined along the lines of the bell's measure where expectation value of the modulus of this operator would be the actual bells measure for a correlation function of $C_{ij} = \\langle A_iB_j\\rangle$. We can now square this operator and it would simpify as the equation below (since $A_i^2 = B_i^2 = I$)\n",
    "$$\\mathcal{B}^2 = 4I - [A_0,A_1][B_0,B_1]$$\n",
    "Since these are spin operators we have $|[A_0,A_1][B_0,B_1]| \\leq 4I$ using the commutation relation we had defined earlier. We would infact have $\\mathcal{B}^2$ reach it's maximum if $A_0,B_0$ measures along $\\hat{x}$ and $A_1,B_1$ measures along $\\hat{y}$ which would make $\\mathcal{B}^2 = 8I$. This leads us to $\\langle \\mathcal{B}\\rangle \\leq 2\\sqrt{2}$ which is the Tsirelon's bound. In this paper the $B_{max}$ values are bounded above due to Tsirelon's bound.\n"
   ]
  },
  {
   "cell_type": "markdown",
   "metadata": {},
   "source": [
    "## References\n",
    "(Fill later and unfortunately dont know how to incorporate BibTex here)\n",
    "\\[1\\]\n",
    "\\[2\\]\n",
    "\\[3\\]"
   ]
  }
 ],
 "metadata": {
  "kernelspec": {
   "display_name": "Python 3",
   "language": "python",
   "name": "python3"
  },
  "language_info": {
   "codemirror_mode": {
    "name": "ipython",
    "version": 3
   },
   "file_extension": ".py",
   "mimetype": "text/x-python",
   "name": "python",
   "nbconvert_exporter": "python",
   "pygments_lexer": "ipython3",
   "version": "3.7.4"
  }
 },
 "nbformat": 4,
 "nbformat_minor": 2
}
