{
 "cells": [
  {
   "cell_type": "markdown",
   "metadata": {},
   "source": [
    "# BELL'S MEASURE IN CLASSICAL OPTICAL COHERENCE"
   ]
  },
  {
   "cell_type": "markdown",
   "metadata": {},
   "source": [
    "## 0. Setting up this notebook\n",
    "Kindly run the cell below to make sure you have all required dependencies"
   ]
  },
  {
   "cell_type": "markdown",
   "metadata": {},
   "source": [
    "### 0.1 Installing and Importing Packages"
   ]
  },
  {
   "cell_type": "code",
   "execution_count": 1,
   "metadata": {},
   "outputs": [
    {
     "name": "stdout",
     "output_type": "stream",
     "text": [
      "Successfully imported packages\n"
     ]
    }
   ],
   "source": [
    "from IPython.display import clear_output,display, Math, Latex\n",
    "!pip install numpy\n",
    "!pip install scipy\n",
    "!pip install matplotlib\n",
    "!pip install sympy\n",
    "!pip install seaborn\n",
    "!pip install qiskit\n",
    "clear_output()\n",
    "import numpy as np\n",
    "import matplotlib.pyplot as plt\n",
    "from matplotlib.widgets import Slider, Button, RadioButtons\n",
    "from ipywidgets import interact, interactive, fixed, interact_manual, Layout\n",
    "import ipywidgets as widgets\n",
    "from mpl_toolkits.mplot3d import axes3d\n",
    "from sympy import *\n",
    "from sympy.physics.quantum.dagger import Dagger\n",
    "from IPython.display import Javascript\n",
    "import seaborn as sns\n",
    "import scipy as sc\n",
    "import sys\n",
    "from qiskit import *\n",
    "from qiskit.compiler import transpile, assemble\n",
    "from qiskit.tools.jupyter import *\n",
    "from qiskit.visualization import *\n",
    "import matplotlib.pyplot as plotter\n",
    "np.set_printoptions(threshold=sys.maxsize)\n",
    "print(\"Successfully imported packages\")"
   ]
  },
  {
   "cell_type": "markdown",
   "metadata": {},
   "source": [
    "#### 0.2 Defining Functions"
   ]
  },
  {
   "cell_type": "code",
   "execution_count": 2,
   "metadata": {},
   "outputs": [],
   "source": [
    "## Function implemented to set axis ticks in multiples of pi in plots.\n",
    "## Function written by Scott Centoni at https://stackoverflow.com/a/53586826\n",
    "\n",
    "\n",
    "def multiple_formatter(denominator=2, number=np.pi, latex='\\pi'):\n",
    "    def gcd(a, b):\n",
    "        while b:\n",
    "            a, b = b, a%b\n",
    "        return a\n",
    "    def _multiple_formatter(x, pos):\n",
    "        den = denominator\n",
    "        num = int(np.rint(den*x/number))\n",
    "        com = gcd(num,den)\n",
    "        (num,den) = (int(num/com),int(den/com))\n",
    "        if den==1:\n",
    "            if num==0:\n",
    "                return r'$0$'\n",
    "            if num==1:\n",
    "                return r'$%s$'%latex\n",
    "            elif num==-1:\n",
    "                return r'$-%s$'%latex\n",
    "            else:\n",
    "                return r'$%s%s$'%(num,latex)\n",
    "        else:\n",
    "            if num==1:\n",
    "                return r'$\\frac{%s}{%s}$'%(latex,den)\n",
    "            elif num==-1:\n",
    "                return r'$\\frac{-%s}{%s}$'%(latex,den)\n",
    "            else:\n",
    "                return r'$\\frac{%s%s}{%s}$'%(num,latex,den)\n",
    "    return _multiple_formatter\n",
    "\n",
    "class Multiple:\n",
    "    def __init__(self, denominator=2, number=np.pi, latex='\\pi'):\n",
    "        self.denominator = denominator\n",
    "        self.number = number\n",
    "        self.latex = latex\n",
    "\n",
    "    def locator(self):\n",
    "        return plt.MultipleLocator(self.number / self.denominator)\n",
    "\n",
    "    def formatter(self):\n",
    "        return plt.FuncFormatter(multiple_formatter(self.denominator, self.number, self.latex))"
   ]
  },
  {
   "cell_type": "code",
   "execution_count": 3,
   "metadata": {},
   "outputs": [],
   "source": [
    "def plotter(x,y,title,xlabel,ylabel,col,label):\n",
    "    num_space,=x.shape\n",
    "    plt.plot(x,y, color=col,linewidth=3, label=label)\n",
    "    plt.title(title, fontsize=15)\n",
    "    plt.xlabel(xlabel, fontsize=15)\n",
    "    plt.ylabel(ylabel, fontsize=15)\n",
    "    plt.xlim(0,2*np.pi)\n",
    "    ax=plt.gca()\n",
    "    ax.set_facecolor('#FFFFCC')\n",
    "    ax.axhline(0, color='black', lw=2)\n",
    "    ax.axvline(0, color='black', lw=2)\n",
    "    ax.xaxis.set_major_locator(plt.MultipleLocator(np.pi / 2))\n",
    "    ax.xaxis.set_minor_locator(plt.MultipleLocator(np.pi / 12))\n",
    "    ax.xaxis.set_major_formatter(plt.FuncFormatter(multiple_formatter()))\n",
    "    plt.xticks(fontsize =15)\n",
    "    plt.yticks(fontsize =15)\n",
    "    return"
   ]
  },
  {
   "cell_type": "code",
   "execution_count": 4,
   "metadata": {},
   "outputs": [],
   "source": [
    "def plotterC(x,y,title,xlabel,ylabel,col,label):\n",
    "    num_space,=x.shape\n",
    "    plt.plot(x,y, color=col,linewidth=3, label=label)\n",
    "    plt.title(title, fontsize=15)\n",
    "    plt.xlabel(xlabel, fontsize=15)\n",
    "    plt.ylabel(ylabel, fontsize=15)\n",
    "    plt.xlim(0,1)\n",
    "    ax=plt.gca()\n",
    "    ax.set_facecolor('#FFFFCC')\n",
    "    ax.axhline(0, color='black', lw=2)\n",
    "    ax.axvline(0, color='black', lw=2)\n",
    "    plt.xticks(fontsize =15)\n",
    "    plt.yticks(fontsize =15)\n",
    "    return"
   ]
  },
  {
   "cell_type": "code",
   "execution_count": 5,
   "metadata": {},
   "outputs": [],
   "source": [
    "def contourplotter(function,phi,title,xlabel,ylabel):\n",
    "    f = lambdify((t,p,ta,pa),function, \"numpy\")\n",
    "    ta_range = np.linspace(0,2*np.pi,1000);\n",
    "    pa_range = np.linspace(0,2*np.pi,1000);\n",
    "    phi_fixed = phi;\n",
    "    X, Y = np.meshgrid(ta_range, pa_range);\n",
    "    def ftemp(ta_val,pa_val):\n",
    "        return f(0,phi_fixed,ta_val,pa_val);\n",
    "    Z = ftemp(X,Y);\n",
    "    fig, ax = plt.subplots(figsize=(7,5.7))\n",
    "    cp = ax.contourf(X, Y, Z ,cmap='turbo');\n",
    "    fig.colorbar(cp) # Add a colorbar to a plot\n",
    "    plt.xlim(0,2*np.pi);\n",
    "    plt.ylim(0,2*np.pi);\n",
    "    ax.axis('equal');\n",
    "\n",
    "    plt.title(title, fontsize=15)\n",
    "    plt.xlabel(xlabel, fontsize=15)\n",
    "    plt.ylabel(ylabel, fontsize=15)\n",
    "    ax=plt.gca()\n",
    "    ax.set_facecolor((0.8,1,1))\n",
    "    ax.axhline(0, color='black', lw=2)\n",
    "    ax.axvline(0, color='black', lw=2)\n",
    "    ax.xaxis.set_major_locator(plt.MultipleLocator(np.pi / 2))\n",
    "    ax.xaxis.set_minor_locator(plt.MultipleLocator(np.pi / 12))\n",
    "    ax.xaxis.set_major_formatter(plt.FuncFormatter(multiple_formatter()))\n",
    "    ax.yaxis.set_major_locator(plt.MultipleLocator(np.pi / 2))\n",
    "    ax.yaxis.set_minor_locator(plt.MultipleLocator(np.pi / 12))\n",
    "    ax.yaxis.set_major_formatter(plt.FuncFormatter(multiple_formatter()))\n",
    "    plt.xticks(fontsize =15)\n",
    "    plt.yticks(fontsize =15)\n",
    "    return"
   ]
  },
  {
   "cell_type": "code",
   "execution_count": 6,
   "metadata": {},
   "outputs": [],
   "source": [
    "def contourplotterC(function,P1,title,xlabel,ylabel):\n",
    "    f = lambdify((P,ta,pa),function, \"numpy\")\n",
    "    ta_range = np.linspace(0,2*np.pi,100);\n",
    "    pa_range = np.linspace(0,2*np.pi,100);\n",
    "    P_fixed = P1;\n",
    "    X, Y = np.meshgrid(ta_range, pa_range);\n",
    "    def ftemp(ta_val,pa_val):\n",
    "        return f(P1,ta_val,pa_val);\n",
    "    Z = ftemp(X,Y);\n",
    "    fig, ax = plt.subplots(figsize=(7,5.7))\n",
    "    cp = ax.contourf(X, Y, Z ,cmap='turbo');\n",
    "    fig.colorbar(cp) # Add a colorbar to a plot\n",
    "    plt.xlim(0,2*np.pi);\n",
    "    plt.ylim(0,2*np.pi);\n",
    "    ax.axis('equal');\n",
    "\n",
    "    plt.title(title, fontsize=15)\n",
    "    plt.xlabel(xlabel, fontsize=15)\n",
    "    plt.ylabel(ylabel, fontsize=15)\n",
    "    ax=plt.gca()\n",
    "    ax.set_facecolor((0.8,1,1))\n",
    "    ax.axhline(0, color='black', lw=2)\n",
    "    ax.axvline(0, color='black', lw=2)\n",
    "    ax.xaxis.set_major_locator(plt.MultipleLocator(np.pi / 2))\n",
    "    ax.xaxis.set_minor_locator(plt.MultipleLocator(np.pi / 12))\n",
    "    ax.xaxis.set_major_formatter(plt.FuncFormatter(multiple_formatter()))\n",
    "    ax.yaxis.set_major_locator(plt.MultipleLocator(np.pi / 2))\n",
    "    ax.yaxis.set_minor_locator(plt.MultipleLocator(np.pi / 12))\n",
    "    ax.yaxis.set_major_formatter(plt.FuncFormatter(multiple_formatter()))\n",
    "    plt.xticks(fontsize =15)\n",
    "    plt.yticks(fontsize =15)\n",
    "    return"
   ]
  },
  {
   "cell_type": "markdown",
   "metadata": {},
   "source": [
    "## Team details and work distrubution\n",
    "1. Aneesh Bapat (Roll no: 190260006): Proposed $A$ matrix formalism for devices, theoretical analysis of experiments along with derivations, coding of quantum circuits and proposal for parity sensitive polarization modifying gate.\n",
    "2. Ankan Mukherjee (Roll no: 190260008): (Write @Ankan)\n",
    "3. Mahadevan Subramanian (Roll no: 190260027): Explanation of polarization and spatial parity DoFs. Quantum circuit analogue to given experiments and also proved quantum circuit universality for this analogous system. Proved bell's inequalities.\n",
    "4. Priyam Dubey (Roll no: 190260034): Worked and coded plots of correlation functions and $B_{max}$ plots along with the 3d volume plot in $S,S_\\text{pol},S_\\text{par}$ space, interpretation of 3d Plot."
   ]
  },
  {
   "cell_type": "markdown",
   "metadata": {},
   "source": [
    "## Introduction\n",
    "Bell states or entangled states are a very common idea in the realm of quantum computing. The idea behind a bell state is that the measurement of one qubit is perfectly correlated to the measurement of the other. So while a partial measurement of only one qubit would lead the observer to believe that the state is not pure (the quantum computing equivalent of coherence in optics), the state is infact pure when a correlated measurement of the two qubits is carried out at the same time. This has interesting applications such as quantum teleportation, superdense coding and quantum cryptography. While bell states have been studied thoroughly in the field of quantum computing, there are not many studies that explore the classical analogue of bell states. In this project, we have tried to explore the this topic mainly along the ideas presented in reference [[1](#ref-1)]. \n",
    "<p> The main idea we are trying to explore is that it is possible to couple two degrees of freedom (DOFs) of a beam of light, in the context of our discussion, polarisation and parity, such that when a measurement of only one DOF is made (independent of the other), it is possible for the beam to appear partially coherent or even completely incoherent, while the the beam is infact completely coherent (in the sense that there is nothing 'random' about the beam). This hidden coupling can be made evident by actually performing a correlated bell state measurement between the two DOFs, and also allows us to distinguish true randomness (partial coherence) from entanglement. It is also possible to look at coherence as a resource that can be shared among different DOFs, for example, we can start with a completely unpolarised beam which is parity coherent, and convert it to a beam which is perfectly polarised but parity incoherent. Further, we have tried to explore the relevance of this scheme to a classical implementation of a quantum computer, which can infact be shown to be universal, but is limited in the fact that the scheme is hard to generalise to a large number of qubits. </p> "
   ]
  },
  {
   "cell_type": "markdown",
   "metadata": {},
   "source": [
    "## 1. Polarization & Spatial Parity\n",
    "\n",
    "In the paper [[1](#ref-1)] the experiments which were done were made using of an optical beam model with two binary degrees of freedom, specifically polarization and spatial parity along the $x$ direction (vertically upwards) respectively of a quasi monochromatic source, where the beam is travelling in the $z$ direction.<br>\n",
    "For the spatial parity, in one dimension the beams are of form $E(x) = E_e\\psi_e(x)+E_o\\psi_o(x)$ where $\\psi_e(x)$ is an even function and $\\psi_o(x) = \\text{sgn}(x)\\psi_e(x)$ hence is an odd function. We give this beam a vector representation called $\\mathbf{J}_\\text{par} = [E_e\\text{ } E_o]^T$. Spatial parity is manipulated using a spatial light modulator (SLM) which we describe in the experimental apparatus section. Along with the horizontal (H) and vertical components of polarization taken into account we describe the polarization-parity jones vector as $\\mathbf{J} = [E_\\text{He}\\text{ }E_\\text{Ho}\\text{ }E_\\text{Ve}\\text{ }E_\\text{Vo}]^T$.<br>\n",
    "We then describe the properties of this coherence using a $4\\times4$ matrix which is $\\mathbf{G} = \\langle\\mathbf{J}^{*}\\mathbf{J}^\\text{T}\\rangle$. Taking partial trace along $\\mathbf{G}$ would give us either $\\mathbf{G}_\\text{pol}$ or $\\mathbf{G}_\\text{par}$ on taking trace along parity or polarization respectively. We define a degree of polarization/parity using $D_{\\text{pol}}$($D_\\text{par}$) which quantifies the apparent coherence of each DoF when the other DoF is unresolved. Further an overall coherence $S$ is defined using the beam's linear entropy [[2](#ref-2)] as follows.\n",
    "The definition of linear entropy comes from the motivation of von Neumann Entropy. For a quantum mechanical system with a density matrix $\\rho$ this is defined as $S_v = \\text{Tr}(-\\rho\\ln(\\rho)) = -\\langle\\ln(\\rho)\\rangle$. The linear entropy $S_L$ is a lower approximation to $S_v$ which comes from expanding the leading term in the expansion of $\\rho\\ln\\rho$ which becomes $\\rho-\\rho^2$ approximately when $\\rho$ is close to $I$ (using taylor expansion) and taking trace this gives us the definition $S_L = \\text{Tr}(\\rho) - \\text{Tr}(\\rho^2)$ and by definition of the density matrix we have trace of $\\rho$ equal to 1 which gives us $S_L = 1 - \\text{Tr}(\\rho^2)$. This is a non normalized quantity so this is normalized by multiplying it by $\\frac{d}{d-1}$ which here is $4/3$ since our system has four dimensions. The definition of our $\\mathbf{G}$ matrix is isomorphic to the definition of a density matrix of a two qubit system keeping the Jones vector $\\mathbf{J}$ as the state of this two qubit system. Hence we have \n",
    "\\begin{equation}\\label{eq:1.1}\\tag{1.1}S = 1-S_L = 1 - \\frac{4}{3} + \\frac{4}{3}\\text{Tr}(\\mathbf{G}^2) = \\frac{4}{3}\\left(\\text{Tr}\\{\\mathbf{G}^2\\}-\\frac{1}{4}\\right)\\end{equation}\n",
    "We know that for normalized states we have that $\\frac{1}{d}\\leq$ Tr$(\\rho^2) \\leq 1$ and equals one only for a pure state and $1/d$ for completely mixed state. We can similarly draw a parallel here to seeing that $S=1$ happens only for coherent (pure) states and is 0 when completely incoherent. An important note to make here is that applying a unitary matrix $U$ (so $U^{*}U^{T} = I$) which is not time dependent on the Jones vector would not change our value of $S$ since on acting of a unitary we would have $\\mathbf{G}' = U^{*}\\mathbf{G}U^{T}$ and so $\\mathbf{G}'^2 = U^{*}\\mathbf{G}^2U^{T}$ and this has same trace as $\\mathbf{G}^2$ since trace is invariant under unitary transforms.\n",
    "\n",
    "The paper here explores the properties of a beam where these two DoFs are infact coupled or entagled. One can start with a coherent linearly polarized beam at $45^\\circ$ with even polarity which would be $\\mathbf{J} = (1/\\sqrt{2})[\\text{1 0 1 0}]^T$ which can clearly be factored into a direct product of $\\mathbf{J}_{\\text{pol}}\\otimes\\mathbf{J}_\\text{par}$ and so $D_\\text{pol} = D_\\text{par} = 1$. However on passing this beam through a polarization sensitive SLM which introduces a phase of $\\varphi/2\\sin(\\varphi)$ only to the horizontal polarity component and none to the vertical. We can think of this analoguos to a controlled $R_x(\\varphi)$ operation from the polarization qubit to parity qubit which acts when polarization is $|0\\rangle$ (called H here for polarization). This puts the state to an entagled state $\\mathbf{J} = (1/\\sqrt{2})[\\cos(\\varphi/2)\\text{ }\\iota\\sin(\\varphi/2)\\text{ 1 0}]^T$ which is no longer factorizable and shows that the apparant degree of coherence of the individual DoFs are no longer equal to 1 unless $\\varphi=0$ and infact equal zero when $\\varphi=\\pi$. However we know that this state is still coherent on an overall, the only issue is that seeing the partial trace of $\\mathbf{G}$ along the respective DoF provide an incomplete picture of the state hence leading to a conclusion that the coherence is absent. The paper proceeds to make use of the Bell's measure (see [Appendix A](#Appendix-A:-The-EPR-paradox-and-Bell's-inequalities)) to quantify this entanglement which is the cause of this apparent coherence deficit."
   ]
  },
  {
   "cell_type": "markdown",
   "metadata": {},
   "source": [
    "## 2. Experimental Apparatus\n",
    "\n",
    "For the experimental setup, we are using various separate components, which we will comment on one by one before seeing how they are arranged together for the experiment in this paper. We can develop a matrix operator formalism based on how these elements affect the vector $\\mathbf{J} = [E_{He} \\ E_{Ho} \\ E_{Ve} \\ E_{Vo}]^T$. Suppoe we have a device that modifies the Jones vector of a beam in the following way - $\\mathbf{J_{new}} = \\mathbf{A}\\mathbf{J_{old}}$. Then, the corresponding $\\mathbf{G} = \\langle \\mathbf{J^*J^T}\\rangle$ tranforms as $\\mathbf{G_{new} = A^*G_{old}A^T}$. This is because, assuming that the effect of the device, encoded in matrix $\\mathbf{A}$  is time independent, the matrix can just move inside the time average. And as we will see below, for all the devices used in this experiment, their effect is time invariant.\n",
    "\n",
    "\n",
    "## Polarisation only devices\n",
    "\n",
    "### 2.1 Waveplates\n",
    "<p>The first element we will look at is a half-wave plate. Suppose we have a half-wave plate whose axis is inclined at angle $\\theta$ to the $+x$ axis. Then, it will add a phase of $\\pi$ to the component of the amplitude along its axis, with respect to the component perpendicular to the axis. In other words, the component of E field along the axis will be effectively multiplied by $e^{i\\pi} = (-1)$.</p> \n",
    "<p> Suppose the in-going beam is described by a polarisation-only Jones vector $J_{pol} = [E_x \\ E_y]^T$. Then the (complex) amplitude is $E_x\\hat{x} + E_y\\hat{y} = (E_{x}\\cos\\theta + E_y\\sin\\theta)\\hat{\\theta_{\\parallel}} + (E_{x}\\sin\\theta - E_y\\cos\\theta) \\hat{\\theta_{\\perp}}$. So after adding a phase multiplier factor of $e^{i\\pi} = -1$ to the $\\hat{\\theta_{\\parallel}}$ component, the new complex amplitude is $$(-E_{x}\\cos\\theta - E_y\\sin\\theta)\\hat{\\theta_{\\parallel}} +  (E_{x}\\sin\\theta - E_y\\cos\\theta) \\hat{\\theta_{\\perp}} = (\\cos\\theta \\ (-E_{x}\\cos\\theta - E_y\\sin\\theta)+ \\sin\\theta(E_{x}\\sin\\theta - E_y\\cos\\theta))\\hat{x} + (\\sin\\theta \\ (-E_{x}\\cos\\theta - E_y\\sin\\theta)- \\cos\\theta(E_{x}\\sin\\theta - E_y\\cos\\theta))\\hat{y} \\\\ = [E_x(\\sin^2\\theta-\\cos^2\\theta) - E_y(2\\sin\\theta\\cos\\theta) \\qquad{} -E_x(2\\sin\\theta\\cos\\theta)  Ey(\\cos^2\\theta -\\sin^2\\theta)] \\\\ =[-E_x\\cos(2\\theta) - E_y\\sin(2\\theta) \\qquad{} -E_x\\sin(2\\theta)+E_y\\cos(2\\theta)]$$\n",
    "    \n",
    "We can write this more compactly in a 2x2 matrix - \n",
    "$$\\begin{pmatrix}-\\cos(2\\theta) & -\\sin(2\\theta) \\\\ -\\sin(2\\theta) & \\cos(2\\theta)\\end{pmatrix}\\begin{pmatrix}E_x \\\\ E_y\\end{pmatrix}_{old} = \\begin{pmatrix}E_x \\\\ E_y\\end{pmatrix}_{new}$$\n",
    "<p>When we are dealing with our 4 dimensional Jones vector, to generate the corresponding 4x4 HWP operator matrix, we can propose a 4x4 operator matrix. But before we spell it out, a few changes in notation are in order, to follow the same general notation as the paper. </p>\n",
    "<ol>\n",
    "    <li>The physical rotation angle used is $\\frac{\\theta}{4}$ so that the matrix entries are in terms of $\\frac{\\theta}{2}$. This corresponds to a quantum computing operator $R_y(\\theta) \\cdot Z$.</li>\n",
    "    <li>The axis, with respect to which the angle $\\frac{\\theta}{2}$ is to be measured is not specified in the paper. Two reasonable guesses are either the X axis (upwards vertical, as shown in the figure in the paper) or the horizontal axis (-y axis in the paper). In either case, we get the same matrix except with a global phase factor of $e^{i\\pi} = -1$. As we will see shortly, global phases do not affect the final calculation.</li>\n",
    "</ol>\n",
    "Since our Jones vector is $J = J_{pol}\\otimes J_{par}$, and our HWP does not affect the parity DOF at all (in other words, acts like an identity transformation), we can write it as a tensor product - \n",
    "$$A_{HWP}\\left(\\frac{\\theta}{2}\\right) = \\begin{pmatrix}-\\cos(\\theta/2) & -\\sin(\\theta/2) \\\\ -\\sin(\\theta/2) & cos(\\theta/2)\\end{pmatrix}\\otimes\\begin{pmatrix} 1&0 \\\\ 0&1\\end{pmatrix}=\\begin{pmatrix}\n",
    "-\\cos\\frac{\\theta}{2} & 0 & -\\sin\\frac{\\theta}{2} & 0 \\\\ \n",
    "0 &-\\cos\\frac{\\theta}{2}&0&-\\sin\\frac{\\theta}{2} \\\\\n",
    "-\\sin\\frac{\\theta}{2} &0 & \\cos\\frac{\\theta}{2} & 0 \\\\\n",
    "0 & -\\sin\\frac{\\theta}{2} &0 & \\cos\\frac{\\theta}{2}\n",
    "\\end{pmatrix} $$\n",
    "\n",
    "A more generic derivation that accounts for a waveplate of any arbitrary phase, and any arbitrary rotation is given in reference [[9](#ref-9)]\n",
    "\n",
    "### 2.2 Polarising Beam Splitter\n",
    "\n",
    "This is an element that separates out the H and V polarised beams from the input beam. There is no operator matrix associated with it, it simply separates out the two beams, without affecting parity at all. One point to note here - as we describe below, a mirror will add a factor of (-1) to odd modes, so the component which gets reflected will pick up that factor here as well. We can either correct this with a second reflection of that beam from a $45^\\circ$ mirror to correct it or not do anything at all about it (in the experimental setup in the paper seen as a whole, we can see that it won't matter the odd and even beams will be switched, but that is about it.)\n",
    "\n",
    "## Parity Sensitive Devices\n",
    "Most of the discussion for parity sensitive devices is largely based on reference [[10](#ref-10)].\n",
    "\n",
    "### 2.3 Dove Prism\n",
    "<p> We know that a mirror inverts left-right. So if we put an odd beam through the mirror, it will pick up a factor of (-1) from the + and - axes being inverted (i.e. -x being mapped to x). </p>\n",
    "<p> The operator (parity only, polarisation plays no role) associated to a mirror is $$\\begin{pmatrix}-1 & 0 \\\\ 0 & 1\\end{pmatrix}\\begin{pmatrix}e \\\\ o \\end{pmatrix}_{old} = \\begin{pmatrix}e \\\\ o \\end{pmatrix}_{new}$$ An additional -1 factor is added as a global phase, because of the phase change on reflecting.</p>\n",
    "<img width=\"40%\" src='Mirror_and_Parity.png'>\n",
    "One thing about mirrors which is particularly inconvenient is that the incoming and outgoing beam does not travel in the same direction, so we cannot conveniently include a mirror in the arm of a Mach-Zehnder interferometer easily, for example. To make our life simple, we use a dove prism, which is a trapezoid shaped prism, that the light beam enters, undergoes TIR on one surface of it and exits travelling in the same direction as incoming beam. It performs the same matrix operation as a mirror, but is more convenient to use. One aspect to be careful of (that can be easily overcome) is that there is a phase change because the beam travels through the glass/ material of the prism, but that can be easily dealt with by using a compensator cell in the other arm. Another important aspect of a Dove prism - since the wave incidence medium is denser and the transmission medium is rarer (unlike a regular mirror), there is no addition $\\pi$ phase of reflection, and the operator matrix is simply $$\\begin{pmatrix}1 & 0 \\\\ 0 & -1\\end{pmatrix}\\begin{pmatrix}e \\\\ o \\end{pmatrix}_{old} = \\begin{pmatrix}e \\\\ o \\end{pmatrix}_{new}$$\n",
    "<img width = \"60%\" src='Dove_prism.png'>\n",
    "\n",
    "### 2.4 Mach Zehnder Interferometer\n",
    "<img width = \"60%\" src='MZI.png'><center>A schematic of a MZI, self drawn</center>\n",
    "<p> In this arrangement, the beam splitters are polarisation insensitive, so there is no polarisation discrimination. First let us consider a MZI with no dove prism (and no compensation cell). Suppose the only input beam is given from In1. Then, the left beam suffers two rarer-denser reflections and the same is the case with the right beam, as they come out from Out2. Hence, we have constructive interference at Out2. Whereas, as Out1, the left beam still has same phase (the reflection at exit beam splitter is denser-rarer, so no phase change) while the right beam has one reflection only, so the interference is destructive.</p>\n",
    "<p>With a dove prism in place, the odd mode undergoes one extra inversion in the left path, so its constructive/destructive outputs are now exactly swapped. As a result, if we send in a superposition of odd and even modes into In1, the odd mode comes out from Out1, while the even mode comes out from Out2 (just as if no prism were there). Conversely, if we send in the beam from In2, the odd mode will come out from Out2 and the even mode from Out1.</p>\n",
    "\n",
    "Hence we can think of two uses of this MZI arrangement - \n",
    "<ol> <li> To split a superposed beam into its odd and even components, send this beam in from one of the inputs only and the odd and even parity modes are separated.</li>\n",
    "    <li> If we have a odd parity beam and an even parity beam, we can add them (make a superposed state) by sending in the odd beam in In1, the even beam from In2, and then getting the superposed beam out, from Out1.\n",
    "       </ol>\n",
    "       In the experiment performed in the paper, the authors concern themselves only with the first use.\n",
    "       \n",
    "### 2.5 SLMs and PS-SLMs \n",
    "A SLM is a spatial light modulator. In general, this term refers to any device that modifies the beam in a space dependent fashion. In the context of this experiment, the SLM they use (Hamamatsu X10468-02) is an array of liquid crystal pixels, each of whose refractive index can be controlled independently by applying a voltage, in such a way, that we add a desired phase to the light passing through each pixel, and the phase in each pixel is independent of the others.\n",
    "<p>Suppose we send a beam through a SLM which adds a $x$-dependant phase $\\frac{\\phi}{2}sgn(x)$ to the electric field (global phase does not matter here, by the way. Only relative phase/ difference in phase between top and bottom half being $\\phi$ is what matters.) Then, we are effectively multiplying the old profile $E_{old}(x)$ by $e^{\\iota\\frac{\\phi}{2}sgn(x)}$, to get new profile $E_{new}(x)$. Observe that $e^{\\iota\\frac{\\phi}{2}sgn(x)} = cos(\\frac{\\phi}{2})+ \\iota sgn(x)sin(\\frac{\\phi}{2})$. So, with $E_{old}(x) = e(x)+o(x)$, we can get $E_{new}(x) = (e(x)+o(x))(cos(\\phi/2)+\\iota sgn(x)sin(\\phi/2)) = [cos(\\phi/2)e(x) + \\iota sin(\\phi/2) sgn(x)o(x)] + [cos(\\phi/2)o(x) + \\iota sin(\\phi/2) sgn(x)e(x)]$. </p>\n",
    "<p>Observe that the first term in the new expression is even while the second term is odd, which means that they are the new even and odd decomposition (which is unique). We can re-express this as $\\begin{pmatrix}cos(\\phi/2) & \\iota sin(\\phi/2) \\\\ \\iota sin(\\phi/2) & cos(\\phi/2) \\end{pmatrix}\\begin{pmatrix}e_{old} \\\\ o_{old}\\end{pmatrix} = \\begin{pmatrix}e_{new} \\\\ o_{new}\\end{pmatrix}$ to make it look more like the transformation caused by a half wave plate, but for the parity DOF. In particular, observe that if we set $\\phi = \\pi$ then the matrix shown looks like a Pauli $\\sigma_x$ matrix (times the constant $\\iota$)- it swaps the $o$ and $e$ bases.\n",
    "\n",
    "Further, to obtain the 4x4 transformation matrix, we again do a tensor product - \n",
    "$$A_{par}\\left(\\frac{\\phi}{2}\\right) = \\begin{pmatrix}1 & 0 \\\\ 0 & 1\\end{pmatrix}\\otimes\\begin{pmatrix} \\cos(\\phi/2)&i\\sin(\\phi/2) \\\\ i\\sin(\\phi/2) &\\cos(\\phi/2)\\end{pmatrix}=\\begin{pmatrix}\n",
    "\\cos(\\phi/2)&i\\sin(\\phi/2) & 0& 0\\\\ i\\sin(\\phi/2) &\\cos(\\phi/2) &0 & 0\\\\\n",
    "0&0&\\cos(\\phi/2)&i\\sin(\\phi/2) \\\\ 0&0&i\\sin(\\phi/2) &\\cos(\\phi/2)\n",
    "\\end{pmatrix} $$\n",
    "\n",
    "Again, the rationale is that since there is no polarisation effect, that part of the first matrix is identity.\n",
    "\n",
    "The liquid crystals can be acted on by a electric field in two directions, so that the refractive index of a single pixel itself is non-isotropic. This leads to polarisation-sensitive behaviour of the pixels. For example, if we take a SLM that adds a phase of $\\frac{\\phi}{2}sgn(x)$ only to the H-polarisation while leaving the V polarisation unchanged. In this case, we can simply modify the above operator matrix to look like $$A_{PS-SLM}\\left(\\frac{\\phi}{2}\\right) =\\begin{pmatrix}\n",
    "\\cos(\\phi/2)&i\\sin(\\phi/2) & 0& 0\\\\ i\\sin(\\phi/2) &\\cos(\\phi/2) &0 & 0\\\\\n",
    "0&0&1&0 \\\\ 0&0&0 &1\n",
    "\\end{pmatrix} $$"
   ]
  },
  {
   "cell_type": "markdown",
   "metadata": {},
   "source": [
    "## General Observations About the operator matrices\n",
    "We can see the following properties about the matrix formalism we have developed.\n",
    "<ol><li> The matrix (operator) for any device is unique only up to global phase. In particular, the phase will depend on the optical path length (refractive index $\\times$ physical path length) within the device, and can always be corrected by using an appropriate compensator cell. But note that all these different-phase $A$ matrices will still lead to the same value of $G_{out} = A^*G_{in}A^T$, because if $A_1 = A_2e^{\\iota \\psi}$, then $G_1 = (e^{-\\iota \\psi}A_2^*)G_{in}(e^{\\iota \\psi}A_2^T) = A_2^*G_{in}A_2^T = G_2$</li>\n",
    "    <li> The matrices are all unitary. $AA^\\dagger = A^\\dagger A = \\mathbb{I}$. This is expected, because if we take a completely incoherent beam in phase as well as parity, then no device will be able to change it, and the $G$ matrix for a completely incoherent mode is a scalar multiple of identity.</li>\n",
    "    <li> The matrices corresponding to a rotated HWP and to a polarisation-insensitive SLM commute. This is expected because each of these devices is expected to modify only one DOF.</li>\n",
    "    </ol>"
   ]
  },
  {
   "cell_type": "code",
   "execution_count": 7,
   "metadata": {},
   "outputs": [],
   "source": [
    "P,t,p,ta,pa = symbols('P theta varphi theta_a varphi_a',real=True)\n",
    "A_HWP = Matrix([[-cos(ta/2),0,-sin(ta/2),0],[0,-cos(ta/2),0,-sin(ta/2)],[-sin(ta/2),0,cos(ta/2),0],\n",
    "              [0,-sin(ta/2),0,cos(ta/2)]])\n",
    "A_SLM = Matrix([[cos(pa/2),I*sin(pa/2),0,0],[I*sin(pa/2),cos(pa/2),0,0],[0,0,cos(pa/2),I*sin(pa/2)],\n",
    "             [0,0,I*sin(pa/2),cos(pa/2)]])\n",
    "A_PSSLM = Matrix([[cos(pa/2),I*sin(pa/2),0,0],[I*sin(pa/2),cos(pa/2),0,0],[0,0,1,0],\n",
    "             [0,0,0,1]]) "
   ]
  },
  {
   "cell_type": "code",
   "execution_count": 8,
   "metadata": {},
   "outputs": [
    {
     "data": {
      "text/latex": [
       "$\\displaystyle \\left[\\begin{matrix}1 & 0 & 0 & 0\\\\0 & 1 & 0 & 0\\\\0 & 0 & 1 & 0\\\\0 & 0 & 0 & 1\\end{matrix}\\right]$"
      ],
      "text/plain": [
       "Matrix([\n",
       "[1, 0, 0, 0],\n",
       "[0, 1, 0, 0],\n",
       "[0, 0, 1, 0],\n",
       "[0, 0, 0, 1]])"
      ]
     },
     "execution_count": 8,
     "metadata": {},
     "output_type": "execute_result"
    }
   ],
   "source": [
    "trigsimp(A_SLM*conjugate(A_SLM.T)) #A_SLM is unitary"
   ]
  },
  {
   "cell_type": "code",
   "execution_count": 9,
   "metadata": {},
   "outputs": [
    {
     "data": {
      "text/latex": [
       "$\\displaystyle \\left[\\begin{matrix}1 & 0 & 0 & 0\\\\0 & 1 & 0 & 0\\\\0 & 0 & 1 & 0\\\\0 & 0 & 0 & 1\\end{matrix}\\right]$"
      ],
      "text/plain": [
       "Matrix([\n",
       "[1, 0, 0, 0],\n",
       "[0, 1, 0, 0],\n",
       "[0, 0, 1, 0],\n",
       "[0, 0, 0, 1]])"
      ]
     },
     "execution_count": 9,
     "metadata": {},
     "output_type": "execute_result"
    }
   ],
   "source": [
    "trigsimp(A_PSSLM*conjugate(A_PSSLM.T)) #A_PSSLM is unitary"
   ]
  },
  {
   "cell_type": "code",
   "execution_count": 10,
   "metadata": {},
   "outputs": [
    {
     "data": {
      "text/latex": [
       "$\\displaystyle \\left[\\begin{matrix}1 & 0 & 0 & 0\\\\0 & 1 & 0 & 0\\\\0 & 0 & 1 & 0\\\\0 & 0 & 0 & 1\\end{matrix}\\right]$"
      ],
      "text/plain": [
       "Matrix([\n",
       "[1, 0, 0, 0],\n",
       "[0, 1, 0, 0],\n",
       "[0, 0, 1, 0],\n",
       "[0, 0, 0, 1]])"
      ]
     },
     "execution_count": 10,
     "metadata": {},
     "output_type": "execute_result"
    }
   ],
   "source": [
    "trigsimp(A_HWP*conjugate(A_HWP.T)) #A_HWP is unitary"
   ]
  },
  {
   "cell_type": "code",
   "execution_count": 11,
   "metadata": {},
   "outputs": [
    {
     "data": {
      "text/latex": [
       "$\\displaystyle \\left[\\begin{matrix}0 & 0 & 0 & 0\\\\0 & 0 & 0 & 0\\\\0 & 0 & 0 & 0\\\\0 & 0 & 0 & 0\\end{matrix}\\right]$"
      ],
      "text/plain": [
       "Matrix([\n",
       "[0, 0, 0, 0],\n",
       "[0, 0, 0, 0],\n",
       "[0, 0, 0, 0],\n",
       "[0, 0, 0, 0]])"
      ]
     },
     "execution_count": 11,
     "metadata": {},
     "output_type": "execute_result"
    }
   ],
   "source": [
    "trigsimp(A_HWP*A_SLM - A_SLM*A_HWP) #A_SLM and A_HWP commute"
   ]
  },
  {
   "cell_type": "markdown",
   "metadata": {},
   "source": [
    "## Proposal for a Parity-Sensitive Polarisation Modifier\n",
    "In the main paper [[1](#ref-1)], one of the loose ends that the authors do not seem to have addressed is that polarity seems to have a special place in this qubits scheme, in the sense that controlled gates can be made only with polarity as a control qubit (no parity controlled gates/devices are proposed). Here, we wish to present the design of a parity controlled device, that can be used to implement the controlled version of any possible (ordinarily) parity-insensitive device. \n",
    "<p>The main idea is to use the second use of the MZI. Suppose you are given an input beam and you want to perform a controlled-HWP operation on that (we have already seen uncontrolled HWP earlier). Then, the idea is to split up the input beam into the odd and even components with an MZI and then recombine them with a second MZI. In this way, a parity-controlled operation can be performed. The below image shows a schematic for a parity-sensitive HWP.</p>\n",
    "<img width = \"40%\" src='Parity_sensitive_HWP.png'>\n",
    "<p> An important use of this idea will be to bring the line of thought presented in the paper to a logical conclusion - suppose we start with a purely even mode but completely unpolarised beam. Then, by coupling the parity to the polarisation, we can generate a coupled-DOF beam. To convert this beam to a completely polarised, parity-incoherent beam, we would need to implement a parity-controlled polarisation operation, which this section proposes a theoretical solution to accomplishing. One major issue still here, is that stacking two MZI's could be a challenge, in view of the difficulty of alignment.This might be fixable by using waveguides </p>\n",
    "<p> Note that in the above drawn diagram, there should be an appropriate compensator cell in the upper arm which compensates for the phase added to the slow polarisation by the HWP.</p>"
   ]
  },
  {
   "cell_type": "markdown",
   "metadata": {},
   "source": [
    "## The Three Experiments\n",
    "Below, we give a brief account of the setups for the three experiments\n",
    "### Experiment A\n",
    "In experiment A, the authors of [[1](#ref-1)] use a laser source with a perfectly even amplitude function and perfectly linearly polarised in a direction $45^\\circ$ to the x - axis. Then it is passed through a PS-SLM inducing a phase $\\frac{\\phi}{2}sgn(x)$ only to the H-polarisation, but not to the V-polarisation. This is a classical bell state where polarisation and parity are coupled, and in the case where $\\phi = \\pi$ radians, both DOFs appear completely incoherent in an uncoupled measurement.\n",
    "\n",
    "### Experiment B\n",
    "In this experiment, the even mode $45^\\circ$ laser is first passed through a random rotator which makes the beam completely polarisation incoherent (unpolarised) while not affecting the parity coherence. Now, it is again passed through a PS-SLM like in experiment A. Thus, the parity DOF is coupled to the polarisation DOF, which is incoherent. With a complete coupling ($\\phi = \\pi$ radians) the parity as well as polarisation appear completely incoherent by themselves, while we expect the beam to infact be partially coherent, since it was parity coherent to begin with. This is again revealed to be true by a Bell-state measurement.\n",
    "\n",
    "### Experiment C\n",
    "In this experiment we pass the even mode $45^\\circ$ laser through a PS-SLM, but this time the PS-SLM is probabilistic, in the sense that it couples the parity to polarisation with probability $P$ and does not couple them, with a probability $1-P$ (i.e. the beam is unaffected). In this case, the PS-SLM itself contributes to the incoherence (partial) of the beam because it introduces an element of randomness. "
   ]
  },
  {
   "cell_type": "markdown",
   "metadata": {},
   "source": [
    "## 3. Polarization and Spatial Parity analysis\n",
    "### 3.1 The correlation function\n",
    "We will now proceed to define a normalized correlation function $C(\\theta_a,\\phi_a)$ which we will use for defining our bell's measure $B$. The analyzing done in the paper does so with the following experimental setup shown below (images taken from [[1](#ref-1)])\n",
    "<table>\n",
    "    <tr>\n",
    "        <td><img width=\"90%\"src=\"fig1b-og.png\"/><center><b>Fig: 3.1</b></center></td>\n",
    "        <td><img width=\"90%\"src=\"fig1c-og.png\"/><center><b>Fig: 3.2</b></center></td>\n",
    "    </tr>\n",
    "</table>\n",
    "[Section 2](#2.-Experimental-Apparatus) explains the functioning principle for each of the apparatus in the above figure. What the setup essentially does in fig: 3.1.1 is for analyzing the DoFs seperately. The polarization is analyzed in a linear basis rotated by $\\theta_a$ by action of the half wave plate and similarly the parity is analyzed by analyzing over a basis rotated by $\\varphi_a$. The measured intensities are normalized and kept as probabilities in a way that $P_H + P_V = P_o + P_e = 1$. In fig: 3.2 combined polarization-parity measurements are done by essentially using the setup of fig: 3.1 but by concatenating the different DoF analysis stages. If we call the input coherency matrix as $\\mathbf{G}_{in}$ then the resulting coherency matrix after the transformations on which measurement is being done is \n",
    "\\begin{equation}\\label{eq:3.1}\\tag{3.1}\\mathbf{G}_{out} = A_{SLM}^*A_{HWP}^*\\mathbf{G}_{in}A_{HWP}^TA_{SLM}^T\\end{equation}\n",
    "As already shown in section 1, our definition of overall coherence in eq: 1.1 is invariant under applying these unitaries on the state. The following is the definition we give to the correlation function in the equation below. Symmetric values are assignmed to the coefficeints $c_\\text{pol} = \\pm1$ ($c_\\text{par} = \\pm1$) to the dichotomic H (e) and V (o) probability outcomes. \n",
    "\\begin{equation}\\label{eq:3.2}\\tag{3.2}C(\\theta_a,\\varphi_a) = \\sum c_\\text{pol}c_\\text{par}P_\\text{pol,par} = P_\\text{He} - P_\\text{H0} - P_\\text{Ve} + P_\\text{Vo}\\end{equation}\n",
    "For the uncoupled case this can be factorized into $C(\\theta_1,\\varphi_a) = C_\\text{pol}(\\theta_a)C_\\text{par}(\\phi_a)$ and here we would have $C_\\text{pol}(\\theta_a) = P_H - P_V$ and $C_\\text{par} = P_e - P_o$. Proceeding this they use th CSHS formulation of the Bell's measure (see Appendix A) to write \n",
    "\\begin{equation}\\label{eq:3.3}\\tag{3.3}B = |C(\\theta_a,\\varphi_a) + C(\\theta_a,\\varphi_a') + C(\\theta_a',\\varphi_a) - C(\\theta_a',\\varphi_a')|\\end{equation}\n",
    "Now we have an upper bound on $B_{max}$ which is the maximum value this measure takes over these four variables and this is what the paper from this point refers to as the Bell's measure. This bound is called the Tsirelon's bound and is $B_{max}\\leq 2\\sqrt{2}$ and in the classical case (where all observables commute) it is actually bounded above by 2.\n",
    "\n",
    "We will now prove that any coherent beam has $D_\\text{pol} = D_\\text{par}$. Any coherent beam here would be isomorphic to a pure two qubit state. For pure states, if the state is $|\\psi\\rangle$, then the density matrix is $\\rho = |\\psi\\rangle\\langle\\psi|$. We can represent this in a Schmidt form where $|\\psi\\rangle = \\sum_ig_i|u_i\\rangle\\otimes|v_i\\rangle$ which can be done for any arbitrary pure state so for the 4 dimensional Jones vector here we only have two variables and so without loss of generality we can choose to write our jones vector as $\\mathbf{J} = [\\mu_1\\text{ 0 0 }\\mu_2]^T$ and for this state we would have that\n",
    "\\begin{equation}\\label{eq:3.4}\\tag{3.4}\\mathbf{G}_\\text{pol} = \\mathbf{G}_\\text{par} = \\begin{pmatrix}\\mu_1^2 & 0\\\\0 & \\mu_2^2\\end{pmatrix}\\end{equation}\n",
    "This leads to $D_\\text{pol} = D_\\text{par} = |\\mu_1^2-\\mu_2^2|$ which is essentially the difference the eigenvalues of the respective matrix. Note that the above equation would be true in the basis where we can write the Schmidt decomposition of the Jones vector but since this is a coherent state this basis can be reached by applying unitaries that do not do any coupling. Also for coherent beams the paper claims that we would have $4D_\\text{par}^2+B_{max}^2 = 4D_\\text{pol}^2+B_{max}^2 = 8$ which becomes $4D_\\text{pol}^2+B_{max}^2\\leq 8$ and $4D_\\text{par}^2+B_{max}^2\\leq 8$ for partially coherent beams hence they define a new degree of coherence reffered to as the partial degree of coherence\n",
    "\\begin{equation}S_\\text{pol} = \\dfrac{D_\\text{pol}^2}{2} + \\left(\\dfrac{B_{max}}{2\\sqrt{2}}\\right)^2\\text{, }S_\\text{par} = \\dfrac{D_\\text{par}^2}{2} + \\left(\\dfrac{B_{max}}{2\\sqrt{2}}\\right)^2\\end{equation}\n",
    "One important thing to note is that the accessible degrees of coherence written above are invariant under unitary coupling between the two DoFs. We can see this as a sort of sharing of coherence between apparent coherence of an individual DoF ($D_\\text{pol}$ and $D_\\text{par}$) and the coupling between them ($B_{max}$). For a fully coherent beam we will always have $S = S_\\text{pol} = S_\\text{par} = 1$ regardless of coupling between the DoFs. This also demostrates how we can make coherence essentially migrate from form of coupling to apparent coherence of individual DoFs by simply using unitary transforms.\n"
   ]
  },
  {
   "cell_type": "markdown",
   "metadata": {},
   "source": [
    "## 4. Theoretical analysis of the three experiments\n",
    "The paper [[1](#ref-1)] describes three experiments A, B and C. Here we will derive the theoretical expressions they use for fitting their data using the SymPy package."
   ]
  },
  {
   "cell_type": "code",
   "execution_count": 12,
   "metadata": {},
   "outputs": [],
   "source": [
    "def trace_G(G): #A trace function for just 4x4 G matrices\n",
    "    return simplify(G[0,0] + G[1,1] + G[2,2] + G[3,3])\n",
    "def corr_prob(G): #Returns the value I_He - I_Ho - I_Ve +I_Vo from given G matrix\n",
    "    return simplify(G[0,0] - G[1,1] - G[2,2] + G[3,3])\n",
    "\n",
    "def par_tr_G_pol(G): #returns the partial trace of G for giving G_pol\n",
    "    return simplify(Matrix([[G[0,0]+G[1,1],G[0,2]+G[1,3]],[G[2,0]+G[3,1],G[2,2]+G[3,3]]]))\n",
    "\n",
    "def par_tr_G_par(G): #returns the partial trace of G for giving G_par\n",
    "    return Matrix([[G[0,0]+G[2,2],G[0,1]+G[2,3]],[G[1,0]+G[3,2],G[1,1]+G[3,3]]])\n",
    "\n",
    "def app_coh(G): #Returns apparent degree of coherence for a 2x2 G matrix\n",
    "    return simplify(sqrt(1-4*simplify(Determinant(G))/(simplify(Trace(G))**2)))\n",
    "\n",
    "def norm_grad(B,syms):\n",
    "    c = 0\n",
    "    for i in syms:\n",
    "        c += simplify(B.diff(i)**2)\n",
    "    return simplify(c)"
   ]
  },
  {
   "cell_type": "markdown",
   "metadata": {},
   "source": [
    "#### Methods for Calculating Values of $D_{pol}$, $D_{par}$, $B_{max}$, $S_{pol}$ and $S_{par}$"
   ]
  },
  {
   "cell_type": "code",
   "execution_count": 13,
   "metadata": {},
   "outputs": [],
   "source": [
    "def bmaxfinder(C_ta_pa,x):\n",
    "    tb,pb = symbols('theta_b varphi_b',real=True)\n",
    "    B = C_ta_pa + C_ta_pa.xreplace({ta:tb}) + C_ta_pa.xreplace({pa:pb}) - C_ta_pa.xreplace({ta:tb,pa:pb})\n",
    "    b = lambdify((ta,pa,tb,pb,p),B, \"numpy\")\n",
    "    bmax=[-1*(sc.optimize.minimize(lambda params: -1*abs(b(params[0],params[1],params[2],params[3],i)), [0,0,0,0], method = 'L-BFGS-B').fun) for i in x]\n",
    "    bmax=np.around(bmax,decimals=5)\n",
    "    return bmax"
   ]
  },
  {
   "cell_type": "code",
   "execution_count": 14,
   "metadata": {},
   "outputs": [],
   "source": [
    "def bmaxfinderC(C_ta_pa,x):\n",
    "    tb,pb = symbols('theta_b varphi_b',real=True)\n",
    "    B = abs(C_ta_pa + C_ta_pa.xreplace({ta:tb}) + C_ta_pa.xreplace({pa:pb}) - C_ta_pa.xreplace({ta:tb,pa:pb}))\n",
    "    b = lambdify((ta,pa,tb,pb,P),B, \"numpy\")\n",
    "    bmax=[-1*(sc.optimize.minimize(lambda params: -1*abs(b(params[0],params[1],params[2],params[3],i)), [0,0,0,0], method = 'L-BFGS-B').fun) for i in x]\n",
    "    bmax=np.around(bmax,decimals=5)\n",
    "    return bmax"
   ]
  },
  {
   "cell_type": "code",
   "execution_count": 15,
   "metadata": {},
   "outputs": [],
   "source": [
    "def dfinder(D,x):\n",
    "    d=lambdify(p,D,\"numpy\")\n",
    "    d_final=[d(i) for i in x]\n",
    "    return d_final"
   ]
  },
  {
   "cell_type": "code",
   "execution_count": 16,
   "metadata": {},
   "outputs": [],
   "source": [
    "def dfinderC(D,x):\n",
    "    d=lambdify(P,D,\"numpy\")\n",
    "    d_final=[d(i) for i in x]\n",
    "    return d_final"
   ]
  },
  {
   "cell_type": "code",
   "execution_count": 17,
   "metadata": {},
   "outputs": [],
   "source": [
    "def sfinder(d,bmax):   \n",
    "    return np.around(np.square(d)/2+np.square(bmax)/8,decimals=5)"
   ]
  },
  {
   "cell_type": "markdown",
   "metadata": {},
   "source": [
    "### 4.1 Experiment A\n",
    "Here the field is competely coherent and we start with the Jones vector in state $\\mathbf{J} = (1/\\sqrt{2})[\\cos(\\varphi/2)\\text{ }\\iota\\sin(\\varphi/2)\\text{ 1 0}]^T$ which is reached by applying the PS-SLM on the input state of $\\mathbf{J}_{in} = (1/\\sqrt{2})[\\text{1 0 1 0}]^T$. On this we then apply the rotation of basis by $\\theta_a$ for polarization and of $\\varphi_a$ for parity and then conduct measurements of each component. Based on our previous definitions we now derive the correlation function for this experiment."
   ]
  },
  {
   "cell_type": "code",
   "execution_count": 18,
   "metadata": {
    "scrolled": true
   },
   "outputs": [
    {
     "data": {
      "text/latex": [
       "$\\displaystyle \\left[\\begin{matrix}0.5 \\cos^{2}{\\left(\\frac{\\varphi}{2} \\right)} & 0.25 i \\sin{\\left(\\varphi \\right)} & 0.5 \\cos{\\left(\\frac{\\varphi}{2} \\right)} & 0\\\\- 0.25 i \\sin{\\left(\\varphi \\right)} & 0.5 \\sin^{2}{\\left(\\frac{\\varphi}{2} \\right)} & - 0.5 i \\sin{\\left(\\frac{\\varphi}{2} \\right)} & 0\\\\0.5 \\cos{\\left(\\frac{\\varphi}{2} \\right)} & 0.5 i \\sin{\\left(\\frac{\\varphi}{2} \\right)} & 0.5 & 0\\\\0 & 0 & 0 & 0\\end{matrix}\\right]$"
      ],
      "text/plain": [
       "Matrix([\n",
       "[0.5*cos(varphi/2)**2,   0.25*I*sin(varphi),    0.5*cos(varphi/2), 0],\n",
       "[ -0.25*I*sin(varphi), 0.5*sin(varphi/2)**2, -0.5*I*sin(varphi/2), 0],\n",
       "[   0.5*cos(varphi/2),  0.5*I*sin(varphi/2),                  0.5, 0],\n",
       "[                   0,                    0,                    0, 0]])"
      ]
     },
     "execution_count": 18,
     "metadata": {},
     "output_type": "execute_result"
    }
   ],
   "source": [
    "J = sqrt(1/2)*Matrix([cos(p/2),I*sin(p/2),1,0])\n",
    "G_A = trigsimp(conjugate(J)*J.T)\n",
    "G_A #The input beam G matrix before the transformations"
   ]
  },
  {
   "cell_type": "markdown",
   "metadata": {},
   "source": [
    "#### Calculation of $D_{pol}$ and $D_{par}$"
   ]
  },
  {
   "cell_type": "code",
   "execution_count": 19,
   "metadata": {},
   "outputs": [
    {
     "data": {
      "text/latex": [
       "$\\displaystyle \\left[\\begin{matrix}0.5 & 0.5 \\cos{\\left(\\frac{\\varphi}{2} \\right)}\\\\0.5 \\cos{\\left(\\frac{\\varphi}{2} \\right)} & 0.5\\end{matrix}\\right]$"
      ],
      "text/plain": [
       "Matrix([\n",
       "[              0.5, 0.5*cos(varphi/2)],\n",
       "[0.5*cos(varphi/2),               0.5]])"
      ]
     },
     "execution_count": 19,
     "metadata": {},
     "output_type": "execute_result"
    }
   ],
   "source": [
    "G_pol_A = par_tr_G_pol(G_A)\n",
    "G_pol_A"
   ]
  },
  {
   "cell_type": "code",
   "execution_count": 20,
   "metadata": {
    "scrolled": true
   },
   "outputs": [
    {
     "data": {
      "text/latex": [
       "$\\displaystyle \\left[\\begin{matrix}0.5 \\cos^{2}{\\left(\\frac{\\varphi}{2} \\right)} + 0.5 & 0.25 i \\sin{\\left(\\varphi \\right)}\\\\- 0.25 i \\sin{\\left(\\varphi \\right)} & 0.5 \\sin^{2}{\\left(\\frac{\\varphi}{2} \\right)}\\end{matrix}\\right]$"
      ],
      "text/plain": [
       "Matrix([\n",
       "[0.5*cos(varphi/2)**2 + 0.5,   0.25*I*sin(varphi)],\n",
       "[       -0.25*I*sin(varphi), 0.5*sin(varphi/2)**2]])"
      ]
     },
     "execution_count": 20,
     "metadata": {},
     "output_type": "execute_result"
    }
   ],
   "source": [
    "G_par_A = par_tr_G_par(G_A)\n",
    "G_par_A"
   ]
  },
  {
   "cell_type": "code",
   "execution_count": 21,
   "metadata": {
    "scrolled": true
   },
   "outputs": [
    {
     "data": {
      "text/latex": [
       "$\\displaystyle 1.0 \\left|{\\cos{\\left(\\frac{\\varphi}{2} \\right)}}\\right|$"
      ],
      "text/plain": [
       "1.0*Abs(cos(varphi/2))"
      ]
     },
     "execution_count": 21,
     "metadata": {},
     "output_type": "execute_result"
    }
   ],
   "source": [
    "D_pol_A=app_coh(G_pol_A)\n",
    "D_pol_A# Prints D_pol"
   ]
  },
  {
   "cell_type": "code",
   "execution_count": 22,
   "metadata": {
    "scrolled": true
   },
   "outputs": [
    {
     "data": {
      "text/latex": [
       "$\\displaystyle 0.707106781186548 \\sqrt{\\cos{\\left(\\varphi \\right)} + 1}$"
      ],
      "text/plain": [
       "0.707106781186548*sqrt(cos(varphi) + 1)"
      ]
     },
     "execution_count": 22,
     "metadata": {},
     "output_type": "execute_result"
    }
   ],
   "source": [
    "D_par_A=app_coh(G_par_A)\n",
    "D_par_A# Prints D_par"
   ]
  },
  {
   "cell_type": "markdown",
   "metadata": {},
   "source": [
    "#### Calculation of the Correlation Function and $B_{max}$"
   ]
  },
  {
   "cell_type": "code",
   "execution_count": 23,
   "metadata": {},
   "outputs": [
    {
     "data": {
      "text/latex": [
       "$\\displaystyle 1.0 \\sin{\\left(\\theta_{a} \\right)} \\cos{\\left(\\frac{\\varphi}{2} + \\varphi_{a} \\right)} - 0.5 \\cos{\\left(\\theta_{a} \\right)} \\cos{\\left(\\varphi_{a} \\right)} + 0.5 \\cos{\\left(\\theta_{a} \\right)} \\cos{\\left(\\varphi + \\varphi_{a} \\right)}$"
      ],
      "text/plain": [
       "1.0*sin(theta_a)*cos(varphi/2 + varphi_a) - 0.5*cos(theta_a)*cos(varphi_a) + 0.5*cos(theta_a)*cos(varphi + varphi_a)"
      ]
     },
     "execution_count": 23,
     "metadata": {},
     "output_type": "execute_result"
    }
   ],
   "source": [
    "G_out_A = conjugate(A_SLM)*conjugate(A_HWP)*G_A*A_HWP.T*A_SLM.T #Transformed matrix\n",
    "C_ta_pa_A = trigsimp(corr_prob(G_out_A)/trace_G(G_out_A))\n",
    "C_ta_pa_A"
   ]
  },
  {
   "cell_type": "markdown",
   "metadata": {},
   "source": [
    "As we can see from above this does not actually match the expression provided in [[1](#ref-1)]. While this initially baffled us we came to a conclusion that this expression is infact correct as per the aim of the paper. Moreover this actually reproduces the experimental results they obtained while in contrast their correlation function fails to do it as well. Also the optimized Bmax values fit with the relation which the paper claims if our correlation function is used instead of theirs.\n",
    "The optimization procedure that we chose to go ahead with is just normal numerical optimization since otherwise we would have had to make the gradient zero and run through all possible cases where the gradient vanishes which would have been a lengthy procedure."
   ]
  },
  {
   "cell_type": "markdown",
   "metadata": {},
   "source": [
    "#### GRAPHS FOR EXPERIMENT A"
   ]
  },
  {
   "cell_type": "code",
   "execution_count": 24,
   "metadata": {},
   "outputs": [
    {
     "data": {
      "application/vnd.jupyter.widget-view+json": {
       "model_id": "df1b59bc7b7347e2a8133ebee56c41dc",
       "version_major": 2,
       "version_minor": 0
      },
      "text/plain": [
       "interactive(children=(Dropdown(description='option', options=('Show All', 'D', 'B', 'S', 'Hide All'), value='S…"
      ]
     },
     "metadata": {},
     "output_type": "display_data"
    }
   ],
   "source": [
    "def expAPlots(option):\n",
    "    num_space=102\n",
    "    phi=np.linspace(0, 2*np.pi, num_space)\n",
    "    bmax=bmaxfinder(C_ta_pa_A,phi)\n",
    "    dpol=dfinder(D_pol_A,phi)\n",
    "    dpar=dfinder(D_par_A,phi)\n",
    "    spol=sfinder(dpol,bmax)\n",
    "    spar=sfinder(dpar,bmax)\n",
    "    d=dpol\n",
    "    s=spol\n",
    "    \n",
    "    if option!='Hide All':        \n",
    "    \n",
    "        if option=='B':            \n",
    "            fig, ax = plt.subplots(figsize=(7, 7))\n",
    "            plotter(phi,bmax,r'$B_{max}$',r'$\\phi$',r'$B_{max}$',(1,0,0),r'$B_{max}$')\n",
    "            plt.plot(phi,[8**(0.5)]*num_space,color='black', linestyle ='dashed')\n",
    "            plt.plot(phi,[2]*num_space,color='black', linestyle ='dashed')\n",
    "            plt.figtext(s=r'$2\\sqrt{2}$', x=0.15, y=0.77, fontsize=15)\n",
    "            plt.figtext(s=r'$2$', x=0.15, y=0.48, fontsize=15)\n",
    "            plt.ylim(1,3)\n",
    "            plt.show()\n",
    "            \n",
    "        elif option=='S':\n",
    "            fig, ax = plt.subplots(figsize=(7, 7))\n",
    "            plotter(phi,spol,r'$S_{pol}=S_{par}=1$',r'$\\phi$',r'$S_{pol}\\ \\slash\\ S_{par}$',(1,0,0),r'$s_{pol}$')\n",
    "            plotter(phi,spar,r'$S_{pol}=S_{par}=1$',r'$\\phi$',r'$S_{pol}\\ \\slash\\ S_{par}$',(0,0,1),r'$s_{par}$')\n",
    "            plt.ylim(0,1.1) \n",
    "            plt.legend()\n",
    "            plt.show()\n",
    "            \n",
    "        elif option=='D':         \n",
    "            fig, ax = plt.subplots(figsize=(7, 7))\n",
    "            plotter(phi,dpol,r'$D_{pol}\\ and\\ D_{par}$',r'$\\phi$',r'$D_{pol}\\ \\slash\\ D_{par}$',(1,0,0),r'$d_{pol}$')\n",
    "            plotter(phi,dpar,r'$D_{pol}\\ and\\ D_{par}$',r'$\\phi$',r'$D_{pol}\\ \\slash\\ D_{par}$',(0,0,1),r'$d_{pol}$')\n",
    "            plt.ylim(0,1.1)\n",
    "            plt.legend()\n",
    "            plt.show()\n",
    "            \n",
    "        else:\n",
    "            fig, ax = plt.subplots(figsize=(7, 7))\n",
    "            plotter(phi,dpol,r'$D_{pol}\\ and\\ D_{par}$',r'$\\phi$',r'$D_{pol}\\ \\slash\\ D_{par}$',(1,0,0),r'$d_{pol}$')\n",
    "            plotter(phi,dpar,r'$D_{pol}\\ and\\ D_{par}$',r'$\\phi$',r'$D_{pol}\\ \\slash\\ D_{par}$',(0,0,1),r'$d_{pol}$')\n",
    "            plt.ylim(0,1.1)\n",
    "            plt.legend()\n",
    "            plt.show()\n",
    "            fig, ax = plt.subplots(figsize=(7, 7))\n",
    "            plotter(phi,bmax,r'$B_{max}$',r'$\\phi$',r'$B_{max}$',(1,0,0),r'$B_{max}$')\n",
    "            plt.plot(phi,[8**(0.5)]*num_space,color='black', linestyle ='dashed')\n",
    "            plt.plot(phi,[2]*num_space,color='black', linestyle ='dashed')\n",
    "            plt.figtext(s=r'$2\\sqrt{2}$', x=0.15, y=0.77, fontsize=15)\n",
    "            plt.figtext(s=r'$2$', x=0.15, y=0.48, fontsize=15)\n",
    "            plt.ylim(1,3)\n",
    "            plt.show()\n",
    "            fig, ax = plt.subplots(figsize=(7, 7))\n",
    "            plotter(phi,spol,r'$S_{pol}=S_{par}=1$',r'$\\phi$',r'$S_{pol}\\ \\slash\\ S_{par}$',(1,0,0),r'$s_{pol}$')\n",
    "            plotter(phi,spar,r'$S_{pol}=S_{par}=1$',r'$\\phi$',r'$S_{pol}\\ \\slash\\ S_{par}$',(0,0,1),r'$s_{par}$')\n",
    "            plt.ylim(0,1.1) \n",
    "            plt.legend()\n",
    "            plt.show()\n",
    "            \n",
    "            \n",
    "        plt.show()\n",
    "    \n",
    "    else:       \n",
    "        clear_output()\n",
    "    return\n",
    "\n",
    "interact(expAPlots, option=['Show All', 'D', 'B', 'S', 'Hide All']);"
   ]
  },
  {
   "cell_type": "code",
   "execution_count": 25,
   "metadata": {
    "scrolled": false
   },
   "outputs": [
    {
     "data": {
      "application/vnd.jupyter.widget-view+json": {
       "model_id": "c08b4df6b09b46b795e527a9dfe82a3d",
       "version_major": 2,
       "version_minor": 0
      },
      "text/plain": [
       "interactive(children=(FloatSlider(value=1.0471975511965976, continuous_update=False, description='phi', layout…"
      ]
     },
     "metadata": {},
     "output_type": "display_data"
    }
   ],
   "source": [
    "def expAContours(phi):\n",
    "    function=C_ta_pa_A\n",
    "    contourplotter(function,phi,r'$C(\\theta_a,\\phi_a)$',r'$\\theta_a$',r'$\\phi_a$')\n",
    "    return\n",
    "interact(expAContours, phi=widgets.FloatSlider(min=0, max=2*np.pi, step=0.02, value=np.pi/3, continuous_update=False, layout=Layout(width='600px')));"
   ]
  },
  {
   "cell_type": "markdown",
   "metadata": {},
   "source": [
    "As it can be seen in the above graphs, our degree of coherence $S$ and also $S_\\text{pol}$ and $S_\\text{par}$ stay at the value of 1 throughout and are invariant to any unitary transformation done on the system. As we vary the angle $\\phi$ we can see that the coupling is maximized at $\\phi=\\pi$ at which moment the apparent degrees of coherence go to zero since all of our original coherency is present in the form of coupling."
   ]
  },
  {
   "cell_type": "markdown",
   "metadata": {},
   "source": [
    "### 4.2 Experiment B\n",
    "Here starting with the same $\\mathbf{J}_{in}$ the polarization is scrambled using a variable polarization rotator which does not affect the spatial DoF so we have $D_\\text{pol} = 0$ and $D_\\text{par} = 1$. Now this beam is sent through a PS-SLM which would couple the DoFs. We now go on to derive the correlation function for this"
   ]
  },
  {
   "cell_type": "code",
   "execution_count": 26,
   "metadata": {
    "scrolled": false
   },
   "outputs": [
    {
     "data": {
      "text/latex": [
       "$\\displaystyle \\left[\\begin{matrix}0.5 \\cos^{2}{\\left(\\frac{\\varphi}{2} \\right)} & 0.5 i \\sin{\\left(\\frac{\\varphi}{2} \\right)} \\cos{\\left(\\frac{\\varphi}{2} \\right)} & 0 & 0\\\\- 0.5 i \\sin{\\left(\\frac{\\varphi}{2} \\right)} \\cos{\\left(\\frac{\\varphi}{2} \\right)} & 0.5 \\sin^{2}{\\left(\\frac{\\varphi}{2} \\right)} & 0 & 0\\\\0 & 0 & 0.5 & 0\\\\0 & 0 & 0 & 0\\end{matrix}\\right]$"
      ],
      "text/plain": [
       "Matrix([\n",
       "[              0.5*cos(varphi/2)**2, 0.5*I*sin(varphi/2)*cos(varphi/2),   0, 0],\n",
       "[-0.5*I*sin(varphi/2)*cos(varphi/2),              0.5*sin(varphi/2)**2,   0, 0],\n",
       "[                                 0,                                 0, 0.5, 0],\n",
       "[                                 0,                                 0,   0, 0]])"
      ]
     },
     "execution_count": 26,
     "metadata": {},
     "output_type": "execute_result"
    }
   ],
   "source": [
    "G_B = (1/2)*Matrix([[cos(p/2)**2, I*cos(p/2)*sin(p/2), 0, 0],[-I*cos(p/2)*sin(p/2), sin(p/2)**2, 0,0],\n",
    "            [0,0,1,0],[0,0,0,0]])\n",
    "G_B #The input beam G matrix before the transformations"
   ]
  },
  {
   "cell_type": "markdown",
   "metadata": {},
   "source": [
    "#### Calculation of $D_{pol}$ and $D_{par}$"
   ]
  },
  {
   "cell_type": "code",
   "execution_count": 27,
   "metadata": {},
   "outputs": [
    {
     "data": {
      "text/latex": [
       "$\\displaystyle \\left[\\begin{matrix}0.5 & 0\\\\0 & 0.5\\end{matrix}\\right]$"
      ],
      "text/plain": [
       "Matrix([\n",
       "[0.5,   0],\n",
       "[  0, 0.5]])"
      ]
     },
     "execution_count": 27,
     "metadata": {},
     "output_type": "execute_result"
    }
   ],
   "source": [
    "G_pol_B = par_tr_G_pol(G_B)\n",
    "G_pol_B"
   ]
  },
  {
   "cell_type": "code",
   "execution_count": 28,
   "metadata": {
    "scrolled": true
   },
   "outputs": [
    {
     "data": {
      "text/latex": [
       "$\\displaystyle \\left[\\begin{matrix}0.5 \\cos^{2}{\\left(\\frac{\\varphi}{2} \\right)} + 0.5 & 0.5 i \\sin{\\left(\\frac{\\varphi}{2} \\right)} \\cos{\\left(\\frac{\\varphi}{2} \\right)}\\\\- 0.5 i \\sin{\\left(\\frac{\\varphi}{2} \\right)} \\cos{\\left(\\frac{\\varphi}{2} \\right)} & 0.5 \\sin^{2}{\\left(\\frac{\\varphi}{2} \\right)}\\end{matrix}\\right]$"
      ],
      "text/plain": [
       "Matrix([\n",
       "[        0.5*cos(varphi/2)**2 + 0.5, 0.5*I*sin(varphi/2)*cos(varphi/2)],\n",
       "[-0.5*I*sin(varphi/2)*cos(varphi/2),              0.5*sin(varphi/2)**2]])"
      ]
     },
     "execution_count": 28,
     "metadata": {},
     "output_type": "execute_result"
    }
   ],
   "source": [
    "G_par_B = par_tr_G_par(G_B)\n",
    "G_par_B"
   ]
  },
  {
   "cell_type": "code",
   "execution_count": 29,
   "metadata": {
    "scrolled": true
   },
   "outputs": [
    {
     "data": {
      "text/latex": [
       "$\\displaystyle 0$"
      ],
      "text/plain": [
       "0"
      ]
     },
     "execution_count": 29,
     "metadata": {},
     "output_type": "execute_result"
    }
   ],
   "source": [
    "D_pol_B=app_coh(G_pol_B)\n",
    "D_pol_B# Prints D_pol"
   ]
  },
  {
   "cell_type": "code",
   "execution_count": 30,
   "metadata": {
    "scrolled": true
   },
   "outputs": [
    {
     "data": {
      "text/latex": [
       "$\\displaystyle 0.707106781186548 \\sqrt{\\cos{\\left(\\varphi \\right)} + 1}$"
      ],
      "text/plain": [
       "0.707106781186548*sqrt(cos(varphi) + 1)"
      ]
     },
     "execution_count": 30,
     "metadata": {},
     "output_type": "execute_result"
    }
   ],
   "source": [
    "D_par_B=app_coh(G_par_B)\n",
    "D_par_B"
   ]
  },
  {
   "cell_type": "markdown",
   "metadata": {},
   "source": [
    "#### Calculation of the Correlation Function and $B_{max}$"
   ]
  },
  {
   "cell_type": "code",
   "execution_count": 31,
   "metadata": {},
   "outputs": [
    {
     "data": {
      "text/latex": [
       "$\\displaystyle 0.5 \\left(- \\cos{\\left(\\varphi_{a} \\right)} + \\cos{\\left(\\varphi + \\varphi_{a} \\right)}\\right) \\cos{\\left(\\theta_{a} \\right)}$"
      ],
      "text/plain": [
       "0.5*(-cos(varphi_a) + cos(varphi + varphi_a))*cos(theta_a)"
      ]
     },
     "execution_count": 31,
     "metadata": {},
     "output_type": "execute_result"
    }
   ],
   "source": [
    "G_out_B = conjugate(A_SLM)*conjugate(A_HWP)*G_B*A_HWP.T*A_SLM.T #Transformed matrix\n",
    "C_ta_pa_B = trigsimp(corr_prob(G_out_B)/trace_G(G_out_B))\n",
    "C_ta_pa_B"
   ]
  },
  {
   "cell_type": "markdown",
   "metadata": {},
   "source": [
    "We have now seen that our expression for the correlation function matches the exact one obtained in the reference \\[topic2\\]. We now go ahead to optimize our expression for B and obtain the other plots below. On a sidenote one can actually traditionally find the maxima for the $B$ expression here since it is simpler to look at. The condition where it is maximized is when $\\phi_a=\\phi_b=(\\pi-\\phi)/2$ and $\\theta_a = \\theta_b = 0$ or $\\pi$ which can be verified by looking at the gradient."
   ]
  },
  {
   "cell_type": "markdown",
   "metadata": {},
   "source": [
    "#### GRAPHS FOR EXPERIMENT B"
   ]
  },
  {
   "cell_type": "code",
   "execution_count": 32,
   "metadata": {
    "scrolled": false
   },
   "outputs": [
    {
     "data": {
      "application/vnd.jupyter.widget-view+json": {
       "model_id": "b887cb717a8e4c18a7f8339f8527cd00",
       "version_major": 2,
       "version_minor": 0
      },
      "text/plain": [
       "interactive(children=(Dropdown(description='option', options=('Show All', 'D', 'B', 'S', 'Hide All'), value='S…"
      ]
     },
     "metadata": {},
     "output_type": "display_data"
    }
   ],
   "source": [
    "def expBPlots(option):\n",
    "    num_space=102\n",
    "    phi=np.linspace(0, 2*np.pi, num_space)\n",
    "    bmax=bmaxfinder(C_ta_pa_B,phi)\n",
    "    dpol=dfinder(D_pol_B,phi)\n",
    "    dpar=dfinder(D_par_B,phi)\n",
    "    spol=sfinder(dpol,bmax)\n",
    "    spar=sfinder(dpar,bmax)\n",
    "    \n",
    "    if option!='Hide All':        \n",
    "    \n",
    "        if option=='B':            \n",
    "            fig, ax = plt.subplots(figsize=(7, 7))\n",
    "            plotter(phi,bmax,r'$B_{max}$',r'$\\phi$',r'$B_{max}$',(1,0,0),r'$B_{max}$')\n",
    "            plt.plot(phi,[2]*num_space,color='black', linestyle ='dashed')\n",
    "            plt.ylim(0,2.5)\n",
    "            plt.show()\n",
    "            \n",
    "        elif option=='S':\n",
    "            fig, ax = plt.subplots(figsize=(7, 7))\n",
    "            plotter(phi,spol,r'$S_{pol}=S_{par}=1$',r'$\\phi$',r'$S_{pol}\\ \\slash\\ S_{par}$',(1,0,0),r'$s_{pol}$')\n",
    "            plotter(phi,spar,r'$S_{pol}=S_{par}=1$',r'$\\phi$',r'$S_{pol}\\ \\slash\\ S_{par}$',(0,0,1),r'$s_{par}$')\n",
    "            plt.ylim(0,1.1) \n",
    "            plt.legend()\n",
    "            plt.show()\n",
    "            \n",
    "        elif option=='D':         \n",
    "            fig, ax = plt.subplots(figsize=(7, 7))\n",
    "            plotter(phi,dpol,r'$D_{pol}\\ and\\ D_{par}$',r'$\\phi$',r'$D_{pol}\\ \\slash\\ D_{par}$',(1,0,0),r'$d_{pol}$')\n",
    "            plotter(phi,dpar,r'$D_{pol}\\ and\\ D_{par}$',r'$\\phi$',r'$D_{pol}\\ \\slash\\ D_{par}$',(0,0,1),r'$d_{pol}$')\n",
    "            plt.ylim(-0.1,1.1)\n",
    "            plt.legend()\n",
    "            plt.show()\n",
    "            \n",
    "        else:\n",
    "            fig, ax = plt.subplots(figsize=(7, 7))\n",
    "            plotter(phi,dpol,r'$D_{pol}\\ and\\ D_{par}$',r'$\\phi$',r'$D_{pol}\\ \\slash\\ D_{par}$',(1,0,0),r'$d_{pol}$')\n",
    "            plotter(phi,dpar,r'$D_{pol}\\ and\\ D_{par}$',r'$\\phi$',r'$D_{pol}\\ \\slash\\ D_{par}$',(0,0,1),r'$d_{pol}$')\n",
    "            plt.ylim(-0.1,1.1)\n",
    "            plt.legend()\n",
    "            plt.show()\n",
    "            fig, ax = plt.subplots(figsize=(7, 7))\n",
    "            plotter(phi,bmax,r'$B_{max}$',r'$\\phi$',r'$B_{max}$',(1,0,0),r'$B_{max}$')\n",
    "            plt.plot(phi,[2]*num_space,color='black', linestyle ='dashed')\n",
    "            plt.ylim(0,2.5)\n",
    "            plt.show()\n",
    "            fig, ax = plt.subplots(figsize=(7, 7))\n",
    "            plotter(phi,spol,r'$S_{pol}=S_{par}=1$',r'$\\phi$',r'$S_{pol}\\ \\slash\\ S_{par}$',(1,0,0),r'$s_{pol}$')\n",
    "            plotter(phi,spar,r'$S_{pol}=S_{par}=1$',r'$\\phi$',r'$S_{pol}\\ \\slash\\ S_{par}$',(0,0,1),r'$s_{par}$')\n",
    "            plt.ylim(0,1.1) \n",
    "            plt.legend()\n",
    "            plt.show()\n",
    "            \n",
    "            \n",
    "        plt.show()\n",
    "    \n",
    "    else:       \n",
    "        clear_output()\n",
    "    return\n",
    "\n",
    "interact(expBPlots, option=['Show All', 'D', 'B', 'S', 'Hide All']);"
   ]
  },
  {
   "cell_type": "code",
   "execution_count": 33,
   "metadata": {
    "scrolled": false
   },
   "outputs": [
    {
     "data": {
      "application/vnd.jupyter.widget-view+json": {
       "model_id": "211dd6e6722f488288dbd7b0cf4967a9",
       "version_major": 2,
       "version_minor": 0
      },
      "text/plain": [
       "interactive(children=(FloatSlider(value=1.0471975511965976, continuous_update=False, description='phi', layout…"
      ]
     },
     "metadata": {},
     "output_type": "display_data"
    }
   ],
   "source": [
    "def expBContours(phi):\n",
    "    function=C_ta_pa_B\n",
    "    contourplotter(function,phi,r'$C(\\theta_a,\\phi_a)$',r'$\\theta_a$',r'$\\phi_a$')\n",
    "    return\n",
    "interact(expBContours, phi=widgets.FloatSlider(min=0, max=2*np.pi, step=0.02, value=np.pi/3, continuous_update=False, layout=Layout(width='600px')));"
   ]
  },
  {
   "cell_type": "markdown",
   "metadata": {},
   "source": [
    "### 4.3 Experiment C\n",
    "In this experiment we again start with the same $\\mathbf{J}_{in}$ and an interaction is considered that makes it have a random coupling. It has a probability $P$ to couple polarization and parity and $1-P$ to not achieved by randomly toggling between two phase distributions of the PS-SLM, one with $\\pi/2\\text{sgn}(x)$ phase and another with zero phase where $P$ is the fraction of time that the PS-SLM displays the first phase pattern. From this we go on to derive it's correlation function."
   ]
  },
  {
   "cell_type": "code",
   "execution_count": 34,
   "metadata": {},
   "outputs": [
    {
     "data": {
      "text/latex": [
       "$\\displaystyle \\left[\\begin{matrix}\\frac{1}{2} - \\frac{P}{2} & 0 & \\frac{1}{2} - \\frac{P}{2} & 0\\\\0 & \\frac{P}{2} & - \\frac{i P}{2} & 0\\\\\\frac{1}{2} - \\frac{P}{2} & \\frac{i P}{2} & \\frac{1}{2} & 0\\\\0 & 0 & 0 & 0\\end{matrix}\\right]$"
      ],
      "text/plain": [
       "Matrix([\n",
       "[1/2 - P/2,     0, 1/2 - P/2, 0],\n",
       "[        0,   P/2,    -I*P/2, 0],\n",
       "[1/2 - P/2, I*P/2,       1/2, 0],\n",
       "[        0,     0,         0, 0]])"
      ]
     },
     "execution_count": 34,
     "metadata": {},
     "output_type": "execute_result"
    }
   ],
   "source": [
    "J_ent = (1/sqrt(2))*Matrix([0, I, 1, 0])#Entagled state\n",
    "J_in = (1/sqrt(2))*Matrix([1, 0, 1, 0])#Input state\n",
    "G_C = P*conjugate(J_ent)*J_ent.T + (1-P)*conjugate(J_in)*J_in.T\n",
    "G_C"
   ]
  },
  {
   "cell_type": "markdown",
   "metadata": {},
   "source": [
    "#### Calculation of $D_{pol}$ and $D_{par}$"
   ]
  },
  {
   "cell_type": "code",
   "execution_count": 35,
   "metadata": {},
   "outputs": [
    {
     "data": {
      "text/latex": [
       "$\\displaystyle \\left[\\begin{matrix}\\frac{1}{2} & \\frac{1}{2} - \\frac{P}{2}\\\\\\frac{1}{2} - \\frac{P}{2} & \\frac{1}{2}\\end{matrix}\\right]$"
      ],
      "text/plain": [
       "Matrix([\n",
       "[      1/2, 1/2 - P/2],\n",
       "[1/2 - P/2,       1/2]])"
      ]
     },
     "execution_count": 35,
     "metadata": {},
     "output_type": "execute_result"
    }
   ],
   "source": [
    "G_pol_C = par_tr_G_pol(G_C)\n",
    "G_pol_C"
   ]
  },
  {
   "cell_type": "code",
   "execution_count": 36,
   "metadata": {
    "scrolled": true
   },
   "outputs": [
    {
     "data": {
      "text/latex": [
       "$\\displaystyle \\left[\\begin{matrix}1 - \\frac{P}{2} & 0\\\\0 & \\frac{P}{2}\\end{matrix}\\right]$"
      ],
      "text/plain": [
       "Matrix([\n",
       "[1 - P/2,   0],\n",
       "[      0, P/2]])"
      ]
     },
     "execution_count": 36,
     "metadata": {},
     "output_type": "execute_result"
    }
   ],
   "source": [
    "G_par_C = par_tr_G_par(G_C)\n",
    "G_par_C"
   ]
  },
  {
   "cell_type": "code",
   "execution_count": 37,
   "metadata": {
    "scrolled": true
   },
   "outputs": [
    {
     "data": {
      "text/latex": [
       "$\\displaystyle \\left|{P - 1}\\right|$"
      ],
      "text/plain": [
       "Abs(P - 1)"
      ]
     },
     "execution_count": 37,
     "metadata": {},
     "output_type": "execute_result"
    }
   ],
   "source": [
    "D_pol_C=app_coh(G_pol_C)\n",
    "simplify(D_pol_C)# Prints D_pol"
   ]
  },
  {
   "cell_type": "code",
   "execution_count": 38,
   "metadata": {
    "scrolled": true
   },
   "outputs": [
    {
     "data": {
      "text/latex": [
       "$\\displaystyle \\sqrt{- P \\left(2 - P\\right) + 1}$"
      ],
      "text/plain": [
       "sqrt(-P*(2 - P) + 1)"
      ]
     },
     "execution_count": 38,
     "metadata": {},
     "output_type": "execute_result"
    }
   ],
   "source": [
    "D_par_C=app_coh(G_par_C)\n",
    "D_par_C"
   ]
  },
  {
   "cell_type": "markdown",
   "metadata": {},
   "source": [
    "#### Calculation of the Correlation Function and $B_{max}$"
   ]
  },
  {
   "cell_type": "code",
   "execution_count": 39,
   "metadata": {},
   "outputs": [
    {
     "data": {
      "text/latex": [
       "$\\displaystyle - \\sqrt{2} P \\sin{\\left(\\theta_{a} \\right)} \\sin{\\left(\\varphi_{a} + \\frac{\\pi}{4} \\right)} - P \\cos{\\left(\\theta_{a} \\right)} \\cos{\\left(\\varphi_{a} \\right)} + \\sin{\\left(\\theta_{a} \\right)} \\cos{\\left(\\varphi_{a} \\right)}$"
      ],
      "text/plain": [
       "-sqrt(2)*P*sin(theta_a)*sin(varphi_a + pi/4) - P*cos(theta_a)*cos(varphi_a) + sin(theta_a)*cos(varphi_a)"
      ]
     },
     "execution_count": 39,
     "metadata": {},
     "output_type": "execute_result"
    }
   ],
   "source": [
    "G_out_C = conjugate(A_SLM)*conjugate(A_HWP)*G_C*A_HWP.T*A_SLM.T #Transformed matrix\n",
    "C_ta_pa_C = trigsimp(corr_prob(G_out_C)/trace_G(G_out_C))\n",
    "C_ta_pa_C"
   ]
  },
  {
   "cell_type": "code",
   "execution_count": 40,
   "metadata": {},
   "outputs": [
    {
     "data": {
      "text/latex": [
       "$\\displaystyle 0$"
      ],
      "text/plain": [
       "0"
      ]
     },
     "execution_count": 40,
     "metadata": {},
     "output_type": "execute_result"
    }
   ],
   "source": [
    "simplify(C_ta_pa_C - ((1-P)*sin(ta)*cos(pa) - P*cos(ta-pa)))"
   ]
  },
  {
   "cell_type": "markdown",
   "metadata": {},
   "source": [
    "As we have shown in the cell above the correlation function we have derived matches exactly with the function that the paper provides. We again use numerical methods to maximize this function since optimizing by minimization of gradient would take considerably long to do. Our results shown below match up consistently with those shown in [[1](#ref-1)]."
   ]
  },
  {
   "cell_type": "markdown",
   "metadata": {},
   "source": [
    "#### GRAPHS FOR EXPERIMENT C"
   ]
  },
  {
   "cell_type": "code",
   "execution_count": 41,
   "metadata": {
    "scrolled": false
   },
   "outputs": [
    {
     "data": {
      "application/vnd.jupyter.widget-view+json": {
       "model_id": "fa383d350f284e868ec6b3c416a7e2bf",
       "version_major": 2,
       "version_minor": 0
      },
      "text/plain": [
       "interactive(children=(Dropdown(description='option', options=('Show All', 'D', 'B', 'S', 'Hide All'), value='S…"
      ]
     },
     "metadata": {},
     "output_type": "display_data"
    }
   ],
   "source": [
    "def expCPlots(option):\n",
    "    num_space=102\n",
    "    P=np.linspace(0, 1, num_space)\n",
    "    bmax=bmaxfinderC(C_ta_pa_C,P)\n",
    "    dpol=dfinderC(D_pol_C,P)\n",
    "    dpar=dfinderC(D_par_C,P)\n",
    "    spol=sfinder(dpol,bmax)\n",
    "    spar=sfinder(dpar,bmax)\n",
    "    \n",
    "    if option!='Hide All':        \n",
    "    \n",
    "        if option=='B':            \n",
    "            fig, ax = plt.subplots(figsize=(7, 7))\n",
    "            plotterC(P,bmax,r'$B_{max}$',r'$\\phi$',r'$B_{max}$',(1,0,0),r'$B_{max}$')\n",
    "            plt.plot(P,[2]*num_space,color='black', linestyle ='dashed')\n",
    "            plt.ylim(1,3)\n",
    "            plt.show()\n",
    "            \n",
    "        elif option=='S':\n",
    "            fig, ax = plt.subplots(figsize=(7, 7))\n",
    "            plotterC(P,spol,r'$S_{pol}=S_{par}=1$',r'$\\phi$',r'$S_{pol}\\ \\slash\\ S_{par}$',(1,0,0),r'$s_{pol}$')\n",
    "            plotterC(P,spar,r'$S_{pol}=S_{par}=1$',r'$\\phi$',r'$S_{pol}\\ \\slash\\ S_{par}$',(0,0,1),r'$s_{par}$')\n",
    "            plt.ylim(0,1.1) \n",
    "            plt.legend()\n",
    "            plt.show()\n",
    "            \n",
    "        elif option=='D':         \n",
    "            fig, ax = plt.subplots(figsize=(7, 7))\n",
    "            plotterC(P,dpol,r'$D_{pol}\\ and\\ D_{par}$',r'$\\phi$',r'$D_{pol}\\ \\slash\\ D_{par}$',(1,0,0),r'$d_{pol}$')\n",
    "            plotterC(P,dpar,r'$D_{pol}\\ and\\ D_{par}$',r'$\\phi$',r'$D_{pol}\\ \\slash\\ D_{par}$',(0,0,1),r'$d_{pol}$')\n",
    "            plt.ylim(-0.1,1.1)\n",
    "            plt.legend()\n",
    "            plt.show()\n",
    "            \n",
    "        else:\n",
    "            fig, ax = plt.subplots(figsize=(7, 7))\n",
    "            plotterC(P,dpol,r'$D_{pol}\\ and\\ D_{par}$',r'$\\phi$',r'$D_{pol}\\ \\slash\\ D_{par}$',(1,0,0),r'$d_{pol}$')\n",
    "            plotterC(P,dpar,r'$D_{pol}\\ and\\ D_{par}$',r'$\\phi$',r'$D_{pol}\\ \\slash\\ D_{par}$',(0,0,1),r'$d_{pol}$')\n",
    "            plt.ylim(-0.1,1.1)\n",
    "            plt.legend()\n",
    "            plt.show()\n",
    "            fig, ax = plt.subplots(figsize=(7, 7))\n",
    "            plotterC(P,bmax,r'$B_{max}$',r'$\\phi$',r'$B_{max}$',(1,0,0),r'$B_{max}$')\n",
    "            plt.plot(P,[2]*num_space,color='black', linestyle ='dashed')\n",
    "            plt.ylim(1,3)\n",
    "            plt.show()\n",
    "            fig, ax = plt.subplots(figsize=(7, 7))\n",
    "            plotterC(P,spol,r'$S_{pol}=S_{par}=1$',r'$\\phi$',r'$S_{pol}\\ \\slash\\ S_{par}$',(1,0,0),r'$s_{pol}$')\n",
    "            plotterC(P,spar,r'$S_{pol}=S_{par}=1$',r'$\\phi$',r'$S_{pol}\\ \\slash\\ S_{par}$',(0,0,1),r'$s_{par}$')\n",
    "            plt.ylim(0,1.1) \n",
    "            plt.legend()\n",
    "            plt.show()\n",
    "            \n",
    "            \n",
    "        plt.show()\n",
    "    \n",
    "    else:       \n",
    "        clear_output()\n",
    "    return\n",
    "\n",
    "interact(expCPlots, option=['Show All', 'D', 'B', 'S', 'Hide All']);"
   ]
  },
  {
   "cell_type": "code",
   "execution_count": 42,
   "metadata": {
    "scrolled": false
   },
   "outputs": [
    {
     "data": {
      "application/vnd.jupyter.widget-view+json": {
       "model_id": "ba7662914edb4aa0b2a142cc0cdaed62",
       "version_major": 2,
       "version_minor": 0
      },
      "text/plain": [
       "interactive(children=(FloatSlider(value=0.3333333333333333, continuous_update=False, description='P', layout=L…"
      ]
     },
     "metadata": {},
     "output_type": "display_data"
    }
   ],
   "source": [
    "def expCContours(P):\n",
    "    function=C_ta_pa_C\n",
    "    contourplotterC(function,P,r'$C(\\theta_a,\\phi_a)$',r'$\\theta_a$',r'$\\phi_a$')\n",
    "    return\n",
    "interact(expCContours, P=widgets.FloatSlider(min=0, max=1, step=0.01, value=1/3, continuous_update=False, layout=Layout(width='600px')));"
   ]
  },
  {
   "cell_type": "markdown",
   "metadata": {},
   "source": [
    "## 5. Reduced representation of the two Binary DoFs\n",
    "We can represent any arbitrary partially coherent beam by the three invariants $S$, $S_{pol}$, $S_{par}$. Every point in the volume generated represents different beams which can be related via unitary transformations that do not couple the two DoFs, since these ensure that $S$, $S_{pol}$, $S_{par}$ remain invariant. Points with the same $S$ comprise of a plane. All the points in this plane are related via unitary transformations which couple the two DoFs, since these would ensure $S$ remains the same but $S_{pol}$ and $S_{par}$ do not.\n",
    "A beam with higher $S$, by the definition of the measure, has higher coherency. \n",
    "\n",
    "The figure offers us two insights into how $S$, $S_{pol}$, $S_{par}$ for a beam might be related.<br>\n",
    "Firstly, beams with the same value of $S$ do not take arbitrary values of $S_{pol}$ and $S_{par}$. For a given value of $S$ for a beam, the figure uniquely gives us a concave-sided triangular area within which the values of $S_{pol}$ and $S_{par}$ must be contained for a partially coherent beam.<br>\n",
    "Secondly, for given values of $S_{pol}$ and $S_{par}$ for a partially coherent beam, we can predict the overall degree of coherence of the beam $S$ by drawing a line segment parallel to the $S$ axis contained within the figure, which gives us a narrow range within which $S$ must be for the beam. The paper suggests that the uncertainty in determining $S$ using this method is $\\sim6\\%$ on average.\n",
    "\n",
    "The overall purpose of generating the figure was to show that we cannot have all combinations of $S$, $S_{pol}$, $S_{par}$ inside the unit cube in the first octant but only the ones which satisfy Bell's Inequality, which results in the obtained figure.\n",
    "\n",
    "In our attempt to generate the figure, we have essentially constructed a Monte-Carlo simulation with $10^5$ points based on the discussion in [[8](#ref-8)].<br>\n",
    "Since eigenvalues of G have to be real, positive and their sum must be 1, we first generate a diagonal matrix $D$ of the eigenvalues with the contraints applied. Now, to obtain a random G, we must first obtain a random unitary matrix $U$ and apply the following transformation on the diagonal matrix $D$.<br>\n",
    "<center>$G=UDU^{\\dagger}$</center>\n",
    "We obtain $U$ by first generating a random matrix and then QR factorizing it. Since Q is unitary, we have in essence found a random unitary matrix. The above set of operations is implemented in the function <code>randG()</code>.<br>\n",
    "\n",
    "After this, we proceed to define the function  <code>C_ta_pa()</code> which calculates the correlation function for a given matrix $G$ with the parameters $t_{1} (\\theta_{a})$ and $p_{1} (\\phi_{a})$. The Bell Measure is calculated by the function  <code>B()</code> by making calls to the function <code>C_ta_pa()</code>.<br>\n",
    "Now, the calculation of the value $S$ is straightforward from the matrix $G$ and that of $D_{pol}$ and $D_{par}$ is also relatively straightforward once the matrices $G_{pol}$ and $G_{par}$ have been constructed. But, for the calculation of $S_{pol}$ and $S_{par}$, we need to determine the value $B_{max}$ first. Since there was no way the optimization of $10^5$ matrices could've been tensorized, we calculate this in loop for all the G matrices and that is what constitutes the bulk of the running time of the program. We implement this in the function  <code>genS()</code> below."
   ]
  },
  {
   "cell_type": "code",
   "execution_count": 69,
   "metadata": {},
   "outputs": [],
   "source": [
    "def randG(i):\n",
    "    G=np.zeros([4,4])\n",
    "    a = np.random.dirichlet(np.ones(4)*(100**i),size=1)\n",
    "    for i in range(4):\n",
    "        G[i,i] = a[0,i]\n",
    "    U,_=np.linalg.qr(np.random.rand(4,4)+1j*np.random.rand(4,4))\n",
    "    G=(np.conjugate(U)@G@np.transpose(U)).round(4)\n",
    "    return G"
   ]
  },
  {
   "cell_type": "code",
   "execution_count": 70,
   "metadata": {},
   "outputs": [],
   "source": [
    "def C_ta_pa(G,t1,p1):\n",
    "    a_hwp_1 = [[-np.cos(t1/2),0,-np.sin(t1/2),0],[0,-np.cos(t1/2),0,-np.sin(t1/2)],[-np.sin(t1/2),0,np.cos(t1/2),0],[0,-np.sin(t1/2),0,np.cos(t1/2)]]\n",
    "    a_slm_1 = [[np.cos(p1/2),1j*np.sin(p1/2),0,0],[1j*np.sin(p1/2),np.cos(p1/2),0,0],[0,0,np.cos(p1/2),1j*np.sin(p1/2)],[0,0,1j*np.sin(p1/2),np.cos(p1/2)]]\n",
    "    G_out=np.conjugate(a_slm_1)@np.conjugate(a_hwp_1)@G@np.transpose(a_hwp_1)@np.transpose(a_slm_1)\n",
    "    return np.real((G_out[0,0]-G_out[1,1]-G_out[2,2]+G_out[3,3])/(np.trace(G))).round(8)"
   ]
  },
  {
   "cell_type": "code",
   "execution_count": 71,
   "metadata": {},
   "outputs": [],
   "source": [
    "def B(G,t1,t2,p1,p2):\n",
    "    return abs(C_ta_pa(G,t1,p1)+C_ta_pa(G,t1,p2)+C_ta_pa(G,t2,p1)-C_ta_pa(G,t2,p2))"
   ]
  },
  {
   "cell_type": "code",
   "execution_count": 79,
   "metadata": {},
   "outputs": [],
   "source": [
    "def genS(G):\n",
    "    G_pol = [[G[0,0]+G[1,1],G[0,2]+G[1,3]],[G[2,0]+G[3,1],G[2,2]+G[3,3]]]\n",
    "    G_par = [[G[0,0]+G[2,2],G[0,1]+G[2,3]],[G[1,0]+G[3,2],G[1,1]+G[3,3]]]\n",
    "    \n",
    "    D_pol=sqrt(1-4*(np.linalg.det(G_pol))/((np.trace(G_pol))**2))\n",
    "    D_par=sqrt(1-4*(np.linalg.det(G_par))/((np.trace(G_par))**2))\n",
    "    \n",
    "    bmax=-1*(sc.optimize.minimize(lambda params: -1*abs(B(G,params[0],params[1],params[2],params[3])),np.random.rand(4), method = 'Nelder-Mead').fun)\n",
    "    spol=round(np.real(complex(D_pol**2/2+bmax**2/8)),8)\n",
    "    spar=round(np.real(complex(D_par**2/2+bmax**2/8)),8)\n",
    "    s=round(np.real((4/3)*(np.trace(G@G)-(1/4))),8)\n",
    "    return spol,spar,s"
   ]
  },
  {
   "cell_type": "code",
   "execution_count": 80,
   "metadata": {},
   "outputs": [],
   "source": [
    "n=5000\n",
    "x=np.zeros(n)\n",
    "y=np.zeros(n)\n",
    "z=np.zeros(n)\n",
    "for i in range(n):\n",
    "    #print(i)\n",
    "    x[i],y[i],z[i]=genS(randG(i%3 - 1))\n",
    "rows = zip(x,y,z)"
   ]
  },
  {
   "cell_type": "code",
   "execution_count": 81,
   "metadata": {},
   "outputs": [
    {
     "data": {
      "application/javascript": [
       "/* Put everything inside the global mpl namespace */\n",
       "/* global mpl */\n",
       "window.mpl = {};\n",
       "\n",
       "mpl.get_websocket_type = function () {\n",
       "    if (typeof WebSocket !== 'undefined') {\n",
       "        return WebSocket;\n",
       "    } else if (typeof MozWebSocket !== 'undefined') {\n",
       "        return MozWebSocket;\n",
       "    } else {\n",
       "        alert(\n",
       "            'Your browser does not have WebSocket support. ' +\n",
       "                'Please try Chrome, Safari or Firefox ≥ 6. ' +\n",
       "                'Firefox 4 and 5 are also supported but you ' +\n",
       "                'have to enable WebSockets in about:config.'\n",
       "        );\n",
       "    }\n",
       "};\n",
       "\n",
       "mpl.figure = function (figure_id, websocket, ondownload, parent_element) {\n",
       "    this.id = figure_id;\n",
       "\n",
       "    this.ws = websocket;\n",
       "\n",
       "    this.supports_binary = this.ws.binaryType !== undefined;\n",
       "\n",
       "    if (!this.supports_binary) {\n",
       "        var warnings = document.getElementById('mpl-warnings');\n",
       "        if (warnings) {\n",
       "            warnings.style.display = 'block';\n",
       "            warnings.textContent =\n",
       "                'This browser does not support binary websocket messages. ' +\n",
       "                'Performance may be slow.';\n",
       "        }\n",
       "    }\n",
       "\n",
       "    this.imageObj = new Image();\n",
       "\n",
       "    this.context = undefined;\n",
       "    this.message = undefined;\n",
       "    this.canvas = undefined;\n",
       "    this.rubberband_canvas = undefined;\n",
       "    this.rubberband_context = undefined;\n",
       "    this.format_dropdown = undefined;\n",
       "\n",
       "    this.image_mode = 'full';\n",
       "\n",
       "    this.root = document.createElement('div');\n",
       "    this.root.setAttribute('style', 'display: inline-block');\n",
       "    this._root_extra_style(this.root);\n",
       "\n",
       "    parent_element.appendChild(this.root);\n",
       "\n",
       "    this._init_header(this);\n",
       "    this._init_canvas(this);\n",
       "    this._init_toolbar(this);\n",
       "\n",
       "    var fig = this;\n",
       "\n",
       "    this.waiting = false;\n",
       "\n",
       "    this.ws.onopen = function () {\n",
       "        fig.send_message('supports_binary', { value: fig.supports_binary });\n",
       "        fig.send_message('send_image_mode', {});\n",
       "        if (fig.ratio !== 1) {\n",
       "            fig.send_message('set_dpi_ratio', { dpi_ratio: fig.ratio });\n",
       "        }\n",
       "        fig.send_message('refresh', {});\n",
       "    };\n",
       "\n",
       "    this.imageObj.onload = function () {\n",
       "        if (fig.image_mode === 'full') {\n",
       "            // Full images could contain transparency (where diff images\n",
       "            // almost always do), so we need to clear the canvas so that\n",
       "            // there is no ghosting.\n",
       "            fig.context.clearRect(0, 0, fig.canvas.width, fig.canvas.height);\n",
       "        }\n",
       "        fig.context.drawImage(fig.imageObj, 0, 0);\n",
       "    };\n",
       "\n",
       "    this.imageObj.onunload = function () {\n",
       "        fig.ws.close();\n",
       "    };\n",
       "\n",
       "    this.ws.onmessage = this._make_on_message_function(this);\n",
       "\n",
       "    this.ondownload = ondownload;\n",
       "};\n",
       "\n",
       "mpl.figure.prototype._init_header = function () {\n",
       "    var titlebar = document.createElement('div');\n",
       "    titlebar.classList =\n",
       "        'ui-dialog-titlebar ui-widget-header ui-corner-all ui-helper-clearfix';\n",
       "    var titletext = document.createElement('div');\n",
       "    titletext.classList = 'ui-dialog-title';\n",
       "    titletext.setAttribute(\n",
       "        'style',\n",
       "        'width: 100%; text-align: center; padding: 3px;'\n",
       "    );\n",
       "    titlebar.appendChild(titletext);\n",
       "    this.root.appendChild(titlebar);\n",
       "    this.header = titletext;\n",
       "};\n",
       "\n",
       "mpl.figure.prototype._canvas_extra_style = function (_canvas_div) {};\n",
       "\n",
       "mpl.figure.prototype._root_extra_style = function (_canvas_div) {};\n",
       "\n",
       "mpl.figure.prototype._init_canvas = function () {\n",
       "    var fig = this;\n",
       "\n",
       "    var canvas_div = (this.canvas_div = document.createElement('div'));\n",
       "    canvas_div.setAttribute(\n",
       "        'style',\n",
       "        'border: 1px solid #ddd;' +\n",
       "            'box-sizing: content-box;' +\n",
       "            'clear: both;' +\n",
       "            'min-height: 1px;' +\n",
       "            'min-width: 1px;' +\n",
       "            'outline: 0;' +\n",
       "            'overflow: hidden;' +\n",
       "            'position: relative;' +\n",
       "            'resize: both;'\n",
       "    );\n",
       "\n",
       "    function on_keyboard_event_closure(name) {\n",
       "        return function (event) {\n",
       "            return fig.key_event(event, name);\n",
       "        };\n",
       "    }\n",
       "\n",
       "    canvas_div.addEventListener(\n",
       "        'keydown',\n",
       "        on_keyboard_event_closure('key_press')\n",
       "    );\n",
       "    canvas_div.addEventListener(\n",
       "        'keyup',\n",
       "        on_keyboard_event_closure('key_release')\n",
       "    );\n",
       "\n",
       "    this._canvas_extra_style(canvas_div);\n",
       "    this.root.appendChild(canvas_div);\n",
       "\n",
       "    var canvas = (this.canvas = document.createElement('canvas'));\n",
       "    canvas.classList.add('mpl-canvas');\n",
       "    canvas.setAttribute('style', 'box-sizing: content-box;');\n",
       "\n",
       "    this.context = canvas.getContext('2d');\n",
       "\n",
       "    var backingStore =\n",
       "        this.context.backingStorePixelRatio ||\n",
       "        this.context.webkitBackingStorePixelRatio ||\n",
       "        this.context.mozBackingStorePixelRatio ||\n",
       "        this.context.msBackingStorePixelRatio ||\n",
       "        this.context.oBackingStorePixelRatio ||\n",
       "        this.context.backingStorePixelRatio ||\n",
       "        1;\n",
       "\n",
       "    this.ratio = (window.devicePixelRatio || 1) / backingStore;\n",
       "\n",
       "    var rubberband_canvas = (this.rubberband_canvas = document.createElement(\n",
       "        'canvas'\n",
       "    ));\n",
       "    rubberband_canvas.setAttribute(\n",
       "        'style',\n",
       "        'box-sizing: content-box; position: absolute; left: 0; top: 0; z-index: 1;'\n",
       "    );\n",
       "\n",
       "    // Apply a ponyfill if ResizeObserver is not implemented by browser.\n",
       "    if (this.ResizeObserver === undefined) {\n",
       "        if (window.ResizeObserver !== undefined) {\n",
       "            this.ResizeObserver = window.ResizeObserver;\n",
       "        } else {\n",
       "            var obs = _JSXTOOLS_RESIZE_OBSERVER({});\n",
       "            this.ResizeObserver = obs.ResizeObserver;\n",
       "        }\n",
       "    }\n",
       "\n",
       "    this.resizeObserverInstance = new this.ResizeObserver(function (entries) {\n",
       "        var nentries = entries.length;\n",
       "        for (var i = 0; i < nentries; i++) {\n",
       "            var entry = entries[i];\n",
       "            var width, height;\n",
       "            if (entry.contentBoxSize) {\n",
       "                if (entry.contentBoxSize instanceof Array) {\n",
       "                    // Chrome 84 implements new version of spec.\n",
       "                    width = entry.contentBoxSize[0].inlineSize;\n",
       "                    height = entry.contentBoxSize[0].blockSize;\n",
       "                } else {\n",
       "                    // Firefox implements old version of spec.\n",
       "                    width = entry.contentBoxSize.inlineSize;\n",
       "                    height = entry.contentBoxSize.blockSize;\n",
       "                }\n",
       "            } else {\n",
       "                // Chrome <84 implements even older version of spec.\n",
       "                width = entry.contentRect.width;\n",
       "                height = entry.contentRect.height;\n",
       "            }\n",
       "\n",
       "            // Keep the size of the canvas and rubber band canvas in sync with\n",
       "            // the canvas container.\n",
       "            if (entry.devicePixelContentBoxSize) {\n",
       "                // Chrome 84 implements new version of spec.\n",
       "                canvas.setAttribute(\n",
       "                    'width',\n",
       "                    entry.devicePixelContentBoxSize[0].inlineSize\n",
       "                );\n",
       "                canvas.setAttribute(\n",
       "                    'height',\n",
       "                    entry.devicePixelContentBoxSize[0].blockSize\n",
       "                );\n",
       "            } else {\n",
       "                canvas.setAttribute('width', width * fig.ratio);\n",
       "                canvas.setAttribute('height', height * fig.ratio);\n",
       "            }\n",
       "            canvas.setAttribute(\n",
       "                'style',\n",
       "                'width: ' + width + 'px; height: ' + height + 'px;'\n",
       "            );\n",
       "\n",
       "            rubberband_canvas.setAttribute('width', width);\n",
       "            rubberband_canvas.setAttribute('height', height);\n",
       "\n",
       "            // And update the size in Python. We ignore the initial 0/0 size\n",
       "            // that occurs as the element is placed into the DOM, which should\n",
       "            // otherwise not happen due to the minimum size styling.\n",
       "            if (fig.ws.readyState == 1 && width != 0 && height != 0) {\n",
       "                fig.request_resize(width, height);\n",
       "            }\n",
       "        }\n",
       "    });\n",
       "    this.resizeObserverInstance.observe(canvas_div);\n",
       "\n",
       "    function on_mouse_event_closure(name) {\n",
       "        return function (event) {\n",
       "            return fig.mouse_event(event, name);\n",
       "        };\n",
       "    }\n",
       "\n",
       "    rubberband_canvas.addEventListener(\n",
       "        'mousedown',\n",
       "        on_mouse_event_closure('button_press')\n",
       "    );\n",
       "    rubberband_canvas.addEventListener(\n",
       "        'mouseup',\n",
       "        on_mouse_event_closure('button_release')\n",
       "    );\n",
       "    rubberband_canvas.addEventListener(\n",
       "        'dblclick',\n",
       "        on_mouse_event_closure('dblclick')\n",
       "    );\n",
       "    // Throttle sequential mouse events to 1 every 20ms.\n",
       "    rubberband_canvas.addEventListener(\n",
       "        'mousemove',\n",
       "        on_mouse_event_closure('motion_notify')\n",
       "    );\n",
       "\n",
       "    rubberband_canvas.addEventListener(\n",
       "        'mouseenter',\n",
       "        on_mouse_event_closure('figure_enter')\n",
       "    );\n",
       "    rubberband_canvas.addEventListener(\n",
       "        'mouseleave',\n",
       "        on_mouse_event_closure('figure_leave')\n",
       "    );\n",
       "\n",
       "    canvas_div.addEventListener('wheel', function (event) {\n",
       "        if (event.deltaY < 0) {\n",
       "            event.step = 1;\n",
       "        } else {\n",
       "            event.step = -1;\n",
       "        }\n",
       "        on_mouse_event_closure('scroll')(event);\n",
       "    });\n",
       "\n",
       "    canvas_div.appendChild(canvas);\n",
       "    canvas_div.appendChild(rubberband_canvas);\n",
       "\n",
       "    this.rubberband_context = rubberband_canvas.getContext('2d');\n",
       "    this.rubberband_context.strokeStyle = '#000000';\n",
       "\n",
       "    this._resize_canvas = function (width, height, forward) {\n",
       "        if (forward) {\n",
       "            canvas_div.style.width = width + 'px';\n",
       "            canvas_div.style.height = height + 'px';\n",
       "        }\n",
       "    };\n",
       "\n",
       "    // Disable right mouse context menu.\n",
       "    this.rubberband_canvas.addEventListener('contextmenu', function (_e) {\n",
       "        event.preventDefault();\n",
       "        return false;\n",
       "    });\n",
       "\n",
       "    function set_focus() {\n",
       "        canvas.focus();\n",
       "        canvas_div.focus();\n",
       "    }\n",
       "\n",
       "    window.setTimeout(set_focus, 100);\n",
       "};\n",
       "\n",
       "mpl.figure.prototype._init_toolbar = function () {\n",
       "    var fig = this;\n",
       "\n",
       "    var toolbar = document.createElement('div');\n",
       "    toolbar.classList = 'mpl-toolbar';\n",
       "    this.root.appendChild(toolbar);\n",
       "\n",
       "    function on_click_closure(name) {\n",
       "        return function (_event) {\n",
       "            return fig.toolbar_button_onclick(name);\n",
       "        };\n",
       "    }\n",
       "\n",
       "    function on_mouseover_closure(tooltip) {\n",
       "        return function (event) {\n",
       "            if (!event.currentTarget.disabled) {\n",
       "                return fig.toolbar_button_onmouseover(tooltip);\n",
       "            }\n",
       "        };\n",
       "    }\n",
       "\n",
       "    fig.buttons = {};\n",
       "    var buttonGroup = document.createElement('div');\n",
       "    buttonGroup.classList = 'mpl-button-group';\n",
       "    for (var toolbar_ind in mpl.toolbar_items) {\n",
       "        var name = mpl.toolbar_items[toolbar_ind][0];\n",
       "        var tooltip = mpl.toolbar_items[toolbar_ind][1];\n",
       "        var image = mpl.toolbar_items[toolbar_ind][2];\n",
       "        var method_name = mpl.toolbar_items[toolbar_ind][3];\n",
       "\n",
       "        if (!name) {\n",
       "            /* Instead of a spacer, we start a new button group. */\n",
       "            if (buttonGroup.hasChildNodes()) {\n",
       "                toolbar.appendChild(buttonGroup);\n",
       "            }\n",
       "            buttonGroup = document.createElement('div');\n",
       "            buttonGroup.classList = 'mpl-button-group';\n",
       "            continue;\n",
       "        }\n",
       "\n",
       "        var button = (fig.buttons[name] = document.createElement('button'));\n",
       "        button.classList = 'mpl-widget';\n",
       "        button.setAttribute('role', 'button');\n",
       "        button.setAttribute('aria-disabled', 'false');\n",
       "        button.addEventListener('click', on_click_closure(method_name));\n",
       "        button.addEventListener('mouseover', on_mouseover_closure(tooltip));\n",
       "\n",
       "        var icon_img = document.createElement('img');\n",
       "        icon_img.src = '_images/' + image + '.png';\n",
       "        icon_img.srcset = '_images/' + image + '_large.png 2x';\n",
       "        icon_img.alt = tooltip;\n",
       "        button.appendChild(icon_img);\n",
       "\n",
       "        buttonGroup.appendChild(button);\n",
       "    }\n",
       "\n",
       "    if (buttonGroup.hasChildNodes()) {\n",
       "        toolbar.appendChild(buttonGroup);\n",
       "    }\n",
       "\n",
       "    var fmt_picker = document.createElement('select');\n",
       "    fmt_picker.classList = 'mpl-widget';\n",
       "    toolbar.appendChild(fmt_picker);\n",
       "    this.format_dropdown = fmt_picker;\n",
       "\n",
       "    for (var ind in mpl.extensions) {\n",
       "        var fmt = mpl.extensions[ind];\n",
       "        var option = document.createElement('option');\n",
       "        option.selected = fmt === mpl.default_extension;\n",
       "        option.innerHTML = fmt;\n",
       "        fmt_picker.appendChild(option);\n",
       "    }\n",
       "\n",
       "    var status_bar = document.createElement('span');\n",
       "    status_bar.classList = 'mpl-message';\n",
       "    toolbar.appendChild(status_bar);\n",
       "    this.message = status_bar;\n",
       "};\n",
       "\n",
       "mpl.figure.prototype.request_resize = function (x_pixels, y_pixels) {\n",
       "    // Request matplotlib to resize the figure. Matplotlib will then trigger a resize in the client,\n",
       "    // which will in turn request a refresh of the image.\n",
       "    this.send_message('resize', { width: x_pixels, height: y_pixels });\n",
       "};\n",
       "\n",
       "mpl.figure.prototype.send_message = function (type, properties) {\n",
       "    properties['type'] = type;\n",
       "    properties['figure_id'] = this.id;\n",
       "    this.ws.send(JSON.stringify(properties));\n",
       "};\n",
       "\n",
       "mpl.figure.prototype.send_draw_message = function () {\n",
       "    if (!this.waiting) {\n",
       "        this.waiting = true;\n",
       "        this.ws.send(JSON.stringify({ type: 'draw', figure_id: this.id }));\n",
       "    }\n",
       "};\n",
       "\n",
       "mpl.figure.prototype.handle_save = function (fig, _msg) {\n",
       "    var format_dropdown = fig.format_dropdown;\n",
       "    var format = format_dropdown.options[format_dropdown.selectedIndex].value;\n",
       "    fig.ondownload(fig, format);\n",
       "};\n",
       "\n",
       "mpl.figure.prototype.handle_resize = function (fig, msg) {\n",
       "    var size = msg['size'];\n",
       "    if (size[0] !== fig.canvas.width || size[1] !== fig.canvas.height) {\n",
       "        fig._resize_canvas(size[0], size[1], msg['forward']);\n",
       "        fig.send_message('refresh', {});\n",
       "    }\n",
       "};\n",
       "\n",
       "mpl.figure.prototype.handle_rubberband = function (fig, msg) {\n",
       "    var x0 = msg['x0'] / fig.ratio;\n",
       "    var y0 = (fig.canvas.height - msg['y0']) / fig.ratio;\n",
       "    var x1 = msg['x1'] / fig.ratio;\n",
       "    var y1 = (fig.canvas.height - msg['y1']) / fig.ratio;\n",
       "    x0 = Math.floor(x0) + 0.5;\n",
       "    y0 = Math.floor(y0) + 0.5;\n",
       "    x1 = Math.floor(x1) + 0.5;\n",
       "    y1 = Math.floor(y1) + 0.5;\n",
       "    var min_x = Math.min(x0, x1);\n",
       "    var min_y = Math.min(y0, y1);\n",
       "    var width = Math.abs(x1 - x0);\n",
       "    var height = Math.abs(y1 - y0);\n",
       "\n",
       "    fig.rubberband_context.clearRect(\n",
       "        0,\n",
       "        0,\n",
       "        fig.canvas.width / fig.ratio,\n",
       "        fig.canvas.height / fig.ratio\n",
       "    );\n",
       "\n",
       "    fig.rubberband_context.strokeRect(min_x, min_y, width, height);\n",
       "};\n",
       "\n",
       "mpl.figure.prototype.handle_figure_label = function (fig, msg) {\n",
       "    // Updates the figure title.\n",
       "    fig.header.textContent = msg['label'];\n",
       "};\n",
       "\n",
       "mpl.figure.prototype.handle_cursor = function (fig, msg) {\n",
       "    var cursor = msg['cursor'];\n",
       "    switch (cursor) {\n",
       "        case 0:\n",
       "            cursor = 'pointer';\n",
       "            break;\n",
       "        case 1:\n",
       "            cursor = 'default';\n",
       "            break;\n",
       "        case 2:\n",
       "            cursor = 'crosshair';\n",
       "            break;\n",
       "        case 3:\n",
       "            cursor = 'move';\n",
       "            break;\n",
       "    }\n",
       "    fig.rubberband_canvas.style.cursor = cursor;\n",
       "};\n",
       "\n",
       "mpl.figure.prototype.handle_message = function (fig, msg) {\n",
       "    fig.message.textContent = msg['message'];\n",
       "};\n",
       "\n",
       "mpl.figure.prototype.handle_draw = function (fig, _msg) {\n",
       "    // Request the server to send over a new figure.\n",
       "    fig.send_draw_message();\n",
       "};\n",
       "\n",
       "mpl.figure.prototype.handle_image_mode = function (fig, msg) {\n",
       "    fig.image_mode = msg['mode'];\n",
       "};\n",
       "\n",
       "mpl.figure.prototype.handle_history_buttons = function (fig, msg) {\n",
       "    for (var key in msg) {\n",
       "        if (!(key in fig.buttons)) {\n",
       "            continue;\n",
       "        }\n",
       "        fig.buttons[key].disabled = !msg[key];\n",
       "        fig.buttons[key].setAttribute('aria-disabled', !msg[key]);\n",
       "    }\n",
       "};\n",
       "\n",
       "mpl.figure.prototype.handle_navigate_mode = function (fig, msg) {\n",
       "    if (msg['mode'] === 'PAN') {\n",
       "        fig.buttons['Pan'].classList.add('active');\n",
       "        fig.buttons['Zoom'].classList.remove('active');\n",
       "    } else if (msg['mode'] === 'ZOOM') {\n",
       "        fig.buttons['Pan'].classList.remove('active');\n",
       "        fig.buttons['Zoom'].classList.add('active');\n",
       "    } else {\n",
       "        fig.buttons['Pan'].classList.remove('active');\n",
       "        fig.buttons['Zoom'].classList.remove('active');\n",
       "    }\n",
       "};\n",
       "\n",
       "mpl.figure.prototype.updated_canvas_event = function () {\n",
       "    // Called whenever the canvas gets updated.\n",
       "    this.send_message('ack', {});\n",
       "};\n",
       "\n",
       "// A function to construct a web socket function for onmessage handling.\n",
       "// Called in the figure constructor.\n",
       "mpl.figure.prototype._make_on_message_function = function (fig) {\n",
       "    return function socket_on_message(evt) {\n",
       "        if (evt.data instanceof Blob) {\n",
       "            var img = evt.data;\n",
       "            if (img.type !== 'image/png') {\n",
       "                /* FIXME: We get \"Resource interpreted as Image but\n",
       "                 * transferred with MIME type text/plain:\" errors on\n",
       "                 * Chrome.  But how to set the MIME type?  It doesn't seem\n",
       "                 * to be part of the websocket stream */\n",
       "                img.type = 'image/png';\n",
       "            }\n",
       "\n",
       "            /* Free the memory for the previous frames */\n",
       "            if (fig.imageObj.src) {\n",
       "                (window.URL || window.webkitURL).revokeObjectURL(\n",
       "                    fig.imageObj.src\n",
       "                );\n",
       "            }\n",
       "\n",
       "            fig.imageObj.src = (window.URL || window.webkitURL).createObjectURL(\n",
       "                img\n",
       "            );\n",
       "            fig.updated_canvas_event();\n",
       "            fig.waiting = false;\n",
       "            return;\n",
       "        } else if (\n",
       "            typeof evt.data === 'string' &&\n",
       "            evt.data.slice(0, 21) === 'data:image/png;base64'\n",
       "        ) {\n",
       "            fig.imageObj.src = evt.data;\n",
       "            fig.updated_canvas_event();\n",
       "            fig.waiting = false;\n",
       "            return;\n",
       "        }\n",
       "\n",
       "        var msg = JSON.parse(evt.data);\n",
       "        var msg_type = msg['type'];\n",
       "\n",
       "        // Call the  \"handle_{type}\" callback, which takes\n",
       "        // the figure and JSON message as its only arguments.\n",
       "        try {\n",
       "            var callback = fig['handle_' + msg_type];\n",
       "        } catch (e) {\n",
       "            console.log(\n",
       "                \"No handler for the '\" + msg_type + \"' message type: \",\n",
       "                msg\n",
       "            );\n",
       "            return;\n",
       "        }\n",
       "\n",
       "        if (callback) {\n",
       "            try {\n",
       "                // console.log(\"Handling '\" + msg_type + \"' message: \", msg);\n",
       "                callback(fig, msg);\n",
       "            } catch (e) {\n",
       "                console.log(\n",
       "                    \"Exception inside the 'handler_\" + msg_type + \"' callback:\",\n",
       "                    e,\n",
       "                    e.stack,\n",
       "                    msg\n",
       "                );\n",
       "            }\n",
       "        }\n",
       "    };\n",
       "};\n",
       "\n",
       "// from http://stackoverflow.com/questions/1114465/getting-mouse-location-in-canvas\n",
       "mpl.findpos = function (e) {\n",
       "    //this section is from http://www.quirksmode.org/js/events_properties.html\n",
       "    var targ;\n",
       "    if (!e) {\n",
       "        e = window.event;\n",
       "    }\n",
       "    if (e.target) {\n",
       "        targ = e.target;\n",
       "    } else if (e.srcElement) {\n",
       "        targ = e.srcElement;\n",
       "    }\n",
       "    if (targ.nodeType === 3) {\n",
       "        // defeat Safari bug\n",
       "        targ = targ.parentNode;\n",
       "    }\n",
       "\n",
       "    // pageX,Y are the mouse positions relative to the document\n",
       "    var boundingRect = targ.getBoundingClientRect();\n",
       "    var x = e.pageX - (boundingRect.left + document.body.scrollLeft);\n",
       "    var y = e.pageY - (boundingRect.top + document.body.scrollTop);\n",
       "\n",
       "    return { x: x, y: y };\n",
       "};\n",
       "\n",
       "/*\n",
       " * return a copy of an object with only non-object keys\n",
       " * we need this to avoid circular references\n",
       " * http://stackoverflow.com/a/24161582/3208463\n",
       " */\n",
       "function simpleKeys(original) {\n",
       "    return Object.keys(original).reduce(function (obj, key) {\n",
       "        if (typeof original[key] !== 'object') {\n",
       "            obj[key] = original[key];\n",
       "        }\n",
       "        return obj;\n",
       "    }, {});\n",
       "}\n",
       "\n",
       "mpl.figure.prototype.mouse_event = function (event, name) {\n",
       "    var canvas_pos = mpl.findpos(event);\n",
       "\n",
       "    if (name === 'button_press') {\n",
       "        this.canvas.focus();\n",
       "        this.canvas_div.focus();\n",
       "    }\n",
       "\n",
       "    var x = canvas_pos.x * this.ratio;\n",
       "    var y = canvas_pos.y * this.ratio;\n",
       "\n",
       "    this.send_message(name, {\n",
       "        x: x,\n",
       "        y: y,\n",
       "        button: event.button,\n",
       "        step: event.step,\n",
       "        guiEvent: simpleKeys(event),\n",
       "    });\n",
       "\n",
       "    /* This prevents the web browser from automatically changing to\n",
       "     * the text insertion cursor when the button is pressed.  We want\n",
       "     * to control all of the cursor setting manually through the\n",
       "     * 'cursor' event from matplotlib */\n",
       "    event.preventDefault();\n",
       "    return false;\n",
       "};\n",
       "\n",
       "mpl.figure.prototype._key_event_extra = function (_event, _name) {\n",
       "    // Handle any extra behaviour associated with a key event\n",
       "};\n",
       "\n",
       "mpl.figure.prototype.key_event = function (event, name) {\n",
       "    // Prevent repeat events\n",
       "    if (name === 'key_press') {\n",
       "        if (event.key === this._key) {\n",
       "            return;\n",
       "        } else {\n",
       "            this._key = event.key;\n",
       "        }\n",
       "    }\n",
       "    if (name === 'key_release') {\n",
       "        this._key = null;\n",
       "    }\n",
       "\n",
       "    var value = '';\n",
       "    if (event.ctrlKey && event.key !== 'Control') {\n",
       "        value += 'ctrl+';\n",
       "    }\n",
       "    else if (event.altKey && event.key !== 'Alt') {\n",
       "        value += 'alt+';\n",
       "    }\n",
       "    else if (event.shiftKey && event.key !== 'Shift') {\n",
       "        value += 'shift+';\n",
       "    }\n",
       "\n",
       "    value += 'k' + event.key;\n",
       "\n",
       "    this._key_event_extra(event, name);\n",
       "\n",
       "    this.send_message(name, { key: value, guiEvent: simpleKeys(event) });\n",
       "    return false;\n",
       "};\n",
       "\n",
       "mpl.figure.prototype.toolbar_button_onclick = function (name) {\n",
       "    if (name === 'download') {\n",
       "        this.handle_save(this, null);\n",
       "    } else {\n",
       "        this.send_message('toolbar_button', { name: name });\n",
       "    }\n",
       "};\n",
       "\n",
       "mpl.figure.prototype.toolbar_button_onmouseover = function (tooltip) {\n",
       "    this.message.textContent = tooltip;\n",
       "};\n",
       "\n",
       "///////////////// REMAINING CONTENT GENERATED BY embed_js.py /////////////////\n",
       "// prettier-ignore\n",
       "var _JSXTOOLS_RESIZE_OBSERVER=function(A){var t,i=new WeakMap,n=new WeakMap,a=new WeakMap,r=new WeakMap,o=new Set;function s(e){if(!(this instanceof s))throw new TypeError(\"Constructor requires 'new' operator\");i.set(this,e)}function h(){throw new TypeError(\"Function is not a constructor\")}function c(e,t,i,n){e=0 in arguments?Number(arguments[0]):0,t=1 in arguments?Number(arguments[1]):0,i=2 in arguments?Number(arguments[2]):0,n=3 in arguments?Number(arguments[3]):0,this.right=(this.x=this.left=e)+(this.width=i),this.bottom=(this.y=this.top=t)+(this.height=n),Object.freeze(this)}function d(){t=requestAnimationFrame(d);var s=new WeakMap,p=new Set;o.forEach((function(t){r.get(t).forEach((function(i){var r=t instanceof window.SVGElement,o=a.get(t),d=r?0:parseFloat(o.paddingTop),f=r?0:parseFloat(o.paddingRight),l=r?0:parseFloat(o.paddingBottom),u=r?0:parseFloat(o.paddingLeft),g=r?0:parseFloat(o.borderTopWidth),m=r?0:parseFloat(o.borderRightWidth),w=r?0:parseFloat(o.borderBottomWidth),b=u+f,F=d+l,v=(r?0:parseFloat(o.borderLeftWidth))+m,W=g+w,y=r?0:t.offsetHeight-W-t.clientHeight,E=r?0:t.offsetWidth-v-t.clientWidth,R=b+v,z=F+W,M=r?t.width:parseFloat(o.width)-R-E,O=r?t.height:parseFloat(o.height)-z-y;if(n.has(t)){var k=n.get(t);if(k[0]===M&&k[1]===O)return}n.set(t,[M,O]);var S=Object.create(h.prototype);S.target=t,S.contentRect=new c(u,d,M,O),s.has(i)||(s.set(i,[]),p.add(i)),s.get(i).push(S)}))})),p.forEach((function(e){i.get(e).call(e,s.get(e),e)}))}return s.prototype.observe=function(i){if(i instanceof window.Element){r.has(i)||(r.set(i,new Set),o.add(i),a.set(i,window.getComputedStyle(i)));var n=r.get(i);n.has(this)||n.add(this),cancelAnimationFrame(t),t=requestAnimationFrame(d)}},s.prototype.unobserve=function(i){if(i instanceof window.Element&&r.has(i)){var n=r.get(i);n.has(this)&&(n.delete(this),n.size||(r.delete(i),o.delete(i))),n.size||r.delete(i),o.size||cancelAnimationFrame(t)}},A.DOMRectReadOnly=c,A.ResizeObserver=s,A.ResizeObserverEntry=h,A}; // eslint-disable-line\n",
       "mpl.toolbar_items = [[\"Home\", \"Reset original view\", \"fa fa-home icon-home\", \"home\"], [\"Back\", \"Back to previous view\", \"fa fa-arrow-left icon-arrow-left\", \"back\"], [\"Forward\", \"Forward to next view\", \"fa fa-arrow-right icon-arrow-right\", \"forward\"], [\"\", \"\", \"\", \"\"], [\"Pan\", \"Left button pans, Right button zooms\\nx/y fixes axis, CTRL fixes aspect\", \"fa fa-arrows icon-move\", \"pan\"], [\"Zoom\", \"Zoom to rectangle\\nx/y fixes axis, CTRL fixes aspect\", \"fa fa-square-o icon-check-empty\", \"zoom\"], [\"\", \"\", \"\", \"\"], [\"Download\", \"Download plot\", \"fa fa-floppy-o icon-save\", \"download\"]];\n",
       "\n",
       "mpl.extensions = [\"eps\", \"jpeg\", \"pgf\", \"pdf\", \"png\", \"ps\", \"raw\", \"svg\", \"tif\"];\n",
       "\n",
       "mpl.default_extension = \"png\";/* global mpl */\n",
       "\n",
       "var comm_websocket_adapter = function (comm) {\n",
       "    // Create a \"websocket\"-like object which calls the given IPython comm\n",
       "    // object with the appropriate methods. Currently this is a non binary\n",
       "    // socket, so there is still some room for performance tuning.\n",
       "    var ws = {};\n",
       "\n",
       "    ws.binaryType = comm.kernel.ws.binaryType;\n",
       "    ws.readyState = comm.kernel.ws.readyState;\n",
       "    function updateReadyState(_event) {\n",
       "        if (comm.kernel.ws) {\n",
       "            ws.readyState = comm.kernel.ws.readyState;\n",
       "        } else {\n",
       "            ws.readyState = 3; // Closed state.\n",
       "        }\n",
       "    }\n",
       "    comm.kernel.ws.addEventListener('open', updateReadyState);\n",
       "    comm.kernel.ws.addEventListener('close', updateReadyState);\n",
       "    comm.kernel.ws.addEventListener('error', updateReadyState);\n",
       "\n",
       "    ws.close = function () {\n",
       "        comm.close();\n",
       "    };\n",
       "    ws.send = function (m) {\n",
       "        //console.log('sending', m);\n",
       "        comm.send(m);\n",
       "    };\n",
       "    // Register the callback with on_msg.\n",
       "    comm.on_msg(function (msg) {\n",
       "        //console.log('receiving', msg['content']['data'], msg);\n",
       "        var data = msg['content']['data'];\n",
       "        if (data['blob'] !== undefined) {\n",
       "            data = {\n",
       "                data: new Blob(msg['buffers'], { type: data['blob'] }),\n",
       "            };\n",
       "        }\n",
       "        // Pass the mpl event to the overridden (by mpl) onmessage function.\n",
       "        ws.onmessage(data);\n",
       "    });\n",
       "    return ws;\n",
       "};\n",
       "\n",
       "mpl.mpl_figure_comm = function (comm, msg) {\n",
       "    // This is the function which gets called when the mpl process\n",
       "    // starts-up an IPython Comm through the \"matplotlib\" channel.\n",
       "\n",
       "    var id = msg.content.data.id;\n",
       "    // Get hold of the div created by the display call when the Comm\n",
       "    // socket was opened in Python.\n",
       "    var element = document.getElementById(id);\n",
       "    var ws_proxy = comm_websocket_adapter(comm);\n",
       "\n",
       "    function ondownload(figure, _format) {\n",
       "        window.open(figure.canvas.toDataURL());\n",
       "    }\n",
       "\n",
       "    var fig = new mpl.figure(id, ws_proxy, ondownload, element);\n",
       "\n",
       "    // Call onopen now - mpl needs it, as it is assuming we've passed it a real\n",
       "    // web socket which is closed, not our websocket->open comm proxy.\n",
       "    ws_proxy.onopen();\n",
       "\n",
       "    fig.parent_element = element;\n",
       "    fig.cell_info = mpl.find_output_cell(\"<div id='\" + id + \"'></div>\");\n",
       "    if (!fig.cell_info) {\n",
       "        console.error('Failed to find cell for figure', id, fig);\n",
       "        return;\n",
       "    }\n",
       "    fig.cell_info[0].output_area.element.on(\n",
       "        'cleared',\n",
       "        { fig: fig },\n",
       "        fig._remove_fig_handler\n",
       "    );\n",
       "};\n",
       "\n",
       "mpl.figure.prototype.handle_close = function (fig, msg) {\n",
       "    var width = fig.canvas.width / fig.ratio;\n",
       "    fig.cell_info[0].output_area.element.off(\n",
       "        'cleared',\n",
       "        fig._remove_fig_handler\n",
       "    );\n",
       "    fig.resizeObserverInstance.unobserve(fig.canvas_div);\n",
       "\n",
       "    // Update the output cell to use the data from the current canvas.\n",
       "    fig.push_to_output();\n",
       "    var dataURL = fig.canvas.toDataURL();\n",
       "    // Re-enable the keyboard manager in IPython - without this line, in FF,\n",
       "    // the notebook keyboard shortcuts fail.\n",
       "    IPython.keyboard_manager.enable();\n",
       "    fig.parent_element.innerHTML =\n",
       "        '<img src=\"' + dataURL + '\" width=\"' + width + '\">';\n",
       "    fig.close_ws(fig, msg);\n",
       "};\n",
       "\n",
       "mpl.figure.prototype.close_ws = function (fig, msg) {\n",
       "    fig.send_message('closing', msg);\n",
       "    // fig.ws.close()\n",
       "};\n",
       "\n",
       "mpl.figure.prototype.push_to_output = function (_remove_interactive) {\n",
       "    // Turn the data on the canvas into data in the output cell.\n",
       "    var width = this.canvas.width / this.ratio;\n",
       "    var dataURL = this.canvas.toDataURL();\n",
       "    this.cell_info[1]['text/html'] =\n",
       "        '<img src=\"' + dataURL + '\" width=\"' + width + '\">';\n",
       "};\n",
       "\n",
       "mpl.figure.prototype.updated_canvas_event = function () {\n",
       "    // Tell IPython that the notebook contents must change.\n",
       "    IPython.notebook.set_dirty(true);\n",
       "    this.send_message('ack', {});\n",
       "    var fig = this;\n",
       "    // Wait a second, then push the new image to the DOM so\n",
       "    // that it is saved nicely (might be nice to debounce this).\n",
       "    setTimeout(function () {\n",
       "        fig.push_to_output();\n",
       "    }, 1000);\n",
       "};\n",
       "\n",
       "mpl.figure.prototype._init_toolbar = function () {\n",
       "    var fig = this;\n",
       "\n",
       "    var toolbar = document.createElement('div');\n",
       "    toolbar.classList = 'btn-toolbar';\n",
       "    this.root.appendChild(toolbar);\n",
       "\n",
       "    function on_click_closure(name) {\n",
       "        return function (_event) {\n",
       "            return fig.toolbar_button_onclick(name);\n",
       "        };\n",
       "    }\n",
       "\n",
       "    function on_mouseover_closure(tooltip) {\n",
       "        return function (event) {\n",
       "            if (!event.currentTarget.disabled) {\n",
       "                return fig.toolbar_button_onmouseover(tooltip);\n",
       "            }\n",
       "        };\n",
       "    }\n",
       "\n",
       "    fig.buttons = {};\n",
       "    var buttonGroup = document.createElement('div');\n",
       "    buttonGroup.classList = 'btn-group';\n",
       "    var button;\n",
       "    for (var toolbar_ind in mpl.toolbar_items) {\n",
       "        var name = mpl.toolbar_items[toolbar_ind][0];\n",
       "        var tooltip = mpl.toolbar_items[toolbar_ind][1];\n",
       "        var image = mpl.toolbar_items[toolbar_ind][2];\n",
       "        var method_name = mpl.toolbar_items[toolbar_ind][3];\n",
       "\n",
       "        if (!name) {\n",
       "            /* Instead of a spacer, we start a new button group. */\n",
       "            if (buttonGroup.hasChildNodes()) {\n",
       "                toolbar.appendChild(buttonGroup);\n",
       "            }\n",
       "            buttonGroup = document.createElement('div');\n",
       "            buttonGroup.classList = 'btn-group';\n",
       "            continue;\n",
       "        }\n",
       "\n",
       "        button = fig.buttons[name] = document.createElement('button');\n",
       "        button.classList = 'btn btn-default';\n",
       "        button.href = '#';\n",
       "        button.title = name;\n",
       "        button.innerHTML = '<i class=\"fa ' + image + ' fa-lg\"></i>';\n",
       "        button.addEventListener('click', on_click_closure(method_name));\n",
       "        button.addEventListener('mouseover', on_mouseover_closure(tooltip));\n",
       "        buttonGroup.appendChild(button);\n",
       "    }\n",
       "\n",
       "    if (buttonGroup.hasChildNodes()) {\n",
       "        toolbar.appendChild(buttonGroup);\n",
       "    }\n",
       "\n",
       "    // Add the status bar.\n",
       "    var status_bar = document.createElement('span');\n",
       "    status_bar.classList = 'mpl-message pull-right';\n",
       "    toolbar.appendChild(status_bar);\n",
       "    this.message = status_bar;\n",
       "\n",
       "    // Add the close button to the window.\n",
       "    var buttongrp = document.createElement('div');\n",
       "    buttongrp.classList = 'btn-group inline pull-right';\n",
       "    button = document.createElement('button');\n",
       "    button.classList = 'btn btn-mini btn-primary';\n",
       "    button.href = '#';\n",
       "    button.title = 'Stop Interaction';\n",
       "    button.innerHTML = '<i class=\"fa fa-power-off icon-remove icon-large\"></i>';\n",
       "    button.addEventListener('click', function (_evt) {\n",
       "        fig.handle_close(fig, {});\n",
       "    });\n",
       "    button.addEventListener(\n",
       "        'mouseover',\n",
       "        on_mouseover_closure('Stop Interaction')\n",
       "    );\n",
       "    buttongrp.appendChild(button);\n",
       "    var titlebar = this.root.querySelector('.ui-dialog-titlebar');\n",
       "    titlebar.insertBefore(buttongrp, titlebar.firstChild);\n",
       "};\n",
       "\n",
       "mpl.figure.prototype._remove_fig_handler = function (event) {\n",
       "    var fig = event.data.fig;\n",
       "    if (event.target !== this) {\n",
       "        // Ignore bubbled events from children.\n",
       "        return;\n",
       "    }\n",
       "    fig.close_ws(fig, {});\n",
       "};\n",
       "\n",
       "mpl.figure.prototype._root_extra_style = function (el) {\n",
       "    el.style.boxSizing = 'content-box'; // override notebook setting of border-box.\n",
       "};\n",
       "\n",
       "mpl.figure.prototype._canvas_extra_style = function (el) {\n",
       "    // this is important to make the div 'focusable\n",
       "    el.setAttribute('tabindex', 0);\n",
       "    // reach out to IPython and tell the keyboard manager to turn it's self\n",
       "    // off when our div gets focus\n",
       "\n",
       "    // location in version 3\n",
       "    if (IPython.notebook.keyboard_manager) {\n",
       "        IPython.notebook.keyboard_manager.register_events(el);\n",
       "    } else {\n",
       "        // location in version 2\n",
       "        IPython.keyboard_manager.register_events(el);\n",
       "    }\n",
       "};\n",
       "\n",
       "mpl.figure.prototype._key_event_extra = function (event, _name) {\n",
       "    var manager = IPython.notebook.keyboard_manager;\n",
       "    if (!manager) {\n",
       "        manager = IPython.keyboard_manager;\n",
       "    }\n",
       "\n",
       "    // Check for shift+enter\n",
       "    if (event.shiftKey && event.which === 13) {\n",
       "        this.canvas_div.blur();\n",
       "        // select the cell after this one\n",
       "        var index = IPython.notebook.find_cell_index(this.cell_info[0]);\n",
       "        IPython.notebook.select(index + 1);\n",
       "    }\n",
       "};\n",
       "\n",
       "mpl.figure.prototype.handle_save = function (fig, _msg) {\n",
       "    fig.ondownload(fig, null);\n",
       "};\n",
       "\n",
       "mpl.find_output_cell = function (html_output) {\n",
       "    // Return the cell and output element which can be found *uniquely* in the notebook.\n",
       "    // Note - this is a bit hacky, but it is done because the \"notebook_saving.Notebook\"\n",
       "    // IPython event is triggered only after the cells have been serialised, which for\n",
       "    // our purposes (turning an active figure into a static one), is too late.\n",
       "    var cells = IPython.notebook.get_cells();\n",
       "    var ncells = cells.length;\n",
       "    for (var i = 0; i < ncells; i++) {\n",
       "        var cell = cells[i];\n",
       "        if (cell.cell_type === 'code') {\n",
       "            for (var j = 0; j < cell.output_area.outputs.length; j++) {\n",
       "                var data = cell.output_area.outputs[j];\n",
       "                if (data.data) {\n",
       "                    // IPython >= 3 moved mimebundle to data attribute of output\n",
       "                    data = data.data;\n",
       "                }\n",
       "                if (data['text/html'] === html_output) {\n",
       "                    return [cell, data, j];\n",
       "                }\n",
       "            }\n",
       "        }\n",
       "    }\n",
       "};\n",
       "\n",
       "// Register the function which deals with the matplotlib target/channel.\n",
       "// The kernel may be null if the page has been refreshed.\n",
       "if (IPython.notebook.kernel !== null) {\n",
       "    IPython.notebook.kernel.comm_manager.register_target(\n",
       "        'matplotlib',\n",
       "        mpl.mpl_figure_comm\n",
       "    );\n",
       "}\n"
      ],
      "text/plain": [
       "<IPython.core.display.Javascript object>"
      ]
     },
     "metadata": {},
     "output_type": "display_data"
    },
    {
     "data": {
      "text/html": [
       "<img src=\"data:image/png;base64,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\" width=\"640\">"
      ],
      "text/plain": [
       "<IPython.core.display.HTML object>"
      ]
     },
     "metadata": {},
     "output_type": "display_data"
    }
   ],
   "source": [
    "\n",
    "def Plot3dim(x,y,z):\n",
    "    \n",
    "    fig = plt.figure()\n",
    "    ax = plt.axes(projection='3d')\n",
    "    ax.plot_trisurf(x, y, z)\n",
    "    ax.axes.set_xlim3d(left=0, right=1) \n",
    "    ax.axes.set_ylim3d(bottom=0, top=1) \n",
    "    ax.axes.set_zlim3d(bottom=0, top=1)\n",
    "    ax.grid(False)\n",
    "    ax.set_title(\"PLOT OF ALLOWED ENTROPIES\")\n",
    "    ax.set_xlabel(r\"$S_{pol}$\")\n",
    "    ax.set_ylabel(r\"$S_{par}$\")\n",
    "    ax.set_zlabel(r\"$S$\")\n",
    "%matplotlib notebook\n",
    "Plot3dim(x,y,z)\n",
    "# %matplotlib inline"
   ]
  },
  {
   "cell_type": "markdown",
   "metadata": {},
   "source": [
    "## 6. Quantum Circuits\n",
    "As one may have already noticed, the behavior of the system here can be accurately modelled using quantum systems where instead of coherence one measures the purity of a state. We make use of the IBM Qiskit libraries to build these experimental setups into their equivalent quantum circuits making use of ancillary qubits to create inherently mixed states. The main idea here is that for experiment A we would only need the two qubits each representing one DoF to model this system and reproduce the results using the appropriate operators.\n",
    "### Interpretation of the model\n",
    "<p>The first qubit (indexed by 0) refers to the polarisation DOF and the second qubit (index 1) refers to the parity DOF. We will take the $|1\\rangle$ state of polarity to mean pure V-polarisation and $|0\\rangle$ state to mean pure H-polarisation. Similarly, we take the $|0\\rangle$ and $|1\\rangle$ states of the parity qubit to mean purely even and purely odd mode, respectively.</p>\n",
    "<table>\n",
    "    <tr><td>Parity-polarisation state</td><td>Qubit configuration</td></tr>\n",
    "    <tr><td>He</td><td>00</td></tr>\n",
    "    <tr><td>Ho</td><td>01</td></tr>\n",
    "    <tr><td>Ve</td><td>10</td></tr>\n",
    "    <tr><td>Vo</td><td>11</td></tr>\n",
    "</table>\n",
    "<p>Further, we will always use any ancilla qubits we need, to replicate the probabilistic devices (like random rotator or probabilistic PS-SLM) to be the initial qubits, the second last qubit will represent polarisation, and the last qubit represents parity.</p>\n",
    "\n",
    "For experiment B one of our state is starting in an impure form, something which cannot be reached if one were to only apply unitary transformations. Here we make use of an ancillary qubit which is coupled with the rest of the two qubits and hence is in a way storing the coherence we wished to get rid off as part of it's coupling. The main idea of this paper was that partial trace matrices do not give us the complete picture of the system which we can demonstrate very simply just by using a bell state (a pure state) and noting that it's partial traces are actually representative of impure states.\n",
    "\n",
    "The purpose of this section is to demonstrate a simulation which is based in quantum mechanics which reproduces the results of classical coherence obtained in this paper.\n",
    "\n",
    "A small point to add is that in qiskit the representation is not with zeroth qubit being MSB and last qubit being LSB but the other way round. In experiment A for example $q_0$ is the polarization qubit and $q_1$ is the parity qubit and so Ho is actually 10 and Ve is 01 and so on."
   ]
  },
  {
   "cell_type": "code",
   "execution_count": 55,
   "metadata": {},
   "outputs": [],
   "source": [
    "#Defining the operations on the circuit\n",
    "simulator = Aer.get_backend('statevector_simulator') #Using statevector simulator\n",
    "%matplotlib inline\n",
    "\n",
    "def SLM(phi,qc,ancilla_used = 0):\n",
    "    qc.rx(-phi,ancilla_used+1)\n",
    "    return\n",
    "#For HWP, by observing the 2x2 matrix, we see that the operator looks like Ry(theta)*sigma_Z \n",
    "def HWP(theta,qc,ancilla_used = 0):\n",
    "    qc.z(ancilla_used)\n",
    "    qc.ry(theta,ancilla_used)\n",
    "    return\n",
    "\n",
    "#for PS-SLM, we want the H-polarisation to induce an SLM action, but not V. So, if polarisation qubit is 0 (H), we want the\n",
    "#controlled gate to fire. So we first invert (NOT or X gate) the control bit, use a usual controlled gate, then invert it \n",
    "#again.\n",
    "def PSSLM(phi,qc,ancilla_used=0):\n",
    "    qc.x(ancilla_used)\n",
    "    qc.crx(-phi,ancilla_used,ancilla_used+1) #angle,control,target\n",
    "    qc.x(ancilla_used)\n",
    "    return\n",
    "\n",
    "def corr_circ(qc):\n",
    "    result = execute(qc, simulator).result()\n",
    "    statevector = result.get_statevector(qc)\n",
    "    corr = 0\n",
    "    if len(statevector) is 4:\n",
    "        corr = 2*(np.absolute(statevector[0]**2) + np.absolute(statevector[3]**2)) - 1\n",
    "    if len(statevector) is 8:\n",
    "        corr = (np.absolute(statevector[0]**2) + np.absolute(statevector[1]**2) + np.absolute(statevector[6]**2) + np.absolute(statevector[7]**2)) - (np.absolute(statevector[2]**2) + np.absolute(statevector[3]**2) + np.absolute(statevector[4]**2) + np.absolute(statevector[5]**2))\n",
    "    return corr"
   ]
  },
  {
   "cell_type": "markdown",
   "metadata": {},
   "source": [
    "### 6.1 Experiment A\n",
    "For this experiment we take $q_0$ as the polarization DoF and $q_1$ as the parity DoF. Based on the matrix forms of the experimental apparatus we can see that applying an HWP is analogous to a $R_y(\\theta)Z$ on $q_0$ and the SLM is $R_x(-\\phi)$ and the PSSLM is just the SLM as a controlled operation except that it activates for $q_0$ being in 0 instead of 1 so we just apply a NOT on that bit before and after the controlled gate. The measurement done in the end uses the statevector simulator of qiskit to directly calculate probabilities based on the state of the system. While running multiple shots using one of the real quantum computers one can access using IBM-Q would have been more impressive, those will come with heavy noise outputs would require additional noise and error mitigation procedures."
   ]
  },
  {
   "cell_type": "code",
   "execution_count": 56,
   "metadata": {},
   "outputs": [
    {
     "data": {
      "image/png": "[encoded data removed]",
      "text/plain": [
       "<Figure size 840.392x204.68 with 1 Axes>"
      ]
     },
     "execution_count": 56,
     "metadata": {},
     "output_type": "execute_result"
    }
   ],
   "source": [
    "#Quantum Circuit Diagram for A\n",
    "qcA = QuantumCircuit(2,2)\n",
    "qcA.h(0)\n",
    "qcA.barrier() #initialisation complete, 45 degre linearly polarised even mode\n",
    "PSSLM(np.pi/2,qcA) #no ancilla\n",
    "qcA.barrier() #beam is coupled, now on to analysis stage\n",
    "HWP(np.pi/4,qcA)\n",
    "SLM(np.pi/6,qcA)\n",
    "qcA.barrier()#Analysis stage complete. Now, measurement stage\n",
    "qcA.measure(0,0)\n",
    "qcA.measure(1,1)\n",
    "qcA.draw('mpl')"
   ]
  },
  {
   "cell_type": "code",
   "execution_count": 57,
   "metadata": {},
   "outputs": [],
   "source": [
    "def CA(theta_a,phi_a,phi):\n",
    "    qcA=QuantumCircuit(2,2)\n",
    "    qcA.h(0)\n",
    "    qcA.barrier() #initialisation complete, 45 degre linearly polarised even mode\n",
    "    PSSLM(phi,qcA) #no ancilla\n",
    "    qcA.barrier() #beam is coupled, now on to analysis stage\n",
    "    HWP(theta_a,qcA)\n",
    "    SLM(phi_a,qcA)\n",
    "    corr = corr_circ(qcA)\n",
    "    return corr"
   ]
  },
  {
   "cell_type": "code",
   "execution_count": 58,
   "metadata": {},
   "outputs": [
    {
     "data": {
      "application/vnd.jupyter.widget-view+json": {
       "model_id": "aa5098db586448b19d3911dce82f5a22",
       "version_major": 2,
       "version_minor": 0
      },
      "text/plain": [
       "interactive(children=(FloatSlider(value=1.5707963267948966, continuous_update=False, description='phi_A', layo…"
      ]
     },
     "metadata": {},
     "output_type": "display_data"
    }
   ],
   "source": [
    "def CP_A(phi_A):\n",
    "    phi_fixed = phi_A\n",
    "    points = 50\n",
    "    ta_range = np.linspace(0,2*np.pi,points)\n",
    "    pa_range = np.linspace(0,2*np.pi,points)\n",
    "    X,Y = np.meshgrid(ta_range, pa_range)\n",
    "    Z = [[0 for i in range(50)] for j in range(50)]\n",
    "    for i in range(len(Y)):\n",
    "        for j in range(len(X)):\n",
    "            Z[i][j] = CA(ta_range[j],pa_range[i],phi_fixed)\n",
    "    fig, ax = plt.subplots(figsize=(7,5.7))\n",
    "    cp = ax.contourf(X, Y, Z ,cmap='turbo');\n",
    "    fig.colorbar(cp) # Add a colorbar to a plot\n",
    "    plt.xlim(0,2*np.pi)\n",
    "    plt.ylim(0,2*np.pi)\n",
    "    ax.axis('equal')\n",
    "    return\n",
    "interact(CP_A, phi_A=widgets.FloatSlider(min=0, max=2*np.pi, step=0.01, value=np.pi/2, continuous_update=False, layout=Layout(width='600px')));"
   ]
  },
  {
   "cell_type": "markdown",
   "metadata": {},
   "source": [
    "As we can see above we have succesfully recreated the same results using abstract qubits."
   ]
  },
  {
   "cell_type": "markdown",
   "metadata": {},
   "source": [
    "### 6.2 Experiment B\n",
    "Here in the experiment a random rotator is used to generate what would be measured as unpolarized light. As stated before the coherence of a the DoFs are analogous to a qubit being in a mixed or pure state. Since we are working with idealized qubits the state of the system will always remain pure however if one were to look into just the hilbert space of few of the qubits but not all we would have it perceived as an impure state. Here unpolarized light would have a coherency (density) matrix which is diagonal with both entries equal to 1/2. This is a completely mixed state and we can generate this by looking at the partial trace of a qubit which is paired with another qubit as the bell state $\\dfrac{|00\\rangle + |11\\rangle}{\\sqrt{2}}$. Hence we make use of $q_0$ as an ancillary qubit which is present as a bell pair with $q_1$ which is now the polarization qubit. $q_2$ is the parity qubit. As we can see since we do not measure the $q_0$ qubit we would actually see $q_1$ behave like a mixed state which is what the random rotator actually achieves. More specifically the bell state we have described has half probability for any state on the XZ plane of the bloch sphere and since the random rotator is a $R_yZ$ operation the system as a whole is essentially composed of all states on the XZ plane which would be described by observing one qubit out of this bell pair."
   ]
  },
  {
   "cell_type": "code",
   "execution_count": 59,
   "metadata": {},
   "outputs": [
    {
     "data": {
      "image/png": "[encoded data removed]",
      "text/plain": [
       "<Figure size 900.592x264.88 with 1 Axes>"
      ]
     },
     "execution_count": 59,
     "metadata": {},
     "output_type": "execute_result"
    }
   ],
   "source": [
    "#Quantum Circuit Diagram for B\n",
    "qc_B = QuantumCircuit(3,2)\n",
    "qc_B.h(0)\n",
    "qc_B.cx(0,1)\n",
    "qc_B.barrier() #initialisation complete as unpolarized light\n",
    "PSSLM(np.pi/2,qc_B,1)\n",
    "qc_B.barrier() #beam is coupled, now on to analysis stage\n",
    "HWP(np.pi/4,qc_B,1)\n",
    "SLM(np.pi/6,qc_B,1)\n",
    "qc_B.barrier()#Analysis stage complete. Now, measurement stage\n",
    "qc_B.measure(1,0)\n",
    "qc_B.measure(2,1)\n",
    "qc_B.draw('mpl')"
   ]
  },
  {
   "cell_type": "code",
   "execution_count": 60,
   "metadata": {},
   "outputs": [],
   "source": [
    "#Experiment C\n",
    "def CB(theta_a,phi_a,phi):\n",
    "    #Quantum Circuit Diagram for A\n",
    "    qc_B = QuantumCircuit(3)\n",
    "    qc_B.h(0)\n",
    "    qc_B.cx(0,1)\n",
    "    qc_B.barrier() #initialisation complete as unpolarized light\n",
    "    PSSLM(phi,qc_B,1)\n",
    "    qc_B.barrier() #beam is coupled, now on to analysis stage\n",
    "    HWP(theta_a,qc_B,1)\n",
    "    SLM(phi_a,qc_B,1)\n",
    "    qc_B.barrier()#Analysis stage complete.\n",
    "    return corr_circ(qc_B)"
   ]
  },
  {
   "cell_type": "code",
   "execution_count": 61,
   "metadata": {},
   "outputs": [
    {
     "data": {
      "application/vnd.jupyter.widget-view+json": {
       "model_id": "21b627c554434e8a9bc1d3aa2c3da8eb",
       "version_major": 2,
       "version_minor": 0
      },
      "text/plain": [
       "interactive(children=(FloatSlider(value=3.141592653589793, continuous_update=False, description='phi_B', layou…"
      ]
     },
     "metadata": {},
     "output_type": "display_data"
    }
   ],
   "source": [
    "#This cell takes time to run\n",
    "def CP_B(phi_B):\n",
    "    phi_fixed = phi_B\n",
    "    points = 50\n",
    "    ta_range = np.linspace(0,2*np.pi,points)\n",
    "    pa_range = np.linspace(0,2*np.pi,points)\n",
    "    X,Y = np.meshgrid(ta_range, pa_range)\n",
    "    Z = [[0 for i in range(50)] for j in range(50)]\n",
    "    for i in range(len(Y)):\n",
    "        for j in range(len(X)):\n",
    "            Z[i][j] = CB(ta_range[j],pa_range[i],phi_fixed)\n",
    "    fig, ax = plt.subplots(figsize=(7,5.7))\n",
    "    cp = ax.contourf(X, Y, Z ,cmap='turbo');\n",
    "    fig.colorbar(cp) # Add a colorbar to a plot\n",
    "    plt.xlim(0,2*np.pi)\n",
    "    plt.ylim(0,2*np.pi)\n",
    "    ax.axis('equal')\n",
    "    return\n",
    "interact(CP_B, phi_B=widgets.FloatSlider(min=0, max=2*np.pi, step=0.01, value=np.pi, continuous_update=False, layout=Layout(width='600px')));"
   ]
  },
  {
   "cell_type": "markdown",
   "metadata": {},
   "source": [
    "As we can see above we have again been able to reproduce results exactly from those we obtained previously and that of the paper for the correlation function."
   ]
  },
  {
   "cell_type": "markdown",
   "metadata": {},
   "source": [
    "### 6.3 Experiment C\n",
    "In experiment C the paper randomly chooses to either couple the DoFs or not with probability of $P$ and $1-P$ respectively. To recreate this I again make use of an ancillary qubit $q_0$ similar to section [6.2](#6.2-Experiment-B). The idea is to create this in the state $\\sqrt{1-P}|0\\rangle + \\sqrt{P}|1\\rangle$ and use a controlled-Rx gate with angle $-\\pi$ with $q_0$ and $q_1$ (polarization) as control bits where polarization needs to be 0 and ancilla needs to be 1 to activate this rotation. The circuit used decomposes the two control gate using the standard procedure for decomposing two control single target qubit gates if the single control gate is available."
   ]
  },
  {
   "cell_type": "code",
   "execution_count": 62,
   "metadata": {},
   "outputs": [
    {
     "data": {
      "image/png": "[encoded data removed]",
      "text/plain": [
       "<Figure size 1081.19x264.88 with 1 Axes>"
      ]
     },
     "execution_count": 62,
     "metadata": {},
     "output_type": "execute_result"
    }
   ],
   "source": [
    "qc_C = QuantumCircuit(3,2)\n",
    "P = 0.5\n",
    "qc_C.ry(2*np.arccos(np.sqrt(1-P)),0)#Preparing the probability qubit\n",
    "qc_C.h(1)\n",
    "qc_C.barrier()\n",
    "#Do a controlled Rx(-pi) gate with two controls\n",
    "qc_C.x(1)\n",
    "qc_C.crx(-np.pi/2,1,2)\n",
    "qc_C.cx(0,1)\n",
    "qc_C.crx(np.pi/2,1,2)\n",
    "qc_C.cx(0,1)\n",
    "qc_C.crx(-np.pi/2,0,2)\n",
    "qc_C.x(1)\n",
    "qc_C.barrier()\n",
    "#Analysis stage now\n",
    "HWP(np.pi/6,qc_C,1)\n",
    "SLM(np.pi/3,qc_C,1)\n",
    "qc_C.barrier()\n",
    "qc_C.measure(1,0)\n",
    "qc_C.measure(2,1)\n",
    "qc_C.draw('mpl')"
   ]
  },
  {
   "cell_type": "code",
   "execution_count": 63,
   "metadata": {},
   "outputs": [],
   "source": [
    "#Experiment C\n",
    "def CC(P,theta_a,phi_a):\n",
    "    qc_C = QuantumCircuit(3)\n",
    "    qc_C.ry(2*np.arccos(np.sqrt(1-P)),0)#Preparing the probability qubit\n",
    "    qc_C.h(1)\n",
    "    qc_C.barrier()\n",
    "    #Do a controlled y gate with two controls\n",
    "    qc_C.x(1)\n",
    "    qc_C.crx(-np.pi/2,1,2)\n",
    "    qc_C.cx(0,1)\n",
    "    qc_C.crx(np.pi/2,1,2)\n",
    "    qc_C.cx(0,1)\n",
    "    qc_C.crx(-np.pi/2,0,2)\n",
    "    qc_C.x(1)\n",
    "    qc_C.barrier()\n",
    "    #Analysis stage now\n",
    "    HWP(theta_a,qc_C,1)\n",
    "    SLM(phi_a,qc_C,1)\n",
    "    return corr_circ(qc_C)"
   ]
  },
  {
   "cell_type": "code",
   "execution_count": 64,
   "metadata": {},
   "outputs": [
    {
     "data": {
      "application/vnd.jupyter.widget-view+json": {
       "model_id": "c64d0479d85041d98f00a86bbbfc5a44",
       "version_major": 2,
       "version_minor": 0
      },
      "text/plain": [
       "interactive(children=(FloatSlider(value=0.5, continuous_update=False, description='P_var', layout=Layout(width…"
      ]
     },
     "metadata": {},
     "output_type": "display_data"
    }
   ],
   "source": [
    "def CP_C(P_var):\n",
    "    P_fixed = P_var\n",
    "    points = 50\n",
    "    ta_range = np.linspace(0,2*np.pi,points)\n",
    "    pa_range = np.linspace(0,2*np.pi,points)\n",
    "    X,Y = np.meshgrid(ta_range, pa_range)\n",
    "    Z = [[0 for i in range(50)] for j in range(50)]\n",
    "    for i in range(len(Y)):\n",
    "        for j in range(len(X)):\n",
    "            Z[i][j] = CC(P_fixed,ta_range[j],pa_range[i])\n",
    "    fig, ax = plt.subplots(figsize=(7,5.7))\n",
    "    cp = ax.contourf(X, Y, Z ,cmap='turbo');\n",
    "    fig.colorbar(cp) # Add a colorbar to a plot\n",
    "    plt.xlim(0,2*np.pi)\n",
    "    plt.ylim(0,2*np.pi)\n",
    "    ax.axis('equal')\n",
    "interact(CP_C, P_var=widgets.FloatSlider(min=0, max=1, step=0.01, value=0.5, continuous_update=False, layout=Layout(width='600px')));"
   ]
  },
  {
   "cell_type": "markdown",
   "metadata": {},
   "source": [
    "As we can see above this also faithfully reproduces the required results for the correlation function.\n",
    "\n",
    "### Universality using optical components\n",
    "Our main reference for this is [[3](#ref-3)]. To fully realize quantum computing (or any form of computing) one needs a physical system capable of producing the minimal set of operations which can then be extended to a set of all possible operations and sequences of operations. In classical computers the complete set is realized using the set of operations $\\{\\lnot,\\land\\}$ or $\\{\\lnot,\\lor\\}$. For quantum computers universality would imply being able to make any circuit which essentially means the set of all unitary matrices. This of course is non inclusive of measurements (which will not keep a circuit unitary) but one can prove that measurements placed in the middle of a cicuit can be taken to the very end without affecting the final measurement probabilities (since once measured any qubit is essentially decohered and cannot be part of the circuit anyway). \n",
    "\n",
    "To get the complete set of unitary matrices we can first start for the case of a single qubit. This set would essentially be the $SU(2)$ group which is isomorphic to $SO(3)$ and given that we have an $R_x(\\theta)$ gate in form of the SLM we actually just need rotation about some other axis to achieve single qubit universality for parity. The polarization qubit does have a $R_y(\\theta)Z$ qubit which can be used to get the hadamard gate $H$ with $\\theta = \\pi/2$ and in combination with a quarter wave plate with fast axis horizontal which is effectively the square root of $Z$ denoted with an $S$ (ignoring global phase) we can actually make the HWP just be a pure $R_y(\\theta)$. Additionally using $\\theta=\\pi$ we can make this into an $X$ gate ignoring global phase. The importance of this $X$ gate is that if we apply the gate sequence $X$-PSSLM-$X$ it is effectively a PSSLM which applies the operation of the SLM when the polarization is vertical which transalates exactly into a controlled $R_x(\\phi)$ operation which we will use in our analysis below. \n",
    "\n",
    "The PS-SLM is an operator which controls the parity using the polarity and is essentially a controlled Rx gate and so can be made into a CNOT gate which adds an additional phase of $\\iota$ to the horizontal polarization component. To make the CNOT of the other way we can try for the MZI configuration proposed [here](#Proposal-for-a-Parity-Sensitive-Polarisation-Modifier). The point here is that once we have these two CNOTS, we can essentially get universal unitaries by swapping the polarization (see cells below) and parity qubit in such a way that we can apply an Rx gate followed by Ry and then another Rx with the appropriate euler angles and we can attain individual qubit universalities of $U3$ gates.\n",
    "\n",
    "The exact CNOT operation where polarization is control and parity is target involves making use of a quarter wave plate which has the operator form of $e^{-\\iota\\pi/4}\\begin{pmatrix}1 & 0\\\\0 & \\iota\\end{pmatrix}$ on the polarization qubit so that we can induce a relative phase between H and V of polarization. \n",
    "\n",
    "Now for getting overall universality we just need the CNOT gates of both ways and since we already have that using the PSSLM and the MZI setup described previously we actually have a universal quantum computer of two qubits.\n",
    "\n",
    "A small note to be made is that the U3 gates have unique euler angles upto a global phase being ignored. Now we have established that global phase is useless here for a 1 qubit case but with two qubits a controlled-$U$ gate has importance on global phase of $U$. To tackle this we can simply make use of the decomposition of $U$ such that first a controlled $\\tilde{U}$ where $\\tilde{U}$ can be written as just the rotations ($R_y(\\theta_3)R_x(\\theta_2)R_y(\\theta_1)$ or $R_x(\\theta_3)R_y(\\theta_2)R_x(\\theta_1)$ depending on the qubit) ignoring the global phase and say $U=e^{\\iota\\alpha}\\tilde{U}$ we simply apply the gate equivalent to $R_z(\\alpha/2)$ to the control qubit. While applying this $z$ rotation we just introduce a relative phase of $\\alpha$ between the $|0\\rangle$ and $|1\\rangle$ of the control qubit which is equivalent to a controlled $U$ if done after the controlled $\\tilde{U}$. Note that global phase of this last gate does not concern us since that is global for both qubits unlike a controlled gate. "
   ]
  },
  {
   "cell_type": "code",
   "execution_count": 65,
   "metadata": {},
   "outputs": [
    {
     "name": "stdout",
     "output_type": "stream",
     "text": [
      "[[1.+0.000000e+00j 0.+0.000000e+00j 0.+0.000000e+00j 0.+0.000000e+00j]\n",
      " [0.+0.000000e+00j 0.+0.000000e+00j 0.+0.000000e+00j 1.-6.123234e-17j]\n",
      " [0.+0.000000e+00j 0.+0.000000e+00j 1.+0.000000e+00j 0.+0.000000e+00j]\n",
      " [0.+0.000000e+00j 1.+6.123234e-17j 0.+0.000000e+00j 0.+0.000000e+00j]]\n",
      "               ┌───┐\n",
      "q_0: ────■─────┤ S ├\n",
      "     ┌───┴────┐└───┘\n",
      "q_1: ┤ RX(pi) ├─────\n",
      "     └────────┘     \n"
     ]
    }
   ],
   "source": [
    "import qiskit.quantum_info as qi\n",
    "#CNOT\n",
    "qc_cn = QuantumCircuit(2)\n",
    "qc_cn.crx(np.pi,0,1)#PSSLM\n",
    "qc_cn.s(0)\n",
    "print((qi.Operator(qc_cn).data))\n",
    "print(qc_cn.draw())"
   ]
  },
  {
   "cell_type": "markdown",
   "metadata": {},
   "source": [
    "As we can see above as per the matrix form of the operation the circuit has done, this achieves the CNOT gate which we desire and below we show how make this into a swap gate."
   ]
  },
  {
   "cell_type": "code",
   "execution_count": 66,
   "metadata": {},
   "outputs": [
    {
     "name": "stdout",
     "output_type": "stream",
     "text": [
      "[[1.+0.000000e+00j 0.+0.000000e+00j 0.+0.000000e+00j 0.+0.000000e+00j]\n",
      " [0.+0.000000e+00j 0.+0.000000e+00j 1.-6.123234e-17j 0.+0.000000e+00j]\n",
      " [0.+0.000000e+00j 1.+6.123234e-17j 0.+0.000000e+00j 0.+0.000000e+00j]\n",
      " [0.+0.000000e+00j 0.+0.000000e+00j 0.+0.000000e+00j 1.+0.000000e+00j]]\n",
      "               ┌───┐┌───┐          ┌───┐\n",
      "q_0: ────■─────┤ S ├┤ X ├────■─────┤ S ├\n",
      "     ┌───┴────┐└───┘└─┬─┘┌───┴────┐└───┘\n",
      "q_1: ┤ RX(pi) ├───────■──┤ RX(pi) ├─────\n",
      "     └────────┘          └────────┘     \n"
     ]
    }
   ],
   "source": [
    "import qiskit.quantum_info as qi\n",
    "#Swap gate\n",
    "qc_sw = QuantumCircuit(2)\n",
    "qc_sw.crx(np.pi,0,1)#PSSLM\n",
    "qc_sw.s(0)#QWP\n",
    "qc_sw.cx(1,0)\n",
    "qc_sw.crx(np.pi,0,1)#PSSLM\n",
    "qc_sw.s(0)#QWP\n",
    "#Swapping complete\n",
    "print((qi.Operator(qc_sw).data))#See the operator as a matrix\n",
    "print(qc_sw.draw())"
   ]
  },
  {
   "cell_type": "markdown",
   "metadata": {},
   "source": [
    "As we can see above that this achieves the same unitary that a swap gate would. Since we have shown that polarization is capable of arbitray $R_x$ rotations and parity qubits are capable of arbitrary $R_y$ rotations we can follow the following sequence of steps for U3 gates on polarization as shown below. We take the euler angles for $Y-X-Y$ and first apply $R_y$ on polarization, swap with parity and apply a $R_x$ on parity after that. Finally swap again and do the final $R_y$ on the polarization qubit. We follow a similar procedure for parity U3 gates but instead use euler angles of $X-Y-X$."
   ]
  },
  {
   "cell_type": "code",
   "execution_count": 67,
   "metadata": {},
   "outputs": [
    {
     "data": {
      "image/png": "[encoded data removed]",
      "text/plain": [
       "<Figure size 1201.59x144.48 with 1 Axes>"
      ]
     },
     "execution_count": 67,
     "metadata": {},
     "output_type": "execute_result"
    }
   ],
   "source": [
    "#For doing arbitrary rotations on the polarization qubit\n",
    "qc_uq1 = QuantumCircuit(2)\n",
    "eul1 = np.pi/2\n",
    "eul2 = np.pi/3\n",
    "eul3 = np.pi\n",
    "qc_uq1.ry(eul1,0) #HWP combined with QWP\n",
    "qc_uq1.barrier()\n",
    "qc_uq1.crx(np.pi,0,1)#PSSLM\n",
    "qc_uq1.s(0)#QWP\n",
    "qc_uq1.cx(1,0)\n",
    "qc_uq1.crx(np.pi,0,1)#PSSLM\n",
    "qc_uq1.s(0)#QWP\n",
    "#Swapping complete\n",
    "qc_uq1.barrier()\n",
    "qc_uq1.rx(eul2,1) #SLM\n",
    "qc_uq1.barrier()\n",
    "qc_uq1.crx(np.pi,0,1)#PSSLM\n",
    "qc_uq1.s(0)#QWP\n",
    "qc_uq1.cx(1,0)\n",
    "qc_uq1.crx(np.pi,0,1)#PSSLM\n",
    "qc_uq1.s(0)#QWP\n",
    "#Swapping complete\n",
    "qc_uq1.barrier()\n",
    "qc_uq1.ry(eul3,0) #HWP combined with QWP\n",
    "qc_uq1.draw('mpl')"
   ]
  },
  {
   "cell_type": "code",
   "execution_count": 68,
   "metadata": {},
   "outputs": [
    {
     "data": {
      "image/png": "[encoded data removed]",
      "text/plain": [
       "<Figure size 1201.59x144.48 with 1 Axes>"
      ]
     },
     "execution_count": 68,
     "metadata": {},
     "output_type": "execute_result"
    }
   ],
   "source": [
    "#For doing arbitrary rotations on the parity qubit\n",
    "qc_uq2 = QuantumCircuit(2)\n",
    "eul1 = np.pi/2\n",
    "eul2 = np.pi/3\n",
    "eul3 = np.pi\n",
    "qc_uq2.rx(eul1,1) #HWP combined with QWP\n",
    "qc_uq2.barrier()\n",
    "qc_uq2.crx(np.pi,0,1)#PSSLM\n",
    "qc_uq2.s(0)#QWP\n",
    "qc_uq2.cx(1,0)\n",
    "qc_uq2.crx(np.pi,0,1)#PSSLM\n",
    "qc_uq2.s(0)#QWP\n",
    "#Swapping complete\n",
    "qc_uq2.barrier()\n",
    "qc_uq2.ry(eul2,0)\n",
    "qc_uq2.barrier()\n",
    "qc_uq2.crx(np.pi,0,1)#PSSLM\n",
    "qc_uq2.s(0)#QWP\n",
    "qc_uq2.cx(1,0)\n",
    "qc_uq2.crx(np.pi,0,1)#PSSLM\n",
    "qc_uq2.s(0)#QWP\n",
    "#Swapping complete\n",
    "qc_uq2.barrier()\n",
    "qc_uq2.rx(eul3,1) #HWP combined with QWP\n",
    "qc_uq2.draw('mpl')"
   ]
  },
  {
   "cell_type": "markdown",
   "metadata": {},
   "source": [
    "We must note that in the above schemes for U3 gates the other qubit over which the middle rotation is done actually unchanged due to the two swaps and there is no entaglement involved. Hence we have demonstrated a recipe for arbitrary U3 gates on both qubits and we also showed CNOT execution giving us a universal set for any unitary circuit on these two qubits."
   ]
  },
  {
   "cell_type": "markdown",
   "metadata": {},
   "source": [
    "## 7. Concluding Remarks\n",
    "The exceeding of $B_\\text{max}$ beyond the value of 2 in quantum mechanics implied that one cannot use locally deterministic hidden variable theories to explain quantum mechanics or simply put proves that quantum mechanics violates local realism. Here we have seen that $B_\\text{max}$ exceeds this classical limit and one can conclude equivalently that one cannot write the correlation function as some $C(\\theta_a,\\phi_a) = \\int d\\lambda\\rho(\\lambda)C_\\text{pol}(\\theta_a,\\lambda)C_\\text{par}(\\phi_a,\\lambda)$ where $\\lambda$ is some set of hidden variables. The proper proof of this is described in [Appendix A](#Appendix-A:-The-EPR-paradox-and-Bell's-inequalities) and the experimental results concur with this. \n",
    "\n",
    "In a way this shows that if one were to have two DoFs, there would be an uncertainty which arises due their coupling which is quantised by using the Bell's measure. These results would hold good regardless of the type of DoF used and can be extended to systems with a higher number of DoFs too. We also explored how one can link this with quantum systems and reproduced the results using a quantum computer simulation of IBM Q.\n",
    "\n",
    "More importantly one must take note of how looking at the coherency behaviors of the individual DoFs would not address the actual coherence it had since some of it would be 'shared' in form of coupling. In short the partial traces of coherency matrices offer an incomplete picture of the system quite similar to how one would deal with multi qubit systems and have the state behave mixed when only looking at the partial trace over a part of the Hilber space. We even took advantage of this incomplete picture to create mixed states in the previous section. This also demonstrates how one could effectively share coherence between two DoFs as seen in experiment B where the coherency $S_\\text{pol}$ of the polarization qubit is effectively increased at maximal entaglement with the fully coherent parity DoF."
   ]
  },
  {
   "cell_type": "markdown",
   "metadata": {},
   "source": [
    "## Appendix A: The EPR paradox and Bell's inequalities\n",
    "\n",
    "Before talking about the bell's measure let us first dive into why it was made and for this we must look at the EPR experiment proposed in [[4](#ref-4)]. I will discuss Bohm's variant since Bell's response was made in a way to that. Say we have prepared a electron-positron pair coming from a single source. These would be entangled in a way where if we measure the spin of one of the particles, the other particle will simultaneously collapse to the opposite spin.\n",
    "$$|{\\psi}\\rangle = \\dfrac{|{\\uparrow_e\\downarrow_p}\\rangle + |{\\downarrow_e\\uparrow_p}\\rangle}{\\sqrt{2}}$$\n",
    "So the main issue which Einstein had was that this means that measurement on one particle directly affects the other no matter how far it is. This makes it a non local effect which clearly does not make sense in a world which was believed to follow local realism. It can be proven that the two agents have no way to communicate using this pair hence showing that there actually is no faster than light comminication. While one may think choosing basis in a certain manner can change measurement probabilities and essentially have some \"information\" change, no matter how much measurements are done, since this is probabilistic the other agent cannot conclude anything from that.\n",
    "   \n",
    "\n",
    "While there have been multiple responses to this, the most important one is the one discussed in Bell's paper [[5](#ref-5)].\n",
    "First we will start by considering the EPR argument using spin particles. Consider a pair of spin one-half particles formed somehow in the singlet spin state and moving freely in opposite directions. Measurements can be made, say by Stern-Gerlach magnets, on selected components of the spins $\\vec{\\sigma_1}$ and $\\vec{\\sigma_2}$,\n",
    "If measurement of the component $\\vec{\\sigma_1}\\cdot{a}$, where $a$ is some unit vector, yields the value +1 then, according to quantum mechanics, measurement of $\\vec{\\sigma_2}\\cdot{a}$ must yield the value -1 and vice versa.\n",
    "We now define some set of parameters $\\lambda$ which is taken as continuous which give us a complete description of the state. The result $A$ of measuring $\\vec{\\sigma_1}\\cdot{a}$ is then determined by $a$ and $\\lambda$, and the result $B$ of measuring $\\vec{\\sigma_2}\\cdot{b}$ in the\n",
    "same instance is determined by $b$ and $\\lambda$.\n",
    "\\begin{equation}\\label{eq:1A}\\tag{1A}A(\\vec{a},\\lambda) = \\pm 1, B(\\vec{b},\\lambda) = \\pm 1 \\end{equation}\n",
    "We now take $\\rho(\\lambda)$ as the probability distribution of $\\lambda$ and we will now try to find the expectation value of of the product of the two components $\\vec{\\sigma_1}\\cdot{a}$ and $\\vec{\\sigma_2}\\cdot{b}$.\n",
    "\\begin{equation}\\label{eq:2A}\\tag{2A}P(\\vec{a}\\vec{b}) = \\int{d\\lambda}\\rho{\\lambda}A(\\vec{a},\\lambda)B(\\vec{b},\\lambda)\\end{equation}\n",
    "The quantum mechanical expectation value of this is the following\n",
    "\\begin{equation}\\label{eq:3A}\\tag{3A}\\langle\\vec{\\sigma_1}\\cdot{a}\\vec{\\sigma_2}\\cdot{b}\\rangle = - \\vec{a}\\cdot\\vec{b}\\end{equation}\n",
    "However it turns out that eq: \\ref{eq:2A} doesn't give us the same result as \\ref{eq:3A}. So first off we know that we have a normalized distribution.\n",
    "\\begin{equation}\\label{eq:4A}\\tag{4A}\\int{d\\lambda}\\rho(\\lambda) = 1\\end{equation}\n",
    "if we take $\\vec{a} = \\vec{b}$ the $P$ in eq: \\ref{eq:2A} can reach -1.\n",
    "\\begin{equation}\\label{eq:5A}\\tag{5A}A(\\vec{a},\\lambda) = -B(\\vec{a},\\lambda)\\end{equation}\n",
    "Knowing this we can rewrite eq: \\ref{eq:2A} into the following\n",
    "\\begin{equation}\\label{eq:6A}\\tag{6A}P(\\vec{a}\\vec{b}) = -\\int{d\\lambda}\\rho{\\lambda}A(\\vec{a},\\lambda)A(\\vec{b},\\lambda)\\end{equation}\n",
    "\\begin{equation}\\label{eq:7A}\\tag{7A}P(\\vec{a},\\vec{b}) - P(\\vec{a},\\vec{c}) = \\int{d\\lambda}\\rho{\\lambda}[1-A(\\vec{b},\\lambda)A(\\vec{c},\\lambda)]\\end{equation}\n",
    "from eq: \\ref{eq:1A} we can write this\n",
    "\\begin{equation}\\label{eq:8A}\\tag{8A}|P(\\vec{a},\\vec{b}) - P(\\vec{a},\\vec{c})| \\leq \\int{d\\lambda}\\rho{\\lambda}A(\\vec{a},\\lambda)A(\\vec{b},\\lambda)[A(\\vec{b},\\lambda)A(\\vec{c},\\lambda) - 1]\\end{equation}\n",
    "The second term on the right is just $P(\\vec{b},\\vec{c})$ so we get\n",
    "\\begin{equation}\\label{eq:9A}\\tag{9A}1 + P(\\vec{b},\\vec{c}) \\geq |P(\\vec{a},\\vec{b}) - P(\\vec{a},\\vec{c})|\\end{equation}\n",
    "Now we define a $\\overline{P}(\\vec{a},\\vec{b})$ and a $\\overline{- \\vec{a}\\cdot\\vec{b}}$ which essentially are the averages over vectors differing from a small angle from $\\vec{a}$ and $\\vec{b}$ of the quantities under the bar. Let's suppose the following holds for some $\\epsilon$\n",
    "\\begin{equation}\\label{eq:10A}\\tag{10A}|\\overline{P}(\\vec{a},\\vec{b}) + \\overline{\\vec{a}\\cdot\\vec{b}}| \\leq \\epsilon\\end{equation}\n",
    "We cannot make $\\epsilon$ arbitrarily small and this can be proven by the following steps. Let us first assume the following inequality holds for all $\\vec{a}$ and $\\vec{b}$\n",
    "\\begin{equation}\\label{eq:11A}\\tag{11A}|\\overline{\\vec{a}\\cdot\\vec{b}} - \\vec{a}\\cdot\\vec{b}| \\leq\\delta\\end{equation}\n",
    "Then using eq:\\ref{eq:11A} and eq:\\ref{eq:10A} we have\n",
    "\\begin{equation}\\label{eq:12A}\\tag{12A}|\\overline{P}(\\vec{a},\\vec{b}) + \\vec{a}\\cdot\\vec{b}| \\leq \\epsilon + \\delta\\end{equation}\n",
    "Now taking $\\vec{a} = \\vec{b}$ (hence their dot product is 1) we rewrite eq:\\ref{eq:12A} as the equation below while using the fact that $\\overline{P(\\vec{a},\\vec{b})} = \\int d\\lambda\\rho(\\lambda)\\overline{A}(\\vec{a},\\lambda)\\overline{B}(\\vec{b},\\lambda))$.\n",
    "\\begin{equation}\\label{eq:13A}\\tag{13A}\\int d\\lambda\\rho(\\lambda)[\\overline{A}(\\vec{b},\\lambda)\\overline{B}(\\vec{b},\\lambda))+1] \\leq\\epsilon+\\delta\\end{equation}\n",
    "We can extend from \\ref{eq:1A} that on averaging over a small range, $|\\overline{A}(\\vec{a},\\lambda)| \\leq 1$ and $|\\overline{B}(\\vec{b},\\lambda)| \\leq 1$. Now we can write the following\n",
    "\\begin{equation}\\label{eq:14A}\\tag{14A}\\overline{P}(\\vec{a},\\vec{b})-\\overline{P}(\\vec{b},\\vec{c}) = \\int{d\\lambda}\\rho(\\lambda)\\overline{A}(\\vec{a},\\lambda)\\overline{B}(\\vec{b},\\lambda)[\\overline{A}(\\vec{b},\\lambda)\\overline{B}(\\vec{c},\\lambda) + 1] - \\int{d\\lambda}\\rho(\\lambda)\\overline{A}(\\vec{a},\\lambda)\\overline{B}(\\vec{c},\\lambda)[\\overline{A}(\\vec{b},\\lambda)\\overline{B}(\\vec{b},\\lambda) + 1]\\end{equation}\n",
    "Using the inequalities on the averaged $A$ and $B$ we can write the following\n",
    "\\begin{equation}\\label{eq:15A}\\tag{15A}|\\overline{P}(\\vec{a},\\vec{b})-\\overline{P}(\\vec{b},\\vec{c})| \\leq \\int{d\\lambda}\\rho(\\lambda)[\\overline{A}(\\vec{b},\\lambda)\\overline{B}(\\vec{c},\\lambda) + 1] - \\int{d\\lambda}\\rho(\\lambda)[\\overline{A}(\\vec{b},\\lambda)\\overline{B}(\\vec{b},\\lambda) + 1]\\end{equation}\n",
    "\\begin{equation}\\label{eq:16A}\\tag{16A}|\\overline{P}(\\vec{a},\\vec{b})-\\overline{P}(\\vec{b},\\vec{c})| \\leq 1 + \\overline{P} + \\epsilon+\\delta\\end{equation}\n",
    "We write eq:\\ref{eq:16A} using eq:\\ref{eq:15A} and eq:\\ref{eq:13A}. Finally using eq:\\ref{eq:12A} we rewrite the above equation as\n",
    "\\begin{equation}\\label{eq:17A}\\tag{17A}|\\vec{a}\\cdot\\vec{c}-\\vec{a}\\cdot\\vec{b}|+\\vec{b}\\cdot\\vec{c}-1 \\leq 4(\\epsilon+\\delta)\\end{equation}\n",
    "Now with the constr  aint coming from eq:\\ref{eq:17A} we can handpick values of $\\vec{a},\\vec{b},\\vec{c}$ such that $\\epsilon$ cannot be made arbitrarily small (take $\\vec{a}\\cdot\\vec{b} = \\vec{c}\\cdot\\vec{b} = 1/\\sqrt{2}$ and $\\vec{a}\\cdot\\vec{c} = 0$ this would show $4(\\epsilon+\\delta)\\geq\\sqrt{2}-1$). The fact that $\\epsilon$ cannot be made arbitrarily small implies that the quantum mechanical value cannot be approximated either accurately or arbitrarily close to this form using hidden variable. So this contradiction implies that some assumptions that we have taken happen to not work together and that happen to be local determinism and hidden variables. So any hidden variable theory by nature itself is non local.\n",
    "\n",
    "To get the form of the CSHS inequalities we essentially modify the form of eq:\\ref{eq:14A} and write it as follows\n",
    "\\begin{equation}\\label{eq:18A}\\tag{18A}\\overline{P}(\\vec{a},\\vec{b})-\\overline{P}(\\vec{a},\\vec{b}') = \\int{d\\lambda}\\rho(\\lambda)\\overline{A}(\\vec{a},\\lambda)\\overline{B}(\\vec{b},\\lambda)[1\\pm\\overline{A}(\\vec{a}',\\lambda)\\overline{B}(\\vec{b}',\\lambda)] - \\int{d\\lambda}\\rho(\\lambda)\\overline{A}(\\vec{a},\\lambda)\\overline{B}(\\vec{b}',\\lambda)[1\\pm\\overline{A}(\\vec{a}',\\lambda)\\overline{B}(\\vec{b},\\lambda)]\\end{equation}\n",
    "We now apply the triangle inequality and also note that the modulus of the averaged functions $\\overline{A}$ and $\\overline{B}$ are bounded above by 1 we will get\n",
    "\\begin{equation}\\label{eq:19A}\\tag{19A}|\\overline{P}(\\vec{a},\\vec{b})-\\overline{P}(\\vec{a},\\vec{b}')| \\leq \\left|\\int{d\\lambda}\\rho(\\lambda)[1\\pm\\overline{A}(\\vec{a}',\\lambda)\\overline{B}(\\vec{b}',\\lambda)]\\right| + \\left|\\int{d\\lambda}\\rho(\\lambda)[1\\pm\\overline{A}(\\vec{a}',\\lambda)\\overline{B}(\\vec{b},\\lambda)]\\right|\\end{equation}\n",
    "We may as well remove the moduli brackets on the LHS since the quantities is non negative. Since $\\int\\rho(\\lambda)d\\lambda = 1$ and $\\overline{P(\\vec{a},\\vec{b})} = \\int d\\lambda\\rho(\\lambda)\\overline{A}(\\vec{a},\\lambda)\\overline{B}(\\vec{b},\\lambda))$ we can rewrite eq:\\ref{eq:19A} as\n",
    "\\begin{equation}\\label{eq:20A}\\tag{20A}|\\overline{P}(\\vec{a},\\vec{b})-\\overline{P}(\\vec{a},\\vec{b}')| \\leq 2 \\pm (\\overline{P}(\\vec{a}',\\vec{b}') + \\overline{P}(\\vec{a}',\\vec{b})) \\leq 2 \\pm |\\overline{P}(\\vec{a}',\\vec{b}') + \\overline{P}(\\vec{a}',\\vec{b}|\\end{equation}\n",
    "The second inequality comes from the triangle inequality. Now we can choose the minus sign and we get\n",
    "\\begin{equation}\\label{eq:21A}\\tag{21A}|\\overline{P}(\\vec{a},\\vec{b})-\\overline{P}(\\vec{a},\\vec{b}')| + |\\overline{P}(\\vec{a}',\\vec{b}') + \\overline{P}(\\vec{a}',\\vec{b}| \\leq 2\\end{equation}\n",
    "Finally we get the following equation by applying the triangle inequality on RHS of eq:\\ref{eq:21A}\n",
    "\\begin{equation}\\label{eq:22A}\\tag{22A}|\\overline{P}(\\vec{a},\\vec{b})-\\overline{P}(\\vec{a},\\vec{b}') + \\overline{P}(\\vec{a}',\\vec{b}') + \\overline{P}(\\vec{a}',\\vec{b}| \\leq 2\\end{equation}\n",
    "The above inequality is the form of writing the CHSH inequalities [[6](#ref-6)]. The bound above is shown to be 2 which is satisfied for classical systems and is violated for quantum mechanical correlations. One can instead prove a different bound for quantum correlations as $2\\sqrt{2}$. This is reffered to as the Tsirelon's bound. To prove this we can suppose we have four hermitian operators $A_0,A_1,B_0,B_1$ where $[A_i,B_j] = 0$ but the $[A_0,A_1] \\neq 0$ and $[B_0,B_1] \\neq 0$. We define these $A$ operators as being two different spin measurements on the same electron and $B$ being the same on the positron where their results are either $+1$ or $-1$. We know that for a simple spin system $[\\sigma\\cdot\\vec{a},\\sigma\\cdot\\vec{b}] = 2\\iota\\sigma\\cdot(\\vec{a}\\times\\vec{b})$. Now we will define a new operator called $\\mathcal{B}$\n",
    "$$\\mathcal{B} = A_0B_0 + A_0B_1 + A_1B_0 - A_1B_1$$\n",
    "This operator has been defined along the lines of the bell's measure where expectation value of the modulus of this operator would be the actual bells measure for a correlation function of $C_{ij} = \\langle A_iB_j\\rangle$. We can now square this operator and it would simpify as the equation below (since $A_i^2 = B_i^2 = I$)\n",
    "$$\\mathcal{B}^2 = 4I - [A_0,A_1][B_0,B_1]$$\n",
    "Since these are spin operators we have $|[A_0,A_1][B_0,B_1]| \\leq 4I$ using the commutation relation we had defined earlier. We would infact have $\\mathcal{B}^2$ reach it's maximum if $A_0,B_0$ measures along $\\hat{x}$ and $A_1,B_1$ measures along $\\hat{y}$ which would make $\\mathcal{B}^2 = 8I$. This leads us to $\\langle \\mathcal{B}\\rangle \\leq 2\\sqrt{2}$ which is the Tsirelon's bound [[7](#ref-7)]. In this paper the $B_{max}$ values are bounded above due to Tsirelon's bound.\n"
   ]
  },
  {
   "cell_type": "markdown",
   "metadata": {},
   "source": [
    "## References\n",
    "<br>\n",
    "<div id=\"ref-1\">[1] Kagalwala, K., Di Giuseppe, G., Abouraddy, A. et al. Bell's measure in classical optical coherence. Nature Photon 7, 72–78 (2013). <a href=\"https://doi.org/10.1038/nphoton.2012.312\">https://doi.org/10.1038/nphoton.2012.312</a></div>\n",
    "<div id=\"ref-2\">[2] Aiello, A., and Woerdman, J. (2005). Physical Bounds to the Entropy-Depolarization Relation in Random Light Scattering. Phys. Rev. Lett., 94, 090406.</div>\n",
    "<div id=\"ref-3\">[3] Nielsen, M, Chuang, I. Quantum Computation and Quantum Information: 10th Anniversary Edition. Cambridge University Press; 2011.</div>\n",
    "<div id=\"ref-4\">[4] Einstein, A, Podolsky, B, Rosen, N. \"Can Quantum-Mechanical Description of Physical Reality Be Considered Complete?\". Phys. Rev. 1935; 47:777–780.</div>\n",
    "<div id=\"ref-5\">[5] Bell, J. \"On the Einstein Podolsky Rosen paradox\". Physics Physique Fizika 1964; 1:195–200.</div>\n",
    "<div id=\"ref-6\">[6] Clauser, J, Horne, M, Shimony, A, Holt, R. \"Proposed Experiment to Test Local Hidden-Variable Theories\". Phys. Rev. Lett. 1969; 23:880–884.</div>\n",
    "<div id=\"ref-7\">[7] Cirel'son, B.S. Quantum generalizations of Bell's inequality. Lett Math Phys 4, 93–100 (1980). <a href=\"https://doi.org/10.1007/BF00417500\">https://doi.org/10.1007/BF00417500</a></div>\n",
    "<div id=\"ref-8\">[8] Zyczkowski, K., Penson, K. A., Nechita, I. & Collins, C. Generating random\n",
    "density matrices. J. Math. Phys. 52, 062201 (2011).</div>\n",
    "<div id=\"ref-9\">[9] Gil, Jose & Bernabeu, Eusebio. (1987). Obtainment of the polarizing and retardation parameters of a non-depolarizing optical system from the polar decomposition of its Mueller matrix. Optik. 76. 67. </div>\n",
    "<div id=\"ref-10\">[10] Yarnall, T., Abouraddy, A. F., Saleh, B. E. A. & Teich, M. C. Synthesis and\n",
    "analysis of entangled photonic qubits in spatial-parity space. Phys. Rev. Lett.\n",
    "99, 250502 (2007).</div>"
   ]
  }
 ],
 "metadata": {
  "kernelspec": {
   "display_name": "Python 3",
   "language": "python",
   "name": "python3"
  },
  "language_info": {
   "codemirror_mode": {
    "name": "ipython",
    "version": 3
   },
   "file_extension": ".py",
   "mimetype": "text/x-python",
   "name": "python",
   "nbconvert_exporter": "python",
   "pygments_lexer": "ipython3",
   "version": "3.7.4"
  }
 },
 "nbformat": 4,
 "nbformat_minor": 2
}
