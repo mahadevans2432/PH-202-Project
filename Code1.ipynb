{
 "cells": [
  {
   "cell_type": "code",
   "execution_count": 1,
   "metadata": {},
   "outputs": [
    {
     "name": "stdout",
     "output_type": "stream",
     "text": [
      "Requirement already satisfied: numpy in c:\\users\\ankan mukherjee\\appdata\\local\\programs\\python\\python38-32\\lib\\site-packages (1.20.1)\n",
      "Requirement already satisfied: scipy in c:\\users\\ankan mukherjee\\appdata\\local\\programs\\python\\python38-32\\lib\\site-packages (1.6.1)\n",
      "Requirement already satisfied: numpy>=1.16.5 in c:\\users\\ankan mukherjee\\appdata\\local\\programs\\python\\python38-32\\lib\\site-packages (from scipy) (1.20.1)\n",
      "Requirement already satisfied: pandas in c:\\users\\ankan mukherjee\\appdata\\local\\programs\\python\\python38-32\\lib\\site-packages (1.2.3)\n",
      "Requirement already satisfied: numpy>=1.16.5 in c:\\users\\ankan mukherjee\\appdata\\local\\programs\\python\\python38-32\\lib\\site-packages (from pandas) (1.20.1)\n",
      "Requirement already satisfied: python-dateutil>=2.7.3 in c:\\users\\ankan mukherjee\\appdata\\local\\programs\\python\\python38-32\\lib\\site-packages (from pandas) (2.8.1)\n",
      "Requirement already satisfied: pytz>=2017.3 in c:\\users\\ankan mukherjee\\appdata\\local\\programs\\python\\python38-32\\lib\\site-packages (from pandas) (2020.5)\n",
      "Requirement already satisfied: six>=1.5 in c:\\users\\ankan mukherjee\\appdata\\local\\programs\\python\\python38-32\\lib\\site-packages (from python-dateutil>=2.7.3->pandas) (1.15.0)\n",
      "Requirement already satisfied: matplotlib in c:\\users\\ankan mukherjee\\appdata\\local\\programs\\python\\python38-32\\lib\\site-packages (3.3.4)\n",
      "Requirement already satisfied: pyparsing!=2.0.4,!=2.1.2,!=2.1.6,>=2.0.3 in c:\\users\\ankan mukherjee\\appdata\\local\\programs\\python\\python38-32\\lib\\site-packages (from matplotlib) (2.4.7)\n",
      "Requirement already satisfied: pillow>=6.2.0 in c:\\users\\ankan mukherjee\\appdata\\local\\programs\\python\\python38-32\\lib\\site-packages (from matplotlib) (8.1.0)\n",
      "Requirement already satisfied: numpy>=1.15 in c:\\users\\ankan mukherjee\\appdata\\local\\programs\\python\\python38-32\\lib\\site-packages (from matplotlib) (1.20.1)\n",
      "Requirement already satisfied: python-dateutil>=2.1 in c:\\users\\ankan mukherjee\\appdata\\local\\programs\\python\\python38-32\\lib\\site-packages (from matplotlib) (2.8.1)\n",
      "Requirement already satisfied: kiwisolver>=1.0.1 in c:\\users\\ankan mukherjee\\appdata\\local\\programs\\python\\python38-32\\lib\\site-packages (from matplotlib) (1.3.1)\n",
      "Requirement already satisfied: cycler>=0.10 in c:\\users\\ankan mukherjee\\appdata\\local\\programs\\python\\python38-32\\lib\\site-packages (from matplotlib) (0.10.0)\n",
      "Requirement already satisfied: six in c:\\users\\ankan mukherjee\\appdata\\local\\programs\\python\\python38-32\\lib\\site-packages (from cycler>=0.10->matplotlib) (1.15.0)\n",
      "Requirement already satisfied: sympy in c:\\users\\ankan mukherjee\\appdata\\local\\programs\\python\\python38-32\\lib\\site-packages (1.7.1)\n",
      "Requirement already satisfied: mpmath>=0.19 in c:\\users\\ankan mukherjee\\appdata\\local\\programs\\python\\python38-32\\lib\\site-packages (from sympy) (1.2.1)\n",
      "Requirement already satisfied: seaborn in c:\\users\\ankan mukherjee\\appdata\\local\\programs\\python\\python38-32\\lib\\site-packages (0.11.1)\n",
      "Requirement already satisfied: scipy>=1.0 in c:\\users\\ankan mukherjee\\appdata\\local\\programs\\python\\python38-32\\lib\\site-packages (from seaborn) (1.6.1)\n",
      "Requirement already satisfied: matplotlib>=2.2 in c:\\users\\ankan mukherjee\\appdata\\local\\programs\\python\\python38-32\\lib\\site-packages (from seaborn) (3.3.4)\n",
      "Requirement already satisfied: pandas>=0.23 in c:\\users\\ankan mukherjee\\appdata\\local\\programs\\python\\python38-32\\lib\\site-packages (from seaborn) (1.2.3)\n",
      "Requirement already satisfied: numpy>=1.15 in c:\\users\\ankan mukherjee\\appdata\\local\\programs\\python\\python38-32\\lib\\site-packages (from seaborn) (1.20.1)\n",
      "Requirement already satisfied: kiwisolver>=1.0.1 in c:\\users\\ankan mukherjee\\appdata\\local\\programs\\python\\python38-32\\lib\\site-packages (from matplotlib>=2.2->seaborn) (1.3.1)\n",
      "Requirement already satisfied: python-dateutil>=2.1 in c:\\users\\ankan mukherjee\\appdata\\local\\programs\\python\\python38-32\\lib\\site-packages (from matplotlib>=2.2->seaborn) (2.8.1)\n",
      "Requirement already satisfied: cycler>=0.10 in c:\\users\\ankan mukherjee\\appdata\\local\\programs\\python\\python38-32\\lib\\site-packages (from matplotlib>=2.2->seaborn) (0.10.0)\n",
      "Requirement already satisfied: pillow>=6.2.0 in c:\\users\\ankan mukherjee\\appdata\\local\\programs\\python\\python38-32\\lib\\site-packages (from matplotlib>=2.2->seaborn) (8.1.0)\n",
      "Requirement already satisfied: pyparsing!=2.0.4,!=2.1.2,!=2.1.6,>=2.0.3 in c:\\users\\ankan mukherjee\\appdata\\local\\programs\\python\\python38-32\\lib\\site-packages (from matplotlib>=2.2->seaborn) (2.4.7)\n",
      "Requirement already satisfied: six in c:\\users\\ankan mukherjee\\appdata\\local\\programs\\python\\python38-32\\lib\\site-packages (from cycler>=0.10->matplotlib>=2.2->seaborn) (1.15.0)\n",
      "Requirement already satisfied: pytz>=2017.3 in c:\\users\\ankan mukherjee\\appdata\\local\\programs\\python\\python38-32\\lib\\site-packages (from pandas>=0.23->seaborn) (2020.5)\n"
     ]
    }
   ],
   "source": [
    "!pip3 install numpy;\n",
    "!pip3 install scipy;\n",
    "!pip3 install pandas;\n",
    "!pip3 install matplotlib;\n",
    "!pip3 install sympy;\n",
    "!pip3 install seaborn;"
   ]
  },
  {
   "cell_type": "code",
   "execution_count": 2,
   "metadata": {},
   "outputs": [],
   "source": [
    "import numpy as np\n",
    "import matplotlib.pyplot as plt\n",
    "from matplotlib.widgets import Slider, Button, RadioButtons\n",
    "from ipywidgets import interact, interactive, fixed, interact_manual\n",
    "import ipywidgets as widgets\n",
    "from mpl_toolkits.mplot3d import axes3d\n",
    "from sympy import *\n",
    "from sympy.physics.quantum.dagger import Dagger\n",
    "import seaborn as sns"
   ]
  },
  {
   "cell_type": "markdown",
   "metadata": {},
   "source": [
    "## PLOTS"
   ]
  },
  {
   "cell_type": "code",
   "execution_count": 3,
   "metadata": {},
   "outputs": [],
   "source": [
    "t,p,ta,pa = symbols('theta phi theta_a phi_a', real=True)"
   ]
  },
  {
   "cell_type": "markdown",
   "metadata": {},
   "source": [
    "### Example 1"
   ]
  },
  {
   "cell_type": "code",
   "execution_count": 4,
   "metadata": {
    "scrolled": true
   },
   "outputs": [
    {
     "data": {
      "text/latex": [
       "$\\displaystyle \\left[\\begin{matrix}0.5 \\cos^{2}{\\left(\\frac{\\phi}{2} \\right)} & 0.5 i \\sin{\\left(\\frac{\\phi}{2} \\right)} \\cos{\\left(\\frac{\\phi}{2} \\right)} & 0.5 \\cos{\\left(\\frac{\\phi}{2} \\right)} & 0\\\\- 0.5 i \\sin{\\left(\\frac{\\phi}{2} \\right)} \\cos{\\left(\\frac{\\phi}{2} \\right)} & 0.5 \\sin^{2}{\\left(\\frac{\\phi}{2} \\right)} & - 0.5 i \\sin{\\left(\\frac{\\phi}{2} \\right)} & 0\\\\0.5 \\cos{\\left(\\frac{\\phi}{2} \\right)} & 0.5 i \\sin{\\left(\\frac{\\phi}{2} \\right)} & 0.5 & 0\\\\0 & 0 & 0 & 0\\end{matrix}\\right]$"
      ],
      "text/plain": [
       "Matrix([\n",
       "[           0.5*cos(phi/2)**2, 0.5*I*sin(phi/2)*cos(phi/2),    0.5*cos(phi/2), 0],\n",
       "[-0.5*I*sin(phi/2)*cos(phi/2),           0.5*sin(phi/2)**2, -0.5*I*sin(phi/2), 0],\n",
       "[              0.5*cos(phi/2),            0.5*I*sin(phi/2),               0.5, 0],\n",
       "[                           0,                           0,                 0, 0]])"
      ]
     },
     "execution_count": 4,
     "metadata": {},
     "output_type": "execute_result"
    }
   ],
   "source": [
    "G = 0.5*Matrix([[cos(p/2)**2, I*cos(p/2)*sin(p/2), cos(p/2), 0],[-I*cos(p/2)*sin(p/2), sin(p/2)**2, -I*sin(p/2),0],\n",
    "            [cos(p/2),I*sin(p/2),1,0],[0,0,0,0]])\n",
    "G"
   ]
  },
  {
   "cell_type": "code",
   "execution_count": 5,
   "metadata": {
    "scrolled": true
   },
   "outputs": [
    {
     "data": {
      "text/latex": [
       "$\\displaystyle \\left[\\begin{matrix}0.5 & 0.5 \\cos{\\left(\\frac{\\phi}{2} \\right)}\\\\0.5 \\cos{\\left(\\frac{\\phi}{2} \\right)} & 0.5\\end{matrix}\\right]$"
      ],
      "text/plain": [
       "Matrix([\n",
       "[           0.5, 0.5*cos(phi/2)],\n",
       "[0.5*cos(phi/2),            0.5]])"
      ]
     },
     "execution_count": 5,
     "metadata": {},
     "output_type": "execute_result"
    }
   ],
   "source": [
    "Gpol=simplify(Matrix([[G[0,0]+G[1,1],G[0,2]+G[1,3]],[G[2,0]+G[3,1],G[2,2]+G[3,3]]]))\n",
    "Gpol"
   ]
  },
  {
   "cell_type": "code",
   "execution_count": 6,
   "metadata": {
    "scrolled": true
   },
   "outputs": [
    {
     "data": {
      "text/latex": [
       "$\\displaystyle \\left[\\begin{matrix}0.25 \\cos{\\left(\\phi \\right)} + 0.75 & 0.25 i \\sin{\\left(\\phi \\right)}\\\\- 0.25 i \\sin{\\left(\\phi \\right)} & 0.5 \\sin^{2}{\\left(\\frac{\\phi}{2} \\right)}\\end{matrix}\\right]$"
      ],
      "text/plain": [
       "Matrix([\n",
       "[0.25*cos(phi) + 0.75,   0.25*I*sin(phi)],\n",
       "[    -0.25*I*sin(phi), 0.5*sin(phi/2)**2]])"
      ]
     },
     "execution_count": 6,
     "metadata": {},
     "output_type": "execute_result"
    }
   ],
   "source": [
    "Gpar=simplify(Matrix([[G[0,0]+G[2,2],G[0,1]+G[2,3]],[G[1,0]+G[3,2],G[1,1]+G[3,3]]]))\n",
    "Gpar"
   ]
  },
  {
   "cell_type": "code",
   "execution_count": 7,
   "metadata": {
    "scrolled": true
   },
   "outputs": [
    {
     "data": {
      "text/latex": [
       "$\\displaystyle 1.0 \\left|{\\cos{\\left(\\frac{\\phi}{2} \\right)}}\\right|$"
      ],
      "text/plain": [
       "1.0*Abs(cos(phi/2))"
      ]
     },
     "execution_count": 7,
     "metadata": {},
     "output_type": "execute_result"
    }
   ],
   "source": [
    "dpol=simplify(sqrt(1-4*simplify(Determinant(Gpol))/(simplify(Trace(Gpol))**2)))\n",
    "dpol"
   ]
  },
  {
   "cell_type": "code",
   "execution_count": 8,
   "metadata": {
    "scrolled": true
   },
   "outputs": [
    {
     "data": {
      "text/latex": [
       "$\\displaystyle 0.707106781186548 \\sqrt{\\cos{\\left(\\phi \\right)} + 1}$"
      ],
      "text/plain": [
       "0.707106781186548*sqrt(cos(phi) + 1)"
      ]
     },
     "execution_count": 8,
     "metadata": {},
     "output_type": "execute_result"
    }
   ],
   "source": [
    "dpar=simplify(sqrt(1-4*simplify(Determinant(Gpar))/(simplify(Trace(Gpar))**2)))\n",
    "dpar"
   ]
  },
  {
   "cell_type": "code",
   "execution_count": 9,
   "metadata": {
    "scrolled": true
   },
   "outputs": [
    {
     "data": {
      "application/vnd.jupyter.widget-view+json": {
       "model_id": "11c64eb36b3e4173b8289d5d5361f8fc",
       "version_major": 2,
       "version_minor": 0
      },
      "text/plain": [
       "interactive(children=(Dropdown(description='option', options=('dpol', 'dpar'), value='dpol'), Output()), _dom_…"
      ]
     },
     "metadata": {},
     "output_type": "display_data"
    }
   ],
   "source": [
    "def Dplotting(option):\n",
    "    fig, ax = plt.subplots(figsize=(10, 10))\n",
    "\n",
    "    phi=np.arange(0,2*np.pi,0.001)\n",
    "    dpolvalues = lambdify(p, dpol, \"numpy\")(phi)\n",
    "    dparvalues = lambdify(p, dpar, \"numpy\")(phi)\n",
    "    \n",
    "    if option=='dpol':\n",
    "        dpolplot=sns.lineplot(x=phi,y=dpolvalues,linewidth = 3,color='b')\n",
    "        dpolplot.axes.set_title(r'$D_{pol}\\ vs\\ \\phi$',fontsize=40)\n",
    "        dpolplot.set_xlabel(r\"$\\phi$\",fontsize=20)\n",
    "        dpolplot.set_ylabel(r'$D_{pol}$',fontsize=20)\n",
    "        dpolplot.tick_params(labelsize=20)\n",
    "    else:\n",
    "        dparplot=sns.lineplot(x=phi,y=dparvalues,linewidth = 3,color='r')\n",
    "        dparplot.axes.set_title(r'$D_{par}\\ vs\\ \\phi$',fontsize=40)\n",
    "        dparplot.set_xlabel(r\"$\\phi$\",fontsize=20)\n",
    "        dparplot.set_ylabel(r'$D_{par}$',fontsize=20)\n",
    "        dparplot.tick_params(labelsize=20)    \n",
    "\n",
    "    plt.show()\n",
    "    return\n",
    "interact(Dplotting, option=['dpol','dpar']);"
   ]
  },
  {
   "cell_type": "markdown",
   "metadata": {},
   "source": [
    "#### Contour Plot Sample"
   ]
  },
  {
   "cell_type": "code",
   "execution_count": 10,
   "metadata": {},
   "outputs": [
    {
     "data": {
      "image/png": "[encoded data removed]",
      "text/plain": [
       "<Figure size 432x288 with 2 Axes>"
      ]
     },
     "metadata": {
      "needs_background": "light"
     },
     "output_type": "display_data"
    }
   ],
   "source": [
    "xlist = np.linspace(-3.0, 3.0, 100)\n",
    "ylist = np.linspace(-3.0, 3.0, 100)\n",
    "X, Y = np.meshgrid(xlist, ylist)\n",
    "Z = np.sqrt(X**2 + Y**2)\n",
    "fig,ax=plt.subplots(1,1)\n",
    "cp = ax.contourf(X, Y, Z)\n",
    "fig.colorbar(cp) # Add a colorbar to a plot\n",
    "ax.set_title('Filled Contours Plot')\n",
    "ax.set_xlabel('x (cm)')\n",
    "ax.set_ylabel('y (cm)')\n",
    "plt.show()"
   ]
  }
 ],
 "metadata": {
  "kernelspec": {
   "display_name": "Python 3",
   "language": "python",
   "name": "python3"
  },
  "language_info": {
   "codemirror_mode": {
    "name": "ipython",
    "version": 3
   },
   "file_extension": ".py",
   "mimetype": "text/x-python",
   "name": "python",
   "nbconvert_exporter": "python",
   "pygments_lexer": "ipython3",
   "version": "3.8.2"
  }
 },
 "nbformat": 4,
 "nbformat_minor": 4
}
