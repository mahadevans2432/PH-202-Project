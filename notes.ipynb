{
 "cells": [
  {
   "cell_type": "markdown",
   "metadata": {},
   "source": [
    "# Bell's measure in classical optical coherence"
   ]
  },
  {
   "cell_type": "markdown",
   "metadata": {},
   "source": [
    "## Team details and work distrubution\n",
    "Fill this later"
   ]
  },
  {
   "cell_type": "markdown",
   "metadata": {},
   "source": [
    "## Introduction\n",
    "Essentially abstract and methods we have used for reproducing the results"
   ]
  },
  {
   "cell_type": "markdown",
   "metadata": {},
   "source": [
    "## 1. Polarization & Spatial Parity\n",
    "\n",
    "In the paper \\[topic 2\\] the experiments which were done were made using of an optical beam model with two binary degrees of freedom, them being polarization and spatial parity along the $x$ direction respectively of a quasi monochromatic source.<br>\n",
    "For the spatial parity, in one dimension the beams are of form $E(x) = E_e\\psi_e(x)+E_o\\psi_o(x)$ where $\\psi_e(x)$ is an even function and $\\psi_o(x) = \\text{sgn}(x)\\psi_e(x)$ hence is an odd function. We give this beam a vector representation called $\\mathbf{J}_\\text{par} = [E_e\\text{ } E_o]^T$. Spatial paritt is manipulated using a spatial light modulator (SLM) which we describe in the experimental apparatus section. Along with the horizontal (H) and vertical components of polarization taken into account we describe the polarization-parity jones vector as $\\mathbf{J} = [E_\\text{He}\\text{ }E_\\text{Ho}\\text{ }E_\\text{Ve}\\text{ }E_\\text{Vo}]$.<br>\n",
    "We then describe the properties of this coherence using a $4\\times4$ matrix which is $\\mathbf{G} = \\langle\\mathbf{J}^{*}\\mathbf{J}^\\text{T}\\rangle$. Taking partial trace along $\\mathbf{G}$ would give us either $\\mathbf{G}_\\text{pol}$ or $\\mathbf{G}_\\text{par}$ on taking trace along parity or polarization respectively. We define a degree of polarization/parity using $D_{\\text{pol}}$($D_\\text{par}$) which quantifies the apparent coherence of each DoF when the other DoF is unresolved. Further an overall coherence $S$ is defined using the beam's linear entropy \\[https://en.wikipedia.org/wiki/Linear_entropy\\] as follows.\n",
    "The definition of linear entropy comes from the motivation of von Neumann Entropy. For a quantum mechanical system with a density matrix $\\rho$ this is defined as $S_v = \\text{Tr}(-\\rho\\ln(\\rho)) = -\\langle\\ln(\\rho)\\rangle$. The linear entropy $S_L$ is a lower approximation to $S_v$ which comes from expanding the leading term in the expansion of $\\rho\\ln\\rho$ which becomes $\\rho-\\rho^2$ approximately when $\\rho$ is close to $I$ (using taylor expansion) and taking trace this gives us the definition $S_L = \\text{Tr}(\\rho) - \\text{Tr}(\\rho^2)$ and by definition of the density matrix we have trace of $\\rho$ equal to 1 which gives us $S_L = 1 - \\text{Tr}(\\rho^2)$. This is a non normalized quantity so this is normalized by multiplying it by $\\frac{d}{d-1}$ which here is $4/3$ since our system has four dimensions. The definition of our $\\mathbf{G}$ matrix is isomorphic to the definition of a density matrix of a two qubit system keeping the Jones vector $\\mathbf{J}$ as the state of this two qubit system. Hence we have \n",
    "\\begin{equation}\\label{eq:1.1}\\tag{1.1}S = 1-S_L = 1 - \\frac{4}{3} + \\frac{4}{3}\\text{Tr}(\\mathbf{G}^2) = \\frac{4}{3}\\left(\\text{Tr}\\{\\mathbf{G}^2\\}-\\frac{1}{4}\\right)\\end{equation}\n",
    "We know that for normalized states we have that $\\frac{1}{d}\\leq$ Tr$(\\rho^2) \\leq 1$ and equals one only for a pure state and $1/d$ for completely mixed state. We can similarly draw a parallel here to seeing that $S=1$ happens only for coherent (pure) states and is 0 when completely incoherent. An important note to make here is that applying a unitary matrix $U$ which is not time dependent on the Jones vector would not change our value of $S$ since on acting of a unitary we would have $\\mathbf{G}' = U\\mathbf{G}U^{\\dagger}$ and so $\\mathbf{G}'^2 = U\\mathbf{G}^2U^{\\dagger}$ and "
   ]
  },
  {
   "cell_type": "markdown",
   "metadata": {},
   "source": [
    "### Appendix A: The EPR paradox and Bell's inequalities\n",
    "\n",
    "Before talking about the bell's measure let us first dive into why it was made and for this we must look at the EPR experiment proposed in \\[epr\\]. I will discuss Bohm's variant since Bell's response was made in a way to that. Say we have prepared a electron-positron pair coming from a single source. These would be entangled in a way where if we measure the spin of one of the particles, the other particle will simultaneously collapse to the opposite spin.\n",
    "$$|{\\psi}\\rangle = \\dfrac{|{\\uparrow_e\\downarrow_p}\\rangle + |{\\downarrow_e\\uparrow_p}\\rangle}{\\sqrt{2}}$$\n",
    "So the main issue which Einstein had was that this means that measurement on one particle directly affects the other no matter how far it is. This makes it a non local effect which clearly does not make sense in a world which was believed to follow local realism. It can be proven that the two agents have no way to communicate using this pair hence showing that there actually is no faster than light comminication. While one may think choosing basis in a certain manner can change measurement probabilities and essentially have some \"information\" change, no matter how much measurements are done, since this is probabilistic the other agent cannot conclude anything from that.\n",
    "   \n",
    "\n",
    "While there have been multiple responses to this, the most important one is the one discussed in Bell's paper \\[bell\\].\n",
    "First we will start by considering the EPR argument using spin particles. Consider a pair of spin one-half particles formed somehow in the singlet spin state and moving freely in opposite directions. Measurements can be made, say by Stern-Gerlach magnets, on selected components of the spins $\\vec{\\sigma_1}$ and $\\vec{\\sigma_2}$,\n",
    "If measurement of the component $\\vec{\\sigma_1}\\cdot{a}$, where $a$ is some unit vector, yields the value +1 then, according to quantum mechanics, measurement of $\\vec{\\sigma_2}\\cdot{a}$ must yield the value -1 and vice versa.\n",
    "We now define some set of parameters $\\lambda$ which is taken as continuous which give us a complete description of the state. The result $A$ of measuring $\\vec{\\sigma_1}\\cdot{a}$ is then determined by $a$ and $\\lambda$, and the result $B$ of measuring $\\vec{\\sigma_2}\\cdot{b}$ in the\n",
    "same instance is determined by $b$ and $\\lambda$.\n",
    "\\begin{equation}\\label{eq:1A}\\tag{1A}A(\\vec{a},\\lambda) = \\pm 1, B(\\vec{b},\\lambda) = \\pm 1 \\end{equation}\n",
    "We now take $\\rho(\\lambda)$ as the probability distribution of $\\lambda$ and we will now try to find the expectation value of of the product of the two components $\\vec{\\sigma_1}\\cdot{a}$ and $\\vec{\\sigma_2}\\cdot{b}$.\n",
    "\\begin{equation}\\label{eq:2A}\\tag{2A}P(\\vec{a}\\vec{b}) = \\int{d\\lambda}\\rho{\\lambda}A(\\vec{a},\\lambda)B(\\vec{b},\\lambda)\\end{equation}\n",
    "The quantum mechanical expectation value of this is the following\n",
    "\\begin{equation}\\label{eq:3A}\\tag{3A}\\langle\\vec{\\sigma_1}\\cdot{a}\\vec{\\sigma_2}\\cdot{b}\\rangle = - \\vec{a}\\cdot\\vec{b}\\end{equation}\n",
    "However it turns out that eq: \\ref{eq:2A} doesn't give us the same result as \\ref{eq:3A}. So first off we know that we have a normalized distribution.\n",
    "\\begin{equation}\\label{eq:4A}\\tag{4A}\\int{d\\lambda}\\rho(\\lambda) = 1\\end{equation}\n",
    "if we take $\\vec{a} = \\vec{b}$ the $P$ in eq: \\ref{eq:2A} can reach -1.\n",
    "\\begin{equation}\\label{eq:5A}\\tag{5A}A(\\vec{a},\\lambda) = -B(\\vec{a},\\lambda)\\end{equation}\n",
    "Knowing this we can rewrite eq: \\ref{eq:2A} into the following\n",
    "\\begin{equation}\\label{eq:6A}\\tag{6A}P(\\vec{a}\\vec{b}) = -\\int{d\\lambda}\\rho{\\lambda}A(\\vec{a},\\lambda)A(\\vec{b},\\lambda)\\end{equation}\n",
    "\\begin{equation}\\label{eq:7A}\\tag{7A}P(\\vec{a},\\vec{b}) - P(\\vec{a},\\vec{c}) = \\int{d\\lambda}\\rho{\\lambda}[1-A(\\vec{b},\\lambda)A(\\vec{c},\\lambda)]\\end{equation}\n",
    "from eq: \\ref{eq:1A} we can write this\n",
    "\\begin{equation}\\label{eq:8A}\\tag{8A}|P(\\vec{a},\\vec{b}) - P(\\vec{a},\\vec{c})| \\leq \\int{d\\lambda}\\rho{\\lambda}A(\\vec{a},\\lambda)A(\\vec{b},\\lambda)[A(\\vec{b},\\lambda)A(\\vec{c},\\lambda) - 1]\\end{equation}\n",
    "The second term on the right is just $P(\\vec{b},\\vec{c})$ so we get\n",
    "\\begin{equation}\\label{eq:9A}\\tag{9A}1 + P(\\vec{b},\\vec{c}) \\geq |P(\\vec{a},\\vec{b}) - P(\\vec{a},\\vec{c})|\\end{equation}\n",
    "Now we define a $\\overline{P}(\\vec{a},\\vec{b})$ and a $\\overline{- \\vec{a}\\cdot\\vec{b}}$ which essentially are the averages over vectors differing from a small angle from $\\vec{a}$ and $\\vec{b}$ of the quantities under the bar. Let's suppose the following holds for some $\\epsilon$\n",
    "\\begin{equation}\\label{eq:10A}\\tag{10A}|\\overline{P}(\\vec{a},\\vec{b}) + \\overline{\\vec{a}\\cdot\\vec{b}}| \\leq \\epsilon\\end{equation}\n",
    "We cannot make $\\epsilon$ arbitrarily small and this can be proven by the following steps. Let us first assume the following inequality holds for all $\\vec{a}$ and $\\vec{b}$\n",
    "\\begin{equation}\\label{eq:11A}\\tag{11A}|\\overline{\\vec{a}\\cdot\\vec{b}} - \\vec{a}\\cdot\\vec{b}| \\leq\\delta\\end{equation}\n",
    "Then using eq:\\ref{eq:11A} and eq:\\ref{eq:10A} we have\n",
    "\\begin{equation}\\label{eq:12A}\\tag{12A}|\\overline{P}(\\vec{a},\\vec{b}) + \\vec{a}\\cdot\\vec{b}| \\leq \\epsilon + \\delta\\end{equation}\n",
    "Now taking $\\vec{a} = \\vec{b}$ (hence their dot product is 1) we rewrite eq:\\ref{eq:12A} as the equation below while using the fact that $\\overline{P(\\vec{a},\\vec{b})} = \\int d\\lambda\\rho(\\lambda)\\overline{A}(\\vec{a},\\lambda)\\overline{B}(\\vec{b},\\lambda))$.\n",
    "\\begin{equation}\\label{eq:13A}\\tag{13A}\\int d\\lambda\\rho(\\lambda)[\\overline{A}(\\vec{b},\\lambda)\\overline{B}(\\vec{b},\\lambda))+1] \\leq\\epsilon+\\delta\\end{equation}\n",
    "We can extend from \\ref{eq:1A} that on averaging over a small range, $|\\overline{A}(\\vec{a},\\lambda)| \\leq 1$ and $|\\overline{B}(\\vec{b},\\lambda)| \\leq 1$. Now we can write the following\n",
    "\\begin{equation}\\label{eq:14A}\\tag{14A}\\overline{P}(\\vec{a},\\vec{b})-\\overline{P}(\\vec{b},\\vec{c}) = \\int{d\\lambda}\\rho{\\lambda}\\overline{A}(\\vec{a},\\lambda)\\overline{B}(\\vec{b},\\lambda)[\\overline{A}(\\vec{b},\\lambda)\\overline{B}(\\vec{c},\\lambda) + 1] - \\int{d\\lambda}\\rho{\\lambda}\\overline{A}(\\vec{a},\\lambda)\\overline{B}(\\vec{c},\\lambda)[\\overline{A}(\\vec{b},\\lambda)\\overline{B}(\\vec{b},\\lambda) + 1]\\end{equation}\n",
    "Using the inequalities on the averaged $A$ and $B$ we can write the following\n",
    "\\begin{equation}\\label{eq:15A}\\tag{15A}|\\overline{P}(\\vec{a},\\vec{b})-\\overline{P}(\\vec{b},\\vec{c})| \\leq \\int{d\\lambda}\\rho{\\lambda}[\\overline{A}(\\vec{b},\\lambda)\\overline{B}(\\vec{c},\\lambda) + 1] - \\int{d\\lambda}\\rho{\\lambda}[\\overline{A}(\\vec{b},\\lambda)\\overline{B}(\\vec{b},\\lambda) + 1]\\end{equation}\n",
    "\\begin{equation}\\label{eq:16A}\\tag{16A}|\\overline{P}(\\vec{a},\\vec{b})-\\overline{P}(\\vec{b},\\vec{c})| \\leq 1 + \\overline{P} + \\epsilon+\\delta\\end{equation}\n",
    "We write eq:\\ref{eq:16A} using eq:\\ref{eq:15A} and eq:\\ref{eq:13A}. Finally using eq:\\ref{eq:12A} we rewrite the above equation as\n",
    "\\begin{equation}\\label{eq:17A}\\tag{17A}|\\vec{a}\\cdot\\vec{c}-\\vec{a}\\cdot\\vec{b}|+\\vec{b}\\cdot\\vec{c}-1 \\leq 4(\\epsilon+\\delta)\\end{equation}\n",
    "Now with the constraint coming from eq:\\ref{eq:17A} we can handpick values of $\\vec{a},\\vec{b},\\vec{c}$ such that $\\epsilon$ cannot be made arbitrarily small (take $\\vec{a}\\cdot\\vec{b} = \\vec{c}\\cdot\\vec{b} = 1/\\sqrt{2}$ and $\\vec{a}\\cdot\\vec{c} = 0$ this would show $4(\\epsilon+\\delta)\\geq\\sqrt{2}-1$). The fact that $\\epsilon$ cannot be made arbitrarily small implies that the quantum mechanical value cannot be approximated either accurately or arbitrarily close to this form using hidden variable. So this contradiction implies that some assumptions that we have taken happen to not work together and that happen to be local determinism and hidden variables. So any hidden variable theory by nature itself is non local.\n",
    "\n",
    "To get the form of the CSHS inequalities we essentially modify the form of eq:\\ref{eq:14A} by applying the triangle inequality and we will get\n",
    "\\begin{equation}\\label{eq:18A}\\tag{18A}|\\overline{P}(\\vec{a},\\vec{b})-\\overline{P}(\\vec{b},\\vec{c})| \\leq \\left|\\int{d\\lambda}\\rho{\\lambda}[\\overline{A}(\\vec{b},\\lambda)\\overline{B}(\\vec{c},\\lambda) - 1]\\right| + \\left|\\int{d\\lambda}\\rho{\\lambda}[\\overline{A}(\\vec{b},\\lambda)\\overline{B}(\\vec{b},\\lambda) - 1]\\right|\\end{equation}\n",
    "This can be rewritten as the following equation below using the triangle inequality\n",
    "\\begin{equation}\\label{eq:19A}\\tag{19A}|\\overline{P}(\\vec{a},\\vec{b})-\\overline{P}(\\vec{b},\\vec{c})| +  \\left|\\int{d\\lambda}\\rho{\\lambda}[\\overline{A}(\\vec{b},\\lambda)\\overline{B}(\\vec{c},\\lambda)] + \\int{d\\lambda}\\rho{\\lambda}[\\overline{A}(\\vec{b},\\lambda)\\overline{B}(\\vec{b},\\lambda]\\right|\\leq 2 \\end{equation}\n",
    "Again using the triangle inequality and using the fact $\\overline{P(\\vec{a},\\vec{b})} = \\int d\\lambda\\rho(\\lambda)\\overline{A}(\\vec{a},\\lambda)\\overline{B}(\\vec{b},\\lambda))$ we get\n",
    "\\begin{equation}\\label{eq:20A}\\tag{20A}|\\overline{P}(\\vec{a},\\vec{b})-\\overline{P}(\\vec{b},\\vec{c})| +  \\left|\\int{d\\lambda}\\rho{\\lambda}[\\overline{A}(\\vec{b},\\lambda)\\overline{B}(\\vec{c},\\lambda)] + \\int{d\\lambda}\\rho{\\lambda}[\\overline{A}(\\vec{b},\\lambda)\\overline{B}(\\vec{b},\\lambda]\\right|\\leq 2 \\end{equation}"
   ]
  },
  {
   "cell_type": "markdown",
   "metadata": {},
   "source": [
    "## References\n",
    "(Fill later and unfortunately dont know how to incorporate BibTex here)\n",
    "\\[1\\]\n",
    "\\[2\\]\n",
    "\\[3\\]"
   ]
  }
 ],
 "metadata": {
  "kernelspec": {
   "display_name": "Python 3",
   "language": "python",
   "name": "python3"
  },
  "language_info": {
   "codemirror_mode": {
    "name": "ipython",
    "version": 3
   },
   "file_extension": ".py",
   "mimetype": "text/x-python",
   "name": "python",
   "nbconvert_exporter": "python",
   "pygments_lexer": "ipython3",
   "version": "3.7.4"
  }
 },
 "nbformat": 4,
 "nbformat_minor": 2
}
